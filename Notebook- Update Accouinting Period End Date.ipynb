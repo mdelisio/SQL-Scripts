{
    "metadata": {
        "kernelspec": {
            "name": "SQL",
            "display_name": "SQL",
            "language": "sql"
        },
        "language_info": {
            "name": "sql",
            "version": ""
        }
    },
    "nbformat_minor": 2,
    "nbformat": 4,
    "cells": [
        {
            "cell_type": "markdown",
            "source": [
                "**Add the Modified End Dates for the Accounting Periond to the Stating Table**"
            ],
            "metadata": {
                "language": "sql",
                "azdata_cell_guid": "708ef069-6e61-4e9e-9c05-d4308577ab6c"
            },
            "attachments": {}
        },
        {
            "cell_type": "code",
            "source": [
                "\tEXEC EDWConfig.usp_AccountingPeriodEndDate_Modify\r\n",
                "\t\t@AccountingPeriodName\t\t= 'Jun 2024'\r\n",
                "\t\t,@AccountingPeriodEndDate\t= '2024-07-01'"
            ],
            "metadata": {
                "azdata_cell_guid": "7727bbfb-295c-4bbf-bb6b-0f1e5d49ca20",
                "language": "sql",
                "tags": []
            },
            "outputs": [
                {
                    "output_type": "display_data",
                    "data": {
                        "text/html": "Commands completed successfully."
                    },
                    "metadata": {}
                },
                {
                    "output_type": "display_data",
                    "data": {
                        "text/html": "Total execution time: 00:00:00.317"
                    },
                    "metadata": {}
                },
                {
                    "output_type": "execute_result",
                    "metadata": {},
                    "execution_count": 1,
                    "data": {
                        "application/vnd.dataresource+json": {
                            "schema": {
                                "fields": [
                                    {
                                        "name": "AccountingPeriodName"
                                    },
                                    {
                                        "name": "AccountingPeriodEndDate"
                                    },
                                    {
                                        "name": "CreateUTCDateTime"
                                    },
                                    {
                                        "name": "CreateUser"
                                    },
                                    {
                                        "name": "UpdateUTCDateTime"
                                    },
                                    {
                                        "name": "UpdateUser"
                                    }
                                ]
                            },
                            "data": [
                                {
                                    "AccountingPeriodName": "Jun 2024",
                                    "AccountingPeriodEndDate": "2024-07-01",
                                    "CreateUTCDateTime": "2024-07-01 16:31:35.807",
                                    "CreateUser": "mdelisio@rbi.gibraltar1.com",
                                    "UpdateUTCDateTime": "2024-07-01 16:31:35.807",
                                    "UpdateUser": "mdelisio@rbi.gibraltar1.com"
                                }
                            ]
                        },
                        "text/html": [
                            "<table>",
                            "<tr><th>AccountingPeriodName</th><th>AccountingPeriodEndDate</th><th>CreateUTCDateTime</th><th>CreateUser</th><th>UpdateUTCDateTime</th><th>UpdateUser</th></tr>",
                            "<tr><td>Jun 2024</td><td>2024-07-01</td><td>2024-07-01 16:31:35.807</td><td>mdelisio@rbi.gibraltar1.com</td><td>2024-07-01 16:31:35.807</td><td>mdelisio@rbi.gibraltar1.com</td></tr>",
                            "</table>"
                        ]
                    }
                }
            ],
            "execution_count": 1
        },
        {
            "cell_type": "markdown",
            "source": [
                "**Check Config Table**"
            ],
            "metadata": {
                "language": "sql",
                "azdata_cell_guid": "58d596a4-83c1-4851-b065-999868cb8e62"
            },
            "attachments": {}
        },
        {
            "cell_type": "code",
            "source": [
                "Select * FROM EDWConfig.AccountingPeriodEndDates\r\n",
                ""
            ],
            "metadata": {
                "language": "sql",
                "azdata_cell_guid": "d4735748-89e6-40d1-98e3-b22932d54d92",
                "tags": []
            },
            "outputs": [
                {
                    "output_type": "display_data",
                    "data": {
                        "text/html": "(1 row affected)"
                    },
                    "metadata": {}
                },
                {
                    "output_type": "display_data",
                    "data": {
                        "text/html": "Total execution time: 00:00:00.069"
                    },
                    "metadata": {}
                },
                {
                    "output_type": "execute_result",
                    "metadata": {},
                    "execution_count": 2,
                    "data": {
                        "application/vnd.dataresource+json": {
                            "schema": {
                                "fields": [
                                    {
                                        "name": "AccountingPeriodName"
                                    },
                                    {
                                        "name": "AccountingPeriodEndDate"
                                    },
                                    {
                                        "name": "CreateUTCDateTime"
                                    },
                                    {
                                        "name": "CreateUser"
                                    },
                                    {
                                        "name": "UpdateUTCDateTime"
                                    },
                                    {
                                        "name": "UpdateUser"
                                    }
                                ]
                            },
                            "data": [
                                {
                                    "AccountingPeriodName": "Jun 2024",
                                    "AccountingPeriodEndDate": "2024-07-01",
                                    "CreateUTCDateTime": "2024-07-01 16:31:35.807",
                                    "CreateUser": "mdelisio@rbi.gibraltar1.com",
                                    "UpdateUTCDateTime": "2024-07-01 16:31:35.807",
                                    "UpdateUser": "mdelisio@rbi.gibraltar1.com"
                                }
                            ]
                        },
                        "text/html": [
                            "<table>",
                            "<tr><th>AccountingPeriodName</th><th>AccountingPeriodEndDate</th><th>CreateUTCDateTime</th><th>CreateUser</th><th>UpdateUTCDateTime</th><th>UpdateUser</th></tr>",
                            "<tr><td>Jun 2024</td><td>2024-07-01</td><td>2024-07-01 16:31:35.807</td><td>mdelisio@rbi.gibraltar1.com</td><td>2024-07-01 16:31:35.807</td><td>mdelisio@rbi.gibraltar1.com</td></tr>",
                            "</table>"
                        ]
                    }
                }
            ],
            "execution_count": 2
        },
        {
            "cell_type": "markdown",
            "source": [
                "**Run Update of Accounting Periond END Date after end dates are modified**"
            ],
            "metadata": {
                "language": "sql",
                "azdata_cell_guid": "115fcb54-a5b4-4c0e-9311-dbea14273e0f"
            },
            "attachments": {}
        },
        {
            "cell_type": "code",
            "source": [
                "EXEC EDWETL.usp_DateDim_AccountingPeriod_Update"
            ],
            "metadata": {
                "language": "sql",
                "azdata_cell_guid": "19867d98-0d0e-4c75-a76c-9b86e7583df2"
            },
            "outputs": [
                {
                    "output_type": "display_data",
                    "data": {
                        "text/html": "Commands completed successfully."
                    },
                    "metadata": {}
                },
                {
                    "output_type": "display_data",
                    "data": {
                        "text/html": "Total execution time: 00:00:00.262"
                    },
                    "metadata": {}
                }
            ],
            "execution_count": 3
        },
        {
            "cell_type": "code",
            "source": [
                "DECLARE @AccountingPeriodName VARCHAR(50) = 'Jun 2024'\r\n",
                ";\r\n",
                "\r\n",
                "Select TOP (33) \r\n",
                "CalendarDate,\r\n",
                "MonthEndDate,\r\n",
                "UpdateUTCDateTime,\r\n",
                "UpdateUser,\r\n",
                "AccountingPeriodName,\r\n",
                "AccountingPeriodSequenceNumber\r\n",
                "FROM EDW.DateDim\r\n",
                "Where AccountingPeriodName = @AccountingPeriodName\r\n",
                "Order By DateDimKey Desc"
            ],
            "metadata": {
                "language": "sql",
                "azdata_cell_guid": "b003fca3-7566-4066-8e25-2a231eb036d6",
                "tags": []
            },
            "outputs": [
                {
                    "output_type": "display_data",
                    "data": {
                        "text/html": "(28 rows affected)"
                    },
                    "metadata": {}
                },
                {
                    "output_type": "display_data",
                    "data": {
                        "text/html": "Total execution time: 00:00:00.093"
                    },
                    "metadata": {}
                },
                {
                    "output_type": "execute_result",
                    "metadata": {},
                    "execution_count": 4,
                    "data": {
                        "application/vnd.dataresource+json": {
                            "schema": {
                                "fields": [
                                    {
                                        "name": "CalendarDate"
                                    },
                                    {
                                        "name": "MonthEndDate"
                                    },
                                    {
                                        "name": "UpdateUTCDateTime"
                                    },
                                    {
                                        "name": "UpdateUser"
                                    },
                                    {
                                        "name": "AccountingPeriodName"
                                    },
                                    {
                                        "name": "AccountingPeriodSequenceNumber"
                                    }
                                ]
                            },
                            "data": [
                                {
                                    "CalendarDate": "2024-07-01",
                                    "MonthEndDate": "2024-07-31",
                                    "UpdateUTCDateTime": "2024-07-01 16:32:52.380",
                                    "UpdateUser": "usp_DateDim_AccountingPeriod_Update",
                                    "AccountingPeriodName": "Jun 2024",
                                    "AccountingPeriodSequenceNumber": "235"
                                },
                                {
                                    "CalendarDate": "2024-06-30",
                                    "MonthEndDate": "2024-06-30",
                                    "UpdateUTCDateTime": "2023-05-10 19:16:15.860",
                                    "UpdateUser": "BJarrett",
                                    "AccountingPeriodName": "Jun 2024",
                                    "AccountingPeriodSequenceNumber": "235"
                                },
                                {
                                    "CalendarDate": "2024-06-29",
                                    "MonthEndDate": "2024-06-30",
                                    "UpdateUTCDateTime": "2023-05-10 19:16:15.860",
                                    "UpdateUser": "BJarrett",
                                    "AccountingPeriodName": "Jun 2024",
                                    "AccountingPeriodSequenceNumber": "235"
                                },
                                {
                                    "CalendarDate": "2024-06-28",
                                    "MonthEndDate": "2024-06-30",
                                    "UpdateUTCDateTime": "2023-05-10 19:16:15.860",
                                    "UpdateUser": "BJarrett",
                                    "AccountingPeriodName": "Jun 2024",
                                    "AccountingPeriodSequenceNumber": "235"
                                },
                                {
                                    "CalendarDate": "2024-06-27",
                                    "MonthEndDate": "2024-06-30",
                                    "UpdateUTCDateTime": "2023-05-10 19:16:15.860",
                                    "UpdateUser": "BJarrett",
                                    "AccountingPeriodName": "Jun 2024",
                                    "AccountingPeriodSequenceNumber": "235"
                                },
                                {
                                    "CalendarDate": "2024-06-26",
                                    "MonthEndDate": "2024-06-30",
                                    "UpdateUTCDateTime": "2023-05-10 19:16:15.860",
                                    "UpdateUser": "BJarrett",
                                    "AccountingPeriodName": "Jun 2024",
                                    "AccountingPeriodSequenceNumber": "235"
                                },
                                {
                                    "CalendarDate": "2024-06-25",
                                    "MonthEndDate": "2024-06-30",
                                    "UpdateUTCDateTime": "2023-05-10 19:16:15.860",
                                    "UpdateUser": "BJarrett",
                                    "AccountingPeriodName": "Jun 2024",
                                    "AccountingPeriodSequenceNumber": "235"
                                },
                                {
                                    "CalendarDate": "2024-06-24",
                                    "MonthEndDate": "2024-06-30",
                                    "UpdateUTCDateTime": "2023-05-10 19:16:15.860",
                                    "UpdateUser": "BJarrett",
                                    "AccountingPeriodName": "Jun 2024",
                                    "AccountingPeriodSequenceNumber": "235"
                                },
                                {
                                    "CalendarDate": "2024-06-23",
                                    "MonthEndDate": "2024-06-30",
                                    "UpdateUTCDateTime": "2023-05-10 19:16:15.860",
                                    "UpdateUser": "BJarrett",
                                    "AccountingPeriodName": "Jun 2024",
                                    "AccountingPeriodSequenceNumber": "235"
                                },
                                {
                                    "CalendarDate": "2024-06-22",
                                    "MonthEndDate": "2024-06-30",
                                    "UpdateUTCDateTime": "2023-05-10 19:16:15.860",
                                    "UpdateUser": "BJarrett",
                                    "AccountingPeriodName": "Jun 2024",
                                    "AccountingPeriodSequenceNumber": "235"
                                },
                                {
                                    "CalendarDate": "2024-06-21",
                                    "MonthEndDate": "2024-06-30",
                                    "UpdateUTCDateTime": "2023-05-10 19:16:15.860",
                                    "UpdateUser": "BJarrett",
                                    "AccountingPeriodName": "Jun 2024",
                                    "AccountingPeriodSequenceNumber": "235"
                                },
                                {
                                    "CalendarDate": "2024-06-20",
                                    "MonthEndDate": "2024-06-30",
                                    "UpdateUTCDateTime": "2023-05-10 19:16:15.860",
                                    "UpdateUser": "BJarrett",
                                    "AccountingPeriodName": "Jun 2024",
                                    "AccountingPeriodSequenceNumber": "235"
                                },
                                {
                                    "CalendarDate": "2024-06-19",
                                    "MonthEndDate": "2024-06-30",
                                    "UpdateUTCDateTime": "2023-05-10 19:16:15.860",
                                    "UpdateUser": "BJarrett",
                                    "AccountingPeriodName": "Jun 2024",
                                    "AccountingPeriodSequenceNumber": "235"
                                },
                                {
                                    "CalendarDate": "2024-06-18",
                                    "MonthEndDate": "2024-06-30",
                                    "UpdateUTCDateTime": "2023-05-10 19:16:15.860",
                                    "UpdateUser": "BJarrett",
                                    "AccountingPeriodName": "Jun 2024",
                                    "AccountingPeriodSequenceNumber": "235"
                                },
                                {
                                    "CalendarDate": "2024-06-17",
                                    "MonthEndDate": "2024-06-30",
                                    "UpdateUTCDateTime": "2023-05-10 19:16:15.860",
                                    "UpdateUser": "BJarrett",
                                    "AccountingPeriodName": "Jun 2024",
                                    "AccountingPeriodSequenceNumber": "235"
                                },
                                {
                                    "CalendarDate": "2024-06-16",
                                    "MonthEndDate": "2024-06-30",
                                    "UpdateUTCDateTime": "2023-05-10 19:16:15.860",
                                    "UpdateUser": "BJarrett",
                                    "AccountingPeriodName": "Jun 2024",
                                    "AccountingPeriodSequenceNumber": "235"
                                },
                                {
                                    "CalendarDate": "2024-06-15",
                                    "MonthEndDate": "2024-06-30",
                                    "UpdateUTCDateTime": "2023-05-10 19:16:15.860",
                                    "UpdateUser": "BJarrett",
                                    "AccountingPeriodName": "Jun 2024",
                                    "AccountingPeriodSequenceNumber": "235"
                                },
                                {
                                    "CalendarDate": "2024-06-14",
                                    "MonthEndDate": "2024-06-30",
                                    "UpdateUTCDateTime": "2023-05-10 19:16:15.860",
                                    "UpdateUser": "BJarrett",
                                    "AccountingPeriodName": "Jun 2024",
                                    "AccountingPeriodSequenceNumber": "235"
                                },
                                {
                                    "CalendarDate": "2024-06-13",
                                    "MonthEndDate": "2024-06-30",
                                    "UpdateUTCDateTime": "2023-05-10 19:16:15.860",
                                    "UpdateUser": "BJarrett",
                                    "AccountingPeriodName": "Jun 2024",
                                    "AccountingPeriodSequenceNumber": "235"
                                },
                                {
                                    "CalendarDate": "2024-06-12",
                                    "MonthEndDate": "2024-06-30",
                                    "UpdateUTCDateTime": "2023-05-10 19:16:15.860",
                                    "UpdateUser": "BJarrett",
                                    "AccountingPeriodName": "Jun 2024",
                                    "AccountingPeriodSequenceNumber": "235"
                                },
                                {
                                    "CalendarDate": "2024-06-11",
                                    "MonthEndDate": "2024-06-30",
                                    "UpdateUTCDateTime": "2023-05-10 19:16:15.860",
                                    "UpdateUser": "BJarrett",
                                    "AccountingPeriodName": "Jun 2024",
                                    "AccountingPeriodSequenceNumber": "235"
                                },
                                {
                                    "CalendarDate": "2024-06-10",
                                    "MonthEndDate": "2024-06-30",
                                    "UpdateUTCDateTime": "2023-05-10 19:16:15.860",
                                    "UpdateUser": "BJarrett",
                                    "AccountingPeriodName": "Jun 2024",
                                    "AccountingPeriodSequenceNumber": "235"
                                },
                                {
                                    "CalendarDate": "2024-06-09",
                                    "MonthEndDate": "2024-06-30",
                                    "UpdateUTCDateTime": "2023-05-10 19:16:15.860",
                                    "UpdateUser": "BJarrett",
                                    "AccountingPeriodName": "Jun 2024",
                                    "AccountingPeriodSequenceNumber": "235"
                                },
                                {
                                    "CalendarDate": "2024-06-08",
                                    "MonthEndDate": "2024-06-30",
                                    "UpdateUTCDateTime": "2023-05-10 19:16:15.860",
                                    "UpdateUser": "BJarrett",
                                    "AccountingPeriodName": "Jun 2024",
                                    "AccountingPeriodSequenceNumber": "235"
                                },
                                {
                                    "CalendarDate": "2024-06-07",
                                    "MonthEndDate": "2024-06-30",
                                    "UpdateUTCDateTime": "2023-05-10 19:16:15.860",
                                    "UpdateUser": "BJarrett",
                                    "AccountingPeriodName": "Jun 2024",
                                    "AccountingPeriodSequenceNumber": "235"
                                },
                                {
                                    "CalendarDate": "2024-06-06",
                                    "MonthEndDate": "2024-06-30",
                                    "UpdateUTCDateTime": "2023-05-10 19:16:15.860",
                                    "UpdateUser": "BJarrett",
                                    "AccountingPeriodName": "Jun 2024",
                                    "AccountingPeriodSequenceNumber": "235"
                                },
                                {
                                    "CalendarDate": "2024-06-05",
                                    "MonthEndDate": "2024-06-30",
                                    "UpdateUTCDateTime": "2023-05-10 19:16:15.860",
                                    "UpdateUser": "BJarrett",
                                    "AccountingPeriodName": "Jun 2024",
                                    "AccountingPeriodSequenceNumber": "235"
                                },
                                {
                                    "CalendarDate": "2024-06-04",
                                    "MonthEndDate": "2024-06-30",
                                    "UpdateUTCDateTime": "2023-05-10 19:16:15.860",
                                    "UpdateUser": "BJarrett",
                                    "AccountingPeriodName": "Jun 2024",
                                    "AccountingPeriodSequenceNumber": "235"
                                }
                            ]
                        },
                        "text/html": [
                            "<table>",
                            "<tr><th>CalendarDate</th><th>MonthEndDate</th><th>UpdateUTCDateTime</th><th>UpdateUser</th><th>AccountingPeriodName</th><th>AccountingPeriodSequenceNumber</th></tr>",
                            "<tr><td>2024-07-01</td><td>2024-07-31</td><td>2024-07-01 16:32:52.380</td><td>usp_DateDim_AccountingPeriod_Update</td><td>Jun 2024</td><td>235</td></tr>",
                            "<tr><td>2024-06-30</td><td>2024-06-30</td><td>2023-05-10 19:16:15.860</td><td>BJarrett</td><td>Jun 2024</td><td>235</td></tr>",
                            "<tr><td>2024-06-29</td><td>2024-06-30</td><td>2023-05-10 19:16:15.860</td><td>BJarrett</td><td>Jun 2024</td><td>235</td></tr>",
                            "<tr><td>2024-06-28</td><td>2024-06-30</td><td>2023-05-10 19:16:15.860</td><td>BJarrett</td><td>Jun 2024</td><td>235</td></tr>",
                            "<tr><td>2024-06-27</td><td>2024-06-30</td><td>2023-05-10 19:16:15.860</td><td>BJarrett</td><td>Jun 2024</td><td>235</td></tr>",
                            "<tr><td>2024-06-26</td><td>2024-06-30</td><td>2023-05-10 19:16:15.860</td><td>BJarrett</td><td>Jun 2024</td><td>235</td></tr>",
                            "<tr><td>2024-06-25</td><td>2024-06-30</td><td>2023-05-10 19:16:15.860</td><td>BJarrett</td><td>Jun 2024</td><td>235</td></tr>",
                            "<tr><td>2024-06-24</td><td>2024-06-30</td><td>2023-05-10 19:16:15.860</td><td>BJarrett</td><td>Jun 2024</td><td>235</td></tr>",
                            "<tr><td>2024-06-23</td><td>2024-06-30</td><td>2023-05-10 19:16:15.860</td><td>BJarrett</td><td>Jun 2024</td><td>235</td></tr>",
                            "<tr><td>2024-06-22</td><td>2024-06-30</td><td>2023-05-10 19:16:15.860</td><td>BJarrett</td><td>Jun 2024</td><td>235</td></tr>",
                            "<tr><td>2024-06-21</td><td>2024-06-30</td><td>2023-05-10 19:16:15.860</td><td>BJarrett</td><td>Jun 2024</td><td>235</td></tr>",
                            "<tr><td>2024-06-20</td><td>2024-06-30</td><td>2023-05-10 19:16:15.860</td><td>BJarrett</td><td>Jun 2024</td><td>235</td></tr>",
                            "<tr><td>2024-06-19</td><td>2024-06-30</td><td>2023-05-10 19:16:15.860</td><td>BJarrett</td><td>Jun 2024</td><td>235</td></tr>",
                            "<tr><td>2024-06-18</td><td>2024-06-30</td><td>2023-05-10 19:16:15.860</td><td>BJarrett</td><td>Jun 2024</td><td>235</td></tr>",
                            "<tr><td>2024-06-17</td><td>2024-06-30</td><td>2023-05-10 19:16:15.860</td><td>BJarrett</td><td>Jun 2024</td><td>235</td></tr>",
                            "<tr><td>2024-06-16</td><td>2024-06-30</td><td>2023-05-10 19:16:15.860</td><td>BJarrett</td><td>Jun 2024</td><td>235</td></tr>",
                            "<tr><td>2024-06-15</td><td>2024-06-30</td><td>2023-05-10 19:16:15.860</td><td>BJarrett</td><td>Jun 2024</td><td>235</td></tr>",
                            "<tr><td>2024-06-14</td><td>2024-06-30</td><td>2023-05-10 19:16:15.860</td><td>BJarrett</td><td>Jun 2024</td><td>235</td></tr>",
                            "<tr><td>2024-06-13</td><td>2024-06-30</td><td>2023-05-10 19:16:15.860</td><td>BJarrett</td><td>Jun 2024</td><td>235</td></tr>",
                            "<tr><td>2024-06-12</td><td>2024-06-30</td><td>2023-05-10 19:16:15.860</td><td>BJarrett</td><td>Jun 2024</td><td>235</td></tr>",
                            "<tr><td>2024-06-11</td><td>2024-06-30</td><td>2023-05-10 19:16:15.860</td><td>BJarrett</td><td>Jun 2024</td><td>235</td></tr>",
                            "<tr><td>2024-06-10</td><td>2024-06-30</td><td>2023-05-10 19:16:15.860</td><td>BJarrett</td><td>Jun 2024</td><td>235</td></tr>",
                            "<tr><td>2024-06-09</td><td>2024-06-30</td><td>2023-05-10 19:16:15.860</td><td>BJarrett</td><td>Jun 2024</td><td>235</td></tr>",
                            "<tr><td>2024-06-08</td><td>2024-06-30</td><td>2023-05-10 19:16:15.860</td><td>BJarrett</td><td>Jun 2024</td><td>235</td></tr>",
                            "<tr><td>2024-06-07</td><td>2024-06-30</td><td>2023-05-10 19:16:15.860</td><td>BJarrett</td><td>Jun 2024</td><td>235</td></tr>",
                            "<tr><td>2024-06-06</td><td>2024-06-30</td><td>2023-05-10 19:16:15.860</td><td>BJarrett</td><td>Jun 2024</td><td>235</td></tr>",
                            "<tr><td>2024-06-05</td><td>2024-06-30</td><td>2023-05-10 19:16:15.860</td><td>BJarrett</td><td>Jun 2024</td><td>235</td></tr>",
                            "<tr><td>2024-06-04</td><td>2024-06-30</td><td>2023-05-10 19:16:15.860</td><td>BJarrett</td><td>Jun 2024</td><td>235</td></tr>",
                            "</table>"
                        ]
                    }
                }
            ],
            "execution_count": 4
        },
        {
            "cell_type": "code",
            "source": [
                "DECLARE @ChangeDate DateTime = '2023-09-01'\r\n",
                ";\r\n",
                "\r\n",
                "Select TOP (33) \r\n",
                "CalendarDate,\r\n",
                "MonthEndDate,\r\n",
                "UpdateUTCDateTime,\r\n",
                "UpdateUser,\r\n",
                "AccountingPeriodName,\r\n",
                "AccountingPeriodSequenceNumber\r\n",
                "FROM EDW.DateDim\r\n",
                "Where CalendarDate <= @ChangeDate\r\n",
                "Order By DateDimKey Desc"
            ],
            "metadata": {
                "language": "sql",
                "azdata_cell_guid": "20fb8793-22a8-4a8e-b8eb-ac81cf39943d"
            },
            "outputs": [
                {
                    "output_type": "display_data",
                    "data": {
                        "text/html": "(33 rows affected)"
                    },
                    "metadata": {}
                },
                {
                    "output_type": "display_data",
                    "data": {
                        "text/html": "Total execution time: 00:00:00.076"
                    },
                    "metadata": {}
                },
                {
                    "output_type": "execute_result",
                    "execution_count": 13,
                    "data": {
                        "application/vnd.dataresource+json": {
                            "schema": {
                                "fields": [
                                    {
                                        "name": "CalendarDate"
                                    },
                                    {
                                        "name": "MonthEndDate"
                                    },
                                    {
                                        "name": "UpdateUTCDateTime"
                                    },
                                    {
                                        "name": "UpdateUser"
                                    },
                                    {
                                        "name": "AccountingPeriodName"
                                    },
                                    {
                                        "name": "AccountingPeriodSequenceNumber"
                                    }
                                ]
                            },
                            "data": [
                                {
                                    "CalendarDate": "2023-09-01",
                                    "MonthEndDate": "2023-09-30",
                                    "UpdateUTCDateTime": "2023-05-10 19:16:15.860",
                                    "UpdateUser": "BJarrett",
                                    "AccountingPeriodName": "Sep 2023",
                                    "AccountingPeriodSequenceNumber": "226"
                                },
                                {
                                    "CalendarDate": "2023-08-31",
                                    "MonthEndDate": "2023-08-31",
                                    "UpdateUTCDateTime": "2023-05-10 19:16:15.860",
                                    "UpdateUser": "BJarrett",
                                    "AccountingPeriodName": "Aug 2023",
                                    "AccountingPeriodSequenceNumber": "225"
                                },
                                {
                                    "CalendarDate": "2023-08-30",
                                    "MonthEndDate": "2023-08-31",
                                    "UpdateUTCDateTime": "2023-05-10 19:16:15.860",
                                    "UpdateUser": "BJarrett",
                                    "AccountingPeriodName": "Aug 2023",
                                    "AccountingPeriodSequenceNumber": "225"
                                },
                                {
                                    "CalendarDate": "2023-08-29",
                                    "MonthEndDate": "2023-08-31",
                                    "UpdateUTCDateTime": "2023-05-10 19:16:15.860",
                                    "UpdateUser": "BJarrett",
                                    "AccountingPeriodName": "Aug 2023",
                                    "AccountingPeriodSequenceNumber": "225"
                                },
                                {
                                    "CalendarDate": "2023-08-28",
                                    "MonthEndDate": "2023-08-31",
                                    "UpdateUTCDateTime": "2023-05-10 19:16:15.860",
                                    "UpdateUser": "BJarrett",
                                    "AccountingPeriodName": "Aug 2023",
                                    "AccountingPeriodSequenceNumber": "225"
                                },
                                {
                                    "CalendarDate": "2023-08-27",
                                    "MonthEndDate": "2023-08-31",
                                    "UpdateUTCDateTime": "2023-05-10 19:16:15.860",
                                    "UpdateUser": "BJarrett",
                                    "AccountingPeriodName": "Aug 2023",
                                    "AccountingPeriodSequenceNumber": "225"
                                },
                                {
                                    "CalendarDate": "2023-08-26",
                                    "MonthEndDate": "2023-08-31",
                                    "UpdateUTCDateTime": "2023-05-10 19:16:15.860",
                                    "UpdateUser": "BJarrett",
                                    "AccountingPeriodName": "Aug 2023",
                                    "AccountingPeriodSequenceNumber": "225"
                                },
                                {
                                    "CalendarDate": "2023-08-25",
                                    "MonthEndDate": "2023-08-31",
                                    "UpdateUTCDateTime": "2023-05-10 19:16:15.860",
                                    "UpdateUser": "BJarrett",
                                    "AccountingPeriodName": "Aug 2023",
                                    "AccountingPeriodSequenceNumber": "225"
                                },
                                {
                                    "CalendarDate": "2023-08-24",
                                    "MonthEndDate": "2023-08-31",
                                    "UpdateUTCDateTime": "2023-05-10 19:16:15.860",
                                    "UpdateUser": "BJarrett",
                                    "AccountingPeriodName": "Aug 2023",
                                    "AccountingPeriodSequenceNumber": "225"
                                },
                                {
                                    "CalendarDate": "2023-08-23",
                                    "MonthEndDate": "2023-08-31",
                                    "UpdateUTCDateTime": "2023-05-10 19:16:15.860",
                                    "UpdateUser": "BJarrett",
                                    "AccountingPeriodName": "Aug 2023",
                                    "AccountingPeriodSequenceNumber": "225"
                                },
                                {
                                    "CalendarDate": "2023-08-22",
                                    "MonthEndDate": "2023-08-31",
                                    "UpdateUTCDateTime": "2023-05-10 19:16:15.860",
                                    "UpdateUser": "BJarrett",
                                    "AccountingPeriodName": "Aug 2023",
                                    "AccountingPeriodSequenceNumber": "225"
                                },
                                {
                                    "CalendarDate": "2023-08-21",
                                    "MonthEndDate": "2023-08-31",
                                    "UpdateUTCDateTime": "2023-05-10 19:16:15.860",
                                    "UpdateUser": "BJarrett",
                                    "AccountingPeriodName": "Aug 2023",
                                    "AccountingPeriodSequenceNumber": "225"
                                },
                                {
                                    "CalendarDate": "2023-08-20",
                                    "MonthEndDate": "2023-08-31",
                                    "UpdateUTCDateTime": "2023-05-10 19:16:15.860",
                                    "UpdateUser": "BJarrett",
                                    "AccountingPeriodName": "Aug 2023",
                                    "AccountingPeriodSequenceNumber": "225"
                                },
                                {
                                    "CalendarDate": "2023-08-19",
                                    "MonthEndDate": "2023-08-31",
                                    "UpdateUTCDateTime": "2023-05-10 19:16:15.860",
                                    "UpdateUser": "BJarrett",
                                    "AccountingPeriodName": "Aug 2023",
                                    "AccountingPeriodSequenceNumber": "225"
                                },
                                {
                                    "CalendarDate": "2023-08-18",
                                    "MonthEndDate": "2023-08-31",
                                    "UpdateUTCDateTime": "2023-05-10 19:16:15.860",
                                    "UpdateUser": "BJarrett",
                                    "AccountingPeriodName": "Aug 2023",
                                    "AccountingPeriodSequenceNumber": "225"
                                },
                                {
                                    "CalendarDate": "2023-08-17",
                                    "MonthEndDate": "2023-08-31",
                                    "UpdateUTCDateTime": "2023-05-10 19:16:15.860",
                                    "UpdateUser": "BJarrett",
                                    "AccountingPeriodName": "Aug 2023",
                                    "AccountingPeriodSequenceNumber": "225"
                                },
                                {
                                    "CalendarDate": "2023-08-16",
                                    "MonthEndDate": "2023-08-31",
                                    "UpdateUTCDateTime": "2023-05-10 19:16:15.860",
                                    "UpdateUser": "BJarrett",
                                    "AccountingPeriodName": "Aug 2023",
                                    "AccountingPeriodSequenceNumber": "225"
                                },
                                {
                                    "CalendarDate": "2023-08-15",
                                    "MonthEndDate": "2023-08-31",
                                    "UpdateUTCDateTime": "2023-05-10 19:16:15.860",
                                    "UpdateUser": "BJarrett",
                                    "AccountingPeriodName": "Aug 2023",
                                    "AccountingPeriodSequenceNumber": "225"
                                },
                                {
                                    "CalendarDate": "2023-08-14",
                                    "MonthEndDate": "2023-08-31",
                                    "UpdateUTCDateTime": "2023-05-10 19:16:15.860",
                                    "UpdateUser": "BJarrett",
                                    "AccountingPeriodName": "Aug 2023",
                                    "AccountingPeriodSequenceNumber": "225"
                                },
                                {
                                    "CalendarDate": "2023-08-13",
                                    "MonthEndDate": "2023-08-31",
                                    "UpdateUTCDateTime": "2023-05-10 19:16:15.860",
                                    "UpdateUser": "BJarrett",
                                    "AccountingPeriodName": "Aug 2023",
                                    "AccountingPeriodSequenceNumber": "225"
                                },
                                {
                                    "CalendarDate": "2023-08-12",
                                    "MonthEndDate": "2023-08-31",
                                    "UpdateUTCDateTime": "2023-05-10 19:16:15.860",
                                    "UpdateUser": "BJarrett",
                                    "AccountingPeriodName": "Aug 2023",
                                    "AccountingPeriodSequenceNumber": "225"
                                },
                                {
                                    "CalendarDate": "2023-08-11",
                                    "MonthEndDate": "2023-08-31",
                                    "UpdateUTCDateTime": "2023-05-10 19:16:15.860",
                                    "UpdateUser": "BJarrett",
                                    "AccountingPeriodName": "Aug 2023",
                                    "AccountingPeriodSequenceNumber": "225"
                                },
                                {
                                    "CalendarDate": "2023-08-10",
                                    "MonthEndDate": "2023-08-31",
                                    "UpdateUTCDateTime": "2023-05-10 19:16:15.860",
                                    "UpdateUser": "BJarrett",
                                    "AccountingPeriodName": "Aug 2023",
                                    "AccountingPeriodSequenceNumber": "225"
                                },
                                {
                                    "CalendarDate": "2023-08-09",
                                    "MonthEndDate": "2023-08-31",
                                    "UpdateUTCDateTime": "2023-05-10 19:16:15.860",
                                    "UpdateUser": "BJarrett",
                                    "AccountingPeriodName": "Aug 2023",
                                    "AccountingPeriodSequenceNumber": "225"
                                },
                                {
                                    "CalendarDate": "2023-08-08",
                                    "MonthEndDate": "2023-08-31",
                                    "UpdateUTCDateTime": "2023-05-10 19:16:15.860",
                                    "UpdateUser": "BJarrett",
                                    "AccountingPeriodName": "Aug 2023",
                                    "AccountingPeriodSequenceNumber": "225"
                                },
                                {
                                    "CalendarDate": "2023-08-07",
                                    "MonthEndDate": "2023-08-31",
                                    "UpdateUTCDateTime": "2023-05-10 19:16:15.860",
                                    "UpdateUser": "BJarrett",
                                    "AccountingPeriodName": "Aug 2023",
                                    "AccountingPeriodSequenceNumber": "225"
                                },
                                {
                                    "CalendarDate": "2023-08-06",
                                    "MonthEndDate": "2023-08-31",
                                    "UpdateUTCDateTime": "2023-05-10 19:16:15.860",
                                    "UpdateUser": "BJarrett",
                                    "AccountingPeriodName": "Aug 2023",
                                    "AccountingPeriodSequenceNumber": "225"
                                },
                                {
                                    "CalendarDate": "2023-08-05",
                                    "MonthEndDate": "2023-08-31",
                                    "UpdateUTCDateTime": "2023-05-10 19:16:15.860",
                                    "UpdateUser": "BJarrett",
                                    "AccountingPeriodName": "Aug 2023",
                                    "AccountingPeriodSequenceNumber": "225"
                                },
                                {
                                    "CalendarDate": "2023-08-04",
                                    "MonthEndDate": "2023-08-31",
                                    "UpdateUTCDateTime": "2023-05-10 19:16:15.860",
                                    "UpdateUser": "BJarrett",
                                    "AccountingPeriodName": "Aug 2023",
                                    "AccountingPeriodSequenceNumber": "225"
                                },
                                {
                                    "CalendarDate": "2023-08-03",
                                    "MonthEndDate": "2023-08-31",
                                    "UpdateUTCDateTime": "2023-05-10 19:16:15.860",
                                    "UpdateUser": "BJarrett",
                                    "AccountingPeriodName": "Aug 2023",
                                    "AccountingPeriodSequenceNumber": "225"
                                },
                                {
                                    "CalendarDate": "2023-08-02",
                                    "MonthEndDate": "2023-08-31",
                                    "UpdateUTCDateTime": "2023-05-10 19:16:15.860",
                                    "UpdateUser": "BJarrett",
                                    "AccountingPeriodName": "Aug 2023",
                                    "AccountingPeriodSequenceNumber": "225"
                                },
                                {
                                    "CalendarDate": "2023-08-01",
                                    "MonthEndDate": "2023-08-31",
                                    "UpdateUTCDateTime": "2023-08-02 12:35:43.120",
                                    "UpdateUser": "EDWETL.usp_DateDim_AccountingPeriod_Update",
                                    "AccountingPeriodName": "Jul 2023",
                                    "AccountingPeriodSequenceNumber": "224"
                                },
                                {
                                    "CalendarDate": "2023-07-31",
                                    "MonthEndDate": "2023-07-31",
                                    "UpdateUTCDateTime": "2023-05-10 19:16:15.860",
                                    "UpdateUser": "BJarrett",
                                    "AccountingPeriodName": "Jul 2023",
                                    "AccountingPeriodSequenceNumber": "224"
                                }
                            ]
                        },
                        "text/html": "<table><tr><th>CalendarDate</th><th>MonthEndDate</th><th>UpdateUTCDateTime</th><th>UpdateUser</th><th>AccountingPeriodName</th><th>AccountingPeriodSequenceNumber</th></tr><tr><td>2023-09-01</td><td>2023-09-30</td><td>2023-05-10 19:16:15.860</td><td>BJarrett</td><td>Sep 2023</td><td>226</td></tr><tr><td>2023-08-31</td><td>2023-08-31</td><td>2023-05-10 19:16:15.860</td><td>BJarrett</td><td>Aug 2023</td><td>225</td></tr><tr><td>2023-08-30</td><td>2023-08-31</td><td>2023-05-10 19:16:15.860</td><td>BJarrett</td><td>Aug 2023</td><td>225</td></tr><tr><td>2023-08-29</td><td>2023-08-31</td><td>2023-05-10 19:16:15.860</td><td>BJarrett</td><td>Aug 2023</td><td>225</td></tr><tr><td>2023-08-28</td><td>2023-08-31</td><td>2023-05-10 19:16:15.860</td><td>BJarrett</td><td>Aug 2023</td><td>225</td></tr><tr><td>2023-08-27</td><td>2023-08-31</td><td>2023-05-10 19:16:15.860</td><td>BJarrett</td><td>Aug 2023</td><td>225</td></tr><tr><td>2023-08-26</td><td>2023-08-31</td><td>2023-05-10 19:16:15.860</td><td>BJarrett</td><td>Aug 2023</td><td>225</td></tr><tr><td>2023-08-25</td><td>2023-08-31</td><td>2023-05-10 19:16:15.860</td><td>BJarrett</td><td>Aug 2023</td><td>225</td></tr><tr><td>2023-08-24</td><td>2023-08-31</td><td>2023-05-10 19:16:15.860</td><td>BJarrett</td><td>Aug 2023</td><td>225</td></tr><tr><td>2023-08-23</td><td>2023-08-31</td><td>2023-05-10 19:16:15.860</td><td>BJarrett</td><td>Aug 2023</td><td>225</td></tr><tr><td>2023-08-22</td><td>2023-08-31</td><td>2023-05-10 19:16:15.860</td><td>BJarrett</td><td>Aug 2023</td><td>225</td></tr><tr><td>2023-08-21</td><td>2023-08-31</td><td>2023-05-10 19:16:15.860</td><td>BJarrett</td><td>Aug 2023</td><td>225</td></tr><tr><td>2023-08-20</td><td>2023-08-31</td><td>2023-05-10 19:16:15.860</td><td>BJarrett</td><td>Aug 2023</td><td>225</td></tr><tr><td>2023-08-19</td><td>2023-08-31</td><td>2023-05-10 19:16:15.860</td><td>BJarrett</td><td>Aug 2023</td><td>225</td></tr><tr><td>2023-08-18</td><td>2023-08-31</td><td>2023-05-10 19:16:15.860</td><td>BJarrett</td><td>Aug 2023</td><td>225</td></tr><tr><td>2023-08-17</td><td>2023-08-31</td><td>2023-05-10 19:16:15.860</td><td>BJarrett</td><td>Aug 2023</td><td>225</td></tr><tr><td>2023-08-16</td><td>2023-08-31</td><td>2023-05-10 19:16:15.860</td><td>BJarrett</td><td>Aug 2023</td><td>225</td></tr><tr><td>2023-08-15</td><td>2023-08-31</td><td>2023-05-10 19:16:15.860</td><td>BJarrett</td><td>Aug 2023</td><td>225</td></tr><tr><td>2023-08-14</td><td>2023-08-31</td><td>2023-05-10 19:16:15.860</td><td>BJarrett</td><td>Aug 2023</td><td>225</td></tr><tr><td>2023-08-13</td><td>2023-08-31</td><td>2023-05-10 19:16:15.860</td><td>BJarrett</td><td>Aug 2023</td><td>225</td></tr><tr><td>2023-08-12</td><td>2023-08-31</td><td>2023-05-10 19:16:15.860</td><td>BJarrett</td><td>Aug 2023</td><td>225</td></tr><tr><td>2023-08-11</td><td>2023-08-31</td><td>2023-05-10 19:16:15.860</td><td>BJarrett</td><td>Aug 2023</td><td>225</td></tr><tr><td>2023-08-10</td><td>2023-08-31</td><td>2023-05-10 19:16:15.860</td><td>BJarrett</td><td>Aug 2023</td><td>225</td></tr><tr><td>2023-08-09</td><td>2023-08-31</td><td>2023-05-10 19:16:15.860</td><td>BJarrett</td><td>Aug 2023</td><td>225</td></tr><tr><td>2023-08-08</td><td>2023-08-31</td><td>2023-05-10 19:16:15.860</td><td>BJarrett</td><td>Aug 2023</td><td>225</td></tr><tr><td>2023-08-07</td><td>2023-08-31</td><td>2023-05-10 19:16:15.860</td><td>BJarrett</td><td>Aug 2023</td><td>225</td></tr><tr><td>2023-08-06</td><td>2023-08-31</td><td>2023-05-10 19:16:15.860</td><td>BJarrett</td><td>Aug 2023</td><td>225</td></tr><tr><td>2023-08-05</td><td>2023-08-31</td><td>2023-05-10 19:16:15.860</td><td>BJarrett</td><td>Aug 2023</td><td>225</td></tr><tr><td>2023-08-04</td><td>2023-08-31</td><td>2023-05-10 19:16:15.860</td><td>BJarrett</td><td>Aug 2023</td><td>225</td></tr><tr><td>2023-08-03</td><td>2023-08-31</td><td>2023-05-10 19:16:15.860</td><td>BJarrett</td><td>Aug 2023</td><td>225</td></tr><tr><td>2023-08-02</td><td>2023-08-31</td><td>2023-05-10 19:16:15.860</td><td>BJarrett</td><td>Aug 2023</td><td>225</td></tr><tr><td>2023-08-01</td><td>2023-08-31</td><td>2023-08-02 12:35:43.120</td><td>EDWETL.usp_DateDim_AccountingPeriod_Update</td><td>Jul 2023</td><td>224</td></tr><tr><td>2023-07-31</td><td>2023-07-31</td><td>2023-05-10 19:16:15.860</td><td>BJarrett</td><td>Jul 2023</td><td>224</td></tr></table>"
                    },
                    "metadata": {}
                }
            ],
            "execution_count": 13
        }
    ]
}