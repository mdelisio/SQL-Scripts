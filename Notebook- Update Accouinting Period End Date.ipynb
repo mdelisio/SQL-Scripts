{
    "metadata": {
        "kernelspec": {
            "name": "SQL",
            "display_name": "SQL",
            "language": "sql"
        },
        "language_info": {
            "name": "sql",
            "version": ""
        }
    },
    "nbformat_minor": 2,
    "nbformat": 4,
    "cells": [
        {
            "cell_type": "markdown",
            "source": [
                "**Add the Modified End Dates for the Accounting Periond to the Stating Table**"
            ],
            "metadata": {
                "language": "sql",
                "azdata_cell_guid": "708ef069-6e61-4e9e-9c05-d4308577ab6c"
            },
            "attachments": {}
        },
        {
            "cell_type": "code",
            "source": [
                "\tEXEC EDWConfig.usp_AccountingPeriodEndDate_Modify\r\n",
                "\t\t@AccountingPeriodName\t\t= 'Jun 2023'\r\n",
                "\t\t,@AccountingPeriodEndDate\t= '2023-07-03'"
            ],
            "metadata": {
                "azdata_cell_guid": "7727bbfb-295c-4bbf-bb6b-0f1e5d49ca20",
                "language": "sql"
            },
            "outputs": [
                {
                    "output_type": "display_data",
                    "data": {
                        "text/html": "Commands completed successfully."
                    },
                    "metadata": {}
                },
                {
                    "output_type": "display_data",
                    "data": {
                        "text/html": "Total execution time: 00:00:00.143"
                    },
                    "metadata": {}
                },
                {
                    "output_type": "execute_result",
                    "metadata": {},
                    "execution_count": 1,
                    "data": {
                        "application/vnd.dataresource+json": {
                            "schema": {
                                "fields": [
                                    {
                                        "name": "AccountingPeriodName"
                                    },
                                    {
                                        "name": "AccountingPeriodEndDate"
                                    },
                                    {
                                        "name": "CreateUTCDateTime"
                                    },
                                    {
                                        "name": "CreateUser"
                                    },
                                    {
                                        "name": "UpdateUTCDateTime"
                                    },
                                    {
                                        "name": "UpdateUser"
                                    }
                                ]
                            },
                            "data": [
                                {
                                    "AccountingPeriodName": "Jun 2023",
                                    "AccountingPeriodEndDate": "2023-07-03",
                                    "CreateUTCDateTime": "2023-07-03 18:19:30.430",
                                    "CreateUser": "mdelisio@rbi.gibraltar1.com",
                                    "UpdateUTCDateTime": "2023-07-03 18:19:30.430",
                                    "UpdateUser": "mdelisio@rbi.gibraltar1.com"
                                }
                            ]
                        },
                        "text/html": [
                            "<table>",
                            "<tr><th>AccountingPeriodName</th><th>AccountingPeriodEndDate</th><th>CreateUTCDateTime</th><th>CreateUser</th><th>UpdateUTCDateTime</th><th>UpdateUser</th></tr>",
                            "<tr><td>Jun 2023</td><td>2023-07-03</td><td>2023-07-03 18:19:30.430</td><td>mdelisio@rbi.gibraltar1.com</td><td>2023-07-03 18:19:30.430</td><td>mdelisio@rbi.gibraltar1.com</td></tr>",
                            "</table>"
                        ]
                    }
                }
            ],
            "execution_count": 1
        },
        {
            "cell_type": "markdown",
            "source": [
                "**Check Config Table**"
            ],
            "metadata": {
                "language": "sql",
                "azdata_cell_guid": "58d596a4-83c1-4851-b065-999868cb8e62"
            },
            "attachments": {}
        },
        {
            "cell_type": "code",
            "source": [
                "Select * FROM EDWConfig.AccountingPeriodEndDates\r\n",
                ""
            ],
            "metadata": {
                "language": "sql",
                "azdata_cell_guid": "d4735748-89e6-40d1-98e3-b22932d54d92"
            },
            "outputs": [
                {
                    "output_type": "display_data",
                    "data": {
                        "text/html": "(0 rows affected)"
                    },
                    "metadata": {}
                },
                {
                    "output_type": "display_data",
                    "data": {
                        "text/html": "Total execution time: 00:00:00.064"
                    },
                    "metadata": {}
                },
                {
                    "output_type": "execute_result",
                    "metadata": {},
                    "execution_count": 13,
                    "data": {
                        "application/vnd.dataresource+json": {
                            "schema": {
                                "fields": [
                                    {
                                        "name": "AccountingPeriodName"
                                    },
                                    {
                                        "name": "AccountingPeriodEndDate"
                                    },
                                    {
                                        "name": "CreateUTCDateTime"
                                    },
                                    {
                                        "name": "CreateUser"
                                    },
                                    {
                                        "name": "UpdateUTCDateTime"
                                    },
                                    {
                                        "name": "UpdateUser"
                                    }
                                ]
                            },
                            "data": []
                        },
                        "text/html": [
                            "<table>",
                            "<tr><th>AccountingPeriodName</th><th>AccountingPeriodEndDate</th><th>CreateUTCDateTime</th><th>CreateUser</th><th>UpdateUTCDateTime</th><th>UpdateUser</th></tr>",
                            "</table>"
                        ]
                    }
                }
            ],
            "execution_count": 13
        },
        {
            "cell_type": "markdown",
            "source": [
                "**Run Update of Accounting Periond END Date after end dates are modified**"
            ],
            "metadata": {
                "language": "sql",
                "azdata_cell_guid": "115fcb54-a5b4-4c0e-9311-dbea14273e0f"
            },
            "attachments": {}
        },
        {
            "cell_type": "code",
            "source": [
                "EXEC EDWETL.usp_DateDim_AccountingPeriod_Update"
            ],
            "metadata": {
                "language": "sql",
                "azdata_cell_guid": "19867d98-0d0e-4c75-a76c-9b86e7583df2"
            },
            "outputs": [
                {
                    "output_type": "display_data",
                    "data": {
                        "text/html": "Commands completed successfully."
                    },
                    "metadata": {}
                },
                {
                    "output_type": "display_data",
                    "data": {
                        "text/html": "Total execution time: 00:00:00.184"
                    },
                    "metadata": {}
                }
            ],
            "execution_count": 12
        },
        {
            "cell_type": "code",
            "source": [
                "DECLARE @AccountingPeriodName VARCHAR(50) = 'Jun 2023'\r\n",
                ";\r\n",
                "\r\n",
                "Select TOP (31) \r\n",
                "CalendarDate,\r\n",
                "MonthEndDate,\r\n",
                "UpdateUTCDateTime,\r\n",
                "UpdateUser,\r\n",
                "AccountingPeriodName,\r\n",
                "AccountingPeriodSequenceNumber\r\n",
                "FROM EDW.DateDim\r\n",
                "Where AccountingPeriodName = @AccountingPeriodName\r\n",
                "Order By DateDimKey Desc"
            ],
            "metadata": {
                "language": "sql",
                "azdata_cell_guid": "b003fca3-7566-4066-8e25-2a231eb036d6",
                "tags": []
            },
            "outputs": [
                {
                    "output_type": "display_data",
                    "data": {
                        "text/html": "(31 rows affected)"
                    },
                    "metadata": {}
                },
                {
                    "output_type": "display_data",
                    "data": {
                        "text/html": "Total execution time: 00:00:00.071"
                    },
                    "metadata": {}
                },
                {
                    "output_type": "execute_result",
                    "metadata": {},
                    "execution_count": 14,
                    "data": {
                        "application/vnd.dataresource+json": {
                            "schema": {
                                "fields": [
                                    {
                                        "name": "CalendarDate"
                                    },
                                    {
                                        "name": "MonthEndDate"
                                    },
                                    {
                                        "name": "UpdateUTCDateTime"
                                    },
                                    {
                                        "name": "UpdateUser"
                                    },
                                    {
                                        "name": "AccountingPeriodName"
                                    },
                                    {
                                        "name": "AccountingPeriodSequenceNumber"
                                    }
                                ]
                            },
                            "data": [
                                {
                                    "CalendarDate": "2023-07-03",
                                    "MonthEndDate": "2023-07-31",
                                    "UpdateUTCDateTime": "2023-07-03 18:34:13.090",
                                    "UpdateUser": "EDWETL.usp_DateDim_AccountingPeriod_Update",
                                    "AccountingPeriodName": "Jun 2023",
                                    "AccountingPeriodSequenceNumber": "223"
                                },
                                {
                                    "CalendarDate": "2023-07-02",
                                    "MonthEndDate": "2023-07-31",
                                    "UpdateUTCDateTime": "2023-07-03 18:34:13.090",
                                    "UpdateUser": "EDWETL.usp_DateDim_AccountingPeriod_Update",
                                    "AccountingPeriodName": "Jun 2023",
                                    "AccountingPeriodSequenceNumber": "223"
                                },
                                {
                                    "CalendarDate": "2023-07-01",
                                    "MonthEndDate": "2023-07-31",
                                    "UpdateUTCDateTime": "2023-07-03 18:34:13.090",
                                    "UpdateUser": "EDWETL.usp_DateDim_AccountingPeriod_Update",
                                    "AccountingPeriodName": "Jun 2023",
                                    "AccountingPeriodSequenceNumber": "223"
                                },
                                {
                                    "CalendarDate": "2023-06-30",
                                    "MonthEndDate": "2023-06-30",
                                    "UpdateUTCDateTime": "2023-05-10 19:16:15.860",
                                    "UpdateUser": "BJarrett",
                                    "AccountingPeriodName": "Jun 2023",
                                    "AccountingPeriodSequenceNumber": "223"
                                },
                                {
                                    "CalendarDate": "2023-06-29",
                                    "MonthEndDate": "2023-06-30",
                                    "UpdateUTCDateTime": "2023-05-10 19:16:15.860",
                                    "UpdateUser": "BJarrett",
                                    "AccountingPeriodName": "Jun 2023",
                                    "AccountingPeriodSequenceNumber": "223"
                                },
                                {
                                    "CalendarDate": "2023-06-28",
                                    "MonthEndDate": "2023-06-30",
                                    "UpdateUTCDateTime": "2023-05-10 19:16:15.860",
                                    "UpdateUser": "BJarrett",
                                    "AccountingPeriodName": "Jun 2023",
                                    "AccountingPeriodSequenceNumber": "223"
                                },
                                {
                                    "CalendarDate": "2023-06-27",
                                    "MonthEndDate": "2023-06-30",
                                    "UpdateUTCDateTime": "2023-05-10 19:16:15.860",
                                    "UpdateUser": "BJarrett",
                                    "AccountingPeriodName": "Jun 2023",
                                    "AccountingPeriodSequenceNumber": "223"
                                },
                                {
                                    "CalendarDate": "2023-06-26",
                                    "MonthEndDate": "2023-06-30",
                                    "UpdateUTCDateTime": "2023-05-10 19:16:15.860",
                                    "UpdateUser": "BJarrett",
                                    "AccountingPeriodName": "Jun 2023",
                                    "AccountingPeriodSequenceNumber": "223"
                                },
                                {
                                    "CalendarDate": "2023-06-25",
                                    "MonthEndDate": "2023-06-30",
                                    "UpdateUTCDateTime": "2023-05-10 19:16:15.860",
                                    "UpdateUser": "BJarrett",
                                    "AccountingPeriodName": "Jun 2023",
                                    "AccountingPeriodSequenceNumber": "223"
                                },
                                {
                                    "CalendarDate": "2023-06-24",
                                    "MonthEndDate": "2023-06-30",
                                    "UpdateUTCDateTime": "2023-05-10 19:16:15.860",
                                    "UpdateUser": "BJarrett",
                                    "AccountingPeriodName": "Jun 2023",
                                    "AccountingPeriodSequenceNumber": "223"
                                },
                                {
                                    "CalendarDate": "2023-06-23",
                                    "MonthEndDate": "2023-06-30",
                                    "UpdateUTCDateTime": "2023-05-10 19:16:15.860",
                                    "UpdateUser": "BJarrett",
                                    "AccountingPeriodName": "Jun 2023",
                                    "AccountingPeriodSequenceNumber": "223"
                                },
                                {
                                    "CalendarDate": "2023-06-22",
                                    "MonthEndDate": "2023-06-30",
                                    "UpdateUTCDateTime": "2023-05-10 19:16:15.860",
                                    "UpdateUser": "BJarrett",
                                    "AccountingPeriodName": "Jun 2023",
                                    "AccountingPeriodSequenceNumber": "223"
                                },
                                {
                                    "CalendarDate": "2023-06-21",
                                    "MonthEndDate": "2023-06-30",
                                    "UpdateUTCDateTime": "2023-05-10 19:16:15.860",
                                    "UpdateUser": "BJarrett",
                                    "AccountingPeriodName": "Jun 2023",
                                    "AccountingPeriodSequenceNumber": "223"
                                },
                                {
                                    "CalendarDate": "2023-06-20",
                                    "MonthEndDate": "2023-06-30",
                                    "UpdateUTCDateTime": "2023-05-10 19:16:15.860",
                                    "UpdateUser": "BJarrett",
                                    "AccountingPeriodName": "Jun 2023",
                                    "AccountingPeriodSequenceNumber": "223"
                                },
                                {
                                    "CalendarDate": "2023-06-19",
                                    "MonthEndDate": "2023-06-30",
                                    "UpdateUTCDateTime": "2023-05-10 19:16:15.860",
                                    "UpdateUser": "BJarrett",
                                    "AccountingPeriodName": "Jun 2023",
                                    "AccountingPeriodSequenceNumber": "223"
                                },
                                {
                                    "CalendarDate": "2023-06-18",
                                    "MonthEndDate": "2023-06-30",
                                    "UpdateUTCDateTime": "2023-05-10 19:16:15.860",
                                    "UpdateUser": "BJarrett",
                                    "AccountingPeriodName": "Jun 2023",
                                    "AccountingPeriodSequenceNumber": "223"
                                },
                                {
                                    "CalendarDate": "2023-06-17",
                                    "MonthEndDate": "2023-06-30",
                                    "UpdateUTCDateTime": "2023-05-10 19:16:15.860",
                                    "UpdateUser": "BJarrett",
                                    "AccountingPeriodName": "Jun 2023",
                                    "AccountingPeriodSequenceNumber": "223"
                                },
                                {
                                    "CalendarDate": "2023-06-16",
                                    "MonthEndDate": "2023-06-30",
                                    "UpdateUTCDateTime": "2023-05-10 19:16:15.860",
                                    "UpdateUser": "BJarrett",
                                    "AccountingPeriodName": "Jun 2023",
                                    "AccountingPeriodSequenceNumber": "223"
                                },
                                {
                                    "CalendarDate": "2023-06-15",
                                    "MonthEndDate": "2023-06-30",
                                    "UpdateUTCDateTime": "2023-05-10 19:16:15.860",
                                    "UpdateUser": "BJarrett",
                                    "AccountingPeriodName": "Jun 2023",
                                    "AccountingPeriodSequenceNumber": "223"
                                },
                                {
                                    "CalendarDate": "2023-06-14",
                                    "MonthEndDate": "2023-06-30",
                                    "UpdateUTCDateTime": "2023-05-10 19:16:15.860",
                                    "UpdateUser": "BJarrett",
                                    "AccountingPeriodName": "Jun 2023",
                                    "AccountingPeriodSequenceNumber": "223"
                                },
                                {
                                    "CalendarDate": "2023-06-13",
                                    "MonthEndDate": "2023-06-30",
                                    "UpdateUTCDateTime": "2023-05-10 19:16:15.860",
                                    "UpdateUser": "BJarrett",
                                    "AccountingPeriodName": "Jun 2023",
                                    "AccountingPeriodSequenceNumber": "223"
                                },
                                {
                                    "CalendarDate": "2023-06-12",
                                    "MonthEndDate": "2023-06-30",
                                    "UpdateUTCDateTime": "2023-05-10 19:16:15.860",
                                    "UpdateUser": "BJarrett",
                                    "AccountingPeriodName": "Jun 2023",
                                    "AccountingPeriodSequenceNumber": "223"
                                },
                                {
                                    "CalendarDate": "2023-06-11",
                                    "MonthEndDate": "2023-06-30",
                                    "UpdateUTCDateTime": "2023-05-10 19:16:15.860",
                                    "UpdateUser": "BJarrett",
                                    "AccountingPeriodName": "Jun 2023",
                                    "AccountingPeriodSequenceNumber": "223"
                                },
                                {
                                    "CalendarDate": "2023-06-10",
                                    "MonthEndDate": "2023-06-30",
                                    "UpdateUTCDateTime": "2023-05-10 19:16:15.860",
                                    "UpdateUser": "BJarrett",
                                    "AccountingPeriodName": "Jun 2023",
                                    "AccountingPeriodSequenceNumber": "223"
                                },
                                {
                                    "CalendarDate": "2023-06-09",
                                    "MonthEndDate": "2023-06-30",
                                    "UpdateUTCDateTime": "2023-05-10 19:16:15.860",
                                    "UpdateUser": "BJarrett",
                                    "AccountingPeriodName": "Jun 2023",
                                    "AccountingPeriodSequenceNumber": "223"
                                },
                                {
                                    "CalendarDate": "2023-06-08",
                                    "MonthEndDate": "2023-06-30",
                                    "UpdateUTCDateTime": "2023-05-10 19:16:15.860",
                                    "UpdateUser": "BJarrett",
                                    "AccountingPeriodName": "Jun 2023",
                                    "AccountingPeriodSequenceNumber": "223"
                                },
                                {
                                    "CalendarDate": "2023-06-07",
                                    "MonthEndDate": "2023-06-30",
                                    "UpdateUTCDateTime": "2023-05-10 19:16:15.860",
                                    "UpdateUser": "BJarrett",
                                    "AccountingPeriodName": "Jun 2023",
                                    "AccountingPeriodSequenceNumber": "223"
                                },
                                {
                                    "CalendarDate": "2023-06-06",
                                    "MonthEndDate": "2023-06-30",
                                    "UpdateUTCDateTime": "2023-05-10 19:16:15.860",
                                    "UpdateUser": "BJarrett",
                                    "AccountingPeriodName": "Jun 2023",
                                    "AccountingPeriodSequenceNumber": "223"
                                },
                                {
                                    "CalendarDate": "2023-06-05",
                                    "MonthEndDate": "2023-06-30",
                                    "UpdateUTCDateTime": "2023-05-10 19:16:15.860",
                                    "UpdateUser": "BJarrett",
                                    "AccountingPeriodName": "Jun 2023",
                                    "AccountingPeriodSequenceNumber": "223"
                                },
                                {
                                    "CalendarDate": "2023-06-04",
                                    "MonthEndDate": "2023-06-30",
                                    "UpdateUTCDateTime": "2023-05-10 19:16:15.860",
                                    "UpdateUser": "BJarrett",
                                    "AccountingPeriodName": "Jun 2023",
                                    "AccountingPeriodSequenceNumber": "223"
                                },
                                {
                                    "CalendarDate": "2023-06-03",
                                    "MonthEndDate": "2023-06-30",
                                    "UpdateUTCDateTime": "2023-05-10 19:16:15.860",
                                    "UpdateUser": "BJarrett",
                                    "AccountingPeriodName": "Jun 2023",
                                    "AccountingPeriodSequenceNumber": "223"
                                }
                            ]
                        },
                        "text/html": [
                            "<table>",
                            "<tr><th>CalendarDate</th><th>MonthEndDate</th><th>UpdateUTCDateTime</th><th>UpdateUser</th><th>AccountingPeriodName</th><th>AccountingPeriodSequenceNumber</th></tr>",
                            "<tr><td>2023-07-03</td><td>2023-07-31</td><td>2023-07-03 18:34:13.090</td><td>EDWETL.usp_DateDim_AccountingPeriod_Update</td><td>Jun 2023</td><td>223</td></tr>",
                            "<tr><td>2023-07-02</td><td>2023-07-31</td><td>2023-07-03 18:34:13.090</td><td>EDWETL.usp_DateDim_AccountingPeriod_Update</td><td>Jun 2023</td><td>223</td></tr>",
                            "<tr><td>2023-07-01</td><td>2023-07-31</td><td>2023-07-03 18:34:13.090</td><td>EDWETL.usp_DateDim_AccountingPeriod_Update</td><td>Jun 2023</td><td>223</td></tr>",
                            "<tr><td>2023-06-30</td><td>2023-06-30</td><td>2023-05-10 19:16:15.860</td><td>BJarrett</td><td>Jun 2023</td><td>223</td></tr>",
                            "<tr><td>2023-06-29</td><td>2023-06-30</td><td>2023-05-10 19:16:15.860</td><td>BJarrett</td><td>Jun 2023</td><td>223</td></tr>",
                            "<tr><td>2023-06-28</td><td>2023-06-30</td><td>2023-05-10 19:16:15.860</td><td>BJarrett</td><td>Jun 2023</td><td>223</td></tr>",
                            "<tr><td>2023-06-27</td><td>2023-06-30</td><td>2023-05-10 19:16:15.860</td><td>BJarrett</td><td>Jun 2023</td><td>223</td></tr>",
                            "<tr><td>2023-06-26</td><td>2023-06-30</td><td>2023-05-10 19:16:15.860</td><td>BJarrett</td><td>Jun 2023</td><td>223</td></tr>",
                            "<tr><td>2023-06-25</td><td>2023-06-30</td><td>2023-05-10 19:16:15.860</td><td>BJarrett</td><td>Jun 2023</td><td>223</td></tr>",
                            "<tr><td>2023-06-24</td><td>2023-06-30</td><td>2023-05-10 19:16:15.860</td><td>BJarrett</td><td>Jun 2023</td><td>223</td></tr>",
                            "<tr><td>2023-06-23</td><td>2023-06-30</td><td>2023-05-10 19:16:15.860</td><td>BJarrett</td><td>Jun 2023</td><td>223</td></tr>",
                            "<tr><td>2023-06-22</td><td>2023-06-30</td><td>2023-05-10 19:16:15.860</td><td>BJarrett</td><td>Jun 2023</td><td>223</td></tr>",
                            "<tr><td>2023-06-21</td><td>2023-06-30</td><td>2023-05-10 19:16:15.860</td><td>BJarrett</td><td>Jun 2023</td><td>223</td></tr>",
                            "<tr><td>2023-06-20</td><td>2023-06-30</td><td>2023-05-10 19:16:15.860</td><td>BJarrett</td><td>Jun 2023</td><td>223</td></tr>",
                            "<tr><td>2023-06-19</td><td>2023-06-30</td><td>2023-05-10 19:16:15.860</td><td>BJarrett</td><td>Jun 2023</td><td>223</td></tr>",
                            "<tr><td>2023-06-18</td><td>2023-06-30</td><td>2023-05-10 19:16:15.860</td><td>BJarrett</td><td>Jun 2023</td><td>223</td></tr>",
                            "<tr><td>2023-06-17</td><td>2023-06-30</td><td>2023-05-10 19:16:15.860</td><td>BJarrett</td><td>Jun 2023</td><td>223</td></tr>",
                            "<tr><td>2023-06-16</td><td>2023-06-30</td><td>2023-05-10 19:16:15.860</td><td>BJarrett</td><td>Jun 2023</td><td>223</td></tr>",
                            "<tr><td>2023-06-15</td><td>2023-06-30</td><td>2023-05-10 19:16:15.860</td><td>BJarrett</td><td>Jun 2023</td><td>223</td></tr>",
                            "<tr><td>2023-06-14</td><td>2023-06-30</td><td>2023-05-10 19:16:15.860</td><td>BJarrett</td><td>Jun 2023</td><td>223</td></tr>",
                            "<tr><td>2023-06-13</td><td>2023-06-30</td><td>2023-05-10 19:16:15.860</td><td>BJarrett</td><td>Jun 2023</td><td>223</td></tr>",
                            "<tr><td>2023-06-12</td><td>2023-06-30</td><td>2023-05-10 19:16:15.860</td><td>BJarrett</td><td>Jun 2023</td><td>223</td></tr>",
                            "<tr><td>2023-06-11</td><td>2023-06-30</td><td>2023-05-10 19:16:15.860</td><td>BJarrett</td><td>Jun 2023</td><td>223</td></tr>",
                            "<tr><td>2023-06-10</td><td>2023-06-30</td><td>2023-05-10 19:16:15.860</td><td>BJarrett</td><td>Jun 2023</td><td>223</td></tr>",
                            "<tr><td>2023-06-09</td><td>2023-06-30</td><td>2023-05-10 19:16:15.860</td><td>BJarrett</td><td>Jun 2023</td><td>223</td></tr>",
                            "<tr><td>2023-06-08</td><td>2023-06-30</td><td>2023-05-10 19:16:15.860</td><td>BJarrett</td><td>Jun 2023</td><td>223</td></tr>",
                            "<tr><td>2023-06-07</td><td>2023-06-30</td><td>2023-05-10 19:16:15.860</td><td>BJarrett</td><td>Jun 2023</td><td>223</td></tr>",
                            "<tr><td>2023-06-06</td><td>2023-06-30</td><td>2023-05-10 19:16:15.860</td><td>BJarrett</td><td>Jun 2023</td><td>223</td></tr>",
                            "<tr><td>2023-06-05</td><td>2023-06-30</td><td>2023-05-10 19:16:15.860</td><td>BJarrett</td><td>Jun 2023</td><td>223</td></tr>",
                            "<tr><td>2023-06-04</td><td>2023-06-30</td><td>2023-05-10 19:16:15.860</td><td>BJarrett</td><td>Jun 2023</td><td>223</td></tr>",
                            "<tr><td>2023-06-03</td><td>2023-06-30</td><td>2023-05-10 19:16:15.860</td><td>BJarrett</td><td>Jun 2023</td><td>223</td></tr>",
                            "</table>"
                        ]
                    }
                }
            ],
            "execution_count": 14
        }
    ]
}