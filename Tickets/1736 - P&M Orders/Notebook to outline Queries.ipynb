{
    "metadata": {
        "kernelspec": {
            "name": "SQL",
            "display_name": "SQL",
            "language": "sql"
        },
        "language_info": {
            "name": "sql",
            "version": ""
        }
    },
    "nbformat_minor": 2,
    "nbformat": 4,
    "cells": [
        {
            "cell_type": "markdown",
            "source": [
                ""
            ],
            "metadata": {
                "language": "sql",
                "azdata_cell_guid": "015ffa9e-40cc-4c1e-b867-e78a58c9df3a"
            }
        },
        {
            "cell_type": "code",
            "source": [
                "Select Top (100) *\r\n",
                "From Erp.InvcHead\r\n",
                "Where 1=1\r\n",
                "and OrderNum = 5005007\r\n",
                "and Company = 'TES'\r\n",
                "\r\n",
                "--and OrderNum = 5005399"
            ],
            "metadata": {
                "azdata_cell_guid": "a1b37c77-0204-4043-83bb-36bbabc3d2fb",
                "language": "sql"
            },
            "outputs": [
                {
                    "output_type": "display_data",
                    "data": {
                        "text/html": "(2 rows affected)"
                    },
                    "metadata": {}
                },
                {
                    "output_type": "display_data",
                    "data": {
                        "text/html": "Total execution time: 00:00:00.221"
                    },
                    "metadata": {}
                },
                {
                    "output_type": "execute_result",
                    "metadata": {},
                    "execution_count": 1,
                    "data": {
                        "application/vnd.dataresource+json": {
                            "schema": {
                                "fields": [
                                    {
                                        "name": "Company"
                                    },
                                    {
                                        "name": "OpenInvoice"
                                    },
                                    {
                                        "name": "ClosedDate"
                                    },
                                    {
                                        "name": "CreditMemo"
                                    },
                                    {
                                        "name": "UnappliedCash"
                                    },
                                    {
                                        "name": "CheckRef"
                                    },
                                    {
                                        "name": "InvoiceSuffix"
                                    },
                                    {
                                        "name": "GroupID"
                                    },
                                    {
                                        "name": "Posted"
                                    },
                                    {
                                        "name": "InvoiceNum"
                                    },
                                    {
                                        "name": "InvoiceType"
                                    },
                                    {
                                        "name": "DeferredRevenue"
                                    },
                                    {
                                        "name": "OrderNum"
                                    },
                                    {
                                        "name": "CustNum"
                                    },
                                    {
                                        "name": "PONum"
                                    },
                                    {
                                        "name": "EntryPerson"
                                    },
                                    {
                                        "name": "FOB"
                                    },
                                    {
                                        "name": "TermsCode"
                                    },
                                    {
                                        "name": "InvoiceDate"
                                    },
                                    {
                                        "name": "DueDate"
                                    },
                                    {
                                        "name": "FiscalYear"
                                    },
                                    {
                                        "name": "FiscalPeriod"
                                    },
                                    {
                                        "name": "GLPosted"
                                    },
                                    {
                                        "name": "InvoiceComment"
                                    },
                                    {
                                        "name": "InvoiceAmt"
                                    },
                                    {
                                        "name": "DocInvoiceAmt"
                                    },
                                    {
                                        "name": "InvoiceBal"
                                    },
                                    {
                                        "name": "DocInvoiceBal"
                                    },
                                    {
                                        "name": "UnpostedBal"
                                    },
                                    {
                                        "name": "DocUnpostedBal"
                                    },
                                    {
                                        "name": "DepositCredit"
                                    },
                                    {
                                        "name": "DocDepositCredit"
                                    },
                                    {
                                        "name": "SalesRepList"
                                    },
                                    {
                                        "name": "InvoiceRef"
                                    },
                                    {
                                        "name": "RefCancelled"
                                    },
                                    {
                                        "name": "RefCancelledBy"
                                    },
                                    {
                                        "name": "StartUp"
                                    },
                                    {
                                        "name": "PayDates"
                                    },
                                    {
                                        "name": "PayAmounts"
                                    },
                                    {
                                        "name": "DocPayAmounts"
                                    },
                                    {
                                        "name": "PayDiscDate"
                                    },
                                    {
                                        "name": "PayDiscAmt"
                                    },
                                    {
                                        "name": "DocPayDiscAmt"
                                    },
                                    {
                                        "name": "BillConNum"
                                    },
                                    {
                                        "name": "InvoiceHeld"
                                    },
                                    {
                                        "name": "CurrencyCode"
                                    },
                                    {
                                        "name": "ExchangeRate"
                                    },
                                    {
                                        "name": "LockRate"
                                    },
                                    {
                                        "name": "JournalNum"
                                    },
                                    {
                                        "name": "JournalCode"
                                    },
                                    {
                                        "name": "LineType"
                                    },
                                    {
                                        "name": "RMANum"
                                    },
                                    {
                                        "name": "Plant"
                                    },
                                    {
                                        "name": "CardMemberName"
                                    },
                                    {
                                        "name": "CardNumber"
                                    },
                                    {
                                        "name": "CardType"
                                    },
                                    {
                                        "name": "ExpirationMonth"
                                    },
                                    {
                                        "name": "ExpirationYear"
                                    },
                                    {
                                        "name": "CardID"
                                    },
                                    {
                                        "name": "CardmemberReference"
                                    },
                                    {
                                        "name": "LegalNumber"
                                    },
                                    {
                                        "name": "ExternalID"
                                    },
                                    {
                                        "name": "XRefInvoiceNum"
                                    },
                                    {
                                        "name": "DepGainLoss"
                                    },
                                    {
                                        "name": "DNComments"
                                    },
                                    {
                                        "name": "DNCustNbr"
                                    },
                                    {
                                        "name": "DebitNote"
                                    },
                                    {
                                        "name": "SoldToCustNum"
                                    },
                                    {
                                        "name": "Consolidated"
                                    },
                                    {
                                        "name": "BillToInvoiceAddress"
                                    },
                                    {
                                        "name": "SoldToInvoiceAddress"
                                    },
                                    {
                                        "name": "ProcessCard"
                                    },
                                    {
                                        "name": "RepComm1"
                                    },
                                    {
                                        "name": "RepComm2"
                                    },
                                    {
                                        "name": "RepComm3"
                                    },
                                    {
                                        "name": "RepComm4"
                                    },
                                    {
                                        "name": "RepComm5"
                                    },
                                    {
                                        "name": "RepRate1"
                                    },
                                    {
                                        "name": "RepRate2"
                                    },
                                    {
                                        "name": "RepRate3"
                                    },
                                    {
                                        "name": "RepRate4"
                                    },
                                    {
                                        "name": "RepRate5"
                                    },
                                    {
                                        "name": "RepSales1"
                                    },
                                    {
                                        "name": "RepSales2"
                                    },
                                    {
                                        "name": "RepSales3"
                                    },
                                    {
                                        "name": "RepSales4"
                                    },
                                    {
                                        "name": "RepSales5"
                                    },
                                    {
                                        "name": "RepSplit1"
                                    },
                                    {
                                        "name": "RepSplit2"
                                    },
                                    {
                                        "name": "RepSplit3"
                                    },
                                    {
                                        "name": "RepSplit4"
                                    },
                                    {
                                        "name": "RepSplit5"
                                    },
                                    {
                                        "name": "CMType"
                                    },
                                    {
                                        "name": "CCStreetAddr"
                                    },
                                    {
                                        "name": "CCZip"
                                    },
                                    {
                                        "name": "ChangedBy"
                                    },
                                    {
                                        "name": "ChangeDate"
                                    },
                                    {
                                        "name": "ChangeTime"
                                    },
                                    {
                                        "name": "ReadyToCalc"
                                    },
                                    {
                                        "name": "AutoPrintReady"
                                    },
                                    {
                                        "name": "EDIReady"
                                    },
                                    {
                                        "name": "RecalcBeforePost"
                                    },
                                    {
                                        "name": "Rounding"
                                    },
                                    {
                                        "name": "DocRounding"
                                    },
                                    {
                                        "name": "Rpt1DepositCredit"
                                    },
                                    {
                                        "name": "Rpt2DepositCredit"
                                    },
                                    {
                                        "name": "Rpt3DepositCredit"
                                    },
                                    {
                                        "name": "Rpt1InvoiceAmt"
                                    },
                                    {
                                        "name": "Rpt2InvoiceAmt"
                                    },
                                    {
                                        "name": "Rpt3InvoiceAmt"
                                    },
                                    {
                                        "name": "Rpt1InvoiceBal"
                                    },
                                    {
                                        "name": "Rpt2InvoiceBal"
                                    },
                                    {
                                        "name": "Rpt3InvoiceBal"
                                    },
                                    {
                                        "name": "Rpt1PayAmounts"
                                    },
                                    {
                                        "name": "Rpt2PayAmounts"
                                    },
                                    {
                                        "name": "Rpt3PayAmounts"
                                    },
                                    {
                                        "name": "Rpt1PayDiscAmt"
                                    },
                                    {
                                        "name": "Rpt2PayDiscAmt"
                                    },
                                    {
                                        "name": "Rpt3PayDiscAmt"
                                    },
                                    {
                                        "name": "Rpt1Rounding"
                                    },
                                    {
                                        "name": "Rpt2Rounding"
                                    },
                                    {
                                        "name": "Rpt3Rounding"
                                    },
                                    {
                                        "name": "Rpt1UnpostedBal"
                                    },
                                    {
                                        "name": "Rpt2UnpostedBal"
                                    },
                                    {
                                        "name": "Rpt3UnpostedBal"
                                    },
                                    {
                                        "name": "RateGrpCode"
                                    },
                                    {
                                        "name": "DocDepApplied"
                                    },
                                    {
                                        "name": "Rpt1DepGainLoss"
                                    },
                                    {
                                        "name": "Rpt2DepGainLoss"
                                    },
                                    {
                                        "name": "Rpt3DepGainLoss"
                                    },
                                    {
                                        "name": "ApplyDate"
                                    },
                                    {
                                        "name": "FiscalYearSuffix"
                                    },
                                    {
                                        "name": "FiscalCalendarID"
                                    },
                                    {
                                        "name": "TaxPoint"
                                    },
                                    {
                                        "name": "TaxRateDate"
                                    },
                                    {
                                        "name": "TaxRegionCode"
                                    },
                                    {
                                        "name": "LastChrgCalcDate"
                                    },
                                    {
                                        "name": "TranDocTypeID"
                                    },
                                    {
                                        "name": "TotFinChrg"
                                    },
                                    {
                                        "name": "DocumentPrinted"
                                    },
                                    {
                                        "name": "PayDiscDays"
                                    },
                                    {
                                        "name": "PayDiscPer"
                                    },
                                    {
                                        "name": "BlockedFinChrg"
                                    },
                                    {
                                        "name": "BlockedFinChrgReason"
                                    },
                                    {
                                        "name": "WithholdAmt"
                                    },
                                    {
                                        "name": "DocWithholdAmt"
                                    },
                                    {
                                        "name": "Rpt1WithholdAmt"
                                    },
                                    {
                                        "name": "Rpt2WithholdAmt"
                                    },
                                    {
                                        "name": "Rpt3WithholdAmt"
                                    },
                                    {
                                        "name": "BlockedRemLetters"
                                    },
                                    {
                                        "name": "PayDiscPartPay"
                                    },
                                    {
                                        "name": "BlockedRemLettersReason"
                                    },
                                    {
                                        "name": "ShipDate"
                                    },
                                    {
                                        "name": "CurrRateDate"
                                    },
                                    {
                                        "name": "PIPayment"
                                    },
                                    {
                                        "name": "PMUID"
                                    },
                                    {
                                        "name": "UseAltBillTo"
                                    },
                                    {
                                        "name": "InPrice"
                                    },
                                    {
                                        "name": "CorrectionInv"
                                    },
                                    {
                                        "name": "TaxRateGrpCode"
                                    },
                                    {
                                        "name": "LockTaxRate"
                                    },
                                    {
                                        "name": "SEBankRef"
                                    },
                                    {
                                        "name": "GUITaxTypeCode"
                                    },
                                    {
                                        "name": "GUIFormatCode"
                                    },
                                    {
                                        "name": "GUIDeductCode"
                                    },
                                    {
                                        "name": "ReversalDocAmount"
                                    },
                                    {
                                        "name": "OrigDueDate"
                                    },
                                    {
                                        "name": "HeadNum"
                                    },
                                    {
                                        "name": "ARLOCID"
                                    },
                                    {
                                        "name": "ContractRef"
                                    },
                                    {
                                        "name": "OurBank"
                                    },
                                    {
                                        "name": "ContractDate"
                                    },
                                    {
                                        "name": "PBProjectID"
                                    },
                                    {
                                        "name": "DepositAmt"
                                    },
                                    {
                                        "name": "GUIExportBillNumber"
                                    },
                                    {
                                        "name": "DocDepositAmt"
                                    },
                                    {
                                        "name": "GUIDateOfExport"
                                    },
                                    {
                                        "name": "Rpt1DepositAmt"
                                    },
                                    {
                                        "name": "GUIExportType"
                                    },
                                    {
                                        "name": "Rpt2DepositAmt"
                                    },
                                    {
                                        "name": "GUIExportMark"
                                    },
                                    {
                                        "name": "Rpt3DepositAmt"
                                    },
                                    {
                                        "name": "GUIExportBillType"
                                    },
                                    {
                                        "name": "DepUnallocatedAmt"
                                    },
                                    {
                                        "name": "SummarizationDate"
                                    },
                                    {
                                        "name": "DocDepUnallocatedAmt"
                                    },
                                    {
                                        "name": "BillingDate"
                                    },
                                    {
                                        "name": "Rpt1DepUnallocatedAmt"
                                    },
                                    {
                                        "name": "BillingNumber"
                                    },
                                    {
                                        "name": "Rpt2DepUnallocatedAmt"
                                    },
                                    {
                                        "name": "ReadyToBill"
                                    },
                                    {
                                        "name": "Rpt3DepUnallocatedAmt"
                                    },
                                    {
                                        "name": "OvrDefTaxDate"
                                    },
                                    {
                                        "name": "XRefContractNum"
                                    },
                                    {
                                        "name": "XRefContractDate"
                                    },
                                    {
                                        "name": "MainSite"
                                    },
                                    {
                                        "name": "SiteCode"
                                    },
                                    {
                                        "name": "BranchID"
                                    },
                                    {
                                        "name": "CustAgentName"
                                    },
                                    {
                                        "name": "CustAgentTaxRegNo"
                                    },
                                    {
                                        "name": "ExportType"
                                    },
                                    {
                                        "name": "ExportReportNo"
                                    },
                                    {
                                        "name": "RealEstateNo"
                                    },
                                    {
                                        "name": "Excluded"
                                    },
                                    {
                                        "name": "Deferred"
                                    },
                                    {
                                        "name": "CycleCode"
                                    },
                                    {
                                        "name": "Duration"
                                    },
                                    {
                                        "name": "EndDate"
                                    },
                                    {
                                        "name": "MaxValueAmt"
                                    },
                                    {
                                        "name": "DocMaxValueAmt"
                                    },
                                    {
                                        "name": "Rpt1MaxValueAmt"
                                    },
                                    {
                                        "name": "Rpt2MaxValueAmt"
                                    },
                                    {
                                        "name": "Rpt3MaxValueAmt"
                                    },
                                    {
                                        "name": "HoldInvoice"
                                    },
                                    {
                                        "name": "CopyLatestInvoice"
                                    },
                                    {
                                        "name": "OverrideEndDate"
                                    },
                                    {
                                        "name": "CycleInactive"
                                    },
                                    {
                                        "name": "RecurSource"
                                    },
                                    {
                                        "name": "InstanceNum"
                                    },
                                    {
                                        "name": "RecurBalance"
                                    },
                                    {
                                        "name": "DocRecurBalance"
                                    },
                                    {
                                        "name": "Rpt1RecurBalance"
                                    },
                                    {
                                        "name": "Rpt2RecurBalance"
                                    },
                                    {
                                        "name": "Rpt3RecurBalance"
                                    },
                                    {
                                        "name": "LastDate"
                                    },
                                    {
                                        "name": "RecurringState"
                                    },
                                    {
                                        "name": "IsRecurring"
                                    },
                                    {
                                        "name": "InvoiceNumList"
                                    },
                                    {
                                        "name": "IsAddedToGTI"
                                    },
                                    {
                                        "name": "SysRevID"
                                    },
                                    {
                                        "name": "SysRowID"
                                    },
                                    {
                                        "name": "CHISRCodeLine"
                                    },
                                    {
                                        "name": "CMReason"
                                    },
                                    {
                                        "name": "THIsImmatAdjustment"
                                    },
                                    {
                                        "name": "AGAuthorizationCode"
                                    },
                                    {
                                        "name": "AGAuthorizationDate"
                                    },
                                    {
                                        "name": "AGUseGoodDefaultMark"
                                    },
                                    {
                                        "name": "AGDocumentLetter"
                                    },
                                    {
                                        "name": "AGInvoicingPoint"
                                    },
                                    {
                                        "name": "AGLegalNumber"
                                    },
                                    {
                                        "name": "AGPrintingControlType"
                                    },
                                    {
                                        "name": "RevisionDate"
                                    },
                                    {
                                        "name": "RevisionNum"
                                    },
                                    {
                                        "name": "TWDeclareYear"
                                    },
                                    {
                                        "name": "TWDeclarePeriod"
                                    },
                                    {
                                        "name": "TWGenerationType"
                                    },
                                    {
                                        "name": "TWGUIGroup"
                                    },
                                    {
                                        "name": "TWPeriodPrefix"
                                    },
                                    {
                                        "name": "InvInCollections"
                                    },
                                    {
                                        "name": "CollectionsCust"
                                    },
                                    {
                                        "name": "CounterARForm"
                                    },
                                    {
                                        "name": "PostedRecog"
                                    },
                                    {
                                        "name": "CNConfirmDate"
                                    },
                                    {
                                        "name": "MXSATSeal"
                                    },
                                    {
                                        "name": "MXSerie"
                                    },
                                    {
                                        "name": "MXTaxRcptType"
                                    },
                                    {
                                        "name": "MXFiscalFolio"
                                    },
                                    {
                                        "name": "MXTotalPayments"
                                    },
                                    {
                                        "name": "MXFolio"
                                    },
                                    {
                                        "name": "MXCertifiedTimestamp"
                                    },
                                    {
                                        "name": "MXSATCertificateSN"
                                    },
                                    {
                                        "name": "MXDigitalSeal"
                                    },
                                    {
                                        "name": "MXPostedTimeStamp"
                                    },
                                    {
                                        "name": "MXCertificate"
                                    },
                                    {
                                        "name": "MXApprovalYear"
                                    },
                                    {
                                        "name": "MXCBB"
                                    },
                                    {
                                        "name": "MXApprovalNum"
                                    },
                                    {
                                        "name": "MXOriginalStringTFD"
                                    },
                                    {
                                        "name": "MXPaymentNum"
                                    },
                                    {
                                        "name": "MXPaidAs"
                                    },
                                    {
                                        "name": "MXCertificateSN"
                                    },
                                    {
                                        "name": "MXOriginalAmount"
                                    },
                                    {
                                        "name": "MXAccountNumber"
                                    },
                                    {
                                        "name": "MXOriginalDate"
                                    },
                                    {
                                        "name": "MXOriginalSeries"
                                    },
                                    {
                                        "name": "MXOriginalFolio"
                                    },
                                    {
                                        "name": "MXTaxRegime"
                                    },
                                    {
                                        "name": "MXOriginalString"
                                    },
                                    {
                                        "name": "MXPaymentName"
                                    },
                                    {
                                        "name": "EInvoice"
                                    },
                                    {
                                        "name": "EInvStatus"
                                    },
                                    {
                                        "name": "EInvTimestamp"
                                    },
                                    {
                                        "name": "EInvUpdatedBy"
                                    },
                                    {
                                        "name": "EInvException"
                                    },
                                    {
                                        "name": "WithTaxConfirm"
                                    },
                                    {
                                        "name": "UseAltBillToID"
                                    },
                                    {
                                        "name": "MXCancelledDate"
                                    },
                                    {
                                        "name": "Overpaid"
                                    },
                                    {
                                        "name": "OrdExchangeRate"
                                    },
                                    {
                                        "name": "PEAPPayNum"
                                    },
                                    {
                                        "name": "PEBankNumber"
                                    },
                                    {
                                        "name": "PECharges"
                                    },
                                    {
                                        "name": "PECommissions"
                                    },
                                    {
                                        "name": "PEDetTaxAmt"
                                    },
                                    {
                                        "name": "PEDetTaxCurrencyCode"
                                    },
                                    {
                                        "name": "PEDischargeAmt"
                                    },
                                    {
                                        "name": "PEDischargeDate"
                                    },
                                    {
                                        "name": "PEInterest"
                                    },
                                    {
                                        "name": "PENoPayPenalty"
                                    },
                                    {
                                        "name": "PESUNATDepAmt"
                                    },
                                    {
                                        "name": "PESUNATDepDate"
                                    },
                                    {
                                        "name": "PESUNATDepNum"
                                    },
                                    {
                                        "name": "PEBOEPosted"
                                    },
                                    {
                                        "name": "DocPEInterest"
                                    },
                                    {
                                        "name": "DocPECommissions"
                                    },
                                    {
                                        "name": "DocPECharges"
                                    },
                                    {
                                        "name": "DocPENoPayPenalty"
                                    },
                                    {
                                        "name": "DocPEDischargeAmt"
                                    },
                                    {
                                        "name": "DocPEDetTaxAmt"
                                    },
                                    {
                                        "name": "Rpt1PEInterest"
                                    },
                                    {
                                        "name": "Rpt1PECommissions"
                                    },
                                    {
                                        "name": "Rpt1PECharges"
                                    },
                                    {
                                        "name": "Rpt1PENoPayPenalty"
                                    },
                                    {
                                        "name": "Rpt1PEDischargeAmt"
                                    },
                                    {
                                        "name": "Rpt2PEInterest"
                                    },
                                    {
                                        "name": "Rpt2PECommissions"
                                    },
                                    {
                                        "name": "Rpt2PECharges"
                                    },
                                    {
                                        "name": "Rpt2PENoPayPenalty"
                                    },
                                    {
                                        "name": "Rpt2PEDischargeAmt"
                                    },
                                    {
                                        "name": "Rpt3PEInterest"
                                    },
                                    {
                                        "name": "Rpt3PECommissions"
                                    },
                                    {
                                        "name": "Rpt3PECharges"
                                    },
                                    {
                                        "name": "Rpt3PENoPayPenalty"
                                    },
                                    {
                                        "name": "Rpt3PEDischargeAmt"
                                    },
                                    {
                                        "name": "OurSupplierCode"
                                    },
                                    {
                                        "name": "PEGuaranteeName"
                                    },
                                    {
                                        "name": "PEGuaranteeAddress1"
                                    },
                                    {
                                        "name": "PEGuaranteeAddress2"
                                    },
                                    {
                                        "name": "PEGuaranteeAddress3"
                                    },
                                    {
                                        "name": "PEGuaranteeCity"
                                    },
                                    {
                                        "name": "PEGuaranteeState"
                                    },
                                    {
                                        "name": "PEGuaranteeZip"
                                    },
                                    {
                                        "name": "PEGuaranteeCountry"
                                    },
                                    {
                                        "name": "PEGuaranteeTaxID"
                                    },
                                    {
                                        "name": "PEGuaranteePhoneNum"
                                    },
                                    {
                                        "name": "PEBOEStatus"
                                    },
                                    {
                                        "name": "PEBOEIsMultiGen"
                                    },
                                    {
                                        "name": "PERefDocID"
                                    },
                                    {
                                        "name": "PEReasonCode"
                                    },
                                    {
                                        "name": "PEReasonDesc"
                                    },
                                    {
                                        "name": "TWGUIRegNumSeller"
                                    },
                                    {
                                        "name": "TWGUIRegNumBuyer"
                                    },
                                    {
                                        "name": "TWGUIExportDocumentName"
                                    },
                                    {
                                        "name": "TWGUIExportRemarks"
                                    },
                                    {
                                        "name": "TWGUIExportVerification"
                                    },
                                    {
                                        "name": "PEDebitNoteReasonCode"
                                    },
                                    {
                                        "name": "PEDebitNote"
                                    },
                                    {
                                        "name": "MXPartPmt"
                                    },
                                    {
                                        "name": "CNTaxInvoiceType"
                                    },
                                    {
                                        "name": "MXExportOperationType"
                                    },
                                    {
                                        "name": "MXExportCustDocCode"
                                    },
                                    {
                                        "name": "MXExportCertOriginNum"
                                    },
                                    {
                                        "name": "MXExportConfNum"
                                    },
                                    {
                                        "name": "MXExportCertOrigin"
                                    },
                                    {
                                        "name": "MXIncoterm"
                                    },
                                    {
                                        "name": "AGDocConcept"
                                    },
                                    {
                                        "name": "EInvRefNum"
                                    },
                                    {
                                        "name": "ExportDocRefNum"
                                    },
                                    {
                                        "name": "ExportDocDate"
                                    },
                                    {
                                        "name": "INTaxTransactionID"
                                    },
                                    {
                                        "name": "MXMovingReasonFlag"
                                    },
                                    {
                                        "name": "MXMovingReason"
                                    },
                                    {
                                        "name": "MXNumRegIdTrib"
                                    },
                                    {
                                        "name": "MXResidenCountryNum"
                                    },
                                    {
                                        "name": "MXInvoiceRelationType"
                                    },
                                    {
                                        "name": "MXPurchaseType"
                                    },
                                    {
                                        "name": "MXConfirmationCode"
                                    },
                                    {
                                        "name": "MXExternalCode"
                                    },
                                    {
                                        "name": "ServiceInvoice"
                                    },
                                    {
                                        "name": "MXDomesticTransfer"
                                    },
                                    {
                                        "name": "MXCancellationMode"
                                    },
                                    {
                                        "name": "INShippingPortCode"
                                    },
                                    {
                                        "name": "INExportProcedure"
                                    },
                                    {
                                        "name": "CreatedOn"
                                    },
                                    {
                                        "name": "DigitalSignature"
                                    },
                                    {
                                        "name": "SignedOn"
                                    },
                                    {
                                        "name": "SignedBy"
                                    },
                                    {
                                        "name": "FirstPrintDate"
                                    },
                                    {
                                        "name": "DocCopyNum"
                                    },
                                    {
                                        "name": "DepositBalance"
                                    },
                                    {
                                        "name": "DocDepositBalance"
                                    },
                                    {
                                        "name": "Rpt1DepositBalance"
                                    },
                                    {
                                        "name": "Rpt2DepositBalance"
                                    },
                                    {
                                        "name": "Rpt3DepositBalance"
                                    },
                                    {
                                        "name": "QuoteNum"
                                    },
                                    {
                                        "name": "HDCaseNum"
                                    },
                                    {
                                        "name": "CreditOverride"
                                    },
                                    {
                                        "name": "CreditOverrideDate"
                                    },
                                    {
                                        "name": "CreditOverrideUserID"
                                    },
                                    {
                                        "name": "CreditHold"
                                    },
                                    {
                                        "name": "PEXMLType"
                                    },
                                    {
                                        "name": "COCreditMemoReasonCode"
                                    },
                                    {
                                        "name": "CODebitMemoReasonCode"
                                    },
                                    {
                                        "name": "COReasonDesc"
                                    },
                                    {
                                        "name": "CODebitNote"
                                    },
                                    {
                                        "name": "PEDetractionTranNum"
                                    },
                                    {
                                        "name": "PEProductCode"
                                    },
                                    {
                                        "name": "PECollectionGroupID"
                                    },
                                    {
                                        "name": "PECaptionCode"
                                    },
                                    {
                                        "name": "PECaption"
                                    },
                                    {
                                        "name": "PERefDocumentType"
                                    },
                                    {
                                        "name": "PERefDocumentNumber"
                                    },
                                    {
                                        "name": "PEDetrGoodServiceCode"
                                    },
                                    {
                                        "name": "PERefDocumentType2"
                                    },
                                    {
                                        "name": "PERefDocumentType3"
                                    },
                                    {
                                        "name": "PERefDocumentType4"
                                    },
                                    {
                                        "name": "PERefDocumentType5"
                                    },
                                    {
                                        "name": "PERefDocumentNumber2"
                                    },
                                    {
                                        "name": "PERefDocumentNumber3"
                                    },
                                    {
                                        "name": "PERefDocumentNumber4"
                                    },
                                    {
                                        "name": "PERefDocumentNumber5"
                                    },
                                    {
                                        "name": "ELIEInvoice"
                                    },
                                    {
                                        "name": "ELIEInvStatus"
                                    },
                                    {
                                        "name": "ELIEInvUpdatedBy"
                                    },
                                    {
                                        "name": "ELIEInvException"
                                    },
                                    {
                                        "name": "ELIEInvUpdatedOn"
                                    },
                                    {
                                        "name": "COOperType"
                                    },
                                    {
                                        "name": "CentralCollection"
                                    },
                                    {
                                        "name": "CColChildCompany"
                                    },
                                    {
                                        "name": "CColParentCompany"
                                    },
                                    {
                                        "name": "CColOrderNum"
                                    },
                                    {
                                        "name": "CColChildInvoiceNum"
                                    },
                                    {
                                        "name": "CColInvoiceNum"
                                    },
                                    {
                                        "name": "CColChildLegalNumber"
                                    },
                                    {
                                        "name": "CColLegalNumber"
                                    },
                                    {
                                        "name": "CColInvoiceRef"
                                    },
                                    {
                                        "name": "CColInvBal"
                                    },
                                    {
                                        "name": "DocCColInvBal"
                                    },
                                    {
                                        "name": "CColInvAmt"
                                    },
                                    {
                                        "name": "DocCColInvAmt"
                                    },
                                    {
                                        "name": "Rpt1CColInvBal"
                                    },
                                    {
                                        "name": "Rpt2CColInvBal"
                                    },
                                    {
                                        "name": "Rpt3CColInvBal"
                                    },
                                    {
                                        "name": "Rpt1CColInvAmt"
                                    },
                                    {
                                        "name": "Rpt2CColInvAmt"
                                    },
                                    {
                                        "name": "Rpt3CColInvAmt"
                                    },
                                    {
                                        "name": "NettingID"
                                    },
                                    {
                                        "name": "ELIEInvTerminalName"
                                    },
                                    {
                                        "name": "ELIEInvTerminalIP"
                                    },
                                    {
                                        "name": "Description"
                                    },
                                    {
                                        "name": "WithholdAcctToInterim"
                                    },
                                    {
                                        "name": "CColOpenInvoice"
                                    },
                                    {
                                        "name": "AGQRCodeData"
                                    },
                                    {
                                        "name": "ExemptReasonCode"
                                    },
                                    {
                                        "name": "ELIEInvID"
                                    }
                                ]
                            },
                            "data": [
                                {
                                    "Company": "TES",
                                    "OpenInvoice": "0",
                                    "ClosedDate": "2021-01-20",
                                    "CreditMemo": "0",
                                    "UnappliedCash": "0",
                                    "CheckRef": "",
                                    "InvoiceSuffix": "",
                                    "GroupID": "111820kc",
                                    "Posted": "1",
                                    "InvoiceNum": "17031",
                                    "InvoiceType": "SHP",
                                    "DeferredRevenue": "0",
                                    "OrderNum": "5005007",
                                    "CustNum": "606",
                                    "PONum": "111120TM2",
                                    "EntryPerson": "KCollard",
                                    "FOB": "",
                                    "TermsCode": "NT30",
                                    "InvoiceDate": "2020-11-18",
                                    "DueDate": "2020-12-18",
                                    "FiscalYear": "2020",
                                    "FiscalPeriod": "11",
                                    "GLPosted": "0",
                                    "InvoiceComment": "",
                                    "InvoiceAmt": "1401.380",
                                    "DocInvoiceAmt": "1051.050",
                                    "InvoiceBal": "0.000",
                                    "DocInvoiceBal": "0.000",
                                    "UnpostedBal": "0.000",
                                    "DocUnpostedBal": "0.000",
                                    "DepositCredit": "0.000",
                                    "DocDepositCredit": "0.000",
                                    "SalesRepList": "",
                                    "InvoiceRef": "17031",
                                    "RefCancelled": "0",
                                    "RefCancelledBy": "0",
                                    "StartUp": "0",
                                    "PayDates": "",
                                    "PayAmounts": "",
                                    "DocPayAmounts": "",
                                    "PayDiscDate": "NULL",
                                    "PayDiscAmt": "0.000",
                                    "DocPayDiscAmt": "0.000",
                                    "BillConNum": "0",
                                    "InvoiceHeld": "0",
                                    "CurrencyCode": "USD",
                                    "ExchangeRate": "1.3333170000",
                                    "LockRate": "1",
                                    "JournalNum": "0",
                                    "JournalCode": "SJ",
                                    "LineType": "PART",
                                    "RMANum": "0",
                                    "Plant": "MfgSys",
                                    "CardMemberName": "",
                                    "CardNumber": "",
                                    "CardType": "",
                                    "ExpirationMonth": "0",
                                    "ExpirationYear": "0",
                                    "CardID": "",
                                    "CardmemberReference": "",
                                    "LegalNumber": "17031",
                                    "ExternalID": "",
                                    "XRefInvoiceNum": "",
                                    "DepGainLoss": "0.000",
                                    "DNComments": "",
                                    "DNCustNbr": "",
                                    "DebitNote": "0",
                                    "SoldToCustNum": "606",
                                    "Consolidated": "0",
                                    "BillToInvoiceAddress": "0",
                                    "SoldToInvoiceAddress": "1",
                                    "ProcessCard": "",
                                    "RepComm1": "0.000",
                                    "RepComm2": "0.000",
                                    "RepComm3": "0.000",
                                    "RepComm4": "0.000",
                                    "RepComm5": "0.000",
                                    "RepRate1": "0.00",
                                    "RepRate2": "0.00",
                                    "RepRate3": "0.00",
                                    "RepRate4": "0.00",
                                    "RepRate5": "0.00",
                                    "RepSales1": "0.000",
                                    "RepSales2": "0.000",
                                    "RepSales3": "0.000",
                                    "RepSales4": "0.000",
                                    "RepSales5": "0.000",
                                    "RepSplit1": "0",
                                    "RepSplit2": "0",
                                    "RepSplit3": "0",
                                    "RepSplit4": "0",
                                    "RepSplit5": "0",
                                    "CMType": "",
                                    "CCStreetAddr": "",
                                    "CCZip": "",
                                    "ChangedBy": "KCollard",
                                    "ChangeDate": "2021-01-21",
                                    "ChangeTime": "39075",
                                    "ReadyToCalc": "1",
                                    "AutoPrintReady": "0",
                                    "EDIReady": "0",
                                    "RecalcBeforePost": "0",
                                    "Rounding": "0.000",
                                    "DocRounding": "0.000",
                                    "Rpt1DepositCredit": "0.000",
                                    "Rpt2DepositCredit": "0.000",
                                    "Rpt3DepositCredit": "0.000",
                                    "Rpt1InvoiceAmt": "1051.050",
                                    "Rpt2InvoiceAmt": "0.000",
                                    "Rpt3InvoiceAmt": "0.000",
                                    "Rpt1InvoiceBal": "0.000",
                                    "Rpt2InvoiceBal": "0.000",
                                    "Rpt3InvoiceBal": "0.000",
                                    "Rpt1PayAmounts": "",
                                    "Rpt2PayAmounts": "",
                                    "Rpt3PayAmounts": "",
                                    "Rpt1PayDiscAmt": "0.000",
                                    "Rpt2PayDiscAmt": "0.000",
                                    "Rpt3PayDiscAmt": "0.000",
                                    "Rpt1Rounding": "0.000",
                                    "Rpt2Rounding": "0.000",
                                    "Rpt3Rounding": "0.000",
                                    "Rpt1UnpostedBal": "0.000",
                                    "Rpt2UnpostedBal": "0.000",
                                    "Rpt3UnpostedBal": "0.000",
                                    "RateGrpCode": "MTHEND",
                                    "DocDepApplied": "0.000",
                                    "Rpt1DepGainLoss": "0.000",
                                    "Rpt2DepGainLoss": "0.000",
                                    "Rpt3DepGainLoss": "0.000",
                                    "ApplyDate": "2020-11-18",
                                    "FiscalYearSuffix": "",
                                    "FiscalCalendarID": "TESCAL",
                                    "TaxPoint": "2020-11-13",
                                    "TaxRateDate": "2020-11-13",
                                    "TaxRegionCode": "",
                                    "LastChrgCalcDate": "NULL",
                                    "TranDocTypeID": "",
                                    "TotFinChrg": "0.000",
                                    "DocumentPrinted": "1",
                                    "PayDiscDays": "",
                                    "PayDiscPer": "",
                                    "BlockedFinChrg": "0",
                                    "BlockedFinChrgReason": "",
                                    "WithholdAmt": "0.000",
                                    "DocWithholdAmt": "0.000",
                                    "Rpt1WithholdAmt": "0.000",
                                    "Rpt2WithholdAmt": "0.000",
                                    "Rpt3WithholdAmt": "0.000",
                                    "BlockedRemLetters": "0",
                                    "PayDiscPartPay": "0",
                                    "BlockedRemLettersReason": "",
                                    "ShipDate": "2020-11-13",
                                    "CurrRateDate": "2020-11-18",
                                    "PIPayment": "",
                                    "PMUID": "0",
                                    "UseAltBillTo": "0",
                                    "InPrice": "0",
                                    "CorrectionInv": "0",
                                    "TaxRateGrpCode": "",
                                    "LockTaxRate": "0",
                                    "SEBankRef": "",
                                    "GUITaxTypeCode": "",
                                    "GUIFormatCode": "",
                                    "GUIDeductCode": "",
                                    "ReversalDocAmount": "0.00",
                                    "OrigDueDate": "NULL",
                                    "HeadNum": "0",
                                    "ARLOCID": "",
                                    "ContractRef": "",
                                    "OurBank": "1080",
                                    "ContractDate": "NULL",
                                    "PBProjectID": "",
                                    "DepositAmt": "0.000",
                                    "GUIExportBillNumber": "",
                                    "DocDepositAmt": "0.000",
                                    "GUIDateOfExport": "NULL",
                                    "Rpt1DepositAmt": "0.000",
                                    "GUIExportType": "",
                                    "Rpt2DepositAmt": "0.000",
                                    "GUIExportMark": "",
                                    "Rpt3DepositAmt": "0.000",
                                    "GUIExportBillType": "",
                                    "DepUnallocatedAmt": "0.000",
                                    "SummarizationDate": "NULL",
                                    "DocDepUnallocatedAmt": "0.000",
                                    "BillingDate": "NULL",
                                    "Rpt1DepUnallocatedAmt": "0.000",
                                    "BillingNumber": "",
                                    "Rpt2DepUnallocatedAmt": "0.000",
                                    "ReadyToBill": "0",
                                    "Rpt3DepUnallocatedAmt": "0.000",
                                    "OvrDefTaxDate": "0",
                                    "XRefContractNum": "",
                                    "XRefContractDate": "NULL",
                                    "MainSite": "0",
                                    "SiteCode": "",
                                    "BranchID": "",
                                    "CustAgentName": "",
                                    "CustAgentTaxRegNo": "",
                                    "ExportType": "",
                                    "ExportReportNo": "",
                                    "RealEstateNo": "",
                                    "Excluded": "0",
                                    "Deferred": "0",
                                    "CycleCode": "",
                                    "Duration": "0",
                                    "EndDate": "NULL",
                                    "MaxValueAmt": "0.000",
                                    "DocMaxValueAmt": "0.000",
                                    "Rpt1MaxValueAmt": "0.000",
                                    "Rpt2MaxValueAmt": "0.000",
                                    "Rpt3MaxValueAmt": "0.000",
                                    "HoldInvoice": "0",
                                    "CopyLatestInvoice": "0",
                                    "OverrideEndDate": "0",
                                    "CycleInactive": "0",
                                    "RecurSource": "0",
                                    "InstanceNum": "0",
                                    "RecurBalance": "0.000",
                                    "DocRecurBalance": "0.000",
                                    "Rpt1RecurBalance": "0.000",
                                    "Rpt2RecurBalance": "0.000",
                                    "Rpt3RecurBalance": "0.000",
                                    "LastDate": "NULL",
                                    "RecurringState": "",
                                    "IsRecurring": "0",
                                    "InvoiceNumList": "",
                                    "IsAddedToGTI": "0",
                                    "SysRevID": "0x000000018F125806",
                                    "SysRowID": "0c8dd975-e9a9-4bd1-bd89-27f0ce206b37",
                                    "CHISRCodeLine": "",
                                    "CMReason": "",
                                    "THIsImmatAdjustment": "0",
                                    "AGAuthorizationCode": "",
                                    "AGAuthorizationDate": "NULL",
                                    "AGUseGoodDefaultMark": "0",
                                    "AGDocumentLetter": "",
                                    "AGInvoicingPoint": "",
                                    "AGLegalNumber": "",
                                    "AGPrintingControlType": "",
                                    "RevisionDate": "NULL",
                                    "RevisionNum": "0",
                                    "TWDeclareYear": "0",
                                    "TWDeclarePeriod": "0",
                                    "TWGenerationType": "",
                                    "TWGUIGroup": "",
                                    "TWPeriodPrefix": "",
                                    "InvInCollections": "0",
                                    "CollectionsCust": "0",
                                    "CounterARForm": "0",
                                    "PostedRecog": "0",
                                    "CNConfirmDate": "NULL",
                                    "MXSATSeal": "",
                                    "MXSerie": "",
                                    "MXTaxRcptType": "",
                                    "MXFiscalFolio": "",
                                    "MXTotalPayments": "0",
                                    "MXFolio": "",
                                    "MXCertifiedTimestamp": "",
                                    "MXSATCertificateSN": "",
                                    "MXDigitalSeal": "",
                                    "MXPostedTimeStamp": "",
                                    "MXCertificate": "",
                                    "MXApprovalYear": "0",
                                    "MXCBB": "",
                                    "MXApprovalNum": "0",
                                    "MXOriginalStringTFD": "",
                                    "MXPaymentNum": "0",
                                    "MXPaidAs": "",
                                    "MXCertificateSN": "",
                                    "MXOriginalAmount": "0.000",
                                    "MXAccountNumber": "",
                                    "MXOriginalDate": "NULL",
                                    "MXOriginalSeries": "",
                                    "MXOriginalFolio": "",
                                    "MXTaxRegime": "",
                                    "MXOriginalString": "",
                                    "MXPaymentName": "",
                                    "EInvoice": "0",
                                    "EInvStatus": "0",
                                    "EInvTimestamp": "",
                                    "EInvUpdatedBy": "",
                                    "EInvException": "",
                                    "WithTaxConfirm": "0",
                                    "UseAltBillToID": "0",
                                    "MXCancelledDate": "NULL",
                                    "Overpaid": "0",
                                    "OrdExchangeRate": "0.0000000000",
                                    "PEAPPayNum": "0",
                                    "PEBankNumber": "",
                                    "PECharges": "0.000",
                                    "PECommissions": "0.000",
                                    "PEDetTaxAmt": "0.000",
                                    "PEDetTaxCurrencyCode": "",
                                    "PEDischargeAmt": "0.000",
                                    "PEDischargeDate": "NULL",
                                    "PEInterest": "0.000",
                                    "PENoPayPenalty": "0.000",
                                    "PESUNATDepAmt": "0.000",
                                    "PESUNATDepDate": "NULL",
                                    "PESUNATDepNum": "",
                                    "PEBOEPosted": "0",
                                    "DocPEInterest": "0.000",
                                    "DocPECommissions": "0.000",
                                    "DocPECharges": "0.000",
                                    "DocPENoPayPenalty": "0.000",
                                    "DocPEDischargeAmt": "0.000",
                                    "DocPEDetTaxAmt": "0.000",
                                    "Rpt1PEInterest": "0.000",
                                    "Rpt1PECommissions": "0.000",
                                    "Rpt1PECharges": "0.000",
                                    "Rpt1PENoPayPenalty": "0.000",
                                    "Rpt1PEDischargeAmt": "0.000",
                                    "Rpt2PEInterest": "0.000",
                                    "Rpt2PECommissions": "0.000",
                                    "Rpt2PECharges": "0.000",
                                    "Rpt2PENoPayPenalty": "0.000",
                                    "Rpt2PEDischargeAmt": "0.000",
                                    "Rpt3PEInterest": "0.000",
                                    "Rpt3PECommissions": "0.000",
                                    "Rpt3PECharges": "0.000",
                                    "Rpt3PENoPayPenalty": "0.000",
                                    "Rpt3PEDischargeAmt": "0.000",
                                    "OurSupplierCode": "",
                                    "PEGuaranteeName": "",
                                    "PEGuaranteeAddress1": "",
                                    "PEGuaranteeAddress2": "",
                                    "PEGuaranteeAddress3": "",
                                    "PEGuaranteeCity": "",
                                    "PEGuaranteeState": "",
                                    "PEGuaranteeZip": "",
                                    "PEGuaranteeCountry": "",
                                    "PEGuaranteeTaxID": "",
                                    "PEGuaranteePhoneNum": "",
                                    "PEBOEStatus": "",
                                    "PEBOEIsMultiGen": "0",
                                    "PERefDocID": "",
                                    "PEReasonCode": "",
                                    "PEReasonDesc": "",
                                    "TWGUIRegNumSeller": "",
                                    "TWGUIRegNumBuyer": "",
                                    "TWGUIExportDocumentName": "",
                                    "TWGUIExportRemarks": "",
                                    "TWGUIExportVerification": "",
                                    "PEDebitNoteReasonCode": "",
                                    "PEDebitNote": "0",
                                    "MXPartPmt": "0",
                                    "CNTaxInvoiceType": "0",
                                    "MXExportOperationType": "",
                                    "MXExportCustDocCode": "",
                                    "MXExportCertOriginNum": "",
                                    "MXExportConfNum": "",
                                    "MXExportCertOrigin": "0",
                                    "MXIncoterm": "",
                                    "AGDocConcept": "1",
                                    "EInvRefNum": "",
                                    "ExportDocRefNum": "",
                                    "ExportDocDate": "NULL",
                                    "INTaxTransactionID": "",
                                    "MXMovingReasonFlag": "0",
                                    "MXMovingReason": "",
                                    "MXNumRegIdTrib": "",
                                    "MXResidenCountryNum": "0",
                                    "MXInvoiceRelationType": "",
                                    "MXPurchaseType": "",
                                    "MXConfirmationCode": "",
                                    "MXExternalCode": "",
                                    "ServiceInvoice": "0",
                                    "MXDomesticTransfer": "0",
                                    "MXCancellationMode": "",
                                    "INShippingPortCode": "",
                                    "INExportProcedure": "",
                                    "CreatedOn": "2020-11-18 13:22:57.257",
                                    "DigitalSignature": "",
                                    "SignedOn": "NULL",
                                    "SignedBy": "",
                                    "FirstPrintDate": "NULL",
                                    "DocCopyNum": "0",
                                    "DepositBalance": "0.000",
                                    "DocDepositBalance": "0.000",
                                    "Rpt1DepositBalance": "0.000",
                                    "Rpt2DepositBalance": "0.000",
                                    "Rpt3DepositBalance": "0.000",
                                    "QuoteNum": "0",
                                    "HDCaseNum": "0",
                                    "CreditOverride": "0",
                                    "CreditOverrideDate": "NULL",
                                    "CreditOverrideUserID": "",
                                    "CreditHold": "0",
                                    "PEXMLType": "0",
                                    "COCreditMemoReasonCode": "",
                                    "CODebitMemoReasonCode": "",
                                    "COReasonDesc": "",
                                    "CODebitNote": "0",
                                    "PEDetractionTranNum": "0",
                                    "PEProductCode": "",
                                    "PECollectionGroupID": "",
                                    "PECaptionCode": "",
                                    "PECaption": "",
                                    "PERefDocumentType": "",
                                    "PERefDocumentNumber": "",
                                    "PEDetrGoodServiceCode": "",
                                    "PERefDocumentType2": "",
                                    "PERefDocumentType3": "",
                                    "PERefDocumentType4": "",
                                    "PERefDocumentType5": "",
                                    "PERefDocumentNumber2": "",
                                    "PERefDocumentNumber3": "",
                                    "PERefDocumentNumber4": "",
                                    "PERefDocumentNumber5": "",
                                    "ELIEInvoice": "0",
                                    "ELIEInvStatus": "0",
                                    "ELIEInvUpdatedBy": "",
                                    "ELIEInvException": "",
                                    "ELIEInvUpdatedOn": "NULL",
                                    "COOperType": "",
                                    "CentralCollection": "0",
                                    "CColChildCompany": "",
                                    "CColParentCompany": "",
                                    "CColOrderNum": "0",
                                    "CColChildInvoiceNum": "0",
                                    "CColInvoiceNum": "0",
                                    "CColChildLegalNumber": "",
                                    "CColLegalNumber": "",
                                    "CColInvoiceRef": "0",
                                    "CColInvBal": "0.000",
                                    "DocCColInvBal": "0.000",
                                    "CColInvAmt": "0.000",
                                    "DocCColInvAmt": "0.000",
                                    "Rpt1CColInvBal": "0.000",
                                    "Rpt2CColInvBal": "0.000",
                                    "Rpt3CColInvBal": "0.000",
                                    "Rpt1CColInvAmt": "0.000",
                                    "Rpt2CColInvAmt": "0.000",
                                    "Rpt3CColInvAmt": "0.000",
                                    "NettingID": "0",
                                    "ELIEInvTerminalName": "",
                                    "ELIEInvTerminalIP": "",
                                    "Description": "",
                                    "WithholdAcctToInterim": "0",
                                    "CColOpenInvoice": "0",
                                    "AGQRCodeData": "",
                                    "ExemptReasonCode": "",
                                    "ELIEInvID": ""
                                },
                                {
                                    "Company": "TES",
                                    "OpenInvoice": "0",
                                    "ClosedDate": "2021-03-01",
                                    "CreditMemo": "0",
                                    "UnappliedCash": "0",
                                    "CheckRef": "",
                                    "InvoiceSuffix": "",
                                    "GroupID": "011221kc",
                                    "Posted": "1",
                                    "InvoiceNum": "17087",
                                    "InvoiceType": "SHP",
                                    "DeferredRevenue": "0",
                                    "OrderNum": "5005007",
                                    "CustNum": "606",
                                    "PONum": "111120TM2",
                                    "EntryPerson": "KCollard",
                                    "FOB": "",
                                    "TermsCode": "NT30",
                                    "InvoiceDate": "2021-01-12",
                                    "DueDate": "2021-02-11",
                                    "FiscalYear": "2021",
                                    "FiscalPeriod": "1",
                                    "GLPosted": "0",
                                    "InvoiceComment": "",
                                    "InvoiceAmt": "403.680",
                                    "DocInvoiceAmt": "302.760",
                                    "InvoiceBal": "0.000",
                                    "DocInvoiceBal": "0.000",
                                    "UnpostedBal": "0.000",
                                    "DocUnpostedBal": "0.000",
                                    "DepositCredit": "0.000",
                                    "DocDepositCredit": "0.000",
                                    "SalesRepList": "",
                                    "InvoiceRef": "17087",
                                    "RefCancelled": "0",
                                    "RefCancelledBy": "0",
                                    "StartUp": "0",
                                    "PayDates": "",
                                    "PayAmounts": "",
                                    "DocPayAmounts": "",
                                    "PayDiscDate": "NULL",
                                    "PayDiscAmt": "0.000",
                                    "DocPayDiscAmt": "0.000",
                                    "BillConNum": "0",
                                    "InvoiceHeld": "0",
                                    "CurrencyCode": "USD",
                                    "ExchangeRate": "1.3333170000",
                                    "LockRate": "1",
                                    "JournalNum": "0",
                                    "JournalCode": "SJ",
                                    "LineType": "PART",
                                    "RMANum": "0",
                                    "Plant": "MfgSys",
                                    "CardMemberName": "",
                                    "CardNumber": "",
                                    "CardType": "",
                                    "ExpirationMonth": "0",
                                    "ExpirationYear": "0",
                                    "CardID": "",
                                    "CardmemberReference": "",
                                    "LegalNumber": "17087",
                                    "ExternalID": "",
                                    "XRefInvoiceNum": "",
                                    "DepGainLoss": "0.000",
                                    "DNComments": "",
                                    "DNCustNbr": "",
                                    "DebitNote": "0",
                                    "SoldToCustNum": "606",
                                    "Consolidated": "0",
                                    "BillToInvoiceAddress": "0",
                                    "SoldToInvoiceAddress": "1",
                                    "ProcessCard": "",
                                    "RepComm1": "0.000",
                                    "RepComm2": "0.000",
                                    "RepComm3": "0.000",
                                    "RepComm4": "0.000",
                                    "RepComm5": "0.000",
                                    "RepRate1": "0.00",
                                    "RepRate2": "0.00",
                                    "RepRate3": "0.00",
                                    "RepRate4": "0.00",
                                    "RepRate5": "0.00",
                                    "RepSales1": "0.000",
                                    "RepSales2": "0.000",
                                    "RepSales3": "0.000",
                                    "RepSales4": "0.000",
                                    "RepSales5": "0.000",
                                    "RepSplit1": "0",
                                    "RepSplit2": "0",
                                    "RepSplit3": "0",
                                    "RepSplit4": "0",
                                    "RepSplit5": "0",
                                    "CMType": "",
                                    "CCStreetAddr": "",
                                    "CCZip": "",
                                    "ChangedBy": "KCollard",
                                    "ChangeDate": "2021-03-01",
                                    "ChangeTime": "49691",
                                    "ReadyToCalc": "1",
                                    "AutoPrintReady": "0",
                                    "EDIReady": "0",
                                    "RecalcBeforePost": "0",
                                    "Rounding": "0.000",
                                    "DocRounding": "0.000",
                                    "Rpt1DepositCredit": "0.000",
                                    "Rpt2DepositCredit": "0.000",
                                    "Rpt3DepositCredit": "0.000",
                                    "Rpt1InvoiceAmt": "302.760",
                                    "Rpt2InvoiceAmt": "0.000",
                                    "Rpt3InvoiceAmt": "0.000",
                                    "Rpt1InvoiceBal": "0.000",
                                    "Rpt2InvoiceBal": "0.000",
                                    "Rpt3InvoiceBal": "0.000",
                                    "Rpt1PayAmounts": "",
                                    "Rpt2PayAmounts": "",
                                    "Rpt3PayAmounts": "",
                                    "Rpt1PayDiscAmt": "0.000",
                                    "Rpt2PayDiscAmt": "0.000",
                                    "Rpt3PayDiscAmt": "0.000",
                                    "Rpt1Rounding": "0.000",
                                    "Rpt2Rounding": "0.000",
                                    "Rpt3Rounding": "0.000",
                                    "Rpt1UnpostedBal": "0.000",
                                    "Rpt2UnpostedBal": "0.000",
                                    "Rpt3UnpostedBal": "0.000",
                                    "RateGrpCode": "MTHEND",
                                    "DocDepApplied": "0.000",
                                    "Rpt1DepGainLoss": "0.000",
                                    "Rpt2DepGainLoss": "0.000",
                                    "Rpt3DepGainLoss": "0.000",
                                    "ApplyDate": "2021-01-12",
                                    "FiscalYearSuffix": "",
                                    "FiscalCalendarID": "TESCAL",
                                    "TaxPoint": "2021-01-12",
                                    "TaxRateDate": "2021-01-12",
                                    "TaxRegionCode": "",
                                    "LastChrgCalcDate": "NULL",
                                    "TranDocTypeID": "",
                                    "TotFinChrg": "0.000",
                                    "DocumentPrinted": "1",
                                    "PayDiscDays": "",
                                    "PayDiscPer": "",
                                    "BlockedFinChrg": "0",
                                    "BlockedFinChrgReason": "",
                                    "WithholdAmt": "0.000",
                                    "DocWithholdAmt": "0.000",
                                    "Rpt1WithholdAmt": "0.000",
                                    "Rpt2WithholdAmt": "0.000",
                                    "Rpt3WithholdAmt": "0.000",
                                    "BlockedRemLetters": "0",
                                    "PayDiscPartPay": "0",
                                    "BlockedRemLettersReason": "",
                                    "ShipDate": "2021-01-12",
                                    "CurrRateDate": "2021-01-12",
                                    "PIPayment": "",
                                    "PMUID": "0",
                                    "UseAltBillTo": "0",
                                    "InPrice": "0",
                                    "CorrectionInv": "0",
                                    "TaxRateGrpCode": "",
                                    "LockTaxRate": "0",
                                    "SEBankRef": "",
                                    "GUITaxTypeCode": "",
                                    "GUIFormatCode": "",
                                    "GUIDeductCode": "",
                                    "ReversalDocAmount": "0.00",
                                    "OrigDueDate": "NULL",
                                    "HeadNum": "0",
                                    "ARLOCID": "",
                                    "ContractRef": "",
                                    "OurBank": "1080",
                                    "ContractDate": "NULL",
                                    "PBProjectID": "",
                                    "DepositAmt": "0.000",
                                    "GUIExportBillNumber": "",
                                    "DocDepositAmt": "0.000",
                                    "GUIDateOfExport": "NULL",
                                    "Rpt1DepositAmt": "0.000",
                                    "GUIExportType": "",
                                    "Rpt2DepositAmt": "0.000",
                                    "GUIExportMark": "",
                                    "Rpt3DepositAmt": "0.000",
                                    "GUIExportBillType": "",
                                    "DepUnallocatedAmt": "0.000",
                                    "SummarizationDate": "NULL",
                                    "DocDepUnallocatedAmt": "0.000",
                                    "BillingDate": "NULL",
                                    "Rpt1DepUnallocatedAmt": "0.000",
                                    "BillingNumber": "",
                                    "Rpt2DepUnallocatedAmt": "0.000",
                                    "ReadyToBill": "0",
                                    "Rpt3DepUnallocatedAmt": "0.000",
                                    "OvrDefTaxDate": "0",
                                    "XRefContractNum": "",
                                    "XRefContractDate": "NULL",
                                    "MainSite": "0",
                                    "SiteCode": "",
                                    "BranchID": "",
                                    "CustAgentName": "",
                                    "CustAgentTaxRegNo": "",
                                    "ExportType": "",
                                    "ExportReportNo": "",
                                    "RealEstateNo": "",
                                    "Excluded": "0",
                                    "Deferred": "0",
                                    "CycleCode": "",
                                    "Duration": "0",
                                    "EndDate": "NULL",
                                    "MaxValueAmt": "0.000",
                                    "DocMaxValueAmt": "0.000",
                                    "Rpt1MaxValueAmt": "0.000",
                                    "Rpt2MaxValueAmt": "0.000",
                                    "Rpt3MaxValueAmt": "0.000",
                                    "HoldInvoice": "0",
                                    "CopyLatestInvoice": "0",
                                    "OverrideEndDate": "0",
                                    "CycleInactive": "0",
                                    "RecurSource": "0",
                                    "InstanceNum": "0",
                                    "RecurBalance": "0.000",
                                    "DocRecurBalance": "0.000",
                                    "Rpt1RecurBalance": "0.000",
                                    "Rpt2RecurBalance": "0.000",
                                    "Rpt3RecurBalance": "0.000",
                                    "LastDate": "NULL",
                                    "RecurringState": "",
                                    "IsRecurring": "0",
                                    "InvoiceNumList": "",
                                    "IsAddedToGTI": "0",
                                    "SysRevID": "0x00000001A06EE12E",
                                    "SysRowID": "c8c6c9b8-67e2-47b3-b350-6cdb4753dfb8",
                                    "CHISRCodeLine": "",
                                    "CMReason": "",
                                    "THIsImmatAdjustment": "0",
                                    "AGAuthorizationCode": "",
                                    "AGAuthorizationDate": "NULL",
                                    "AGUseGoodDefaultMark": "0",
                                    "AGDocumentLetter": "",
                                    "AGInvoicingPoint": "",
                                    "AGLegalNumber": "",
                                    "AGPrintingControlType": "",
                                    "RevisionDate": "NULL",
                                    "RevisionNum": "0",
                                    "TWDeclareYear": "0",
                                    "TWDeclarePeriod": "0",
                                    "TWGenerationType": "",
                                    "TWGUIGroup": "",
                                    "TWPeriodPrefix": "",
                                    "InvInCollections": "0",
                                    "CollectionsCust": "0",
                                    "CounterARForm": "0",
                                    "PostedRecog": "0",
                                    "CNConfirmDate": "NULL",
                                    "MXSATSeal": "",
                                    "MXSerie": "",
                                    "MXTaxRcptType": "",
                                    "MXFiscalFolio": "",
                                    "MXTotalPayments": "0",
                                    "MXFolio": "",
                                    "MXCertifiedTimestamp": "",
                                    "MXSATCertificateSN": "",
                                    "MXDigitalSeal": "",
                                    "MXPostedTimeStamp": "",
                                    "MXCertificate": "",
                                    "MXApprovalYear": "0",
                                    "MXCBB": "",
                                    "MXApprovalNum": "0",
                                    "MXOriginalStringTFD": "",
                                    "MXPaymentNum": "0",
                                    "MXPaidAs": "",
                                    "MXCertificateSN": "",
                                    "MXOriginalAmount": "0.000",
                                    "MXAccountNumber": "",
                                    "MXOriginalDate": "NULL",
                                    "MXOriginalSeries": "",
                                    "MXOriginalFolio": "",
                                    "MXTaxRegime": "",
                                    "MXOriginalString": "",
                                    "MXPaymentName": "",
                                    "EInvoice": "0",
                                    "EInvStatus": "0",
                                    "EInvTimestamp": "",
                                    "EInvUpdatedBy": "",
                                    "EInvException": "",
                                    "WithTaxConfirm": "0",
                                    "UseAltBillToID": "0",
                                    "MXCancelledDate": "NULL",
                                    "Overpaid": "0",
                                    "OrdExchangeRate": "0.0000000000",
                                    "PEAPPayNum": "0",
                                    "PEBankNumber": "",
                                    "PECharges": "0.000",
                                    "PECommissions": "0.000",
                                    "PEDetTaxAmt": "0.000",
                                    "PEDetTaxCurrencyCode": "",
                                    "PEDischargeAmt": "0.000",
                                    "PEDischargeDate": "NULL",
                                    "PEInterest": "0.000",
                                    "PENoPayPenalty": "0.000",
                                    "PESUNATDepAmt": "0.000",
                                    "PESUNATDepDate": "NULL",
                                    "PESUNATDepNum": "",
                                    "PEBOEPosted": "0",
                                    "DocPEInterest": "0.000",
                                    "DocPECommissions": "0.000",
                                    "DocPECharges": "0.000",
                                    "DocPENoPayPenalty": "0.000",
                                    "DocPEDischargeAmt": "0.000",
                                    "DocPEDetTaxAmt": "0.000",
                                    "Rpt1PEInterest": "0.000",
                                    "Rpt1PECommissions": "0.000",
                                    "Rpt1PECharges": "0.000",
                                    "Rpt1PENoPayPenalty": "0.000",
                                    "Rpt1PEDischargeAmt": "0.000",
                                    "Rpt2PEInterest": "0.000",
                                    "Rpt2PECommissions": "0.000",
                                    "Rpt2PECharges": "0.000",
                                    "Rpt2PENoPayPenalty": "0.000",
                                    "Rpt2PEDischargeAmt": "0.000",
                                    "Rpt3PEInterest": "0.000",
                                    "Rpt3PECommissions": "0.000",
                                    "Rpt3PECharges": "0.000",
                                    "Rpt3PENoPayPenalty": "0.000",
                                    "Rpt3PEDischargeAmt": "0.000",
                                    "OurSupplierCode": "",
                                    "PEGuaranteeName": "",
                                    "PEGuaranteeAddress1": "",
                                    "PEGuaranteeAddress2": "",
                                    "PEGuaranteeAddress3": "",
                                    "PEGuaranteeCity": "",
                                    "PEGuaranteeState": "",
                                    "PEGuaranteeZip": "",
                                    "PEGuaranteeCountry": "",
                                    "PEGuaranteeTaxID": "",
                                    "PEGuaranteePhoneNum": "",
                                    "PEBOEStatus": "",
                                    "PEBOEIsMultiGen": "0",
                                    "PERefDocID": "",
                                    "PEReasonCode": "",
                                    "PEReasonDesc": "",
                                    "TWGUIRegNumSeller": "",
                                    "TWGUIRegNumBuyer": "",
                                    "TWGUIExportDocumentName": "",
                                    "TWGUIExportRemarks": "",
                                    "TWGUIExportVerification": "",
                                    "PEDebitNoteReasonCode": "",
                                    "PEDebitNote": "0",
                                    "MXPartPmt": "0",
                                    "CNTaxInvoiceType": "0",
                                    "MXExportOperationType": "",
                                    "MXExportCustDocCode": "",
                                    "MXExportCertOriginNum": "",
                                    "MXExportConfNum": "",
                                    "MXExportCertOrigin": "0",
                                    "MXIncoterm": "",
                                    "AGDocConcept": "1",
                                    "EInvRefNum": "",
                                    "ExportDocRefNum": "",
                                    "ExportDocDate": "NULL",
                                    "INTaxTransactionID": "",
                                    "MXMovingReasonFlag": "0",
                                    "MXMovingReason": "",
                                    "MXNumRegIdTrib": "",
                                    "MXResidenCountryNum": "0",
                                    "MXInvoiceRelationType": "",
                                    "MXPurchaseType": "",
                                    "MXConfirmationCode": "",
                                    "MXExternalCode": "",
                                    "ServiceInvoice": "0",
                                    "MXDomesticTransfer": "0",
                                    "MXCancellationMode": "",
                                    "INShippingPortCode": "",
                                    "INExportProcedure": "",
                                    "CreatedOn": "2021-01-13 13:21:52.773",
                                    "DigitalSignature": "",
                                    "SignedOn": "NULL",
                                    "SignedBy": "",
                                    "FirstPrintDate": "NULL",
                                    "DocCopyNum": "0",
                                    "DepositBalance": "0.000",
                                    "DocDepositBalance": "0.000",
                                    "Rpt1DepositBalance": "0.000",
                                    "Rpt2DepositBalance": "0.000",
                                    "Rpt3DepositBalance": "0.000",
                                    "QuoteNum": "0",
                                    "HDCaseNum": "0",
                                    "CreditOverride": "0",
                                    "CreditOverrideDate": "NULL",
                                    "CreditOverrideUserID": "",
                                    "CreditHold": "0",
                                    "PEXMLType": "0",
                                    "COCreditMemoReasonCode": "",
                                    "CODebitMemoReasonCode": "",
                                    "COReasonDesc": "",
                                    "CODebitNote": "0",
                                    "PEDetractionTranNum": "0",
                                    "PEProductCode": "",
                                    "PECollectionGroupID": "",
                                    "PECaptionCode": "",
                                    "PECaption": "",
                                    "PERefDocumentType": "",
                                    "PERefDocumentNumber": "",
                                    "PEDetrGoodServiceCode": "",
                                    "PERefDocumentType2": "",
                                    "PERefDocumentType3": "",
                                    "PERefDocumentType4": "",
                                    "PERefDocumentType5": "",
                                    "PERefDocumentNumber2": "",
                                    "PERefDocumentNumber3": "",
                                    "PERefDocumentNumber4": "",
                                    "PERefDocumentNumber5": "",
                                    "ELIEInvoice": "0",
                                    "ELIEInvStatus": "0",
                                    "ELIEInvUpdatedBy": "",
                                    "ELIEInvException": "",
                                    "ELIEInvUpdatedOn": "NULL",
                                    "COOperType": "",
                                    "CentralCollection": "0",
                                    "CColChildCompany": "",
                                    "CColParentCompany": "",
                                    "CColOrderNum": "0",
                                    "CColChildInvoiceNum": "0",
                                    "CColInvoiceNum": "0",
                                    "CColChildLegalNumber": "",
                                    "CColLegalNumber": "",
                                    "CColInvoiceRef": "0",
                                    "CColInvBal": "0.000",
                                    "DocCColInvBal": "0.000",
                                    "CColInvAmt": "0.000",
                                    "DocCColInvAmt": "0.000",
                                    "Rpt1CColInvBal": "0.000",
                                    "Rpt2CColInvBal": "0.000",
                                    "Rpt3CColInvBal": "0.000",
                                    "Rpt1CColInvAmt": "0.000",
                                    "Rpt2CColInvAmt": "0.000",
                                    "Rpt3CColInvAmt": "0.000",
                                    "NettingID": "0",
                                    "ELIEInvTerminalName": "",
                                    "ELIEInvTerminalIP": "",
                                    "Description": "",
                                    "WithholdAcctToInterim": "0",
                                    "CColOpenInvoice": "0",
                                    "AGQRCodeData": "",
                                    "ExemptReasonCode": "",
                                    "ELIEInvID": ""
                                }
                            ]
                        },
                        "text/html": [
                            "<table>",
                            "<tr><th>Company</th><th>OpenInvoice</th><th>ClosedDate</th><th>CreditMemo</th><th>UnappliedCash</th><th>CheckRef</th><th>InvoiceSuffix</th><th>GroupID</th><th>Posted</th><th>InvoiceNum</th><th>InvoiceType</th><th>DeferredRevenue</th><th>OrderNum</th><th>CustNum</th><th>PONum</th><th>EntryPerson</th><th>FOB</th><th>TermsCode</th><th>InvoiceDate</th><th>DueDate</th><th>FiscalYear</th><th>FiscalPeriod</th><th>GLPosted</th><th>InvoiceComment</th><th>InvoiceAmt</th><th>DocInvoiceAmt</th><th>InvoiceBal</th><th>DocInvoiceBal</th><th>UnpostedBal</th><th>DocUnpostedBal</th><th>DepositCredit</th><th>DocDepositCredit</th><th>SalesRepList</th><th>InvoiceRef</th><th>RefCancelled</th><th>RefCancelledBy</th><th>StartUp</th><th>PayDates</th><th>PayAmounts</th><th>DocPayAmounts</th><th>PayDiscDate</th><th>PayDiscAmt</th><th>DocPayDiscAmt</th><th>BillConNum</th><th>InvoiceHeld</th><th>CurrencyCode</th><th>ExchangeRate</th><th>LockRate</th><th>JournalNum</th><th>JournalCode</th><th>LineType</th><th>RMANum</th><th>Plant</th><th>CardMemberName</th><th>CardNumber</th><th>CardType</th><th>ExpirationMonth</th><th>ExpirationYear</th><th>CardID</th><th>CardmemberReference</th><th>LegalNumber</th><th>ExternalID</th><th>XRefInvoiceNum</th><th>DepGainLoss</th><th>DNComments</th><th>DNCustNbr</th><th>DebitNote</th><th>SoldToCustNum</th><th>Consolidated</th><th>BillToInvoiceAddress</th><th>SoldToInvoiceAddress</th><th>ProcessCard</th><th>RepComm1</th><th>RepComm2</th><th>RepComm3</th><th>RepComm4</th><th>RepComm5</th><th>RepRate1</th><th>RepRate2</th><th>RepRate3</th><th>RepRate4</th><th>RepRate5</th><th>RepSales1</th><th>RepSales2</th><th>RepSales3</th><th>RepSales4</th><th>RepSales5</th><th>RepSplit1</th><th>RepSplit2</th><th>RepSplit3</th><th>RepSplit4</th><th>RepSplit5</th><th>CMType</th><th>CCStreetAddr</th><th>CCZip</th><th>ChangedBy</th><th>ChangeDate</th><th>ChangeTime</th><th>ReadyToCalc</th><th>AutoPrintReady</th><th>EDIReady</th><th>RecalcBeforePost</th><th>Rounding</th><th>DocRounding</th><th>Rpt1DepositCredit</th><th>Rpt2DepositCredit</th><th>Rpt3DepositCredit</th><th>Rpt1InvoiceAmt</th><th>Rpt2InvoiceAmt</th><th>Rpt3InvoiceAmt</th><th>Rpt1InvoiceBal</th><th>Rpt2InvoiceBal</th><th>Rpt3InvoiceBal</th><th>Rpt1PayAmounts</th><th>Rpt2PayAmounts</th><th>Rpt3PayAmounts</th><th>Rpt1PayDiscAmt</th><th>Rpt2PayDiscAmt</th><th>Rpt3PayDiscAmt</th><th>Rpt1Rounding</th><th>Rpt2Rounding</th><th>Rpt3Rounding</th><th>Rpt1UnpostedBal</th><th>Rpt2UnpostedBal</th><th>Rpt3UnpostedBal</th><th>RateGrpCode</th><th>DocDepApplied</th><th>Rpt1DepGainLoss</th><th>Rpt2DepGainLoss</th><th>Rpt3DepGainLoss</th><th>ApplyDate</th><th>FiscalYearSuffix</th><th>FiscalCalendarID</th><th>TaxPoint</th><th>TaxRateDate</th><th>TaxRegionCode</th><th>LastChrgCalcDate</th><th>TranDocTypeID</th><th>TotFinChrg</th><th>DocumentPrinted</th><th>PayDiscDays</th><th>PayDiscPer</th><th>BlockedFinChrg</th><th>BlockedFinChrgReason</th><th>WithholdAmt</th><th>DocWithholdAmt</th><th>Rpt1WithholdAmt</th><th>Rpt2WithholdAmt</th><th>Rpt3WithholdAmt</th><th>BlockedRemLetters</th><th>PayDiscPartPay</th><th>BlockedRemLettersReason</th><th>ShipDate</th><th>CurrRateDate</th><th>PIPayment</th><th>PMUID</th><th>UseAltBillTo</th><th>InPrice</th><th>CorrectionInv</th><th>TaxRateGrpCode</th><th>LockTaxRate</th><th>SEBankRef</th><th>GUITaxTypeCode</th><th>GUIFormatCode</th><th>GUIDeductCode</th><th>ReversalDocAmount</th><th>OrigDueDate</th><th>HeadNum</th><th>ARLOCID</th><th>ContractRef</th><th>OurBank</th><th>ContractDate</th><th>PBProjectID</th><th>DepositAmt</th><th>GUIExportBillNumber</th><th>DocDepositAmt</th><th>GUIDateOfExport</th><th>Rpt1DepositAmt</th><th>GUIExportType</th><th>Rpt2DepositAmt</th><th>GUIExportMark</th><th>Rpt3DepositAmt</th><th>GUIExportBillType</th><th>DepUnallocatedAmt</th><th>SummarizationDate</th><th>DocDepUnallocatedAmt</th><th>BillingDate</th><th>Rpt1DepUnallocatedAmt</th><th>BillingNumber</th><th>Rpt2DepUnallocatedAmt</th><th>ReadyToBill</th><th>Rpt3DepUnallocatedAmt</th><th>OvrDefTaxDate</th><th>XRefContractNum</th><th>XRefContractDate</th><th>MainSite</th><th>SiteCode</th><th>BranchID</th><th>CustAgentName</th><th>CustAgentTaxRegNo</th><th>ExportType</th><th>ExportReportNo</th><th>RealEstateNo</th><th>Excluded</th><th>Deferred</th><th>CycleCode</th><th>Duration</th><th>EndDate</th><th>MaxValueAmt</th><th>DocMaxValueAmt</th><th>Rpt1MaxValueAmt</th><th>Rpt2MaxValueAmt</th><th>Rpt3MaxValueAmt</th><th>HoldInvoice</th><th>CopyLatestInvoice</th><th>OverrideEndDate</th><th>CycleInactive</th><th>RecurSource</th><th>InstanceNum</th><th>RecurBalance</th><th>DocRecurBalance</th><th>Rpt1RecurBalance</th><th>Rpt2RecurBalance</th><th>Rpt3RecurBalance</th><th>LastDate</th><th>RecurringState</th><th>IsRecurring</th><th>InvoiceNumList</th><th>IsAddedToGTI</th><th>SysRevID</th><th>SysRowID</th><th>CHISRCodeLine</th><th>CMReason</th><th>THIsImmatAdjustment</th><th>AGAuthorizationCode</th><th>AGAuthorizationDate</th><th>AGUseGoodDefaultMark</th><th>AGDocumentLetter</th><th>AGInvoicingPoint</th><th>AGLegalNumber</th><th>AGPrintingControlType</th><th>RevisionDate</th><th>RevisionNum</th><th>TWDeclareYear</th><th>TWDeclarePeriod</th><th>TWGenerationType</th><th>TWGUIGroup</th><th>TWPeriodPrefix</th><th>InvInCollections</th><th>CollectionsCust</th><th>CounterARForm</th><th>PostedRecog</th><th>CNConfirmDate</th><th>MXSATSeal</th><th>MXSerie</th><th>MXTaxRcptType</th><th>MXFiscalFolio</th><th>MXTotalPayments</th><th>MXFolio</th><th>MXCertifiedTimestamp</th><th>MXSATCertificateSN</th><th>MXDigitalSeal</th><th>MXPostedTimeStamp</th><th>MXCertificate</th><th>MXApprovalYear</th><th>MXCBB</th><th>MXApprovalNum</th><th>MXOriginalStringTFD</th><th>MXPaymentNum</th><th>MXPaidAs</th><th>MXCertificateSN</th><th>MXOriginalAmount</th><th>MXAccountNumber</th><th>MXOriginalDate</th><th>MXOriginalSeries</th><th>MXOriginalFolio</th><th>MXTaxRegime</th><th>MXOriginalString</th><th>MXPaymentName</th><th>EInvoice</th><th>EInvStatus</th><th>EInvTimestamp</th><th>EInvUpdatedBy</th><th>EInvException</th><th>WithTaxConfirm</th><th>UseAltBillToID</th><th>MXCancelledDate</th><th>Overpaid</th><th>OrdExchangeRate</th><th>PEAPPayNum</th><th>PEBankNumber</th><th>PECharges</th><th>PECommissions</th><th>PEDetTaxAmt</th><th>PEDetTaxCurrencyCode</th><th>PEDischargeAmt</th><th>PEDischargeDate</th><th>PEInterest</th><th>PENoPayPenalty</th><th>PESUNATDepAmt</th><th>PESUNATDepDate</th><th>PESUNATDepNum</th><th>PEBOEPosted</th><th>DocPEInterest</th><th>DocPECommissions</th><th>DocPECharges</th><th>DocPENoPayPenalty</th><th>DocPEDischargeAmt</th><th>DocPEDetTaxAmt</th><th>Rpt1PEInterest</th><th>Rpt1PECommissions</th><th>Rpt1PECharges</th><th>Rpt1PENoPayPenalty</th><th>Rpt1PEDischargeAmt</th><th>Rpt2PEInterest</th><th>Rpt2PECommissions</th><th>Rpt2PECharges</th><th>Rpt2PENoPayPenalty</th><th>Rpt2PEDischargeAmt</th><th>Rpt3PEInterest</th><th>Rpt3PECommissions</th><th>Rpt3PECharges</th><th>Rpt3PENoPayPenalty</th><th>Rpt3PEDischargeAmt</th><th>OurSupplierCode</th><th>PEGuaranteeName</th><th>PEGuaranteeAddress1</th><th>PEGuaranteeAddress2</th><th>PEGuaranteeAddress3</th><th>PEGuaranteeCity</th><th>PEGuaranteeState</th><th>PEGuaranteeZip</th><th>PEGuaranteeCountry</th><th>PEGuaranteeTaxID</th><th>PEGuaranteePhoneNum</th><th>PEBOEStatus</th><th>PEBOEIsMultiGen</th><th>PERefDocID</th><th>PEReasonCode</th><th>PEReasonDesc</th><th>TWGUIRegNumSeller</th><th>TWGUIRegNumBuyer</th><th>TWGUIExportDocumentName</th><th>TWGUIExportRemarks</th><th>TWGUIExportVerification</th><th>PEDebitNoteReasonCode</th><th>PEDebitNote</th><th>MXPartPmt</th><th>CNTaxInvoiceType</th><th>MXExportOperationType</th><th>MXExportCustDocCode</th><th>MXExportCertOriginNum</th><th>MXExportConfNum</th><th>MXExportCertOrigin</th><th>MXIncoterm</th><th>AGDocConcept</th><th>EInvRefNum</th><th>ExportDocRefNum</th><th>ExportDocDate</th><th>INTaxTransactionID</th><th>MXMovingReasonFlag</th><th>MXMovingReason</th><th>MXNumRegIdTrib</th><th>MXResidenCountryNum</th><th>MXInvoiceRelationType</th><th>MXPurchaseType</th><th>MXConfirmationCode</th><th>MXExternalCode</th><th>ServiceInvoice</th><th>MXDomesticTransfer</th><th>MXCancellationMode</th><th>INShippingPortCode</th><th>INExportProcedure</th><th>CreatedOn</th><th>DigitalSignature</th><th>SignedOn</th><th>SignedBy</th><th>FirstPrintDate</th><th>DocCopyNum</th><th>DepositBalance</th><th>DocDepositBalance</th><th>Rpt1DepositBalance</th><th>Rpt2DepositBalance</th><th>Rpt3DepositBalance</th><th>QuoteNum</th><th>HDCaseNum</th><th>CreditOverride</th><th>CreditOverrideDate</th><th>CreditOverrideUserID</th><th>CreditHold</th><th>PEXMLType</th><th>COCreditMemoReasonCode</th><th>CODebitMemoReasonCode</th><th>COReasonDesc</th><th>CODebitNote</th><th>PEDetractionTranNum</th><th>PEProductCode</th><th>PECollectionGroupID</th><th>PECaptionCode</th><th>PECaption</th><th>PERefDocumentType</th><th>PERefDocumentNumber</th><th>PEDetrGoodServiceCode</th><th>PERefDocumentType2</th><th>PERefDocumentType3</th><th>PERefDocumentType4</th><th>PERefDocumentType5</th><th>PERefDocumentNumber2</th><th>PERefDocumentNumber3</th><th>PERefDocumentNumber4</th><th>PERefDocumentNumber5</th><th>ELIEInvoice</th><th>ELIEInvStatus</th><th>ELIEInvUpdatedBy</th><th>ELIEInvException</th><th>ELIEInvUpdatedOn</th><th>COOperType</th><th>CentralCollection</th><th>CColChildCompany</th><th>CColParentCompany</th><th>CColOrderNum</th><th>CColChildInvoiceNum</th><th>CColInvoiceNum</th><th>CColChildLegalNumber</th><th>CColLegalNumber</th><th>CColInvoiceRef</th><th>CColInvBal</th><th>DocCColInvBal</th><th>CColInvAmt</th><th>DocCColInvAmt</th><th>Rpt1CColInvBal</th><th>Rpt2CColInvBal</th><th>Rpt3CColInvBal</th><th>Rpt1CColInvAmt</th><th>Rpt2CColInvAmt</th><th>Rpt3CColInvAmt</th><th>NettingID</th><th>ELIEInvTerminalName</th><th>ELIEInvTerminalIP</th><th>Description</th><th>WithholdAcctToInterim</th><th>CColOpenInvoice</th><th>AGQRCodeData</th><th>ExemptReasonCode</th><th>ELIEInvID</th></tr>",
                            "<tr><td>TES</td><td>0</td><td>2021-01-20</td><td>0</td><td>0</td><td></td><td></td><td>111820kc</td><td>1</td><td>17031</td><td>SHP</td><td>0</td><td>5005007</td><td>606</td><td>111120TM2</td><td>KCollard</td><td></td><td>NT30</td><td>2020-11-18</td><td>2020-12-18</td><td>2020</td><td>11</td><td>0</td><td></td><td>1401.380</td><td>1051.050</td><td>0.000</td><td>0.000</td><td>0.000</td><td>0.000</td><td>0.000</td><td>0.000</td><td></td><td>17031</td><td>0</td><td>0</td><td>0</td><td></td><td></td><td></td><td>NULL</td><td>0.000</td><td>0.000</td><td>0</td><td>0</td><td>USD</td><td>1.3333170000</td><td>1</td><td>0</td><td>SJ</td><td>PART</td><td>0</td><td>MfgSys</td><td></td><td></td><td></td><td>0</td><td>0</td><td></td><td></td><td>17031</td><td></td><td></td><td>0.000</td><td></td><td></td><td>0</td><td>606</td><td>0</td><td>0</td><td>1</td><td></td><td>0.000</td><td>0.000</td><td>0.000</td><td>0.000</td><td>0.000</td><td>0.00</td><td>0.00</td><td>0.00</td><td>0.00</td><td>0.00</td><td>0.000</td><td>0.000</td><td>0.000</td><td>0.000</td><td>0.000</td><td>0</td><td>0</td><td>0</td><td>0</td><td>0</td><td></td><td></td><td></td><td>KCollard</td><td>2021-01-21</td><td>39075</td><td>1</td><td>0</td><td>0</td><td>0</td><td>0.000</td><td>0.000</td><td>0.000</td><td>0.000</td><td>0.000</td><td>1051.050</td><td>0.000</td><td>0.000</td><td>0.000</td><td>0.000</td><td>0.000</td><td></td><td></td><td></td><td>0.000</td><td>0.000</td><td>0.000</td><td>0.000</td><td>0.000</td><td>0.000</td><td>0.000</td><td>0.000</td><td>0.000</td><td>MTHEND</td><td>0.000</td><td>0.000</td><td>0.000</td><td>0.000</td><td>2020-11-18</td><td></td><td>TESCAL</td><td>2020-11-13</td><td>2020-11-13</td><td></td><td>NULL</td><td></td><td>0.000</td><td>1</td><td></td><td></td><td>0</td><td></td><td>0.000</td><td>0.000</td><td>0.000</td><td>0.000</td><td>0.000</td><td>0</td><td>0</td><td></td><td>2020-11-13</td><td>2020-11-18</td><td></td><td>0</td><td>0</td><td>0</td><td>0</td><td></td><td>0</td><td></td><td></td><td></td><td></td><td>0.00</td><td>NULL</td><td>0</td><td></td><td></td><td>1080</td><td>NULL</td><td></td><td>0.000</td><td></td><td>0.000</td><td>NULL</td><td>0.000</td><td></td><td>0.000</td><td></td><td>0.000</td><td></td><td>0.000</td><td>NULL</td><td>0.000</td><td>NULL</td><td>0.000</td><td></td><td>0.000</td><td>0</td><td>0.000</td><td>0</td><td></td><td>NULL</td><td>0</td><td></td><td></td><td></td><td></td><td></td><td></td><td></td><td>0</td><td>0</td><td></td><td>0</td><td>NULL</td><td>0.000</td><td>0.000</td><td>0.000</td><td>0.000</td><td>0.000</td><td>0</td><td>0</td><td>0</td><td>0</td><td>0</td><td>0</td><td>0.000</td><td>0.000</td><td>0.000</td><td>0.000</td><td>0.000</td><td>NULL</td><td></td><td>0</td><td></td><td>0</td><td>0x000000018F125806</td><td>0c8dd975-e9a9-4bd1-bd89-27f0ce206b37</td><td></td><td></td><td>0</td><td></td><td>NULL</td><td>0</td><td></td><td></td><td></td><td></td><td>NULL</td><td>0</td><td>0</td><td>0</td><td></td><td></td><td></td><td>0</td><td>0</td><td>0</td><td>0</td><td>NULL</td><td></td><td></td><td></td><td></td><td>0</td><td></td><td></td><td></td><td></td><td></td><td></td><td>0</td><td></td><td>0</td><td></td><td>0</td><td></td><td></td><td>0.000</td><td></td><td>NULL</td><td></td><td></td><td></td><td></td><td></td><td>0</td><td>0</td><td></td><td></td><td></td><td>0</td><td>0</td><td>NULL</td><td>0</td><td>0.0000000000</td><td>0</td><td></td><td>0.000</td><td>0.000</td><td>0.000</td><td></td><td>0.000</td><td>NULL</td><td>0.000</td><td>0.000</td><td>0.000</td><td>NULL</td><td></td><td>0</td><td>0.000</td><td>0.000</td><td>0.000</td><td>0.000</td><td>0.000</td><td>0.000</td><td>0.000</td><td>0.000</td><td>0.000</td><td>0.000</td><td>0.000</td><td>0.000</td><td>0.000</td><td>0.000</td><td>0.000</td><td>0.000</td><td>0.000</td><td>0.000</td><td>0.000</td><td>0.000</td><td>0.000</td><td></td><td></td><td></td><td></td><td></td><td></td><td></td><td></td><td></td><td></td><td></td><td></td><td>0</td><td></td><td></td><td></td><td></td><td></td><td></td><td></td><td></td><td></td><td>0</td><td>0</td><td>0</td><td></td><td></td><td></td><td></td><td>0</td><td></td><td>1</td><td></td><td></td><td>NULL</td><td></td><td>0</td><td></td><td></td><td>0</td><td></td><td></td><td></td><td></td><td>0</td><td>0</td><td></td><td></td><td></td><td>2020-11-18 13:22:57.257</td><td></td><td>NULL</td><td></td><td>NULL</td><td>0</td><td>0.000</td><td>0.000</td><td>0.000</td><td>0.000</td><td>0.000</td><td>0</td><td>0</td><td>0</td><td>NULL</td><td></td><td>0</td><td>0</td><td></td><td></td><td></td><td>0</td><td>0</td><td></td><td></td><td></td><td></td><td></td><td></td><td></td><td></td><td></td><td></td><td></td><td></td><td></td><td></td><td></td><td>0</td><td>0</td><td></td><td></td><td>NULL</td><td></td><td>0</td><td></td><td></td><td>0</td><td>0</td><td>0</td><td></td><td></td><td>0</td><td>0.000</td><td>0.000</td><td>0.000</td><td>0.000</td><td>0.000</td><td>0.000</td><td>0.000</td><td>0.000</td><td>0.000</td><td>0.000</td><td>0</td><td></td><td></td><td></td><td>0</td><td>0</td><td></td><td></td><td></td></tr>",
                            "<tr><td>TES</td><td>0</td><td>2021-03-01</td><td>0</td><td>0</td><td></td><td></td><td>011221kc</td><td>1</td><td>17087</td><td>SHP</td><td>0</td><td>5005007</td><td>606</td><td>111120TM2</td><td>KCollard</td><td></td><td>NT30</td><td>2021-01-12</td><td>2021-02-11</td><td>2021</td><td>1</td><td>0</td><td></td><td>403.680</td><td>302.760</td><td>0.000</td><td>0.000</td><td>0.000</td><td>0.000</td><td>0.000</td><td>0.000</td><td></td><td>17087</td><td>0</td><td>0</td><td>0</td><td></td><td></td><td></td><td>NULL</td><td>0.000</td><td>0.000</td><td>0</td><td>0</td><td>USD</td><td>1.3333170000</td><td>1</td><td>0</td><td>SJ</td><td>PART</td><td>0</td><td>MfgSys</td><td></td><td></td><td></td><td>0</td><td>0</td><td></td><td></td><td>17087</td><td></td><td></td><td>0.000</td><td></td><td></td><td>0</td><td>606</td><td>0</td><td>0</td><td>1</td><td></td><td>0.000</td><td>0.000</td><td>0.000</td><td>0.000</td><td>0.000</td><td>0.00</td><td>0.00</td><td>0.00</td><td>0.00</td><td>0.00</td><td>0.000</td><td>0.000</td><td>0.000</td><td>0.000</td><td>0.000</td><td>0</td><td>0</td><td>0</td><td>0</td><td>0</td><td></td><td></td><td></td><td>KCollard</td><td>2021-03-01</td><td>49691</td><td>1</td><td>0</td><td>0</td><td>0</td><td>0.000</td><td>0.000</td><td>0.000</td><td>0.000</td><td>0.000</td><td>302.760</td><td>0.000</td><td>0.000</td><td>0.000</td><td>0.000</td><td>0.000</td><td></td><td></td><td></td><td>0.000</td><td>0.000</td><td>0.000</td><td>0.000</td><td>0.000</td><td>0.000</td><td>0.000</td><td>0.000</td><td>0.000</td><td>MTHEND</td><td>0.000</td><td>0.000</td><td>0.000</td><td>0.000</td><td>2021-01-12</td><td></td><td>TESCAL</td><td>2021-01-12</td><td>2021-01-12</td><td></td><td>NULL</td><td></td><td>0.000</td><td>1</td><td></td><td></td><td>0</td><td></td><td>0.000</td><td>0.000</td><td>0.000</td><td>0.000</td><td>0.000</td><td>0</td><td>0</td><td></td><td>2021-01-12</td><td>2021-01-12</td><td></td><td>0</td><td>0</td><td>0</td><td>0</td><td></td><td>0</td><td></td><td></td><td></td><td></td><td>0.00</td><td>NULL</td><td>0</td><td></td><td></td><td>1080</td><td>NULL</td><td></td><td>0.000</td><td></td><td>0.000</td><td>NULL</td><td>0.000</td><td></td><td>0.000</td><td></td><td>0.000</td><td></td><td>0.000</td><td>NULL</td><td>0.000</td><td>NULL</td><td>0.000</td><td></td><td>0.000</td><td>0</td><td>0.000</td><td>0</td><td></td><td>NULL</td><td>0</td><td></td><td></td><td></td><td></td><td></td><td></td><td></td><td>0</td><td>0</td><td></td><td>0</td><td>NULL</td><td>0.000</td><td>0.000</td><td>0.000</td><td>0.000</td><td>0.000</td><td>0</td><td>0</td><td>0</td><td>0</td><td>0</td><td>0</td><td>0.000</td><td>0.000</td><td>0.000</td><td>0.000</td><td>0.000</td><td>NULL</td><td></td><td>0</td><td></td><td>0</td><td>0x00000001A06EE12E</td><td>c8c6c9b8-67e2-47b3-b350-6cdb4753dfb8</td><td></td><td></td><td>0</td><td></td><td>NULL</td><td>0</td><td></td><td></td><td></td><td></td><td>NULL</td><td>0</td><td>0</td><td>0</td><td></td><td></td><td></td><td>0</td><td>0</td><td>0</td><td>0</td><td>NULL</td><td></td><td></td><td></td><td></td><td>0</td><td></td><td></td><td></td><td></td><td></td><td></td><td>0</td><td></td><td>0</td><td></td><td>0</td><td></td><td></td><td>0.000</td><td></td><td>NULL</td><td></td><td></td><td></td><td></td><td></td><td>0</td><td>0</td><td></td><td></td><td></td><td>0</td><td>0</td><td>NULL</td><td>0</td><td>0.0000000000</td><td>0</td><td></td><td>0.000</td><td>0.000</td><td>0.000</td><td></td><td>0.000</td><td>NULL</td><td>0.000</td><td>0.000</td><td>0.000</td><td>NULL</td><td></td><td>0</td><td>0.000</td><td>0.000</td><td>0.000</td><td>0.000</td><td>0.000</td><td>0.000</td><td>0.000</td><td>0.000</td><td>0.000</td><td>0.000</td><td>0.000</td><td>0.000</td><td>0.000</td><td>0.000</td><td>0.000</td><td>0.000</td><td>0.000</td><td>0.000</td><td>0.000</td><td>0.000</td><td>0.000</td><td></td><td></td><td></td><td></td><td></td><td></td><td></td><td></td><td></td><td></td><td></td><td></td><td>0</td><td></td><td></td><td></td><td></td><td></td><td></td><td></td><td></td><td></td><td>0</td><td>0</td><td>0</td><td></td><td></td><td></td><td></td><td>0</td><td></td><td>1</td><td></td><td></td><td>NULL</td><td></td><td>0</td><td></td><td></td><td>0</td><td></td><td></td><td></td><td></td><td>0</td><td>0</td><td></td><td></td><td></td><td>2021-01-13 13:21:52.773</td><td></td><td>NULL</td><td></td><td>NULL</td><td>0</td><td>0.000</td><td>0.000</td><td>0.000</td><td>0.000</td><td>0.000</td><td>0</td><td>0</td><td>0</td><td>NULL</td><td></td><td>0</td><td>0</td><td></td><td></td><td></td><td>0</td><td>0</td><td></td><td></td><td></td><td></td><td></td><td></td><td></td><td></td><td></td><td></td><td></td><td></td><td></td><td></td><td></td><td>0</td><td>0</td><td></td><td></td><td>NULL</td><td></td><td>0</td><td></td><td></td><td>0</td><td>0</td><td>0</td><td></td><td></td><td>0</td><td>0.000</td><td>0.000</td><td>0.000</td><td>0.000</td><td>0.000</td><td>0.000</td><td>0.000</td><td>0.000</td><td>0.000</td><td>0.000</td><td>0</td><td></td><td></td><td></td><td>0</td><td>0</td><td></td><td></td><td></td></tr>",
                            "</table>"
                        ]
                    }
                }
            ],
            "execution_count": 1
        },
        {
            "cell_type": "code",
            "source": [
                "Select Top (10) *\r\n",
                "From erp.InvcMisc\r\n",
                "Where 1=1\r\n",
                "and InvoiceNum = 17671\r\n",
                "and Company = 'TES'"
            ],
            "metadata": {
                "language": "sql",
                "azdata_cell_guid": "f86973a6-107e-4775-8c2d-e7f2207684f5"
            },
            "outputs": [
                {
                    "output_type": "display_data",
                    "data": {
                        "text/html": "(0 rows affected)"
                    },
                    "metadata": {}
                },
                {
                    "output_type": "display_data",
                    "data": {
                        "text/html": "Total execution time: 00:00:00.070"
                    },
                    "metadata": {}
                },
                {
                    "output_type": "execute_result",
                    "execution_count": 1,
                    "data": {
                        "application/vnd.dataresource+json": {
                            "schema": {
                                "fields": [
                                    {
                                        "name": "Company"
                                    },
                                    {
                                        "name": "InvoiceNum"
                                    },
                                    {
                                        "name": "InvoiceLine"
                                    },
                                    {
                                        "name": "SeqNum"
                                    },
                                    {
                                        "name": "MiscCode"
                                    },
                                    {
                                        "name": "Description"
                                    },
                                    {
                                        "name": "MiscAmt"
                                    },
                                    {
                                        "name": "DocMiscAmt"
                                    },
                                    {
                                        "name": "TaxCatID"
                                    },
                                    {
                                        "name": "ChangedBy"
                                    },
                                    {
                                        "name": "ChangeDate"
                                    },
                                    {
                                        "name": "ChangeTime"
                                    },
                                    {
                                        "name": "Rpt1MiscAmt"
                                    },
                                    {
                                        "name": "Rpt2MiscAmt"
                                    },
                                    {
                                        "name": "Rpt3MiscAmt"
                                    },
                                    {
                                        "name": "InMiscAmt"
                                    },
                                    {
                                        "name": "DocInMiscAmt"
                                    },
                                    {
                                        "name": "Rpt1InMiscAmt"
                                    },
                                    {
                                        "name": "Rpt2InMiscAmt"
                                    },
                                    {
                                        "name": "Rpt3InMiscAmt"
                                    },
                                    {
                                        "name": "Percentage"
                                    },
                                    {
                                        "name": "Type"
                                    },
                                    {
                                        "name": "SysRevID"
                                    },
                                    {
                                        "name": "SysRowID"
                                    },
                                    {
                                        "name": "OrgInvcLine"
                                    },
                                    {
                                        "name": "OrgInvcSeq"
                                    },
                                    {
                                        "name": "MXProdServCode"
                                    }
                                ]
                            },
                            "data": []
                        },
                        "text/html": "<table><tr><th>Company</th><th>InvoiceNum</th><th>InvoiceLine</th><th>SeqNum</th><th>MiscCode</th><th>Description</th><th>MiscAmt</th><th>DocMiscAmt</th><th>TaxCatID</th><th>ChangedBy</th><th>ChangeDate</th><th>ChangeTime</th><th>Rpt1MiscAmt</th><th>Rpt2MiscAmt</th><th>Rpt3MiscAmt</th><th>InMiscAmt</th><th>DocInMiscAmt</th><th>Rpt1InMiscAmt</th><th>Rpt2InMiscAmt</th><th>Rpt3InMiscAmt</th><th>Percentage</th><th>Type</th><th>SysRevID</th><th>SysRowID</th><th>OrgInvcLine</th><th>OrgInvcSeq</th><th>MXProdServCode</th></tr></table>"
                    },
                    "metadata": {}
                }
            ],
            "execution_count": 1
        },
        {
            "cell_type": "code",
            "source": [
                "Select Top (100) *\r\n",
                "From Erp.InvcDtl\r\n",
                "Where 1=1\r\n",
                "and InvoiceNum = 17031\r\n",
                "and Company = 'TES'"
            ],
            "metadata": {
                "language": "sql",
                "azdata_cell_guid": "6d0906a9-7e15-4950-b6fd-5d1605eafbd4",
                "tags": []
            },
            "outputs": [
                {
                    "output_type": "display_data",
                    "data": {
                        "text/html": "(1 row affected)"
                    },
                    "metadata": {}
                },
                {
                    "output_type": "display_data",
                    "data": {
                        "text/html": "Total execution time: 00:00:00.169"
                    },
                    "metadata": {}
                },
                {
                    "output_type": "execute_result",
                    "execution_count": 3,
                    "data": {
                        "application/vnd.dataresource+json": {
                            "schema": {
                                "fields": [
                                    {
                                        "name": "Company"
                                    },
                                    {
                                        "name": "InvoiceNum"
                                    },
                                    {
                                        "name": "InvoiceLine"
                                    },
                                    {
                                        "name": "LineType"
                                    },
                                    {
                                        "name": "ContractNum"
                                    },
                                    {
                                        "name": "XPartNum"
                                    },
                                    {
                                        "name": "XRevisionNum"
                                    },
                                    {
                                        "name": "PartNum"
                                    },
                                    {
                                        "name": "LineDesc"
                                    },
                                    {
                                        "name": "IUM"
                                    },
                                    {
                                        "name": "RevisionNum"
                                    },
                                    {
                                        "name": "POLine"
                                    },
                                    {
                                        "name": "TaxExempt"
                                    },
                                    {
                                        "name": "TaxCatID"
                                    },
                                    {
                                        "name": "Commissionable"
                                    },
                                    {
                                        "name": "DiscountPercent"
                                    },
                                    {
                                        "name": "UnitPrice"
                                    },
                                    {
                                        "name": "DocUnitPrice"
                                    },
                                    {
                                        "name": "PricePerCode"
                                    },
                                    {
                                        "name": "OurOrderQty"
                                    },
                                    {
                                        "name": "ExtPrice"
                                    },
                                    {
                                        "name": "DocExtPrice"
                                    },
                                    {
                                        "name": "Discount"
                                    },
                                    {
                                        "name": "DocDiscount"
                                    },
                                    {
                                        "name": "TotalMiscChrg"
                                    },
                                    {
                                        "name": "DocTotalMiscChrg"
                                    },
                                    {
                                        "name": "ProdCode"
                                    },
                                    {
                                        "name": "OurShipQty"
                                    },
                                    {
                                        "name": "PackNum"
                                    },
                                    {
                                        "name": "PackLine"
                                    },
                                    {
                                        "name": "OrderNum"
                                    },
                                    {
                                        "name": "OrderLine"
                                    },
                                    {
                                        "name": "OrderRelNum"
                                    },
                                    {
                                        "name": "ShipToCustNum"
                                    },
                                    {
                                        "name": "ShipToNum"
                                    },
                                    {
                                        "name": "ShipDate"
                                    },
                                    {
                                        "name": "ShipViaCode"
                                    },
                                    {
                                        "name": "AdvanceBillCredit"
                                    },
                                    {
                                        "name": "DocAdvanceBillCredit"
                                    },
                                    {
                                        "name": "CustNum"
                                    },
                                    {
                                        "name": "InvoiceComment"
                                    },
                                    {
                                        "name": "ShpConNum"
                                    },
                                    {
                                        "name": "MtlUnitCost"
                                    },
                                    {
                                        "name": "LbrUnitCost"
                                    },
                                    {
                                        "name": "BurUnitCost"
                                    },
                                    {
                                        "name": "SubUnitCost"
                                    },
                                    {
                                        "name": "MtlBurUnitCost"
                                    },
                                    {
                                        "name": "COSPostingReqd"
                                    },
                                    {
                                        "name": "COSPosted"
                                    },
                                    {
                                        "name": "ContractCode"
                                    },
                                    {
                                        "name": "CallNum"
                                    },
                                    {
                                        "name": "CallCode"
                                    },
                                    {
                                        "name": "RMANum"
                                    },
                                    {
                                        "name": "RMALine"
                                    },
                                    {
                                        "name": "SalesCatID"
                                    },
                                    {
                                        "name": "FiscalYear"
                                    },
                                    {
                                        "name": "FiscalPeriod"
                                    },
                                    {
                                        "name": "JournalCode"
                                    },
                                    {
                                        "name": "JournalNum"
                                    },
                                    {
                                        "name": "SellingOrderQty"
                                    },
                                    {
                                        "name": "SellingShipQty"
                                    },
                                    {
                                        "name": "SalesUM"
                                    },
                                    {
                                        "name": "SellingFactor"
                                    },
                                    {
                                        "name": "ProjectID"
                                    },
                                    {
                                        "name": "MilestoneID"
                                    },
                                    {
                                        "name": "ListPrice"
                                    },
                                    {
                                        "name": "DocListPrice"
                                    },
                                    {
                                        "name": "OrdBasedPrice"
                                    },
                                    {
                                        "name": "DocOrdBasedPrice"
                                    },
                                    {
                                        "name": "AdvGainLoss"
                                    },
                                    {
                                        "name": "SellingFactorDirection"
                                    },
                                    {
                                        "name": "RepRate1"
                                    },
                                    {
                                        "name": "RepRate2"
                                    },
                                    {
                                        "name": "RepRate3"
                                    },
                                    {
                                        "name": "RepRate4"
                                    },
                                    {
                                        "name": "RepRate5"
                                    },
                                    {
                                        "name": "RepSplit1"
                                    },
                                    {
                                        "name": "RepSplit2"
                                    },
                                    {
                                        "name": "RepSplit3"
                                    },
                                    {
                                        "name": "RepSplit4"
                                    },
                                    {
                                        "name": "RepSplit5"
                                    },
                                    {
                                        "name": "BTCustNum"
                                    },
                                    {
                                        "name": "JCMtlUnitCost"
                                    },
                                    {
                                        "name": "JCLbrUnitCost"
                                    },
                                    {
                                        "name": "JCBurUnitCost"
                                    },
                                    {
                                        "name": "JCSubUnitCost"
                                    },
                                    {
                                        "name": "JCMtlBurUnitCost"
                                    },
                                    {
                                        "name": "ChangedBy"
                                    },
                                    {
                                        "name": "ChangeDate"
                                    },
                                    {
                                        "name": "ChangeTime"
                                    },
                                    {
                                        "name": "RevChargeMethod"
                                    },
                                    {
                                        "name": "OverrideReverseCharge"
                                    },
                                    {
                                        "name": "RevChargeApplied"
                                    },
                                    {
                                        "name": "TaxConnectCalc"
                                    },
                                    {
                                        "name": "GetDfltTaxIds"
                                    },
                                    {
                                        "name": "Rpt1AdvanceBillCredit"
                                    },
                                    {
                                        "name": "Rpt2AdvanceBillCredit"
                                    },
                                    {
                                        "name": "Rpt3AdvanceBillCredit"
                                    },
                                    {
                                        "name": "Rpt1Discount"
                                    },
                                    {
                                        "name": "Rpt2Discount"
                                    },
                                    {
                                        "name": "Rpt3Discount"
                                    },
                                    {
                                        "name": "Rpt1ExtPrice"
                                    },
                                    {
                                        "name": "Rpt2ExtPrice"
                                    },
                                    {
                                        "name": "Rpt3ExtPrice"
                                    },
                                    {
                                        "name": "Rpt1ListPrice"
                                    },
                                    {
                                        "name": "Rpt2ListPrice"
                                    },
                                    {
                                        "name": "Rpt3ListPrice"
                                    },
                                    {
                                        "name": "Rpt1OrdBasedPrice"
                                    },
                                    {
                                        "name": "Rpt2OrdBasedPrice"
                                    },
                                    {
                                        "name": "Rpt3OrdBasedPrice"
                                    },
                                    {
                                        "name": "Rpt1TotalMiscChrg"
                                    },
                                    {
                                        "name": "Rpt2TotalMiscChrg"
                                    },
                                    {
                                        "name": "Rpt3TotalMiscChrg"
                                    },
                                    {
                                        "name": "Rpt1UnitPrice"
                                    },
                                    {
                                        "name": "Rpt2UnitPrice"
                                    },
                                    {
                                        "name": "Rpt3UnitPrice"
                                    },
                                    {
                                        "name": "Rpt1AdvGainLoss"
                                    },
                                    {
                                        "name": "Rpt2AdvGainLoss"
                                    },
                                    {
                                        "name": "Rpt3AdvGainLoss"
                                    },
                                    {
                                        "name": "FiscalYearSuffix"
                                    },
                                    {
                                        "name": "FiscalCalendarID"
                                    },
                                    {
                                        "name": "TaxRegionCode"
                                    },
                                    {
                                        "name": "UseOTS"
                                    },
                                    {
                                        "name": "OTSName"
                                    },
                                    {
                                        "name": "OTSAddress1"
                                    },
                                    {
                                        "name": "OTSAddress2"
                                    },
                                    {
                                        "name": "OTSAddress3"
                                    },
                                    {
                                        "name": "OTSCity"
                                    },
                                    {
                                        "name": "OTSState"
                                    },
                                    {
                                        "name": "OTSZIP"
                                    },
                                    {
                                        "name": "OTSResaleID"
                                    },
                                    {
                                        "name": "OTSTaxRegionCode"
                                    },
                                    {
                                        "name": "OTSContact"
                                    },
                                    {
                                        "name": "OTSFaxNum"
                                    },
                                    {
                                        "name": "OTSPhoneNum"
                                    },
                                    {
                                        "name": "OTSCountryNum"
                                    },
                                    {
                                        "name": "Plant"
                                    },
                                    {
                                        "name": "WarehouseCode"
                                    },
                                    {
                                        "name": "CallLine"
                                    },
                                    {
                                        "name": "DropShipPackLine"
                                    },
                                    {
                                        "name": "DropShipPackSlip"
                                    },
                                    {
                                        "name": "FinChargeCode"
                                    },
                                    {
                                        "name": "ABTUID"
                                    },
                                    {
                                        "name": "InUnitPrice"
                                    },
                                    {
                                        "name": "DocInUnitPrice"
                                    },
                                    {
                                        "name": "InExtPrice"
                                    },
                                    {
                                        "name": "DocInExtPrice"
                                    },
                                    {
                                        "name": "InDiscount"
                                    },
                                    {
                                        "name": "DocInDiscount"
                                    },
                                    {
                                        "name": "InTotalMiscChrg"
                                    },
                                    {
                                        "name": "DocInTotalMiscChrg"
                                    },
                                    {
                                        "name": "InListPrice"
                                    },
                                    {
                                        "name": "DocInListPrice"
                                    },
                                    {
                                        "name": "InOrdBasedPrice"
                                    },
                                    {
                                        "name": "DocInOrdBasedPrice"
                                    },
                                    {
                                        "name": "Rpt1InDiscount"
                                    },
                                    {
                                        "name": "Rpt2InDiscount"
                                    },
                                    {
                                        "name": "Rpt3InDiscount"
                                    },
                                    {
                                        "name": "Rpt1InExtPrice"
                                    },
                                    {
                                        "name": "Rpt2InExtPrice"
                                    },
                                    {
                                        "name": "Rpt3InExtPrice"
                                    },
                                    {
                                        "name": "Rpt1InListPrice"
                                    },
                                    {
                                        "name": "Rpt2InListPrice"
                                    },
                                    {
                                        "name": "Rpt3InListPrice"
                                    },
                                    {
                                        "name": "Rpt1InOrdBasedPrice"
                                    },
                                    {
                                        "name": "Rpt2InOrdBasedPrice"
                                    },
                                    {
                                        "name": "Rpt3InOrdBasedPrice"
                                    },
                                    {
                                        "name": "Rpt1InTotalMiscChrg"
                                    },
                                    {
                                        "name": "Rpt2InTotalMiscChrg"
                                    },
                                    {
                                        "name": "Rpt3InTotalMiscChrg"
                                    },
                                    {
                                        "name": "Rpt1InUnitPrice"
                                    },
                                    {
                                        "name": "Rpt2InUnitPrice"
                                    },
                                    {
                                        "name": "Rpt3InUnitPrice"
                                    },
                                    {
                                        "name": "CorrectionDtl"
                                    },
                                    {
                                        "name": "AssetNum"
                                    },
                                    {
                                        "name": "DisposalNum"
                                    },
                                    {
                                        "name": "PBLineType"
                                    },
                                    {
                                        "name": "InvoiceLineRef"
                                    },
                                    {
                                        "name": "InvoiceRef"
                                    },
                                    {
                                        "name": "LotNum"
                                    },
                                    {
                                        "name": "PBInvoiceLine"
                                    },
                                    {
                                        "name": "RAID"
                                    },
                                    {
                                        "name": "RADtlID"
                                    },
                                    {
                                        "name": "DeferredRev"
                                    },
                                    {
                                        "name": "RACode"
                                    },
                                    {
                                        "name": "DefRevStart"
                                    },
                                    {
                                        "name": "ChargeDefRev"
                                    },
                                    {
                                        "name": "RenewalNbr"
                                    },
                                    {
                                        "name": "SysRevID"
                                    },
                                    {
                                        "name": "SysRowID"
                                    },
                                    {
                                        "name": "DefRevPosted"
                                    },
                                    {
                                        "name": "LinkedInvcUnitPrice"
                                    },
                                    {
                                        "name": "DspWithholdAmt"
                                    },
                                    {
                                        "name": "DocDspWithholdAmt"
                                    },
                                    {
                                        "name": "Rpt1DspWithholdAmt"
                                    },
                                    {
                                        "name": "Rpt2DspWithholdAmt"
                                    },
                                    {
                                        "name": "Rpt3DspWithholdAmt"
                                    },
                                    {
                                        "name": "LinkedCurrencyCode"
                                    },
                                    {
                                        "name": "PhaseID"
                                    },
                                    {
                                        "name": "PEBOEHeadNum"
                                    },
                                    {
                                        "name": "MXSellingShipQty"
                                    },
                                    {
                                        "name": "MXUnitPrice"
                                    },
                                    {
                                        "name": "DocMXUnitPrice"
                                    },
                                    {
                                        "name": "Rpt1MXUnitPrice"
                                    },
                                    {
                                        "name": "Rpt2MXUnitPrice"
                                    },
                                    {
                                        "name": "Rpt3MXUnitPrice"
                                    },
                                    {
                                        "name": "CustCostCenter"
                                    },
                                    {
                                        "name": "DEIsServices"
                                    },
                                    {
                                        "name": "DEIsSecurityFinancialDerivative"
                                    },
                                    {
                                        "name": "DEInternationalSecuritiesID"
                                    },
                                    {
                                        "name": "DEIsInvestment"
                                    },
                                    {
                                        "name": "DEPayStatCode"
                                    },
                                    {
                                        "name": "DefRevEndDate"
                                    },
                                    {
                                        "name": "EntityUseCode"
                                    },
                                    {
                                        "name": "Reclassified"
                                    },
                                    {
                                        "name": "PartiallyDefer"
                                    },
                                    {
                                        "name": "DeferredPercent"
                                    },
                                    {
                                        "name": "Reclass"
                                    },
                                    {
                                        "name": "DeferredOnly"
                                    },
                                    {
                                        "name": "ReclassCodeID"
                                    },
                                    {
                                        "name": "ReclassReasonCode"
                                    },
                                    {
                                        "name": "ReclassComments"
                                    },
                                    {
                                        "name": "DeferredRevAmt"
                                    },
                                    {
                                        "name": "DocDeferredRevAmt"
                                    },
                                    {
                                        "name": "Rpt1DeferredRevAmt"
                                    },
                                    {
                                        "name": "Rpt2DeferredRevAmt"
                                    },
                                    {
                                        "name": "Rpt3DeferredRevAmt"
                                    },
                                    {
                                        "name": "ChargeReclass"
                                    },
                                    {
                                        "name": "DEDenomination"
                                    },
                                    {
                                        "name": "DropShipPONum"
                                    },
                                    {
                                        "name": "DocInAdvanceBillCredit"
                                    },
                                    {
                                        "name": "InAdvanceBillCredit"
                                    },
                                    {
                                        "name": "Rpt1InAdvanceBillCredit"
                                    },
                                    {
                                        "name": "Rpt2InAdvanceBillCredit"
                                    },
                                    {
                                        "name": "Rpt3InAdvanceBillCredit"
                                    },
                                    {
                                        "name": "MYIndustryCode"
                                    },
                                    {
                                        "name": "DockingStation"
                                    },
                                    {
                                        "name": "ConsolidateLines"
                                    },
                                    {
                                        "name": "MXCustomsDuty"
                                    },
                                    {
                                        "name": "CommodityCode"
                                    },
                                    {
                                        "name": "MXProdServCode"
                                    },
                                    {
                                        "name": "QuoteNum"
                                    },
                                    {
                                        "name": "QuoteLine"
                                    },
                                    {
                                        "name": "EpicorFSA"
                                    },
                                    {
                                        "name": "MXCustomsUMFrom"
                                    },
                                    {
                                        "name": "PEDetrGoodServiceCode"
                                    },
                                    {
                                        "name": "PETaxExempt"
                                    },
                                    {
                                        "name": "CColOrderNum"
                                    },
                                    {
                                        "name": "CColOrderLine"
                                    },
                                    {
                                        "name": "CColOrderRel"
                                    },
                                    {
                                        "name": "CColInvoiceLineRef"
                                    },
                                    {
                                        "name": "CColPackNum"
                                    },
                                    {
                                        "name": "CColPackLine"
                                    },
                                    {
                                        "name": "CColDropShipPackSlip"
                                    },
                                    {
                                        "name": "CColDropShipPackSlipLine"
                                    },
                                    {
                                        "name": "CColShipToCustID"
                                    },
                                    {
                                        "name": "CColShipToNum"
                                    },
                                    {
                                        "name": "AttributeSetID"
                                    },
                                    {
                                        "name": "AttributeSetDescription"
                                    },
                                    {
                                        "name": "AttributeSetShortDescription"
                                    },
                                    {
                                        "name": "ExemptReasonCode"
                                    }
                                ]
                            },
                            "data": [
                                {
                                    "Company": "TES",
                                    "InvoiceNum": "17031",
                                    "InvoiceLine": "1",
                                    "LineType": "PART",
                                    "ContractNum": "0",
                                    "XPartNum": "",
                                    "XRevisionNum": "",
                                    "PartNum": "VMM40-24F",
                                    "LineDesc": "Centra Mixing Valve Actuator",
                                    "IUM": "EA",
                                    "RevisionNum": "",
                                    "POLine": "",
                                    "TaxExempt": "",
                                    "TaxCatID": "",
                                    "Commissionable": "1",
                                    "DiscountPercent": "0.00",
                                    "UnitPrice": "683.12496",
                                    "DocUnitPrice": "512.35000",
                                    "PricePerCode": "E",
                                    "OurOrderQty": "2.00000000",
                                    "ExtPrice": "1366.250",
                                    "DocExtPrice": "1024.700",
                                    "Discount": "0.000",
                                    "DocDiscount": "0.000",
                                    "TotalMiscChrg": "35.130",
                                    "DocTotalMiscChrg": "26.350",
                                    "ProdCode": "00PM",
                                    "OurShipQty": "2.00000000",
                                    "PackNum": "200020",
                                    "PackLine": "1",
                                    "OrderNum": "5005007",
                                    "OrderLine": "1",
                                    "OrderRelNum": "1",
                                    "ShipToCustNum": "606",
                                    "ShipToNum": "",
                                    "ShipDate": "2020-11-13",
                                    "ShipViaCode": "001",
                                    "AdvanceBillCredit": "0.000",
                                    "DocAdvanceBillCredit": "0.000",
                                    "CustNum": "606",
                                    "InvoiceComment": "",
                                    "ShpConNum": "0",
                                    "MtlUnitCost": "447.40370",
                                    "LbrUnitCost": "0.00000",
                                    "BurUnitCost": "0.00000",
                                    "SubUnitCost": "0.00000",
                                    "MtlBurUnitCost": "0.00000",
                                    "COSPostingReqd": "0",
                                    "COSPosted": "0",
                                    "ContractCode": "",
                                    "CallNum": "0",
                                    "CallCode": "",
                                    "RMANum": "0",
                                    "RMALine": "0",
                                    "SalesCatID": "P&M",
                                    "FiscalYear": "0",
                                    "FiscalPeriod": "0",
                                    "JournalCode": "",
                                    "JournalNum": "0",
                                    "SellingOrderQty": "2.00000000",
                                    "SellingShipQty": "2.00000000",
                                    "SalesUM": "EA",
                                    "SellingFactor": "1.00000000",
                                    "ProjectID": "",
                                    "MilestoneID": "",
                                    "ListPrice": "683.12496",
                                    "DocListPrice": "512.35000",
                                    "OrdBasedPrice": "683.12496",
                                    "DocOrdBasedPrice": "512.35000",
                                    "AdvGainLoss": "0.000",
                                    "SellingFactorDirection": "D",
                                    "RepRate1": "0.00",
                                    "RepRate2": "0.00",
                                    "RepRate3": "0.00",
                                    "RepRate4": "0.00",
                                    "RepRate5": "0.00",
                                    "RepSplit1": "0",
                                    "RepSplit2": "0",
                                    "RepSplit3": "0",
                                    "RepSplit4": "0",
                                    "RepSplit5": "0",
                                    "BTCustNum": "606",
                                    "JCMtlUnitCost": "0.00000",
                                    "JCLbrUnitCost": "0.00000",
                                    "JCBurUnitCost": "0.00000",
                                    "JCSubUnitCost": "0.00000",
                                    "JCMtlBurUnitCost": "0.00000",
                                    "ChangedBy": "KCollard",
                                    "ChangeDate": "2020-11-18",
                                    "ChangeTime": "48177",
                                    "RevChargeMethod": "",
                                    "OverrideReverseCharge": "0",
                                    "RevChargeApplied": "0",
                                    "TaxConnectCalc": "0",
                                    "GetDfltTaxIds": "1",
                                    "Rpt1AdvanceBillCredit": "0.000",
                                    "Rpt2AdvanceBillCredit": "0.000",
                                    "Rpt3AdvanceBillCredit": "0.000",
                                    "Rpt1Discount": "0.000",
                                    "Rpt2Discount": "0.000",
                                    "Rpt3Discount": "0.000",
                                    "Rpt1ExtPrice": "1024.700",
                                    "Rpt2ExtPrice": "0.000",
                                    "Rpt3ExtPrice": "0.000",
                                    "Rpt1ListPrice": "512.35000",
                                    "Rpt2ListPrice": "0.00000",
                                    "Rpt3ListPrice": "0.00000",
                                    "Rpt1OrdBasedPrice": "512.35000",
                                    "Rpt2OrdBasedPrice": "0.00000",
                                    "Rpt3OrdBasedPrice": "0.00000",
                                    "Rpt1TotalMiscChrg": "26.350",
                                    "Rpt2TotalMiscChrg": "0.000",
                                    "Rpt3TotalMiscChrg": "0.000",
                                    "Rpt1UnitPrice": "512.35000",
                                    "Rpt2UnitPrice": "0.00000",
                                    "Rpt3UnitPrice": "0.00000",
                                    "Rpt1AdvGainLoss": "0.000",
                                    "Rpt2AdvGainLoss": "0.000",
                                    "Rpt3AdvGainLoss": "0.000",
                                    "FiscalYearSuffix": "",
                                    "FiscalCalendarID": "",
                                    "TaxRegionCode": "",
                                    "UseOTS": "0",
                                    "OTSName": "",
                                    "OTSAddress1": "",
                                    "OTSAddress2": "",
                                    "OTSAddress3": "",
                                    "OTSCity": "",
                                    "OTSState": "",
                                    "OTSZIP": "",
                                    "OTSResaleID": "",
                                    "OTSTaxRegionCode": "",
                                    "OTSContact": "",
                                    "OTSFaxNum": "",
                                    "OTSPhoneNum": "",
                                    "OTSCountryNum": "0",
                                    "Plant": "MfgSys",
                                    "WarehouseCode": "STOCK",
                                    "CallLine": "0",
                                    "DropShipPackLine": "0",
                                    "DropShipPackSlip": "",
                                    "FinChargeCode": "",
                                    "ABTUID": "",
                                    "InUnitPrice": "0.00000",
                                    "DocInUnitPrice": "0.00000",
                                    "InExtPrice": "0.000",
                                    "DocInExtPrice": "0.000",
                                    "InDiscount": "0.000",
                                    "DocInDiscount": "0.000",
                                    "InTotalMiscChrg": "0.000",
                                    "DocInTotalMiscChrg": "0.000",
                                    "InListPrice": "0.00000",
                                    "DocInListPrice": "0.00000",
                                    "InOrdBasedPrice": "0.00000",
                                    "DocInOrdBasedPrice": "0.00000",
                                    "Rpt1InDiscount": "0.000",
                                    "Rpt2InDiscount": "0.000",
                                    "Rpt3InDiscount": "0.000",
                                    "Rpt1InExtPrice": "0.000",
                                    "Rpt2InExtPrice": "0.000",
                                    "Rpt3InExtPrice": "0.000",
                                    "Rpt1InListPrice": "0.00000",
                                    "Rpt2InListPrice": "0.00000",
                                    "Rpt3InListPrice": "0.00000",
                                    "Rpt1InOrdBasedPrice": "0.00000",
                                    "Rpt2InOrdBasedPrice": "0.00000",
                                    "Rpt3InOrdBasedPrice": "0.00000",
                                    "Rpt1InTotalMiscChrg": "0.000",
                                    "Rpt2InTotalMiscChrg": "0.000",
                                    "Rpt3InTotalMiscChrg": "0.000",
                                    "Rpt1InUnitPrice": "0.00000",
                                    "Rpt2InUnitPrice": "0.00000",
                                    "Rpt3InUnitPrice": "0.00000",
                                    "CorrectionDtl": "0",
                                    "AssetNum": "",
                                    "DisposalNum": "0",
                                    "PBLineType": "",
                                    "InvoiceLineRef": "0",
                                    "InvoiceRef": "0",
                                    "LotNum": "",
                                    "PBInvoiceLine": "0",
                                    "RAID": "0",
                                    "RADtlID": "0",
                                    "DeferredRev": "0",
                                    "RACode": "",
                                    "DefRevStart": "NULL",
                                    "ChargeDefRev": "0",
                                    "RenewalNbr": "0",
                                    "SysRevID": "0x0000000176B5B605",
                                    "SysRowID": "23805f7f-a3bc-4111-ac30-94de36f9c934",
                                    "DefRevPosted": "0",
                                    "LinkedInvcUnitPrice": "0.00000",
                                    "DspWithholdAmt": "0.000",
                                    "DocDspWithholdAmt": "0.000",
                                    "Rpt1DspWithholdAmt": "0.000",
                                    "Rpt2DspWithholdAmt": "0.000",
                                    "Rpt3DspWithholdAmt": "0.000",
                                    "LinkedCurrencyCode": "",
                                    "PhaseID": "",
                                    "PEBOEHeadNum": "0",
                                    "MXSellingShipQty": "0.00000000",
                                    "MXUnitPrice": "0.00000",
                                    "DocMXUnitPrice": "0.00000",
                                    "Rpt1MXUnitPrice": "0.00000",
                                    "Rpt2MXUnitPrice": "0.00000",
                                    "Rpt3MXUnitPrice": "0.00000",
                                    "CustCostCenter": "",
                                    "DEIsServices": "0",
                                    "DEIsSecurityFinancialDerivative": "0",
                                    "DEInternationalSecuritiesID": "",
                                    "DEIsInvestment": "0",
                                    "DEPayStatCode": "",
                                    "DefRevEndDate": "NULL",
                                    "EntityUseCode": "",
                                    "Reclassified": "0",
                                    "PartiallyDefer": "0",
                                    "DeferredPercent": "0.00",
                                    "Reclass": "0",
                                    "DeferredOnly": "0",
                                    "ReclassCodeID": "",
                                    "ReclassReasonCode": "",
                                    "ReclassComments": "",
                                    "DeferredRevAmt": "0.000",
                                    "DocDeferredRevAmt": "0.000",
                                    "Rpt1DeferredRevAmt": "0.000",
                                    "Rpt2DeferredRevAmt": "0.000",
                                    "Rpt3DeferredRevAmt": "0.000",
                                    "ChargeReclass": "0",
                                    "DEDenomination": "",
                                    "DropShipPONum": "0",
                                    "DocInAdvanceBillCredit": "0.000",
                                    "InAdvanceBillCredit": "0.000",
                                    "Rpt1InAdvanceBillCredit": "0.000",
                                    "Rpt2InAdvanceBillCredit": "0.000",
                                    "Rpt3InAdvanceBillCredit": "0.000",
                                    "MYIndustryCode": "",
                                    "DockingStation": "",
                                    "ConsolidateLines": "0",
                                    "MXCustomsDuty": "",
                                    "CommodityCode": "",
                                    "MXProdServCode": "",
                                    "QuoteNum": "0",
                                    "QuoteLine": "0",
                                    "EpicorFSA": "0",
                                    "MXCustomsUMFrom": "",
                                    "PEDetrGoodServiceCode": "",
                                    "PETaxExempt": "",
                                    "CColOrderNum": "0",
                                    "CColOrderLine": "0",
                                    "CColOrderRel": "0",
                                    "CColInvoiceLineRef": "0",
                                    "CColPackNum": "0",
                                    "CColPackLine": "0",
                                    "CColDropShipPackSlip": "",
                                    "CColDropShipPackSlipLine": "0",
                                    "CColShipToCustID": "",
                                    "CColShipToNum": "",
                                    "AttributeSetID": "0",
                                    "AttributeSetDescription": "",
                                    "AttributeSetShortDescription": "",
                                    "ExemptReasonCode": ""
                                }
                            ]
                        },
                        "text/html": "<table><tr><th>Company</th><th>InvoiceNum</th><th>InvoiceLine</th><th>LineType</th><th>ContractNum</th><th>XPartNum</th><th>XRevisionNum</th><th>PartNum</th><th>LineDesc</th><th>IUM</th><th>RevisionNum</th><th>POLine</th><th>TaxExempt</th><th>TaxCatID</th><th>Commissionable</th><th>DiscountPercent</th><th>UnitPrice</th><th>DocUnitPrice</th><th>PricePerCode</th><th>OurOrderQty</th><th>ExtPrice</th><th>DocExtPrice</th><th>Discount</th><th>DocDiscount</th><th>TotalMiscChrg</th><th>DocTotalMiscChrg</th><th>ProdCode</th><th>OurShipQty</th><th>PackNum</th><th>PackLine</th><th>OrderNum</th><th>OrderLine</th><th>OrderRelNum</th><th>ShipToCustNum</th><th>ShipToNum</th><th>ShipDate</th><th>ShipViaCode</th><th>AdvanceBillCredit</th><th>DocAdvanceBillCredit</th><th>CustNum</th><th>InvoiceComment</th><th>ShpConNum</th><th>MtlUnitCost</th><th>LbrUnitCost</th><th>BurUnitCost</th><th>SubUnitCost</th><th>MtlBurUnitCost</th><th>COSPostingReqd</th><th>COSPosted</th><th>ContractCode</th><th>CallNum</th><th>CallCode</th><th>RMANum</th><th>RMALine</th><th>SalesCatID</th><th>FiscalYear</th><th>FiscalPeriod</th><th>JournalCode</th><th>JournalNum</th><th>SellingOrderQty</th><th>SellingShipQty</th><th>SalesUM</th><th>SellingFactor</th><th>ProjectID</th><th>MilestoneID</th><th>ListPrice</th><th>DocListPrice</th><th>OrdBasedPrice</th><th>DocOrdBasedPrice</th><th>AdvGainLoss</th><th>SellingFactorDirection</th><th>RepRate1</th><th>RepRate2</th><th>RepRate3</th><th>RepRate4</th><th>RepRate5</th><th>RepSplit1</th><th>RepSplit2</th><th>RepSplit3</th><th>RepSplit4</th><th>RepSplit5</th><th>BTCustNum</th><th>JCMtlUnitCost</th><th>JCLbrUnitCost</th><th>JCBurUnitCost</th><th>JCSubUnitCost</th><th>JCMtlBurUnitCost</th><th>ChangedBy</th><th>ChangeDate</th><th>ChangeTime</th><th>RevChargeMethod</th><th>OverrideReverseCharge</th><th>RevChargeApplied</th><th>TaxConnectCalc</th><th>GetDfltTaxIds</th><th>Rpt1AdvanceBillCredit</th><th>Rpt2AdvanceBillCredit</th><th>Rpt3AdvanceBillCredit</th><th>Rpt1Discount</th><th>Rpt2Discount</th><th>Rpt3Discount</th><th>Rpt1ExtPrice</th><th>Rpt2ExtPrice</th><th>Rpt3ExtPrice</th><th>Rpt1ListPrice</th><th>Rpt2ListPrice</th><th>Rpt3ListPrice</th><th>Rpt1OrdBasedPrice</th><th>Rpt2OrdBasedPrice</th><th>Rpt3OrdBasedPrice</th><th>Rpt1TotalMiscChrg</th><th>Rpt2TotalMiscChrg</th><th>Rpt3TotalMiscChrg</th><th>Rpt1UnitPrice</th><th>Rpt2UnitPrice</th><th>Rpt3UnitPrice</th><th>Rpt1AdvGainLoss</th><th>Rpt2AdvGainLoss</th><th>Rpt3AdvGainLoss</th><th>FiscalYearSuffix</th><th>FiscalCalendarID</th><th>TaxRegionCode</th><th>UseOTS</th><th>OTSName</th><th>OTSAddress1</th><th>OTSAddress2</th><th>OTSAddress3</th><th>OTSCity</th><th>OTSState</th><th>OTSZIP</th><th>OTSResaleID</th><th>OTSTaxRegionCode</th><th>OTSContact</th><th>OTSFaxNum</th><th>OTSPhoneNum</th><th>OTSCountryNum</th><th>Plant</th><th>WarehouseCode</th><th>CallLine</th><th>DropShipPackLine</th><th>DropShipPackSlip</th><th>FinChargeCode</th><th>ABTUID</th><th>InUnitPrice</th><th>DocInUnitPrice</th><th>InExtPrice</th><th>DocInExtPrice</th><th>InDiscount</th><th>DocInDiscount</th><th>InTotalMiscChrg</th><th>DocInTotalMiscChrg</th><th>InListPrice</th><th>DocInListPrice</th><th>InOrdBasedPrice</th><th>DocInOrdBasedPrice</th><th>Rpt1InDiscount</th><th>Rpt2InDiscount</th><th>Rpt3InDiscount</th><th>Rpt1InExtPrice</th><th>Rpt2InExtPrice</th><th>Rpt3InExtPrice</th><th>Rpt1InListPrice</th><th>Rpt2InListPrice</th><th>Rpt3InListPrice</th><th>Rpt1InOrdBasedPrice</th><th>Rpt2InOrdBasedPrice</th><th>Rpt3InOrdBasedPrice</th><th>Rpt1InTotalMiscChrg</th><th>Rpt2InTotalMiscChrg</th><th>Rpt3InTotalMiscChrg</th><th>Rpt1InUnitPrice</th><th>Rpt2InUnitPrice</th><th>Rpt3InUnitPrice</th><th>CorrectionDtl</th><th>AssetNum</th><th>DisposalNum</th><th>PBLineType</th><th>InvoiceLineRef</th><th>InvoiceRef</th><th>LotNum</th><th>PBInvoiceLine</th><th>RAID</th><th>RADtlID</th><th>DeferredRev</th><th>RACode</th><th>DefRevStart</th><th>ChargeDefRev</th><th>RenewalNbr</th><th>SysRevID</th><th>SysRowID</th><th>DefRevPosted</th><th>LinkedInvcUnitPrice</th><th>DspWithholdAmt</th><th>DocDspWithholdAmt</th><th>Rpt1DspWithholdAmt</th><th>Rpt2DspWithholdAmt</th><th>Rpt3DspWithholdAmt</th><th>LinkedCurrencyCode</th><th>PhaseID</th><th>PEBOEHeadNum</th><th>MXSellingShipQty</th><th>MXUnitPrice</th><th>DocMXUnitPrice</th><th>Rpt1MXUnitPrice</th><th>Rpt2MXUnitPrice</th><th>Rpt3MXUnitPrice</th><th>CustCostCenter</th><th>DEIsServices</th><th>DEIsSecurityFinancialDerivative</th><th>DEInternationalSecuritiesID</th><th>DEIsInvestment</th><th>DEPayStatCode</th><th>DefRevEndDate</th><th>EntityUseCode</th><th>Reclassified</th><th>PartiallyDefer</th><th>DeferredPercent</th><th>Reclass</th><th>DeferredOnly</th><th>ReclassCodeID</th><th>ReclassReasonCode</th><th>ReclassComments</th><th>DeferredRevAmt</th><th>DocDeferredRevAmt</th><th>Rpt1DeferredRevAmt</th><th>Rpt2DeferredRevAmt</th><th>Rpt3DeferredRevAmt</th><th>ChargeReclass</th><th>DEDenomination</th><th>DropShipPONum</th><th>DocInAdvanceBillCredit</th><th>InAdvanceBillCredit</th><th>Rpt1InAdvanceBillCredit</th><th>Rpt2InAdvanceBillCredit</th><th>Rpt3InAdvanceBillCredit</th><th>MYIndustryCode</th><th>DockingStation</th><th>ConsolidateLines</th><th>MXCustomsDuty</th><th>CommodityCode</th><th>MXProdServCode</th><th>QuoteNum</th><th>QuoteLine</th><th>EpicorFSA</th><th>MXCustomsUMFrom</th><th>PEDetrGoodServiceCode</th><th>PETaxExempt</th><th>CColOrderNum</th><th>CColOrderLine</th><th>CColOrderRel</th><th>CColInvoiceLineRef</th><th>CColPackNum</th><th>CColPackLine</th><th>CColDropShipPackSlip</th><th>CColDropShipPackSlipLine</th><th>CColShipToCustID</th><th>CColShipToNum</th><th>AttributeSetID</th><th>AttributeSetDescription</th><th>AttributeSetShortDescription</th><th>ExemptReasonCode</th></tr><tr><td>TES</td><td>17031</td><td>1</td><td>PART</td><td>0</td><td></td><td></td><td>VMM40-24F</td><td>Centra Mixing Valve Actuator</td><td>EA</td><td></td><td></td><td></td><td></td><td>1</td><td>0.00</td><td>683.12496</td><td>512.35000</td><td>E</td><td>2.00000000</td><td>1366.250</td><td>1024.700</td><td>0.000</td><td>0.000</td><td>35.130</td><td>26.350</td><td>00PM</td><td>2.00000000</td><td>200020</td><td>1</td><td>5005007</td><td>1</td><td>1</td><td>606</td><td></td><td>2020-11-13</td><td>001</td><td>0.000</td><td>0.000</td><td>606</td><td></td><td>0</td><td>447.40370</td><td>0.00000</td><td>0.00000</td><td>0.00000</td><td>0.00000</td><td>0</td><td>0</td><td></td><td>0</td><td></td><td>0</td><td>0</td><td>P&amp;M</td><td>0</td><td>0</td><td></td><td>0</td><td>2.00000000</td><td>2.00000000</td><td>EA</td><td>1.00000000</td><td></td><td></td><td>683.12496</td><td>512.35000</td><td>683.12496</td><td>512.35000</td><td>0.000</td><td>D</td><td>0.00</td><td>0.00</td><td>0.00</td><td>0.00</td><td>0.00</td><td>0</td><td>0</td><td>0</td><td>0</td><td>0</td><td>606</td><td>0.00000</td><td>0.00000</td><td>0.00000</td><td>0.00000</td><td>0.00000</td><td>KCollard</td><td>2020-11-18</td><td>48177</td><td></td><td>0</td><td>0</td><td>0</td><td>1</td><td>0.000</td><td>0.000</td><td>0.000</td><td>0.000</td><td>0.000</td><td>0.000</td><td>1024.700</td><td>0.000</td><td>0.000</td><td>512.35000</td><td>0.00000</td><td>0.00000</td><td>512.35000</td><td>0.00000</td><td>0.00000</td><td>26.350</td><td>0.000</td><td>0.000</td><td>512.35000</td><td>0.00000</td><td>0.00000</td><td>0.000</td><td>0.000</td><td>0.000</td><td></td><td></td><td></td><td>0</td><td></td><td></td><td></td><td></td><td></td><td></td><td></td><td></td><td></td><td></td><td></td><td></td><td>0</td><td>MfgSys</td><td>STOCK</td><td>0</td><td>0</td><td></td><td></td><td></td><td>0.00000</td><td>0.00000</td><td>0.000</td><td>0.000</td><td>0.000</td><td>0.000</td><td>0.000</td><td>0.000</td><td>0.00000</td><td>0.00000</td><td>0.00000</td><td>0.00000</td><td>0.000</td><td>0.000</td><td>0.000</td><td>0.000</td><td>0.000</td><td>0.000</td><td>0.00000</td><td>0.00000</td><td>0.00000</td><td>0.00000</td><td>0.00000</td><td>0.00000</td><td>0.000</td><td>0.000</td><td>0.000</td><td>0.00000</td><td>0.00000</td><td>0.00000</td><td>0</td><td></td><td>0</td><td></td><td>0</td><td>0</td><td></td><td>0</td><td>0</td><td>0</td><td>0</td><td></td><td>NULL</td><td>0</td><td>0</td><td>0x0000000176B5B605</td><td>23805f7f-a3bc-4111-ac30-94de36f9c934</td><td>0</td><td>0.00000</td><td>0.000</td><td>0.000</td><td>0.000</td><td>0.000</td><td>0.000</td><td></td><td></td><td>0</td><td>0.00000000</td><td>0.00000</td><td>0.00000</td><td>0.00000</td><td>0.00000</td><td>0.00000</td><td></td><td>0</td><td>0</td><td></td><td>0</td><td></td><td>NULL</td><td></td><td>0</td><td>0</td><td>0.00</td><td>0</td><td>0</td><td></td><td></td><td></td><td>0.000</td><td>0.000</td><td>0.000</td><td>0.000</td><td>0.000</td><td>0</td><td></td><td>0</td><td>0.000</td><td>0.000</td><td>0.000</td><td>0.000</td><td>0.000</td><td></td><td></td><td>0</td><td></td><td></td><td></td><td>0</td><td>0</td><td>0</td><td></td><td></td><td></td><td>0</td><td>0</td><td>0</td><td>0</td><td>0</td><td>0</td><td></td><td>0</td><td></td><td></td><td>0</td><td></td><td></td><td></td></tr></table>"
                    },
                    "metadata": {}
                }
            ],
            "execution_count": 3
        },
        {
            "cell_type": "code",
            "source": [
                "Select Top (100) *\r\n",
                "From Erp.PartTran\r\n",
                "Where 1=1\r\n",
                "and  Packnum = 200020\r\n",
                "and PackLine = 1\r\n",
                "and Company = 'TES'"
            ],
            "metadata": {
                "language": "sql",
                "azdata_cell_guid": "bf9dfe56-30ab-4999-8088-cfd57f4da5aa"
            },
            "outputs": [
                {
                    "output_type": "display_data",
                    "data": {
                        "text/html": "(1 row affected)"
                    },
                    "metadata": {}
                },
                {
                    "output_type": "display_data",
                    "data": {
                        "text/html": "Total execution time: 00:00:00.094"
                    },
                    "metadata": {}
                },
                {
                    "output_type": "execute_result",
                    "metadata": {},
                    "execution_count": 2,
                    "data": {
                        "application/vnd.dataresource+json": {
                            "schema": {
                                "fields": [
                                    {
                                        "name": "Company"
                                    },
                                    {
                                        "name": "SysDate"
                                    },
                                    {
                                        "name": "SysTime"
                                    },
                                    {
                                        "name": "TranNum"
                                    },
                                    {
                                        "name": "PartNum"
                                    },
                                    {
                                        "name": "WareHouseCode"
                                    },
                                    {
                                        "name": "BinNum"
                                    },
                                    {
                                        "name": "TranClass"
                                    },
                                    {
                                        "name": "TranType"
                                    },
                                    {
                                        "name": "InventoryTrans"
                                    },
                                    {
                                        "name": "TranDate"
                                    },
                                    {
                                        "name": "TranQty"
                                    },
                                    {
                                        "name": "UM"
                                    },
                                    {
                                        "name": "MtlUnitCost"
                                    },
                                    {
                                        "name": "LbrUnitCost"
                                    },
                                    {
                                        "name": "BurUnitCost"
                                    },
                                    {
                                        "name": "SubUnitCost"
                                    },
                                    {
                                        "name": "MtlBurUnitCost"
                                    },
                                    {
                                        "name": "ExtCost"
                                    },
                                    {
                                        "name": "CostMethod"
                                    },
                                    {
                                        "name": "JobNum"
                                    },
                                    {
                                        "name": "AssemblySeq"
                                    },
                                    {
                                        "name": "JobSeqType"
                                    },
                                    {
                                        "name": "JobSeq"
                                    },
                                    {
                                        "name": "PackType"
                                    },
                                    {
                                        "name": "PackNum"
                                    },
                                    {
                                        "name": "PackLine"
                                    },
                                    {
                                        "name": "PONum"
                                    },
                                    {
                                        "name": "POLine"
                                    },
                                    {
                                        "name": "PORelNum"
                                    },
                                    {
                                        "name": "WareHouse2"
                                    },
                                    {
                                        "name": "BinNum2"
                                    },
                                    {
                                        "name": "OrderNum"
                                    },
                                    {
                                        "name": "OrderLine"
                                    },
                                    {
                                        "name": "OrderRelNum"
                                    },
                                    {
                                        "name": "EntryPerson"
                                    },
                                    {
                                        "name": "TranReference"
                                    },
                                    {
                                        "name": "PartDescription"
                                    },
                                    {
                                        "name": "RevisionNum"
                                    },
                                    {
                                        "name": "VendorNum"
                                    },
                                    {
                                        "name": "PurPoint"
                                    },
                                    {
                                        "name": "POReceiptQty"
                                    },
                                    {
                                        "name": "POUnitCost"
                                    },
                                    {
                                        "name": "PackSlip"
                                    },
                                    {
                                        "name": "InvoiceNum"
                                    },
                                    {
                                        "name": "InvoiceLine"
                                    },
                                    {
                                        "name": "InvAdjSrc"
                                    },
                                    {
                                        "name": "InvAdjReason"
                                    },
                                    {
                                        "name": "LotNum"
                                    },
                                    {
                                        "name": "DimCode"
                                    },
                                    {
                                        "name": "DUM"
                                    },
                                    {
                                        "name": "DimConvFactor"
                                    },
                                    {
                                        "name": "LotNum2"
                                    },
                                    {
                                        "name": "DimCode2"
                                    },
                                    {
                                        "name": "DUM2"
                                    },
                                    {
                                        "name": "DimConvFactor2"
                                    },
                                    {
                                        "name": "GLTrans"
                                    },
                                    {
                                        "name": "PostedToGL"
                                    },
                                    {
                                        "name": "FiscalYear"
                                    },
                                    {
                                        "name": "FiscalPeriod"
                                    },
                                    {
                                        "name": "JournalNum"
                                    },
                                    {
                                        "name": "Costed"
                                    },
                                    {
                                        "name": "DMRNum"
                                    },
                                    {
                                        "name": "ActionNum"
                                    },
                                    {
                                        "name": "RMANum"
                                    },
                                    {
                                        "name": "COSPostingReqd"
                                    },
                                    {
                                        "name": "JournalCode"
                                    },
                                    {
                                        "name": "Plant"
                                    },
                                    {
                                        "name": "Plant2"
                                    },
                                    {
                                        "name": "CallNum"
                                    },
                                    {
                                        "name": "CallLine"
                                    },
                                    {
                                        "name": "MatNum"
                                    },
                                    {
                                        "name": "JobNum2"
                                    },
                                    {
                                        "name": "AssemblySeq2"
                                    },
                                    {
                                        "name": "JobSeq2"
                                    },
                                    {
                                        "name": "CustNum"
                                    },
                                    {
                                        "name": "RMALine"
                                    },
                                    {
                                        "name": "RMAReceipt"
                                    },
                                    {
                                        "name": "RMADisp"
                                    },
                                    {
                                        "name": "OtherDivValue"
                                    },
                                    {
                                        "name": "PlantTranNum"
                                    },
                                    {
                                        "name": "NonConfID"
                                    },
                                    {
                                        "name": "MtlMtlUnitCost"
                                    },
                                    {
                                        "name": "MtlLabUnitCost"
                                    },
                                    {
                                        "name": "MtlSubUnitCost"
                                    },
                                    {
                                        "name": "MtlBurdenUnitCost"
                                    },
                                    {
                                        "name": "RefType"
                                    },
                                    {
                                        "name": "RefCode"
                                    },
                                    {
                                        "name": "LegalNumber"
                                    },
                                    {
                                        "name": "BeginQty"
                                    },
                                    {
                                        "name": "AfterQty"
                                    },
                                    {
                                        "name": "BegBurUnitCost"
                                    },
                                    {
                                        "name": "BegLbrUnitCost"
                                    },
                                    {
                                        "name": "BegMtlBurUnitCost"
                                    },
                                    {
                                        "name": "BegMtlUnitCost"
                                    },
                                    {
                                        "name": "BegSubUnitCost"
                                    },
                                    {
                                        "name": "AfterBurUnitCost"
                                    },
                                    {
                                        "name": "AfterLbrUnitCost"
                                    },
                                    {
                                        "name": "AfterMtlBurUnitCost"
                                    },
                                    {
                                        "name": "AfterMtlUnitCost"
                                    },
                                    {
                                        "name": "AfterSubUnitCost"
                                    },
                                    {
                                        "name": "PlantCostValue"
                                    },
                                    {
                                        "name": "EmpID"
                                    },
                                    {
                                        "name": "ReconcileNum"
                                    },
                                    {
                                        "name": "CostID"
                                    },
                                    {
                                        "name": "FIFODate"
                                    },
                                    {
                                        "name": "FIFOSeq"
                                    },
                                    {
                                        "name": "ActTranQty"
                                    },
                                    {
                                        "name": "ActTransUOM"
                                    },
                                    {
                                        "name": "InvtyUOM"
                                    },
                                    {
                                        "name": "InvtyUOM2"
                                    },
                                    {
                                        "name": "FIFOAction"
                                    },
                                    {
                                        "name": "FiscalYearSuffix"
                                    },
                                    {
                                        "name": "FiscalCalendarID"
                                    },
                                    {
                                        "name": "BinType"
                                    },
                                    {
                                        "name": "CCYear"
                                    },
                                    {
                                        "name": "CCMonth"
                                    },
                                    {
                                        "name": "CycleSeq"
                                    },
                                    {
                                        "name": "ABTUID"
                                    },
                                    {
                                        "name": "BaseCostMethod"
                                    },
                                    {
                                        "name": "RevertStatus"
                                    },
                                    {
                                        "name": "RevertID"
                                    },
                                    {
                                        "name": "DropShipPackSlip"
                                    },
                                    {
                                        "name": "VarTarget"
                                    },
                                    {
                                        "name": "FIFOSubSeq"
                                    },
                                    {
                                        "name": "AltMtlUnitCost"
                                    },
                                    {
                                        "name": "AltLbrUnitCost"
                                    },
                                    {
                                        "name": "AltBurUnitCost"
                                    },
                                    {
                                        "name": "AltSubUnitCost"
                                    },
                                    {
                                        "name": "AltMtlBurUnitCost"
                                    },
                                    {
                                        "name": "AltExtCost"
                                    },
                                    {
                                        "name": "AltMtlMtlUnitCost"
                                    },
                                    {
                                        "name": "AltMtlLabUnitCost"
                                    },
                                    {
                                        "name": "AltMtlSubUnitCost"
                                    },
                                    {
                                        "name": "AltMtlBurdenUnitCost"
                                    },
                                    {
                                        "name": "TranDocTypeID"
                                    },
                                    {
                                        "name": "PBInvNum"
                                    },
                                    {
                                        "name": "LoanFlag"
                                    },
                                    {
                                        "name": "AssetNum"
                                    },
                                    {
                                        "name": "AdditionNum"
                                    },
                                    {
                                        "name": "DisposalNum"
                                    },
                                    {
                                        "name": "ProjProcessed"
                                    },
                                    {
                                        "name": "AsOfDate"
                                    },
                                    {
                                        "name": "AsOfSeq"
                                    },
                                    {
                                        "name": "MscNum"
                                    },
                                    {
                                        "name": "ODCUnitCost"
                                    },
                                    {
                                        "name": "SysRevID"
                                    },
                                    {
                                        "name": "SysRowID"
                                    },
                                    {
                                        "name": "TranRefType"
                                    },
                                    {
                                        "name": "PCID"
                                    },
                                    {
                                        "name": "PCIDCollapseCounter"
                                    },
                                    {
                                        "name": "PCID2"
                                    },
                                    {
                                        "name": "ContractID"
                                    },
                                    {
                                        "name": "LCFlag"
                                    },
                                    {
                                        "name": "ExtMtlCost"
                                    },
                                    {
                                        "name": "ExtLbrCost"
                                    },
                                    {
                                        "name": "ExtBurCost"
                                    },
                                    {
                                        "name": "ExtSubCost"
                                    },
                                    {
                                        "name": "ExtMtlBurCost"
                                    },
                                    {
                                        "name": "ExtMtlMtlCost"
                                    },
                                    {
                                        "name": "ExtMtlLabCost"
                                    },
                                    {
                                        "name": "ExtMtlSubCost"
                                    },
                                    {
                                        "name": "ExtMtlBurdenCost"
                                    },
                                    {
                                        "name": "MYImportNum"
                                    },
                                    {
                                        "name": "AutoReverse"
                                    },
                                    {
                                        "name": "RevTranNum"
                                    },
                                    {
                                        "name": "RevSysDate"
                                    },
                                    {
                                        "name": "RevSysTime"
                                    },
                                    {
                                        "name": "ExtNonRecoverableCost"
                                    },
                                    {
                                        "name": "EpicorFSA"
                                    },
                                    {
                                        "name": "AttributeSetID"
                                    },
                                    {
                                        "name": "AttributeSetDescription"
                                    },
                                    {
                                        "name": "AttributeSetShortDescription"
                                    },
                                    {
                                        "name": "NumberOfPieces"
                                    }
                                ]
                            },
                            "data": [
                                {
                                    "Company": "TES",
                                    "SysDate": "2020-11-13",
                                    "SysTime": "39665",
                                    "TranNum": "890209",
                                    "PartNum": "VMM40-24F",
                                    "WareHouseCode": "STOCK",
                                    "BinNum": "S1R09A",
                                    "TranClass": "S",
                                    "TranType": "STK-CUS",
                                    "InventoryTrans": "1",
                                    "TranDate": "2020-11-13",
                                    "TranQty": "2.00000000",
                                    "UM": "EA",
                                    "MtlUnitCost": "447.40370",
                                    "LbrUnitCost": "0.00000",
                                    "BurUnitCost": "0.00000",
                                    "SubUnitCost": "0.00000",
                                    "MtlBurUnitCost": "0.00000",
                                    "ExtCost": "894.810",
                                    "CostMethod": "A",
                                    "JobNum": "",
                                    "AssemblySeq": "0",
                                    "JobSeqType": "M",
                                    "JobSeq": "0",
                                    "PackType": "C",
                                    "PackNum": "200020",
                                    "PackLine": "1",
                                    "PONum": "0",
                                    "POLine": "0",
                                    "PORelNum": "0",
                                    "WareHouse2": "",
                                    "BinNum2": "",
                                    "OrderNum": "5005007",
                                    "OrderLine": "1",
                                    "OrderRelNum": "1",
                                    "EntryPerson": "BFroese",
                                    "TranReference": "",
                                    "PartDescription": "Centra Mixing Valve Actuator",
                                    "RevisionNum": "",
                                    "VendorNum": "0",
                                    "PurPoint": "",
                                    "POReceiptQty": "0.00000000",
                                    "POUnitCost": "0.00000",
                                    "PackSlip": "",
                                    "InvoiceNum": "",
                                    "InvoiceLine": "0",
                                    "InvAdjSrc": "",
                                    "InvAdjReason": "",
                                    "LotNum": "",
                                    "DimCode": "",
                                    "DUM": "",
                                    "DimConvFactor": "1.00000000",
                                    "LotNum2": "",
                                    "DimCode2": "",
                                    "DUM2": "",
                                    "DimConvFactor2": "1.00000000",
                                    "GLTrans": "1",
                                    "PostedToGL": "1",
                                    "FiscalYear": "0",
                                    "FiscalPeriod": "0",
                                    "JournalNum": "0",
                                    "Costed": "1",
                                    "DMRNum": "0",
                                    "ActionNum": "0",
                                    "RMANum": "0",
                                    "COSPostingReqd": "0",
                                    "JournalCode": "",
                                    "Plant": "MfgSys",
                                    "Plant2": "MfgSys",
                                    "CallNum": "0",
                                    "CallLine": "0",
                                    "MatNum": "0",
                                    "JobNum2": "",
                                    "AssemblySeq2": "0",
                                    "JobSeq2": "0",
                                    "CustNum": "606",
                                    "RMALine": "0",
                                    "RMAReceipt": "0",
                                    "RMADisp": "0",
                                    "OtherDivValue": "0.000",
                                    "PlantTranNum": "0",
                                    "NonConfID": "0",
                                    "MtlMtlUnitCost": "447.40370",
                                    "MtlLabUnitCost": "0.00000",
                                    "MtlSubUnitCost": "0.00000",
                                    "MtlBurdenUnitCost": "0.00000",
                                    "RefType": "",
                                    "RefCode": "",
                                    "LegalNumber": "200020",
                                    "BeginQty": "0.00000000",
                                    "AfterQty": "0.00000000",
                                    "BegBurUnitCost": "0.00000",
                                    "BegLbrUnitCost": "0.00000",
                                    "BegMtlBurUnitCost": "0.00000",
                                    "BegMtlUnitCost": "0.00000",
                                    "BegSubUnitCost": "0.00000",
                                    "AfterBurUnitCost": "0.00000",
                                    "AfterLbrUnitCost": "0.00000",
                                    "AfterMtlBurUnitCost": "0.00000",
                                    "AfterMtlUnitCost": "0.00000",
                                    "AfterSubUnitCost": "0.00000",
                                    "PlantCostValue": "0.000",
                                    "EmpID": "",
                                    "ReconcileNum": "0",
                                    "CostID": "1",
                                    "FIFODate": "NULL",
                                    "FIFOSeq": "0",
                                    "ActTranQty": "2.00000000",
                                    "ActTransUOM": "EA",
                                    "InvtyUOM": "EA",
                                    "InvtyUOM2": "EA",
                                    "FIFOAction": "",
                                    "FiscalYearSuffix": "",
                                    "FiscalCalendarID": "",
                                    "BinType": "Std",
                                    "CCYear": "0",
                                    "CCMonth": "0",
                                    "CycleSeq": "0",
                                    "ABTUID": "8619e8bb-46d3-4798-b050-5ed0c73483a7",
                                    "BaseCostMethod": "A",
                                    "RevertStatus": "0",
                                    "RevertID": "",
                                    "DropShipPackSlip": "",
                                    "VarTarget": "",
                                    "FIFOSubSeq": "0",
                                    "AltMtlUnitCost": "0.00000",
                                    "AltLbrUnitCost": "0.00000",
                                    "AltBurUnitCost": "0.00000",
                                    "AltSubUnitCost": "0.00000",
                                    "AltMtlBurUnitCost": "0.00000",
                                    "AltExtCost": "0.00000",
                                    "AltMtlMtlUnitCost": "0.00000",
                                    "AltMtlLabUnitCost": "0.00000",
                                    "AltMtlSubUnitCost": "0.00000",
                                    "AltMtlBurdenUnitCost": "0.00000",
                                    "TranDocTypeID": "",
                                    "PBInvNum": "0",
                                    "LoanFlag": "",
                                    "AssetNum": "",
                                    "AdditionNum": "0",
                                    "DisposalNum": "0",
                                    "ProjProcessed": "0",
                                    "AsOfDate": "NULL",
                                    "AsOfSeq": "0",
                                    "MscNum": "0",
                                    "ODCUnitCost": "0.000",
                                    "SysRevID": "0x000000017A04EF66",
                                    "SysRowID": "6bb476b1-9175-4bf2-b462-f99bb0a754de",
                                    "TranRefType": "0",
                                    "PCID": "",
                                    "PCIDCollapseCounter": "0",
                                    "PCID2": "",
                                    "ContractID": "",
                                    "LCFlag": "0",
                                    "ExtMtlCost": "0.000",
                                    "ExtLbrCost": "0.000",
                                    "ExtBurCost": "0.000",
                                    "ExtSubCost": "0.000",
                                    "ExtMtlBurCost": "0.000",
                                    "ExtMtlMtlCost": "0.000",
                                    "ExtMtlLabCost": "0.000",
                                    "ExtMtlSubCost": "0.000",
                                    "ExtMtlBurdenCost": "0.000",
                                    "MYImportNum": "",
                                    "AutoReverse": "0",
                                    "RevTranNum": "0",
                                    "RevSysDate": "NULL",
                                    "RevSysTime": "0",
                                    "ExtNonRecoverableCost": "0.000",
                                    "EpicorFSA": "0",
                                    "AttributeSetID": "0",
                                    "AttributeSetDescription": "",
                                    "AttributeSetShortDescription": "",
                                    "NumberOfPieces": "0"
                                }
                            ]
                        },
                        "text/html": [
                            "<table>",
                            "<tr><th>Company</th><th>SysDate</th><th>SysTime</th><th>TranNum</th><th>PartNum</th><th>WareHouseCode</th><th>BinNum</th><th>TranClass</th><th>TranType</th><th>InventoryTrans</th><th>TranDate</th><th>TranQty</th><th>UM</th><th>MtlUnitCost</th><th>LbrUnitCost</th><th>BurUnitCost</th><th>SubUnitCost</th><th>MtlBurUnitCost</th><th>ExtCost</th><th>CostMethod</th><th>JobNum</th><th>AssemblySeq</th><th>JobSeqType</th><th>JobSeq</th><th>PackType</th><th>PackNum</th><th>PackLine</th><th>PONum</th><th>POLine</th><th>PORelNum</th><th>WareHouse2</th><th>BinNum2</th><th>OrderNum</th><th>OrderLine</th><th>OrderRelNum</th><th>EntryPerson</th><th>TranReference</th><th>PartDescription</th><th>RevisionNum</th><th>VendorNum</th><th>PurPoint</th><th>POReceiptQty</th><th>POUnitCost</th><th>PackSlip</th><th>InvoiceNum</th><th>InvoiceLine</th><th>InvAdjSrc</th><th>InvAdjReason</th><th>LotNum</th><th>DimCode</th><th>DUM</th><th>DimConvFactor</th><th>LotNum2</th><th>DimCode2</th><th>DUM2</th><th>DimConvFactor2</th><th>GLTrans</th><th>PostedToGL</th><th>FiscalYear</th><th>FiscalPeriod</th><th>JournalNum</th><th>Costed</th><th>DMRNum</th><th>ActionNum</th><th>RMANum</th><th>COSPostingReqd</th><th>JournalCode</th><th>Plant</th><th>Plant2</th><th>CallNum</th><th>CallLine</th><th>MatNum</th><th>JobNum2</th><th>AssemblySeq2</th><th>JobSeq2</th><th>CustNum</th><th>RMALine</th><th>RMAReceipt</th><th>RMADisp</th><th>OtherDivValue</th><th>PlantTranNum</th><th>NonConfID</th><th>MtlMtlUnitCost</th><th>MtlLabUnitCost</th><th>MtlSubUnitCost</th><th>MtlBurdenUnitCost</th><th>RefType</th><th>RefCode</th><th>LegalNumber</th><th>BeginQty</th><th>AfterQty</th><th>BegBurUnitCost</th><th>BegLbrUnitCost</th><th>BegMtlBurUnitCost</th><th>BegMtlUnitCost</th><th>BegSubUnitCost</th><th>AfterBurUnitCost</th><th>AfterLbrUnitCost</th><th>AfterMtlBurUnitCost</th><th>AfterMtlUnitCost</th><th>AfterSubUnitCost</th><th>PlantCostValue</th><th>EmpID</th><th>ReconcileNum</th><th>CostID</th><th>FIFODate</th><th>FIFOSeq</th><th>ActTranQty</th><th>ActTransUOM</th><th>InvtyUOM</th><th>InvtyUOM2</th><th>FIFOAction</th><th>FiscalYearSuffix</th><th>FiscalCalendarID</th><th>BinType</th><th>CCYear</th><th>CCMonth</th><th>CycleSeq</th><th>ABTUID</th><th>BaseCostMethod</th><th>RevertStatus</th><th>RevertID</th><th>DropShipPackSlip</th><th>VarTarget</th><th>FIFOSubSeq</th><th>AltMtlUnitCost</th><th>AltLbrUnitCost</th><th>AltBurUnitCost</th><th>AltSubUnitCost</th><th>AltMtlBurUnitCost</th><th>AltExtCost</th><th>AltMtlMtlUnitCost</th><th>AltMtlLabUnitCost</th><th>AltMtlSubUnitCost</th><th>AltMtlBurdenUnitCost</th><th>TranDocTypeID</th><th>PBInvNum</th><th>LoanFlag</th><th>AssetNum</th><th>AdditionNum</th><th>DisposalNum</th><th>ProjProcessed</th><th>AsOfDate</th><th>AsOfSeq</th><th>MscNum</th><th>ODCUnitCost</th><th>SysRevID</th><th>SysRowID</th><th>TranRefType</th><th>PCID</th><th>PCIDCollapseCounter</th><th>PCID2</th><th>ContractID</th><th>LCFlag</th><th>ExtMtlCost</th><th>ExtLbrCost</th><th>ExtBurCost</th><th>ExtSubCost</th><th>ExtMtlBurCost</th><th>ExtMtlMtlCost</th><th>ExtMtlLabCost</th><th>ExtMtlSubCost</th><th>ExtMtlBurdenCost</th><th>MYImportNum</th><th>AutoReverse</th><th>RevTranNum</th><th>RevSysDate</th><th>RevSysTime</th><th>ExtNonRecoverableCost</th><th>EpicorFSA</th><th>AttributeSetID</th><th>AttributeSetDescription</th><th>AttributeSetShortDescription</th><th>NumberOfPieces</th></tr>",
                            "<tr><td>TES</td><td>2020-11-13</td><td>39665</td><td>890209</td><td>VMM40-24F</td><td>STOCK</td><td>S1R09A</td><td>S</td><td>STK-CUS</td><td>1</td><td>2020-11-13</td><td>2.00000000</td><td>EA</td><td>447.40370</td><td>0.00000</td><td>0.00000</td><td>0.00000</td><td>0.00000</td><td>894.810</td><td>A</td><td></td><td>0</td><td>M</td><td>0</td><td>C</td><td>200020</td><td>1</td><td>0</td><td>0</td><td>0</td><td></td><td></td><td>5005007</td><td>1</td><td>1</td><td>BFroese</td><td></td><td>Centra Mixing Valve Actuator</td><td></td><td>0</td><td></td><td>0.00000000</td><td>0.00000</td><td></td><td></td><td>0</td><td></td><td></td><td></td><td></td><td></td><td>1.00000000</td><td></td><td></td><td></td><td>1.00000000</td><td>1</td><td>1</td><td>0</td><td>0</td><td>0</td><td>1</td><td>0</td><td>0</td><td>0</td><td>0</td><td></td><td>MfgSys</td><td>MfgSys</td><td>0</td><td>0</td><td>0</td><td></td><td>0</td><td>0</td><td>606</td><td>0</td><td>0</td><td>0</td><td>0.000</td><td>0</td><td>0</td><td>447.40370</td><td>0.00000</td><td>0.00000</td><td>0.00000</td><td></td><td></td><td>200020</td><td>0.00000000</td><td>0.00000000</td><td>0.00000</td><td>0.00000</td><td>0.00000</td><td>0.00000</td><td>0.00000</td><td>0.00000</td><td>0.00000</td><td>0.00000</td><td>0.00000</td><td>0.00000</td><td>0.000</td><td></td><td>0</td><td>1</td><td>NULL</td><td>0</td><td>2.00000000</td><td>EA</td><td>EA</td><td>EA</td><td></td><td></td><td></td><td>Std</td><td>0</td><td>0</td><td>0</td><td>8619e8bb-46d3-4798-b050-5ed0c73483a7</td><td>A</td><td>0</td><td></td><td></td><td></td><td>0</td><td>0.00000</td><td>0.00000</td><td>0.00000</td><td>0.00000</td><td>0.00000</td><td>0.00000</td><td>0.00000</td><td>0.00000</td><td>0.00000</td><td>0.00000</td><td></td><td>0</td><td></td><td></td><td>0</td><td>0</td><td>0</td><td>NULL</td><td>0</td><td>0</td><td>0.000</td><td>0x000000017A04EF66</td><td>6bb476b1-9175-4bf2-b462-f99bb0a754de</td><td>0</td><td></td><td>0</td><td></td><td></td><td>0</td><td>0.000</td><td>0.000</td><td>0.000</td><td>0.000</td><td>0.000</td><td>0.000</td><td>0.000</td><td>0.000</td><td>0.000</td><td></td><td>0</td><td>0</td><td>NULL</td><td>0</td><td>0.000</td><td>0</td><td>0</td><td></td><td></td><td>0</td></tr>",
                            "</table>"
                        ]
                    }
                }
            ],
            "execution_count": 2
        },
        {
            "cell_type": "code",
            "source": [
                "Select Top (100) *\r\n",
                "From Erp.LaborDtl\r\n",
                "Where 1=1\r\n",
                "and  Packnum = 200020\r\n",
                "and PackLine = 1\r\n",
                "and Company = 'TES'"
            ],
            "metadata": {
                "language": "sql",
                "azdata_cell_guid": "530d917b-2470-453e-947b-3c9a04566691"
            },
            "outputs": [],
            "execution_count": null
        },
        {
            "cell_type": "code",
            "source": [
                "Select top (10) *\r\n",
                "From Erp.OrderHed\r\n",
                "Where 1=1\r\n",
                "and OrderNum = 5005399\r\n",
                "and Company = 'TES'"
            ],
            "metadata": {
                "language": "sql",
                "azdata_cell_guid": "c127646d-2b74-458a-8539-06317a4f75c7",
                "tags": []
            },
            "outputs": [
                {
                    "output_type": "display_data",
                    "data": {
                        "text/html": "(1 row affected)"
                    },
                    "metadata": {}
                },
                {
                    "output_type": "display_data",
                    "data": {
                        "text/html": "Total execution time: 00:00:00.511"
                    },
                    "metadata": {}
                },
                {
                    "output_type": "execute_result",
                    "execution_count": 1,
                    "data": {
                        "application/vnd.dataresource+json": {
                            "schema": {
                                "fields": [
                                    {
                                        "name": "OpenOrder"
                                    },
                                    {
                                        "name": "VoidOrder"
                                    },
                                    {
                                        "name": "Company"
                                    },
                                    {
                                        "name": "OrderNum"
                                    },
                                    {
                                        "name": "CustNum"
                                    },
                                    {
                                        "name": "PONum"
                                    },
                                    {
                                        "name": "OrderHeld"
                                    },
                                    {
                                        "name": "EntryPerson"
                                    },
                                    {
                                        "name": "ShipToNum"
                                    },
                                    {
                                        "name": "RequestDate"
                                    },
                                    {
                                        "name": "OrderDate"
                                    },
                                    {
                                        "name": "FOB"
                                    },
                                    {
                                        "name": "ShipViaCode"
                                    },
                                    {
                                        "name": "TermsCode"
                                    },
                                    {
                                        "name": "DiscountPercent"
                                    },
                                    {
                                        "name": "PrcConNum"
                                    },
                                    {
                                        "name": "ShpConNum"
                                    },
                                    {
                                        "name": "SalesRepList"
                                    },
                                    {
                                        "name": "OrderComment"
                                    },
                                    {
                                        "name": "ShipComment"
                                    },
                                    {
                                        "name": "InvoiceComment"
                                    },
                                    {
                                        "name": "PickListComment"
                                    },
                                    {
                                        "name": "DepositBal"
                                    },
                                    {
                                        "name": "DocDepositBal"
                                    },
                                    {
                                        "name": "NeedByDate"
                                    },
                                    {
                                        "name": "CreditOverride"
                                    },
                                    {
                                        "name": "CreditOverrideUserID"
                                    },
                                    {
                                        "name": "CreditOverrideDate"
                                    },
                                    {
                                        "name": "CreditOverrideTime"
                                    },
                                    {
                                        "name": "CreditOverrideLimit"
                                    },
                                    {
                                        "name": "SndAlrtShp"
                                    },
                                    {
                                        "name": "ExchangeRate"
                                    },
                                    {
                                        "name": "CurrencyCode"
                                    },
                                    {
                                        "name": "LockRate"
                                    },
                                    {
                                        "name": "CardMemberName"
                                    },
                                    {
                                        "name": "CardNumber"
                                    },
                                    {
                                        "name": "CardType"
                                    },
                                    {
                                        "name": "ExpirationMonth"
                                    },
                                    {
                                        "name": "ExpirationYear"
                                    },
                                    {
                                        "name": "CardID"
                                    },
                                    {
                                        "name": "CardmemberReference"
                                    },
                                    {
                                        "name": "AllocPriorityCode"
                                    },
                                    {
                                        "name": "ReservePriorityCode"
                                    },
                                    {
                                        "name": "ShipOrderComplete"
                                    },
                                    {
                                        "name": "WebOrder"
                                    },
                                    {
                                        "name": "CCApprovalNum"
                                    },
                                    {
                                        "name": "EDIOrder"
                                    },
                                    {
                                        "name": "EDIAck"
                                    },
                                    {
                                        "name": "Linked"
                                    },
                                    {
                                        "name": "ICPONum"
                                    },
                                    {
                                        "name": "ExtCompany"
                                    },
                                    {
                                        "name": "WebEntryPerson"
                                    },
                                    {
                                        "name": "AckEmailSent"
                                    },
                                    {
                                        "name": "ApplyOrderBasedDisc"
                                    },
                                    {
                                        "name": "AutoOrderBasedDisc"
                                    },
                                    {
                                        "name": "EntryMethod"
                                    },
                                    {
                                        "name": "HDCaseNum"
                                    },
                                    {
                                        "name": "CounterSale"
                                    },
                                    {
                                        "name": "CreateInvoice"
                                    },
                                    {
                                        "name": "CreatePackingSlip"
                                    },
                                    {
                                        "name": "LockQty"
                                    },
                                    {
                                        "name": "ProcessCard"
                                    },
                                    {
                                        "name": "CCAmount"
                                    },
                                    {
                                        "name": "CCFreight"
                                    },
                                    {
                                        "name": "CCTax"
                                    },
                                    {
                                        "name": "CCTotal"
                                    },
                                    {
                                        "name": "CCDocAmount"
                                    },
                                    {
                                        "name": "CCDocFreight"
                                    },
                                    {
                                        "name": "CCDocTax"
                                    },
                                    {
                                        "name": "CCDocTotal"
                                    },
                                    {
                                        "name": "CCStreetAddr"
                                    },
                                    {
                                        "name": "CCZip"
                                    },
                                    {
                                        "name": "BTCustNum"
                                    },
                                    {
                                        "name": "BTConNum"
                                    },
                                    {
                                        "name": "RepRate4"
                                    },
                                    {
                                        "name": "RepRate5"
                                    },
                                    {
                                        "name": "RepSplit1"
                                    },
                                    {
                                        "name": "RepSplit2"
                                    },
                                    {
                                        "name": "RepSplit3"
                                    },
                                    {
                                        "name": "RepSplit4"
                                    },
                                    {
                                        "name": "RepSplit5"
                                    },
                                    {
                                        "name": "RepRate1"
                                    },
                                    {
                                        "name": "RepRate2"
                                    },
                                    {
                                        "name": "RepRate3"
                                    },
                                    {
                                        "name": "OutboundSalesDocCtr"
                                    },
                                    {
                                        "name": "OutboundShipDocsCtr"
                                    },
                                    {
                                        "name": "DemandContractNum"
                                    },
                                    {
                                        "name": "DoNotShipBeforeDate"
                                    },
                                    {
                                        "name": "ResDelivery"
                                    },
                                    {
                                        "name": "DoNotShipAfterDate"
                                    },
                                    {
                                        "name": "SatDelivery"
                                    },
                                    {
                                        "name": "SatPickup"
                                    },
                                    {
                                        "name": "Hazmat"
                                    },
                                    {
                                        "name": "DocOnly"
                                    },
                                    {
                                        "name": "RefNotes"
                                    },
                                    {
                                        "name": "ApplyChrg"
                                    },
                                    {
                                        "name": "ChrgAmount"
                                    },
                                    {
                                        "name": "COD"
                                    },
                                    {
                                        "name": "CODFreight"
                                    },
                                    {
                                        "name": "CODCheck"
                                    },
                                    {
                                        "name": "CODAmount"
                                    },
                                    {
                                        "name": "GroundType"
                                    },
                                    {
                                        "name": "NotifyFlag"
                                    },
                                    {
                                        "name": "NotifyEMail"
                                    },
                                    {
                                        "name": "DeclaredIns"
                                    },
                                    {
                                        "name": "DeclaredAmt"
                                    },
                                    {
                                        "name": "CancelAfterDate"
                                    },
                                    {
                                        "name": "DemandRejected"
                                    },
                                    {
                                        "name": "OverrideCarrier"
                                    },
                                    {
                                        "name": "OverrideService"
                                    },
                                    {
                                        "name": "CreditCardOrder"
                                    },
                                    {
                                        "name": "DemandHeadSeq"
                                    },
                                    {
                                        "name": "PayFlag"
                                    },
                                    {
                                        "name": "PayAccount"
                                    },
                                    {
                                        "name": "PayBTAddress1"
                                    },
                                    {
                                        "name": "PayBTAddress2"
                                    },
                                    {
                                        "name": "PayBTCity"
                                    },
                                    {
                                        "name": "PayBTState"
                                    },
                                    {
                                        "name": "PayBTZip"
                                    },
                                    {
                                        "name": "PayBTCountry"
                                    },
                                    {
                                        "name": "DropShip"
                                    },
                                    {
                                        "name": "CommercialInvoice"
                                    },
                                    {
                                        "name": "ShipExprtDeclartn"
                                    },
                                    {
                                        "name": "CertOfOrigin"
                                    },
                                    {
                                        "name": "LetterOfInstr"
                                    },
                                    {
                                        "name": "FFID"
                                    },
                                    {
                                        "name": "FFAddress1"
                                    },
                                    {
                                        "name": "FFAddress2"
                                    },
                                    {
                                        "name": "FFCity"
                                    },
                                    {
                                        "name": "FFState"
                                    },
                                    {
                                        "name": "FFZip"
                                    },
                                    {
                                        "name": "FFCountry"
                                    },
                                    {
                                        "name": "FFContact"
                                    },
                                    {
                                        "name": "FFCompName"
                                    },
                                    {
                                        "name": "FFPhoneNum"
                                    },
                                    {
                                        "name": "IntrntlShip"
                                    },
                                    {
                                        "name": "ChangedBy"
                                    },
                                    {
                                        "name": "ChangeDate"
                                    },
                                    {
                                        "name": "ChangeTime"
                                    },
                                    {
                                        "name": "AutoPrintReady"
                                    },
                                    {
                                        "name": "EDIReady"
                                    },
                                    {
                                        "name": "IndividualPackIDs"
                                    },
                                    {
                                        "name": "FFAddress3"
                                    },
                                    {
                                        "name": "DeliveryConf"
                                    },
                                    {
                                        "name": "AddlHdlgFlag"
                                    },
                                    {
                                        "name": "NonStdPkg"
                                    },
                                    {
                                        "name": "ServSignature"
                                    },
                                    {
                                        "name": "ServAlert"
                                    },
                                    {
                                        "name": "ServHomeDel"
                                    },
                                    {
                                        "name": "DeliveryType"
                                    },
                                    {
                                        "name": "ServDeliveryDate"
                                    },
                                    {
                                        "name": "ServInstruct"
                                    },
                                    {
                                        "name": "ServRef1"
                                    },
                                    {
                                        "name": "ServRef2"
                                    },
                                    {
                                        "name": "ServRef3"
                                    },
                                    {
                                        "name": "ServRef4"
                                    },
                                    {
                                        "name": "ServRef5"
                                    },
                                    {
                                        "name": "FFCountryNum"
                                    },
                                    {
                                        "name": "ServPhone"
                                    },
                                    {
                                        "name": "ServRelease"
                                    },
                                    {
                                        "name": "ServAuthNum"
                                    },
                                    {
                                        "name": "PayBTAddress3"
                                    },
                                    {
                                        "name": "PayBTCountryNum"
                                    },
                                    {
                                        "name": "PayBTPhone"
                                    },
                                    {
                                        "name": "UPSQuantumView"
                                    },
                                    {
                                        "name": "UPSQVShipFromName"
                                    },
                                    {
                                        "name": "UPSQVMemo"
                                    },
                                    {
                                        "name": "ReadyToCalc"
                                    },
                                    {
                                        "name": "TotalCharges"
                                    },
                                    {
                                        "name": "TotalMisc"
                                    },
                                    {
                                        "name": "TotalDiscount"
                                    },
                                    {
                                        "name": "TotalComm"
                                    },
                                    {
                                        "name": "TotalAdvBill"
                                    },
                                    {
                                        "name": "TotalLines"
                                    },
                                    {
                                        "name": "TotalReleases"
                                    },
                                    {
                                        "name": "TotalRelDates"
                                    },
                                    {
                                        "name": "DocTotalCharges"
                                    },
                                    {
                                        "name": "DocTotalMisc"
                                    },
                                    {
                                        "name": "DocTotalDiscount"
                                    },
                                    {
                                        "name": "DocTotalComm"
                                    },
                                    {
                                        "name": "TotalTax"
                                    },
                                    {
                                        "name": "DocTotalTax"
                                    },
                                    {
                                        "name": "DocTotalAdvBill"
                                    },
                                    {
                                        "name": "TotalShipped"
                                    },
                                    {
                                        "name": "TotalInvoiced"
                                    },
                                    {
                                        "name": "TotalCommLines"
                                    },
                                    {
                                        "name": "SRCommAmt1"
                                    },
                                    {
                                        "name": "SRCommAmt2"
                                    },
                                    {
                                        "name": "SRCommAmt3"
                                    },
                                    {
                                        "name": "SRCommAmt4"
                                    },
                                    {
                                        "name": "SRCommAmt5"
                                    },
                                    {
                                        "name": "SRCommableAmt1"
                                    },
                                    {
                                        "name": "SRCommableAmt2"
                                    },
                                    {
                                        "name": "SRCommableAmt3"
                                    },
                                    {
                                        "name": "SRCommableAmt4"
                                    },
                                    {
                                        "name": "SRCommableAmt5"
                                    },
                                    {
                                        "name": "Rounding"
                                    },
                                    {
                                        "name": "Rpt1DepositBal"
                                    },
                                    {
                                        "name": "DocRounding"
                                    },
                                    {
                                        "name": "Rpt2DepositBal"
                                    },
                                    {
                                        "name": "Rpt3DepositBal"
                                    },
                                    {
                                        "name": "Rpt1TotalCharges"
                                    },
                                    {
                                        "name": "Rpt2TotalCharges"
                                    },
                                    {
                                        "name": "Rpt3TotalCharges"
                                    },
                                    {
                                        "name": "Rpt1TotalAdvBill"
                                    },
                                    {
                                        "name": "Rpt2TotalAdvBill"
                                    },
                                    {
                                        "name": "Rpt3TotalAdvBill"
                                    },
                                    {
                                        "name": "Rpt1TotalMisc"
                                    },
                                    {
                                        "name": "Rpt2TotalMisc"
                                    },
                                    {
                                        "name": "Rpt3TotalMisc"
                                    },
                                    {
                                        "name": "Rpt1TotalDiscount"
                                    },
                                    {
                                        "name": "Rpt2TotalDiscount"
                                    },
                                    {
                                        "name": "Rpt3TotalDiscount"
                                    },
                                    {
                                        "name": "Rpt1TotalComm"
                                    },
                                    {
                                        "name": "Rpt2TotalComm"
                                    },
                                    {
                                        "name": "Rpt3TotalComm"
                                    },
                                    {
                                        "name": "Rpt1TotalTax"
                                    },
                                    {
                                        "name": "Rpt2TotalTax"
                                    },
                                    {
                                        "name": "Rpt1Rounding"
                                    },
                                    {
                                        "name": "Rpt2Rounding"
                                    },
                                    {
                                        "name": "Rpt3Rounding"
                                    },
                                    {
                                        "name": "RateGrpCode"
                                    },
                                    {
                                        "name": "Rpt3TotalTax"
                                    },
                                    {
                                        "name": "Rpt1CCAmount"
                                    },
                                    {
                                        "name": "Rpt2CCAmount"
                                    },
                                    {
                                        "name": "Rpt3CCAmount"
                                    },
                                    {
                                        "name": "Rpt1CCFreight"
                                    },
                                    {
                                        "name": "Rpt2CCFreight"
                                    },
                                    {
                                        "name": "Rpt3CCFreight"
                                    },
                                    {
                                        "name": "Rpt1CCTax"
                                    },
                                    {
                                        "name": "Rpt2CCTax"
                                    },
                                    {
                                        "name": "Rpt3CCTax"
                                    },
                                    {
                                        "name": "Rpt1CCTotal"
                                    },
                                    {
                                        "name": "Rpt2CCTotal"
                                    },
                                    {
                                        "name": "Rpt3CCTotal"
                                    },
                                    {
                                        "name": "OrderAmt"
                                    },
                                    {
                                        "name": "DocOrderAmt"
                                    },
                                    {
                                        "name": "Rpt1OrderAmt"
                                    },
                                    {
                                        "name": "Rpt2OrderAmt"
                                    },
                                    {
                                        "name": "Rpt3OrderAmt"
                                    },
                                    {
                                        "name": "TaxPoint"
                                    },
                                    {
                                        "name": "TaxRateDate"
                                    },
                                    {
                                        "name": "TaxRegionCode"
                                    },
                                    {
                                        "name": "UseOTS"
                                    },
                                    {
                                        "name": "OTSName"
                                    },
                                    {
                                        "name": "OTSAddress1"
                                    },
                                    {
                                        "name": "OTSAddress2"
                                    },
                                    {
                                        "name": "OTSAddress3"
                                    },
                                    {
                                        "name": "OTSCity"
                                    },
                                    {
                                        "name": "OTSState"
                                    },
                                    {
                                        "name": "OTSZIP"
                                    },
                                    {
                                        "name": "OTSResaleID"
                                    },
                                    {
                                        "name": "OTSContact"
                                    },
                                    {
                                        "name": "OTSFaxNum"
                                    },
                                    {
                                        "name": "OTSPhoneNum"
                                    },
                                    {
                                        "name": "OTSCountryNum"
                                    },
                                    {
                                        "name": "TotalWHTax"
                                    },
                                    {
                                        "name": "DocTotalWHTax"
                                    },
                                    {
                                        "name": "Rpt1TotalWHTax"
                                    },
                                    {
                                        "name": "Rpt2TotalWHTax"
                                    },
                                    {
                                        "name": "Rpt3TotalWHTax"
                                    },
                                    {
                                        "name": "TotalSATax"
                                    },
                                    {
                                        "name": "DocTotalSATax"
                                    },
                                    {
                                        "name": "Rpt1TotalSATax"
                                    },
                                    {
                                        "name": "Rpt2TotalSATax"
                                    },
                                    {
                                        "name": "Rpt3TotalSATax"
                                    },
                                    {
                                        "name": "OTSSaveAs"
                                    },
                                    {
                                        "name": "OTSSaveCustID"
                                    },
                                    {
                                        "name": "OTSCustSaved"
                                    },
                                    {
                                        "name": "ShipToCustNum"
                                    },
                                    {
                                        "name": "OrderStatus"
                                    },
                                    {
                                        "name": "HoldSetByDemand"
                                    },
                                    {
                                        "name": "InPrice"
                                    },
                                    {
                                        "name": "InTotalCharges"
                                    },
                                    {
                                        "name": "InTotalMisc"
                                    },
                                    {
                                        "name": "InTotalDiscount"
                                    },
                                    {
                                        "name": "DocInTotalCharges"
                                    },
                                    {
                                        "name": "DocInTotalMisc"
                                    },
                                    {
                                        "name": "DocInTotalDiscount"
                                    },
                                    {
                                        "name": "Rpt1InTotalCharges"
                                    },
                                    {
                                        "name": "Rpt2InTotalCharges"
                                    },
                                    {
                                        "name": "Rpt3InTotalCharges"
                                    },
                                    {
                                        "name": "Rpt1InTotalMisc"
                                    },
                                    {
                                        "name": "Rpt2InTotalMisc"
                                    },
                                    {
                                        "name": "Rpt3InTotalMisc"
                                    },
                                    {
                                        "name": "Rpt1InTotalDiscount"
                                    },
                                    {
                                        "name": "Rpt2InTotalDiscount"
                                    },
                                    {
                                        "name": "Rpt3InTotalDiscount"
                                    },
                                    {
                                        "name": "ARLOCID"
                                    },
                                    {
                                        "name": "OurBank"
                                    },
                                    {
                                        "name": "ERSOrder"
                                    },
                                    {
                                        "name": "LOCHold"
                                    },
                                    {
                                        "name": "PSCurrCode"
                                    },
                                    {
                                        "name": "InvCurrCode"
                                    },
                                    {
                                        "name": "LegalNumber"
                                    },
                                    {
                                        "name": "TranDocTypeID"
                                    },
                                    {
                                        "name": "XRefContractNum"
                                    },
                                    {
                                        "name": "XRefContractDate"
                                    },
                                    {
                                        "name": "DemandProcessDate"
                                    },
                                    {
                                        "name": "DemandProcessTime"
                                    },
                                    {
                                        "name": "LastScheduleNumber"
                                    },
                                    {
                                        "name": "LastTCtrlNum"
                                    },
                                    {
                                        "name": "LastBatchNum"
                                    },
                                    {
                                        "name": "ECCOrderNum"
                                    },
                                    {
                                        "name": "ECCPONum"
                                    },
                                    {
                                        "name": "WIOrder"
                                    },
                                    {
                                        "name": "WIApplication"
                                    },
                                    {
                                        "name": "WIUsername"
                                    },
                                    {
                                        "name": "WIUserID"
                                    },
                                    {
                                        "name": "WICreditCardorder"
                                    },
                                    {
                                        "name": "OrderCSR"
                                    },
                                    {
                                        "name": "UserChar1"
                                    },
                                    {
                                        "name": "UserChar2"
                                    },
                                    {
                                        "name": "UserChar3"
                                    },
                                    {
                                        "name": "UserChar4"
                                    },
                                    {
                                        "name": "UserDate1"
                                    },
                                    {
                                        "name": "UserDate2"
                                    },
                                    {
                                        "name": "UserDate3"
                                    },
                                    {
                                        "name": "UserDate4"
                                    },
                                    {
                                        "name": "UserDecimal1"
                                    },
                                    {
                                        "name": "UserDecimal2"
                                    },
                                    {
                                        "name": "UserInteger1"
                                    },
                                    {
                                        "name": "UserInteger2"
                                    },
                                    {
                                        "name": "SysRevID"
                                    },
                                    {
                                        "name": "SysRowID"
                                    },
                                    {
                                        "name": "IsCSRSet"
                                    },
                                    {
                                        "name": "ECCPaymentMethod"
                                    },
                                    {
                                        "name": "AGUseGoodDefaultMark"
                                    },
                                    {
                                        "name": "OTSShipToNum"
                                    },
                                    {
                                        "name": "ProFormaInvComment"
                                    },
                                    {
                                        "name": "ccToken"
                                    },
                                    {
                                        "name": "InvcOrderCmp"
                                    },
                                    {
                                        "name": "ReprintSOAck"
                                    },
                                    {
                                        "name": "CounterSOAck"
                                    },
                                    {
                                        "name": "DispatchReason"
                                    },
                                    {
                                        "name": "Plant"
                                    },
                                    {
                                        "name": "ReadyToFulfill"
                                    },
                                    {
                                        "name": "ShipByTime"
                                    },
                                    {
                                        "name": "TWFiscalYear"
                                    },
                                    {
                                        "name": "TWFiscalYearSuffix"
                                    },
                                    {
                                        "name": "TWFiscalPeriod"
                                    },
                                    {
                                        "name": "TWGUIGroup"
                                    },
                                    {
                                        "name": "TWGUIRegNumSeller"
                                    },
                                    {
                                        "name": "TWGUIRegNumBuyer"
                                    },
                                    {
                                        "name": "OrderOpenCredit"
                                    },
                                    {
                                        "name": "ClosedNotShipped"
                                    },
                                    {
                                        "name": "InvCurrDepositBal"
                                    },
                                    {
                                        "name": "PLArticle106c"
                                    },
                                    {
                                        "name": "PLInvIssuedByTaxpayer"
                                    },
                                    {
                                        "name": "PLInvIssuedBySecondTaxpayer"
                                    },
                                    {
                                        "name": "PLTouristService"
                                    },
                                    {
                                        "name": "PLSecondHandOrArts"
                                    },
                                    {
                                        "name": "PLLegalArticleAct"
                                    },
                                    {
                                        "name": "PLLegalArticleWEDirective"
                                    },
                                    {
                                        "name": "PLLegalArticleOther"
                                    },
                                    {
                                        "name": "PLEnforcementAuthName"
                                    },
                                    {
                                        "name": "PLEnforcementAuthAddr"
                                    },
                                    {
                                        "name": "PLTaxRepresentativeName"
                                    },
                                    {
                                        "name": "PLTaxRepresentativeAddr"
                                    },
                                    {
                                        "name": "PLTaxRepresentativeTaxID"
                                    },
                                    {
                                        "name": "PLMarginScheme"
                                    },
                                    {
                                        "name": "PLGoodsOrServiceVATExempt"
                                    },
                                    {
                                        "name": "CCCity"
                                    },
                                    {
                                        "name": "CCState"
                                    },
                                    {
                                        "name": "ExtAOEUserID"
                                    },
                                    {
                                        "name": "ExtAOE"
                                    }
                                ]
                            },
                            "data": [
                                {
                                    "OpenOrder": "0",
                                    "VoidOrder": "0",
                                    "Company": "TES",
                                    "OrderNum": "5005399",
                                    "CustNum": "884",
                                    "PONum": "FrankFehr",
                                    "OrderHeld": "0",
                                    "EntryPerson": "MMaceyovski",
                                    "ShipToNum": "",
                                    "RequestDate": "2022-11-10",
                                    "OrderDate": "2022-09-13",
                                    "FOB": "",
                                    "ShipViaCode": "001",
                                    "TermsCode": "COD",
                                    "DiscountPercent": "0.00",
                                    "PrcConNum": "0",
                                    "ShpConNum": "0",
                                    "SalesRepList": "",
                                    "OrderComment": "",
                                    "ShipComment": "",
                                    "InvoiceComment": "",
                                    "PickListComment": "",
                                    "DepositBal": "0.000",
                                    "DocDepositBal": "0.000",
                                    "NeedByDate": "2022-11-10",
                                    "CreditOverride": "0",
                                    "CreditOverrideUserID": "",
                                    "CreditOverrideDate": "NULL",
                                    "CreditOverrideTime": "",
                                    "CreditOverrideLimit": "0.000",
                                    "SndAlrtShp": "0",
                                    "ExchangeRate": "1.0000000000",
                                    "CurrencyCode": "CAD",
                                    "LockRate": "0",
                                    "CardMemberName": "",
                                    "CardNumber": "",
                                    "CardType": "",
                                    "ExpirationMonth": "0",
                                    "ExpirationYear": "0",
                                    "CardID": "",
                                    "CardmemberReference": "",
                                    "AllocPriorityCode": "",
                                    "ReservePriorityCode": "",
                                    "ShipOrderComplete": "1",
                                    "WebOrder": "0",
                                    "CCApprovalNum": "",
                                    "EDIOrder": "0",
                                    "EDIAck": "0",
                                    "Linked": "0",
                                    "ICPONum": "0",
                                    "ExtCompany": "",
                                    "WebEntryPerson": "",
                                    "AckEmailSent": "0",
                                    "ApplyOrderBasedDisc": "0",
                                    "AutoOrderBasedDisc": "0",
                                    "EntryMethod": "S",
                                    "HDCaseNum": "0",
                                    "CounterSale": "0",
                                    "CreateInvoice": "0",
                                    "CreatePackingSlip": "0",
                                    "LockQty": "0",
                                    "ProcessCard": "",
                                    "CCAmount": "35253.090",
                                    "CCFreight": "0.000",
                                    "CCTax": "0.000",
                                    "CCTotal": "35253.090",
                                    "CCDocAmount": "35253.090",
                                    "CCDocFreight": "0.000",
                                    "CCDocTax": "0.000",
                                    "CCDocTotal": "35253.090",
                                    "CCStreetAddr": "",
                                    "CCZip": "",
                                    "BTCustNum": "884",
                                    "BTConNum": "0",
                                    "RepRate4": "0.00",
                                    "RepRate5": "0.00",
                                    "RepSplit1": "0",
                                    "RepSplit2": "0",
                                    "RepSplit3": "0",
                                    "RepSplit4": "0",
                                    "RepSplit5": "0",
                                    "RepRate1": "0.00",
                                    "RepRate2": "0.00",
                                    "RepRate3": "0.00",
                                    "OutboundSalesDocCtr": "0",
                                    "OutboundShipDocsCtr": "0",
                                    "DemandContractNum": "0",
                                    "DoNotShipBeforeDate": "NULL",
                                    "ResDelivery": "0",
                                    "DoNotShipAfterDate": "NULL",
                                    "SatDelivery": "0",
                                    "SatPickup": "0",
                                    "Hazmat": "0",
                                    "DocOnly": "0",
                                    "RefNotes": "",
                                    "ApplyChrg": "0",
                                    "ChrgAmount": "0.000",
                                    "COD": "0",
                                    "CODFreight": "0",
                                    "CODCheck": "0",
                                    "CODAmount": "0.000",
                                    "GroundType": "",
                                    "NotifyFlag": "0",
                                    "NotifyEMail": "",
                                    "DeclaredIns": "0",
                                    "DeclaredAmt": "0.000",
                                    "CancelAfterDate": "NULL",
                                    "DemandRejected": "0",
                                    "OverrideCarrier": "0",
                                    "OverrideService": "0",
                                    "CreditCardOrder": "0",
                                    "DemandHeadSeq": "0",
                                    "PayFlag": "",
                                    "PayAccount": "",
                                    "PayBTAddress1": "",
                                    "PayBTAddress2": "",
                                    "PayBTCity": "",
                                    "PayBTState": "",
                                    "PayBTZip": "",
                                    "PayBTCountry": "",
                                    "DropShip": "0",
                                    "CommercialInvoice": "0",
                                    "ShipExprtDeclartn": "0",
                                    "CertOfOrigin": "0",
                                    "LetterOfInstr": "0",
                                    "FFID": "",
                                    "FFAddress1": "",
                                    "FFAddress2": "",
                                    "FFCity": "",
                                    "FFState": "",
                                    "FFZip": "",
                                    "FFCountry": "",
                                    "FFContact": "",
                                    "FFCompName": "",
                                    "FFPhoneNum": "",
                                    "IntrntlShip": "0",
                                    "ChangedBy": "KCollard",
                                    "ChangeDate": "2022-12-19",
                                    "ChangeTime": "57848",
                                    "AutoPrintReady": "0",
                                    "EDIReady": "0",
                                    "IndividualPackIDs": "0",
                                    "FFAddress3": "",
                                    "DeliveryConf": "1",
                                    "AddlHdlgFlag": "0",
                                    "NonStdPkg": "0",
                                    "ServSignature": "0",
                                    "ServAlert": "0",
                                    "ServHomeDel": "0",
                                    "DeliveryType": "",
                                    "ServDeliveryDate": "NULL",
                                    "ServInstruct": "",
                                    "ServRef1": "",
                                    "ServRef2": "",
                                    "ServRef3": "",
                                    "ServRef4": "",
                                    "ServRef5": "",
                                    "FFCountryNum": "0",
                                    "ServPhone": "",
                                    "ServRelease": "0",
                                    "ServAuthNum": "",
                                    "PayBTAddress3": "",
                                    "PayBTCountryNum": "0",
                                    "PayBTPhone": "",
                                    "UPSQuantumView": "0",
                                    "UPSQVShipFromName": "",
                                    "UPSQVMemo": "",
                                    "ReadyToCalc": "1",
                                    "TotalCharges": "35253.090",
                                    "TotalMisc": "0.000",
                                    "TotalDiscount": "0.000",
                                    "TotalComm": "0.000",
                                    "TotalAdvBill": "0.000",
                                    "TotalLines": "7",
                                    "TotalReleases": "7",
                                    "TotalRelDates": "1",
                                    "DocTotalCharges": "35253.090",
                                    "DocTotalMisc": "0.000",
                                    "DocTotalDiscount": "0.000",
                                    "DocTotalComm": "0.000",
                                    "TotalTax": "0.000",
                                    "DocTotalTax": "0.000",
                                    "DocTotalAdvBill": "0.000",
                                    "TotalShipped": "0.000",
                                    "TotalInvoiced": "0.000",
                                    "TotalCommLines": "0",
                                    "SRCommAmt1": "0.000",
                                    "SRCommAmt2": "0.000",
                                    "SRCommAmt3": "0.000",
                                    "SRCommAmt4": "0.000",
                                    "SRCommAmt5": "0.000",
                                    "SRCommableAmt1": "0.000",
                                    "SRCommableAmt2": "0.000",
                                    "SRCommableAmt3": "0.000",
                                    "SRCommableAmt4": "0.000",
                                    "SRCommableAmt5": "0.000",
                                    "Rounding": "0.00000",
                                    "Rpt1DepositBal": "0.000",
                                    "DocRounding": "0.00000",
                                    "Rpt2DepositBal": "0.000",
                                    "Rpt3DepositBal": "0.000",
                                    "Rpt1TotalCharges": "27550.300",
                                    "Rpt2TotalCharges": "0.000",
                                    "Rpt3TotalCharges": "0.000",
                                    "Rpt1TotalAdvBill": "0.000",
                                    "Rpt2TotalAdvBill": "0.000",
                                    "Rpt3TotalAdvBill": "0.000",
                                    "Rpt1TotalMisc": "0.000",
                                    "Rpt2TotalMisc": "0.000",
                                    "Rpt3TotalMisc": "0.000",
                                    "Rpt1TotalDiscount": "0.000",
                                    "Rpt2TotalDiscount": "0.000",
                                    "Rpt3TotalDiscount": "0.000",
                                    "Rpt1TotalComm": "0.000",
                                    "Rpt2TotalComm": "0.000",
                                    "Rpt3TotalComm": "0.000",
                                    "Rpt1TotalTax": "0.000",
                                    "Rpt2TotalTax": "0.000",
                                    "Rpt1Rounding": "0.00000",
                                    "Rpt2Rounding": "0.00000",
                                    "Rpt3Rounding": "0.00000",
                                    "RateGrpCode": "MTHEND",
                                    "Rpt3TotalTax": "0.000",
                                    "Rpt1CCAmount": "27550.300",
                                    "Rpt2CCAmount": "0.000",
                                    "Rpt3CCAmount": "0.000",
                                    "Rpt1CCFreight": "0.000",
                                    "Rpt2CCFreight": "0.000",
                                    "Rpt3CCFreight": "0.000",
                                    "Rpt1CCTax": "0.000",
                                    "Rpt2CCTax": "0.000",
                                    "Rpt3CCTax": "0.000",
                                    "Rpt1CCTotal": "27550.300",
                                    "Rpt2CCTotal": "0.000",
                                    "Rpt3CCTotal": "0.000",
                                    "OrderAmt": "35253.090",
                                    "DocOrderAmt": "35253.090",
                                    "Rpt1OrderAmt": "27550.300",
                                    "Rpt2OrderAmt": "0.000",
                                    "Rpt3OrderAmt": "0.000",
                                    "TaxPoint": "NULL",
                                    "TaxRateDate": "NULL",
                                    "TaxRegionCode": "",
                                    "UseOTS": "0",
                                    "OTSName": "",
                                    "OTSAddress1": "",
                                    "OTSAddress2": "",
                                    "OTSAddress3": "",
                                    "OTSCity": "",
                                    "OTSState": "",
                                    "OTSZIP": "",
                                    "OTSResaleID": "",
                                    "OTSContact": "",
                                    "OTSFaxNum": "",
                                    "OTSPhoneNum": "",
                                    "OTSCountryNum": "0",
                                    "TotalWHTax": "0.000",
                                    "DocTotalWHTax": "0.000",
                                    "Rpt1TotalWHTax": "0.000",
                                    "Rpt2TotalWHTax": "0.000",
                                    "Rpt3TotalWHTax": "0.000",
                                    "TotalSATax": "0.000",
                                    "DocTotalSATax": "0.000",
                                    "Rpt1TotalSATax": "0.000",
                                    "Rpt2TotalSATax": "0.000",
                                    "Rpt3TotalSATax": "0.000",
                                    "OTSSaveAs": "",
                                    "OTSSaveCustID": "",
                                    "OTSCustSaved": "0",
                                    "ShipToCustNum": "884",
                                    "OrderStatus": "",
                                    "HoldSetByDemand": "0",
                                    "InPrice": "0",
                                    "InTotalCharges": "0.000",
                                    "InTotalMisc": "0.000",
                                    "InTotalDiscount": "0.000",
                                    "DocInTotalCharges": "0.000",
                                    "DocInTotalMisc": "0.000",
                                    "DocInTotalDiscount": "0.000",
                                    "Rpt1InTotalCharges": "0.000",
                                    "Rpt2InTotalCharges": "0.000",
                                    "Rpt3InTotalCharges": "0.000",
                                    "Rpt1InTotalMisc": "0.000",
                                    "Rpt2InTotalMisc": "0.000",
                                    "Rpt3InTotalMisc": "0.000",
                                    "Rpt1InTotalDiscount": "0.000",
                                    "Rpt2InTotalDiscount": "0.000",
                                    "Rpt3InTotalDiscount": "0.000",
                                    "ARLOCID": "",
                                    "OurBank": "",
                                    "ERSOrder": "0",
                                    "LOCHold": "0",
                                    "PSCurrCode": "CAD",
                                    "InvCurrCode": "CAD",
                                    "LegalNumber": "",
                                    "TranDocTypeID": "",
                                    "XRefContractNum": "",
                                    "XRefContractDate": "NULL",
                                    "DemandProcessDate": "NULL",
                                    "DemandProcessTime": "0",
                                    "LastScheduleNumber": "",
                                    "LastTCtrlNum": "",
                                    "LastBatchNum": "",
                                    "ECCOrderNum": "",
                                    "ECCPONum": "",
                                    "WIOrder": "",
                                    "WIApplication": "",
                                    "WIUsername": "",
                                    "WIUserID": "",
                                    "WICreditCardorder": "0",
                                    "OrderCSR": "",
                                    "UserChar1": "",
                                    "UserChar2": "",
                                    "UserChar3": "",
                                    "UserChar4": "",
                                    "UserDate1": "2022-12-19",
                                    "UserDate2": "NULL",
                                    "UserDate3": "NULL",
                                    "UserDate4": "NULL",
                                    "UserDecimal1": "0.00",
                                    "UserDecimal2": "0.00",
                                    "UserInteger1": "0",
                                    "UserInteger2": "0",
                                    "SysRevID": "0x00000003A947C68C",
                                    "SysRowID": "975efbaa-0b77-4870-b97c-7d13c9a2e669",
                                    "IsCSRSet": "0",
                                    "ECCPaymentMethod": "",
                                    "AGUseGoodDefaultMark": "0",
                                    "OTSShipToNum": "",
                                    "ProFormaInvComment": "",
                                    "ccToken": "",
                                    "InvcOrderCmp": "0",
                                    "ReprintSOAck": "1",
                                    "CounterSOAck": "0",
                                    "DispatchReason": "",
                                    "Plant": "MfgSys",
                                    "ReadyToFulfill": "1",
                                    "ShipByTime": "0",
                                    "TWFiscalYear": "0",
                                    "TWFiscalYearSuffix": "",
                                    "TWFiscalPeriod": "0",
                                    "TWGUIGroup": "",
                                    "TWGUIRegNumSeller": "",
                                    "TWGUIRegNumBuyer": "",
                                    "OrderOpenCredit": "0.000",
                                    "ClosedNotShipped": "35253.090",
                                    "InvCurrDepositBal": "0.000",
                                    "PLArticle106c": "0",
                                    "PLInvIssuedByTaxpayer": "0",
                                    "PLInvIssuedBySecondTaxpayer": "0",
                                    "PLTouristService": "0",
                                    "PLSecondHandOrArts": "0",
                                    "PLLegalArticleAct": "",
                                    "PLLegalArticleWEDirective": "",
                                    "PLLegalArticleOther": "",
                                    "PLEnforcementAuthName": "",
                                    "PLEnforcementAuthAddr": "",
                                    "PLTaxRepresentativeName": "",
                                    "PLTaxRepresentativeAddr": "",
                                    "PLTaxRepresentativeTaxID": "",
                                    "PLMarginScheme": "0",
                                    "PLGoodsOrServiceVATExempt": "0",
                                    "CCCity": "",
                                    "CCState": "",
                                    "ExtAOEUserID": "",
                                    "ExtAOE": ""
                                }
                            ]
                        },
                        "text/html": "<table><tr><th>OpenOrder</th><th>VoidOrder</th><th>Company</th><th>OrderNum</th><th>CustNum</th><th>PONum</th><th>OrderHeld</th><th>EntryPerson</th><th>ShipToNum</th><th>RequestDate</th><th>OrderDate</th><th>FOB</th><th>ShipViaCode</th><th>TermsCode</th><th>DiscountPercent</th><th>PrcConNum</th><th>ShpConNum</th><th>SalesRepList</th><th>OrderComment</th><th>ShipComment</th><th>InvoiceComment</th><th>PickListComment</th><th>DepositBal</th><th>DocDepositBal</th><th>NeedByDate</th><th>CreditOverride</th><th>CreditOverrideUserID</th><th>CreditOverrideDate</th><th>CreditOverrideTime</th><th>CreditOverrideLimit</th><th>SndAlrtShp</th><th>ExchangeRate</th><th>CurrencyCode</th><th>LockRate</th><th>CardMemberName</th><th>CardNumber</th><th>CardType</th><th>ExpirationMonth</th><th>ExpirationYear</th><th>CardID</th><th>CardmemberReference</th><th>AllocPriorityCode</th><th>ReservePriorityCode</th><th>ShipOrderComplete</th><th>WebOrder</th><th>CCApprovalNum</th><th>EDIOrder</th><th>EDIAck</th><th>Linked</th><th>ICPONum</th><th>ExtCompany</th><th>WebEntryPerson</th><th>AckEmailSent</th><th>ApplyOrderBasedDisc</th><th>AutoOrderBasedDisc</th><th>EntryMethod</th><th>HDCaseNum</th><th>CounterSale</th><th>CreateInvoice</th><th>CreatePackingSlip</th><th>LockQty</th><th>ProcessCard</th><th>CCAmount</th><th>CCFreight</th><th>CCTax</th><th>CCTotal</th><th>CCDocAmount</th><th>CCDocFreight</th><th>CCDocTax</th><th>CCDocTotal</th><th>CCStreetAddr</th><th>CCZip</th><th>BTCustNum</th><th>BTConNum</th><th>RepRate4</th><th>RepRate5</th><th>RepSplit1</th><th>RepSplit2</th><th>RepSplit3</th><th>RepSplit4</th><th>RepSplit5</th><th>RepRate1</th><th>RepRate2</th><th>RepRate3</th><th>OutboundSalesDocCtr</th><th>OutboundShipDocsCtr</th><th>DemandContractNum</th><th>DoNotShipBeforeDate</th><th>ResDelivery</th><th>DoNotShipAfterDate</th><th>SatDelivery</th><th>SatPickup</th><th>Hazmat</th><th>DocOnly</th><th>RefNotes</th><th>ApplyChrg</th><th>ChrgAmount</th><th>COD</th><th>CODFreight</th><th>CODCheck</th><th>CODAmount</th><th>GroundType</th><th>NotifyFlag</th><th>NotifyEMail</th><th>DeclaredIns</th><th>DeclaredAmt</th><th>CancelAfterDate</th><th>DemandRejected</th><th>OverrideCarrier</th><th>OverrideService</th><th>CreditCardOrder</th><th>DemandHeadSeq</th><th>PayFlag</th><th>PayAccount</th><th>PayBTAddress1</th><th>PayBTAddress2</th><th>PayBTCity</th><th>PayBTState</th><th>PayBTZip</th><th>PayBTCountry</th><th>DropShip</th><th>CommercialInvoice</th><th>ShipExprtDeclartn</th><th>CertOfOrigin</th><th>LetterOfInstr</th><th>FFID</th><th>FFAddress1</th><th>FFAddress2</th><th>FFCity</th><th>FFState</th><th>FFZip</th><th>FFCountry</th><th>FFContact</th><th>FFCompName</th><th>FFPhoneNum</th><th>IntrntlShip</th><th>ChangedBy</th><th>ChangeDate</th><th>ChangeTime</th><th>AutoPrintReady</th><th>EDIReady</th><th>IndividualPackIDs</th><th>FFAddress3</th><th>DeliveryConf</th><th>AddlHdlgFlag</th><th>NonStdPkg</th><th>ServSignature</th><th>ServAlert</th><th>ServHomeDel</th><th>DeliveryType</th><th>ServDeliveryDate</th><th>ServInstruct</th><th>ServRef1</th><th>ServRef2</th><th>ServRef3</th><th>ServRef4</th><th>ServRef5</th><th>FFCountryNum</th><th>ServPhone</th><th>ServRelease</th><th>ServAuthNum</th><th>PayBTAddress3</th><th>PayBTCountryNum</th><th>PayBTPhone</th><th>UPSQuantumView</th><th>UPSQVShipFromName</th><th>UPSQVMemo</th><th>ReadyToCalc</th><th>TotalCharges</th><th>TotalMisc</th><th>TotalDiscount</th><th>TotalComm</th><th>TotalAdvBill</th><th>TotalLines</th><th>TotalReleases</th><th>TotalRelDates</th><th>DocTotalCharges</th><th>DocTotalMisc</th><th>DocTotalDiscount</th><th>DocTotalComm</th><th>TotalTax</th><th>DocTotalTax</th><th>DocTotalAdvBill</th><th>TotalShipped</th><th>TotalInvoiced</th><th>TotalCommLines</th><th>SRCommAmt1</th><th>SRCommAmt2</th><th>SRCommAmt3</th><th>SRCommAmt4</th><th>SRCommAmt5</th><th>SRCommableAmt1</th><th>SRCommableAmt2</th><th>SRCommableAmt3</th><th>SRCommableAmt4</th><th>SRCommableAmt5</th><th>Rounding</th><th>Rpt1DepositBal</th><th>DocRounding</th><th>Rpt2DepositBal</th><th>Rpt3DepositBal</th><th>Rpt1TotalCharges</th><th>Rpt2TotalCharges</th><th>Rpt3TotalCharges</th><th>Rpt1TotalAdvBill</th><th>Rpt2TotalAdvBill</th><th>Rpt3TotalAdvBill</th><th>Rpt1TotalMisc</th><th>Rpt2TotalMisc</th><th>Rpt3TotalMisc</th><th>Rpt1TotalDiscount</th><th>Rpt2TotalDiscount</th><th>Rpt3TotalDiscount</th><th>Rpt1TotalComm</th><th>Rpt2TotalComm</th><th>Rpt3TotalComm</th><th>Rpt1TotalTax</th><th>Rpt2TotalTax</th><th>Rpt1Rounding</th><th>Rpt2Rounding</th><th>Rpt3Rounding</th><th>RateGrpCode</th><th>Rpt3TotalTax</th><th>Rpt1CCAmount</th><th>Rpt2CCAmount</th><th>Rpt3CCAmount</th><th>Rpt1CCFreight</th><th>Rpt2CCFreight</th><th>Rpt3CCFreight</th><th>Rpt1CCTax</th><th>Rpt2CCTax</th><th>Rpt3CCTax</th><th>Rpt1CCTotal</th><th>Rpt2CCTotal</th><th>Rpt3CCTotal</th><th>OrderAmt</th><th>DocOrderAmt</th><th>Rpt1OrderAmt</th><th>Rpt2OrderAmt</th><th>Rpt3OrderAmt</th><th>TaxPoint</th><th>TaxRateDate</th><th>TaxRegionCode</th><th>UseOTS</th><th>OTSName</th><th>OTSAddress1</th><th>OTSAddress2</th><th>OTSAddress3</th><th>OTSCity</th><th>OTSState</th><th>OTSZIP</th><th>OTSResaleID</th><th>OTSContact</th><th>OTSFaxNum</th><th>OTSPhoneNum</th><th>OTSCountryNum</th><th>TotalWHTax</th><th>DocTotalWHTax</th><th>Rpt1TotalWHTax</th><th>Rpt2TotalWHTax</th><th>Rpt3TotalWHTax</th><th>TotalSATax</th><th>DocTotalSATax</th><th>Rpt1TotalSATax</th><th>Rpt2TotalSATax</th><th>Rpt3TotalSATax</th><th>OTSSaveAs</th><th>OTSSaveCustID</th><th>OTSCustSaved</th><th>ShipToCustNum</th><th>OrderStatus</th><th>HoldSetByDemand</th><th>InPrice</th><th>InTotalCharges</th><th>InTotalMisc</th><th>InTotalDiscount</th><th>DocInTotalCharges</th><th>DocInTotalMisc</th><th>DocInTotalDiscount</th><th>Rpt1InTotalCharges</th><th>Rpt2InTotalCharges</th><th>Rpt3InTotalCharges</th><th>Rpt1InTotalMisc</th><th>Rpt2InTotalMisc</th><th>Rpt3InTotalMisc</th><th>Rpt1InTotalDiscount</th><th>Rpt2InTotalDiscount</th><th>Rpt3InTotalDiscount</th><th>ARLOCID</th><th>OurBank</th><th>ERSOrder</th><th>LOCHold</th><th>PSCurrCode</th><th>InvCurrCode</th><th>LegalNumber</th><th>TranDocTypeID</th><th>XRefContractNum</th><th>XRefContractDate</th><th>DemandProcessDate</th><th>DemandProcessTime</th><th>LastScheduleNumber</th><th>LastTCtrlNum</th><th>LastBatchNum</th><th>ECCOrderNum</th><th>ECCPONum</th><th>WIOrder</th><th>WIApplication</th><th>WIUsername</th><th>WIUserID</th><th>WICreditCardorder</th><th>OrderCSR</th><th>UserChar1</th><th>UserChar2</th><th>UserChar3</th><th>UserChar4</th><th>UserDate1</th><th>UserDate2</th><th>UserDate3</th><th>UserDate4</th><th>UserDecimal1</th><th>UserDecimal2</th><th>UserInteger1</th><th>UserInteger2</th><th>SysRevID</th><th>SysRowID</th><th>IsCSRSet</th><th>ECCPaymentMethod</th><th>AGUseGoodDefaultMark</th><th>OTSShipToNum</th><th>ProFormaInvComment</th><th>ccToken</th><th>InvcOrderCmp</th><th>ReprintSOAck</th><th>CounterSOAck</th><th>DispatchReason</th><th>Plant</th><th>ReadyToFulfill</th><th>ShipByTime</th><th>TWFiscalYear</th><th>TWFiscalYearSuffix</th><th>TWFiscalPeriod</th><th>TWGUIGroup</th><th>TWGUIRegNumSeller</th><th>TWGUIRegNumBuyer</th><th>OrderOpenCredit</th><th>ClosedNotShipped</th><th>InvCurrDepositBal</th><th>PLArticle106c</th><th>PLInvIssuedByTaxpayer</th><th>PLInvIssuedBySecondTaxpayer</th><th>PLTouristService</th><th>PLSecondHandOrArts</th><th>PLLegalArticleAct</th><th>PLLegalArticleWEDirective</th><th>PLLegalArticleOther</th><th>PLEnforcementAuthName</th><th>PLEnforcementAuthAddr</th><th>PLTaxRepresentativeName</th><th>PLTaxRepresentativeAddr</th><th>PLTaxRepresentativeTaxID</th><th>PLMarginScheme</th><th>PLGoodsOrServiceVATExempt</th><th>CCCity</th><th>CCState</th><th>ExtAOEUserID</th><th>ExtAOE</th></tr><tr><td>0</td><td>0</td><td>TES</td><td>5005399</td><td>884</td><td>FrankFehr</td><td>0</td><td>MMaceyovski</td><td></td><td>2022-11-10</td><td>2022-09-13</td><td></td><td>001</td><td>COD</td><td>0.00</td><td>0</td><td>0</td><td></td><td></td><td></td><td></td><td></td><td>0.000</td><td>0.000</td><td>2022-11-10</td><td>0</td><td></td><td>NULL</td><td></td><td>0.000</td><td>0</td><td>1.0000000000</td><td>CAD</td><td>0</td><td></td><td></td><td></td><td>0</td><td>0</td><td></td><td></td><td></td><td></td><td>1</td><td>0</td><td></td><td>0</td><td>0</td><td>0</td><td>0</td><td></td><td></td><td>0</td><td>0</td><td>0</td><td>S</td><td>0</td><td>0</td><td>0</td><td>0</td><td>0</td><td></td><td>35253.090</td><td>0.000</td><td>0.000</td><td>35253.090</td><td>35253.090</td><td>0.000</td><td>0.000</td><td>35253.090</td><td></td><td></td><td>884</td><td>0</td><td>0.00</td><td>0.00</td><td>0</td><td>0</td><td>0</td><td>0</td><td>0</td><td>0.00</td><td>0.00</td><td>0.00</td><td>0</td><td>0</td><td>0</td><td>NULL</td><td>0</td><td>NULL</td><td>0</td><td>0</td><td>0</td><td>0</td><td></td><td>0</td><td>0.000</td><td>0</td><td>0</td><td>0</td><td>0.000</td><td></td><td>0</td><td></td><td>0</td><td>0.000</td><td>NULL</td><td>0</td><td>0</td><td>0</td><td>0</td><td>0</td><td></td><td></td><td></td><td></td><td></td><td></td><td></td><td></td><td>0</td><td>0</td><td>0</td><td>0</td><td>0</td><td></td><td></td><td></td><td></td><td></td><td></td><td></td><td></td><td></td><td></td><td>0</td><td>KCollard</td><td>2022-12-19</td><td>57848</td><td>0</td><td>0</td><td>0</td><td></td><td>1</td><td>0</td><td>0</td><td>0</td><td>0</td><td>0</td><td></td><td>NULL</td><td></td><td></td><td></td><td></td><td></td><td></td><td>0</td><td></td><td>0</td><td></td><td></td><td>0</td><td></td><td>0</td><td></td><td></td><td>1</td><td>35253.090</td><td>0.000</td><td>0.000</td><td>0.000</td><td>0.000</td><td>7</td><td>7</td><td>1</td><td>35253.090</td><td>0.000</td><td>0.000</td><td>0.000</td><td>0.000</td><td>0.000</td><td>0.000</td><td>0.000</td><td>0.000</td><td>0</td><td>0.000</td><td>0.000</td><td>0.000</td><td>0.000</td><td>0.000</td><td>0.000</td><td>0.000</td><td>0.000</td><td>0.000</td><td>0.000</td><td>0.00000</td><td>0.000</td><td>0.00000</td><td>0.000</td><td>0.000</td><td>27550.300</td><td>0.000</td><td>0.000</td><td>0.000</td><td>0.000</td><td>0.000</td><td>0.000</td><td>0.000</td><td>0.000</td><td>0.000</td><td>0.000</td><td>0.000</td><td>0.000</td><td>0.000</td><td>0.000</td><td>0.000</td><td>0.000</td><td>0.00000</td><td>0.00000</td><td>0.00000</td><td>MTHEND</td><td>0.000</td><td>27550.300</td><td>0.000</td><td>0.000</td><td>0.000</td><td>0.000</td><td>0.000</td><td>0.000</td><td>0.000</td><td>0.000</td><td>27550.300</td><td>0.000</td><td>0.000</td><td>35253.090</td><td>35253.090</td><td>27550.300</td><td>0.000</td><td>0.000</td><td>NULL</td><td>NULL</td><td></td><td>0</td><td></td><td></td><td></td><td></td><td></td><td></td><td></td><td></td><td></td><td></td><td></td><td>0</td><td>0.000</td><td>0.000</td><td>0.000</td><td>0.000</td><td>0.000</td><td>0.000</td><td>0.000</td><td>0.000</td><td>0.000</td><td>0.000</td><td></td><td></td><td>0</td><td>884</td><td></td><td>0</td><td>0</td><td>0.000</td><td>0.000</td><td>0.000</td><td>0.000</td><td>0.000</td><td>0.000</td><td>0.000</td><td>0.000</td><td>0.000</td><td>0.000</td><td>0.000</td><td>0.000</td><td>0.000</td><td>0.000</td><td>0.000</td><td></td><td></td><td>0</td><td>0</td><td>CAD</td><td>CAD</td><td></td><td></td><td></td><td>NULL</td><td>NULL</td><td>0</td><td></td><td></td><td></td><td></td><td></td><td></td><td></td><td></td><td></td><td>0</td><td></td><td></td><td></td><td></td><td></td><td>2022-12-19</td><td>NULL</td><td>NULL</td><td>NULL</td><td>0.00</td><td>0.00</td><td>0</td><td>0</td><td>0x00000003A947C68C</td><td>975efbaa-0b77-4870-b97c-7d13c9a2e669</td><td>0</td><td></td><td>0</td><td></td><td></td><td></td><td>0</td><td>1</td><td>0</td><td></td><td>MfgSys</td><td>1</td><td>0</td><td>0</td><td></td><td>0</td><td></td><td></td><td></td><td>0.000</td><td>35253.090</td><td>0.000</td><td>0</td><td>0</td><td>0</td><td>0</td><td>0</td><td></td><td></td><td></td><td></td><td></td><td></td><td></td><td></td><td>0</td><td>0</td><td></td><td></td><td></td><td></td></tr></table>"
                    },
                    "metadata": {}
                }
            ],
            "execution_count": 1
        }
    ]
}