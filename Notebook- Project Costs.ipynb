{
    "metadata": {
        "kernelspec": {
            "name": "SQL",
            "display_name": "SQL",
            "language": "sql"
        },
        "language_info": {
            "name": "sql",
            "version": ""
        },
        "extensions": {
            "azuredatastudio": {
                "version": 1,
                "views": []
            }
        }
    },
    "nbformat_minor": 2,
    "nbformat": 4,
    "cells": [
        {
            "cell_type": "code",
            "source": [
                "SELECT Proj.ProjectKey\n",
                "      ,Proj.[CompanyKey]\n",
                "      ,Proj.[ProjectID]\n",
                "      ,Proj.[Description]\n",
                "      ,Proj.[ActiveProject]\n",
                "     -- ,Ordr.[OrderHed_OrderNum]\n",
                "     -- ,ordr.[OrderHed_ShipToCustNum]\n",
                "     -- ,ordr.OrderHed_OrderAmt\n",
                "  FROM [dbo].[vw_DimProject] proj\n",
                " -- LEFT JOIN [dbo].[vw_DimOrder] Ordr ON Proj.ProjectKey = Ordr.ProjectKey\n",
                "  WHERE ProjectID='2170022' AND proj.CompanyKey = 2;"
            ],
            "metadata": {
                "extensions": {
                    "azuredatastudio": {
                        "views": []
                    }
                },
                "azdata_cell_guid": "ab0cccd6-8920-4350-af09-547cafea49dd",
                "tags": []
            },
            "outputs": [
                {
                    "output_type": "display_data",
                    "data": {
                        "text/html": "(1 row affected)"
                    },
                    "metadata": {}
                },
                {
                    "output_type": "display_data",
                    "data": {
                        "text/html": "Total execution time: 00:00:00.116"
                    },
                    "metadata": {}
                },
                {
                    "output_type": "execute_result",
                    "execution_count": 1,
                    "data": {
                        "application/vnd.dataresource+json": {
                            "schema": {
                                "fields": [
                                    {
                                        "name": "ProjectKey"
                                    },
                                    {
                                        "name": "CompanyKey"
                                    },
                                    {
                                        "name": "ProjectID"
                                    },
                                    {
                                        "name": "Description"
                                    },
                                    {
                                        "name": "ActiveProject"
                                    }
                                ]
                            },
                            "data": [
                                {
                                    "0": "7647",
                                    "1": "2",
                                    "2": "2170022",
                                    "3": "EMPOWER - JPMC VISION DR, OH",
                                    "4": "true"
                                }
                            ]
                        },
                        "text/html": "<table><tr><th>ProjectKey</th><th>CompanyKey</th><th>ProjectID</th><th>Description</th><th>ActiveProject</th></tr><tr><td>7647</td><td>2</td><td>2170022</td><td>EMPOWER - JPMC VISION DR, OH</td><td>true</td></tr></table>"
                    },
                    "metadata": {}
                }
            ],
            "execution_count": 1
        },
        {
            "cell_type": "code",
            "source": [
                "SELECT\r\n",
                "*\r\n",
                "From [dbo].[vw_DimOrder] ordr\r\n",
                "Where ProjectKey = 7647;"
            ],
            "metadata": {
                "azdata_cell_guid": "0ecdca59-4f5f-474f-9bd9-f49f4bc6110b"
            },
            "outputs": [
                {
                    "output_type": "display_data",
                    "data": {
                        "text/html": "(11 rows affected)"
                    },
                    "metadata": {}
                },
                {
                    "output_type": "display_data",
                    "data": {
                        "text/html": "Total execution time: 00:00:00.224"
                    },
                    "metadata": {}
                },
                {
                    "output_type": "execute_result",
                    "execution_count": 5,
                    "data": {
                        "application/vnd.dataresource+json": {
                            "schema": {
                                "fields": [
                                    {
                                        "name": "CompanyKey"
                                    },
                                    {
                                        "name": "OrderHed_OrderNum"
                                    },
                                    {
                                        "name": "OrderHed_Division"
                                    },
                                    {
                                        "name": "PartyKey"
                                    },
                                    {
                                        "name": "ProjectKey"
                                    },
                                    {
                                        "name": "CalendarKey"
                                    },
                                    {
                                        "name": "CurrencyKey"
                                    },
                                    {
                                        "name": "OrderHed_NeedByDate"
                                    },
                                    {
                                        "name": "OrderHed_OpenOrder"
                                    },
                                    {
                                        "name": "OrderHed_OrderAmt"
                                    },
                                    {
                                        "name": "OrderHed_OrderDate"
                                    },
                                    {
                                        "name": "OrderHed_OrderHeld"
                                    },
                                    {
                                        "name": "OrderHed_OrderStatus"
                                    },
                                    {
                                        "name": "OrderHed_PONum"
                                    },
                                    {
                                        "name": "OrderHed_CurrencyCode"
                                    },
                                    {
                                        "name": "OrderHed_RequestDate"
                                    },
                                    {
                                        "name": "OrderHed_SalesRepList"
                                    },
                                    {
                                        "name": "OrderHed_ShipToCustNum"
                                    },
                                    {
                                        "name": "OrderHed_ShipToNum"
                                    },
                                    {
                                        "name": "OrderHed_TotalCharges"
                                    },
                                    {
                                        "name": "OrderHed_TotalInvoiced"
                                    },
                                    {
                                        "name": "OrderHed_TotalLines"
                                    },
                                    {
                                        "name": "OrderHed_TotalReleases"
                                    },
                                    {
                                        "name": "OrderHed_VoidOrder"
                                    },
                                    {
                                        "name": "RecActiveInd"
                                    }
                                ]
                            },
                            "data": [
                                {
                                    "0": "2",
                                    "1": "2170022",
                                    "2": "NULL",
                                    "3": "NULL",
                                    "4": "7647",
                                    "5": "2248",
                                    "6": "NULL",
                                    "7": "3/12/2021 12:00:00 AM",
                                    "8": "True",
                                    "9": "0.000",
                                    "10": "2/25/2021 12:00:00 AM",
                                    "11": "False",
                                    "12": "NULL",
                                    "13": "0",
                                    "14": "USD",
                                    "15": "3/12/2021 12:00:00 AM",
                                    "16": "HOUSE",
                                    "17": "615",
                                    "18": "43219-JPM",
                                    "19": "0.000",
                                    "20": "0.000",
                                    "21": "11",
                                    "22": "11",
                                    "23": "False",
                                    "24": "1"
                                },
                                {
                                    "0": "2",
                                    "1": "2170022",
                                    "2": "NULL",
                                    "3": "NULL",
                                    "4": "7647",
                                    "5": "2248",
                                    "6": "NULL",
                                    "7": "3/12/2021 12:00:00 AM",
                                    "8": "True",
                                    "9": "8,972,684.000",
                                    "10": "2/25/2021 12:00:00 AM",
                                    "11": "False",
                                    "12": "NULL",
                                    "13": "NULL",
                                    "14": "USD",
                                    "15": "3/12/2021 12:00:00 AM",
                                    "16": "HOUSE",
                                    "17": "615",
                                    "18": "43219-JPM",
                                    "19": "8,972,684.000",
                                    "20": "0.000",
                                    "21": "14",
                                    "22": "14",
                                    "23": "False",
                                    "24": "1"
                                },
                                {
                                    "0": "2",
                                    "1": "2170022",
                                    "2": "NULL",
                                    "3": "NULL",
                                    "4": "7647",
                                    "5": "2248",
                                    "6": "NULL",
                                    "7": "3/12/2021 12:00:00 AM",
                                    "8": "True",
                                    "9": "8,972,684.000",
                                    "10": "2/25/2021 12:00:00 AM",
                                    "11": "False",
                                    "12": "NULL",
                                    "13": "NULL",
                                    "14": "USD",
                                    "15": "3/12/2021 12:00:00 AM",
                                    "16": "HOUSE",
                                    "17": "615",
                                    "18": "43219-VJP",
                                    "19": "8,972,684.000",
                                    "20": "2,173,485.320",
                                    "21": "16",
                                    "22": "16",
                                    "23": "False",
                                    "24": "1"
                                },
                                {
                                    "0": "2",
                                    "1": "2170022",
                                    "2": "NULL",
                                    "3": "NULL",
                                    "4": "7647",
                                    "5": "2248",
                                    "6": "NULL",
                                    "7": "3/12/2021 12:00:00 AM",
                                    "8": "True",
                                    "9": "8,972,684.000",
                                    "10": "2/25/2021 12:00:00 AM",
                                    "11": "False",
                                    "12": "NULL",
                                    "13": "NULL",
                                    "14": "USD",
                                    "15": "3/12/2021 12:00:00 AM",
                                    "16": "HOUSE",
                                    "17": "615",
                                    "18": "43219-VJP",
                                    "19": "8,972,684.000",
                                    "20": "807,541.560",
                                    "21": "15",
                                    "22": "15",
                                    "23": "False",
                                    "24": "1"
                                },
                                {
                                    "0": "2",
                                    "1": "2170022",
                                    "2": "NULL",
                                    "3": "NULL",
                                    "4": "7647",
                                    "5": "2248",
                                    "6": "NULL",
                                    "7": "3/12/2021 12:00:00 AM",
                                    "8": "True",
                                    "9": "8,972,684.000",
                                    "10": "2/25/2021 12:00:00 AM",
                                    "11": "False",
                                    "12": "NULL",
                                    "13": "0",
                                    "14": "USD",
                                    "15": "3/12/2021 12:00:00 AM",
                                    "16": "HOUSE",
                                    "17": "615",
                                    "18": "43219-VJP",
                                    "19": "8,972,684.000",
                                    "20": "0.000",
                                    "21": "14",
                                    "22": "14",
                                    "23": "False",
                                    "24": "1"
                                },
                                {
                                    "0": "2",
                                    "1": "2170022",
                                    "2": "NULL",
                                    "3": "NULL",
                                    "4": "7647",
                                    "5": "2248",
                                    "6": "NULL",
                                    "7": "3/12/2021 12:00:00 AM",
                                    "8": "True",
                                    "9": "8,972,684.000",
                                    "10": "2/25/2021 12:00:00 AM",
                                    "11": "False",
                                    "12": "NULL",
                                    "13": "0",
                                    "14": "USD",
                                    "15": "3/12/2021 12:00:00 AM",
                                    "16": "HOUSE",
                                    "17": "615",
                                    "18": "43219-VJP",
                                    "19": "8,972,684.000",
                                    "20": "0.000",
                                    "21": "15",
                                    "22": "15",
                                    "23": "False",
                                    "24": "1"
                                },
                                {
                                    "0": "2",
                                    "1": "2170022",
                                    "2": "NULL",
                                    "3": "NULL",
                                    "4": "7647",
                                    "5": "2248",
                                    "6": "NULL",
                                    "7": "3/12/2021 12:00:00 AM",
                                    "8": "True",
                                    "9": "8,972,684.000",
                                    "10": "2/25/2021 12:00:00 AM",
                                    "11": "False",
                                    "12": "NULL",
                                    "13": "0",
                                    "14": "USD",
                                    "15": "3/12/2021 12:00:00 AM",
                                    "16": "HOUSE",
                                    "17": "615",
                                    "18": "43219-VJP",
                                    "19": "8,972,684.000",
                                    "20": "2,173,485.320",
                                    "21": "18",
                                    "22": "18",
                                    "23": "False",
                                    "24": "1"
                                },
                                {
                                    "0": "2",
                                    "1": "2170022",
                                    "2": "NULL",
                                    "3": "NULL",
                                    "4": "7647",
                                    "5": "2248",
                                    "6": "NULL",
                                    "7": "3/12/2021 12:00:00 AM",
                                    "8": "True",
                                    "9": "8,972,684.000",
                                    "10": "2/25/2021 12:00:00 AM",
                                    "11": "False",
                                    "12": "NULL",
                                    "13": "0",
                                    "14": "USD",
                                    "15": "3/12/2021 12:00:00 AM",
                                    "16": "HOUSE",
                                    "17": "615",
                                    "18": "43219-VJP",
                                    "19": "8,972,684.000",
                                    "20": "807,541.560",
                                    "21": "16",
                                    "22": "16",
                                    "23": "False",
                                    "24": "1"
                                },
                                {
                                    "0": "2",
                                    "1": "2170022",
                                    "2": "NULL",
                                    "3": "523417",
                                    "4": "7647",
                                    "5": "2248",
                                    "6": "NULL",
                                    "7": "3/12/2021 12:00:00 AM",
                                    "8": "True",
                                    "9": "8,972,684.000",
                                    "10": "2/25/2021 12:00:00 AM",
                                    "11": "False",
                                    "12": "NULL",
                                    "13": "0",
                                    "14": "USD",
                                    "15": "3/12/2021 12:00:00 AM",
                                    "16": "HOUSE",
                                    "17": "615",
                                    "18": "43219-VJP",
                                    "19": "8,972,684.000",
                                    "20": "0.000",
                                    "21": "15",
                                    "22": "15",
                                    "23": "False",
                                    "24": "1"
                                },
                                {
                                    "0": "2",
                                    "1": "2170022",
                                    "2": "NULL",
                                    "3": "523417",
                                    "4": "7647",
                                    "5": "2248",
                                    "6": "NULL",
                                    "7": "3/12/2021 12:00:00 AM",
                                    "8": "True",
                                    "9": "8,972,684.000",
                                    "10": "2/25/2021 12:00:00 AM",
                                    "11": "False",
                                    "12": "NULL",
                                    "13": "0",
                                    "14": "USD",
                                    "15": "3/12/2021 12:00:00 AM",
                                    "16": "HOUSE",
                                    "17": "615",
                                    "18": "43219-VJP",
                                    "19": "8,972,684.000",
                                    "20": "2,173,485.320",
                                    "21": "18",
                                    "22": "18",
                                    "23": "False",
                                    "24": "1"
                                },
                                {
                                    "0": "2",
                                    "1": "2170022",
                                    "2": "NULL",
                                    "3": "523417",
                                    "4": "7647",
                                    "5": "2248",
                                    "6": "NULL",
                                    "7": "3/12/2021 12:00:00 AM",
                                    "8": "True",
                                    "9": "8,972,684.000",
                                    "10": "2/25/2021 12:00:00 AM",
                                    "11": "False",
                                    "12": "NULL",
                                    "13": "0",
                                    "14": "USD",
                                    "15": "3/12/2021 12:00:00 AM",
                                    "16": "HOUSE",
                                    "17": "615",
                                    "18": "43219-VJP",
                                    "19": "8,972,684.000",
                                    "20": "807,541.560",
                                    "21": "16",
                                    "22": "16",
                                    "23": "False",
                                    "24": "1"
                                }
                            ]
                        },
                        "text/html": "<table><tr><th>CompanyKey</th><th>OrderHed_OrderNum</th><th>OrderHed_Division</th><th>PartyKey</th><th>ProjectKey</th><th>CalendarKey</th><th>CurrencyKey</th><th>OrderHed_NeedByDate</th><th>OrderHed_OpenOrder</th><th>OrderHed_OrderAmt</th><th>OrderHed_OrderDate</th><th>OrderHed_OrderHeld</th><th>OrderHed_OrderStatus</th><th>OrderHed_PONum</th><th>OrderHed_CurrencyCode</th><th>OrderHed_RequestDate</th><th>OrderHed_SalesRepList</th><th>OrderHed_ShipToCustNum</th><th>OrderHed_ShipToNum</th><th>OrderHed_TotalCharges</th><th>OrderHed_TotalInvoiced</th><th>OrderHed_TotalLines</th><th>OrderHed_TotalReleases</th><th>OrderHed_VoidOrder</th><th>RecActiveInd</th></tr><tr><td>2</td><td>2170022</td><td>NULL</td><td>NULL</td><td>7647</td><td>2248</td><td>NULL</td><td>3/12/2021 12:00:00 AM</td><td>True</td><td>0.000</td><td>2/25/2021 12:00:00 AM</td><td>False</td><td>NULL</td><td>0</td><td>USD</td><td>3/12/2021 12:00:00 AM</td><td>HOUSE</td><td>615</td><td>43219-JPM</td><td>0.000</td><td>0.000</td><td>11</td><td>11</td><td>False</td><td>1</td></tr><tr><td>2</td><td>2170022</td><td>NULL</td><td>NULL</td><td>7647</td><td>2248</td><td>NULL</td><td>3/12/2021 12:00:00 AM</td><td>True</td><td>8,972,684.000</td><td>2/25/2021 12:00:00 AM</td><td>False</td><td>NULL</td><td>NULL</td><td>USD</td><td>3/12/2021 12:00:00 AM</td><td>HOUSE</td><td>615</td><td>43219-JPM</td><td>8,972,684.000</td><td>0.000</td><td>14</td><td>14</td><td>False</td><td>1</td></tr><tr><td>2</td><td>2170022</td><td>NULL</td><td>NULL</td><td>7647</td><td>2248</td><td>NULL</td><td>3/12/2021 12:00:00 AM</td><td>True</td><td>8,972,684.000</td><td>2/25/2021 12:00:00 AM</td><td>False</td><td>NULL</td><td>NULL</td><td>USD</td><td>3/12/2021 12:00:00 AM</td><td>HOUSE</td><td>615</td><td>43219-VJP</td><td>8,972,684.000</td><td>2,173,485.320</td><td>16</td><td>16</td><td>False</td><td>1</td></tr><tr><td>2</td><td>2170022</td><td>NULL</td><td>NULL</td><td>7647</td><td>2248</td><td>NULL</td><td>3/12/2021 12:00:00 AM</td><td>True</td><td>8,972,684.000</td><td>2/25/2021 12:00:00 AM</td><td>False</td><td>NULL</td><td>NULL</td><td>USD</td><td>3/12/2021 12:00:00 AM</td><td>HOUSE</td><td>615</td><td>43219-VJP</td><td>8,972,684.000</td><td>807,541.560</td><td>15</td><td>15</td><td>False</td><td>1</td></tr><tr><td>2</td><td>2170022</td><td>NULL</td><td>NULL</td><td>7647</td><td>2248</td><td>NULL</td><td>3/12/2021 12:00:00 AM</td><td>True</td><td>8,972,684.000</td><td>2/25/2021 12:00:00 AM</td><td>False</td><td>NULL</td><td>0</td><td>USD</td><td>3/12/2021 12:00:00 AM</td><td>HOUSE</td><td>615</td><td>43219-VJP</td><td>8,972,684.000</td><td>0.000</td><td>14</td><td>14</td><td>False</td><td>1</td></tr><tr><td>2</td><td>2170022</td><td>NULL</td><td>NULL</td><td>7647</td><td>2248</td><td>NULL</td><td>3/12/2021 12:00:00 AM</td><td>True</td><td>8,972,684.000</td><td>2/25/2021 12:00:00 AM</td><td>False</td><td>NULL</td><td>0</td><td>USD</td><td>3/12/2021 12:00:00 AM</td><td>HOUSE</td><td>615</td><td>43219-VJP</td><td>8,972,684.000</td><td>0.000</td><td>15</td><td>15</td><td>False</td><td>1</td></tr><tr><td>2</td><td>2170022</td><td>NULL</td><td>NULL</td><td>7647</td><td>2248</td><td>NULL</td><td>3/12/2021 12:00:00 AM</td><td>True</td><td>8,972,684.000</td><td>2/25/2021 12:00:00 AM</td><td>False</td><td>NULL</td><td>0</td><td>USD</td><td>3/12/2021 12:00:00 AM</td><td>HOUSE</td><td>615</td><td>43219-VJP</td><td>8,972,684.000</td><td>2,173,485.320</td><td>18</td><td>18</td><td>False</td><td>1</td></tr><tr><td>2</td><td>2170022</td><td>NULL</td><td>NULL</td><td>7647</td><td>2248</td><td>NULL</td><td>3/12/2021 12:00:00 AM</td><td>True</td><td>8,972,684.000</td><td>2/25/2021 12:00:00 AM</td><td>False</td><td>NULL</td><td>0</td><td>USD</td><td>3/12/2021 12:00:00 AM</td><td>HOUSE</td><td>615</td><td>43219-VJP</td><td>8,972,684.000</td><td>807,541.560</td><td>16</td><td>16</td><td>False</td><td>1</td></tr><tr><td>2</td><td>2170022</td><td>NULL</td><td>523417</td><td>7647</td><td>2248</td><td>NULL</td><td>3/12/2021 12:00:00 AM</td><td>True</td><td>8,972,684.000</td><td>2/25/2021 12:00:00 AM</td><td>False</td><td>NULL</td><td>0</td><td>USD</td><td>3/12/2021 12:00:00 AM</td><td>HOUSE</td><td>615</td><td>43219-VJP</td><td>8,972,684.000</td><td>0.000</td><td>15</td><td>15</td><td>False</td><td>1</td></tr><tr><td>2</td><td>2170022</td><td>NULL</td><td>523417</td><td>7647</td><td>2248</td><td>NULL</td><td>3/12/2021 12:00:00 AM</td><td>True</td><td>8,972,684.000</td><td>2/25/2021 12:00:00 AM</td><td>False</td><td>NULL</td><td>0</td><td>USD</td><td>3/12/2021 12:00:00 AM</td><td>HOUSE</td><td>615</td><td>43219-VJP</td><td>8,972,684.000</td><td>2,173,485.320</td><td>18</td><td>18</td><td>False</td><td>1</td></tr><tr><td>2</td><td>2170022</td><td>NULL</td><td>523417</td><td>7647</td><td>2248</td><td>NULL</td><td>3/12/2021 12:00:00 AM</td><td>True</td><td>8,972,684.000</td><td>2/25/2021 12:00:00 AM</td><td>False</td><td>NULL</td><td>0</td><td>USD</td><td>3/12/2021 12:00:00 AM</td><td>HOUSE</td><td>615</td><td>43219-VJP</td><td>8,972,684.000</td><td>807,541.560</td><td>16</td><td>16</td><td>False</td><td>1</td></tr></table>"
                    },
                    "metadata": {}
                }
            ],
            "execution_count": 5
        },
        {
            "cell_type": "code",
            "source": [
                "  SELECT \r\n",
                "  OrderNum\r\n",
                "  ,OrderLine\r\n",
                "  ,PartNum\r\n",
                "  ,LineDesc\r\n",
                "  ,EstUnitCost_c  \r\n",
                "\r\n",
                "  FROM [dbo].[OrderDtl]\r\n",
                "  WHERE OrderNum = '2170022'"
            ],
            "metadata": {
                "azdata_cell_guid": "d37921af-38b6-481f-9e6d-5e6b3619bb04"
            },
            "outputs": [
                {
                    "output_type": "display_data",
                    "data": {
                        "text/html": "(0 rows affected)"
                    },
                    "metadata": {}
                },
                {
                    "output_type": "display_data",
                    "data": {
                        "text/html": "Total execution time: 00:00:00.185"
                    },
                    "metadata": {}
                },
                {
                    "output_type": "execute_result",
                    "execution_count": 3,
                    "data": {
                        "application/vnd.dataresource+json": {
                            "schema": {
                                "fields": [
                                    {
                                        "name": "OrderNum"
                                    },
                                    {
                                        "name": "OrderLine"
                                    },
                                    {
                                        "name": "PartNum"
                                    },
                                    {
                                        "name": "LineDesc"
                                    },
                                    {
                                        "name": "EstUnitCost_c"
                                    }
                                ]
                            },
                            "data": []
                        },
                        "text/html": "<table><tr><th>OrderNum</th><th>OrderLine</th><th>PartNum</th><th>LineDesc</th><th>EstUnitCost_c</th></tr></table>"
                    },
                    "metadata": {}
                }
            ],
            "execution_count": 3
        },
        {
            "cell_type": "code",
            "source": [
                "SELECT [DivisionKey]\r\n",
                "      ,[CompanyCode]\r\n",
                "      ,[DivisionCode]\r\n",
                "      ,[DivisionName]\r\n",
                "FROM [dbo].[DimDivision]"
            ],
            "metadata": {
                "azdata_cell_guid": "3ac6d26e-5f1a-4416-8d94-5ae0c172beda",
                "tags": []
            },
            "outputs": [
                {
                    "output_type": "display_data",
                    "data": {
                        "text/html": "(18 rows affected)"
                    },
                    "metadata": {}
                },
                {
                    "output_type": "display_data",
                    "data": {
                        "text/html": "Total execution time: 00:00:00.072"
                    },
                    "metadata": {}
                },
                {
                    "output_type": "execute_result",
                    "execution_count": 4,
                    "data": {
                        "application/vnd.dataresource+json": {
                            "schema": {
                                "fields": [
                                    {
                                        "name": "DivisionKey"
                                    },
                                    {
                                        "name": "CompanyCode"
                                    },
                                    {
                                        "name": "DivisionCode"
                                    },
                                    {
                                        "name": "DivisionName"
                                    }
                                ]
                            },
                            "data": [
                                {
                                    "0": "1",
                                    "1": "APEKS",
                                    "2": "1",
                                    "3": "Default 01"
                                },
                                {
                                    "0": "2",
                                    "1": "RBMI",
                                    "2": "0",
                                    "3": "Interplant"
                                },
                                {
                                    "0": "3",
                                    "1": "RBMI",
                                    "2": "1",
                                    "3": "Commercial"
                                },
                                {
                                    "0": "4",
                                    "1": "RBMI",
                                    "2": "14",
                                    "3": "Cannabis Maintenance"
                                },
                                {
                                    "0": "5",
                                    "1": "RBMI",
                                    "2": "15",
                                    "3": "Tetra"
                                },
                                {
                                    "0": "6",
                                    "1": "RBMI",
                                    "2": "16",
                                    "3": "Cannabis GH"
                                },
                                {
                                    "0": "7",
                                    "1": "RBMI",
                                    "2": "17",
                                    "3": "Produce USA"
                                },
                                {
                                    "0": "8",
                                    "1": "RBMI",
                                    "2": "2",
                                    "3": "Institutional"
                                },
                                {
                                    "0": "9",
                                    "1": "RBMI",
                                    "2": "24",
                                    "3": "Institutional Maintenance"
                                },
                                {
                                    "0": "10",
                                    "1": "RBMI",
                                    "2": "3",
                                    "3": "RBI Solar"
                                },
                                {
                                    "0": "11",
                                    "1": "RBMI",
                                    "2": "4",
                                    "3": "Mass Retail Maintenance"
                                },
                                {
                                    "0": "12",
                                    "1": "RBMI",
                                    "2": "7",
                                    "3": "RBI Solar Canopy and International"
                                },
                                {
                                    "0": "13",
                                    "1": "RBMI",
                                    "2": "8",
                                    "3": "RBI Structures"
                                },
                                {
                                    "0": "14",
                                    "1": "RBMI",
                                    "2": "9",
                                    "3": "RBI Solar Tracker"
                                },
                                {
                                    "0": "15",
                                    "1": "RSA",
                                    "2": "1",
                                    "3": "RSA Default Division"
                                },
                                {
                                    "0": "16",
                                    "1": "SOLAR",
                                    "2": "3",
                                    "3": "RBI Solar Ground Mount"
                                },
                                {
                                    "0": "17",
                                    "1": "SOLAR",
                                    "2": "7",
                                    "3": "RBI Solar canopy and International"
                                },
                                {
                                    "0": "18",
                                    "1": "SOLAR",
                                    "2": "9",
                                    "3": "RBI Solar Tracker"
                                }
                            ]
                        },
                        "text/html": "<table><tr><th>DivisionKey</th><th>CompanyCode</th><th>DivisionCode</th><th>DivisionName</th></tr><tr><td>1</td><td>APEKS</td><td>1</td><td>Default 01</td></tr><tr><td>2</td><td>RBMI</td><td>0</td><td>Interplant</td></tr><tr><td>3</td><td>RBMI</td><td>1</td><td>Commercial</td></tr><tr><td>4</td><td>RBMI</td><td>14</td><td>Cannabis Maintenance</td></tr><tr><td>5</td><td>RBMI</td><td>15</td><td>Tetra</td></tr><tr><td>6</td><td>RBMI</td><td>16</td><td>Cannabis GH</td></tr><tr><td>7</td><td>RBMI</td><td>17</td><td>Produce USA</td></tr><tr><td>8</td><td>RBMI</td><td>2</td><td>Institutional</td></tr><tr><td>9</td><td>RBMI</td><td>24</td><td>Institutional Maintenance</td></tr><tr><td>10</td><td>RBMI</td><td>3</td><td>RBI Solar</td></tr><tr><td>11</td><td>RBMI</td><td>4</td><td>Mass Retail Maintenance</td></tr><tr><td>12</td><td>RBMI</td><td>7</td><td>RBI Solar Canopy and International</td></tr><tr><td>13</td><td>RBMI</td><td>8</td><td>RBI Structures</td></tr><tr><td>14</td><td>RBMI</td><td>9</td><td>RBI Solar Tracker</td></tr><tr><td>15</td><td>RSA</td><td>1</td><td>RSA Default Division</td></tr><tr><td>16</td><td>SOLAR</td><td>3</td><td>RBI Solar Ground Mount</td></tr><tr><td>17</td><td>SOLAR</td><td>7</td><td>RBI Solar canopy and International</td></tr><tr><td>18</td><td>SOLAR</td><td>9</td><td>RBI Solar Tracker</td></tr></table>"
                    },
                    "metadata": {}
                }
            ],
            "execution_count": 4
        },
        {
            "cell_type": "code",
            "source": [
                "Select ld.*, od.ProjectID\n",
                "\n",
                "From (\n",
                "    SELECT [Company]\n",
                "      ,[EmployeeNum]\n",
                "      ,[LaborHedSeq]\n",
                "      ,[LaborDtlSeq]\n",
                "      ,[LaborType]\n",
                "      ,[LaborTypePseudo]\n",
                "      ,[ReWork]\n",
                "      ,[ReworkReasonCode]\n",
                "      ,[JobNum]\n",
                "      ,REVERSE(PARSENAME(REPLACE(REVERSE([JobNum]), '-', '.'), 1)) as OrderNum\n",
                "      ,REVERSE(PARSENAME(REPLACE(REVERSE([JobNum]), '-', '.'), 2)) as OrderLine\n",
                "      ,(Case\n",
                "        When\n",
                "            REVERSE(PARSENAME(REPLACE(REVERSE([JobNum]), '-', '.'), 2)) is Null\n",
                "        Then\n",
                "            REVERSE(PARSENAME(REPLACE(REVERSE([JobNum]), '-', '.'), 1))\n",
                "        Else\n",
                "            CONCAT(REVERSE(PARSENAME(REPLACE(REVERSE([JobNum]), '-', '.'), 1))\n",
                "            ,'-'\n",
                "            ,REVERSE(PARSENAME(REPLACE(REVERSE([JobNum]), '-', '.'), 2))\n",
                "        )\n",
                "        end) as OrderNumLine\n",
                "      ,[AssemblySeq]\n",
                "      ,[OprSeq]\n",
                "      ,[JCDept]\n",
                "      ,[ResourceGrpID]\n",
                "      ,[OpCode]\n",
                "      ,[LaborHrs]\n",
                "      ,[BurdenHrs]\n",
                "      ,[LaborQty]\n",
                "      ,[ScrapQty]\n",
                "      ,[ScrapReasonCode]\n",
                "      ,[SetupPctComplete]\n",
                "      ,[Complete]\n",
                "      ,[IndirectCode]\n",
                "      ,[LaborNote]\n",
                "      ,[ExpenseCode]\n",
                "      ,[LaborCollection]\n",
                "      ,[AppliedToSchedule]\n",
                "      ,[ClockInMInute]\n",
                "      ,[ClockOutMinute]\n",
                "      ,[ClockInDate]\n",
                "      ,[ClockinTime]\n",
                "      ,[ClockOutTime]\n",
                "      ,[ActiveTrans]\n",
                "      ,[OverRidePayRate]\n",
                "      ,[LaborRate]\n",
                "      ,[BurdenRate]\n",
                "      ,[DspClockInTime]\n",
                "      ,[DspClockOutTime]\n",
                "      ,[ResourceID]\n",
                "      ,[OpComplete]\n",
                "      ,[EarnedHrs]\n",
                "      ,[AddedOper]\n",
                "      ,[PayrollDate]\n",
                "      ,[PostedToGL]\n",
                "      ,[FiscalYear]\n",
                "      ,[FiscalPeriod]\n",
                "      ,[JournalNum]\n",
                "      ,[GLTrans]\n",
                "      ,[JournalCode]\n",
                "      ,[InspectionPending]\n",
                "      ,[CallNum]\n",
                "      ,[CallLine]\n",
                "      ,[ServNum]\n",
                "      ,[ServCode]\n",
                "      ,[ResReasonCode]\n",
                "      ,[WipPosted]\n",
                "      ,[DiscrepQty]\n",
                "      ,[DiscrpRsnCode]\n",
                "      ,[ParentLaborDtlSeq]\n",
                "      ,[LaborEntryMethod]\n",
                "      ,[FiscalYearSuffix]\n",
                "      ,[FiscalCalendarID]\n",
                "      ,[BFLaborReq]\n",
                "      ,[ABTUID]\n",
                "      ,[ProjectID]\n",
                "      ,[PhaseID]\n",
                "      ,[RoleCd]\n",
                "      ,[TimeTypCd]\n",
                "      ,[PBInvNum]\n",
                "      ,[PMUID]\n",
                "      ,[TaskSetID]\n",
                "      ,[ApprovedDate]\n",
                "      ,[ClaimRef]\n",
                "      ,[QuickEntryCode]\n",
                "      ,[TimeStatus]\n",
                "      ,[CreatedBy]\n",
                "      ,[CreateDate]\n",
                "      ,[CreateTime]\n",
                "      ,Dateadd(second, CreateTime, cast(CreateDate as Datetime)) as CreateDateTime\n",
                "      ,[ChangedBy]\n",
                "      ,[ChangeDate]\n",
                "      ,[ChangeTime]\n",
                "      ,Dateadd(second, ChangeTime, cast(ChangeDate as Datetime)) as ChangeDateTime\n",
                "      ,[ActiveTaskID]\n",
                "      ,[LastTaskID]\n",
                "      ,[CreatedViaTEWeekView]\n",
                "      ,[CurrentWFStageID]\n",
                "      ,[WFGroupID]\n",
                "      ,[WFComplete]\n",
                "      ,[ApprovalRequired]\n",
                "      ,[SubmittedBy]\n",
                "      ,[PBRateFrom]\n",
                "      ,[PBCurrencyCode]\n",
                "      ,[PBHours]\n",
                "      ,[PBChargeRate]\n",
                "      ,[PBChargeAmt]\n",
                "      ,[DocPBChargeRate]\n",
                "      ,[Rpt1PBChargeRate]\n",
                "      ,[Rpt2PBChargeRate]\n",
                "      ,[Rpt3PBChargeRate]\n",
                "      ,[DocPBChargeAmt]\n",
                "      ,[Rpt1PBChargeAmt]\n",
                "      ,[Rpt2PBChargeAmt]\n",
                "      ,[Rpt3PBChargeAmt]\n",
                "      ,[Shift]\n",
                "      ,[ActID]\n",
                "      ,[DtailID]\n",
                "      ,[ProjProcessed]\n",
                "      ,[AsOfDate]\n",
                "      ,[AsOfSeq]\n",
                "      ,[JDFInputFiles]\n",
                "      ,[JDFNumberOfPages]\n",
                "      ,[BatchWasSaved]\n",
                "      ,[AssignToBatch]\n",
                "      ,[BatchComplete]\n",
                "      ,[BatchRequestMove]\n",
                "      ,[BatchPrint]\n",
                "      ,[BatchLaborHrs]\n",
                "      ,[BatchPctOfTotHrs]\n",
                "      ,[BatchQty]\n",
                "      ,[BatchTotalExpectedHrs]\n",
                "      ,[JDFOpCompleted]\n",
                "      ,[SysRevID]\n",
                "      ,[SysRowID]\n",
                "      ,[Downtime]\n",
                "      ,[RefJobNum]\n",
                "      ,[RefAssemblySeq]\n",
                "      ,[RefOprSeq]\n",
                "      ,[Imported]\n",
                "      ,[ImportDate]\n",
                "      ,[TimeAutoSubmit]\n",
                "      ,[BatchMode]\n",
                "      ,[BillServiceRate]\n",
                "      ,[HCMPayHours]\n",
                "      ,[EpicorFSA]\n",
                "      ,[DiscrepAttributeSetID]\n",
                "      ,[LaborAttributeSetID]\n",
                "      ,[ScrapAttributeSetID]\n",
                "  FROM [ERPDB].[Erp].[LaborDtl]\n",
                ") as ld\n",
                "\n",
                "Left Join [etl].[vwOrderDetail] AS od\n",
                "on ld.OrderNumLine = od.OrderNumLine \n",
                "Where pt.Company = 'solar' and od.ProjectID = '2230007'\n",
                "\n",
                "GO\n",
                ""
            ],
            "metadata": {
                "azdata_cell_guid": "2f95d970-019e-4641-b492-a3462ae5a6d1"
            },
            "outputs": [
                {
                    "output_type": "display_data",
                    "data": {
                        "text/html": "(22 rows affected)"
                    },
                    "metadata": {}
                },
                {
                    "output_type": "display_data",
                    "data": {
                        "text/html": "Total execution time: 00:00:00.613"
                    },
                    "metadata": {}
                },
                {
                    "output_type": "execute_result",
                    "execution_count": 6,
                    "data": {
                        "application/vnd.dataresource+json": {
                            "schema": {
                                "fields": [
                                    {
                                        "name": "Company"
                                    },
                                    {
                                        "name": "EmployeeNum"
                                    },
                                    {
                                        "name": "LaborHedSeq"
                                    },
                                    {
                                        "name": "LaborDtlSeq"
                                    },
                                    {
                                        "name": "LaborType"
                                    },
                                    {
                                        "name": "LaborTypePseudo"
                                    },
                                    {
                                        "name": "ReWork"
                                    },
                                    {
                                        "name": "ReworkReasonCode"
                                    },
                                    {
                                        "name": "JobNum"
                                    },
                                    {
                                        "name": "OrderNum"
                                    },
                                    {
                                        "name": "OrderLine"
                                    },
                                    {
                                        "name": "OrderNumLine"
                                    },
                                    {
                                        "name": "AssemblySeq"
                                    },
                                    {
                                        "name": "OprSeq"
                                    },
                                    {
                                        "name": "JCDept"
                                    },
                                    {
                                        "name": "ResourceGrpID"
                                    },
                                    {
                                        "name": "OpCode"
                                    },
                                    {
                                        "name": "LaborHrs"
                                    },
                                    {
                                        "name": "BurdenHrs"
                                    },
                                    {
                                        "name": "LaborQty"
                                    },
                                    {
                                        "name": "ScrapQty"
                                    },
                                    {
                                        "name": "ScrapReasonCode"
                                    },
                                    {
                                        "name": "SetupPctComplete"
                                    },
                                    {
                                        "name": "Complete"
                                    },
                                    {
                                        "name": "IndirectCode"
                                    },
                                    {
                                        "name": "LaborNote"
                                    },
                                    {
                                        "name": "ExpenseCode"
                                    },
                                    {
                                        "name": "LaborCollection"
                                    },
                                    {
                                        "name": "AppliedToSchedule"
                                    },
                                    {
                                        "name": "ClockInMInute"
                                    },
                                    {
                                        "name": "ClockOutMinute"
                                    },
                                    {
                                        "name": "ClockInDate"
                                    },
                                    {
                                        "name": "ClockinTime"
                                    },
                                    {
                                        "name": "ClockOutTime"
                                    },
                                    {
                                        "name": "ActiveTrans"
                                    },
                                    {
                                        "name": "OverRidePayRate"
                                    },
                                    {
                                        "name": "LaborRate"
                                    },
                                    {
                                        "name": "BurdenRate"
                                    },
                                    {
                                        "name": "DspClockInTime"
                                    },
                                    {
                                        "name": "DspClockOutTime"
                                    },
                                    {
                                        "name": "ResourceID"
                                    },
                                    {
                                        "name": "OpComplete"
                                    },
                                    {
                                        "name": "EarnedHrs"
                                    },
                                    {
                                        "name": "AddedOper"
                                    },
                                    {
                                        "name": "PayrollDate"
                                    },
                                    {
                                        "name": "PostedToGL"
                                    },
                                    {
                                        "name": "FiscalYear"
                                    },
                                    {
                                        "name": "FiscalPeriod"
                                    },
                                    {
                                        "name": "JournalNum"
                                    },
                                    {
                                        "name": "GLTrans"
                                    },
                                    {
                                        "name": "JournalCode"
                                    },
                                    {
                                        "name": "InspectionPending"
                                    },
                                    {
                                        "name": "CallNum"
                                    },
                                    {
                                        "name": "CallLine"
                                    },
                                    {
                                        "name": "ServNum"
                                    },
                                    {
                                        "name": "ServCode"
                                    },
                                    {
                                        "name": "ResReasonCode"
                                    },
                                    {
                                        "name": "WipPosted"
                                    },
                                    {
                                        "name": "DiscrepQty"
                                    },
                                    {
                                        "name": "DiscrpRsnCode"
                                    },
                                    {
                                        "name": "ParentLaborDtlSeq"
                                    },
                                    {
                                        "name": "LaborEntryMethod"
                                    },
                                    {
                                        "name": "FiscalYearSuffix"
                                    },
                                    {
                                        "name": "FiscalCalendarID"
                                    },
                                    {
                                        "name": "BFLaborReq"
                                    },
                                    {
                                        "name": "ABTUID"
                                    },
                                    {
                                        "name": "ProjectID"
                                    },
                                    {
                                        "name": "PhaseID"
                                    },
                                    {
                                        "name": "RoleCd"
                                    },
                                    {
                                        "name": "TimeTypCd"
                                    },
                                    {
                                        "name": "PBInvNum"
                                    },
                                    {
                                        "name": "PMUID"
                                    },
                                    {
                                        "name": "TaskSetID"
                                    },
                                    {
                                        "name": "ApprovedDate"
                                    },
                                    {
                                        "name": "ClaimRef"
                                    },
                                    {
                                        "name": "QuickEntryCode"
                                    },
                                    {
                                        "name": "TimeStatus"
                                    },
                                    {
                                        "name": "CreatedBy"
                                    },
                                    {
                                        "name": "CreateDate"
                                    },
                                    {
                                        "name": "CreateTime"
                                    },
                                    {
                                        "name": "CreateDateTime"
                                    },
                                    {
                                        "name": "ChangedBy"
                                    },
                                    {
                                        "name": "ChangeDate"
                                    },
                                    {
                                        "name": "ChangeTime"
                                    },
                                    {
                                        "name": "ChangeDateTime"
                                    },
                                    {
                                        "name": "ActiveTaskID"
                                    },
                                    {
                                        "name": "LastTaskID"
                                    },
                                    {
                                        "name": "CreatedViaTEWeekView"
                                    },
                                    {
                                        "name": "CurrentWFStageID"
                                    },
                                    {
                                        "name": "WFGroupID"
                                    },
                                    {
                                        "name": "WFComplete"
                                    },
                                    {
                                        "name": "ApprovalRequired"
                                    },
                                    {
                                        "name": "SubmittedBy"
                                    },
                                    {
                                        "name": "PBRateFrom"
                                    },
                                    {
                                        "name": "PBCurrencyCode"
                                    },
                                    {
                                        "name": "PBHours"
                                    },
                                    {
                                        "name": "PBChargeRate"
                                    },
                                    {
                                        "name": "PBChargeAmt"
                                    },
                                    {
                                        "name": "DocPBChargeRate"
                                    },
                                    {
                                        "name": "Rpt1PBChargeRate"
                                    },
                                    {
                                        "name": "Rpt2PBChargeRate"
                                    },
                                    {
                                        "name": "Rpt3PBChargeRate"
                                    },
                                    {
                                        "name": "DocPBChargeAmt"
                                    },
                                    {
                                        "name": "Rpt1PBChargeAmt"
                                    },
                                    {
                                        "name": "Rpt2PBChargeAmt"
                                    },
                                    {
                                        "name": "Rpt3PBChargeAmt"
                                    },
                                    {
                                        "name": "Shift"
                                    },
                                    {
                                        "name": "ActID"
                                    },
                                    {
                                        "name": "DtailID"
                                    },
                                    {
                                        "name": "ProjProcessed"
                                    },
                                    {
                                        "name": "AsOfDate"
                                    },
                                    {
                                        "name": "AsOfSeq"
                                    },
                                    {
                                        "name": "JDFInputFiles"
                                    },
                                    {
                                        "name": "JDFNumberOfPages"
                                    },
                                    {
                                        "name": "BatchWasSaved"
                                    },
                                    {
                                        "name": "AssignToBatch"
                                    },
                                    {
                                        "name": "BatchComplete"
                                    },
                                    {
                                        "name": "BatchRequestMove"
                                    },
                                    {
                                        "name": "BatchPrint"
                                    },
                                    {
                                        "name": "BatchLaborHrs"
                                    },
                                    {
                                        "name": "BatchPctOfTotHrs"
                                    },
                                    {
                                        "name": "BatchQty"
                                    },
                                    {
                                        "name": "BatchTotalExpectedHrs"
                                    },
                                    {
                                        "name": "JDFOpCompleted"
                                    },
                                    {
                                        "name": "SysRevID"
                                    },
                                    {
                                        "name": "SysRowID"
                                    },
                                    {
                                        "name": "Downtime"
                                    },
                                    {
                                        "name": "RefJobNum"
                                    },
                                    {
                                        "name": "RefAssemblySeq"
                                    },
                                    {
                                        "name": "RefOprSeq"
                                    },
                                    {
                                        "name": "Imported"
                                    },
                                    {
                                        "name": "ImportDate"
                                    },
                                    {
                                        "name": "TimeAutoSubmit"
                                    },
                                    {
                                        "name": "BatchMode"
                                    },
                                    {
                                        "name": "BillServiceRate"
                                    },
                                    {
                                        "name": "HCMPayHours"
                                    },
                                    {
                                        "name": "EpicorFSA"
                                    },
                                    {
                                        "name": "DiscrepAttributeSetID"
                                    },
                                    {
                                        "name": "LaborAttributeSetID"
                                    },
                                    {
                                        "name": "ScrapAttributeSetID"
                                    },
                                    {
                                        "name": "ProjectID"
                                    }
                                ]
                            },
                            "data": [
                                {
                                    "0": "SOLAR",
                                    "1": "200810",
                                    "2": "284426",
                                    "3": "609992",
                                    "4": "P",
                                    "5": "P",
                                    "6": "0",
                                    "7": "",
                                    "8": "2230007-1-1",
                                    "9": "2230007",
                                    "10": "1",
                                    "11": "2230007-1",
                                    "12": "0",
                                    "13": "10",
                                    "14": "DES",
                                    "15": "DES",
                                    "16": "DES",
                                    "17": "0.50000",
                                    "18": "0.50000",
                                    "19": "0.00000000",
                                    "20": "0.00000000",
                                    "21": "",
                                    "22": "0",
                                    "23": "0",
                                    "24": "",
                                    "25": "",
                                    "26": "DIR",
                                    "27": "0",
                                    "28": "0",
                                    "29": "35903010",
                                    "30": "35903040",
                                    "31": "2022-02-02",
                                    "32": "15.50",
                                    "33": "16.00",
                                    "34": "0",
                                    "35": "0.0000",
                                    "36": "31.250000",
                                    "37": "6.250000",
                                    "38": "15:30",
                                    "39": "16:00",
                                    "40": "",
                                    "41": "0",
                                    "42": "0.00",
                                    "43": "0",
                                    "44": "2022-02-02",
                                    "45": "1",
                                    "46": "0",
                                    "47": "0",
                                    "48": "0",
                                    "49": "1",
                                    "50": "",
                                    "51": "0",
                                    "52": "0",
                                    "53": "0",
                                    "54": "0",
                                    "55": "",
                                    "56": "",
                                    "57": "1",
                                    "58": "0.00000000",
                                    "59": "",
                                    "60": "0",
                                    "61": "T",
                                    "62": "",
                                    "63": "",
                                    "64": "0",
                                    "65": "ce303ab1-08e6-41c7-b5f9-06257acabc30",
                                    "66": "",
                                    "67": "",
                                    "68": "",
                                    "69": "",
                                    "70": "0",
                                    "71": "0",
                                    "72": "",
                                    "73": "2022-02-04",
                                    "74": "",
                                    "75": "",
                                    "76": "A",
                                    "77": "Ccarrera",
                                    "78": "2022-02-04",
                                    "79": "60847",
                                    "80": "2022-02-04 16:54:07.000",
                                    "81": "Ccarrera",
                                    "82": "2022-02-04",
                                    "83": "60847",
                                    "84": "2022-02-04 16:54:07.000",
                                    "85": "",
                                    "86": "",
                                    "87": "0",
                                    "88": "",
                                    "89": "",
                                    "90": "0",
                                    "91": "0",
                                    "92": "Ccarrera",
                                    "93": "",
                                    "94": "",
                                    "95": "0.00",
                                    "96": "0.000",
                                    "97": "0.000",
                                    "98": "0.000",
                                    "99": "0.000",
                                    "100": "0.000",
                                    "101": "0.000",
                                    "102": "0.000",
                                    "103": "0.000",
                                    "104": "0.000",
                                    "105": "0.000",
                                    "106": "4",
                                    "107": "0",
                                    "108": "0",
                                    "109": "1",
                                    "110": "2022-07-13",
                                    "111": "1",
                                    "112": "",
                                    "113": "",
                                    "114": "",
                                    "115": "0",
                                    "116": "0",
                                    "117": "0",
                                    "118": "0",
                                    "119": "0.00000",
                                    "120": "0.00000",
                                    "121": "0.00000",
                                    "122": "0.00000",
                                    "123": "",
                                    "124": "0x0000000324A04CCD",
                                    "125": "c60a99e0-f895-49c0-bc67-3440208e345b",
                                    "126": "0",
                                    "127": "",
                                    "128": "0",
                                    "129": "0",
                                    "130": "0",
                                    "131": "NULL",
                                    "132": "1",
                                    "133": "0",
                                    "134": "0.000000",
                                    "135": "0.50",
                                    "136": "0",
                                    "137": "0",
                                    "138": "0",
                                    "139": "0",
                                    "140": "2230007"
                                },
                                {
                                    "0": "SOLAR",
                                    "1": "200810",
                                    "2": "284426",
                                    "3": "609992",
                                    "4": "P",
                                    "5": "P",
                                    "6": "0",
                                    "7": "",
                                    "8": "2230007-1-1",
                                    "9": "2230007",
                                    "10": "1",
                                    "11": "2230007-1",
                                    "12": "0",
                                    "13": "10",
                                    "14": "DES",
                                    "15": "DES",
                                    "16": "DES",
                                    "17": "0.50000",
                                    "18": "0.50000",
                                    "19": "0.00000000",
                                    "20": "0.00000000",
                                    "21": "",
                                    "22": "0",
                                    "23": "0",
                                    "24": "",
                                    "25": "",
                                    "26": "DIR",
                                    "27": "0",
                                    "28": "0",
                                    "29": "35903010",
                                    "30": "35903040",
                                    "31": "2022-02-02",
                                    "32": "15.50",
                                    "33": "16.00",
                                    "34": "0",
                                    "35": "0.0000",
                                    "36": "31.250000",
                                    "37": "6.250000",
                                    "38": "15:30",
                                    "39": "16:00",
                                    "40": "",
                                    "41": "0",
                                    "42": "0.00",
                                    "43": "0",
                                    "44": "2022-02-02",
                                    "45": "1",
                                    "46": "0",
                                    "47": "0",
                                    "48": "0",
                                    "49": "1",
                                    "50": "",
                                    "51": "0",
                                    "52": "0",
                                    "53": "0",
                                    "54": "0",
                                    "55": "",
                                    "56": "",
                                    "57": "1",
                                    "58": "0.00000000",
                                    "59": "",
                                    "60": "0",
                                    "61": "T",
                                    "62": "",
                                    "63": "",
                                    "64": "0",
                                    "65": "ce303ab1-08e6-41c7-b5f9-06257acabc30",
                                    "66": "",
                                    "67": "",
                                    "68": "",
                                    "69": "",
                                    "70": "0",
                                    "71": "0",
                                    "72": "",
                                    "73": "2022-02-04",
                                    "74": "",
                                    "75": "",
                                    "76": "A",
                                    "77": "Ccarrera",
                                    "78": "2022-02-04",
                                    "79": "60847",
                                    "80": "2022-02-04 16:54:07.000",
                                    "81": "Ccarrera",
                                    "82": "2022-02-04",
                                    "83": "60847",
                                    "84": "2022-02-04 16:54:07.000",
                                    "85": "",
                                    "86": "",
                                    "87": "0",
                                    "88": "",
                                    "89": "",
                                    "90": "0",
                                    "91": "0",
                                    "92": "Ccarrera",
                                    "93": "",
                                    "94": "",
                                    "95": "0.00",
                                    "96": "0.000",
                                    "97": "0.000",
                                    "98": "0.000",
                                    "99": "0.000",
                                    "100": "0.000",
                                    "101": "0.000",
                                    "102": "0.000",
                                    "103": "0.000",
                                    "104": "0.000",
                                    "105": "0.000",
                                    "106": "4",
                                    "107": "0",
                                    "108": "0",
                                    "109": "1",
                                    "110": "2022-07-13",
                                    "111": "1",
                                    "112": "",
                                    "113": "",
                                    "114": "",
                                    "115": "0",
                                    "116": "0",
                                    "117": "0",
                                    "118": "0",
                                    "119": "0.00000",
                                    "120": "0.00000",
                                    "121": "0.00000",
                                    "122": "0.00000",
                                    "123": "",
                                    "124": "0x0000000324A04CCD",
                                    "125": "c60a99e0-f895-49c0-bc67-3440208e345b",
                                    "126": "0",
                                    "127": "",
                                    "128": "0",
                                    "129": "0",
                                    "130": "0",
                                    "131": "NULL",
                                    "132": "1",
                                    "133": "0",
                                    "134": "0.000000",
                                    "135": "0.50",
                                    "136": "0",
                                    "137": "0",
                                    "138": "0",
                                    "139": "0",
                                    "140": "2230007"
                                },
                                {
                                    "0": "SOLAR",
                                    "1": "200810",
                                    "2": "284828",
                                    "3": "610708",
                                    "4": "P",
                                    "5": "P",
                                    "6": "0",
                                    "7": "",
                                    "8": "2230007-1-1",
                                    "9": "2230007",
                                    "10": "1",
                                    "11": "2230007-1",
                                    "12": "0",
                                    "13": "10",
                                    "14": "DES",
                                    "15": "DES",
                                    "16": "DES",
                                    "17": "1.00000",
                                    "18": "1.00000",
                                    "19": "0.00000000",
                                    "20": "0.00000000",
                                    "21": "",
                                    "22": "0",
                                    "23": "0",
                                    "24": "",
                                    "25": "",
                                    "26": "DIR",
                                    "27": "0",
                                    "28": "0",
                                    "29": "35910300",
                                    "30": "35910360",
                                    "31": "2022-02-07",
                                    "32": "17.00",
                                    "33": "18.00",
                                    "34": "0",
                                    "35": "0.0000",
                                    "36": "31.250000",
                                    "37": "6.250000",
                                    "38": "17:00",
                                    "39": "18:00",
                                    "40": "",
                                    "41": "0",
                                    "42": "0.00",
                                    "43": "0",
                                    "44": "2022-02-07",
                                    "45": "1",
                                    "46": "0",
                                    "47": "0",
                                    "48": "0",
                                    "49": "1",
                                    "50": "",
                                    "51": "0",
                                    "52": "0",
                                    "53": "0",
                                    "54": "0",
                                    "55": "",
                                    "56": "",
                                    "57": "1",
                                    "58": "0.00000000",
                                    "59": "",
                                    "60": "0",
                                    "61": "T",
                                    "62": "",
                                    "63": "",
                                    "64": "0",
                                    "65": "b934e9fa-fef6-4b69-8980-8cd3cf5eae39",
                                    "66": "",
                                    "67": "",
                                    "68": "",
                                    "69": "",
                                    "70": "0",
                                    "71": "0",
                                    "72": "",
                                    "73": "2022-02-07",
                                    "74": "",
                                    "75": "",
                                    "76": "A",
                                    "77": "Ccarrera",
                                    "78": "2022-02-07",
                                    "79": "62386",
                                    "80": "2022-02-07 17:19:46.000",
                                    "81": "Ccarrera",
                                    "82": "2022-02-07",
                                    "83": "62386",
                                    "84": "2022-02-07 17:19:46.000",
                                    "85": "",
                                    "86": "",
                                    "87": "0",
                                    "88": "",
                                    "89": "",
                                    "90": "0",
                                    "91": "0",
                                    "92": "Ccarrera",
                                    "93": "",
                                    "94": "",
                                    "95": "0.00",
                                    "96": "0.000",
                                    "97": "0.000",
                                    "98": "0.000",
                                    "99": "0.000",
                                    "100": "0.000",
                                    "101": "0.000",
                                    "102": "0.000",
                                    "103": "0.000",
                                    "104": "0.000",
                                    "105": "0.000",
                                    "106": "4",
                                    "107": "0",
                                    "108": "0",
                                    "109": "1",
                                    "110": "2022-07-13",
                                    "111": "1",
                                    "112": "",
                                    "113": "",
                                    "114": "",
                                    "115": "0",
                                    "116": "0",
                                    "117": "0",
                                    "118": "0",
                                    "119": "0.00000",
                                    "120": "0.00000",
                                    "121": "0.00000",
                                    "122": "0.00000",
                                    "123": "",
                                    "124": "0x0000000324A04CCF",
                                    "125": "2ca959f5-e97b-43ea-ad07-3828ec027d3c",
                                    "126": "0",
                                    "127": "",
                                    "128": "0",
                                    "129": "0",
                                    "130": "0",
                                    "131": "NULL",
                                    "132": "1",
                                    "133": "0",
                                    "134": "0.000000",
                                    "135": "1.00",
                                    "136": "0",
                                    "137": "0",
                                    "138": "0",
                                    "139": "0",
                                    "140": "2230007"
                                },
                                {
                                    "0": "SOLAR",
                                    "1": "200810",
                                    "2": "284828",
                                    "3": "610708",
                                    "4": "P",
                                    "5": "P",
                                    "6": "0",
                                    "7": "",
                                    "8": "2230007-1-1",
                                    "9": "2230007",
                                    "10": "1",
                                    "11": "2230007-1",
                                    "12": "0",
                                    "13": "10",
                                    "14": "DES",
                                    "15": "DES",
                                    "16": "DES",
                                    "17": "1.00000",
                                    "18": "1.00000",
                                    "19": "0.00000000",
                                    "20": "0.00000000",
                                    "21": "",
                                    "22": "0",
                                    "23": "0",
                                    "24": "",
                                    "25": "",
                                    "26": "DIR",
                                    "27": "0",
                                    "28": "0",
                                    "29": "35910300",
                                    "30": "35910360",
                                    "31": "2022-02-07",
                                    "32": "17.00",
                                    "33": "18.00",
                                    "34": "0",
                                    "35": "0.0000",
                                    "36": "31.250000",
                                    "37": "6.250000",
                                    "38": "17:00",
                                    "39": "18:00",
                                    "40": "",
                                    "41": "0",
                                    "42": "0.00",
                                    "43": "0",
                                    "44": "2022-02-07",
                                    "45": "1",
                                    "46": "0",
                                    "47": "0",
                                    "48": "0",
                                    "49": "1",
                                    "50": "",
                                    "51": "0",
                                    "52": "0",
                                    "53": "0",
                                    "54": "0",
                                    "55": "",
                                    "56": "",
                                    "57": "1",
                                    "58": "0.00000000",
                                    "59": "",
                                    "60": "0",
                                    "61": "T",
                                    "62": "",
                                    "63": "",
                                    "64": "0",
                                    "65": "b934e9fa-fef6-4b69-8980-8cd3cf5eae39",
                                    "66": "",
                                    "67": "",
                                    "68": "",
                                    "69": "",
                                    "70": "0",
                                    "71": "0",
                                    "72": "",
                                    "73": "2022-02-07",
                                    "74": "",
                                    "75": "",
                                    "76": "A",
                                    "77": "Ccarrera",
                                    "78": "2022-02-07",
                                    "79": "62386",
                                    "80": "2022-02-07 17:19:46.000",
                                    "81": "Ccarrera",
                                    "82": "2022-02-07",
                                    "83": "62386",
                                    "84": "2022-02-07 17:19:46.000",
                                    "85": "",
                                    "86": "",
                                    "87": "0",
                                    "88": "",
                                    "89": "",
                                    "90": "0",
                                    "91": "0",
                                    "92": "Ccarrera",
                                    "93": "",
                                    "94": "",
                                    "95": "0.00",
                                    "96": "0.000",
                                    "97": "0.000",
                                    "98": "0.000",
                                    "99": "0.000",
                                    "100": "0.000",
                                    "101": "0.000",
                                    "102": "0.000",
                                    "103": "0.000",
                                    "104": "0.000",
                                    "105": "0.000",
                                    "106": "4",
                                    "107": "0",
                                    "108": "0",
                                    "109": "1",
                                    "110": "2022-07-13",
                                    "111": "1",
                                    "112": "",
                                    "113": "",
                                    "114": "",
                                    "115": "0",
                                    "116": "0",
                                    "117": "0",
                                    "118": "0",
                                    "119": "0.00000",
                                    "120": "0.00000",
                                    "121": "0.00000",
                                    "122": "0.00000",
                                    "123": "",
                                    "124": "0x0000000324A04CCF",
                                    "125": "2ca959f5-e97b-43ea-ad07-3828ec027d3c",
                                    "126": "0",
                                    "127": "",
                                    "128": "0",
                                    "129": "0",
                                    "130": "0",
                                    "131": "NULL",
                                    "132": "1",
                                    "133": "0",
                                    "134": "0.000000",
                                    "135": "1.00",
                                    "136": "0",
                                    "137": "0",
                                    "138": "0",
                                    "139": "0",
                                    "140": "2230007"
                                },
                                {
                                    "0": "SOLAR",
                                    "1": "200810",
                                    "2": "287294",
                                    "3": "615521",
                                    "4": "P",
                                    "5": "P",
                                    "6": "0",
                                    "7": "",
                                    "8": "2230007-1-1",
                                    "9": "2230007",
                                    "10": "1",
                                    "11": "2230007-1",
                                    "12": "0",
                                    "13": "10",
                                    "14": "DES",
                                    "15": "DES",
                                    "16": "DES",
                                    "17": "1.00000",
                                    "18": "1.00000",
                                    "19": "0.00000000",
                                    "20": "0.00000000",
                                    "21": "",
                                    "22": "0",
                                    "23": "0",
                                    "24": "",
                                    "25": "",
                                    "26": "DIR",
                                    "27": "0",
                                    "28": "0",
                                    "29": "35924220",
                                    "30": "35924280",
                                    "31": "2022-02-17",
                                    "32": "9.00",
                                    "33": "10.00",
                                    "34": "0",
                                    "35": "0.0000",
                                    "36": "31.250000",
                                    "37": "6.250000",
                                    "38": "09:00",
                                    "39": "10:00",
                                    "40": "",
                                    "41": "0",
                                    "42": "0.00",
                                    "43": "0",
                                    "44": "2022-02-17",
                                    "45": "1",
                                    "46": "0",
                                    "47": "0",
                                    "48": "0",
                                    "49": "1",
                                    "50": "",
                                    "51": "0",
                                    "52": "0",
                                    "53": "0",
                                    "54": "0",
                                    "55": "",
                                    "56": "",
                                    "57": "1",
                                    "58": "0.00000000",
                                    "59": "",
                                    "60": "0",
                                    "61": "T",
                                    "62": "",
                                    "63": "",
                                    "64": "0",
                                    "65": "74d931b6-6b79-4213-a414-f249b0a10f2d",
                                    "66": "",
                                    "67": "",
                                    "68": "",
                                    "69": "",
                                    "70": "0",
                                    "71": "0",
                                    "72": "",
                                    "73": "2022-02-18",
                                    "74": "",
                                    "75": "",
                                    "76": "A",
                                    "77": "Ccarrera",
                                    "78": "2022-02-18",
                                    "79": "57397",
                                    "80": "2022-02-18 15:56:37.000",
                                    "81": "Ccarrera",
                                    "82": "2022-02-18",
                                    "83": "57397",
                                    "84": "2022-02-18 15:56:37.000",
                                    "85": "",
                                    "86": "",
                                    "87": "0",
                                    "88": "",
                                    "89": "",
                                    "90": "0",
                                    "91": "0",
                                    "92": "Ccarrera",
                                    "93": "",
                                    "94": "",
                                    "95": "0.00",
                                    "96": "0.000",
                                    "97": "0.000",
                                    "98": "0.000",
                                    "99": "0.000",
                                    "100": "0.000",
                                    "101": "0.000",
                                    "102": "0.000",
                                    "103": "0.000",
                                    "104": "0.000",
                                    "105": "0.000",
                                    "106": "4",
                                    "107": "0",
                                    "108": "0",
                                    "109": "1",
                                    "110": "2022-07-13",
                                    "111": "1",
                                    "112": "",
                                    "113": "",
                                    "114": "",
                                    "115": "0",
                                    "116": "0",
                                    "117": "0",
                                    "118": "0",
                                    "119": "0.00000",
                                    "120": "0.00000",
                                    "121": "0.00000",
                                    "122": "0.00000",
                                    "123": "",
                                    "124": "0x0000000324A04CD1",
                                    "125": "9948bc82-a541-47d2-a714-3cd6486d0d79",
                                    "126": "0",
                                    "127": "",
                                    "128": "0",
                                    "129": "0",
                                    "130": "0",
                                    "131": "NULL",
                                    "132": "1",
                                    "133": "0",
                                    "134": "0.000000",
                                    "135": "1.00",
                                    "136": "0",
                                    "137": "0",
                                    "138": "0",
                                    "139": "0",
                                    "140": "2230007"
                                },
                                {
                                    "0": "SOLAR",
                                    "1": "200810",
                                    "2": "287294",
                                    "3": "615521",
                                    "4": "P",
                                    "5": "P",
                                    "6": "0",
                                    "7": "",
                                    "8": "2230007-1-1",
                                    "9": "2230007",
                                    "10": "1",
                                    "11": "2230007-1",
                                    "12": "0",
                                    "13": "10",
                                    "14": "DES",
                                    "15": "DES",
                                    "16": "DES",
                                    "17": "1.00000",
                                    "18": "1.00000",
                                    "19": "0.00000000",
                                    "20": "0.00000000",
                                    "21": "",
                                    "22": "0",
                                    "23": "0",
                                    "24": "",
                                    "25": "",
                                    "26": "DIR",
                                    "27": "0",
                                    "28": "0",
                                    "29": "35924220",
                                    "30": "35924280",
                                    "31": "2022-02-17",
                                    "32": "9.00",
                                    "33": "10.00",
                                    "34": "0",
                                    "35": "0.0000",
                                    "36": "31.250000",
                                    "37": "6.250000",
                                    "38": "09:00",
                                    "39": "10:00",
                                    "40": "",
                                    "41": "0",
                                    "42": "0.00",
                                    "43": "0",
                                    "44": "2022-02-17",
                                    "45": "1",
                                    "46": "0",
                                    "47": "0",
                                    "48": "0",
                                    "49": "1",
                                    "50": "",
                                    "51": "0",
                                    "52": "0",
                                    "53": "0",
                                    "54": "0",
                                    "55": "",
                                    "56": "",
                                    "57": "1",
                                    "58": "0.00000000",
                                    "59": "",
                                    "60": "0",
                                    "61": "T",
                                    "62": "",
                                    "63": "",
                                    "64": "0",
                                    "65": "74d931b6-6b79-4213-a414-f249b0a10f2d",
                                    "66": "",
                                    "67": "",
                                    "68": "",
                                    "69": "",
                                    "70": "0",
                                    "71": "0",
                                    "72": "",
                                    "73": "2022-02-18",
                                    "74": "",
                                    "75": "",
                                    "76": "A",
                                    "77": "Ccarrera",
                                    "78": "2022-02-18",
                                    "79": "57397",
                                    "80": "2022-02-18 15:56:37.000",
                                    "81": "Ccarrera",
                                    "82": "2022-02-18",
                                    "83": "57397",
                                    "84": "2022-02-18 15:56:37.000",
                                    "85": "",
                                    "86": "",
                                    "87": "0",
                                    "88": "",
                                    "89": "",
                                    "90": "0",
                                    "91": "0",
                                    "92": "Ccarrera",
                                    "93": "",
                                    "94": "",
                                    "95": "0.00",
                                    "96": "0.000",
                                    "97": "0.000",
                                    "98": "0.000",
                                    "99": "0.000",
                                    "100": "0.000",
                                    "101": "0.000",
                                    "102": "0.000",
                                    "103": "0.000",
                                    "104": "0.000",
                                    "105": "0.000",
                                    "106": "4",
                                    "107": "0",
                                    "108": "0",
                                    "109": "1",
                                    "110": "2022-07-13",
                                    "111": "1",
                                    "112": "",
                                    "113": "",
                                    "114": "",
                                    "115": "0",
                                    "116": "0",
                                    "117": "0",
                                    "118": "0",
                                    "119": "0.00000",
                                    "120": "0.00000",
                                    "121": "0.00000",
                                    "122": "0.00000",
                                    "123": "",
                                    "124": "0x0000000324A04CD1",
                                    "125": "9948bc82-a541-47d2-a714-3cd6486d0d79",
                                    "126": "0",
                                    "127": "",
                                    "128": "0",
                                    "129": "0",
                                    "130": "0",
                                    "131": "NULL",
                                    "132": "1",
                                    "133": "0",
                                    "134": "0.000000",
                                    "135": "1.00",
                                    "136": "0",
                                    "137": "0",
                                    "138": "0",
                                    "139": "0",
                                    "140": "2230007"
                                },
                                {
                                    "0": "SOLAR",
                                    "1": "180813",
                                    "2": "296638",
                                    "3": "634337",
                                    "4": "P",
                                    "5": "P",
                                    "6": "0",
                                    "7": "",
                                    "8": "2230007-1-1",
                                    "9": "2230007",
                                    "10": "1",
                                    "11": "2230007-1",
                                    "12": "0",
                                    "13": "10",
                                    "14": "DES",
                                    "15": "DES",
                                    "16": "DES",
                                    "17": "1.00000",
                                    "18": "1.00000",
                                    "19": "0.00000000",
                                    "20": "0.00000000",
                                    "21": "",
                                    "22": "0",
                                    "23": "0",
                                    "24": "",
                                    "25": "",
                                    "26": "DIR",
                                    "27": "0",
                                    "28": "0",
                                    "29": "35984820",
                                    "30": "35984880",
                                    "31": "2022-03-31",
                                    "32": "11.00",
                                    "33": "12.00",
                                    "34": "0",
                                    "35": "0.0000",
                                    "36": "31.250000",
                                    "37": "6.250000",
                                    "38": "11:00",
                                    "39": "12:00",
                                    "40": "",
                                    "41": "0",
                                    "42": "0.00",
                                    "43": "0",
                                    "44": "2022-03-31",
                                    "45": "1",
                                    "46": "0",
                                    "47": "0",
                                    "48": "0",
                                    "49": "1",
                                    "50": "",
                                    "51": "0",
                                    "52": "0",
                                    "53": "0",
                                    "54": "0",
                                    "55": "",
                                    "56": "",
                                    "57": "1",
                                    "58": "0.00000000",
                                    "59": "",
                                    "60": "0",
                                    "61": "T",
                                    "62": "",
                                    "63": "",
                                    "64": "0",
                                    "65": "578111dd-9829-4d83-8514-5e590558f262",
                                    "66": "",
                                    "67": "",
                                    "68": "",
                                    "69": "",
                                    "70": "0",
                                    "71": "0",
                                    "72": "",
                                    "73": "2022-03-31",
                                    "74": "",
                                    "75": "",
                                    "76": "A",
                                    "77": "Csaranita",
                                    "78": "2022-03-31",
                                    "79": "51933",
                                    "80": "2022-03-31 14:25:33.000",
                                    "81": "Csaranita",
                                    "82": "2022-03-31",
                                    "83": "51933",
                                    "84": "2022-03-31 14:25:33.000",
                                    "85": "",
                                    "86": "",
                                    "87": "0",
                                    "88": "",
                                    "89": "",
                                    "90": "0",
                                    "91": "0",
                                    "92": "Csaranita",
                                    "93": "",
                                    "94": "",
                                    "95": "0.00",
                                    "96": "0.000",
                                    "97": "0.000",
                                    "98": "0.000",
                                    "99": "0.000",
                                    "100": "0.000",
                                    "101": "0.000",
                                    "102": "0.000",
                                    "103": "0.000",
                                    "104": "0.000",
                                    "105": "0.000",
                                    "106": "4",
                                    "107": "0",
                                    "108": "0",
                                    "109": "1",
                                    "110": "2022-07-13",
                                    "111": "1",
                                    "112": "",
                                    "113": "",
                                    "114": "",
                                    "115": "0",
                                    "116": "0",
                                    "117": "0",
                                    "118": "0",
                                    "119": "0.00000",
                                    "120": "0.00000",
                                    "121": "0.00000",
                                    "122": "0.00000",
                                    "123": "",
                                    "124": "0x0000000324A04CD3",
                                    "125": "efd7d4ad-89aa-4e0f-b1bd-61e7efab9ea7",
                                    "126": "0",
                                    "127": "",
                                    "128": "0",
                                    "129": "0",
                                    "130": "0",
                                    "131": "NULL",
                                    "132": "1",
                                    "133": "0",
                                    "134": "0.000000",
                                    "135": "1.00",
                                    "136": "0",
                                    "137": "0",
                                    "138": "0",
                                    "139": "0",
                                    "140": "2230007"
                                },
                                {
                                    "0": "SOLAR",
                                    "1": "180813",
                                    "2": "296638",
                                    "3": "634337",
                                    "4": "P",
                                    "5": "P",
                                    "6": "0",
                                    "7": "",
                                    "8": "2230007-1-1",
                                    "9": "2230007",
                                    "10": "1",
                                    "11": "2230007-1",
                                    "12": "0",
                                    "13": "10",
                                    "14": "DES",
                                    "15": "DES",
                                    "16": "DES",
                                    "17": "1.00000",
                                    "18": "1.00000",
                                    "19": "0.00000000",
                                    "20": "0.00000000",
                                    "21": "",
                                    "22": "0",
                                    "23": "0",
                                    "24": "",
                                    "25": "",
                                    "26": "DIR",
                                    "27": "0",
                                    "28": "0",
                                    "29": "35984820",
                                    "30": "35984880",
                                    "31": "2022-03-31",
                                    "32": "11.00",
                                    "33": "12.00",
                                    "34": "0",
                                    "35": "0.0000",
                                    "36": "31.250000",
                                    "37": "6.250000",
                                    "38": "11:00",
                                    "39": "12:00",
                                    "40": "",
                                    "41": "0",
                                    "42": "0.00",
                                    "43": "0",
                                    "44": "2022-03-31",
                                    "45": "1",
                                    "46": "0",
                                    "47": "0",
                                    "48": "0",
                                    "49": "1",
                                    "50": "",
                                    "51": "0",
                                    "52": "0",
                                    "53": "0",
                                    "54": "0",
                                    "55": "",
                                    "56": "",
                                    "57": "1",
                                    "58": "0.00000000",
                                    "59": "",
                                    "60": "0",
                                    "61": "T",
                                    "62": "",
                                    "63": "",
                                    "64": "0",
                                    "65": "578111dd-9829-4d83-8514-5e590558f262",
                                    "66": "",
                                    "67": "",
                                    "68": "",
                                    "69": "",
                                    "70": "0",
                                    "71": "0",
                                    "72": "",
                                    "73": "2022-03-31",
                                    "74": "",
                                    "75": "",
                                    "76": "A",
                                    "77": "Csaranita",
                                    "78": "2022-03-31",
                                    "79": "51933",
                                    "80": "2022-03-31 14:25:33.000",
                                    "81": "Csaranita",
                                    "82": "2022-03-31",
                                    "83": "51933",
                                    "84": "2022-03-31 14:25:33.000",
                                    "85": "",
                                    "86": "",
                                    "87": "0",
                                    "88": "",
                                    "89": "",
                                    "90": "0",
                                    "91": "0",
                                    "92": "Csaranita",
                                    "93": "",
                                    "94": "",
                                    "95": "0.00",
                                    "96": "0.000",
                                    "97": "0.000",
                                    "98": "0.000",
                                    "99": "0.000",
                                    "100": "0.000",
                                    "101": "0.000",
                                    "102": "0.000",
                                    "103": "0.000",
                                    "104": "0.000",
                                    "105": "0.000",
                                    "106": "4",
                                    "107": "0",
                                    "108": "0",
                                    "109": "1",
                                    "110": "2022-07-13",
                                    "111": "1",
                                    "112": "",
                                    "113": "",
                                    "114": "",
                                    "115": "0",
                                    "116": "0",
                                    "117": "0",
                                    "118": "0",
                                    "119": "0.00000",
                                    "120": "0.00000",
                                    "121": "0.00000",
                                    "122": "0.00000",
                                    "123": "",
                                    "124": "0x0000000324A04CD3",
                                    "125": "efd7d4ad-89aa-4e0f-b1bd-61e7efab9ea7",
                                    "126": "0",
                                    "127": "",
                                    "128": "0",
                                    "129": "0",
                                    "130": "0",
                                    "131": "NULL",
                                    "132": "1",
                                    "133": "0",
                                    "134": "0.000000",
                                    "135": "1.00",
                                    "136": "0",
                                    "137": "0",
                                    "138": "0",
                                    "139": "0",
                                    "140": "2230007"
                                },
                                {
                                    "0": "SOLAR",
                                    "1": "2687",
                                    "2": "297737",
                                    "3": "636407",
                                    "4": "P",
                                    "5": "P",
                                    "6": "0",
                                    "7": "",
                                    "8": "2230007-1-1",
                                    "9": "2230007",
                                    "10": "1",
                                    "11": "2230007-1",
                                    "12": "0",
                                    "13": "10",
                                    "14": "DES",
                                    "15": "DES",
                                    "16": "DES",
                                    "17": "2.00000",
                                    "18": "2.00000",
                                    "19": "0.00000000",
                                    "20": "0.00000000",
                                    "21": "",
                                    "22": "0",
                                    "23": "0",
                                    "24": "",
                                    "25": "",
                                    "26": "DIR",
                                    "27": "0",
                                    "28": "0",
                                    "29": "35986230",
                                    "30": "35986350",
                                    "31": "2022-04-01",
                                    "32": "10.50",
                                    "33": "12.50",
                                    "34": "0",
                                    "35": "0.0000",
                                    "36": "31.250000",
                                    "37": "6.250000",
                                    "38": "10:30",
                                    "39": "12:30",
                                    "40": "",
                                    "41": "0",
                                    "42": "0.00",
                                    "43": "0",
                                    "44": "2022-04-01",
                                    "45": "1",
                                    "46": "0",
                                    "47": "0",
                                    "48": "0",
                                    "49": "1",
                                    "50": "",
                                    "51": "0",
                                    "52": "0",
                                    "53": "0",
                                    "54": "0",
                                    "55": "",
                                    "56": "",
                                    "57": "1",
                                    "58": "0.00000000",
                                    "59": "",
                                    "60": "0",
                                    "61": "T",
                                    "62": "",
                                    "63": "",
                                    "64": "0",
                                    "65": "c31bf8e6-8cc1-4188-b5d0-3e723d5b8c1d",
                                    "66": "",
                                    "67": "",
                                    "68": "",
                                    "69": "",
                                    "70": "0",
                                    "71": "0",
                                    "72": "",
                                    "73": "2022-04-05",
                                    "74": "",
                                    "75": "",
                                    "76": "A",
                                    "77": "CTN",
                                    "78": "2022-04-05",
                                    "79": "45792",
                                    "80": "2022-04-05 12:43:12.000",
                                    "81": "CTN",
                                    "82": "2022-04-05",
                                    "83": "45792",
                                    "84": "2022-04-05 12:43:12.000",
                                    "85": "",
                                    "86": "",
                                    "87": "0",
                                    "88": "",
                                    "89": "",
                                    "90": "0",
                                    "91": "0",
                                    "92": "CTN",
                                    "93": "",
                                    "94": "",
                                    "95": "0.00",
                                    "96": "0.000",
                                    "97": "0.000",
                                    "98": "0.000",
                                    "99": "0.000",
                                    "100": "0.000",
                                    "101": "0.000",
                                    "102": "0.000",
                                    "103": "0.000",
                                    "104": "0.000",
                                    "105": "0.000",
                                    "106": "4",
                                    "107": "0",
                                    "108": "0",
                                    "109": "1",
                                    "110": "2022-07-13",
                                    "111": "1",
                                    "112": "",
                                    "113": "",
                                    "114": "",
                                    "115": "0",
                                    "116": "0",
                                    "117": "0",
                                    "118": "0",
                                    "119": "0.00000",
                                    "120": "0.00000",
                                    "121": "0.00000",
                                    "122": "0.00000",
                                    "123": "",
                                    "124": "0x0000000324A04CD5",
                                    "125": "3cfbdfd2-5956-4fd2-b6d9-0784a3ba7d09",
                                    "126": "0",
                                    "127": "",
                                    "128": "0",
                                    "129": "0",
                                    "130": "0",
                                    "131": "NULL",
                                    "132": "1",
                                    "133": "0",
                                    "134": "0.000000",
                                    "135": "2.00",
                                    "136": "0",
                                    "137": "0",
                                    "138": "0",
                                    "139": "0",
                                    "140": "2230007"
                                },
                                {
                                    "0": "SOLAR",
                                    "1": "2687",
                                    "2": "297737",
                                    "3": "636407",
                                    "4": "P",
                                    "5": "P",
                                    "6": "0",
                                    "7": "",
                                    "8": "2230007-1-1",
                                    "9": "2230007",
                                    "10": "1",
                                    "11": "2230007-1",
                                    "12": "0",
                                    "13": "10",
                                    "14": "DES",
                                    "15": "DES",
                                    "16": "DES",
                                    "17": "2.00000",
                                    "18": "2.00000",
                                    "19": "0.00000000",
                                    "20": "0.00000000",
                                    "21": "",
                                    "22": "0",
                                    "23": "0",
                                    "24": "",
                                    "25": "",
                                    "26": "DIR",
                                    "27": "0",
                                    "28": "0",
                                    "29": "35986230",
                                    "30": "35986350",
                                    "31": "2022-04-01",
                                    "32": "10.50",
                                    "33": "12.50",
                                    "34": "0",
                                    "35": "0.0000",
                                    "36": "31.250000",
                                    "37": "6.250000",
                                    "38": "10:30",
                                    "39": "12:30",
                                    "40": "",
                                    "41": "0",
                                    "42": "0.00",
                                    "43": "0",
                                    "44": "2022-04-01",
                                    "45": "1",
                                    "46": "0",
                                    "47": "0",
                                    "48": "0",
                                    "49": "1",
                                    "50": "",
                                    "51": "0",
                                    "52": "0",
                                    "53": "0",
                                    "54": "0",
                                    "55": "",
                                    "56": "",
                                    "57": "1",
                                    "58": "0.00000000",
                                    "59": "",
                                    "60": "0",
                                    "61": "T",
                                    "62": "",
                                    "63": "",
                                    "64": "0",
                                    "65": "c31bf8e6-8cc1-4188-b5d0-3e723d5b8c1d",
                                    "66": "",
                                    "67": "",
                                    "68": "",
                                    "69": "",
                                    "70": "0",
                                    "71": "0",
                                    "72": "",
                                    "73": "2022-04-05",
                                    "74": "",
                                    "75": "",
                                    "76": "A",
                                    "77": "CTN",
                                    "78": "2022-04-05",
                                    "79": "45792",
                                    "80": "2022-04-05 12:43:12.000",
                                    "81": "CTN",
                                    "82": "2022-04-05",
                                    "83": "45792",
                                    "84": "2022-04-05 12:43:12.000",
                                    "85": "",
                                    "86": "",
                                    "87": "0",
                                    "88": "",
                                    "89": "",
                                    "90": "0",
                                    "91": "0",
                                    "92": "CTN",
                                    "93": "",
                                    "94": "",
                                    "95": "0.00",
                                    "96": "0.000",
                                    "97": "0.000",
                                    "98": "0.000",
                                    "99": "0.000",
                                    "100": "0.000",
                                    "101": "0.000",
                                    "102": "0.000",
                                    "103": "0.000",
                                    "104": "0.000",
                                    "105": "0.000",
                                    "106": "4",
                                    "107": "0",
                                    "108": "0",
                                    "109": "1",
                                    "110": "2022-07-13",
                                    "111": "1",
                                    "112": "",
                                    "113": "",
                                    "114": "",
                                    "115": "0",
                                    "116": "0",
                                    "117": "0",
                                    "118": "0",
                                    "119": "0.00000",
                                    "120": "0.00000",
                                    "121": "0.00000",
                                    "122": "0.00000",
                                    "123": "",
                                    "124": "0x0000000324A04CD5",
                                    "125": "3cfbdfd2-5956-4fd2-b6d9-0784a3ba7d09",
                                    "126": "0",
                                    "127": "",
                                    "128": "0",
                                    "129": "0",
                                    "130": "0",
                                    "131": "NULL",
                                    "132": "1",
                                    "133": "0",
                                    "134": "0.000000",
                                    "135": "2.00",
                                    "136": "0",
                                    "137": "0",
                                    "138": "0",
                                    "139": "0",
                                    "140": "2230007"
                                },
                                {
                                    "0": "SOLAR",
                                    "1": "200810",
                                    "2": "299829",
                                    "3": "640706",
                                    "4": "P",
                                    "5": "P",
                                    "6": "0",
                                    "7": "",
                                    "8": "2230007-1-1",
                                    "9": "2230007",
                                    "10": "1",
                                    "11": "2230007-1",
                                    "12": "0",
                                    "13": "10",
                                    "14": "DES",
                                    "15": "DES",
                                    "16": "DES",
                                    "17": "2.75000",
                                    "18": "2.75000",
                                    "19": "0.00000000",
                                    "20": "0.00000000",
                                    "21": "",
                                    "22": "0",
                                    "23": "0",
                                    "24": "",
                                    "25": "",
                                    "26": "DIR",
                                    "27": "0",
                                    "28": "0",
                                    "29": "36003540",
                                    "30": "36003780",
                                    "31": "2022-04-13",
                                    "32": "11.00",
                                    "33": "15.00",
                                    "34": "0",
                                    "35": "0.0000",
                                    "36": "31.250000",
                                    "37": "6.250000",
                                    "38": "11:00",
                                    "39": "15:00",
                                    "40": "",
                                    "41": "0",
                                    "42": "0.00",
                                    "43": "0",
                                    "44": "2022-04-13",
                                    "45": "1",
                                    "46": "0",
                                    "47": "0",
                                    "48": "0",
                                    "49": "1",
                                    "50": "",
                                    "51": "0",
                                    "52": "0",
                                    "53": "0",
                                    "54": "0",
                                    "55": "",
                                    "56": "",
                                    "57": "1",
                                    "58": "0.00000000",
                                    "59": "",
                                    "60": "0",
                                    "61": "T",
                                    "62": "",
                                    "63": "",
                                    "64": "0",
                                    "65": "6a2e2b68-ea94-4fd3-a6e8-a8eead287126",
                                    "66": "",
                                    "67": "",
                                    "68": "",
                                    "69": "",
                                    "70": "0",
                                    "71": "0",
                                    "72": "",
                                    "73": "2022-04-14",
                                    "74": "",
                                    "75": "",
                                    "76": "A",
                                    "77": "Ccarrera",
                                    "78": "2022-04-14",
                                    "79": "58278",
                                    "80": "2022-04-14 16:11:18.000",
                                    "81": "Ccarrera",
                                    "82": "2022-04-14",
                                    "83": "58278",
                                    "84": "2022-04-14 16:11:18.000",
                                    "85": "",
                                    "86": "",
                                    "87": "0",
                                    "88": "",
                                    "89": "",
                                    "90": "0",
                                    "91": "0",
                                    "92": "Ccarrera",
                                    "93": "",
                                    "94": "",
                                    "95": "0.00",
                                    "96": "0.000",
                                    "97": "0.000",
                                    "98": "0.000",
                                    "99": "0.000",
                                    "100": "0.000",
                                    "101": "0.000",
                                    "102": "0.000",
                                    "103": "0.000",
                                    "104": "0.000",
                                    "105": "0.000",
                                    "106": "4",
                                    "107": "0",
                                    "108": "0",
                                    "109": "1",
                                    "110": "2022-07-13",
                                    "111": "1",
                                    "112": "",
                                    "113": "",
                                    "114": "",
                                    "115": "0",
                                    "116": "0",
                                    "117": "0",
                                    "118": "0",
                                    "119": "0.00000",
                                    "120": "0.00000",
                                    "121": "0.00000",
                                    "122": "0.00000",
                                    "123": "",
                                    "124": "0x0000000324A04CD7",
                                    "125": "dadd3854-9ebb-468e-b6d2-295ff38eee1e",
                                    "126": "0",
                                    "127": "",
                                    "128": "0",
                                    "129": "0",
                                    "130": "0",
                                    "131": "NULL",
                                    "132": "1",
                                    "133": "0",
                                    "134": "0.000000",
                                    "135": "2.75",
                                    "136": "0",
                                    "137": "0",
                                    "138": "0",
                                    "139": "0",
                                    "140": "2230007"
                                },
                                {
                                    "0": "SOLAR",
                                    "1": "200810",
                                    "2": "299829",
                                    "3": "640706",
                                    "4": "P",
                                    "5": "P",
                                    "6": "0",
                                    "7": "",
                                    "8": "2230007-1-1",
                                    "9": "2230007",
                                    "10": "1",
                                    "11": "2230007-1",
                                    "12": "0",
                                    "13": "10",
                                    "14": "DES",
                                    "15": "DES",
                                    "16": "DES",
                                    "17": "2.75000",
                                    "18": "2.75000",
                                    "19": "0.00000000",
                                    "20": "0.00000000",
                                    "21": "",
                                    "22": "0",
                                    "23": "0",
                                    "24": "",
                                    "25": "",
                                    "26": "DIR",
                                    "27": "0",
                                    "28": "0",
                                    "29": "36003540",
                                    "30": "36003780",
                                    "31": "2022-04-13",
                                    "32": "11.00",
                                    "33": "15.00",
                                    "34": "0",
                                    "35": "0.0000",
                                    "36": "31.250000",
                                    "37": "6.250000",
                                    "38": "11:00",
                                    "39": "15:00",
                                    "40": "",
                                    "41": "0",
                                    "42": "0.00",
                                    "43": "0",
                                    "44": "2022-04-13",
                                    "45": "1",
                                    "46": "0",
                                    "47": "0",
                                    "48": "0",
                                    "49": "1",
                                    "50": "",
                                    "51": "0",
                                    "52": "0",
                                    "53": "0",
                                    "54": "0",
                                    "55": "",
                                    "56": "",
                                    "57": "1",
                                    "58": "0.00000000",
                                    "59": "",
                                    "60": "0",
                                    "61": "T",
                                    "62": "",
                                    "63": "",
                                    "64": "0",
                                    "65": "6a2e2b68-ea94-4fd3-a6e8-a8eead287126",
                                    "66": "",
                                    "67": "",
                                    "68": "",
                                    "69": "",
                                    "70": "0",
                                    "71": "0",
                                    "72": "",
                                    "73": "2022-04-14",
                                    "74": "",
                                    "75": "",
                                    "76": "A",
                                    "77": "Ccarrera",
                                    "78": "2022-04-14",
                                    "79": "58278",
                                    "80": "2022-04-14 16:11:18.000",
                                    "81": "Ccarrera",
                                    "82": "2022-04-14",
                                    "83": "58278",
                                    "84": "2022-04-14 16:11:18.000",
                                    "85": "",
                                    "86": "",
                                    "87": "0",
                                    "88": "",
                                    "89": "",
                                    "90": "0",
                                    "91": "0",
                                    "92": "Ccarrera",
                                    "93": "",
                                    "94": "",
                                    "95": "0.00",
                                    "96": "0.000",
                                    "97": "0.000",
                                    "98": "0.000",
                                    "99": "0.000",
                                    "100": "0.000",
                                    "101": "0.000",
                                    "102": "0.000",
                                    "103": "0.000",
                                    "104": "0.000",
                                    "105": "0.000",
                                    "106": "4",
                                    "107": "0",
                                    "108": "0",
                                    "109": "1",
                                    "110": "2022-07-13",
                                    "111": "1",
                                    "112": "",
                                    "113": "",
                                    "114": "",
                                    "115": "0",
                                    "116": "0",
                                    "117": "0",
                                    "118": "0",
                                    "119": "0.00000",
                                    "120": "0.00000",
                                    "121": "0.00000",
                                    "122": "0.00000",
                                    "123": "",
                                    "124": "0x0000000324A04CD7",
                                    "125": "dadd3854-9ebb-468e-b6d2-295ff38eee1e",
                                    "126": "0",
                                    "127": "",
                                    "128": "0",
                                    "129": "0",
                                    "130": "0",
                                    "131": "NULL",
                                    "132": "1",
                                    "133": "0",
                                    "134": "0.000000",
                                    "135": "2.75",
                                    "136": "0",
                                    "137": "0",
                                    "138": "0",
                                    "139": "0",
                                    "140": "2230007"
                                },
                                {
                                    "0": "SOLAR",
                                    "1": "151210",
                                    "2": "313241",
                                    "3": "667667",
                                    "4": "P",
                                    "5": "P",
                                    "6": "0",
                                    "7": "",
                                    "8": "2230007-1-1",
                                    "9": "2230007",
                                    "10": "1",
                                    "11": "2230007-1",
                                    "12": "0",
                                    "13": "10",
                                    "14": "DES",
                                    "15": "DES",
                                    "16": "DES",
                                    "17": "3.00000",
                                    "18": "3.00000",
                                    "19": "0.00000000",
                                    "20": "0.00000000",
                                    "21": "",
                                    "22": "0",
                                    "23": "0",
                                    "24": "",
                                    "25": "",
                                    "26": "ID",
                                    "27": "0",
                                    "28": "0",
                                    "29": "36102900",
                                    "30": "36103080",
                                    "31": "2022-06-21",
                                    "32": "11.00",
                                    "33": "14.00",
                                    "34": "0",
                                    "35": "0.0000",
                                    "36": "31.250000",
                                    "37": "6.250000",
                                    "38": "11:00",
                                    "39": "14:00",
                                    "40": "",
                                    "41": "0",
                                    "42": "0.00",
                                    "43": "0",
                                    "44": "2022-06-21",
                                    "45": "1",
                                    "46": "0",
                                    "47": "0",
                                    "48": "0",
                                    "49": "1",
                                    "50": "",
                                    "51": "0",
                                    "52": "0",
                                    "53": "0",
                                    "54": "0",
                                    "55": "",
                                    "56": "",
                                    "57": "1",
                                    "58": "0.00000000",
                                    "59": "",
                                    "60": "0",
                                    "61": "T",
                                    "62": "",
                                    "63": "",
                                    "64": "0",
                                    "65": "d4555675-1a5b-4202-ba72-fef502f62c8c",
                                    "66": "",
                                    "67": "",
                                    "68": "",
                                    "69": "",
                                    "70": "0",
                                    "71": "0",
                                    "72": "",
                                    "73": "2022-06-22",
                                    "74": "",
                                    "75": "",
                                    "76": "A",
                                    "77": "Dschenck",
                                    "78": "2022-06-22",
                                    "79": "30276",
                                    "80": "2022-06-22 08:24:36.000",
                                    "81": "Dschenck",
                                    "82": "2022-06-22",
                                    "83": "30276",
                                    "84": "2022-06-22 08:24:36.000",
                                    "85": "",
                                    "86": "",
                                    "87": "0",
                                    "88": "",
                                    "89": "",
                                    "90": "0",
                                    "91": "0",
                                    "92": "Dschenck",
                                    "93": "",
                                    "94": "",
                                    "95": "0.00",
                                    "96": "0.000",
                                    "97": "0.000",
                                    "98": "0.000",
                                    "99": "0.000",
                                    "100": "0.000",
                                    "101": "0.000",
                                    "102": "0.000",
                                    "103": "0.000",
                                    "104": "0.000",
                                    "105": "0.000",
                                    "106": "4",
                                    "107": "0",
                                    "108": "0",
                                    "109": "1",
                                    "110": "2022-07-13",
                                    "111": "1",
                                    "112": "",
                                    "113": "",
                                    "114": "",
                                    "115": "0",
                                    "116": "0",
                                    "117": "0",
                                    "118": "0",
                                    "119": "0.00000",
                                    "120": "0.00000",
                                    "121": "0.00000",
                                    "122": "0.00000",
                                    "123": "",
                                    "124": "0x0000000324A04CDD",
                                    "125": "e466e074-297b-4738-baed-a582dbc76aab",
                                    "126": "0",
                                    "127": "",
                                    "128": "0",
                                    "129": "0",
                                    "130": "0",
                                    "131": "NULL",
                                    "132": "1",
                                    "133": "0",
                                    "134": "0.000000",
                                    "135": "3.00",
                                    "136": "0",
                                    "137": "0",
                                    "138": "0",
                                    "139": "0",
                                    "140": "2230007"
                                },
                                {
                                    "0": "SOLAR",
                                    "1": "151210",
                                    "2": "313241",
                                    "3": "667667",
                                    "4": "P",
                                    "5": "P",
                                    "6": "0",
                                    "7": "",
                                    "8": "2230007-1-1",
                                    "9": "2230007",
                                    "10": "1",
                                    "11": "2230007-1",
                                    "12": "0",
                                    "13": "10",
                                    "14": "DES",
                                    "15": "DES",
                                    "16": "DES",
                                    "17": "3.00000",
                                    "18": "3.00000",
                                    "19": "0.00000000",
                                    "20": "0.00000000",
                                    "21": "",
                                    "22": "0",
                                    "23": "0",
                                    "24": "",
                                    "25": "",
                                    "26": "ID",
                                    "27": "0",
                                    "28": "0",
                                    "29": "36102900",
                                    "30": "36103080",
                                    "31": "2022-06-21",
                                    "32": "11.00",
                                    "33": "14.00",
                                    "34": "0",
                                    "35": "0.0000",
                                    "36": "31.250000",
                                    "37": "6.250000",
                                    "38": "11:00",
                                    "39": "14:00",
                                    "40": "",
                                    "41": "0",
                                    "42": "0.00",
                                    "43": "0",
                                    "44": "2022-06-21",
                                    "45": "1",
                                    "46": "0",
                                    "47": "0",
                                    "48": "0",
                                    "49": "1",
                                    "50": "",
                                    "51": "0",
                                    "52": "0",
                                    "53": "0",
                                    "54": "0",
                                    "55": "",
                                    "56": "",
                                    "57": "1",
                                    "58": "0.00000000",
                                    "59": "",
                                    "60": "0",
                                    "61": "T",
                                    "62": "",
                                    "63": "",
                                    "64": "0",
                                    "65": "d4555675-1a5b-4202-ba72-fef502f62c8c",
                                    "66": "",
                                    "67": "",
                                    "68": "",
                                    "69": "",
                                    "70": "0",
                                    "71": "0",
                                    "72": "",
                                    "73": "2022-06-22",
                                    "74": "",
                                    "75": "",
                                    "76": "A",
                                    "77": "Dschenck",
                                    "78": "2022-06-22",
                                    "79": "30276",
                                    "80": "2022-06-22 08:24:36.000",
                                    "81": "Dschenck",
                                    "82": "2022-06-22",
                                    "83": "30276",
                                    "84": "2022-06-22 08:24:36.000",
                                    "85": "",
                                    "86": "",
                                    "87": "0",
                                    "88": "",
                                    "89": "",
                                    "90": "0",
                                    "91": "0",
                                    "92": "Dschenck",
                                    "93": "",
                                    "94": "",
                                    "95": "0.00",
                                    "96": "0.000",
                                    "97": "0.000",
                                    "98": "0.000",
                                    "99": "0.000",
                                    "100": "0.000",
                                    "101": "0.000",
                                    "102": "0.000",
                                    "103": "0.000",
                                    "104": "0.000",
                                    "105": "0.000",
                                    "106": "4",
                                    "107": "0",
                                    "108": "0",
                                    "109": "1",
                                    "110": "2022-07-13",
                                    "111": "1",
                                    "112": "",
                                    "113": "",
                                    "114": "",
                                    "115": "0",
                                    "116": "0",
                                    "117": "0",
                                    "118": "0",
                                    "119": "0.00000",
                                    "120": "0.00000",
                                    "121": "0.00000",
                                    "122": "0.00000",
                                    "123": "",
                                    "124": "0x0000000324A04CDD",
                                    "125": "e466e074-297b-4738-baed-a582dbc76aab",
                                    "126": "0",
                                    "127": "",
                                    "128": "0",
                                    "129": "0",
                                    "130": "0",
                                    "131": "NULL",
                                    "132": "1",
                                    "133": "0",
                                    "134": "0.000000",
                                    "135": "3.00",
                                    "136": "0",
                                    "137": "0",
                                    "138": "0",
                                    "139": "0",
                                    "140": "2230007"
                                },
                                {
                                    "0": "SOLAR",
                                    "1": "151210",
                                    "2": "313472",
                                    "3": "668140",
                                    "4": "P",
                                    "5": "P",
                                    "6": "0",
                                    "7": "",
                                    "8": "2230007-1-1",
                                    "9": "2230007",
                                    "10": "1",
                                    "11": "2230007-1",
                                    "12": "0",
                                    "13": "10",
                                    "14": "DES",
                                    "15": "DES",
                                    "16": "DES",
                                    "17": "3.00000",
                                    "18": "3.00000",
                                    "19": "0.00000000",
                                    "20": "0.00000000",
                                    "21": "",
                                    "22": "0",
                                    "23": "0",
                                    "24": "",
                                    "25": "",
                                    "26": "ID",
                                    "27": "0",
                                    "28": "0",
                                    "29": "36104160",
                                    "30": "36104340",
                                    "31": "2022-06-22",
                                    "32": "8.00",
                                    "33": "11.00",
                                    "34": "0",
                                    "35": "0.0000",
                                    "36": "31.250000",
                                    "37": "6.250000",
                                    "38": "08:00",
                                    "39": "11:00",
                                    "40": "",
                                    "41": "0",
                                    "42": "0.00",
                                    "43": "0",
                                    "44": "2022-06-22",
                                    "45": "1",
                                    "46": "0",
                                    "47": "0",
                                    "48": "0",
                                    "49": "1",
                                    "50": "",
                                    "51": "0",
                                    "52": "0",
                                    "53": "0",
                                    "54": "0",
                                    "55": "",
                                    "56": "",
                                    "57": "1",
                                    "58": "0.00000000",
                                    "59": "",
                                    "60": "0",
                                    "61": "T",
                                    "62": "",
                                    "63": "",
                                    "64": "0",
                                    "65": "e5fbe863-3820-418a-afb3-935bfa025153",
                                    "66": "",
                                    "67": "",
                                    "68": "",
                                    "69": "",
                                    "70": "0",
                                    "71": "0",
                                    "72": "",
                                    "73": "2022-06-23",
                                    "74": "",
                                    "75": "",
                                    "76": "A",
                                    "77": "Dschenck",
                                    "78": "2022-06-23",
                                    "79": "31010",
                                    "80": "2022-06-23 08:36:50.000",
                                    "81": "Dschenck",
                                    "82": "2022-06-23",
                                    "83": "31010",
                                    "84": "2022-06-23 08:36:50.000",
                                    "85": "",
                                    "86": "",
                                    "87": "0",
                                    "88": "",
                                    "89": "",
                                    "90": "0",
                                    "91": "0",
                                    "92": "Dschenck",
                                    "93": "",
                                    "94": "",
                                    "95": "0.00",
                                    "96": "0.000",
                                    "97": "0.000",
                                    "98": "0.000",
                                    "99": "0.000",
                                    "100": "0.000",
                                    "101": "0.000",
                                    "102": "0.000",
                                    "103": "0.000",
                                    "104": "0.000",
                                    "105": "0.000",
                                    "106": "4",
                                    "107": "0",
                                    "108": "0",
                                    "109": "1",
                                    "110": "2022-07-13",
                                    "111": "1",
                                    "112": "",
                                    "113": "",
                                    "114": "",
                                    "115": "0",
                                    "116": "0",
                                    "117": "0",
                                    "118": "0",
                                    "119": "0.00000",
                                    "120": "0.00000",
                                    "121": "0.00000",
                                    "122": "0.00000",
                                    "123": "",
                                    "124": "0x0000000324A04CDF",
                                    "125": "951643f2-bc9b-49af-837f-4b8ba5b330ed",
                                    "126": "0",
                                    "127": "",
                                    "128": "0",
                                    "129": "0",
                                    "130": "0",
                                    "131": "NULL",
                                    "132": "1",
                                    "133": "0",
                                    "134": "0.000000",
                                    "135": "3.00",
                                    "136": "0",
                                    "137": "0",
                                    "138": "0",
                                    "139": "0",
                                    "140": "2230007"
                                },
                                {
                                    "0": "SOLAR",
                                    "1": "151210",
                                    "2": "313472",
                                    "3": "668140",
                                    "4": "P",
                                    "5": "P",
                                    "6": "0",
                                    "7": "",
                                    "8": "2230007-1-1",
                                    "9": "2230007",
                                    "10": "1",
                                    "11": "2230007-1",
                                    "12": "0",
                                    "13": "10",
                                    "14": "DES",
                                    "15": "DES",
                                    "16": "DES",
                                    "17": "3.00000",
                                    "18": "3.00000",
                                    "19": "0.00000000",
                                    "20": "0.00000000",
                                    "21": "",
                                    "22": "0",
                                    "23": "0",
                                    "24": "",
                                    "25": "",
                                    "26": "ID",
                                    "27": "0",
                                    "28": "0",
                                    "29": "36104160",
                                    "30": "36104340",
                                    "31": "2022-06-22",
                                    "32": "8.00",
                                    "33": "11.00",
                                    "34": "0",
                                    "35": "0.0000",
                                    "36": "31.250000",
                                    "37": "6.250000",
                                    "38": "08:00",
                                    "39": "11:00",
                                    "40": "",
                                    "41": "0",
                                    "42": "0.00",
                                    "43": "0",
                                    "44": "2022-06-22",
                                    "45": "1",
                                    "46": "0",
                                    "47": "0",
                                    "48": "0",
                                    "49": "1",
                                    "50": "",
                                    "51": "0",
                                    "52": "0",
                                    "53": "0",
                                    "54": "0",
                                    "55": "",
                                    "56": "",
                                    "57": "1",
                                    "58": "0.00000000",
                                    "59": "",
                                    "60": "0",
                                    "61": "T",
                                    "62": "",
                                    "63": "",
                                    "64": "0",
                                    "65": "e5fbe863-3820-418a-afb3-935bfa025153",
                                    "66": "",
                                    "67": "",
                                    "68": "",
                                    "69": "",
                                    "70": "0",
                                    "71": "0",
                                    "72": "",
                                    "73": "2022-06-23",
                                    "74": "",
                                    "75": "",
                                    "76": "A",
                                    "77": "Dschenck",
                                    "78": "2022-06-23",
                                    "79": "31010",
                                    "80": "2022-06-23 08:36:50.000",
                                    "81": "Dschenck",
                                    "82": "2022-06-23",
                                    "83": "31010",
                                    "84": "2022-06-23 08:36:50.000",
                                    "85": "",
                                    "86": "",
                                    "87": "0",
                                    "88": "",
                                    "89": "",
                                    "90": "0",
                                    "91": "0",
                                    "92": "Dschenck",
                                    "93": "",
                                    "94": "",
                                    "95": "0.00",
                                    "96": "0.000",
                                    "97": "0.000",
                                    "98": "0.000",
                                    "99": "0.000",
                                    "100": "0.000",
                                    "101": "0.000",
                                    "102": "0.000",
                                    "103": "0.000",
                                    "104": "0.000",
                                    "105": "0.000",
                                    "106": "4",
                                    "107": "0",
                                    "108": "0",
                                    "109": "1",
                                    "110": "2022-07-13",
                                    "111": "1",
                                    "112": "",
                                    "113": "",
                                    "114": "",
                                    "115": "0",
                                    "116": "0",
                                    "117": "0",
                                    "118": "0",
                                    "119": "0.00000",
                                    "120": "0.00000",
                                    "121": "0.00000",
                                    "122": "0.00000",
                                    "123": "",
                                    "124": "0x0000000324A04CDF",
                                    "125": "951643f2-bc9b-49af-837f-4b8ba5b330ed",
                                    "126": "0",
                                    "127": "",
                                    "128": "0",
                                    "129": "0",
                                    "130": "0",
                                    "131": "NULL",
                                    "132": "1",
                                    "133": "0",
                                    "134": "0.000000",
                                    "135": "3.00",
                                    "136": "0",
                                    "137": "0",
                                    "138": "0",
                                    "139": "0",
                                    "140": "2230007"
                                },
                                {
                                    "0": "SOLAR",
                                    "1": "180813",
                                    "2": "313970",
                                    "3": "669169",
                                    "4": "P",
                                    "5": "P",
                                    "6": "0",
                                    "7": "",
                                    "8": "2230007-1-1",
                                    "9": "2230007",
                                    "10": "1",
                                    "11": "2230007-1",
                                    "12": "0",
                                    "13": "10",
                                    "14": "DES",
                                    "15": "DES",
                                    "16": "DES",
                                    "17": "1.00000",
                                    "18": "1.00000",
                                    "19": "0.00000000",
                                    "20": "0.00000000",
                                    "21": "",
                                    "22": "0",
                                    "23": "0",
                                    "24": "",
                                    "25": "",
                                    "26": "DIR",
                                    "27": "0",
                                    "28": "0",
                                    "29": "36101700",
                                    "30": "36101760",
                                    "31": "2022-06-20",
                                    "32": "15.00",
                                    "33": "16.00",
                                    "34": "0",
                                    "35": "0.0000",
                                    "36": "31.250000",
                                    "37": "6.250000",
                                    "38": "15:00",
                                    "39": "16:00",
                                    "40": "",
                                    "41": "0",
                                    "42": "0.00",
                                    "43": "0",
                                    "44": "2022-06-20",
                                    "45": "1",
                                    "46": "0",
                                    "47": "0",
                                    "48": "0",
                                    "49": "1",
                                    "50": "",
                                    "51": "0",
                                    "52": "0",
                                    "53": "0",
                                    "54": "0",
                                    "55": "",
                                    "56": "",
                                    "57": "1",
                                    "58": "0.00000000",
                                    "59": "",
                                    "60": "0",
                                    "61": "T",
                                    "62": "",
                                    "63": "",
                                    "64": "0",
                                    "65": "a85be55e-7f31-4d16-b2a6-34754340cf66",
                                    "66": "",
                                    "67": "",
                                    "68": "",
                                    "69": "",
                                    "70": "0",
                                    "71": "0",
                                    "72": "",
                                    "73": "2022-06-27",
                                    "74": "",
                                    "75": "",
                                    "76": "A",
                                    "77": "Csaranita",
                                    "78": "2022-06-27",
                                    "79": "30337",
                                    "80": "2022-06-27 08:25:37.000",
                                    "81": "Csaranita",
                                    "82": "2022-06-27",
                                    "83": "30337",
                                    "84": "2022-06-27 08:25:37.000",
                                    "85": "",
                                    "86": "",
                                    "87": "0",
                                    "88": "",
                                    "89": "",
                                    "90": "0",
                                    "91": "0",
                                    "92": "Csaranita",
                                    "93": "",
                                    "94": "",
                                    "95": "0.00",
                                    "96": "0.000",
                                    "97": "0.000",
                                    "98": "0.000",
                                    "99": "0.000",
                                    "100": "0.000",
                                    "101": "0.000",
                                    "102": "0.000",
                                    "103": "0.000",
                                    "104": "0.000",
                                    "105": "0.000",
                                    "106": "4",
                                    "107": "0",
                                    "108": "0",
                                    "109": "1",
                                    "110": "2022-07-13",
                                    "111": "1",
                                    "112": "",
                                    "113": "",
                                    "114": "",
                                    "115": "0",
                                    "116": "0",
                                    "117": "0",
                                    "118": "0",
                                    "119": "0.00000",
                                    "120": "0.00000",
                                    "121": "0.00000",
                                    "122": "0.00000",
                                    "123": "",
                                    "124": "0x0000000324A04CDB",
                                    "125": "18bd8e1a-9d91-4815-ba28-f2155eaccb8b",
                                    "126": "0",
                                    "127": "",
                                    "128": "0",
                                    "129": "0",
                                    "130": "0",
                                    "131": "NULL",
                                    "132": "1",
                                    "133": "0",
                                    "134": "0.000000",
                                    "135": "1.00",
                                    "136": "0",
                                    "137": "0",
                                    "138": "0",
                                    "139": "0",
                                    "140": "2230007"
                                },
                                {
                                    "0": "SOLAR",
                                    "1": "180813",
                                    "2": "313970",
                                    "3": "669169",
                                    "4": "P",
                                    "5": "P",
                                    "6": "0",
                                    "7": "",
                                    "8": "2230007-1-1",
                                    "9": "2230007",
                                    "10": "1",
                                    "11": "2230007-1",
                                    "12": "0",
                                    "13": "10",
                                    "14": "DES",
                                    "15": "DES",
                                    "16": "DES",
                                    "17": "1.00000",
                                    "18": "1.00000",
                                    "19": "0.00000000",
                                    "20": "0.00000000",
                                    "21": "",
                                    "22": "0",
                                    "23": "0",
                                    "24": "",
                                    "25": "",
                                    "26": "DIR",
                                    "27": "0",
                                    "28": "0",
                                    "29": "36101700",
                                    "30": "36101760",
                                    "31": "2022-06-20",
                                    "32": "15.00",
                                    "33": "16.00",
                                    "34": "0",
                                    "35": "0.0000",
                                    "36": "31.250000",
                                    "37": "6.250000",
                                    "38": "15:00",
                                    "39": "16:00",
                                    "40": "",
                                    "41": "0",
                                    "42": "0.00",
                                    "43": "0",
                                    "44": "2022-06-20",
                                    "45": "1",
                                    "46": "0",
                                    "47": "0",
                                    "48": "0",
                                    "49": "1",
                                    "50": "",
                                    "51": "0",
                                    "52": "0",
                                    "53": "0",
                                    "54": "0",
                                    "55": "",
                                    "56": "",
                                    "57": "1",
                                    "58": "0.00000000",
                                    "59": "",
                                    "60": "0",
                                    "61": "T",
                                    "62": "",
                                    "63": "",
                                    "64": "0",
                                    "65": "a85be55e-7f31-4d16-b2a6-34754340cf66",
                                    "66": "",
                                    "67": "",
                                    "68": "",
                                    "69": "",
                                    "70": "0",
                                    "71": "0",
                                    "72": "",
                                    "73": "2022-06-27",
                                    "74": "",
                                    "75": "",
                                    "76": "A",
                                    "77": "Csaranita",
                                    "78": "2022-06-27",
                                    "79": "30337",
                                    "80": "2022-06-27 08:25:37.000",
                                    "81": "Csaranita",
                                    "82": "2022-06-27",
                                    "83": "30337",
                                    "84": "2022-06-27 08:25:37.000",
                                    "85": "",
                                    "86": "",
                                    "87": "0",
                                    "88": "",
                                    "89": "",
                                    "90": "0",
                                    "91": "0",
                                    "92": "Csaranita",
                                    "93": "",
                                    "94": "",
                                    "95": "0.00",
                                    "96": "0.000",
                                    "97": "0.000",
                                    "98": "0.000",
                                    "99": "0.000",
                                    "100": "0.000",
                                    "101": "0.000",
                                    "102": "0.000",
                                    "103": "0.000",
                                    "104": "0.000",
                                    "105": "0.000",
                                    "106": "4",
                                    "107": "0",
                                    "108": "0",
                                    "109": "1",
                                    "110": "2022-07-13",
                                    "111": "1",
                                    "112": "",
                                    "113": "",
                                    "114": "",
                                    "115": "0",
                                    "116": "0",
                                    "117": "0",
                                    "118": "0",
                                    "119": "0.00000",
                                    "120": "0.00000",
                                    "121": "0.00000",
                                    "122": "0.00000",
                                    "123": "",
                                    "124": "0x0000000324A04CDB",
                                    "125": "18bd8e1a-9d91-4815-ba28-f2155eaccb8b",
                                    "126": "0",
                                    "127": "",
                                    "128": "0",
                                    "129": "0",
                                    "130": "0",
                                    "131": "NULL",
                                    "132": "1",
                                    "133": "0",
                                    "134": "0.000000",
                                    "135": "1.00",
                                    "136": "0",
                                    "137": "0",
                                    "138": "0",
                                    "139": "0",
                                    "140": "2230007"
                                },
                                {
                                    "0": "SOLAR",
                                    "1": "1581",
                                    "2": "314015",
                                    "3": "669279",
                                    "4": "P",
                                    "5": "P",
                                    "6": "0",
                                    "7": "",
                                    "8": "2230007-1-1",
                                    "9": "2230007",
                                    "10": "1",
                                    "11": "2230007-1",
                                    "12": "0",
                                    "13": "10",
                                    "14": "DES",
                                    "15": "DES",
                                    "16": "DES",
                                    "17": "2.00000",
                                    "18": "2.00000",
                                    "19": "0.00000000",
                                    "20": "0.00000000",
                                    "21": "",
                                    "22": "0",
                                    "23": "0",
                                    "24": "",
                                    "25": "",
                                    "26": "DIR",
                                    "27": "0",
                                    "28": "0",
                                    "29": "36101340",
                                    "30": "36101460",
                                    "31": "2022-06-20",
                                    "32": "9.00",
                                    "33": "11.00",
                                    "34": "0",
                                    "35": "0.0000",
                                    "36": "31.250000",
                                    "37": "6.250000",
                                    "38": "09:00",
                                    "39": "11:00",
                                    "40": "",
                                    "41": "0",
                                    "42": "0.00",
                                    "43": "0",
                                    "44": "2022-06-20",
                                    "45": "1",
                                    "46": "0",
                                    "47": "0",
                                    "48": "0",
                                    "49": "1",
                                    "50": "",
                                    "51": "0",
                                    "52": "0",
                                    "53": "0",
                                    "54": "0",
                                    "55": "",
                                    "56": "",
                                    "57": "1",
                                    "58": "0.00000000",
                                    "59": "",
                                    "60": "0",
                                    "61": "T",
                                    "62": "",
                                    "63": "",
                                    "64": "0",
                                    "65": "a85be55e-7f31-4d16-b2a6-34754340cf66",
                                    "66": "",
                                    "67": "",
                                    "68": "",
                                    "69": "",
                                    "70": "0",
                                    "71": "0",
                                    "72": "",
                                    "73": "2022-06-27",
                                    "74": "",
                                    "75": "",
                                    "76": "A",
                                    "77": "Lguzman",
                                    "78": "2022-06-27",
                                    "79": "35770",
                                    "80": "2022-06-27 09:56:10.000",
                                    "81": "Lguzman",
                                    "82": "2022-06-27",
                                    "83": "35770",
                                    "84": "2022-06-27 09:56:10.000",
                                    "85": "",
                                    "86": "",
                                    "87": "0",
                                    "88": "",
                                    "89": "",
                                    "90": "0",
                                    "91": "0",
                                    "92": "Lguzman",
                                    "93": "",
                                    "94": "",
                                    "95": "0.00",
                                    "96": "0.000",
                                    "97": "0.000",
                                    "98": "0.000",
                                    "99": "0.000",
                                    "100": "0.000",
                                    "101": "0.000",
                                    "102": "0.000",
                                    "103": "0.000",
                                    "104": "0.000",
                                    "105": "0.000",
                                    "106": "4",
                                    "107": "0",
                                    "108": "0",
                                    "109": "1",
                                    "110": "2022-07-13",
                                    "111": "1",
                                    "112": "",
                                    "113": "",
                                    "114": "",
                                    "115": "0",
                                    "116": "0",
                                    "117": "0",
                                    "118": "0",
                                    "119": "0.00000",
                                    "120": "0.00000",
                                    "121": "0.00000",
                                    "122": "0.00000",
                                    "123": "",
                                    "124": "0x0000000324A04CD9",
                                    "125": "200e4ec6-7bd4-48a1-a88d-3ffa8dea561a",
                                    "126": "0",
                                    "127": "",
                                    "128": "0",
                                    "129": "0",
                                    "130": "0",
                                    "131": "NULL",
                                    "132": "1",
                                    "133": "0",
                                    "134": "0.000000",
                                    "135": "2.00",
                                    "136": "0",
                                    "137": "0",
                                    "138": "0",
                                    "139": "0",
                                    "140": "2230007"
                                },
                                {
                                    "0": "SOLAR",
                                    "1": "1581",
                                    "2": "314015",
                                    "3": "669279",
                                    "4": "P",
                                    "5": "P",
                                    "6": "0",
                                    "7": "",
                                    "8": "2230007-1-1",
                                    "9": "2230007",
                                    "10": "1",
                                    "11": "2230007-1",
                                    "12": "0",
                                    "13": "10",
                                    "14": "DES",
                                    "15": "DES",
                                    "16": "DES",
                                    "17": "2.00000",
                                    "18": "2.00000",
                                    "19": "0.00000000",
                                    "20": "0.00000000",
                                    "21": "",
                                    "22": "0",
                                    "23": "0",
                                    "24": "",
                                    "25": "",
                                    "26": "DIR",
                                    "27": "0",
                                    "28": "0",
                                    "29": "36101340",
                                    "30": "36101460",
                                    "31": "2022-06-20",
                                    "32": "9.00",
                                    "33": "11.00",
                                    "34": "0",
                                    "35": "0.0000",
                                    "36": "31.250000",
                                    "37": "6.250000",
                                    "38": "09:00",
                                    "39": "11:00",
                                    "40": "",
                                    "41": "0",
                                    "42": "0.00",
                                    "43": "0",
                                    "44": "2022-06-20",
                                    "45": "1",
                                    "46": "0",
                                    "47": "0",
                                    "48": "0",
                                    "49": "1",
                                    "50": "",
                                    "51": "0",
                                    "52": "0",
                                    "53": "0",
                                    "54": "0",
                                    "55": "",
                                    "56": "",
                                    "57": "1",
                                    "58": "0.00000000",
                                    "59": "",
                                    "60": "0",
                                    "61": "T",
                                    "62": "",
                                    "63": "",
                                    "64": "0",
                                    "65": "a85be55e-7f31-4d16-b2a6-34754340cf66",
                                    "66": "",
                                    "67": "",
                                    "68": "",
                                    "69": "",
                                    "70": "0",
                                    "71": "0",
                                    "72": "",
                                    "73": "2022-06-27",
                                    "74": "",
                                    "75": "",
                                    "76": "A",
                                    "77": "Lguzman",
                                    "78": "2022-06-27",
                                    "79": "35770",
                                    "80": "2022-06-27 09:56:10.000",
                                    "81": "Lguzman",
                                    "82": "2022-06-27",
                                    "83": "35770",
                                    "84": "2022-06-27 09:56:10.000",
                                    "85": "",
                                    "86": "",
                                    "87": "0",
                                    "88": "",
                                    "89": "",
                                    "90": "0",
                                    "91": "0",
                                    "92": "Lguzman",
                                    "93": "",
                                    "94": "",
                                    "95": "0.00",
                                    "96": "0.000",
                                    "97": "0.000",
                                    "98": "0.000",
                                    "99": "0.000",
                                    "100": "0.000",
                                    "101": "0.000",
                                    "102": "0.000",
                                    "103": "0.000",
                                    "104": "0.000",
                                    "105": "0.000",
                                    "106": "4",
                                    "107": "0",
                                    "108": "0",
                                    "109": "1",
                                    "110": "2022-07-13",
                                    "111": "1",
                                    "112": "",
                                    "113": "",
                                    "114": "",
                                    "115": "0",
                                    "116": "0",
                                    "117": "0",
                                    "118": "0",
                                    "119": "0.00000",
                                    "120": "0.00000",
                                    "121": "0.00000",
                                    "122": "0.00000",
                                    "123": "",
                                    "124": "0x0000000324A04CD9",
                                    "125": "200e4ec6-7bd4-48a1-a88d-3ffa8dea561a",
                                    "126": "0",
                                    "127": "",
                                    "128": "0",
                                    "129": "0",
                                    "130": "0",
                                    "131": "NULL",
                                    "132": "1",
                                    "133": "0",
                                    "134": "0.000000",
                                    "135": "2.00",
                                    "136": "0",
                                    "137": "0",
                                    "138": "0",
                                    "139": "0",
                                    "140": "2230007"
                                },
                                {
                                    "0": "SOLAR",
                                    "1": "170815",
                                    "2": "323404",
                                    "3": "687827",
                                    "4": "P",
                                    "5": "P",
                                    "6": "0",
                                    "7": "",
                                    "8": "2230007-1-1",
                                    "9": "2230007",
                                    "10": "1",
                                    "11": "2230007-1",
                                    "12": "0",
                                    "13": "10",
                                    "14": "DES",
                                    "15": "DES",
                                    "16": "DES",
                                    "17": "2.50000",
                                    "18": "2.50000",
                                    "19": "0.00000000",
                                    "20": "0.00000000",
                                    "21": "",
                                    "22": "0",
                                    "23": "0",
                                    "24": "",
                                    "25": "",
                                    "26": "DIR",
                                    "27": "0",
                                    "28": "0",
                                    "29": "36167520",
                                    "30": "36167670",
                                    "31": "2022-08-05",
                                    "32": "8.00",
                                    "33": "10.50",
                                    "34": "0",
                                    "35": "0.0000",
                                    "36": "31.250000",
                                    "37": "6.250000",
                                    "38": "08:00",
                                    "39": "10:30",
                                    "40": "",
                                    "41": "0",
                                    "42": "0.00",
                                    "43": "0",
                                    "44": "2022-08-05",
                                    "45": "0",
                                    "46": "0",
                                    "47": "0",
                                    "48": "0",
                                    "49": "1",
                                    "50": "",
                                    "51": "0",
                                    "52": "0",
                                    "53": "0",
                                    "54": "0",
                                    "55": "",
                                    "56": "",
                                    "57": "0",
                                    "58": "0.00000000",
                                    "59": "",
                                    "60": "0",
                                    "61": "T",
                                    "62": "",
                                    "63": "",
                                    "64": "0",
                                    "65": "",
                                    "66": "",
                                    "67": "",
                                    "68": "",
                                    "69": "",
                                    "70": "0",
                                    "71": "0",
                                    "72": "",
                                    "73": "2022-08-08",
                                    "74": "",
                                    "75": "",
                                    "76": "A",
                                    "77": "Shitch",
                                    "78": "2022-08-08",
                                    "79": "29233",
                                    "80": "2022-08-08 08:07:13.000",
                                    "81": "Shitch",
                                    "82": "2022-08-08",
                                    "83": "29233",
                                    "84": "2022-08-08 08:07:13.000",
                                    "85": "",
                                    "86": "",
                                    "87": "0",
                                    "88": "",
                                    "89": "",
                                    "90": "0",
                                    "91": "0",
                                    "92": "Shitch",
                                    "93": "",
                                    "94": "",
                                    "95": "0.00",
                                    "96": "0.000",
                                    "97": "0.000",
                                    "98": "0.000",
                                    "99": "0.000",
                                    "100": "0.000",
                                    "101": "0.000",
                                    "102": "0.000",
                                    "103": "0.000",
                                    "104": "0.000",
                                    "105": "0.000",
                                    "106": "4",
                                    "107": "0",
                                    "108": "0",
                                    "109": "0",
                                    "110": "NULL",
                                    "111": "0",
                                    "112": "",
                                    "113": "",
                                    "114": "",
                                    "115": "0",
                                    "116": "0",
                                    "117": "0",
                                    "118": "0",
                                    "119": "0.00000",
                                    "120": "0.00000",
                                    "121": "0.00000",
                                    "122": "0.00000",
                                    "123": "",
                                    "124": "0x00000003361CB416",
                                    "125": "cf11e1b6-430c-4e69-9129-0a42629ff41d",
                                    "126": "0",
                                    "127": "",
                                    "128": "0",
                                    "129": "0",
                                    "130": "0",
                                    "131": "NULL",
                                    "132": "1",
                                    "133": "0",
                                    "134": "0.000000",
                                    "135": "2.50",
                                    "136": "0",
                                    "137": "0",
                                    "138": "0",
                                    "139": "0",
                                    "140": "2230007"
                                },
                                {
                                    "0": "SOLAR",
                                    "1": "170815",
                                    "2": "323404",
                                    "3": "687827",
                                    "4": "P",
                                    "5": "P",
                                    "6": "0",
                                    "7": "",
                                    "8": "2230007-1-1",
                                    "9": "2230007",
                                    "10": "1",
                                    "11": "2230007-1",
                                    "12": "0",
                                    "13": "10",
                                    "14": "DES",
                                    "15": "DES",
                                    "16": "DES",
                                    "17": "2.50000",
                                    "18": "2.50000",
                                    "19": "0.00000000",
                                    "20": "0.00000000",
                                    "21": "",
                                    "22": "0",
                                    "23": "0",
                                    "24": "",
                                    "25": "",
                                    "26": "DIR",
                                    "27": "0",
                                    "28": "0",
                                    "29": "36167520",
                                    "30": "36167670",
                                    "31": "2022-08-05",
                                    "32": "8.00",
                                    "33": "10.50",
                                    "34": "0",
                                    "35": "0.0000",
                                    "36": "31.250000",
                                    "37": "6.250000",
                                    "38": "08:00",
                                    "39": "10:30",
                                    "40": "",
                                    "41": "0",
                                    "42": "0.00",
                                    "43": "0",
                                    "44": "2022-08-05",
                                    "45": "0",
                                    "46": "0",
                                    "47": "0",
                                    "48": "0",
                                    "49": "1",
                                    "50": "",
                                    "51": "0",
                                    "52": "0",
                                    "53": "0",
                                    "54": "0",
                                    "55": "",
                                    "56": "",
                                    "57": "0",
                                    "58": "0.00000000",
                                    "59": "",
                                    "60": "0",
                                    "61": "T",
                                    "62": "",
                                    "63": "",
                                    "64": "0",
                                    "65": "",
                                    "66": "",
                                    "67": "",
                                    "68": "",
                                    "69": "",
                                    "70": "0",
                                    "71": "0",
                                    "72": "",
                                    "73": "2022-08-08",
                                    "74": "",
                                    "75": "",
                                    "76": "A",
                                    "77": "Shitch",
                                    "78": "2022-08-08",
                                    "79": "29233",
                                    "80": "2022-08-08 08:07:13.000",
                                    "81": "Shitch",
                                    "82": "2022-08-08",
                                    "83": "29233",
                                    "84": "2022-08-08 08:07:13.000",
                                    "85": "",
                                    "86": "",
                                    "87": "0",
                                    "88": "",
                                    "89": "",
                                    "90": "0",
                                    "91": "0",
                                    "92": "Shitch",
                                    "93": "",
                                    "94": "",
                                    "95": "0.00",
                                    "96": "0.000",
                                    "97": "0.000",
                                    "98": "0.000",
                                    "99": "0.000",
                                    "100": "0.000",
                                    "101": "0.000",
                                    "102": "0.000",
                                    "103": "0.000",
                                    "104": "0.000",
                                    "105": "0.000",
                                    "106": "4",
                                    "107": "0",
                                    "108": "0",
                                    "109": "0",
                                    "110": "NULL",
                                    "111": "0",
                                    "112": "",
                                    "113": "",
                                    "114": "",
                                    "115": "0",
                                    "116": "0",
                                    "117": "0",
                                    "118": "0",
                                    "119": "0.00000",
                                    "120": "0.00000",
                                    "121": "0.00000",
                                    "122": "0.00000",
                                    "123": "",
                                    "124": "0x00000003361CB416",
                                    "125": "cf11e1b6-430c-4e69-9129-0a42629ff41d",
                                    "126": "0",
                                    "127": "",
                                    "128": "0",
                                    "129": "0",
                                    "130": "0",
                                    "131": "NULL",
                                    "132": "1",
                                    "133": "0",
                                    "134": "0.000000",
                                    "135": "2.50",
                                    "136": "0",
                                    "137": "0",
                                    "138": "0",
                                    "139": "0",
                                    "140": "2230007"
                                }
                            ]
                        },
                        "text/html": "<table><tr><th>Company</th><th>EmployeeNum</th><th>LaborHedSeq</th><th>LaborDtlSeq</th><th>LaborType</th><th>LaborTypePseudo</th><th>ReWork</th><th>ReworkReasonCode</th><th>JobNum</th><th>OrderNum</th><th>OrderLine</th><th>OrderNumLine</th><th>AssemblySeq</th><th>OprSeq</th><th>JCDept</th><th>ResourceGrpID</th><th>OpCode</th><th>LaborHrs</th><th>BurdenHrs</th><th>LaborQty</th><th>ScrapQty</th><th>ScrapReasonCode</th><th>SetupPctComplete</th><th>Complete</th><th>IndirectCode</th><th>LaborNote</th><th>ExpenseCode</th><th>LaborCollection</th><th>AppliedToSchedule</th><th>ClockInMInute</th><th>ClockOutMinute</th><th>ClockInDate</th><th>ClockinTime</th><th>ClockOutTime</th><th>ActiveTrans</th><th>OverRidePayRate</th><th>LaborRate</th><th>BurdenRate</th><th>DspClockInTime</th><th>DspClockOutTime</th><th>ResourceID</th><th>OpComplete</th><th>EarnedHrs</th><th>AddedOper</th><th>PayrollDate</th><th>PostedToGL</th><th>FiscalYear</th><th>FiscalPeriod</th><th>JournalNum</th><th>GLTrans</th><th>JournalCode</th><th>InspectionPending</th><th>CallNum</th><th>CallLine</th><th>ServNum</th><th>ServCode</th><th>ResReasonCode</th><th>WipPosted</th><th>DiscrepQty</th><th>DiscrpRsnCode</th><th>ParentLaborDtlSeq</th><th>LaborEntryMethod</th><th>FiscalYearSuffix</th><th>FiscalCalendarID</th><th>BFLaborReq</th><th>ABTUID</th><th>ProjectID</th><th>PhaseID</th><th>RoleCd</th><th>TimeTypCd</th><th>PBInvNum</th><th>PMUID</th><th>TaskSetID</th><th>ApprovedDate</th><th>ClaimRef</th><th>QuickEntryCode</th><th>TimeStatus</th><th>CreatedBy</th><th>CreateDate</th><th>CreateTime</th><th>CreateDateTime</th><th>ChangedBy</th><th>ChangeDate</th><th>ChangeTime</th><th>ChangeDateTime</th><th>ActiveTaskID</th><th>LastTaskID</th><th>CreatedViaTEWeekView</th><th>CurrentWFStageID</th><th>WFGroupID</th><th>WFComplete</th><th>ApprovalRequired</th><th>SubmittedBy</th><th>PBRateFrom</th><th>PBCurrencyCode</th><th>PBHours</th><th>PBChargeRate</th><th>PBChargeAmt</th><th>DocPBChargeRate</th><th>Rpt1PBChargeRate</th><th>Rpt2PBChargeRate</th><th>Rpt3PBChargeRate</th><th>DocPBChargeAmt</th><th>Rpt1PBChargeAmt</th><th>Rpt2PBChargeAmt</th><th>Rpt3PBChargeAmt</th><th>Shift</th><th>ActID</th><th>DtailID</th><th>ProjProcessed</th><th>AsOfDate</th><th>AsOfSeq</th><th>JDFInputFiles</th><th>JDFNumberOfPages</th><th>BatchWasSaved</th><th>AssignToBatch</th><th>BatchComplete</th><th>BatchRequestMove</th><th>BatchPrint</th><th>BatchLaborHrs</th><th>BatchPctOfTotHrs</th><th>BatchQty</th><th>BatchTotalExpectedHrs</th><th>JDFOpCompleted</th><th>SysRevID</th><th>SysRowID</th><th>Downtime</th><th>RefJobNum</th><th>RefAssemblySeq</th><th>RefOprSeq</th><th>Imported</th><th>ImportDate</th><th>TimeAutoSubmit</th><th>BatchMode</th><th>BillServiceRate</th><th>HCMPayHours</th><th>EpicorFSA</th><th>DiscrepAttributeSetID</th><th>LaborAttributeSetID</th><th>ScrapAttributeSetID</th><th>ProjectID</th></tr><tr><td>SOLAR</td><td>200810</td><td>284426</td><td>609992</td><td>P</td><td>P</td><td>0</td><td></td><td>2230007-1-1</td><td>2230007</td><td>1</td><td>2230007-1</td><td>0</td><td>10</td><td>DES</td><td>DES</td><td>DES</td><td>0.50000</td><td>0.50000</td><td>0.00000000</td><td>0.00000000</td><td></td><td>0</td><td>0</td><td></td><td></td><td>DIR</td><td>0</td><td>0</td><td>35903010</td><td>35903040</td><td>2022-02-02</td><td>15.50</td><td>16.00</td><td>0</td><td>0.0000</td><td>31.250000</td><td>6.250000</td><td>15:30</td><td>16:00</td><td></td><td>0</td><td>0.00</td><td>0</td><td>2022-02-02</td><td>1</td><td>0</td><td>0</td><td>0</td><td>1</td><td></td><td>0</td><td>0</td><td>0</td><td>0</td><td></td><td></td><td>1</td><td>0.00000000</td><td></td><td>0</td><td>T</td><td></td><td></td><td>0</td><td>ce303ab1-08e6-41c7-b5f9-06257acabc30</td><td></td><td></td><td></td><td></td><td>0</td><td>0</td><td></td><td>2022-02-04</td><td></td><td></td><td>A</td><td>Ccarrera</td><td>2022-02-04</td><td>60847</td><td>2022-02-04 16:54:07.000</td><td>Ccarrera</td><td>2022-02-04</td><td>60847</td><td>2022-02-04 16:54:07.000</td><td></td><td></td><td>0</td><td></td><td></td><td>0</td><td>0</td><td>Ccarrera</td><td></td><td></td><td>0.00</td><td>0.000</td><td>0.000</td><td>0.000</td><td>0.000</td><td>0.000</td><td>0.000</td><td>0.000</td><td>0.000</td><td>0.000</td><td>0.000</td><td>4</td><td>0</td><td>0</td><td>1</td><td>2022-07-13</td><td>1</td><td></td><td></td><td></td><td>0</td><td>0</td><td>0</td><td>0</td><td>0.00000</td><td>0.00000</td><td>0.00000</td><td>0.00000</td><td></td><td>0x0000000324A04CCD</td><td>c60a99e0-f895-49c0-bc67-3440208e345b</td><td>0</td><td></td><td>0</td><td>0</td><td>0</td><td>NULL</td><td>1</td><td>0</td><td>0.000000</td><td>0.50</td><td>0</td><td>0</td><td>0</td><td>0</td><td>2230007</td></tr><tr><td>SOLAR</td><td>200810</td><td>284426</td><td>609992</td><td>P</td><td>P</td><td>0</td><td></td><td>2230007-1-1</td><td>2230007</td><td>1</td><td>2230007-1</td><td>0</td><td>10</td><td>DES</td><td>DES</td><td>DES</td><td>0.50000</td><td>0.50000</td><td>0.00000000</td><td>0.00000000</td><td></td><td>0</td><td>0</td><td></td><td></td><td>DIR</td><td>0</td><td>0</td><td>35903010</td><td>35903040</td><td>2022-02-02</td><td>15.50</td><td>16.00</td><td>0</td><td>0.0000</td><td>31.250000</td><td>6.250000</td><td>15:30</td><td>16:00</td><td></td><td>0</td><td>0.00</td><td>0</td><td>2022-02-02</td><td>1</td><td>0</td><td>0</td><td>0</td><td>1</td><td></td><td>0</td><td>0</td><td>0</td><td>0</td><td></td><td></td><td>1</td><td>0.00000000</td><td></td><td>0</td><td>T</td><td></td><td></td><td>0</td><td>ce303ab1-08e6-41c7-b5f9-06257acabc30</td><td></td><td></td><td></td><td></td><td>0</td><td>0</td><td></td><td>2022-02-04</td><td></td><td></td><td>A</td><td>Ccarrera</td><td>2022-02-04</td><td>60847</td><td>2022-02-04 16:54:07.000</td><td>Ccarrera</td><td>2022-02-04</td><td>60847</td><td>2022-02-04 16:54:07.000</td><td></td><td></td><td>0</td><td></td><td></td><td>0</td><td>0</td><td>Ccarrera</td><td></td><td></td><td>0.00</td><td>0.000</td><td>0.000</td><td>0.000</td><td>0.000</td><td>0.000</td><td>0.000</td><td>0.000</td><td>0.000</td><td>0.000</td><td>0.000</td><td>4</td><td>0</td><td>0</td><td>1</td><td>2022-07-13</td><td>1</td><td></td><td></td><td></td><td>0</td><td>0</td><td>0</td><td>0</td><td>0.00000</td><td>0.00000</td><td>0.00000</td><td>0.00000</td><td></td><td>0x0000000324A04CCD</td><td>c60a99e0-f895-49c0-bc67-3440208e345b</td><td>0</td><td></td><td>0</td><td>0</td><td>0</td><td>NULL</td><td>1</td><td>0</td><td>0.000000</td><td>0.50</td><td>0</td><td>0</td><td>0</td><td>0</td><td>2230007</td></tr><tr><td>SOLAR</td><td>200810</td><td>284828</td><td>610708</td><td>P</td><td>P</td><td>0</td><td></td><td>2230007-1-1</td><td>2230007</td><td>1</td><td>2230007-1</td><td>0</td><td>10</td><td>DES</td><td>DES</td><td>DES</td><td>1.00000</td><td>1.00000</td><td>0.00000000</td><td>0.00000000</td><td></td><td>0</td><td>0</td><td></td><td></td><td>DIR</td><td>0</td><td>0</td><td>35910300</td><td>35910360</td><td>2022-02-07</td><td>17.00</td><td>18.00</td><td>0</td><td>0.0000</td><td>31.250000</td><td>6.250000</td><td>17:00</td><td>18:00</td><td></td><td>0</td><td>0.00</td><td>0</td><td>2022-02-07</td><td>1</td><td>0</td><td>0</td><td>0</td><td>1</td><td></td><td>0</td><td>0</td><td>0</td><td>0</td><td></td><td></td><td>1</td><td>0.00000000</td><td></td><td>0</td><td>T</td><td></td><td></td><td>0</td><td>b934e9fa-fef6-4b69-8980-8cd3cf5eae39</td><td></td><td></td><td></td><td></td><td>0</td><td>0</td><td></td><td>2022-02-07</td><td></td><td></td><td>A</td><td>Ccarrera</td><td>2022-02-07</td><td>62386</td><td>2022-02-07 17:19:46.000</td><td>Ccarrera</td><td>2022-02-07</td><td>62386</td><td>2022-02-07 17:19:46.000</td><td></td><td></td><td>0</td><td></td><td></td><td>0</td><td>0</td><td>Ccarrera</td><td></td><td></td><td>0.00</td><td>0.000</td><td>0.000</td><td>0.000</td><td>0.000</td><td>0.000</td><td>0.000</td><td>0.000</td><td>0.000</td><td>0.000</td><td>0.000</td><td>4</td><td>0</td><td>0</td><td>1</td><td>2022-07-13</td><td>1</td><td></td><td></td><td></td><td>0</td><td>0</td><td>0</td><td>0</td><td>0.00000</td><td>0.00000</td><td>0.00000</td><td>0.00000</td><td></td><td>0x0000000324A04CCF</td><td>2ca959f5-e97b-43ea-ad07-3828ec027d3c</td><td>0</td><td></td><td>0</td><td>0</td><td>0</td><td>NULL</td><td>1</td><td>0</td><td>0.000000</td><td>1.00</td><td>0</td><td>0</td><td>0</td><td>0</td><td>2230007</td></tr><tr><td>SOLAR</td><td>200810</td><td>284828</td><td>610708</td><td>P</td><td>P</td><td>0</td><td></td><td>2230007-1-1</td><td>2230007</td><td>1</td><td>2230007-1</td><td>0</td><td>10</td><td>DES</td><td>DES</td><td>DES</td><td>1.00000</td><td>1.00000</td><td>0.00000000</td><td>0.00000000</td><td></td><td>0</td><td>0</td><td></td><td></td><td>DIR</td><td>0</td><td>0</td><td>35910300</td><td>35910360</td><td>2022-02-07</td><td>17.00</td><td>18.00</td><td>0</td><td>0.0000</td><td>31.250000</td><td>6.250000</td><td>17:00</td><td>18:00</td><td></td><td>0</td><td>0.00</td><td>0</td><td>2022-02-07</td><td>1</td><td>0</td><td>0</td><td>0</td><td>1</td><td></td><td>0</td><td>0</td><td>0</td><td>0</td><td></td><td></td><td>1</td><td>0.00000000</td><td></td><td>0</td><td>T</td><td></td><td></td><td>0</td><td>b934e9fa-fef6-4b69-8980-8cd3cf5eae39</td><td></td><td></td><td></td><td></td><td>0</td><td>0</td><td></td><td>2022-02-07</td><td></td><td></td><td>A</td><td>Ccarrera</td><td>2022-02-07</td><td>62386</td><td>2022-02-07 17:19:46.000</td><td>Ccarrera</td><td>2022-02-07</td><td>62386</td><td>2022-02-07 17:19:46.000</td><td></td><td></td><td>0</td><td></td><td></td><td>0</td><td>0</td><td>Ccarrera</td><td></td><td></td><td>0.00</td><td>0.000</td><td>0.000</td><td>0.000</td><td>0.000</td><td>0.000</td><td>0.000</td><td>0.000</td><td>0.000</td><td>0.000</td><td>0.000</td><td>4</td><td>0</td><td>0</td><td>1</td><td>2022-07-13</td><td>1</td><td></td><td></td><td></td><td>0</td><td>0</td><td>0</td><td>0</td><td>0.00000</td><td>0.00000</td><td>0.00000</td><td>0.00000</td><td></td><td>0x0000000324A04CCF</td><td>2ca959f5-e97b-43ea-ad07-3828ec027d3c</td><td>0</td><td></td><td>0</td><td>0</td><td>0</td><td>NULL</td><td>1</td><td>0</td><td>0.000000</td><td>1.00</td><td>0</td><td>0</td><td>0</td><td>0</td><td>2230007</td></tr><tr><td>SOLAR</td><td>200810</td><td>287294</td><td>615521</td><td>P</td><td>P</td><td>0</td><td></td><td>2230007-1-1</td><td>2230007</td><td>1</td><td>2230007-1</td><td>0</td><td>10</td><td>DES</td><td>DES</td><td>DES</td><td>1.00000</td><td>1.00000</td><td>0.00000000</td><td>0.00000000</td><td></td><td>0</td><td>0</td><td></td><td></td><td>DIR</td><td>0</td><td>0</td><td>35924220</td><td>35924280</td><td>2022-02-17</td><td>9.00</td><td>10.00</td><td>0</td><td>0.0000</td><td>31.250000</td><td>6.250000</td><td>09:00</td><td>10:00</td><td></td><td>0</td><td>0.00</td><td>0</td><td>2022-02-17</td><td>1</td><td>0</td><td>0</td><td>0</td><td>1</td><td></td><td>0</td><td>0</td><td>0</td><td>0</td><td></td><td></td><td>1</td><td>0.00000000</td><td></td><td>0</td><td>T</td><td></td><td></td><td>0</td><td>74d931b6-6b79-4213-a414-f249b0a10f2d</td><td></td><td></td><td></td><td></td><td>0</td><td>0</td><td></td><td>2022-02-18</td><td></td><td></td><td>A</td><td>Ccarrera</td><td>2022-02-18</td><td>57397</td><td>2022-02-18 15:56:37.000</td><td>Ccarrera</td><td>2022-02-18</td><td>57397</td><td>2022-02-18 15:56:37.000</td><td></td><td></td><td>0</td><td></td><td></td><td>0</td><td>0</td><td>Ccarrera</td><td></td><td></td><td>0.00</td><td>0.000</td><td>0.000</td><td>0.000</td><td>0.000</td><td>0.000</td><td>0.000</td><td>0.000</td><td>0.000</td><td>0.000</td><td>0.000</td><td>4</td><td>0</td><td>0</td><td>1</td><td>2022-07-13</td><td>1</td><td></td><td></td><td></td><td>0</td><td>0</td><td>0</td><td>0</td><td>0.00000</td><td>0.00000</td><td>0.00000</td><td>0.00000</td><td></td><td>0x0000000324A04CD1</td><td>9948bc82-a541-47d2-a714-3cd6486d0d79</td><td>0</td><td></td><td>0</td><td>0</td><td>0</td><td>NULL</td><td>1</td><td>0</td><td>0.000000</td><td>1.00</td><td>0</td><td>0</td><td>0</td><td>0</td><td>2230007</td></tr><tr><td>SOLAR</td><td>200810</td><td>287294</td><td>615521</td><td>P</td><td>P</td><td>0</td><td></td><td>2230007-1-1</td><td>2230007</td><td>1</td><td>2230007-1</td><td>0</td><td>10</td><td>DES</td><td>DES</td><td>DES</td><td>1.00000</td><td>1.00000</td><td>0.00000000</td><td>0.00000000</td><td></td><td>0</td><td>0</td><td></td><td></td><td>DIR</td><td>0</td><td>0</td><td>35924220</td><td>35924280</td><td>2022-02-17</td><td>9.00</td><td>10.00</td><td>0</td><td>0.0000</td><td>31.250000</td><td>6.250000</td><td>09:00</td><td>10:00</td><td></td><td>0</td><td>0.00</td><td>0</td><td>2022-02-17</td><td>1</td><td>0</td><td>0</td><td>0</td><td>1</td><td></td><td>0</td><td>0</td><td>0</td><td>0</td><td></td><td></td><td>1</td><td>0.00000000</td><td></td><td>0</td><td>T</td><td></td><td></td><td>0</td><td>74d931b6-6b79-4213-a414-f249b0a10f2d</td><td></td><td></td><td></td><td></td><td>0</td><td>0</td><td></td><td>2022-02-18</td><td></td><td></td><td>A</td><td>Ccarrera</td><td>2022-02-18</td><td>57397</td><td>2022-02-18 15:56:37.000</td><td>Ccarrera</td><td>2022-02-18</td><td>57397</td><td>2022-02-18 15:56:37.000</td><td></td><td></td><td>0</td><td></td><td></td><td>0</td><td>0</td><td>Ccarrera</td><td></td><td></td><td>0.00</td><td>0.000</td><td>0.000</td><td>0.000</td><td>0.000</td><td>0.000</td><td>0.000</td><td>0.000</td><td>0.000</td><td>0.000</td><td>0.000</td><td>4</td><td>0</td><td>0</td><td>1</td><td>2022-07-13</td><td>1</td><td></td><td></td><td></td><td>0</td><td>0</td><td>0</td><td>0</td><td>0.00000</td><td>0.00000</td><td>0.00000</td><td>0.00000</td><td></td><td>0x0000000324A04CD1</td><td>9948bc82-a541-47d2-a714-3cd6486d0d79</td><td>0</td><td></td><td>0</td><td>0</td><td>0</td><td>NULL</td><td>1</td><td>0</td><td>0.000000</td><td>1.00</td><td>0</td><td>0</td><td>0</td><td>0</td><td>2230007</td></tr><tr><td>SOLAR</td><td>180813</td><td>296638</td><td>634337</td><td>P</td><td>P</td><td>0</td><td></td><td>2230007-1-1</td><td>2230007</td><td>1</td><td>2230007-1</td><td>0</td><td>10</td><td>DES</td><td>DES</td><td>DES</td><td>1.00000</td><td>1.00000</td><td>0.00000000</td><td>0.00000000</td><td></td><td>0</td><td>0</td><td></td><td></td><td>DIR</td><td>0</td><td>0</td><td>35984820</td><td>35984880</td><td>2022-03-31</td><td>11.00</td><td>12.00</td><td>0</td><td>0.0000</td><td>31.250000</td><td>6.250000</td><td>11:00</td><td>12:00</td><td></td><td>0</td><td>0.00</td><td>0</td><td>2022-03-31</td><td>1</td><td>0</td><td>0</td><td>0</td><td>1</td><td></td><td>0</td><td>0</td><td>0</td><td>0</td><td></td><td></td><td>1</td><td>0.00000000</td><td></td><td>0</td><td>T</td><td></td><td></td><td>0</td><td>578111dd-9829-4d83-8514-5e590558f262</td><td></td><td></td><td></td><td></td><td>0</td><td>0</td><td></td><td>2022-03-31</td><td></td><td></td><td>A</td><td>Csaranita</td><td>2022-03-31</td><td>51933</td><td>2022-03-31 14:25:33.000</td><td>Csaranita</td><td>2022-03-31</td><td>51933</td><td>2022-03-31 14:25:33.000</td><td></td><td></td><td>0</td><td></td><td></td><td>0</td><td>0</td><td>Csaranita</td><td></td><td></td><td>0.00</td><td>0.000</td><td>0.000</td><td>0.000</td><td>0.000</td><td>0.000</td><td>0.000</td><td>0.000</td><td>0.000</td><td>0.000</td><td>0.000</td><td>4</td><td>0</td><td>0</td><td>1</td><td>2022-07-13</td><td>1</td><td></td><td></td><td></td><td>0</td><td>0</td><td>0</td><td>0</td><td>0.00000</td><td>0.00000</td><td>0.00000</td><td>0.00000</td><td></td><td>0x0000000324A04CD3</td><td>efd7d4ad-89aa-4e0f-b1bd-61e7efab9ea7</td><td>0</td><td></td><td>0</td><td>0</td><td>0</td><td>NULL</td><td>1</td><td>0</td><td>0.000000</td><td>1.00</td><td>0</td><td>0</td><td>0</td><td>0</td><td>2230007</td></tr><tr><td>SOLAR</td><td>180813</td><td>296638</td><td>634337</td><td>P</td><td>P</td><td>0</td><td></td><td>2230007-1-1</td><td>2230007</td><td>1</td><td>2230007-1</td><td>0</td><td>10</td><td>DES</td><td>DES</td><td>DES</td><td>1.00000</td><td>1.00000</td><td>0.00000000</td><td>0.00000000</td><td></td><td>0</td><td>0</td><td></td><td></td><td>DIR</td><td>0</td><td>0</td><td>35984820</td><td>35984880</td><td>2022-03-31</td><td>11.00</td><td>12.00</td><td>0</td><td>0.0000</td><td>31.250000</td><td>6.250000</td><td>11:00</td><td>12:00</td><td></td><td>0</td><td>0.00</td><td>0</td><td>2022-03-31</td><td>1</td><td>0</td><td>0</td><td>0</td><td>1</td><td></td><td>0</td><td>0</td><td>0</td><td>0</td><td></td><td></td><td>1</td><td>0.00000000</td><td></td><td>0</td><td>T</td><td></td><td></td><td>0</td><td>578111dd-9829-4d83-8514-5e590558f262</td><td></td><td></td><td></td><td></td><td>0</td><td>0</td><td></td><td>2022-03-31</td><td></td><td></td><td>A</td><td>Csaranita</td><td>2022-03-31</td><td>51933</td><td>2022-03-31 14:25:33.000</td><td>Csaranita</td><td>2022-03-31</td><td>51933</td><td>2022-03-31 14:25:33.000</td><td></td><td></td><td>0</td><td></td><td></td><td>0</td><td>0</td><td>Csaranita</td><td></td><td></td><td>0.00</td><td>0.000</td><td>0.000</td><td>0.000</td><td>0.000</td><td>0.000</td><td>0.000</td><td>0.000</td><td>0.000</td><td>0.000</td><td>0.000</td><td>4</td><td>0</td><td>0</td><td>1</td><td>2022-07-13</td><td>1</td><td></td><td></td><td></td><td>0</td><td>0</td><td>0</td><td>0</td><td>0.00000</td><td>0.00000</td><td>0.00000</td><td>0.00000</td><td></td><td>0x0000000324A04CD3</td><td>efd7d4ad-89aa-4e0f-b1bd-61e7efab9ea7</td><td>0</td><td></td><td>0</td><td>0</td><td>0</td><td>NULL</td><td>1</td><td>0</td><td>0.000000</td><td>1.00</td><td>0</td><td>0</td><td>0</td><td>0</td><td>2230007</td></tr><tr><td>SOLAR</td><td>2687</td><td>297737</td><td>636407</td><td>P</td><td>P</td><td>0</td><td></td><td>2230007-1-1</td><td>2230007</td><td>1</td><td>2230007-1</td><td>0</td><td>10</td><td>DES</td><td>DES</td><td>DES</td><td>2.00000</td><td>2.00000</td><td>0.00000000</td><td>0.00000000</td><td></td><td>0</td><td>0</td><td></td><td></td><td>DIR</td><td>0</td><td>0</td><td>35986230</td><td>35986350</td><td>2022-04-01</td><td>10.50</td><td>12.50</td><td>0</td><td>0.0000</td><td>31.250000</td><td>6.250000</td><td>10:30</td><td>12:30</td><td></td><td>0</td><td>0.00</td><td>0</td><td>2022-04-01</td><td>1</td><td>0</td><td>0</td><td>0</td><td>1</td><td></td><td>0</td><td>0</td><td>0</td><td>0</td><td></td><td></td><td>1</td><td>0.00000000</td><td></td><td>0</td><td>T</td><td></td><td></td><td>0</td><td>c31bf8e6-8cc1-4188-b5d0-3e723d5b8c1d</td><td></td><td></td><td></td><td></td><td>0</td><td>0</td><td></td><td>2022-04-05</td><td></td><td></td><td>A</td><td>CTN</td><td>2022-04-05</td><td>45792</td><td>2022-04-05 12:43:12.000</td><td>CTN</td><td>2022-04-05</td><td>45792</td><td>2022-04-05 12:43:12.000</td><td></td><td></td><td>0</td><td></td><td></td><td>0</td><td>0</td><td>CTN</td><td></td><td></td><td>0.00</td><td>0.000</td><td>0.000</td><td>0.000</td><td>0.000</td><td>0.000</td><td>0.000</td><td>0.000</td><td>0.000</td><td>0.000</td><td>0.000</td><td>4</td><td>0</td><td>0</td><td>1</td><td>2022-07-13</td><td>1</td><td></td><td></td><td></td><td>0</td><td>0</td><td>0</td><td>0</td><td>0.00000</td><td>0.00000</td><td>0.00000</td><td>0.00000</td><td></td><td>0x0000000324A04CD5</td><td>3cfbdfd2-5956-4fd2-b6d9-0784a3ba7d09</td><td>0</td><td></td><td>0</td><td>0</td><td>0</td><td>NULL</td><td>1</td><td>0</td><td>0.000000</td><td>2.00</td><td>0</td><td>0</td><td>0</td><td>0</td><td>2230007</td></tr><tr><td>SOLAR</td><td>2687</td><td>297737</td><td>636407</td><td>P</td><td>P</td><td>0</td><td></td><td>2230007-1-1</td><td>2230007</td><td>1</td><td>2230007-1</td><td>0</td><td>10</td><td>DES</td><td>DES</td><td>DES</td><td>2.00000</td><td>2.00000</td><td>0.00000000</td><td>0.00000000</td><td></td><td>0</td><td>0</td><td></td><td></td><td>DIR</td><td>0</td><td>0</td><td>35986230</td><td>35986350</td><td>2022-04-01</td><td>10.50</td><td>12.50</td><td>0</td><td>0.0000</td><td>31.250000</td><td>6.250000</td><td>10:30</td><td>12:30</td><td></td><td>0</td><td>0.00</td><td>0</td><td>2022-04-01</td><td>1</td><td>0</td><td>0</td><td>0</td><td>1</td><td></td><td>0</td><td>0</td><td>0</td><td>0</td><td></td><td></td><td>1</td><td>0.00000000</td><td></td><td>0</td><td>T</td><td></td><td></td><td>0</td><td>c31bf8e6-8cc1-4188-b5d0-3e723d5b8c1d</td><td></td><td></td><td></td><td></td><td>0</td><td>0</td><td></td><td>2022-04-05</td><td></td><td></td><td>A</td><td>CTN</td><td>2022-04-05</td><td>45792</td><td>2022-04-05 12:43:12.000</td><td>CTN</td><td>2022-04-05</td><td>45792</td><td>2022-04-05 12:43:12.000</td><td></td><td></td><td>0</td><td></td><td></td><td>0</td><td>0</td><td>CTN</td><td></td><td></td><td>0.00</td><td>0.000</td><td>0.000</td><td>0.000</td><td>0.000</td><td>0.000</td><td>0.000</td><td>0.000</td><td>0.000</td><td>0.000</td><td>0.000</td><td>4</td><td>0</td><td>0</td><td>1</td><td>2022-07-13</td><td>1</td><td></td><td></td><td></td><td>0</td><td>0</td><td>0</td><td>0</td><td>0.00000</td><td>0.00000</td><td>0.00000</td><td>0.00000</td><td></td><td>0x0000000324A04CD5</td><td>3cfbdfd2-5956-4fd2-b6d9-0784a3ba7d09</td><td>0</td><td></td><td>0</td><td>0</td><td>0</td><td>NULL</td><td>1</td><td>0</td><td>0.000000</td><td>2.00</td><td>0</td><td>0</td><td>0</td><td>0</td><td>2230007</td></tr><tr><td>SOLAR</td><td>200810</td><td>299829</td><td>640706</td><td>P</td><td>P</td><td>0</td><td></td><td>2230007-1-1</td><td>2230007</td><td>1</td><td>2230007-1</td><td>0</td><td>10</td><td>DES</td><td>DES</td><td>DES</td><td>2.75000</td><td>2.75000</td><td>0.00000000</td><td>0.00000000</td><td></td><td>0</td><td>0</td><td></td><td></td><td>DIR</td><td>0</td><td>0</td><td>36003540</td><td>36003780</td><td>2022-04-13</td><td>11.00</td><td>15.00</td><td>0</td><td>0.0000</td><td>31.250000</td><td>6.250000</td><td>11:00</td><td>15:00</td><td></td><td>0</td><td>0.00</td><td>0</td><td>2022-04-13</td><td>1</td><td>0</td><td>0</td><td>0</td><td>1</td><td></td><td>0</td><td>0</td><td>0</td><td>0</td><td></td><td></td><td>1</td><td>0.00000000</td><td></td><td>0</td><td>T</td><td></td><td></td><td>0</td><td>6a2e2b68-ea94-4fd3-a6e8-a8eead287126</td><td></td><td></td><td></td><td></td><td>0</td><td>0</td><td></td><td>2022-04-14</td><td></td><td></td><td>A</td><td>Ccarrera</td><td>2022-04-14</td><td>58278</td><td>2022-04-14 16:11:18.000</td><td>Ccarrera</td><td>2022-04-14</td><td>58278</td><td>2022-04-14 16:11:18.000</td><td></td><td></td><td>0</td><td></td><td></td><td>0</td><td>0</td><td>Ccarrera</td><td></td><td></td><td>0.00</td><td>0.000</td><td>0.000</td><td>0.000</td><td>0.000</td><td>0.000</td><td>0.000</td><td>0.000</td><td>0.000</td><td>0.000</td><td>0.000</td><td>4</td><td>0</td><td>0</td><td>1</td><td>2022-07-13</td><td>1</td><td></td><td></td><td></td><td>0</td><td>0</td><td>0</td><td>0</td><td>0.00000</td><td>0.00000</td><td>0.00000</td><td>0.00000</td><td></td><td>0x0000000324A04CD7</td><td>dadd3854-9ebb-468e-b6d2-295ff38eee1e</td><td>0</td><td></td><td>0</td><td>0</td><td>0</td><td>NULL</td><td>1</td><td>0</td><td>0.000000</td><td>2.75</td><td>0</td><td>0</td><td>0</td><td>0</td><td>2230007</td></tr><tr><td>SOLAR</td><td>200810</td><td>299829</td><td>640706</td><td>P</td><td>P</td><td>0</td><td></td><td>2230007-1-1</td><td>2230007</td><td>1</td><td>2230007-1</td><td>0</td><td>10</td><td>DES</td><td>DES</td><td>DES</td><td>2.75000</td><td>2.75000</td><td>0.00000000</td><td>0.00000000</td><td></td><td>0</td><td>0</td><td></td><td></td><td>DIR</td><td>0</td><td>0</td><td>36003540</td><td>36003780</td><td>2022-04-13</td><td>11.00</td><td>15.00</td><td>0</td><td>0.0000</td><td>31.250000</td><td>6.250000</td><td>11:00</td><td>15:00</td><td></td><td>0</td><td>0.00</td><td>0</td><td>2022-04-13</td><td>1</td><td>0</td><td>0</td><td>0</td><td>1</td><td></td><td>0</td><td>0</td><td>0</td><td>0</td><td></td><td></td><td>1</td><td>0.00000000</td><td></td><td>0</td><td>T</td><td></td><td></td><td>0</td><td>6a2e2b68-ea94-4fd3-a6e8-a8eead287126</td><td></td><td></td><td></td><td></td><td>0</td><td>0</td><td></td><td>2022-04-14</td><td></td><td></td><td>A</td><td>Ccarrera</td><td>2022-04-14</td><td>58278</td><td>2022-04-14 16:11:18.000</td><td>Ccarrera</td><td>2022-04-14</td><td>58278</td><td>2022-04-14 16:11:18.000</td><td></td><td></td><td>0</td><td></td><td></td><td>0</td><td>0</td><td>Ccarrera</td><td></td><td></td><td>0.00</td><td>0.000</td><td>0.000</td><td>0.000</td><td>0.000</td><td>0.000</td><td>0.000</td><td>0.000</td><td>0.000</td><td>0.000</td><td>0.000</td><td>4</td><td>0</td><td>0</td><td>1</td><td>2022-07-13</td><td>1</td><td></td><td></td><td></td><td>0</td><td>0</td><td>0</td><td>0</td><td>0.00000</td><td>0.00000</td><td>0.00000</td><td>0.00000</td><td></td><td>0x0000000324A04CD7</td><td>dadd3854-9ebb-468e-b6d2-295ff38eee1e</td><td>0</td><td></td><td>0</td><td>0</td><td>0</td><td>NULL</td><td>1</td><td>0</td><td>0.000000</td><td>2.75</td><td>0</td><td>0</td><td>0</td><td>0</td><td>2230007</td></tr><tr><td>SOLAR</td><td>151210</td><td>313241</td><td>667667</td><td>P</td><td>P</td><td>0</td><td></td><td>2230007-1-1</td><td>2230007</td><td>1</td><td>2230007-1</td><td>0</td><td>10</td><td>DES</td><td>DES</td><td>DES</td><td>3.00000</td><td>3.00000</td><td>0.00000000</td><td>0.00000000</td><td></td><td>0</td><td>0</td><td></td><td></td><td>ID</td><td>0</td><td>0</td><td>36102900</td><td>36103080</td><td>2022-06-21</td><td>11.00</td><td>14.00</td><td>0</td><td>0.0000</td><td>31.250000</td><td>6.250000</td><td>11:00</td><td>14:00</td><td></td><td>0</td><td>0.00</td><td>0</td><td>2022-06-21</td><td>1</td><td>0</td><td>0</td><td>0</td><td>1</td><td></td><td>0</td><td>0</td><td>0</td><td>0</td><td></td><td></td><td>1</td><td>0.00000000</td><td></td><td>0</td><td>T</td><td></td><td></td><td>0</td><td>d4555675-1a5b-4202-ba72-fef502f62c8c</td><td></td><td></td><td></td><td></td><td>0</td><td>0</td><td></td><td>2022-06-22</td><td></td><td></td><td>A</td><td>Dschenck</td><td>2022-06-22</td><td>30276</td><td>2022-06-22 08:24:36.000</td><td>Dschenck</td><td>2022-06-22</td><td>30276</td><td>2022-06-22 08:24:36.000</td><td></td><td></td><td>0</td><td></td><td></td><td>0</td><td>0</td><td>Dschenck</td><td></td><td></td><td>0.00</td><td>0.000</td><td>0.000</td><td>0.000</td><td>0.000</td><td>0.000</td><td>0.000</td><td>0.000</td><td>0.000</td><td>0.000</td><td>0.000</td><td>4</td><td>0</td><td>0</td><td>1</td><td>2022-07-13</td><td>1</td><td></td><td></td><td></td><td>0</td><td>0</td><td>0</td><td>0</td><td>0.00000</td><td>0.00000</td><td>0.00000</td><td>0.00000</td><td></td><td>0x0000000324A04CDD</td><td>e466e074-297b-4738-baed-a582dbc76aab</td><td>0</td><td></td><td>0</td><td>0</td><td>0</td><td>NULL</td><td>1</td><td>0</td><td>0.000000</td><td>3.00</td><td>0</td><td>0</td><td>0</td><td>0</td><td>2230007</td></tr><tr><td>SOLAR</td><td>151210</td><td>313241</td><td>667667</td><td>P</td><td>P</td><td>0</td><td></td><td>2230007-1-1</td><td>2230007</td><td>1</td><td>2230007-1</td><td>0</td><td>10</td><td>DES</td><td>DES</td><td>DES</td><td>3.00000</td><td>3.00000</td><td>0.00000000</td><td>0.00000000</td><td></td><td>0</td><td>0</td><td></td><td></td><td>ID</td><td>0</td><td>0</td><td>36102900</td><td>36103080</td><td>2022-06-21</td><td>11.00</td><td>14.00</td><td>0</td><td>0.0000</td><td>31.250000</td><td>6.250000</td><td>11:00</td><td>14:00</td><td></td><td>0</td><td>0.00</td><td>0</td><td>2022-06-21</td><td>1</td><td>0</td><td>0</td><td>0</td><td>1</td><td></td><td>0</td><td>0</td><td>0</td><td>0</td><td></td><td></td><td>1</td><td>0.00000000</td><td></td><td>0</td><td>T</td><td></td><td></td><td>0</td><td>d4555675-1a5b-4202-ba72-fef502f62c8c</td><td></td><td></td><td></td><td></td><td>0</td><td>0</td><td></td><td>2022-06-22</td><td></td><td></td><td>A</td><td>Dschenck</td><td>2022-06-22</td><td>30276</td><td>2022-06-22 08:24:36.000</td><td>Dschenck</td><td>2022-06-22</td><td>30276</td><td>2022-06-22 08:24:36.000</td><td></td><td></td><td>0</td><td></td><td></td><td>0</td><td>0</td><td>Dschenck</td><td></td><td></td><td>0.00</td><td>0.000</td><td>0.000</td><td>0.000</td><td>0.000</td><td>0.000</td><td>0.000</td><td>0.000</td><td>0.000</td><td>0.000</td><td>0.000</td><td>4</td><td>0</td><td>0</td><td>1</td><td>2022-07-13</td><td>1</td><td></td><td></td><td></td><td>0</td><td>0</td><td>0</td><td>0</td><td>0.00000</td><td>0.00000</td><td>0.00000</td><td>0.00000</td><td></td><td>0x0000000324A04CDD</td><td>e466e074-297b-4738-baed-a582dbc76aab</td><td>0</td><td></td><td>0</td><td>0</td><td>0</td><td>NULL</td><td>1</td><td>0</td><td>0.000000</td><td>3.00</td><td>0</td><td>0</td><td>0</td><td>0</td><td>2230007</td></tr><tr><td>SOLAR</td><td>151210</td><td>313472</td><td>668140</td><td>P</td><td>P</td><td>0</td><td></td><td>2230007-1-1</td><td>2230007</td><td>1</td><td>2230007-1</td><td>0</td><td>10</td><td>DES</td><td>DES</td><td>DES</td><td>3.00000</td><td>3.00000</td><td>0.00000000</td><td>0.00000000</td><td></td><td>0</td><td>0</td><td></td><td></td><td>ID</td><td>0</td><td>0</td><td>36104160</td><td>36104340</td><td>2022-06-22</td><td>8.00</td><td>11.00</td><td>0</td><td>0.0000</td><td>31.250000</td><td>6.250000</td><td>08:00</td><td>11:00</td><td></td><td>0</td><td>0.00</td><td>0</td><td>2022-06-22</td><td>1</td><td>0</td><td>0</td><td>0</td><td>1</td><td></td><td>0</td><td>0</td><td>0</td><td>0</td><td></td><td></td><td>1</td><td>0.00000000</td><td></td><td>0</td><td>T</td><td></td><td></td><td>0</td><td>e5fbe863-3820-418a-afb3-935bfa025153</td><td></td><td></td><td></td><td></td><td>0</td><td>0</td><td></td><td>2022-06-23</td><td></td><td></td><td>A</td><td>Dschenck</td><td>2022-06-23</td><td>31010</td><td>2022-06-23 08:36:50.000</td><td>Dschenck</td><td>2022-06-23</td><td>31010</td><td>2022-06-23 08:36:50.000</td><td></td><td></td><td>0</td><td></td><td></td><td>0</td><td>0</td><td>Dschenck</td><td></td><td></td><td>0.00</td><td>0.000</td><td>0.000</td><td>0.000</td><td>0.000</td><td>0.000</td><td>0.000</td><td>0.000</td><td>0.000</td><td>0.000</td><td>0.000</td><td>4</td><td>0</td><td>0</td><td>1</td><td>2022-07-13</td><td>1</td><td></td><td></td><td></td><td>0</td><td>0</td><td>0</td><td>0</td><td>0.00000</td><td>0.00000</td><td>0.00000</td><td>0.00000</td><td></td><td>0x0000000324A04CDF</td><td>951643f2-bc9b-49af-837f-4b8ba5b330ed</td><td>0</td><td></td><td>0</td><td>0</td><td>0</td><td>NULL</td><td>1</td><td>0</td><td>0.000000</td><td>3.00</td><td>0</td><td>0</td><td>0</td><td>0</td><td>2230007</td></tr><tr><td>SOLAR</td><td>151210</td><td>313472</td><td>668140</td><td>P</td><td>P</td><td>0</td><td></td><td>2230007-1-1</td><td>2230007</td><td>1</td><td>2230007-1</td><td>0</td><td>10</td><td>DES</td><td>DES</td><td>DES</td><td>3.00000</td><td>3.00000</td><td>0.00000000</td><td>0.00000000</td><td></td><td>0</td><td>0</td><td></td><td></td><td>ID</td><td>0</td><td>0</td><td>36104160</td><td>36104340</td><td>2022-06-22</td><td>8.00</td><td>11.00</td><td>0</td><td>0.0000</td><td>31.250000</td><td>6.250000</td><td>08:00</td><td>11:00</td><td></td><td>0</td><td>0.00</td><td>0</td><td>2022-06-22</td><td>1</td><td>0</td><td>0</td><td>0</td><td>1</td><td></td><td>0</td><td>0</td><td>0</td><td>0</td><td></td><td></td><td>1</td><td>0.00000000</td><td></td><td>0</td><td>T</td><td></td><td></td><td>0</td><td>e5fbe863-3820-418a-afb3-935bfa025153</td><td></td><td></td><td></td><td></td><td>0</td><td>0</td><td></td><td>2022-06-23</td><td></td><td></td><td>A</td><td>Dschenck</td><td>2022-06-23</td><td>31010</td><td>2022-06-23 08:36:50.000</td><td>Dschenck</td><td>2022-06-23</td><td>31010</td><td>2022-06-23 08:36:50.000</td><td></td><td></td><td>0</td><td></td><td></td><td>0</td><td>0</td><td>Dschenck</td><td></td><td></td><td>0.00</td><td>0.000</td><td>0.000</td><td>0.000</td><td>0.000</td><td>0.000</td><td>0.000</td><td>0.000</td><td>0.000</td><td>0.000</td><td>0.000</td><td>4</td><td>0</td><td>0</td><td>1</td><td>2022-07-13</td><td>1</td><td></td><td></td><td></td><td>0</td><td>0</td><td>0</td><td>0</td><td>0.00000</td><td>0.00000</td><td>0.00000</td><td>0.00000</td><td></td><td>0x0000000324A04CDF</td><td>951643f2-bc9b-49af-837f-4b8ba5b330ed</td><td>0</td><td></td><td>0</td><td>0</td><td>0</td><td>NULL</td><td>1</td><td>0</td><td>0.000000</td><td>3.00</td><td>0</td><td>0</td><td>0</td><td>0</td><td>2230007</td></tr><tr><td>SOLAR</td><td>180813</td><td>313970</td><td>669169</td><td>P</td><td>P</td><td>0</td><td></td><td>2230007-1-1</td><td>2230007</td><td>1</td><td>2230007-1</td><td>0</td><td>10</td><td>DES</td><td>DES</td><td>DES</td><td>1.00000</td><td>1.00000</td><td>0.00000000</td><td>0.00000000</td><td></td><td>0</td><td>0</td><td></td><td></td><td>DIR</td><td>0</td><td>0</td><td>36101700</td><td>36101760</td><td>2022-06-20</td><td>15.00</td><td>16.00</td><td>0</td><td>0.0000</td><td>31.250000</td><td>6.250000</td><td>15:00</td><td>16:00</td><td></td><td>0</td><td>0.00</td><td>0</td><td>2022-06-20</td><td>1</td><td>0</td><td>0</td><td>0</td><td>1</td><td></td><td>0</td><td>0</td><td>0</td><td>0</td><td></td><td></td><td>1</td><td>0.00000000</td><td></td><td>0</td><td>T</td><td></td><td></td><td>0</td><td>a85be55e-7f31-4d16-b2a6-34754340cf66</td><td></td><td></td><td></td><td></td><td>0</td><td>0</td><td></td><td>2022-06-27</td><td></td><td></td><td>A</td><td>Csaranita</td><td>2022-06-27</td><td>30337</td><td>2022-06-27 08:25:37.000</td><td>Csaranita</td><td>2022-06-27</td><td>30337</td><td>2022-06-27 08:25:37.000</td><td></td><td></td><td>0</td><td></td><td></td><td>0</td><td>0</td><td>Csaranita</td><td></td><td></td><td>0.00</td><td>0.000</td><td>0.000</td><td>0.000</td><td>0.000</td><td>0.000</td><td>0.000</td><td>0.000</td><td>0.000</td><td>0.000</td><td>0.000</td><td>4</td><td>0</td><td>0</td><td>1</td><td>2022-07-13</td><td>1</td><td></td><td></td><td></td><td>0</td><td>0</td><td>0</td><td>0</td><td>0.00000</td><td>0.00000</td><td>0.00000</td><td>0.00000</td><td></td><td>0x0000000324A04CDB</td><td>18bd8e1a-9d91-4815-ba28-f2155eaccb8b</td><td>0</td><td></td><td>0</td><td>0</td><td>0</td><td>NULL</td><td>1</td><td>0</td><td>0.000000</td><td>1.00</td><td>0</td><td>0</td><td>0</td><td>0</td><td>2230007</td></tr><tr><td>SOLAR</td><td>180813</td><td>313970</td><td>669169</td><td>P</td><td>P</td><td>0</td><td></td><td>2230007-1-1</td><td>2230007</td><td>1</td><td>2230007-1</td><td>0</td><td>10</td><td>DES</td><td>DES</td><td>DES</td><td>1.00000</td><td>1.00000</td><td>0.00000000</td><td>0.00000000</td><td></td><td>0</td><td>0</td><td></td><td></td><td>DIR</td><td>0</td><td>0</td><td>36101700</td><td>36101760</td><td>2022-06-20</td><td>15.00</td><td>16.00</td><td>0</td><td>0.0000</td><td>31.250000</td><td>6.250000</td><td>15:00</td><td>16:00</td><td></td><td>0</td><td>0.00</td><td>0</td><td>2022-06-20</td><td>1</td><td>0</td><td>0</td><td>0</td><td>1</td><td></td><td>0</td><td>0</td><td>0</td><td>0</td><td></td><td></td><td>1</td><td>0.00000000</td><td></td><td>0</td><td>T</td><td></td><td></td><td>0</td><td>a85be55e-7f31-4d16-b2a6-34754340cf66</td><td></td><td></td><td></td><td></td><td>0</td><td>0</td><td></td><td>2022-06-27</td><td></td><td></td><td>A</td><td>Csaranita</td><td>2022-06-27</td><td>30337</td><td>2022-06-27 08:25:37.000</td><td>Csaranita</td><td>2022-06-27</td><td>30337</td><td>2022-06-27 08:25:37.000</td><td></td><td></td><td>0</td><td></td><td></td><td>0</td><td>0</td><td>Csaranita</td><td></td><td></td><td>0.00</td><td>0.000</td><td>0.000</td><td>0.000</td><td>0.000</td><td>0.000</td><td>0.000</td><td>0.000</td><td>0.000</td><td>0.000</td><td>0.000</td><td>4</td><td>0</td><td>0</td><td>1</td><td>2022-07-13</td><td>1</td><td></td><td></td><td></td><td>0</td><td>0</td><td>0</td><td>0</td><td>0.00000</td><td>0.00000</td><td>0.00000</td><td>0.00000</td><td></td><td>0x0000000324A04CDB</td><td>18bd8e1a-9d91-4815-ba28-f2155eaccb8b</td><td>0</td><td></td><td>0</td><td>0</td><td>0</td><td>NULL</td><td>1</td><td>0</td><td>0.000000</td><td>1.00</td><td>0</td><td>0</td><td>0</td><td>0</td><td>2230007</td></tr><tr><td>SOLAR</td><td>1581</td><td>314015</td><td>669279</td><td>P</td><td>P</td><td>0</td><td></td><td>2230007-1-1</td><td>2230007</td><td>1</td><td>2230007-1</td><td>0</td><td>10</td><td>DES</td><td>DES</td><td>DES</td><td>2.00000</td><td>2.00000</td><td>0.00000000</td><td>0.00000000</td><td></td><td>0</td><td>0</td><td></td><td></td><td>DIR</td><td>0</td><td>0</td><td>36101340</td><td>36101460</td><td>2022-06-20</td><td>9.00</td><td>11.00</td><td>0</td><td>0.0000</td><td>31.250000</td><td>6.250000</td><td>09:00</td><td>11:00</td><td></td><td>0</td><td>0.00</td><td>0</td><td>2022-06-20</td><td>1</td><td>0</td><td>0</td><td>0</td><td>1</td><td></td><td>0</td><td>0</td><td>0</td><td>0</td><td></td><td></td><td>1</td><td>0.00000000</td><td></td><td>0</td><td>T</td><td></td><td></td><td>0</td><td>a85be55e-7f31-4d16-b2a6-34754340cf66</td><td></td><td></td><td></td><td></td><td>0</td><td>0</td><td></td><td>2022-06-27</td><td></td><td></td><td>A</td><td>Lguzman</td><td>2022-06-27</td><td>35770</td><td>2022-06-27 09:56:10.000</td><td>Lguzman</td><td>2022-06-27</td><td>35770</td><td>2022-06-27 09:56:10.000</td><td></td><td></td><td>0</td><td></td><td></td><td>0</td><td>0</td><td>Lguzman</td><td></td><td></td><td>0.00</td><td>0.000</td><td>0.000</td><td>0.000</td><td>0.000</td><td>0.000</td><td>0.000</td><td>0.000</td><td>0.000</td><td>0.000</td><td>0.000</td><td>4</td><td>0</td><td>0</td><td>1</td><td>2022-07-13</td><td>1</td><td></td><td></td><td></td><td>0</td><td>0</td><td>0</td><td>0</td><td>0.00000</td><td>0.00000</td><td>0.00000</td><td>0.00000</td><td></td><td>0x0000000324A04CD9</td><td>200e4ec6-7bd4-48a1-a88d-3ffa8dea561a</td><td>0</td><td></td><td>0</td><td>0</td><td>0</td><td>NULL</td><td>1</td><td>0</td><td>0.000000</td><td>2.00</td><td>0</td><td>0</td><td>0</td><td>0</td><td>2230007</td></tr><tr><td>SOLAR</td><td>1581</td><td>314015</td><td>669279</td><td>P</td><td>P</td><td>0</td><td></td><td>2230007-1-1</td><td>2230007</td><td>1</td><td>2230007-1</td><td>0</td><td>10</td><td>DES</td><td>DES</td><td>DES</td><td>2.00000</td><td>2.00000</td><td>0.00000000</td><td>0.00000000</td><td></td><td>0</td><td>0</td><td></td><td></td><td>DIR</td><td>0</td><td>0</td><td>36101340</td><td>36101460</td><td>2022-06-20</td><td>9.00</td><td>11.00</td><td>0</td><td>0.0000</td><td>31.250000</td><td>6.250000</td><td>09:00</td><td>11:00</td><td></td><td>0</td><td>0.00</td><td>0</td><td>2022-06-20</td><td>1</td><td>0</td><td>0</td><td>0</td><td>1</td><td></td><td>0</td><td>0</td><td>0</td><td>0</td><td></td><td></td><td>1</td><td>0.00000000</td><td></td><td>0</td><td>T</td><td></td><td></td><td>0</td><td>a85be55e-7f31-4d16-b2a6-34754340cf66</td><td></td><td></td><td></td><td></td><td>0</td><td>0</td><td></td><td>2022-06-27</td><td></td><td></td><td>A</td><td>Lguzman</td><td>2022-06-27</td><td>35770</td><td>2022-06-27 09:56:10.000</td><td>Lguzman</td><td>2022-06-27</td><td>35770</td><td>2022-06-27 09:56:10.000</td><td></td><td></td><td>0</td><td></td><td></td><td>0</td><td>0</td><td>Lguzman</td><td></td><td></td><td>0.00</td><td>0.000</td><td>0.000</td><td>0.000</td><td>0.000</td><td>0.000</td><td>0.000</td><td>0.000</td><td>0.000</td><td>0.000</td><td>0.000</td><td>4</td><td>0</td><td>0</td><td>1</td><td>2022-07-13</td><td>1</td><td></td><td></td><td></td><td>0</td><td>0</td><td>0</td><td>0</td><td>0.00000</td><td>0.00000</td><td>0.00000</td><td>0.00000</td><td></td><td>0x0000000324A04CD9</td><td>200e4ec6-7bd4-48a1-a88d-3ffa8dea561a</td><td>0</td><td></td><td>0</td><td>0</td><td>0</td><td>NULL</td><td>1</td><td>0</td><td>0.000000</td><td>2.00</td><td>0</td><td>0</td><td>0</td><td>0</td><td>2230007</td></tr><tr><td>SOLAR</td><td>170815</td><td>323404</td><td>687827</td><td>P</td><td>P</td><td>0</td><td></td><td>2230007-1-1</td><td>2230007</td><td>1</td><td>2230007-1</td><td>0</td><td>10</td><td>DES</td><td>DES</td><td>DES</td><td>2.50000</td><td>2.50000</td><td>0.00000000</td><td>0.00000000</td><td></td><td>0</td><td>0</td><td></td><td></td><td>DIR</td><td>0</td><td>0</td><td>36167520</td><td>36167670</td><td>2022-08-05</td><td>8.00</td><td>10.50</td><td>0</td><td>0.0000</td><td>31.250000</td><td>6.250000</td><td>08:00</td><td>10:30</td><td></td><td>0</td><td>0.00</td><td>0</td><td>2022-08-05</td><td>0</td><td>0</td><td>0</td><td>0</td><td>1</td><td></td><td>0</td><td>0</td><td>0</td><td>0</td><td></td><td></td><td>0</td><td>0.00000000</td><td></td><td>0</td><td>T</td><td></td><td></td><td>0</td><td></td><td></td><td></td><td></td><td></td><td>0</td><td>0</td><td></td><td>2022-08-08</td><td></td><td></td><td>A</td><td>Shitch</td><td>2022-08-08</td><td>29233</td><td>2022-08-08 08:07:13.000</td><td>Shitch</td><td>2022-08-08</td><td>29233</td><td>2022-08-08 08:07:13.000</td><td></td><td></td><td>0</td><td></td><td></td><td>0</td><td>0</td><td>Shitch</td><td></td><td></td><td>0.00</td><td>0.000</td><td>0.000</td><td>0.000</td><td>0.000</td><td>0.000</td><td>0.000</td><td>0.000</td><td>0.000</td><td>0.000</td><td>0.000</td><td>4</td><td>0</td><td>0</td><td>0</td><td>NULL</td><td>0</td><td></td><td></td><td></td><td>0</td><td>0</td><td>0</td><td>0</td><td>0.00000</td><td>0.00000</td><td>0.00000</td><td>0.00000</td><td></td><td>0x00000003361CB416</td><td>cf11e1b6-430c-4e69-9129-0a42629ff41d</td><td>0</td><td></td><td>0</td><td>0</td><td>0</td><td>NULL</td><td>1</td><td>0</td><td>0.000000</td><td>2.50</td><td>0</td><td>0</td><td>0</td><td>0</td><td>2230007</td></tr><tr><td>SOLAR</td><td>170815</td><td>323404</td><td>687827</td><td>P</td><td>P</td><td>0</td><td></td><td>2230007-1-1</td><td>2230007</td><td>1</td><td>2230007-1</td><td>0</td><td>10</td><td>DES</td><td>DES</td><td>DES</td><td>2.50000</td><td>2.50000</td><td>0.00000000</td><td>0.00000000</td><td></td><td>0</td><td>0</td><td></td><td></td><td>DIR</td><td>0</td><td>0</td><td>36167520</td><td>36167670</td><td>2022-08-05</td><td>8.00</td><td>10.50</td><td>0</td><td>0.0000</td><td>31.250000</td><td>6.250000</td><td>08:00</td><td>10:30</td><td></td><td>0</td><td>0.00</td><td>0</td><td>2022-08-05</td><td>0</td><td>0</td><td>0</td><td>0</td><td>1</td><td></td><td>0</td><td>0</td><td>0</td><td>0</td><td></td><td></td><td>0</td><td>0.00000000</td><td></td><td>0</td><td>T</td><td></td><td></td><td>0</td><td></td><td></td><td></td><td></td><td></td><td>0</td><td>0</td><td></td><td>2022-08-08</td><td></td><td></td><td>A</td><td>Shitch</td><td>2022-08-08</td><td>29233</td><td>2022-08-08 08:07:13.000</td><td>Shitch</td><td>2022-08-08</td><td>29233</td><td>2022-08-08 08:07:13.000</td><td></td><td></td><td>0</td><td></td><td></td><td>0</td><td>0</td><td>Shitch</td><td></td><td></td><td>0.00</td><td>0.000</td><td>0.000</td><td>0.000</td><td>0.000</td><td>0.000</td><td>0.000</td><td>0.000</td><td>0.000</td><td>0.000</td><td>0.000</td><td>4</td><td>0</td><td>0</td><td>0</td><td>NULL</td><td>0</td><td></td><td></td><td></td><td>0</td><td>0</td><td>0</td><td>0</td><td>0.00000</td><td>0.00000</td><td>0.00000</td><td>0.00000</td><td></td><td>0x00000003361CB416</td><td>cf11e1b6-430c-4e69-9129-0a42629ff41d</td><td>0</td><td></td><td>0</td><td>0</td><td>0</td><td>NULL</td><td>1</td><td>0</td><td>0.000000</td><td>2.50</td><td>0</td><td>0</td><td>0</td><td>0</td><td>2230007</td></tr></table>"
                    },
                    "metadata": {}
                }
            ],
            "execution_count": 6
        },
        {
            "cell_type": "code",
            "source": [
                "Select Count (*)\r\n",
                "FROM\r\n",
                "(\r\n",
                "SELECT pt.*, od.projectID\r\n",
                "\r\n",
                "From (\r\n",
                "    Select\r\n",
                "      [Company]\r\n",
                "      ,[SysDate]\r\n",
                "      ,[SysTime]\r\n",
                "      ,Dateadd(second, SysTime, cast(SysDate as Datetime)) as SystemDateTime\r\n",
                "      ,[TranNum]\r\n",
                "      ,[PartNum]\r\n",
                "      ,[WareHouseCode]\r\n",
                "      ,[BinNum]\r\n",
                "      ,[TranClass]\r\n",
                "      ,[TranType]\r\n",
                "      ,[InventoryTrans]\r\n",
                "      ,[TranDate]\r\n",
                "      ,[TranQty]\r\n",
                "      ,[UM]\r\n",
                "      ,[MtlUnitCost]\r\n",
                "      ,[LbrUnitCost]\r\n",
                "      ,[BurUnitCost]\r\n",
                "      ,[SubUnitCost]\r\n",
                "      ,[MtlBurUnitCost]\r\n",
                "      ,[ExtCost]\r\n",
                "      ,[CostMethod]\r\n",
                "      ,[JobNum]\r\n",
                "      ,[AssemblySeq]\r\n",
                "      ,[JobSeqType]\r\n",
                "      ,[JobSeq]\r\n",
                "      ,[PackType]\r\n",
                "      ,[PackNum]\r\n",
                "      ,[PackLine]\r\n",
                "      ,[PONum]\r\n",
                "      ,[POLine]\r\n",
                "      ,[PORelNum]\r\n",
                "      ,[WareHouse2]\r\n",
                "      ,[BinNum2]\r\n",
                "      ,[OrderNum] as OrderNumRef\r\n",
                "      ,[OrderLine] as OrderlineRef\r\n",
                "      ,REVERSE(PARSENAME(REPLACE(REVERSE([JobNum]), '-', '.'), 1)) as OrderNum\r\n",
                "      ,REVERSE(PARSENAME(REPLACE(REVERSE([JobNum]), '-', '.'), 2)) as OrderLine\r\n",
                "      ,(Case\r\n",
                "        When\r\n",
                "            REVERSE(PARSENAME(REPLACE(REVERSE([JobNum]), '-', '.'), 2)) is Null\r\n",
                "        Then\r\n",
                "            REVERSE(PARSENAME(REPLACE(REVERSE([JobNum]), '-', '.'), 1))\r\n",
                "        Else\r\n",
                "            CONCAT(REVERSE(PARSENAME(REPLACE(REVERSE([JobNum]), '-', '.'), 1))\r\n",
                "            ,'-'\r\n",
                "            ,REVERSE(PARSENAME(REPLACE(REVERSE([JobNum]), '-', '.'), 2))\r\n",
                "        )\r\n",
                "        end) as OrderNumLine\r\n",
                "      ,[OrderRelNum]\r\n",
                "      ,[EntryPerson]\r\n",
                "      ,[TranReference]\r\n",
                "      ,[PartDescription]\r\n",
                "      ,[RevisionNum]\r\n",
                "      ,[VendorNum]\r\n",
                "      ,[PurPoint]\r\n",
                "      ,[POReceiptQty]\r\n",
                "      ,[POUnitCost]\r\n",
                "      ,[PackSlip]\r\n",
                "      ,[InvoiceNum]\r\n",
                "      ,[InvoiceLine]\r\n",
                "      ,[InvAdjSrc]\r\n",
                "      ,[InvAdjReason]\r\n",
                "      ,[LotNum]\r\n",
                "      ,[DimCode]\r\n",
                "      ,[DUM]\r\n",
                "      ,[DimConvFactor]\r\n",
                "      ,[LotNum2]\r\n",
                "      ,[DimCode2]\r\n",
                "      ,[DUM2]\r\n",
                "      ,[DimConvFactor2]\r\n",
                "      ,[GLTrans]\r\n",
                "      ,[PostedToGL]\r\n",
                "      ,[FiscalYear]\r\n",
                "      ,[FiscalPeriod]\r\n",
                "      ,[JournalNum]\r\n",
                "      ,[Costed]\r\n",
                "      ,[DMRNum]\r\n",
                "      ,[ActionNum]\r\n",
                "      ,[RMANum]\r\n",
                "      ,[COSPostingReqd]\r\n",
                "      ,[JournalCode]\r\n",
                "      ,[Plant]\r\n",
                "      ,[Plant2]\r\n",
                "      ,[CallNum]\r\n",
                "      ,[CallLine]\r\n",
                "      ,[MatNum]\r\n",
                "      ,[JobNum2]\r\n",
                "      ,[AssemblySeq2]\r\n",
                "      ,[JobSeq2]\r\n",
                "      ,[CustNum]\r\n",
                "      ,[RMALine]\r\n",
                "      ,[RMAReceipt]\r\n",
                "      ,[RMADisp]\r\n",
                "      ,[OtherDivValue]\r\n",
                "      ,[PlantTranNum]\r\n",
                "      ,[NonConfID]\r\n",
                "      ,[MtlMtlUnitCost]\r\n",
                "      ,[MtlLabUnitCost]\r\n",
                "      ,[MtlSubUnitCost]\r\n",
                "      ,[MtlBurdenUnitCost]\r\n",
                "      ,[RefType]\r\n",
                "      ,[RefCode]\r\n",
                "      ,[LegalNumber]\r\n",
                "      ,[BeginQty]\r\n",
                "      ,[AfterQty]\r\n",
                "      ,[BegBurUnitCost]\r\n",
                "      ,[BegLbrUnitCost]\r\n",
                "      ,[BegMtlBurUnitCost]\r\n",
                "      ,[BegMtlUnitCost]\r\n",
                "      ,[BegSubUnitCost]\r\n",
                "      ,[AfterBurUnitCost]\r\n",
                "      ,[AfterLbrUnitCost]\r\n",
                "      ,[AfterMtlBurUnitCost]\r\n",
                "      ,[AfterMtlUnitCost]\r\n",
                "      ,[AfterSubUnitCost]\r\n",
                "      ,[PlantCostValue]\r\n",
                "      ,[EmpID]\r\n",
                "      ,[ReconcileNum]\r\n",
                "      ,[CostID]\r\n",
                "      ,[FIFODate]\r\n",
                "      ,[FIFOSeq]\r\n",
                "      ,[ActTranQty]\r\n",
                "      ,[ActTransUOM]\r\n",
                "      ,[InvtyUOM]\r\n",
                "      ,[InvtyUOM2]\r\n",
                "      ,[FIFOAction]\r\n",
                "      ,[FiscalYearSuffix]\r\n",
                "      ,[FiscalCalendarID]\r\n",
                "      ,[BinType]\r\n",
                "      ,[CCYear]\r\n",
                "      ,[CCMonth]\r\n",
                "      ,[CycleSeq]\r\n",
                "      ,[ABTUID]\r\n",
                "      ,[BaseCostMethod]\r\n",
                "      ,[RevertStatus]\r\n",
                "      ,[RevertID]\r\n",
                "      ,[DropShipPackSlip]\r\n",
                "      ,[VarTarget]\r\n",
                "      ,[FIFOSubSeq]\r\n",
                "      ,[AltMtlUnitCost]\r\n",
                "      ,[AltLbrUnitCost]\r\n",
                "      ,[AltBurUnitCost]\r\n",
                "      ,[AltSubUnitCost]\r\n",
                "      ,[AltMtlBurUnitCost]\r\n",
                "      ,[AltExtCost]\r\n",
                "      ,[AltMtlMtlUnitCost]\r\n",
                "      ,[AltMtlLabUnitCost]\r\n",
                "      ,[AltMtlSubUnitCost]\r\n",
                "      ,[AltMtlBurdenUnitCost]\r\n",
                "      ,[TranDocTypeID]\r\n",
                "      ,[PBInvNum]\r\n",
                "      ,[LoanFlag]\r\n",
                "      ,[AssetNum]\r\n",
                "      ,[AdditionNum]\r\n",
                "      ,[DisposalNum]\r\n",
                "      ,[ProjProcessed]\r\n",
                "      ,[AsOfDate]\r\n",
                "      ,[AsOfSeq]\r\n",
                "      ,[MscNum]\r\n",
                "      ,[ODCUnitCost]\r\n",
                "      ,[SysRevID]\r\n",
                "      ,[SysRowID]\r\n",
                "      ,[TranRefType]\r\n",
                "      ,[PCID]\r\n",
                "      ,[PCIDCollapseCounter]\r\n",
                "      ,[PCID2]\r\n",
                "      ,[ContractID]\r\n",
                "      ,[LCFlag]\r\n",
                "      ,[ExtMtlCost]\r\n",
                "      ,[ExtLbrCost]\r\n",
                "      ,[ExtBurCost]\r\n",
                "      ,[ExtSubCost]\r\n",
                "      ,[ExtMtlBurCost]\r\n",
                "      ,[ExtMtlMtlCost]\r\n",
                "      ,[ExtMtlLabCost]\r\n",
                "      ,[ExtMtlSubCost]\r\n",
                "      ,[ExtMtlBurdenCost]\r\n",
                "      ,[MYImportNum]\r\n",
                "      ,[AutoReverse]\r\n",
                "      ,[RevTranNum]\r\n",
                "      ,[RevSysDate]\r\n",
                "      ,[RevSysTime]\r\n",
                "      ,Dateadd(second, RevSysTime, cast(RevSysDate as Datetime)) as RevSysDateTime\r\n",
                "      ,[ExtNonRecoverableCost]\r\n",
                "      ,[EpicorFSA]\r\n",
                "      ,[AttributeSetID]\r\n",
                "      ,[AttributeSetDescription]\r\n",
                "      ,[AttributeSetShortDescription]\r\n",
                "      ,[NumberOfPieces]\r\n",
                "  FROM [ERPDB].[Erp].[PartTran]\r\n",
                "  ) AS pt\r\n",
                "\r\n",
                "Left Join [etl].[vwOrderDetail] AS od\r\n",
                "on pt.OrderNumLine = od.OrderNumLine and pt.company = od.company\r\n",
                ") as vod\r\n",
                "\r\n",
                ""
            ],
            "metadata": {
                "azdata_cell_guid": "8881ca91-63dd-4e65-91ad-ba66ec895a53"
            },
            "outputs": [
                {
                    "output_type": "display_data",
                    "data": {
                        "text/html": "(1 row affected)"
                    },
                    "metadata": {}
                },
                {
                    "output_type": "display_data",
                    "data": {
                        "text/html": "Total execution time: 00:00:06.351"
                    },
                    "metadata": {}
                },
                {
                    "output_type": "execute_result",
                    "metadata": {},
                    "execution_count": 1,
                    "data": {
                        "application/vnd.dataresource+json": {
                            "schema": {
                                "fields": [
                                    {
                                        "name": "(No column name)"
                                    }
                                ]
                            },
                            "data": [
                                {
                                    "0": "1392703"
                                }
                            ]
                        },
                        "text/html": [
                            "<table>",
                            "<tr><th>(No column name)</th></tr>",
                            "<tr><td>1392703</td></tr>",
                            "</table>"
                        ]
                    }
                }
            ],
            "execution_count": 1
        },
        {
            "cell_type": "code",
            "source": [
                "Select count (*)\r\n",
                "FROM [ERPDB].[Erp].[PartTran]\r\n",
                ""
            ],
            "metadata": {
                "azdata_cell_guid": "a039bd58-ba24-4489-a656-08a29ee4c849"
            },
            "outputs": [
                {
                    "output_type": "display_data",
                    "data": {
                        "text/html": "(1 row affected)"
                    },
                    "metadata": {}
                },
                {
                    "output_type": "display_data",
                    "data": {
                        "text/html": "Total execution time: 00:00:00.518"
                    },
                    "metadata": {}
                },
                {
                    "output_type": "execute_result",
                    "metadata": {},
                    "execution_count": 2,
                    "data": {
                        "application/vnd.dataresource+json": {
                            "schema": {
                                "fields": [
                                    {
                                        "name": "(No column name)"
                                    }
                                ]
                            },
                            "data": [
                                {
                                    "0": "1392703"
                                }
                            ]
                        },
                        "text/html": [
                            "<table>",
                            "<tr><th>(No column name)</th></tr>",
                            "<tr><td>1392703</td></tr>",
                            "</table>"
                        ]
                    }
                }
            ],
            "execution_count": 2
        },
        {
            "cell_type": "code",
            "source": [
                "Select count (*)\r\n",
                "From etl.vwPartTran"
            ],
            "metadata": {
                "azdata_cell_guid": "4f847734-76c2-4f24-8e73-697af7ea1516"
            },
            "outputs": [
                {
                    "output_type": "display_data",
                    "data": {
                        "text/html": "(1 row affected)"
                    },
                    "metadata": {}
                },
                {
                    "output_type": "display_data",
                    "data": {
                        "text/html": "Total execution time: 00:00:07.197"
                    },
                    "metadata": {}
                },
                {
                    "output_type": "execute_result",
                    "metadata": {},
                    "execution_count": 7,
                    "data": {
                        "application/vnd.dataresource+json": {
                            "schema": {
                                "fields": [
                                    {
                                        "name": "(No column name)"
                                    }
                                ]
                            },
                            "data": [
                                {
                                    "0": "1392703"
                                }
                            ]
                        },
                        "text/html": [
                            "<table>",
                            "<tr><th>(No column name)</th></tr>",
                            "<tr><td>1392703</td></tr>",
                            "</table>"
                        ]
                    }
                }
            ],
            "execution_count": 7
        },
        {
            "cell_type": "code",
            "source": [
                "SELECT count (*)\r\n",
                "From etl.vwLaborDtl"
            ],
            "metadata": {
                "azdata_cell_guid": "109bb4fd-93aa-40dc-8972-d5a9680e187c"
            },
            "outputs": [
                {
                    "output_type": "display_data",
                    "data": {
                        "text/html": "(1 row affected)"
                    },
                    "metadata": {}
                },
                {
                    "output_type": "display_data",
                    "data": {
                        "text/html": "Total execution time: 00:00:02.311"
                    },
                    "metadata": {}
                },
                {
                    "output_type": "execute_result",
                    "metadata": {},
                    "execution_count": 6,
                    "data": {
                        "application/vnd.dataresource+json": {
                            "schema": {
                                "fields": [
                                    {
                                        "name": "(No column name)"
                                    }
                                ]
                            },
                            "data": [
                                {
                                    "0": "653808"
                                }
                            ]
                        },
                        "text/html": [
                            "<table>",
                            "<tr><th>(No column name)</th></tr>",
                            "<tr><td>653808</td></tr>",
                            "</table>"
                        ]
                    }
                }
            ],
            "execution_count": 6
        },
        {
            "cell_type": "code",
            "source": [
                "  SELECT count (*) FROM [ERPDB].[Erp].[LaborDtl]"
            ],
            "metadata": {
                "azdata_cell_guid": "c00da028-867d-4e2a-8769-e2e037adad64"
            },
            "outputs": [
                {
                    "output_type": "display_data",
                    "data": {
                        "text/html": "(1 row affected)"
                    },
                    "metadata": {}
                },
                {
                    "output_type": "display_data",
                    "data": {
                        "text/html": "Total execution time: 00:00:00.201"
                    },
                    "metadata": {}
                },
                {
                    "output_type": "execute_result",
                    "metadata": {},
                    "execution_count": 5,
                    "data": {
                        "application/vnd.dataresource+json": {
                            "schema": {
                                "fields": [
                                    {
                                        "name": "(No column name)"
                                    }
                                ]
                            },
                            "data": [
                                {
                                    "0": "653808"
                                }
                            ]
                        },
                        "text/html": [
                            "<table>",
                            "<tr><th>(No column name)</th></tr>",
                            "<tr><td>653808</td></tr>",
                            "</table>"
                        ]
                    }
                }
            ],
            "execution_count": 5
        },
        {
            "cell_type": "code",
            "source": [
                "SELECT Top (100) \r\n",
                "jm.*, cl.DateStampedOn, cc.Calculated_ChangeDate, od.ProjectID,\r\n",
                " (case when\r\n",
                "            cc.Calculated_ChangeDate >= cl.DateStampedOn\r\n",
                "            then cc.Calculated_ChangeDate\r\n",
                "            else \r\n",
                "            cl.DateStampedON\r\n",
                "            end) as Latest_ChangeDate\r\n",
                ",Dateadd(second, 00, cast(\r\n",
                "    (case when\r\n",
                "            cc.Calculated_ChangeDate >= cl.DateStampedOn\r\n",
                "            then cc.Calculated_ChangeDate\r\n",
                "            else \r\n",
                "            cl.DateStampedON\r\n",
                "            end)as Datetime)) as Latest_ChangeDateTime\r\n",
                "FROM\r\n",
                "(\r\n",
                "    SELECT JobMtl.*,\r\n",
                "    REVERSE(PARSENAME(REPLACE(REVERSE([JobNum]), '-', '.'), 1)) as OrderNum,\r\n",
                "    REVERSE(PARSENAME(REPLACE(REVERSE([JobNum]), '-', '.'), 2)) as OrderLine,\r\n",
                "    (Case\r\n",
                "      When\r\n",
                "        REVERSE(PARSENAME(REPLACE(REVERSE([JobNum]), '-', '.'), 2)) is Null\r\n",
                "      Then\r\n",
                "        REVERSE(PARSENAME(REPLACE(REVERSE([JobNum]), '-', '.'), 1))\r\n",
                "      Else\r\n",
                "        CONCAT(REVERSE(PARSENAME(REPLACE(REVERSE([JobNum]), '-', '.'), 1))\r\n",
                "        ,'-'\r\n",
                "        ,REVERSE(PARSENAME(REPLACE(REVERSE([JobNum]), '-', '.'), 2))\r\n",
                "        )\r\n",
                "    end) as OrderNumLine,\r\n",
                "    CONCAT(JobNum,'~',AssemblySeq,'~',MtlSeq) as ForeignKey2\r\n",
                "    FROM [ERPDB].[Erp].[JobMtl]\r\n",
                ") jm\r\n",
                "\r\n",
                "-- Get the DateStampedOn from the ChangeLog\r\n",
                "LEFT JOIN\r\n",
                "(\r\n",
                "Select *\r\n",
                "From\r\n",
                "    (Select DateStampedOn,\r\n",
                "            Key1,\r\n",
                "            Key2,\r\n",
                "            LogText,\r\n",
                "            ROW_NUMBER() OVER(Partition by Key2 Order by DateStampedON Desc) rn\r\n",
                "        From [ERPDB].[Ice].[ChgLog] \r\n",
                "    ) a\r\n",
                "    Where rn=1 \r\n",
                ") cl\r\n",
                "ON jm.JobNum=cl.Key1 and jm.ForeignKey2=cl.Key2\r\n",
                "\r\n",
                "\r\n",
                "--get the calculated change date from PartTran and Job Head Tables \r\n",
                "Left Join\r\n",
                "(\r\n",
                "Select  *\r\n",
                "From \r\n",
                "    (Select \r\n",
                "        f.Company,\r\n",
                "        f.JobNum,\r\n",
                "        f.AssemblySeq,\r\n",
                "        f.JobSeq,\r\n",
                "        f.PartNum,\r\n",
                "        f.TranDate,\r\n",
                "        f.CreateDate,\r\n",
                "        f.CloseDate,\r\n",
                "        f.ForeignKey2,\r\n",
                "        f.Calculated_ChangeDate,\r\n",
                "        ROW_NUMBER() OVER(PARTITION By ForeignKey2 ORDER BY f.Calculated_ChangeDate DESC) rn\r\n",
                "    FROM\r\n",
                "        (SELECT \r\n",
                "            pt.Company as Company, \r\n",
                "            pt.JobNum as JobNum,\r\n",
                "            pt.AssemblySeq as AssemblySeq,\r\n",
                "            pt.JobSeq as JobSeq,\r\n",
                "            pt.TranDate as TranDate,\r\n",
                "            pt.PartNum as PartNum,\r\n",
                "            jh.CreateDate as CreateDate,\r\n",
                "            jh.ClosedDate as CloseDate,\r\n",
                "            pt.ForeignKey2 as ForeignKey2,\r\n",
                "            (case when\r\n",
                "            pt.TranDate >= jh.CreateDate\r\n",
                "            then\r\n",
                "            pt.TranDate\r\n",
                "            when\r\n",
                "            jh.CreateDate >= jh.ClosedDate\r\n",
                "            then\r\n",
                "            jh.CreateDate\r\n",
                "            else\r\n",
                "            jh.ClosedDate\r\n",
                "            end) as Calculated_ChangeDate\r\n",
                "                FROM\r\n",
                "                (SELECT\r\n",
                "                    Company,\r\n",
                "                    JobNum,\r\n",
                "                    AssemblySeq,\r\n",
                "                    JobSeq,\r\n",
                "                    TranDate,\r\n",
                "                    PartNum,\r\n",
                "                    CONCAT(JobNum,'~',AssemblySeq,'~',JobSeq) as ForeignKey2\r\n",
                "                    FROM [ERPDB].[Erp].[PartTran]\r\n",
                "                ) as pt\r\n",
                "                Left Join\r\n",
                "                (SELECT \r\n",
                "                    Company, \r\n",
                "                    ClosedDate, \r\n",
                "                    JobNum,\r\n",
                "                    CreateDate \r\n",
                "                    FROM [ERPDB].[Erp].[JobHead]\r\n",
                "                ) as jh\r\n",
                "                    on pt.Company = jh.Company AND pt.JobNum = jh.JobNum\r\n",
                "        ) f \r\n",
                "    ) b\r\n",
                "    where rn = 1\r\n",
                ") cc\r\n",
                "on jm.ForeignKey2 = cc.ForeignKey2\r\n",
                "Left Join [etl].[vwOrderDetail] AS od\r\n",
                "on jm.OrderNumLine = od.OrderNumLine \r\n",
                "\r\n",
                "Where jm.Company = 'solar' and od.ProjectID = '2230007'\r\n",
                "GO\r\n",
                ""
            ],
            "metadata": {
                "azdata_cell_guid": "9db84c23-4aaa-446a-8bea-cb62bb831910",
                "tags": []
            },
            "outputs": [
                {
                    "output_type": "display_data",
                    "data": {
                        "text/html": "(5 rows affected)"
                    },
                    "metadata": {}
                },
                {
                    "output_type": "display_data",
                    "data": {
                        "text/html": "Total execution time: 00:00:06.903"
                    },
                    "metadata": {}
                },
                {
                    "output_type": "execute_result",
                    "execution_count": 4,
                    "data": {
                        "application/vnd.dataresource+json": {
                            "schema": {
                                "fields": [
                                    {
                                        "name": "Company"
                                    },
                                    {
                                        "name": "JobComplete"
                                    },
                                    {
                                        "name": "IssuedComplete"
                                    },
                                    {
                                        "name": "JobNum"
                                    },
                                    {
                                        "name": "AssemblySeq"
                                    },
                                    {
                                        "name": "MtlSeq"
                                    },
                                    {
                                        "name": "PartNum"
                                    },
                                    {
                                        "name": "Description"
                                    },
                                    {
                                        "name": "QtyPer"
                                    },
                                    {
                                        "name": "RequiredQty"
                                    },
                                    {
                                        "name": "IUM"
                                    },
                                    {
                                        "name": "LeadTime"
                                    },
                                    {
                                        "name": "RelatedOperation"
                                    },
                                    {
                                        "name": "MtlBurRate"
                                    },
                                    {
                                        "name": "EstMtlBurUnitCost"
                                    },
                                    {
                                        "name": "EstUnitCost"
                                    },
                                    {
                                        "name": "IssuedQty"
                                    },
                                    {
                                        "name": "TotalCost"
                                    },
                                    {
                                        "name": "MtlBurCost"
                                    },
                                    {
                                        "name": "ReqDate"
                                    },
                                    {
                                        "name": "WarehouseCode"
                                    },
                                    {
                                        "name": "SalvagePartNum"
                                    },
                                    {
                                        "name": "SalvageDescription"
                                    },
                                    {
                                        "name": "SalvageQtyPer"
                                    },
                                    {
                                        "name": "SalvageUM"
                                    },
                                    {
                                        "name": "SalvageMtlBurRate"
                                    },
                                    {
                                        "name": "SalvageUnitCredit"
                                    },
                                    {
                                        "name": "SalvageEstMtlBurUnitCredit"
                                    },
                                    {
                                        "name": "SalvageQtyToDate"
                                    },
                                    {
                                        "name": "SalvageCredit"
                                    },
                                    {
                                        "name": "SalvageMtlBurCredit"
                                    },
                                    {
                                        "name": "MfgComment"
                                    },
                                    {
                                        "name": "VendorNum"
                                    },
                                    {
                                        "name": "PurPoint"
                                    },
                                    {
                                        "name": "BuyIt"
                                    },
                                    {
                                        "name": "Ordered"
                                    },
                                    {
                                        "name": "PurComment"
                                    },
                                    {
                                        "name": "BackFlush"
                                    },
                                    {
                                        "name": "EstScrap"
                                    },
                                    {
                                        "name": "EstScrapType"
                                    },
                                    {
                                        "name": "FixedQty"
                                    },
                                    {
                                        "name": "FindNum"
                                    },
                                    {
                                        "name": "RevisionNum"
                                    },
                                    {
                                        "name": "SndAlrtCmpl"
                                    },
                                    {
                                        "name": "RcvInspectionReq"
                                    },
                                    {
                                        "name": "Plant"
                                    },
                                    {
                                        "name": "Direct"
                                    },
                                    {
                                        "name": "MaterialMtlCost"
                                    },
                                    {
                                        "name": "MaterialLabCost"
                                    },
                                    {
                                        "name": "MaterialSubCost"
                                    },
                                    {
                                        "name": "MaterialBurCost"
                                    },
                                    {
                                        "name": "SalvageMtlCredit"
                                    },
                                    {
                                        "name": "SalvageLbrCredit"
                                    },
                                    {
                                        "name": "SalvageBurCredit"
                                    },
                                    {
                                        "name": "SalvageSubCredit"
                                    },
                                    {
                                        "name": "APSAddResType"
                                    },
                                    {
                                        "name": "CallNum"
                                    },
                                    {
                                        "name": "CallLine"
                                    },
                                    {
                                        "name": "ProdCode"
                                    },
                                    {
                                        "name": "UnitPrice"
                                    },
                                    {
                                        "name": "BillableUnitPrice"
                                    },
                                    {
                                        "name": "DocBillableUnitPrice"
                                    },
                                    {
                                        "name": "ResReasonCode"
                                    },
                                    {
                                        "name": "PricePerCode"
                                    },
                                    {
                                        "name": "Billable"
                                    },
                                    {
                                        "name": "ShippedQty"
                                    },
                                    {
                                        "name": "DocUnitPrice"
                                    },
                                    {
                                        "name": "QtyStagedToDate"
                                    },
                                    {
                                        "name": "AddedMtl"
                                    },
                                    {
                                        "name": "MiscCharge"
                                    },
                                    {
                                        "name": "MiscCode"
                                    },
                                    {
                                        "name": "SCMiscCode"
                                    },
                                    {
                                        "name": "RFQNeeded"
                                    },
                                    {
                                        "name": "RFQVendQuotes"
                                    },
                                    {
                                        "name": "RFQNum"
                                    },
                                    {
                                        "name": "RFQLine"
                                    },
                                    {
                                        "name": "RFQStat"
                                    },
                                    {
                                        "name": "AnalysisCode"
                                    },
                                    {
                                        "name": "GlbRFQ"
                                    },
                                    {
                                        "name": "WhseAllocFlag"
                                    },
                                    {
                                        "name": "WIReqDate"
                                    },
                                    {
                                        "name": "Rpt1BillableUnitPrice"
                                    },
                                    {
                                        "name": "Rpt2BillableUnitPrice"
                                    },
                                    {
                                        "name": "Rpt3BillableUnitPrice"
                                    },
                                    {
                                        "name": "Rpt1UnitPrice"
                                    },
                                    {
                                        "name": "Rpt2UnitPrice"
                                    },
                                    {
                                        "name": "Rpt3UnitPrice"
                                    },
                                    {
                                        "name": "BaseRequiredQty"
                                    },
                                    {
                                        "name": "BaseUOM"
                                    },
                                    {
                                        "name": "Weight"
                                    },
                                    {
                                        "name": "WeightUOM"
                                    },
                                    {
                                        "name": "ReqRefDes"
                                    },
                                    {
                                        "name": "BasePartNum"
                                    },
                                    {
                                        "name": "BaseRevisionNum"
                                    },
                                    {
                                        "name": "SelectForPicking"
                                    },
                                    {
                                        "name": "StagingWarehouseCode"
                                    },
                                    {
                                        "name": "StagingBinNum"
                                    },
                                    {
                                        "name": "PickError"
                                    },
                                    {
                                        "name": "EstMtlUnitCost"
                                    },
                                    {
                                        "name": "EstLbrUnitCost"
                                    },
                                    {
                                        "name": "EstBurUnitCost"
                                    },
                                    {
                                        "name": "EstSubUnitCost"
                                    },
                                    {
                                        "name": "SalvageEstMtlUnitCredit"
                                    },
                                    {
                                        "name": "SalvageEstLbrUnitCredit"
                                    },
                                    {
                                        "name": "SalvageEstBurUnitCredit"
                                    },
                                    {
                                        "name": "SalvageEstSubUnitCredit"
                                    },
                                    {
                                        "name": "LoanedQty"
                                    },
                                    {
                                        "name": "BorrowedQty"
                                    },
                                    {
                                        "name": "ReassignSNAsm"
                                    },
                                    {
                                        "name": "GeneralPlanInfo"
                                    },
                                    {
                                        "name": "EstStdDescription"
                                    },
                                    {
                                        "name": "PricingUOM"
                                    },
                                    {
                                        "name": "RemovedFromPlan"
                                    },
                                    {
                                        "name": "IsPOCostingMaintained"
                                    },
                                    {
                                        "name": "EstStdType"
                                    },
                                    {
                                        "name": "POCostingFactor"
                                    },
                                    {
                                        "name": "PlannedQtyPerUnit"
                                    },
                                    {
                                        "name": "POCostingDirection"
                                    },
                                    {
                                        "name": "POCostingUnitVal"
                                    },
                                    {
                                        "name": "GroupSeq"
                                    },
                                    {
                                        "name": "SysRevID"
                                    },
                                    {
                                        "name": "SysRowID"
                                    },
                                    {
                                        "name": "OrigStructTag"
                                    },
                                    {
                                        "name": "OrigGroupSeq"
                                    },
                                    {
                                        "name": "ShowStatusIcon"
                                    },
                                    {
                                        "name": "ContractID"
                                    },
                                    {
                                        "name": "LinkToContract"
                                    },
                                    {
                                        "name": "StagingLotNum"
                                    },
                                    {
                                        "name": "PCLinkRemoved"
                                    },
                                    {
                                        "name": "ExternalMESSyncRequired"
                                    },
                                    {
                                        "name": "ExternalMESLastSync"
                                    },
                                    {
                                        "name": "LocationView"
                                    },
                                    {
                                        "name": "AttributeSetID"
                                    },
                                    {
                                        "name": "PlanningNumberOfPieces"
                                    },
                                    {
                                        "name": "SalvageAttributeSetID"
                                    },
                                    {
                                        "name": "SalvagePlanningNumberOfPieces"
                                    },
                                    {
                                        "name": "SalvagePlanningAttributeSetID"
                                    },
                                    {
                                        "name": "OrderNum"
                                    },
                                    {
                                        "name": "OrderLine"
                                    },
                                    {
                                        "name": "OrderNumLine"
                                    },
                                    {
                                        "name": "ForeignKey2"
                                    },
                                    {
                                        "name": "DateStampedOn"
                                    },
                                    {
                                        "name": "Calculated_ChangeDate"
                                    },
                                    {
                                        "name": "ProjectID"
                                    },
                                    {
                                        "name": "Latest_ChangeDate"
                                    },
                                    {
                                        "name": "Latest_ChangeDateTime"
                                    }
                                ]
                            },
                            "data": [
                                {
                                    "0": "SOLAR",
                                    "1": "0",
                                    "2": "1",
                                    "3": "2139996-74-1",
                                    "4": "0",
                                    "5": "10",
                                    "6": "WIND TEST - Tier 1",
                                    "7": "WIND TEST - Tier 1",
                                    "8": "1.00000000",
                                    "9": "1.00000000",
                                    "10": "EA",
                                    "11": "0",
                                    "12": "0",
                                    "13": "0.00000",
                                    "14": "0.00000",
                                    "15": "0.00000",
                                    "16": "1.00000000",
                                    "17": "500.000",
                                    "18": "0.000",
                                    "19": "2021-06-14",
                                    "20": "",
                                    "21": "",
                                    "22": "",
                                    "23": "0.00000000",
                                    "24": "",
                                    "25": "0.00000",
                                    "26": "0.00000",
                                    "27": "0.00000",
                                    "28": "0.00000000",
                                    "29": "0.000",
                                    "30": "0.000",
                                    "31": "",
                                    "32": "0",
                                    "33": "",
                                    "34": "0",
                                    "35": "0",
                                    "36": "",
                                    "37": "0",
                                    "38": "0.00",
                                    "39": "%",
                                    "40": "1",
                                    "41": "",
                                    "42": "",
                                    "43": "0",
                                    "44": "0",
                                    "45": "MfgSys",
                                    "46": "0",
                                    "47": "500.000",
                                    "48": "0.000",
                                    "49": "0.000",
                                    "50": "0.000",
                                    "51": "0.000",
                                    "52": "0.000",
                                    "53": "0.000",
                                    "54": "0.000",
                                    "55": "M",
                                    "56": "0",
                                    "57": "0",
                                    "58": "",
                                    "59": "0.00000",
                                    "60": "0.00000",
                                    "61": "0.00000",
                                    "62": "",
                                    "63": "E",
                                    "64": "0",
                                    "65": "0.00000000",
                                    "66": "0.00000",
                                    "67": "0.00000000",
                                    "68": "0",
                                    "69": "1",
                                    "70": "MISC",
                                    "71": "",
                                    "72": "0",
                                    "73": "0",
                                    "74": "0",
                                    "75": "0",
                                    "76": "",
                                    "77": "",
                                    "78": "0",
                                    "79": "0",
                                    "80": "2021-06-14",
                                    "81": "0.00000",
                                    "82": "0.00000",
                                    "83": "0.00000",
                                    "84": "0.00000",
                                    "85": "0.00000",
                                    "86": "0.00000",
                                    "87": "1.00000000",
                                    "88": "EA",
                                    "89": "0.00000",
                                    "90": "",
                                    "91": "0",
                                    "92": "",
                                    "93": "",
                                    "94": "0",
                                    "95": "",
                                    "96": "",
                                    "97": "",
                                    "98": "0.00000",
                                    "99": "0.00000",
                                    "100": "0.00000",
                                    "101": "0.00000",
                                    "102": "0.00000",
                                    "103": "0.00000",
                                    "104": "0.00000",
                                    "105": "0.00000",
                                    "106": "0.00",
                                    "107": "0.00",
                                    "108": "0",
                                    "109": "",
                                    "110": "",
                                    "111": "",
                                    "112": "0",
                                    "113": "0",
                                    "114": "0",
                                    "115": "0.00000",
                                    "116": "0.00000",
                                    "117": "0",
                                    "118": "0.00000",
                                    "119": "0",
                                    "120": "0x000000024EA4DC61",
                                    "121": "bd92d27c-0459-408c-9808-2d455cb37651",
                                    "122": "",
                                    "123": "0",
                                    "124": "",
                                    "125": "",
                                    "126": "0",
                                    "127": "",
                                    "128": "0",
                                    "129": "1",
                                    "130": "NULL",
                                    "131": "0",
                                    "132": "0",
                                    "133": "0",
                                    "134": "0",
                                    "135": "0",
                                    "136": "0",
                                    "137": "2139996",
                                    "138": "74",
                                    "139": "2139996-74",
                                    "140": "2139996-74-1~0~10",
                                    "141": "2021-10-01",
                                    "142": "NULL",
                                    "143": "2230007",
                                    "144": "2021-10-01",
                                    "145": "2021-10-01 00:00:00.000"
                                },
                                {
                                    "0": "SOLAR",
                                    "1": "0",
                                    "2": "1",
                                    "3": "2230007-2-1",
                                    "4": "0",
                                    "5": "10",
                                    "6": "MFG MATERIAL",
                                    "7": "MFG MATERIAL",
                                    "8": "1.00000000",
                                    "9": "1.00000000",
                                    "10": "EA",
                                    "11": "0",
                                    "12": "0",
                                    "13": "0.00000",
                                    "14": "0.00000",
                                    "15": "0.00000",
                                    "16": "1.00000000",
                                    "17": "529510.000",
                                    "18": "0.000",
                                    "19": "2022-02-03",
                                    "20": "",
                                    "21": "",
                                    "22": "",
                                    "23": "0.00000000",
                                    "24": "",
                                    "25": "0.00000",
                                    "26": "0.00000",
                                    "27": "0.00000",
                                    "28": "0.00000000",
                                    "29": "0.000",
                                    "30": "0.000",
                                    "31": "",
                                    "32": "0",
                                    "33": "",
                                    "34": "0",
                                    "35": "0",
                                    "36": "",
                                    "37": "0",
                                    "38": "0.00",
                                    "39": "%",
                                    "40": "1",
                                    "41": "",
                                    "42": "A",
                                    "43": "0",
                                    "44": "0",
                                    "45": "MfgSys",
                                    "46": "0",
                                    "47": "529510.000",
                                    "48": "0.000",
                                    "49": "0.000",
                                    "50": "0.000",
                                    "51": "0.000",
                                    "52": "0.000",
                                    "53": "0.000",
                                    "54": "0.000",
                                    "55": "M",
                                    "56": "0",
                                    "57": "0",
                                    "58": "MFG",
                                    "59": "0.00000",
                                    "60": "0.00000",
                                    "61": "0.00000",
                                    "62": "",
                                    "63": "E",
                                    "64": "0",
                                    "65": "0.00000000",
                                    "66": "0.00000",
                                    "67": "0.00000000",
                                    "68": "0",
                                    "69": "1",
                                    "70": "MISC",
                                    "71": "",
                                    "72": "0",
                                    "73": "0",
                                    "74": "0",
                                    "75": "0",
                                    "76": "",
                                    "77": "",
                                    "78": "0",
                                    "79": "0",
                                    "80": "2022-02-03",
                                    "81": "0.00000",
                                    "82": "0.00000",
                                    "83": "0.00000",
                                    "84": "0.00000",
                                    "85": "0.00000",
                                    "86": "0.00000",
                                    "87": "1.00000000",
                                    "88": "EA",
                                    "89": "0.00000",
                                    "90": "",
                                    "91": "0",
                                    "92": "",
                                    "93": "",
                                    "94": "0",
                                    "95": "",
                                    "96": "",
                                    "97": "",
                                    "98": "0.00000",
                                    "99": "0.00000",
                                    "100": "0.00000",
                                    "101": "0.00000",
                                    "102": "0.00000",
                                    "103": "0.00000",
                                    "104": "0.00000",
                                    "105": "0.00000",
                                    "106": "0.00",
                                    "107": "0.00",
                                    "108": "0",
                                    "109": "",
                                    "110": "",
                                    "111": "",
                                    "112": "0",
                                    "113": "0",
                                    "114": "0",
                                    "115": "0.00000",
                                    "116": "0.00000",
                                    "117": "0",
                                    "118": "0.00000",
                                    "119": "0",
                                    "120": "0x000000032B31E111",
                                    "121": "b5ca4fbf-9feb-4e62-8aad-dd26329db123",
                                    "122": "",
                                    "123": "0",
                                    "124": "",
                                    "125": "",
                                    "126": "0",
                                    "127": "",
                                    "128": "0",
                                    "129": "1",
                                    "130": "NULL",
                                    "131": "0",
                                    "132": "0",
                                    "133": "0",
                                    "134": "0",
                                    "135": "0",
                                    "136": "0",
                                    "137": "2230007",
                                    "138": "2",
                                    "139": "2230007-2",
                                    "140": "2230007-2-1~0~10",
                                    "141": "2022-06-28",
                                    "142": "2022-07-22",
                                    "143": "2230007",
                                    "144": "2022-07-22",
                                    "145": "2022-07-22 00:00:00.000"
                                },
                                {
                                    "0": "SOLAR",
                                    "1": "0",
                                    "2": "1",
                                    "3": "2230007-2-1",
                                    "4": "0",
                                    "5": "10",
                                    "6": "MFG MATERIAL",
                                    "7": "MFG MATERIAL",
                                    "8": "1.00000000",
                                    "9": "1.00000000",
                                    "10": "EA",
                                    "11": "0",
                                    "12": "0",
                                    "13": "0.00000",
                                    "14": "0.00000",
                                    "15": "0.00000",
                                    "16": "1.00000000",
                                    "17": "529510.000",
                                    "18": "0.000",
                                    "19": "2022-02-03",
                                    "20": "",
                                    "21": "",
                                    "22": "",
                                    "23": "0.00000000",
                                    "24": "",
                                    "25": "0.00000",
                                    "26": "0.00000",
                                    "27": "0.00000",
                                    "28": "0.00000000",
                                    "29": "0.000",
                                    "30": "0.000",
                                    "31": "",
                                    "32": "0",
                                    "33": "",
                                    "34": "0",
                                    "35": "0",
                                    "36": "",
                                    "37": "0",
                                    "38": "0.00",
                                    "39": "%",
                                    "40": "1",
                                    "41": "",
                                    "42": "A",
                                    "43": "0",
                                    "44": "0",
                                    "45": "MfgSys",
                                    "46": "0",
                                    "47": "529510.000",
                                    "48": "0.000",
                                    "49": "0.000",
                                    "50": "0.000",
                                    "51": "0.000",
                                    "52": "0.000",
                                    "53": "0.000",
                                    "54": "0.000",
                                    "55": "M",
                                    "56": "0",
                                    "57": "0",
                                    "58": "MFG",
                                    "59": "0.00000",
                                    "60": "0.00000",
                                    "61": "0.00000",
                                    "62": "",
                                    "63": "E",
                                    "64": "0",
                                    "65": "0.00000000",
                                    "66": "0.00000",
                                    "67": "0.00000000",
                                    "68": "0",
                                    "69": "1",
                                    "70": "MISC",
                                    "71": "",
                                    "72": "0",
                                    "73": "0",
                                    "74": "0",
                                    "75": "0",
                                    "76": "",
                                    "77": "",
                                    "78": "0",
                                    "79": "0",
                                    "80": "2022-02-03",
                                    "81": "0.00000",
                                    "82": "0.00000",
                                    "83": "0.00000",
                                    "84": "0.00000",
                                    "85": "0.00000",
                                    "86": "0.00000",
                                    "87": "1.00000000",
                                    "88": "EA",
                                    "89": "0.00000",
                                    "90": "",
                                    "91": "0",
                                    "92": "",
                                    "93": "",
                                    "94": "0",
                                    "95": "",
                                    "96": "",
                                    "97": "",
                                    "98": "0.00000",
                                    "99": "0.00000",
                                    "100": "0.00000",
                                    "101": "0.00000",
                                    "102": "0.00000",
                                    "103": "0.00000",
                                    "104": "0.00000",
                                    "105": "0.00000",
                                    "106": "0.00",
                                    "107": "0.00",
                                    "108": "0",
                                    "109": "",
                                    "110": "",
                                    "111": "",
                                    "112": "0",
                                    "113": "0",
                                    "114": "0",
                                    "115": "0.00000",
                                    "116": "0.00000",
                                    "117": "0",
                                    "118": "0.00000",
                                    "119": "0",
                                    "120": "0x000000032B31E111",
                                    "121": "b5ca4fbf-9feb-4e62-8aad-dd26329db123",
                                    "122": "",
                                    "123": "0",
                                    "124": "",
                                    "125": "",
                                    "126": "0",
                                    "127": "",
                                    "128": "0",
                                    "129": "1",
                                    "130": "NULL",
                                    "131": "0",
                                    "132": "0",
                                    "133": "0",
                                    "134": "0",
                                    "135": "0",
                                    "136": "0",
                                    "137": "2230007",
                                    "138": "2",
                                    "139": "2230007-2",
                                    "140": "2230007-2-1~0~10",
                                    "141": "2022-06-28",
                                    "142": "2022-07-22",
                                    "143": "2230007",
                                    "144": "2022-07-22",
                                    "145": "2022-07-22 00:00:00.000"
                                },
                                {
                                    "0": "SOLAR",
                                    "1": "0",
                                    "2": "1",
                                    "3": "2230007-5-1",
                                    "4": "0",
                                    "5": "10",
                                    "6": "01000",
                                    "7": "Victor Antiveros",
                                    "8": "1.00000000",
                                    "9": "1.00000000",
                                    "10": "EA",
                                    "11": "0",
                                    "12": "0",
                                    "13": "0.00000",
                                    "14": "0.00000",
                                    "15": "244000.00000",
                                    "16": "1.00000000",
                                    "17": "74400.000",
                                    "18": "0.000",
                                    "19": "NULL",
                                    "20": "",
                                    "21": "",
                                    "22": "",
                                    "23": "0.00000000",
                                    "24": "",
                                    "25": "0.00000",
                                    "26": "0.00000",
                                    "27": "0.00000",
                                    "28": "0.00000000",
                                    "29": "0.000",
                                    "30": "0.000",
                                    "31": "",
                                    "32": "0",
                                    "33": "",
                                    "34": "0",
                                    "35": "0",
                                    "36": "",
                                    "37": "0",
                                    "38": "0.00",
                                    "39": "%",
                                    "40": "1",
                                    "41": "",
                                    "42": "",
                                    "43": "0",
                                    "44": "0",
                                    "45": "MfgSys",
                                    "46": "0",
                                    "47": "74400.000",
                                    "48": "0.000",
                                    "49": "0.000",
                                    "50": "0.000",
                                    "51": "0.000",
                                    "52": "0.000",
                                    "53": "0.000",
                                    "54": "0.000",
                                    "55": "M",
                                    "56": "0",
                                    "57": "0",
                                    "58": "",
                                    "59": "0.00000",
                                    "60": "0.00000",
                                    "61": "0.00000",
                                    "62": "",
                                    "63": "E",
                                    "64": "0",
                                    "65": "0.00000000",
                                    "66": "0.00000",
                                    "67": "0.00000000",
                                    "68": "0",
                                    "69": "1",
                                    "70": "MISC",
                                    "71": "",
                                    "72": "0",
                                    "73": "0",
                                    "74": "0",
                                    "75": "0",
                                    "76": "",
                                    "77": "",
                                    "78": "0",
                                    "79": "0",
                                    "80": "NULL",
                                    "81": "0.00000",
                                    "82": "0.00000",
                                    "83": "0.00000",
                                    "84": "0.00000",
                                    "85": "0.00000",
                                    "86": "0.00000",
                                    "87": "1.00000000",
                                    "88": "EA",
                                    "89": "0.00000",
                                    "90": "",
                                    "91": "0",
                                    "92": "",
                                    "93": "",
                                    "94": "0",
                                    "95": "",
                                    "96": "",
                                    "97": "",
                                    "98": "244000.00000",
                                    "99": "0.00000",
                                    "100": "0.00000",
                                    "101": "0.00000",
                                    "102": "0.00000",
                                    "103": "0.00000",
                                    "104": "0.00000",
                                    "105": "0.00000",
                                    "106": "0.00",
                                    "107": "0.00",
                                    "108": "0",
                                    "109": "",
                                    "110": "",
                                    "111": "",
                                    "112": "0",
                                    "113": "0",
                                    "114": "0",
                                    "115": "0.00000",
                                    "116": "0.00000",
                                    "117": "0",
                                    "118": "0.00000",
                                    "119": "0",
                                    "120": "0x0000000333CC4A05",
                                    "121": "1af263af-fdf7-4225-9140-d73e5df47cb7",
                                    "122": "",
                                    "123": "0",
                                    "124": "",
                                    "125": "",
                                    "126": "0",
                                    "127": "",
                                    "128": "0",
                                    "129": "1",
                                    "130": "NULL",
                                    "131": "0",
                                    "132": "0",
                                    "133": "0",
                                    "134": "0",
                                    "135": "0",
                                    "136": "0",
                                    "137": "2230007",
                                    "138": "5",
                                    "139": "2230007-5",
                                    "140": "2230007-5-1~0~10",
                                    "141": "2022-07-26",
                                    "142": "2022-08-02",
                                    "143": "2230007",
                                    "144": "2022-08-02",
                                    "145": "2022-08-02 00:00:00.000"
                                },
                                {
                                    "0": "SOLAR",
                                    "1": "0",
                                    "2": "1",
                                    "3": "2230007-5-1",
                                    "4": "0",
                                    "5": "10",
                                    "6": "01000",
                                    "7": "Victor Antiveros",
                                    "8": "1.00000000",
                                    "9": "1.00000000",
                                    "10": "EA",
                                    "11": "0",
                                    "12": "0",
                                    "13": "0.00000",
                                    "14": "0.00000",
                                    "15": "244000.00000",
                                    "16": "1.00000000",
                                    "17": "74400.000",
                                    "18": "0.000",
                                    "19": "NULL",
                                    "20": "",
                                    "21": "",
                                    "22": "",
                                    "23": "0.00000000",
                                    "24": "",
                                    "25": "0.00000",
                                    "26": "0.00000",
                                    "27": "0.00000",
                                    "28": "0.00000000",
                                    "29": "0.000",
                                    "30": "0.000",
                                    "31": "",
                                    "32": "0",
                                    "33": "",
                                    "34": "0",
                                    "35": "0",
                                    "36": "",
                                    "37": "0",
                                    "38": "0.00",
                                    "39": "%",
                                    "40": "1",
                                    "41": "",
                                    "42": "",
                                    "43": "0",
                                    "44": "0",
                                    "45": "MfgSys",
                                    "46": "0",
                                    "47": "74400.000",
                                    "48": "0.000",
                                    "49": "0.000",
                                    "50": "0.000",
                                    "51": "0.000",
                                    "52": "0.000",
                                    "53": "0.000",
                                    "54": "0.000",
                                    "55": "M",
                                    "56": "0",
                                    "57": "0",
                                    "58": "",
                                    "59": "0.00000",
                                    "60": "0.00000",
                                    "61": "0.00000",
                                    "62": "",
                                    "63": "E",
                                    "64": "0",
                                    "65": "0.00000000",
                                    "66": "0.00000",
                                    "67": "0.00000000",
                                    "68": "0",
                                    "69": "1",
                                    "70": "MISC",
                                    "71": "",
                                    "72": "0",
                                    "73": "0",
                                    "74": "0",
                                    "75": "0",
                                    "76": "",
                                    "77": "",
                                    "78": "0",
                                    "79": "0",
                                    "80": "NULL",
                                    "81": "0.00000",
                                    "82": "0.00000",
                                    "83": "0.00000",
                                    "84": "0.00000",
                                    "85": "0.00000",
                                    "86": "0.00000",
                                    "87": "1.00000000",
                                    "88": "EA",
                                    "89": "0.00000",
                                    "90": "",
                                    "91": "0",
                                    "92": "",
                                    "93": "",
                                    "94": "0",
                                    "95": "",
                                    "96": "",
                                    "97": "",
                                    "98": "244000.00000",
                                    "99": "0.00000",
                                    "100": "0.00000",
                                    "101": "0.00000",
                                    "102": "0.00000",
                                    "103": "0.00000",
                                    "104": "0.00000",
                                    "105": "0.00000",
                                    "106": "0.00",
                                    "107": "0.00",
                                    "108": "0",
                                    "109": "",
                                    "110": "",
                                    "111": "",
                                    "112": "0",
                                    "113": "0",
                                    "114": "0",
                                    "115": "0.00000",
                                    "116": "0.00000",
                                    "117": "0",
                                    "118": "0.00000",
                                    "119": "0",
                                    "120": "0x0000000333CC4A05",
                                    "121": "1af263af-fdf7-4225-9140-d73e5df47cb7",
                                    "122": "",
                                    "123": "0",
                                    "124": "",
                                    "125": "",
                                    "126": "0",
                                    "127": "",
                                    "128": "0",
                                    "129": "1",
                                    "130": "NULL",
                                    "131": "0",
                                    "132": "0",
                                    "133": "0",
                                    "134": "0",
                                    "135": "0",
                                    "136": "0",
                                    "137": "2230007",
                                    "138": "5",
                                    "139": "2230007-5",
                                    "140": "2230007-5-1~0~10",
                                    "141": "2022-07-26",
                                    "142": "2022-08-02",
                                    "143": "2230007",
                                    "144": "2022-08-02",
                                    "145": "2022-08-02 00:00:00.000"
                                }
                            ]
                        },
                        "text/html": "<table><tr><th>Company</th><th>JobComplete</th><th>IssuedComplete</th><th>JobNum</th><th>AssemblySeq</th><th>MtlSeq</th><th>PartNum</th><th>Description</th><th>QtyPer</th><th>RequiredQty</th><th>IUM</th><th>LeadTime</th><th>RelatedOperation</th><th>MtlBurRate</th><th>EstMtlBurUnitCost</th><th>EstUnitCost</th><th>IssuedQty</th><th>TotalCost</th><th>MtlBurCost</th><th>ReqDate</th><th>WarehouseCode</th><th>SalvagePartNum</th><th>SalvageDescription</th><th>SalvageQtyPer</th><th>SalvageUM</th><th>SalvageMtlBurRate</th><th>SalvageUnitCredit</th><th>SalvageEstMtlBurUnitCredit</th><th>SalvageQtyToDate</th><th>SalvageCredit</th><th>SalvageMtlBurCredit</th><th>MfgComment</th><th>VendorNum</th><th>PurPoint</th><th>BuyIt</th><th>Ordered</th><th>PurComment</th><th>BackFlush</th><th>EstScrap</th><th>EstScrapType</th><th>FixedQty</th><th>FindNum</th><th>RevisionNum</th><th>SndAlrtCmpl</th><th>RcvInspectionReq</th><th>Plant</th><th>Direct</th><th>MaterialMtlCost</th><th>MaterialLabCost</th><th>MaterialSubCost</th><th>MaterialBurCost</th><th>SalvageMtlCredit</th><th>SalvageLbrCredit</th><th>SalvageBurCredit</th><th>SalvageSubCredit</th><th>APSAddResType</th><th>CallNum</th><th>CallLine</th><th>ProdCode</th><th>UnitPrice</th><th>BillableUnitPrice</th><th>DocBillableUnitPrice</th><th>ResReasonCode</th><th>PricePerCode</th><th>Billable</th><th>ShippedQty</th><th>DocUnitPrice</th><th>QtyStagedToDate</th><th>AddedMtl</th><th>MiscCharge</th><th>MiscCode</th><th>SCMiscCode</th><th>RFQNeeded</th><th>RFQVendQuotes</th><th>RFQNum</th><th>RFQLine</th><th>RFQStat</th><th>AnalysisCode</th><th>GlbRFQ</th><th>WhseAllocFlag</th><th>WIReqDate</th><th>Rpt1BillableUnitPrice</th><th>Rpt2BillableUnitPrice</th><th>Rpt3BillableUnitPrice</th><th>Rpt1UnitPrice</th><th>Rpt2UnitPrice</th><th>Rpt3UnitPrice</th><th>BaseRequiredQty</th><th>BaseUOM</th><th>Weight</th><th>WeightUOM</th><th>ReqRefDes</th><th>BasePartNum</th><th>BaseRevisionNum</th><th>SelectForPicking</th><th>StagingWarehouseCode</th><th>StagingBinNum</th><th>PickError</th><th>EstMtlUnitCost</th><th>EstLbrUnitCost</th><th>EstBurUnitCost</th><th>EstSubUnitCost</th><th>SalvageEstMtlUnitCredit</th><th>SalvageEstLbrUnitCredit</th><th>SalvageEstBurUnitCredit</th><th>SalvageEstSubUnitCredit</th><th>LoanedQty</th><th>BorrowedQty</th><th>ReassignSNAsm</th><th>GeneralPlanInfo</th><th>EstStdDescription</th><th>PricingUOM</th><th>RemovedFromPlan</th><th>IsPOCostingMaintained</th><th>EstStdType</th><th>POCostingFactor</th><th>PlannedQtyPerUnit</th><th>POCostingDirection</th><th>POCostingUnitVal</th><th>GroupSeq</th><th>SysRevID</th><th>SysRowID</th><th>OrigStructTag</th><th>OrigGroupSeq</th><th>ShowStatusIcon</th><th>ContractID</th><th>LinkToContract</th><th>StagingLotNum</th><th>PCLinkRemoved</th><th>ExternalMESSyncRequired</th><th>ExternalMESLastSync</th><th>LocationView</th><th>AttributeSetID</th><th>PlanningNumberOfPieces</th><th>SalvageAttributeSetID</th><th>SalvagePlanningNumberOfPieces</th><th>SalvagePlanningAttributeSetID</th><th>OrderNum</th><th>OrderLine</th><th>OrderNumLine</th><th>ForeignKey2</th><th>DateStampedOn</th><th>Calculated_ChangeDate</th><th>ProjectID</th><th>Latest_ChangeDate</th><th>Latest_ChangeDateTime</th></tr><tr><td>SOLAR</td><td>0</td><td>1</td><td>2139996-74-1</td><td>0</td><td>10</td><td>WIND TEST - Tier 1</td><td>WIND TEST - Tier 1</td><td>1.00000000</td><td>1.00000000</td><td>EA</td><td>0</td><td>0</td><td>0.00000</td><td>0.00000</td><td>0.00000</td><td>1.00000000</td><td>500.000</td><td>0.000</td><td>2021-06-14</td><td></td><td></td><td></td><td>0.00000000</td><td></td><td>0.00000</td><td>0.00000</td><td>0.00000</td><td>0.00000000</td><td>0.000</td><td>0.000</td><td></td><td>0</td><td></td><td>0</td><td>0</td><td></td><td>0</td><td>0.00</td><td>%</td><td>1</td><td></td><td></td><td>0</td><td>0</td><td>MfgSys</td><td>0</td><td>500.000</td><td>0.000</td><td>0.000</td><td>0.000</td><td>0.000</td><td>0.000</td><td>0.000</td><td>0.000</td><td>M</td><td>0</td><td>0</td><td></td><td>0.00000</td><td>0.00000</td><td>0.00000</td><td></td><td>E</td><td>0</td><td>0.00000000</td><td>0.00000</td><td>0.00000000</td><td>0</td><td>1</td><td>MISC</td><td></td><td>0</td><td>0</td><td>0</td><td>0</td><td></td><td></td><td>0</td><td>0</td><td>2021-06-14</td><td>0.00000</td><td>0.00000</td><td>0.00000</td><td>0.00000</td><td>0.00000</td><td>0.00000</td><td>1.00000000</td><td>EA</td><td>0.00000</td><td></td><td>0</td><td></td><td></td><td>0</td><td></td><td></td><td></td><td>0.00000</td><td>0.00000</td><td>0.00000</td><td>0.00000</td><td>0.00000</td><td>0.00000</td><td>0.00000</td><td>0.00000</td><td>0.00</td><td>0.00</td><td>0</td><td></td><td></td><td></td><td>0</td><td>0</td><td>0</td><td>0.00000</td><td>0.00000</td><td>0</td><td>0.00000</td><td>0</td><td>0x000000024EA4DC61</td><td>bd92d27c-0459-408c-9808-2d455cb37651</td><td></td><td>0</td><td></td><td></td><td>0</td><td></td><td>0</td><td>1</td><td>NULL</td><td>0</td><td>0</td><td>0</td><td>0</td><td>0</td><td>0</td><td>2139996</td><td>74</td><td>2139996-74</td><td>2139996-74-1~0~10</td><td>2021-10-01</td><td>NULL</td><td>2230007</td><td>2021-10-01</td><td>2021-10-01 00:00:00.000</td></tr><tr><td>SOLAR</td><td>0</td><td>1</td><td>2230007-2-1</td><td>0</td><td>10</td><td>MFG MATERIAL</td><td>MFG MATERIAL</td><td>1.00000000</td><td>1.00000000</td><td>EA</td><td>0</td><td>0</td><td>0.00000</td><td>0.00000</td><td>0.00000</td><td>1.00000000</td><td>529510.000</td><td>0.000</td><td>2022-02-03</td><td></td><td></td><td></td><td>0.00000000</td><td></td><td>0.00000</td><td>0.00000</td><td>0.00000</td><td>0.00000000</td><td>0.000</td><td>0.000</td><td></td><td>0</td><td></td><td>0</td><td>0</td><td></td><td>0</td><td>0.00</td><td>%</td><td>1</td><td></td><td>A</td><td>0</td><td>0</td><td>MfgSys</td><td>0</td><td>529510.000</td><td>0.000</td><td>0.000</td><td>0.000</td><td>0.000</td><td>0.000</td><td>0.000</td><td>0.000</td><td>M</td><td>0</td><td>0</td><td>MFG</td><td>0.00000</td><td>0.00000</td><td>0.00000</td><td></td><td>E</td><td>0</td><td>0.00000000</td><td>0.00000</td><td>0.00000000</td><td>0</td><td>1</td><td>MISC</td><td></td><td>0</td><td>0</td><td>0</td><td>0</td><td></td><td></td><td>0</td><td>0</td><td>2022-02-03</td><td>0.00000</td><td>0.00000</td><td>0.00000</td><td>0.00000</td><td>0.00000</td><td>0.00000</td><td>1.00000000</td><td>EA</td><td>0.00000</td><td></td><td>0</td><td></td><td></td><td>0</td><td></td><td></td><td></td><td>0.00000</td><td>0.00000</td><td>0.00000</td><td>0.00000</td><td>0.00000</td><td>0.00000</td><td>0.00000</td><td>0.00000</td><td>0.00</td><td>0.00</td><td>0</td><td></td><td></td><td></td><td>0</td><td>0</td><td>0</td><td>0.00000</td><td>0.00000</td><td>0</td><td>0.00000</td><td>0</td><td>0x000000032B31E111</td><td>b5ca4fbf-9feb-4e62-8aad-dd26329db123</td><td></td><td>0</td><td></td><td></td><td>0</td><td></td><td>0</td><td>1</td><td>NULL</td><td>0</td><td>0</td><td>0</td><td>0</td><td>0</td><td>0</td><td>2230007</td><td>2</td><td>2230007-2</td><td>2230007-2-1~0~10</td><td>2022-06-28</td><td>2022-07-22</td><td>2230007</td><td>2022-07-22</td><td>2022-07-22 00:00:00.000</td></tr><tr><td>SOLAR</td><td>0</td><td>1</td><td>2230007-2-1</td><td>0</td><td>10</td><td>MFG MATERIAL</td><td>MFG MATERIAL</td><td>1.00000000</td><td>1.00000000</td><td>EA</td><td>0</td><td>0</td><td>0.00000</td><td>0.00000</td><td>0.00000</td><td>1.00000000</td><td>529510.000</td><td>0.000</td><td>2022-02-03</td><td></td><td></td><td></td><td>0.00000000</td><td></td><td>0.00000</td><td>0.00000</td><td>0.00000</td><td>0.00000000</td><td>0.000</td><td>0.000</td><td></td><td>0</td><td></td><td>0</td><td>0</td><td></td><td>0</td><td>0.00</td><td>%</td><td>1</td><td></td><td>A</td><td>0</td><td>0</td><td>MfgSys</td><td>0</td><td>529510.000</td><td>0.000</td><td>0.000</td><td>0.000</td><td>0.000</td><td>0.000</td><td>0.000</td><td>0.000</td><td>M</td><td>0</td><td>0</td><td>MFG</td><td>0.00000</td><td>0.00000</td><td>0.00000</td><td></td><td>E</td><td>0</td><td>0.00000000</td><td>0.00000</td><td>0.00000000</td><td>0</td><td>1</td><td>MISC</td><td></td><td>0</td><td>0</td><td>0</td><td>0</td><td></td><td></td><td>0</td><td>0</td><td>2022-02-03</td><td>0.00000</td><td>0.00000</td><td>0.00000</td><td>0.00000</td><td>0.00000</td><td>0.00000</td><td>1.00000000</td><td>EA</td><td>0.00000</td><td></td><td>0</td><td></td><td></td><td>0</td><td></td><td></td><td></td><td>0.00000</td><td>0.00000</td><td>0.00000</td><td>0.00000</td><td>0.00000</td><td>0.00000</td><td>0.00000</td><td>0.00000</td><td>0.00</td><td>0.00</td><td>0</td><td></td><td></td><td></td><td>0</td><td>0</td><td>0</td><td>0.00000</td><td>0.00000</td><td>0</td><td>0.00000</td><td>0</td><td>0x000000032B31E111</td><td>b5ca4fbf-9feb-4e62-8aad-dd26329db123</td><td></td><td>0</td><td></td><td></td><td>0</td><td></td><td>0</td><td>1</td><td>NULL</td><td>0</td><td>0</td><td>0</td><td>0</td><td>0</td><td>0</td><td>2230007</td><td>2</td><td>2230007-2</td><td>2230007-2-1~0~10</td><td>2022-06-28</td><td>2022-07-22</td><td>2230007</td><td>2022-07-22</td><td>2022-07-22 00:00:00.000</td></tr><tr><td>SOLAR</td><td>0</td><td>1</td><td>2230007-5-1</td><td>0</td><td>10</td><td>01000</td><td>Victor Antiveros</td><td>1.00000000</td><td>1.00000000</td><td>EA</td><td>0</td><td>0</td><td>0.00000</td><td>0.00000</td><td>244000.00000</td><td>1.00000000</td><td>74400.000</td><td>0.000</td><td>NULL</td><td></td><td></td><td></td><td>0.00000000</td><td></td><td>0.00000</td><td>0.00000</td><td>0.00000</td><td>0.00000000</td><td>0.000</td><td>0.000</td><td></td><td>0</td><td></td><td>0</td><td>0</td><td></td><td>0</td><td>0.00</td><td>%</td><td>1</td><td></td><td></td><td>0</td><td>0</td><td>MfgSys</td><td>0</td><td>74400.000</td><td>0.000</td><td>0.000</td><td>0.000</td><td>0.000</td><td>0.000</td><td>0.000</td><td>0.000</td><td>M</td><td>0</td><td>0</td><td></td><td>0.00000</td><td>0.00000</td><td>0.00000</td><td></td><td>E</td><td>0</td><td>0.00000000</td><td>0.00000</td><td>0.00000000</td><td>0</td><td>1</td><td>MISC</td><td></td><td>0</td><td>0</td><td>0</td><td>0</td><td></td><td></td><td>0</td><td>0</td><td>NULL</td><td>0.00000</td><td>0.00000</td><td>0.00000</td><td>0.00000</td><td>0.00000</td><td>0.00000</td><td>1.00000000</td><td>EA</td><td>0.00000</td><td></td><td>0</td><td></td><td></td><td>0</td><td></td><td></td><td></td><td>244000.00000</td><td>0.00000</td><td>0.00000</td><td>0.00000</td><td>0.00000</td><td>0.00000</td><td>0.00000</td><td>0.00000</td><td>0.00</td><td>0.00</td><td>0</td><td></td><td></td><td></td><td>0</td><td>0</td><td>0</td><td>0.00000</td><td>0.00000</td><td>0</td><td>0.00000</td><td>0</td><td>0x0000000333CC4A05</td><td>1af263af-fdf7-4225-9140-d73e5df47cb7</td><td></td><td>0</td><td></td><td></td><td>0</td><td></td><td>0</td><td>1</td><td>NULL</td><td>0</td><td>0</td><td>0</td><td>0</td><td>0</td><td>0</td><td>2230007</td><td>5</td><td>2230007-5</td><td>2230007-5-1~0~10</td><td>2022-07-26</td><td>2022-08-02</td><td>2230007</td><td>2022-08-02</td><td>2022-08-02 00:00:00.000</td></tr><tr><td>SOLAR</td><td>0</td><td>1</td><td>2230007-5-1</td><td>0</td><td>10</td><td>01000</td><td>Victor Antiveros</td><td>1.00000000</td><td>1.00000000</td><td>EA</td><td>0</td><td>0</td><td>0.00000</td><td>0.00000</td><td>244000.00000</td><td>1.00000000</td><td>74400.000</td><td>0.000</td><td>NULL</td><td></td><td></td><td></td><td>0.00000000</td><td></td><td>0.00000</td><td>0.00000</td><td>0.00000</td><td>0.00000000</td><td>0.000</td><td>0.000</td><td></td><td>0</td><td></td><td>0</td><td>0</td><td></td><td>0</td><td>0.00</td><td>%</td><td>1</td><td></td><td></td><td>0</td><td>0</td><td>MfgSys</td><td>0</td><td>74400.000</td><td>0.000</td><td>0.000</td><td>0.000</td><td>0.000</td><td>0.000</td><td>0.000</td><td>0.000</td><td>M</td><td>0</td><td>0</td><td></td><td>0.00000</td><td>0.00000</td><td>0.00000</td><td></td><td>E</td><td>0</td><td>0.00000000</td><td>0.00000</td><td>0.00000000</td><td>0</td><td>1</td><td>MISC</td><td></td><td>0</td><td>0</td><td>0</td><td>0</td><td></td><td></td><td>0</td><td>0</td><td>NULL</td><td>0.00000</td><td>0.00000</td><td>0.00000</td><td>0.00000</td><td>0.00000</td><td>0.00000</td><td>1.00000000</td><td>EA</td><td>0.00000</td><td></td><td>0</td><td></td><td></td><td>0</td><td></td><td></td><td></td><td>244000.00000</td><td>0.00000</td><td>0.00000</td><td>0.00000</td><td>0.00000</td><td>0.00000</td><td>0.00000</td><td>0.00000</td><td>0.00</td><td>0.00</td><td>0</td><td></td><td></td><td></td><td>0</td><td>0</td><td>0</td><td>0.00000</td><td>0.00000</td><td>0</td><td>0.00000</td><td>0</td><td>0x0000000333CC4A05</td><td>1af263af-fdf7-4225-9140-d73e5df47cb7</td><td></td><td>0</td><td></td><td></td><td>0</td><td></td><td>0</td><td>1</td><td>NULL</td><td>0</td><td>0</td><td>0</td><td>0</td><td>0</td><td>0</td><td>2230007</td><td>5</td><td>2230007-5</td><td>2230007-5-1~0~10</td><td>2022-07-26</td><td>2022-08-02</td><td>2230007</td><td>2022-08-02</td><td>2022-08-02 00:00:00.000</td></tr></table>"
                    },
                    "metadata": {}
                }
            ],
            "execution_count": 4
        },
        {
            "cell_type": "code",
            "source": [
                "SELECT TOP (10) *\r\n",
                "  FROM [ERPDB].[etl].[vwJobMtlChange]\r\n",
                "  Where Company = 'Solar'\r\n",
                "    And JobNum like '2230007%'"
            ],
            "metadata": {
                "azdata_cell_guid": "a8c6f664-3555-44f4-bd08-2e3f3bfff40d"
            },
            "outputs": [
                {
                    "output_type": "display_data",
                    "data": {
                        "text/html": "(4 rows affected)"
                    },
                    "metadata": {}
                },
                {
                    "output_type": "display_data",
                    "data": {
                        "text/html": "Total execution time: 00:00:07.137"
                    },
                    "metadata": {}
                },
                {
                    "output_type": "execute_result",
                    "execution_count": 2,
                    "data": {
                        "application/vnd.dataresource+json": {
                            "schema": {
                                "fields": [
                                    {
                                        "name": "Company"
                                    },
                                    {
                                        "name": "JobComplete"
                                    },
                                    {
                                        "name": "IssuedComplete"
                                    },
                                    {
                                        "name": "JobNum"
                                    },
                                    {
                                        "name": "AssemblySeq"
                                    },
                                    {
                                        "name": "MtlSeq"
                                    },
                                    {
                                        "name": "PartNum"
                                    },
                                    {
                                        "name": "Description"
                                    },
                                    {
                                        "name": "QtyPer"
                                    },
                                    {
                                        "name": "RequiredQty"
                                    },
                                    {
                                        "name": "IUM"
                                    },
                                    {
                                        "name": "LeadTime"
                                    },
                                    {
                                        "name": "RelatedOperation"
                                    },
                                    {
                                        "name": "MtlBurRate"
                                    },
                                    {
                                        "name": "EstMtlBurUnitCost"
                                    },
                                    {
                                        "name": "EstUnitCost"
                                    },
                                    {
                                        "name": "IssuedQty"
                                    },
                                    {
                                        "name": "TotalCost"
                                    },
                                    {
                                        "name": "MtlBurCost"
                                    },
                                    {
                                        "name": "ReqDate"
                                    },
                                    {
                                        "name": "WarehouseCode"
                                    },
                                    {
                                        "name": "SalvagePartNum"
                                    },
                                    {
                                        "name": "SalvageDescription"
                                    },
                                    {
                                        "name": "SalvageQtyPer"
                                    },
                                    {
                                        "name": "SalvageUM"
                                    },
                                    {
                                        "name": "SalvageMtlBurRate"
                                    },
                                    {
                                        "name": "SalvageUnitCredit"
                                    },
                                    {
                                        "name": "SalvageEstMtlBurUnitCredit"
                                    },
                                    {
                                        "name": "SalvageQtyToDate"
                                    },
                                    {
                                        "name": "SalvageCredit"
                                    },
                                    {
                                        "name": "SalvageMtlBurCredit"
                                    },
                                    {
                                        "name": "MfgComment"
                                    },
                                    {
                                        "name": "VendorNum"
                                    },
                                    {
                                        "name": "PurPoint"
                                    },
                                    {
                                        "name": "BuyIt"
                                    },
                                    {
                                        "name": "Ordered"
                                    },
                                    {
                                        "name": "PurComment"
                                    },
                                    {
                                        "name": "BackFlush"
                                    },
                                    {
                                        "name": "EstScrap"
                                    },
                                    {
                                        "name": "EstScrapType"
                                    },
                                    {
                                        "name": "FixedQty"
                                    },
                                    {
                                        "name": "FindNum"
                                    },
                                    {
                                        "name": "RevisionNum"
                                    },
                                    {
                                        "name": "SndAlrtCmpl"
                                    },
                                    {
                                        "name": "RcvInspectionReq"
                                    },
                                    {
                                        "name": "Plant"
                                    },
                                    {
                                        "name": "Direct"
                                    },
                                    {
                                        "name": "MaterialMtlCost"
                                    },
                                    {
                                        "name": "MaterialLabCost"
                                    },
                                    {
                                        "name": "MaterialSubCost"
                                    },
                                    {
                                        "name": "MaterialBurCost"
                                    },
                                    {
                                        "name": "SalvageMtlCredit"
                                    },
                                    {
                                        "name": "SalvageLbrCredit"
                                    },
                                    {
                                        "name": "SalvageBurCredit"
                                    },
                                    {
                                        "name": "SalvageSubCredit"
                                    },
                                    {
                                        "name": "APSAddResType"
                                    },
                                    {
                                        "name": "CallNum"
                                    },
                                    {
                                        "name": "CallLine"
                                    },
                                    {
                                        "name": "ProdCode"
                                    },
                                    {
                                        "name": "UnitPrice"
                                    },
                                    {
                                        "name": "BillableUnitPrice"
                                    },
                                    {
                                        "name": "DocBillableUnitPrice"
                                    },
                                    {
                                        "name": "ResReasonCode"
                                    },
                                    {
                                        "name": "PricePerCode"
                                    },
                                    {
                                        "name": "Billable"
                                    },
                                    {
                                        "name": "ShippedQty"
                                    },
                                    {
                                        "name": "DocUnitPrice"
                                    },
                                    {
                                        "name": "QtyStagedToDate"
                                    },
                                    {
                                        "name": "AddedMtl"
                                    },
                                    {
                                        "name": "MiscCharge"
                                    },
                                    {
                                        "name": "MiscCode"
                                    },
                                    {
                                        "name": "SCMiscCode"
                                    },
                                    {
                                        "name": "RFQNeeded"
                                    },
                                    {
                                        "name": "RFQVendQuotes"
                                    },
                                    {
                                        "name": "RFQNum"
                                    },
                                    {
                                        "name": "RFQLine"
                                    },
                                    {
                                        "name": "RFQStat"
                                    },
                                    {
                                        "name": "AnalysisCode"
                                    },
                                    {
                                        "name": "GlbRFQ"
                                    },
                                    {
                                        "name": "WhseAllocFlag"
                                    },
                                    {
                                        "name": "WIReqDate"
                                    },
                                    {
                                        "name": "Rpt1BillableUnitPrice"
                                    },
                                    {
                                        "name": "Rpt2BillableUnitPrice"
                                    },
                                    {
                                        "name": "Rpt3BillableUnitPrice"
                                    },
                                    {
                                        "name": "Rpt1UnitPrice"
                                    },
                                    {
                                        "name": "Rpt2UnitPrice"
                                    },
                                    {
                                        "name": "Rpt3UnitPrice"
                                    },
                                    {
                                        "name": "BaseRequiredQty"
                                    },
                                    {
                                        "name": "BaseUOM"
                                    },
                                    {
                                        "name": "Weight"
                                    },
                                    {
                                        "name": "WeightUOM"
                                    },
                                    {
                                        "name": "ReqRefDes"
                                    },
                                    {
                                        "name": "BasePartNum"
                                    },
                                    {
                                        "name": "BaseRevisionNum"
                                    },
                                    {
                                        "name": "SelectForPicking"
                                    },
                                    {
                                        "name": "StagingWarehouseCode"
                                    },
                                    {
                                        "name": "StagingBinNum"
                                    },
                                    {
                                        "name": "PickError"
                                    },
                                    {
                                        "name": "EstMtlUnitCost"
                                    },
                                    {
                                        "name": "EstLbrUnitCost"
                                    },
                                    {
                                        "name": "EstBurUnitCost"
                                    },
                                    {
                                        "name": "EstSubUnitCost"
                                    },
                                    {
                                        "name": "SalvageEstMtlUnitCredit"
                                    },
                                    {
                                        "name": "SalvageEstLbrUnitCredit"
                                    },
                                    {
                                        "name": "SalvageEstBurUnitCredit"
                                    },
                                    {
                                        "name": "SalvageEstSubUnitCredit"
                                    },
                                    {
                                        "name": "LoanedQty"
                                    },
                                    {
                                        "name": "BorrowedQty"
                                    },
                                    {
                                        "name": "ReassignSNAsm"
                                    },
                                    {
                                        "name": "GeneralPlanInfo"
                                    },
                                    {
                                        "name": "EstStdDescription"
                                    },
                                    {
                                        "name": "PricingUOM"
                                    },
                                    {
                                        "name": "RemovedFromPlan"
                                    },
                                    {
                                        "name": "IsPOCostingMaintained"
                                    },
                                    {
                                        "name": "EstStdType"
                                    },
                                    {
                                        "name": "POCostingFactor"
                                    },
                                    {
                                        "name": "PlannedQtyPerUnit"
                                    },
                                    {
                                        "name": "POCostingDirection"
                                    },
                                    {
                                        "name": "POCostingUnitVal"
                                    },
                                    {
                                        "name": "GroupSeq"
                                    },
                                    {
                                        "name": "SysRevID"
                                    },
                                    {
                                        "name": "SysRowID"
                                    },
                                    {
                                        "name": "OrigStructTag"
                                    },
                                    {
                                        "name": "OrigGroupSeq"
                                    },
                                    {
                                        "name": "ShowStatusIcon"
                                    },
                                    {
                                        "name": "ContractID"
                                    },
                                    {
                                        "name": "LinkToContract"
                                    },
                                    {
                                        "name": "StagingLotNum"
                                    },
                                    {
                                        "name": "PCLinkRemoved"
                                    },
                                    {
                                        "name": "ExternalMESSyncRequired"
                                    },
                                    {
                                        "name": "ExternalMESLastSync"
                                    },
                                    {
                                        "name": "LocationView"
                                    },
                                    {
                                        "name": "AttributeSetID"
                                    },
                                    {
                                        "name": "PlanningNumberOfPieces"
                                    },
                                    {
                                        "name": "SalvageAttributeSetID"
                                    },
                                    {
                                        "name": "SalvagePlanningNumberOfPieces"
                                    },
                                    {
                                        "name": "SalvagePlanningAttributeSetID"
                                    },
                                    {
                                        "name": "OrderNum"
                                    },
                                    {
                                        "name": "OrderLine"
                                    },
                                    {
                                        "name": "OrderNumLine"
                                    },
                                    {
                                        "name": "ForeignKey2"
                                    },
                                    {
                                        "name": "DateStampedOn"
                                    },
                                    {
                                        "name": "Calculated_ChangeDate"
                                    },
                                    {
                                        "name": "ProjectID"
                                    },
                                    {
                                        "name": "Latest_ChangeDate"
                                    },
                                    {
                                        "name": "Latest_ChangeDateTime"
                                    }
                                ]
                            },
                            "data": [
                                {
                                    "0": "SOLAR",
                                    "1": "0",
                                    "2": "1",
                                    "3": "2230007-2-1",
                                    "4": "0",
                                    "5": "10",
                                    "6": "MFG MATERIAL",
                                    "7": "MFG MATERIAL",
                                    "8": "1.00000000",
                                    "9": "1.00000000",
                                    "10": "EA",
                                    "11": "0",
                                    "12": "0",
                                    "13": "0.00000",
                                    "14": "0.00000",
                                    "15": "0.00000",
                                    "16": "1.00000000",
                                    "17": "529510.000",
                                    "18": "0.000",
                                    "19": "2022-02-03",
                                    "20": "",
                                    "21": "",
                                    "22": "",
                                    "23": "0.00000000",
                                    "24": "",
                                    "25": "0.00000",
                                    "26": "0.00000",
                                    "27": "0.00000",
                                    "28": "0.00000000",
                                    "29": "0.000",
                                    "30": "0.000",
                                    "31": "",
                                    "32": "0",
                                    "33": "",
                                    "34": "0",
                                    "35": "0",
                                    "36": "",
                                    "37": "0",
                                    "38": "0.00",
                                    "39": "%",
                                    "40": "1",
                                    "41": "",
                                    "42": "A",
                                    "43": "0",
                                    "44": "0",
                                    "45": "MfgSys",
                                    "46": "0",
                                    "47": "529510.000",
                                    "48": "0.000",
                                    "49": "0.000",
                                    "50": "0.000",
                                    "51": "0.000",
                                    "52": "0.000",
                                    "53": "0.000",
                                    "54": "0.000",
                                    "55": "M",
                                    "56": "0",
                                    "57": "0",
                                    "58": "MFG",
                                    "59": "0.00000",
                                    "60": "0.00000",
                                    "61": "0.00000",
                                    "62": "",
                                    "63": "E",
                                    "64": "0",
                                    "65": "0.00000000",
                                    "66": "0.00000",
                                    "67": "0.00000000",
                                    "68": "0",
                                    "69": "1",
                                    "70": "MISC",
                                    "71": "",
                                    "72": "0",
                                    "73": "0",
                                    "74": "0",
                                    "75": "0",
                                    "76": "",
                                    "77": "",
                                    "78": "0",
                                    "79": "0",
                                    "80": "2022-02-03",
                                    "81": "0.00000",
                                    "82": "0.00000",
                                    "83": "0.00000",
                                    "84": "0.00000",
                                    "85": "0.00000",
                                    "86": "0.00000",
                                    "87": "1.00000000",
                                    "88": "EA",
                                    "89": "0.00000",
                                    "90": "",
                                    "91": "0",
                                    "92": "",
                                    "93": "",
                                    "94": "0",
                                    "95": "",
                                    "96": "",
                                    "97": "",
                                    "98": "0.00000",
                                    "99": "0.00000",
                                    "100": "0.00000",
                                    "101": "0.00000",
                                    "102": "0.00000",
                                    "103": "0.00000",
                                    "104": "0.00000",
                                    "105": "0.00000",
                                    "106": "0.00",
                                    "107": "0.00",
                                    "108": "0",
                                    "109": "",
                                    "110": "",
                                    "111": "",
                                    "112": "0",
                                    "113": "0",
                                    "114": "0",
                                    "115": "0.00000",
                                    "116": "0.00000",
                                    "117": "0",
                                    "118": "0.00000",
                                    "119": "0",
                                    "120": "0x000000032B31E111",
                                    "121": "b5ca4fbf-9feb-4e62-8aad-dd26329db123",
                                    "122": "",
                                    "123": "0",
                                    "124": "",
                                    "125": "",
                                    "126": "0",
                                    "127": "",
                                    "128": "0",
                                    "129": "1",
                                    "130": "NULL",
                                    "131": "0",
                                    "132": "0",
                                    "133": "0",
                                    "134": "0",
                                    "135": "0",
                                    "136": "0",
                                    "137": "2230007",
                                    "138": "2",
                                    "139": "2230007-2",
                                    "140": "2230007-2-1~0~10",
                                    "141": "2022-06-28",
                                    "142": "2022-07-22",
                                    "143": "2230007",
                                    "144": "2022-07-22",
                                    "145": "2022-07-22 00:00:00.000"
                                },
                                {
                                    "0": "SOLAR",
                                    "1": "0",
                                    "2": "1",
                                    "3": "2230007-2-1",
                                    "4": "0",
                                    "5": "10",
                                    "6": "MFG MATERIAL",
                                    "7": "MFG MATERIAL",
                                    "8": "1.00000000",
                                    "9": "1.00000000",
                                    "10": "EA",
                                    "11": "0",
                                    "12": "0",
                                    "13": "0.00000",
                                    "14": "0.00000",
                                    "15": "0.00000",
                                    "16": "1.00000000",
                                    "17": "529510.000",
                                    "18": "0.000",
                                    "19": "2022-02-03",
                                    "20": "",
                                    "21": "",
                                    "22": "",
                                    "23": "0.00000000",
                                    "24": "",
                                    "25": "0.00000",
                                    "26": "0.00000",
                                    "27": "0.00000",
                                    "28": "0.00000000",
                                    "29": "0.000",
                                    "30": "0.000",
                                    "31": "",
                                    "32": "0",
                                    "33": "",
                                    "34": "0",
                                    "35": "0",
                                    "36": "",
                                    "37": "0",
                                    "38": "0.00",
                                    "39": "%",
                                    "40": "1",
                                    "41": "",
                                    "42": "A",
                                    "43": "0",
                                    "44": "0",
                                    "45": "MfgSys",
                                    "46": "0",
                                    "47": "529510.000",
                                    "48": "0.000",
                                    "49": "0.000",
                                    "50": "0.000",
                                    "51": "0.000",
                                    "52": "0.000",
                                    "53": "0.000",
                                    "54": "0.000",
                                    "55": "M",
                                    "56": "0",
                                    "57": "0",
                                    "58": "MFG",
                                    "59": "0.00000",
                                    "60": "0.00000",
                                    "61": "0.00000",
                                    "62": "",
                                    "63": "E",
                                    "64": "0",
                                    "65": "0.00000000",
                                    "66": "0.00000",
                                    "67": "0.00000000",
                                    "68": "0",
                                    "69": "1",
                                    "70": "MISC",
                                    "71": "",
                                    "72": "0",
                                    "73": "0",
                                    "74": "0",
                                    "75": "0",
                                    "76": "",
                                    "77": "",
                                    "78": "0",
                                    "79": "0",
                                    "80": "2022-02-03",
                                    "81": "0.00000",
                                    "82": "0.00000",
                                    "83": "0.00000",
                                    "84": "0.00000",
                                    "85": "0.00000",
                                    "86": "0.00000",
                                    "87": "1.00000000",
                                    "88": "EA",
                                    "89": "0.00000",
                                    "90": "",
                                    "91": "0",
                                    "92": "",
                                    "93": "",
                                    "94": "0",
                                    "95": "",
                                    "96": "",
                                    "97": "",
                                    "98": "0.00000",
                                    "99": "0.00000",
                                    "100": "0.00000",
                                    "101": "0.00000",
                                    "102": "0.00000",
                                    "103": "0.00000",
                                    "104": "0.00000",
                                    "105": "0.00000",
                                    "106": "0.00",
                                    "107": "0.00",
                                    "108": "0",
                                    "109": "",
                                    "110": "",
                                    "111": "",
                                    "112": "0",
                                    "113": "0",
                                    "114": "0",
                                    "115": "0.00000",
                                    "116": "0.00000",
                                    "117": "0",
                                    "118": "0.00000",
                                    "119": "0",
                                    "120": "0x000000032B31E111",
                                    "121": "b5ca4fbf-9feb-4e62-8aad-dd26329db123",
                                    "122": "",
                                    "123": "0",
                                    "124": "",
                                    "125": "",
                                    "126": "0",
                                    "127": "",
                                    "128": "0",
                                    "129": "1",
                                    "130": "NULL",
                                    "131": "0",
                                    "132": "0",
                                    "133": "0",
                                    "134": "0",
                                    "135": "0",
                                    "136": "0",
                                    "137": "2230007",
                                    "138": "2",
                                    "139": "2230007-2",
                                    "140": "2230007-2-1~0~10",
                                    "141": "2022-06-28",
                                    "142": "2022-07-22",
                                    "143": "2230007",
                                    "144": "2022-07-22",
                                    "145": "2022-07-22 00:00:00.000"
                                },
                                {
                                    "0": "SOLAR",
                                    "1": "0",
                                    "2": "1",
                                    "3": "2230007-5-1",
                                    "4": "0",
                                    "5": "10",
                                    "6": "01000",
                                    "7": "Victor Antiveros",
                                    "8": "1.00000000",
                                    "9": "1.00000000",
                                    "10": "EA",
                                    "11": "0",
                                    "12": "0",
                                    "13": "0.00000",
                                    "14": "0.00000",
                                    "15": "244000.00000",
                                    "16": "1.00000000",
                                    "17": "104400.000",
                                    "18": "0.000",
                                    "19": "NULL",
                                    "20": "",
                                    "21": "",
                                    "22": "",
                                    "23": "0.00000000",
                                    "24": "",
                                    "25": "0.00000",
                                    "26": "0.00000",
                                    "27": "0.00000",
                                    "28": "0.00000000",
                                    "29": "0.000",
                                    "30": "0.000",
                                    "31": "",
                                    "32": "0",
                                    "33": "",
                                    "34": "0",
                                    "35": "0",
                                    "36": "",
                                    "37": "0",
                                    "38": "0.00",
                                    "39": "%",
                                    "40": "1",
                                    "41": "",
                                    "42": "",
                                    "43": "0",
                                    "44": "0",
                                    "45": "MfgSys",
                                    "46": "0",
                                    "47": "104400.000",
                                    "48": "0.000",
                                    "49": "0.000",
                                    "50": "0.000",
                                    "51": "0.000",
                                    "52": "0.000",
                                    "53": "0.000",
                                    "54": "0.000",
                                    "55": "M",
                                    "56": "0",
                                    "57": "0",
                                    "58": "",
                                    "59": "0.00000",
                                    "60": "0.00000",
                                    "61": "0.00000",
                                    "62": "",
                                    "63": "E",
                                    "64": "0",
                                    "65": "0.00000000",
                                    "66": "0.00000",
                                    "67": "0.00000000",
                                    "68": "0",
                                    "69": "1",
                                    "70": "MISC",
                                    "71": "",
                                    "72": "0",
                                    "73": "0",
                                    "74": "0",
                                    "75": "0",
                                    "76": "",
                                    "77": "",
                                    "78": "0",
                                    "79": "0",
                                    "80": "NULL",
                                    "81": "0.00000",
                                    "82": "0.00000",
                                    "83": "0.00000",
                                    "84": "0.00000",
                                    "85": "0.00000",
                                    "86": "0.00000",
                                    "87": "1.00000000",
                                    "88": "EA",
                                    "89": "0.00000",
                                    "90": "",
                                    "91": "0",
                                    "92": "",
                                    "93": "",
                                    "94": "0",
                                    "95": "",
                                    "96": "",
                                    "97": "",
                                    "98": "244000.00000",
                                    "99": "0.00000",
                                    "100": "0.00000",
                                    "101": "0.00000",
                                    "102": "0.00000",
                                    "103": "0.00000",
                                    "104": "0.00000",
                                    "105": "0.00000",
                                    "106": "0.00",
                                    "107": "0.00",
                                    "108": "0",
                                    "109": "",
                                    "110": "",
                                    "111": "",
                                    "112": "0",
                                    "113": "0",
                                    "114": "0",
                                    "115": "0.00000",
                                    "116": "0.00000",
                                    "117": "0",
                                    "118": "0.00000",
                                    "119": "0",
                                    "120": "0x000000033A125662",
                                    "121": "1af263af-fdf7-4225-9140-d73e5df47cb7",
                                    "122": "",
                                    "123": "0",
                                    "124": "",
                                    "125": "",
                                    "126": "0",
                                    "127": "",
                                    "128": "0",
                                    "129": "1",
                                    "130": "NULL",
                                    "131": "0",
                                    "132": "0",
                                    "133": "0",
                                    "134": "0",
                                    "135": "0",
                                    "136": "0",
                                    "137": "2230007",
                                    "138": "5",
                                    "139": "2230007-5",
                                    "140": "2230007-5-1~0~10",
                                    "141": "2022-07-26",
                                    "142": "2022-08-10",
                                    "143": "2230007",
                                    "144": "2022-08-10",
                                    "145": "2022-08-10 00:00:00.000"
                                },
                                {
                                    "0": "SOLAR",
                                    "1": "0",
                                    "2": "1",
                                    "3": "2230007-5-1",
                                    "4": "0",
                                    "5": "10",
                                    "6": "01000",
                                    "7": "Victor Antiveros",
                                    "8": "1.00000000",
                                    "9": "1.00000000",
                                    "10": "EA",
                                    "11": "0",
                                    "12": "0",
                                    "13": "0.00000",
                                    "14": "0.00000",
                                    "15": "244000.00000",
                                    "16": "1.00000000",
                                    "17": "104400.000",
                                    "18": "0.000",
                                    "19": "NULL",
                                    "20": "",
                                    "21": "",
                                    "22": "",
                                    "23": "0.00000000",
                                    "24": "",
                                    "25": "0.00000",
                                    "26": "0.00000",
                                    "27": "0.00000",
                                    "28": "0.00000000",
                                    "29": "0.000",
                                    "30": "0.000",
                                    "31": "",
                                    "32": "0",
                                    "33": "",
                                    "34": "0",
                                    "35": "0",
                                    "36": "",
                                    "37": "0",
                                    "38": "0.00",
                                    "39": "%",
                                    "40": "1",
                                    "41": "",
                                    "42": "",
                                    "43": "0",
                                    "44": "0",
                                    "45": "MfgSys",
                                    "46": "0",
                                    "47": "104400.000",
                                    "48": "0.000",
                                    "49": "0.000",
                                    "50": "0.000",
                                    "51": "0.000",
                                    "52": "0.000",
                                    "53": "0.000",
                                    "54": "0.000",
                                    "55": "M",
                                    "56": "0",
                                    "57": "0",
                                    "58": "",
                                    "59": "0.00000",
                                    "60": "0.00000",
                                    "61": "0.00000",
                                    "62": "",
                                    "63": "E",
                                    "64": "0",
                                    "65": "0.00000000",
                                    "66": "0.00000",
                                    "67": "0.00000000",
                                    "68": "0",
                                    "69": "1",
                                    "70": "MISC",
                                    "71": "",
                                    "72": "0",
                                    "73": "0",
                                    "74": "0",
                                    "75": "0",
                                    "76": "",
                                    "77": "",
                                    "78": "0",
                                    "79": "0",
                                    "80": "NULL",
                                    "81": "0.00000",
                                    "82": "0.00000",
                                    "83": "0.00000",
                                    "84": "0.00000",
                                    "85": "0.00000",
                                    "86": "0.00000",
                                    "87": "1.00000000",
                                    "88": "EA",
                                    "89": "0.00000",
                                    "90": "",
                                    "91": "0",
                                    "92": "",
                                    "93": "",
                                    "94": "0",
                                    "95": "",
                                    "96": "",
                                    "97": "",
                                    "98": "244000.00000",
                                    "99": "0.00000",
                                    "100": "0.00000",
                                    "101": "0.00000",
                                    "102": "0.00000",
                                    "103": "0.00000",
                                    "104": "0.00000",
                                    "105": "0.00000",
                                    "106": "0.00",
                                    "107": "0.00",
                                    "108": "0",
                                    "109": "",
                                    "110": "",
                                    "111": "",
                                    "112": "0",
                                    "113": "0",
                                    "114": "0",
                                    "115": "0.00000",
                                    "116": "0.00000",
                                    "117": "0",
                                    "118": "0.00000",
                                    "119": "0",
                                    "120": "0x000000033A125662",
                                    "121": "1af263af-fdf7-4225-9140-d73e5df47cb7",
                                    "122": "",
                                    "123": "0",
                                    "124": "",
                                    "125": "",
                                    "126": "0",
                                    "127": "",
                                    "128": "0",
                                    "129": "1",
                                    "130": "NULL",
                                    "131": "0",
                                    "132": "0",
                                    "133": "0",
                                    "134": "0",
                                    "135": "0",
                                    "136": "0",
                                    "137": "2230007",
                                    "138": "5",
                                    "139": "2230007-5",
                                    "140": "2230007-5-1~0~10",
                                    "141": "2022-07-26",
                                    "142": "2022-08-10",
                                    "143": "2230007",
                                    "144": "2022-08-10",
                                    "145": "2022-08-10 00:00:00.000"
                                }
                            ]
                        },
                        "text/html": "<table><tr><th>Company</th><th>JobComplete</th><th>IssuedComplete</th><th>JobNum</th><th>AssemblySeq</th><th>MtlSeq</th><th>PartNum</th><th>Description</th><th>QtyPer</th><th>RequiredQty</th><th>IUM</th><th>LeadTime</th><th>RelatedOperation</th><th>MtlBurRate</th><th>EstMtlBurUnitCost</th><th>EstUnitCost</th><th>IssuedQty</th><th>TotalCost</th><th>MtlBurCost</th><th>ReqDate</th><th>WarehouseCode</th><th>SalvagePartNum</th><th>SalvageDescription</th><th>SalvageQtyPer</th><th>SalvageUM</th><th>SalvageMtlBurRate</th><th>SalvageUnitCredit</th><th>SalvageEstMtlBurUnitCredit</th><th>SalvageQtyToDate</th><th>SalvageCredit</th><th>SalvageMtlBurCredit</th><th>MfgComment</th><th>VendorNum</th><th>PurPoint</th><th>BuyIt</th><th>Ordered</th><th>PurComment</th><th>BackFlush</th><th>EstScrap</th><th>EstScrapType</th><th>FixedQty</th><th>FindNum</th><th>RevisionNum</th><th>SndAlrtCmpl</th><th>RcvInspectionReq</th><th>Plant</th><th>Direct</th><th>MaterialMtlCost</th><th>MaterialLabCost</th><th>MaterialSubCost</th><th>MaterialBurCost</th><th>SalvageMtlCredit</th><th>SalvageLbrCredit</th><th>SalvageBurCredit</th><th>SalvageSubCredit</th><th>APSAddResType</th><th>CallNum</th><th>CallLine</th><th>ProdCode</th><th>UnitPrice</th><th>BillableUnitPrice</th><th>DocBillableUnitPrice</th><th>ResReasonCode</th><th>PricePerCode</th><th>Billable</th><th>ShippedQty</th><th>DocUnitPrice</th><th>QtyStagedToDate</th><th>AddedMtl</th><th>MiscCharge</th><th>MiscCode</th><th>SCMiscCode</th><th>RFQNeeded</th><th>RFQVendQuotes</th><th>RFQNum</th><th>RFQLine</th><th>RFQStat</th><th>AnalysisCode</th><th>GlbRFQ</th><th>WhseAllocFlag</th><th>WIReqDate</th><th>Rpt1BillableUnitPrice</th><th>Rpt2BillableUnitPrice</th><th>Rpt3BillableUnitPrice</th><th>Rpt1UnitPrice</th><th>Rpt2UnitPrice</th><th>Rpt3UnitPrice</th><th>BaseRequiredQty</th><th>BaseUOM</th><th>Weight</th><th>WeightUOM</th><th>ReqRefDes</th><th>BasePartNum</th><th>BaseRevisionNum</th><th>SelectForPicking</th><th>StagingWarehouseCode</th><th>StagingBinNum</th><th>PickError</th><th>EstMtlUnitCost</th><th>EstLbrUnitCost</th><th>EstBurUnitCost</th><th>EstSubUnitCost</th><th>SalvageEstMtlUnitCredit</th><th>SalvageEstLbrUnitCredit</th><th>SalvageEstBurUnitCredit</th><th>SalvageEstSubUnitCredit</th><th>LoanedQty</th><th>BorrowedQty</th><th>ReassignSNAsm</th><th>GeneralPlanInfo</th><th>EstStdDescription</th><th>PricingUOM</th><th>RemovedFromPlan</th><th>IsPOCostingMaintained</th><th>EstStdType</th><th>POCostingFactor</th><th>PlannedQtyPerUnit</th><th>POCostingDirection</th><th>POCostingUnitVal</th><th>GroupSeq</th><th>SysRevID</th><th>SysRowID</th><th>OrigStructTag</th><th>OrigGroupSeq</th><th>ShowStatusIcon</th><th>ContractID</th><th>LinkToContract</th><th>StagingLotNum</th><th>PCLinkRemoved</th><th>ExternalMESSyncRequired</th><th>ExternalMESLastSync</th><th>LocationView</th><th>AttributeSetID</th><th>PlanningNumberOfPieces</th><th>SalvageAttributeSetID</th><th>SalvagePlanningNumberOfPieces</th><th>SalvagePlanningAttributeSetID</th><th>OrderNum</th><th>OrderLine</th><th>OrderNumLine</th><th>ForeignKey2</th><th>DateStampedOn</th><th>Calculated_ChangeDate</th><th>ProjectID</th><th>Latest_ChangeDate</th><th>Latest_ChangeDateTime</th></tr><tr><td>SOLAR</td><td>0</td><td>1</td><td>2230007-2-1</td><td>0</td><td>10</td><td>MFG MATERIAL</td><td>MFG MATERIAL</td><td>1.00000000</td><td>1.00000000</td><td>EA</td><td>0</td><td>0</td><td>0.00000</td><td>0.00000</td><td>0.00000</td><td>1.00000000</td><td>529510.000</td><td>0.000</td><td>2022-02-03</td><td></td><td></td><td></td><td>0.00000000</td><td></td><td>0.00000</td><td>0.00000</td><td>0.00000</td><td>0.00000000</td><td>0.000</td><td>0.000</td><td></td><td>0</td><td></td><td>0</td><td>0</td><td></td><td>0</td><td>0.00</td><td>%</td><td>1</td><td></td><td>A</td><td>0</td><td>0</td><td>MfgSys</td><td>0</td><td>529510.000</td><td>0.000</td><td>0.000</td><td>0.000</td><td>0.000</td><td>0.000</td><td>0.000</td><td>0.000</td><td>M</td><td>0</td><td>0</td><td>MFG</td><td>0.00000</td><td>0.00000</td><td>0.00000</td><td></td><td>E</td><td>0</td><td>0.00000000</td><td>0.00000</td><td>0.00000000</td><td>0</td><td>1</td><td>MISC</td><td></td><td>0</td><td>0</td><td>0</td><td>0</td><td></td><td></td><td>0</td><td>0</td><td>2022-02-03</td><td>0.00000</td><td>0.00000</td><td>0.00000</td><td>0.00000</td><td>0.00000</td><td>0.00000</td><td>1.00000000</td><td>EA</td><td>0.00000</td><td></td><td>0</td><td></td><td></td><td>0</td><td></td><td></td><td></td><td>0.00000</td><td>0.00000</td><td>0.00000</td><td>0.00000</td><td>0.00000</td><td>0.00000</td><td>0.00000</td><td>0.00000</td><td>0.00</td><td>0.00</td><td>0</td><td></td><td></td><td></td><td>0</td><td>0</td><td>0</td><td>0.00000</td><td>0.00000</td><td>0</td><td>0.00000</td><td>0</td><td>0x000000032B31E111</td><td>b5ca4fbf-9feb-4e62-8aad-dd26329db123</td><td></td><td>0</td><td></td><td></td><td>0</td><td></td><td>0</td><td>1</td><td>NULL</td><td>0</td><td>0</td><td>0</td><td>0</td><td>0</td><td>0</td><td>2230007</td><td>2</td><td>2230007-2</td><td>2230007-2-1~0~10</td><td>2022-06-28</td><td>2022-07-22</td><td>2230007</td><td>2022-07-22</td><td>2022-07-22 00:00:00.000</td></tr><tr><td>SOLAR</td><td>0</td><td>1</td><td>2230007-2-1</td><td>0</td><td>10</td><td>MFG MATERIAL</td><td>MFG MATERIAL</td><td>1.00000000</td><td>1.00000000</td><td>EA</td><td>0</td><td>0</td><td>0.00000</td><td>0.00000</td><td>0.00000</td><td>1.00000000</td><td>529510.000</td><td>0.000</td><td>2022-02-03</td><td></td><td></td><td></td><td>0.00000000</td><td></td><td>0.00000</td><td>0.00000</td><td>0.00000</td><td>0.00000000</td><td>0.000</td><td>0.000</td><td></td><td>0</td><td></td><td>0</td><td>0</td><td></td><td>0</td><td>0.00</td><td>%</td><td>1</td><td></td><td>A</td><td>0</td><td>0</td><td>MfgSys</td><td>0</td><td>529510.000</td><td>0.000</td><td>0.000</td><td>0.000</td><td>0.000</td><td>0.000</td><td>0.000</td><td>0.000</td><td>M</td><td>0</td><td>0</td><td>MFG</td><td>0.00000</td><td>0.00000</td><td>0.00000</td><td></td><td>E</td><td>0</td><td>0.00000000</td><td>0.00000</td><td>0.00000000</td><td>0</td><td>1</td><td>MISC</td><td></td><td>0</td><td>0</td><td>0</td><td>0</td><td></td><td></td><td>0</td><td>0</td><td>2022-02-03</td><td>0.00000</td><td>0.00000</td><td>0.00000</td><td>0.00000</td><td>0.00000</td><td>0.00000</td><td>1.00000000</td><td>EA</td><td>0.00000</td><td></td><td>0</td><td></td><td></td><td>0</td><td></td><td></td><td></td><td>0.00000</td><td>0.00000</td><td>0.00000</td><td>0.00000</td><td>0.00000</td><td>0.00000</td><td>0.00000</td><td>0.00000</td><td>0.00</td><td>0.00</td><td>0</td><td></td><td></td><td></td><td>0</td><td>0</td><td>0</td><td>0.00000</td><td>0.00000</td><td>0</td><td>0.00000</td><td>0</td><td>0x000000032B31E111</td><td>b5ca4fbf-9feb-4e62-8aad-dd26329db123</td><td></td><td>0</td><td></td><td></td><td>0</td><td></td><td>0</td><td>1</td><td>NULL</td><td>0</td><td>0</td><td>0</td><td>0</td><td>0</td><td>0</td><td>2230007</td><td>2</td><td>2230007-2</td><td>2230007-2-1~0~10</td><td>2022-06-28</td><td>2022-07-22</td><td>2230007</td><td>2022-07-22</td><td>2022-07-22 00:00:00.000</td></tr><tr><td>SOLAR</td><td>0</td><td>1</td><td>2230007-5-1</td><td>0</td><td>10</td><td>01000</td><td>Victor Antiveros</td><td>1.00000000</td><td>1.00000000</td><td>EA</td><td>0</td><td>0</td><td>0.00000</td><td>0.00000</td><td>244000.00000</td><td>1.00000000</td><td>104400.000</td><td>0.000</td><td>NULL</td><td></td><td></td><td></td><td>0.00000000</td><td></td><td>0.00000</td><td>0.00000</td><td>0.00000</td><td>0.00000000</td><td>0.000</td><td>0.000</td><td></td><td>0</td><td></td><td>0</td><td>0</td><td></td><td>0</td><td>0.00</td><td>%</td><td>1</td><td></td><td></td><td>0</td><td>0</td><td>MfgSys</td><td>0</td><td>104400.000</td><td>0.000</td><td>0.000</td><td>0.000</td><td>0.000</td><td>0.000</td><td>0.000</td><td>0.000</td><td>M</td><td>0</td><td>0</td><td></td><td>0.00000</td><td>0.00000</td><td>0.00000</td><td></td><td>E</td><td>0</td><td>0.00000000</td><td>0.00000</td><td>0.00000000</td><td>0</td><td>1</td><td>MISC</td><td></td><td>0</td><td>0</td><td>0</td><td>0</td><td></td><td></td><td>0</td><td>0</td><td>NULL</td><td>0.00000</td><td>0.00000</td><td>0.00000</td><td>0.00000</td><td>0.00000</td><td>0.00000</td><td>1.00000000</td><td>EA</td><td>0.00000</td><td></td><td>0</td><td></td><td></td><td>0</td><td></td><td></td><td></td><td>244000.00000</td><td>0.00000</td><td>0.00000</td><td>0.00000</td><td>0.00000</td><td>0.00000</td><td>0.00000</td><td>0.00000</td><td>0.00</td><td>0.00</td><td>0</td><td></td><td></td><td></td><td>0</td><td>0</td><td>0</td><td>0.00000</td><td>0.00000</td><td>0</td><td>0.00000</td><td>0</td><td>0x000000033A125662</td><td>1af263af-fdf7-4225-9140-d73e5df47cb7</td><td></td><td>0</td><td></td><td></td><td>0</td><td></td><td>0</td><td>1</td><td>NULL</td><td>0</td><td>0</td><td>0</td><td>0</td><td>0</td><td>0</td><td>2230007</td><td>5</td><td>2230007-5</td><td>2230007-5-1~0~10</td><td>2022-07-26</td><td>2022-08-10</td><td>2230007</td><td>2022-08-10</td><td>2022-08-10 00:00:00.000</td></tr><tr><td>SOLAR</td><td>0</td><td>1</td><td>2230007-5-1</td><td>0</td><td>10</td><td>01000</td><td>Victor Antiveros</td><td>1.00000000</td><td>1.00000000</td><td>EA</td><td>0</td><td>0</td><td>0.00000</td><td>0.00000</td><td>244000.00000</td><td>1.00000000</td><td>104400.000</td><td>0.000</td><td>NULL</td><td></td><td></td><td></td><td>0.00000000</td><td></td><td>0.00000</td><td>0.00000</td><td>0.00000</td><td>0.00000000</td><td>0.000</td><td>0.000</td><td></td><td>0</td><td></td><td>0</td><td>0</td><td></td><td>0</td><td>0.00</td><td>%</td><td>1</td><td></td><td></td><td>0</td><td>0</td><td>MfgSys</td><td>0</td><td>104400.000</td><td>0.000</td><td>0.000</td><td>0.000</td><td>0.000</td><td>0.000</td><td>0.000</td><td>0.000</td><td>M</td><td>0</td><td>0</td><td></td><td>0.00000</td><td>0.00000</td><td>0.00000</td><td></td><td>E</td><td>0</td><td>0.00000000</td><td>0.00000</td><td>0.00000000</td><td>0</td><td>1</td><td>MISC</td><td></td><td>0</td><td>0</td><td>0</td><td>0</td><td></td><td></td><td>0</td><td>0</td><td>NULL</td><td>0.00000</td><td>0.00000</td><td>0.00000</td><td>0.00000</td><td>0.00000</td><td>0.00000</td><td>1.00000000</td><td>EA</td><td>0.00000</td><td></td><td>0</td><td></td><td></td><td>0</td><td></td><td></td><td></td><td>244000.00000</td><td>0.00000</td><td>0.00000</td><td>0.00000</td><td>0.00000</td><td>0.00000</td><td>0.00000</td><td>0.00000</td><td>0.00</td><td>0.00</td><td>0</td><td></td><td></td><td></td><td>0</td><td>0</td><td>0</td><td>0.00000</td><td>0.00000</td><td>0</td><td>0.00000</td><td>0</td><td>0x000000033A125662</td><td>1af263af-fdf7-4225-9140-d73e5df47cb7</td><td></td><td>0</td><td></td><td></td><td>0</td><td></td><td>0</td><td>1</td><td>NULL</td><td>0</td><td>0</td><td>0</td><td>0</td><td>0</td><td>0</td><td>2230007</td><td>5</td><td>2230007-5</td><td>2230007-5-1~0~10</td><td>2022-07-26</td><td>2022-08-10</td><td>2230007</td><td>2022-08-10</td><td>2022-08-10 00:00:00.000</td></tr></table>"
                    },
                    "metadata": {}
                }
            ],
            "execution_count": 2
        },
        {
            "cell_type": "code",
            "source": [
                "SELECT TOP (10) *\n",
                "  FROM [ERPDB].[erp].[JobMtl]\n",
                "  Where Company = 'Solar'\n",
                "    And JobNum like '2230007%'"
            ],
            "metadata": {
                "azdata_cell_guid": "453414fe-e70b-4eae-8235-f6d952b04fd5"
            },
            "outputs": [
                {
                    "output_type": "display_data",
                    "data": {
                        "text/html": "(2 rows affected)"
                    },
                    "metadata": {}
                },
                {
                    "output_type": "display_data",
                    "data": {
                        "text/html": "Total execution time: 00:00:00.092"
                    },
                    "metadata": {}
                },
                {
                    "output_type": "execute_result",
                    "execution_count": 3,
                    "data": {
                        "application/vnd.dataresource+json": {
                            "schema": {
                                "fields": [
                                    {
                                        "name": "Company"
                                    },
                                    {
                                        "name": "JobComplete"
                                    },
                                    {
                                        "name": "IssuedComplete"
                                    },
                                    {
                                        "name": "JobNum"
                                    },
                                    {
                                        "name": "AssemblySeq"
                                    },
                                    {
                                        "name": "MtlSeq"
                                    },
                                    {
                                        "name": "PartNum"
                                    },
                                    {
                                        "name": "Description"
                                    },
                                    {
                                        "name": "QtyPer"
                                    },
                                    {
                                        "name": "RequiredQty"
                                    },
                                    {
                                        "name": "IUM"
                                    },
                                    {
                                        "name": "LeadTime"
                                    },
                                    {
                                        "name": "RelatedOperation"
                                    },
                                    {
                                        "name": "MtlBurRate"
                                    },
                                    {
                                        "name": "EstMtlBurUnitCost"
                                    },
                                    {
                                        "name": "EstUnitCost"
                                    },
                                    {
                                        "name": "IssuedQty"
                                    },
                                    {
                                        "name": "TotalCost"
                                    },
                                    {
                                        "name": "MtlBurCost"
                                    },
                                    {
                                        "name": "ReqDate"
                                    },
                                    {
                                        "name": "WarehouseCode"
                                    },
                                    {
                                        "name": "SalvagePartNum"
                                    },
                                    {
                                        "name": "SalvageDescription"
                                    },
                                    {
                                        "name": "SalvageQtyPer"
                                    },
                                    {
                                        "name": "SalvageUM"
                                    },
                                    {
                                        "name": "SalvageMtlBurRate"
                                    },
                                    {
                                        "name": "SalvageUnitCredit"
                                    },
                                    {
                                        "name": "SalvageEstMtlBurUnitCredit"
                                    },
                                    {
                                        "name": "SalvageQtyToDate"
                                    },
                                    {
                                        "name": "SalvageCredit"
                                    },
                                    {
                                        "name": "SalvageMtlBurCredit"
                                    },
                                    {
                                        "name": "MfgComment"
                                    },
                                    {
                                        "name": "VendorNum"
                                    },
                                    {
                                        "name": "PurPoint"
                                    },
                                    {
                                        "name": "BuyIt"
                                    },
                                    {
                                        "name": "Ordered"
                                    },
                                    {
                                        "name": "PurComment"
                                    },
                                    {
                                        "name": "BackFlush"
                                    },
                                    {
                                        "name": "EstScrap"
                                    },
                                    {
                                        "name": "EstScrapType"
                                    },
                                    {
                                        "name": "FixedQty"
                                    },
                                    {
                                        "name": "FindNum"
                                    },
                                    {
                                        "name": "RevisionNum"
                                    },
                                    {
                                        "name": "SndAlrtCmpl"
                                    },
                                    {
                                        "name": "RcvInspectionReq"
                                    },
                                    {
                                        "name": "Plant"
                                    },
                                    {
                                        "name": "Direct"
                                    },
                                    {
                                        "name": "MaterialMtlCost"
                                    },
                                    {
                                        "name": "MaterialLabCost"
                                    },
                                    {
                                        "name": "MaterialSubCost"
                                    },
                                    {
                                        "name": "MaterialBurCost"
                                    },
                                    {
                                        "name": "SalvageMtlCredit"
                                    },
                                    {
                                        "name": "SalvageLbrCredit"
                                    },
                                    {
                                        "name": "SalvageBurCredit"
                                    },
                                    {
                                        "name": "SalvageSubCredit"
                                    },
                                    {
                                        "name": "APSAddResType"
                                    },
                                    {
                                        "name": "CallNum"
                                    },
                                    {
                                        "name": "CallLine"
                                    },
                                    {
                                        "name": "ProdCode"
                                    },
                                    {
                                        "name": "UnitPrice"
                                    },
                                    {
                                        "name": "BillableUnitPrice"
                                    },
                                    {
                                        "name": "DocBillableUnitPrice"
                                    },
                                    {
                                        "name": "ResReasonCode"
                                    },
                                    {
                                        "name": "PricePerCode"
                                    },
                                    {
                                        "name": "Billable"
                                    },
                                    {
                                        "name": "ShippedQty"
                                    },
                                    {
                                        "name": "DocUnitPrice"
                                    },
                                    {
                                        "name": "QtyStagedToDate"
                                    },
                                    {
                                        "name": "AddedMtl"
                                    },
                                    {
                                        "name": "MiscCharge"
                                    },
                                    {
                                        "name": "MiscCode"
                                    },
                                    {
                                        "name": "SCMiscCode"
                                    },
                                    {
                                        "name": "RFQNeeded"
                                    },
                                    {
                                        "name": "RFQVendQuotes"
                                    },
                                    {
                                        "name": "RFQNum"
                                    },
                                    {
                                        "name": "RFQLine"
                                    },
                                    {
                                        "name": "RFQStat"
                                    },
                                    {
                                        "name": "AnalysisCode"
                                    },
                                    {
                                        "name": "GlbRFQ"
                                    },
                                    {
                                        "name": "WhseAllocFlag"
                                    },
                                    {
                                        "name": "WIReqDate"
                                    },
                                    {
                                        "name": "Rpt1BillableUnitPrice"
                                    },
                                    {
                                        "name": "Rpt2BillableUnitPrice"
                                    },
                                    {
                                        "name": "Rpt3BillableUnitPrice"
                                    },
                                    {
                                        "name": "Rpt1UnitPrice"
                                    },
                                    {
                                        "name": "Rpt2UnitPrice"
                                    },
                                    {
                                        "name": "Rpt3UnitPrice"
                                    },
                                    {
                                        "name": "BaseRequiredQty"
                                    },
                                    {
                                        "name": "BaseUOM"
                                    },
                                    {
                                        "name": "Weight"
                                    },
                                    {
                                        "name": "WeightUOM"
                                    },
                                    {
                                        "name": "ReqRefDes"
                                    },
                                    {
                                        "name": "BasePartNum"
                                    },
                                    {
                                        "name": "BaseRevisionNum"
                                    },
                                    {
                                        "name": "SelectForPicking"
                                    },
                                    {
                                        "name": "StagingWarehouseCode"
                                    },
                                    {
                                        "name": "StagingBinNum"
                                    },
                                    {
                                        "name": "PickError"
                                    },
                                    {
                                        "name": "EstMtlUnitCost"
                                    },
                                    {
                                        "name": "EstLbrUnitCost"
                                    },
                                    {
                                        "name": "EstBurUnitCost"
                                    },
                                    {
                                        "name": "EstSubUnitCost"
                                    },
                                    {
                                        "name": "SalvageEstMtlUnitCredit"
                                    },
                                    {
                                        "name": "SalvageEstLbrUnitCredit"
                                    },
                                    {
                                        "name": "SalvageEstBurUnitCredit"
                                    },
                                    {
                                        "name": "SalvageEstSubUnitCredit"
                                    },
                                    {
                                        "name": "LoanedQty"
                                    },
                                    {
                                        "name": "BorrowedQty"
                                    },
                                    {
                                        "name": "ReassignSNAsm"
                                    },
                                    {
                                        "name": "GeneralPlanInfo"
                                    },
                                    {
                                        "name": "EstStdDescription"
                                    },
                                    {
                                        "name": "PricingUOM"
                                    },
                                    {
                                        "name": "RemovedFromPlan"
                                    },
                                    {
                                        "name": "IsPOCostingMaintained"
                                    },
                                    {
                                        "name": "EstStdType"
                                    },
                                    {
                                        "name": "POCostingFactor"
                                    },
                                    {
                                        "name": "PlannedQtyPerUnit"
                                    },
                                    {
                                        "name": "POCostingDirection"
                                    },
                                    {
                                        "name": "POCostingUnitVal"
                                    },
                                    {
                                        "name": "GroupSeq"
                                    },
                                    {
                                        "name": "SysRevID"
                                    },
                                    {
                                        "name": "SysRowID"
                                    },
                                    {
                                        "name": "OrigStructTag"
                                    },
                                    {
                                        "name": "OrigGroupSeq"
                                    },
                                    {
                                        "name": "ShowStatusIcon"
                                    },
                                    {
                                        "name": "ContractID"
                                    },
                                    {
                                        "name": "LinkToContract"
                                    },
                                    {
                                        "name": "StagingLotNum"
                                    },
                                    {
                                        "name": "PCLinkRemoved"
                                    },
                                    {
                                        "name": "ExternalMESSyncRequired"
                                    },
                                    {
                                        "name": "ExternalMESLastSync"
                                    },
                                    {
                                        "name": "LocationView"
                                    },
                                    {
                                        "name": "AttributeSetID"
                                    },
                                    {
                                        "name": "PlanningNumberOfPieces"
                                    },
                                    {
                                        "name": "SalvageAttributeSetID"
                                    },
                                    {
                                        "name": "SalvagePlanningNumberOfPieces"
                                    },
                                    {
                                        "name": "SalvagePlanningAttributeSetID"
                                    }
                                ]
                            },
                            "data": [
                                {
                                    "0": "SOLAR",
                                    "1": "0",
                                    "2": "1",
                                    "3": "2230007-2-1",
                                    "4": "0",
                                    "5": "10",
                                    "6": "MFG MATERIAL",
                                    "7": "MFG MATERIAL",
                                    "8": "1.00000000",
                                    "9": "1.00000000",
                                    "10": "EA",
                                    "11": "0",
                                    "12": "0",
                                    "13": "0.00000",
                                    "14": "0.00000",
                                    "15": "0.00000",
                                    "16": "1.00000000",
                                    "17": "529510.000",
                                    "18": "0.000",
                                    "19": "2022-02-03",
                                    "20": "",
                                    "21": "",
                                    "22": "",
                                    "23": "0.00000000",
                                    "24": "",
                                    "25": "0.00000",
                                    "26": "0.00000",
                                    "27": "0.00000",
                                    "28": "0.00000000",
                                    "29": "0.000",
                                    "30": "0.000",
                                    "31": "",
                                    "32": "0",
                                    "33": "",
                                    "34": "0",
                                    "35": "0",
                                    "36": "",
                                    "37": "0",
                                    "38": "0.00",
                                    "39": "%",
                                    "40": "1",
                                    "41": "",
                                    "42": "A",
                                    "43": "0",
                                    "44": "0",
                                    "45": "MfgSys",
                                    "46": "0",
                                    "47": "529510.000",
                                    "48": "0.000",
                                    "49": "0.000",
                                    "50": "0.000",
                                    "51": "0.000",
                                    "52": "0.000",
                                    "53": "0.000",
                                    "54": "0.000",
                                    "55": "M",
                                    "56": "0",
                                    "57": "0",
                                    "58": "MFG",
                                    "59": "0.00000",
                                    "60": "0.00000",
                                    "61": "0.00000",
                                    "62": "",
                                    "63": "E",
                                    "64": "0",
                                    "65": "0.00000000",
                                    "66": "0.00000",
                                    "67": "0.00000000",
                                    "68": "0",
                                    "69": "1",
                                    "70": "MISC",
                                    "71": "",
                                    "72": "0",
                                    "73": "0",
                                    "74": "0",
                                    "75": "0",
                                    "76": "",
                                    "77": "",
                                    "78": "0",
                                    "79": "0",
                                    "80": "2022-02-03",
                                    "81": "0.00000",
                                    "82": "0.00000",
                                    "83": "0.00000",
                                    "84": "0.00000",
                                    "85": "0.00000",
                                    "86": "0.00000",
                                    "87": "1.00000000",
                                    "88": "EA",
                                    "89": "0.00000",
                                    "90": "",
                                    "91": "0",
                                    "92": "",
                                    "93": "",
                                    "94": "0",
                                    "95": "",
                                    "96": "",
                                    "97": "",
                                    "98": "0.00000",
                                    "99": "0.00000",
                                    "100": "0.00000",
                                    "101": "0.00000",
                                    "102": "0.00000",
                                    "103": "0.00000",
                                    "104": "0.00000",
                                    "105": "0.00000",
                                    "106": "0.00",
                                    "107": "0.00",
                                    "108": "0",
                                    "109": "",
                                    "110": "",
                                    "111": "",
                                    "112": "0",
                                    "113": "0",
                                    "114": "0",
                                    "115": "0.00000",
                                    "116": "0.00000",
                                    "117": "0",
                                    "118": "0.00000",
                                    "119": "0",
                                    "120": "0x000000032B31E111",
                                    "121": "b5ca4fbf-9feb-4e62-8aad-dd26329db123",
                                    "122": "",
                                    "123": "0",
                                    "124": "",
                                    "125": "",
                                    "126": "0",
                                    "127": "",
                                    "128": "0",
                                    "129": "1",
                                    "130": "NULL",
                                    "131": "0",
                                    "132": "0",
                                    "133": "0",
                                    "134": "0",
                                    "135": "0",
                                    "136": "0"
                                },
                                {
                                    "0": "SOLAR",
                                    "1": "0",
                                    "2": "1",
                                    "3": "2230007-5-1",
                                    "4": "0",
                                    "5": "10",
                                    "6": "01000",
                                    "7": "Victor Antiveros",
                                    "8": "1.00000000",
                                    "9": "1.00000000",
                                    "10": "EA",
                                    "11": "0",
                                    "12": "0",
                                    "13": "0.00000",
                                    "14": "0.00000",
                                    "15": "244000.00000",
                                    "16": "1.00000000",
                                    "17": "104400.000",
                                    "18": "0.000",
                                    "19": "NULL",
                                    "20": "",
                                    "21": "",
                                    "22": "",
                                    "23": "0.00000000",
                                    "24": "",
                                    "25": "0.00000",
                                    "26": "0.00000",
                                    "27": "0.00000",
                                    "28": "0.00000000",
                                    "29": "0.000",
                                    "30": "0.000",
                                    "31": "",
                                    "32": "0",
                                    "33": "",
                                    "34": "0",
                                    "35": "0",
                                    "36": "",
                                    "37": "0",
                                    "38": "0.00",
                                    "39": "%",
                                    "40": "1",
                                    "41": "",
                                    "42": "",
                                    "43": "0",
                                    "44": "0",
                                    "45": "MfgSys",
                                    "46": "0",
                                    "47": "104400.000",
                                    "48": "0.000",
                                    "49": "0.000",
                                    "50": "0.000",
                                    "51": "0.000",
                                    "52": "0.000",
                                    "53": "0.000",
                                    "54": "0.000",
                                    "55": "M",
                                    "56": "0",
                                    "57": "0",
                                    "58": "",
                                    "59": "0.00000",
                                    "60": "0.00000",
                                    "61": "0.00000",
                                    "62": "",
                                    "63": "E",
                                    "64": "0",
                                    "65": "0.00000000",
                                    "66": "0.00000",
                                    "67": "0.00000000",
                                    "68": "0",
                                    "69": "1",
                                    "70": "MISC",
                                    "71": "",
                                    "72": "0",
                                    "73": "0",
                                    "74": "0",
                                    "75": "0",
                                    "76": "",
                                    "77": "",
                                    "78": "0",
                                    "79": "0",
                                    "80": "NULL",
                                    "81": "0.00000",
                                    "82": "0.00000",
                                    "83": "0.00000",
                                    "84": "0.00000",
                                    "85": "0.00000",
                                    "86": "0.00000",
                                    "87": "1.00000000",
                                    "88": "EA",
                                    "89": "0.00000",
                                    "90": "",
                                    "91": "0",
                                    "92": "",
                                    "93": "",
                                    "94": "0",
                                    "95": "",
                                    "96": "",
                                    "97": "",
                                    "98": "244000.00000",
                                    "99": "0.00000",
                                    "100": "0.00000",
                                    "101": "0.00000",
                                    "102": "0.00000",
                                    "103": "0.00000",
                                    "104": "0.00000",
                                    "105": "0.00000",
                                    "106": "0.00",
                                    "107": "0.00",
                                    "108": "0",
                                    "109": "",
                                    "110": "",
                                    "111": "",
                                    "112": "0",
                                    "113": "0",
                                    "114": "0",
                                    "115": "0.00000",
                                    "116": "0.00000",
                                    "117": "0",
                                    "118": "0.00000",
                                    "119": "0",
                                    "120": "0x000000033A125662",
                                    "121": "1af263af-fdf7-4225-9140-d73e5df47cb7",
                                    "122": "",
                                    "123": "0",
                                    "124": "",
                                    "125": "",
                                    "126": "0",
                                    "127": "",
                                    "128": "0",
                                    "129": "1",
                                    "130": "NULL",
                                    "131": "0",
                                    "132": "0",
                                    "133": "0",
                                    "134": "0",
                                    "135": "0",
                                    "136": "0"
                                }
                            ]
                        },
                        "text/html": "<table><tr><th>Company</th><th>JobComplete</th><th>IssuedComplete</th><th>JobNum</th><th>AssemblySeq</th><th>MtlSeq</th><th>PartNum</th><th>Description</th><th>QtyPer</th><th>RequiredQty</th><th>IUM</th><th>LeadTime</th><th>RelatedOperation</th><th>MtlBurRate</th><th>EstMtlBurUnitCost</th><th>EstUnitCost</th><th>IssuedQty</th><th>TotalCost</th><th>MtlBurCost</th><th>ReqDate</th><th>WarehouseCode</th><th>SalvagePartNum</th><th>SalvageDescription</th><th>SalvageQtyPer</th><th>SalvageUM</th><th>SalvageMtlBurRate</th><th>SalvageUnitCredit</th><th>SalvageEstMtlBurUnitCredit</th><th>SalvageQtyToDate</th><th>SalvageCredit</th><th>SalvageMtlBurCredit</th><th>MfgComment</th><th>VendorNum</th><th>PurPoint</th><th>BuyIt</th><th>Ordered</th><th>PurComment</th><th>BackFlush</th><th>EstScrap</th><th>EstScrapType</th><th>FixedQty</th><th>FindNum</th><th>RevisionNum</th><th>SndAlrtCmpl</th><th>RcvInspectionReq</th><th>Plant</th><th>Direct</th><th>MaterialMtlCost</th><th>MaterialLabCost</th><th>MaterialSubCost</th><th>MaterialBurCost</th><th>SalvageMtlCredit</th><th>SalvageLbrCredit</th><th>SalvageBurCredit</th><th>SalvageSubCredit</th><th>APSAddResType</th><th>CallNum</th><th>CallLine</th><th>ProdCode</th><th>UnitPrice</th><th>BillableUnitPrice</th><th>DocBillableUnitPrice</th><th>ResReasonCode</th><th>PricePerCode</th><th>Billable</th><th>ShippedQty</th><th>DocUnitPrice</th><th>QtyStagedToDate</th><th>AddedMtl</th><th>MiscCharge</th><th>MiscCode</th><th>SCMiscCode</th><th>RFQNeeded</th><th>RFQVendQuotes</th><th>RFQNum</th><th>RFQLine</th><th>RFQStat</th><th>AnalysisCode</th><th>GlbRFQ</th><th>WhseAllocFlag</th><th>WIReqDate</th><th>Rpt1BillableUnitPrice</th><th>Rpt2BillableUnitPrice</th><th>Rpt3BillableUnitPrice</th><th>Rpt1UnitPrice</th><th>Rpt2UnitPrice</th><th>Rpt3UnitPrice</th><th>BaseRequiredQty</th><th>BaseUOM</th><th>Weight</th><th>WeightUOM</th><th>ReqRefDes</th><th>BasePartNum</th><th>BaseRevisionNum</th><th>SelectForPicking</th><th>StagingWarehouseCode</th><th>StagingBinNum</th><th>PickError</th><th>EstMtlUnitCost</th><th>EstLbrUnitCost</th><th>EstBurUnitCost</th><th>EstSubUnitCost</th><th>SalvageEstMtlUnitCredit</th><th>SalvageEstLbrUnitCredit</th><th>SalvageEstBurUnitCredit</th><th>SalvageEstSubUnitCredit</th><th>LoanedQty</th><th>BorrowedQty</th><th>ReassignSNAsm</th><th>GeneralPlanInfo</th><th>EstStdDescription</th><th>PricingUOM</th><th>RemovedFromPlan</th><th>IsPOCostingMaintained</th><th>EstStdType</th><th>POCostingFactor</th><th>PlannedQtyPerUnit</th><th>POCostingDirection</th><th>POCostingUnitVal</th><th>GroupSeq</th><th>SysRevID</th><th>SysRowID</th><th>OrigStructTag</th><th>OrigGroupSeq</th><th>ShowStatusIcon</th><th>ContractID</th><th>LinkToContract</th><th>StagingLotNum</th><th>PCLinkRemoved</th><th>ExternalMESSyncRequired</th><th>ExternalMESLastSync</th><th>LocationView</th><th>AttributeSetID</th><th>PlanningNumberOfPieces</th><th>SalvageAttributeSetID</th><th>SalvagePlanningNumberOfPieces</th><th>SalvagePlanningAttributeSetID</th></tr><tr><td>SOLAR</td><td>0</td><td>1</td><td>2230007-2-1</td><td>0</td><td>10</td><td>MFG MATERIAL</td><td>MFG MATERIAL</td><td>1.00000000</td><td>1.00000000</td><td>EA</td><td>0</td><td>0</td><td>0.00000</td><td>0.00000</td><td>0.00000</td><td>1.00000000</td><td>529510.000</td><td>0.000</td><td>2022-02-03</td><td></td><td></td><td></td><td>0.00000000</td><td></td><td>0.00000</td><td>0.00000</td><td>0.00000</td><td>0.00000000</td><td>0.000</td><td>0.000</td><td></td><td>0</td><td></td><td>0</td><td>0</td><td></td><td>0</td><td>0.00</td><td>%</td><td>1</td><td></td><td>A</td><td>0</td><td>0</td><td>MfgSys</td><td>0</td><td>529510.000</td><td>0.000</td><td>0.000</td><td>0.000</td><td>0.000</td><td>0.000</td><td>0.000</td><td>0.000</td><td>M</td><td>0</td><td>0</td><td>MFG</td><td>0.00000</td><td>0.00000</td><td>0.00000</td><td></td><td>E</td><td>0</td><td>0.00000000</td><td>0.00000</td><td>0.00000000</td><td>0</td><td>1</td><td>MISC</td><td></td><td>0</td><td>0</td><td>0</td><td>0</td><td></td><td></td><td>0</td><td>0</td><td>2022-02-03</td><td>0.00000</td><td>0.00000</td><td>0.00000</td><td>0.00000</td><td>0.00000</td><td>0.00000</td><td>1.00000000</td><td>EA</td><td>0.00000</td><td></td><td>0</td><td></td><td></td><td>0</td><td></td><td></td><td></td><td>0.00000</td><td>0.00000</td><td>0.00000</td><td>0.00000</td><td>0.00000</td><td>0.00000</td><td>0.00000</td><td>0.00000</td><td>0.00</td><td>0.00</td><td>0</td><td></td><td></td><td></td><td>0</td><td>0</td><td>0</td><td>0.00000</td><td>0.00000</td><td>0</td><td>0.00000</td><td>0</td><td>0x000000032B31E111</td><td>b5ca4fbf-9feb-4e62-8aad-dd26329db123</td><td></td><td>0</td><td></td><td></td><td>0</td><td></td><td>0</td><td>1</td><td>NULL</td><td>0</td><td>0</td><td>0</td><td>0</td><td>0</td><td>0</td></tr><tr><td>SOLAR</td><td>0</td><td>1</td><td>2230007-5-1</td><td>0</td><td>10</td><td>01000</td><td>Victor Antiveros</td><td>1.00000000</td><td>1.00000000</td><td>EA</td><td>0</td><td>0</td><td>0.00000</td><td>0.00000</td><td>244000.00000</td><td>1.00000000</td><td>104400.000</td><td>0.000</td><td>NULL</td><td></td><td></td><td></td><td>0.00000000</td><td></td><td>0.00000</td><td>0.00000</td><td>0.00000</td><td>0.00000000</td><td>0.000</td><td>0.000</td><td></td><td>0</td><td></td><td>0</td><td>0</td><td></td><td>0</td><td>0.00</td><td>%</td><td>1</td><td></td><td></td><td>0</td><td>0</td><td>MfgSys</td><td>0</td><td>104400.000</td><td>0.000</td><td>0.000</td><td>0.000</td><td>0.000</td><td>0.000</td><td>0.000</td><td>0.000</td><td>M</td><td>0</td><td>0</td><td></td><td>0.00000</td><td>0.00000</td><td>0.00000</td><td></td><td>E</td><td>0</td><td>0.00000000</td><td>0.00000</td><td>0.00000000</td><td>0</td><td>1</td><td>MISC</td><td></td><td>0</td><td>0</td><td>0</td><td>0</td><td></td><td></td><td>0</td><td>0</td><td>NULL</td><td>0.00000</td><td>0.00000</td><td>0.00000</td><td>0.00000</td><td>0.00000</td><td>0.00000</td><td>1.00000000</td><td>EA</td><td>0.00000</td><td></td><td>0</td><td></td><td></td><td>0</td><td></td><td></td><td></td><td>244000.00000</td><td>0.00000</td><td>0.00000</td><td>0.00000</td><td>0.00000</td><td>0.00000</td><td>0.00000</td><td>0.00000</td><td>0.00</td><td>0.00</td><td>0</td><td></td><td></td><td></td><td>0</td><td>0</td><td>0</td><td>0.00000</td><td>0.00000</td><td>0</td><td>0.00000</td><td>0</td><td>0x000000033A125662</td><td>1af263af-fdf7-4225-9140-d73e5df47cb7</td><td></td><td>0</td><td></td><td></td><td>0</td><td></td><td>0</td><td>1</td><td>NULL</td><td>0</td><td>0</td><td>0</td><td>0</td><td>0</td><td>0</td></tr></table>"
                    },
                    "metadata": {}
                }
            ],
            "execution_count": 3
        }
    ]
}