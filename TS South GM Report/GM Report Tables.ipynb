{
    "metadata": {
        "kernelspec": {
            "name": "SQL",
            "display_name": "SQL",
            "language": "sql"
        },
        "language_info": {
            "name": "sql",
            "version": ""
        }
    },
    "nbformat_minor": 2,
    "nbformat": 4,
    "cells": [
        {
            "cell_type": "markdown",
            "source": [
                "# <mark>**MAGIC SAUCE FOR ProjectPhaseGrossMarginFACT**</mark>\n",
                "\n",
                "<mark></mark>"
            ],
            "metadata": {
                "language": "sql",
                "azdata_cell_guid": "9120ac67-407d-44b7-97f4-b894cf7f5c4d"
            },
            "attachments": {}
        },
        {
            "cell_type": "code",
            "source": [
                "Declare @ProjectID Varchar(50)\r\n",
                "Set @ProjectID = '22221929';\r\n",
                "Declare @Company Varchar(50)\r\n",
                "Set @Company = 'Solar';\r\n",
                "\r\n",
                "--Get Open Job Demands for Project for each job Assembly and Material sequence for each Order Line\r\n",
                "With OpenJobDemandsDetail AS\r\n",
                "(Select \r\n",
                "    Company, \r\n",
                "    ProjectID,\r\n",
                "    OrderNum,\r\n",
                "    OrderLine,\r\n",
                "    (Case\r\n",
                "         When (EstUnitCost*(RequiredQty-IssuedQty)) >= 0 Then  (EstUnitCost*(RequiredQty-IssuedQty))\r\n",
                "         Else 0\r\n",
                "    ENd) as OpenJobDemands,\r\n",
                "    (EstUnitCost*RequiredQty) as EstimatedJobDemands\r\n",
                "FROM [ERPDB].[etl].[vwJobMtlChange]\r\n",
                "WHERE 1=1\r\n",
                "/*******************************************************************\r\n",
                "Had to put these In here because of an error getting returned on \r\n",
                "converting Varchar to INT in this part of the query.  How to Solve?\r\n",
                "*******************************************************************/\r\n",
                "    and ProjectID = @ProjectID\r\n",
                "    and Company = @Company\r\n",
                "),\r\n",
                "\r\n",
                "\r\n",
                "\r\n",
                "--Summarize the Open Job Demands by orderline for comparison vs the actual costs on each order line\r\n",
                "OpenJobDemands AS\r\n",
                "(Select \r\n",
                "    Company,\r\n",
                "    ProjectID,\r\n",
                "    OrderNum,\r\n",
                "    OrderLine,\r\n",
                "    SUM(OpenJobDemands) as OpenJobDemands,\r\n",
                "    SUM(EstimatedJobDemands) as EstimatedJobDemands\r\n",
                "From OpenJobDemandsDetail\r\n",
                "Group by Company, ProjectID, OrderNum, OrderLine\r\n",
                "),\r\n",
                "\r\n",
                "ProjectPhaseOrderLines as\r\n",
                "(SELECT DISTINCT\r\n",
                "    pp.Company,\r\n",
                "    pp.ProjectID,\r\n",
                "    Case\r\n",
                "        When CHARINDEX('.',pp.PhaseID) = 0 then LEN(pp.PhaseID)\r\n",
                "        ELSE LEFT(pp.PhaseID,CHARINDEX('.',pp.PhaseID) - 1) \r\n",
                "    END as ParentPhaseID,\r\n",
                "    pp.OrderNum,\r\n",
                "    pp.OrderLine,\r\n",
                "    SUM(ojd.OpenJobDemands) as OpenJobDemands,\r\n",
                "    SUM(ojd.EstimatedJobDemands) as EstimatedJobDemands\r\n",
                "FROM ERPDB.ERP.ProjPhase pp\r\n",
                "LEFT JOIN OpenJobDemands ojd\r\n",
                "    On pp.Company = ojd.Company and pp.OrderNum = ojd.OrderNum and pp.OrderLine = ojd.OrderLine\r\n",
                "WHERE 1=1\r\n",
                "    and pp.ProjectID = @ProjectID\r\n",
                "    and pp.Company = @Company\r\n",
                "    and pp.OrderNum <> 0\r\n",
                "GROUP BY pp.Company, pp.ProjectID, pp.PhaseID, pp.OrderNum, pp.OrderLine\r\n",
                "),\r\n",
                "\r\n",
                "ProjectPhaseDemands as\r\n",
                "(Select \r\n",
                "    ppol.Company,\r\n",
                "    ppol.ProjectID,\r\n",
                "    ppol.ParentPhaseID,\r\n",
                "    SUM(ppol.OpenJobDemands) as OpenJobDemands,\r\n",
                "    SUM(ppol.EstimatedJobDemands) as EstimatedJobDemands\r\n",
                "FROM ProjectPhaseOrderLines  ppol\r\n",
                "Group by Company, ProjectID, ParentPhaseID\r\n",
                "),\r\n",
                "\r\n",
                "ProjectPhaseRollup AS\r\n",
                "(SELECT    \r\n",
                "        Company,\r\n",
                "        ProjectID,\r\n",
                "        PhaseID,\r\n",
                "        [Description],\r\n",
                "        OrderNum,\r\n",
                "        OrderLine,\r\n",
                "        SUM(BudTotLbrCost + BudTotBurCost + BudTotSubCost + BudTotMtlCost + BudTotMtlBurCost + BudTotODCCost) as BudgetedCosts,\r\n",
                "        SUM(TotQuotODCCost + TotQuotLbrCost + TotQuotBurCost + TotQuotSubContCost + TotQuotMtlCost+ TotQuotMtlBurCost) as QuotedCosts,\r\n",
                "        SUM([TotActLbrCost]+[TotActBurCost]+[TotActSubContCost]+[TotActMtlCost]+[TotActMtlBurCost]+[TotActODCCost]) as ActualCost,\r\n",
                "        SUM(TotWBSPhaseRev) as SellPrice\r\n",
                "FROM ERPDB.ERP.ProjPhase\r\n",
                "    -- Where clause for Level only includes project phases at the top level which are already Summarized from lower levels\r\n",
                "WHERE Level = 1\r\n",
                "GROUP BY Company, ProjectID, PhaseID, [Description], OrderNum, OrderLine\r\n",
                ")\r\n",
                "\r\n",
                "SELECT \r\n",
                "       pp.Company,\r\n",
                "       pp.ProjectID,\r\n",
                "       pp.PhaseID,\r\n",
                "       pp.[Description],\r\n",
                "       --pp.OrderNum,\r\n",
                "       --pp.OrderLine,\r\n",
                "       SUM(pp.SellPrice) as TotalSellPrice,\r\n",
                "       SUM(pp.QuotedCosts) as TotalQuotedCosts,\r\n",
                "       SUM(pp.ActualCost) as TotalActualCosts,\r\n",
                "       SUM(pp.BudgetedCosts) as TotalBudgetedCosts,\r\n",
                "       SUM(COALESCE(ppd.OpenJobDemands,0)) as OpenJobDemands,\r\n",
                "       SUM(COALESCE(ppd.OpenJobDemands,0) + COALESCE(pp.ActualCost,0)) as ActualCostsandOpenJobDemands,\r\n",
                "       SUM(COALESCE(ppd.EstimatedJobDemands,0)) as EstimatedCosts\r\n",
                "FROM ProjectPhaseRollup pp\r\n",
                "LEFT JOIN ProjectPhaseDemands ppd\r\n",
                "    ON pp.ProjectID = ppd.ProjectID and pp.PhaseID = ppd.ParentPhaseID and pp.Company = ppd.Company\r\n",
                "WHERE 1=1\r\n",
                "    and pp.ProjectID = @ProjectID\r\n",
                "    and pp.Company = @Company\r\n",
                "GROUP BY pp.Company, pp.ProjectID, pp.PhaseID, pp.[Description]\r\n",
                "\r\n",
                ""
            ],
            "metadata": {
                "language": "sql",
                "azdata_cell_guid": "69d16e71-ef56-4a27-b9b8-48db968aaf19",
                "tags": []
            },
            "outputs": [
                {
                    "output_type": "display_data",
                    "data": {
                        "text/html": "Warning: Null value is eliminated by an aggregate or other SET operation."
                    },
                    "metadata": {}
                },
                {
                    "output_type": "display_data",
                    "data": {
                        "text/html": "(5 rows affected)"
                    },
                    "metadata": {}
                },
                {
                    "output_type": "display_data",
                    "data": {
                        "text/html": "Total execution time: 00:00:08.191"
                    },
                    "metadata": {}
                },
                {
                    "output_type": "execute_result",
                    "metadata": {},
                    "execution_count": 35,
                    "data": {
                        "application/vnd.dataresource+json": {
                            "schema": {
                                "fields": [
                                    {
                                        "name": "Company"
                                    },
                                    {
                                        "name": "ProjectID"
                                    },
                                    {
                                        "name": "PhaseID"
                                    },
                                    {
                                        "name": "Description"
                                    },
                                    {
                                        "name": "TotalSellPrice"
                                    },
                                    {
                                        "name": "TotalQuotedCosts"
                                    },
                                    {
                                        "name": "TotalActualCosts"
                                    },
                                    {
                                        "name": "TotalBudgetedCosts"
                                    },
                                    {
                                        "name": "OpenJobDemands"
                                    },
                                    {
                                        "name": "ActualCostsandOpenJobDemands"
                                    },
                                    {
                                        "name": "EstimatedCosts"
                                    }
                                ]
                            },
                            "data": [
                                {
                                    "0": "SOLAR",
                                    "1": "22221929",
                                    "2": "",
                                    "3": "Root Phase",
                                    "4": "0.000",
                                    "5": "0.000",
                                    "6": "0.000",
                                    "7": "0.000",
                                    "8": "0.0000000000",
                                    "9": "0.000",
                                    "10": "0.00000000000"
                                },
                                {
                                    "0": "SOLAR",
                                    "1": "22221929",
                                    "2": "1",
                                    "3": "Design",
                                    "4": "1250.000",
                                    "5": "400.000",
                                    "6": "0.000",
                                    "7": "400.000",
                                    "8": "0.0000000000",
                                    "9": "0.000",
                                    "10": "0.00000000000"
                                },
                                {
                                    "0": "SOLAR",
                                    "1": "22221929",
                                    "2": "2",
                                    "3": "Material",
                                    "4": "530213.400",
                                    "5": "378708.450",
                                    "6": "279321.180",
                                    "7": "318959.050",
                                    "8": "766.2980000000",
                                    "9": "280087.478",
                                    "10": "64221.69528000000"
                                },
                                {
                                    "0": "SOLAR",
                                    "1": "22221929",
                                    "2": "3",
                                    "3": "Freight",
                                    "4": "74266.000",
                                    "5": "57345.820",
                                    "6": "40473.210",
                                    "7": "57345.820",
                                    "8": "0.0000000000",
                                    "9": "40473.210",
                                    "10": "0.00000000000"
                                },
                                {
                                    "0": "SOLAR",
                                    "1": "22221929",
                                    "2": "4",
                                    "3": "Install",
                                    "4": "116100.000",
                                    "5": "78762.030",
                                    "6": "99615.270",
                                    "7": "98762.030",
                                    "8": "0.0000000000",
                                    "9": "99615.270",
                                    "10": "0.00000000000"
                                }
                            ]
                        },
                        "text/html": [
                            "<table>",
                            "<tr><th>Company</th><th>ProjectID</th><th>PhaseID</th><th>Description</th><th>TotalSellPrice</th><th>TotalQuotedCosts</th><th>TotalActualCosts</th><th>TotalBudgetedCosts</th><th>OpenJobDemands</th><th>ActualCostsandOpenJobDemands</th><th>EstimatedCosts</th></tr>",
                            "<tr><td>SOLAR</td><td>22221929</td><td></td><td>Root Phase</td><td>0.000</td><td>0.000</td><td>0.000</td><td>0.000</td><td>0.0000000000</td><td>0.000</td><td>0.00000000000</td></tr>",
                            "<tr><td>SOLAR</td><td>22221929</td><td>1</td><td>Design</td><td>1250.000</td><td>400.000</td><td>0.000</td><td>400.000</td><td>0.0000000000</td><td>0.000</td><td>0.00000000000</td></tr>",
                            "<tr><td>SOLAR</td><td>22221929</td><td>2</td><td>Material</td><td>530213.400</td><td>378708.450</td><td>279321.180</td><td>318959.050</td><td>766.2980000000</td><td>280087.478</td><td>64221.69528000000</td></tr>",
                            "<tr><td>SOLAR</td><td>22221929</td><td>3</td><td>Freight</td><td>74266.000</td><td>57345.820</td><td>40473.210</td><td>57345.820</td><td>0.0000000000</td><td>40473.210</td><td>0.00000000000</td></tr>",
                            "<tr><td>SOLAR</td><td>22221929</td><td>4</td><td>Install</td><td>116100.000</td><td>78762.030</td><td>99615.270</td><td>98762.030</td><td>0.0000000000</td><td>99615.270</td><td>0.00000000000</td></tr>",
                            "</table>"
                        ]
                    }
                }
            ],
            "execution_count": 35
        },
        {
            "cell_type": "markdown",
            "source": [
                "**Joining the ProjectPhase Estimated Costs on the OrderLine Detail**"
            ],
            "metadata": {
                "language": "sql",
                "azdata_cell_guid": "1240215e-7250-4107-a40e-cce9eabc94d2"
            },
            "attachments": {}
        },
        {
            "cell_type": "code",
            "source": [
                "Declare @ProjectID Varchar(50)\r\n",
                "Set @ProjectID = '22221929';\r\n",
                "Declare @Company Varchar(50)\r\n",
                "Set @Company = 'Solar';\r\n",
                "\r\n",
                "With ProjectPhaseEst\r\n",
                "AS (SELECT Company,\r\n",
                "           ProjectID,\r\n",
                "           OrderNum,\r\n",
                "           OrderLine,\r\n",
                "           Sum(BudTotLbrCost) as BudgetedLaborCosts,\r\n",
                "           Sum(BudTotBurCost) as BudgetedBurdenCosts,\r\n",
                "           Sum(BudTotSubCost) as BudgetedSubCosts,\r\n",
                "           Sum(BudTotMtlCost) as BudgetedMaterialCosts,\r\n",
                "           Sum(BudTotMtlBurCost) as BudgetedMaterialBurdenCosts,\r\n",
                "           Sum(BudTotODCCost) as BudgetedOtherDirectCosts,\r\n",
                "           Sum(BudTotLbrCost + BudTotBurCost + BudTotSubCost + BudTotMtlCost + BudTotMtlBurCost + BudTotODCCost) as EstimatedCosts\r\n",
                "    From ERPDB.ERP.ProjPhase\r\n",
                "    -- Where clause for Level only includes project phases at the top level which are already summarized from lower levels\r\n",
                "    Where Level = 1\r\n",
                "    Group By Company,\r\n",
                "             ProjectID,\r\n",
                "             OrderNum,\r\n",
                "             OrderLine\r\n",
                "   )\r\n",
                "\r\n",
                "Select od.*,\r\n",
                "       pp.EstimatedCosts\r\n",
                "FROM [ERPDB].[etl].[vwOrderdetail] as od\r\n",
                "    LEFT Join ProjectPhaseEst as pp\r\n",
                "        ON od.OrderNum = pp.OrderNum\r\n",
                "           and od.OrderLine = pp.Orderline\r\n",
                "Where od.ProjectID = @ProjectID\r\n",
                "      and od.company = @Company"
            ],
            "metadata": {
                "azdata_cell_guid": "0edd7e89-01ca-4df6-a57a-8943a4f1c233",
                "language": "sql",
                "tags": []
            },
            "outputs": [
                {
                    "output_type": "display_data",
                    "data": {
                        "text/html": "(5 rows affected)"
                    },
                    "metadata": {}
                },
                {
                    "output_type": "display_data",
                    "data": {
                        "text/html": "Total execution time: 00:00:00.118"
                    },
                    "metadata": {}
                },
                {
                    "output_type": "execute_result",
                    "execution_count": 1,
                    "data": {
                        "application/vnd.dataresource+json": {
                            "schema": {
                                "fields": [
                                    {
                                        "name": "VoidLine"
                                    },
                                    {
                                        "name": "OpenLine"
                                    },
                                    {
                                        "name": "Company"
                                    },
                                    {
                                        "name": "OrderNum"
                                    },
                                    {
                                        "name": "OrderLine"
                                    },
                                    {
                                        "name": "OrderNumLine"
                                    },
                                    {
                                        "name": "LineType"
                                    },
                                    {
                                        "name": "PartNum"
                                    },
                                    {
                                        "name": "LineDesc"
                                    },
                                    {
                                        "name": "Reference"
                                    },
                                    {
                                        "name": "IUM"
                                    },
                                    {
                                        "name": "RevisionNum"
                                    },
                                    {
                                        "name": "POLine"
                                    },
                                    {
                                        "name": "Commissionable"
                                    },
                                    {
                                        "name": "DiscountPercent"
                                    },
                                    {
                                        "name": "UnitPrice"
                                    },
                                    {
                                        "name": "DocUnitPrice"
                                    },
                                    {
                                        "name": "OrderQty"
                                    },
                                    {
                                        "name": "Discount"
                                    },
                                    {
                                        "name": "DocDiscount"
                                    },
                                    {
                                        "name": "RequestDate"
                                    },
                                    {
                                        "name": "ProdCode"
                                    },
                                    {
                                        "name": "XPartNum"
                                    },
                                    {
                                        "name": "XRevisionNum"
                                    },
                                    {
                                        "name": "PricePerCode"
                                    },
                                    {
                                        "name": "OrderComment"
                                    },
                                    {
                                        "name": "ShipComment"
                                    },
                                    {
                                        "name": "InvoiceComment"
                                    },
                                    {
                                        "name": "PickListComment"
                                    },
                                    {
                                        "name": "TaxCatID"
                                    },
                                    {
                                        "name": "AdvanceBillBal"
                                    },
                                    {
                                        "name": "DocAdvanceBillBal"
                                    },
                                    {
                                        "name": "QuoteNum"
                                    },
                                    {
                                        "name": "QuoteLine"
                                    },
                                    {
                                        "name": "TMBilling"
                                    },
                                    {
                                        "name": "OrigWhyNoTax"
                                    },
                                    {
                                        "name": "NeedByDate"
                                    },
                                    {
                                        "name": "CustNum"
                                    },
                                    {
                                        "name": "Rework"
                                    },
                                    {
                                        "name": "RMANum"
                                    },
                                    {
                                        "name": "RMALine"
                                    },
                                    {
                                        "name": "ProjectID"
                                    },
                                    {
                                        "name": "ContractNum"
                                    },
                                    {
                                        "name": "ContractCode"
                                    },
                                    {
                                        "name": "BasePartNum"
                                    },
                                    {
                                        "name": "Warranty"
                                    },
                                    {
                                        "name": "WarrantyCode"
                                    },
                                    {
                                        "name": "MaterialDuration"
                                    },
                                    {
                                        "name": "LaborDuration"
                                    },
                                    {
                                        "name": "MiscDuration"
                                    },
                                    {
                                        "name": "MaterialMod"
                                    },
                                    {
                                        "name": "LaborMod"
                                    },
                                    {
                                        "name": "WarrantyComment"
                                    },
                                    {
                                        "name": "Onsite"
                                    },
                                    {
                                        "name": "MatCovered"
                                    },
                                    {
                                        "name": "LabCovered"
                                    },
                                    {
                                        "name": "MiscCovered"
                                    },
                                    {
                                        "name": "SalesUM"
                                    },
                                    {
                                        "name": "SellingFactor"
                                    },
                                    {
                                        "name": "SellingQuantity"
                                    },
                                    {
                                        "name": "SalesCatID"
                                    },
                                    {
                                        "name": "ShipLineComplete"
                                    },
                                    {
                                        "name": "CumeQty"
                                    },
                                    {
                                        "name": "CumeDate"
                                    },
                                    {
                                        "name": "MktgCampaignID"
                                    },
                                    {
                                        "name": "MktgEvntSeq"
                                    },
                                    {
                                        "name": "LockQty"
                                    },
                                    {
                                        "name": "Linked"
                                    },
                                    {
                                        "name": "ICPONum"
                                    },
                                    {
                                        "name": "ICPOLine"
                                    },
                                    {
                                        "name": "ExtCompany"
                                    },
                                    {
                                        "name": "LastConfigDate"
                                    },
                                    {
                                        "name": "LastConfigTime"
                                    },
                                    {
                                        "name": "LastConfigUserID"
                                    },
                                    {
                                        "name": "ConfigUnitPrice"
                                    },
                                    {
                                        "name": "ConfigBaseUnitPrice"
                                    },
                                    {
                                        "name": "PriceListCode"
                                    },
                                    {
                                        "name": "BreakListCode"
                                    },
                                    {
                                        "name": "PricingQty"
                                    },
                                    {
                                        "name": "LockPrice"
                                    },
                                    {
                                        "name": "ListPrice"
                                    },
                                    {
                                        "name": "DocListPrice"
                                    },
                                    {
                                        "name": "OrdBasedPrice"
                                    },
                                    {
                                        "name": "DocOrdBasedPrice"
                                    },
                                    {
                                        "name": "PriceGroupCode"
                                    },
                                    {
                                        "name": "OverridePriceList"
                                    },
                                    {
                                        "name": "BaseRevisionNum"
                                    },
                                    {
                                        "name": "PricingValue"
                                    },
                                    {
                                        "name": "DisplaySeq"
                                    },
                                    {
                                        "name": "KitParentLine"
                                    },
                                    {
                                        "name": "KitAllowUpdate"
                                    },
                                    {
                                        "name": "KitShipComplete"
                                    },
                                    {
                                        "name": "KitBackFlush"
                                    },
                                    {
                                        "name": "KitPrintCompsPS"
                                    },
                                    {
                                        "name": "KitPrintCompsInv"
                                    },
                                    {
                                        "name": "KitPricing"
                                    },
                                    {
                                        "name": "KitQtyPer"
                                    },
                                    {
                                        "name": "SellingFactorDirection"
                                    },
                                    {
                                        "name": "RepRate1"
                                    },
                                    {
                                        "name": "RepRate2"
                                    },
                                    {
                                        "name": "RepRate3"
                                    },
                                    {
                                        "name": "RepRate4"
                                    },
                                    {
                                        "name": "RepRate5"
                                    },
                                    {
                                        "name": "RepSplit1"
                                    },
                                    {
                                        "name": "RepSplit2"
                                    },
                                    {
                                        "name": "RepSplit3"
                                    },
                                    {
                                        "name": "RepSplit4"
                                    },
                                    {
                                        "name": "RepSplit5"
                                    },
                                    {
                                        "name": "DemandContractLine"
                                    },
                                    {
                                        "name": "CreateNewJob"
                                    },
                                    {
                                        "name": "DoNotShipBeforeDate"
                                    },
                                    {
                                        "name": "GetDtls"
                                    },
                                    {
                                        "name": "DoNotShipAfterDate"
                                    },
                                    {
                                        "name": "SchedJob"
                                    },
                                    {
                                        "name": "RelJob"
                                    },
                                    {
                                        "name": "EnableCreateNewJob"
                                    },
                                    {
                                        "name": "EnableGetDtls"
                                    },
                                    {
                                        "name": "EnableSchedJob"
                                    },
                                    {
                                        "name": "EnableRelJob"
                                    },
                                    {
                                        "name": "CounterSaleWarehouse"
                                    },
                                    {
                                        "name": "CounterSaleBinNum"
                                    },
                                    {
                                        "name": "CounterSaleLotNum"
                                    },
                                    {
                                        "name": "CounterSaleDimCode"
                                    },
                                    {
                                        "name": "DemandDtlRejected"
                                    },
                                    {
                                        "name": "KitFlag"
                                    },
                                    {
                                        "name": "KitsLoaded"
                                    },
                                    {
                                        "name": "DemandContractNum"
                                    },
                                    {
                                        "name": "DemandHeadSeq"
                                    },
                                    {
                                        "name": "DemandDtlSeq"
                                    },
                                    {
                                        "name": "ChangedBy"
                                    },
                                    {
                                        "name": "ChangeDate"
                                    },
                                    {
                                        "name": "ChangeTime"
                                    },
                                    {
                                        "name": "ChangeDateTime"
                                    },
                                    {
                                        "name": "ReverseCharge"
                                    },
                                    {
                                        "name": "TotalReleases"
                                    },
                                    {
                                        "name": "Rpt1UnitPrice"
                                    },
                                    {
                                        "name": "Rpt2UnitPrice"
                                    },
                                    {
                                        "name": "Rpt3UnitPrice"
                                    },
                                    {
                                        "name": "Rpt1Discount"
                                    },
                                    {
                                        "name": "Rpt2Discount"
                                    },
                                    {
                                        "name": "Rpt3Discount"
                                    },
                                    {
                                        "name": "Rpt1AdvanceBillBal"
                                    },
                                    {
                                        "name": "Rpt2AdvanceBillBal"
                                    },
                                    {
                                        "name": "Rpt3AdvanceBillBal"
                                    },
                                    {
                                        "name": "Rpt1ListPrice"
                                    },
                                    {
                                        "name": "Rpt2ListPrice"
                                    },
                                    {
                                        "name": "Rpt3ListPrice"
                                    },
                                    {
                                        "name": "Rpt1OrdBasedPrice"
                                    },
                                    {
                                        "name": "Rpt2OrdBasedPrice"
                                    },
                                    {
                                        "name": "Rpt3OrdBasedPrice"
                                    },
                                    {
                                        "name": "ExtPriceDtl"
                                    },
                                    {
                                        "name": "DocExtPriceDtl"
                                    },
                                    {
                                        "name": "Rpt1ExtPriceDtl"
                                    },
                                    {
                                        "name": "Rpt2ExtPriceDtl"
                                    },
                                    {
                                        "name": "Rpt3ExtPriceDtl"
                                    },
                                    {
                                        "name": "LineStatus"
                                    },
                                    {
                                        "name": "InUnitPrice"
                                    },
                                    {
                                        "name": "DocInUnitPrice"
                                    },
                                    {
                                        "name": "InDiscount"
                                    },
                                    {
                                        "name": "DocInDiscount"
                                    },
                                    {
                                        "name": "InListPrice"
                                    },
                                    {
                                        "name": "DocInListPrice"
                                    },
                                    {
                                        "name": "InOrdBasedPrice"
                                    },
                                    {
                                        "name": "DocInOrdBasedPrice"
                                    },
                                    {
                                        "name": "Rpt1InUnitPrice"
                                    },
                                    {
                                        "name": "Rpt2InUnitPrice"
                                    },
                                    {
                                        "name": "Rpt3InUnitPrice"
                                    },
                                    {
                                        "name": "Rpt1InDiscount"
                                    },
                                    {
                                        "name": "Rpt2InDiscount"
                                    },
                                    {
                                        "name": "Rpt3InDiscount"
                                    },
                                    {
                                        "name": "Rpt1InListPrice"
                                    },
                                    {
                                        "name": "Rpt2InListPrice"
                                    },
                                    {
                                        "name": "Rpt3InListPrice"
                                    },
                                    {
                                        "name": "Rpt1InOrdBasedPrice"
                                    },
                                    {
                                        "name": "Rpt2InOrdBasedPrice"
                                    },
                                    {
                                        "name": "Rpt3InOrdBasedPrice"
                                    },
                                    {
                                        "name": "InExtPriceDtl"
                                    },
                                    {
                                        "name": "DocInExtPriceDtl"
                                    },
                                    {
                                        "name": "Rpt1InExtPriceDtl"
                                    },
                                    {
                                        "name": "Rpt2InExtPriceDtl"
                                    },
                                    {
                                        "name": "Rpt3InExtPriceDtl"
                                    },
                                    {
                                        "name": "OldOurOpenQty"
                                    },
                                    {
                                        "name": "OldSellingOpenQty"
                                    },
                                    {
                                        "name": "OldOpenValue"
                                    },
                                    {
                                        "name": "OldProdCode"
                                    },
                                    {
                                        "name": "PrevSellQty"
                                    },
                                    {
                                        "name": "PrevPartNum"
                                    },
                                    {
                                        "name": "PrevXPartNum"
                                    },
                                    {
                                        "name": "KitCompOrigSeq"
                                    },
                                    {
                                        "name": "KitCompOrigPart"
                                    },
                                    {
                                        "name": "SmartStringProcessed"
                                    },
                                    {
                                        "name": "SmartString"
                                    },
                                    {
                                        "name": "RenewalNbr"
                                    },
                                    {
                                        "name": "DiscBreakListCode"
                                    },
                                    {
                                        "name": "DiscListPrice"
                                    },
                                    {
                                        "name": "LockDisc"
                                    },
                                    {
                                        "name": "OverrideDiscPriceList"
                                    },
                                    {
                                        "name": "GroupSeq"
                                    },
                                    {
                                        "name": "ECCOrderNum"
                                    },
                                    {
                                        "name": "ECCOrderLine"
                                    },
                                    {
                                        "name": "DupOnJobCrt"
                                    },
                                    {
                                        "name": "UndersPct"
                                    },
                                    {
                                        "name": "Overs"
                                    },
                                    {
                                        "name": "Unders"
                                    },
                                    {
                                        "name": "OversUnitPrice"
                                    },
                                    {
                                        "name": "PlanUserID"
                                    },
                                    {
                                        "name": "PlanGUID"
                                    },
                                    {
                                        "name": "MOMsourceType"
                                    },
                                    {
                                        "name": "MOMsourceEst"
                                    },
                                    {
                                        "name": "DefaultOversPricing"
                                    },
                                    {
                                        "name": "ECCPlant"
                                    },
                                    {
                                        "name": "ECCQuoteNum"
                                    },
                                    {
                                        "name": "ECCQuoteLine"
                                    },
                                    {
                                        "name": "SysRevID"
                                    },
                                    {
                                        "name": "SysRowID"
                                    },
                                    {
                                        "name": "MfgJobType"
                                    },
                                    {
                                        "name": "ProFormaInvComment"
                                    },
                                    {
                                        "name": "CreateJob"
                                    },
                                    {
                                        "name": "ContractID"
                                    },
                                    {
                                        "name": "LinkToContract"
                                    },
                                    {
                                        "name": "DocInAdvanceBillBal"
                                    },
                                    {
                                        "name": "InAdvanceBillBal"
                                    },
                                    {
                                        "name": "Rpt1InAdvanceBillBal"
                                    },
                                    {
                                        "name": "Rpt2InAdvanceBillBal"
                                    },
                                    {
                                        "name": "Rpt3InAdvanceBillBal"
                                    },
                                    {
                                        "name": "PCLinkRemoved"
                                    },
                                    {
                                        "name": "CommodityCode"
                                    },
                                    {
                                        "name": "MSRP"
                                    },
                                    {
                                        "name": "DocMSRP"
                                    },
                                    {
                                        "name": "Rpt1MSRP"
                                    },
                                    {
                                        "name": "Rpt2MSRP"
                                    },
                                    {
                                        "name": "Rpt3MSRP"
                                    },
                                    {
                                        "name": "EndCustomerPrice"
                                    },
                                    {
                                        "name": "DocEndCustomerPrice"
                                    },
                                    {
                                        "name": "Rpt1EndCustomerPrice"
                                    },
                                    {
                                        "name": "Rpt2EndCustomerPrice"
                                    },
                                    {
                                        "name": "Rpt3EndCustomerPrice"
                                    },
                                    {
                                        "name": "PromotionalPrice"
                                    },
                                    {
                                        "name": "DocPromotionalPrice"
                                    },
                                    {
                                        "name": "Rpt1PromotionalPrice"
                                    },
                                    {
                                        "name": "Rpt2PromotionalPrice"
                                    },
                                    {
                                        "name": "Rpt3PromotionalPrice"
                                    },
                                    {
                                        "name": "OrderLineStatusCode"
                                    },
                                    {
                                        "name": "AttributeSetID"
                                    },
                                    {
                                        "name": "ForeignSysRowID"
                                    },
                                    {
                                        "name": "UD_SysRevID"
                                    },
                                    {
                                        "name": "DoNotBook_c"
                                    },
                                    {
                                        "name": "EstUnitCost_c"
                                    },
                                    {
                                        "name": "OriginalEstimate_c"
                                    },
                                    {
                                        "name": "EstimatedCosts"
                                    }
                                ]
                            },
                            "data": [
                                {
                                    "0": "0",
                                    "1": "1",
                                    "2": "SOLAR",
                                    "3": "4000149",
                                    "4": "1",
                                    "5": "4000149-1",
                                    "6": "PART",
                                    "7": "DESIGN",
                                    "8": "DESIGN",
                                    "9": "",
                                    "10": "EA",
                                    "11": "C",
                                    "12": "",
                                    "13": "1",
                                    "14": "0.00",
                                    "15": "8750.00000",
                                    "16": "8750.00000",
                                    "17": "1.00000000",
                                    "18": "0.000",
                                    "19": "0.000",
                                    "20": "2022-07-15",
                                    "21": "02DES",
                                    "22": "",
                                    "23": "",
                                    "24": "E",
                                    "25": "",
                                    "26": "",
                                    "27": "",
                                    "28": "",
                                    "29": "",
                                    "30": "0.00000",
                                    "31": "0.00000",
                                    "32": "10144",
                                    "33": "1",
                                    "34": "0",
                                    "35": "",
                                    "36": "2022-07-31",
                                    "37": "1180",
                                    "38": "0",
                                    "39": "0",
                                    "40": "0",
                                    "41": "2128153",
                                    "42": "0",
                                    "43": "",
                                    "44": "",
                                    "45": "1",
                                    "46": "",
                                    "47": "0",
                                    "48": "0",
                                    "49": "0",
                                    "50": "",
                                    "51": "",
                                    "52": "",
                                    "53": "0",
                                    "54": "0",
                                    "55": "0",
                                    "56": "0",
                                    "57": "EA",
                                    "58": "1.00000000",
                                    "59": "1.00000000",
                                    "60": "AGIL",
                                    "61": "0",
                                    "62": "0.00000000",
                                    "63": "NULL",
                                    "64": "DEFAULT",
                                    "65": "1",
                                    "66": "0",
                                    "67": "0",
                                    "68": "0",
                                    "69": "0",
                                    "70": "",
                                    "71": "NULL",
                                    "72": "0",
                                    "73": "",
                                    "74": "0.00000",
                                    "75": "0.00000",
                                    "76": "",
                                    "77": "",
                                    "78": "0.00000000",
                                    "79": "0",
                                    "80": "8750.00000",
                                    "81": "8750.00000",
                                    "82": "8750.00000",
                                    "83": "8750.00000",
                                    "84": "",
                                    "85": "0",
                                    "86": "",
                                    "87": "0.000",
                                    "88": "1.000",
                                    "89": "1",
                                    "90": "0",
                                    "91": "0",
                                    "92": "0",
                                    "93": "0",
                                    "94": "0",
                                    "95": "",
                                    "96": "0.00000000",
                                    "97": "D",
                                    "98": "0.00",
                                    "99": "0.00",
                                    "100": "0.00",
                                    "101": "0.00",
                                    "102": "0.00",
                                    "103": "100",
                                    "104": "0",
                                    "105": "0",
                                    "106": "0",
                                    "107": "0",
                                    "108": "0",
                                    "109": "1",
                                    "110": "NULL",
                                    "111": "0",
                                    "112": "NULL",
                                    "113": "0",
                                    "114": "0",
                                    "115": "1",
                                    "116": "1",
                                    "117": "1",
                                    "118": "1",
                                    "119": "",
                                    "120": "",
                                    "121": "",
                                    "122": "",
                                    "123": "0",
                                    "124": "",
                                    "125": "0",
                                    "126": "0",
                                    "127": "0",
                                    "128": "0",
                                    "129": "LS",
                                    "130": "2022-07-04",
                                    "131": "54382",
                                    "132": "2022-07-04 15:06:22.000",
                                    "133": "0",
                                    "134": "1",
                                    "135": "0.00000",
                                    "136": "0.00000",
                                    "137": "0.00000",
                                    "138": "0.00000",
                                    "139": "0.00000",
                                    "140": "0.00000",
                                    "141": "0.00000",
                                    "142": "0.00000",
                                    "143": "0.00000",
                                    "144": "0.00000",
                                    "145": "0.00000",
                                    "146": "0.00000",
                                    "147": "0.00000",
                                    "148": "0.00000",
                                    "149": "0.00000",
                                    "150": "8750.000",
                                    "151": "8750.000",
                                    "152": "0.000",
                                    "153": "0.000",
                                    "154": "0.000",
                                    "155": "OPEN",
                                    "156": "0.00000",
                                    "157": "0.00000",
                                    "158": "0.000",
                                    "159": "0.000",
                                    "160": "0.00000",
                                    "161": "0.00000",
                                    "162": "0.00000",
                                    "163": "0.00000",
                                    "164": "0.00000",
                                    "165": "0.00000",
                                    "166": "0.00000",
                                    "167": "0.00000",
                                    "168": "0.00000",
                                    "169": "0.00000",
                                    "170": "0.00000",
                                    "171": "0.00000",
                                    "172": "0.00000",
                                    "173": "0.00000",
                                    "174": "0.00000",
                                    "175": "0.00000",
                                    "176": "0.000",
                                    "177": "0.000",
                                    "178": "0.000",
                                    "179": "0.000",
                                    "180": "0.000",
                                    "181": "0.00",
                                    "182": "0.00",
                                    "183": "0.00",
                                    "184": "",
                                    "185": "0.00",
                                    "186": "",
                                    "187": "",
                                    "188": "0",
                                    "189": "",
                                    "190": "0",
                                    "191": "",
                                    "192": "0",
                                    "193": "",
                                    "194": "0.00000",
                                    "195": "0",
                                    "196": "0",
                                    "197": "0",
                                    "198": "",
                                    "199": "0",
                                    "200": "0",
                                    "201": "0.00000",
                                    "202": "0.00000",
                                    "203": "0.00000",
                                    "204": "0.00000",
                                    "205": "",
                                    "206": "",
                                    "207": "",
                                    "208": "",
                                    "209": "",
                                    "210": "",
                                    "211": "",
                                    "212": "0",
                                    "213": "0x000000031ECFEBE2",
                                    "214": "af9f1d0a-2607-4756-a3b2-3d8269e5abeb",
                                    "215": "",
                                    "216": "",
                                    "217": "0",
                                    "218": "",
                                    "219": "0",
                                    "220": "0.00000",
                                    "221": "0.00000",
                                    "222": "0.00000",
                                    "223": "0.00000",
                                    "224": "0.00000",
                                    "225": "0",
                                    "226": "",
                                    "227": "0.000",
                                    "228": "0.000",
                                    "229": "0.000",
                                    "230": "0.000",
                                    "231": "0.000",
                                    "232": "0.000",
                                    "233": "0.000",
                                    "234": "0.000",
                                    "235": "0.000",
                                    "236": "0.000",
                                    "237": "0.000",
                                    "238": "0.000",
                                    "239": "0.000",
                                    "240": "0.000",
                                    "241": "0.000",
                                    "242": "",
                                    "243": "0",
                                    "244": "af9f1d0a-2607-4756-a3b2-3d8269e5abeb",
                                    "245": "0x000000031ECCADD0",
                                    "246": "0",
                                    "247": "0.00",
                                    "248": "0.00",
                                    "249": "1750.000"
                                },
                                {
                                    "0": "0",
                                    "1": "1",
                                    "2": "SOLAR",
                                    "3": "4000149",
                                    "4": "2",
                                    "5": "4000149-2",
                                    "6": "PART",
                                    "7": "MFG MATERIAL",
                                    "8": "MFG MATERIAL",
                                    "9": "",
                                    "10": "EA",
                                    "11": "A",
                                    "12": "",
                                    "13": "1",
                                    "14": "0.00",
                                    "15": "20786767.00000",
                                    "16": "20786767.00000",
                                    "17": "1.00000000",
                                    "18": "0.000",
                                    "19": "0.000",
                                    "20": "2022-07-15",
                                    "21": "02MFG",
                                    "22": "",
                                    "23": "",
                                    "24": "E",
                                    "25": "",
                                    "26": "",
                                    "27": "",
                                    "28": "",
                                    "29": "",
                                    "30": "0.00000",
                                    "31": "0.00000",
                                    "32": "10144",
                                    "33": "2",
                                    "34": "0",
                                    "35": "",
                                    "36": "2022-07-31",
                                    "37": "1180",
                                    "38": "0",
                                    "39": "0",
                                    "40": "0",
                                    "41": "2128153",
                                    "42": "0",
                                    "43": "",
                                    "44": "",
                                    "45": "1",
                                    "46": "",
                                    "47": "0",
                                    "48": "0",
                                    "49": "0",
                                    "50": "",
                                    "51": "",
                                    "52": "",
                                    "53": "0",
                                    "54": "0",
                                    "55": "0",
                                    "56": "0",
                                    "57": "EA",
                                    "58": "1.00000000",
                                    "59": "1.00000000",
                                    "60": "AGIL",
                                    "61": "0",
                                    "62": "0.00000000",
                                    "63": "NULL",
                                    "64": "DEFAULT",
                                    "65": "1",
                                    "66": "0",
                                    "67": "0",
                                    "68": "0",
                                    "69": "0",
                                    "70": "",
                                    "71": "NULL",
                                    "72": "0",
                                    "73": "",
                                    "74": "0.00000",
                                    "75": "0.00000",
                                    "76": "",
                                    "77": "",
                                    "78": "0.00000000",
                                    "79": "0",
                                    "80": "20786767.00000",
                                    "81": "20786767.00000",
                                    "82": "20786767.00000",
                                    "83": "20786767.00000",
                                    "84": "",
                                    "85": "0",
                                    "86": "",
                                    "87": "0.000",
                                    "88": "2.000",
                                    "89": "2",
                                    "90": "0",
                                    "91": "0",
                                    "92": "0",
                                    "93": "0",
                                    "94": "0",
                                    "95": "",
                                    "96": "0.00000000",
                                    "97": "D",
                                    "98": "0.00",
                                    "99": "0.00",
                                    "100": "0.00",
                                    "101": "0.00",
                                    "102": "0.00",
                                    "103": "100",
                                    "104": "0",
                                    "105": "0",
                                    "106": "0",
                                    "107": "0",
                                    "108": "0",
                                    "109": "1",
                                    "110": "NULL",
                                    "111": "0",
                                    "112": "NULL",
                                    "113": "0",
                                    "114": "0",
                                    "115": "1",
                                    "116": "1",
                                    "117": "1",
                                    "118": "1",
                                    "119": "",
                                    "120": "",
                                    "121": "",
                                    "122": "",
                                    "123": "0",
                                    "124": "",
                                    "125": "0",
                                    "126": "0",
                                    "127": "0",
                                    "128": "0",
                                    "129": "LS",
                                    "130": "2022-07-04",
                                    "131": "54382",
                                    "132": "2022-07-04 15:06:22.000",
                                    "133": "0",
                                    "134": "1",
                                    "135": "0.00000",
                                    "136": "0.00000",
                                    "137": "0.00000",
                                    "138": "0.00000",
                                    "139": "0.00000",
                                    "140": "0.00000",
                                    "141": "0.00000",
                                    "142": "0.00000",
                                    "143": "0.00000",
                                    "144": "0.00000",
                                    "145": "0.00000",
                                    "146": "0.00000",
                                    "147": "0.00000",
                                    "148": "0.00000",
                                    "149": "0.00000",
                                    "150": "20786767.000",
                                    "151": "20786767.000",
                                    "152": "0.000",
                                    "153": "0.000",
                                    "154": "0.000",
                                    "155": "OPEN",
                                    "156": "0.00000",
                                    "157": "0.00000",
                                    "158": "0.000",
                                    "159": "0.000",
                                    "160": "0.00000",
                                    "161": "0.00000",
                                    "162": "0.00000",
                                    "163": "0.00000",
                                    "164": "0.00000",
                                    "165": "0.00000",
                                    "166": "0.00000",
                                    "167": "0.00000",
                                    "168": "0.00000",
                                    "169": "0.00000",
                                    "170": "0.00000",
                                    "171": "0.00000",
                                    "172": "0.00000",
                                    "173": "0.00000",
                                    "174": "0.00000",
                                    "175": "0.00000",
                                    "176": "0.000",
                                    "177": "0.000",
                                    "178": "0.000",
                                    "179": "0.000",
                                    "180": "0.000",
                                    "181": "0.00",
                                    "182": "0.00",
                                    "183": "0.00",
                                    "184": "",
                                    "185": "0.00",
                                    "186": "",
                                    "187": "",
                                    "188": "0",
                                    "189": "",
                                    "190": "0",
                                    "191": "",
                                    "192": "0",
                                    "193": "",
                                    "194": "0.00000",
                                    "195": "0",
                                    "196": "0",
                                    "197": "0",
                                    "198": "",
                                    "199": "0",
                                    "200": "0",
                                    "201": "0.00000",
                                    "202": "0.00000",
                                    "203": "0.00000",
                                    "204": "0.00000",
                                    "205": "",
                                    "206": "",
                                    "207": "",
                                    "208": "",
                                    "209": "",
                                    "210": "",
                                    "211": "",
                                    "212": "0",
                                    "213": "0x000000031ECFEBE4",
                                    "214": "8839dc9a-c4c0-4d02-9000-4a1c302e78f8",
                                    "215": "",
                                    "216": "",
                                    "217": "0",
                                    "218": "",
                                    "219": "0",
                                    "220": "0.00000",
                                    "221": "0.00000",
                                    "222": "0.00000",
                                    "223": "0.00000",
                                    "224": "0.00000",
                                    "225": "0",
                                    "226": "",
                                    "227": "0.000",
                                    "228": "0.000",
                                    "229": "0.000",
                                    "230": "0.000",
                                    "231": "0.000",
                                    "232": "0.000",
                                    "233": "0.000",
                                    "234": "0.000",
                                    "235": "0.000",
                                    "236": "0.000",
                                    "237": "0.000",
                                    "238": "0.000",
                                    "239": "0.000",
                                    "240": "0.000",
                                    "241": "0.000",
                                    "242": "",
                                    "243": "0",
                                    "244": "8839dc9a-c4c0-4d02-9000-4a1c302e78f8",
                                    "245": "0x000000031ECCAE0D",
                                    "246": "0",
                                    "247": "0.00",
                                    "248": "0.00",
                                    "249": "16629501.140"
                                },
                                {
                                    "0": "0",
                                    "1": "1",
                                    "2": "SOLAR",
                                    "3": "4000149",
                                    "4": "3",
                                    "5": "4000149-3",
                                    "6": "PART",
                                    "7": "FREIGHT",
                                    "8": "FREIGHT",
                                    "9": "",
                                    "10": "EA",
                                    "11": "C",
                                    "12": "",
                                    "13": "1",
                                    "14": "0.00",
                                    "15": "1626690.00000",
                                    "16": "1626690.00000",
                                    "17": "1.00000000",
                                    "18": "0.000",
                                    "19": "0.000",
                                    "20": "2022-07-15",
                                    "21": "02FRT",
                                    "22": "",
                                    "23": "",
                                    "24": "E",
                                    "25": "",
                                    "26": "",
                                    "27": "",
                                    "28": "",
                                    "29": "",
                                    "30": "0.00000",
                                    "31": "0.00000",
                                    "32": "10144",
                                    "33": "3",
                                    "34": "0",
                                    "35": "",
                                    "36": "2022-07-31",
                                    "37": "1180",
                                    "38": "0",
                                    "39": "0",
                                    "40": "0",
                                    "41": "2128153",
                                    "42": "0",
                                    "43": "",
                                    "44": "",
                                    "45": "1",
                                    "46": "",
                                    "47": "0",
                                    "48": "0",
                                    "49": "0",
                                    "50": "",
                                    "51": "",
                                    "52": "",
                                    "53": "0",
                                    "54": "0",
                                    "55": "0",
                                    "56": "0",
                                    "57": "EA",
                                    "58": "1.00000000",
                                    "59": "1.00000000",
                                    "60": "AGIL",
                                    "61": "0",
                                    "62": "0.00000000",
                                    "63": "NULL",
                                    "64": "DEFAULT",
                                    "65": "1",
                                    "66": "0",
                                    "67": "0",
                                    "68": "0",
                                    "69": "0",
                                    "70": "",
                                    "71": "NULL",
                                    "72": "0",
                                    "73": "",
                                    "74": "0.00000",
                                    "75": "0.00000",
                                    "76": "",
                                    "77": "",
                                    "78": "0.00000000",
                                    "79": "0",
                                    "80": "1626690.00000",
                                    "81": "1626690.00000",
                                    "82": "1626690.00000",
                                    "83": "1626690.00000",
                                    "84": "",
                                    "85": "0",
                                    "86": "",
                                    "87": "0.000",
                                    "88": "3.000",
                                    "89": "3",
                                    "90": "0",
                                    "91": "0",
                                    "92": "0",
                                    "93": "0",
                                    "94": "0",
                                    "95": "",
                                    "96": "0.00000000",
                                    "97": "D",
                                    "98": "0.00",
                                    "99": "0.00",
                                    "100": "0.00",
                                    "101": "0.00",
                                    "102": "0.00",
                                    "103": "100",
                                    "104": "0",
                                    "105": "0",
                                    "106": "0",
                                    "107": "0",
                                    "108": "0",
                                    "109": "1",
                                    "110": "NULL",
                                    "111": "0",
                                    "112": "NULL",
                                    "113": "0",
                                    "114": "0",
                                    "115": "1",
                                    "116": "1",
                                    "117": "1",
                                    "118": "1",
                                    "119": "",
                                    "120": "",
                                    "121": "",
                                    "122": "",
                                    "123": "0",
                                    "124": "",
                                    "125": "0",
                                    "126": "0",
                                    "127": "0",
                                    "128": "0",
                                    "129": "LS",
                                    "130": "2022-07-04",
                                    "131": "54382",
                                    "132": "2022-07-04 15:06:22.000",
                                    "133": "0",
                                    "134": "1",
                                    "135": "0.00000",
                                    "136": "0.00000",
                                    "137": "0.00000",
                                    "138": "0.00000",
                                    "139": "0.00000",
                                    "140": "0.00000",
                                    "141": "0.00000",
                                    "142": "0.00000",
                                    "143": "0.00000",
                                    "144": "0.00000",
                                    "145": "0.00000",
                                    "146": "0.00000",
                                    "147": "0.00000",
                                    "148": "0.00000",
                                    "149": "0.00000",
                                    "150": "1626690.000",
                                    "151": "1626690.000",
                                    "152": "0.000",
                                    "153": "0.000",
                                    "154": "0.000",
                                    "155": "OPEN",
                                    "156": "0.00000",
                                    "157": "0.00000",
                                    "158": "0.000",
                                    "159": "0.000",
                                    "160": "0.00000",
                                    "161": "0.00000",
                                    "162": "0.00000",
                                    "163": "0.00000",
                                    "164": "0.00000",
                                    "165": "0.00000",
                                    "166": "0.00000",
                                    "167": "0.00000",
                                    "168": "0.00000",
                                    "169": "0.00000",
                                    "170": "0.00000",
                                    "171": "0.00000",
                                    "172": "0.00000",
                                    "173": "0.00000",
                                    "174": "0.00000",
                                    "175": "0.00000",
                                    "176": "0.000",
                                    "177": "0.000",
                                    "178": "0.000",
                                    "179": "0.000",
                                    "180": "0.000",
                                    "181": "0.00",
                                    "182": "0.00",
                                    "183": "0.00",
                                    "184": "",
                                    "185": "0.00",
                                    "186": "",
                                    "187": "",
                                    "188": "0",
                                    "189": "",
                                    "190": "0",
                                    "191": "",
                                    "192": "0",
                                    "193": "",
                                    "194": "0.00000",
                                    "195": "0",
                                    "196": "0",
                                    "197": "0",
                                    "198": "",
                                    "199": "0",
                                    "200": "0",
                                    "201": "0.00000",
                                    "202": "0.00000",
                                    "203": "0.00000",
                                    "204": "0.00000",
                                    "205": "",
                                    "206": "",
                                    "207": "",
                                    "208": "",
                                    "209": "",
                                    "210": "",
                                    "211": "",
                                    "212": "0",
                                    "213": "0x000000031ECFEBE6",
                                    "214": "85ebfd2e-71a6-4aba-8ddb-33940f3319d0",
                                    "215": "",
                                    "216": "",
                                    "217": "0",
                                    "218": "",
                                    "219": "0",
                                    "220": "0.00000",
                                    "221": "0.00000",
                                    "222": "0.00000",
                                    "223": "0.00000",
                                    "224": "0.00000",
                                    "225": "0",
                                    "226": "",
                                    "227": "0.000",
                                    "228": "0.000",
                                    "229": "0.000",
                                    "230": "0.000",
                                    "231": "0.000",
                                    "232": "0.000",
                                    "233": "0.000",
                                    "234": "0.000",
                                    "235": "0.000",
                                    "236": "0.000",
                                    "237": "0.000",
                                    "238": "0.000",
                                    "239": "0.000",
                                    "240": "0.000",
                                    "241": "0.000",
                                    "242": "",
                                    "243": "0",
                                    "244": "85ebfd2e-71a6-4aba-8ddb-33940f3319d0",
                                    "245": "0x000000031ECCAE38",
                                    "246": "0",
                                    "247": "0.00",
                                    "248": "0.00",
                                    "249": "1250799.480"
                                },
                                {
                                    "0": "0",
                                    "1": "1",
                                    "2": "SOLAR",
                                    "3": "4000149",
                                    "4": "4",
                                    "5": "4000149-4",
                                    "6": "PART",
                                    "7": "INSTALLATION",
                                    "8": "INSTALLATION",
                                    "9": "",
                                    "10": "EA",
                                    "11": "C",
                                    "12": "",
                                    "13": "1",
                                    "14": "0.00",
                                    "15": "0.00000",
                                    "16": "0.00000",
                                    "17": "1.00000000",
                                    "18": "0.000",
                                    "19": "0.000",
                                    "20": "2022-07-15",
                                    "21": "02LBR",
                                    "22": "",
                                    "23": "",
                                    "24": "E",
                                    "25": "",
                                    "26": "",
                                    "27": "",
                                    "28": "",
                                    "29": "",
                                    "30": "0.00000",
                                    "31": "0.00000",
                                    "32": "10144",
                                    "33": "4",
                                    "34": "0",
                                    "35": "",
                                    "36": "2022-07-31",
                                    "37": "1180",
                                    "38": "0",
                                    "39": "0",
                                    "40": "0",
                                    "41": "2128153",
                                    "42": "0",
                                    "43": "",
                                    "44": "",
                                    "45": "1",
                                    "46": "",
                                    "47": "0",
                                    "48": "0",
                                    "49": "0",
                                    "50": "",
                                    "51": "",
                                    "52": "",
                                    "53": "0",
                                    "54": "0",
                                    "55": "0",
                                    "56": "0",
                                    "57": "EA",
                                    "58": "1.00000000",
                                    "59": "1.00000000",
                                    "60": "AGIL",
                                    "61": "0",
                                    "62": "0.00000000",
                                    "63": "NULL",
                                    "64": "DEFAULT",
                                    "65": "1",
                                    "66": "0",
                                    "67": "0",
                                    "68": "0",
                                    "69": "0",
                                    "70": "",
                                    "71": "NULL",
                                    "72": "0",
                                    "73": "",
                                    "74": "0.00000",
                                    "75": "0.00000",
                                    "76": "",
                                    "77": "",
                                    "78": "0.00000000",
                                    "79": "0",
                                    "80": "0.00000",
                                    "81": "0.00000",
                                    "82": "0.00000",
                                    "83": "0.00000",
                                    "84": "",
                                    "85": "0",
                                    "86": "",
                                    "87": "0.000",
                                    "88": "4.000",
                                    "89": "4",
                                    "90": "0",
                                    "91": "0",
                                    "92": "0",
                                    "93": "0",
                                    "94": "0",
                                    "95": "",
                                    "96": "0.00000000",
                                    "97": "D",
                                    "98": "0.00",
                                    "99": "0.00",
                                    "100": "0.00",
                                    "101": "0.00",
                                    "102": "0.00",
                                    "103": "100",
                                    "104": "0",
                                    "105": "0",
                                    "106": "0",
                                    "107": "0",
                                    "108": "0",
                                    "109": "1",
                                    "110": "NULL",
                                    "111": "0",
                                    "112": "NULL",
                                    "113": "0",
                                    "114": "0",
                                    "115": "1",
                                    "116": "1",
                                    "117": "1",
                                    "118": "1",
                                    "119": "",
                                    "120": "",
                                    "121": "",
                                    "122": "",
                                    "123": "0",
                                    "124": "",
                                    "125": "0",
                                    "126": "0",
                                    "127": "0",
                                    "128": "0",
                                    "129": "LS",
                                    "130": "2022-07-04",
                                    "131": "54382",
                                    "132": "2022-07-04 15:06:22.000",
                                    "133": "0",
                                    "134": "1",
                                    "135": "0.00000",
                                    "136": "0.00000",
                                    "137": "0.00000",
                                    "138": "0.00000",
                                    "139": "0.00000",
                                    "140": "0.00000",
                                    "141": "0.00000",
                                    "142": "0.00000",
                                    "143": "0.00000",
                                    "144": "0.00000",
                                    "145": "0.00000",
                                    "146": "0.00000",
                                    "147": "0.00000",
                                    "148": "0.00000",
                                    "149": "0.00000",
                                    "150": "0.000",
                                    "151": "0.000",
                                    "152": "0.000",
                                    "153": "0.000",
                                    "154": "0.000",
                                    "155": "OPEN",
                                    "156": "0.00000",
                                    "157": "0.00000",
                                    "158": "0.000",
                                    "159": "0.000",
                                    "160": "0.00000",
                                    "161": "0.00000",
                                    "162": "0.00000",
                                    "163": "0.00000",
                                    "164": "0.00000",
                                    "165": "0.00000",
                                    "166": "0.00000",
                                    "167": "0.00000",
                                    "168": "0.00000",
                                    "169": "0.00000",
                                    "170": "0.00000",
                                    "171": "0.00000",
                                    "172": "0.00000",
                                    "173": "0.00000",
                                    "174": "0.00000",
                                    "175": "0.00000",
                                    "176": "0.000",
                                    "177": "0.000",
                                    "178": "0.000",
                                    "179": "0.000",
                                    "180": "0.000",
                                    "181": "0.00",
                                    "182": "0.00",
                                    "183": "0.00",
                                    "184": "",
                                    "185": "0.00",
                                    "186": "",
                                    "187": "",
                                    "188": "0",
                                    "189": "",
                                    "190": "0",
                                    "191": "",
                                    "192": "0",
                                    "193": "",
                                    "194": "0.00000",
                                    "195": "0",
                                    "196": "0",
                                    "197": "0",
                                    "198": "",
                                    "199": "0",
                                    "200": "0",
                                    "201": "0.00000",
                                    "202": "0.00000",
                                    "203": "0.00000",
                                    "204": "0.00000",
                                    "205": "",
                                    "206": "",
                                    "207": "",
                                    "208": "",
                                    "209": "",
                                    "210": "",
                                    "211": "",
                                    "212": "0",
                                    "213": "0x000000031ECFEBE8",
                                    "214": "2e640e75-6a0b-4a35-850a-87018a8f778f",
                                    "215": "",
                                    "216": "",
                                    "217": "0",
                                    "218": "",
                                    "219": "0",
                                    "220": "0.00000",
                                    "221": "0.00000",
                                    "222": "0.00000",
                                    "223": "0.00000",
                                    "224": "0.00000",
                                    "225": "0",
                                    "226": "",
                                    "227": "0.000",
                                    "228": "0.000",
                                    "229": "0.000",
                                    "230": "0.000",
                                    "231": "0.000",
                                    "232": "0.000",
                                    "233": "0.000",
                                    "234": "0.000",
                                    "235": "0.000",
                                    "236": "0.000",
                                    "237": "0.000",
                                    "238": "0.000",
                                    "239": "0.000",
                                    "240": "0.000",
                                    "241": "0.000",
                                    "242": "",
                                    "243": "0",
                                    "244": "2e640e75-6a0b-4a35-850a-87018a8f778f",
                                    "245": "0x000000031ECCAE66",
                                    "246": "0",
                                    "247": "0.00",
                                    "248": "0.00",
                                    "249": "0.000"
                                },
                                {
                                    "0": "0",
                                    "1": "1",
                                    "2": "SOLAR",
                                    "3": "4000149",
                                    "4": "5",
                                    "5": "4000149-5",
                                    "6": "PART",
                                    "7": "CONSPHASE",
                                    "8": "Construction Phases",
                                    "9": "",
                                    "10": "EA",
                                    "11": "C",
                                    "12": "",
                                    "13": "1",
                                    "14": "0.00",
                                    "15": "0.00000",
                                    "16": "0.00000",
                                    "17": "1.00000000",
                                    "18": "0.000",
                                    "19": "0.000",
                                    "20": "2022-12-31",
                                    "21": "02MFG",
                                    "22": "",
                                    "23": "",
                                    "24": "E",
                                    "25": "",
                                    "26": "",
                                    "27": "",
                                    "28": "",
                                    "29": "",
                                    "30": "0.00000",
                                    "31": "0.00000",
                                    "32": "10144",
                                    "33": "5",
                                    "34": "0",
                                    "35": "",
                                    "36": "2022-12-31",
                                    "37": "1180",
                                    "38": "0",
                                    "39": "0",
                                    "40": "0",
                                    "41": "2128153",
                                    "42": "0",
                                    "43": "",
                                    "44": "",
                                    "45": "1",
                                    "46": "",
                                    "47": "0",
                                    "48": "0",
                                    "49": "0",
                                    "50": "",
                                    "51": "",
                                    "52": "",
                                    "53": "0",
                                    "54": "0",
                                    "55": "0",
                                    "56": "0",
                                    "57": "EA",
                                    "58": "1.00000000",
                                    "59": "1.00000000",
                                    "60": "AGIL",
                                    "61": "0",
                                    "62": "0.00000000",
                                    "63": "NULL",
                                    "64": "DEFAULT",
                                    "65": "1",
                                    "66": "0",
                                    "67": "0",
                                    "68": "0",
                                    "69": "0",
                                    "70": "",
                                    "71": "NULL",
                                    "72": "0",
                                    "73": "",
                                    "74": "0.00000",
                                    "75": "0.00000",
                                    "76": "",
                                    "77": "",
                                    "78": "0.00000000",
                                    "79": "0",
                                    "80": "0.00000",
                                    "81": "0.00000",
                                    "82": "0.00000",
                                    "83": "0.00000",
                                    "84": "",
                                    "85": "0",
                                    "86": "",
                                    "87": "0.000",
                                    "88": "5.000",
                                    "89": "5",
                                    "90": "0",
                                    "91": "0",
                                    "92": "0",
                                    "93": "0",
                                    "94": "0",
                                    "95": "",
                                    "96": "0.00000000",
                                    "97": "D",
                                    "98": "0.00",
                                    "99": "0.00",
                                    "100": "0.00",
                                    "101": "0.00",
                                    "102": "0.00",
                                    "103": "100",
                                    "104": "0",
                                    "105": "0",
                                    "106": "0",
                                    "107": "0",
                                    "108": "0",
                                    "109": "1",
                                    "110": "NULL",
                                    "111": "0",
                                    "112": "NULL",
                                    "113": "0",
                                    "114": "0",
                                    "115": "1",
                                    "116": "1",
                                    "117": "1",
                                    "118": "1",
                                    "119": "",
                                    "120": "",
                                    "121": "",
                                    "122": "",
                                    "123": "0",
                                    "124": "",
                                    "125": "0",
                                    "126": "0",
                                    "127": "0",
                                    "128": "0",
                                    "129": "LS",
                                    "130": "2022-07-04",
                                    "131": "54382",
                                    "132": "2022-07-04 15:06:22.000",
                                    "133": "0",
                                    "134": "3",
                                    "135": "0.00000",
                                    "136": "0.00000",
                                    "137": "0.00000",
                                    "138": "0.00000",
                                    "139": "0.00000",
                                    "140": "0.00000",
                                    "141": "0.00000",
                                    "142": "0.00000",
                                    "143": "0.00000",
                                    "144": "0.00000",
                                    "145": "0.00000",
                                    "146": "0.00000",
                                    "147": "0.00000",
                                    "148": "0.00000",
                                    "149": "0.00000",
                                    "150": "0.000",
                                    "151": "0.000",
                                    "152": "0.000",
                                    "153": "0.000",
                                    "154": "0.000",
                                    "155": "OPEN",
                                    "156": "0.00000",
                                    "157": "0.00000",
                                    "158": "0.000",
                                    "159": "0.000",
                                    "160": "0.00000",
                                    "161": "0.00000",
                                    "162": "0.00000",
                                    "163": "0.00000",
                                    "164": "0.00000",
                                    "165": "0.00000",
                                    "166": "0.00000",
                                    "167": "0.00000",
                                    "168": "0.00000",
                                    "169": "0.00000",
                                    "170": "0.00000",
                                    "171": "0.00000",
                                    "172": "0.00000",
                                    "173": "0.00000",
                                    "174": "0.00000",
                                    "175": "0.00000",
                                    "176": "0.000",
                                    "177": "0.000",
                                    "178": "0.000",
                                    "179": "0.000",
                                    "180": "0.000",
                                    "181": "0.00",
                                    "182": "0.00",
                                    "183": "0.00",
                                    "184": "",
                                    "185": "2.00",
                                    "186": "",
                                    "187": "",
                                    "188": "0",
                                    "189": "",
                                    "190": "0",
                                    "191": "",
                                    "192": "0",
                                    "193": "",
                                    "194": "0.00000",
                                    "195": "0",
                                    "196": "0",
                                    "197": "0",
                                    "198": "",
                                    "199": "0",
                                    "200": "0",
                                    "201": "0.00000",
                                    "202": "0.00000",
                                    "203": "0.00000",
                                    "204": "0.00000",
                                    "205": "",
                                    "206": "",
                                    "207": "",
                                    "208": "",
                                    "209": "",
                                    "210": "",
                                    "211": "",
                                    "212": "0",
                                    "213": "0x000000031ECFEBEA",
                                    "214": "15c1357e-5322-465c-b06b-3293b901f1d6",
                                    "215": "",
                                    "216": "",
                                    "217": "0",
                                    "218": "",
                                    "219": "0",
                                    "220": "0.00000",
                                    "221": "0.00000",
                                    "222": "0.00000",
                                    "223": "0.00000",
                                    "224": "0.00000",
                                    "225": "0",
                                    "226": "",
                                    "227": "0.000",
                                    "228": "0.000",
                                    "229": "0.000",
                                    "230": "0.000",
                                    "231": "0.000",
                                    "232": "0.000",
                                    "233": "0.000",
                                    "234": "0.000",
                                    "235": "0.000",
                                    "236": "0.000",
                                    "237": "0.000",
                                    "238": "0.000",
                                    "239": "0.000",
                                    "240": "0.000",
                                    "241": "0.000",
                                    "242": "",
                                    "243": "0",
                                    "244": "15c1357e-5322-465c-b06b-3293b901f1d6",
                                    "245": "0x000000031ECCAE8D",
                                    "246": "0",
                                    "247": "0.00",
                                    "248": "0.00",
                                    "249": "NULL"
                                }
                            ]
                        },
                        "text/html": "<table><tr><th>VoidLine</th><th>OpenLine</th><th>Company</th><th>OrderNum</th><th>OrderLine</th><th>OrderNumLine</th><th>LineType</th><th>PartNum</th><th>LineDesc</th><th>Reference</th><th>IUM</th><th>RevisionNum</th><th>POLine</th><th>Commissionable</th><th>DiscountPercent</th><th>UnitPrice</th><th>DocUnitPrice</th><th>OrderQty</th><th>Discount</th><th>DocDiscount</th><th>RequestDate</th><th>ProdCode</th><th>XPartNum</th><th>XRevisionNum</th><th>PricePerCode</th><th>OrderComment</th><th>ShipComment</th><th>InvoiceComment</th><th>PickListComment</th><th>TaxCatID</th><th>AdvanceBillBal</th><th>DocAdvanceBillBal</th><th>QuoteNum</th><th>QuoteLine</th><th>TMBilling</th><th>OrigWhyNoTax</th><th>NeedByDate</th><th>CustNum</th><th>Rework</th><th>RMANum</th><th>RMALine</th><th>ProjectID</th><th>ContractNum</th><th>ContractCode</th><th>BasePartNum</th><th>Warranty</th><th>WarrantyCode</th><th>MaterialDuration</th><th>LaborDuration</th><th>MiscDuration</th><th>MaterialMod</th><th>LaborMod</th><th>WarrantyComment</th><th>Onsite</th><th>MatCovered</th><th>LabCovered</th><th>MiscCovered</th><th>SalesUM</th><th>SellingFactor</th><th>SellingQuantity</th><th>SalesCatID</th><th>ShipLineComplete</th><th>CumeQty</th><th>CumeDate</th><th>MktgCampaignID</th><th>MktgEvntSeq</th><th>LockQty</th><th>Linked</th><th>ICPONum</th><th>ICPOLine</th><th>ExtCompany</th><th>LastConfigDate</th><th>LastConfigTime</th><th>LastConfigUserID</th><th>ConfigUnitPrice</th><th>ConfigBaseUnitPrice</th><th>PriceListCode</th><th>BreakListCode</th><th>PricingQty</th><th>LockPrice</th><th>ListPrice</th><th>DocListPrice</th><th>OrdBasedPrice</th><th>DocOrdBasedPrice</th><th>PriceGroupCode</th><th>OverridePriceList</th><th>BaseRevisionNum</th><th>PricingValue</th><th>DisplaySeq</th><th>KitParentLine</th><th>KitAllowUpdate</th><th>KitShipComplete</th><th>KitBackFlush</th><th>KitPrintCompsPS</th><th>KitPrintCompsInv</th><th>KitPricing</th><th>KitQtyPer</th><th>SellingFactorDirection</th><th>RepRate1</th><th>RepRate2</th><th>RepRate3</th><th>RepRate4</th><th>RepRate5</th><th>RepSplit1</th><th>RepSplit2</th><th>RepSplit3</th><th>RepSplit4</th><th>RepSplit5</th><th>DemandContractLine</th><th>CreateNewJob</th><th>DoNotShipBeforeDate</th><th>GetDtls</th><th>DoNotShipAfterDate</th><th>SchedJob</th><th>RelJob</th><th>EnableCreateNewJob</th><th>EnableGetDtls</th><th>EnableSchedJob</th><th>EnableRelJob</th><th>CounterSaleWarehouse</th><th>CounterSaleBinNum</th><th>CounterSaleLotNum</th><th>CounterSaleDimCode</th><th>DemandDtlRejected</th><th>KitFlag</th><th>KitsLoaded</th><th>DemandContractNum</th><th>DemandHeadSeq</th><th>DemandDtlSeq</th><th>ChangedBy</th><th>ChangeDate</th><th>ChangeTime</th><th>ChangeDateTime</th><th>ReverseCharge</th><th>TotalReleases</th><th>Rpt1UnitPrice</th><th>Rpt2UnitPrice</th><th>Rpt3UnitPrice</th><th>Rpt1Discount</th><th>Rpt2Discount</th><th>Rpt3Discount</th><th>Rpt1AdvanceBillBal</th><th>Rpt2AdvanceBillBal</th><th>Rpt3AdvanceBillBal</th><th>Rpt1ListPrice</th><th>Rpt2ListPrice</th><th>Rpt3ListPrice</th><th>Rpt1OrdBasedPrice</th><th>Rpt2OrdBasedPrice</th><th>Rpt3OrdBasedPrice</th><th>ExtPriceDtl</th><th>DocExtPriceDtl</th><th>Rpt1ExtPriceDtl</th><th>Rpt2ExtPriceDtl</th><th>Rpt3ExtPriceDtl</th><th>LineStatus</th><th>InUnitPrice</th><th>DocInUnitPrice</th><th>InDiscount</th><th>DocInDiscount</th><th>InListPrice</th><th>DocInListPrice</th><th>InOrdBasedPrice</th><th>DocInOrdBasedPrice</th><th>Rpt1InUnitPrice</th><th>Rpt2InUnitPrice</th><th>Rpt3InUnitPrice</th><th>Rpt1InDiscount</th><th>Rpt2InDiscount</th><th>Rpt3InDiscount</th><th>Rpt1InListPrice</th><th>Rpt2InListPrice</th><th>Rpt3InListPrice</th><th>Rpt1InOrdBasedPrice</th><th>Rpt2InOrdBasedPrice</th><th>Rpt3InOrdBasedPrice</th><th>InExtPriceDtl</th><th>DocInExtPriceDtl</th><th>Rpt1InExtPriceDtl</th><th>Rpt2InExtPriceDtl</th><th>Rpt3InExtPriceDtl</th><th>OldOurOpenQty</th><th>OldSellingOpenQty</th><th>OldOpenValue</th><th>OldProdCode</th><th>PrevSellQty</th><th>PrevPartNum</th><th>PrevXPartNum</th><th>KitCompOrigSeq</th><th>KitCompOrigPart</th><th>SmartStringProcessed</th><th>SmartString</th><th>RenewalNbr</th><th>DiscBreakListCode</th><th>DiscListPrice</th><th>LockDisc</th><th>OverrideDiscPriceList</th><th>GroupSeq</th><th>ECCOrderNum</th><th>ECCOrderLine</th><th>DupOnJobCrt</th><th>UndersPct</th><th>Overs</th><th>Unders</th><th>OversUnitPrice</th><th>PlanUserID</th><th>PlanGUID</th><th>MOMsourceType</th><th>MOMsourceEst</th><th>DefaultOversPricing</th><th>ECCPlant</th><th>ECCQuoteNum</th><th>ECCQuoteLine</th><th>SysRevID</th><th>SysRowID</th><th>MfgJobType</th><th>ProFormaInvComment</th><th>CreateJob</th><th>ContractID</th><th>LinkToContract</th><th>DocInAdvanceBillBal</th><th>InAdvanceBillBal</th><th>Rpt1InAdvanceBillBal</th><th>Rpt2InAdvanceBillBal</th><th>Rpt3InAdvanceBillBal</th><th>PCLinkRemoved</th><th>CommodityCode</th><th>MSRP</th><th>DocMSRP</th><th>Rpt1MSRP</th><th>Rpt2MSRP</th><th>Rpt3MSRP</th><th>EndCustomerPrice</th><th>DocEndCustomerPrice</th><th>Rpt1EndCustomerPrice</th><th>Rpt2EndCustomerPrice</th><th>Rpt3EndCustomerPrice</th><th>PromotionalPrice</th><th>DocPromotionalPrice</th><th>Rpt1PromotionalPrice</th><th>Rpt2PromotionalPrice</th><th>Rpt3PromotionalPrice</th><th>OrderLineStatusCode</th><th>AttributeSetID</th><th>ForeignSysRowID</th><th>UD_SysRevID</th><th>DoNotBook_c</th><th>EstUnitCost_c</th><th>OriginalEstimate_c</th><th>EstimatedCosts</th></tr><tr><td>0</td><td>1</td><td>SOLAR</td><td>4000149</td><td>1</td><td>4000149-1</td><td>PART</td><td>DESIGN</td><td>DESIGN</td><td></td><td>EA</td><td>C</td><td></td><td>1</td><td>0.00</td><td>8750.00000</td><td>8750.00000</td><td>1.00000000</td><td>0.000</td><td>0.000</td><td>2022-07-15</td><td>02DES</td><td></td><td></td><td>E</td><td></td><td></td><td></td><td></td><td></td><td>0.00000</td><td>0.00000</td><td>10144</td><td>1</td><td>0</td><td></td><td>2022-07-31</td><td>1180</td><td>0</td><td>0</td><td>0</td><td>2128153</td><td>0</td><td></td><td></td><td>1</td><td></td><td>0</td><td>0</td><td>0</td><td></td><td></td><td></td><td>0</td><td>0</td><td>0</td><td>0</td><td>EA</td><td>1.00000000</td><td>1.00000000</td><td>AGIL</td><td>0</td><td>0.00000000</td><td>NULL</td><td>DEFAULT</td><td>1</td><td>0</td><td>0</td><td>0</td><td>0</td><td></td><td>NULL</td><td>0</td><td></td><td>0.00000</td><td>0.00000</td><td></td><td></td><td>0.00000000</td><td>0</td><td>8750.00000</td><td>8750.00000</td><td>8750.00000</td><td>8750.00000</td><td></td><td>0</td><td></td><td>0.000</td><td>1.000</td><td>1</td><td>0</td><td>0</td><td>0</td><td>0</td><td>0</td><td></td><td>0.00000000</td><td>D</td><td>0.00</td><td>0.00</td><td>0.00</td><td>0.00</td><td>0.00</td><td>100</td><td>0</td><td>0</td><td>0</td><td>0</td><td>0</td><td>1</td><td>NULL</td><td>0</td><td>NULL</td><td>0</td><td>0</td><td>1</td><td>1</td><td>1</td><td>1</td><td></td><td></td><td></td><td></td><td>0</td><td></td><td>0</td><td>0</td><td>0</td><td>0</td><td>LS</td><td>2022-07-04</td><td>54382</td><td>2022-07-04 15:06:22.000</td><td>0</td><td>1</td><td>0.00000</td><td>0.00000</td><td>0.00000</td><td>0.00000</td><td>0.00000</td><td>0.00000</td><td>0.00000</td><td>0.00000</td><td>0.00000</td><td>0.00000</td><td>0.00000</td><td>0.00000</td><td>0.00000</td><td>0.00000</td><td>0.00000</td><td>8750.000</td><td>8750.000</td><td>0.000</td><td>0.000</td><td>0.000</td><td>OPEN</td><td>0.00000</td><td>0.00000</td><td>0.000</td><td>0.000</td><td>0.00000</td><td>0.00000</td><td>0.00000</td><td>0.00000</td><td>0.00000</td><td>0.00000</td><td>0.00000</td><td>0.00000</td><td>0.00000</td><td>0.00000</td><td>0.00000</td><td>0.00000</td><td>0.00000</td><td>0.00000</td><td>0.00000</td><td>0.00000</td><td>0.000</td><td>0.000</td><td>0.000</td><td>0.000</td><td>0.000</td><td>0.00</td><td>0.00</td><td>0.00</td><td></td><td>0.00</td><td></td><td></td><td>0</td><td></td><td>0</td><td></td><td>0</td><td></td><td>0.00000</td><td>0</td><td>0</td><td>0</td><td></td><td>0</td><td>0</td><td>0.00000</td><td>0.00000</td><td>0.00000</td><td>0.00000</td><td></td><td></td><td></td><td></td><td></td><td></td><td></td><td>0</td><td>0x000000031ECFEBE2</td><td>af9f1d0a-2607-4756-a3b2-3d8269e5abeb</td><td></td><td></td><td>0</td><td></td><td>0</td><td>0.00000</td><td>0.00000</td><td>0.00000</td><td>0.00000</td><td>0.00000</td><td>0</td><td></td><td>0.000</td><td>0.000</td><td>0.000</td><td>0.000</td><td>0.000</td><td>0.000</td><td>0.000</td><td>0.000</td><td>0.000</td><td>0.000</td><td>0.000</td><td>0.000</td><td>0.000</td><td>0.000</td><td>0.000</td><td></td><td>0</td><td>af9f1d0a-2607-4756-a3b2-3d8269e5abeb</td><td>0x000000031ECCADD0</td><td>0</td><td>0.00</td><td>0.00</td><td>1750.000</td></tr><tr><td>0</td><td>1</td><td>SOLAR</td><td>4000149</td><td>2</td><td>4000149-2</td><td>PART</td><td>MFG MATERIAL</td><td>MFG MATERIAL</td><td></td><td>EA</td><td>A</td><td></td><td>1</td><td>0.00</td><td>20786767.00000</td><td>20786767.00000</td><td>1.00000000</td><td>0.000</td><td>0.000</td><td>2022-07-15</td><td>02MFG</td><td></td><td></td><td>E</td><td></td><td></td><td></td><td></td><td></td><td>0.00000</td><td>0.00000</td><td>10144</td><td>2</td><td>0</td><td></td><td>2022-07-31</td><td>1180</td><td>0</td><td>0</td><td>0</td><td>2128153</td><td>0</td><td></td><td></td><td>1</td><td></td><td>0</td><td>0</td><td>0</td><td></td><td></td><td></td><td>0</td><td>0</td><td>0</td><td>0</td><td>EA</td><td>1.00000000</td><td>1.00000000</td><td>AGIL</td><td>0</td><td>0.00000000</td><td>NULL</td><td>DEFAULT</td><td>1</td><td>0</td><td>0</td><td>0</td><td>0</td><td></td><td>NULL</td><td>0</td><td></td><td>0.00000</td><td>0.00000</td><td></td><td></td><td>0.00000000</td><td>0</td><td>20786767.00000</td><td>20786767.00000</td><td>20786767.00000</td><td>20786767.00000</td><td></td><td>0</td><td></td><td>0.000</td><td>2.000</td><td>2</td><td>0</td><td>0</td><td>0</td><td>0</td><td>0</td><td></td><td>0.00000000</td><td>D</td><td>0.00</td><td>0.00</td><td>0.00</td><td>0.00</td><td>0.00</td><td>100</td><td>0</td><td>0</td><td>0</td><td>0</td><td>0</td><td>1</td><td>NULL</td><td>0</td><td>NULL</td><td>0</td><td>0</td><td>1</td><td>1</td><td>1</td><td>1</td><td></td><td></td><td></td><td></td><td>0</td><td></td><td>0</td><td>0</td><td>0</td><td>0</td><td>LS</td><td>2022-07-04</td><td>54382</td><td>2022-07-04 15:06:22.000</td><td>0</td><td>1</td><td>0.00000</td><td>0.00000</td><td>0.00000</td><td>0.00000</td><td>0.00000</td><td>0.00000</td><td>0.00000</td><td>0.00000</td><td>0.00000</td><td>0.00000</td><td>0.00000</td><td>0.00000</td><td>0.00000</td><td>0.00000</td><td>0.00000</td><td>20786767.000</td><td>20786767.000</td><td>0.000</td><td>0.000</td><td>0.000</td><td>OPEN</td><td>0.00000</td><td>0.00000</td><td>0.000</td><td>0.000</td><td>0.00000</td><td>0.00000</td><td>0.00000</td><td>0.00000</td><td>0.00000</td><td>0.00000</td><td>0.00000</td><td>0.00000</td><td>0.00000</td><td>0.00000</td><td>0.00000</td><td>0.00000</td><td>0.00000</td><td>0.00000</td><td>0.00000</td><td>0.00000</td><td>0.000</td><td>0.000</td><td>0.000</td><td>0.000</td><td>0.000</td><td>0.00</td><td>0.00</td><td>0.00</td><td></td><td>0.00</td><td></td><td></td><td>0</td><td></td><td>0</td><td></td><td>0</td><td></td><td>0.00000</td><td>0</td><td>0</td><td>0</td><td></td><td>0</td><td>0</td><td>0.00000</td><td>0.00000</td><td>0.00000</td><td>0.00000</td><td></td><td></td><td></td><td></td><td></td><td></td><td></td><td>0</td><td>0x000000031ECFEBE4</td><td>8839dc9a-c4c0-4d02-9000-4a1c302e78f8</td><td></td><td></td><td>0</td><td></td><td>0</td><td>0.00000</td><td>0.00000</td><td>0.00000</td><td>0.00000</td><td>0.00000</td><td>0</td><td></td><td>0.000</td><td>0.000</td><td>0.000</td><td>0.000</td><td>0.000</td><td>0.000</td><td>0.000</td><td>0.000</td><td>0.000</td><td>0.000</td><td>0.000</td><td>0.000</td><td>0.000</td><td>0.000</td><td>0.000</td><td></td><td>0</td><td>8839dc9a-c4c0-4d02-9000-4a1c302e78f8</td><td>0x000000031ECCAE0D</td><td>0</td><td>0.00</td><td>0.00</td><td>16629501.140</td></tr><tr><td>0</td><td>1</td><td>SOLAR</td><td>4000149</td><td>3</td><td>4000149-3</td><td>PART</td><td>FREIGHT</td><td>FREIGHT</td><td></td><td>EA</td><td>C</td><td></td><td>1</td><td>0.00</td><td>1626690.00000</td><td>1626690.00000</td><td>1.00000000</td><td>0.000</td><td>0.000</td><td>2022-07-15</td><td>02FRT</td><td></td><td></td><td>E</td><td></td><td></td><td></td><td></td><td></td><td>0.00000</td><td>0.00000</td><td>10144</td><td>3</td><td>0</td><td></td><td>2022-07-31</td><td>1180</td><td>0</td><td>0</td><td>0</td><td>2128153</td><td>0</td><td></td><td></td><td>1</td><td></td><td>0</td><td>0</td><td>0</td><td></td><td></td><td></td><td>0</td><td>0</td><td>0</td><td>0</td><td>EA</td><td>1.00000000</td><td>1.00000000</td><td>AGIL</td><td>0</td><td>0.00000000</td><td>NULL</td><td>DEFAULT</td><td>1</td><td>0</td><td>0</td><td>0</td><td>0</td><td></td><td>NULL</td><td>0</td><td></td><td>0.00000</td><td>0.00000</td><td></td><td></td><td>0.00000000</td><td>0</td><td>1626690.00000</td><td>1626690.00000</td><td>1626690.00000</td><td>1626690.00000</td><td></td><td>0</td><td></td><td>0.000</td><td>3.000</td><td>3</td><td>0</td><td>0</td><td>0</td><td>0</td><td>0</td><td></td><td>0.00000000</td><td>D</td><td>0.00</td><td>0.00</td><td>0.00</td><td>0.00</td><td>0.00</td><td>100</td><td>0</td><td>0</td><td>0</td><td>0</td><td>0</td><td>1</td><td>NULL</td><td>0</td><td>NULL</td><td>0</td><td>0</td><td>1</td><td>1</td><td>1</td><td>1</td><td></td><td></td><td></td><td></td><td>0</td><td></td><td>0</td><td>0</td><td>0</td><td>0</td><td>LS</td><td>2022-07-04</td><td>54382</td><td>2022-07-04 15:06:22.000</td><td>0</td><td>1</td><td>0.00000</td><td>0.00000</td><td>0.00000</td><td>0.00000</td><td>0.00000</td><td>0.00000</td><td>0.00000</td><td>0.00000</td><td>0.00000</td><td>0.00000</td><td>0.00000</td><td>0.00000</td><td>0.00000</td><td>0.00000</td><td>0.00000</td><td>1626690.000</td><td>1626690.000</td><td>0.000</td><td>0.000</td><td>0.000</td><td>OPEN</td><td>0.00000</td><td>0.00000</td><td>0.000</td><td>0.000</td><td>0.00000</td><td>0.00000</td><td>0.00000</td><td>0.00000</td><td>0.00000</td><td>0.00000</td><td>0.00000</td><td>0.00000</td><td>0.00000</td><td>0.00000</td><td>0.00000</td><td>0.00000</td><td>0.00000</td><td>0.00000</td><td>0.00000</td><td>0.00000</td><td>0.000</td><td>0.000</td><td>0.000</td><td>0.000</td><td>0.000</td><td>0.00</td><td>0.00</td><td>0.00</td><td></td><td>0.00</td><td></td><td></td><td>0</td><td></td><td>0</td><td></td><td>0</td><td></td><td>0.00000</td><td>0</td><td>0</td><td>0</td><td></td><td>0</td><td>0</td><td>0.00000</td><td>0.00000</td><td>0.00000</td><td>0.00000</td><td></td><td></td><td></td><td></td><td></td><td></td><td></td><td>0</td><td>0x000000031ECFEBE6</td><td>85ebfd2e-71a6-4aba-8ddb-33940f3319d0</td><td></td><td></td><td>0</td><td></td><td>0</td><td>0.00000</td><td>0.00000</td><td>0.00000</td><td>0.00000</td><td>0.00000</td><td>0</td><td></td><td>0.000</td><td>0.000</td><td>0.000</td><td>0.000</td><td>0.000</td><td>0.000</td><td>0.000</td><td>0.000</td><td>0.000</td><td>0.000</td><td>0.000</td><td>0.000</td><td>0.000</td><td>0.000</td><td>0.000</td><td></td><td>0</td><td>85ebfd2e-71a6-4aba-8ddb-33940f3319d0</td><td>0x000000031ECCAE38</td><td>0</td><td>0.00</td><td>0.00</td><td>1250799.480</td></tr><tr><td>0</td><td>1</td><td>SOLAR</td><td>4000149</td><td>4</td><td>4000149-4</td><td>PART</td><td>INSTALLATION</td><td>INSTALLATION</td><td></td><td>EA</td><td>C</td><td></td><td>1</td><td>0.00</td><td>0.00000</td><td>0.00000</td><td>1.00000000</td><td>0.000</td><td>0.000</td><td>2022-07-15</td><td>02LBR</td><td></td><td></td><td>E</td><td></td><td></td><td></td><td></td><td></td><td>0.00000</td><td>0.00000</td><td>10144</td><td>4</td><td>0</td><td></td><td>2022-07-31</td><td>1180</td><td>0</td><td>0</td><td>0</td><td>2128153</td><td>0</td><td></td><td></td><td>1</td><td></td><td>0</td><td>0</td><td>0</td><td></td><td></td><td></td><td>0</td><td>0</td><td>0</td><td>0</td><td>EA</td><td>1.00000000</td><td>1.00000000</td><td>AGIL</td><td>0</td><td>0.00000000</td><td>NULL</td><td>DEFAULT</td><td>1</td><td>0</td><td>0</td><td>0</td><td>0</td><td></td><td>NULL</td><td>0</td><td></td><td>0.00000</td><td>0.00000</td><td></td><td></td><td>0.00000000</td><td>0</td><td>0.00000</td><td>0.00000</td><td>0.00000</td><td>0.00000</td><td></td><td>0</td><td></td><td>0.000</td><td>4.000</td><td>4</td><td>0</td><td>0</td><td>0</td><td>0</td><td>0</td><td></td><td>0.00000000</td><td>D</td><td>0.00</td><td>0.00</td><td>0.00</td><td>0.00</td><td>0.00</td><td>100</td><td>0</td><td>0</td><td>0</td><td>0</td><td>0</td><td>1</td><td>NULL</td><td>0</td><td>NULL</td><td>0</td><td>0</td><td>1</td><td>1</td><td>1</td><td>1</td><td></td><td></td><td></td><td></td><td>0</td><td></td><td>0</td><td>0</td><td>0</td><td>0</td><td>LS</td><td>2022-07-04</td><td>54382</td><td>2022-07-04 15:06:22.000</td><td>0</td><td>1</td><td>0.00000</td><td>0.00000</td><td>0.00000</td><td>0.00000</td><td>0.00000</td><td>0.00000</td><td>0.00000</td><td>0.00000</td><td>0.00000</td><td>0.00000</td><td>0.00000</td><td>0.00000</td><td>0.00000</td><td>0.00000</td><td>0.00000</td><td>0.000</td><td>0.000</td><td>0.000</td><td>0.000</td><td>0.000</td><td>OPEN</td><td>0.00000</td><td>0.00000</td><td>0.000</td><td>0.000</td><td>0.00000</td><td>0.00000</td><td>0.00000</td><td>0.00000</td><td>0.00000</td><td>0.00000</td><td>0.00000</td><td>0.00000</td><td>0.00000</td><td>0.00000</td><td>0.00000</td><td>0.00000</td><td>0.00000</td><td>0.00000</td><td>0.00000</td><td>0.00000</td><td>0.000</td><td>0.000</td><td>0.000</td><td>0.000</td><td>0.000</td><td>0.00</td><td>0.00</td><td>0.00</td><td></td><td>0.00</td><td></td><td></td><td>0</td><td></td><td>0</td><td></td><td>0</td><td></td><td>0.00000</td><td>0</td><td>0</td><td>0</td><td></td><td>0</td><td>0</td><td>0.00000</td><td>0.00000</td><td>0.00000</td><td>0.00000</td><td></td><td></td><td></td><td></td><td></td><td></td><td></td><td>0</td><td>0x000000031ECFEBE8</td><td>2e640e75-6a0b-4a35-850a-87018a8f778f</td><td></td><td></td><td>0</td><td></td><td>0</td><td>0.00000</td><td>0.00000</td><td>0.00000</td><td>0.00000</td><td>0.00000</td><td>0</td><td></td><td>0.000</td><td>0.000</td><td>0.000</td><td>0.000</td><td>0.000</td><td>0.000</td><td>0.000</td><td>0.000</td><td>0.000</td><td>0.000</td><td>0.000</td><td>0.000</td><td>0.000</td><td>0.000</td><td>0.000</td><td></td><td>0</td><td>2e640e75-6a0b-4a35-850a-87018a8f778f</td><td>0x000000031ECCAE66</td><td>0</td><td>0.00</td><td>0.00</td><td>0.000</td></tr><tr><td>0</td><td>1</td><td>SOLAR</td><td>4000149</td><td>5</td><td>4000149-5</td><td>PART</td><td>CONSPHASE</td><td>Construction Phases</td><td></td><td>EA</td><td>C</td><td></td><td>1</td><td>0.00</td><td>0.00000</td><td>0.00000</td><td>1.00000000</td><td>0.000</td><td>0.000</td><td>2022-12-31</td><td>02MFG</td><td></td><td></td><td>E</td><td></td><td></td><td></td><td></td><td></td><td>0.00000</td><td>0.00000</td><td>10144</td><td>5</td><td>0</td><td></td><td>2022-12-31</td><td>1180</td><td>0</td><td>0</td><td>0</td><td>2128153</td><td>0</td><td></td><td></td><td>1</td><td></td><td>0</td><td>0</td><td>0</td><td></td><td></td><td></td><td>0</td><td>0</td><td>0</td><td>0</td><td>EA</td><td>1.00000000</td><td>1.00000000</td><td>AGIL</td><td>0</td><td>0.00000000</td><td>NULL</td><td>DEFAULT</td><td>1</td><td>0</td><td>0</td><td>0</td><td>0</td><td></td><td>NULL</td><td>0</td><td></td><td>0.00000</td><td>0.00000</td><td></td><td></td><td>0.00000000</td><td>0</td><td>0.00000</td><td>0.00000</td><td>0.00000</td><td>0.00000</td><td></td><td>0</td><td></td><td>0.000</td><td>5.000</td><td>5</td><td>0</td><td>0</td><td>0</td><td>0</td><td>0</td><td></td><td>0.00000000</td><td>D</td><td>0.00</td><td>0.00</td><td>0.00</td><td>0.00</td><td>0.00</td><td>100</td><td>0</td><td>0</td><td>0</td><td>0</td><td>0</td><td>1</td><td>NULL</td><td>0</td><td>NULL</td><td>0</td><td>0</td><td>1</td><td>1</td><td>1</td><td>1</td><td></td><td></td><td></td><td></td><td>0</td><td></td><td>0</td><td>0</td><td>0</td><td>0</td><td>LS</td><td>2022-07-04</td><td>54382</td><td>2022-07-04 15:06:22.000</td><td>0</td><td>3</td><td>0.00000</td><td>0.00000</td><td>0.00000</td><td>0.00000</td><td>0.00000</td><td>0.00000</td><td>0.00000</td><td>0.00000</td><td>0.00000</td><td>0.00000</td><td>0.00000</td><td>0.00000</td><td>0.00000</td><td>0.00000</td><td>0.00000</td><td>0.000</td><td>0.000</td><td>0.000</td><td>0.000</td><td>0.000</td><td>OPEN</td><td>0.00000</td><td>0.00000</td><td>0.000</td><td>0.000</td><td>0.00000</td><td>0.00000</td><td>0.00000</td><td>0.00000</td><td>0.00000</td><td>0.00000</td><td>0.00000</td><td>0.00000</td><td>0.00000</td><td>0.00000</td><td>0.00000</td><td>0.00000</td><td>0.00000</td><td>0.00000</td><td>0.00000</td><td>0.00000</td><td>0.000</td><td>0.000</td><td>0.000</td><td>0.000</td><td>0.000</td><td>0.00</td><td>0.00</td><td>0.00</td><td></td><td>2.00</td><td></td><td></td><td>0</td><td></td><td>0</td><td></td><td>0</td><td></td><td>0.00000</td><td>0</td><td>0</td><td>0</td><td></td><td>0</td><td>0</td><td>0.00000</td><td>0.00000</td><td>0.00000</td><td>0.00000</td><td></td><td></td><td></td><td></td><td></td><td></td><td></td><td>0</td><td>0x000000031ECFEBEA</td><td>15c1357e-5322-465c-b06b-3293b901f1d6</td><td></td><td></td><td>0</td><td></td><td>0</td><td>0.00000</td><td>0.00000</td><td>0.00000</td><td>0.00000</td><td>0.00000</td><td>0</td><td></td><td>0.000</td><td>0.000</td><td>0.000</td><td>0.000</td><td>0.000</td><td>0.000</td><td>0.000</td><td>0.000</td><td>0.000</td><td>0.000</td><td>0.000</td><td>0.000</td><td>0.000</td><td>0.000</td><td>0.000</td><td></td><td>0</td><td>15c1357e-5322-465c-b06b-3293b901f1d6</td><td>0x000000031ECCAE8D</td><td>0</td><td>0.00</td><td>0.00</td><td>NULL</td></tr></table>"
                    },
                    "metadata": {}
                }
            ],
            "execution_count": 1
        },
        {
            "cell_type": "markdown",
            "source": [
                "**Sell Price Query Example**"
            ],
            "metadata": {
                "azdata_cell_guid": "d781e0a5-a35f-4e91-a237-7f85ab919bc6"
            },
            "attachments": {}
        },
        {
            "cell_type": "code",
            "source": [
                "Declare @ProjectID Varchar(50)\r\n",
                "Set @ProjectID = '22221929';\r\n",
                "Declare @Company Varchar(50)\r\n",
                "Set @Company = 'Solar';\r\n",
                "\r\n",
                "With OrderDetail\r\n",
                "as (Select od.Company,\r\n",
                "           od.OrderNum,\r\n",
                "           od.ProjectID,\r\n",
                "           od.OrderLine,\r\n",
                "           od.UnitPrice,\r\n",
                "           od.OrderQty,\r\n",
                "           (od.UnitPrice * od.OrderQty) as OrderLineSellPrice\r\n",
                "    FROM [ERPDB].[etl].[vwOrderdetail] as od\r\n",
                "   )\r\n",
                "\r\n",
                "Select Company,\r\n",
                "       ProjectID,\r\n",
                "       Sum(OrderLineSellPrice) as SellPrice\r\n",
                "From OrderDetail\r\n",
                "Where ProjectID = @ProjectID\r\n",
                "      and company = @Company\r\n",
                "Group By Company,\r\n",
                "         ProjectID\r\n",
                ""
            ],
            "metadata": {
                "language": "sql",
                "azdata_cell_guid": "7ada590c-61d5-4388-a63d-a421932f2702",
                "tags": []
            },
            "outputs": [
                {
                    "output_type": "display_data",
                    "data": {
                        "text/html": "(1 row affected)"
                    },
                    "metadata": {}
                },
                {
                    "output_type": "display_data",
                    "data": {
                        "text/html": "Total execution time: 00:00:00.057"
                    },
                    "metadata": {}
                },
                {
                    "output_type": "execute_result",
                    "execution_count": 7,
                    "data": {
                        "application/vnd.dataresource+json": {
                            "schema": {
                                "fields": [
                                    {
                                        "name": "Company"
                                    },
                                    {
                                        "name": "ProjectID"
                                    },
                                    {
                                        "name": "SellPrice"
                                    }
                                ]
                            },
                            "data": [
                                {
                                    "0": "SOLAR",
                                    "1": "2128153",
                                    "2": "22422207.00000000000"
                                }
                            ]
                        },
                        "text/html": "<table><tr><th>Company</th><th>ProjectID</th><th>SellPrice</th></tr><tr><td>SOLAR</td><td>2128153</td><td>22422207.00000000000</td></tr></table>"
                    },
                    "metadata": {}
                }
            ],
            "execution_count": 7
        },
        {
            "cell_type": "markdown",
            "source": [
                "**Quoted Cost Query Example**"
            ],
            "metadata": {
                "language": "sql",
                "azdata_cell_guid": "aa531167-7094-43ae-b201-e949c92d31c8"
            },
            "attachments": {}
        },
        {
            "cell_type": "code",
            "source": [
                "Declare @ProjectID Varchar(50)\r\n",
                "Set @ProjectID = '22221929';\r\n",
                "Declare @Company Varchar(50)\r\n",
                "Set @Company = 'Solar';\r\n",
                "\r\n",
                "With ProjectPhaseEst\r\n",
                "AS (SELECT Company,\r\n",
                "           ProjectID,\r\n",
                "           OrderNum,\r\n",
                "           OrderLine,\r\n",
                "           Sum(BudTotLbrCost + BudTotBurCost + BudTotSubCost + BudTotMtlCost + BudTotMtlBurCost + BudTotODCCost) as EstimatedCosts,\r\n",
                "           Sum(TotQuotODCCost) as QuotedOtherDirectCosts,\r\n",
                "           Sum(TotQuotODCCost + TotQuotLbrCost + TotQuotBurCost + TotQuotSubContCost + TotQuotMtlCost\r\n",
                "               + TotQuotMtlBurCost\r\n",
                "              ) as QuotedCosts\r\n",
                "    From ERPDB.ERP.ProjPhase\r\n",
                "    -- Where clause for Level only includes project phases at the top level which are already summarized from lower levels\r\n",
                "    Where Level = 1\r\n",
                "    Group By Company,\r\n",
                "             ProjectID,\r\n",
                "             OrderNum,\r\n",
                "             OrderLine\r\n",
                "   )\r\n",
                "\r\n",
                "Select od.Company,\r\n",
                "       od.ProjectID,\r\n",
                "       sum(pp.QuotedOtherDirectCosts) as TotalQuotedOtherDirectCosts,\r\n",
                "       sum(pp.QuotedCosts) as TotalQuotedCosts\r\n",
                "FROM [ERPDB].[etl].[vwOrderdetail] as od\r\n",
                "    LEFT Join ProjectPhaseEst as pp\r\n",
                "        ON od.OrderNum = pp.OrderNum\r\n",
                "           and od.OrderLine = pp.Orderline\r\n",
                "Where od.ProjectID = @ProjectID\r\n",
                "      and od.Company = @Company\r\n",
                "Group by od.ProjectID,\r\n",
                "         od.Company"
            ],
            "metadata": {
                "language": "sql",
                "azdata_cell_guid": "35c03315-66d7-437a-a896-ea641c2b7842",
                "tags": []
            },
            "outputs": [
                {
                    "output_type": "display_data",
                    "data": {
                        "text/html": "Warning: Null value is eliminated by an aggregate or other SET operation."
                    },
                    "metadata": {}
                },
                {
                    "output_type": "display_data",
                    "data": {
                        "text/html": "(1 row affected)"
                    },
                    "metadata": {}
                },
                {
                    "output_type": "display_data",
                    "data": {
                        "text/html": "Total execution time: 00:00:00.088"
                    },
                    "metadata": {}
                },
                {
                    "output_type": "execute_result",
                    "execution_count": 9,
                    "data": {
                        "application/vnd.dataresource+json": {
                            "schema": {
                                "fields": [
                                    {
                                        "name": "Company"
                                    },
                                    {
                                        "name": "ProjectID"
                                    },
                                    {
                                        "name": "TotalQuotedOtherDirectCosts"
                                    },
                                    {
                                        "name": "TotalQuotedCosts"
                                    }
                                ]
                            },
                            "data": [
                                {
                                    "0": "SOLAR",
                                    "1": "22221929",
                                    "2": "515216.300",
                                    "3": "515216.300"
                                }
                            ]
                        },
                        "text/html": "<table><tr><th>Company</th><th>ProjectID</th><th>TotalQuotedOtherDirectCosts</th><th>TotalQuotedCosts</th></tr><tr><td>SOLAR</td><td>22221929</td><td>515216.300</td><td>515216.300</td></tr></table>"
                    },
                    "metadata": {}
                }
            ],
            "execution_count": 9
        },
        {
            "cell_type": "markdown",
            "source": [
                "**Current Budget Query Example**"
            ],
            "metadata": {
                "language": "sql",
                "azdata_cell_guid": "7c0843ba-f72f-4c8d-9ecd-2c282cb550fc"
            },
            "attachments": {}
        },
        {
            "cell_type": "code",
            "source": [
                "Declare @ProjectID Varchar(50)\r\n",
                "Set @ProjectID = '22221929';\r\n",
                "Declare @Company Varchar(50)\r\n",
                "Set @Company = 'Solar';\r\n",
                "\r\n",
                "With ProjectPhaseEst\r\n",
                "AS (SELECT Company,\r\n",
                "           ProjectID,\r\n",
                "           OrderNum,\r\n",
                "           OrderLine,\r\n",
                "           Sum(BudTotLbrCost) as BudgetedLaborCosts,\r\n",
                "           Sum(BudTotBurCost) as BudgetedBurdenCosts,\r\n",
                "           Sum(BudTotSubCost) as BudgetedSubCosts,\r\n",
                "           Sum(BudTotMtlCost) as BudgetedMaterialCosts,\r\n",
                "           Sum(BudTotMtlBurCost) as BudgetedMaterialBurdenCosts,\r\n",
                "           Sum(BudTotODCCost) as BudgetedOtherDirectCosts,\r\n",
                "           Sum(BudTotLbrCost + BudTotBurCost + BudTotSubCost + BudTotMtlCost + BudTotMtlBurCost + BudTotODCCost) as BudgetedCosts\r\n",
                "    From ERPDB.ERP.ProjPhase\r\n",
                "    -- Where clause for Level only includes project phases at the top level which are already summarized from lower levels\r\n",
                "    Where Level = 1\r\n",
                "    Group By Company,\r\n",
                "             ProjectID,\r\n",
                "             OrderNum,\r\n",
                "             OrderLine\r\n",
                "   )\r\n",
                "\r\n",
                "Select od.Company,\r\n",
                "       od.ProjectID,\r\n",
                "       sum(pp.BudgetedCosts) as TotalBudgetedCosts\r\n",
                "FROM [ERPDB].[etl].[vwOrderdetail] as od\r\n",
                "    LEFT Join ProjectPhaseEst as pp\r\n",
                "        ON od.OrderNum = pp.OrderNum\r\n",
                "           and od.OrderLine = pp.Orderline\r\n",
                "Where od.ProjectID = @ProjectID\r\n",
                "      and od.Company = @Company\r\n",
                "Group by od.ProjectID,\r\n",
                "         od.Company"
            ],
            "metadata": {
                "language": "sql",
                "azdata_cell_guid": "84591a0a-fc47-43b5-8489-16748c1c9d9b",
                "tags": []
            },
            "outputs": [
                {
                    "output_type": "display_data",
                    "data": {
                        "text/html": "Warning: Null value is eliminated by an aggregate or other SET operation."
                    },
                    "metadata": {}
                },
                {
                    "output_type": "display_data",
                    "data": {
                        "text/html": "(1 row affected)"
                    },
                    "metadata": {}
                },
                {
                    "output_type": "display_data",
                    "data": {
                        "text/html": "Total execution time: 00:00:00.158"
                    },
                    "metadata": {}
                },
                {
                    "output_type": "execute_result",
                    "execution_count": 8,
                    "data": {
                        "application/vnd.dataresource+json": {
                            "schema": {
                                "fields": [
                                    {
                                        "name": "Company"
                                    },
                                    {
                                        "name": "ProjectID"
                                    },
                                    {
                                        "name": "TotalBudgetedCosts"
                                    }
                                ]
                            },
                            "data": [
                                {
                                    "0": "SOLAR",
                                    "1": "22221929",
                                    "2": "466582.300"
                                }
                            ]
                        },
                        "text/html": "<table><tr><th>Company</th><th>ProjectID</th><th>TotalBudgetedCosts</th></tr><tr><td>SOLAR</td><td>22221929</td><td>466582.300</td></tr></table>"
                    },
                    "metadata": {}
                }
            ],
            "execution_count": 8
        },
        {
            "cell_type": "markdown",
            "source": [
                "**Actual Cost Query Example** for High River Project"
            ],
            "metadata": {
                "language": "sql",
                "azdata_cell_guid": "a3ef0e09-a2c6-4d8e-8868-c6c2dbcc015b"
            },
            "attachments": {}
        },
        {
            "cell_type": "code",
            "source": [
                "Declare @ProjectID Varchar(50)\r\n",
                "Set @ProjectID = '22221929';\r\n",
                "Declare @Company Varchar(50)\r\n",
                "Set @Company = 'Solar';\r\n",
                "\r\n",
                "with PartSummary\r\n",
                "as (Select Company,\r\n",
                "       ProjectID,\r\n",
                "       OrderNum,\r\n",
                "       Ordernumline,\r\n",
                "       Sum(ExtCost) as OrderLinePartCosts\r\n",
                "FROM [ERPDB].[etl].[vwPartTran]\r\n",
                "Group by Company,\r\n",
                "         ProjectID,\r\n",
                "         OrderNum,\r\n",
                "         OrderNumLine\r\n",
                "),\r\n",
                "\r\n",
                "LaborSummary\r\n",
                "as (Select Company,\r\n",
                "       ProjectID,\r\n",
                "       OrderNum,\r\n",
                "       Ordernumline,\r\n",
                "       Sum(LaborHrs*LaborRate) as LaborCost,\r\n",
                "       Sum(BurdenHrs*BurdenRate) as BurdenCost,\r\n",
                "       Sum((LaborHrs*LaborRate)+(BurdenHrs*BurdenRate)) as OrderLineLaborCosts\r\n",
                "FROM [ERPDB].[etl].[vwLaborDtl]\r\n",
                "Group by Company,\r\n",
                "         ProjectID,\r\n",
                "         OrderNum,\r\n",
                "         OrderNumLine\r\n",
                ")\r\n",
                "\r\n",
                "Select od.Company,\r\n",
                "    od.ProjectID,\r\n",
                " --   od.OrderNumline,\r\n",
                "    Sum(ps.OrderLinePartCosts) as TotalPartCosts,\r\n",
                "    Sum(ls.OrderLineLaborCosts) as TotalLaborCosts,\r\n",
                "    Sum(COALESCE(ps.OrderLinePartCosts,0))+Sum(COALESCE(ls.OrderLineLaborCosts,0)) as TotalCosts\r\n",
                "From [ERPDB].[etl].[vwOrderdetail] as od\r\n",
                "Left Join PartSummary ps \r\n",
                "    on od.Company = ps.company and od.OrderNumLine = ps.OrderNumLine\r\n",
                "LEft Join LaborSummary ls \r\n",
                "    on od.Company = ls.company and od.OrderNumLine = ls.OrderNumLine\r\n",
                "Where od.ProjectID = @ProjectID\r\n",
                "      and od.Company = @Company\r\n",
                "Group by od.Company,\r\n",
                "         od.ProjectID,\r\n",
                " --        od.OrderNumLine"
            ],
            "metadata": {
                "language": "sql",
                "azdata_cell_guid": "e221e999-e464-4438-a03f-6974c4998583",
                "tags": []
            },
            "outputs": [
                {
                    "output_type": "display_data",
                    "data": {
                        "text/html": "Warning: Null value is eliminated by an aggregate or other SET operation."
                    },
                    "metadata": {}
                },
                {
                    "output_type": "display_data",
                    "data": {
                        "text/html": "(15 rows affected)"
                    },
                    "metadata": {}
                },
                {
                    "output_type": "display_data",
                    "data": {
                        "text/html": "Total execution time: 00:00:01.598"
                    },
                    "metadata": {}
                },
                {
                    "output_type": "execute_result",
                    "execution_count": 1,
                    "data": {
                        "application/vnd.dataresource+json": {
                            "schema": {
                                "fields": [
                                    {
                                        "name": "Company"
                                    },
                                    {
                                        "name": "ProjectID"
                                    },
                                    {
                                        "name": "OrderNumline"
                                    },
                                    {
                                        "name": "TotalPartCosts"
                                    },
                                    {
                                        "name": "TotalLaborCosts"
                                    },
                                    {
                                        "name": "TotalCosts"
                                    }
                                ]
                            },
                            "data": [
                                {
                                    "0": "SOLAR",
                                    "1": "22221929",
                                    "2": "4000496-2",
                                    "3": "NULL",
                                    "4": "NULL",
                                    "5": "0.000"
                                },
                                {
                                    "0": "SOLAR",
                                    "1": "22221929",
                                    "2": "4000237-5",
                                    "3": "276901.060",
                                    "4": "NULL",
                                    "5": "276901.060"
                                },
                                {
                                    "0": "SOLAR",
                                    "1": "22221929",
                                    "2": "4000237-1",
                                    "3": "NULL",
                                    "4": "NULL",
                                    "5": "0.000"
                                },
                                {
                                    "0": "SOLAR",
                                    "1": "22221929",
                                    "2": "4000496-5",
                                    "3": "1529.850",
                                    "4": "NULL",
                                    "5": "1529.850"
                                },
                                {
                                    "0": "SOLAR",
                                    "1": "22221929",
                                    "2": "4000237-4",
                                    "3": "59269.470",
                                    "4": "38697.40980000000",
                                    "5": "97966.880"
                                },
                                {
                                    "0": "SOLAR",
                                    "1": "22221929",
                                    "2": "4000464-1",
                                    "3": "NULL",
                                    "4": "NULL",
                                    "5": "0.000"
                                },
                                {
                                    "0": "SOLAR",
                                    "1": "22221929",
                                    "2": "4000464-5",
                                    "3": "890.270",
                                    "4": "NULL",
                                    "5": "890.270"
                                },
                                {
                                    "0": "SOLAR",
                                    "1": "22221929",
                                    "2": "4000464-3",
                                    "3": "NULL",
                                    "4": "NULL",
                                    "5": "0.000"
                                },
                                {
                                    "0": "SOLAR",
                                    "1": "22221929",
                                    "2": "4000237-2",
                                    "3": "NULL",
                                    "4": "NULL",
                                    "5": "0.000"
                                },
                                {
                                    "0": "SOLAR",
                                    "1": "22221929",
                                    "2": "4000464-4",
                                    "3": "NULL",
                                    "4": "NULL",
                                    "5": "0.000"
                                },
                                {
                                    "0": "SOLAR",
                                    "1": "22221929",
                                    "2": "4000237-3",
                                    "3": "39227.960",
                                    "4": "NULL",
                                    "5": "39227.960"
                                },
                                {
                                    "0": "SOLAR",
                                    "1": "22221929",
                                    "2": "4000496-4",
                                    "3": "NULL",
                                    "4": "NULL",
                                    "5": "0.000"
                                },
                                {
                                    "0": "SOLAR",
                                    "1": "22221929",
                                    "2": "4000464-2",
                                    "3": "NULL",
                                    "4": "NULL",
                                    "5": "0.000"
                                },
                                {
                                    "0": "SOLAR",
                                    "1": "22221929",
                                    "2": "4000496-1",
                                    "3": "NULL",
                                    "4": "NULL",
                                    "5": "0.000"
                                },
                                {
                                    "0": "SOLAR",
                                    "1": "22221929",
                                    "2": "4000496-3",
                                    "3": "NULL",
                                    "4": "NULL",
                                    "5": "0.000"
                                }
                            ]
                        },
                        "text/html": "<table><tr><th>Company</th><th>ProjectID</th><th>OrderNumline</th><th>TotalPartCosts</th><th>TotalLaborCosts</th><th>TotalCosts</th></tr><tr><td>SOLAR</td><td>22221929</td><td>4000496-2</td><td>NULL</td><td>NULL</td><td>0.000</td></tr><tr><td>SOLAR</td><td>22221929</td><td>4000237-5</td><td>276901.060</td><td>NULL</td><td>276901.060</td></tr><tr><td>SOLAR</td><td>22221929</td><td>4000237-1</td><td>NULL</td><td>NULL</td><td>0.000</td></tr><tr><td>SOLAR</td><td>22221929</td><td>4000496-5</td><td>1529.850</td><td>NULL</td><td>1529.850</td></tr><tr><td>SOLAR</td><td>22221929</td><td>4000237-4</td><td>59269.470</td><td>38697.40980000000</td><td>97966.880</td></tr><tr><td>SOLAR</td><td>22221929</td><td>4000464-1</td><td>NULL</td><td>NULL</td><td>0.000</td></tr><tr><td>SOLAR</td><td>22221929</td><td>4000464-5</td><td>890.270</td><td>NULL</td><td>890.270</td></tr><tr><td>SOLAR</td><td>22221929</td><td>4000464-3</td><td>NULL</td><td>NULL</td><td>0.000</td></tr><tr><td>SOLAR</td><td>22221929</td><td>4000237-2</td><td>NULL</td><td>NULL</td><td>0.000</td></tr><tr><td>SOLAR</td><td>22221929</td><td>4000464-4</td><td>NULL</td><td>NULL</td><td>0.000</td></tr><tr><td>SOLAR</td><td>22221929</td><td>4000237-3</td><td>39227.960</td><td>NULL</td><td>39227.960</td></tr><tr><td>SOLAR</td><td>22221929</td><td>4000496-4</td><td>NULL</td><td>NULL</td><td>0.000</td></tr><tr><td>SOLAR</td><td>22221929</td><td>4000464-2</td><td>NULL</td><td>NULL</td><td>0.000</td></tr><tr><td>SOLAR</td><td>22221929</td><td>4000496-1</td><td>NULL</td><td>NULL</td><td>0.000</td></tr><tr><td>SOLAR</td><td>22221929</td><td>4000496-3</td><td>NULL</td><td>NULL</td><td>0.000</td></tr></table>"
                    },
                    "metadata": {}
                }
            ],
            "execution_count": 1
        },
        {
            "cell_type": "markdown",
            "source": [
                "**Estimated** **Cost Example Query** for High River Project"
            ],
            "metadata": {
                "language": "sql",
                "azdata_cell_guid": "f84984db-23bb-4019-a15e-6d62b8af680b"
            },
            "attachments": {}
        },
        {
            "cell_type": "code",
            "source": [
                "Declare @ProjectID Varchar(50)\r\n",
                "Set @ProjectID = '22221929';\r\n",
                "Declare @Company Varchar(50)\r\n",
                "Set @Company = 'Solar';\r\n",
                "\r\n",
                "Select \r\n",
                "Company, \r\n",
                "ProjectID,\r\n",
                "OrderNum,\r\n",
                "OrderNumLine,\r\n",
                "Sum(EstUnitCost*RequiredQty) as EstimatedJobDemands\r\n",
                "FROM [ERPDB].[etl].[vwJobMtlChange]\r\n",
                "Where ProjectID = @ProjectID\r\n",
                "and Company = @Company\r\n",
                "Group by Company, ProjectID, OrderNum, OrderNumline\r\n",
                "\r\n",
                "Select \r\n",
                "Company, \r\n",
                "ProjectID,\r\n",
                "Sum(EstUnitCost*RequiredQty) as EstimatedJobDemands\r\n",
                "FROM [ERPDB].[etl].[vwJobMtlChange]\r\n",
                "Where ProjectID = @ProjectID\r\n",
                "and Company = @Company\r\n",
                "Group by Company, ProjectID"
            ],
            "metadata": {
                "language": "sql",
                "azdata_cell_guid": "6d7f52ba-98ce-451e-a877-a662e55b44bc",
                "tags": []
            },
            "outputs": [
                {
                    "output_type": "display_data",
                    "data": {
                        "text/html": "(4 rows affected)"
                    },
                    "metadata": {}
                },
                {
                    "output_type": "display_data",
                    "data": {
                        "text/html": "(1 row affected)"
                    },
                    "metadata": {}
                },
                {
                    "output_type": "display_data",
                    "data": {
                        "text/html": "Total execution time: 00:00:20.843"
                    },
                    "metadata": {}
                },
                {
                    "output_type": "execute_result",
                    "execution_count": 21,
                    "data": {
                        "application/vnd.dataresource+json": {
                            "schema": {
                                "fields": [
                                    {
                                        "name": "Company"
                                    },
                                    {
                                        "name": "ProjectID"
                                    },
                                    {
                                        "name": "OrderNum"
                                    },
                                    {
                                        "name": "OrderNumLine"
                                    },
                                    {
                                        "name": "EstimatedJobDemands"
                                    }
                                ]
                            },
                            "data": [
                                {
                                    "0": "SOLAR",
                                    "1": "2128153",
                                    "2": "4000149",
                                    "3": "4000149-1",
                                    "4": "1750.00000000000"
                                },
                                {
                                    "0": "SOLAR",
                                    "1": "2128153",
                                    "2": "4000149",
                                    "3": "4000149-3",
                                    "4": "0.00000000000"
                                },
                                {
                                    "0": "SOLAR",
                                    "1": "2128153",
                                    "2": "4000149",
                                    "3": "4000149-4",
                                    "4": "7150.00000000000"
                                },
                                {
                                    "0": "SOLAR",
                                    "1": "2128153",
                                    "2": "4000149",
                                    "3": "4000149-5",
                                    "4": "7483711.18972000000"
                                }
                            ]
                        },
                        "text/html": "<table><tr><th>Company</th><th>ProjectID</th><th>OrderNum</th><th>OrderNumLine</th><th>EstimatedJobDemands</th></tr><tr><td>SOLAR</td><td>2128153</td><td>4000149</td><td>4000149-1</td><td>1750.00000000000</td></tr><tr><td>SOLAR</td><td>2128153</td><td>4000149</td><td>4000149-3</td><td>0.00000000000</td></tr><tr><td>SOLAR</td><td>2128153</td><td>4000149</td><td>4000149-4</td><td>7150.00000000000</td></tr><tr><td>SOLAR</td><td>2128153</td><td>4000149</td><td>4000149-5</td><td>7483711.18972000000</td></tr></table>"
                    },
                    "metadata": {}
                },
                {
                    "output_type": "execute_result",
                    "execution_count": 21,
                    "data": {
                        "application/vnd.dataresource+json": {
                            "schema": {
                                "fields": [
                                    {
                                        "name": "Company"
                                    },
                                    {
                                        "name": "ProjectID"
                                    },
                                    {
                                        "name": "EstimatedJobDemands"
                                    }
                                ]
                            },
                            "data": [
                                {
                                    "0": "SOLAR",
                                    "1": "2128153",
                                    "2": "7492611.18972000000"
                                }
                            ]
                        },
                        "text/html": "<table><tr><th>Company</th><th>ProjectID</th><th>EstimatedJobDemands</th></tr><tr><td>SOLAR</td><td>2128153</td><td>7492611.18972000000</td></tr></table>"
                    },
                    "metadata": {}
                }
            ],
            "execution_count": 21
        },
        {
            "cell_type": "markdown",
            "source": [
                "**Open Demand Example Query** for High River"
            ],
            "metadata": {
                "language": "sql",
                "azdata_cell_guid": "0178307d-a6b3-4660-988d-f74315cd39df"
            },
            "attachments": {}
        },
        {
            "cell_type": "code",
            "source": [
                "Declare @ProjectID Varchar(50)\r\n",
                "-- Set @ProjectID = '2128153';\r\n",
                "Set @ProjectID = '22221929';\r\n",
                "Declare @Company Varchar(50)\r\n",
                "Set @Company = 'Solar';\r\n",
                "\r\n",
                "\r\n",
                "With OpenJobDemands AS\r\n",
                "(\r\n",
                "Select\r\n",
                "    Company, \r\n",
                "    ProjectID,\r\n",
                "    JobNum,\r\n",
                "    PartNum,\r\n",
                "    [Description],\r\n",
                "    OrderNum,\r\n",
                "    OrderNumLine,\r\n",
                "    (RequiredQty) as RequiredQuanity,\r\n",
                "    (IssuedQty) as IssuedQuanty,\r\n",
                "    EstUnitCost,\r\n",
                "    (Case\r\n",
                "         When (EstUnitCost*(RequiredQty-IssuedQty)) >= 0 Then  (EstUnitCost*(RequiredQty-IssuedQty))\r\n",
                "         Else 0\r\n",
                "    ENd) as OpenJobDemands,\r\n",
                "    -- (EstUnitCost*(RequiredQty-IssuedQty)) as OpenJobDemands,\r\n",
                "    (EstUnitCost*RequiredQty) as EstimatedJobDemands\r\n",
                "FROM [ERPDB].[etl].[vwJobMtlChange]\r\n",
                "Where ProjectID = @ProjectID\r\n",
                "and Company = @Company\r\n",
                ")\r\n",
                "\r\n",
                "Select \r\n",
                "Company,\r\n",
                "ProjectID,\r\n",
                "OrderNumLine,\r\n",
                "Sum(OpenJobDemands) as OpenJobDemands,\r\n",
                "Sum(EstimatedJobDemands) as EstimatedJobDemands\r\n",
                "From OpenJobDemands\r\n",
                "Group by Company, ProjectID, OrderNumLine"
            ],
            "metadata": {
                "language": "sql",
                "azdata_cell_guid": "85adc201-e25c-4a93-8cd7-fbf895cc204c",
                "tags": []
            },
            "outputs": [
                {
                    "output_type": "display_data",
                    "data": {
                        "text/html": "(5 rows affected)"
                    },
                    "metadata": {}
                },
                {
                    "output_type": "display_data",
                    "data": {
                        "text/html": "Total execution time: 00:00:07.802"
                    },
                    "metadata": {}
                },
                {
                    "output_type": "execute_result",
                    "execution_count": 5,
                    "data": {
                        "application/vnd.dataresource+json": {
                            "schema": {
                                "fields": [
                                    {
                                        "name": "Company"
                                    },
                                    {
                                        "name": "ProjectID"
                                    },
                                    {
                                        "name": "OrderNumLine"
                                    },
                                    {
                                        "name": "OpenJobDemands"
                                    },
                                    {
                                        "name": "EstimatedJobDemands"
                                    }
                                ]
                            },
                            "data": [
                                {
                                    "0": "SOLAR",
                                    "1": "22221929",
                                    "2": "4000237-3",
                                    "3": "0.0000000000",
                                    "4": "0.00000000000"
                                },
                                {
                                    "0": "SOLAR",
                                    "1": "22221929",
                                    "2": "4000237-4",
                                    "3": "0.0000000000",
                                    "4": "0.00000000000"
                                },
                                {
                                    "0": "SOLAR",
                                    "1": "22221929",
                                    "2": "4000237-5",
                                    "3": "0.0000000000",
                                    "4": "61151.00112000000"
                                },
                                {
                                    "0": "SOLAR",
                                    "1": "22221929",
                                    "2": "4000464-5",
                                    "3": "0.0000000000",
                                    "4": "1113.77016000000"
                                },
                                {
                                    "0": "SOLAR",
                                    "1": "22221929",
                                    "2": "4000496-5",
                                    "3": "786.9240000000",
                                    "4": "786.92400000000"
                                }
                            ]
                        },
                        "text/html": "<table><tr><th>Company</th><th>ProjectID</th><th>OrderNumLine</th><th>OpenJobDemands</th><th>EstimatedJobDemands</th></tr><tr><td>SOLAR</td><td>22221929</td><td>4000237-3</td><td>0.0000000000</td><td>0.00000000000</td></tr><tr><td>SOLAR</td><td>22221929</td><td>4000237-4</td><td>0.0000000000</td><td>0.00000000000</td></tr><tr><td>SOLAR</td><td>22221929</td><td>4000237-5</td><td>0.0000000000</td><td>61151.00112000000</td></tr><tr><td>SOLAR</td><td>22221929</td><td>4000464-5</td><td>0.0000000000</td><td>1113.77016000000</td></tr><tr><td>SOLAR</td><td>22221929</td><td>4000496-5</td><td>786.9240000000</td><td>786.92400000000</td></tr></table>"
                    },
                    "metadata": {}
                }
            ],
            "execution_count": 5
        },
        {
            "cell_type": "markdown",
            "source": [
                "**Actual + Open Job Demand Query**\n",
                "\n",
                "\\-"
            ],
            "metadata": {
                "language": "sql",
                "azdata_cell_guid": "c3ed8b58-a4f5-4d76-b55a-5db484d5f250"
            },
            "attachments": {}
        },
        {
            "cell_type": "code",
            "source": [
                "Declare @ProjectID Varchar(50)\r\n",
                "Set @ProjectID = '22221929';\r\n",
                "Declare @Company Varchar(50)\r\n",
                "Set @Company = 'Solar';\r\n",
                "\r\n",
                "--Get Open Job Demands for Project for each job Assembly and Material sequence for each Order Line\r\n",
                "With OpenJobDemandsDetail AS\r\n",
                "(Select Company, \r\n",
                "    ProjectID,\r\n",
                "    OrderNum,\r\n",
                "    OrderNumLine,\r\n",
                "    (Case\r\n",
                "         When (EstUnitCost*(RequiredQty-IssuedQty)) >= 0 Then  (EstUnitCost*(RequiredQty-IssuedQty))\r\n",
                "         Else 0\r\n",
                "    ENd) as OpenJobDemands,\r\n",
                "    (EstUnitCost*RequiredQty) as EstimatedJobDemands\r\n",
                "FROM [ERPDB].[etl].[vwJobMtlChange]\r\n",
                "),\r\n",
                "\r\n",
                "--Summarize the Open Job Demands by orderline for comparison vs the actual costs on each order line\r\n",
                "OpenJobDemands AS\r\n",
                "(Select Company,\r\n",
                "    ProjectID,\r\n",
                "    OrderNum,\r\n",
                "    OrderNumline,\r\n",
                "    Sum(OpenJobDemands) as OpenJobDemands,\r\n",
                "    Sum(EstimatedJobDemands) as EstimatedJobDemands\r\n",
                "From OpenJobDemandsDetail\r\n",
                "Group by Company, ProjectID, OrderNum, OrderNumline\r\n",
                "),\r\n",
                "\r\n",
                "-- Summarize the Part Costs on each Order Line\r\n",
                "PartSummary\r\n",
                "as (Select Company,\r\n",
                "       ProjectID,\r\n",
                "       OrderNum,\r\n",
                "       Ordernumline,\r\n",
                "       Sum(ExtCost) as OrderLinePartCosts\r\n",
                "FROM [ERPDB].[etl].[vwPartTran]\r\n",
                "Group by Company, ProjectID, OrderNum, OrderNumLine\r\n",
                "),\r\n",
                "\r\n",
                "-- Summarize the Labor Costs on each Order Line\r\n",
                "LaborSummary\r\n",
                "as (Select Company,\r\n",
                "       ProjectID,\r\n",
                "       OrderNum,\r\n",
                "       Ordernumline,\r\n",
                "       Sum((LaborHrs*LaborRate)+(BurdenHrs*BurdenRate)) as OrderLineLaborCosts\r\n",
                "FROM [ERPDB].[etl].[vwLaborDtl]\r\n",
                "Group by Company, ProjectID, OrderNum, OrderNumLine\r\n",
                "),\r\n",
                "\r\n",
                "--Summarize the Actual Costs on each Order line\r\n",
                "ActualCost \r\n",
                "as (Select od.Company,\r\n",
                "    od.ProjectID,\r\n",
                "    od.OrderNum,\r\n",
                "    od.Ordernumline,\r\n",
                "    COALESCE(Sum(ps.OrderLinePartCosts),0) as TotalPartCosts,\r\n",
                "    COALESCE(Sum(ls.OrderLineLaborCosts),0) as TotalLaborCosts,\r\n",
                "    COALESCE(Sum(ps.OrderLinePartCosts),0)+COALESCE(Sum(ls.OrderLineLaborCosts),0) as ActualCosts\r\n",
                "From [ERPDB].[etl].[vwOrderdetail] as od\r\n",
                "Left Join PartSummary ps \r\n",
                "    on od.Company = ps.company and od.OrderNumLine = ps.OrderNumLine\r\n",
                "Left Join LaborSummary ls \r\n",
                "    on od.Company = ls.company and od.OrderNumLine = ls.OrderNumLine\r\n",
                "Group by od.Company, od.ProjectID, od.OrderNum, od.Ordernumline\r\n",
                ")\r\n",
                "\r\n",
                "Select \r\n",
                "    od.Company,\r\n",
                "    od.ProjectID,\r\n",
                "    Sum(OpenJobDemands) as OpenJobDemands,\r\n",
                "    Sum(ActualCosts) as ActualCosts,\r\n",
                "    Sum(COALESCE(OpenJobDemands,0) + COALESCE(ActualCosts,0)) as ActualCostsandOpenJobDemands,\r\n",
                "    Sum(COALESCE(EstimatedJobDemands,0)) as EstimatedJobDemands\r\n",
                "From [ERPDB].[etl].[vwOrderdetail] as od\r\n",
                "Left Join ActualCost ac\r\n",
                "on od.OrderNumLine = ac.OrderNumLine and od.Company = ac.Company\r\n",
                "Left Join OpenJobDemands ojd\r\n",
                "on od.OrderNumLine = ojd.OrderNumLine and od.Company = ojd.Company\r\n",
                "Where od.ProjectID = @ProjectID\r\n",
                "      and od.Company = @Company\r\n",
                "Group by od.Company, od.ProjectID"
            ],
            "metadata": {
                "language": "sql",
                "azdata_cell_guid": "f7d20994-df81-402e-8e14-c2b4ecf8945a"
            },
            "outputs": [
                {
                    "output_type": "display_data",
                    "data": {
                        "text/html": "Warning: Null value is eliminated by an aggregate or other SET operation."
                    },
                    "metadata": {}
                },
                {
                    "output_type": "display_data",
                    "data": {
                        "text/html": "(1 row affected)"
                    },
                    "metadata": {}
                },
                {
                    "output_type": "display_data",
                    "data": {
                        "text/html": "Total execution time: 00:00:09.739"
                    },
                    "metadata": {}
                },
                {
                    "output_type": "execute_result",
                    "execution_count": 6,
                    "data": {
                        "application/vnd.dataresource+json": {
                            "schema": {
                                "fields": [
                                    {
                                        "name": "Company"
                                    },
                                    {
                                        "name": "ProjectID"
                                    },
                                    {
                                        "name": "OpenJobDemands"
                                    },
                                    {
                                        "name": "ActualCosts"
                                    },
                                    {
                                        "name": "ActualCostsandOpenJobDemands"
                                    },
                                    {
                                        "name": "EstimatedJobDemands"
                                    }
                                ]
                            },
                            "data": [
                                {
                                    "0": "SOLAR",
                                    "1": "22221929",
                                    "2": "0.0000000000",
                                    "3": "386526.511",
                                    "4": "386526.511",
                                    "5": "63051.69528000000"
                                }
                            ]
                        },
                        "text/html": "<table><tr><th>Company</th><th>ProjectID</th><th>OpenJobDemands</th><th>ActualCosts</th><th>ActualCostsandOpenJobDemands</th><th>EstimatedJobDemands</th></tr><tr><td>SOLAR</td><td>22221929</td><td>0.0000000000</td><td>386526.511</td><td>386526.511</td><td>63051.69528000000</td></tr></table>"
                    },
                    "metadata": {}
                }
            ],
            "execution_count": 6
        },
        {
            "cell_type": "markdown",
            "source": [
                "**ProjPhase Order <span style=\"color: #0000ff;\">Line</span> Summary**"
            ],
            "metadata": {
                "language": "sql",
                "azdata_cell_guid": "c3520375-0ce5-40dd-b645-4b60f0ac982a"
            },
            "attachments": {}
        },
        {
            "cell_type": "code",
            "source": [
                "Declare @ProjectID Varchar(50)\r\n",
                "Set @ProjectID = '22221929';\r\n",
                "Declare @Company Varchar(50)\r\n",
                "Set @Company = 'Solar';\r\n",
                "\r\n",
                "--Get Open Job Demands for Project for each job Assembly and Material sequence for each Order Line\r\n",
                "With OpenJobDemandsDetail AS\r\n",
                "(Select \r\n",
                "    Company, \r\n",
                "    ProjectID,\r\n",
                "    OrderNum,\r\n",
                "    OrderLine,\r\n",
                "    (Case\r\n",
                "         When (EstUnitCost*(RequiredQty-IssuedQty)) >= 0 Then  (EstUnitCost*(RequiredQty-IssuedQty))\r\n",
                "         Else 0\r\n",
                "    ENd) as OpenJobDemands,\r\n",
                "    (EstUnitCost*RequiredQty) as EstimatedJobDemands\r\n",
                "FROM [ERPDB].[etl].[vwJobMtlChange]\r\n",
                "WHERE 1=1\r\n",
                "    and ProjectID = @ProjectID\r\n",
                "    and Company = @Company\r\n",
                ")\r\n",
                "\r\n",
                "Select \r\n",
                "    Company,\r\n",
                "    ProjectID,\r\n",
                "    OrderNum,\r\n",
                "    OrderLine,\r\n",
                "    SUM(OpenJobDemands) as OpenJobDemands,\r\n",
                "    SUM(EstimatedJobDemands) as EstimatedJobDemands\r\n",
                "From OpenJobDemandsDetail\r\n",
                "WHERE 1=1\r\n",
                "    and ProjectID = @ProjectID\r\n",
                "    and Company = @Company\r\n",
                "Group by Company, ProjectID, OrderNum, OrderLine"
            ],
            "metadata": {
                "language": "sql",
                "azdata_cell_guid": "73afe8e6-2ea0-4f74-81b8-8797abaf56d3"
            },
            "outputs": [
                {
                    "output_type": "display_data",
                    "data": {
                        "text/html": "(5 rows affected)"
                    },
                    "metadata": {}
                },
                {
                    "output_type": "display_data",
                    "data": {
                        "text/html": "Total execution time: 00:00:10.447"
                    },
                    "metadata": {}
                },
                {
                    "output_type": "execute_result",
                    "metadata": {},
                    "execution_count": 2,
                    "data": {
                        "application/vnd.dataresource+json": {
                            "schema": {
                                "fields": [
                                    {
                                        "name": "Company"
                                    },
                                    {
                                        "name": "ProjectID"
                                    },
                                    {
                                        "name": "OrderNum"
                                    },
                                    {
                                        "name": "OrderLine"
                                    },
                                    {
                                        "name": "OpenJobDemands"
                                    },
                                    {
                                        "name": "EstimatedJobDemands"
                                    }
                                ]
                            },
                            "data": [
                                {
                                    "0": "SOLAR",
                                    "1": "22221929",
                                    "2": "4000237",
                                    "3": "3",
                                    "4": "0.0000000000",
                                    "5": "0.00000000000"
                                },
                                {
                                    "0": "SOLAR",
                                    "1": "22221929",
                                    "2": "4000237",
                                    "3": "4",
                                    "4": "0.0000000000",
                                    "5": "0.00000000000"
                                },
                                {
                                    "0": "SOLAR",
                                    "1": "22221929",
                                    "2": "4000237",
                                    "3": "5",
                                    "4": "766.2980000000",
                                    "5": "62321.00112000000"
                                },
                                {
                                    "0": "SOLAR",
                                    "1": "22221929",
                                    "2": "4000464",
                                    "3": "5",
                                    "4": "0.0000000000",
                                    "5": "1113.77016000000"
                                },
                                {
                                    "0": "SOLAR",
                                    "1": "22221929",
                                    "2": "4000496",
                                    "3": "5",
                                    "4": "0.0000000000",
                                    "5": "786.92400000000"
                                }
                            ]
                        },
                        "text/html": [
                            "<table>",
                            "<tr><th>Company</th><th>ProjectID</th><th>OrderNum</th><th>OrderLine</th><th>OpenJobDemands</th><th>EstimatedJobDemands</th></tr>",
                            "<tr><td>SOLAR</td><td>22221929</td><td>4000237</td><td>3</td><td>0.0000000000</td><td>0.00000000000</td></tr>",
                            "<tr><td>SOLAR</td><td>22221929</td><td>4000237</td><td>4</td><td>0.0000000000</td><td>0.00000000000</td></tr>",
                            "<tr><td>SOLAR</td><td>22221929</td><td>4000237</td><td>5</td><td>766.2980000000</td><td>62321.00112000000</td></tr>",
                            "<tr><td>SOLAR</td><td>22221929</td><td>4000464</td><td>5</td><td>0.0000000000</td><td>1113.77016000000</td></tr>",
                            "<tr><td>SOLAR</td><td>22221929</td><td>4000496</td><td>5</td><td>0.0000000000</td><td>786.92400000000</td></tr>",
                            "</table>"
                        ]
                    }
                }
            ],
            "execution_count": 2
        },
        {
            "cell_type": "code",
            "source": [
                "Declare @ProjectID Varchar(50)\r\n",
                "Set @ProjectID = '22221929';\r\n",
                "Declare @Company Varchar(50)\r\n",
                "Set @Company = 'Solar';\r\n",
                "\r\n",
                "SELECT    \r\n",
                "        Company,\r\n",
                "        ProjectID,\r\n",
                "        PhaseID,\r\n",
                "        [Description],\r\n",
                "        OrderNum,\r\n",
                "        OrderLine,\r\n",
                "        Level,\r\n",
                "        SUM(BudTotLbrCost + BudTotBurCost + BudTotSubCost + BudTotMtlCost + BudTotMtlBurCost + BudTotODCCost) as BudgetedCosts,\r\n",
                "        SUM(TotQuotODCCost + TotQuotLbrCost + TotQuotBurCost + TotQuotSubContCost + TotQuotMtlCost+ TotQuotMtlBurCost) as QuotedCosts,\r\n",
                "        SUM([TotActLbrCost]+[TotActBurCost]+[TotActSubContCost]+[TotActMtlCost]+[TotActMtlBurCost]+[TotActODCCost]) as ActualCost,\r\n",
                "        SUM(TotWBSPhaseRev) as SellPrice\r\n",
                "FROM ERPDB.ERP.ProjPhase\r\n",
                "    -- Where clause for Level only includes project phases at the top level which are already Summarized from lower levels\r\n",
                "WHERE 1=1\r\n",
                "    and ProjectID = @ProjectID\r\n",
                "    and Company = @Company\r\n",
                "GROUP BY Company, ProjectID, PhaseID, [Description], OrderNum, OrderLine, level"
            ],
            "metadata": {
                "language": "sql",
                "azdata_cell_guid": "89f40ae2-5e72-4af0-86a2-d674d42341e6",
                "tags": []
            },
            "outputs": [
                {
                    "output_type": "display_data",
                    "data": {
                        "text/html": "(20 rows affected)"
                    },
                    "metadata": {}
                },
                {
                    "output_type": "display_data",
                    "data": {
                        "text/html": "Total execution time: 00:00:00.079"
                    },
                    "metadata": {}
                },
                {
                    "output_type": "execute_result",
                    "metadata": {},
                    "execution_count": 4,
                    "data": {
                        "application/vnd.dataresource+json": {
                            "schema": {
                                "fields": [
                                    {
                                        "name": "Company"
                                    },
                                    {
                                        "name": "ProjectID"
                                    },
                                    {
                                        "name": "PhaseID"
                                    },
                                    {
                                        "name": "Description"
                                    },
                                    {
                                        "name": "OrderNum"
                                    },
                                    {
                                        "name": "OrderLine"
                                    },
                                    {
                                        "name": "Level"
                                    },
                                    {
                                        "name": "BudgetedCosts"
                                    },
                                    {
                                        "name": "QuotedCosts"
                                    },
                                    {
                                        "name": "ActualCost"
                                    },
                                    {
                                        "name": "SellPrice"
                                    }
                                ]
                            },
                            "data": [
                                {
                                    "0": "SOLAR",
                                    "1": "22221929",
                                    "2": "",
                                    "3": "Root Phase",
                                    "4": "0",
                                    "5": "0",
                                    "6": "1",
                                    "7": "0.000",
                                    "8": "0.000",
                                    "9": "0.000",
                                    "10": "0.000"
                                },
                                {
                                    "0": "SOLAR",
                                    "1": "22221929",
                                    "2": "1",
                                    "3": "Design",
                                    "4": "4000237",
                                    "5": "1",
                                    "6": "1",
                                    "7": "400.000",
                                    "8": "400.000",
                                    "9": "0.000",
                                    "10": "1250.000"
                                },
                                {
                                    "0": "SOLAR",
                                    "1": "22221929",
                                    "2": "1.1",
                                    "3": "C/O Design 1",
                                    "4": "0",
                                    "5": "0",
                                    "6": "2",
                                    "7": "0.000",
                                    "8": "0.000",
                                    "9": "0.000",
                                    "10": "0.000"
                                },
                                {
                                    "0": "SOLAR",
                                    "1": "22221929",
                                    "2": "2",
                                    "3": "Material",
                                    "4": "4000237",
                                    "5": "2",
                                    "6": "1",
                                    "7": "318959.050",
                                    "8": "378708.450",
                                    "9": "279321.180",
                                    "10": "530213.400"
                                },
                                {
                                    "0": "SOLAR",
                                    "1": "22221929",
                                    "2": "2.1",
                                    "3": "Const Phase 1",
                                    "4": "4000237",
                                    "5": "5",
                                    "6": "2",
                                    "7": "0.000",
                                    "8": "0.000",
                                    "9": "32602.600",
                                    "10": "0.000"
                                },
                                {
                                    "0": "SOLAR",
                                    "1": "22221929",
                                    "2": "2.10",
                                    "3": "C/O 3 Rev Ph 10",
                                    "4": "0",
                                    "5": "0",
                                    "6": "2",
                                    "7": "0.000",
                                    "8": "0.000",
                                    "9": "0.000",
                                    "10": "0.000"
                                },
                                {
                                    "0": "SOLAR",
                                    "1": "22221929",
                                    "2": "2.11",
                                    "3": "C/O 4 Rev Ph 11",
                                    "4": "0",
                                    "5": "0",
                                    "6": "2",
                                    "7": "0.000",
                                    "8": "0.000",
                                    "9": "0.000",
                                    "10": "0.000"
                                },
                                {
                                    "0": "SOLAR",
                                    "1": "22221929",
                                    "2": "2.2",
                                    "3": "Const Phase 2",
                                    "4": "4000237",
                                    "5": "5",
                                    "6": "2",
                                    "7": "0.000",
                                    "8": "0.000",
                                    "9": "60014.890",
                                    "10": "0.000"
                                },
                                {
                                    "0": "SOLAR",
                                    "1": "22221929",
                                    "2": "2.3",
                                    "3": "Const Phase 3",
                                    "4": "4000237",
                                    "5": "5",
                                    "6": "2",
                                    "7": "0.000",
                                    "8": "0.000",
                                    "9": "184283.570",
                                    "10": "0.000"
                                },
                                {
                                    "0": "SOLAR",
                                    "1": "22221929",
                                    "2": "2.4",
                                    "3": "C/O 1 Cons Ph4",
                                    "4": "4000464",
                                    "5": "5",
                                    "6": "2",
                                    "7": "0.000",
                                    "8": "0.000",
                                    "9": "890.270",
                                    "10": "0.000"
                                },
                                {
                                    "0": "SOLAR",
                                    "1": "22221929",
                                    "2": "2.5",
                                    "3": "C/O 2 Cons Ph5",
                                    "4": "4000496",
                                    "5": "5",
                                    "6": "2",
                                    "7": "0.000",
                                    "8": "0.000",
                                    "9": "1529.850",
                                    "10": "0.000"
                                },
                                {
                                    "0": "SOLAR",
                                    "1": "22221929",
                                    "2": "2.6",
                                    "3": "C/O 3 Cons Ph6",
                                    "4": "0",
                                    "5": "0",
                                    "6": "2",
                                    "7": "0.000",
                                    "8": "0.000",
                                    "9": "0.000",
                                    "10": "0.000"
                                },
                                {
                                    "0": "SOLAR",
                                    "1": "22221929",
                                    "2": "2.7",
                                    "3": "C/O 4 Cons Ph7",
                                    "4": "0",
                                    "5": "0",
                                    "6": "2",
                                    "7": "0.000",
                                    "8": "0.000",
                                    "9": "0.000",
                                    "10": "0.000"
                                },
                                {
                                    "0": "SOLAR",
                                    "1": "22221929",
                                    "2": "2.8",
                                    "3": "C/O 1 Rev Ph8",
                                    "4": "4000464",
                                    "5": "2",
                                    "6": "2",
                                    "7": "0.000",
                                    "8": "0.000",
                                    "9": "0.000",
                                    "10": "1344.000"
                                },
                                {
                                    "0": "SOLAR",
                                    "1": "22221929",
                                    "2": "2.9",
                                    "3": "C/O 2 Rev Ph9",
                                    "4": "4000496",
                                    "5": "2",
                                    "6": "2",
                                    "7": "0.000",
                                    "8": "0.000",
                                    "9": "0.000",
                                    "10": "1967.400"
                                },
                                {
                                    "0": "SOLAR",
                                    "1": "22221929",
                                    "2": "3",
                                    "3": "Freight",
                                    "4": "4000237",
                                    "5": "3",
                                    "6": "1",
                                    "7": "57345.820",
                                    "8": "57345.820",
                                    "9": "40473.210",
                                    "10": "74266.000"
                                },
                                {
                                    "0": "SOLAR",
                                    "1": "22221929",
                                    "2": "3.1",
                                    "3": "C/O Freight 1",
                                    "4": "0",
                                    "5": "0",
                                    "6": "2",
                                    "7": "0.000",
                                    "8": "0.000",
                                    "9": "0.000",
                                    "10": "0.000"
                                },
                                {
                                    "0": "SOLAR",
                                    "1": "22221929",
                                    "2": "3.2",
                                    "3": "C/O Freight 2",
                                    "4": "4000496",
                                    "5": "3",
                                    "6": "2",
                                    "7": "0.000",
                                    "8": "0.000",
                                    "9": "0.000",
                                    "10": "3100.000"
                                },
                                {
                                    "0": "SOLAR",
                                    "1": "22221929",
                                    "2": "4",
                                    "3": "Install",
                                    "4": "4000237",
                                    "5": "4",
                                    "6": "1",
                                    "7": "98762.030",
                                    "8": "78762.030",
                                    "9": "99615.270",
                                    "10": "116100.000"
                                },
                                {
                                    "0": "SOLAR",
                                    "1": "22221929",
                                    "2": "4.1",
                                    "3": "C/O Install 1",
                                    "4": "0",
                                    "5": "0",
                                    "6": "2",
                                    "7": "0.000",
                                    "8": "0.000",
                                    "9": "0.000",
                                    "10": "0.000"
                                }
                            ]
                        },
                        "text/html": [
                            "<table>",
                            "<tr><th>Company</th><th>ProjectID</th><th>PhaseID</th><th>Description</th><th>OrderNum</th><th>OrderLine</th><th>Level</th><th>BudgetedCosts</th><th>QuotedCosts</th><th>ActualCost</th><th>SellPrice</th></tr>",
                            "<tr><td>SOLAR</td><td>22221929</td><td></td><td>Root Phase</td><td>0</td><td>0</td><td>1</td><td>0.000</td><td>0.000</td><td>0.000</td><td>0.000</td></tr>",
                            "<tr><td>SOLAR</td><td>22221929</td><td>1</td><td>Design</td><td>4000237</td><td>1</td><td>1</td><td>400.000</td><td>400.000</td><td>0.000</td><td>1250.000</td></tr>",
                            "<tr><td>SOLAR</td><td>22221929</td><td>1.1</td><td>C/O Design 1</td><td>0</td><td>0</td><td>2</td><td>0.000</td><td>0.000</td><td>0.000</td><td>0.000</td></tr>",
                            "<tr><td>SOLAR</td><td>22221929</td><td>2</td><td>Material</td><td>4000237</td><td>2</td><td>1</td><td>318959.050</td><td>378708.450</td><td>279321.180</td><td>530213.400</td></tr>",
                            "<tr><td>SOLAR</td><td>22221929</td><td>2.1</td><td>Const Phase 1</td><td>4000237</td><td>5</td><td>2</td><td>0.000</td><td>0.000</td><td>32602.600</td><td>0.000</td></tr>",
                            "<tr><td>SOLAR</td><td>22221929</td><td>2.10</td><td>C/O 3 Rev Ph 10</td><td>0</td><td>0</td><td>2</td><td>0.000</td><td>0.000</td><td>0.000</td><td>0.000</td></tr>",
                            "<tr><td>SOLAR</td><td>22221929</td><td>2.11</td><td>C/O 4 Rev Ph 11</td><td>0</td><td>0</td><td>2</td><td>0.000</td><td>0.000</td><td>0.000</td><td>0.000</td></tr>",
                            "<tr><td>SOLAR</td><td>22221929</td><td>2.2</td><td>Const Phase 2</td><td>4000237</td><td>5</td><td>2</td><td>0.000</td><td>0.000</td><td>60014.890</td><td>0.000</td></tr>",
                            "<tr><td>SOLAR</td><td>22221929</td><td>2.3</td><td>Const Phase 3</td><td>4000237</td><td>5</td><td>2</td><td>0.000</td><td>0.000</td><td>184283.570</td><td>0.000</td></tr>",
                            "<tr><td>SOLAR</td><td>22221929</td><td>2.4</td><td>C/O 1 Cons Ph4</td><td>4000464</td><td>5</td><td>2</td><td>0.000</td><td>0.000</td><td>890.270</td><td>0.000</td></tr>",
                            "<tr><td>SOLAR</td><td>22221929</td><td>2.5</td><td>C/O 2 Cons Ph5</td><td>4000496</td><td>5</td><td>2</td><td>0.000</td><td>0.000</td><td>1529.850</td><td>0.000</td></tr>",
                            "<tr><td>SOLAR</td><td>22221929</td><td>2.6</td><td>C/O 3 Cons Ph6</td><td>0</td><td>0</td><td>2</td><td>0.000</td><td>0.000</td><td>0.000</td><td>0.000</td></tr>",
                            "<tr><td>SOLAR</td><td>22221929</td><td>2.7</td><td>C/O 4 Cons Ph7</td><td>0</td><td>0</td><td>2</td><td>0.000</td><td>0.000</td><td>0.000</td><td>0.000</td></tr>",
                            "<tr><td>SOLAR</td><td>22221929</td><td>2.8</td><td>C/O 1 Rev Ph8</td><td>4000464</td><td>2</td><td>2</td><td>0.000</td><td>0.000</td><td>0.000</td><td>1344.000</td></tr>",
                            "<tr><td>SOLAR</td><td>22221929</td><td>2.9</td><td>C/O 2 Rev Ph9</td><td>4000496</td><td>2</td><td>2</td><td>0.000</td><td>0.000</td><td>0.000</td><td>1967.400</td></tr>",
                            "<tr><td>SOLAR</td><td>22221929</td><td>3</td><td>Freight</td><td>4000237</td><td>3</td><td>1</td><td>57345.820</td><td>57345.820</td><td>40473.210</td><td>74266.000</td></tr>",
                            "<tr><td>SOLAR</td><td>22221929</td><td>3.1</td><td>C/O Freight 1</td><td>0</td><td>0</td><td>2</td><td>0.000</td><td>0.000</td><td>0.000</td><td>0.000</td></tr>",
                            "<tr><td>SOLAR</td><td>22221929</td><td>3.2</td><td>C/O Freight 2</td><td>4000496</td><td>3</td><td>2</td><td>0.000</td><td>0.000</td><td>0.000</td><td>3100.000</td></tr>",
                            "<tr><td>SOLAR</td><td>22221929</td><td>4</td><td>Install</td><td>4000237</td><td>4</td><td>1</td><td>98762.030</td><td>78762.030</td><td>99615.270</td><td>116100.000</td></tr>",
                            "<tr><td>SOLAR</td><td>22221929</td><td>4.1</td><td>C/O Install 1</td><td>0</td><td>0</td><td>2</td><td>0.000</td><td>0.000</td><td>0.000</td><td>0.000</td></tr>",
                            "</table>"
                        ]
                    }
                }
            ],
            "execution_count": 4
        },
        {
            "cell_type": "markdown",
            "source": [
                "Proving out that OrderNum/OrderLine are distinct to a project Phase.  Counts of the ProjectOrderLine CTE match across Count(\\*) and Distinct Count (OrderNumLine)"
            ],
            "metadata": {
                "language": "sql",
                "azdata_cell_guid": "abc59db8-49ad-4da7-9b69-1f4fe11bc0c4"
            },
            "attachments": {}
        },
        {
            "cell_type": "code",
            "source": [
                "\r\n",
                "Declare @Company Varchar(50)\r\n",
                "Set @Company = 'Solar';\r\n",
                "\r\n",
                "WIth ProjectORderLine AS\r\n",
                "(SELECT DISTINCT\r\n",
                "        ProjectID,\r\n",
                "        PhaseID,\r\n",
                "        OrderNum,\r\n",
                "        OrderLine,\r\n",
                "        CONCAT(Ordernum,OrderLine) as OrderNumLine,\r\n",
                "        Level\r\n",
                "FROM ERPDB.ERP.ProjPhase\r\n",
                "    -- Where clause for Level only includes project phases at the top level which are already Summarized from lower levels\r\n",
                "WHERE 1=1\r\n",
                "    and Company = @Company\r\n",
                "    and OrderNum <> 0\r\n",
                "GROUP BY Company, ProjectID, PhaseID, [Description], OrderNum, OrderLine, level\r\n",
                ")\r\n",
                "\r\n",
                "Select Count(*)\r\n",
                "FROM ProjectOrderLine;\r\n",
                "\r\n",
                "-- Select Distinct Count (OrderNumline)\r\n",
                "-- FROM ProjectOrderLine\r\n",
                ""
            ],
            "metadata": {
                "language": "sql",
                "azdata_cell_guid": "39be2ce5-c8db-4bae-b711-2a46b6cb3244"
            },
            "outputs": [
                {
                    "output_type": "display_data",
                    "data": {
                        "text/html": "(1 row affected)"
                    },
                    "metadata": {}
                },
                {
                    "output_type": "display_data",
                    "data": {
                        "text/html": "Total execution time: 00:00:00.073"
                    },
                    "metadata": {}
                },
                {
                    "output_type": "execute_result",
                    "metadata": {},
                    "execution_count": 11,
                    "data": {
                        "application/vnd.dataresource+json": {
                            "schema": {
                                "fields": [
                                    {
                                        "name": "(No column name)"
                                    }
                                ]
                            },
                            "data": [
                                {
                                    "0": "2851"
                                }
                            ]
                        },
                        "text/html": [
                            "<table>",
                            "<tr><th>(No column name)</th></tr>",
                            "<tr><td>2851</td></tr>",
                            "</table>"
                        ]
                    }
                }
            ],
            "execution_count": 11
        },
        {
            "cell_type": "code",
            "source": [
                "Declare @ProjectID Varchar(50)\r\n",
                "Set @ProjectID = '22221929';\r\n",
                "Declare @Company Varchar(50)\r\n",
                "Set @Company = 'Solar';\r\n",
                "\r\n",
                "\r\n",
                "With OpenJobDemandsDetail AS\r\n",
                "(Select \r\n",
                "    Company, \r\n",
                "    ProjectID,\r\n",
                "    OrderNum,\r\n",
                "    OrderLine,\r\n",
                "    (Case\r\n",
                "         When (EstUnitCost*(RequiredQty-IssuedQty)) >= 0 Then  (EstUnitCost*(RequiredQty-IssuedQty))\r\n",
                "         Else 0\r\n",
                "    ENd) as OpenJobDemands,\r\n",
                "    (EstUnitCost*RequiredQty) as EstimatedJobDemands\r\n",
                "FROM [ERPDB].[etl].[vwJobMtlChange]\r\n",
                "WHERE 1=1\r\n",
                "/*******************************************************************\r\n",
                "Had to put these In here because of an error getting returned on \r\n",
                "converting Varchar to INT in this part of the query.  How to Solve?\r\n",
                "*******************************************************************/\r\n",
                "    and ProjectID = @ProjectID\r\n",
                "    and Company = @Company\r\n",
                "),\r\n",
                "\r\n",
                "--Summarize the Open Job Demands by orderline for comparison vs the actual costs on each order line\r\n",
                "OpenJobDemands AS\r\n",
                "(Select \r\n",
                "    Company,\r\n",
                "    ProjectID,\r\n",
                "    OrderNum,\r\n",
                "    OrderLine,\r\n",
                "    SUM(OpenJobDemands) as OpenJobDemands,\r\n",
                "    SUM(EstimatedJobDemands) as EstimatedJobDemands\r\n",
                "From OpenJobDemandsDetail\r\n",
                "Group by Company, ProjectID, OrderNum, OrderLine\r\n",
                ")\r\n",
                "\r\n",
                "SELECT DISTINCT\r\n",
                "    pp.Company,\r\n",
                "    pp.ProjectID,\r\n",
                "    Case\r\n",
                "        When CHARINDEX('.',pp.PhaseID) = 0 then LEN(pp.PhaseID)\r\n",
                "        ELSE LEFT(pp.PhaseID,CHARINDEX('.',pp.PhaseID) - 1) \r\n",
                "    END as ParentPhaseID,\r\n",
                "    pp.OrderNum,\r\n",
                "    pp.OrderLine,\r\n",
                "    SUM(ojd.OpenJobDemands) as OpenJobDemands,\r\n",
                "    SUM(ojd.EstimatedJobDemands) as EstimatedJobDemands\r\n",
                "FROM ERPDB.ERP.ProjPhase pp\r\n",
                "LEFT JOIN OpenJobDemands ojd\r\n",
                "    On pp.Company = ojd.Company and pp.OrderNum = ojd.OrderNum and pp.OrderLine = ojd.OrderLine\r\n",
                "WHERE 1=1\r\n",
                "    and pp.ProjectID = @ProjectID\r\n",
                "    and pp.Company = @Company\r\n",
                "    and pp.OrderNum <> 0\r\n",
                "GROUP BY pp.Company, pp.ProjectID, pp.PhaseID, pp.OrderNum, pp.OrderLine"
            ],
            "metadata": {
                "language": "sql",
                "azdata_cell_guid": "5c79cf76-3a62-42e2-baa0-3e794816e04e",
                "tags": []
            },
            "outputs": [
                {
                    "output_type": "display_data",
                    "data": {
                        "text/html": "Warning: Null value is eliminated by an aggregate or other SET operation."
                    },
                    "metadata": {}
                },
                {
                    "output_type": "display_data",
                    "data": {
                        "text/html": "(10 rows affected)"
                    },
                    "metadata": {}
                },
                {
                    "output_type": "display_data",
                    "data": {
                        "text/html": "Total execution time: 00:00:08.146"
                    },
                    "metadata": {}
                },
                {
                    "output_type": "execute_result",
                    "metadata": {},
                    "execution_count": 34,
                    "data": {
                        "application/vnd.dataresource+json": {
                            "schema": {
                                "fields": [
                                    {
                                        "name": "Company"
                                    },
                                    {
                                        "name": "ProjectID"
                                    },
                                    {
                                        "name": "ParentPhaseID"
                                    },
                                    {
                                        "name": "OrderNum"
                                    },
                                    {
                                        "name": "OrderLine"
                                    },
                                    {
                                        "name": "OpenJobDemands"
                                    },
                                    {
                                        "name": "EstimatedJobDemands"
                                    }
                                ]
                            },
                            "data": [
                                {
                                    "0": "SOLAR",
                                    "1": "22221929",
                                    "2": "1",
                                    "3": "4000237",
                                    "4": "1",
                                    "5": "NULL",
                                    "6": "NULL"
                                },
                                {
                                    "0": "SOLAR",
                                    "1": "22221929",
                                    "2": "1",
                                    "3": "4000237",
                                    "4": "2",
                                    "5": "NULL",
                                    "6": "NULL"
                                },
                                {
                                    "0": "SOLAR",
                                    "1": "22221929",
                                    "2": "1",
                                    "3": "4000237",
                                    "4": "3",
                                    "5": "0.0000000000",
                                    "6": "0.00000000000"
                                },
                                {
                                    "0": "SOLAR",
                                    "1": "22221929",
                                    "2": "1",
                                    "3": "4000237",
                                    "4": "4",
                                    "5": "0.0000000000",
                                    "6": "0.00000000000"
                                },
                                {
                                    "0": "SOLAR",
                                    "1": "22221929",
                                    "2": "2",
                                    "3": "4000237",
                                    "4": "5",
                                    "5": "766.2980000000",
                                    "6": "62321.00112000000"
                                },
                                {
                                    "0": "SOLAR",
                                    "1": "22221929",
                                    "2": "2",
                                    "3": "4000464",
                                    "4": "2",
                                    "5": "NULL",
                                    "6": "NULL"
                                },
                                {
                                    "0": "SOLAR",
                                    "1": "22221929",
                                    "2": "2",
                                    "3": "4000464",
                                    "4": "5",
                                    "5": "0.0000000000",
                                    "6": "1113.77016000000"
                                },
                                {
                                    "0": "SOLAR",
                                    "1": "22221929",
                                    "2": "2",
                                    "3": "4000496",
                                    "4": "2",
                                    "5": "NULL",
                                    "6": "NULL"
                                },
                                {
                                    "0": "SOLAR",
                                    "1": "22221929",
                                    "2": "2",
                                    "3": "4000496",
                                    "4": "5",
                                    "5": "0.0000000000",
                                    "6": "786.92400000000"
                                },
                                {
                                    "0": "SOLAR",
                                    "1": "22221929",
                                    "2": "3",
                                    "3": "4000496",
                                    "4": "3",
                                    "5": "NULL",
                                    "6": "NULL"
                                }
                            ]
                        },
                        "text/html": [
                            "<table>",
                            "<tr><th>Company</th><th>ProjectID</th><th>ParentPhaseID</th><th>OrderNum</th><th>OrderLine</th><th>OpenJobDemands</th><th>EstimatedJobDemands</th></tr>",
                            "<tr><td>SOLAR</td><td>22221929</td><td>1</td><td>4000237</td><td>1</td><td>NULL</td><td>NULL</td></tr>",
                            "<tr><td>SOLAR</td><td>22221929</td><td>1</td><td>4000237</td><td>2</td><td>NULL</td><td>NULL</td></tr>",
                            "<tr><td>SOLAR</td><td>22221929</td><td>1</td><td>4000237</td><td>3</td><td>0.0000000000</td><td>0.00000000000</td></tr>",
                            "<tr><td>SOLAR</td><td>22221929</td><td>1</td><td>4000237</td><td>4</td><td>0.0000000000</td><td>0.00000000000</td></tr>",
                            "<tr><td>SOLAR</td><td>22221929</td><td>2</td><td>4000237</td><td>5</td><td>766.2980000000</td><td>62321.00112000000</td></tr>",
                            "<tr><td>SOLAR</td><td>22221929</td><td>2</td><td>4000464</td><td>2</td><td>NULL</td><td>NULL</td></tr>",
                            "<tr><td>SOLAR</td><td>22221929</td><td>2</td><td>4000464</td><td>5</td><td>0.0000000000</td><td>1113.77016000000</td></tr>",
                            "<tr><td>SOLAR</td><td>22221929</td><td>2</td><td>4000496</td><td>2</td><td>NULL</td><td>NULL</td></tr>",
                            "<tr><td>SOLAR</td><td>22221929</td><td>2</td><td>4000496</td><td>5</td><td>0.0000000000</td><td>786.92400000000</td></tr>",
                            "<tr><td>SOLAR</td><td>22221929</td><td>3</td><td>4000496</td><td>3</td><td>NULL</td><td>NULL</td></tr>",
                            "</table>"
                        ]
                    }
                }
            ],
            "execution_count": 34
        },
        {
            "cell_type": "code",
            "source": [
                "Select Top (1) *\r\n",
                "From erp.projphase\r\n",
                "Where Level = 3\r\n",
                "\r\n",
                "Select Distinct Level\r\n",
                "FRom erp.projphase"
            ],
            "metadata": {
                "azdata_cell_guid": "6319c203-6a44-4c40-a09e-639782d13e66",
                "language": "sql"
            },
            "outputs": [
                {
                    "output_type": "display_data",
                    "data": {
                        "text/html": "(1 row affected)"
                    },
                    "metadata": {}
                },
                {
                    "output_type": "display_data",
                    "data": {
                        "text/html": "(4 rows affected)"
                    },
                    "metadata": {}
                },
                {
                    "output_type": "display_data",
                    "data": {
                        "text/html": "Total execution time: 00:00:00.137"
                    },
                    "metadata": {}
                },
                {
                    "output_type": "execute_result",
                    "metadata": {},
                    "execution_count": 18,
                    "data": {
                        "application/vnd.dataresource+json": {
                            "schema": {
                                "fields": [
                                    {
                                        "name": "Company"
                                    },
                                    {
                                        "name": "ProjectID"
                                    },
                                    {
                                        "name": "PhaseID"
                                    },
                                    {
                                        "name": "Description"
                                    },
                                    {
                                        "name": "StartDate"
                                    },
                                    {
                                        "name": "DueDate"
                                    },
                                    {
                                        "name": "PercentComplete"
                                    },
                                    {
                                        "name": "DateComplete"
                                    },
                                    {
                                        "name": "PhaseStatus"
                                    },
                                    {
                                        "name": "Duration"
                                    },
                                    {
                                        "name": "WBSJobNum"
                                    },
                                    {
                                        "name": "ParentPhase"
                                    },
                                    {
                                        "name": "MSPTaskID"
                                    },
                                    {
                                        "name": "MSPPredecessor"
                                    },
                                    {
                                        "name": "UserMapData"
                                    },
                                    {
                                        "name": "BudTotLbrHours"
                                    },
                                    {
                                        "name": "BudTotBurHrs"
                                    },
                                    {
                                        "name": "BudTotLbrCost"
                                    },
                                    {
                                        "name": "BudTotBurCost"
                                    },
                                    {
                                        "name": "BudTotSubCost"
                                    },
                                    {
                                        "name": "BudTotMtlCost"
                                    },
                                    {
                                        "name": "BudTotMtlBurCost"
                                    },
                                    {
                                        "name": "TotEstLbrHrs"
                                    },
                                    {
                                        "name": "TotEstBurdenHrs"
                                    },
                                    {
                                        "name": "TotEstLbrCost"
                                    },
                                    {
                                        "name": "TotEstSubContCost"
                                    },
                                    {
                                        "name": "TotEstMtlCost"
                                    },
                                    {
                                        "name": "TotActLbrHrs"
                                    },
                                    {
                                        "name": "TotActBurHrs"
                                    },
                                    {
                                        "name": "TotActLbrCost"
                                    },
                                    {
                                        "name": "TotActBurCost"
                                    },
                                    {
                                        "name": "TotActSubContCost"
                                    },
                                    {
                                        "name": "TotActMtlCost"
                                    },
                                    {
                                        "name": "TotActMtlBurCost"
                                    },
                                    {
                                        "name": "ManEstCtcLbrHrs"
                                    },
                                    {
                                        "name": "ManEstCtcBurHrs"
                                    },
                                    {
                                        "name": "ManEstCtcLbrCost"
                                    },
                                    {
                                        "name": "ManEstCtcBurCost"
                                    },
                                    {
                                        "name": "ManEstCtcSubConCost"
                                    },
                                    {
                                        "name": "ManEstCtcMtlCost"
                                    },
                                    {
                                        "name": "ManEstCtcMtlBurCost"
                                    },
                                    {
                                        "name": "TotCtcLbrHours"
                                    },
                                    {
                                        "name": "TotCtcBurHours"
                                    },
                                    {
                                        "name": "TotCtcLbrCost"
                                    },
                                    {
                                        "name": "TotCtcBurCost"
                                    },
                                    {
                                        "name": "TotCtcSubConCost"
                                    },
                                    {
                                        "name": "TotCtcMtlCost"
                                    },
                                    {
                                        "name": "TotCtcMtlBurCost"
                                    },
                                    {
                                        "name": "TotQuotLbrHrs"
                                    },
                                    {
                                        "name": "TotQuotBurHrs"
                                    },
                                    {
                                        "name": "TotQuotLbrCost"
                                    },
                                    {
                                        "name": "TotQuotBurCost"
                                    },
                                    {
                                        "name": "TotQuotSubContCost"
                                    },
                                    {
                                        "name": "TotQuotMtlCost"
                                    },
                                    {
                                        "name": "TotQuotMtlBurCost"
                                    },
                                    {
                                        "name": "Level"
                                    },
                                    {
                                        "name": "DurationType"
                                    },
                                    {
                                        "name": "TotEstBurCost"
                                    },
                                    {
                                        "name": "TotEstMtlBurCost"
                                    },
                                    {
                                        "name": "RollChildMan"
                                    },
                                    {
                                        "name": "RollChildBud"
                                    },
                                    {
                                        "name": "SortSeq"
                                    },
                                    {
                                        "name": "MeasuredWorkID"
                                    },
                                    {
                                        "name": "TotQuotODCCost"
                                    },
                                    {
                                        "name": "TotEstODCCost"
                                    },
                                    {
                                        "name": "TotActODCCost"
                                    },
                                    {
                                        "name": "ManEstCTCODCCost"
                                    },
                                    {
                                        "name": "TotCTCODCCost"
                                    },
                                    {
                                        "name": "BudTotODCCost"
                                    },
                                    {
                                        "name": "TimeApprovalsMethod"
                                    },
                                    {
                                        "name": "TimeWFGroupID"
                                    },
                                    {
                                        "name": "ExpenseApprovalsMethod"
                                    },
                                    {
                                        "name": "ExpenseWFGroupID"
                                    },
                                    {
                                        "name": "PartNum"
                                    },
                                    {
                                        "name": "RevisionNum"
                                    },
                                    {
                                        "name": "SysRevID"
                                    },
                                    {
                                        "name": "SysRowID"
                                    },
                                    {
                                        "name": "InvMethod"
                                    },
                                    {
                                        "name": "RevMethod"
                                    },
                                    {
                                        "name": "OrderNum"
                                    },
                                    {
                                        "name": "OrderLine"
                                    },
                                    {
                                        "name": "WasRecInvoiced"
                                    },
                                    {
                                        "name": "LastBuildWBSPhaseAnalysisDate"
                                    },
                                    {
                                        "name": "PercentageOfCompletion"
                                    },
                                    {
                                        "name": "ToBeRecognizedLbrCost"
                                    },
                                    {
                                        "name": "ToBeRecognizedBurCost"
                                    },
                                    {
                                        "name": "ToBeRecognizedMtlCost"
                                    },
                                    {
                                        "name": "ToBeRecognizedSubCost"
                                    },
                                    {
                                        "name": "ToBeRecognizedMtlBurCost"
                                    },
                                    {
                                        "name": "ToBeRecognizedODCCost"
                                    },
                                    {
                                        "name": "ToBeRecognizedRevenue"
                                    },
                                    {
                                        "name": "RecognizeRevenueAtChildPhaseLevel"
                                    },
                                    {
                                        "name": "RollBudgetsToWBSPhase"
                                    },
                                    {
                                        "name": "TotWBSPhaseRev"
                                    },
                                    {
                                        "name": "SalesCatID"
                                    },
                                    {
                                        "name": "ActMtlNonJobCost"
                                    },
                                    {
                                        "name": "AsOfDate"
                                    },
                                    {
                                        "name": "BdnRecSeqPosted"
                                    },
                                    {
                                        "name": "BdnRecSeqLastAdded"
                                    },
                                    {
                                        "name": "BdnRevenueAutoToday"
                                    },
                                    {
                                        "name": "BillingToDate"
                                    },
                                    {
                                        "name": "BuildAnalysis"
                                    },
                                    {
                                        "name": "BurdenCostOfSales"
                                    },
                                    {
                                        "name": "BurdenLbrCstToDate"
                                    },
                                    {
                                        "name": "BurdenRecAutoCstTodate"
                                    },
                                    {
                                        "name": "BurdenRecManCstTodate"
                                    },
                                    {
                                        "name": "BurManPosted"
                                    },
                                    {
                                        "name": "BurPur"
                                    },
                                    {
                                        "name": "EstBurdenCost"
                                    },
                                    {
                                        "name": "EstBurdenHours"
                                    },
                                    {
                                        "name": "EstLaborCost"
                                    },
                                    {
                                        "name": "EstLaborHours"
                                    },
                                    {
                                        "name": "EstMtlBurdenCost"
                                    },
                                    {
                                        "name": "EstMtlCost"
                                    },
                                    {
                                        "name": "EstODCCost"
                                    },
                                    {
                                        "name": "EstSubcontractCost"
                                    },
                                    {
                                        "name": "LaborCostOfSales"
                                    },
                                    {
                                        "name": "LaborLbrCstToDate"
                                    },
                                    {
                                        "name": "LaborRecAutoCstTodate"
                                    },
                                    {
                                        "name": "LaborRecManCstTodate"
                                    },
                                    {
                                        "name": "LbrManPosted"
                                    },
                                    {
                                        "name": "LbrPur"
                                    },
                                    {
                                        "name": "MaterialCostOfSales"
                                    },
                                    {
                                        "name": "MaterialRecAutoCstTodate"
                                    },
                                    {
                                        "name": "MaterialRecManCstTodate"
                                    },
                                    {
                                        "name": "MtlBurdenCostOfSales"
                                    },
                                    {
                                        "name": "MtlBurdenRecAutoCstTodate"
                                    },
                                    {
                                        "name": "MtlBurdenRecManCstTodate"
                                    },
                                    {
                                        "name": "MtlBurManPosted"
                                    },
                                    {
                                        "name": "MtlBurPur"
                                    },
                                    {
                                        "name": "MtlManPosted"
                                    },
                                    {
                                        "name": "MtlPur"
                                    },
                                    {
                                        "name": "NextTmpInvcNum"
                                    },
                                    {
                                        "name": "ODCManPosted"
                                    },
                                    {
                                        "name": "ODCPur"
                                    },
                                    {
                                        "name": "ODCRecAutoCstToDate"
                                    },
                                    {
                                        "name": "ODCRecManCstTodate"
                                    },
                                    {
                                        "name": "RecManPosted"
                                    },
                                    {
                                        "name": "RecogToDtBilling"
                                    },
                                    {
                                        "name": "RecogToDtLbk"
                                    },
                                    {
                                        "name": "RecogToDtManual"
                                    },
                                    {
                                        "name": "RetentionDt"
                                    },
                                    {
                                        "name": "RevenueRecAutoToDate"
                                    },
                                    {
                                        "name": "RevenueRecManToDate"
                                    },
                                    {
                                        "name": "Reverse"
                                    },
                                    {
                                        "name": "RollManEstToCpte"
                                    },
                                    {
                                        "name": "SubCManPosted"
                                    },
                                    {
                                        "name": "SubConCostOfSales"
                                    },
                                    {
                                        "name": "SubConRecAutoCstTodate"
                                    },
                                    {
                                        "name": "SubConRecManCstTodate"
                                    },
                                    {
                                        "name": "SubPur"
                                    },
                                    {
                                        "name": "ConTotValue"
                                    },
                                    {
                                        "name": "DocConTotValue"
                                    },
                                    {
                                        "name": "Rpt1ConTotValue"
                                    },
                                    {
                                        "name": "Rpt2ConTotValue"
                                    },
                                    {
                                        "name": "Rpt3ConTotValue"
                                    },
                                    {
                                        "name": "ConTotValueNet"
                                    },
                                    {
                                        "name": "DocConTotValueNet"
                                    },
                                    {
                                        "name": "Rpt1ConTotValueNet"
                                    },
                                    {
                                        "name": "Rpt2ConTotValueNet"
                                    },
                                    {
                                        "name": "Rpt3ConTotValueNet"
                                    }
                                ]
                            },
                            "data": [
                                {
                                    "0": "SOLAR",
                                    "1": "2024988",
                                    "2": "2.13",
                                    "3": "CONS PHS 1",
                                    "4": "NULL",
                                    "5": "2022-09-16",
                                    "6": "0.00",
                                    "7": "NULL",
                                    "8": "N",
                                    "9": "0.00",
                                    "10": "",
                                    "11": "2.1",
                                    "12": "",
                                    "13": "",
                                    "14": "",
                                    "15": "0.00",
                                    "16": "0.00",
                                    "17": "0.000",
                                    "18": "0.000",
                                    "19": "0.000",
                                    "20": "0.000",
                                    "21": "0.000",
                                    "22": "0.00",
                                    "23": "0.00",
                                    "24": "0.000",
                                    "25": "0.000",
                                    "26": "0.000",
                                    "27": "0.00",
                                    "28": "0.00",
                                    "29": "0.000",
                                    "30": "0.000",
                                    "31": "0.000",
                                    "32": "0.000",
                                    "33": "0.000",
                                    "34": "0.00",
                                    "35": "0.00",
                                    "36": "0.000",
                                    "37": "0.000",
                                    "38": "0.000",
                                    "39": "0.000",
                                    "40": "0.000",
                                    "41": "0.00",
                                    "42": "0.00",
                                    "43": "0.000",
                                    "44": "0.000",
                                    "45": "0.000",
                                    "46": "0.000",
                                    "47": "0.000",
                                    "48": "0.00",
                                    "49": "0.00",
                                    "50": "0.000",
                                    "51": "0.000",
                                    "52": "0.000",
                                    "53": "0.000",
                                    "54": "0.000",
                                    "55": "3",
                                    "56": "H",
                                    "57": "0.000",
                                    "58": "0.000",
                                    "59": "0",
                                    "60": "0",
                                    "61": "200",
                                    "62": "",
                                    "63": "0.000",
                                    "64": "0.000",
                                    "65": "0.000",
                                    "66": "0.000",
                                    "67": "0.000",
                                    "68": "0.000",
                                    "69": "",
                                    "70": "",
                                    "71": "",
                                    "72": "",
                                    "73": "",
                                    "74": "",
                                    "75": "0x00000003F39FEBB4",
                                    "76": "fa70b470-0389-4058-b224-a68ab8ce1bf8",
                                    "77": "CS",
                                    "78": "MAN",
                                    "79": "0",
                                    "80": "0",
                                    "81": "0",
                                    "82": "2023-03-24",
                                    "83": "0.00",
                                    "84": "0.000",
                                    "85": "0.000",
                                    "86": "0.000",
                                    "87": "0.000",
                                    "88": "0.000",
                                    "89": "0.000",
                                    "90": "0.000",
                                    "91": "0",
                                    "92": "0",
                                    "93": "0.000",
                                    "94": "",
                                    "95": "0.000",
                                    "96": "2023-03-24",
                                    "97": "0",
                                    "98": "0",
                                    "99": "0.000",
                                    "100": "0.000",
                                    "101": "0",
                                    "102": "0.000",
                                    "103": "0.000",
                                    "104": "0.000",
                                    "105": "0.000",
                                    "106": "0.000",
                                    "107": "0.000",
                                    "108": "0.000",
                                    "109": "0.00",
                                    "110": "0.000",
                                    "111": "0.00",
                                    "112": "0.000",
                                    "113": "0.000",
                                    "114": "0.000",
                                    "115": "0.000",
                                    "116": "0.000",
                                    "117": "0.000",
                                    "118": "0.000",
                                    "119": "0.000",
                                    "120": "0.000",
                                    "121": "0.000",
                                    "122": "0.000",
                                    "123": "0.000",
                                    "124": "0.000",
                                    "125": "0.000",
                                    "126": "0.000",
                                    "127": "0.000",
                                    "128": "0.000",
                                    "129": "0.000",
                                    "130": "0.000",
                                    "131": "0.000",
                                    "132": "0",
                                    "133": "0.000",
                                    "134": "0.000",
                                    "135": "0.000",
                                    "136": "0.000",
                                    "137": "0.000",
                                    "138": "0.000",
                                    "139": "0.000",
                                    "140": "0.000",
                                    "141": "0.000",
                                    "142": "0.000",
                                    "143": "0.000",
                                    "144": "",
                                    "145": "0",
                                    "146": "0.000",
                                    "147": "0.000",
                                    "148": "0.000",
                                    "149": "0.000",
                                    "150": "0.000",
                                    "151": "0.000",
                                    "152": "0.000",
                                    "153": "0.000",
                                    "154": "0.000",
                                    "155": "0.000",
                                    "156": "0.000",
                                    "157": "0.000",
                                    "158": "0.000",
                                    "159": "0.000",
                                    "160": "0.000"
                                }
                            ]
                        },
                        "text/html": [
                            "<table>",
                            "<tr><th>Company</th><th>ProjectID</th><th>PhaseID</th><th>Description</th><th>StartDate</th><th>DueDate</th><th>PercentComplete</th><th>DateComplete</th><th>PhaseStatus</th><th>Duration</th><th>WBSJobNum</th><th>ParentPhase</th><th>MSPTaskID</th><th>MSPPredecessor</th><th>UserMapData</th><th>BudTotLbrHours</th><th>BudTotBurHrs</th><th>BudTotLbrCost</th><th>BudTotBurCost</th><th>BudTotSubCost</th><th>BudTotMtlCost</th><th>BudTotMtlBurCost</th><th>TotEstLbrHrs</th><th>TotEstBurdenHrs</th><th>TotEstLbrCost</th><th>TotEstSubContCost</th><th>TotEstMtlCost</th><th>TotActLbrHrs</th><th>TotActBurHrs</th><th>TotActLbrCost</th><th>TotActBurCost</th><th>TotActSubContCost</th><th>TotActMtlCost</th><th>TotActMtlBurCost</th><th>ManEstCtcLbrHrs</th><th>ManEstCtcBurHrs</th><th>ManEstCtcLbrCost</th><th>ManEstCtcBurCost</th><th>ManEstCtcSubConCost</th><th>ManEstCtcMtlCost</th><th>ManEstCtcMtlBurCost</th><th>TotCtcLbrHours</th><th>TotCtcBurHours</th><th>TotCtcLbrCost</th><th>TotCtcBurCost</th><th>TotCtcSubConCost</th><th>TotCtcMtlCost</th><th>TotCtcMtlBurCost</th><th>TotQuotLbrHrs</th><th>TotQuotBurHrs</th><th>TotQuotLbrCost</th><th>TotQuotBurCost</th><th>TotQuotSubContCost</th><th>TotQuotMtlCost</th><th>TotQuotMtlBurCost</th><th>Level</th><th>DurationType</th><th>TotEstBurCost</th><th>TotEstMtlBurCost</th><th>RollChildMan</th><th>RollChildBud</th><th>SortSeq</th><th>MeasuredWorkID</th><th>TotQuotODCCost</th><th>TotEstODCCost</th><th>TotActODCCost</th><th>ManEstCTCODCCost</th><th>TotCTCODCCost</th><th>BudTotODCCost</th><th>TimeApprovalsMethod</th><th>TimeWFGroupID</th><th>ExpenseApprovalsMethod</th><th>ExpenseWFGroupID</th><th>PartNum</th><th>RevisionNum</th><th>SysRevID</th><th>SysRowID</th><th>InvMethod</th><th>RevMethod</th><th>OrderNum</th><th>OrderLine</th><th>WasRecInvoiced</th><th>LastBuildWBSPhaseAnalysisDate</th><th>PercentageOfCompletion</th><th>ToBeRecognizedLbrCost</th><th>ToBeRecognizedBurCost</th><th>ToBeRecognizedMtlCost</th><th>ToBeRecognizedSubCost</th><th>ToBeRecognizedMtlBurCost</th><th>ToBeRecognizedODCCost</th><th>ToBeRecognizedRevenue</th><th>RecognizeRevenueAtChildPhaseLevel</th><th>RollBudgetsToWBSPhase</th><th>TotWBSPhaseRev</th><th>SalesCatID</th><th>ActMtlNonJobCost</th><th>AsOfDate</th><th>BdnRecSeqPosted</th><th>BdnRecSeqLastAdded</th><th>BdnRevenueAutoToday</th><th>BillingToDate</th><th>BuildAnalysis</th><th>BurdenCostOfSales</th><th>BurdenLbrCstToDate</th><th>BurdenRecAutoCstTodate</th><th>BurdenRecManCstTodate</th><th>BurManPosted</th><th>BurPur</th><th>EstBurdenCost</th><th>EstBurdenHours</th><th>EstLaborCost</th><th>EstLaborHours</th><th>EstMtlBurdenCost</th><th>EstMtlCost</th><th>EstODCCost</th><th>EstSubcontractCost</th><th>LaborCostOfSales</th><th>LaborLbrCstToDate</th><th>LaborRecAutoCstTodate</th><th>LaborRecManCstTodate</th><th>LbrManPosted</th><th>LbrPur</th><th>MaterialCostOfSales</th><th>MaterialRecAutoCstTodate</th><th>MaterialRecManCstTodate</th><th>MtlBurdenCostOfSales</th><th>MtlBurdenRecAutoCstTodate</th><th>MtlBurdenRecManCstTodate</th><th>MtlBurManPosted</th><th>MtlBurPur</th><th>MtlManPosted</th><th>MtlPur</th><th>NextTmpInvcNum</th><th>ODCManPosted</th><th>ODCPur</th><th>ODCRecAutoCstToDate</th><th>ODCRecManCstTodate</th><th>RecManPosted</th><th>RecogToDtBilling</th><th>RecogToDtLbk</th><th>RecogToDtManual</th><th>RetentionDt</th><th>RevenueRecAutoToDate</th><th>RevenueRecManToDate</th><th>Reverse</th><th>RollManEstToCpte</th><th>SubCManPosted</th><th>SubConCostOfSales</th><th>SubConRecAutoCstTodate</th><th>SubConRecManCstTodate</th><th>SubPur</th><th>ConTotValue</th><th>DocConTotValue</th><th>Rpt1ConTotValue</th><th>Rpt2ConTotValue</th><th>Rpt3ConTotValue</th><th>ConTotValueNet</th><th>DocConTotValueNet</th><th>Rpt1ConTotValueNet</th><th>Rpt2ConTotValueNet</th><th>Rpt3ConTotValueNet</th></tr>",
                            "<tr><td>SOLAR</td><td>2024988</td><td>2.13</td><td>CONS PHS 1</td><td>NULL</td><td>2022-09-16</td><td>0.00</td><td>NULL</td><td>N</td><td>0.00</td><td></td><td>2.1</td><td></td><td></td><td></td><td>0.00</td><td>0.00</td><td>0.000</td><td>0.000</td><td>0.000</td><td>0.000</td><td>0.000</td><td>0.00</td><td>0.00</td><td>0.000</td><td>0.000</td><td>0.000</td><td>0.00</td><td>0.00</td><td>0.000</td><td>0.000</td><td>0.000</td><td>0.000</td><td>0.000</td><td>0.00</td><td>0.00</td><td>0.000</td><td>0.000</td><td>0.000</td><td>0.000</td><td>0.000</td><td>0.00</td><td>0.00</td><td>0.000</td><td>0.000</td><td>0.000</td><td>0.000</td><td>0.000</td><td>0.00</td><td>0.00</td><td>0.000</td><td>0.000</td><td>0.000</td><td>0.000</td><td>0.000</td><td>3</td><td>H</td><td>0.000</td><td>0.000</td><td>0</td><td>0</td><td>200</td><td></td><td>0.000</td><td>0.000</td><td>0.000</td><td>0.000</td><td>0.000</td><td>0.000</td><td></td><td></td><td></td><td></td><td></td><td></td><td>0x00000003F39FEBB4</td><td>fa70b470-0389-4058-b224-a68ab8ce1bf8</td><td>CS</td><td>MAN</td><td>0</td><td>0</td><td>0</td><td>2023-03-24</td><td>0.00</td><td>0.000</td><td>0.000</td><td>0.000</td><td>0.000</td><td>0.000</td><td>0.000</td><td>0.000</td><td>0</td><td>0</td><td>0.000</td><td></td><td>0.000</td><td>2023-03-24</td><td>0</td><td>0</td><td>0.000</td><td>0.000</td><td>0</td><td>0.000</td><td>0.000</td><td>0.000</td><td>0.000</td><td>0.000</td><td>0.000</td><td>0.000</td><td>0.00</td><td>0.000</td><td>0.00</td><td>0.000</td><td>0.000</td><td>0.000</td><td>0.000</td><td>0.000</td><td>0.000</td><td>0.000</td><td>0.000</td><td>0.000</td><td>0.000</td><td>0.000</td><td>0.000</td><td>0.000</td><td>0.000</td><td>0.000</td><td>0.000</td><td>0.000</td><td>0.000</td><td>0.000</td><td>0.000</td><td>0</td><td>0.000</td><td>0.000</td><td>0.000</td><td>0.000</td><td>0.000</td><td>0.000</td><td>0.000</td><td>0.000</td><td>0.000</td><td>0.000</td><td>0.000</td><td></td><td>0</td><td>0.000</td><td>0.000</td><td>0.000</td><td>0.000</td><td>0.000</td><td>0.000</td><td>0.000</td><td>0.000</td><td>0.000</td><td>0.000</td><td>0.000</td><td>0.000</td><td>0.000</td><td>0.000</td><td>0.000</td></tr>",
                            "</table>"
                        ]
                    }
                },
                {
                    "output_type": "execute_result",
                    "metadata": {},
                    "execution_count": 18,
                    "data": {
                        "application/vnd.dataresource+json": {
                            "schema": {
                                "fields": [
                                    {
                                        "name": "Level"
                                    }
                                ]
                            },
                            "data": [
                                {
                                    "0": "0"
                                },
                                {
                                    "0": "3"
                                },
                                {
                                    "0": "1"
                                },
                                {
                                    "0": "2"
                                }
                            ]
                        },
                        "text/html": [
                            "<table>",
                            "<tr><th>Level</th></tr>",
                            "<tr><td>0</td></tr>",
                            "<tr><td>3</td></tr>",
                            "<tr><td>1</td></tr>",
                            "<tr><td>2</td></tr>",
                            "</table>"
                        ]
                    }
                }
            ],
            "execution_count": 18
        },
        {
            "cell_type": "markdown",
            "source": [
                "**Project info** for example project High River"
            ],
            "metadata": {
                "azdata_cell_guid": "564a8ecc-f92d-4133-9153-891233159572"
            },
            "attachments": {}
        },
        {
            "cell_type": "code",
            "source": [
                "Declare @ProjectID Varchar(50)\r\n",
                "Set @ProjectID = '2128153';\r\n",
                "Declare @Company Varchar(50)\r\n",
                "Set @Company = 'Solar';\r\n",
                "\r\n",
                "Select p.Company,\r\n",
                "       p.ProjectID,\r\n",
                "       p.[Description] as ProjectName,\r\n",
                "       p.ActiveProject,\r\n",
                "       p.SalesCatID,\r\n",
                "       sc.[Description] as SalesCategory,\r\n",
                "       p.ConProjMgr,\r\n",
                "       eb.Name as PMName,\r\n",
                "       p.ConBTCustNum,\r\n",
                "       c.Name as CustomerName\r\n",
                "FROM [ERPDB].[Erp].[Project] p\r\n",
                "    LEFT JOIN [ERPDB].[Erp].[SalesCat] sc\r\n",
                "        on p.company = sc.company\r\n",
                "           and p.SalesCatID = sc.SalesCatID\r\n",
                "     LEFT JOIN [ERPDB].[Erp].[EmpBasic] eb\r\n",
                "        on p.ConProjMgr = eb.EmpID\r\n",
                "          and p.company = eb.company\r\n",
                "    LEFT JOIN [ERPDB].[Erp].[Customer] c\r\n",
                "        on p.ConBTCustNum = c.CustNum\r\n",
                "          and p.Company = c.Company\r\n",
                "where p.Company = @Company\r\n",
                "      and ProjectID = @ProjectID"
            ],
            "metadata": {
                "azdata_cell_guid": "24e65d96-ebb0-4891-a589-899b16f66476",
                "language": "sql"
            },
            "outputs": [
                {
                    "output_type": "display_data",
                    "data": {
                        "text/html": "(1 row affected)"
                    },
                    "metadata": {}
                },
                {
                    "output_type": "display_data",
                    "data": {
                        "text/html": "Total execution time: 00:00:00.160"
                    },
                    "metadata": {}
                },
                {
                    "output_type": "execute_result",
                    "execution_count": 1,
                    "data": {
                        "application/vnd.dataresource+json": {
                            "schema": {
                                "fields": [
                                    {
                                        "name": "Company"
                                    },
                                    {
                                        "name": "ProjectID"
                                    },
                                    {
                                        "name": "ProjectName"
                                    },
                                    {
                                        "name": "ActiveProject"
                                    },
                                    {
                                        "name": "SalesCatID"
                                    },
                                    {
                                        "name": "SalesCategory"
                                    },
                                    {
                                        "name": "ConProjMgr"
                                    },
                                    {
                                        "name": "PMName"
                                    },
                                    {
                                        "name": "ConBTCustNum"
                                    },
                                    {
                                        "name": "CustomerName"
                                    }
                                ]
                            },
                            "data": [
                                {
                                    "0": "SOLAR",
                                    "1": "2128153",
                                    "2": "High River",
                                    "3": "1",
                                    "4": "AGIL",
                                    "5": "Agile",
                                    "6": "27302",
                                    "7": "Richard W Van Fleet",
                                    "8": "474",
                                    "9": "NEXTERA ENERGY RESOURCES LLC"
                                }
                            ]
                        },
                        "text/html": "<table><tr><th>Company</th><th>ProjectID</th><th>ProjectName</th><th>ActiveProject</th><th>SalesCatID</th><th>SalesCategory</th><th>ConProjMgr</th><th>PMName</th><th>ConBTCustNum</th><th>CustomerName</th></tr><tr><td>SOLAR</td><td>2128153</td><td>High River</td><td>1</td><td>AGIL</td><td>Agile</td><td>27302</td><td>Richard W Van Fleet</td><td>474</td><td>NEXTERA ENERGY RESOURCES LLC</td></tr></table>"
                    },
                    "metadata": {}
                }
            ],
            "execution_count": 1
        },
        {
            "cell_type": "markdown",
            "source": [
                "**Ship State Query** \r\n",
                "\r\n",
                "Note: \r\n",
                "- this looks like it is coming from the OrderHead and not the Project.  In EPICOR The Project ID is assigned to the Order Line and a Project can have Many orders.  So in order to get a single Ship to in view there would have to selection on only one through likely a window function of some sort\r\n",
                "- With additional searhing there is a Orderhed table in the dbo schema which has a custom field to attach the Project is.  Therefore, you can get orderhed.ProjectID_c form the dbo schema table and use that to join to the Ship to without having to use the OrderDetail table.  The many orders per project issue still arises though"
            ],
            "metadata": {
                "azdata_cell_guid": "4bd3d44a-1a11-4306-8ec5-063767325a38"
            },
            "attachments": {}
        },
        {
            "cell_type": "code",
            "source": [
                "Declare @ProjectID Varchar(50)\r\n",
                "Set @ProjectID = '22221929';\r\n",
                "Declare @Company Varchar(50)\r\n",
                "Set @Company = 'Solar';\r\n",
                "\r\n",
                "Select Distinct\r\n",
                "    od.Company,\r\n",
                "    od.ProjectID,\r\n",
                "    od.OrderNum,\r\n",
                "    oh.shiptoNum,\r\n",
                "    st.State as ShipToState,\r\n",
                "    st.Zip as ShipToZip\r\n",
                "  FROM [ERPDB].[etl].vwOrderDetail od\r\n",
                "Left JOIN [ERPDB].[Erp].[orderhed] oh\r\n",
                "    on od.ordernum = oh.ordernum and od.company=oh.Company\r\n",
                "Left Join [ERPDB].[Erp].[ShipTo] st \r\n",
                "    on oh.shiptoNum = st.ShipToNum and oh.company = st.company and oh.CustNum = st.CustNum\r\n",
                "\r\n",
                "  WHERE od.Company = @Company\r\n",
                "   and ProjectID = @ProjectID\r\n",
                "\r\n",
                "   Select Distinct\r\n",
                "    oh.Company,\r\n",
                "    oh.ProjectID_c as ProjectID,\r\n",
                "    oh.OrderNum,\r\n",
                "    oh.shiptoNum,\r\n",
                "    st.State as ShipToState,\r\n",
                "    st.Zip as ShipToZip\r\n",
                "  FROM [ERPDB].[dbo].[orderhed] oh\r\n",
                "Left Join [ERPDB].[Erp].[ShipTo] st \r\n",
                "    on oh.shiptoNum = st.ShipToNum and oh.company = st.company and oh.CustNum = st.CustNum\r\n",
                "\r\n",
                "  WHERE oh.Company = @Company\r\n",
                "   and oh.ProjectID_c = @ProjectID"
            ],
            "metadata": {
                "language": "sql",
                "azdata_cell_guid": "a9b8f689-b27a-4a8c-a2e5-2af82f6b7b04",
                "tags": []
            },
            "outputs": [
                {
                    "output_type": "display_data",
                    "data": {
                        "text/html": "(3 rows affected)"
                    },
                    "metadata": {}
                },
                {
                    "output_type": "display_data",
                    "data": {
                        "text/html": "(3 rows affected)"
                    },
                    "metadata": {}
                },
                {
                    "output_type": "display_data",
                    "data": {
                        "text/html": "Total execution time: 00:00:00.211"
                    },
                    "metadata": {}
                },
                {
                    "output_type": "execute_result",
                    "execution_count": 6,
                    "data": {
                        "application/vnd.dataresource+json": {
                            "schema": {
                                "fields": [
                                    {
                                        "name": "Company"
                                    },
                                    {
                                        "name": "ProjectID"
                                    },
                                    {
                                        "name": "OrderNum"
                                    },
                                    {
                                        "name": "shiptoNum"
                                    },
                                    {
                                        "name": "ShipToState"
                                    },
                                    {
                                        "name": "ShipToZip"
                                    }
                                ]
                            },
                            "data": [
                                {
                                    "0": "SOLAR",
                                    "1": "22221929",
                                    "2": "4000237",
                                    "3": "04654",
                                    "4": "ME",
                                    "5": "04654"
                                },
                                {
                                    "0": "SOLAR",
                                    "1": "22221929",
                                    "2": "4000464",
                                    "3": "04654",
                                    "4": "ME",
                                    "5": "04654"
                                },
                                {
                                    "0": "SOLAR",
                                    "1": "22221929",
                                    "2": "4000496",
                                    "3": "04654",
                                    "4": "ME",
                                    "5": "04654"
                                }
                            ]
                        },
                        "text/html": "<table><tr><th>Company</th><th>ProjectID</th><th>OrderNum</th><th>shiptoNum</th><th>ShipToState</th><th>ShipToZip</th></tr><tr><td>SOLAR</td><td>22221929</td><td>4000237</td><td>04654</td><td>ME</td><td>04654</td></tr><tr><td>SOLAR</td><td>22221929</td><td>4000464</td><td>04654</td><td>ME</td><td>04654</td></tr><tr><td>SOLAR</td><td>22221929</td><td>4000496</td><td>04654</td><td>ME</td><td>04654</td></tr></table>"
                    },
                    "metadata": {}
                },
                {
                    "output_type": "execute_result",
                    "execution_count": 6,
                    "data": {
                        "application/vnd.dataresource+json": {
                            "schema": {
                                "fields": [
                                    {
                                        "name": "Company"
                                    },
                                    {
                                        "name": "ProjectID"
                                    },
                                    {
                                        "name": "OrderNum"
                                    },
                                    {
                                        "name": "shiptoNum"
                                    },
                                    {
                                        "name": "ShipToState"
                                    },
                                    {
                                        "name": "ShipToZip"
                                    }
                                ]
                            },
                            "data": [
                                {
                                    "0": "SOLAR",
                                    "1": "22221929",
                                    "2": "4000464",
                                    "3": "04654",
                                    "4": "ME",
                                    "5": "04654"
                                },
                                {
                                    "0": "SOLAR",
                                    "1": "22221929",
                                    "2": "4000237",
                                    "3": "04654",
                                    "4": "ME",
                                    "5": "04654"
                                },
                                {
                                    "0": "SOLAR",
                                    "1": "22221929",
                                    "2": "4000496",
                                    "3": "04654",
                                    "4": "ME",
                                    "5": "04654"
                                }
                            ]
                        },
                        "text/html": "<table><tr><th>Company</th><th>ProjectID</th><th>OrderNum</th><th>shiptoNum</th><th>ShipToState</th><th>ShipToZip</th></tr><tr><td>SOLAR</td><td>22221929</td><td>4000464</td><td>04654</td><td>ME</td><td>04654</td></tr><tr><td>SOLAR</td><td>22221929</td><td>4000237</td><td>04654</td><td>ME</td><td>04654</td></tr><tr><td>SOLAR</td><td>22221929</td><td>4000496</td><td>04654</td><td>ME</td><td>04654</td></tr></table>"
                    },
                    "metadata": {}
                }
            ],
            "execution_count": 6
        },
        {
            "cell_type": "markdown",
            "source": [
                "**Billing Query example** for High River"
            ],
            "metadata": {
                "language": "sql",
                "azdata_cell_guid": "8afe8184-a56e-43b5-b72d-3d379de1798f"
            },
            "attachments": {}
        },
        {
            "cell_type": "code",
            "source": [
                "Declare @ProjectID Varchar(50)\r\n",
                "Set @ProjectID = '22221929';\r\n",
                "Declare @Company Varchar(50)\r\n",
                "Set @Company = 'Solar';\r\n",
                " \r\n",
                " With InvoiceSummary\r\n",
                " as (Select Company,\r\n",
                "    OrderNum,\r\n",
                "   Sum(InvoiceAmt) as Billed,\r\n",
                "   Sum(InvoiceBal) as InvoiceBalance,\r\n",
                "   (Sum(InvoiceAmt) - Sum(INvoiceBal)) as CustomerPaid\r\n",
                "    FROM [ERPDB].[Erp].[InvcHead]\r\n",
                "\r\n",
                "  Group by Company, OrderNum\r\n",
                " )\r\n",
                "\r\n",
                "Select\r\n",
                "oh.Company,\r\n",
                "oh.ProjectID_c as ProjectID,\r\n",
                "oh.OrderNum,\r\n",
                "oh.Division_c,\r\n",
                "Sum(inv.Billed) as Billed,\r\n",
                "Sum(inv.InvoiceBalance) as InvoiceBalance,\r\n",
                "sum(inv.CustomerPaid) as CustomerPaid\r\n",
                "FROM [ERPDB].[dbo].[orderhed] oh\r\n",
                "Left Join InvoiceSummary inv\r\n",
                "on oh.OrderNum = inv.OrderNum and oh.Company = inv.Company\r\n",
                "Where oh.Company = @Company\r\n",
                "  and oh.ProjectID_c = @ProjectID\r\n",
                "Group by oh.Company, oh.ProjectID_c, oh.OrderNum, oh.Division_c"
            ],
            "metadata": {
                "language": "sql",
                "azdata_cell_guid": "c8bce260-3f56-44ec-81c1-82352ae3c367"
            },
            "outputs": [
                {
                    "output_type": "display_data",
                    "data": {
                        "text/html": "(3 rows affected)"
                    },
                    "metadata": {}
                },
                {
                    "output_type": "display_data",
                    "data": {
                        "text/html": "Total execution time: 00:00:00.122"
                    },
                    "metadata": {}
                },
                {
                    "output_type": "execute_result",
                    "execution_count": 15,
                    "data": {
                        "application/vnd.dataresource+json": {
                            "schema": {
                                "fields": [
                                    {
                                        "name": "Company"
                                    },
                                    {
                                        "name": "ProjectID"
                                    },
                                    {
                                        "name": "OrderNum"
                                    },
                                    {
                                        "name": "Division_c"
                                    },
                                    {
                                        "name": "Billed"
                                    },
                                    {
                                        "name": "InvoiceBalance"
                                    },
                                    {
                                        "name": "CustomerPaid"
                                    }
                                ]
                            },
                            "data": [
                                {
                                    "0": "SOLAR",
                                    "1": "22221929",
                                    "2": "4000464",
                                    "3": "0",
                                    "4": "1344.000",
                                    "5": "1344.000",
                                    "6": "0.000"
                                },
                                {
                                    "0": "SOLAR",
                                    "1": "22221929",
                                    "2": "4000237",
                                    "3": "0",
                                    "4": "715418.000",
                                    "5": "595554.400",
                                    "6": "119863.600"
                                },
                                {
                                    "0": "SOLAR",
                                    "1": "22221929",
                                    "2": "4000496",
                                    "3": "0",
                                    "4": "NULL",
                                    "5": "NULL",
                                    "6": "NULL"
                                }
                            ]
                        },
                        "text/html": "<table><tr><th>Company</th><th>ProjectID</th><th>OrderNum</th><th>Division_c</th><th>Billed</th><th>InvoiceBalance</th><th>CustomerPaid</th></tr><tr><td>SOLAR</td><td>22221929</td><td>4000464</td><td>0</td><td>1344.000</td><td>1344.000</td><td>0.000</td></tr><tr><td>SOLAR</td><td>22221929</td><td>4000237</td><td>0</td><td>715418.000</td><td>595554.400</td><td>119863.600</td></tr><tr><td>SOLAR</td><td>22221929</td><td>4000496</td><td>0</td><td>NULL</td><td>NULL</td><td>NULL</td></tr></table>"
                    },
                    "metadata": {}
                }
            ],
            "execution_count": 15
        },
        {
            "cell_type": "markdown",
            "source": [
                "**Sales Categories**\n",
                "\n",
                "- Sales Categories are put on the project for the new Screw Projects (Agile, TerraTrak, Tracker Interface)\n",
                "- legacy rbi Wave/Canopy/Sunflower put the Salescategory on the OrderDtl and the Division is on the dbo.Orderhed.\n",
                "- Agile/TerraTrak/TrackerInterface also get the SalesCategory on the OrderDtl but the Division is not on the dbo.Orderhed or the Project\n",
                "- for screw Projects Epicor automatically posts based on the Product Group (is this = to SalesCategory?) on the SO line (Cost) and the GL Control on the WBS Phase (Revenue)\n",
                "- Some Sales Categories will be on mulitple divisions (example = GM).  When this is the case the division should reflect what is on the Orderhead"
            ],
            "metadata": {
                "azdata_cell_guid": "88674841-8c2a-4a14-bfa1-094f9ce11ff3"
            },
            "attachments": {}
        },
        {
            "cell_type": "code",
            "source": [
                "--List of Sales Categories used on Project table. \r\n",
                "Select distinct \r\n",
                "       sc.Company\r\n",
                "    ,sc.[Description] as SalesCategory\r\n",
                "FROM [ERPDB].[Erp].[Project] p\r\n",
                "    LEFT JOIN [ERPDB].[Erp].[SalesCat] sc\r\n",
                "        on p.company = sc.company\r\n",
                "           and p.SalesCatID = sc.SalesCatID\r\n",
                "Where sc.Company = 'Solar'\r\n",
                "Order by sc.Company\r\n",
                "\r\n",
                "\r\n",
                "-- List of distinct Sales Categories for Solar\r\n",
                "Select distinct \r\n",
                "       sc.Company\r\n",
                "    ,sc.[Description] as SalesCategory\r\n",
                "FROM [ERPDB].[Erp].[SalesCat] sc\r\n",
                "Where sc.Company = 'Solar'\r\n",
                "Order by sc.Company\r\n",
                "\r\n",
                "-- list of distinct sales categories for Solar orders which looks like it puts the sales category on the new Agile/Terratrak/TrackerInterface product types but doesn't put the division on the order head\r\n",
                "Select Distinct \r\n",
                "    od.Company,\r\n",
                "    oh.Division_c,\r\n",
                "    od.SalesCatID,\r\n",
                "    sc.[Description] as SalesCategory\r\n",
                "   FROM [ERPDB].[etl].vwOrderDetail od\r\n",
                "Left JOIN [ERPDB].[dbo].[orderhed] oh\r\n",
                "    on od.ordernum = oh.ordernum and od.company=oh.Company\r\n",
                "LEFT JOIN [ERPDB].[Erp].[SalesCat] sc\r\n",
                "     on od.company = sc.company\r\n",
                "           and od.SalesCatID = sc.SalesCatID\r\n",
                "Where sc.Company != 'APEKS'\r\n",
                "Order by od.Company, Division_c\r\n",
                ""
            ],
            "metadata": {
                "azdata_cell_guid": "e881e179-e272-41ec-9b3f-bef937916d0f",
                "language": "sql"
            },
            "outputs": [
                {
                    "output_type": "display_data",
                    "data": {
                        "text/html": "(3 rows affected)"
                    },
                    "metadata": {}
                },
                {
                    "output_type": "display_data",
                    "data": {
                        "text/html": "(84 rows affected)"
                    },
                    "metadata": {}
                },
                {
                    "output_type": "display_data",
                    "data": {
                        "text/html": "(58 rows affected)"
                    },
                    "metadata": {}
                },
                {
                    "output_type": "display_data",
                    "data": {
                        "text/html": "Total execution time: 00:00:00.391"
                    },
                    "metadata": {}
                },
                {
                    "output_type": "execute_result",
                    "execution_count": 9,
                    "data": {
                        "application/vnd.dataresource+json": {
                            "schema": {
                                "fields": [
                                    {
                                        "name": "Company"
                                    },
                                    {
                                        "name": "SalesCategory"
                                    }
                                ]
                            },
                            "data": [
                                {
                                    "0": "SOLAR",
                                    "1": "Agile"
                                },
                                {
                                    "0": "SOLAR",
                                    "1": "TerraTrak"
                                },
                                {
                                    "0": "SOLAR",
                                    "1": "TrkrInterface"
                                }
                            ]
                        },
                        "text/html": "<table><tr><th>Company</th><th>SalesCategory</th></tr><tr><td>SOLAR</td><td>Agile</td></tr><tr><td>SOLAR</td><td>TerraTrak</td></tr><tr><td>SOLAR</td><td>TrkrInterface</td></tr></table>"
                    },
                    "metadata": {}
                },
                {
                    "output_type": "execute_result",
                    "execution_count": 9,
                    "data": {
                        "application/vnd.dataresource+json": {
                            "schema": {
                                "fields": [
                                    {
                                        "name": "Company"
                                    },
                                    {
                                        "name": "SalesCategory"
                                    }
                                ]
                            },
                            "data": [
                                {
                                    "0": "SOLAR",
                                    "1": "Agile"
                                },
                                {
                                    "0": "SOLAR",
                                    "1": "BA CPST CTC D"
                                },
                                {
                                    "0": "SOLAR",
                                    "1": "BA CPST CTC L"
                                },
                                {
                                    "0": "SOLAR",
                                    "1": "BA CPST CTC M"
                                },
                                {
                                    "0": "SOLAR",
                                    "1": "BA CPST CTC M&L"
                                },
                                {
                                    "0": "SOLAR",
                                    "1": "BA IB 4SQTC D"
                                },
                                {
                                    "0": "SOLAR",
                                    "1": "BA IB 4SQTC L"
                                },
                                {
                                    "0": "SOLAR",
                                    "1": "BA IB 4SQTC M"
                                },
                                {
                                    "0": "SOLAR",
                                    "1": "BA IB 4SQTC M&L"
                                },
                                {
                                    "0": "SOLAR",
                                    "1": "BA IB CTC D"
                                },
                                {
                                    "0": "SOLAR",
                                    "1": "BA IB CTC L"
                                },
                                {
                                    "0": "SOLAR",
                                    "1": "BA IB CTC M"
                                },
                                {
                                    "0": "SOLAR",
                                    "1": "BA IB CTC M&L"
                                },
                                {
                                    "0": "SOLAR",
                                    "1": "CANOPY TBD"
                                },
                                {
                                    "0": "SOLAR",
                                    "1": "CONSIGNMENT"
                                },
                                {
                                    "0": "SOLAR",
                                    "1": "GM PULL TEST"
                                },
                                {
                                    "0": "SOLAR",
                                    "1": "GM TBD"
                                },
                                {
                                    "0": "SOLAR",
                                    "1": "GM Utility"
                                },
                                {
                                    "0": "SOLAR",
                                    "1": "GR CPST CTC D"
                                },
                                {
                                    "0": "SOLAR",
                                    "1": "GR CPST CTC L"
                                },
                                {
                                    "0": "SOLAR",
                                    "1": "GR CPST CTC M"
                                },
                                {
                                    "0": "SOLAR",
                                    "1": "GR CPST CTC M&L"
                                },
                                {
                                    "0": "SOLAR",
                                    "1": "GR IB 4SQTC D"
                                },
                                {
                                    "0": "SOLAR",
                                    "1": "GR IB 4SQTC L"
                                },
                                {
                                    "0": "SOLAR",
                                    "1": "GR IB 4SQTC M"
                                },
                                {
                                    "0": "SOLAR",
                                    "1": "GR IB 4SQTC M&L"
                                },
                                {
                                    "0": "SOLAR",
                                    "1": "GR IB CTC D"
                                },
                                {
                                    "0": "SOLAR",
                                    "1": "GR IB CTC L"
                                },
                                {
                                    "0": "SOLAR",
                                    "1": "GR IB CTC M"
                                },
                                {
                                    "0": "SOLAR",
                                    "1": "GR IB CTC M&L"
                                },
                                {
                                    "0": "SOLAR",
                                    "1": "GR MNT R&D"
                                },
                                {
                                    "0": "SOLAR",
                                    "1": "Ground Mount"
                                },
                                {
                                    "0": "SOLAR",
                                    "1": "Ground Mount 2"
                                },
                                {
                                    "0": "SOLAR",
                                    "1": "No Job-Comerica"
                                },
                                {
                                    "0": "SOLAR",
                                    "1": "Parking"
                                },
                                {
                                    "0": "SOLAR",
                                    "1": "PKG GAR TOP D"
                                },
                                {
                                    "0": "SOLAR",
                                    "1": "PKG GAR TOP L"
                                },
                                {
                                    "0": "SOLAR",
                                    "1": "PKG GAR TOP M"
                                },
                                {
                                    "0": "SOLAR",
                                    "1": "PKG GAR TOP M&L"
                                },
                                {
                                    "0": "SOLAR",
                                    "1": "PKG R&D"
                                },
                                {
                                    "0": "SOLAR",
                                    "1": "PKG SUR IB D"
                                },
                                {
                                    "0": "SOLAR",
                                    "1": "PKG SUR IB L"
                                },
                                {
                                    "0": "SOLAR",
                                    "1": "PKG SUR IB M"
                                },
                                {
                                    "0": "SOLAR",
                                    "1": "PKG SUR IB M&L"
                                },
                                {
                                    "0": "SOLAR",
                                    "1": "PKG SUR LS D"
                                },
                                {
                                    "0": "SOLAR",
                                    "1": "PKG SUR LS L"
                                },
                                {
                                    "0": "SOLAR",
                                    "1": "PKG SUR LS M"
                                },
                                {
                                    "0": "SOLAR",
                                    "1": "PKG SUR LS M&L"
                                },
                                {
                                    "0": "SOLAR",
                                    "1": "PKG SUR TR D"
                                },
                                {
                                    "0": "SOLAR",
                                    "1": "PKG SUR TR L"
                                },
                                {
                                    "0": "SOLAR",
                                    "1": "PKG SUR TR M"
                                },
                                {
                                    "0": "SOLAR",
                                    "1": "PKG SUR TR M&L"
                                },
                                {
                                    "0": "SOLAR",
                                    "1": "R&D"
                                },
                                {
                                    "0": "SOLAR",
                                    "1": "Roof Mount"
                                },
                                {
                                    "0": "SOLAR",
                                    "1": "SPECIAL BA D"
                                },
                                {
                                    "0": "SOLAR",
                                    "1": "SPECIAL BA L"
                                },
                                {
                                    "0": "SOLAR",
                                    "1": "SPECIAL BA M"
                                },
                                {
                                    "0": "SOLAR",
                                    "1": "SPECIAL BA M&L"
                                },
                                {
                                    "0": "SOLAR",
                                    "1": "SPECIAL GM D"
                                },
                                {
                                    "0": "SOLAR",
                                    "1": "SPECIAL GM L"
                                },
                                {
                                    "0": "SOLAR",
                                    "1": "SPECIAL GM M"
                                },
                                {
                                    "0": "SOLAR",
                                    "1": "SPECIAL GM M&L"
                                },
                                {
                                    "0": "SOLAR",
                                    "1": "SPECIAL PKG D"
                                },
                                {
                                    "0": "SOLAR",
                                    "1": "SPECIAL PKG L"
                                },
                                {
                                    "0": "SOLAR",
                                    "1": "SPECIAL PKG M"
                                },
                                {
                                    "0": "SOLAR",
                                    "1": "SPECIAL PKG M&L"
                                },
                                {
                                    "0": "SOLAR",
                                    "1": "Sunfig"
                                },
                                {
                                    "0": "SOLAR",
                                    "1": "TerraTrak"
                                },
                                {
                                    "0": "SOLAR",
                                    "1": "TRAC ALT D"
                                },
                                {
                                    "0": "SOLAR",
                                    "1": "TRAC ALT L"
                                },
                                {
                                    "0": "SOLAR",
                                    "1": "TRAC ALT M"
                                },
                                {
                                    "0": "SOLAR",
                                    "1": "TRAC ALT M&L"
                                },
                                {
                                    "0": "SOLAR",
                                    "1": "TRAC CPOST D"
                                },
                                {
                                    "0": "SOLAR",
                                    "1": "TRAC CPOST L"
                                },
                                {
                                    "0": "SOLAR",
                                    "1": "TRAC CPOST M"
                                },
                                {
                                    "0": "SOLAR",
                                    "1": "TRAC CPOST M&L"
                                },
                                {
                                    "0": "SOLAR",
                                    "1": "TRAC IBEAM D"
                                },
                                {
                                    "0": "SOLAR",
                                    "1": "TRAC IBEAM L"
                                },
                                {
                                    "0": "SOLAR",
                                    "1": "TRAC IBEAM M"
                                },
                                {
                                    "0": "SOLAR",
                                    "1": "TRAC IBEAM M&L"
                                },
                                {
                                    "0": "SOLAR",
                                    "1": "Tracker"
                                },
                                {
                                    "0": "SOLAR",
                                    "1": "TRKR R&D"
                                },
                                {
                                    "0": "SOLAR",
                                    "1": "TrkrInterface"
                                },
                                {
                                    "0": "SOLAR",
                                    "1": "Warranty"
                                }
                            ]
                        },
                        "text/html": "<table><tr><th>Company</th><th>SalesCategory</th></tr><tr><td>SOLAR</td><td>Agile</td></tr><tr><td>SOLAR</td><td>BA CPST CTC D</td></tr><tr><td>SOLAR</td><td>BA CPST CTC L</td></tr><tr><td>SOLAR</td><td>BA CPST CTC M</td></tr><tr><td>SOLAR</td><td>BA CPST CTC M&amp;L</td></tr><tr><td>SOLAR</td><td>BA IB 4SQTC D</td></tr><tr><td>SOLAR</td><td>BA IB 4SQTC L</td></tr><tr><td>SOLAR</td><td>BA IB 4SQTC M</td></tr><tr><td>SOLAR</td><td>BA IB 4SQTC M&amp;L</td></tr><tr><td>SOLAR</td><td>BA IB CTC D</td></tr><tr><td>SOLAR</td><td>BA IB CTC L</td></tr><tr><td>SOLAR</td><td>BA IB CTC M</td></tr><tr><td>SOLAR</td><td>BA IB CTC M&amp;L</td></tr><tr><td>SOLAR</td><td>CANOPY TBD</td></tr><tr><td>SOLAR</td><td>CONSIGNMENT</td></tr><tr><td>SOLAR</td><td>GM PULL TEST</td></tr><tr><td>SOLAR</td><td>GM TBD</td></tr><tr><td>SOLAR</td><td>GM Utility</td></tr><tr><td>SOLAR</td><td>GR CPST CTC D</td></tr><tr><td>SOLAR</td><td>GR CPST CTC L</td></tr><tr><td>SOLAR</td><td>GR CPST CTC M</td></tr><tr><td>SOLAR</td><td>GR CPST CTC M&amp;L</td></tr><tr><td>SOLAR</td><td>GR IB 4SQTC D</td></tr><tr><td>SOLAR</td><td>GR IB 4SQTC L</td></tr><tr><td>SOLAR</td><td>GR IB 4SQTC M</td></tr><tr><td>SOLAR</td><td>GR IB 4SQTC M&amp;L</td></tr><tr><td>SOLAR</td><td>GR IB CTC D</td></tr><tr><td>SOLAR</td><td>GR IB CTC L</td></tr><tr><td>SOLAR</td><td>GR IB CTC M</td></tr><tr><td>SOLAR</td><td>GR IB CTC M&amp;L</td></tr><tr><td>SOLAR</td><td>GR MNT R&amp;D</td></tr><tr><td>SOLAR</td><td>Ground Mount</td></tr><tr><td>SOLAR</td><td>Ground Mount 2</td></tr><tr><td>SOLAR</td><td>No Job-Comerica</td></tr><tr><td>SOLAR</td><td>Parking</td></tr><tr><td>SOLAR</td><td>PKG GAR TOP D</td></tr><tr><td>SOLAR</td><td>PKG GAR TOP L</td></tr><tr><td>SOLAR</td><td>PKG GAR TOP M</td></tr><tr><td>SOLAR</td><td>PKG GAR TOP M&amp;L</td></tr><tr><td>SOLAR</td><td>PKG R&amp;D</td></tr><tr><td>SOLAR</td><td>PKG SUR IB D</td></tr><tr><td>SOLAR</td><td>PKG SUR IB L</td></tr><tr><td>SOLAR</td><td>PKG SUR IB M</td></tr><tr><td>SOLAR</td><td>PKG SUR IB M&amp;L</td></tr><tr><td>SOLAR</td><td>PKG SUR LS D</td></tr><tr><td>SOLAR</td><td>PKG SUR LS L</td></tr><tr><td>SOLAR</td><td>PKG SUR LS M</td></tr><tr><td>SOLAR</td><td>PKG SUR LS M&amp;L</td></tr><tr><td>SOLAR</td><td>PKG SUR TR D</td></tr><tr><td>SOLAR</td><td>PKG SUR TR L</td></tr><tr><td>SOLAR</td><td>PKG SUR TR M</td></tr><tr><td>SOLAR</td><td>PKG SUR TR M&amp;L</td></tr><tr><td>SOLAR</td><td>R&amp;D</td></tr><tr><td>SOLAR</td><td>Roof Mount</td></tr><tr><td>SOLAR</td><td>SPECIAL BA D</td></tr><tr><td>SOLAR</td><td>SPECIAL BA L</td></tr><tr><td>SOLAR</td><td>SPECIAL BA M</td></tr><tr><td>SOLAR</td><td>SPECIAL BA M&amp;L</td></tr><tr><td>SOLAR</td><td>SPECIAL GM D</td></tr><tr><td>SOLAR</td><td>SPECIAL GM L</td></tr><tr><td>SOLAR</td><td>SPECIAL GM M</td></tr><tr><td>SOLAR</td><td>SPECIAL GM M&amp;L</td></tr><tr><td>SOLAR</td><td>SPECIAL PKG D</td></tr><tr><td>SOLAR</td><td>SPECIAL PKG L</td></tr><tr><td>SOLAR</td><td>SPECIAL PKG M</td></tr><tr><td>SOLAR</td><td>SPECIAL PKG M&amp;L</td></tr><tr><td>SOLAR</td><td>Sunfig</td></tr><tr><td>SOLAR</td><td>TerraTrak</td></tr><tr><td>SOLAR</td><td>TRAC ALT D</td></tr><tr><td>SOLAR</td><td>TRAC ALT L</td></tr><tr><td>SOLAR</td><td>TRAC ALT M</td></tr><tr><td>SOLAR</td><td>TRAC ALT M&amp;L</td></tr><tr><td>SOLAR</td><td>TRAC CPOST D</td></tr><tr><td>SOLAR</td><td>TRAC CPOST L</td></tr><tr><td>SOLAR</td><td>TRAC CPOST M</td></tr><tr><td>SOLAR</td><td>TRAC CPOST M&amp;L</td></tr><tr><td>SOLAR</td><td>TRAC IBEAM D</td></tr><tr><td>SOLAR</td><td>TRAC IBEAM L</td></tr><tr><td>SOLAR</td><td>TRAC IBEAM M</td></tr><tr><td>SOLAR</td><td>TRAC IBEAM M&amp;L</td></tr><tr><td>SOLAR</td><td>Tracker</td></tr><tr><td>SOLAR</td><td>TRKR R&amp;D</td></tr><tr><td>SOLAR</td><td>TrkrInterface</td></tr><tr><td>SOLAR</td><td>Warranty</td></tr></table>"
                    },
                    "metadata": {}
                },
                {
                    "output_type": "execute_result",
                    "execution_count": 9,
                    "data": {
                        "application/vnd.dataresource+json": {
                            "schema": {
                                "fields": [
                                    {
                                        "name": "Company"
                                    },
                                    {
                                        "name": "Division_c"
                                    },
                                    {
                                        "name": "SalesCatID"
                                    },
                                    {
                                        "name": "SalesCategory"
                                    }
                                ]
                            },
                            "data": [
                                {
                                    "0": "SOLAR",
                                    "1": "3",
                                    "2": "GI4I",
                                    "3": "GR IB 4SQTC M&L"
                                },
                                {
                                    "0": "SOLAR",
                                    "1": "3",
                                    "2": "BICM",
                                    "3": "BA IB CTC M"
                                },
                                {
                                    "0": "SOLAR",
                                    "1": "3",
                                    "2": "GI4M",
                                    "3": "GR IB 4SQTC M"
                                },
                                {
                                    "0": "SOLAR",
                                    "1": "3",
                                    "2": "GICI",
                                    "3": "GR IB CTC M&L"
                                },
                                {
                                    "0": "SOLAR",
                                    "1": "3",
                                    "2": "GM",
                                    "3": "Ground Mount"
                                },
                                {
                                    "0": "SOLAR",
                                    "1": "3",
                                    "2": "PSTI",
                                    "3": "PKG SUR IB M&L"
                                },
                                {
                                    "0": "SOLAR",
                                    "1": "3",
                                    "2": "RM",
                                    "3": "Roof Mount"
                                },
                                {
                                    "0": "SOLAR",
                                    "1": "3",
                                    "2": "GI4D",
                                    "3": "GR IB 4SQTC D"
                                },
                                {
                                    "0": "SOLAR",
                                    "1": "3",
                                    "2": "GCCI",
                                    "3": "GR CPST CTC M&L"
                                },
                                {
                                    "0": "SOLAR",
                                    "1": "3",
                                    "2": "GMRD",
                                    "3": "GR MNT R&D"
                                },
                                {
                                    "0": "SOLAR",
                                    "1": "3",
                                    "2": "GCCD",
                                    "3": "GR CPST CTC D"
                                },
                                {
                                    "0": "SOLAR",
                                    "1": "3",
                                    "2": "SPGD",
                                    "3": "SPECIAL GM D"
                                },
                                {
                                    "0": "SOLAR",
                                    "1": "3",
                                    "2": "GCCM",
                                    "3": "GR CPST CTC M"
                                },
                                {
                                    "0": "SOLAR",
                                    "1": "3",
                                    "2": "BI4I",
                                    "3": "BA IB 4SQTC M&L"
                                },
                                {
                                    "0": "SOLAR",
                                    "1": "3",
                                    "2": "GTBD",
                                    "3": "GM TBD"
                                },
                                {
                                    "0": "SOLAR",
                                    "1": "3",
                                    "2": "GICM",
                                    "3": "GR IB CTC M"
                                },
                                {
                                    "0": "SOLAR",
                                    "1": "3",
                                    "2": "PTBD",
                                    "3": "CANOPY TBD"
                                },
                                {
                                    "0": "SOLAR",
                                    "1": "3",
                                    "2": "GICD",
                                    "3": "GR IB CTC D"
                                },
                                {
                                    "0": "SOLAR",
                                    "1": "3",
                                    "2": "GMPT",
                                    "3": "GM PULL TEST"
                                },
                                {
                                    "0": "SOLAR",
                                    "1": "3",
                                    "2": "SPPI",
                                    "3": "SPECIAL PKG M&L"
                                },
                                {
                                    "0": "SOLAR",
                                    "1": "3",
                                    "2": "PSPI",
                                    "3": "PKG SUR TR M&L"
                                },
                                {
                                    "0": "SOLAR",
                                    "1": "3",
                                    "2": "PSLI",
                                    "3": "PKG SUR LS M&L"
                                },
                                {
                                    "0": "SOLAR",
                                    "1": "3",
                                    "2": "PSPD",
                                    "3": "PKG SUR TR D"
                                },
                                {
                                    "0": "SOLAR",
                                    "1": "3",
                                    "2": "PSTM",
                                    "3": "PKG SUR IB M"
                                },
                                {
                                    "0": "SOLAR",
                                    "1": "3",
                                    "2": "PGTD",
                                    "3": "PKG GAR TOP D"
                                },
                                {
                                    "0": "SOLAR",
                                    "1": "3",
                                    "2": "PGTI",
                                    "3": "PKG GAR TOP M&L"
                                },
                                {
                                    "0": "SOLAR",
                                    "1": "3",
                                    "2": "P",
                                    "3": "Parking"
                                },
                                {
                                    "0": "SOLAR",
                                    "1": "3",
                                    "2": "PGTM",
                                    "3": "PKG GAR TOP M"
                                },
                                {
                                    "0": "SOLAR",
                                    "1": "3",
                                    "2": "W",
                                    "3": "Warranty"
                                },
                                {
                                    "0": "SOLAR",
                                    "1": "3",
                                    "2": "RD",
                                    "3": "R&D"
                                },
                                {
                                    "0": "SOLAR",
                                    "1": "3",
                                    "2": "GI4L",
                                    "3": "GR IB 4SQTC L"
                                },
                                {
                                    "0": "SOLAR",
                                    "1": "3",
                                    "2": "BI4M",
                                    "3": "BA IB 4SQTC M"
                                },
                                {
                                    "0": "SOLAR",
                                    "1": "3",
                                    "2": "SPGI",
                                    "3": "SPECIAL GM M&L"
                                },
                                {
                                    "0": "SOLAR",
                                    "1": "3",
                                    "2": "SPBI",
                                    "3": "SPECIAL BA M&L"
                                },
                                {
                                    "0": "SOLAR",
                                    "1": "3",
                                    "2": "GICL",
                                    "3": "GR IB CTC L"
                                },
                                {
                                    "0": "SOLAR",
                                    "1": "3",
                                    "2": "BCCM",
                                    "3": "BA CPST CTC M"
                                },
                                {
                                    "0": "SOLAR",
                                    "1": "3",
                                    "2": "BCCI",
                                    "3": "BA CPST CTC M&L"
                                },
                                {
                                    "0": "SOLAR",
                                    "1": "7",
                                    "2": "GTBD",
                                    "3": "GM TBD"
                                },
                                {
                                    "0": "SOLAR",
                                    "1": "7",
                                    "2": "W",
                                    "3": "Warranty"
                                },
                                {
                                    "0": "SOLAR",
                                    "1": "7",
                                    "2": "PTBD",
                                    "3": "CANOPY TBD"
                                },
                                {
                                    "0": "SOLAR",
                                    "1": "7",
                                    "2": "P",
                                    "3": "Parking"
                                },
                                {
                                    "0": "SOLAR",
                                    "1": "7",
                                    "2": "GM",
                                    "3": "Ground Mount"
                                },
                                {
                                    "0": "SOLAR",
                                    "1": "7",
                                    "2": "PGTD",
                                    "3": "PKG GAR TOP D"
                                },
                                {
                                    "0": "SOLAR",
                                    "1": "7",
                                    "2": "PGTI",
                                    "3": "PKG GAR TOP M&L"
                                },
                                {
                                    "0": "SOLAR",
                                    "1": "9",
                                    "2": "T",
                                    "3": "Tracker"
                                },
                                {
                                    "0": "SOLAR",
                                    "1": "3",
                                    "2": "T",
                                    "3": "Tracker"
                                },
                                {
                                    "0": "SOLAR",
                                    "1": "7",
                                    "2": "RD",
                                    "3": "R&D"
                                },
                                {
                                    "0": "SOLAR",
                                    "1": "9",
                                    "2": "W",
                                    "3": "Warranty"
                                },
                                {
                                    "0": "SOLAR",
                                    "1": "9",
                                    "2": "GM",
                                    "3": "Ground Mount"
                                },
                                {
                                    "0": "SOLAR",
                                    "1": "9",
                                    "2": "RD",
                                    "3": "R&D"
                                },
                                {
                                    "0": "SOLAR",
                                    "1": "9",
                                    "2": "TKRD",
                                    "3": "TRKR R&D"
                                },
                                {
                                    "0": "SOLAR",
                                    "1": "3",
                                    "2": "GMU",
                                    "3": "GM Utility"
                                },
                                {
                                    "0": "SOLAR",
                                    "1": "5",
                                    "2": "SNFG",
                                    "3": "Sunfig"
                                },
                                {
                                    "0": "SOLAR",
                                    "1": "0",
                                    "2": "AGIL",
                                    "3": "Agile"
                                },
                                {
                                    "0": "SOLAR",
                                    "1": "0",
                                    "2": "TT",
                                    "3": "TerraTrak"
                                },
                                {
                                    "0": "SOLAR",
                                    "1": "0",
                                    "2": "TINT",
                                    "3": "TrkrInterface"
                                },
                                {
                                    "0": "SOLAR",
                                    "1": "0",
                                    "2": "00NJ",
                                    "3": "No Job-Comerica"
                                },
                                {
                                    "0": "SOLAR",
                                    "1": "0",
                                    "2": "CONS",
                                    "3": "CONSIGNMENT"
                                }
                            ]
                        },
                        "text/html": "<table><tr><th>Company</th><th>Division_c</th><th>SalesCatID</th><th>SalesCategory</th></tr><tr><td>SOLAR</td><td>3</td><td>GI4I</td><td>GR IB 4SQTC M&amp;L</td></tr><tr><td>SOLAR</td><td>3</td><td>BICM</td><td>BA IB CTC M</td></tr><tr><td>SOLAR</td><td>3</td><td>GI4M</td><td>GR IB 4SQTC M</td></tr><tr><td>SOLAR</td><td>3</td><td>GICI</td><td>GR IB CTC M&amp;L</td></tr><tr><td>SOLAR</td><td>3</td><td>GM</td><td>Ground Mount</td></tr><tr><td>SOLAR</td><td>3</td><td>PSTI</td><td>PKG SUR IB M&amp;L</td></tr><tr><td>SOLAR</td><td>3</td><td>RM</td><td>Roof Mount</td></tr><tr><td>SOLAR</td><td>3</td><td>GI4D</td><td>GR IB 4SQTC D</td></tr><tr><td>SOLAR</td><td>3</td><td>GCCI</td><td>GR CPST CTC M&amp;L</td></tr><tr><td>SOLAR</td><td>3</td><td>GMRD</td><td>GR MNT R&amp;D</td></tr><tr><td>SOLAR</td><td>3</td><td>GCCD</td><td>GR CPST CTC D</td></tr><tr><td>SOLAR</td><td>3</td><td>SPGD</td><td>SPECIAL GM D</td></tr><tr><td>SOLAR</td><td>3</td><td>GCCM</td><td>GR CPST CTC M</td></tr><tr><td>SOLAR</td><td>3</td><td>BI4I</td><td>BA IB 4SQTC M&amp;L</td></tr><tr><td>SOLAR</td><td>3</td><td>GTBD</td><td>GM TBD</td></tr><tr><td>SOLAR</td><td>3</td><td>GICM</td><td>GR IB CTC M</td></tr><tr><td>SOLAR</td><td>3</td><td>PTBD</td><td>CANOPY TBD</td></tr><tr><td>SOLAR</td><td>3</td><td>GICD</td><td>GR IB CTC D</td></tr><tr><td>SOLAR</td><td>3</td><td>GMPT</td><td>GM PULL TEST</td></tr><tr><td>SOLAR</td><td>3</td><td>SPPI</td><td>SPECIAL PKG M&amp;L</td></tr><tr><td>SOLAR</td><td>3</td><td>PSPI</td><td>PKG SUR TR M&amp;L</td></tr><tr><td>SOLAR</td><td>3</td><td>PSLI</td><td>PKG SUR LS M&amp;L</td></tr><tr><td>SOLAR</td><td>3</td><td>PSPD</td><td>PKG SUR TR D</td></tr><tr><td>SOLAR</td><td>3</td><td>PSTM</td><td>PKG SUR IB M</td></tr><tr><td>SOLAR</td><td>3</td><td>PGTD</td><td>PKG GAR TOP D</td></tr><tr><td>SOLAR</td><td>3</td><td>PGTI</td><td>PKG GAR TOP M&amp;L</td></tr><tr><td>SOLAR</td><td>3</td><td>P</td><td>Parking</td></tr><tr><td>SOLAR</td><td>3</td><td>PGTM</td><td>PKG GAR TOP M</td></tr><tr><td>SOLAR</td><td>3</td><td>W</td><td>Warranty</td></tr><tr><td>SOLAR</td><td>3</td><td>RD</td><td>R&amp;D</td></tr><tr><td>SOLAR</td><td>3</td><td>GI4L</td><td>GR IB 4SQTC L</td></tr><tr><td>SOLAR</td><td>3</td><td>BI4M</td><td>BA IB 4SQTC M</td></tr><tr><td>SOLAR</td><td>3</td><td>SPGI</td><td>SPECIAL GM M&amp;L</td></tr><tr><td>SOLAR</td><td>3</td><td>SPBI</td><td>SPECIAL BA M&amp;L</td></tr><tr><td>SOLAR</td><td>3</td><td>GICL</td><td>GR IB CTC L</td></tr><tr><td>SOLAR</td><td>3</td><td>BCCM</td><td>BA CPST CTC M</td></tr><tr><td>SOLAR</td><td>3</td><td>BCCI</td><td>BA CPST CTC M&amp;L</td></tr><tr><td>SOLAR</td><td>7</td><td>GTBD</td><td>GM TBD</td></tr><tr><td>SOLAR</td><td>7</td><td>W</td><td>Warranty</td></tr><tr><td>SOLAR</td><td>7</td><td>PTBD</td><td>CANOPY TBD</td></tr><tr><td>SOLAR</td><td>7</td><td>P</td><td>Parking</td></tr><tr><td>SOLAR</td><td>7</td><td>GM</td><td>Ground Mount</td></tr><tr><td>SOLAR</td><td>7</td><td>PGTD</td><td>PKG GAR TOP D</td></tr><tr><td>SOLAR</td><td>7</td><td>PGTI</td><td>PKG GAR TOP M&amp;L</td></tr><tr><td>SOLAR</td><td>9</td><td>T</td><td>Tracker</td></tr><tr><td>SOLAR</td><td>3</td><td>T</td><td>Tracker</td></tr><tr><td>SOLAR</td><td>7</td><td>RD</td><td>R&amp;D</td></tr><tr><td>SOLAR</td><td>9</td><td>W</td><td>Warranty</td></tr><tr><td>SOLAR</td><td>9</td><td>GM</td><td>Ground Mount</td></tr><tr><td>SOLAR</td><td>9</td><td>RD</td><td>R&amp;D</td></tr><tr><td>SOLAR</td><td>9</td><td>TKRD</td><td>TRKR R&amp;D</td></tr><tr><td>SOLAR</td><td>3</td><td>GMU</td><td>GM Utility</td></tr><tr><td>SOLAR</td><td>5</td><td>SNFG</td><td>Sunfig</td></tr><tr><td>SOLAR</td><td>0</td><td>AGIL</td><td>Agile</td></tr><tr><td>SOLAR</td><td>0</td><td>TT</td><td>TerraTrak</td></tr><tr><td>SOLAR</td><td>0</td><td>TINT</td><td>TrkrInterface</td></tr><tr><td>SOLAR</td><td>0</td><td>00NJ</td><td>No Job-Comerica</td></tr><tr><td>SOLAR</td><td>0</td><td>CONS</td><td>CONSIGNMENT</td></tr></table>"
                    },
                    "metadata": {}
                }
            ],
            "execution_count": 9
        },
        {
            "cell_type": "markdown",
            "source": [
                "**Sales Category to Division Table Logic**"
            ],
            "metadata": {
                "language": "sql",
                "azdata_cell_guid": "642f2de4-532c-4a95-aaee-85b18e7909cd"
            },
            "attachments": {}
        },
        {
            "cell_type": "code",
            "source": [
                "-- Logic to Map SalesCatID to Division with Case Statment for Agile, TerraTrak, TrackerInterface Divisions included\n",
                "Select Distinct \n",
                "    od.Company,\n",
                "    CASE\n",
                "        WHEN od.SalesCatID = 'TT' THEN 8\n",
                "        WHEN od.SalesCatID = 'TINT' THEN 4\n",
                "        WHEN od.SalesCatID = 'AGIL' THEN 2\n",
                "        ELSE oh.Division_c\n",
                "    END as Division,\n",
                "    od.SalesCatID,\n",
                "    sc.[Description] as SalesCategory\n",
                "   FROM [ERPDB].[etl].vwOrderDetail od\n",
                "Left JOIN [ERPDB].[dbo].[orderhed] oh\n",
                "    on od.ordernum = oh.ordernum and od.company=oh.Company\n",
                "LEFT JOIN [ERPDB].[Erp].[SalesCat] sc\n",
                "     on od.company = sc.company\n",
                "           and od.SalesCatID = sc.SalesCatID\n",
                "Where sc.Company != 'APEKS'\n",
                "Order by od.Company, Division"
            ],
            "metadata": {
                "language": "sql",
                "azdata_cell_guid": "1d55962f-89a2-422b-bbbe-9d1f8f939f8e",
                "tags": []
            },
            "outputs": [],
            "execution_count": null
        },
        {
            "cell_type": "markdown",
            "source": [
                "Example of How SalesCategory ID lands on ProjectPhase or WBS Phase of a Project"
            ],
            "metadata": {
                "language": "sql",
                "azdata_cell_guid": "47854add-2347-4bdc-99f2-733057a9f5cd"
            },
            "attachments": {}
        },
        {
            "cell_type": "code",
            "source": [
                "Declare @ProjectID Varchar(50)\r\n",
                "Set @ProjectID = '22221929';\r\n",
                "Declare @Company Varchar(50)\r\n",
                "Set @Company = 'Solar';\r\n",
                "\r\n",
                "SELECT \r\n",
                "       Company,\r\n",
                "       ProjectID,\r\n",
                "       PhaseID\r\n",
                "       OrderNum,\r\n",
                "       OrderLine,\r\n",
                "       Wbsjobnum,\r\n",
                "       SalesCatID,\r\n",
                "       [Level],\r\n",
                "       (BudTotLbrCost) as BudgetedLaborCosts,\r\n",
                "       (BudTotBurCost) as BudgetedBurdenCosts,\r\n",
                "       (BudTotSubCost) as BudgetedSubCosts,\r\n",
                "       (BudTotMtlCost) as BudgetedMaterialCosts,\r\n",
                "       (BudTotMtlBurCost) as BudgetedMaterialBurdenCosts,\r\n",
                "       (BudTotODCCost) as BudgetedOtherDirectCosts,\r\n",
                "       (BudTotLbrCost + BudTotBurCost + BudTotSubCost + BudTotMtlCost + BudTotMtlBurCost + BudTotODCCost) as EstimatedCosts\r\n",
                "From ERPDB.ERP.ProjPhase\r\n",
                "Where ProjectID = @ProjectID\r\n",
                "      and company = @Company\r\n",
                "      and [level] = 1"
            ],
            "metadata": {
                "azdata_cell_guid": "b54deadb-9023-4b43-a1a9-1f7bde3dc3ae",
                "language": "sql"
            },
            "outputs": [
                {
                    "output_type": "display_data",
                    "data": {
                        "text/html": "(5 rows affected)"
                    },
                    "metadata": {}
                },
                {
                    "output_type": "display_data",
                    "data": {
                        "text/html": "Total execution time: 00:00:00.046"
                    },
                    "metadata": {}
                },
                {
                    "output_type": "execute_result",
                    "execution_count": 17,
                    "data": {
                        "application/vnd.dataresource+json": {
                            "schema": {
                                "fields": [
                                    {
                                        "name": "Company"
                                    },
                                    {
                                        "name": "ProjectID"
                                    },
                                    {
                                        "name": "OrderNum"
                                    },
                                    {
                                        "name": "OrderLine"
                                    },
                                    {
                                        "name": "Wbsjobnum"
                                    },
                                    {
                                        "name": "SalesCatID"
                                    },
                                    {
                                        "name": "Level"
                                    },
                                    {
                                        "name": "BudgetedLaborCosts"
                                    },
                                    {
                                        "name": "BudgetedBurdenCosts"
                                    },
                                    {
                                        "name": "BudgetedSubCosts"
                                    },
                                    {
                                        "name": "BudgetedMaterialCosts"
                                    },
                                    {
                                        "name": "BudgetedMaterialBurdenCosts"
                                    },
                                    {
                                        "name": "BudgetedOtherDirectCosts"
                                    },
                                    {
                                        "name": "EstimatedCosts"
                                    }
                                ]
                            },
                            "data": [
                                {
                                    "0": "SOLAR",
                                    "1": "22221929",
                                    "2": "",
                                    "3": "0",
                                    "4": "",
                                    "5": "",
                                    "6": "1",
                                    "7": "0.000",
                                    "8": "0.000",
                                    "9": "0.000",
                                    "10": "0.000",
                                    "11": "0.000",
                                    "12": "0.000",
                                    "13": "0.000"
                                },
                                {
                                    "0": "SOLAR",
                                    "1": "22221929",
                                    "2": "1",
                                    "3": "1",
                                    "4": "",
                                    "5": "",
                                    "6": "1",
                                    "7": "0.000",
                                    "8": "0.000",
                                    "9": "0.000",
                                    "10": "0.000",
                                    "11": "0.000",
                                    "12": "400.000",
                                    "13": "400.000"
                                },
                                {
                                    "0": "SOLAR",
                                    "1": "22221929",
                                    "2": "2",
                                    "3": "2",
                                    "4": "",
                                    "5": "AGIL",
                                    "6": "1",
                                    "7": "0.000",
                                    "8": "0.000",
                                    "9": "0.000",
                                    "10": "0.000",
                                    "11": "-59749.400",
                                    "12": "378708.450",
                                    "13": "318959.050"
                                },
                                {
                                    "0": "SOLAR",
                                    "1": "22221929",
                                    "2": "3",
                                    "3": "3",
                                    "4": "",
                                    "5": "AGIL",
                                    "6": "1",
                                    "7": "0.000",
                                    "8": "0.000",
                                    "9": "0.000",
                                    "10": "0.000",
                                    "11": "0.000",
                                    "12": "57345.820",
                                    "13": "57345.820"
                                },
                                {
                                    "0": "SOLAR",
                                    "1": "22221929",
                                    "2": "4",
                                    "3": "4",
                                    "4": "",
                                    "5": "AGIL",
                                    "6": "1",
                                    "7": "0.000",
                                    "8": "0.000",
                                    "9": "0.000",
                                    "10": "0.000",
                                    "11": "0.000",
                                    "12": "78762.030",
                                    "13": "78762.030"
                                }
                            ]
                        },
                        "text/html": "<table><tr><th>Company</th><th>ProjectID</th><th>OrderNum</th><th>OrderLine</th><th>Wbsjobnum</th><th>SalesCatID</th><th>Level</th><th>BudgetedLaborCosts</th><th>BudgetedBurdenCosts</th><th>BudgetedSubCosts</th><th>BudgetedMaterialCosts</th><th>BudgetedMaterialBurdenCosts</th><th>BudgetedOtherDirectCosts</th><th>EstimatedCosts</th></tr><tr><td>SOLAR</td><td>22221929</td><td></td><td>0</td><td></td><td></td><td>1</td><td>0.000</td><td>0.000</td><td>0.000</td><td>0.000</td><td>0.000</td><td>0.000</td><td>0.000</td></tr><tr><td>SOLAR</td><td>22221929</td><td>1</td><td>1</td><td></td><td></td><td>1</td><td>0.000</td><td>0.000</td><td>0.000</td><td>0.000</td><td>0.000</td><td>400.000</td><td>400.000</td></tr><tr><td>SOLAR</td><td>22221929</td><td>2</td><td>2</td><td></td><td>AGIL</td><td>1</td><td>0.000</td><td>0.000</td><td>0.000</td><td>0.000</td><td>-59749.400</td><td>378708.450</td><td>318959.050</td></tr><tr><td>SOLAR</td><td>22221929</td><td>3</td><td>3</td><td></td><td>AGIL</td><td>1</td><td>0.000</td><td>0.000</td><td>0.000</td><td>0.000</td><td>0.000</td><td>57345.820</td><td>57345.820</td></tr><tr><td>SOLAR</td><td>22221929</td><td>4</td><td>4</td><td></td><td>AGIL</td><td>1</td><td>0.000</td><td>0.000</td><td>0.000</td><td>0.000</td><td>0.000</td><td>78762.030</td><td>78762.030</td></tr></table>"
                    },
                    "metadata": {}
                }
            ],
            "execution_count": 17
        },
        {
            "cell_type": "markdown",
            "source": [
                "List of ERP Tables used to generate data"
            ],
            "metadata": {
                "language": "sql",
                "azdata_cell_guid": "96352f4f-677f-4d4c-85a3-ff3ba301e624"
            },
            "attachments": {}
        },
        {
            "cell_type": "code",
            "source": [
                "-- OrderDetail view was created to concat teh Change Date and Change Time to get a watermark and create OrderNumLine Concat\r\n",
                "[ERPDB].[etl].[vwOrderdetail]\r\n",
                "    [ERPDB].[dbo].[OrderDtl]\r\n",
                "--Part Tran view has the OrderNum, OrderNHumLine and Project ID joined to it and filter our 'MFG-VAR' TranType and get the ChangeDAteTime watermark\r\n",
                "[ERPDB].[etl].[vwPartTran]\r\n",
                "    [ERPDB].[Erp].[PartTran]\r\n",
                "    [ERPDB].[etl].[vwOrderDetail]\r\n",
                "-- vwLaborDtl is joined on OrderNumLine\r\n",
                "[ERPDB].[etl].[vwLaborDtl]    \r\n",
                "    [ERPDB].[Erp].[LaborDtl]\r\n",
                "    [etl].[vwOrderDetail]\r\n",
                "--JobMtlChange view has the indented are the tables joined in the view to get the last updated date watermark for ETL\r\n",
                "[ERPDB].[etl].[vwJobMtlChange]\r\n",
                "    [ERPDB].[Erp].[JobMtl] \r\n",
                "    [ERPDB].[Ice].[ChgLog] --used to the DateStamped on from the Change log\r\n",
                "    [ERPDB].[Erp].[PartTran] -- used to last Transaction Date on the Job Assembly Sequence\r\n",
                "    [ERPDB].[Erp].[JobHead] --Used to get the Job Created Date\r\n",
                "\r\n",
                "[ERPDB].[ERP].[ProjPhase] -- used to get Quoted and Budgeted Costs\r\n",
                "[ERPDB].[Erp].[Project] -- Used to get Project info to join to SalesCAt, EmpBasic, and Customer\r\n",
                "[ERPDB].[Erp].[SalesCat] -- Used to get Sales Category\r\n",
                "[ERPDB].[Erp].[EmpBasic] -- Used to get PM Info\r\n",
                "[ERPDB].[Erp].[Customer] -- Used to get Customer Info\r\n",
                "[ERPDB].[Erp].[orderhed] --Used to Join Ship to State\r\n",
                "[ERPDB].[Erp].[ShipTo] -- Used to get Ship to State\r\n",
                "[ERPDB].[Erp].[InvcHead] -- Used to get Billing Summary\r\n",
                ""
            ],
            "metadata": {
                "language": "sql",
                "azdata_cell_guid": "62e6520f-fde7-41ae-a893-0f434414eb05"
            },
            "outputs": [],
            "execution_count": null
        }
    ]
}