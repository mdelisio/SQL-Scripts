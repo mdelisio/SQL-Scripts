{
    "metadata": {
        "kernelspec": {
            "name": "SQL",
            "display_name": "SQL",
            "language": "sql"
        },
        "language_info": {
            "name": "sql",
            "version": ""
        }
    },
    "nbformat_minor": 2,
    "nbformat": 4,
    "cells": [
        {
            "cell_type": "markdown",
            "source": [
                "# Screw Product Coil Volume\r\n",
                "\r\n",
                "Purpose\r\n",
                ": To connect the coil consumed by rollforming at Steger to the Projects and divisions on the TerraSmart\r\n",
                "\r\n",
                "\r\n",
                "\t- On the RBMI the PartTrans have the OrderNum\r\n",
                "\t- OrderNum is listed on the Sales Order\r\n",
                "\t\t○ Link is in the JobProd Table\r\n",
                "\t- Sales Order Header has the PO number that is the TS PO number\r\n",
                "\t- Then TS PO table that has a partnumber on the TS side that is unique to the TS Job\r\n",
                "\t- That TS Job/Order will then link to the Project Job\r\n",
                "\r\n",
                "\r\n",
                "Solar Company part numbers have the following key words in descriptions\r\n",
                "- Cee Purlin\r\n",
                "- Hat Channel\r\n",
                "- Rafters"
            ],
            "metadata": {
                "azdata_cell_guid": "e61d8cd0-84e8-453a-975e-6a4cc7daf448"
            },
            "attachments": {}
        },
        {
            "cell_type": "markdown",
            "source": [
                "# Example of Screw Product Coil on RBMI PartTran and OrderDetail\r\n",
                ""
            ],
            "metadata": {
                "azdata_cell_guid": "6ea6e390-93c6-4bf3-abcb-24ae23416a97"
            },
            "attachments": {}
        },
        {
            "cell_type": "code",
            "source": [
                "SELECT TOP (1000) \r\n",
                " pt.Company,\r\n",
                "  Partnum,\r\n",
                "  PartDescription\r\n",
                "  BinNum,\r\n",
                "  TranType,\r\n",
                "  Trandate,\r\n",
                "  TranQty,\r\n",
                "  UM,\r\n",
                "  MtlUnitCost,\r\n",
                "  ExtCost,\r\n",
                "  Jobnum,\r\n",
                "  JobSeq,\r\n",
                "  pt.ordernum,\r\n",
                "  OrderNumLine,\r\n",
                "  ProjectID,\r\n",
                "  pt.PONum,\r\n",
                "  pt.Plant,\r\n",
                "  oh.Division_c\r\n",
                "  FROM [ERPDB].[etl].[vwPartTran] as pt\r\n",
                "    Left Join [ERPDB].[etl].[vwOrderHead] as oh\r\n",
                "  on pt.Company = oh.Company and pt.OrderNum = oh.OrderNum\r\n",
                "  WHERE (pt.Company = 'RBMI' OR pt.Company = 'Solar')\r\n",
                "  and Partnum like '6C12090G801761'\r\n",
                "--   and Projectid IS NOT NULL \r\n",
                "--   and Projectid <> ' '\r\n",
                "--   and Projectid IS NOT NULL \r\n",
                "--   and Projectid <> ' '\r\n",
                "  and Trandate > '2018-01-01'\r\n",
                "  and pt.Plant = 'MfgSys'\r\n",
                "  and oh.Division_c = 0\r\n",
                "  and pt.OrderNum = '4003885'\r\n",
                "  Order by TranDAte Desc"
            ],
            "metadata": {
                "azdata_cell_guid": "e26ca085-1a54-42fb-a97e-fa7a678f53a9",
                "language": "sql",
                "tags": []
            },
            "outputs": [
                {
                    "output_type": "display_data",
                    "data": {
                        "text/html": "(3 rows affected)"
                    },
                    "metadata": {}
                },
                {
                    "output_type": "display_data",
                    "data": {
                        "text/html": "Total execution time: 00:00:00.448"
                    },
                    "metadata": {}
                },
                {
                    "output_type": "execute_result",
                    "metadata": {},
                    "execution_count": 3,
                    "data": {
                        "application/vnd.dataresource+json": {
                            "schema": {
                                "fields": [
                                    {
                                        "name": "Company"
                                    },
                                    {
                                        "name": "Partnum"
                                    },
                                    {
                                        "name": "BinNum"
                                    },
                                    {
                                        "name": "TranType"
                                    },
                                    {
                                        "name": "Trandate"
                                    },
                                    {
                                        "name": "TranQty"
                                    },
                                    {
                                        "name": "UM"
                                    },
                                    {
                                        "name": "MtlUnitCost"
                                    },
                                    {
                                        "name": "ExtCost"
                                    },
                                    {
                                        "name": "Jobnum"
                                    },
                                    {
                                        "name": "JobSeq"
                                    },
                                    {
                                        "name": "ordernum"
                                    },
                                    {
                                        "name": "OrderNumLine"
                                    },
                                    {
                                        "name": "ProjectID"
                                    },
                                    {
                                        "name": "PONum"
                                    },
                                    {
                                        "name": "Plant"
                                    },
                                    {
                                        "name": "Division_c"
                                    }
                                ]
                            },
                            "data": [
                                {
                                    "0": "RBMI",
                                    "1": "6C12090G801761",
                                    "2": "TERRASMART COIL GALVANIZED 12GA (0.100\" min substrate before galvanizing) G-90 A653 SS GRADE 80 x 17.61\" WIDE",
                                    "3": "STK-MTL",
                                    "4": "2022-10-21",
                                    "5": "53288.00000000",
                                    "6": "FT",
                                    "7": "0.00000",
                                    "8": "0.000",
                                    "9": "4003885-1-1",
                                    "10": "10",
                                    "11": "4003885",
                                    "12": "4003885-1",
                                    "13": "",
                                    "14": "0",
                                    "15": "MfgSys",
                                    "16": "0"
                                },
                                {
                                    "0": "RBMI",
                                    "1": "6C12090G801761",
                                    "2": "TERRASMART COIL GALVANIZED 12GA (0.100\" min substrate before galvanizing) G-90 A653 SS GRADE 80 x 17.61\" WIDE",
                                    "3": "STK-MTL",
                                    "4": "2022-10-19",
                                    "5": "21073.73330000",
                                    "6": "FT",
                                    "7": "0.00000",
                                    "8": "0.000",
                                    "9": "4003885-1-1",
                                    "10": "10",
                                    "11": "4003885",
                                    "12": "4003885-1",
                                    "13": "",
                                    "14": "0",
                                    "15": "MfgSys",
                                    "16": "0"
                                },
                                {
                                    "0": "RBMI",
                                    "1": "6C12090G801761",
                                    "2": "TERRASMART COIL GALVANIZED 12GA (0.100\" min substrate before galvanizing) G-90 A653 SS GRADE 80 x 17.61\" WIDE",
                                    "3": "STK-MTL",
                                    "4": "2022-10-19",
                                    "5": "8729.22670000",
                                    "6": "FT",
                                    "7": "0.00000",
                                    "8": "0.000",
                                    "9": "4003885-1-1",
                                    "10": "10",
                                    "11": "4003885",
                                    "12": "4003885-1",
                                    "13": "",
                                    "14": "0",
                                    "15": "MfgSys",
                                    "16": "0"
                                }
                            ]
                        },
                        "text/html": [
                            "<table>",
                            "<tr><th>Company</th><th>Partnum</th><th>BinNum</th><th>TranType</th><th>Trandate</th><th>TranQty</th><th>UM</th><th>MtlUnitCost</th><th>ExtCost</th><th>Jobnum</th><th>JobSeq</th><th>ordernum</th><th>OrderNumLine</th><th>ProjectID</th><th>PONum</th><th>Plant</th><th>Division_c</th></tr>",
                            "<tr><td>RBMI</td><td>6C12090G801761</td><td>TERRASMART COIL GALVANIZED 12GA (0.100&quot; min substrate before galvanizing) G-90 A653 SS GRADE 80 x 17.61&quot; WIDE</td><td>STK-MTL</td><td>2022-10-21</td><td>53288.00000000</td><td>FT</td><td>0.00000</td><td>0.000</td><td>4003885-1-1</td><td>10</td><td>4003885</td><td>4003885-1</td><td></td><td>0</td><td>MfgSys</td><td>0</td></tr>",
                            "<tr><td>RBMI</td><td>6C12090G801761</td><td>TERRASMART COIL GALVANIZED 12GA (0.100&quot; min substrate before galvanizing) G-90 A653 SS GRADE 80 x 17.61&quot; WIDE</td><td>STK-MTL</td><td>2022-10-19</td><td>21073.73330000</td><td>FT</td><td>0.00000</td><td>0.000</td><td>4003885-1-1</td><td>10</td><td>4003885</td><td>4003885-1</td><td></td><td>0</td><td>MfgSys</td><td>0</td></tr>",
                            "<tr><td>RBMI</td><td>6C12090G801761</td><td>TERRASMART COIL GALVANIZED 12GA (0.100&quot; min substrate before galvanizing) G-90 A653 SS GRADE 80 x 17.61&quot; WIDE</td><td>STK-MTL</td><td>2022-10-19</td><td>8729.22670000</td><td>FT</td><td>0.00000</td><td>0.000</td><td>4003885-1-1</td><td>10</td><td>4003885</td><td>4003885-1</td><td></td><td>0</td><td>MfgSys</td><td>0</td></tr>",
                            "</table>"
                        ]
                    }
                }
            ],
            "execution_count": 3
        },
        {
            "cell_type": "code",
            "source": [
                "Select *\r\n",
                "From etl.vwOrderDetail\r\n",
                "Where OrderNum = 4003885\r\n",
                "and company = 'rbmi'"
            ],
            "metadata": {
                "language": "sql",
                "azdata_cell_guid": "cfab9fca-56e1-4540-bd3e-ae73a12cd23c",
                "tags": []
            },
            "outputs": [
                {
                    "output_type": "display_data",
                    "data": {
                        "text/html": "(4 rows affected)"
                    },
                    "metadata": {}
                },
                {
                    "output_type": "display_data",
                    "data": {
                        "text/html": "Total execution time: 00:00:00.159"
                    },
                    "metadata": {}
                },
                {
                    "output_type": "execute_result",
                    "execution_count": 2,
                    "data": {
                        "application/vnd.dataresource+json": {
                            "schema": {
                                "fields": [
                                    {
                                        "name": "VoidLine"
                                    },
                                    {
                                        "name": "OpenLine"
                                    },
                                    {
                                        "name": "Company"
                                    },
                                    {
                                        "name": "OrderNum"
                                    },
                                    {
                                        "name": "OrderLine"
                                    },
                                    {
                                        "name": "OrderNumLine"
                                    },
                                    {
                                        "name": "LineType"
                                    },
                                    {
                                        "name": "PartNum"
                                    },
                                    {
                                        "name": "LineDesc"
                                    },
                                    {
                                        "name": "Reference"
                                    },
                                    {
                                        "name": "IUM"
                                    },
                                    {
                                        "name": "RevisionNum"
                                    },
                                    {
                                        "name": "POLine"
                                    },
                                    {
                                        "name": "Commissionable"
                                    },
                                    {
                                        "name": "DiscountPercent"
                                    },
                                    {
                                        "name": "UnitPrice"
                                    },
                                    {
                                        "name": "DocUnitPrice"
                                    },
                                    {
                                        "name": "OrderQty"
                                    },
                                    {
                                        "name": "Discount"
                                    },
                                    {
                                        "name": "DocDiscount"
                                    },
                                    {
                                        "name": "RequestDate"
                                    },
                                    {
                                        "name": "ProdCode"
                                    },
                                    {
                                        "name": "XPartNum"
                                    },
                                    {
                                        "name": "XRevisionNum"
                                    },
                                    {
                                        "name": "PricePerCode"
                                    },
                                    {
                                        "name": "OrderComment"
                                    },
                                    {
                                        "name": "ShipComment"
                                    },
                                    {
                                        "name": "InvoiceComment"
                                    },
                                    {
                                        "name": "PickListComment"
                                    },
                                    {
                                        "name": "TaxCatID"
                                    },
                                    {
                                        "name": "AdvanceBillBal"
                                    },
                                    {
                                        "name": "DocAdvanceBillBal"
                                    },
                                    {
                                        "name": "QuoteNum"
                                    },
                                    {
                                        "name": "QuoteLine"
                                    },
                                    {
                                        "name": "TMBilling"
                                    },
                                    {
                                        "name": "OrigWhyNoTax"
                                    },
                                    {
                                        "name": "NeedByDate"
                                    },
                                    {
                                        "name": "CustNum"
                                    },
                                    {
                                        "name": "Rework"
                                    },
                                    {
                                        "name": "RMANum"
                                    },
                                    {
                                        "name": "RMALine"
                                    },
                                    {
                                        "name": "ProjectID"
                                    },
                                    {
                                        "name": "ContractNum"
                                    },
                                    {
                                        "name": "ContractCode"
                                    },
                                    {
                                        "name": "BasePartNum"
                                    },
                                    {
                                        "name": "Warranty"
                                    },
                                    {
                                        "name": "WarrantyCode"
                                    },
                                    {
                                        "name": "MaterialDuration"
                                    },
                                    {
                                        "name": "LaborDuration"
                                    },
                                    {
                                        "name": "MiscDuration"
                                    },
                                    {
                                        "name": "MaterialMod"
                                    },
                                    {
                                        "name": "LaborMod"
                                    },
                                    {
                                        "name": "WarrantyComment"
                                    },
                                    {
                                        "name": "Onsite"
                                    },
                                    {
                                        "name": "MatCovered"
                                    },
                                    {
                                        "name": "LabCovered"
                                    },
                                    {
                                        "name": "MiscCovered"
                                    },
                                    {
                                        "name": "SalesUM"
                                    },
                                    {
                                        "name": "SellingFactor"
                                    },
                                    {
                                        "name": "SellingQuantity"
                                    },
                                    {
                                        "name": "SalesCatID"
                                    },
                                    {
                                        "name": "ShipLineComplete"
                                    },
                                    {
                                        "name": "CumeQty"
                                    },
                                    {
                                        "name": "CumeDate"
                                    },
                                    {
                                        "name": "MktgCampaignID"
                                    },
                                    {
                                        "name": "MktgEvntSeq"
                                    },
                                    {
                                        "name": "LockQty"
                                    },
                                    {
                                        "name": "Linked"
                                    },
                                    {
                                        "name": "ICPONum"
                                    },
                                    {
                                        "name": "ICPOLine"
                                    },
                                    {
                                        "name": "ExtCompany"
                                    },
                                    {
                                        "name": "LastConfigDate"
                                    },
                                    {
                                        "name": "LastConfigTime"
                                    },
                                    {
                                        "name": "LastConfigUserID"
                                    },
                                    {
                                        "name": "ConfigUnitPrice"
                                    },
                                    {
                                        "name": "ConfigBaseUnitPrice"
                                    },
                                    {
                                        "name": "PriceListCode"
                                    },
                                    {
                                        "name": "BreakListCode"
                                    },
                                    {
                                        "name": "PricingQty"
                                    },
                                    {
                                        "name": "LockPrice"
                                    },
                                    {
                                        "name": "ListPrice"
                                    },
                                    {
                                        "name": "DocListPrice"
                                    },
                                    {
                                        "name": "OrdBasedPrice"
                                    },
                                    {
                                        "name": "DocOrdBasedPrice"
                                    },
                                    {
                                        "name": "PriceGroupCode"
                                    },
                                    {
                                        "name": "OverridePriceList"
                                    },
                                    {
                                        "name": "BaseRevisionNum"
                                    },
                                    {
                                        "name": "PricingValue"
                                    },
                                    {
                                        "name": "DisplaySeq"
                                    },
                                    {
                                        "name": "KitParentLine"
                                    },
                                    {
                                        "name": "KitAllowUpdate"
                                    },
                                    {
                                        "name": "KitShipComplete"
                                    },
                                    {
                                        "name": "KitBackFlush"
                                    },
                                    {
                                        "name": "KitPrintCompsPS"
                                    },
                                    {
                                        "name": "KitPrintCompsInv"
                                    },
                                    {
                                        "name": "KitPricing"
                                    },
                                    {
                                        "name": "KitQtyPer"
                                    },
                                    {
                                        "name": "SellingFactorDirection"
                                    },
                                    {
                                        "name": "RepRate1"
                                    },
                                    {
                                        "name": "RepRate2"
                                    },
                                    {
                                        "name": "RepRate3"
                                    },
                                    {
                                        "name": "RepRate4"
                                    },
                                    {
                                        "name": "RepRate5"
                                    },
                                    {
                                        "name": "RepSplit1"
                                    },
                                    {
                                        "name": "RepSplit2"
                                    },
                                    {
                                        "name": "RepSplit3"
                                    },
                                    {
                                        "name": "RepSplit4"
                                    },
                                    {
                                        "name": "RepSplit5"
                                    },
                                    {
                                        "name": "DemandContractLine"
                                    },
                                    {
                                        "name": "CreateNewJob"
                                    },
                                    {
                                        "name": "DoNotShipBeforeDate"
                                    },
                                    {
                                        "name": "GetDtls"
                                    },
                                    {
                                        "name": "DoNotShipAfterDate"
                                    },
                                    {
                                        "name": "SchedJob"
                                    },
                                    {
                                        "name": "RelJob"
                                    },
                                    {
                                        "name": "EnableCreateNewJob"
                                    },
                                    {
                                        "name": "EnableGetDtls"
                                    },
                                    {
                                        "name": "EnableSchedJob"
                                    },
                                    {
                                        "name": "EnableRelJob"
                                    },
                                    {
                                        "name": "CounterSaleWarehouse"
                                    },
                                    {
                                        "name": "CounterSaleBinNum"
                                    },
                                    {
                                        "name": "CounterSaleLotNum"
                                    },
                                    {
                                        "name": "CounterSaleDimCode"
                                    },
                                    {
                                        "name": "DemandDtlRejected"
                                    },
                                    {
                                        "name": "KitFlag"
                                    },
                                    {
                                        "name": "KitsLoaded"
                                    },
                                    {
                                        "name": "DemandContractNum"
                                    },
                                    {
                                        "name": "DemandHeadSeq"
                                    },
                                    {
                                        "name": "DemandDtlSeq"
                                    },
                                    {
                                        "name": "ChangedBy"
                                    },
                                    {
                                        "name": "ChangeDate"
                                    },
                                    {
                                        "name": "ChangeTime"
                                    },
                                    {
                                        "name": "ChangeDateTime"
                                    },
                                    {
                                        "name": "ReverseCharge"
                                    },
                                    {
                                        "name": "TotalReleases"
                                    },
                                    {
                                        "name": "Rpt1UnitPrice"
                                    },
                                    {
                                        "name": "Rpt2UnitPrice"
                                    },
                                    {
                                        "name": "Rpt3UnitPrice"
                                    },
                                    {
                                        "name": "Rpt1Discount"
                                    },
                                    {
                                        "name": "Rpt2Discount"
                                    },
                                    {
                                        "name": "Rpt3Discount"
                                    },
                                    {
                                        "name": "Rpt1AdvanceBillBal"
                                    },
                                    {
                                        "name": "Rpt2AdvanceBillBal"
                                    },
                                    {
                                        "name": "Rpt3AdvanceBillBal"
                                    },
                                    {
                                        "name": "Rpt1ListPrice"
                                    },
                                    {
                                        "name": "Rpt2ListPrice"
                                    },
                                    {
                                        "name": "Rpt3ListPrice"
                                    },
                                    {
                                        "name": "Rpt1OrdBasedPrice"
                                    },
                                    {
                                        "name": "Rpt2OrdBasedPrice"
                                    },
                                    {
                                        "name": "Rpt3OrdBasedPrice"
                                    },
                                    {
                                        "name": "ExtPriceDtl"
                                    },
                                    {
                                        "name": "DocExtPriceDtl"
                                    },
                                    {
                                        "name": "Rpt1ExtPriceDtl"
                                    },
                                    {
                                        "name": "Rpt2ExtPriceDtl"
                                    },
                                    {
                                        "name": "Rpt3ExtPriceDtl"
                                    },
                                    {
                                        "name": "LineStatus"
                                    },
                                    {
                                        "name": "InUnitPrice"
                                    },
                                    {
                                        "name": "DocInUnitPrice"
                                    },
                                    {
                                        "name": "InDiscount"
                                    },
                                    {
                                        "name": "DocInDiscount"
                                    },
                                    {
                                        "name": "InListPrice"
                                    },
                                    {
                                        "name": "DocInListPrice"
                                    },
                                    {
                                        "name": "InOrdBasedPrice"
                                    },
                                    {
                                        "name": "DocInOrdBasedPrice"
                                    },
                                    {
                                        "name": "Rpt1InUnitPrice"
                                    },
                                    {
                                        "name": "Rpt2InUnitPrice"
                                    },
                                    {
                                        "name": "Rpt3InUnitPrice"
                                    },
                                    {
                                        "name": "Rpt1InDiscount"
                                    },
                                    {
                                        "name": "Rpt2InDiscount"
                                    },
                                    {
                                        "name": "Rpt3InDiscount"
                                    },
                                    {
                                        "name": "Rpt1InListPrice"
                                    },
                                    {
                                        "name": "Rpt2InListPrice"
                                    },
                                    {
                                        "name": "Rpt3InListPrice"
                                    },
                                    {
                                        "name": "Rpt1InOrdBasedPrice"
                                    },
                                    {
                                        "name": "Rpt2InOrdBasedPrice"
                                    },
                                    {
                                        "name": "Rpt3InOrdBasedPrice"
                                    },
                                    {
                                        "name": "InExtPriceDtl"
                                    },
                                    {
                                        "name": "DocInExtPriceDtl"
                                    },
                                    {
                                        "name": "Rpt1InExtPriceDtl"
                                    },
                                    {
                                        "name": "Rpt2InExtPriceDtl"
                                    },
                                    {
                                        "name": "Rpt3InExtPriceDtl"
                                    },
                                    {
                                        "name": "OldOurOpenQty"
                                    },
                                    {
                                        "name": "OldSellingOpenQty"
                                    },
                                    {
                                        "name": "OldOpenValue"
                                    },
                                    {
                                        "name": "OldProdCode"
                                    },
                                    {
                                        "name": "PrevSellQty"
                                    },
                                    {
                                        "name": "PrevPartNum"
                                    },
                                    {
                                        "name": "PrevXPartNum"
                                    },
                                    {
                                        "name": "KitCompOrigSeq"
                                    },
                                    {
                                        "name": "KitCompOrigPart"
                                    },
                                    {
                                        "name": "SmartStringProcessed"
                                    },
                                    {
                                        "name": "SmartString"
                                    },
                                    {
                                        "name": "RenewalNbr"
                                    },
                                    {
                                        "name": "DiscBreakListCode"
                                    },
                                    {
                                        "name": "DiscListPrice"
                                    },
                                    {
                                        "name": "LockDisc"
                                    },
                                    {
                                        "name": "OverrideDiscPriceList"
                                    },
                                    {
                                        "name": "GroupSeq"
                                    },
                                    {
                                        "name": "ECCOrderNum"
                                    },
                                    {
                                        "name": "ECCOrderLine"
                                    },
                                    {
                                        "name": "DupOnJobCrt"
                                    },
                                    {
                                        "name": "UndersPct"
                                    },
                                    {
                                        "name": "Overs"
                                    },
                                    {
                                        "name": "Unders"
                                    },
                                    {
                                        "name": "OversUnitPrice"
                                    },
                                    {
                                        "name": "PlanUserID"
                                    },
                                    {
                                        "name": "PlanGUID"
                                    },
                                    {
                                        "name": "MOMsourceType"
                                    },
                                    {
                                        "name": "MOMsourceEst"
                                    },
                                    {
                                        "name": "DefaultOversPricing"
                                    },
                                    {
                                        "name": "ECCPlant"
                                    },
                                    {
                                        "name": "ECCQuoteNum"
                                    },
                                    {
                                        "name": "ECCQuoteLine"
                                    },
                                    {
                                        "name": "SysRevID"
                                    },
                                    {
                                        "name": "SysRowID"
                                    },
                                    {
                                        "name": "MfgJobType"
                                    },
                                    {
                                        "name": "ProFormaInvComment"
                                    },
                                    {
                                        "name": "CreateJob"
                                    },
                                    {
                                        "name": "ContractID"
                                    },
                                    {
                                        "name": "LinkToContract"
                                    },
                                    {
                                        "name": "DocInAdvanceBillBal"
                                    },
                                    {
                                        "name": "InAdvanceBillBal"
                                    },
                                    {
                                        "name": "Rpt1InAdvanceBillBal"
                                    },
                                    {
                                        "name": "Rpt2InAdvanceBillBal"
                                    },
                                    {
                                        "name": "Rpt3InAdvanceBillBal"
                                    },
                                    {
                                        "name": "PCLinkRemoved"
                                    },
                                    {
                                        "name": "CommodityCode"
                                    },
                                    {
                                        "name": "MSRP"
                                    },
                                    {
                                        "name": "DocMSRP"
                                    },
                                    {
                                        "name": "Rpt1MSRP"
                                    },
                                    {
                                        "name": "Rpt2MSRP"
                                    },
                                    {
                                        "name": "Rpt3MSRP"
                                    },
                                    {
                                        "name": "EndCustomerPrice"
                                    },
                                    {
                                        "name": "DocEndCustomerPrice"
                                    },
                                    {
                                        "name": "Rpt1EndCustomerPrice"
                                    },
                                    {
                                        "name": "Rpt2EndCustomerPrice"
                                    },
                                    {
                                        "name": "Rpt3EndCustomerPrice"
                                    },
                                    {
                                        "name": "PromotionalPrice"
                                    },
                                    {
                                        "name": "DocPromotionalPrice"
                                    },
                                    {
                                        "name": "Rpt1PromotionalPrice"
                                    },
                                    {
                                        "name": "Rpt2PromotionalPrice"
                                    },
                                    {
                                        "name": "Rpt3PromotionalPrice"
                                    },
                                    {
                                        "name": "OrderLineStatusCode"
                                    },
                                    {
                                        "name": "AttributeSetID"
                                    },
                                    {
                                        "name": "ForeignSysRowID"
                                    },
                                    {
                                        "name": "UD_SysRevID"
                                    },
                                    {
                                        "name": "DoNotBook_c"
                                    },
                                    {
                                        "name": "EstUnitCost_c"
                                    },
                                    {
                                        "name": "OriginalEstimate_c"
                                    }
                                ]
                            },
                            "data": [
                                {
                                    "0": "0",
                                    "1": "1",
                                    "2": "RBMI",
                                    "3": "4003885",
                                    "4": "1",
                                    "5": "4003885-1",
                                    "6": "PART",
                                    "7": "TerraSmart Parts",
                                    "8": "451.58“ Dixfield Cee Purlin 9 x 4 x 0.1017 G90",
                                    "9": "",
                                    "10": "EA",
                                    "11": "A",
                                    "12": "",
                                    "13": "1",
                                    "14": "0.00",
                                    "15": "0.00000",
                                    "16": "0.00000",
                                    "17": "1.00000000",
                                    "18": "0.000",
                                    "19": "0.000",
                                    "20": "2022-10-26",
                                    "21": "00TS",
                                    "22": "119715",
                                    "23": "",
                                    "24": "E",
                                    "25": "",
                                    "26": "",
                                    "27": "",
                                    "28": "",
                                    "29": "",
                                    "30": "0.00000",
                                    "31": "0.00000",
                                    "32": "0",
                                    "33": "0",
                                    "34": "0",
                                    "35": "",
                                    "36": "2022-10-28",
                                    "37": "6790",
                                    "38": "0",
                                    "39": "0",
                                    "40": "0",
                                    "41": "",
                                    "42": "0",
                                    "43": "",
                                    "44": "",
                                    "45": "1",
                                    "46": "",
                                    "47": "0",
                                    "48": "0",
                                    "49": "0",
                                    "50": "",
                                    "51": "",
                                    "52": "",
                                    "53": "0",
                                    "54": "0",
                                    "55": "0",
                                    "56": "0",
                                    "57": "EA",
                                    "58": "1.00000000",
                                    "59": "1.00000000",
                                    "60": "00TS",
                                    "61": "0",
                                    "62": "0.00000000",
                                    "63": "NULL",
                                    "64": "DEFAULT",
                                    "65": "1",
                                    "66": "0",
                                    "67": "0",
                                    "68": "0",
                                    "69": "0",
                                    "70": "",
                                    "71": "NULL",
                                    "72": "0",
                                    "73": "",
                                    "74": "0.00000",
                                    "75": "0.00000",
                                    "76": "",
                                    "77": "",
                                    "78": "0.00000000",
                                    "79": "0",
                                    "80": "0.00000",
                                    "81": "0.00000",
                                    "82": "0.00000",
                                    "83": "0.00000",
                                    "84": "",
                                    "85": "0",
                                    "86": "",
                                    "87": "0.000",
                                    "88": "1.000",
                                    "89": "1",
                                    "90": "0",
                                    "91": "0",
                                    "92": "0",
                                    "93": "0",
                                    "94": "0",
                                    "95": "",
                                    "96": "0.00000000",
                                    "97": "D",
                                    "98": "0.00",
                                    "99": "0.00",
                                    "100": "0.00",
                                    "101": "0.00",
                                    "102": "0.00",
                                    "103": "100",
                                    "104": "0",
                                    "105": "0",
                                    "106": "0",
                                    "107": "0",
                                    "108": "0",
                                    "109": "1",
                                    "110": "NULL",
                                    "111": "0",
                                    "112": "NULL",
                                    "113": "0",
                                    "114": "0",
                                    "115": "1",
                                    "116": "1",
                                    "117": "1",
                                    "118": "1",
                                    "119": "",
                                    "120": "",
                                    "121": "",
                                    "122": "",
                                    "123": "0",
                                    "124": "",
                                    "125": "0",
                                    "126": "0",
                                    "127": "0",
                                    "128": "0",
                                    "129": "ccosta",
                                    "130": "2022-09-22",
                                    "131": "51902",
                                    "132": "2022-09-22 14:25:02.000",
                                    "133": "0",
                                    "134": "1",
                                    "135": "0.00000",
                                    "136": "0.00000",
                                    "137": "0.00000",
                                    "138": "0.00000",
                                    "139": "0.00000",
                                    "140": "0.00000",
                                    "141": "0.00000",
                                    "142": "0.00000",
                                    "143": "0.00000",
                                    "144": "0.00000",
                                    "145": "0.00000",
                                    "146": "0.00000",
                                    "147": "0.00000",
                                    "148": "0.00000",
                                    "149": "0.00000",
                                    "150": "0.000",
                                    "151": "0.000",
                                    "152": "0.000",
                                    "153": "0.000",
                                    "154": "0.000",
                                    "155": "OPEN",
                                    "156": "0.00000",
                                    "157": "0.00000",
                                    "158": "0.000",
                                    "159": "0.000",
                                    "160": "0.00000",
                                    "161": "0.00000",
                                    "162": "0.00000",
                                    "163": "0.00000",
                                    "164": "0.00000",
                                    "165": "0.00000",
                                    "166": "0.00000",
                                    "167": "0.00000",
                                    "168": "0.00000",
                                    "169": "0.00000",
                                    "170": "0.00000",
                                    "171": "0.00000",
                                    "172": "0.00000",
                                    "173": "0.00000",
                                    "174": "0.00000",
                                    "175": "0.00000",
                                    "176": "0.000",
                                    "177": "0.000",
                                    "178": "0.000",
                                    "179": "0.000",
                                    "180": "0.000",
                                    "181": "0.00",
                                    "182": "0.00",
                                    "183": "0.00",
                                    "184": "",
                                    "185": "0.00",
                                    "186": "",
                                    "187": "101360",
                                    "188": "0",
                                    "189": "",
                                    "190": "0",
                                    "191": "",
                                    "192": "0",
                                    "193": "",
                                    "194": "0.00000",
                                    "195": "0",
                                    "196": "0",
                                    "197": "0",
                                    "198": "",
                                    "199": "0",
                                    "200": "0",
                                    "201": "0.00000",
                                    "202": "0.00000",
                                    "203": "0.00000",
                                    "204": "0.00000",
                                    "205": "",
                                    "206": "",
                                    "207": "",
                                    "208": "",
                                    "209": "",
                                    "210": "",
                                    "211": "",
                                    "212": "0",
                                    "213": "0x000000037D5C3D95",
                                    "214": "14172529-0c7b-42b2-8542-1111b0dafd03",
                                    "215": "",
                                    "216": "",
                                    "217": "0",
                                    "218": "",
                                    "219": "0",
                                    "220": "0.00000",
                                    "221": "0.00000",
                                    "222": "0.00000",
                                    "223": "0.00000",
                                    "224": "0.00000",
                                    "225": "0",
                                    "226": "",
                                    "227": "0.000",
                                    "228": "0.000",
                                    "229": "0.000",
                                    "230": "0.000",
                                    "231": "0.000",
                                    "232": "0.000",
                                    "233": "0.000",
                                    "234": "0.000",
                                    "235": "0.000",
                                    "236": "0.000",
                                    "237": "0.000",
                                    "238": "0.000",
                                    "239": "0.000",
                                    "240": "0.000",
                                    "241": "0.000",
                                    "242": "",
                                    "243": "0",
                                    "244": "14172529-0c7b-42b2-8542-1111b0dafd03",
                                    "245": "0x000000035FE77119",
                                    "246": "0",
                                    "247": "0.00",
                                    "248": "0.00"
                                },
                                {
                                    "0": "0",
                                    "1": "1",
                                    "2": "RBMI",
                                    "3": "4003885",
                                    "4": "2",
                                    "5": "4003885-2",
                                    "6": "PART",
                                    "7": "TerraSmart Parts",
                                    "8": "406.43” Dixfield Cee Purlin 9 x 4 x 0.1017 G90",
                                    "9": "",
                                    "10": "EA",
                                    "11": "A",
                                    "12": "",
                                    "13": "1",
                                    "14": "0.00",
                                    "15": "0.00000",
                                    "16": "0.00000",
                                    "17": "1.00000000",
                                    "18": "0.000",
                                    "19": "0.000",
                                    "20": "2022-10-04",
                                    "21": "00TS",
                                    "22": "119716",
                                    "23": "",
                                    "24": "E",
                                    "25": "",
                                    "26": "",
                                    "27": "",
                                    "28": "",
                                    "29": "",
                                    "30": "0.00000",
                                    "31": "0.00000",
                                    "32": "0",
                                    "33": "0",
                                    "34": "0",
                                    "35": "",
                                    "36": "2022-10-04",
                                    "37": "6790",
                                    "38": "0",
                                    "39": "0",
                                    "40": "0",
                                    "41": "",
                                    "42": "0",
                                    "43": "",
                                    "44": "",
                                    "45": "1",
                                    "46": "",
                                    "47": "0",
                                    "48": "0",
                                    "49": "0",
                                    "50": "",
                                    "51": "",
                                    "52": "",
                                    "53": "0",
                                    "54": "0",
                                    "55": "0",
                                    "56": "0",
                                    "57": "EA",
                                    "58": "1.00000000",
                                    "59": "1.00000000",
                                    "60": "00TS",
                                    "61": "0",
                                    "62": "0.00000000",
                                    "63": "NULL",
                                    "64": "DEFAULT",
                                    "65": "1",
                                    "66": "0",
                                    "67": "0",
                                    "68": "0",
                                    "69": "0",
                                    "70": "",
                                    "71": "NULL",
                                    "72": "0",
                                    "73": "",
                                    "74": "0.00000",
                                    "75": "0.00000",
                                    "76": "",
                                    "77": "",
                                    "78": "0.00000000",
                                    "79": "0",
                                    "80": "0.00000",
                                    "81": "0.00000",
                                    "82": "0.00000",
                                    "83": "0.00000",
                                    "84": "",
                                    "85": "0",
                                    "86": "",
                                    "87": "0.000",
                                    "88": "2.000",
                                    "89": "2",
                                    "90": "0",
                                    "91": "0",
                                    "92": "0",
                                    "93": "0",
                                    "94": "0",
                                    "95": "",
                                    "96": "0.00000000",
                                    "97": "D",
                                    "98": "0.00",
                                    "99": "0.00",
                                    "100": "0.00",
                                    "101": "0.00",
                                    "102": "0.00",
                                    "103": "100",
                                    "104": "0",
                                    "105": "0",
                                    "106": "0",
                                    "107": "0",
                                    "108": "0",
                                    "109": "1",
                                    "110": "NULL",
                                    "111": "0",
                                    "112": "NULL",
                                    "113": "0",
                                    "114": "0",
                                    "115": "1",
                                    "116": "1",
                                    "117": "1",
                                    "118": "1",
                                    "119": "",
                                    "120": "",
                                    "121": "",
                                    "122": "",
                                    "123": "0",
                                    "124": "",
                                    "125": "0",
                                    "126": "0",
                                    "127": "0",
                                    "128": "0",
                                    "129": "ccosta",
                                    "130": "2022-09-22",
                                    "131": "51908",
                                    "132": "2022-09-22 14:25:08.000",
                                    "133": "0",
                                    "134": "1",
                                    "135": "0.00000",
                                    "136": "0.00000",
                                    "137": "0.00000",
                                    "138": "0.00000",
                                    "139": "0.00000",
                                    "140": "0.00000",
                                    "141": "0.00000",
                                    "142": "0.00000",
                                    "143": "0.00000",
                                    "144": "0.00000",
                                    "145": "0.00000",
                                    "146": "0.00000",
                                    "147": "0.00000",
                                    "148": "0.00000",
                                    "149": "0.00000",
                                    "150": "0.000",
                                    "151": "0.000",
                                    "152": "0.000",
                                    "153": "0.000",
                                    "154": "0.000",
                                    "155": "OPEN",
                                    "156": "0.00000",
                                    "157": "0.00000",
                                    "158": "0.000",
                                    "159": "0.000",
                                    "160": "0.00000",
                                    "161": "0.00000",
                                    "162": "0.00000",
                                    "163": "0.00000",
                                    "164": "0.00000",
                                    "165": "0.00000",
                                    "166": "0.00000",
                                    "167": "0.00000",
                                    "168": "0.00000",
                                    "169": "0.00000",
                                    "170": "0.00000",
                                    "171": "0.00000",
                                    "172": "0.00000",
                                    "173": "0.00000",
                                    "174": "0.00000",
                                    "175": "0.00000",
                                    "176": "0.000",
                                    "177": "0.000",
                                    "178": "0.000",
                                    "179": "0.000",
                                    "180": "0.000",
                                    "181": "0.00",
                                    "182": "0.00",
                                    "183": "0.00",
                                    "184": "",
                                    "185": "0.00",
                                    "186": "",
                                    "187": "101360",
                                    "188": "0",
                                    "189": "",
                                    "190": "0",
                                    "191": "",
                                    "192": "0",
                                    "193": "",
                                    "194": "0.00000",
                                    "195": "0",
                                    "196": "0",
                                    "197": "0",
                                    "198": "",
                                    "199": "0",
                                    "200": "0",
                                    "201": "0.00000",
                                    "202": "0.00000",
                                    "203": "0.00000",
                                    "204": "0.00000",
                                    "205": "",
                                    "206": "",
                                    "207": "",
                                    "208": "",
                                    "209": "",
                                    "210": "",
                                    "211": "",
                                    "212": "0",
                                    "213": "0x000000035FE7729D",
                                    "214": "38f74c7f-0346-4630-a4b7-2cbe4c7fabb0",
                                    "215": "",
                                    "216": "",
                                    "217": "0",
                                    "218": "",
                                    "219": "0",
                                    "220": "0.00000",
                                    "221": "0.00000",
                                    "222": "0.00000",
                                    "223": "0.00000",
                                    "224": "0.00000",
                                    "225": "0",
                                    "226": "",
                                    "227": "0.000",
                                    "228": "0.000",
                                    "229": "0.000",
                                    "230": "0.000",
                                    "231": "0.000",
                                    "232": "0.000",
                                    "233": "0.000",
                                    "234": "0.000",
                                    "235": "0.000",
                                    "236": "0.000",
                                    "237": "0.000",
                                    "238": "0.000",
                                    "239": "0.000",
                                    "240": "0.000",
                                    "241": "0.000",
                                    "242": "",
                                    "243": "0",
                                    "244": "38f74c7f-0346-4630-a4b7-2cbe4c7fabb0",
                                    "245": "0x000000035FE7713B",
                                    "246": "0",
                                    "247": "0.00",
                                    "248": "0.00"
                                },
                                {
                                    "0": "0",
                                    "1": "1",
                                    "2": "RBMI",
                                    "3": "4003885",
                                    "4": "3",
                                    "5": "4003885-3",
                                    "6": "PART",
                                    "7": "TerraSmart Parts",
                                    "8": "451.58“ Dixfield Cee Purlin 9 x 4 x 0.1017 G90",
                                    "9": "",
                                    "10": "EA",
                                    "11": "A",
                                    "12": "",
                                    "13": "1",
                                    "14": "0.00",
                                    "15": "12.04200",
                                    "16": "12.04200",
                                    "17": "1182.00000000",
                                    "18": "0.000",
                                    "19": "0.000",
                                    "20": "2022-10-04",
                                    "21": "00TS",
                                    "22": "119715",
                                    "23": "",
                                    "24": "E",
                                    "25": "",
                                    "26": "",
                                    "27": "",
                                    "28": "",
                                    "29": "",
                                    "30": "0.00000",
                                    "31": "0.00000",
                                    "32": "0",
                                    "33": "0",
                                    "34": "0",
                                    "35": "",
                                    "36": "2022-10-04",
                                    "37": "6790",
                                    "38": "0",
                                    "39": "0",
                                    "40": "0",
                                    "41": "",
                                    "42": "0",
                                    "43": "",
                                    "44": "",
                                    "45": "1",
                                    "46": "",
                                    "47": "0",
                                    "48": "0",
                                    "49": "0",
                                    "50": "",
                                    "51": "",
                                    "52": "",
                                    "53": "0",
                                    "54": "0",
                                    "55": "0",
                                    "56": "0",
                                    "57": "EA",
                                    "58": "1.00000000",
                                    "59": "1182.00000000",
                                    "60": "00TS",
                                    "61": "0",
                                    "62": "0.00000000",
                                    "63": "NULL",
                                    "64": "DEFAULT",
                                    "65": "1",
                                    "66": "0",
                                    "67": "0",
                                    "68": "0",
                                    "69": "0",
                                    "70": "",
                                    "71": "NULL",
                                    "72": "0",
                                    "73": "",
                                    "74": "0.00000",
                                    "75": "0.00000",
                                    "76": "",
                                    "77": "",
                                    "78": "0.00000000",
                                    "79": "1",
                                    "80": "12.04200",
                                    "81": "12.04200",
                                    "82": "12.04200",
                                    "83": "12.04200",
                                    "84": "",
                                    "85": "0",
                                    "86": "",
                                    "87": "0.000",
                                    "88": "3.000",
                                    "89": "3",
                                    "90": "0",
                                    "91": "0",
                                    "92": "0",
                                    "93": "0",
                                    "94": "0",
                                    "95": "",
                                    "96": "0.00000000",
                                    "97": "D",
                                    "98": "0.00",
                                    "99": "0.00",
                                    "100": "0.00",
                                    "101": "0.00",
                                    "102": "0.00",
                                    "103": "100",
                                    "104": "0",
                                    "105": "0",
                                    "106": "0",
                                    "107": "0",
                                    "108": "0",
                                    "109": "1",
                                    "110": "NULL",
                                    "111": "0",
                                    "112": "NULL",
                                    "113": "0",
                                    "114": "0",
                                    "115": "1",
                                    "116": "1",
                                    "117": "1",
                                    "118": "1",
                                    "119": "",
                                    "120": "",
                                    "121": "",
                                    "122": "",
                                    "123": "0",
                                    "124": "",
                                    "125": "0",
                                    "126": "0",
                                    "127": "0",
                                    "128": "0",
                                    "129": "ccosta",
                                    "130": "2022-09-22",
                                    "131": "51914",
                                    "132": "2022-09-22 14:25:14.000",
                                    "133": "0",
                                    "134": "1",
                                    "135": "0.00000",
                                    "136": "0.00000",
                                    "137": "0.00000",
                                    "138": "0.00000",
                                    "139": "0.00000",
                                    "140": "0.00000",
                                    "141": "0.00000",
                                    "142": "0.00000",
                                    "143": "0.00000",
                                    "144": "0.00000",
                                    "145": "0.00000",
                                    "146": "0.00000",
                                    "147": "0.00000",
                                    "148": "0.00000",
                                    "149": "0.00000",
                                    "150": "14233.640",
                                    "151": "14233.640",
                                    "152": "0.000",
                                    "153": "0.000",
                                    "154": "0.000",
                                    "155": "OPEN",
                                    "156": "0.00000",
                                    "157": "0.00000",
                                    "158": "0.000",
                                    "159": "0.000",
                                    "160": "0.00000",
                                    "161": "0.00000",
                                    "162": "0.00000",
                                    "163": "0.00000",
                                    "164": "0.00000",
                                    "165": "0.00000",
                                    "166": "0.00000",
                                    "167": "0.00000",
                                    "168": "0.00000",
                                    "169": "0.00000",
                                    "170": "0.00000",
                                    "171": "0.00000",
                                    "172": "0.00000",
                                    "173": "0.00000",
                                    "174": "0.00000",
                                    "175": "0.00000",
                                    "176": "0.000",
                                    "177": "0.000",
                                    "178": "0.000",
                                    "179": "0.000",
                                    "180": "0.000",
                                    "181": "0.00",
                                    "182": "0.00",
                                    "183": "0.00",
                                    "184": "",
                                    "185": "0.00",
                                    "186": "",
                                    "187": "101360",
                                    "188": "0",
                                    "189": "",
                                    "190": "0",
                                    "191": "",
                                    "192": "0",
                                    "193": "",
                                    "194": "0.00000",
                                    "195": "0",
                                    "196": "0",
                                    "197": "0",
                                    "198": "",
                                    "199": "0",
                                    "200": "0",
                                    "201": "0.00000",
                                    "202": "0.00000",
                                    "203": "0.00000",
                                    "204": "0.00000",
                                    "205": "",
                                    "206": "",
                                    "207": "",
                                    "208": "",
                                    "209": "",
                                    "210": "",
                                    "211": "",
                                    "212": "0",
                                    "213": "0x000000035FE772C6",
                                    "214": "7b70aaca-8b67-4ac3-b695-56257b251c59",
                                    "215": "",
                                    "216": "",
                                    "217": "0",
                                    "218": "",
                                    "219": "0",
                                    "220": "0.00000",
                                    "221": "0.00000",
                                    "222": "0.00000",
                                    "223": "0.00000",
                                    "224": "0.00000",
                                    "225": "0",
                                    "226": "",
                                    "227": "0.000",
                                    "228": "0.000",
                                    "229": "0.000",
                                    "230": "0.000",
                                    "231": "0.000",
                                    "232": "0.000",
                                    "233": "0.000",
                                    "234": "0.000",
                                    "235": "0.000",
                                    "236": "0.000",
                                    "237": "0.000",
                                    "238": "0.000",
                                    "239": "0.000",
                                    "240": "0.000",
                                    "241": "0.000",
                                    "242": "",
                                    "243": "0",
                                    "244": "7b70aaca-8b67-4ac3-b695-56257b251c59",
                                    "245": "0x000000035FE7715C",
                                    "246": "0",
                                    "247": "0.00",
                                    "248": "0.00"
                                },
                                {
                                    "0": "0",
                                    "1": "1",
                                    "2": "RBMI",
                                    "3": "4003885",
                                    "4": "4",
                                    "5": "4003885-4",
                                    "6": "PART",
                                    "7": "TerraSmart Parts",
                                    "8": "406.43” Dixfield Cee Purlin 9 x 4 x 0.1017 G90",
                                    "9": "",
                                    "10": "EA",
                                    "11": "A",
                                    "12": "",
                                    "13": "1",
                                    "14": "0.00",
                                    "15": "10.83800",
                                    "16": "10.83800",
                                    "17": "213.00000000",
                                    "18": "0.000",
                                    "19": "0.000",
                                    "20": "2022-10-04",
                                    "21": "00TS",
                                    "22": "119716",
                                    "23": "",
                                    "24": "E",
                                    "25": "",
                                    "26": "",
                                    "27": "",
                                    "28": "",
                                    "29": "",
                                    "30": "0.00000",
                                    "31": "0.00000",
                                    "32": "0",
                                    "33": "0",
                                    "34": "0",
                                    "35": "",
                                    "36": "2022-10-04",
                                    "37": "6790",
                                    "38": "0",
                                    "39": "0",
                                    "40": "0",
                                    "41": "",
                                    "42": "0",
                                    "43": "",
                                    "44": "",
                                    "45": "1",
                                    "46": "",
                                    "47": "0",
                                    "48": "0",
                                    "49": "0",
                                    "50": "",
                                    "51": "",
                                    "52": "",
                                    "53": "0",
                                    "54": "0",
                                    "55": "0",
                                    "56": "0",
                                    "57": "EA",
                                    "58": "1.00000000",
                                    "59": "213.00000000",
                                    "60": "00TS",
                                    "61": "0",
                                    "62": "0.00000000",
                                    "63": "NULL",
                                    "64": "DEFAULT",
                                    "65": "1",
                                    "66": "0",
                                    "67": "0",
                                    "68": "0",
                                    "69": "0",
                                    "70": "",
                                    "71": "NULL",
                                    "72": "0",
                                    "73": "",
                                    "74": "0.00000",
                                    "75": "0.00000",
                                    "76": "",
                                    "77": "",
                                    "78": "0.00000000",
                                    "79": "1",
                                    "80": "10.83800",
                                    "81": "10.83800",
                                    "82": "10.83800",
                                    "83": "10.83800",
                                    "84": "",
                                    "85": "0",
                                    "86": "",
                                    "87": "0.000",
                                    "88": "4.000",
                                    "89": "4",
                                    "90": "0",
                                    "91": "0",
                                    "92": "0",
                                    "93": "0",
                                    "94": "0",
                                    "95": "",
                                    "96": "0.00000000",
                                    "97": "D",
                                    "98": "0.00",
                                    "99": "0.00",
                                    "100": "0.00",
                                    "101": "0.00",
                                    "102": "0.00",
                                    "103": "100",
                                    "104": "0",
                                    "105": "0",
                                    "106": "0",
                                    "107": "0",
                                    "108": "0",
                                    "109": "1",
                                    "110": "NULL",
                                    "111": "0",
                                    "112": "NULL",
                                    "113": "0",
                                    "114": "0",
                                    "115": "1",
                                    "116": "1",
                                    "117": "1",
                                    "118": "1",
                                    "119": "",
                                    "120": "",
                                    "121": "",
                                    "122": "",
                                    "123": "0",
                                    "124": "",
                                    "125": "0",
                                    "126": "0",
                                    "127": "0",
                                    "128": "0",
                                    "129": "ccosta",
                                    "130": "2022-09-22",
                                    "131": "51920",
                                    "132": "2022-09-22 14:25:20.000",
                                    "133": "0",
                                    "134": "1",
                                    "135": "0.00000",
                                    "136": "0.00000",
                                    "137": "0.00000",
                                    "138": "0.00000",
                                    "139": "0.00000",
                                    "140": "0.00000",
                                    "141": "0.00000",
                                    "142": "0.00000",
                                    "143": "0.00000",
                                    "144": "0.00000",
                                    "145": "0.00000",
                                    "146": "0.00000",
                                    "147": "0.00000",
                                    "148": "0.00000",
                                    "149": "0.00000",
                                    "150": "2308.490",
                                    "151": "2308.490",
                                    "152": "0.000",
                                    "153": "0.000",
                                    "154": "0.000",
                                    "155": "OPEN",
                                    "156": "0.00000",
                                    "157": "0.00000",
                                    "158": "0.000",
                                    "159": "0.000",
                                    "160": "0.00000",
                                    "161": "0.00000",
                                    "162": "0.00000",
                                    "163": "0.00000",
                                    "164": "0.00000",
                                    "165": "0.00000",
                                    "166": "0.00000",
                                    "167": "0.00000",
                                    "168": "0.00000",
                                    "169": "0.00000",
                                    "170": "0.00000",
                                    "171": "0.00000",
                                    "172": "0.00000",
                                    "173": "0.00000",
                                    "174": "0.00000",
                                    "175": "0.00000",
                                    "176": "0.000",
                                    "177": "0.000",
                                    "178": "0.000",
                                    "179": "0.000",
                                    "180": "0.000",
                                    "181": "0.00",
                                    "182": "0.00",
                                    "183": "0.00",
                                    "184": "",
                                    "185": "0.00",
                                    "186": "",
                                    "187": "101360",
                                    "188": "0",
                                    "189": "",
                                    "190": "0",
                                    "191": "",
                                    "192": "0",
                                    "193": "",
                                    "194": "0.00000",
                                    "195": "0",
                                    "196": "0",
                                    "197": "0",
                                    "198": "",
                                    "199": "0",
                                    "200": "0",
                                    "201": "0.00000",
                                    "202": "0.00000",
                                    "203": "0.00000",
                                    "204": "0.00000",
                                    "205": "",
                                    "206": "",
                                    "207": "",
                                    "208": "",
                                    "209": "",
                                    "210": "",
                                    "211": "",
                                    "212": "0",
                                    "213": "0x000000035FE772F9",
                                    "214": "b4c71df6-7b9f-4534-aef1-8758026448ec",
                                    "215": "",
                                    "216": "",
                                    "217": "0",
                                    "218": "",
                                    "219": "0",
                                    "220": "0.00000",
                                    "221": "0.00000",
                                    "222": "0.00000",
                                    "223": "0.00000",
                                    "224": "0.00000",
                                    "225": "0",
                                    "226": "",
                                    "227": "0.000",
                                    "228": "0.000",
                                    "229": "0.000",
                                    "230": "0.000",
                                    "231": "0.000",
                                    "232": "0.000",
                                    "233": "0.000",
                                    "234": "0.000",
                                    "235": "0.000",
                                    "236": "0.000",
                                    "237": "0.000",
                                    "238": "0.000",
                                    "239": "0.000",
                                    "240": "0.000",
                                    "241": "0.000",
                                    "242": "",
                                    "243": "0",
                                    "244": "b4c71df6-7b9f-4534-aef1-8758026448ec",
                                    "245": "0x000000035FE77186",
                                    "246": "0",
                                    "247": "0.00",
                                    "248": "0.00"
                                }
                            ]
                        },
                        "text/html": "<table><tr><th>VoidLine</th><th>OpenLine</th><th>Company</th><th>OrderNum</th><th>OrderLine</th><th>OrderNumLine</th><th>LineType</th><th>PartNum</th><th>LineDesc</th><th>Reference</th><th>IUM</th><th>RevisionNum</th><th>POLine</th><th>Commissionable</th><th>DiscountPercent</th><th>UnitPrice</th><th>DocUnitPrice</th><th>OrderQty</th><th>Discount</th><th>DocDiscount</th><th>RequestDate</th><th>ProdCode</th><th>XPartNum</th><th>XRevisionNum</th><th>PricePerCode</th><th>OrderComment</th><th>ShipComment</th><th>InvoiceComment</th><th>PickListComment</th><th>TaxCatID</th><th>AdvanceBillBal</th><th>DocAdvanceBillBal</th><th>QuoteNum</th><th>QuoteLine</th><th>TMBilling</th><th>OrigWhyNoTax</th><th>NeedByDate</th><th>CustNum</th><th>Rework</th><th>RMANum</th><th>RMALine</th><th>ProjectID</th><th>ContractNum</th><th>ContractCode</th><th>BasePartNum</th><th>Warranty</th><th>WarrantyCode</th><th>MaterialDuration</th><th>LaborDuration</th><th>MiscDuration</th><th>MaterialMod</th><th>LaborMod</th><th>WarrantyComment</th><th>Onsite</th><th>MatCovered</th><th>LabCovered</th><th>MiscCovered</th><th>SalesUM</th><th>SellingFactor</th><th>SellingQuantity</th><th>SalesCatID</th><th>ShipLineComplete</th><th>CumeQty</th><th>CumeDate</th><th>MktgCampaignID</th><th>MktgEvntSeq</th><th>LockQty</th><th>Linked</th><th>ICPONum</th><th>ICPOLine</th><th>ExtCompany</th><th>LastConfigDate</th><th>LastConfigTime</th><th>LastConfigUserID</th><th>ConfigUnitPrice</th><th>ConfigBaseUnitPrice</th><th>PriceListCode</th><th>BreakListCode</th><th>PricingQty</th><th>LockPrice</th><th>ListPrice</th><th>DocListPrice</th><th>OrdBasedPrice</th><th>DocOrdBasedPrice</th><th>PriceGroupCode</th><th>OverridePriceList</th><th>BaseRevisionNum</th><th>PricingValue</th><th>DisplaySeq</th><th>KitParentLine</th><th>KitAllowUpdate</th><th>KitShipComplete</th><th>KitBackFlush</th><th>KitPrintCompsPS</th><th>KitPrintCompsInv</th><th>KitPricing</th><th>KitQtyPer</th><th>SellingFactorDirection</th><th>RepRate1</th><th>RepRate2</th><th>RepRate3</th><th>RepRate4</th><th>RepRate5</th><th>RepSplit1</th><th>RepSplit2</th><th>RepSplit3</th><th>RepSplit4</th><th>RepSplit5</th><th>DemandContractLine</th><th>CreateNewJob</th><th>DoNotShipBeforeDate</th><th>GetDtls</th><th>DoNotShipAfterDate</th><th>SchedJob</th><th>RelJob</th><th>EnableCreateNewJob</th><th>EnableGetDtls</th><th>EnableSchedJob</th><th>EnableRelJob</th><th>CounterSaleWarehouse</th><th>CounterSaleBinNum</th><th>CounterSaleLotNum</th><th>CounterSaleDimCode</th><th>DemandDtlRejected</th><th>KitFlag</th><th>KitsLoaded</th><th>DemandContractNum</th><th>DemandHeadSeq</th><th>DemandDtlSeq</th><th>ChangedBy</th><th>ChangeDate</th><th>ChangeTime</th><th>ChangeDateTime</th><th>ReverseCharge</th><th>TotalReleases</th><th>Rpt1UnitPrice</th><th>Rpt2UnitPrice</th><th>Rpt3UnitPrice</th><th>Rpt1Discount</th><th>Rpt2Discount</th><th>Rpt3Discount</th><th>Rpt1AdvanceBillBal</th><th>Rpt2AdvanceBillBal</th><th>Rpt3AdvanceBillBal</th><th>Rpt1ListPrice</th><th>Rpt2ListPrice</th><th>Rpt3ListPrice</th><th>Rpt1OrdBasedPrice</th><th>Rpt2OrdBasedPrice</th><th>Rpt3OrdBasedPrice</th><th>ExtPriceDtl</th><th>DocExtPriceDtl</th><th>Rpt1ExtPriceDtl</th><th>Rpt2ExtPriceDtl</th><th>Rpt3ExtPriceDtl</th><th>LineStatus</th><th>InUnitPrice</th><th>DocInUnitPrice</th><th>InDiscount</th><th>DocInDiscount</th><th>InListPrice</th><th>DocInListPrice</th><th>InOrdBasedPrice</th><th>DocInOrdBasedPrice</th><th>Rpt1InUnitPrice</th><th>Rpt2InUnitPrice</th><th>Rpt3InUnitPrice</th><th>Rpt1InDiscount</th><th>Rpt2InDiscount</th><th>Rpt3InDiscount</th><th>Rpt1InListPrice</th><th>Rpt2InListPrice</th><th>Rpt3InListPrice</th><th>Rpt1InOrdBasedPrice</th><th>Rpt2InOrdBasedPrice</th><th>Rpt3InOrdBasedPrice</th><th>InExtPriceDtl</th><th>DocInExtPriceDtl</th><th>Rpt1InExtPriceDtl</th><th>Rpt2InExtPriceDtl</th><th>Rpt3InExtPriceDtl</th><th>OldOurOpenQty</th><th>OldSellingOpenQty</th><th>OldOpenValue</th><th>OldProdCode</th><th>PrevSellQty</th><th>PrevPartNum</th><th>PrevXPartNum</th><th>KitCompOrigSeq</th><th>KitCompOrigPart</th><th>SmartStringProcessed</th><th>SmartString</th><th>RenewalNbr</th><th>DiscBreakListCode</th><th>DiscListPrice</th><th>LockDisc</th><th>OverrideDiscPriceList</th><th>GroupSeq</th><th>ECCOrderNum</th><th>ECCOrderLine</th><th>DupOnJobCrt</th><th>UndersPct</th><th>Overs</th><th>Unders</th><th>OversUnitPrice</th><th>PlanUserID</th><th>PlanGUID</th><th>MOMsourceType</th><th>MOMsourceEst</th><th>DefaultOversPricing</th><th>ECCPlant</th><th>ECCQuoteNum</th><th>ECCQuoteLine</th><th>SysRevID</th><th>SysRowID</th><th>MfgJobType</th><th>ProFormaInvComment</th><th>CreateJob</th><th>ContractID</th><th>LinkToContract</th><th>DocInAdvanceBillBal</th><th>InAdvanceBillBal</th><th>Rpt1InAdvanceBillBal</th><th>Rpt2InAdvanceBillBal</th><th>Rpt3InAdvanceBillBal</th><th>PCLinkRemoved</th><th>CommodityCode</th><th>MSRP</th><th>DocMSRP</th><th>Rpt1MSRP</th><th>Rpt2MSRP</th><th>Rpt3MSRP</th><th>EndCustomerPrice</th><th>DocEndCustomerPrice</th><th>Rpt1EndCustomerPrice</th><th>Rpt2EndCustomerPrice</th><th>Rpt3EndCustomerPrice</th><th>PromotionalPrice</th><th>DocPromotionalPrice</th><th>Rpt1PromotionalPrice</th><th>Rpt2PromotionalPrice</th><th>Rpt3PromotionalPrice</th><th>OrderLineStatusCode</th><th>AttributeSetID</th><th>ForeignSysRowID</th><th>UD_SysRevID</th><th>DoNotBook_c</th><th>EstUnitCost_c</th><th>OriginalEstimate_c</th></tr><tr><td>0</td><td>1</td><td>RBMI</td><td>4003885</td><td>1</td><td>4003885-1</td><td>PART</td><td>TerraSmart Parts</td><td>451.58“ Dixfield Cee Purlin 9 x 4 x 0.1017 G90</td><td></td><td>EA</td><td>A</td><td></td><td>1</td><td>0.00</td><td>0.00000</td><td>0.00000</td><td>1.00000000</td><td>0.000</td><td>0.000</td><td>2022-10-26</td><td>00TS</td><td>119715</td><td></td><td>E</td><td></td><td></td><td></td><td></td><td></td><td>0.00000</td><td>0.00000</td><td>0</td><td>0</td><td>0</td><td></td><td>2022-10-28</td><td>6790</td><td>0</td><td>0</td><td>0</td><td></td><td>0</td><td></td><td></td><td>1</td><td></td><td>0</td><td>0</td><td>0</td><td></td><td></td><td></td><td>0</td><td>0</td><td>0</td><td>0</td><td>EA</td><td>1.00000000</td><td>1.00000000</td><td>00TS</td><td>0</td><td>0.00000000</td><td>NULL</td><td>DEFAULT</td><td>1</td><td>0</td><td>0</td><td>0</td><td>0</td><td></td><td>NULL</td><td>0</td><td></td><td>0.00000</td><td>0.00000</td><td></td><td></td><td>0.00000000</td><td>0</td><td>0.00000</td><td>0.00000</td><td>0.00000</td><td>0.00000</td><td></td><td>0</td><td></td><td>0.000</td><td>1.000</td><td>1</td><td>0</td><td>0</td><td>0</td><td>0</td><td>0</td><td></td><td>0.00000000</td><td>D</td><td>0.00</td><td>0.00</td><td>0.00</td><td>0.00</td><td>0.00</td><td>100</td><td>0</td><td>0</td><td>0</td><td>0</td><td>0</td><td>1</td><td>NULL</td><td>0</td><td>NULL</td><td>0</td><td>0</td><td>1</td><td>1</td><td>1</td><td>1</td><td></td><td></td><td></td><td></td><td>0</td><td></td><td>0</td><td>0</td><td>0</td><td>0</td><td>ccosta</td><td>2022-09-22</td><td>51902</td><td>2022-09-22 14:25:02.000</td><td>0</td><td>1</td><td>0.00000</td><td>0.00000</td><td>0.00000</td><td>0.00000</td><td>0.00000</td><td>0.00000</td><td>0.00000</td><td>0.00000</td><td>0.00000</td><td>0.00000</td><td>0.00000</td><td>0.00000</td><td>0.00000</td><td>0.00000</td><td>0.00000</td><td>0.000</td><td>0.000</td><td>0.000</td><td>0.000</td><td>0.000</td><td>OPEN</td><td>0.00000</td><td>0.00000</td><td>0.000</td><td>0.000</td><td>0.00000</td><td>0.00000</td><td>0.00000</td><td>0.00000</td><td>0.00000</td><td>0.00000</td><td>0.00000</td><td>0.00000</td><td>0.00000</td><td>0.00000</td><td>0.00000</td><td>0.00000</td><td>0.00000</td><td>0.00000</td><td>0.00000</td><td>0.00000</td><td>0.000</td><td>0.000</td><td>0.000</td><td>0.000</td><td>0.000</td><td>0.00</td><td>0.00</td><td>0.00</td><td></td><td>0.00</td><td></td><td>101360</td><td>0</td><td></td><td>0</td><td></td><td>0</td><td></td><td>0.00000</td><td>0</td><td>0</td><td>0</td><td></td><td>0</td><td>0</td><td>0.00000</td><td>0.00000</td><td>0.00000</td><td>0.00000</td><td></td><td></td><td></td><td></td><td></td><td></td><td></td><td>0</td><td>0x000000037D5C3D95</td><td>14172529-0c7b-42b2-8542-1111b0dafd03</td><td></td><td></td><td>0</td><td></td><td>0</td><td>0.00000</td><td>0.00000</td><td>0.00000</td><td>0.00000</td><td>0.00000</td><td>0</td><td></td><td>0.000</td><td>0.000</td><td>0.000</td><td>0.000</td><td>0.000</td><td>0.000</td><td>0.000</td><td>0.000</td><td>0.000</td><td>0.000</td><td>0.000</td><td>0.000</td><td>0.000</td><td>0.000</td><td>0.000</td><td></td><td>0</td><td>14172529-0c7b-42b2-8542-1111b0dafd03</td><td>0x000000035FE77119</td><td>0</td><td>0.00</td><td>0.00</td></tr><tr><td>0</td><td>1</td><td>RBMI</td><td>4003885</td><td>2</td><td>4003885-2</td><td>PART</td><td>TerraSmart Parts</td><td>406.43” Dixfield Cee Purlin 9 x 4 x 0.1017 G90</td><td></td><td>EA</td><td>A</td><td></td><td>1</td><td>0.00</td><td>0.00000</td><td>0.00000</td><td>1.00000000</td><td>0.000</td><td>0.000</td><td>2022-10-04</td><td>00TS</td><td>119716</td><td></td><td>E</td><td></td><td></td><td></td><td></td><td></td><td>0.00000</td><td>0.00000</td><td>0</td><td>0</td><td>0</td><td></td><td>2022-10-04</td><td>6790</td><td>0</td><td>0</td><td>0</td><td></td><td>0</td><td></td><td></td><td>1</td><td></td><td>0</td><td>0</td><td>0</td><td></td><td></td><td></td><td>0</td><td>0</td><td>0</td><td>0</td><td>EA</td><td>1.00000000</td><td>1.00000000</td><td>00TS</td><td>0</td><td>0.00000000</td><td>NULL</td><td>DEFAULT</td><td>1</td><td>0</td><td>0</td><td>0</td><td>0</td><td></td><td>NULL</td><td>0</td><td></td><td>0.00000</td><td>0.00000</td><td></td><td></td><td>0.00000000</td><td>0</td><td>0.00000</td><td>0.00000</td><td>0.00000</td><td>0.00000</td><td></td><td>0</td><td></td><td>0.000</td><td>2.000</td><td>2</td><td>0</td><td>0</td><td>0</td><td>0</td><td>0</td><td></td><td>0.00000000</td><td>D</td><td>0.00</td><td>0.00</td><td>0.00</td><td>0.00</td><td>0.00</td><td>100</td><td>0</td><td>0</td><td>0</td><td>0</td><td>0</td><td>1</td><td>NULL</td><td>0</td><td>NULL</td><td>0</td><td>0</td><td>1</td><td>1</td><td>1</td><td>1</td><td></td><td></td><td></td><td></td><td>0</td><td></td><td>0</td><td>0</td><td>0</td><td>0</td><td>ccosta</td><td>2022-09-22</td><td>51908</td><td>2022-09-22 14:25:08.000</td><td>0</td><td>1</td><td>0.00000</td><td>0.00000</td><td>0.00000</td><td>0.00000</td><td>0.00000</td><td>0.00000</td><td>0.00000</td><td>0.00000</td><td>0.00000</td><td>0.00000</td><td>0.00000</td><td>0.00000</td><td>0.00000</td><td>0.00000</td><td>0.00000</td><td>0.000</td><td>0.000</td><td>0.000</td><td>0.000</td><td>0.000</td><td>OPEN</td><td>0.00000</td><td>0.00000</td><td>0.000</td><td>0.000</td><td>0.00000</td><td>0.00000</td><td>0.00000</td><td>0.00000</td><td>0.00000</td><td>0.00000</td><td>0.00000</td><td>0.00000</td><td>0.00000</td><td>0.00000</td><td>0.00000</td><td>0.00000</td><td>0.00000</td><td>0.00000</td><td>0.00000</td><td>0.00000</td><td>0.000</td><td>0.000</td><td>0.000</td><td>0.000</td><td>0.000</td><td>0.00</td><td>0.00</td><td>0.00</td><td></td><td>0.00</td><td></td><td>101360</td><td>0</td><td></td><td>0</td><td></td><td>0</td><td></td><td>0.00000</td><td>0</td><td>0</td><td>0</td><td></td><td>0</td><td>0</td><td>0.00000</td><td>0.00000</td><td>0.00000</td><td>0.00000</td><td></td><td></td><td></td><td></td><td></td><td></td><td></td><td>0</td><td>0x000000035FE7729D</td><td>38f74c7f-0346-4630-a4b7-2cbe4c7fabb0</td><td></td><td></td><td>0</td><td></td><td>0</td><td>0.00000</td><td>0.00000</td><td>0.00000</td><td>0.00000</td><td>0.00000</td><td>0</td><td></td><td>0.000</td><td>0.000</td><td>0.000</td><td>0.000</td><td>0.000</td><td>0.000</td><td>0.000</td><td>0.000</td><td>0.000</td><td>0.000</td><td>0.000</td><td>0.000</td><td>0.000</td><td>0.000</td><td>0.000</td><td></td><td>0</td><td>38f74c7f-0346-4630-a4b7-2cbe4c7fabb0</td><td>0x000000035FE7713B</td><td>0</td><td>0.00</td><td>0.00</td></tr><tr><td>0</td><td>1</td><td>RBMI</td><td>4003885</td><td>3</td><td>4003885-3</td><td>PART</td><td>TerraSmart Parts</td><td>451.58“ Dixfield Cee Purlin 9 x 4 x 0.1017 G90</td><td></td><td>EA</td><td>A</td><td></td><td>1</td><td>0.00</td><td>12.04200</td><td>12.04200</td><td>1182.00000000</td><td>0.000</td><td>0.000</td><td>2022-10-04</td><td>00TS</td><td>119715</td><td></td><td>E</td><td></td><td></td><td></td><td></td><td></td><td>0.00000</td><td>0.00000</td><td>0</td><td>0</td><td>0</td><td></td><td>2022-10-04</td><td>6790</td><td>0</td><td>0</td><td>0</td><td></td><td>0</td><td></td><td></td><td>1</td><td></td><td>0</td><td>0</td><td>0</td><td></td><td></td><td></td><td>0</td><td>0</td><td>0</td><td>0</td><td>EA</td><td>1.00000000</td><td>1182.00000000</td><td>00TS</td><td>0</td><td>0.00000000</td><td>NULL</td><td>DEFAULT</td><td>1</td><td>0</td><td>0</td><td>0</td><td>0</td><td></td><td>NULL</td><td>0</td><td></td><td>0.00000</td><td>0.00000</td><td></td><td></td><td>0.00000000</td><td>1</td><td>12.04200</td><td>12.04200</td><td>12.04200</td><td>12.04200</td><td></td><td>0</td><td></td><td>0.000</td><td>3.000</td><td>3</td><td>0</td><td>0</td><td>0</td><td>0</td><td>0</td><td></td><td>0.00000000</td><td>D</td><td>0.00</td><td>0.00</td><td>0.00</td><td>0.00</td><td>0.00</td><td>100</td><td>0</td><td>0</td><td>0</td><td>0</td><td>0</td><td>1</td><td>NULL</td><td>0</td><td>NULL</td><td>0</td><td>0</td><td>1</td><td>1</td><td>1</td><td>1</td><td></td><td></td><td></td><td></td><td>0</td><td></td><td>0</td><td>0</td><td>0</td><td>0</td><td>ccosta</td><td>2022-09-22</td><td>51914</td><td>2022-09-22 14:25:14.000</td><td>0</td><td>1</td><td>0.00000</td><td>0.00000</td><td>0.00000</td><td>0.00000</td><td>0.00000</td><td>0.00000</td><td>0.00000</td><td>0.00000</td><td>0.00000</td><td>0.00000</td><td>0.00000</td><td>0.00000</td><td>0.00000</td><td>0.00000</td><td>0.00000</td><td>14233.640</td><td>14233.640</td><td>0.000</td><td>0.000</td><td>0.000</td><td>OPEN</td><td>0.00000</td><td>0.00000</td><td>0.000</td><td>0.000</td><td>0.00000</td><td>0.00000</td><td>0.00000</td><td>0.00000</td><td>0.00000</td><td>0.00000</td><td>0.00000</td><td>0.00000</td><td>0.00000</td><td>0.00000</td><td>0.00000</td><td>0.00000</td><td>0.00000</td><td>0.00000</td><td>0.00000</td><td>0.00000</td><td>0.000</td><td>0.000</td><td>0.000</td><td>0.000</td><td>0.000</td><td>0.00</td><td>0.00</td><td>0.00</td><td></td><td>0.00</td><td></td><td>101360</td><td>0</td><td></td><td>0</td><td></td><td>0</td><td></td><td>0.00000</td><td>0</td><td>0</td><td>0</td><td></td><td>0</td><td>0</td><td>0.00000</td><td>0.00000</td><td>0.00000</td><td>0.00000</td><td></td><td></td><td></td><td></td><td></td><td></td><td></td><td>0</td><td>0x000000035FE772C6</td><td>7b70aaca-8b67-4ac3-b695-56257b251c59</td><td></td><td></td><td>0</td><td></td><td>0</td><td>0.00000</td><td>0.00000</td><td>0.00000</td><td>0.00000</td><td>0.00000</td><td>0</td><td></td><td>0.000</td><td>0.000</td><td>0.000</td><td>0.000</td><td>0.000</td><td>0.000</td><td>0.000</td><td>0.000</td><td>0.000</td><td>0.000</td><td>0.000</td><td>0.000</td><td>0.000</td><td>0.000</td><td>0.000</td><td></td><td>0</td><td>7b70aaca-8b67-4ac3-b695-56257b251c59</td><td>0x000000035FE7715C</td><td>0</td><td>0.00</td><td>0.00</td></tr><tr><td>0</td><td>1</td><td>RBMI</td><td>4003885</td><td>4</td><td>4003885-4</td><td>PART</td><td>TerraSmart Parts</td><td>406.43” Dixfield Cee Purlin 9 x 4 x 0.1017 G90</td><td></td><td>EA</td><td>A</td><td></td><td>1</td><td>0.00</td><td>10.83800</td><td>10.83800</td><td>213.00000000</td><td>0.000</td><td>0.000</td><td>2022-10-04</td><td>00TS</td><td>119716</td><td></td><td>E</td><td></td><td></td><td></td><td></td><td></td><td>0.00000</td><td>0.00000</td><td>0</td><td>0</td><td>0</td><td></td><td>2022-10-04</td><td>6790</td><td>0</td><td>0</td><td>0</td><td></td><td>0</td><td></td><td></td><td>1</td><td></td><td>0</td><td>0</td><td>0</td><td></td><td></td><td></td><td>0</td><td>0</td><td>0</td><td>0</td><td>EA</td><td>1.00000000</td><td>213.00000000</td><td>00TS</td><td>0</td><td>0.00000000</td><td>NULL</td><td>DEFAULT</td><td>1</td><td>0</td><td>0</td><td>0</td><td>0</td><td></td><td>NULL</td><td>0</td><td></td><td>0.00000</td><td>0.00000</td><td></td><td></td><td>0.00000000</td><td>1</td><td>10.83800</td><td>10.83800</td><td>10.83800</td><td>10.83800</td><td></td><td>0</td><td></td><td>0.000</td><td>4.000</td><td>4</td><td>0</td><td>0</td><td>0</td><td>0</td><td>0</td><td></td><td>0.00000000</td><td>D</td><td>0.00</td><td>0.00</td><td>0.00</td><td>0.00</td><td>0.00</td><td>100</td><td>0</td><td>0</td><td>0</td><td>0</td><td>0</td><td>1</td><td>NULL</td><td>0</td><td>NULL</td><td>0</td><td>0</td><td>1</td><td>1</td><td>1</td><td>1</td><td></td><td></td><td></td><td></td><td>0</td><td></td><td>0</td><td>0</td><td>0</td><td>0</td><td>ccosta</td><td>2022-09-22</td><td>51920</td><td>2022-09-22 14:25:20.000</td><td>0</td><td>1</td><td>0.00000</td><td>0.00000</td><td>0.00000</td><td>0.00000</td><td>0.00000</td><td>0.00000</td><td>0.00000</td><td>0.00000</td><td>0.00000</td><td>0.00000</td><td>0.00000</td><td>0.00000</td><td>0.00000</td><td>0.00000</td><td>0.00000</td><td>2308.490</td><td>2308.490</td><td>0.000</td><td>0.000</td><td>0.000</td><td>OPEN</td><td>0.00000</td><td>0.00000</td><td>0.000</td><td>0.000</td><td>0.00000</td><td>0.00000</td><td>0.00000</td><td>0.00000</td><td>0.00000</td><td>0.00000</td><td>0.00000</td><td>0.00000</td><td>0.00000</td><td>0.00000</td><td>0.00000</td><td>0.00000</td><td>0.00000</td><td>0.00000</td><td>0.00000</td><td>0.00000</td><td>0.000</td><td>0.000</td><td>0.000</td><td>0.000</td><td>0.000</td><td>0.00</td><td>0.00</td><td>0.00</td><td></td><td>0.00</td><td></td><td>101360</td><td>0</td><td></td><td>0</td><td></td><td>0</td><td></td><td>0.00000</td><td>0</td><td>0</td><td>0</td><td></td><td>0</td><td>0</td><td>0.00000</td><td>0.00000</td><td>0.00000</td><td>0.00000</td><td></td><td></td><td></td><td></td><td></td><td></td><td></td><td>0</td><td>0x000000035FE772F9</td><td>b4c71df6-7b9f-4534-aef1-8758026448ec</td><td></td><td></td><td>0</td><td></td><td>0</td><td>0.00000</td><td>0.00000</td><td>0.00000</td><td>0.00000</td><td>0.00000</td><td>0</td><td></td><td>0.000</td><td>0.000</td><td>0.000</td><td>0.000</td><td>0.000</td><td>0.000</td><td>0.000</td><td>0.000</td><td>0.000</td><td>0.000</td><td>0.000</td><td>0.000</td><td>0.000</td><td>0.000</td><td>0.000</td><td></td><td>0</td><td>b4c71df6-7b9f-4534-aef1-8758026448ec</td><td>0x000000035FE77186</td><td>0</td><td>0.00</td><td>0.00</td></tr></table>"
                    },
                    "metadata": {}
                }
            ],
            "execution_count": 2
        },
        {
            "cell_type": "markdown",
            "source": [
                "# Example of Order Head on RBMI and Solar\r\n",
                "\r\n",
                "The example Ordernum tied to the Job on **RBMI** does not connect to the Project number and there is no OrderNum on the **Solar** side with the example OrderNum\r\n",
                "\r\n",
                "The <mark>PONnum</mark> from the RBMI sales order is what will tie to the Solar side"
            ],
            "metadata": {
                "language": "sql",
                "azdata_cell_guid": "134defc0-60d1-44f0-823e-c910a0906f68"
            },
            "attachments": {}
        },
        {
            "cell_type": "code",
            "source": [
                "Select *\r\n",
                "From etl.vwOrderHead\r\n",
                "Where OrderNum = 4003885\r\n",
                "and company = 'rbmi'"
            ],
            "metadata": {
                "language": "sql",
                "azdata_cell_guid": "e445d674-9fe8-4c8a-b78c-051b0840cd67",
                "tags": []
            },
            "outputs": [
                {
                    "output_type": "display_data",
                    "data": {
                        "text/html": "(1 row affected)"
                    },
                    "metadata": {}
                },
                {
                    "output_type": "display_data",
                    "data": {
                        "text/html": "Total execution time: 00:00:00.120"
                    },
                    "metadata": {}
                },
                {
                    "output_type": "execute_result",
                    "metadata": {},
                    "execution_count": 4,
                    "data": {
                        "application/vnd.dataresource+json": {
                            "schema": {
                                "fields": [
                                    {
                                        "name": "OpenOrder"
                                    },
                                    {
                                        "name": "VoidOrder"
                                    },
                                    {
                                        "name": "Company"
                                    },
                                    {
                                        "name": "OrderNum"
                                    },
                                    {
                                        "name": "CustNum"
                                    },
                                    {
                                        "name": "PONum"
                                    },
                                    {
                                        "name": "OrderHeld"
                                    },
                                    {
                                        "name": "EntryPerson"
                                    },
                                    {
                                        "name": "ShipToNum"
                                    },
                                    {
                                        "name": "RequestDate"
                                    },
                                    {
                                        "name": "OrderDate"
                                    },
                                    {
                                        "name": "FOB"
                                    },
                                    {
                                        "name": "ShipViaCode"
                                    },
                                    {
                                        "name": "TermsCode"
                                    },
                                    {
                                        "name": "DiscountPercent"
                                    },
                                    {
                                        "name": "PrcConNum"
                                    },
                                    {
                                        "name": "ShpConNum"
                                    },
                                    {
                                        "name": "SalesRepList"
                                    },
                                    {
                                        "name": "OrderComment"
                                    },
                                    {
                                        "name": "ShipComment"
                                    },
                                    {
                                        "name": "InvoiceComment"
                                    },
                                    {
                                        "name": "PickListComment"
                                    },
                                    {
                                        "name": "DepositBal"
                                    },
                                    {
                                        "name": "DocDepositBal"
                                    },
                                    {
                                        "name": "NeedByDate"
                                    },
                                    {
                                        "name": "CreditOverride"
                                    },
                                    {
                                        "name": "CreditOverrideUserID"
                                    },
                                    {
                                        "name": "CreditOverrideDate"
                                    },
                                    {
                                        "name": "CreditOverrideTime"
                                    },
                                    {
                                        "name": "CreditOverrideLimit"
                                    },
                                    {
                                        "name": "SndAlrtShp"
                                    },
                                    {
                                        "name": "ExchangeRate"
                                    },
                                    {
                                        "name": "CurrencyCode"
                                    },
                                    {
                                        "name": "LockRate"
                                    },
                                    {
                                        "name": "CardMemberName"
                                    },
                                    {
                                        "name": "CardNumber"
                                    },
                                    {
                                        "name": "CardType"
                                    },
                                    {
                                        "name": "ExpirationMonth"
                                    },
                                    {
                                        "name": "ExpirationYear"
                                    },
                                    {
                                        "name": "CardID"
                                    },
                                    {
                                        "name": "CardmemberReference"
                                    },
                                    {
                                        "name": "AllocPriorityCode"
                                    },
                                    {
                                        "name": "ReservePriorityCode"
                                    },
                                    {
                                        "name": "ShipOrderComplete"
                                    },
                                    {
                                        "name": "WebOrder"
                                    },
                                    {
                                        "name": "CCApprovalNum"
                                    },
                                    {
                                        "name": "EDIOrder"
                                    },
                                    {
                                        "name": "EDIAck"
                                    },
                                    {
                                        "name": "Linked"
                                    },
                                    {
                                        "name": "ICPONum"
                                    },
                                    {
                                        "name": "ExtCompany"
                                    },
                                    {
                                        "name": "WebEntryPerson"
                                    },
                                    {
                                        "name": "AckEmailSent"
                                    },
                                    {
                                        "name": "ApplyOrderBasedDisc"
                                    },
                                    {
                                        "name": "AutoOrderBasedDisc"
                                    },
                                    {
                                        "name": "EntryMethod"
                                    },
                                    {
                                        "name": "HDCaseNum"
                                    },
                                    {
                                        "name": "CounterSale"
                                    },
                                    {
                                        "name": "CreateInvoice"
                                    },
                                    {
                                        "name": "CreatePackingSlip"
                                    },
                                    {
                                        "name": "LockQty"
                                    },
                                    {
                                        "name": "ProcessCard"
                                    },
                                    {
                                        "name": "CCAmount"
                                    },
                                    {
                                        "name": "CCFreight"
                                    },
                                    {
                                        "name": "CCTax"
                                    },
                                    {
                                        "name": "CCTotal"
                                    },
                                    {
                                        "name": "CCDocAmount"
                                    },
                                    {
                                        "name": "CCDocFreight"
                                    },
                                    {
                                        "name": "CCDocTax"
                                    },
                                    {
                                        "name": "CCDocTotal"
                                    },
                                    {
                                        "name": "CCStreetAddr"
                                    },
                                    {
                                        "name": "CCZip"
                                    },
                                    {
                                        "name": "BTCustNum"
                                    },
                                    {
                                        "name": "BTConNum"
                                    },
                                    {
                                        "name": "RepRate4"
                                    },
                                    {
                                        "name": "RepRate5"
                                    },
                                    {
                                        "name": "RepSplit1"
                                    },
                                    {
                                        "name": "RepSplit2"
                                    },
                                    {
                                        "name": "RepSplit3"
                                    },
                                    {
                                        "name": "RepSplit4"
                                    },
                                    {
                                        "name": "RepSplit5"
                                    },
                                    {
                                        "name": "RepRate1"
                                    },
                                    {
                                        "name": "RepRate2"
                                    },
                                    {
                                        "name": "RepRate3"
                                    },
                                    {
                                        "name": "OutboundSalesDocCtr"
                                    },
                                    {
                                        "name": "OutboundShipDocsCtr"
                                    },
                                    {
                                        "name": "DemandContractNum"
                                    },
                                    {
                                        "name": "DoNotShipBeforeDate"
                                    },
                                    {
                                        "name": "ResDelivery"
                                    },
                                    {
                                        "name": "DoNotShipAfterDate"
                                    },
                                    {
                                        "name": "SatDelivery"
                                    },
                                    {
                                        "name": "SatPickup"
                                    },
                                    {
                                        "name": "Hazmat"
                                    },
                                    {
                                        "name": "DocOnly"
                                    },
                                    {
                                        "name": "RefNotes"
                                    },
                                    {
                                        "name": "ApplyChrg"
                                    },
                                    {
                                        "name": "ChrgAmount"
                                    },
                                    {
                                        "name": "COD"
                                    },
                                    {
                                        "name": "CODFreight"
                                    },
                                    {
                                        "name": "CODCheck"
                                    },
                                    {
                                        "name": "CODAmount"
                                    },
                                    {
                                        "name": "GroundType"
                                    },
                                    {
                                        "name": "NotifyFlag"
                                    },
                                    {
                                        "name": "NotifyEMail"
                                    },
                                    {
                                        "name": "DeclaredIns"
                                    },
                                    {
                                        "name": "DeclaredAmt"
                                    },
                                    {
                                        "name": "CancelAfterDate"
                                    },
                                    {
                                        "name": "DemandRejected"
                                    },
                                    {
                                        "name": "OverrideCarrier"
                                    },
                                    {
                                        "name": "OverrideService"
                                    },
                                    {
                                        "name": "CreditCardOrder"
                                    },
                                    {
                                        "name": "DemandHeadSeq"
                                    },
                                    {
                                        "name": "PayFlag"
                                    },
                                    {
                                        "name": "PayAccount"
                                    },
                                    {
                                        "name": "PayBTAddress1"
                                    },
                                    {
                                        "name": "PayBTAddress2"
                                    },
                                    {
                                        "name": "PayBTCity"
                                    },
                                    {
                                        "name": "PayBTState"
                                    },
                                    {
                                        "name": "PayBTZip"
                                    },
                                    {
                                        "name": "PayBTCountry"
                                    },
                                    {
                                        "name": "DropShip"
                                    },
                                    {
                                        "name": "CommercialInvoice"
                                    },
                                    {
                                        "name": "ShipExprtDeclartn"
                                    },
                                    {
                                        "name": "CertOfOrigin"
                                    },
                                    {
                                        "name": "LetterOfInstr"
                                    },
                                    {
                                        "name": "FFID"
                                    },
                                    {
                                        "name": "FFAddress1"
                                    },
                                    {
                                        "name": "FFAddress2"
                                    },
                                    {
                                        "name": "FFCity"
                                    },
                                    {
                                        "name": "FFState"
                                    },
                                    {
                                        "name": "FFZip"
                                    },
                                    {
                                        "name": "FFCountry"
                                    },
                                    {
                                        "name": "FFContact"
                                    },
                                    {
                                        "name": "FFCompName"
                                    },
                                    {
                                        "name": "FFPhoneNum"
                                    },
                                    {
                                        "name": "IntrntlShip"
                                    },
                                    {
                                        "name": "ChangedBy"
                                    },
                                    {
                                        "name": "ChangeDate"
                                    },
                                    {
                                        "name": "ChangeTime"
                                    },
                                    {
                                        "name": "ChangeDateTime"
                                    },
                                    {
                                        "name": "AutoPrintReady"
                                    },
                                    {
                                        "name": "EDIReady"
                                    },
                                    {
                                        "name": "IndividualPackIDs"
                                    },
                                    {
                                        "name": "FFAddress3"
                                    },
                                    {
                                        "name": "DeliveryConf"
                                    },
                                    {
                                        "name": "AddlHdlgFlag"
                                    },
                                    {
                                        "name": "NonStdPkg"
                                    },
                                    {
                                        "name": "ServSignature"
                                    },
                                    {
                                        "name": "ServAlert"
                                    },
                                    {
                                        "name": "ServHomeDel"
                                    },
                                    {
                                        "name": "DeliveryType"
                                    },
                                    {
                                        "name": "ServDeliveryDate"
                                    },
                                    {
                                        "name": "ServInstruct"
                                    },
                                    {
                                        "name": "ServRef1"
                                    },
                                    {
                                        "name": "ServRef2"
                                    },
                                    {
                                        "name": "ServRef3"
                                    },
                                    {
                                        "name": "ServRef4"
                                    },
                                    {
                                        "name": "ServRef5"
                                    },
                                    {
                                        "name": "FFCountryNum"
                                    },
                                    {
                                        "name": "ServPhone"
                                    },
                                    {
                                        "name": "ServRelease"
                                    },
                                    {
                                        "name": "ServAuthNum"
                                    },
                                    {
                                        "name": "PayBTAddress3"
                                    },
                                    {
                                        "name": "PayBTCountryNum"
                                    },
                                    {
                                        "name": "PayBTPhone"
                                    },
                                    {
                                        "name": "UPSQuantumView"
                                    },
                                    {
                                        "name": "UPSQVShipFromName"
                                    },
                                    {
                                        "name": "UPSQVMemo"
                                    },
                                    {
                                        "name": "ReadyToCalc"
                                    },
                                    {
                                        "name": "TotalCharges"
                                    },
                                    {
                                        "name": "TotalMisc"
                                    },
                                    {
                                        "name": "TotalDiscount"
                                    },
                                    {
                                        "name": "TotalComm"
                                    },
                                    {
                                        "name": "TotalAdvBill"
                                    },
                                    {
                                        "name": "TotalLines"
                                    },
                                    {
                                        "name": "TotalReleases"
                                    },
                                    {
                                        "name": "TotalRelDates"
                                    },
                                    {
                                        "name": "DocTotalCharges"
                                    },
                                    {
                                        "name": "DocTotalMisc"
                                    },
                                    {
                                        "name": "DocTotalDiscount"
                                    },
                                    {
                                        "name": "DocTotalComm"
                                    },
                                    {
                                        "name": "TotalTax"
                                    },
                                    {
                                        "name": "DocTotalTax"
                                    },
                                    {
                                        "name": "DocTotalAdvBill"
                                    },
                                    {
                                        "name": "TotalShipped"
                                    },
                                    {
                                        "name": "TotalInvoiced"
                                    },
                                    {
                                        "name": "TotalCommLines"
                                    },
                                    {
                                        "name": "SRCommAmt1"
                                    },
                                    {
                                        "name": "SRCommAmt2"
                                    },
                                    {
                                        "name": "SRCommAmt3"
                                    },
                                    {
                                        "name": "SRCommAmt4"
                                    },
                                    {
                                        "name": "SRCommAmt5"
                                    },
                                    {
                                        "name": "SRCommableAmt1"
                                    },
                                    {
                                        "name": "SRCommableAmt2"
                                    },
                                    {
                                        "name": "SRCommableAmt3"
                                    },
                                    {
                                        "name": "SRCommableAmt4"
                                    },
                                    {
                                        "name": "SRCommableAmt5"
                                    },
                                    {
                                        "name": "Rounding"
                                    },
                                    {
                                        "name": "Rpt1DepositBal"
                                    },
                                    {
                                        "name": "DocRounding"
                                    },
                                    {
                                        "name": "Rpt2DepositBal"
                                    },
                                    {
                                        "name": "Rpt3DepositBal"
                                    },
                                    {
                                        "name": "Rpt1TotalCharges"
                                    },
                                    {
                                        "name": "Rpt2TotalCharges"
                                    },
                                    {
                                        "name": "Rpt3TotalCharges"
                                    },
                                    {
                                        "name": "Rpt1TotalAdvBill"
                                    },
                                    {
                                        "name": "Rpt2TotalAdvBill"
                                    },
                                    {
                                        "name": "Rpt3TotalAdvBill"
                                    },
                                    {
                                        "name": "Rpt1TotalMisc"
                                    },
                                    {
                                        "name": "Rpt2TotalMisc"
                                    },
                                    {
                                        "name": "Rpt3TotalMisc"
                                    },
                                    {
                                        "name": "Rpt1TotalDiscount"
                                    },
                                    {
                                        "name": "Rpt2TotalDiscount"
                                    },
                                    {
                                        "name": "Rpt3TotalDiscount"
                                    },
                                    {
                                        "name": "Rpt1TotalComm"
                                    },
                                    {
                                        "name": "Rpt2TotalComm"
                                    },
                                    {
                                        "name": "Rpt3TotalComm"
                                    },
                                    {
                                        "name": "Rpt1TotalTax"
                                    },
                                    {
                                        "name": "Rpt2TotalTax"
                                    },
                                    {
                                        "name": "Rpt1Rounding"
                                    },
                                    {
                                        "name": "Rpt2Rounding"
                                    },
                                    {
                                        "name": "Rpt3Rounding"
                                    },
                                    {
                                        "name": "RateGrpCode"
                                    },
                                    {
                                        "name": "Rpt3TotalTax"
                                    },
                                    {
                                        "name": "Rpt1CCAmount"
                                    },
                                    {
                                        "name": "Rpt2CCAmount"
                                    },
                                    {
                                        "name": "Rpt3CCAmount"
                                    },
                                    {
                                        "name": "Rpt1CCFreight"
                                    },
                                    {
                                        "name": "Rpt2CCFreight"
                                    },
                                    {
                                        "name": "Rpt3CCFreight"
                                    },
                                    {
                                        "name": "Rpt1CCTax"
                                    },
                                    {
                                        "name": "Rpt2CCTax"
                                    },
                                    {
                                        "name": "Rpt3CCTax"
                                    },
                                    {
                                        "name": "Rpt1CCTotal"
                                    },
                                    {
                                        "name": "Rpt2CCTotal"
                                    },
                                    {
                                        "name": "Rpt3CCTotal"
                                    },
                                    {
                                        "name": "OrderAmt"
                                    },
                                    {
                                        "name": "DocOrderAmt"
                                    },
                                    {
                                        "name": "Rpt1OrderAmt"
                                    },
                                    {
                                        "name": "Rpt2OrderAmt"
                                    },
                                    {
                                        "name": "Rpt3OrderAmt"
                                    },
                                    {
                                        "name": "TaxPoint"
                                    },
                                    {
                                        "name": "TaxRateDate"
                                    },
                                    {
                                        "name": "TaxRegionCode"
                                    },
                                    {
                                        "name": "UseOTS"
                                    },
                                    {
                                        "name": "OTSName"
                                    },
                                    {
                                        "name": "OTSAddress1"
                                    },
                                    {
                                        "name": "OTSAddress2"
                                    },
                                    {
                                        "name": "OTSAddress3"
                                    },
                                    {
                                        "name": "OTSCity"
                                    },
                                    {
                                        "name": "OTSState"
                                    },
                                    {
                                        "name": "OTSZIP"
                                    },
                                    {
                                        "name": "OTSResaleID"
                                    },
                                    {
                                        "name": "OTSContact"
                                    },
                                    {
                                        "name": "OTSFaxNum"
                                    },
                                    {
                                        "name": "OTSPhoneNum"
                                    },
                                    {
                                        "name": "OTSCountryNum"
                                    },
                                    {
                                        "name": "TotalWHTax"
                                    },
                                    {
                                        "name": "DocTotalWHTax"
                                    },
                                    {
                                        "name": "Rpt1TotalWHTax"
                                    },
                                    {
                                        "name": "Rpt2TotalWHTax"
                                    },
                                    {
                                        "name": "Rpt3TotalWHTax"
                                    },
                                    {
                                        "name": "TotalSATax"
                                    },
                                    {
                                        "name": "DocTotalSATax"
                                    },
                                    {
                                        "name": "Rpt1TotalSATax"
                                    },
                                    {
                                        "name": "Rpt2TotalSATax"
                                    },
                                    {
                                        "name": "Rpt3TotalSATax"
                                    },
                                    {
                                        "name": "OTSSaveAs"
                                    },
                                    {
                                        "name": "OTSSaveCustID"
                                    },
                                    {
                                        "name": "OTSCustSaved"
                                    },
                                    {
                                        "name": "ShipToCustNum"
                                    },
                                    {
                                        "name": "OrderStatus"
                                    },
                                    {
                                        "name": "HoldSetByDemand"
                                    },
                                    {
                                        "name": "InPrice"
                                    },
                                    {
                                        "name": "InTotalCharges"
                                    },
                                    {
                                        "name": "InTotalMisc"
                                    },
                                    {
                                        "name": "InTotalDiscount"
                                    },
                                    {
                                        "name": "DocInTotalCharges"
                                    },
                                    {
                                        "name": "DocInTotalMisc"
                                    },
                                    {
                                        "name": "DocInTotalDiscount"
                                    },
                                    {
                                        "name": "Rpt1InTotalCharges"
                                    },
                                    {
                                        "name": "Rpt2InTotalCharges"
                                    },
                                    {
                                        "name": "Rpt3InTotalCharges"
                                    },
                                    {
                                        "name": "Rpt1InTotalMisc"
                                    },
                                    {
                                        "name": "Rpt2InTotalMisc"
                                    },
                                    {
                                        "name": "Rpt3InTotalMisc"
                                    },
                                    {
                                        "name": "Rpt1InTotalDiscount"
                                    },
                                    {
                                        "name": "Rpt2InTotalDiscount"
                                    },
                                    {
                                        "name": "Rpt3InTotalDiscount"
                                    },
                                    {
                                        "name": "ARLOCID"
                                    },
                                    {
                                        "name": "OurBank"
                                    },
                                    {
                                        "name": "ERSOrder"
                                    },
                                    {
                                        "name": "LOCHold"
                                    },
                                    {
                                        "name": "PSCurrCode"
                                    },
                                    {
                                        "name": "InvCurrCode"
                                    },
                                    {
                                        "name": "LegalNumber"
                                    },
                                    {
                                        "name": "TranDocTypeID"
                                    },
                                    {
                                        "name": "XRefContractNum"
                                    },
                                    {
                                        "name": "XRefContractDate"
                                    },
                                    {
                                        "name": "DemandProcessDate"
                                    },
                                    {
                                        "name": "DemandProcessTime"
                                    },
                                    {
                                        "name": "LastScheduleNumber"
                                    },
                                    {
                                        "name": "LastTCtrlNum"
                                    },
                                    {
                                        "name": "LastBatchNum"
                                    },
                                    {
                                        "name": "ECCOrderNum"
                                    },
                                    {
                                        "name": "ECCPONum"
                                    },
                                    {
                                        "name": "WIOrder"
                                    },
                                    {
                                        "name": "WIApplication"
                                    },
                                    {
                                        "name": "WIUsername"
                                    },
                                    {
                                        "name": "WIUserID"
                                    },
                                    {
                                        "name": "WICreditCardorder"
                                    },
                                    {
                                        "name": "OrderCSR"
                                    },
                                    {
                                        "name": "UserChar1"
                                    },
                                    {
                                        "name": "UserChar2"
                                    },
                                    {
                                        "name": "UserChar3"
                                    },
                                    {
                                        "name": "UserChar4"
                                    },
                                    {
                                        "name": "UserDate1"
                                    },
                                    {
                                        "name": "UserDate2"
                                    },
                                    {
                                        "name": "UserDate3"
                                    },
                                    {
                                        "name": "UserDate4"
                                    },
                                    {
                                        "name": "UserDecimal1"
                                    },
                                    {
                                        "name": "UserDecimal2"
                                    },
                                    {
                                        "name": "UserInteger1"
                                    },
                                    {
                                        "name": "UserInteger2"
                                    },
                                    {
                                        "name": "SysRevID"
                                    },
                                    {
                                        "name": "SysRowID"
                                    },
                                    {
                                        "name": "IsCSRSet"
                                    },
                                    {
                                        "name": "ECCPaymentMethod"
                                    },
                                    {
                                        "name": "AGUseGoodDefaultMark"
                                    },
                                    {
                                        "name": "OTSShipToNum"
                                    },
                                    {
                                        "name": "ProFormaInvComment"
                                    },
                                    {
                                        "name": "ccToken"
                                    },
                                    {
                                        "name": "InvcOrderCmp"
                                    },
                                    {
                                        "name": "ReprintSOAck"
                                    },
                                    {
                                        "name": "CounterSOAck"
                                    },
                                    {
                                        "name": "DispatchReason"
                                    },
                                    {
                                        "name": "Plant"
                                    },
                                    {
                                        "name": "ReadyToFulfill"
                                    },
                                    {
                                        "name": "ShipByTime"
                                    },
                                    {
                                        "name": "TWFiscalYear"
                                    },
                                    {
                                        "name": "TWFiscalYearSuffix"
                                    },
                                    {
                                        "name": "TWFiscalPeriod"
                                    },
                                    {
                                        "name": "TWGUIGroup"
                                    },
                                    {
                                        "name": "TWGUIRegNumSeller"
                                    },
                                    {
                                        "name": "TWGUIRegNumBuyer"
                                    },
                                    {
                                        "name": "OrderOpenCredit"
                                    },
                                    {
                                        "name": "ClosedNotShipped"
                                    },
                                    {
                                        "name": "InvCurrDepositBal"
                                    },
                                    {
                                        "name": "PLArticle106c"
                                    },
                                    {
                                        "name": "PLInvIssuedByTaxpayer"
                                    },
                                    {
                                        "name": "PLInvIssuedBySecondTaxpayer"
                                    },
                                    {
                                        "name": "PLTouristService"
                                    },
                                    {
                                        "name": "PLSecondHandOrArts"
                                    },
                                    {
                                        "name": "PLLegalArticleAct"
                                    },
                                    {
                                        "name": "PLLegalArticleWEDirective"
                                    },
                                    {
                                        "name": "PLLegalArticleOther"
                                    },
                                    {
                                        "name": "PLEnforcementAuthName"
                                    },
                                    {
                                        "name": "PLEnforcementAuthAddr"
                                    },
                                    {
                                        "name": "PLTaxRepresentativeName"
                                    },
                                    {
                                        "name": "PLTaxRepresentativeAddr"
                                    },
                                    {
                                        "name": "PLTaxRepresentativeTaxID"
                                    },
                                    {
                                        "name": "PLMarginScheme"
                                    },
                                    {
                                        "name": "PLGoodsOrServiceVATExempt"
                                    },
                                    {
                                        "name": "CCCity"
                                    },
                                    {
                                        "name": "CCState"
                                    },
                                    {
                                        "name": "ExtAOEUserID"
                                    },
                                    {
                                        "name": "ExtAOE"
                                    },
                                    {
                                        "name": "ForeignSysRowID"
                                    },
                                    {
                                        "name": "UD_SysRevID"
                                    },
                                    {
                                        "name": "AddToWatchedJobs_c"
                                    },
                                    {
                                        "name": "CloseDate_c"
                                    },
                                    {
                                        "name": "Division_c"
                                    },
                                    {
                                        "name": "ProjectID_c"
                                    }
                                ]
                            },
                            "data": [
                                {
                                    "0": "1",
                                    "1": "0",
                                    "2": "RBMI",
                                    "3": "4003885",
                                    "4": "6790",
                                    "5": "07505",
                                    "6": "0",
                                    "7": "ccosta",
                                    "8": "22-20407",
                                    "9": "2022-10-04",
                                    "10": "2022-06-24",
                                    "11": "Origin",
                                    "12": "BW",
                                    "13": "N30",
                                    "14": "0.00",
                                    "15": "0",
                                    "16": "0",
                                    "17": "DEFAULT",
                                    "18": "",
                                    "19": "",
                                    "20": "",
                                    "21": "",
                                    "22": "0.000",
                                    "23": "0.000",
                                    "24": "2022-10-04",
                                    "25": "0",
                                    "26": "",
                                    "27": "NULL",
                                    "28": "",
                                    "29": "0.000",
                                    "30": "0",
                                    "31": "1.0000000000",
                                    "32": "USD",
                                    "33": "0",
                                    "34": "",
                                    "35": "",
                                    "36": "",
                                    "37": "0",
                                    "38": "0",
                                    "39": "",
                                    "40": "",
                                    "41": "",
                                    "42": "",
                                    "43": "0",
                                    "44": "0",
                                    "45": "",
                                    "46": "0",
                                    "47": "0",
                                    "48": "0",
                                    "49": "0",
                                    "50": "",
                                    "51": "",
                                    "52": "0",
                                    "53": "0",
                                    "54": "0",
                                    "55": "S",
                                    "56": "0",
                                    "57": "0",
                                    "58": "0",
                                    "59": "0",
                                    "60": "0",
                                    "61": "",
                                    "62": "16542.130",
                                    "63": "0.000",
                                    "64": "0.000",
                                    "65": "16542.130",
                                    "66": "16542.130",
                                    "67": "0.000",
                                    "68": "0.000",
                                    "69": "16542.130",
                                    "70": "",
                                    "71": "",
                                    "72": "6790",
                                    "73": "0",
                                    "74": "0.00",
                                    "75": "0.00",
                                    "76": "100",
                                    "77": "0",
                                    "78": "0",
                                    "79": "0",
                                    "80": "0",
                                    "81": "0.00",
                                    "82": "0.00",
                                    "83": "0.00",
                                    "84": "0",
                                    "85": "0",
                                    "86": "0",
                                    "87": "NULL",
                                    "88": "0",
                                    "89": "NULL",
                                    "90": "0",
                                    "91": "0",
                                    "92": "0",
                                    "93": "0",
                                    "94": "",
                                    "95": "0",
                                    "96": "0.000",
                                    "97": "0",
                                    "98": "0",
                                    "99": "0",
                                    "100": "0.000",
                                    "101": "",
                                    "102": "0",
                                    "103": "",
                                    "104": "0",
                                    "105": "0.000",
                                    "106": "NULL",
                                    "107": "0",
                                    "108": "0",
                                    "109": "0",
                                    "110": "0",
                                    "111": "0",
                                    "112": "",
                                    "113": "",
                                    "114": "",
                                    "115": "",
                                    "116": "",
                                    "117": "",
                                    "118": "",
                                    "119": "",
                                    "120": "0",
                                    "121": "0",
                                    "122": "0",
                                    "123": "0",
                                    "124": "0",
                                    "125": "",
                                    "126": "",
                                    "127": "",
                                    "128": "",
                                    "129": "",
                                    "130": "",
                                    "131": "",
                                    "132": "",
                                    "133": "",
                                    "134": "",
                                    "135": "0",
                                    "136": "ccosta",
                                    "137": "2022-09-22",
                                    "138": "51920",
                                    "139": "2022-09-22 14:25:20.000",
                                    "140": "0",
                                    "141": "0",
                                    "142": "0",
                                    "143": "",
                                    "144": "1",
                                    "145": "0",
                                    "146": "0",
                                    "147": "0",
                                    "148": "0",
                                    "149": "0",
                                    "150": "",
                                    "151": "NULL",
                                    "152": "",
                                    "153": "",
                                    "154": "",
                                    "155": "",
                                    "156": "",
                                    "157": "",
                                    "158": "0",
                                    "159": "",
                                    "160": "0",
                                    "161": "",
                                    "162": "",
                                    "163": "0",
                                    "164": "",
                                    "165": "0",
                                    "166": "",
                                    "167": "",
                                    "168": "1",
                                    "169": "16542.130",
                                    "170": "0.000",
                                    "171": "0.000",
                                    "172": "0.000",
                                    "173": "0.000",
                                    "174": "4",
                                    "175": "4",
                                    "176": "1",
                                    "177": "16542.130",
                                    "178": "0.000",
                                    "179": "0.000",
                                    "180": "0.000",
                                    "181": "0.000",
                                    "182": "0.000",
                                    "183": "0.000",
                                    "184": "0.000",
                                    "185": "0.000",
                                    "186": "4",
                                    "187": "0.000",
                                    "188": "0.000",
                                    "189": "0.000",
                                    "190": "0.000",
                                    "191": "0.000",
                                    "192": "16542.130",
                                    "193": "0.000",
                                    "194": "0.000",
                                    "195": "0.000",
                                    "196": "0.000",
                                    "197": "0.00000",
                                    "198": "0.000",
                                    "199": "0.00000",
                                    "200": "0.000",
                                    "201": "0.000",
                                    "202": "0.000",
                                    "203": "0.000",
                                    "204": "0.000",
                                    "205": "0.000",
                                    "206": "0.000",
                                    "207": "0.000",
                                    "208": "0.000",
                                    "209": "0.000",
                                    "210": "0.000",
                                    "211": "0.000",
                                    "212": "0.000",
                                    "213": "0.000",
                                    "214": "0.000",
                                    "215": "0.000",
                                    "216": "0.000",
                                    "217": "0.000",
                                    "218": "0.000",
                                    "219": "0.00000",
                                    "220": "0.00000",
                                    "221": "0.00000",
                                    "222": "MTHEND",
                                    "223": "0.000",
                                    "224": "0.000",
                                    "225": "0.000",
                                    "226": "0.000",
                                    "227": "0.000",
                                    "228": "0.000",
                                    "229": "0.000",
                                    "230": "0.000",
                                    "231": "0.000",
                                    "232": "0.000",
                                    "233": "0.000",
                                    "234": "0.000",
                                    "235": "0.000",
                                    "236": "16542.130",
                                    "237": "16542.130",
                                    "238": "0.000",
                                    "239": "0.000",
                                    "240": "0.000",
                                    "241": "NULL",
                                    "242": "NULL",
                                    "243": "",
                                    "244": "0",
                                    "245": "",
                                    "246": "",
                                    "247": "",
                                    "248": "",
                                    "249": "",
                                    "250": "",
                                    "251": "",
                                    "252": "",
                                    "253": "",
                                    "254": "",
                                    "255": "",
                                    "256": "0",
                                    "257": "0.000",
                                    "258": "0.000",
                                    "259": "0.000",
                                    "260": "0.000",
                                    "261": "0.000",
                                    "262": "0.000",
                                    "263": "0.000",
                                    "264": "0.000",
                                    "265": "0.000",
                                    "266": "0.000",
                                    "267": "",
                                    "268": "",
                                    "269": "0",
                                    "270": "6790",
                                    "271": "",
                                    "272": "0",
                                    "273": "0",
                                    "274": "0.000",
                                    "275": "0.000",
                                    "276": "0.000",
                                    "277": "0.000",
                                    "278": "0.000",
                                    "279": "0.000",
                                    "280": "0.000",
                                    "281": "0.000",
                                    "282": "0.000",
                                    "283": "0.000",
                                    "284": "0.000",
                                    "285": "0.000",
                                    "286": "0.000",
                                    "287": "0.000",
                                    "288": "0.000",
                                    "289": "",
                                    "290": "",
                                    "291": "0",
                                    "292": "0",
                                    "293": "USD",
                                    "294": "USD",
                                    "295": "",
                                    "296": "",
                                    "297": "",
                                    "298": "NULL",
                                    "299": "NULL",
                                    "300": "0",
                                    "301": "",
                                    "302": "",
                                    "303": "",
                                    "304": "",
                                    "305": "",
                                    "306": "",
                                    "307": "",
                                    "308": "",
                                    "309": "",
                                    "310": "0",
                                    "311": "",
                                    "312": "",
                                    "313": "",
                                    "314": "",
                                    "315": "",
                                    "316": "NULL",
                                    "317": "NULL",
                                    "318": "NULL",
                                    "319": "NULL",
                                    "320": "0.00",
                                    "321": "0.00",
                                    "322": "0",
                                    "323": "0",
                                    "324": "0x000000035FE772FA",
                                    "325": "680918c6-47fb-41e5-ac00-7c6a64b3a12d",
                                    "326": "0",
                                    "327": "",
                                    "328": "0",
                                    "329": "",
                                    "330": "",
                                    "331": "",
                                    "332": "0",
                                    "333": "1",
                                    "334": "0",
                                    "335": "",
                                    "336": "MfgSys",
                                    "337": "0",
                                    "338": "0",
                                    "339": "0",
                                    "340": "",
                                    "341": "0",
                                    "342": "",
                                    "343": "",
                                    "344": "",
                                    "345": "16542.130",
                                    "346": "0.000",
                                    "347": "0.000",
                                    "348": "0",
                                    "349": "0",
                                    "350": "0",
                                    "351": "0",
                                    "352": "0",
                                    "353": "",
                                    "354": "",
                                    "355": "",
                                    "356": "",
                                    "357": "",
                                    "358": "",
                                    "359": "",
                                    "360": "",
                                    "361": "0",
                                    "362": "0",
                                    "363": "",
                                    "364": "",
                                    "365": "",
                                    "366": "",
                                    "367": "680918c6-47fb-41e5-ac00-7c6a64b3a12d",
                                    "368": "0x00000003192F37E0",
                                    "369": "0",
                                    "370": "NULL",
                                    "371": "0",
                                    "372": ""
                                }
                            ]
                        },
                        "text/html": [
                            "<table>",
                            "<tr><th>OpenOrder</th><th>VoidOrder</th><th>Company</th><th>OrderNum</th><th>CustNum</th><th>PONum</th><th>OrderHeld</th><th>EntryPerson</th><th>ShipToNum</th><th>RequestDate</th><th>OrderDate</th><th>FOB</th><th>ShipViaCode</th><th>TermsCode</th><th>DiscountPercent</th><th>PrcConNum</th><th>ShpConNum</th><th>SalesRepList</th><th>OrderComment</th><th>ShipComment</th><th>InvoiceComment</th><th>PickListComment</th><th>DepositBal</th><th>DocDepositBal</th><th>NeedByDate</th><th>CreditOverride</th><th>CreditOverrideUserID</th><th>CreditOverrideDate</th><th>CreditOverrideTime</th><th>CreditOverrideLimit</th><th>SndAlrtShp</th><th>ExchangeRate</th><th>CurrencyCode</th><th>LockRate</th><th>CardMemberName</th><th>CardNumber</th><th>CardType</th><th>ExpirationMonth</th><th>ExpirationYear</th><th>CardID</th><th>CardmemberReference</th><th>AllocPriorityCode</th><th>ReservePriorityCode</th><th>ShipOrderComplete</th><th>WebOrder</th><th>CCApprovalNum</th><th>EDIOrder</th><th>EDIAck</th><th>Linked</th><th>ICPONum</th><th>ExtCompany</th><th>WebEntryPerson</th><th>AckEmailSent</th><th>ApplyOrderBasedDisc</th><th>AutoOrderBasedDisc</th><th>EntryMethod</th><th>HDCaseNum</th><th>CounterSale</th><th>CreateInvoice</th><th>CreatePackingSlip</th><th>LockQty</th><th>ProcessCard</th><th>CCAmount</th><th>CCFreight</th><th>CCTax</th><th>CCTotal</th><th>CCDocAmount</th><th>CCDocFreight</th><th>CCDocTax</th><th>CCDocTotal</th><th>CCStreetAddr</th><th>CCZip</th><th>BTCustNum</th><th>BTConNum</th><th>RepRate4</th><th>RepRate5</th><th>RepSplit1</th><th>RepSplit2</th><th>RepSplit3</th><th>RepSplit4</th><th>RepSplit5</th><th>RepRate1</th><th>RepRate2</th><th>RepRate3</th><th>OutboundSalesDocCtr</th><th>OutboundShipDocsCtr</th><th>DemandContractNum</th><th>DoNotShipBeforeDate</th><th>ResDelivery</th><th>DoNotShipAfterDate</th><th>SatDelivery</th><th>SatPickup</th><th>Hazmat</th><th>DocOnly</th><th>RefNotes</th><th>ApplyChrg</th><th>ChrgAmount</th><th>COD</th><th>CODFreight</th><th>CODCheck</th><th>CODAmount</th><th>GroundType</th><th>NotifyFlag</th><th>NotifyEMail</th><th>DeclaredIns</th><th>DeclaredAmt</th><th>CancelAfterDate</th><th>DemandRejected</th><th>OverrideCarrier</th><th>OverrideService</th><th>CreditCardOrder</th><th>DemandHeadSeq</th><th>PayFlag</th><th>PayAccount</th><th>PayBTAddress1</th><th>PayBTAddress2</th><th>PayBTCity</th><th>PayBTState</th><th>PayBTZip</th><th>PayBTCountry</th><th>DropShip</th><th>CommercialInvoice</th><th>ShipExprtDeclartn</th><th>CertOfOrigin</th><th>LetterOfInstr</th><th>FFID</th><th>FFAddress1</th><th>FFAddress2</th><th>FFCity</th><th>FFState</th><th>FFZip</th><th>FFCountry</th><th>FFContact</th><th>FFCompName</th><th>FFPhoneNum</th><th>IntrntlShip</th><th>ChangedBy</th><th>ChangeDate</th><th>ChangeTime</th><th>ChangeDateTime</th><th>AutoPrintReady</th><th>EDIReady</th><th>IndividualPackIDs</th><th>FFAddress3</th><th>DeliveryConf</th><th>AddlHdlgFlag</th><th>NonStdPkg</th><th>ServSignature</th><th>ServAlert</th><th>ServHomeDel</th><th>DeliveryType</th><th>ServDeliveryDate</th><th>ServInstruct</th><th>ServRef1</th><th>ServRef2</th><th>ServRef3</th><th>ServRef4</th><th>ServRef5</th><th>FFCountryNum</th><th>ServPhone</th><th>ServRelease</th><th>ServAuthNum</th><th>PayBTAddress3</th><th>PayBTCountryNum</th><th>PayBTPhone</th><th>UPSQuantumView</th><th>UPSQVShipFromName</th><th>UPSQVMemo</th><th>ReadyToCalc</th><th>TotalCharges</th><th>TotalMisc</th><th>TotalDiscount</th><th>TotalComm</th><th>TotalAdvBill</th><th>TotalLines</th><th>TotalReleases</th><th>TotalRelDates</th><th>DocTotalCharges</th><th>DocTotalMisc</th><th>DocTotalDiscount</th><th>DocTotalComm</th><th>TotalTax</th><th>DocTotalTax</th><th>DocTotalAdvBill</th><th>TotalShipped</th><th>TotalInvoiced</th><th>TotalCommLines</th><th>SRCommAmt1</th><th>SRCommAmt2</th><th>SRCommAmt3</th><th>SRCommAmt4</th><th>SRCommAmt5</th><th>SRCommableAmt1</th><th>SRCommableAmt2</th><th>SRCommableAmt3</th><th>SRCommableAmt4</th><th>SRCommableAmt5</th><th>Rounding</th><th>Rpt1DepositBal</th><th>DocRounding</th><th>Rpt2DepositBal</th><th>Rpt3DepositBal</th><th>Rpt1TotalCharges</th><th>Rpt2TotalCharges</th><th>Rpt3TotalCharges</th><th>Rpt1TotalAdvBill</th><th>Rpt2TotalAdvBill</th><th>Rpt3TotalAdvBill</th><th>Rpt1TotalMisc</th><th>Rpt2TotalMisc</th><th>Rpt3TotalMisc</th><th>Rpt1TotalDiscount</th><th>Rpt2TotalDiscount</th><th>Rpt3TotalDiscount</th><th>Rpt1TotalComm</th><th>Rpt2TotalComm</th><th>Rpt3TotalComm</th><th>Rpt1TotalTax</th><th>Rpt2TotalTax</th><th>Rpt1Rounding</th><th>Rpt2Rounding</th><th>Rpt3Rounding</th><th>RateGrpCode</th><th>Rpt3TotalTax</th><th>Rpt1CCAmount</th><th>Rpt2CCAmount</th><th>Rpt3CCAmount</th><th>Rpt1CCFreight</th><th>Rpt2CCFreight</th><th>Rpt3CCFreight</th><th>Rpt1CCTax</th><th>Rpt2CCTax</th><th>Rpt3CCTax</th><th>Rpt1CCTotal</th><th>Rpt2CCTotal</th><th>Rpt3CCTotal</th><th>OrderAmt</th><th>DocOrderAmt</th><th>Rpt1OrderAmt</th><th>Rpt2OrderAmt</th><th>Rpt3OrderAmt</th><th>TaxPoint</th><th>TaxRateDate</th><th>TaxRegionCode</th><th>UseOTS</th><th>OTSName</th><th>OTSAddress1</th><th>OTSAddress2</th><th>OTSAddress3</th><th>OTSCity</th><th>OTSState</th><th>OTSZIP</th><th>OTSResaleID</th><th>OTSContact</th><th>OTSFaxNum</th><th>OTSPhoneNum</th><th>OTSCountryNum</th><th>TotalWHTax</th><th>DocTotalWHTax</th><th>Rpt1TotalWHTax</th><th>Rpt2TotalWHTax</th><th>Rpt3TotalWHTax</th><th>TotalSATax</th><th>DocTotalSATax</th><th>Rpt1TotalSATax</th><th>Rpt2TotalSATax</th><th>Rpt3TotalSATax</th><th>OTSSaveAs</th><th>OTSSaveCustID</th><th>OTSCustSaved</th><th>ShipToCustNum</th><th>OrderStatus</th><th>HoldSetByDemand</th><th>InPrice</th><th>InTotalCharges</th><th>InTotalMisc</th><th>InTotalDiscount</th><th>DocInTotalCharges</th><th>DocInTotalMisc</th><th>DocInTotalDiscount</th><th>Rpt1InTotalCharges</th><th>Rpt2InTotalCharges</th><th>Rpt3InTotalCharges</th><th>Rpt1InTotalMisc</th><th>Rpt2InTotalMisc</th><th>Rpt3InTotalMisc</th><th>Rpt1InTotalDiscount</th><th>Rpt2InTotalDiscount</th><th>Rpt3InTotalDiscount</th><th>ARLOCID</th><th>OurBank</th><th>ERSOrder</th><th>LOCHold</th><th>PSCurrCode</th><th>InvCurrCode</th><th>LegalNumber</th><th>TranDocTypeID</th><th>XRefContractNum</th><th>XRefContractDate</th><th>DemandProcessDate</th><th>DemandProcessTime</th><th>LastScheduleNumber</th><th>LastTCtrlNum</th><th>LastBatchNum</th><th>ECCOrderNum</th><th>ECCPONum</th><th>WIOrder</th><th>WIApplication</th><th>WIUsername</th><th>WIUserID</th><th>WICreditCardorder</th><th>OrderCSR</th><th>UserChar1</th><th>UserChar2</th><th>UserChar3</th><th>UserChar4</th><th>UserDate1</th><th>UserDate2</th><th>UserDate3</th><th>UserDate4</th><th>UserDecimal1</th><th>UserDecimal2</th><th>UserInteger1</th><th>UserInteger2</th><th>SysRevID</th><th>SysRowID</th><th>IsCSRSet</th><th>ECCPaymentMethod</th><th>AGUseGoodDefaultMark</th><th>OTSShipToNum</th><th>ProFormaInvComment</th><th>ccToken</th><th>InvcOrderCmp</th><th>ReprintSOAck</th><th>CounterSOAck</th><th>DispatchReason</th><th>Plant</th><th>ReadyToFulfill</th><th>ShipByTime</th><th>TWFiscalYear</th><th>TWFiscalYearSuffix</th><th>TWFiscalPeriod</th><th>TWGUIGroup</th><th>TWGUIRegNumSeller</th><th>TWGUIRegNumBuyer</th><th>OrderOpenCredit</th><th>ClosedNotShipped</th><th>InvCurrDepositBal</th><th>PLArticle106c</th><th>PLInvIssuedByTaxpayer</th><th>PLInvIssuedBySecondTaxpayer</th><th>PLTouristService</th><th>PLSecondHandOrArts</th><th>PLLegalArticleAct</th><th>PLLegalArticleWEDirective</th><th>PLLegalArticleOther</th><th>PLEnforcementAuthName</th><th>PLEnforcementAuthAddr</th><th>PLTaxRepresentativeName</th><th>PLTaxRepresentativeAddr</th><th>PLTaxRepresentativeTaxID</th><th>PLMarginScheme</th><th>PLGoodsOrServiceVATExempt</th><th>CCCity</th><th>CCState</th><th>ExtAOEUserID</th><th>ExtAOE</th><th>ForeignSysRowID</th><th>UD_SysRevID</th><th>AddToWatchedJobs_c</th><th>CloseDate_c</th><th>Division_c</th><th>ProjectID_c</th></tr>",
                            "<tr><td>1</td><td>0</td><td>RBMI</td><td>4003885</td><td>6790</td><td>07505</td><td>0</td><td>ccosta</td><td>22-20407</td><td>2022-10-04</td><td>2022-06-24</td><td>Origin</td><td>BW</td><td>N30</td><td>0.00</td><td>0</td><td>0</td><td>DEFAULT</td><td></td><td></td><td></td><td></td><td>0.000</td><td>0.000</td><td>2022-10-04</td><td>0</td><td></td><td>NULL</td><td></td><td>0.000</td><td>0</td><td>1.0000000000</td><td>USD</td><td>0</td><td></td><td></td><td></td><td>0</td><td>0</td><td></td><td></td><td></td><td></td><td>0</td><td>0</td><td></td><td>0</td><td>0</td><td>0</td><td>0</td><td></td><td></td><td>0</td><td>0</td><td>0</td><td>S</td><td>0</td><td>0</td><td>0</td><td>0</td><td>0</td><td></td><td>16542.130</td><td>0.000</td><td>0.000</td><td>16542.130</td><td>16542.130</td><td>0.000</td><td>0.000</td><td>16542.130</td><td></td><td></td><td>6790</td><td>0</td><td>0.00</td><td>0.00</td><td>100</td><td>0</td><td>0</td><td>0</td><td>0</td><td>0.00</td><td>0.00</td><td>0.00</td><td>0</td><td>0</td><td>0</td><td>NULL</td><td>0</td><td>NULL</td><td>0</td><td>0</td><td>0</td><td>0</td><td></td><td>0</td><td>0.000</td><td>0</td><td>0</td><td>0</td><td>0.000</td><td></td><td>0</td><td></td><td>0</td><td>0.000</td><td>NULL</td><td>0</td><td>0</td><td>0</td><td>0</td><td>0</td><td></td><td></td><td></td><td></td><td></td><td></td><td></td><td></td><td>0</td><td>0</td><td>0</td><td>0</td><td>0</td><td></td><td></td><td></td><td></td><td></td><td></td><td></td><td></td><td></td><td></td><td>0</td><td>ccosta</td><td>2022-09-22</td><td>51920</td><td>2022-09-22 14:25:20.000</td><td>0</td><td>0</td><td>0</td><td></td><td>1</td><td>0</td><td>0</td><td>0</td><td>0</td><td>0</td><td></td><td>NULL</td><td></td><td></td><td></td><td></td><td></td><td></td><td>0</td><td></td><td>0</td><td></td><td></td><td>0</td><td></td><td>0</td><td></td><td></td><td>1</td><td>16542.130</td><td>0.000</td><td>0.000</td><td>0.000</td><td>0.000</td><td>4</td><td>4</td><td>1</td><td>16542.130</td><td>0.000</td><td>0.000</td><td>0.000</td><td>0.000</td><td>0.000</td><td>0.000</td><td>0.000</td><td>0.000</td><td>4</td><td>0.000</td><td>0.000</td><td>0.000</td><td>0.000</td><td>0.000</td><td>16542.130</td><td>0.000</td><td>0.000</td><td>0.000</td><td>0.000</td><td>0.00000</td><td>0.000</td><td>0.00000</td><td>0.000</td><td>0.000</td><td>0.000</td><td>0.000</td><td>0.000</td><td>0.000</td><td>0.000</td><td>0.000</td><td>0.000</td><td>0.000</td><td>0.000</td><td>0.000</td><td>0.000</td><td>0.000</td><td>0.000</td><td>0.000</td><td>0.000</td><td>0.000</td><td>0.000</td><td>0.00000</td><td>0.00000</td><td>0.00000</td><td>MTHEND</td><td>0.000</td><td>0.000</td><td>0.000</td><td>0.000</td><td>0.000</td><td>0.000</td><td>0.000</td><td>0.000</td><td>0.000</td><td>0.000</td><td>0.000</td><td>0.000</td><td>0.000</td><td>16542.130</td><td>16542.130</td><td>0.000</td><td>0.000</td><td>0.000</td><td>NULL</td><td>NULL</td><td></td><td>0</td><td></td><td></td><td></td><td></td><td></td><td></td><td></td><td></td><td></td><td></td><td></td><td>0</td><td>0.000</td><td>0.000</td><td>0.000</td><td>0.000</td><td>0.000</td><td>0.000</td><td>0.000</td><td>0.000</td><td>0.000</td><td>0.000</td><td></td><td></td><td>0</td><td>6790</td><td></td><td>0</td><td>0</td><td>0.000</td><td>0.000</td><td>0.000</td><td>0.000</td><td>0.000</td><td>0.000</td><td>0.000</td><td>0.000</td><td>0.000</td><td>0.000</td><td>0.000</td><td>0.000</td><td>0.000</td><td>0.000</td><td>0.000</td><td></td><td></td><td>0</td><td>0</td><td>USD</td><td>USD</td><td></td><td></td><td></td><td>NULL</td><td>NULL</td><td>0</td><td></td><td></td><td></td><td></td><td></td><td></td><td></td><td></td><td></td><td>0</td><td></td><td></td><td></td><td></td><td></td><td>NULL</td><td>NULL</td><td>NULL</td><td>NULL</td><td>0.00</td><td>0.00</td><td>0</td><td>0</td><td>0x000000035FE772FA</td><td>680918c6-47fb-41e5-ac00-7c6a64b3a12d</td><td>0</td><td></td><td>0</td><td></td><td></td><td></td><td>0</td><td>1</td><td>0</td><td></td><td>MfgSys</td><td>0</td><td>0</td><td>0</td><td></td><td>0</td><td></td><td></td><td></td><td>16542.130</td><td>0.000</td><td>0.000</td><td>0</td><td>0</td><td>0</td><td>0</td><td>0</td><td></td><td></td><td></td><td></td><td></td><td></td><td></td><td></td><td>0</td><td>0</td><td></td><td></td><td></td><td></td><td>680918c6-47fb-41e5-ac00-7c6a64b3a12d</td><td>0x00000003192F37E0</td><td>0</td><td>NULL</td><td>0</td><td></td></tr>",
                            "</table>"
                        ]
                    }
                }
            ],
            "execution_count": 4
        },
        {
            "cell_type": "code",
            "source": [
                "Select *\r\n",
                "From etl.vwOrderHead\r\n",
                "Where OrderNum = 4003885\r\n",
                "and company = 'solar'"
            ],
            "metadata": {
                "language": "sql",
                "azdata_cell_guid": "ace88171-b550-4dc3-930c-e867481e224f",
                "tags": []
            },
            "outputs": [
                {
                    "output_type": "display_data",
                    "data": {
                        "text/html": "(0 rows affected)"
                    },
                    "metadata": {}
                },
                {
                    "output_type": "display_data",
                    "data": {
                        "text/html": "Total execution time: 00:00:00.120"
                    },
                    "metadata": {}
                },
                {
                    "output_type": "execute_result",
                    "metadata": {},
                    "execution_count": 2,
                    "data": {
                        "application/vnd.dataresource+json": {
                            "schema": {
                                "fields": [
                                    {
                                        "name": "OpenOrder"
                                    },
                                    {
                                        "name": "VoidOrder"
                                    },
                                    {
                                        "name": "Company"
                                    },
                                    {
                                        "name": "OrderNum"
                                    },
                                    {
                                        "name": "CustNum"
                                    },
                                    {
                                        "name": "PONum"
                                    },
                                    {
                                        "name": "OrderHeld"
                                    },
                                    {
                                        "name": "EntryPerson"
                                    },
                                    {
                                        "name": "ShipToNum"
                                    },
                                    {
                                        "name": "RequestDate"
                                    },
                                    {
                                        "name": "OrderDate"
                                    },
                                    {
                                        "name": "FOB"
                                    },
                                    {
                                        "name": "ShipViaCode"
                                    },
                                    {
                                        "name": "TermsCode"
                                    },
                                    {
                                        "name": "DiscountPercent"
                                    },
                                    {
                                        "name": "PrcConNum"
                                    },
                                    {
                                        "name": "ShpConNum"
                                    },
                                    {
                                        "name": "SalesRepList"
                                    },
                                    {
                                        "name": "OrderComment"
                                    },
                                    {
                                        "name": "ShipComment"
                                    },
                                    {
                                        "name": "InvoiceComment"
                                    },
                                    {
                                        "name": "PickListComment"
                                    },
                                    {
                                        "name": "DepositBal"
                                    },
                                    {
                                        "name": "DocDepositBal"
                                    },
                                    {
                                        "name": "NeedByDate"
                                    },
                                    {
                                        "name": "CreditOverride"
                                    },
                                    {
                                        "name": "CreditOverrideUserID"
                                    },
                                    {
                                        "name": "CreditOverrideDate"
                                    },
                                    {
                                        "name": "CreditOverrideTime"
                                    },
                                    {
                                        "name": "CreditOverrideLimit"
                                    },
                                    {
                                        "name": "SndAlrtShp"
                                    },
                                    {
                                        "name": "ExchangeRate"
                                    },
                                    {
                                        "name": "CurrencyCode"
                                    },
                                    {
                                        "name": "LockRate"
                                    },
                                    {
                                        "name": "CardMemberName"
                                    },
                                    {
                                        "name": "CardNumber"
                                    },
                                    {
                                        "name": "CardType"
                                    },
                                    {
                                        "name": "ExpirationMonth"
                                    },
                                    {
                                        "name": "ExpirationYear"
                                    },
                                    {
                                        "name": "CardID"
                                    },
                                    {
                                        "name": "CardmemberReference"
                                    },
                                    {
                                        "name": "AllocPriorityCode"
                                    },
                                    {
                                        "name": "ReservePriorityCode"
                                    },
                                    {
                                        "name": "ShipOrderComplete"
                                    },
                                    {
                                        "name": "WebOrder"
                                    },
                                    {
                                        "name": "CCApprovalNum"
                                    },
                                    {
                                        "name": "EDIOrder"
                                    },
                                    {
                                        "name": "EDIAck"
                                    },
                                    {
                                        "name": "Linked"
                                    },
                                    {
                                        "name": "ICPONum"
                                    },
                                    {
                                        "name": "ExtCompany"
                                    },
                                    {
                                        "name": "WebEntryPerson"
                                    },
                                    {
                                        "name": "AckEmailSent"
                                    },
                                    {
                                        "name": "ApplyOrderBasedDisc"
                                    },
                                    {
                                        "name": "AutoOrderBasedDisc"
                                    },
                                    {
                                        "name": "EntryMethod"
                                    },
                                    {
                                        "name": "HDCaseNum"
                                    },
                                    {
                                        "name": "CounterSale"
                                    },
                                    {
                                        "name": "CreateInvoice"
                                    },
                                    {
                                        "name": "CreatePackingSlip"
                                    },
                                    {
                                        "name": "LockQty"
                                    },
                                    {
                                        "name": "ProcessCard"
                                    },
                                    {
                                        "name": "CCAmount"
                                    },
                                    {
                                        "name": "CCFreight"
                                    },
                                    {
                                        "name": "CCTax"
                                    },
                                    {
                                        "name": "CCTotal"
                                    },
                                    {
                                        "name": "CCDocAmount"
                                    },
                                    {
                                        "name": "CCDocFreight"
                                    },
                                    {
                                        "name": "CCDocTax"
                                    },
                                    {
                                        "name": "CCDocTotal"
                                    },
                                    {
                                        "name": "CCStreetAddr"
                                    },
                                    {
                                        "name": "CCZip"
                                    },
                                    {
                                        "name": "BTCustNum"
                                    },
                                    {
                                        "name": "BTConNum"
                                    },
                                    {
                                        "name": "RepRate4"
                                    },
                                    {
                                        "name": "RepRate5"
                                    },
                                    {
                                        "name": "RepSplit1"
                                    },
                                    {
                                        "name": "RepSplit2"
                                    },
                                    {
                                        "name": "RepSplit3"
                                    },
                                    {
                                        "name": "RepSplit4"
                                    },
                                    {
                                        "name": "RepSplit5"
                                    },
                                    {
                                        "name": "RepRate1"
                                    },
                                    {
                                        "name": "RepRate2"
                                    },
                                    {
                                        "name": "RepRate3"
                                    },
                                    {
                                        "name": "OutboundSalesDocCtr"
                                    },
                                    {
                                        "name": "OutboundShipDocsCtr"
                                    },
                                    {
                                        "name": "DemandContractNum"
                                    },
                                    {
                                        "name": "DoNotShipBeforeDate"
                                    },
                                    {
                                        "name": "ResDelivery"
                                    },
                                    {
                                        "name": "DoNotShipAfterDate"
                                    },
                                    {
                                        "name": "SatDelivery"
                                    },
                                    {
                                        "name": "SatPickup"
                                    },
                                    {
                                        "name": "Hazmat"
                                    },
                                    {
                                        "name": "DocOnly"
                                    },
                                    {
                                        "name": "RefNotes"
                                    },
                                    {
                                        "name": "ApplyChrg"
                                    },
                                    {
                                        "name": "ChrgAmount"
                                    },
                                    {
                                        "name": "COD"
                                    },
                                    {
                                        "name": "CODFreight"
                                    },
                                    {
                                        "name": "CODCheck"
                                    },
                                    {
                                        "name": "CODAmount"
                                    },
                                    {
                                        "name": "GroundType"
                                    },
                                    {
                                        "name": "NotifyFlag"
                                    },
                                    {
                                        "name": "NotifyEMail"
                                    },
                                    {
                                        "name": "DeclaredIns"
                                    },
                                    {
                                        "name": "DeclaredAmt"
                                    },
                                    {
                                        "name": "CancelAfterDate"
                                    },
                                    {
                                        "name": "DemandRejected"
                                    },
                                    {
                                        "name": "OverrideCarrier"
                                    },
                                    {
                                        "name": "OverrideService"
                                    },
                                    {
                                        "name": "CreditCardOrder"
                                    },
                                    {
                                        "name": "DemandHeadSeq"
                                    },
                                    {
                                        "name": "PayFlag"
                                    },
                                    {
                                        "name": "PayAccount"
                                    },
                                    {
                                        "name": "PayBTAddress1"
                                    },
                                    {
                                        "name": "PayBTAddress2"
                                    },
                                    {
                                        "name": "PayBTCity"
                                    },
                                    {
                                        "name": "PayBTState"
                                    },
                                    {
                                        "name": "PayBTZip"
                                    },
                                    {
                                        "name": "PayBTCountry"
                                    },
                                    {
                                        "name": "DropShip"
                                    },
                                    {
                                        "name": "CommercialInvoice"
                                    },
                                    {
                                        "name": "ShipExprtDeclartn"
                                    },
                                    {
                                        "name": "CertOfOrigin"
                                    },
                                    {
                                        "name": "LetterOfInstr"
                                    },
                                    {
                                        "name": "FFID"
                                    },
                                    {
                                        "name": "FFAddress1"
                                    },
                                    {
                                        "name": "FFAddress2"
                                    },
                                    {
                                        "name": "FFCity"
                                    },
                                    {
                                        "name": "FFState"
                                    },
                                    {
                                        "name": "FFZip"
                                    },
                                    {
                                        "name": "FFCountry"
                                    },
                                    {
                                        "name": "FFContact"
                                    },
                                    {
                                        "name": "FFCompName"
                                    },
                                    {
                                        "name": "FFPhoneNum"
                                    },
                                    {
                                        "name": "IntrntlShip"
                                    },
                                    {
                                        "name": "ChangedBy"
                                    },
                                    {
                                        "name": "ChangeDate"
                                    },
                                    {
                                        "name": "ChangeTime"
                                    },
                                    {
                                        "name": "ChangeDateTime"
                                    },
                                    {
                                        "name": "AutoPrintReady"
                                    },
                                    {
                                        "name": "EDIReady"
                                    },
                                    {
                                        "name": "IndividualPackIDs"
                                    },
                                    {
                                        "name": "FFAddress3"
                                    },
                                    {
                                        "name": "DeliveryConf"
                                    },
                                    {
                                        "name": "AddlHdlgFlag"
                                    },
                                    {
                                        "name": "NonStdPkg"
                                    },
                                    {
                                        "name": "ServSignature"
                                    },
                                    {
                                        "name": "ServAlert"
                                    },
                                    {
                                        "name": "ServHomeDel"
                                    },
                                    {
                                        "name": "DeliveryType"
                                    },
                                    {
                                        "name": "ServDeliveryDate"
                                    },
                                    {
                                        "name": "ServInstruct"
                                    },
                                    {
                                        "name": "ServRef1"
                                    },
                                    {
                                        "name": "ServRef2"
                                    },
                                    {
                                        "name": "ServRef3"
                                    },
                                    {
                                        "name": "ServRef4"
                                    },
                                    {
                                        "name": "ServRef5"
                                    },
                                    {
                                        "name": "FFCountryNum"
                                    },
                                    {
                                        "name": "ServPhone"
                                    },
                                    {
                                        "name": "ServRelease"
                                    },
                                    {
                                        "name": "ServAuthNum"
                                    },
                                    {
                                        "name": "PayBTAddress3"
                                    },
                                    {
                                        "name": "PayBTCountryNum"
                                    },
                                    {
                                        "name": "PayBTPhone"
                                    },
                                    {
                                        "name": "UPSQuantumView"
                                    },
                                    {
                                        "name": "UPSQVShipFromName"
                                    },
                                    {
                                        "name": "UPSQVMemo"
                                    },
                                    {
                                        "name": "ReadyToCalc"
                                    },
                                    {
                                        "name": "TotalCharges"
                                    },
                                    {
                                        "name": "TotalMisc"
                                    },
                                    {
                                        "name": "TotalDiscount"
                                    },
                                    {
                                        "name": "TotalComm"
                                    },
                                    {
                                        "name": "TotalAdvBill"
                                    },
                                    {
                                        "name": "TotalLines"
                                    },
                                    {
                                        "name": "TotalReleases"
                                    },
                                    {
                                        "name": "TotalRelDates"
                                    },
                                    {
                                        "name": "DocTotalCharges"
                                    },
                                    {
                                        "name": "DocTotalMisc"
                                    },
                                    {
                                        "name": "DocTotalDiscount"
                                    },
                                    {
                                        "name": "DocTotalComm"
                                    },
                                    {
                                        "name": "TotalTax"
                                    },
                                    {
                                        "name": "DocTotalTax"
                                    },
                                    {
                                        "name": "DocTotalAdvBill"
                                    },
                                    {
                                        "name": "TotalShipped"
                                    },
                                    {
                                        "name": "TotalInvoiced"
                                    },
                                    {
                                        "name": "TotalCommLines"
                                    },
                                    {
                                        "name": "SRCommAmt1"
                                    },
                                    {
                                        "name": "SRCommAmt2"
                                    },
                                    {
                                        "name": "SRCommAmt3"
                                    },
                                    {
                                        "name": "SRCommAmt4"
                                    },
                                    {
                                        "name": "SRCommAmt5"
                                    },
                                    {
                                        "name": "SRCommableAmt1"
                                    },
                                    {
                                        "name": "SRCommableAmt2"
                                    },
                                    {
                                        "name": "SRCommableAmt3"
                                    },
                                    {
                                        "name": "SRCommableAmt4"
                                    },
                                    {
                                        "name": "SRCommableAmt5"
                                    },
                                    {
                                        "name": "Rounding"
                                    },
                                    {
                                        "name": "Rpt1DepositBal"
                                    },
                                    {
                                        "name": "DocRounding"
                                    },
                                    {
                                        "name": "Rpt2DepositBal"
                                    },
                                    {
                                        "name": "Rpt3DepositBal"
                                    },
                                    {
                                        "name": "Rpt1TotalCharges"
                                    },
                                    {
                                        "name": "Rpt2TotalCharges"
                                    },
                                    {
                                        "name": "Rpt3TotalCharges"
                                    },
                                    {
                                        "name": "Rpt1TotalAdvBill"
                                    },
                                    {
                                        "name": "Rpt2TotalAdvBill"
                                    },
                                    {
                                        "name": "Rpt3TotalAdvBill"
                                    },
                                    {
                                        "name": "Rpt1TotalMisc"
                                    },
                                    {
                                        "name": "Rpt2TotalMisc"
                                    },
                                    {
                                        "name": "Rpt3TotalMisc"
                                    },
                                    {
                                        "name": "Rpt1TotalDiscount"
                                    },
                                    {
                                        "name": "Rpt2TotalDiscount"
                                    },
                                    {
                                        "name": "Rpt3TotalDiscount"
                                    },
                                    {
                                        "name": "Rpt1TotalComm"
                                    },
                                    {
                                        "name": "Rpt2TotalComm"
                                    },
                                    {
                                        "name": "Rpt3TotalComm"
                                    },
                                    {
                                        "name": "Rpt1TotalTax"
                                    },
                                    {
                                        "name": "Rpt2TotalTax"
                                    },
                                    {
                                        "name": "Rpt1Rounding"
                                    },
                                    {
                                        "name": "Rpt2Rounding"
                                    },
                                    {
                                        "name": "Rpt3Rounding"
                                    },
                                    {
                                        "name": "RateGrpCode"
                                    },
                                    {
                                        "name": "Rpt3TotalTax"
                                    },
                                    {
                                        "name": "Rpt1CCAmount"
                                    },
                                    {
                                        "name": "Rpt2CCAmount"
                                    },
                                    {
                                        "name": "Rpt3CCAmount"
                                    },
                                    {
                                        "name": "Rpt1CCFreight"
                                    },
                                    {
                                        "name": "Rpt2CCFreight"
                                    },
                                    {
                                        "name": "Rpt3CCFreight"
                                    },
                                    {
                                        "name": "Rpt1CCTax"
                                    },
                                    {
                                        "name": "Rpt2CCTax"
                                    },
                                    {
                                        "name": "Rpt3CCTax"
                                    },
                                    {
                                        "name": "Rpt1CCTotal"
                                    },
                                    {
                                        "name": "Rpt2CCTotal"
                                    },
                                    {
                                        "name": "Rpt3CCTotal"
                                    },
                                    {
                                        "name": "OrderAmt"
                                    },
                                    {
                                        "name": "DocOrderAmt"
                                    },
                                    {
                                        "name": "Rpt1OrderAmt"
                                    },
                                    {
                                        "name": "Rpt2OrderAmt"
                                    },
                                    {
                                        "name": "Rpt3OrderAmt"
                                    },
                                    {
                                        "name": "TaxPoint"
                                    },
                                    {
                                        "name": "TaxRateDate"
                                    },
                                    {
                                        "name": "TaxRegionCode"
                                    },
                                    {
                                        "name": "UseOTS"
                                    },
                                    {
                                        "name": "OTSName"
                                    },
                                    {
                                        "name": "OTSAddress1"
                                    },
                                    {
                                        "name": "OTSAddress2"
                                    },
                                    {
                                        "name": "OTSAddress3"
                                    },
                                    {
                                        "name": "OTSCity"
                                    },
                                    {
                                        "name": "OTSState"
                                    },
                                    {
                                        "name": "OTSZIP"
                                    },
                                    {
                                        "name": "OTSResaleID"
                                    },
                                    {
                                        "name": "OTSContact"
                                    },
                                    {
                                        "name": "OTSFaxNum"
                                    },
                                    {
                                        "name": "OTSPhoneNum"
                                    },
                                    {
                                        "name": "OTSCountryNum"
                                    },
                                    {
                                        "name": "TotalWHTax"
                                    },
                                    {
                                        "name": "DocTotalWHTax"
                                    },
                                    {
                                        "name": "Rpt1TotalWHTax"
                                    },
                                    {
                                        "name": "Rpt2TotalWHTax"
                                    },
                                    {
                                        "name": "Rpt3TotalWHTax"
                                    },
                                    {
                                        "name": "TotalSATax"
                                    },
                                    {
                                        "name": "DocTotalSATax"
                                    },
                                    {
                                        "name": "Rpt1TotalSATax"
                                    },
                                    {
                                        "name": "Rpt2TotalSATax"
                                    },
                                    {
                                        "name": "Rpt3TotalSATax"
                                    },
                                    {
                                        "name": "OTSSaveAs"
                                    },
                                    {
                                        "name": "OTSSaveCustID"
                                    },
                                    {
                                        "name": "OTSCustSaved"
                                    },
                                    {
                                        "name": "ShipToCustNum"
                                    },
                                    {
                                        "name": "OrderStatus"
                                    },
                                    {
                                        "name": "HoldSetByDemand"
                                    },
                                    {
                                        "name": "InPrice"
                                    },
                                    {
                                        "name": "InTotalCharges"
                                    },
                                    {
                                        "name": "InTotalMisc"
                                    },
                                    {
                                        "name": "InTotalDiscount"
                                    },
                                    {
                                        "name": "DocInTotalCharges"
                                    },
                                    {
                                        "name": "DocInTotalMisc"
                                    },
                                    {
                                        "name": "DocInTotalDiscount"
                                    },
                                    {
                                        "name": "Rpt1InTotalCharges"
                                    },
                                    {
                                        "name": "Rpt2InTotalCharges"
                                    },
                                    {
                                        "name": "Rpt3InTotalCharges"
                                    },
                                    {
                                        "name": "Rpt1InTotalMisc"
                                    },
                                    {
                                        "name": "Rpt2InTotalMisc"
                                    },
                                    {
                                        "name": "Rpt3InTotalMisc"
                                    },
                                    {
                                        "name": "Rpt1InTotalDiscount"
                                    },
                                    {
                                        "name": "Rpt2InTotalDiscount"
                                    },
                                    {
                                        "name": "Rpt3InTotalDiscount"
                                    },
                                    {
                                        "name": "ARLOCID"
                                    },
                                    {
                                        "name": "OurBank"
                                    },
                                    {
                                        "name": "ERSOrder"
                                    },
                                    {
                                        "name": "LOCHold"
                                    },
                                    {
                                        "name": "PSCurrCode"
                                    },
                                    {
                                        "name": "InvCurrCode"
                                    },
                                    {
                                        "name": "LegalNumber"
                                    },
                                    {
                                        "name": "TranDocTypeID"
                                    },
                                    {
                                        "name": "XRefContractNum"
                                    },
                                    {
                                        "name": "XRefContractDate"
                                    },
                                    {
                                        "name": "DemandProcessDate"
                                    },
                                    {
                                        "name": "DemandProcessTime"
                                    },
                                    {
                                        "name": "LastScheduleNumber"
                                    },
                                    {
                                        "name": "LastTCtrlNum"
                                    },
                                    {
                                        "name": "LastBatchNum"
                                    },
                                    {
                                        "name": "ECCOrderNum"
                                    },
                                    {
                                        "name": "ECCPONum"
                                    },
                                    {
                                        "name": "WIOrder"
                                    },
                                    {
                                        "name": "WIApplication"
                                    },
                                    {
                                        "name": "WIUsername"
                                    },
                                    {
                                        "name": "WIUserID"
                                    },
                                    {
                                        "name": "WICreditCardorder"
                                    },
                                    {
                                        "name": "OrderCSR"
                                    },
                                    {
                                        "name": "UserChar1"
                                    },
                                    {
                                        "name": "UserChar2"
                                    },
                                    {
                                        "name": "UserChar3"
                                    },
                                    {
                                        "name": "UserChar4"
                                    },
                                    {
                                        "name": "UserDate1"
                                    },
                                    {
                                        "name": "UserDate2"
                                    },
                                    {
                                        "name": "UserDate3"
                                    },
                                    {
                                        "name": "UserDate4"
                                    },
                                    {
                                        "name": "UserDecimal1"
                                    },
                                    {
                                        "name": "UserDecimal2"
                                    },
                                    {
                                        "name": "UserInteger1"
                                    },
                                    {
                                        "name": "UserInteger2"
                                    },
                                    {
                                        "name": "SysRevID"
                                    },
                                    {
                                        "name": "SysRowID"
                                    },
                                    {
                                        "name": "IsCSRSet"
                                    },
                                    {
                                        "name": "ECCPaymentMethod"
                                    },
                                    {
                                        "name": "AGUseGoodDefaultMark"
                                    },
                                    {
                                        "name": "OTSShipToNum"
                                    },
                                    {
                                        "name": "ProFormaInvComment"
                                    },
                                    {
                                        "name": "ccToken"
                                    },
                                    {
                                        "name": "InvcOrderCmp"
                                    },
                                    {
                                        "name": "ReprintSOAck"
                                    },
                                    {
                                        "name": "CounterSOAck"
                                    },
                                    {
                                        "name": "DispatchReason"
                                    },
                                    {
                                        "name": "Plant"
                                    },
                                    {
                                        "name": "ReadyToFulfill"
                                    },
                                    {
                                        "name": "ShipByTime"
                                    },
                                    {
                                        "name": "TWFiscalYear"
                                    },
                                    {
                                        "name": "TWFiscalYearSuffix"
                                    },
                                    {
                                        "name": "TWFiscalPeriod"
                                    },
                                    {
                                        "name": "TWGUIGroup"
                                    },
                                    {
                                        "name": "TWGUIRegNumSeller"
                                    },
                                    {
                                        "name": "TWGUIRegNumBuyer"
                                    },
                                    {
                                        "name": "OrderOpenCredit"
                                    },
                                    {
                                        "name": "ClosedNotShipped"
                                    },
                                    {
                                        "name": "InvCurrDepositBal"
                                    },
                                    {
                                        "name": "PLArticle106c"
                                    },
                                    {
                                        "name": "PLInvIssuedByTaxpayer"
                                    },
                                    {
                                        "name": "PLInvIssuedBySecondTaxpayer"
                                    },
                                    {
                                        "name": "PLTouristService"
                                    },
                                    {
                                        "name": "PLSecondHandOrArts"
                                    },
                                    {
                                        "name": "PLLegalArticleAct"
                                    },
                                    {
                                        "name": "PLLegalArticleWEDirective"
                                    },
                                    {
                                        "name": "PLLegalArticleOther"
                                    },
                                    {
                                        "name": "PLEnforcementAuthName"
                                    },
                                    {
                                        "name": "PLEnforcementAuthAddr"
                                    },
                                    {
                                        "name": "PLTaxRepresentativeName"
                                    },
                                    {
                                        "name": "PLTaxRepresentativeAddr"
                                    },
                                    {
                                        "name": "PLTaxRepresentativeTaxID"
                                    },
                                    {
                                        "name": "PLMarginScheme"
                                    },
                                    {
                                        "name": "PLGoodsOrServiceVATExempt"
                                    },
                                    {
                                        "name": "CCCity"
                                    },
                                    {
                                        "name": "CCState"
                                    },
                                    {
                                        "name": "ExtAOEUserID"
                                    },
                                    {
                                        "name": "ExtAOE"
                                    },
                                    {
                                        "name": "ForeignSysRowID"
                                    },
                                    {
                                        "name": "UD_SysRevID"
                                    },
                                    {
                                        "name": "AddToWatchedJobs_c"
                                    },
                                    {
                                        "name": "CloseDate_c"
                                    },
                                    {
                                        "name": "Division_c"
                                    },
                                    {
                                        "name": "ProjectID_c"
                                    }
                                ]
                            },
                            "data": []
                        },
                        "text/html": [
                            "<table>",
                            "<tr><th>OpenOrder</th><th>VoidOrder</th><th>Company</th><th>OrderNum</th><th>CustNum</th><th>PONum</th><th>OrderHeld</th><th>EntryPerson</th><th>ShipToNum</th><th>RequestDate</th><th>OrderDate</th><th>FOB</th><th>ShipViaCode</th><th>TermsCode</th><th>DiscountPercent</th><th>PrcConNum</th><th>ShpConNum</th><th>SalesRepList</th><th>OrderComment</th><th>ShipComment</th><th>InvoiceComment</th><th>PickListComment</th><th>DepositBal</th><th>DocDepositBal</th><th>NeedByDate</th><th>CreditOverride</th><th>CreditOverrideUserID</th><th>CreditOverrideDate</th><th>CreditOverrideTime</th><th>CreditOverrideLimit</th><th>SndAlrtShp</th><th>ExchangeRate</th><th>CurrencyCode</th><th>LockRate</th><th>CardMemberName</th><th>CardNumber</th><th>CardType</th><th>ExpirationMonth</th><th>ExpirationYear</th><th>CardID</th><th>CardmemberReference</th><th>AllocPriorityCode</th><th>ReservePriorityCode</th><th>ShipOrderComplete</th><th>WebOrder</th><th>CCApprovalNum</th><th>EDIOrder</th><th>EDIAck</th><th>Linked</th><th>ICPONum</th><th>ExtCompany</th><th>WebEntryPerson</th><th>AckEmailSent</th><th>ApplyOrderBasedDisc</th><th>AutoOrderBasedDisc</th><th>EntryMethod</th><th>HDCaseNum</th><th>CounterSale</th><th>CreateInvoice</th><th>CreatePackingSlip</th><th>LockQty</th><th>ProcessCard</th><th>CCAmount</th><th>CCFreight</th><th>CCTax</th><th>CCTotal</th><th>CCDocAmount</th><th>CCDocFreight</th><th>CCDocTax</th><th>CCDocTotal</th><th>CCStreetAddr</th><th>CCZip</th><th>BTCustNum</th><th>BTConNum</th><th>RepRate4</th><th>RepRate5</th><th>RepSplit1</th><th>RepSplit2</th><th>RepSplit3</th><th>RepSplit4</th><th>RepSplit5</th><th>RepRate1</th><th>RepRate2</th><th>RepRate3</th><th>OutboundSalesDocCtr</th><th>OutboundShipDocsCtr</th><th>DemandContractNum</th><th>DoNotShipBeforeDate</th><th>ResDelivery</th><th>DoNotShipAfterDate</th><th>SatDelivery</th><th>SatPickup</th><th>Hazmat</th><th>DocOnly</th><th>RefNotes</th><th>ApplyChrg</th><th>ChrgAmount</th><th>COD</th><th>CODFreight</th><th>CODCheck</th><th>CODAmount</th><th>GroundType</th><th>NotifyFlag</th><th>NotifyEMail</th><th>DeclaredIns</th><th>DeclaredAmt</th><th>CancelAfterDate</th><th>DemandRejected</th><th>OverrideCarrier</th><th>OverrideService</th><th>CreditCardOrder</th><th>DemandHeadSeq</th><th>PayFlag</th><th>PayAccount</th><th>PayBTAddress1</th><th>PayBTAddress2</th><th>PayBTCity</th><th>PayBTState</th><th>PayBTZip</th><th>PayBTCountry</th><th>DropShip</th><th>CommercialInvoice</th><th>ShipExprtDeclartn</th><th>CertOfOrigin</th><th>LetterOfInstr</th><th>FFID</th><th>FFAddress1</th><th>FFAddress2</th><th>FFCity</th><th>FFState</th><th>FFZip</th><th>FFCountry</th><th>FFContact</th><th>FFCompName</th><th>FFPhoneNum</th><th>IntrntlShip</th><th>ChangedBy</th><th>ChangeDate</th><th>ChangeTime</th><th>ChangeDateTime</th><th>AutoPrintReady</th><th>EDIReady</th><th>IndividualPackIDs</th><th>FFAddress3</th><th>DeliveryConf</th><th>AddlHdlgFlag</th><th>NonStdPkg</th><th>ServSignature</th><th>ServAlert</th><th>ServHomeDel</th><th>DeliveryType</th><th>ServDeliveryDate</th><th>ServInstruct</th><th>ServRef1</th><th>ServRef2</th><th>ServRef3</th><th>ServRef4</th><th>ServRef5</th><th>FFCountryNum</th><th>ServPhone</th><th>ServRelease</th><th>ServAuthNum</th><th>PayBTAddress3</th><th>PayBTCountryNum</th><th>PayBTPhone</th><th>UPSQuantumView</th><th>UPSQVShipFromName</th><th>UPSQVMemo</th><th>ReadyToCalc</th><th>TotalCharges</th><th>TotalMisc</th><th>TotalDiscount</th><th>TotalComm</th><th>TotalAdvBill</th><th>TotalLines</th><th>TotalReleases</th><th>TotalRelDates</th><th>DocTotalCharges</th><th>DocTotalMisc</th><th>DocTotalDiscount</th><th>DocTotalComm</th><th>TotalTax</th><th>DocTotalTax</th><th>DocTotalAdvBill</th><th>TotalShipped</th><th>TotalInvoiced</th><th>TotalCommLines</th><th>SRCommAmt1</th><th>SRCommAmt2</th><th>SRCommAmt3</th><th>SRCommAmt4</th><th>SRCommAmt5</th><th>SRCommableAmt1</th><th>SRCommableAmt2</th><th>SRCommableAmt3</th><th>SRCommableAmt4</th><th>SRCommableAmt5</th><th>Rounding</th><th>Rpt1DepositBal</th><th>DocRounding</th><th>Rpt2DepositBal</th><th>Rpt3DepositBal</th><th>Rpt1TotalCharges</th><th>Rpt2TotalCharges</th><th>Rpt3TotalCharges</th><th>Rpt1TotalAdvBill</th><th>Rpt2TotalAdvBill</th><th>Rpt3TotalAdvBill</th><th>Rpt1TotalMisc</th><th>Rpt2TotalMisc</th><th>Rpt3TotalMisc</th><th>Rpt1TotalDiscount</th><th>Rpt2TotalDiscount</th><th>Rpt3TotalDiscount</th><th>Rpt1TotalComm</th><th>Rpt2TotalComm</th><th>Rpt3TotalComm</th><th>Rpt1TotalTax</th><th>Rpt2TotalTax</th><th>Rpt1Rounding</th><th>Rpt2Rounding</th><th>Rpt3Rounding</th><th>RateGrpCode</th><th>Rpt3TotalTax</th><th>Rpt1CCAmount</th><th>Rpt2CCAmount</th><th>Rpt3CCAmount</th><th>Rpt1CCFreight</th><th>Rpt2CCFreight</th><th>Rpt3CCFreight</th><th>Rpt1CCTax</th><th>Rpt2CCTax</th><th>Rpt3CCTax</th><th>Rpt1CCTotal</th><th>Rpt2CCTotal</th><th>Rpt3CCTotal</th><th>OrderAmt</th><th>DocOrderAmt</th><th>Rpt1OrderAmt</th><th>Rpt2OrderAmt</th><th>Rpt3OrderAmt</th><th>TaxPoint</th><th>TaxRateDate</th><th>TaxRegionCode</th><th>UseOTS</th><th>OTSName</th><th>OTSAddress1</th><th>OTSAddress2</th><th>OTSAddress3</th><th>OTSCity</th><th>OTSState</th><th>OTSZIP</th><th>OTSResaleID</th><th>OTSContact</th><th>OTSFaxNum</th><th>OTSPhoneNum</th><th>OTSCountryNum</th><th>TotalWHTax</th><th>DocTotalWHTax</th><th>Rpt1TotalWHTax</th><th>Rpt2TotalWHTax</th><th>Rpt3TotalWHTax</th><th>TotalSATax</th><th>DocTotalSATax</th><th>Rpt1TotalSATax</th><th>Rpt2TotalSATax</th><th>Rpt3TotalSATax</th><th>OTSSaveAs</th><th>OTSSaveCustID</th><th>OTSCustSaved</th><th>ShipToCustNum</th><th>OrderStatus</th><th>HoldSetByDemand</th><th>InPrice</th><th>InTotalCharges</th><th>InTotalMisc</th><th>InTotalDiscount</th><th>DocInTotalCharges</th><th>DocInTotalMisc</th><th>DocInTotalDiscount</th><th>Rpt1InTotalCharges</th><th>Rpt2InTotalCharges</th><th>Rpt3InTotalCharges</th><th>Rpt1InTotalMisc</th><th>Rpt2InTotalMisc</th><th>Rpt3InTotalMisc</th><th>Rpt1InTotalDiscount</th><th>Rpt2InTotalDiscount</th><th>Rpt3InTotalDiscount</th><th>ARLOCID</th><th>OurBank</th><th>ERSOrder</th><th>LOCHold</th><th>PSCurrCode</th><th>InvCurrCode</th><th>LegalNumber</th><th>TranDocTypeID</th><th>XRefContractNum</th><th>XRefContractDate</th><th>DemandProcessDate</th><th>DemandProcessTime</th><th>LastScheduleNumber</th><th>LastTCtrlNum</th><th>LastBatchNum</th><th>ECCOrderNum</th><th>ECCPONum</th><th>WIOrder</th><th>WIApplication</th><th>WIUsername</th><th>WIUserID</th><th>WICreditCardorder</th><th>OrderCSR</th><th>UserChar1</th><th>UserChar2</th><th>UserChar3</th><th>UserChar4</th><th>UserDate1</th><th>UserDate2</th><th>UserDate3</th><th>UserDate4</th><th>UserDecimal1</th><th>UserDecimal2</th><th>UserInteger1</th><th>UserInteger2</th><th>SysRevID</th><th>SysRowID</th><th>IsCSRSet</th><th>ECCPaymentMethod</th><th>AGUseGoodDefaultMark</th><th>OTSShipToNum</th><th>ProFormaInvComment</th><th>ccToken</th><th>InvcOrderCmp</th><th>ReprintSOAck</th><th>CounterSOAck</th><th>DispatchReason</th><th>Plant</th><th>ReadyToFulfill</th><th>ShipByTime</th><th>TWFiscalYear</th><th>TWFiscalYearSuffix</th><th>TWFiscalPeriod</th><th>TWGUIGroup</th><th>TWGUIRegNumSeller</th><th>TWGUIRegNumBuyer</th><th>OrderOpenCredit</th><th>ClosedNotShipped</th><th>InvCurrDepositBal</th><th>PLArticle106c</th><th>PLInvIssuedByTaxpayer</th><th>PLInvIssuedBySecondTaxpayer</th><th>PLTouristService</th><th>PLSecondHandOrArts</th><th>PLLegalArticleAct</th><th>PLLegalArticleWEDirective</th><th>PLLegalArticleOther</th><th>PLEnforcementAuthName</th><th>PLEnforcementAuthAddr</th><th>PLTaxRepresentativeName</th><th>PLTaxRepresentativeAddr</th><th>PLTaxRepresentativeTaxID</th><th>PLMarginScheme</th><th>PLGoodsOrServiceVATExempt</th><th>CCCity</th><th>CCState</th><th>ExtAOEUserID</th><th>ExtAOE</th><th>ForeignSysRowID</th><th>UD_SysRevID</th><th>AddToWatchedJobs_c</th><th>CloseDate_c</th><th>Division_c</th><th>ProjectID_c</th></tr>",
                            "</table>"
                        ]
                    }
                }
            ],
            "execution_count": 2
        },
        {
            "cell_type": "markdown",
            "source": [
                "# PO info from **SOLAR** Company"
            ],
            "metadata": {
                "language": "sql",
                "azdata_cell_guid": "a1f522dc-e4da-4258-a615-e87ea61a49fc"
            },
            "attachments": {}
        },
        {
            "cell_type": "code",
            "source": [
                "Select * FROM [ERPDB].[Erp].[POHeader]\r\n",
                "  WHERE POnum = 07505\r\n",
                "  and Company = 'Solar'\r\n",
                "\r\n",
                " Select * FROM [ERPDB].[Erp].[PODetail]\r\n",
                "  WHERE POnum = 07505\r\n",
                "   and Company = 'Solar'\r\n",
                "\r\n",
                " Select * FROM [ERPDB].[Erp].[PORel]\r\n",
                "  WHERE POnum = 07505\r\n",
                "     and Company = 'Solar'\r\n",
                ""
            ],
            "metadata": {
                "language": "sql",
                "azdata_cell_guid": "b4cdb330-bf53-4a8b-ada0-5cdaf498881f"
            },
            "outputs": [
                {
                    "output_type": "display_data",
                    "data": {
                        "text/html": "(1 row affected)"
                    },
                    "metadata": {}
                },
                {
                    "output_type": "display_data",
                    "data": {
                        "text/html": "(2 rows affected)"
                    },
                    "metadata": {}
                },
                {
                    "output_type": "display_data",
                    "data": {
                        "text/html": "(2 rows affected)"
                    },
                    "metadata": {}
                },
                {
                    "output_type": "display_data",
                    "data": {
                        "text/html": "Total execution time: 00:00:00.256"
                    },
                    "metadata": {}
                },
                {
                    "output_type": "execute_result",
                    "metadata": {},
                    "execution_count": 5,
                    "data": {
                        "application/vnd.dataresource+json": {
                            "schema": {
                                "fields": [
                                    {
                                        "name": "Company"
                                    },
                                    {
                                        "name": "OpenOrder"
                                    },
                                    {
                                        "name": "VoidOrder"
                                    },
                                    {
                                        "name": "PONum"
                                    },
                                    {
                                        "name": "EntryPerson"
                                    },
                                    {
                                        "name": "OrderDate"
                                    },
                                    {
                                        "name": "FOB"
                                    },
                                    {
                                        "name": "ShipViaCode"
                                    },
                                    {
                                        "name": "TermsCode"
                                    },
                                    {
                                        "name": "ShipName"
                                    },
                                    {
                                        "name": "ShipAddress1"
                                    },
                                    {
                                        "name": "ShipAddress2"
                                    },
                                    {
                                        "name": "ShipAddress3"
                                    },
                                    {
                                        "name": "ShipCity"
                                    },
                                    {
                                        "name": "ShipState"
                                    },
                                    {
                                        "name": "ShipZIP"
                                    },
                                    {
                                        "name": "ShipCountry"
                                    },
                                    {
                                        "name": "BuyerID"
                                    },
                                    {
                                        "name": "FreightPP"
                                    },
                                    {
                                        "name": "PrcConNum"
                                    },
                                    {
                                        "name": "VendorNum"
                                    },
                                    {
                                        "name": "PurPoint"
                                    },
                                    {
                                        "name": "CommentText"
                                    },
                                    {
                                        "name": "OrderHeld"
                                    },
                                    {
                                        "name": "ShipToConName"
                                    },
                                    {
                                        "name": "ReadyToPrint"
                                    },
                                    {
                                        "name": "PrintAs"
                                    },
                                    {
                                        "name": "CurrencyCode"
                                    },
                                    {
                                        "name": "ExchangeRate"
                                    },
                                    {
                                        "name": "LockRate"
                                    },
                                    {
                                        "name": "ShipCountryNum"
                                    },
                                    {
                                        "name": "LogChanges"
                                    },
                                    {
                                        "name": "ApprovedDate"
                                    },
                                    {
                                        "name": "ApprovedBy"
                                    },
                                    {
                                        "name": "Approve"
                                    },
                                    {
                                        "name": "ApprovalStatus"
                                    },
                                    {
                                        "name": "ApprovedAmount"
                                    },
                                    {
                                        "name": "PostToWeb"
                                    },
                                    {
                                        "name": "PostDate"
                                    },
                                    {
                                        "name": "VendorRefNum"
                                    },
                                    {
                                        "name": "ConfirmReq"
                                    },
                                    {
                                        "name": "Confirmed"
                                    },
                                    {
                                        "name": "ConfirmVia"
                                    },
                                    {
                                        "name": "OrderNum"
                                    },
                                    {
                                        "name": "LegalNumber"
                                    },
                                    {
                                        "name": "Linked"
                                    },
                                    {
                                        "name": "ExtCompany"
                                    },
                                    {
                                        "name": "XRefPONum"
                                    },
                                    {
                                        "name": "ConsolidatedPO"
                                    },
                                    {
                                        "name": "GlbCompany"
                                    },
                                    {
                                        "name": "ContractOrder"
                                    },
                                    {
                                        "name": "ContractStartDate"
                                    },
                                    {
                                        "name": "ContractEndDate"
                                    },
                                    {
                                        "name": "PrintHeaderAddress"
                                    },
                                    {
                                        "name": "RateGrpCode"
                                    },
                                    {
                                        "name": "POType"
                                    },
                                    {
                                        "name": "APLOCID"
                                    },
                                    {
                                        "name": "TranDocTypeID"
                                    },
                                    {
                                        "name": "AutoPrintReady"
                                    },
                                    {
                                        "name": "ICPOLocked"
                                    },
                                    {
                                        "name": "SysRevID"
                                    },
                                    {
                                        "name": "SysRowID"
                                    },
                                    {
                                        "name": "DueDate"
                                    },
                                    {
                                        "name": "PromiseDate"
                                    },
                                    {
                                        "name": "ChangedBy"
                                    },
                                    {
                                        "name": "ChangeDate"
                                    },
                                    {
                                        "name": "POTaxReadyToProcess"
                                    },
                                    {
                                        "name": "TaxRegionCode"
                                    },
                                    {
                                        "name": "TaxPoint"
                                    },
                                    {
                                        "name": "TaxRateDate"
                                    },
                                    {
                                        "name": "TotalTax"
                                    },
                                    {
                                        "name": "DocTotalTax"
                                    },
                                    {
                                        "name": "Rpt1TotalTax"
                                    },
                                    {
                                        "name": "Rpt2TotalTax"
                                    },
                                    {
                                        "name": "Rpt3TotalTax"
                                    },
                                    {
                                        "name": "TotalWhTax"
                                    },
                                    {
                                        "name": "DocTotalWhTax"
                                    },
                                    {
                                        "name": "Rpt1TotalWhTax"
                                    },
                                    {
                                        "name": "Rpt2TotalWhTax"
                                    },
                                    {
                                        "name": "Rpt3TotalWhTax"
                                    },
                                    {
                                        "name": "TotalSATax"
                                    },
                                    {
                                        "name": "DocTotalSATax"
                                    },
                                    {
                                        "name": "Rpt1TotalSATax"
                                    },
                                    {
                                        "name": "Rpt2TotalSATax"
                                    },
                                    {
                                        "name": "Rpt3TotalSATax"
                                    },
                                    {
                                        "name": "InPrice"
                                    },
                                    {
                                        "name": "HdrTaxNoUpdt"
                                    },
                                    {
                                        "name": "TaxRateGrpCode"
                                    },
                                    {
                                        "name": "TotalDedTax"
                                    },
                                    {
                                        "name": "DocTotalDedTax"
                                    },
                                    {
                                        "name": "Rpt1TotalDedTax"
                                    },
                                    {
                                        "name": "Rpt2TotalDedTax"
                                    },
                                    {
                                        "name": "Rpt3TotalDedTax"
                                    },
                                    {
                                        "name": "TotalCharges"
                                    },
                                    {
                                        "name": "TotalMiscCharges"
                                    },
                                    {
                                        "name": "TotalOrder"
                                    },
                                    {
                                        "name": "DocTotalCharges"
                                    },
                                    {
                                        "name": "DocTotalMisc"
                                    },
                                    {
                                        "name": "DocTotalOrder"
                                    },
                                    {
                                        "name": "Rpt1TotalCharges"
                                    },
                                    {
                                        "name": "Rpt2TotalCharges"
                                    },
                                    {
                                        "name": "Rpt3TotalCharges"
                                    },
                                    {
                                        "name": "Rpt1TotalMiscCharges"
                                    },
                                    {
                                        "name": "Rpt2TotalMiscCharges"
                                    },
                                    {
                                        "name": "Rpt3TotalMiscCharges"
                                    },
                                    {
                                        "name": "Rpt1TotalOrder"
                                    },
                                    {
                                        "name": "Rpt2TotalOrder"
                                    },
                                    {
                                        "name": "Rpt3TotalOrder"
                                    },
                                    {
                                        "name": "APTaxRoundOption"
                                    }
                                ]
                            },
                            "data": [
                                {
                                    "0": "SOLAR",
                                    "1": "1",
                                    "2": "0",
                                    "3": "7505",
                                    "4": "Chartman",
                                    "5": "2022-06-24",
                                    "6": "",
                                    "7": "BW",
                                    "8": "N25",
                                    "9": "TerraSmart Solar Field - Dixfield",
                                    "10": "528 Wilton Road",
                                    "11": "",
                                    "12": "",
                                    "13": "Dixfield",
                                    "14": "ME",
                                    "15": "04224",
                                    "16": "",
                                    "17": "TTRAK4",
                                    "18": "0",
                                    "19": "0",
                                    "20": "1",
                                    "21": "",
                                    "22": "26068 Dixfield Solar",
                                    "23": "0",
                                    "24": "",
                                    "25": "1",
                                    "26": "N",
                                    "27": "USD",
                                    "28": "1.0000000000",
                                    "29": "0",
                                    "30": "0",
                                    "31": "0",
                                    "32": "NULL",
                                    "33": "",
                                    "34": "1",
                                    "35": "A",
                                    "36": "0.000",
                                    "37": "0",
                                    "38": "NULL",
                                    "39": "",
                                    "40": "0",
                                    "41": "0",
                                    "42": "",
                                    "43": "0",
                                    "44": "",
                                    "45": "0",
                                    "46": "",
                                    "47": "",
                                    "48": "0",
                                    "49": "",
                                    "50": "0",
                                    "51": "NULL",
                                    "52": "NULL",
                                    "53": "1",
                                    "54": "MAIN",
                                    "55": "STD",
                                    "56": "",
                                    "57": "",
                                    "58": "0",
                                    "59": "0",
                                    "60": "0x000000032CF50869",
                                    "61": "39207f53-8de7-4713-be78-0612a3751e99",
                                    "62": "NULL",
                                    "63": "NULL",
                                    "64": "Chartman",
                                    "65": "2022-07-25 15:51:25.057",
                                    "66": "0",
                                    "67": "",
                                    "68": "2022-06-24",
                                    "69": "2022-06-24",
                                    "70": "0.000",
                                    "71": "0.000",
                                    "72": "0.000",
                                    "73": "0.000",
                                    "74": "0.000",
                                    "75": "0.000",
                                    "76": "0.000",
                                    "77": "0.000",
                                    "78": "0.000",
                                    "79": "0.000",
                                    "80": "0.000",
                                    "81": "0.000",
                                    "82": "0.000",
                                    "83": "0.000",
                                    "84": "0.000",
                                    "85": "0",
                                    "86": "0",
                                    "87": "",
                                    "88": "0.000",
                                    "89": "0.000",
                                    "90": "0.000",
                                    "91": "0.000",
                                    "92": "0.000",
                                    "93": "16542.130",
                                    "94": "0.000",
                                    "95": "16542.130",
                                    "96": "16542.130",
                                    "97": "0.000",
                                    "98": "16542.130",
                                    "99": "0.000",
                                    "100": "0.000",
                                    "101": "0.000",
                                    "102": "0.000",
                                    "103": "0.000",
                                    "104": "0.000",
                                    "105": "0.000",
                                    "106": "0.000",
                                    "107": "0.000",
                                    "108": "0"
                                }
                            ]
                        },
                        "text/html": [
                            "<table>",
                            "<tr><th>Company</th><th>OpenOrder</th><th>VoidOrder</th><th>PONum</th><th>EntryPerson</th><th>OrderDate</th><th>FOB</th><th>ShipViaCode</th><th>TermsCode</th><th>ShipName</th><th>ShipAddress1</th><th>ShipAddress2</th><th>ShipAddress3</th><th>ShipCity</th><th>ShipState</th><th>ShipZIP</th><th>ShipCountry</th><th>BuyerID</th><th>FreightPP</th><th>PrcConNum</th><th>VendorNum</th><th>PurPoint</th><th>CommentText</th><th>OrderHeld</th><th>ShipToConName</th><th>ReadyToPrint</th><th>PrintAs</th><th>CurrencyCode</th><th>ExchangeRate</th><th>LockRate</th><th>ShipCountryNum</th><th>LogChanges</th><th>ApprovedDate</th><th>ApprovedBy</th><th>Approve</th><th>ApprovalStatus</th><th>ApprovedAmount</th><th>PostToWeb</th><th>PostDate</th><th>VendorRefNum</th><th>ConfirmReq</th><th>Confirmed</th><th>ConfirmVia</th><th>OrderNum</th><th>LegalNumber</th><th>Linked</th><th>ExtCompany</th><th>XRefPONum</th><th>ConsolidatedPO</th><th>GlbCompany</th><th>ContractOrder</th><th>ContractStartDate</th><th>ContractEndDate</th><th>PrintHeaderAddress</th><th>RateGrpCode</th><th>POType</th><th>APLOCID</th><th>TranDocTypeID</th><th>AutoPrintReady</th><th>ICPOLocked</th><th>SysRevID</th><th>SysRowID</th><th>DueDate</th><th>PromiseDate</th><th>ChangedBy</th><th>ChangeDate</th><th>POTaxReadyToProcess</th><th>TaxRegionCode</th><th>TaxPoint</th><th>TaxRateDate</th><th>TotalTax</th><th>DocTotalTax</th><th>Rpt1TotalTax</th><th>Rpt2TotalTax</th><th>Rpt3TotalTax</th><th>TotalWhTax</th><th>DocTotalWhTax</th><th>Rpt1TotalWhTax</th><th>Rpt2TotalWhTax</th><th>Rpt3TotalWhTax</th><th>TotalSATax</th><th>DocTotalSATax</th><th>Rpt1TotalSATax</th><th>Rpt2TotalSATax</th><th>Rpt3TotalSATax</th><th>InPrice</th><th>HdrTaxNoUpdt</th><th>TaxRateGrpCode</th><th>TotalDedTax</th><th>DocTotalDedTax</th><th>Rpt1TotalDedTax</th><th>Rpt2TotalDedTax</th><th>Rpt3TotalDedTax</th><th>TotalCharges</th><th>TotalMiscCharges</th><th>TotalOrder</th><th>DocTotalCharges</th><th>DocTotalMisc</th><th>DocTotalOrder</th><th>Rpt1TotalCharges</th><th>Rpt2TotalCharges</th><th>Rpt3TotalCharges</th><th>Rpt1TotalMiscCharges</th><th>Rpt2TotalMiscCharges</th><th>Rpt3TotalMiscCharges</th><th>Rpt1TotalOrder</th><th>Rpt2TotalOrder</th><th>Rpt3TotalOrder</th><th>APTaxRoundOption</th></tr>",
                            "<tr><td>SOLAR</td><td>1</td><td>0</td><td>7505</td><td>Chartman</td><td>2022-06-24</td><td></td><td>BW</td><td>N25</td><td>TerraSmart Solar Field - Dixfield</td><td>528 Wilton Road</td><td></td><td></td><td>Dixfield</td><td>ME</td><td>04224</td><td></td><td>TTRAK4</td><td>0</td><td>0</td><td>1</td><td></td><td>26068 Dixfield Solar</td><td>0</td><td></td><td>1</td><td>N</td><td>USD</td><td>1.0000000000</td><td>0</td><td>0</td><td>0</td><td>NULL</td><td></td><td>1</td><td>A</td><td>0.000</td><td>0</td><td>NULL</td><td></td><td>0</td><td>0</td><td></td><td>0</td><td></td><td>0</td><td></td><td></td><td>0</td><td></td><td>0</td><td>NULL</td><td>NULL</td><td>1</td><td>MAIN</td><td>STD</td><td></td><td></td><td>0</td><td>0</td><td>0x000000032CF50869</td><td>39207f53-8de7-4713-be78-0612a3751e99</td><td>NULL</td><td>NULL</td><td>Chartman</td><td>2022-07-25 15:51:25.057</td><td>0</td><td></td><td>2022-06-24</td><td>2022-06-24</td><td>0.000</td><td>0.000</td><td>0.000</td><td>0.000</td><td>0.000</td><td>0.000</td><td>0.000</td><td>0.000</td><td>0.000</td><td>0.000</td><td>0.000</td><td>0.000</td><td>0.000</td><td>0.000</td><td>0.000</td><td>0</td><td>0</td><td></td><td>0.000</td><td>0.000</td><td>0.000</td><td>0.000</td><td>0.000</td><td>16542.130</td><td>0.000</td><td>16542.130</td><td>16542.130</td><td>0.000</td><td>16542.130</td><td>0.000</td><td>0.000</td><td>0.000</td><td>0.000</td><td>0.000</td><td>0.000</td><td>0.000</td><td>0.000</td><td>0.000</td><td>0</td></tr>",
                            "</table>"
                        ]
                    }
                },
                {
                    "output_type": "execute_result",
                    "metadata": {},
                    "execution_count": 5,
                    "data": {
                        "application/vnd.dataresource+json": {
                            "schema": {
                                "fields": [
                                    {
                                        "name": "Company"
                                    },
                                    {
                                        "name": "OpenLine"
                                    },
                                    {
                                        "name": "VoidLine"
                                    },
                                    {
                                        "name": "PONUM"
                                    },
                                    {
                                        "name": "POLine"
                                    },
                                    {
                                        "name": "LineDesc"
                                    },
                                    {
                                        "name": "IUM"
                                    },
                                    {
                                        "name": "UnitCost"
                                    },
                                    {
                                        "name": "DocUnitCost"
                                    },
                                    {
                                        "name": "OrderQty"
                                    },
                                    {
                                        "name": "XOrderQty"
                                    },
                                    {
                                        "name": "Taxable"
                                    },
                                    {
                                        "name": "PUM"
                                    },
                                    {
                                        "name": "CostPerCode"
                                    },
                                    {
                                        "name": "PartNum"
                                    },
                                    {
                                        "name": "VenPartNum"
                                    },
                                    {
                                        "name": "CommentText"
                                    },
                                    {
                                        "name": "ClassID"
                                    },
                                    {
                                        "name": "RevisionNum"
                                    },
                                    {
                                        "name": "RcvInspectionReq"
                                    },
                                    {
                                        "name": "VendorNum"
                                    },
                                    {
                                        "name": "AdvancePayBal"
                                    },
                                    {
                                        "name": "DocAdvancePayBal"
                                    },
                                    {
                                        "name": "Confirmed"
                                    },
                                    {
                                        "name": "DateChgReq"
                                    },
                                    {
                                        "name": "QtyChgReq"
                                    },
                                    {
                                        "name": "PartNumChgReq"
                                    },
                                    {
                                        "name": "RevisionNumChgReq"
                                    },
                                    {
                                        "name": "ConfirmDate"
                                    },
                                    {
                                        "name": "ConfirmVia"
                                    },
                                    {
                                        "name": "PrcChgReq"
                                    },
                                    {
                                        "name": "PurchCode"
                                    },
                                    {
                                        "name": "OrderNum"
                                    },
                                    {
                                        "name": "OrderLine"
                                    },
                                    {
                                        "name": "Linked"
                                    },
                                    {
                                        "name": "ExtCompany"
                                    },
                                    {
                                        "name": "GlbCompany"
                                    },
                                    {
                                        "name": "ContractActive"
                                    },
                                    {
                                        "name": "ContractQty"
                                    },
                                    {
                                        "name": "ContractUnitCost"
                                    },
                                    {
                                        "name": "ContractDocUnitCost"
                                    },
                                    {
                                        "name": "Rpt1AdvancePayBal"
                                    },
                                    {
                                        "name": "Rpt2AdvancePayBal"
                                    },
                                    {
                                        "name": "Rpt3AdvancePayBal"
                                    },
                                    {
                                        "name": "Rpt1UnitCost"
                                    },
                                    {
                                        "name": "Rpt2UnitCost"
                                    },
                                    {
                                        "name": "Rpt3UnitCost"
                                    },
                                    {
                                        "name": "ContractQtyUOM"
                                    },
                                    {
                                        "name": "Rpt1ContractUnitCost"
                                    },
                                    {
                                        "name": "Rpt2ContractUnitCost"
                                    },
                                    {
                                        "name": "Rpt3ContractUnitCost"
                                    },
                                    {
                                        "name": "BaseQty"
                                    },
                                    {
                                        "name": "BaseUOM"
                                    },
                                    {
                                        "name": "BTOOrderNum"
                                    },
                                    {
                                        "name": "BTOOrderLine"
                                    },
                                    {
                                        "name": "VendorPartOpts"
                                    },
                                    {
                                        "name": "MfgPartOpts"
                                    },
                                    {
                                        "name": "SubPartOpts"
                                    },
                                    {
                                        "name": "MfgNum"
                                    },
                                    {
                                        "name": "MfgPartNum"
                                    },
                                    {
                                        "name": "SubPartNum"
                                    },
                                    {
                                        "name": "SubPartType"
                                    },
                                    {
                                        "name": "ConfigUnitCost"
                                    },
                                    {
                                        "name": "ConfigBaseUnitCost"
                                    },
                                    {
                                        "name": "ConvOverRide"
                                    },
                                    {
                                        "name": "BasePartNum"
                                    },
                                    {
                                        "name": "BaseRevisionNum"
                                    },
                                    {
                                        "name": "Direction"
                                    },
                                    {
                                        "name": "Per"
                                    },
                                    {
                                        "name": "MaintainPricingUnits"
                                    },
                                    {
                                        "name": "OverrideConversion"
                                    },
                                    {
                                        "name": "RowsManualFactor"
                                    },
                                    {
                                        "name": "KeepRowsManualFactorTmp"
                                    },
                                    {
                                        "name": "ShipToSupplierDate"
                                    },
                                    {
                                        "name": "Factor"
                                    },
                                    {
                                        "name": "PricingQty"
                                    },
                                    {
                                        "name": "PricingUnitPrice"
                                    },
                                    {
                                        "name": "UOM"
                                    },
                                    {
                                        "name": "SysRevID"
                                    },
                                    {
                                        "name": "SysRowID"
                                    },
                                    {
                                        "name": "GroupSeq"
                                    },
                                    {
                                        "name": "DocPricingUnitPrice"
                                    },
                                    {
                                        "name": "OverridePriceList"
                                    },
                                    {
                                        "name": "QtyOption"
                                    },
                                    {
                                        "name": "OrigComment"
                                    },
                                    {
                                        "name": "SmartString"
                                    },
                                    {
                                        "name": "SmartStringProcessed"
                                    },
                                    {
                                        "name": "DueDate"
                                    },
                                    {
                                        "name": "ContractID"
                                    },
                                    {
                                        "name": "LinkToContract"
                                    },
                                    {
                                        "name": "SelCurrPricingUnitPrice"
                                    },
                                    {
                                        "name": "ChangedBy"
                                    },
                                    {
                                        "name": "ChangeDate"
                                    },
                                    {
                                        "name": "PCLinkRemoved"
                                    },
                                    {
                                        "name": "TaxCatID"
                                    },
                                    {
                                        "name": "NoTaxRecalc"
                                    },
                                    {
                                        "name": "InUnitCost"
                                    },
                                    {
                                        "name": "DocInUnitCost"
                                    },
                                    {
                                        "name": "Rpt1InUnitCost"
                                    },
                                    {
                                        "name": "Rpt2InUnitCost"
                                    },
                                    {
                                        "name": "Rpt3InUnitCost"
                                    },
                                    {
                                        "name": "InAdvancePayBal"
                                    },
                                    {
                                        "name": "DocInAdvancePayBal"
                                    },
                                    {
                                        "name": "Rpt1InAdvancePayBal"
                                    },
                                    {
                                        "name": "Rpt2InAdvancePayBal"
                                    },
                                    {
                                        "name": "Rpt3InAdvancePayBal"
                                    },
                                    {
                                        "name": "InContractUnitCost"
                                    },
                                    {
                                        "name": "DocInContractUnitCost"
                                    },
                                    {
                                        "name": "Rpt1InContractUnitCost"
                                    },
                                    {
                                        "name": "Rpt2InContractUnitCost"
                                    },
                                    {
                                        "name": "Rpt3InContractUnitCost"
                                    },
                                    {
                                        "name": "DocExtCost"
                                    },
                                    {
                                        "name": "ExtCost"
                                    },
                                    {
                                        "name": "Rpt1ExtCost"
                                    },
                                    {
                                        "name": "Rpt2ExtCost"
                                    },
                                    {
                                        "name": "Rpt3ExtCost"
                                    },
                                    {
                                        "name": "DocMiscCost"
                                    },
                                    {
                                        "name": "MiscCost"
                                    },
                                    {
                                        "name": "Rpt1MiscCost"
                                    },
                                    {
                                        "name": "Rpt2MiscCost"
                                    },
                                    {
                                        "name": "Rpt3MiscCost"
                                    },
                                    {
                                        "name": "TotalTax"
                                    },
                                    {
                                        "name": "DocTotalTax"
                                    },
                                    {
                                        "name": "Rpt1TotalTax"
                                    },
                                    {
                                        "name": "Rpt2TotalTax"
                                    },
                                    {
                                        "name": "Rpt3TotalTax"
                                    },
                                    {
                                        "name": "TotalSATax"
                                    },
                                    {
                                        "name": "DocTotalSATax"
                                    },
                                    {
                                        "name": "Rpt1TotalSATax"
                                    },
                                    {
                                        "name": "Rpt2TotalSATax"
                                    },
                                    {
                                        "name": "Rpt3TotalSATax"
                                    },
                                    {
                                        "name": "TotalDedTax"
                                    },
                                    {
                                        "name": "DocTotalDedTax"
                                    },
                                    {
                                        "name": "Rpt1TotalDedTax"
                                    },
                                    {
                                        "name": "Rpt2TotalDedTax"
                                    },
                                    {
                                        "name": "Rpt3TotalDedTax"
                                    },
                                    {
                                        "name": "CommodityCode"
                                    }
                                ]
                            },
                            "data": [
                                {
                                    "0": "SOLAR",
                                    "1": "1",
                                    "2": "0",
                                    "3": "7505",
                                    "4": "1",
                                    "5": "406.43\" Dixfield Cee Purlin 9 x 4 x 0.1017 G90",
                                    "6": "EA",
                                    "7": "10.83798",
                                    "8": "10.83798",
                                    "9": "213.00000000",
                                    "10": "213.00000000",
                                    "11": "0",
                                    "12": "EA",
                                    "13": "E",
                                    "14": "119716",
                                    "15": "",
                                    "16": "",
                                    "17": "",
                                    "18": "",
                                    "19": "0",
                                    "20": "1",
                                    "21": "0.000",
                                    "22": "0.000",
                                    "23": "0",
                                    "24": "0",
                                    "25": "1",
                                    "26": "",
                                    "27": "",
                                    "28": "NULL",
                                    "29": "",
                                    "30": "0.00000",
                                    "31": "",
                                    "32": "0",
                                    "33": "0",
                                    "34": "0",
                                    "35": "",
                                    "36": "",
                                    "37": "0",
                                    "38": "0.00000000",
                                    "39": "0.00000",
                                    "40": "0.00000",
                                    "41": "0.000",
                                    "42": "0.000",
                                    "43": "0.000",
                                    "44": "0.00000",
                                    "45": "0.00000",
                                    "46": "0.00000",
                                    "47": "",
                                    "48": "0.00000",
                                    "49": "0.00000",
                                    "50": "0.00000",
                                    "51": "213.00000000",
                                    "52": "EA",
                                    "53": "0",
                                    "54": "0",
                                    "55": "M",
                                    "56": "O",
                                    "57": "O",
                                    "58": "0",
                                    "59": "",
                                    "60": "",
                                    "61": "",
                                    "62": "0.00000",
                                    "63": "0.00000",
                                    "64": "0",
                                    "65": "",
                                    "66": "",
                                    "67": "",
                                    "68": "",
                                    "69": "0",
                                    "70": "0",
                                    "71": "0",
                                    "72": "0",
                                    "73": "NULL",
                                    "74": "0.00000",
                                    "75": "0.00000",
                                    "76": "0.00000",
                                    "77": "",
                                    "78": "0x00000003277EDBAB",
                                    "79": "692946f2-3a1c-482c-ad4e-d23d52ab7d70",
                                    "80": "0",
                                    "81": "0.00000",
                                    "82": "0",
                                    "83": "Our",
                                    "84": "",
                                    "85": "",
                                    "86": "0",
                                    "87": "NULL",
                                    "88": "",
                                    "89": "0",
                                    "90": "0.00000",
                                    "91": "Chartman",
                                    "92": "2022-07-17 21:10:37.597",
                                    "93": "0",
                                    "94": "",
                                    "95": "0",
                                    "96": "0.00000",
                                    "97": "0.00000",
                                    "98": "0.00000",
                                    "99": "0.00000",
                                    "100": "0.00000",
                                    "101": "0.000",
                                    "102": "0.000",
                                    "103": "0.000",
                                    "104": "0.000",
                                    "105": "0.000",
                                    "106": "0.00000",
                                    "107": "0.00000",
                                    "108": "0.00000",
                                    "109": "0.00000",
                                    "110": "0.00000",
                                    "111": "2308.490",
                                    "112": "2308.490",
                                    "113": "0.000",
                                    "114": "0.000",
                                    "115": "0.000",
                                    "116": "0.000",
                                    "117": "0.000",
                                    "118": "0.000",
                                    "119": "0.000",
                                    "120": "0.000",
                                    "121": "0.000",
                                    "122": "0.000",
                                    "123": "0.000",
                                    "124": "0.000",
                                    "125": "0.000",
                                    "126": "0.000",
                                    "127": "0.000",
                                    "128": "0.000",
                                    "129": "0.000",
                                    "130": "0.000",
                                    "131": "0.000",
                                    "132": "0.000",
                                    "133": "0.000",
                                    "134": "0.000",
                                    "135": "0.000",
                                    "136": ""
                                },
                                {
                                    "0": "SOLAR",
                                    "1": "1",
                                    "2": "0",
                                    "3": "7505",
                                    "4": "2",
                                    "5": "451.58\" Dixfield Cee Purlin 9 x 4 x 0.1017 G90",
                                    "6": "EA",
                                    "7": "12.04200",
                                    "8": "12.04200",
                                    "9": "1182.00000000",
                                    "10": "1182.00000000",
                                    "11": "0",
                                    "12": "EA",
                                    "13": "E",
                                    "14": "119715",
                                    "15": "",
                                    "16": "",
                                    "17": "",
                                    "18": "1",
                                    "19": "0",
                                    "20": "1",
                                    "21": "0.000",
                                    "22": "0.000",
                                    "23": "0",
                                    "24": "0",
                                    "25": "1",
                                    "26": "",
                                    "27": "",
                                    "28": "NULL",
                                    "29": "",
                                    "30": "0.00000",
                                    "31": "",
                                    "32": "0",
                                    "33": "0",
                                    "34": "0",
                                    "35": "",
                                    "36": "",
                                    "37": "0",
                                    "38": "0.00000000",
                                    "39": "0.00000",
                                    "40": "0.00000",
                                    "41": "0.000",
                                    "42": "0.000",
                                    "43": "0.000",
                                    "44": "0.00000",
                                    "45": "0.00000",
                                    "46": "0.00000",
                                    "47": "",
                                    "48": "0.00000",
                                    "49": "0.00000",
                                    "50": "0.00000",
                                    "51": "1182.00000000",
                                    "52": "EA",
                                    "53": "0",
                                    "54": "0",
                                    "55": "M",
                                    "56": "O",
                                    "57": "O",
                                    "58": "0",
                                    "59": "",
                                    "60": "",
                                    "61": "",
                                    "62": "0.00000",
                                    "63": "0.00000",
                                    "64": "0",
                                    "65": "",
                                    "66": "",
                                    "67": "",
                                    "68": "",
                                    "69": "0",
                                    "70": "0",
                                    "71": "0",
                                    "72": "0",
                                    "73": "NULL",
                                    "74": "0.00000",
                                    "75": "0.00000",
                                    "76": "0.00000",
                                    "77": "",
                                    "78": "0x00000003277EDBC4",
                                    "79": "1ffaa7cb-4e25-4f0e-a98a-64b254d8a79c",
                                    "80": "0",
                                    "81": "0.00000",
                                    "82": "0",
                                    "83": "Our",
                                    "84": "",
                                    "85": "",
                                    "86": "0",
                                    "87": "NULL",
                                    "88": "",
                                    "89": "0",
                                    "90": "0.00000",
                                    "91": "Chartman",
                                    "92": "2022-07-17 21:10:38.610",
                                    "93": "0",
                                    "94": "",
                                    "95": "0",
                                    "96": "0.00000",
                                    "97": "0.00000",
                                    "98": "0.00000",
                                    "99": "0.00000",
                                    "100": "0.00000",
                                    "101": "0.000",
                                    "102": "0.000",
                                    "103": "0.000",
                                    "104": "0.000",
                                    "105": "0.000",
                                    "106": "0.00000",
                                    "107": "0.00000",
                                    "108": "0.00000",
                                    "109": "0.00000",
                                    "110": "0.00000",
                                    "111": "14233.640",
                                    "112": "14233.640",
                                    "113": "0.000",
                                    "114": "0.000",
                                    "115": "0.000",
                                    "116": "0.000",
                                    "117": "0.000",
                                    "118": "0.000",
                                    "119": "0.000",
                                    "120": "0.000",
                                    "121": "0.000",
                                    "122": "0.000",
                                    "123": "0.000",
                                    "124": "0.000",
                                    "125": "0.000",
                                    "126": "0.000",
                                    "127": "0.000",
                                    "128": "0.000",
                                    "129": "0.000",
                                    "130": "0.000",
                                    "131": "0.000",
                                    "132": "0.000",
                                    "133": "0.000",
                                    "134": "0.000",
                                    "135": "0.000",
                                    "136": ""
                                }
                            ]
                        },
                        "text/html": [
                            "<table>",
                            "<tr><th>Company</th><th>OpenLine</th><th>VoidLine</th><th>PONUM</th><th>POLine</th><th>LineDesc</th><th>IUM</th><th>UnitCost</th><th>DocUnitCost</th><th>OrderQty</th><th>XOrderQty</th><th>Taxable</th><th>PUM</th><th>CostPerCode</th><th>PartNum</th><th>VenPartNum</th><th>CommentText</th><th>ClassID</th><th>RevisionNum</th><th>RcvInspectionReq</th><th>VendorNum</th><th>AdvancePayBal</th><th>DocAdvancePayBal</th><th>Confirmed</th><th>DateChgReq</th><th>QtyChgReq</th><th>PartNumChgReq</th><th>RevisionNumChgReq</th><th>ConfirmDate</th><th>ConfirmVia</th><th>PrcChgReq</th><th>PurchCode</th><th>OrderNum</th><th>OrderLine</th><th>Linked</th><th>ExtCompany</th><th>GlbCompany</th><th>ContractActive</th><th>ContractQty</th><th>ContractUnitCost</th><th>ContractDocUnitCost</th><th>Rpt1AdvancePayBal</th><th>Rpt2AdvancePayBal</th><th>Rpt3AdvancePayBal</th><th>Rpt1UnitCost</th><th>Rpt2UnitCost</th><th>Rpt3UnitCost</th><th>ContractQtyUOM</th><th>Rpt1ContractUnitCost</th><th>Rpt2ContractUnitCost</th><th>Rpt3ContractUnitCost</th><th>BaseQty</th><th>BaseUOM</th><th>BTOOrderNum</th><th>BTOOrderLine</th><th>VendorPartOpts</th><th>MfgPartOpts</th><th>SubPartOpts</th><th>MfgNum</th><th>MfgPartNum</th><th>SubPartNum</th><th>SubPartType</th><th>ConfigUnitCost</th><th>ConfigBaseUnitCost</th><th>ConvOverRide</th><th>BasePartNum</th><th>BaseRevisionNum</th><th>Direction</th><th>Per</th><th>MaintainPricingUnits</th><th>OverrideConversion</th><th>RowsManualFactor</th><th>KeepRowsManualFactorTmp</th><th>ShipToSupplierDate</th><th>Factor</th><th>PricingQty</th><th>PricingUnitPrice</th><th>UOM</th><th>SysRevID</th><th>SysRowID</th><th>GroupSeq</th><th>DocPricingUnitPrice</th><th>OverridePriceList</th><th>QtyOption</th><th>OrigComment</th><th>SmartString</th><th>SmartStringProcessed</th><th>DueDate</th><th>ContractID</th><th>LinkToContract</th><th>SelCurrPricingUnitPrice</th><th>ChangedBy</th><th>ChangeDate</th><th>PCLinkRemoved</th><th>TaxCatID</th><th>NoTaxRecalc</th><th>InUnitCost</th><th>DocInUnitCost</th><th>Rpt1InUnitCost</th><th>Rpt2InUnitCost</th><th>Rpt3InUnitCost</th><th>InAdvancePayBal</th><th>DocInAdvancePayBal</th><th>Rpt1InAdvancePayBal</th><th>Rpt2InAdvancePayBal</th><th>Rpt3InAdvancePayBal</th><th>InContractUnitCost</th><th>DocInContractUnitCost</th><th>Rpt1InContractUnitCost</th><th>Rpt2InContractUnitCost</th><th>Rpt3InContractUnitCost</th><th>DocExtCost</th><th>ExtCost</th><th>Rpt1ExtCost</th><th>Rpt2ExtCost</th><th>Rpt3ExtCost</th><th>DocMiscCost</th><th>MiscCost</th><th>Rpt1MiscCost</th><th>Rpt2MiscCost</th><th>Rpt3MiscCost</th><th>TotalTax</th><th>DocTotalTax</th><th>Rpt1TotalTax</th><th>Rpt2TotalTax</th><th>Rpt3TotalTax</th><th>TotalSATax</th><th>DocTotalSATax</th><th>Rpt1TotalSATax</th><th>Rpt2TotalSATax</th><th>Rpt3TotalSATax</th><th>TotalDedTax</th><th>DocTotalDedTax</th><th>Rpt1TotalDedTax</th><th>Rpt2TotalDedTax</th><th>Rpt3TotalDedTax</th><th>CommodityCode</th></tr>",
                            "<tr><td>SOLAR</td><td>1</td><td>0</td><td>7505</td><td>1</td><td>406.43&quot; Dixfield Cee Purlin 9 x 4 x 0.1017 G90</td><td>EA</td><td>10.83798</td><td>10.83798</td><td>213.00000000</td><td>213.00000000</td><td>0</td><td>EA</td><td>E</td><td>119716</td><td></td><td></td><td></td><td></td><td>0</td><td>1</td><td>0.000</td><td>0.000</td><td>0</td><td>0</td><td>1</td><td></td><td></td><td>NULL</td><td></td><td>0.00000</td><td></td><td>0</td><td>0</td><td>0</td><td></td><td></td><td>0</td><td>0.00000000</td><td>0.00000</td><td>0.00000</td><td>0.000</td><td>0.000</td><td>0.000</td><td>0.00000</td><td>0.00000</td><td>0.00000</td><td></td><td>0.00000</td><td>0.00000</td><td>0.00000</td><td>213.00000000</td><td>EA</td><td>0</td><td>0</td><td>M</td><td>O</td><td>O</td><td>0</td><td></td><td></td><td></td><td>0.00000</td><td>0.00000</td><td>0</td><td></td><td></td><td></td><td></td><td>0</td><td>0</td><td>0</td><td>0</td><td>NULL</td><td>0.00000</td><td>0.00000</td><td>0.00000</td><td></td><td>0x00000003277EDBAB</td><td>692946f2-3a1c-482c-ad4e-d23d52ab7d70</td><td>0</td><td>0.00000</td><td>0</td><td>Our</td><td></td><td></td><td>0</td><td>NULL</td><td></td><td>0</td><td>0.00000</td><td>Chartman</td><td>2022-07-17 21:10:37.597</td><td>0</td><td></td><td>0</td><td>0.00000</td><td>0.00000</td><td>0.00000</td><td>0.00000</td><td>0.00000</td><td>0.000</td><td>0.000</td><td>0.000</td><td>0.000</td><td>0.000</td><td>0.00000</td><td>0.00000</td><td>0.00000</td><td>0.00000</td><td>0.00000</td><td>2308.490</td><td>2308.490</td><td>0.000</td><td>0.000</td><td>0.000</td><td>0.000</td><td>0.000</td><td>0.000</td><td>0.000</td><td>0.000</td><td>0.000</td><td>0.000</td><td>0.000</td><td>0.000</td><td>0.000</td><td>0.000</td><td>0.000</td><td>0.000</td><td>0.000</td><td>0.000</td><td>0.000</td><td>0.000</td><td>0.000</td><td>0.000</td><td>0.000</td><td></td></tr>",
                            "<tr><td>SOLAR</td><td>1</td><td>0</td><td>7505</td><td>2</td><td>451.58&quot; Dixfield Cee Purlin 9 x 4 x 0.1017 G90</td><td>EA</td><td>12.04200</td><td>12.04200</td><td>1182.00000000</td><td>1182.00000000</td><td>0</td><td>EA</td><td>E</td><td>119715</td><td></td><td></td><td></td><td>1</td><td>0</td><td>1</td><td>0.000</td><td>0.000</td><td>0</td><td>0</td><td>1</td><td></td><td></td><td>NULL</td><td></td><td>0.00000</td><td></td><td>0</td><td>0</td><td>0</td><td></td><td></td><td>0</td><td>0.00000000</td><td>0.00000</td><td>0.00000</td><td>0.000</td><td>0.000</td><td>0.000</td><td>0.00000</td><td>0.00000</td><td>0.00000</td><td></td><td>0.00000</td><td>0.00000</td><td>0.00000</td><td>1182.00000000</td><td>EA</td><td>0</td><td>0</td><td>M</td><td>O</td><td>O</td><td>0</td><td></td><td></td><td></td><td>0.00000</td><td>0.00000</td><td>0</td><td></td><td></td><td></td><td></td><td>0</td><td>0</td><td>0</td><td>0</td><td>NULL</td><td>0.00000</td><td>0.00000</td><td>0.00000</td><td></td><td>0x00000003277EDBC4</td><td>1ffaa7cb-4e25-4f0e-a98a-64b254d8a79c</td><td>0</td><td>0.00000</td><td>0</td><td>Our</td><td></td><td></td><td>0</td><td>NULL</td><td></td><td>0</td><td>0.00000</td><td>Chartman</td><td>2022-07-17 21:10:38.610</td><td>0</td><td></td><td>0</td><td>0.00000</td><td>0.00000</td><td>0.00000</td><td>0.00000</td><td>0.00000</td><td>0.000</td><td>0.000</td><td>0.000</td><td>0.000</td><td>0.000</td><td>0.00000</td><td>0.00000</td><td>0.00000</td><td>0.00000</td><td>0.00000</td><td>14233.640</td><td>14233.640</td><td>0.000</td><td>0.000</td><td>0.000</td><td>0.000</td><td>0.000</td><td>0.000</td><td>0.000</td><td>0.000</td><td>0.000</td><td>0.000</td><td>0.000</td><td>0.000</td><td>0.000</td><td>0.000</td><td>0.000</td><td>0.000</td><td>0.000</td><td>0.000</td><td>0.000</td><td>0.000</td><td>0.000</td><td>0.000</td><td>0.000</td><td></td></tr>",
                            "</table>"
                        ]
                    }
                },
                {
                    "output_type": "execute_result",
                    "metadata": {},
                    "execution_count": 5,
                    "data": {
                        "application/vnd.dataresource+json": {
                            "schema": {
                                "fields": [
                                    {
                                        "name": "Company"
                                    },
                                    {
                                        "name": "OpenRelease"
                                    },
                                    {
                                        "name": "VoidRelease"
                                    },
                                    {
                                        "name": "PONum"
                                    },
                                    {
                                        "name": "POLine"
                                    },
                                    {
                                        "name": "PORelNum"
                                    },
                                    {
                                        "name": "DueDate"
                                    },
                                    {
                                        "name": "XRelQty"
                                    },
                                    {
                                        "name": "PurchasingFactor"
                                    },
                                    {
                                        "name": "RelQty"
                                    },
                                    {
                                        "name": "JobNum"
                                    },
                                    {
                                        "name": "AssemblySeq"
                                    },
                                    {
                                        "name": "JobSeqType"
                                    },
                                    {
                                        "name": "JobSeq"
                                    },
                                    {
                                        "name": "WarehouseCode"
                                    },
                                    {
                                        "name": "ReceivedQty"
                                    },
                                    {
                                        "name": "ExpOverride"
                                    },
                                    {
                                        "name": "ReqNum"
                                    },
                                    {
                                        "name": "ReqLine"
                                    },
                                    {
                                        "name": "Plant"
                                    },
                                    {
                                        "name": "PromiseDt"
                                    },
                                    {
                                        "name": "ProjectID"
                                    },
                                    {
                                        "name": "Confirmed"
                                    },
                                    {
                                        "name": "ConfirmVia"
                                    },
                                    {
                                        "name": "ReqChgDate"
                                    },
                                    {
                                        "name": "ReqChgQty"
                                    },
                                    {
                                        "name": "LockRel"
                                    },
                                    {
                                        "name": "RefDisplayAccount"
                                    },
                                    {
                                        "name": "RefType"
                                    },
                                    {
                                        "name": "RefCode"
                                    },
                                    {
                                        "name": "RefCodeDesc"
                                    },
                                    {
                                        "name": "OrderNum"
                                    },
                                    {
                                        "name": "OrderLine"
                                    },
                                    {
                                        "name": "OrderRelNum"
                                    },
                                    {
                                        "name": "Linked"
                                    },
                                    {
                                        "name": "ExtCompany"
                                    },
                                    {
                                        "name": "ShippedQty"
                                    },
                                    {
                                        "name": "TranType"
                                    },
                                    {
                                        "name": "GlbCompany"
                                    },
                                    {
                                        "name": "GlbPlant"
                                    },
                                    {
                                        "name": "GlbWarehouse"
                                    },
                                    {
                                        "name": "GlbCreateJobMtl"
                                    },
                                    {
                                        "name": "ShippedDate"
                                    },
                                    {
                                        "name": "ContainerID"
                                    },
                                    {
                                        "name": "PurchasingFactorDirection"
                                    },
                                    {
                                        "name": "PreviousDueDate"
                                    },
                                    {
                                        "name": "BaseQty"
                                    },
                                    {
                                        "name": "BaseUOM"
                                    },
                                    {
                                        "name": "BTOOrderNum"
                                    },
                                    {
                                        "name": "BTOOrderLine"
                                    },
                                    {
                                        "name": "BTOOrderRelNum"
                                    },
                                    {
                                        "name": "DropShip"
                                    },
                                    {
                                        "name": "ShipToNum"
                                    },
                                    {
                                        "name": "SoldToNum"
                                    },
                                    {
                                        "name": "SMIRcvdQty"
                                    },
                                    {
                                        "name": "ShpConNum"
                                    },
                                    {
                                        "name": "ShipToCustNum"
                                    },
                                    {
                                        "name": "MangCustNum"
                                    },
                                    {
                                        "name": "UseOTS"
                                    },
                                    {
                                        "name": "OTSName"
                                    },
                                    {
                                        "name": "OTSAddress1"
                                    },
                                    {
                                        "name": "OTSAddress2"
                                    },
                                    {
                                        "name": "OTSAddress3"
                                    },
                                    {
                                        "name": "OTSCity"
                                    },
                                    {
                                        "name": "OTSState"
                                    },
                                    {
                                        "name": "OTSZIP"
                                    },
                                    {
                                        "name": "OTSResaleID"
                                    },
                                    {
                                        "name": "OTSContact"
                                    },
                                    {
                                        "name": "OTSFaxNum"
                                    },
                                    {
                                        "name": "OTSPhoneNum"
                                    },
                                    {
                                        "name": "OTSCountryNum"
                                    },
                                    {
                                        "name": "ComplianceMsg"
                                    },
                                    {
                                        "name": "PORelOpen"
                                    },
                                    {
                                        "name": "Mapping"
                                    },
                                    {
                                        "name": "PhaseID"
                                    },
                                    {
                                        "name": "WBSPhaseID"
                                    },
                                    {
                                        "name": "IsMultiRel"
                                    },
                                    {
                                        "name": "SysRevID"
                                    },
                                    {
                                        "name": "SysRowID"
                                    },
                                    {
                                        "name": "SMIRemQty"
                                    },
                                    {
                                        "name": "LockQty"
                                    },
                                    {
                                        "name": "LockDate"
                                    },
                                    {
                                        "name": "DueDateChanged"
                                    },
                                    {
                                        "name": "ContractID"
                                    },
                                    {
                                        "name": "LinkToContract"
                                    },
                                    {
                                        "name": "Status"
                                    },
                                    {
                                        "name": "ArrivedQty"
                                    },
                                    {
                                        "name": "InvoicedQty"
                                    },
                                    {
                                        "name": "NeedByDate"
                                    },
                                    {
                                        "name": "LockNeedByDate"
                                    },
                                    {
                                        "name": "InspectionQty"
                                    },
                                    {
                                        "name": "FailedQty"
                                    },
                                    {
                                        "name": "PassedQty"
                                    },
                                    {
                                        "name": "ProjProcessed"
                                    },
                                    {
                                        "name": "DeliverTo"
                                    },
                                    {
                                        "name": "Taxable"
                                    },
                                    {
                                        "name": "TaxExempt"
                                    },
                                    {
                                        "name": "NoTaxRecalc"
                                    },
                                    {
                                        "name": "EpicorFSA"
                                    },
                                    {
                                        "name": "ReqChgPromiseDate"
                                    },
                                    {
                                        "name": "OTSEMailAddress"
                                    },
                                    {
                                        "name": "AttributeSetID"
                                    },
                                    {
                                        "name": "NumberOfPieces"
                                    },
                                    {
                                        "name": "NumberOfPiecesUOM"
                                    },
                                    {
                                        "name": "PlanningNumberOfPieces"
                                    },
                                    {
                                        "name": "FirmRelease"
                                    }
                                ]
                            },
                            "data": [
                                {
                                    "0": "SOLAR",
                                    "1": "1",
                                    "2": "0",
                                    "3": "7505",
                                    "4": "1",
                                    "5": "1",
                                    "6": "NULL",
                                    "7": "213.00000000",
                                    "8": "1.0000",
                                    "9": "213.00000000",
                                    "10": "000228",
                                    "11": "0",
                                    "12": "S",
                                    "13": "10",
                                    "14": "MAIN",
                                    "15": "0.00000000",
                                    "16": "0",
                                    "17": "0",
                                    "18": "0",
                                    "19": "COLU",
                                    "20": "NULL",
                                    "21": "",
                                    "22": "0",
                                    "23": "",
                                    "24": "NULL",
                                    "25": "1182.00000000",
                                    "26": "",
                                    "27": "",
                                    "28": "",
                                    "29": "",
                                    "30": "",
                                    "31": "0",
                                    "32": "0",
                                    "33": "0",
                                    "34": "0",
                                    "35": "",
                                    "36": "0.00000000",
                                    "37": "PUR-SUB",
                                    "38": "",
                                    "39": "",
                                    "40": "",
                                    "41": "0",
                                    "42": "NULL",
                                    "43": "0",
                                    "44": "D",
                                    "45": "NULL",
                                    "46": "213.00000000",
                                    "47": "EA",
                                    "48": "0",
                                    "49": "0",
                                    "50": "0",
                                    "51": "0",
                                    "52": "",
                                    "53": "0",
                                    "54": "0.00000000",
                                    "55": "0",
                                    "56": "0",
                                    "57": "0",
                                    "58": "0",
                                    "59": "",
                                    "60": "",
                                    "61": "",
                                    "62": "",
                                    "63": "",
                                    "64": "",
                                    "65": "",
                                    "66": "",
                                    "67": "",
                                    "68": "",
                                    "69": "",
                                    "70": "0",
                                    "71": "",
                                    "72": "0",
                                    "73": "0",
                                    "74": "",
                                    "75": "",
                                    "76": "0",
                                    "77": "0x00000003277EDBAC",
                                    "78": "a1f320ba-65de-49ea-807b-0fec8b8c751a",
                                    "79": "0.00000000",
                                    "80": "0",
                                    "81": "0",
                                    "82": "0",
                                    "83": "",
                                    "84": "0",
                                    "85": "O",
                                    "86": "0.00000000",
                                    "87": "0.00000000",
                                    "88": "2022-09-12",
                                    "89": "1",
                                    "90": "0.00000000",
                                    "91": "0.00000000",
                                    "92": "0.00000000",
                                    "93": "0",
                                    "94": "",
                                    "95": "0",
                                    "96": "",
                                    "97": "0",
                                    "98": "0",
                                    "99": "NULL",
                                    "100": "",
                                    "101": "0",
                                    "102": "0",
                                    "103": "",
                                    "104": "0",
                                    "105": "0"
                                },
                                {
                                    "0": "SOLAR",
                                    "1": "1",
                                    "2": "0",
                                    "3": "7505",
                                    "4": "2",
                                    "5": "1",
                                    "6": "NULL",
                                    "7": "1182.00000000",
                                    "8": "1.0000",
                                    "9": "1182.00000000",
                                    "10": "000252",
                                    "11": "0",
                                    "12": "S",
                                    "13": "10",
                                    "14": "MAIN",
                                    "15": "0.00000000",
                                    "16": "0",
                                    "17": "0",
                                    "18": "0",
                                    "19": "COLU",
                                    "20": "NULL",
                                    "21": "",
                                    "22": "0",
                                    "23": "",
                                    "24": "NULL",
                                    "25": "0.00000000",
                                    "26": "",
                                    "27": "",
                                    "28": "",
                                    "29": "",
                                    "30": "",
                                    "31": "0",
                                    "32": "0",
                                    "33": "0",
                                    "34": "0",
                                    "35": "",
                                    "36": "0.00000000",
                                    "37": "PUR-SUB",
                                    "38": "",
                                    "39": "",
                                    "40": "",
                                    "41": "0",
                                    "42": "NULL",
                                    "43": "0",
                                    "44": "D",
                                    "45": "NULL",
                                    "46": "1182.00000000",
                                    "47": "EA",
                                    "48": "0",
                                    "49": "0",
                                    "50": "0",
                                    "51": "0",
                                    "52": "",
                                    "53": "0",
                                    "54": "0.00000000",
                                    "55": "0",
                                    "56": "0",
                                    "57": "0",
                                    "58": "0",
                                    "59": "",
                                    "60": "",
                                    "61": "",
                                    "62": "",
                                    "63": "",
                                    "64": "",
                                    "65": "",
                                    "66": "",
                                    "67": "",
                                    "68": "",
                                    "69": "",
                                    "70": "0",
                                    "71": "",
                                    "72": "0",
                                    "73": "0",
                                    "74": "",
                                    "75": "",
                                    "76": "0",
                                    "77": "0x00000003277EDBC7",
                                    "78": "8b55f9af-4777-4053-8f22-69877952797a",
                                    "79": "0.00000000",
                                    "80": "0",
                                    "81": "0",
                                    "82": "0",
                                    "83": "",
                                    "84": "0",
                                    "85": "O",
                                    "86": "0.00000000",
                                    "87": "0.00000000",
                                    "88": "2022-09-12",
                                    "89": "1",
                                    "90": "0.00000000",
                                    "91": "0.00000000",
                                    "92": "0.00000000",
                                    "93": "0",
                                    "94": "",
                                    "95": "0",
                                    "96": "",
                                    "97": "0",
                                    "98": "0",
                                    "99": "NULL",
                                    "100": "",
                                    "101": "0",
                                    "102": "0",
                                    "103": "",
                                    "104": "0",
                                    "105": "0"
                                }
                            ]
                        },
                        "text/html": [
                            "<table>",
                            "<tr><th>Company</th><th>OpenRelease</th><th>VoidRelease</th><th>PONum</th><th>POLine</th><th>PORelNum</th><th>DueDate</th><th>XRelQty</th><th>PurchasingFactor</th><th>RelQty</th><th>JobNum</th><th>AssemblySeq</th><th>JobSeqType</th><th>JobSeq</th><th>WarehouseCode</th><th>ReceivedQty</th><th>ExpOverride</th><th>ReqNum</th><th>ReqLine</th><th>Plant</th><th>PromiseDt</th><th>ProjectID</th><th>Confirmed</th><th>ConfirmVia</th><th>ReqChgDate</th><th>ReqChgQty</th><th>LockRel</th><th>RefDisplayAccount</th><th>RefType</th><th>RefCode</th><th>RefCodeDesc</th><th>OrderNum</th><th>OrderLine</th><th>OrderRelNum</th><th>Linked</th><th>ExtCompany</th><th>ShippedQty</th><th>TranType</th><th>GlbCompany</th><th>GlbPlant</th><th>GlbWarehouse</th><th>GlbCreateJobMtl</th><th>ShippedDate</th><th>ContainerID</th><th>PurchasingFactorDirection</th><th>PreviousDueDate</th><th>BaseQty</th><th>BaseUOM</th><th>BTOOrderNum</th><th>BTOOrderLine</th><th>BTOOrderRelNum</th><th>DropShip</th><th>ShipToNum</th><th>SoldToNum</th><th>SMIRcvdQty</th><th>ShpConNum</th><th>ShipToCustNum</th><th>MangCustNum</th><th>UseOTS</th><th>OTSName</th><th>OTSAddress1</th><th>OTSAddress2</th><th>OTSAddress3</th><th>OTSCity</th><th>OTSState</th><th>OTSZIP</th><th>OTSResaleID</th><th>OTSContact</th><th>OTSFaxNum</th><th>OTSPhoneNum</th><th>OTSCountryNum</th><th>ComplianceMsg</th><th>PORelOpen</th><th>Mapping</th><th>PhaseID</th><th>WBSPhaseID</th><th>IsMultiRel</th><th>SysRevID</th><th>SysRowID</th><th>SMIRemQty</th><th>LockQty</th><th>LockDate</th><th>DueDateChanged</th><th>ContractID</th><th>LinkToContract</th><th>Status</th><th>ArrivedQty</th><th>InvoicedQty</th><th>NeedByDate</th><th>LockNeedByDate</th><th>InspectionQty</th><th>FailedQty</th><th>PassedQty</th><th>ProjProcessed</th><th>DeliverTo</th><th>Taxable</th><th>TaxExempt</th><th>NoTaxRecalc</th><th>EpicorFSA</th><th>ReqChgPromiseDate</th><th>OTSEMailAddress</th><th>AttributeSetID</th><th>NumberOfPieces</th><th>NumberOfPiecesUOM</th><th>PlanningNumberOfPieces</th><th>FirmRelease</th></tr>",
                            "<tr><td>SOLAR</td><td>1</td><td>0</td><td>7505</td><td>1</td><td>1</td><td>NULL</td><td>213.00000000</td><td>1.0000</td><td>213.00000000</td><td>000228</td><td>0</td><td>S</td><td>10</td><td>MAIN</td><td>0.00000000</td><td>0</td><td>0</td><td>0</td><td>COLU</td><td>NULL</td><td></td><td>0</td><td></td><td>NULL</td><td>1182.00000000</td><td></td><td></td><td></td><td></td><td></td><td>0</td><td>0</td><td>0</td><td>0</td><td></td><td>0.00000000</td><td>PUR-SUB</td><td></td><td></td><td></td><td>0</td><td>NULL</td><td>0</td><td>D</td><td>NULL</td><td>213.00000000</td><td>EA</td><td>0</td><td>0</td><td>0</td><td>0</td><td></td><td>0</td><td>0.00000000</td><td>0</td><td>0</td><td>0</td><td>0</td><td></td><td></td><td></td><td></td><td></td><td></td><td></td><td></td><td></td><td></td><td></td><td>0</td><td></td><td>0</td><td>0</td><td></td><td></td><td>0</td><td>0x00000003277EDBAC</td><td>a1f320ba-65de-49ea-807b-0fec8b8c751a</td><td>0.00000000</td><td>0</td><td>0</td><td>0</td><td></td><td>0</td><td>O</td><td>0.00000000</td><td>0.00000000</td><td>2022-09-12</td><td>1</td><td>0.00000000</td><td>0.00000000</td><td>0.00000000</td><td>0</td><td></td><td>0</td><td></td><td>0</td><td>0</td><td>NULL</td><td></td><td>0</td><td>0</td><td></td><td>0</td><td>0</td></tr>",
                            "<tr><td>SOLAR</td><td>1</td><td>0</td><td>7505</td><td>2</td><td>1</td><td>NULL</td><td>1182.00000000</td><td>1.0000</td><td>1182.00000000</td><td>000252</td><td>0</td><td>S</td><td>10</td><td>MAIN</td><td>0.00000000</td><td>0</td><td>0</td><td>0</td><td>COLU</td><td>NULL</td><td></td><td>0</td><td></td><td>NULL</td><td>0.00000000</td><td></td><td></td><td></td><td></td><td></td><td>0</td><td>0</td><td>0</td><td>0</td><td></td><td>0.00000000</td><td>PUR-SUB</td><td></td><td></td><td></td><td>0</td><td>NULL</td><td>0</td><td>D</td><td>NULL</td><td>1182.00000000</td><td>EA</td><td>0</td><td>0</td><td>0</td><td>0</td><td></td><td>0</td><td>0.00000000</td><td>0</td><td>0</td><td>0</td><td>0</td><td></td><td></td><td></td><td></td><td></td><td></td><td></td><td></td><td></td><td></td><td></td><td>0</td><td></td><td>0</td><td>0</td><td></td><td></td><td>0</td><td>0x00000003277EDBC7</td><td>8b55f9af-4777-4053-8f22-69877952797a</td><td>0.00000000</td><td>0</td><td>0</td><td>0</td><td></td><td>0</td><td>O</td><td>0.00000000</td><td>0.00000000</td><td>2022-09-12</td><td>1</td><td>0.00000000</td><td>0.00000000</td><td>0.00000000</td><td>0</td><td></td><td>0</td><td></td><td>0</td><td>0</td><td>NULL</td><td></td><td>0</td><td>0</td><td></td><td>0</td><td>0</td></tr>",
                            "</table>"
                        ]
                    }
                }
            ],
            "execution_count": 5
        },
        {
            "cell_type": "code",
            "source": [
                "Select * \r\n",
                "  FROM [ERPDB].[Erp].[JobProd]\r\n",
                "Where Jobnum in ('000228', '000252')"
            ],
            "metadata": {
                "language": "sql",
                "azdata_cell_guid": "e995d1ac-3e38-49ea-b7d3-8711cfb43763"
            },
            "outputs": [
                {
                    "output_type": "display_data",
                    "data": {
                        "text/html": "(2 rows affected)"
                    },
                    "metadata": {}
                },
                {
                    "output_type": "display_data",
                    "data": {
                        "text/html": "Total execution time: 00:00:00.097"
                    },
                    "metadata": {}
                },
                {
                    "output_type": "execute_result",
                    "metadata": {},
                    "execution_count": 6,
                    "data": {
                        "application/vnd.dataresource+json": {
                            "schema": {
                                "fields": [
                                    {
                                        "name": "Company"
                                    },
                                    {
                                        "name": "JobNum"
                                    },
                                    {
                                        "name": "OrderNum"
                                    },
                                    {
                                        "name": "OrderLine"
                                    },
                                    {
                                        "name": "OrderRelNum"
                                    },
                                    {
                                        "name": "ProdQty"
                                    },
                                    {
                                        "name": "WarehouseCode"
                                    },
                                    {
                                        "name": "TargetJobNum"
                                    },
                                    {
                                        "name": "TargetAssemblySeq"
                                    },
                                    {
                                        "name": "TargetMtlSeq"
                                    },
                                    {
                                        "name": "ShippedQty"
                                    },
                                    {
                                        "name": "ReceivedQty"
                                    },
                                    {
                                        "name": "WIPQty"
                                    },
                                    {
                                        "name": "CallNum"
                                    },
                                    {
                                        "name": "CallLine"
                                    },
                                    {
                                        "name": "TFLineNum"
                                    },
                                    {
                                        "name": "PartNum"
                                    },
                                    {
                                        "name": "Plant"
                                    },
                                    {
                                        "name": "DemandContractNum"
                                    },
                                    {
                                        "name": "DemandHeadSeq"
                                    },
                                    {
                                        "name": "DemandDtlSeq"
                                    },
                                    {
                                        "name": "DemandScheduleSeq"
                                    },
                                    {
                                        "name": "PlanUserID"
                                    },
                                    {
                                        "name": "PlanID"
                                    },
                                    {
                                        "name": "SysRevID"
                                    },
                                    {
                                        "name": "SysRowID"
                                    },
                                    {
                                        "name": "WIPToMiscShipment"
                                    },
                                    {
                                        "name": "RMANum"
                                    },
                                    {
                                        "name": "RMALine"
                                    },
                                    {
                                        "name": "RMAReceipt"
                                    },
                                    {
                                        "name": "RMADisp"
                                    },
                                    {
                                        "name": "DMRNum"
                                    },
                                    {
                                        "name": "DMRActionNum"
                                    },
                                    {
                                        "name": "AttributeSetID"
                                    },
                                    {
                                        "name": "PlanningNumberOfPieces"
                                    }
                                ]
                            },
                            "data": [
                                {
                                    "0": "SOLAR",
                                    "1": "000228",
                                    "2": "0",
                                    "3": "0",
                                    "4": "0",
                                    "5": "213.00000000",
                                    "6": "",
                                    "7": "4000183-5-3",
                                    "8": "0",
                                    "9": "20",
                                    "10": "0.00000000",
                                    "11": "0.00000000",
                                    "12": "213.00000000",
                                    "13": "0",
                                    "14": "0",
                                    "15": "",
                                    "16": "119716",
                                    "17": "",
                                    "18": "0",
                                    "19": "0",
                                    "20": "0",
                                    "21": "0",
                                    "22": "",
                                    "23": "",
                                    "24": "0x00000003227F8FED",
                                    "25": "334e44ba-48ac-491c-b976-6291b161003d",
                                    "26": "0",
                                    "27": "0",
                                    "28": "0",
                                    "29": "0",
                                    "30": "0",
                                    "31": "0",
                                    "32": "0",
                                    "33": "0",
                                    "34": "0"
                                },
                                {
                                    "0": "SOLAR",
                                    "1": "000252",
                                    "2": "0",
                                    "3": "0",
                                    "4": "0",
                                    "5": "1182.00000000",
                                    "6": "",
                                    "7": "4000183-5-3",
                                    "8": "0",
                                    "9": "10",
                                    "10": "0.00000000",
                                    "11": "0.00000000",
                                    "12": "1182.00000000",
                                    "13": "0",
                                    "14": "0",
                                    "15": "",
                                    "16": "119715",
                                    "17": "",
                                    "18": "0",
                                    "19": "0",
                                    "20": "0",
                                    "21": "0",
                                    "22": "",
                                    "23": "",
                                    "24": "0x00000003227F922C",
                                    "25": "267f2e58-110c-4a8a-98c7-cc9cd930e322",
                                    "26": "0",
                                    "27": "0",
                                    "28": "0",
                                    "29": "0",
                                    "30": "0",
                                    "31": "0",
                                    "32": "0",
                                    "33": "0",
                                    "34": "0"
                                }
                            ]
                        },
                        "text/html": [
                            "<table>",
                            "<tr><th>Company</th><th>JobNum</th><th>OrderNum</th><th>OrderLine</th><th>OrderRelNum</th><th>ProdQty</th><th>WarehouseCode</th><th>TargetJobNum</th><th>TargetAssemblySeq</th><th>TargetMtlSeq</th><th>ShippedQty</th><th>ReceivedQty</th><th>WIPQty</th><th>CallNum</th><th>CallLine</th><th>TFLineNum</th><th>PartNum</th><th>Plant</th><th>DemandContractNum</th><th>DemandHeadSeq</th><th>DemandDtlSeq</th><th>DemandScheduleSeq</th><th>PlanUserID</th><th>PlanID</th><th>SysRevID</th><th>SysRowID</th><th>WIPToMiscShipment</th><th>RMANum</th><th>RMALine</th><th>RMAReceipt</th><th>RMADisp</th><th>DMRNum</th><th>DMRActionNum</th><th>AttributeSetID</th><th>PlanningNumberOfPieces</th></tr>",
                            "<tr><td>SOLAR</td><td>000228</td><td>0</td><td>0</td><td>0</td><td>213.00000000</td><td></td><td>4000183-5-3</td><td>0</td><td>20</td><td>0.00000000</td><td>0.00000000</td><td>213.00000000</td><td>0</td><td>0</td><td></td><td>119716</td><td></td><td>0</td><td>0</td><td>0</td><td>0</td><td></td><td></td><td>0x00000003227F8FED</td><td>334e44ba-48ac-491c-b976-6291b161003d</td><td>0</td><td>0</td><td>0</td><td>0</td><td>0</td><td>0</td><td>0</td><td>0</td><td>0</td></tr>",
                            "<tr><td>SOLAR</td><td>000252</td><td>0</td><td>0</td><td>0</td><td>1182.00000000</td><td></td><td>4000183-5-3</td><td>0</td><td>10</td><td>0.00000000</td><td>0.00000000</td><td>1182.00000000</td><td>0</td><td>0</td><td></td><td>119715</td><td></td><td>0</td><td>0</td><td>0</td><td>0</td><td></td><td></td><td>0x00000003227F922C</td><td>267f2e58-110c-4a8a-98c7-cc9cd930e322</td><td>0</td><td>0</td><td>0</td><td>0</td><td>0</td><td>0</td><td>0</td><td>0</td><td>0</td></tr>",
                            "</table>"
                        ]
                    }
                }
            ],
            "execution_count": 6
        },
        {
            "cell_type": "code",
            "source": [
                "Select * \r\n",
                "  FROM [ERPDB].[Erp].[JobProd]\r\n",
                "  Where JobNum = '4000183-5-3'\r\n",
                "  and company = 'Solar'"
            ],
            "metadata": {
                "language": "sql",
                "azdata_cell_guid": "678ad2ac-12fb-4cb7-8250-d74c50bf8e9e",
                "tags": []
            },
            "outputs": [
                {
                    "output_type": "display_data",
                    "data": {
                        "text/html": "(1 row affected)"
                    },
                    "metadata": {}
                },
                {
                    "output_type": "display_data",
                    "data": {
                        "text/html": "Total execution time: 00:00:00.071"
                    },
                    "metadata": {}
                },
                {
                    "output_type": "execute_result",
                    "metadata": {},
                    "execution_count": 7,
                    "data": {
                        "application/vnd.dataresource+json": {
                            "schema": {
                                "fields": [
                                    {
                                        "name": "Company"
                                    },
                                    {
                                        "name": "JobNum"
                                    },
                                    {
                                        "name": "OrderNum"
                                    },
                                    {
                                        "name": "OrderLine"
                                    },
                                    {
                                        "name": "OrderRelNum"
                                    },
                                    {
                                        "name": "ProdQty"
                                    },
                                    {
                                        "name": "WarehouseCode"
                                    },
                                    {
                                        "name": "TargetJobNum"
                                    },
                                    {
                                        "name": "TargetAssemblySeq"
                                    },
                                    {
                                        "name": "TargetMtlSeq"
                                    },
                                    {
                                        "name": "ShippedQty"
                                    },
                                    {
                                        "name": "ReceivedQty"
                                    },
                                    {
                                        "name": "WIPQty"
                                    },
                                    {
                                        "name": "CallNum"
                                    },
                                    {
                                        "name": "CallLine"
                                    },
                                    {
                                        "name": "TFLineNum"
                                    },
                                    {
                                        "name": "PartNum"
                                    },
                                    {
                                        "name": "Plant"
                                    },
                                    {
                                        "name": "DemandContractNum"
                                    },
                                    {
                                        "name": "DemandHeadSeq"
                                    },
                                    {
                                        "name": "DemandDtlSeq"
                                    },
                                    {
                                        "name": "DemandScheduleSeq"
                                    },
                                    {
                                        "name": "PlanUserID"
                                    },
                                    {
                                        "name": "PlanID"
                                    },
                                    {
                                        "name": "SysRevID"
                                    },
                                    {
                                        "name": "SysRowID"
                                    },
                                    {
                                        "name": "WIPToMiscShipment"
                                    },
                                    {
                                        "name": "RMANum"
                                    },
                                    {
                                        "name": "RMALine"
                                    },
                                    {
                                        "name": "RMAReceipt"
                                    },
                                    {
                                        "name": "RMADisp"
                                    },
                                    {
                                        "name": "DMRNum"
                                    },
                                    {
                                        "name": "DMRActionNum"
                                    },
                                    {
                                        "name": "AttributeSetID"
                                    },
                                    {
                                        "name": "PlanningNumberOfPieces"
                                    }
                                ]
                            },
                            "data": [
                                {
                                    "0": "SOLAR",
                                    "1": "4000183-5-3",
                                    "2": "4000183",
                                    "3": "5",
                                    "4": "3",
                                    "5": "1.00000000",
                                    "6": "",
                                    "7": "",
                                    "8": "0",
                                    "9": "0",
                                    "10": "0.00000000",
                                    "11": "0.00000000",
                                    "12": "1.00000000",
                                    "13": "0",
                                    "14": "0",
                                    "15": "",
                                    "16": "CONSPHASE",
                                    "17": "COLU",
                                    "18": "0",
                                    "19": "0",
                                    "20": "0",
                                    "21": "0",
                                    "22": "",
                                    "23": "",
                                    "24": "0x000000031ECF1566",
                                    "25": "68c0aeb5-11d4-4c98-bf9a-7028330ef227",
                                    "26": "0",
                                    "27": "0",
                                    "28": "0",
                                    "29": "0",
                                    "30": "0",
                                    "31": "0",
                                    "32": "0",
                                    "33": "0",
                                    "34": "0"
                                }
                            ]
                        },
                        "text/html": [
                            "<table>",
                            "<tr><th>Company</th><th>JobNum</th><th>OrderNum</th><th>OrderLine</th><th>OrderRelNum</th><th>ProdQty</th><th>WarehouseCode</th><th>TargetJobNum</th><th>TargetAssemblySeq</th><th>TargetMtlSeq</th><th>ShippedQty</th><th>ReceivedQty</th><th>WIPQty</th><th>CallNum</th><th>CallLine</th><th>TFLineNum</th><th>PartNum</th><th>Plant</th><th>DemandContractNum</th><th>DemandHeadSeq</th><th>DemandDtlSeq</th><th>DemandScheduleSeq</th><th>PlanUserID</th><th>PlanID</th><th>SysRevID</th><th>SysRowID</th><th>WIPToMiscShipment</th><th>RMANum</th><th>RMALine</th><th>RMAReceipt</th><th>RMADisp</th><th>DMRNum</th><th>DMRActionNum</th><th>AttributeSetID</th><th>PlanningNumberOfPieces</th></tr>",
                            "<tr><td>SOLAR</td><td>4000183-5-3</td><td>4000183</td><td>5</td><td>3</td><td>1.00000000</td><td></td><td></td><td>0</td><td>0</td><td>0.00000000</td><td>0.00000000</td><td>1.00000000</td><td>0</td><td>0</td><td></td><td>CONSPHASE</td><td>COLU</td><td>0</td><td>0</td><td>0</td><td>0</td><td></td><td></td><td>0x000000031ECF1566</td><td>68c0aeb5-11d4-4c98-bf9a-7028330ef227</td><td>0</td><td>0</td><td>0</td><td>0</td><td>0</td><td>0</td><td>0</td><td>0</td><td>0</td></tr>",
                            "</table>"
                        ]
                    }
                }
            ],
            "execution_count": 7
        },
        {
            "cell_type": "code",
            "source": [
                "Select *  FROM [ERPDB].[Erp].[JobHead]\r\n",
                " Where JobNum = '4000183-5-3'\r\n",
                "  and company = 'Solar'"
            ],
            "metadata": {
                "language": "sql",
                "azdata_cell_guid": "302d5331-a5f6-4bad-86b5-643848e67ebf"
            },
            "outputs": [
                {
                    "output_type": "display_data",
                    "data": {
                        "text/html": "(1 row affected)"
                    },
                    "metadata": {}
                },
                {
                    "output_type": "display_data",
                    "data": {
                        "text/html": "Total execution time: 00:00:00.120"
                    },
                    "metadata": {}
                },
                {
                    "output_type": "execute_result",
                    "metadata": {},
                    "execution_count": 8,
                    "data": {
                        "application/vnd.dataresource+json": {
                            "schema": {
                                "fields": [
                                    {
                                        "name": "Company"
                                    },
                                    {
                                        "name": "JobClosed"
                                    },
                                    {
                                        "name": "ClosedDate"
                                    },
                                    {
                                        "name": "JobComplete"
                                    },
                                    {
                                        "name": "JobCompletionDate"
                                    },
                                    {
                                        "name": "JobEngineered"
                                    },
                                    {
                                        "name": "CheckOff1"
                                    },
                                    {
                                        "name": "CheckOff2"
                                    },
                                    {
                                        "name": "CheckOff3"
                                    },
                                    {
                                        "name": "CheckOff4"
                                    },
                                    {
                                        "name": "CheckOff5"
                                    },
                                    {
                                        "name": "JobReleased"
                                    },
                                    {
                                        "name": "JobHeld"
                                    },
                                    {
                                        "name": "SchedStatus"
                                    },
                                    {
                                        "name": "JobNum"
                                    },
                                    {
                                        "name": "PartNum"
                                    },
                                    {
                                        "name": "RevisionNum"
                                    },
                                    {
                                        "name": "DrawNum"
                                    },
                                    {
                                        "name": "PartDescription"
                                    },
                                    {
                                        "name": "ProdQty"
                                    },
                                    {
                                        "name": "IUM"
                                    },
                                    {
                                        "name": "StartDate"
                                    },
                                    {
                                        "name": "StartHour"
                                    },
                                    {
                                        "name": "DueDate"
                                    },
                                    {
                                        "name": "DueHour"
                                    },
                                    {
                                        "name": "ReqDueDate"
                                    },
                                    {
                                        "name": "JobCode"
                                    },
                                    {
                                        "name": "QuoteNum"
                                    },
                                    {
                                        "name": "QuoteLine"
                                    },
                                    {
                                        "name": "ProdCode"
                                    },
                                    {
                                        "name": "UserChar1"
                                    },
                                    {
                                        "name": "UserChar2"
                                    },
                                    {
                                        "name": "UserChar3"
                                    },
                                    {
                                        "name": "UserChar4"
                                    },
                                    {
                                        "name": "UserDate1"
                                    },
                                    {
                                        "name": "UserDate2"
                                    },
                                    {
                                        "name": "UserDate3"
                                    },
                                    {
                                        "name": "UserDate4"
                                    },
                                    {
                                        "name": "UserDecimal1"
                                    },
                                    {
                                        "name": "UserDecimal2"
                                    },
                                    {
                                        "name": "UserInteger1"
                                    },
                                    {
                                        "name": "UserInteger2"
                                    },
                                    {
                                        "name": "CommentText"
                                    },
                                    {
                                        "name": "ExpenseCode"
                                    },
                                    {
                                        "name": "InCopyList"
                                    },
                                    {
                                        "name": "WIName"
                                    },
                                    {
                                        "name": "WIStartDate"
                                    },
                                    {
                                        "name": "WIStartHour"
                                    },
                                    {
                                        "name": "WIDueDate"
                                    },
                                    {
                                        "name": "WIDueHour"
                                    },
                                    {
                                        "name": "Candidate"
                                    },
                                    {
                                        "name": "SchedCode"
                                    },
                                    {
                                        "name": "SchedLocked"
                                    },
                                    {
                                        "name": "ProjectID"
                                    },
                                    {
                                        "name": "WIPCleared"
                                    },
                                    {
                                        "name": "JobFirm"
                                    },
                                    {
                                        "name": "PersonList"
                                    },
                                    {
                                        "name": "PersonID"
                                    },
                                    {
                                        "name": "ProdTeamID"
                                    },
                                    {
                                        "name": "QtyCompleted"
                                    },
                                    {
                                        "name": "Plant"
                                    },
                                    {
                                        "name": "DatePurged"
                                    },
                                    {
                                        "name": "TravelerReadyToPrint"
                                    },
                                    {
                                        "name": "TravelerLastPrinted"
                                    },
                                    {
                                        "name": "StatusReadyToPrint"
                                    },
                                    {
                                        "name": "StatusLastPrinted"
                                    },
                                    {
                                        "name": "CallNum"
                                    },
                                    {
                                        "name": "CallLine"
                                    },
                                    {
                                        "name": "JobType"
                                    },
                                    {
                                        "name": "RestoreFlag"
                                    },
                                    {
                                        "name": "PhaseID"
                                    },
                                    {
                                        "name": "AnalysisCode"
                                    },
                                    {
                                        "name": "LockQty"
                                    },
                                    {
                                        "name": "HDCaseNum"
                                    },
                                    {
                                        "name": "ProcessMode"
                                    },
                                    {
                                        "name": "PlannedActionDate"
                                    },
                                    {
                                        "name": "PlannedKitDate"
                                    },
                                    {
                                        "name": "MSPTaskID"
                                    },
                                    {
                                        "name": "MSPPredecessor"
                                    },
                                    {
                                        "name": "UserMapData"
                                    },
                                    {
                                        "name": "ProductionYield"
                                    },
                                    {
                                        "name": "OrigProdQty"
                                    },
                                    {
                                        "name": "PreserveOrigQtys"
                                    },
                                    {
                                        "name": "NoAutoCompletion"
                                    },
                                    {
                                        "name": "NoAutoClosing"
                                    },
                                    {
                                        "name": "CreatedBy"
                                    },
                                    {
                                        "name": "CreateDate"
                                    },
                                    {
                                        "name": "WhseAllocFlag"
                                    },
                                    {
                                        "name": "OwnershipStatus"
                                    },
                                    {
                                        "name": "PDMObjID"
                                    },
                                    {
                                        "name": "ExportRequested"
                                    },
                                    {
                                        "name": "SplitMfgCostElements"
                                    },
                                    {
                                        "name": "XRefPartNum"
                                    },
                                    {
                                        "name": "XRefPartType"
                                    },
                                    {
                                        "name": "XRefCustNum"
                                    },
                                    {
                                        "name": "BasePartNum"
                                    },
                                    {
                                        "name": "BaseRevisionNum"
                                    },
                                    {
                                        "name": "RoughCutScheduled"
                                    },
                                    {
                                        "name": "EquipID"
                                    },
                                    {
                                        "name": "PlanNum"
                                    },
                                    {
                                        "name": "MaintPriority"
                                    },
                                    {
                                        "name": "SplitJob"
                                    },
                                    {
                                        "name": "NumberSource"
                                    },
                                    {
                                        "name": "CloseMeterReading"
                                    },
                                    {
                                        "name": "IssueTopicID1"
                                    },
                                    {
                                        "name": "IssueTopicID2"
                                    },
                                    {
                                        "name": "IssueTopicID3"
                                    },
                                    {
                                        "name": "IssueTopicID4"
                                    },
                                    {
                                        "name": "IssueTopicID5"
                                    },
                                    {
                                        "name": "IssueTopicID6"
                                    },
                                    {
                                        "name": "IssueTopicID7"
                                    },
                                    {
                                        "name": "IssueTopicID8"
                                    },
                                    {
                                        "name": "IssueTopicID9"
                                    },
                                    {
                                        "name": "IssueTopicID10"
                                    },
                                    {
                                        "name": "IssueTopics"
                                    },
                                    {
                                        "name": "ResTopicID1"
                                    },
                                    {
                                        "name": "ResTopicID2"
                                    },
                                    {
                                        "name": "ResTopicID3"
                                    },
                                    {
                                        "name": "ResTopicID4"
                                    },
                                    {
                                        "name": "ResTopicID5"
                                    },
                                    {
                                        "name": "ResTopicID6"
                                    },
                                    {
                                        "name": "ResTopicID7"
                                    },
                                    {
                                        "name": "ResTopicID8"
                                    },
                                    {
                                        "name": "ResTopicID9"
                                    },
                                    {
                                        "name": "ResTopicID10"
                                    },
                                    {
                                        "name": "ResTopics"
                                    },
                                    {
                                        "name": "Forward"
                                    },
                                    {
                                        "name": "SchedSeq"
                                    },
                                    {
                                        "name": "PAAExists"
                                    },
                                    {
                                        "name": "DtlsWithinLeadTime"
                                    },
                                    {
                                        "name": "GroupSeq"
                                    },
                                    {
                                        "name": "RoughCut"
                                    },
                                    {
                                        "name": "PlanGUID"
                                    },
                                    {
                                        "name": "PlanUserID"
                                    },
                                    {
                                        "name": "LastChangedBy"
                                    },
                                    {
                                        "name": "LastChangedOn"
                                    },
                                    {
                                        "name": "EPMExportLevel"
                                    },
                                    {
                                        "name": "JobWorkflowState"
                                    },
                                    {
                                        "name": "JobCSR"
                                    },
                                    {
                                        "name": "ExternalMES"
                                    },
                                    {
                                        "name": "SysRevID"
                                    },
                                    {
                                        "name": "SysRowID"
                                    },
                                    {
                                        "name": "LastExternalMESDate"
                                    },
                                    {
                                        "name": "LastScheduleDate"
                                    },
                                    {
                                        "name": "LastScheduleProc"
                                    },
                                    {
                                        "name": "SchedPriority"
                                    },
                                    {
                                        "name": "DaysLate"
                                    },
                                    {
                                        "name": "ContractID"
                                    },
                                    {
                                        "name": "ProjProcessed"
                                    },
                                    {
                                        "name": "SyncReqBy"
                                    },
                                    {
                                        "name": "CustName"
                                    },
                                    {
                                        "name": "CustID"
                                    },
                                    {
                                        "name": "IsCSRSet"
                                    },
                                    {
                                        "name": "UnReadyCostProcess"
                                    },
                                    {
                                        "name": "ProcSuspendedUpdates"
                                    },
                                    {
                                        "name": "ProjProcessedDate"
                                    },
                                    {
                                        "name": "PCLinkRemoved"
                                    },
                                    {
                                        "name": "ExternalMESSyncRequired"
                                    },
                                    {
                                        "name": "ExternalMESLastSync"
                                    },
                                    {
                                        "name": "EpicorFSA"
                                    }
                                ]
                            },
                            "data": [
                                {
                                    "0": "SOLAR",
                                    "1": "0",
                                    "2": "NULL",
                                    "3": "0",
                                    "4": "NULL",
                                    "5": "1",
                                    "6": "0",
                                    "7": "0",
                                    "8": "0",
                                    "9": "0",
                                    "10": "0",
                                    "11": "1",
                                    "12": "1",
                                    "13": "1",
                                    "14": "4000183-5-3",
                                    "15": "CONSPHASE",
                                    "16": "C",
                                    "17": "",
                                    "18": "Construction Phases",
                                    "19": "1.00000000",
                                    "20": "EA",
                                    "21": "2022-09-12",
                                    "22": "0.00",
                                    "23": "2022-09-12",
                                    "24": "0.00",
                                    "25": "2022-09-12",
                                    "26": "",
                                    "27": "0",
                                    "28": "0",
                                    "29": "02MFG",
                                    "30": "",
                                    "31": "",
                                    "32": "",
                                    "33": "",
                                    "34": "NULL",
                                    "35": "NULL",
                                    "36": "NULL",
                                    "37": "NULL",
                                    "38": "0.00",
                                    "39": "0.00",
                                    "40": "0",
                                    "41": "0",
                                    "42": "",
                                    "43": "",
                                    "44": "0",
                                    "45": "",
                                    "46": "2022-09-12",
                                    "47": "0.00",
                                    "48": "2022-09-12",
                                    "49": "0.00",
                                    "50": "0",
                                    "51": "NORMAL",
                                    "52": "0",
                                    "53": "22220407",
                                    "54": "0",
                                    "55": "1",
                                    "56": "",
                                    "57": "",
                                    "58": "",
                                    "59": "0.00000000",
                                    "60": "COLU",
                                    "61": "NULL",
                                    "62": "0",
                                    "63": "NULL",
                                    "64": "0",
                                    "65": "NULL",
                                    "66": "0",
                                    "67": "0",
                                    "68": "MFG",
                                    "69": "",
                                    "70": "2.3",
                                    "71": "",
                                    "72": "0",
                                    "73": "0",
                                    "74": "S",
                                    "75": "2022-09-12",
                                    "76": "2022-09-12",
                                    "77": "",
                                    "78": "",
                                    "79": "",
                                    "80": "0",
                                    "81": "0.00000000",
                                    "82": "0",
                                    "83": "0",
                                    "84": "0",
                                    "85": "LS",
                                    "86": "2022-07-04",
                                    "87": "0",
                                    "88": "",
                                    "89": "",
                                    "90": "",
                                    "91": "0",
                                    "92": "",
                                    "93": "C",
                                    "94": "151",
                                    "95": "",
                                    "96": "",
                                    "97": "0",
                                    "98": "",
                                    "99": "0",
                                    "100": "",
                                    "101": "0",
                                    "102": "1",
                                    "103": "0",
                                    "104": "",
                                    "105": "",
                                    "106": "",
                                    "107": "",
                                    "108": "",
                                    "109": "",
                                    "110": "",
                                    "111": "",
                                    "112": "",
                                    "113": "",
                                    "114": "",
                                    "115": "",
                                    "116": "",
                                    "117": "",
                                    "118": "",
                                    "119": "",
                                    "120": "",
                                    "121": "",
                                    "122": "",
                                    "123": "",
                                    "124": "",
                                    "125": "",
                                    "126": "0",
                                    "127": "0",
                                    "128": "0",
                                    "129": "0",
                                    "130": "0",
                                    "131": "1",
                                    "132": "",
                                    "133": "",
                                    "134": "",
                                    "135": "NULL",
                                    "136": "0",
                                    "137": "",
                                    "138": "",
                                    "139": "0",
                                    "140": "0x0000000374FF6F07",
                                    "141": "ecc49310-6431-4ffd-bee4-3a0f80879c7a",
                                    "142": "NULL",
                                    "143": "NULL",
                                    "144": "",
                                    "145": "0",
                                    "146": "0",
                                    "147": "",
                                    "148": "1",
                                    "149": "0",
                                    "150": "",
                                    "151": "",
                                    "152": "0",
                                    "153": "0",
                                    "154": "",
                                    "155": "2022-10-15 00:00:00.000",
                                    "156": "0",
                                    "157": "0",
                                    "158": "NULL",
                                    "159": "0"
                                }
                            ]
                        },
                        "text/html": [
                            "<table>",
                            "<tr><th>Company</th><th>JobClosed</th><th>ClosedDate</th><th>JobComplete</th><th>JobCompletionDate</th><th>JobEngineered</th><th>CheckOff1</th><th>CheckOff2</th><th>CheckOff3</th><th>CheckOff4</th><th>CheckOff5</th><th>JobReleased</th><th>JobHeld</th><th>SchedStatus</th><th>JobNum</th><th>PartNum</th><th>RevisionNum</th><th>DrawNum</th><th>PartDescription</th><th>ProdQty</th><th>IUM</th><th>StartDate</th><th>StartHour</th><th>DueDate</th><th>DueHour</th><th>ReqDueDate</th><th>JobCode</th><th>QuoteNum</th><th>QuoteLine</th><th>ProdCode</th><th>UserChar1</th><th>UserChar2</th><th>UserChar3</th><th>UserChar4</th><th>UserDate1</th><th>UserDate2</th><th>UserDate3</th><th>UserDate4</th><th>UserDecimal1</th><th>UserDecimal2</th><th>UserInteger1</th><th>UserInteger2</th><th>CommentText</th><th>ExpenseCode</th><th>InCopyList</th><th>WIName</th><th>WIStartDate</th><th>WIStartHour</th><th>WIDueDate</th><th>WIDueHour</th><th>Candidate</th><th>SchedCode</th><th>SchedLocked</th><th>ProjectID</th><th>WIPCleared</th><th>JobFirm</th><th>PersonList</th><th>PersonID</th><th>ProdTeamID</th><th>QtyCompleted</th><th>Plant</th><th>DatePurged</th><th>TravelerReadyToPrint</th><th>TravelerLastPrinted</th><th>StatusReadyToPrint</th><th>StatusLastPrinted</th><th>CallNum</th><th>CallLine</th><th>JobType</th><th>RestoreFlag</th><th>PhaseID</th><th>AnalysisCode</th><th>LockQty</th><th>HDCaseNum</th><th>ProcessMode</th><th>PlannedActionDate</th><th>PlannedKitDate</th><th>MSPTaskID</th><th>MSPPredecessor</th><th>UserMapData</th><th>ProductionYield</th><th>OrigProdQty</th><th>PreserveOrigQtys</th><th>NoAutoCompletion</th><th>NoAutoClosing</th><th>CreatedBy</th><th>CreateDate</th><th>WhseAllocFlag</th><th>OwnershipStatus</th><th>PDMObjID</th><th>ExportRequested</th><th>SplitMfgCostElements</th><th>XRefPartNum</th><th>XRefPartType</th><th>XRefCustNum</th><th>BasePartNum</th><th>BaseRevisionNum</th><th>RoughCutScheduled</th><th>EquipID</th><th>PlanNum</th><th>MaintPriority</th><th>SplitJob</th><th>NumberSource</th><th>CloseMeterReading</th><th>IssueTopicID1</th><th>IssueTopicID2</th><th>IssueTopicID3</th><th>IssueTopicID4</th><th>IssueTopicID5</th><th>IssueTopicID6</th><th>IssueTopicID7</th><th>IssueTopicID8</th><th>IssueTopicID9</th><th>IssueTopicID10</th><th>IssueTopics</th><th>ResTopicID1</th><th>ResTopicID2</th><th>ResTopicID3</th><th>ResTopicID4</th><th>ResTopicID5</th><th>ResTopicID6</th><th>ResTopicID7</th><th>ResTopicID8</th><th>ResTopicID9</th><th>ResTopicID10</th><th>ResTopics</th><th>Forward</th><th>SchedSeq</th><th>PAAExists</th><th>DtlsWithinLeadTime</th><th>GroupSeq</th><th>RoughCut</th><th>PlanGUID</th><th>PlanUserID</th><th>LastChangedBy</th><th>LastChangedOn</th><th>EPMExportLevel</th><th>JobWorkflowState</th><th>JobCSR</th><th>ExternalMES</th><th>SysRevID</th><th>SysRowID</th><th>LastExternalMESDate</th><th>LastScheduleDate</th><th>LastScheduleProc</th><th>SchedPriority</th><th>DaysLate</th><th>ContractID</th><th>ProjProcessed</th><th>SyncReqBy</th><th>CustName</th><th>CustID</th><th>IsCSRSet</th><th>UnReadyCostProcess</th><th>ProcSuspendedUpdates</th><th>ProjProcessedDate</th><th>PCLinkRemoved</th><th>ExternalMESSyncRequired</th><th>ExternalMESLastSync</th><th>EpicorFSA</th></tr>",
                            "<tr><td>SOLAR</td><td>0</td><td>NULL</td><td>0</td><td>NULL</td><td>1</td><td>0</td><td>0</td><td>0</td><td>0</td><td>0</td><td>1</td><td>1</td><td>1</td><td>4000183-5-3</td><td>CONSPHASE</td><td>C</td><td></td><td>Construction Phases</td><td>1.00000000</td><td>EA</td><td>2022-09-12</td><td>0.00</td><td>2022-09-12</td><td>0.00</td><td>2022-09-12</td><td></td><td>0</td><td>0</td><td>02MFG</td><td></td><td></td><td></td><td></td><td>NULL</td><td>NULL</td><td>NULL</td><td>NULL</td><td>0.00</td><td>0.00</td><td>0</td><td>0</td><td></td><td></td><td>0</td><td></td><td>2022-09-12</td><td>0.00</td><td>2022-09-12</td><td>0.00</td><td>0</td><td>NORMAL</td><td>0</td><td>22220407</td><td>0</td><td>1</td><td></td><td></td><td></td><td>0.00000000</td><td>COLU</td><td>NULL</td><td>0</td><td>NULL</td><td>0</td><td>NULL</td><td>0</td><td>0</td><td>MFG</td><td></td><td>2.3</td><td></td><td>0</td><td>0</td><td>S</td><td>2022-09-12</td><td>2022-09-12</td><td></td><td></td><td></td><td>0</td><td>0.00000000</td><td>0</td><td>0</td><td>0</td><td>LS</td><td>2022-07-04</td><td>0</td><td></td><td></td><td></td><td>0</td><td></td><td>C</td><td>151</td><td></td><td></td><td>0</td><td></td><td>0</td><td></td><td>0</td><td>1</td><td>0</td><td></td><td></td><td></td><td></td><td></td><td></td><td></td><td></td><td></td><td></td><td></td><td></td><td></td><td></td><td></td><td></td><td></td><td></td><td></td><td></td><td></td><td></td><td>0</td><td>0</td><td>0</td><td>0</td><td>0</td><td>1</td><td></td><td></td><td></td><td>NULL</td><td>0</td><td></td><td></td><td>0</td><td>0x0000000374FF6F07</td><td>ecc49310-6431-4ffd-bee4-3a0f80879c7a</td><td>NULL</td><td>NULL</td><td></td><td>0</td><td>0</td><td></td><td>1</td><td>0</td><td></td><td></td><td>0</td><td>0</td><td></td><td>2022-10-15 00:00:00.000</td><td>0</td><td>0</td><td>NULL</td><td>0</td></tr>",
                            "</table>"
                        ]
                    }
                }
            ],
            "execution_count": 8
        },
        {
            "cell_type": "markdown",
            "source": [
                "# Part Tran view vs ERP\n",
                "\n",
                "The etl.vwParttran table is already connected to the Order number by joining on the etl.vwOrderdetail.\n",
                "\n",
                "<mark>**However does that hold true to connecting on the erp.jobprod table?**</mark>"
            ],
            "metadata": {
                "language": "sql",
                "azdata_cell_guid": "9ed6d0e6-d0c7-47e5-ac43-5253a76e8f32"
            },
            "attachments": {}
        },
        {
            "cell_type": "code",
            "source": [
                "Select *\r\n",
                "From ERPDB.etl.vwparttran\r\n",
                "Where ordernum like '4003885%'\r\n",
                "and Company like 'rbmi'"
            ],
            "metadata": {
                "language": "sql",
                "azdata_cell_guid": "ec971271-5672-4696-9435-aa722f640dad",
                "tags": [
                    "hide_input"
                ]
            },
            "outputs": [
                {
                    "output_type": "display_data",
                    "data": {
                        "text/html": "(3 rows affected)"
                    },
                    "metadata": {}
                },
                {
                    "output_type": "display_data",
                    "data": {
                        "text/html": "Total execution time: 00:00:03.155"
                    },
                    "metadata": {}
                },
                {
                    "output_type": "execute_result",
                    "execution_count": 10,
                    "data": {
                        "application/vnd.dataresource+json": {
                            "schema": {
                                "fields": [
                                    {
                                        "name": "Company"
                                    },
                                    {
                                        "name": "SysDate"
                                    },
                                    {
                                        "name": "SysTime"
                                    },
                                    {
                                        "name": "SystemDateTime"
                                    },
                                    {
                                        "name": "TranNum"
                                    },
                                    {
                                        "name": "PartNum"
                                    },
                                    {
                                        "name": "WareHouseCode"
                                    },
                                    {
                                        "name": "BinNum"
                                    },
                                    {
                                        "name": "TranClass"
                                    },
                                    {
                                        "name": "TranType"
                                    },
                                    {
                                        "name": "InventoryTrans"
                                    },
                                    {
                                        "name": "TranDate"
                                    },
                                    {
                                        "name": "TranQty"
                                    },
                                    {
                                        "name": "UM"
                                    },
                                    {
                                        "name": "MtlUnitCost"
                                    },
                                    {
                                        "name": "LbrUnitCost"
                                    },
                                    {
                                        "name": "BurUnitCost"
                                    },
                                    {
                                        "name": "SubUnitCost"
                                    },
                                    {
                                        "name": "MtlBurUnitCost"
                                    },
                                    {
                                        "name": "ExtCost"
                                    },
                                    {
                                        "name": "CostMethod"
                                    },
                                    {
                                        "name": "JobNum"
                                    },
                                    {
                                        "name": "AssemblySeq"
                                    },
                                    {
                                        "name": "JobSeqType"
                                    },
                                    {
                                        "name": "JobSeq"
                                    },
                                    {
                                        "name": "PackType"
                                    },
                                    {
                                        "name": "PackNum"
                                    },
                                    {
                                        "name": "PackLine"
                                    },
                                    {
                                        "name": "PONum"
                                    },
                                    {
                                        "name": "POLine"
                                    },
                                    {
                                        "name": "PORelNum"
                                    },
                                    {
                                        "name": "WareHouse2"
                                    },
                                    {
                                        "name": "BinNum2"
                                    },
                                    {
                                        "name": "OrderNumRef"
                                    },
                                    {
                                        "name": "OrderlineRef"
                                    },
                                    {
                                        "name": "OrderNum"
                                    },
                                    {
                                        "name": "OrderLine"
                                    },
                                    {
                                        "name": "OrderNumLine"
                                    },
                                    {
                                        "name": "OrderRelNum"
                                    },
                                    {
                                        "name": "EntryPerson"
                                    },
                                    {
                                        "name": "TranReference"
                                    },
                                    {
                                        "name": "PartDescription"
                                    },
                                    {
                                        "name": "RevisionNum"
                                    },
                                    {
                                        "name": "VendorNum"
                                    },
                                    {
                                        "name": "PurPoint"
                                    },
                                    {
                                        "name": "POReceiptQty"
                                    },
                                    {
                                        "name": "POUnitCost"
                                    },
                                    {
                                        "name": "PackSlip"
                                    },
                                    {
                                        "name": "InvoiceNum"
                                    },
                                    {
                                        "name": "InvoiceLine"
                                    },
                                    {
                                        "name": "InvAdjSrc"
                                    },
                                    {
                                        "name": "InvAdjReason"
                                    },
                                    {
                                        "name": "LotNum"
                                    },
                                    {
                                        "name": "DimCode"
                                    },
                                    {
                                        "name": "DUM"
                                    },
                                    {
                                        "name": "DimConvFactor"
                                    },
                                    {
                                        "name": "LotNum2"
                                    },
                                    {
                                        "name": "DimCode2"
                                    },
                                    {
                                        "name": "DUM2"
                                    },
                                    {
                                        "name": "DimConvFactor2"
                                    },
                                    {
                                        "name": "GLTrans"
                                    },
                                    {
                                        "name": "PostedToGL"
                                    },
                                    {
                                        "name": "FiscalYear"
                                    },
                                    {
                                        "name": "FiscalPeriod"
                                    },
                                    {
                                        "name": "JournalNum"
                                    },
                                    {
                                        "name": "Costed"
                                    },
                                    {
                                        "name": "DMRNum"
                                    },
                                    {
                                        "name": "ActionNum"
                                    },
                                    {
                                        "name": "RMANum"
                                    },
                                    {
                                        "name": "COSPostingReqd"
                                    },
                                    {
                                        "name": "JournalCode"
                                    },
                                    {
                                        "name": "Plant"
                                    },
                                    {
                                        "name": "Plant2"
                                    },
                                    {
                                        "name": "CallNum"
                                    },
                                    {
                                        "name": "CallLine"
                                    },
                                    {
                                        "name": "MatNum"
                                    },
                                    {
                                        "name": "JobNum2"
                                    },
                                    {
                                        "name": "AssemblySeq2"
                                    },
                                    {
                                        "name": "JobSeq2"
                                    },
                                    {
                                        "name": "CustNum"
                                    },
                                    {
                                        "name": "RMALine"
                                    },
                                    {
                                        "name": "RMAReceipt"
                                    },
                                    {
                                        "name": "RMADisp"
                                    },
                                    {
                                        "name": "OtherDivValue"
                                    },
                                    {
                                        "name": "PlantTranNum"
                                    },
                                    {
                                        "name": "NonConfID"
                                    },
                                    {
                                        "name": "MtlMtlUnitCost"
                                    },
                                    {
                                        "name": "MtlLabUnitCost"
                                    },
                                    {
                                        "name": "MtlSubUnitCost"
                                    },
                                    {
                                        "name": "MtlBurdenUnitCost"
                                    },
                                    {
                                        "name": "RefType"
                                    },
                                    {
                                        "name": "RefCode"
                                    },
                                    {
                                        "name": "LegalNumber"
                                    },
                                    {
                                        "name": "BeginQty"
                                    },
                                    {
                                        "name": "AfterQty"
                                    },
                                    {
                                        "name": "BegBurUnitCost"
                                    },
                                    {
                                        "name": "BegLbrUnitCost"
                                    },
                                    {
                                        "name": "BegMtlBurUnitCost"
                                    },
                                    {
                                        "name": "BegMtlUnitCost"
                                    },
                                    {
                                        "name": "BegSubUnitCost"
                                    },
                                    {
                                        "name": "AfterBurUnitCost"
                                    },
                                    {
                                        "name": "AfterLbrUnitCost"
                                    },
                                    {
                                        "name": "AfterMtlBurUnitCost"
                                    },
                                    {
                                        "name": "AfterMtlUnitCost"
                                    },
                                    {
                                        "name": "AfterSubUnitCost"
                                    },
                                    {
                                        "name": "PlantCostValue"
                                    },
                                    {
                                        "name": "EmpID"
                                    },
                                    {
                                        "name": "ReconcileNum"
                                    },
                                    {
                                        "name": "CostID"
                                    },
                                    {
                                        "name": "FIFODate"
                                    },
                                    {
                                        "name": "FIFOSeq"
                                    },
                                    {
                                        "name": "ActTranQty"
                                    },
                                    {
                                        "name": "ActTransUOM"
                                    },
                                    {
                                        "name": "InvtyUOM"
                                    },
                                    {
                                        "name": "InvtyUOM2"
                                    },
                                    {
                                        "name": "FIFOAction"
                                    },
                                    {
                                        "name": "FiscalYearSuffix"
                                    },
                                    {
                                        "name": "FiscalCalendarID"
                                    },
                                    {
                                        "name": "BinType"
                                    },
                                    {
                                        "name": "CCYear"
                                    },
                                    {
                                        "name": "CCMonth"
                                    },
                                    {
                                        "name": "CycleSeq"
                                    },
                                    {
                                        "name": "ABTUID"
                                    },
                                    {
                                        "name": "BaseCostMethod"
                                    },
                                    {
                                        "name": "RevertStatus"
                                    },
                                    {
                                        "name": "RevertID"
                                    },
                                    {
                                        "name": "DropShipPackSlip"
                                    },
                                    {
                                        "name": "VarTarget"
                                    },
                                    {
                                        "name": "FIFOSubSeq"
                                    },
                                    {
                                        "name": "AltMtlUnitCost"
                                    },
                                    {
                                        "name": "AltLbrUnitCost"
                                    },
                                    {
                                        "name": "AltBurUnitCost"
                                    },
                                    {
                                        "name": "AltSubUnitCost"
                                    },
                                    {
                                        "name": "AltMtlBurUnitCost"
                                    },
                                    {
                                        "name": "AltExtCost"
                                    },
                                    {
                                        "name": "AltMtlMtlUnitCost"
                                    },
                                    {
                                        "name": "AltMtlLabUnitCost"
                                    },
                                    {
                                        "name": "AltMtlSubUnitCost"
                                    },
                                    {
                                        "name": "AltMtlBurdenUnitCost"
                                    },
                                    {
                                        "name": "TranDocTypeID"
                                    },
                                    {
                                        "name": "PBInvNum"
                                    },
                                    {
                                        "name": "LoanFlag"
                                    },
                                    {
                                        "name": "AssetNum"
                                    },
                                    {
                                        "name": "AdditionNum"
                                    },
                                    {
                                        "name": "DisposalNum"
                                    },
                                    {
                                        "name": "ProjProcessed"
                                    },
                                    {
                                        "name": "AsOfDate"
                                    },
                                    {
                                        "name": "AsOfSeq"
                                    },
                                    {
                                        "name": "MscNum"
                                    },
                                    {
                                        "name": "ODCUnitCost"
                                    },
                                    {
                                        "name": "SysRevID"
                                    },
                                    {
                                        "name": "SysRowID"
                                    },
                                    {
                                        "name": "TranRefType"
                                    },
                                    {
                                        "name": "PCID"
                                    },
                                    {
                                        "name": "PCIDCollapseCounter"
                                    },
                                    {
                                        "name": "PCID2"
                                    },
                                    {
                                        "name": "ContractID"
                                    },
                                    {
                                        "name": "LCFlag"
                                    },
                                    {
                                        "name": "ExtMtlCost"
                                    },
                                    {
                                        "name": "ExtLbrCost"
                                    },
                                    {
                                        "name": "ExtBurCost"
                                    },
                                    {
                                        "name": "ExtSubCost"
                                    },
                                    {
                                        "name": "ExtMtlBurCost"
                                    },
                                    {
                                        "name": "ExtMtlMtlCost"
                                    },
                                    {
                                        "name": "ExtMtlLabCost"
                                    },
                                    {
                                        "name": "ExtMtlSubCost"
                                    },
                                    {
                                        "name": "ExtMtlBurdenCost"
                                    },
                                    {
                                        "name": "MYImportNum"
                                    },
                                    {
                                        "name": "AutoReverse"
                                    },
                                    {
                                        "name": "RevTranNum"
                                    },
                                    {
                                        "name": "RevSysDate"
                                    },
                                    {
                                        "name": "RevSysTime"
                                    },
                                    {
                                        "name": "RevSysDateTime"
                                    },
                                    {
                                        "name": "ExtNonRecoverableCost"
                                    },
                                    {
                                        "name": "EpicorFSA"
                                    },
                                    {
                                        "name": "AttributeSetID"
                                    },
                                    {
                                        "name": "AttributeSetDescription"
                                    },
                                    {
                                        "name": "AttributeSetShortDescription"
                                    },
                                    {
                                        "name": "NumberOfPieces"
                                    },
                                    {
                                        "name": "projectID"
                                    }
                                ]
                            },
                            "data": [
                                {
                                    "0": "RBMI",
                                    "1": "2022-10-19",
                                    "2": "39943",
                                    "3": "2022-10-19 11:05:43.000",
                                    "4": "1457453",
                                    "5": "6C12090G801761",
                                    "6": "RBI",
                                    "7": "Z0000",
                                    "8": "I",
                                    "9": "STK-MTL",
                                    "10": "1",
                                    "11": "2022-10-19",
                                    "12": "21073.73330000",
                                    "13": "FT",
                                    "14": "0.00000",
                                    "15": "0.00000",
                                    "16": "0.00000",
                                    "17": "0.00000",
                                    "18": "0.00000",
                                    "19": "0.000",
                                    "20": "A",
                                    "21": "4003885-1-1",
                                    "22": "1",
                                    "23": "M",
                                    "24": "10",
                                    "25": "",
                                    "26": "0",
                                    "27": "0",
                                    "28": "0",
                                    "29": "0",
                                    "30": "0",
                                    "31": "RBI",
                                    "32": "4501",
                                    "33": "0",
                                    "34": "0",
                                    "35": "4003885",
                                    "36": "1",
                                    "37": "4003885-1",
                                    "38": "0",
                                    "39": "treed",
                                    "40": "",
                                    "41": "TERRASMART COIL GALVANIZED 12GA (0.100\" min substrate before galvanizing) G-90 A653 SS GRADE 80 x 17.61\" WIDE",
                                    "42": "",
                                    "43": "0",
                                    "44": "",
                                    "45": "0.00000000",
                                    "46": "0.00000",
                                    "47": "",
                                    "48": "",
                                    "49": "0",
                                    "50": "O",
                                    "51": "",
                                    "52": "",
                                    "53": "",
                                    "54": "FT",
                                    "55": "1.00000000",
                                    "56": "",
                                    "57": "",
                                    "58": "",
                                    "59": "1.00000000",
                                    "60": "1",
                                    "61": "0",
                                    "62": "0",
                                    "63": "0",
                                    "64": "0",
                                    "65": "0",
                                    "66": "0",
                                    "67": "0",
                                    "68": "0",
                                    "69": "0",
                                    "70": "",
                                    "71": "MfgSys",
                                    "72": "MfgSys",
                                    "73": "0",
                                    "74": "0",
                                    "75": "0",
                                    "76": "",
                                    "77": "0",
                                    "78": "0",
                                    "79": "0",
                                    "80": "0",
                                    "81": "0",
                                    "82": "0",
                                    "83": "0.000",
                                    "84": "0",
                                    "85": "0",
                                    "86": "0.00000",
                                    "87": "0.00000",
                                    "88": "0.00000",
                                    "89": "0.00000",
                                    "90": "",
                                    "91": "",
                                    "92": "",
                                    "93": "0.00000000",
                                    "94": "0.00000000",
                                    "95": "0.00000",
                                    "96": "0.00000",
                                    "97": "0.00000",
                                    "98": "0.00000",
                                    "99": "0.00000",
                                    "100": "0.00000",
                                    "101": "0.00000",
                                    "102": "0.00000",
                                    "103": "0.00000",
                                    "104": "0.00000",
                                    "105": "0.000",
                                    "106": "4597",
                                    "107": "0",
                                    "108": "1",
                                    "109": "NULL",
                                    "110": "0",
                                    "111": "21073.73330000",
                                    "112": "FT",
                                    "113": "FT",
                                    "114": "",
                                    "115": "",
                                    "116": "",
                                    "117": "",
                                    "118": "Std",
                                    "119": "0",
                                    "120": "0",
                                    "121": "0",
                                    "122": "",
                                    "123": "A",
                                    "124": "0",
                                    "125": "",
                                    "126": "",
                                    "127": "",
                                    "128": "0",
                                    "129": "0.00000",
                                    "130": "0.00000",
                                    "131": "0.00000",
                                    "132": "0.00000",
                                    "133": "0.00000",
                                    "134": "0.00000",
                                    "135": "0.00000",
                                    "136": "0.00000",
                                    "137": "0.00000",
                                    "138": "0.00000",
                                    "139": "",
                                    "140": "0",
                                    "141": "",
                                    "142": "",
                                    "143": "0",
                                    "144": "0",
                                    "145": "0",
                                    "146": "NULL",
                                    "147": "0",
                                    "148": "0",
                                    "149": "0.000",
                                    "150": "0x0000000377F2B686",
                                    "151": "57827d17-42fb-4cef-bb51-bca8cfa983ae",
                                    "152": "0",
                                    "153": "",
                                    "154": "0",
                                    "155": "",
                                    "156": "",
                                    "157": "0",
                                    "158": "0.000",
                                    "159": "0.000",
                                    "160": "0.000",
                                    "161": "0.000",
                                    "162": "0.000",
                                    "163": "0.000",
                                    "164": "0.000",
                                    "165": "0.000",
                                    "166": "0.000",
                                    "167": "",
                                    "168": "0",
                                    "169": "0",
                                    "170": "NULL",
                                    "171": "0",
                                    "172": "NULL",
                                    "173": "0.000",
                                    "174": "0",
                                    "175": "0",
                                    "176": "",
                                    "177": "",
                                    "178": "0",
                                    "179": ""
                                },
                                {
                                    "0": "RBMI",
                                    "1": "2022-10-19",
                                    "2": "55505",
                                    "3": "2022-10-19 15:25:05.000",
                                    "4": "1458040",
                                    "5": "6C12090G801761",
                                    "6": "RBI",
                                    "7": "Z0000",
                                    "8": "I",
                                    "9": "STK-MTL",
                                    "10": "1",
                                    "11": "2022-10-19",
                                    "12": "8729.22670000",
                                    "13": "FT",
                                    "14": "0.00000",
                                    "15": "0.00000",
                                    "16": "0.00000",
                                    "17": "0.00000",
                                    "18": "0.00000",
                                    "19": "0.000",
                                    "20": "A",
                                    "21": "4003885-1-1",
                                    "22": "1",
                                    "23": "M",
                                    "24": "10",
                                    "25": "",
                                    "26": "0",
                                    "27": "0",
                                    "28": "0",
                                    "29": "0",
                                    "30": "0",
                                    "31": "RBI",
                                    "32": "4501",
                                    "33": "0",
                                    "34": "0",
                                    "35": "4003885",
                                    "36": "1",
                                    "37": "4003885-1",
                                    "38": "0",
                                    "39": "treed",
                                    "40": "",
                                    "41": "TERRASMART COIL GALVANIZED 12GA (0.100\" min substrate before galvanizing) G-90 A653 SS GRADE 80 x 17.61\" WIDE",
                                    "42": "",
                                    "43": "0",
                                    "44": "",
                                    "45": "0.00000000",
                                    "46": "0.00000",
                                    "47": "",
                                    "48": "",
                                    "49": "0",
                                    "50": "O",
                                    "51": "",
                                    "52": "",
                                    "53": "",
                                    "54": "FT",
                                    "55": "1.00000000",
                                    "56": "",
                                    "57": "",
                                    "58": "",
                                    "59": "1.00000000",
                                    "60": "1",
                                    "61": "0",
                                    "62": "0",
                                    "63": "0",
                                    "64": "0",
                                    "65": "0",
                                    "66": "0",
                                    "67": "0",
                                    "68": "0",
                                    "69": "0",
                                    "70": "",
                                    "71": "MfgSys",
                                    "72": "MfgSys",
                                    "73": "0",
                                    "74": "0",
                                    "75": "0",
                                    "76": "",
                                    "77": "0",
                                    "78": "0",
                                    "79": "0",
                                    "80": "0",
                                    "81": "0",
                                    "82": "0",
                                    "83": "0.000",
                                    "84": "0",
                                    "85": "0",
                                    "86": "0.00000",
                                    "87": "0.00000",
                                    "88": "0.00000",
                                    "89": "0.00000",
                                    "90": "",
                                    "91": "",
                                    "92": "",
                                    "93": "0.00000000",
                                    "94": "0.00000000",
                                    "95": "0.00000",
                                    "96": "0.00000",
                                    "97": "0.00000",
                                    "98": "0.00000",
                                    "99": "0.00000",
                                    "100": "0.00000",
                                    "101": "0.00000",
                                    "102": "0.00000",
                                    "103": "0.00000",
                                    "104": "0.00000",
                                    "105": "0.000",
                                    "106": "",
                                    "107": "0",
                                    "108": "1",
                                    "109": "NULL",
                                    "110": "0",
                                    "111": "8729.22670000",
                                    "112": "FT",
                                    "113": "FT",
                                    "114": "",
                                    "115": "",
                                    "116": "",
                                    "117": "",
                                    "118": "Std",
                                    "119": "0",
                                    "120": "0",
                                    "121": "0",
                                    "122": "",
                                    "123": "A",
                                    "124": "0",
                                    "125": "",
                                    "126": "",
                                    "127": "",
                                    "128": "0",
                                    "129": "0.00000",
                                    "130": "0.00000",
                                    "131": "0.00000",
                                    "132": "0.00000",
                                    "133": "0.00000",
                                    "134": "0.00000",
                                    "135": "0.00000",
                                    "136": "0.00000",
                                    "137": "0.00000",
                                    "138": "0.00000",
                                    "139": "",
                                    "140": "0",
                                    "141": "",
                                    "142": "",
                                    "143": "0",
                                    "144": "0",
                                    "145": "0",
                                    "146": "NULL",
                                    "147": "0",
                                    "148": "0",
                                    "149": "0.000",
                                    "150": "0x0000000378888C8C",
                                    "151": "bc977218-0692-4600-bb0a-1c05036add6c",
                                    "152": "0",
                                    "153": "",
                                    "154": "0",
                                    "155": "",
                                    "156": "",
                                    "157": "0",
                                    "158": "0.000",
                                    "159": "0.000",
                                    "160": "0.000",
                                    "161": "0.000",
                                    "162": "0.000",
                                    "163": "0.000",
                                    "164": "0.000",
                                    "165": "0.000",
                                    "166": "0.000",
                                    "167": "",
                                    "168": "0",
                                    "169": "0",
                                    "170": "NULL",
                                    "171": "0",
                                    "172": "NULL",
                                    "173": "0.000",
                                    "174": "0",
                                    "175": "0",
                                    "176": "",
                                    "177": "",
                                    "178": "0",
                                    "179": ""
                                },
                                {
                                    "0": "RBMI",
                                    "1": "2022-10-21",
                                    "2": "17301",
                                    "3": "2022-10-21 04:48:21.000",
                                    "4": "1459094",
                                    "5": "6C12090G801761",
                                    "6": "RBI",
                                    "7": "Z0000",
                                    "8": "I",
                                    "9": "STK-MTL",
                                    "10": "1",
                                    "11": "2022-10-21",
                                    "12": "53288.00000000",
                                    "13": "FT",
                                    "14": "0.00000",
                                    "15": "0.00000",
                                    "16": "0.00000",
                                    "17": "0.00000",
                                    "18": "0.00000",
                                    "19": "0.000",
                                    "20": "A",
                                    "21": "4003885-1-1",
                                    "22": "1",
                                    "23": "M",
                                    "24": "10",
                                    "25": "",
                                    "26": "0",
                                    "27": "0",
                                    "28": "0",
                                    "29": "0",
                                    "30": "0",
                                    "31": "RBI",
                                    "32": "4501",
                                    "33": "0",
                                    "34": "0",
                                    "35": "4003885",
                                    "36": "1",
                                    "37": "4003885-1",
                                    "38": "0",
                                    "39": "mhenderson",
                                    "40": "",
                                    "41": "TERRASMART COIL GALVANIZED 12GA (0.100\" min substrate before galvanizing) G-90 A653 SS GRADE 80 x 17.61\" WIDE",
                                    "42": "",
                                    "43": "0",
                                    "44": "",
                                    "45": "0.00000000",
                                    "46": "0.00000",
                                    "47": "",
                                    "48": "",
                                    "49": "0",
                                    "50": "O",
                                    "51": "",
                                    "52": "",
                                    "53": "",
                                    "54": "FT",
                                    "55": "1.00000000",
                                    "56": "",
                                    "57": "",
                                    "58": "",
                                    "59": "1.00000000",
                                    "60": "1",
                                    "61": "0",
                                    "62": "0",
                                    "63": "0",
                                    "64": "0",
                                    "65": "0",
                                    "66": "0",
                                    "67": "0",
                                    "68": "0",
                                    "69": "0",
                                    "70": "",
                                    "71": "MfgSys",
                                    "72": "MfgSys",
                                    "73": "0",
                                    "74": "0",
                                    "75": "0",
                                    "76": "",
                                    "77": "0",
                                    "78": "0",
                                    "79": "0",
                                    "80": "0",
                                    "81": "0",
                                    "82": "0",
                                    "83": "0.000",
                                    "84": "0",
                                    "85": "0",
                                    "86": "0.00000",
                                    "87": "0.00000",
                                    "88": "0.00000",
                                    "89": "0.00000",
                                    "90": "",
                                    "91": "",
                                    "92": "",
                                    "93": "0.00000000",
                                    "94": "0.00000000",
                                    "95": "0.00000",
                                    "96": "0.00000",
                                    "97": "0.00000",
                                    "98": "0.00000",
                                    "99": "0.00000",
                                    "100": "0.00000",
                                    "101": "0.00000",
                                    "102": "0.00000",
                                    "103": "0.00000",
                                    "104": "0.00000",
                                    "105": "0.000",
                                    "106": "220105",
                                    "107": "0",
                                    "108": "1",
                                    "109": "NULL",
                                    "110": "0",
                                    "111": "53288.00000000",
                                    "112": "FT",
                                    "113": "FT",
                                    "114": "",
                                    "115": "",
                                    "116": "",
                                    "117": "",
                                    "118": "Std",
                                    "119": "0",
                                    "120": "0",
                                    "121": "0",
                                    "122": "",
                                    "123": "A",
                                    "124": "0",
                                    "125": "",
                                    "126": "",
                                    "127": "",
                                    "128": "0",
                                    "129": "0.00000",
                                    "130": "0.00000",
                                    "131": "0.00000",
                                    "132": "0.00000",
                                    "133": "0.00000",
                                    "134": "0.00000",
                                    "135": "0.00000",
                                    "136": "0.00000",
                                    "137": "0.00000",
                                    "138": "0.00000",
                                    "139": "",
                                    "140": "0",
                                    "141": "",
                                    "142": "",
                                    "143": "0",
                                    "144": "0",
                                    "145": "0",
                                    "146": "NULL",
                                    "147": "0",
                                    "148": "0",
                                    "149": "0.000",
                                    "150": "0x0000000379D51C3D",
                                    "151": "be7d62e7-b197-4b77-93d8-7d3174d847e0",
                                    "152": "0",
                                    "153": "",
                                    "154": "0",
                                    "155": "",
                                    "156": "",
                                    "157": "0",
                                    "158": "0.000",
                                    "159": "0.000",
                                    "160": "0.000",
                                    "161": "0.000",
                                    "162": "0.000",
                                    "163": "0.000",
                                    "164": "0.000",
                                    "165": "0.000",
                                    "166": "0.000",
                                    "167": "",
                                    "168": "0",
                                    "169": "0",
                                    "170": "NULL",
                                    "171": "0",
                                    "172": "NULL",
                                    "173": "0.000",
                                    "174": "0",
                                    "175": "0",
                                    "176": "",
                                    "177": "",
                                    "178": "0",
                                    "179": ""
                                }
                            ]
                        },
                        "text/html": "<table><tr><th>Company</th><th>SysDate</th><th>SysTime</th><th>SystemDateTime</th><th>TranNum</th><th>PartNum</th><th>WareHouseCode</th><th>BinNum</th><th>TranClass</th><th>TranType</th><th>InventoryTrans</th><th>TranDate</th><th>TranQty</th><th>UM</th><th>MtlUnitCost</th><th>LbrUnitCost</th><th>BurUnitCost</th><th>SubUnitCost</th><th>MtlBurUnitCost</th><th>ExtCost</th><th>CostMethod</th><th>JobNum</th><th>AssemblySeq</th><th>JobSeqType</th><th>JobSeq</th><th>PackType</th><th>PackNum</th><th>PackLine</th><th>PONum</th><th>POLine</th><th>PORelNum</th><th>WareHouse2</th><th>BinNum2</th><th>OrderNumRef</th><th>OrderlineRef</th><th>OrderNum</th><th>OrderLine</th><th>OrderNumLine</th><th>OrderRelNum</th><th>EntryPerson</th><th>TranReference</th><th>PartDescription</th><th>RevisionNum</th><th>VendorNum</th><th>PurPoint</th><th>POReceiptQty</th><th>POUnitCost</th><th>PackSlip</th><th>InvoiceNum</th><th>InvoiceLine</th><th>InvAdjSrc</th><th>InvAdjReason</th><th>LotNum</th><th>DimCode</th><th>DUM</th><th>DimConvFactor</th><th>LotNum2</th><th>DimCode2</th><th>DUM2</th><th>DimConvFactor2</th><th>GLTrans</th><th>PostedToGL</th><th>FiscalYear</th><th>FiscalPeriod</th><th>JournalNum</th><th>Costed</th><th>DMRNum</th><th>ActionNum</th><th>RMANum</th><th>COSPostingReqd</th><th>JournalCode</th><th>Plant</th><th>Plant2</th><th>CallNum</th><th>CallLine</th><th>MatNum</th><th>JobNum2</th><th>AssemblySeq2</th><th>JobSeq2</th><th>CustNum</th><th>RMALine</th><th>RMAReceipt</th><th>RMADisp</th><th>OtherDivValue</th><th>PlantTranNum</th><th>NonConfID</th><th>MtlMtlUnitCost</th><th>MtlLabUnitCost</th><th>MtlSubUnitCost</th><th>MtlBurdenUnitCost</th><th>RefType</th><th>RefCode</th><th>LegalNumber</th><th>BeginQty</th><th>AfterQty</th><th>BegBurUnitCost</th><th>BegLbrUnitCost</th><th>BegMtlBurUnitCost</th><th>BegMtlUnitCost</th><th>BegSubUnitCost</th><th>AfterBurUnitCost</th><th>AfterLbrUnitCost</th><th>AfterMtlBurUnitCost</th><th>AfterMtlUnitCost</th><th>AfterSubUnitCost</th><th>PlantCostValue</th><th>EmpID</th><th>ReconcileNum</th><th>CostID</th><th>FIFODate</th><th>FIFOSeq</th><th>ActTranQty</th><th>ActTransUOM</th><th>InvtyUOM</th><th>InvtyUOM2</th><th>FIFOAction</th><th>FiscalYearSuffix</th><th>FiscalCalendarID</th><th>BinType</th><th>CCYear</th><th>CCMonth</th><th>CycleSeq</th><th>ABTUID</th><th>BaseCostMethod</th><th>RevertStatus</th><th>RevertID</th><th>DropShipPackSlip</th><th>VarTarget</th><th>FIFOSubSeq</th><th>AltMtlUnitCost</th><th>AltLbrUnitCost</th><th>AltBurUnitCost</th><th>AltSubUnitCost</th><th>AltMtlBurUnitCost</th><th>AltExtCost</th><th>AltMtlMtlUnitCost</th><th>AltMtlLabUnitCost</th><th>AltMtlSubUnitCost</th><th>AltMtlBurdenUnitCost</th><th>TranDocTypeID</th><th>PBInvNum</th><th>LoanFlag</th><th>AssetNum</th><th>AdditionNum</th><th>DisposalNum</th><th>ProjProcessed</th><th>AsOfDate</th><th>AsOfSeq</th><th>MscNum</th><th>ODCUnitCost</th><th>SysRevID</th><th>SysRowID</th><th>TranRefType</th><th>PCID</th><th>PCIDCollapseCounter</th><th>PCID2</th><th>ContractID</th><th>LCFlag</th><th>ExtMtlCost</th><th>ExtLbrCost</th><th>ExtBurCost</th><th>ExtSubCost</th><th>ExtMtlBurCost</th><th>ExtMtlMtlCost</th><th>ExtMtlLabCost</th><th>ExtMtlSubCost</th><th>ExtMtlBurdenCost</th><th>MYImportNum</th><th>AutoReverse</th><th>RevTranNum</th><th>RevSysDate</th><th>RevSysTime</th><th>RevSysDateTime</th><th>ExtNonRecoverableCost</th><th>EpicorFSA</th><th>AttributeSetID</th><th>AttributeSetDescription</th><th>AttributeSetShortDescription</th><th>NumberOfPieces</th><th>projectID</th></tr><tr><td>RBMI</td><td>2022-10-19</td><td>39943</td><td>2022-10-19 11:05:43.000</td><td>1457453</td><td>6C12090G801761</td><td>RBI</td><td>Z0000</td><td>I</td><td>STK-MTL</td><td>1</td><td>2022-10-19</td><td>21073.73330000</td><td>FT</td><td>0.00000</td><td>0.00000</td><td>0.00000</td><td>0.00000</td><td>0.00000</td><td>0.000</td><td>A</td><td>4003885-1-1</td><td>1</td><td>M</td><td>10</td><td></td><td>0</td><td>0</td><td>0</td><td>0</td><td>0</td><td>RBI</td><td>4501</td><td>0</td><td>0</td><td>4003885</td><td>1</td><td>4003885-1</td><td>0</td><td>treed</td><td></td><td>TERRASMART COIL GALVANIZED 12GA (0.100&quot; min substrate before galvanizing) G-90 A653 SS GRADE 80 x 17.61&quot; WIDE</td><td></td><td>0</td><td></td><td>0.00000000</td><td>0.00000</td><td></td><td></td><td>0</td><td>O</td><td></td><td></td><td></td><td>FT</td><td>1.00000000</td><td></td><td></td><td></td><td>1.00000000</td><td>1</td><td>0</td><td>0</td><td>0</td><td>0</td><td>0</td><td>0</td><td>0</td><td>0</td><td>0</td><td></td><td>MfgSys</td><td>MfgSys</td><td>0</td><td>0</td><td>0</td><td></td><td>0</td><td>0</td><td>0</td><td>0</td><td>0</td><td>0</td><td>0.000</td><td>0</td><td>0</td><td>0.00000</td><td>0.00000</td><td>0.00000</td><td>0.00000</td><td></td><td></td><td></td><td>0.00000000</td><td>0.00000000</td><td>0.00000</td><td>0.00000</td><td>0.00000</td><td>0.00000</td><td>0.00000</td><td>0.00000</td><td>0.00000</td><td>0.00000</td><td>0.00000</td><td>0.00000</td><td>0.000</td><td>4597</td><td>0</td><td>1</td><td>NULL</td><td>0</td><td>21073.73330000</td><td>FT</td><td>FT</td><td></td><td></td><td></td><td></td><td>Std</td><td>0</td><td>0</td><td>0</td><td></td><td>A</td><td>0</td><td></td><td></td><td></td><td>0</td><td>0.00000</td><td>0.00000</td><td>0.00000</td><td>0.00000</td><td>0.00000</td><td>0.00000</td><td>0.00000</td><td>0.00000</td><td>0.00000</td><td>0.00000</td><td></td><td>0</td><td></td><td></td><td>0</td><td>0</td><td>0</td><td>NULL</td><td>0</td><td>0</td><td>0.000</td><td>0x0000000377F2B686</td><td>57827d17-42fb-4cef-bb51-bca8cfa983ae</td><td>0</td><td></td><td>0</td><td></td><td></td><td>0</td><td>0.000</td><td>0.000</td><td>0.000</td><td>0.000</td><td>0.000</td><td>0.000</td><td>0.000</td><td>0.000</td><td>0.000</td><td></td><td>0</td><td>0</td><td>NULL</td><td>0</td><td>NULL</td><td>0.000</td><td>0</td><td>0</td><td></td><td></td><td>0</td><td></td></tr><tr><td>RBMI</td><td>2022-10-19</td><td>55505</td><td>2022-10-19 15:25:05.000</td><td>1458040</td><td>6C12090G801761</td><td>RBI</td><td>Z0000</td><td>I</td><td>STK-MTL</td><td>1</td><td>2022-10-19</td><td>8729.22670000</td><td>FT</td><td>0.00000</td><td>0.00000</td><td>0.00000</td><td>0.00000</td><td>0.00000</td><td>0.000</td><td>A</td><td>4003885-1-1</td><td>1</td><td>M</td><td>10</td><td></td><td>0</td><td>0</td><td>0</td><td>0</td><td>0</td><td>RBI</td><td>4501</td><td>0</td><td>0</td><td>4003885</td><td>1</td><td>4003885-1</td><td>0</td><td>treed</td><td></td><td>TERRASMART COIL GALVANIZED 12GA (0.100&quot; min substrate before galvanizing) G-90 A653 SS GRADE 80 x 17.61&quot; WIDE</td><td></td><td>0</td><td></td><td>0.00000000</td><td>0.00000</td><td></td><td></td><td>0</td><td>O</td><td></td><td></td><td></td><td>FT</td><td>1.00000000</td><td></td><td></td><td></td><td>1.00000000</td><td>1</td><td>0</td><td>0</td><td>0</td><td>0</td><td>0</td><td>0</td><td>0</td><td>0</td><td>0</td><td></td><td>MfgSys</td><td>MfgSys</td><td>0</td><td>0</td><td>0</td><td></td><td>0</td><td>0</td><td>0</td><td>0</td><td>0</td><td>0</td><td>0.000</td><td>0</td><td>0</td><td>0.00000</td><td>0.00000</td><td>0.00000</td><td>0.00000</td><td></td><td></td><td></td><td>0.00000000</td><td>0.00000000</td><td>0.00000</td><td>0.00000</td><td>0.00000</td><td>0.00000</td><td>0.00000</td><td>0.00000</td><td>0.00000</td><td>0.00000</td><td>0.00000</td><td>0.00000</td><td>0.000</td><td></td><td>0</td><td>1</td><td>NULL</td><td>0</td><td>8729.22670000</td><td>FT</td><td>FT</td><td></td><td></td><td></td><td></td><td>Std</td><td>0</td><td>0</td><td>0</td><td></td><td>A</td><td>0</td><td></td><td></td><td></td><td>0</td><td>0.00000</td><td>0.00000</td><td>0.00000</td><td>0.00000</td><td>0.00000</td><td>0.00000</td><td>0.00000</td><td>0.00000</td><td>0.00000</td><td>0.00000</td><td></td><td>0</td><td></td><td></td><td>0</td><td>0</td><td>0</td><td>NULL</td><td>0</td><td>0</td><td>0.000</td><td>0x0000000378888C8C</td><td>bc977218-0692-4600-bb0a-1c05036add6c</td><td>0</td><td></td><td>0</td><td></td><td></td><td>0</td><td>0.000</td><td>0.000</td><td>0.000</td><td>0.000</td><td>0.000</td><td>0.000</td><td>0.000</td><td>0.000</td><td>0.000</td><td></td><td>0</td><td>0</td><td>NULL</td><td>0</td><td>NULL</td><td>0.000</td><td>0</td><td>0</td><td></td><td></td><td>0</td><td></td></tr><tr><td>RBMI</td><td>2022-10-21</td><td>17301</td><td>2022-10-21 04:48:21.000</td><td>1459094</td><td>6C12090G801761</td><td>RBI</td><td>Z0000</td><td>I</td><td>STK-MTL</td><td>1</td><td>2022-10-21</td><td>53288.00000000</td><td>FT</td><td>0.00000</td><td>0.00000</td><td>0.00000</td><td>0.00000</td><td>0.00000</td><td>0.000</td><td>A</td><td>4003885-1-1</td><td>1</td><td>M</td><td>10</td><td></td><td>0</td><td>0</td><td>0</td><td>0</td><td>0</td><td>RBI</td><td>4501</td><td>0</td><td>0</td><td>4003885</td><td>1</td><td>4003885-1</td><td>0</td><td>mhenderson</td><td></td><td>TERRASMART COIL GALVANIZED 12GA (0.100&quot; min substrate before galvanizing) G-90 A653 SS GRADE 80 x 17.61&quot; WIDE</td><td></td><td>0</td><td></td><td>0.00000000</td><td>0.00000</td><td></td><td></td><td>0</td><td>O</td><td></td><td></td><td></td><td>FT</td><td>1.00000000</td><td></td><td></td><td></td><td>1.00000000</td><td>1</td><td>0</td><td>0</td><td>0</td><td>0</td><td>0</td><td>0</td><td>0</td><td>0</td><td>0</td><td></td><td>MfgSys</td><td>MfgSys</td><td>0</td><td>0</td><td>0</td><td></td><td>0</td><td>0</td><td>0</td><td>0</td><td>0</td><td>0</td><td>0.000</td><td>0</td><td>0</td><td>0.00000</td><td>0.00000</td><td>0.00000</td><td>0.00000</td><td></td><td></td><td></td><td>0.00000000</td><td>0.00000000</td><td>0.00000</td><td>0.00000</td><td>0.00000</td><td>0.00000</td><td>0.00000</td><td>0.00000</td><td>0.00000</td><td>0.00000</td><td>0.00000</td><td>0.00000</td><td>0.000</td><td>220105</td><td>0</td><td>1</td><td>NULL</td><td>0</td><td>53288.00000000</td><td>FT</td><td>FT</td><td></td><td></td><td></td><td></td><td>Std</td><td>0</td><td>0</td><td>0</td><td></td><td>A</td><td>0</td><td></td><td></td><td></td><td>0</td><td>0.00000</td><td>0.00000</td><td>0.00000</td><td>0.00000</td><td>0.00000</td><td>0.00000</td><td>0.00000</td><td>0.00000</td><td>0.00000</td><td>0.00000</td><td></td><td>0</td><td></td><td></td><td>0</td><td>0</td><td>0</td><td>NULL</td><td>0</td><td>0</td><td>0.000</td><td>0x0000000379D51C3D</td><td>be7d62e7-b197-4b77-93d8-7d3174d847e0</td><td>0</td><td></td><td>0</td><td></td><td></td><td>0</td><td>0.000</td><td>0.000</td><td>0.000</td><td>0.000</td><td>0.000</td><td>0.000</td><td>0.000</td><td>0.000</td><td>0.000</td><td></td><td>0</td><td>0</td><td>NULL</td><td>0</td><td>NULL</td><td>0.000</td><td>0</td><td>0</td><td></td><td></td><td>0</td><td></td></tr></table>"
                    },
                    "metadata": {}
                }
            ],
            "execution_count": 10
        },
        {
            "cell_type": "code",
            "source": [
                "Select *\r\n",
                "From ERPDB.erp.parttran\r\n",
                "Where jobnum like '4003885%'\r\n",
                "and Company = 'rbmi'"
            ],
            "metadata": {
                "language": "sql",
                "azdata_cell_guid": "5793137a-f8bc-41df-bfe9-71681e1e83db",
                "tags": [
                    "hide_input"
                ]
            },
            "outputs": [
                {
                    "output_type": "display_data",
                    "data": {
                        "text/html": "(3 rows affected)"
                    },
                    "metadata": {}
                },
                {
                    "output_type": "display_data",
                    "data": {
                        "text/html": "Total execution time: 00:00:00.196"
                    },
                    "metadata": {}
                },
                {
                    "output_type": "execute_result",
                    "execution_count": 2,
                    "data": {
                        "application/vnd.dataresource+json": {
                            "schema": {
                                "fields": [
                                    {
                                        "name": "Company"
                                    },
                                    {
                                        "name": "SysDate"
                                    },
                                    {
                                        "name": "SysTime"
                                    },
                                    {
                                        "name": "TranNum"
                                    },
                                    {
                                        "name": "PartNum"
                                    },
                                    {
                                        "name": "WareHouseCode"
                                    },
                                    {
                                        "name": "BinNum"
                                    },
                                    {
                                        "name": "TranClass"
                                    },
                                    {
                                        "name": "TranType"
                                    },
                                    {
                                        "name": "InventoryTrans"
                                    },
                                    {
                                        "name": "TranDate"
                                    },
                                    {
                                        "name": "TranQty"
                                    },
                                    {
                                        "name": "UM"
                                    },
                                    {
                                        "name": "MtlUnitCost"
                                    },
                                    {
                                        "name": "LbrUnitCost"
                                    },
                                    {
                                        "name": "BurUnitCost"
                                    },
                                    {
                                        "name": "SubUnitCost"
                                    },
                                    {
                                        "name": "MtlBurUnitCost"
                                    },
                                    {
                                        "name": "ExtCost"
                                    },
                                    {
                                        "name": "CostMethod"
                                    },
                                    {
                                        "name": "JobNum"
                                    },
                                    {
                                        "name": "AssemblySeq"
                                    },
                                    {
                                        "name": "JobSeqType"
                                    },
                                    {
                                        "name": "JobSeq"
                                    },
                                    {
                                        "name": "PackType"
                                    },
                                    {
                                        "name": "PackNum"
                                    },
                                    {
                                        "name": "PackLine"
                                    },
                                    {
                                        "name": "PONum"
                                    },
                                    {
                                        "name": "POLine"
                                    },
                                    {
                                        "name": "PORelNum"
                                    },
                                    {
                                        "name": "WareHouse2"
                                    },
                                    {
                                        "name": "BinNum2"
                                    },
                                    {
                                        "name": "OrderNum"
                                    },
                                    {
                                        "name": "OrderLine"
                                    },
                                    {
                                        "name": "OrderRelNum"
                                    },
                                    {
                                        "name": "EntryPerson"
                                    },
                                    {
                                        "name": "TranReference"
                                    },
                                    {
                                        "name": "PartDescription"
                                    },
                                    {
                                        "name": "RevisionNum"
                                    },
                                    {
                                        "name": "VendorNum"
                                    },
                                    {
                                        "name": "PurPoint"
                                    },
                                    {
                                        "name": "POReceiptQty"
                                    },
                                    {
                                        "name": "POUnitCost"
                                    },
                                    {
                                        "name": "PackSlip"
                                    },
                                    {
                                        "name": "InvoiceNum"
                                    },
                                    {
                                        "name": "InvoiceLine"
                                    },
                                    {
                                        "name": "InvAdjSrc"
                                    },
                                    {
                                        "name": "InvAdjReason"
                                    },
                                    {
                                        "name": "LotNum"
                                    },
                                    {
                                        "name": "DimCode"
                                    },
                                    {
                                        "name": "DUM"
                                    },
                                    {
                                        "name": "DimConvFactor"
                                    },
                                    {
                                        "name": "LotNum2"
                                    },
                                    {
                                        "name": "DimCode2"
                                    },
                                    {
                                        "name": "DUM2"
                                    },
                                    {
                                        "name": "DimConvFactor2"
                                    },
                                    {
                                        "name": "GLTrans"
                                    },
                                    {
                                        "name": "PostedToGL"
                                    },
                                    {
                                        "name": "FiscalYear"
                                    },
                                    {
                                        "name": "FiscalPeriod"
                                    },
                                    {
                                        "name": "JournalNum"
                                    },
                                    {
                                        "name": "Costed"
                                    },
                                    {
                                        "name": "DMRNum"
                                    },
                                    {
                                        "name": "ActionNum"
                                    },
                                    {
                                        "name": "RMANum"
                                    },
                                    {
                                        "name": "COSPostingReqd"
                                    },
                                    {
                                        "name": "JournalCode"
                                    },
                                    {
                                        "name": "Plant"
                                    },
                                    {
                                        "name": "Plant2"
                                    },
                                    {
                                        "name": "CallNum"
                                    },
                                    {
                                        "name": "CallLine"
                                    },
                                    {
                                        "name": "MatNum"
                                    },
                                    {
                                        "name": "JobNum2"
                                    },
                                    {
                                        "name": "AssemblySeq2"
                                    },
                                    {
                                        "name": "JobSeq2"
                                    },
                                    {
                                        "name": "CustNum"
                                    },
                                    {
                                        "name": "RMALine"
                                    },
                                    {
                                        "name": "RMAReceipt"
                                    },
                                    {
                                        "name": "RMADisp"
                                    },
                                    {
                                        "name": "OtherDivValue"
                                    },
                                    {
                                        "name": "PlantTranNum"
                                    },
                                    {
                                        "name": "NonConfID"
                                    },
                                    {
                                        "name": "MtlMtlUnitCost"
                                    },
                                    {
                                        "name": "MtlLabUnitCost"
                                    },
                                    {
                                        "name": "MtlSubUnitCost"
                                    },
                                    {
                                        "name": "MtlBurdenUnitCost"
                                    },
                                    {
                                        "name": "RefType"
                                    },
                                    {
                                        "name": "RefCode"
                                    },
                                    {
                                        "name": "LegalNumber"
                                    },
                                    {
                                        "name": "BeginQty"
                                    },
                                    {
                                        "name": "AfterQty"
                                    },
                                    {
                                        "name": "BegBurUnitCost"
                                    },
                                    {
                                        "name": "BegLbrUnitCost"
                                    },
                                    {
                                        "name": "BegMtlBurUnitCost"
                                    },
                                    {
                                        "name": "BegMtlUnitCost"
                                    },
                                    {
                                        "name": "BegSubUnitCost"
                                    },
                                    {
                                        "name": "AfterBurUnitCost"
                                    },
                                    {
                                        "name": "AfterLbrUnitCost"
                                    },
                                    {
                                        "name": "AfterMtlBurUnitCost"
                                    },
                                    {
                                        "name": "AfterMtlUnitCost"
                                    },
                                    {
                                        "name": "AfterSubUnitCost"
                                    },
                                    {
                                        "name": "PlantCostValue"
                                    },
                                    {
                                        "name": "EmpID"
                                    },
                                    {
                                        "name": "ReconcileNum"
                                    },
                                    {
                                        "name": "CostID"
                                    },
                                    {
                                        "name": "FIFODate"
                                    },
                                    {
                                        "name": "FIFOSeq"
                                    },
                                    {
                                        "name": "ActTranQty"
                                    },
                                    {
                                        "name": "ActTransUOM"
                                    },
                                    {
                                        "name": "InvtyUOM"
                                    },
                                    {
                                        "name": "InvtyUOM2"
                                    },
                                    {
                                        "name": "FIFOAction"
                                    },
                                    {
                                        "name": "FiscalYearSuffix"
                                    },
                                    {
                                        "name": "FiscalCalendarID"
                                    },
                                    {
                                        "name": "BinType"
                                    },
                                    {
                                        "name": "CCYear"
                                    },
                                    {
                                        "name": "CCMonth"
                                    },
                                    {
                                        "name": "CycleSeq"
                                    },
                                    {
                                        "name": "ABTUID"
                                    },
                                    {
                                        "name": "BaseCostMethod"
                                    },
                                    {
                                        "name": "RevertStatus"
                                    },
                                    {
                                        "name": "RevertID"
                                    },
                                    {
                                        "name": "DropShipPackSlip"
                                    },
                                    {
                                        "name": "VarTarget"
                                    },
                                    {
                                        "name": "FIFOSubSeq"
                                    },
                                    {
                                        "name": "AltMtlUnitCost"
                                    },
                                    {
                                        "name": "AltLbrUnitCost"
                                    },
                                    {
                                        "name": "AltBurUnitCost"
                                    },
                                    {
                                        "name": "AltSubUnitCost"
                                    },
                                    {
                                        "name": "AltMtlBurUnitCost"
                                    },
                                    {
                                        "name": "AltExtCost"
                                    },
                                    {
                                        "name": "AltMtlMtlUnitCost"
                                    },
                                    {
                                        "name": "AltMtlLabUnitCost"
                                    },
                                    {
                                        "name": "AltMtlSubUnitCost"
                                    },
                                    {
                                        "name": "AltMtlBurdenUnitCost"
                                    },
                                    {
                                        "name": "TranDocTypeID"
                                    },
                                    {
                                        "name": "PBInvNum"
                                    },
                                    {
                                        "name": "LoanFlag"
                                    },
                                    {
                                        "name": "AssetNum"
                                    },
                                    {
                                        "name": "AdditionNum"
                                    },
                                    {
                                        "name": "DisposalNum"
                                    },
                                    {
                                        "name": "ProjProcessed"
                                    },
                                    {
                                        "name": "AsOfDate"
                                    },
                                    {
                                        "name": "AsOfSeq"
                                    },
                                    {
                                        "name": "MscNum"
                                    },
                                    {
                                        "name": "ODCUnitCost"
                                    },
                                    {
                                        "name": "SysRevID"
                                    },
                                    {
                                        "name": "SysRowID"
                                    },
                                    {
                                        "name": "TranRefType"
                                    },
                                    {
                                        "name": "PCID"
                                    },
                                    {
                                        "name": "PCIDCollapseCounter"
                                    },
                                    {
                                        "name": "PCID2"
                                    },
                                    {
                                        "name": "ContractID"
                                    },
                                    {
                                        "name": "LCFlag"
                                    },
                                    {
                                        "name": "ExtMtlCost"
                                    },
                                    {
                                        "name": "ExtLbrCost"
                                    },
                                    {
                                        "name": "ExtBurCost"
                                    },
                                    {
                                        "name": "ExtSubCost"
                                    },
                                    {
                                        "name": "ExtMtlBurCost"
                                    },
                                    {
                                        "name": "ExtMtlMtlCost"
                                    },
                                    {
                                        "name": "ExtMtlLabCost"
                                    },
                                    {
                                        "name": "ExtMtlSubCost"
                                    },
                                    {
                                        "name": "ExtMtlBurdenCost"
                                    },
                                    {
                                        "name": "MYImportNum"
                                    },
                                    {
                                        "name": "AutoReverse"
                                    },
                                    {
                                        "name": "RevTranNum"
                                    },
                                    {
                                        "name": "RevSysDate"
                                    },
                                    {
                                        "name": "RevSysTime"
                                    },
                                    {
                                        "name": "ExtNonRecoverableCost"
                                    },
                                    {
                                        "name": "EpicorFSA"
                                    },
                                    {
                                        "name": "AttributeSetID"
                                    },
                                    {
                                        "name": "AttributeSetDescription"
                                    },
                                    {
                                        "name": "AttributeSetShortDescription"
                                    },
                                    {
                                        "name": "NumberOfPieces"
                                    }
                                ]
                            },
                            "data": [
                                {
                                    "0": "RBMI",
                                    "1": "2022-10-19",
                                    "2": "39943",
                                    "3": "1457453",
                                    "4": "6C12090G801761",
                                    "5": "RBI",
                                    "6": "Z0000",
                                    "7": "I",
                                    "8": "STK-MTL",
                                    "9": "1",
                                    "10": "2022-10-19",
                                    "11": "21073.73330000",
                                    "12": "FT",
                                    "13": "0.00000",
                                    "14": "0.00000",
                                    "15": "0.00000",
                                    "16": "0.00000",
                                    "17": "0.00000",
                                    "18": "0.000",
                                    "19": "A",
                                    "20": "4003885-1-1",
                                    "21": "1",
                                    "22": "M",
                                    "23": "10",
                                    "24": "",
                                    "25": "0",
                                    "26": "0",
                                    "27": "0",
                                    "28": "0",
                                    "29": "0",
                                    "30": "RBI",
                                    "31": "4501",
                                    "32": "0",
                                    "33": "0",
                                    "34": "0",
                                    "35": "treed",
                                    "36": "",
                                    "37": "TERRASMART COIL GALVANIZED 12GA (0.100\" min substrate before galvanizing) G-90 A653 SS GRADE 80 x 17.61\" WIDE",
                                    "38": "",
                                    "39": "0",
                                    "40": "",
                                    "41": "0.00000000",
                                    "42": "0.00000",
                                    "43": "",
                                    "44": "",
                                    "45": "0",
                                    "46": "O",
                                    "47": "",
                                    "48": "",
                                    "49": "",
                                    "50": "FT",
                                    "51": "1.00000000",
                                    "52": "",
                                    "53": "",
                                    "54": "",
                                    "55": "1.00000000",
                                    "56": "1",
                                    "57": "0",
                                    "58": "0",
                                    "59": "0",
                                    "60": "0",
                                    "61": "0",
                                    "62": "0",
                                    "63": "0",
                                    "64": "0",
                                    "65": "0",
                                    "66": "",
                                    "67": "MfgSys",
                                    "68": "MfgSys",
                                    "69": "0",
                                    "70": "0",
                                    "71": "0",
                                    "72": "",
                                    "73": "0",
                                    "74": "0",
                                    "75": "0",
                                    "76": "0",
                                    "77": "0",
                                    "78": "0",
                                    "79": "0.000",
                                    "80": "0",
                                    "81": "0",
                                    "82": "0.00000",
                                    "83": "0.00000",
                                    "84": "0.00000",
                                    "85": "0.00000",
                                    "86": "",
                                    "87": "",
                                    "88": "",
                                    "89": "0.00000000",
                                    "90": "0.00000000",
                                    "91": "0.00000",
                                    "92": "0.00000",
                                    "93": "0.00000",
                                    "94": "0.00000",
                                    "95": "0.00000",
                                    "96": "0.00000",
                                    "97": "0.00000",
                                    "98": "0.00000",
                                    "99": "0.00000",
                                    "100": "0.00000",
                                    "101": "0.000",
                                    "102": "4597",
                                    "103": "0",
                                    "104": "1",
                                    "105": "NULL",
                                    "106": "0",
                                    "107": "21073.73330000",
                                    "108": "FT",
                                    "109": "FT",
                                    "110": "",
                                    "111": "",
                                    "112": "",
                                    "113": "",
                                    "114": "Std",
                                    "115": "0",
                                    "116": "0",
                                    "117": "0",
                                    "118": "",
                                    "119": "A",
                                    "120": "0",
                                    "121": "",
                                    "122": "",
                                    "123": "",
                                    "124": "0",
                                    "125": "0.00000",
                                    "126": "0.00000",
                                    "127": "0.00000",
                                    "128": "0.00000",
                                    "129": "0.00000",
                                    "130": "0.00000",
                                    "131": "0.00000",
                                    "132": "0.00000",
                                    "133": "0.00000",
                                    "134": "0.00000",
                                    "135": "",
                                    "136": "0",
                                    "137": "",
                                    "138": "",
                                    "139": "0",
                                    "140": "0",
                                    "141": "0",
                                    "142": "NULL",
                                    "143": "0",
                                    "144": "0",
                                    "145": "0.000",
                                    "146": "0x0000000377F2B686",
                                    "147": "57827d17-42fb-4cef-bb51-bca8cfa983ae",
                                    "148": "0",
                                    "149": "",
                                    "150": "0",
                                    "151": "",
                                    "152": "",
                                    "153": "0",
                                    "154": "0.000",
                                    "155": "0.000",
                                    "156": "0.000",
                                    "157": "0.000",
                                    "158": "0.000",
                                    "159": "0.000",
                                    "160": "0.000",
                                    "161": "0.000",
                                    "162": "0.000",
                                    "163": "",
                                    "164": "0",
                                    "165": "0",
                                    "166": "NULL",
                                    "167": "0",
                                    "168": "0.000",
                                    "169": "0",
                                    "170": "0",
                                    "171": "",
                                    "172": "",
                                    "173": "0"
                                },
                                {
                                    "0": "RBMI",
                                    "1": "2022-10-19",
                                    "2": "55505",
                                    "3": "1458040",
                                    "4": "6C12090G801761",
                                    "5": "RBI",
                                    "6": "Z0000",
                                    "7": "I",
                                    "8": "STK-MTL",
                                    "9": "1",
                                    "10": "2022-10-19",
                                    "11": "8729.22670000",
                                    "12": "FT",
                                    "13": "0.00000",
                                    "14": "0.00000",
                                    "15": "0.00000",
                                    "16": "0.00000",
                                    "17": "0.00000",
                                    "18": "0.000",
                                    "19": "A",
                                    "20": "4003885-1-1",
                                    "21": "1",
                                    "22": "M",
                                    "23": "10",
                                    "24": "",
                                    "25": "0",
                                    "26": "0",
                                    "27": "0",
                                    "28": "0",
                                    "29": "0",
                                    "30": "RBI",
                                    "31": "4501",
                                    "32": "0",
                                    "33": "0",
                                    "34": "0",
                                    "35": "treed",
                                    "36": "",
                                    "37": "TERRASMART COIL GALVANIZED 12GA (0.100\" min substrate before galvanizing) G-90 A653 SS GRADE 80 x 17.61\" WIDE",
                                    "38": "",
                                    "39": "0",
                                    "40": "",
                                    "41": "0.00000000",
                                    "42": "0.00000",
                                    "43": "",
                                    "44": "",
                                    "45": "0",
                                    "46": "O",
                                    "47": "",
                                    "48": "",
                                    "49": "",
                                    "50": "FT",
                                    "51": "1.00000000",
                                    "52": "",
                                    "53": "",
                                    "54": "",
                                    "55": "1.00000000",
                                    "56": "1",
                                    "57": "0",
                                    "58": "0",
                                    "59": "0",
                                    "60": "0",
                                    "61": "0",
                                    "62": "0",
                                    "63": "0",
                                    "64": "0",
                                    "65": "0",
                                    "66": "",
                                    "67": "MfgSys",
                                    "68": "MfgSys",
                                    "69": "0",
                                    "70": "0",
                                    "71": "0",
                                    "72": "",
                                    "73": "0",
                                    "74": "0",
                                    "75": "0",
                                    "76": "0",
                                    "77": "0",
                                    "78": "0",
                                    "79": "0.000",
                                    "80": "0",
                                    "81": "0",
                                    "82": "0.00000",
                                    "83": "0.00000",
                                    "84": "0.00000",
                                    "85": "0.00000",
                                    "86": "",
                                    "87": "",
                                    "88": "",
                                    "89": "0.00000000",
                                    "90": "0.00000000",
                                    "91": "0.00000",
                                    "92": "0.00000",
                                    "93": "0.00000",
                                    "94": "0.00000",
                                    "95": "0.00000",
                                    "96": "0.00000",
                                    "97": "0.00000",
                                    "98": "0.00000",
                                    "99": "0.00000",
                                    "100": "0.00000",
                                    "101": "0.000",
                                    "102": "",
                                    "103": "0",
                                    "104": "1",
                                    "105": "NULL",
                                    "106": "0",
                                    "107": "8729.22670000",
                                    "108": "FT",
                                    "109": "FT",
                                    "110": "",
                                    "111": "",
                                    "112": "",
                                    "113": "",
                                    "114": "Std",
                                    "115": "0",
                                    "116": "0",
                                    "117": "0",
                                    "118": "",
                                    "119": "A",
                                    "120": "0",
                                    "121": "",
                                    "122": "",
                                    "123": "",
                                    "124": "0",
                                    "125": "0.00000",
                                    "126": "0.00000",
                                    "127": "0.00000",
                                    "128": "0.00000",
                                    "129": "0.00000",
                                    "130": "0.00000",
                                    "131": "0.00000",
                                    "132": "0.00000",
                                    "133": "0.00000",
                                    "134": "0.00000",
                                    "135": "",
                                    "136": "0",
                                    "137": "",
                                    "138": "",
                                    "139": "0",
                                    "140": "0",
                                    "141": "0",
                                    "142": "NULL",
                                    "143": "0",
                                    "144": "0",
                                    "145": "0.000",
                                    "146": "0x0000000378888C8C",
                                    "147": "bc977218-0692-4600-bb0a-1c05036add6c",
                                    "148": "0",
                                    "149": "",
                                    "150": "0",
                                    "151": "",
                                    "152": "",
                                    "153": "0",
                                    "154": "0.000",
                                    "155": "0.000",
                                    "156": "0.000",
                                    "157": "0.000",
                                    "158": "0.000",
                                    "159": "0.000",
                                    "160": "0.000",
                                    "161": "0.000",
                                    "162": "0.000",
                                    "163": "",
                                    "164": "0",
                                    "165": "0",
                                    "166": "NULL",
                                    "167": "0",
                                    "168": "0.000",
                                    "169": "0",
                                    "170": "0",
                                    "171": "",
                                    "172": "",
                                    "173": "0"
                                },
                                {
                                    "0": "RBMI",
                                    "1": "2022-10-21",
                                    "2": "17301",
                                    "3": "1459094",
                                    "4": "6C12090G801761",
                                    "5": "RBI",
                                    "6": "Z0000",
                                    "7": "I",
                                    "8": "STK-MTL",
                                    "9": "1",
                                    "10": "2022-10-21",
                                    "11": "53288.00000000",
                                    "12": "FT",
                                    "13": "0.00000",
                                    "14": "0.00000",
                                    "15": "0.00000",
                                    "16": "0.00000",
                                    "17": "0.00000",
                                    "18": "0.000",
                                    "19": "A",
                                    "20": "4003885-1-1",
                                    "21": "1",
                                    "22": "M",
                                    "23": "10",
                                    "24": "",
                                    "25": "0",
                                    "26": "0",
                                    "27": "0",
                                    "28": "0",
                                    "29": "0",
                                    "30": "RBI",
                                    "31": "4501",
                                    "32": "0",
                                    "33": "0",
                                    "34": "0",
                                    "35": "mhenderson",
                                    "36": "",
                                    "37": "TERRASMART COIL GALVANIZED 12GA (0.100\" min substrate before galvanizing) G-90 A653 SS GRADE 80 x 17.61\" WIDE",
                                    "38": "",
                                    "39": "0",
                                    "40": "",
                                    "41": "0.00000000",
                                    "42": "0.00000",
                                    "43": "",
                                    "44": "",
                                    "45": "0",
                                    "46": "O",
                                    "47": "",
                                    "48": "",
                                    "49": "",
                                    "50": "FT",
                                    "51": "1.00000000",
                                    "52": "",
                                    "53": "",
                                    "54": "",
                                    "55": "1.00000000",
                                    "56": "1",
                                    "57": "0",
                                    "58": "0",
                                    "59": "0",
                                    "60": "0",
                                    "61": "0",
                                    "62": "0",
                                    "63": "0",
                                    "64": "0",
                                    "65": "0",
                                    "66": "",
                                    "67": "MfgSys",
                                    "68": "MfgSys",
                                    "69": "0",
                                    "70": "0",
                                    "71": "0",
                                    "72": "",
                                    "73": "0",
                                    "74": "0",
                                    "75": "0",
                                    "76": "0",
                                    "77": "0",
                                    "78": "0",
                                    "79": "0.000",
                                    "80": "0",
                                    "81": "0",
                                    "82": "0.00000",
                                    "83": "0.00000",
                                    "84": "0.00000",
                                    "85": "0.00000",
                                    "86": "",
                                    "87": "",
                                    "88": "",
                                    "89": "0.00000000",
                                    "90": "0.00000000",
                                    "91": "0.00000",
                                    "92": "0.00000",
                                    "93": "0.00000",
                                    "94": "0.00000",
                                    "95": "0.00000",
                                    "96": "0.00000",
                                    "97": "0.00000",
                                    "98": "0.00000",
                                    "99": "0.00000",
                                    "100": "0.00000",
                                    "101": "0.000",
                                    "102": "220105",
                                    "103": "0",
                                    "104": "1",
                                    "105": "NULL",
                                    "106": "0",
                                    "107": "53288.00000000",
                                    "108": "FT",
                                    "109": "FT",
                                    "110": "",
                                    "111": "",
                                    "112": "",
                                    "113": "",
                                    "114": "Std",
                                    "115": "0",
                                    "116": "0",
                                    "117": "0",
                                    "118": "",
                                    "119": "A",
                                    "120": "0",
                                    "121": "",
                                    "122": "",
                                    "123": "",
                                    "124": "0",
                                    "125": "0.00000",
                                    "126": "0.00000",
                                    "127": "0.00000",
                                    "128": "0.00000",
                                    "129": "0.00000",
                                    "130": "0.00000",
                                    "131": "0.00000",
                                    "132": "0.00000",
                                    "133": "0.00000",
                                    "134": "0.00000",
                                    "135": "",
                                    "136": "0",
                                    "137": "",
                                    "138": "",
                                    "139": "0",
                                    "140": "0",
                                    "141": "0",
                                    "142": "NULL",
                                    "143": "0",
                                    "144": "0",
                                    "145": "0.000",
                                    "146": "0x0000000379D51C3D",
                                    "147": "be7d62e7-b197-4b77-93d8-7d3174d847e0",
                                    "148": "0",
                                    "149": "",
                                    "150": "0",
                                    "151": "",
                                    "152": "",
                                    "153": "0",
                                    "154": "0.000",
                                    "155": "0.000",
                                    "156": "0.000",
                                    "157": "0.000",
                                    "158": "0.000",
                                    "159": "0.000",
                                    "160": "0.000",
                                    "161": "0.000",
                                    "162": "0.000",
                                    "163": "",
                                    "164": "0",
                                    "165": "0",
                                    "166": "NULL",
                                    "167": "0",
                                    "168": "0.000",
                                    "169": "0",
                                    "170": "0",
                                    "171": "",
                                    "172": "",
                                    "173": "0"
                                }
                            ]
                        },
                        "text/html": "<table><tr><th>Company</th><th>SysDate</th><th>SysTime</th><th>TranNum</th><th>PartNum</th><th>WareHouseCode</th><th>BinNum</th><th>TranClass</th><th>TranType</th><th>InventoryTrans</th><th>TranDate</th><th>TranQty</th><th>UM</th><th>MtlUnitCost</th><th>LbrUnitCost</th><th>BurUnitCost</th><th>SubUnitCost</th><th>MtlBurUnitCost</th><th>ExtCost</th><th>CostMethod</th><th>JobNum</th><th>AssemblySeq</th><th>JobSeqType</th><th>JobSeq</th><th>PackType</th><th>PackNum</th><th>PackLine</th><th>PONum</th><th>POLine</th><th>PORelNum</th><th>WareHouse2</th><th>BinNum2</th><th>OrderNum</th><th>OrderLine</th><th>OrderRelNum</th><th>EntryPerson</th><th>TranReference</th><th>PartDescription</th><th>RevisionNum</th><th>VendorNum</th><th>PurPoint</th><th>POReceiptQty</th><th>POUnitCost</th><th>PackSlip</th><th>InvoiceNum</th><th>InvoiceLine</th><th>InvAdjSrc</th><th>InvAdjReason</th><th>LotNum</th><th>DimCode</th><th>DUM</th><th>DimConvFactor</th><th>LotNum2</th><th>DimCode2</th><th>DUM2</th><th>DimConvFactor2</th><th>GLTrans</th><th>PostedToGL</th><th>FiscalYear</th><th>FiscalPeriod</th><th>JournalNum</th><th>Costed</th><th>DMRNum</th><th>ActionNum</th><th>RMANum</th><th>COSPostingReqd</th><th>JournalCode</th><th>Plant</th><th>Plant2</th><th>CallNum</th><th>CallLine</th><th>MatNum</th><th>JobNum2</th><th>AssemblySeq2</th><th>JobSeq2</th><th>CustNum</th><th>RMALine</th><th>RMAReceipt</th><th>RMADisp</th><th>OtherDivValue</th><th>PlantTranNum</th><th>NonConfID</th><th>MtlMtlUnitCost</th><th>MtlLabUnitCost</th><th>MtlSubUnitCost</th><th>MtlBurdenUnitCost</th><th>RefType</th><th>RefCode</th><th>LegalNumber</th><th>BeginQty</th><th>AfterQty</th><th>BegBurUnitCost</th><th>BegLbrUnitCost</th><th>BegMtlBurUnitCost</th><th>BegMtlUnitCost</th><th>BegSubUnitCost</th><th>AfterBurUnitCost</th><th>AfterLbrUnitCost</th><th>AfterMtlBurUnitCost</th><th>AfterMtlUnitCost</th><th>AfterSubUnitCost</th><th>PlantCostValue</th><th>EmpID</th><th>ReconcileNum</th><th>CostID</th><th>FIFODate</th><th>FIFOSeq</th><th>ActTranQty</th><th>ActTransUOM</th><th>InvtyUOM</th><th>InvtyUOM2</th><th>FIFOAction</th><th>FiscalYearSuffix</th><th>FiscalCalendarID</th><th>BinType</th><th>CCYear</th><th>CCMonth</th><th>CycleSeq</th><th>ABTUID</th><th>BaseCostMethod</th><th>RevertStatus</th><th>RevertID</th><th>DropShipPackSlip</th><th>VarTarget</th><th>FIFOSubSeq</th><th>AltMtlUnitCost</th><th>AltLbrUnitCost</th><th>AltBurUnitCost</th><th>AltSubUnitCost</th><th>AltMtlBurUnitCost</th><th>AltExtCost</th><th>AltMtlMtlUnitCost</th><th>AltMtlLabUnitCost</th><th>AltMtlSubUnitCost</th><th>AltMtlBurdenUnitCost</th><th>TranDocTypeID</th><th>PBInvNum</th><th>LoanFlag</th><th>AssetNum</th><th>AdditionNum</th><th>DisposalNum</th><th>ProjProcessed</th><th>AsOfDate</th><th>AsOfSeq</th><th>MscNum</th><th>ODCUnitCost</th><th>SysRevID</th><th>SysRowID</th><th>TranRefType</th><th>PCID</th><th>PCIDCollapseCounter</th><th>PCID2</th><th>ContractID</th><th>LCFlag</th><th>ExtMtlCost</th><th>ExtLbrCost</th><th>ExtBurCost</th><th>ExtSubCost</th><th>ExtMtlBurCost</th><th>ExtMtlMtlCost</th><th>ExtMtlLabCost</th><th>ExtMtlSubCost</th><th>ExtMtlBurdenCost</th><th>MYImportNum</th><th>AutoReverse</th><th>RevTranNum</th><th>RevSysDate</th><th>RevSysTime</th><th>ExtNonRecoverableCost</th><th>EpicorFSA</th><th>AttributeSetID</th><th>AttributeSetDescription</th><th>AttributeSetShortDescription</th><th>NumberOfPieces</th></tr><tr><td>RBMI</td><td>2022-10-19</td><td>39943</td><td>1457453</td><td>6C12090G801761</td><td>RBI</td><td>Z0000</td><td>I</td><td>STK-MTL</td><td>1</td><td>2022-10-19</td><td>21073.73330000</td><td>FT</td><td>0.00000</td><td>0.00000</td><td>0.00000</td><td>0.00000</td><td>0.00000</td><td>0.000</td><td>A</td><td>4003885-1-1</td><td>1</td><td>M</td><td>10</td><td></td><td>0</td><td>0</td><td>0</td><td>0</td><td>0</td><td>RBI</td><td>4501</td><td>0</td><td>0</td><td>0</td><td>treed</td><td></td><td>TERRASMART COIL GALVANIZED 12GA (0.100&quot; min substrate before galvanizing) G-90 A653 SS GRADE 80 x 17.61&quot; WIDE</td><td></td><td>0</td><td></td><td>0.00000000</td><td>0.00000</td><td></td><td></td><td>0</td><td>O</td><td></td><td></td><td></td><td>FT</td><td>1.00000000</td><td></td><td></td><td></td><td>1.00000000</td><td>1</td><td>0</td><td>0</td><td>0</td><td>0</td><td>0</td><td>0</td><td>0</td><td>0</td><td>0</td><td></td><td>MfgSys</td><td>MfgSys</td><td>0</td><td>0</td><td>0</td><td></td><td>0</td><td>0</td><td>0</td><td>0</td><td>0</td><td>0</td><td>0.000</td><td>0</td><td>0</td><td>0.00000</td><td>0.00000</td><td>0.00000</td><td>0.00000</td><td></td><td></td><td></td><td>0.00000000</td><td>0.00000000</td><td>0.00000</td><td>0.00000</td><td>0.00000</td><td>0.00000</td><td>0.00000</td><td>0.00000</td><td>0.00000</td><td>0.00000</td><td>0.00000</td><td>0.00000</td><td>0.000</td><td>4597</td><td>0</td><td>1</td><td>NULL</td><td>0</td><td>21073.73330000</td><td>FT</td><td>FT</td><td></td><td></td><td></td><td></td><td>Std</td><td>0</td><td>0</td><td>0</td><td></td><td>A</td><td>0</td><td></td><td></td><td></td><td>0</td><td>0.00000</td><td>0.00000</td><td>0.00000</td><td>0.00000</td><td>0.00000</td><td>0.00000</td><td>0.00000</td><td>0.00000</td><td>0.00000</td><td>0.00000</td><td></td><td>0</td><td></td><td></td><td>0</td><td>0</td><td>0</td><td>NULL</td><td>0</td><td>0</td><td>0.000</td><td>0x0000000377F2B686</td><td>57827d17-42fb-4cef-bb51-bca8cfa983ae</td><td>0</td><td></td><td>0</td><td></td><td></td><td>0</td><td>0.000</td><td>0.000</td><td>0.000</td><td>0.000</td><td>0.000</td><td>0.000</td><td>0.000</td><td>0.000</td><td>0.000</td><td></td><td>0</td><td>0</td><td>NULL</td><td>0</td><td>0.000</td><td>0</td><td>0</td><td></td><td></td><td>0</td></tr><tr><td>RBMI</td><td>2022-10-19</td><td>55505</td><td>1458040</td><td>6C12090G801761</td><td>RBI</td><td>Z0000</td><td>I</td><td>STK-MTL</td><td>1</td><td>2022-10-19</td><td>8729.22670000</td><td>FT</td><td>0.00000</td><td>0.00000</td><td>0.00000</td><td>0.00000</td><td>0.00000</td><td>0.000</td><td>A</td><td>4003885-1-1</td><td>1</td><td>M</td><td>10</td><td></td><td>0</td><td>0</td><td>0</td><td>0</td><td>0</td><td>RBI</td><td>4501</td><td>0</td><td>0</td><td>0</td><td>treed</td><td></td><td>TERRASMART COIL GALVANIZED 12GA (0.100&quot; min substrate before galvanizing) G-90 A653 SS GRADE 80 x 17.61&quot; WIDE</td><td></td><td>0</td><td></td><td>0.00000000</td><td>0.00000</td><td></td><td></td><td>0</td><td>O</td><td></td><td></td><td></td><td>FT</td><td>1.00000000</td><td></td><td></td><td></td><td>1.00000000</td><td>1</td><td>0</td><td>0</td><td>0</td><td>0</td><td>0</td><td>0</td><td>0</td><td>0</td><td>0</td><td></td><td>MfgSys</td><td>MfgSys</td><td>0</td><td>0</td><td>0</td><td></td><td>0</td><td>0</td><td>0</td><td>0</td><td>0</td><td>0</td><td>0.000</td><td>0</td><td>0</td><td>0.00000</td><td>0.00000</td><td>0.00000</td><td>0.00000</td><td></td><td></td><td></td><td>0.00000000</td><td>0.00000000</td><td>0.00000</td><td>0.00000</td><td>0.00000</td><td>0.00000</td><td>0.00000</td><td>0.00000</td><td>0.00000</td><td>0.00000</td><td>0.00000</td><td>0.00000</td><td>0.000</td><td></td><td>0</td><td>1</td><td>NULL</td><td>0</td><td>8729.22670000</td><td>FT</td><td>FT</td><td></td><td></td><td></td><td></td><td>Std</td><td>0</td><td>0</td><td>0</td><td></td><td>A</td><td>0</td><td></td><td></td><td></td><td>0</td><td>0.00000</td><td>0.00000</td><td>0.00000</td><td>0.00000</td><td>0.00000</td><td>0.00000</td><td>0.00000</td><td>0.00000</td><td>0.00000</td><td>0.00000</td><td></td><td>0</td><td></td><td></td><td>0</td><td>0</td><td>0</td><td>NULL</td><td>0</td><td>0</td><td>0.000</td><td>0x0000000378888C8C</td><td>bc977218-0692-4600-bb0a-1c05036add6c</td><td>0</td><td></td><td>0</td><td></td><td></td><td>0</td><td>0.000</td><td>0.000</td><td>0.000</td><td>0.000</td><td>0.000</td><td>0.000</td><td>0.000</td><td>0.000</td><td>0.000</td><td></td><td>0</td><td>0</td><td>NULL</td><td>0</td><td>0.000</td><td>0</td><td>0</td><td></td><td></td><td>0</td></tr><tr><td>RBMI</td><td>2022-10-21</td><td>17301</td><td>1459094</td><td>6C12090G801761</td><td>RBI</td><td>Z0000</td><td>I</td><td>STK-MTL</td><td>1</td><td>2022-10-21</td><td>53288.00000000</td><td>FT</td><td>0.00000</td><td>0.00000</td><td>0.00000</td><td>0.00000</td><td>0.00000</td><td>0.000</td><td>A</td><td>4003885-1-1</td><td>1</td><td>M</td><td>10</td><td></td><td>0</td><td>0</td><td>0</td><td>0</td><td>0</td><td>RBI</td><td>4501</td><td>0</td><td>0</td><td>0</td><td>mhenderson</td><td></td><td>TERRASMART COIL GALVANIZED 12GA (0.100&quot; min substrate before galvanizing) G-90 A653 SS GRADE 80 x 17.61&quot; WIDE</td><td></td><td>0</td><td></td><td>0.00000000</td><td>0.00000</td><td></td><td></td><td>0</td><td>O</td><td></td><td></td><td></td><td>FT</td><td>1.00000000</td><td></td><td></td><td></td><td>1.00000000</td><td>1</td><td>0</td><td>0</td><td>0</td><td>0</td><td>0</td><td>0</td><td>0</td><td>0</td><td>0</td><td></td><td>MfgSys</td><td>MfgSys</td><td>0</td><td>0</td><td>0</td><td></td><td>0</td><td>0</td><td>0</td><td>0</td><td>0</td><td>0</td><td>0.000</td><td>0</td><td>0</td><td>0.00000</td><td>0.00000</td><td>0.00000</td><td>0.00000</td><td></td><td></td><td></td><td>0.00000000</td><td>0.00000000</td><td>0.00000</td><td>0.00000</td><td>0.00000</td><td>0.00000</td><td>0.00000</td><td>0.00000</td><td>0.00000</td><td>0.00000</td><td>0.00000</td><td>0.00000</td><td>0.000</td><td>220105</td><td>0</td><td>1</td><td>NULL</td><td>0</td><td>53288.00000000</td><td>FT</td><td>FT</td><td></td><td></td><td></td><td></td><td>Std</td><td>0</td><td>0</td><td>0</td><td></td><td>A</td><td>0</td><td></td><td></td><td></td><td>0</td><td>0.00000</td><td>0.00000</td><td>0.00000</td><td>0.00000</td><td>0.00000</td><td>0.00000</td><td>0.00000</td><td>0.00000</td><td>0.00000</td><td>0.00000</td><td></td><td>0</td><td></td><td></td><td>0</td><td>0</td><td>0</td><td>NULL</td><td>0</td><td>0</td><td>0.000</td><td>0x0000000379D51C3D</td><td>be7d62e7-b197-4b77-93d8-7d3174d847e0</td><td>0</td><td></td><td>0</td><td></td><td></td><td>0</td><td>0.000</td><td>0.000</td><td>0.000</td><td>0.000</td><td>0.000</td><td>0.000</td><td>0.000</td><td>0.000</td><td>0.000</td><td></td><td>0</td><td>0</td><td>NULL</td><td>0</td><td>0.000</td><td>0</td><td>0</td><td></td><td></td><td>0</td></tr></table>"
                    },
                    "metadata": {}
                }
            ],
            "execution_count": 2
        },
        {
            "cell_type": "markdown",
            "source": [
                "# Example JobProd\r\n",
                "\r\n",
                "The Example order has the same first 7 digits on the OrderNum as expected in the first test of the JobNum/OrderNum connection"
            ],
            "metadata": {
                "language": "sql",
                "azdata_cell_guid": "fe0c1c68-974d-4df6-a3f2-68ba198a5911"
            },
            "attachments": {}
        },
        {
            "cell_type": "code",
            "source": [
                "SELECT *\r\n",
                "  FROM [ERPDB].[Erp].[JobProd]\r\n",
                "  Where Company = 'rbmi'\r\n",
                "  and Ordernum like '4003885%'"
            ],
            "metadata": {
                "language": "sql",
                "azdata_cell_guid": "22196835-8228-486e-afc8-868c0e590e99",
                "tags": []
            },
            "outputs": [
                {
                    "output_type": "display_data",
                    "data": {
                        "text/html": "(2 rows affected)"
                    },
                    "metadata": {}
                },
                {
                    "output_type": "display_data",
                    "data": {
                        "text/html": "Total execution time: 00:00:00.110"
                    },
                    "metadata": {}
                },
                {
                    "output_type": "execute_result",
                    "execution_count": 5,
                    "data": {
                        "application/vnd.dataresource+json": {
                            "schema": {
                                "fields": [
                                    {
                                        "name": "Company"
                                    },
                                    {
                                        "name": "JobNum"
                                    },
                                    {
                                        "name": "OrderNum"
                                    },
                                    {
                                        "name": "OrderLine"
                                    },
                                    {
                                        "name": "OrderRelNum"
                                    },
                                    {
                                        "name": "ProdQty"
                                    },
                                    {
                                        "name": "WarehouseCode"
                                    },
                                    {
                                        "name": "TargetJobNum"
                                    },
                                    {
                                        "name": "TargetAssemblySeq"
                                    },
                                    {
                                        "name": "TargetMtlSeq"
                                    },
                                    {
                                        "name": "ShippedQty"
                                    },
                                    {
                                        "name": "ReceivedQty"
                                    },
                                    {
                                        "name": "WIPQty"
                                    },
                                    {
                                        "name": "CallNum"
                                    },
                                    {
                                        "name": "CallLine"
                                    },
                                    {
                                        "name": "TFLineNum"
                                    },
                                    {
                                        "name": "PartNum"
                                    },
                                    {
                                        "name": "Plant"
                                    },
                                    {
                                        "name": "DemandContractNum"
                                    },
                                    {
                                        "name": "DemandHeadSeq"
                                    },
                                    {
                                        "name": "DemandDtlSeq"
                                    },
                                    {
                                        "name": "DemandScheduleSeq"
                                    },
                                    {
                                        "name": "PlanUserID"
                                    },
                                    {
                                        "name": "PlanID"
                                    },
                                    {
                                        "name": "SysRevID"
                                    },
                                    {
                                        "name": "SysRowID"
                                    },
                                    {
                                        "name": "WIPToMiscShipment"
                                    },
                                    {
                                        "name": "RMANum"
                                    },
                                    {
                                        "name": "RMALine"
                                    },
                                    {
                                        "name": "RMAReceipt"
                                    },
                                    {
                                        "name": "RMADisp"
                                    },
                                    {
                                        "name": "DMRNum"
                                    },
                                    {
                                        "name": "DMRActionNum"
                                    },
                                    {
                                        "name": "AttributeSetID"
                                    },
                                    {
                                        "name": "PlanningNumberOfPieces"
                                    }
                                ]
                            },
                            "data": [
                                {
                                    "0": "RBMI",
                                    "1": "4003885-1-1",
                                    "2": "4003885",
                                    "3": "1",
                                    "4": "1",
                                    "5": "1.00000000",
                                    "6": "",
                                    "7": "",
                                    "8": "0",
                                    "9": "0",
                                    "10": "0.00000000",
                                    "11": "0.00000000",
                                    "12": "1.00000000",
                                    "13": "0",
                                    "14": "0",
                                    "15": "",
                                    "16": "TerraSmart Parts",
                                    "17": "",
                                    "18": "0",
                                    "19": "0",
                                    "20": "0",
                                    "21": "0",
                                    "22": "",
                                    "23": "",
                                    "24": "0x000000035FE773C7",
                                    "25": "1c12792f-955a-4b4a-bd28-39a88e9021d6",
                                    "26": "0",
                                    "27": "0",
                                    "28": "0",
                                    "29": "0",
                                    "30": "0",
                                    "31": "0",
                                    "32": "0",
                                    "33": "0",
                                    "34": "0"
                                },
                                {
                                    "0": "RBMI",
                                    "1": "4003885-2-1",
                                    "2": "4003885",
                                    "3": "2",
                                    "4": "1",
                                    "5": "1.00000000",
                                    "6": "",
                                    "7": "",
                                    "8": "0",
                                    "9": "0",
                                    "10": "0.00000000",
                                    "11": "0.00000000",
                                    "12": "1.00000000",
                                    "13": "0",
                                    "14": "0",
                                    "15": "",
                                    "16": "TerraSmart Parts",
                                    "17": "",
                                    "18": "0",
                                    "19": "0",
                                    "20": "0",
                                    "21": "0",
                                    "22": "",
                                    "23": "",
                                    "24": "0x000000035FE7775E",
                                    "25": "80608004-ac1f-4809-abe2-afd23c7e95ef",
                                    "26": "0",
                                    "27": "0",
                                    "28": "0",
                                    "29": "0",
                                    "30": "0",
                                    "31": "0",
                                    "32": "0",
                                    "33": "0",
                                    "34": "0"
                                }
                            ]
                        },
                        "text/html": "<table><tr><th>Company</th><th>JobNum</th><th>OrderNum</th><th>OrderLine</th><th>OrderRelNum</th><th>ProdQty</th><th>WarehouseCode</th><th>TargetJobNum</th><th>TargetAssemblySeq</th><th>TargetMtlSeq</th><th>ShippedQty</th><th>ReceivedQty</th><th>WIPQty</th><th>CallNum</th><th>CallLine</th><th>TFLineNum</th><th>PartNum</th><th>Plant</th><th>DemandContractNum</th><th>DemandHeadSeq</th><th>DemandDtlSeq</th><th>DemandScheduleSeq</th><th>PlanUserID</th><th>PlanID</th><th>SysRevID</th><th>SysRowID</th><th>WIPToMiscShipment</th><th>RMANum</th><th>RMALine</th><th>RMAReceipt</th><th>RMADisp</th><th>DMRNum</th><th>DMRActionNum</th><th>AttributeSetID</th><th>PlanningNumberOfPieces</th></tr><tr><td>RBMI</td><td>4003885-1-1</td><td>4003885</td><td>1</td><td>1</td><td>1.00000000</td><td></td><td></td><td>0</td><td>0</td><td>0.00000000</td><td>0.00000000</td><td>1.00000000</td><td>0</td><td>0</td><td></td><td>TerraSmart Parts</td><td></td><td>0</td><td>0</td><td>0</td><td>0</td><td></td><td></td><td>0x000000035FE773C7</td><td>1c12792f-955a-4b4a-bd28-39a88e9021d6</td><td>0</td><td>0</td><td>0</td><td>0</td><td>0</td><td>0</td><td>0</td><td>0</td><td>0</td></tr><tr><td>RBMI</td><td>4003885-2-1</td><td>4003885</td><td>2</td><td>1</td><td>1.00000000</td><td></td><td></td><td>0</td><td>0</td><td>0.00000000</td><td>0.00000000</td><td>1.00000000</td><td>0</td><td>0</td><td></td><td>TerraSmart Parts</td><td></td><td>0</td><td>0</td><td>0</td><td>0</td><td></td><td></td><td>0x000000035FE7775E</td><td>80608004-ac1f-4809-abe2-afd23c7e95ef</td><td>0</td><td>0</td><td>0</td><td>0</td><td>0</td><td>0</td><td>0</td><td>0</td><td>0</td></tr></table>"
                    },
                    "metadata": {}
                }
            ],
            "execution_count": 5
        },
        {
            "cell_type": "markdown",
            "source": [
                "# Validation JobNum equals Ordernum in same company\n",
                "\n",
                "Baed on a query of the JobProd table the JobNum and the OrderNum do equal one another since the query below only shows one job/order combo that doen't match"
            ],
            "metadata": {
                "language": "sql",
                "azdata_cell_guid": "00b46835-170e-4ae5-a8f1-df307870907a"
            },
            "attachments": {}
        },
        {
            "cell_type": "code",
            "source": [
                "SELECT jp.*\r\n",
                "From (\r\n",
                "Select Distinct \r\n",
                " jobnum,\r\n",
                " REVERSE(PARSENAME(REPLACE(REVERSE([JobNum]), '-', '.'), 1)) as JobNumShort,\r\n",
                " Cast(OrderNum as Varchar(10)) as OrderNum,\r\n",
                " Orderline,\r\n",
                " OrderRelNum,\r\n",
                " Company\r\n",
                "\r\n",
                "  FROM [ERPDB].[Erp].[JobProd]\r\n",
                "  ) as jp\r\n",
                "  Where Company in ('rbmi','solar')\r\n",
                "  and Ordernum <> JobnumShort\r\n",
                "  and ordernum <> '0'\r\n",
                "  Order by OrderNum "
            ],
            "metadata": {
                "language": "sql",
                "azdata_cell_guid": "f2d9e1da-23a0-41e6-8122-fab77aa31b16",
                "tags": [
                    "hide_input"
                ]
            },
            "outputs": [
                {
                    "output_type": "display_data",
                    "data": {
                        "text/html": "(1 row affected)"
                    },
                    "metadata": {}
                },
                {
                    "output_type": "display_data",
                    "data": {
                        "text/html": "Total execution time: 00:00:00.277"
                    },
                    "metadata": {}
                },
                {
                    "output_type": "execute_result",
                    "execution_count": 3,
                    "data": {
                        "application/vnd.dataresource+json": {
                            "schema": {
                                "fields": [
                                    {
                                        "name": "jobnum"
                                    },
                                    {
                                        "name": "JobNumShort"
                                    },
                                    {
                                        "name": "OrderNum"
                                    },
                                    {
                                        "name": "Orderline"
                                    },
                                    {
                                        "name": "OrderRelNum"
                                    },
                                    {
                                        "name": "Company"
                                    }
                                ]
                            },
                            "data": [
                                {
                                    "0": "177014-4-1",
                                    "1": "177014",
                                    "2": "2170055",
                                    "3": "4",
                                    "4": "2",
                                    "5": "RBMI"
                                }
                            ]
                        },
                        "text/html": "<table><tr><th>jobnum</th><th>JobNumShort</th><th>OrderNum</th><th>Orderline</th><th>OrderRelNum</th><th>Company</th></tr><tr><td>177014-4-1</td><td>177014</td><td>2170055</td><td>4</td><td>2</td><td>RBMI</td></tr></table>"
                    },
                    "metadata": {}
                }
            ],
            "execution_count": 3
        }
    ]
}