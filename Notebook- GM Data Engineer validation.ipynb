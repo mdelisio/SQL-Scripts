{
    "metadata": {
        "kernelspec": {
            "name": "SQL",
            "display_name": "SQL",
            "language": "sql"
        },
        "language_info": {
            "name": "sql",
            "version": ""
        },
        "extensions": {
            "azuredatastudio": {
                "version": 1,
                "views": []
            }
        }
    },
    "nbformat_minor": 2,
    "nbformat": 4,
    "cells": [
        {
            "cell_type": "markdown",
            "source": [
                "Test Project 1930405"
            ],
            "metadata": {
                "azdata_cell_guid": "cd631028-eb60-4bf2-b67c-ae6129a5a144"
            },
            "attachments": {}
        },
        {
            "cell_type": "code",
            "source": [
                "Select \n",
                "Company,\n",
                "PartNum,\n",
                "TranDate,\n",
                "ExtCost,\n",
                "OrderNumLine,\n",
                "TranReference,\n",
                "PartDescription\n",
                "From etl.vwPartTran\n",
                "Where OrderNum = '1930405'\n",
                "AND Company = 'Solar'\n",
                "Order by TranDate DESC"
            ],
            "metadata": {
                "azdata_cell_guid": "235b7929-7fb3-4fb8-ad11-f754a2fb656e"
            },
            "outputs": [
                {
                    "output_type": "display_data",
                    "data": {
                        "text/html": "(55 rows affected)"
                    },
                    "metadata": {}
                },
                {
                    "output_type": "display_data",
                    "data": {
                        "text/html": "Total execution time: 00:00:00.386"
                    },
                    "metadata": {}
                },
                {
                    "output_type": "execute_result",
                    "execution_count": 11,
                    "data": {
                        "application/vnd.dataresource+json": {
                            "schema": {
                                "fields": [
                                    {
                                        "name": "Company"
                                    },
                                    {
                                        "name": "PartNum"
                                    },
                                    {
                                        "name": "TranDate"
                                    },
                                    {
                                        "name": "ExtCost"
                                    },
                                    {
                                        "name": "OrderNumLine"
                                    },
                                    {
                                        "name": "TranReference"
                                    },
                                    {
                                        "name": "PartDescription"
                                    }
                                ]
                            },
                            "data": [
                                {
                                    "0": "SOLAR",
                                    "1": "EXPENSE REPORT",
                                    "2": "2022-07-26",
                                    "3": "3047.860",
                                    "4": "1930405-5",
                                    "5": "J FERNANDO EXP 070222",
                                    "6": "EXPENSE REPORT"
                                },
                                {
                                    "0": "SOLAR",
                                    "1": "04000",
                                    "2": "2022-07-26",
                                    "3": "1312.370",
                                    "4": "1930405-5",
                                    "5": "J FERNANDO EXP 071622",
                                    "6": "GRT FRT"
                                },
                                {
                                    "0": "SOLAR",
                                    "1": "EXPENSE REPORT",
                                    "2": "2022-07-26",
                                    "3": "209.280",
                                    "4": "1930405-5",
                                    "5": "M LEWIS EXP 070922",
                                    "6": "EXPENSE REPORT"
                                },
                                {
                                    "0": "SOLAR",
                                    "1": "EXPENSE REPORT",
                                    "2": "2022-07-26",
                                    "3": "276.690",
                                    "4": "1930405-5",
                                    "5": "M LEWIS EXP 071622",
                                    "6": "EXPENSE REPORT"
                                },
                                {
                                    "0": "SOLAR",
                                    "1": "",
                                    "2": "2022-07-25",
                                    "3": "36893.280",
                                    "4": "1930405-5",
                                    "5": "Supplier: DCSOLAR Inv: 1930405-03",
                                    "6": "SUBLABOR"
                                },
                                {
                                    "0": "SOLAR",
                                    "1": "",
                                    "2": "2022-07-22",
                                    "3": "12250.840",
                                    "4": "1930405-5",
                                    "5": "Supplier: STOCKMAN Inv: 1930405-01",
                                    "6": "SUBLABOR"
                                },
                                {
                                    "0": "SOLAR",
                                    "1": "EXPENSE REPORT",
                                    "2": "2022-06-30",
                                    "3": "2345.880",
                                    "4": "1930405-5",
                                    "5": "J FERNANDO EXP 061122",
                                    "6": "EXPENSE REPORT"
                                },
                                {
                                    "0": "SOLAR",
                                    "1": "EXPENSE REPORT",
                                    "2": "2022-06-30",
                                    "3": "5698.250",
                                    "4": "1930405-5",
                                    "5": "J FERNANDO EXP 062522",
                                    "6": "EXPENSE REPORT"
                                },
                                {
                                    "0": "SOLAR",
                                    "1": "MFG Structure",
                                    "2": "2022-06-30",
                                    "3": "100.000",
                                    "4": "1930405-2",
                                    "5": "Supplier: ROUGH Inv: 277760",
                                    "6": "MFG Structure"
                                },
                                {
                                    "0": "SOLAR",
                                    "1": "",
                                    "2": "2022-06-30",
                                    "3": "59800.000",
                                    "4": "1930405-5",
                                    "5": "Supplier: DCSOLAR Inv: 1930405-02",
                                    "6": "SUBLABOR"
                                },
                                {
                                    "0": "SOLAR",
                                    "1": "",
                                    "2": "2022-06-20",
                                    "3": "272.730",
                                    "4": "1930405-4",
                                    "5": "Supplier: FEDEX Inv: 9056391691",
                                    "6": "1930405"
                                },
                                {
                                    "0": "SOLAR",
                                    "1": "",
                                    "2": "2022-06-14",
                                    "3": "7100.000",
                                    "4": "1930405-5",
                                    "5": "Supplier: DCSOLAR Inv: 1930405-01",
                                    "6": "SUBLABOR"
                                },
                                {
                                    "0": "SOLAR",
                                    "1": "MFG Structure",
                                    "2": "2022-06-09",
                                    "3": "663.000",
                                    "4": "1930405-2",
                                    "5": "Supplier: ROUGH Inv: 277242",
                                    "6": "MFG Structure"
                                },
                                {
                                    "0": "SOLAR",
                                    "1": "MFG Structure",
                                    "2": "2022-06-07",
                                    "3": "62.000",
                                    "4": "1930405-2",
                                    "5": "Supplier: ROUGH Inv: 277186",
                                    "6": "MFG Structure"
                                },
                                {
                                    "0": "SOLAR",
                                    "1": "",
                                    "2": "2021-05-13",
                                    "3": "22000.000",
                                    "4": "1930405-5",
                                    "5": "Supplier: LASE Inv: 1930405-10",
                                    "6": "SUBLABOR"
                                },
                                {
                                    "0": "SOLAR",
                                    "1": "MFG Structure",
                                    "2": "2021-04-16",
                                    "3": "6000.000",
                                    "4": "1930405-4",
                                    "5": "Supplier: ROUGH Inv: 264176",
                                    "6": "MFG Structure"
                                },
                                {
                                    "0": "SOLAR",
                                    "1": "",
                                    "2": "2021-04-15",
                                    "3": "520.000",
                                    "4": "1930405-5",
                                    "5": "Supplier: BEMCCAR Inv: 232276",
                                    "6": "FRT 1930405"
                                },
                                {
                                    "0": "SOLAR",
                                    "1": "",
                                    "2": "2021-03-30",
                                    "3": "66000.000",
                                    "4": "1930405-5",
                                    "5": "Supplier: LASE Inv: 1930405-09",
                                    "6": "SUBLABOR"
                                },
                                {
                                    "0": "SOLAR",
                                    "1": "",
                                    "2": "2021-03-23",
                                    "3": "425.110",
                                    "4": "1930405-5",
                                    "5": "Supplier: FEDEX Inv: 8670603421",
                                    "6": "FRT 1930405"
                                },
                                {
                                    "0": "SOLAR",
                                    "1": "EXPENSE REPORT",
                                    "2": "2021-03-22",
                                    "3": "100.470",
                                    "4": "1930405-5",
                                    "5": "M LEWIS EXP 022721",
                                    "6": "EXPENSE REPORT"
                                },
                                {
                                    "0": "SOLAR",
                                    "1": "",
                                    "2": "2021-03-22",
                                    "3": "34000.000",
                                    "4": "1930405-5",
                                    "5": "Supplier: LASE Inv: 1930405-08",
                                    "6": "SUBLABOR"
                                },
                                {
                                    "0": "SOLAR",
                                    "1": "MFG Structure",
                                    "2": "2021-03-19",
                                    "3": "606.000",
                                    "4": "1930405-4",
                                    "5": "Supplier: ROUGH Inv: 263255",
                                    "6": "MFG Structure"
                                },
                                {
                                    "0": "SOLAR",
                                    "1": "",
                                    "2": "2021-03-16",
                                    "3": "605.840",
                                    "4": "1930405-5",
                                    "5": "Supplier: FEDEX Inv: 8670564722",
                                    "6": "FRT 1930405"
                                },
                                {
                                    "0": "SOLAR",
                                    "1": "",
                                    "2": "2021-03-16",
                                    "3": "456.200",
                                    "4": "1930405-5",
                                    "5": "Supplier: FEDEX Inv: 8923023524",
                                    "6": "FRT 1930405"
                                },
                                {
                                    "0": "SOLAR",
                                    "1": "",
                                    "2": "2021-03-05",
                                    "3": "946.240",
                                    "4": "1930405-5",
                                    "5": "Supplier: FEDEX Inv: 8693936473",
                                    "6": "FRT 1930405"
                                },
                                {
                                    "0": "SOLAR",
                                    "1": "MFG Structure",
                                    "2": "2021-03-05",
                                    "3": "91.000",
                                    "4": "1930405-2",
                                    "5": "Supplier: ROUGH Inv: 262917",
                                    "6": "MFG Structure"
                                },
                                {
                                    "0": "SOLAR",
                                    "1": "MFG Structure",
                                    "2": "2021-03-05",
                                    "3": "59.000",
                                    "4": "1930405-4",
                                    "5": "Supplier: ROUGH Inv: 262917",
                                    "6": "MFG Structure"
                                },
                                {
                                    "0": "SOLAR",
                                    "1": "",
                                    "2": "2021-03-03",
                                    "3": "98825.560",
                                    "4": "1930405-5",
                                    "5": "Supplier: LASE Inv: 1930405-06",
                                    "6": "SUBLABOR"
                                },
                                {
                                    "0": "SOLAR",
                                    "1": "",
                                    "2": "2021-02-28",
                                    "3": "35000.000",
                                    "4": "1930405-5",
                                    "5": "Supplier: LASE Inv: 1930405-07",
                                    "6": "SUBLABOR"
                                },
                                {
                                    "0": "SOLAR",
                                    "1": "MFG Structure",
                                    "2": "2021-02-28",
                                    "3": "29000.000",
                                    "4": "1930405-4",
                                    "5": "Supplier: ROUGH Inv: 262764",
                                    "6": "MFG Structure"
                                },
                                {
                                    "0": "SOLAR",
                                    "1": "MFG Structure",
                                    "2": "2021-02-26",
                                    "3": "68.000",
                                    "4": "1930405-2",
                                    "5": "Supplier: ROUGH Inv: 262532",
                                    "6": "MFG Structure"
                                },
                                {
                                    "0": "SOLAR",
                                    "1": "MFG Structure",
                                    "2": "2021-02-26",
                                    "3": "6400.000",
                                    "4": "1930405-4",
                                    "5": "Supplier: ROUGH Inv: 262532",
                                    "6": "MFG Structure"
                                },
                                {
                                    "0": "SOLAR",
                                    "1": "",
                                    "2": "2021-02-23",
                                    "3": "715.000",
                                    "4": "1930405-5",
                                    "5": "Supplier: BEMCCAR Inv: 231416",
                                    "6": "FRT 1930405"
                                },
                                {
                                    "0": "SOLAR",
                                    "1": "MFG Structure",
                                    "2": "2021-02-22",
                                    "3": "28730.000",
                                    "4": "1930405-2",
                                    "5": "Supplier: ROUGH Inv: 262399",
                                    "6": "MFG Structure"
                                },
                                {
                                    "0": "SOLAR",
                                    "1": "MFG Structure",
                                    "2": "2021-02-18",
                                    "3": "42.000",
                                    "4": "1930405-4",
                                    "5": "Supplier: ROUGH Inv: 262290",
                                    "6": "MFG Structure"
                                },
                                {
                                    "0": "SOLAR",
                                    "1": "",
                                    "2": "2021-02-16",
                                    "3": "120000.000",
                                    "4": "1930405-5",
                                    "5": "Supplier: LASE Inv: 1930405-05",
                                    "6": "SUBLABOR"
                                },
                                {
                                    "0": "SOLAR",
                                    "1": "MFG Structure",
                                    "2": "2021-02-15",
                                    "3": "2381.000",
                                    "4": "1930405-2",
                                    "5": "Supplier: ROUGH Inv: 262126",
                                    "6": "MFG Structure"
                                },
                                {
                                    "0": "SOLAR",
                                    "1": "MFG Structure",
                                    "2": "2021-02-15",
                                    "3": "54100.000",
                                    "4": "1930405-4",
                                    "5": "Supplier: ROUGH Inv: 262126",
                                    "6": "MFG Structure"
                                },
                                {
                                    "0": "SOLAR",
                                    "1": "MFG Structure",
                                    "2": "2021-02-12",
                                    "3": "70.000",
                                    "4": "1930405-2",
                                    "5": "Supplier: ROUGH Inv: 261980",
                                    "6": "MFG Structure"
                                },
                                {
                                    "0": "SOLAR",
                                    "1": "MFG Structure",
                                    "2": "2021-02-12",
                                    "3": "6645.000",
                                    "4": "1930405-4",
                                    "5": "Supplier: ROUGH Inv: 261980",
                                    "6": "MFG Structure"
                                },
                                {
                                    "0": "SOLAR",
                                    "1": "",
                                    "2": "2021-02-08",
                                    "3": "60000.000",
                                    "4": "1930405-5",
                                    "5": "Supplier: LASE Inv: 1930405-04",
                                    "6": "SUBLABOR"
                                },
                                {
                                    "0": "SOLAR",
                                    "1": "MFG Structure",
                                    "2": "2021-02-08",
                                    "3": "194.000",
                                    "4": "1930405-2",
                                    "5": "Supplier: ROUGH Inv: 261922",
                                    "6": "MFG Structure"
                                },
                                {
                                    "0": "SOLAR",
                                    "1": "MFG Structure",
                                    "2": "2021-02-05",
                                    "3": "2308.000",
                                    "4": "1930405-2",
                                    "5": "Supplier: ROUGH Inv: 261795",
                                    "6": "MFG Structure"
                                },
                                {
                                    "0": "SOLAR",
                                    "1": "",
                                    "2": "2021-02-03",
                                    "3": "60000.000",
                                    "4": "1930405-5",
                                    "5": "Supplier: LASE Inv: 1930405-03",
                                    "6": "SUBLABOR"
                                },
                                {
                                    "0": "SOLAR",
                                    "1": "MFG Structure",
                                    "2": "2021-01-31",
                                    "3": "1.000",
                                    "4": "1930405-2",
                                    "5": "Supplier: ROUGH Inv: 261760",
                                    "6": "MFG Structure"
                                },
                                {
                                    "0": "SOLAR",
                                    "1": "MFG Structure",
                                    "2": "2021-01-29",
                                    "3": "2.000",
                                    "4": "1930405-2",
                                    "5": "Supplier: ROUGH Inv: 261521",
                                    "6": "MFG Structure"
                                },
                                {
                                    "0": "SOLAR",
                                    "1": "",
                                    "2": "2021-01-25",
                                    "3": "120000.000",
                                    "4": "1930405-5",
                                    "5": "Supplier: LASE Inv: 1930405-02",
                                    "6": "SUBLABOR"
                                },
                                {
                                    "0": "SOLAR",
                                    "1": "MFG Structure",
                                    "2": "2021-01-18",
                                    "3": "199525.000",
                                    "4": "1930405-2",
                                    "5": "Supplier: ROUGH Inv: 261152",
                                    "6": "MFG Structure"
                                },
                                {
                                    "0": "SOLAR",
                                    "1": "MFG Structure",
                                    "2": "2021-01-15",
                                    "3": "17287.000",
                                    "4": "1930405-2",
                                    "5": "Supplier: ROUGH Inv: 261048",
                                    "6": "MFG Structure"
                                },
                                {
                                    "0": "SOLAR",
                                    "1": "",
                                    "2": "2021-01-11",
                                    "3": "61500.000",
                                    "4": "1930405-5",
                                    "5": "Supplier: LASE Inv: 1930405-01",
                                    "6": "SUBLABOR"
                                },
                                {
                                    "0": "SOLAR",
                                    "1": "MFG Structure",
                                    "2": "2021-01-08",
                                    "3": "48887.000",
                                    "4": "1930405-2",
                                    "5": "Supplier: ROUGH Inv: 260897",
                                    "6": "MFG Structure"
                                },
                                {
                                    "0": "SOLAR",
                                    "1": "MFG Structure",
                                    "2": "2020-12-28",
                                    "3": "93503.000",
                                    "4": "1930405-2",
                                    "5": "Supplier: ROUGH Inv: 260275",
                                    "6": "MFG Structure"
                                },
                                {
                                    "0": "SOLAR",
                                    "1": "MFG Structure",
                                    "2": "2020-12-21",
                                    "3": "286.000",
                                    "4": "1930405-2",
                                    "5": "Supplier: ROUGH Inv: 260170",
                                    "6": "MFG Structure"
                                },
                                {
                                    "0": "SOLAR",
                                    "1": "MFG Structure",
                                    "2": "2020-12-18",
                                    "3": "6776.000",
                                    "4": "1930405-2",
                                    "5": "Supplier: ROUGH Inv: 260040",
                                    "6": "MFG Structure"
                                },
                                {
                                    "0": "SOLAR",
                                    "1": "MFG Structure",
                                    "2": "2020-12-04",
                                    "3": "29962.000",
                                    "4": "1930405-2",
                                    "5": "Supplier: ROUGH Inv: 259577",
                                    "6": "MFG Structure"
                                }
                            ]
                        },
                        "text/html": "<table><tr><th>Company</th><th>PartNum</th><th>TranDate</th><th>ExtCost</th><th>OrderNumLine</th><th>TranReference</th><th>PartDescription</th></tr><tr><td>SOLAR</td><td>EXPENSE REPORT</td><td>2022-07-26</td><td>3047.860</td><td>1930405-5</td><td>J FERNANDO EXP 070222</td><td>EXPENSE REPORT</td></tr><tr><td>SOLAR</td><td>04000</td><td>2022-07-26</td><td>1312.370</td><td>1930405-5</td><td>J FERNANDO EXP 071622</td><td>GRT FRT</td></tr><tr><td>SOLAR</td><td>EXPENSE REPORT</td><td>2022-07-26</td><td>209.280</td><td>1930405-5</td><td>M LEWIS EXP 070922</td><td>EXPENSE REPORT</td></tr><tr><td>SOLAR</td><td>EXPENSE REPORT</td><td>2022-07-26</td><td>276.690</td><td>1930405-5</td><td>M LEWIS EXP 071622</td><td>EXPENSE REPORT</td></tr><tr><td>SOLAR</td><td></td><td>2022-07-25</td><td>36893.280</td><td>1930405-5</td><td>Supplier: DCSOLAR Inv: 1930405-03</td><td>SUBLABOR</td></tr><tr><td>SOLAR</td><td></td><td>2022-07-22</td><td>12250.840</td><td>1930405-5</td><td>Supplier: STOCKMAN Inv: 1930405-01</td><td>SUBLABOR</td></tr><tr><td>SOLAR</td><td>EXPENSE REPORT</td><td>2022-06-30</td><td>2345.880</td><td>1930405-5</td><td>J FERNANDO EXP 061122</td><td>EXPENSE REPORT</td></tr><tr><td>SOLAR</td><td>EXPENSE REPORT</td><td>2022-06-30</td><td>5698.250</td><td>1930405-5</td><td>J FERNANDO EXP 062522</td><td>EXPENSE REPORT</td></tr><tr><td>SOLAR</td><td>MFG Structure</td><td>2022-06-30</td><td>100.000</td><td>1930405-2</td><td>Supplier: ROUGH Inv: 277760</td><td>MFG Structure</td></tr><tr><td>SOLAR</td><td></td><td>2022-06-30</td><td>59800.000</td><td>1930405-5</td><td>Supplier: DCSOLAR Inv: 1930405-02</td><td>SUBLABOR</td></tr><tr><td>SOLAR</td><td></td><td>2022-06-20</td><td>272.730</td><td>1930405-4</td><td>Supplier: FEDEX Inv: 9056391691</td><td>1930405</td></tr><tr><td>SOLAR</td><td></td><td>2022-06-14</td><td>7100.000</td><td>1930405-5</td><td>Supplier: DCSOLAR Inv: 1930405-01</td><td>SUBLABOR</td></tr><tr><td>SOLAR</td><td>MFG Structure</td><td>2022-06-09</td><td>663.000</td><td>1930405-2</td><td>Supplier: ROUGH Inv: 277242</td><td>MFG Structure</td></tr><tr><td>SOLAR</td><td>MFG Structure</td><td>2022-06-07</td><td>62.000</td><td>1930405-2</td><td>Supplier: ROUGH Inv: 277186</td><td>MFG Structure</td></tr><tr><td>SOLAR</td><td></td><td>2021-05-13</td><td>22000.000</td><td>1930405-5</td><td>Supplier: LASE Inv: 1930405-10</td><td>SUBLABOR</td></tr><tr><td>SOLAR</td><td>MFG Structure</td><td>2021-04-16</td><td>6000.000</td><td>1930405-4</td><td>Supplier: ROUGH Inv: 264176</td><td>MFG Structure</td></tr><tr><td>SOLAR</td><td></td><td>2021-04-15</td><td>520.000</td><td>1930405-5</td><td>Supplier: BEMCCAR Inv: 232276</td><td>FRT 1930405</td></tr><tr><td>SOLAR</td><td></td><td>2021-03-30</td><td>66000.000</td><td>1930405-5</td><td>Supplier: LASE Inv: 1930405-09</td><td>SUBLABOR</td></tr><tr><td>SOLAR</td><td></td><td>2021-03-23</td><td>425.110</td><td>1930405-5</td><td>Supplier: FEDEX Inv: 8670603421</td><td>FRT 1930405</td></tr><tr><td>SOLAR</td><td>EXPENSE REPORT</td><td>2021-03-22</td><td>100.470</td><td>1930405-5</td><td>M LEWIS EXP 022721</td><td>EXPENSE REPORT</td></tr><tr><td>SOLAR</td><td></td><td>2021-03-22</td><td>34000.000</td><td>1930405-5</td><td>Supplier: LASE Inv: 1930405-08</td><td>SUBLABOR</td></tr><tr><td>SOLAR</td><td>MFG Structure</td><td>2021-03-19</td><td>606.000</td><td>1930405-4</td><td>Supplier: ROUGH Inv: 263255</td><td>MFG Structure</td></tr><tr><td>SOLAR</td><td></td><td>2021-03-16</td><td>605.840</td><td>1930405-5</td><td>Supplier: FEDEX Inv: 8670564722</td><td>FRT 1930405</td></tr><tr><td>SOLAR</td><td></td><td>2021-03-16</td><td>456.200</td><td>1930405-5</td><td>Supplier: FEDEX Inv: 8923023524</td><td>FRT 1930405</td></tr><tr><td>SOLAR</td><td></td><td>2021-03-05</td><td>946.240</td><td>1930405-5</td><td>Supplier: FEDEX Inv: 8693936473</td><td>FRT 1930405</td></tr><tr><td>SOLAR</td><td>MFG Structure</td><td>2021-03-05</td><td>91.000</td><td>1930405-2</td><td>Supplier: ROUGH Inv: 262917</td><td>MFG Structure</td></tr><tr><td>SOLAR</td><td>MFG Structure</td><td>2021-03-05</td><td>59.000</td><td>1930405-4</td><td>Supplier: ROUGH Inv: 262917</td><td>MFG Structure</td></tr><tr><td>SOLAR</td><td></td><td>2021-03-03</td><td>98825.560</td><td>1930405-5</td><td>Supplier: LASE Inv: 1930405-06</td><td>SUBLABOR</td></tr><tr><td>SOLAR</td><td></td><td>2021-02-28</td><td>35000.000</td><td>1930405-5</td><td>Supplier: LASE Inv: 1930405-07</td><td>SUBLABOR</td></tr><tr><td>SOLAR</td><td>MFG Structure</td><td>2021-02-28</td><td>29000.000</td><td>1930405-4</td><td>Supplier: ROUGH Inv: 262764</td><td>MFG Structure</td></tr><tr><td>SOLAR</td><td>MFG Structure</td><td>2021-02-26</td><td>68.000</td><td>1930405-2</td><td>Supplier: ROUGH Inv: 262532</td><td>MFG Structure</td></tr><tr><td>SOLAR</td><td>MFG Structure</td><td>2021-02-26</td><td>6400.000</td><td>1930405-4</td><td>Supplier: ROUGH Inv: 262532</td><td>MFG Structure</td></tr><tr><td>SOLAR</td><td></td><td>2021-02-23</td><td>715.000</td><td>1930405-5</td><td>Supplier: BEMCCAR Inv: 231416</td><td>FRT 1930405</td></tr><tr><td>SOLAR</td><td>MFG Structure</td><td>2021-02-22</td><td>28730.000</td><td>1930405-2</td><td>Supplier: ROUGH Inv: 262399</td><td>MFG Structure</td></tr><tr><td>SOLAR</td><td>MFG Structure</td><td>2021-02-18</td><td>42.000</td><td>1930405-4</td><td>Supplier: ROUGH Inv: 262290</td><td>MFG Structure</td></tr><tr><td>SOLAR</td><td></td><td>2021-02-16</td><td>120000.000</td><td>1930405-5</td><td>Supplier: LASE Inv: 1930405-05</td><td>SUBLABOR</td></tr><tr><td>SOLAR</td><td>MFG Structure</td><td>2021-02-15</td><td>2381.000</td><td>1930405-2</td><td>Supplier: ROUGH Inv: 262126</td><td>MFG Structure</td></tr><tr><td>SOLAR</td><td>MFG Structure</td><td>2021-02-15</td><td>54100.000</td><td>1930405-4</td><td>Supplier: ROUGH Inv: 262126</td><td>MFG Structure</td></tr><tr><td>SOLAR</td><td>MFG Structure</td><td>2021-02-12</td><td>70.000</td><td>1930405-2</td><td>Supplier: ROUGH Inv: 261980</td><td>MFG Structure</td></tr><tr><td>SOLAR</td><td>MFG Structure</td><td>2021-02-12</td><td>6645.000</td><td>1930405-4</td><td>Supplier: ROUGH Inv: 261980</td><td>MFG Structure</td></tr><tr><td>SOLAR</td><td></td><td>2021-02-08</td><td>60000.000</td><td>1930405-5</td><td>Supplier: LASE Inv: 1930405-04</td><td>SUBLABOR</td></tr><tr><td>SOLAR</td><td>MFG Structure</td><td>2021-02-08</td><td>194.000</td><td>1930405-2</td><td>Supplier: ROUGH Inv: 261922</td><td>MFG Structure</td></tr><tr><td>SOLAR</td><td>MFG Structure</td><td>2021-02-05</td><td>2308.000</td><td>1930405-2</td><td>Supplier: ROUGH Inv: 261795</td><td>MFG Structure</td></tr><tr><td>SOLAR</td><td></td><td>2021-02-03</td><td>60000.000</td><td>1930405-5</td><td>Supplier: LASE Inv: 1930405-03</td><td>SUBLABOR</td></tr><tr><td>SOLAR</td><td>MFG Structure</td><td>2021-01-31</td><td>1.000</td><td>1930405-2</td><td>Supplier: ROUGH Inv: 261760</td><td>MFG Structure</td></tr><tr><td>SOLAR</td><td>MFG Structure</td><td>2021-01-29</td><td>2.000</td><td>1930405-2</td><td>Supplier: ROUGH Inv: 261521</td><td>MFG Structure</td></tr><tr><td>SOLAR</td><td></td><td>2021-01-25</td><td>120000.000</td><td>1930405-5</td><td>Supplier: LASE Inv: 1930405-02</td><td>SUBLABOR</td></tr><tr><td>SOLAR</td><td>MFG Structure</td><td>2021-01-18</td><td>199525.000</td><td>1930405-2</td><td>Supplier: ROUGH Inv: 261152</td><td>MFG Structure</td></tr><tr><td>SOLAR</td><td>MFG Structure</td><td>2021-01-15</td><td>17287.000</td><td>1930405-2</td><td>Supplier: ROUGH Inv: 261048</td><td>MFG Structure</td></tr><tr><td>SOLAR</td><td></td><td>2021-01-11</td><td>61500.000</td><td>1930405-5</td><td>Supplier: LASE Inv: 1930405-01</td><td>SUBLABOR</td></tr><tr><td>SOLAR</td><td>MFG Structure</td><td>2021-01-08</td><td>48887.000</td><td>1930405-2</td><td>Supplier: ROUGH Inv: 260897</td><td>MFG Structure</td></tr><tr><td>SOLAR</td><td>MFG Structure</td><td>2020-12-28</td><td>93503.000</td><td>1930405-2</td><td>Supplier: ROUGH Inv: 260275</td><td>MFG Structure</td></tr><tr><td>SOLAR</td><td>MFG Structure</td><td>2020-12-21</td><td>286.000</td><td>1930405-2</td><td>Supplier: ROUGH Inv: 260170</td><td>MFG Structure</td></tr><tr><td>SOLAR</td><td>MFG Structure</td><td>2020-12-18</td><td>6776.000</td><td>1930405-2</td><td>Supplier: ROUGH Inv: 260040</td><td>MFG Structure</td></tr><tr><td>SOLAR</td><td>MFG Structure</td><td>2020-12-04</td><td>29962.000</td><td>1930405-2</td><td>Supplier: ROUGH Inv: 259577</td><td>MFG Structure</td></tr></table>"
                    },
                    "metadata": {}
                }
            ],
            "execution_count": 11
        },
        {
            "cell_type": "code",
            "source": [
                "Select \r\n",
                "Company,\r\n",
                "OrderNumLine,\r\n",
                "PartNum,\r\n",
                "EstUnitCost_c,\r\n",
                "ChangeDate\r\n",
                "From etl.vwOrderDetail\r\n",
                "Where OrderNum = '1930405'\r\n",
                "AND Company = 'Solar'\r\n",
                "Order by ChangeDate DESC"
            ],
            "metadata": {
                "azdata_cell_guid": "1a4b11ec-87b0-4ac7-8312-94bfafbc6bb5",
                "tags": []
            },
            "outputs": [
                {
                    "output_type": "display_data",
                    "data": {
                        "text/html": "(18 rows affected)"
                    },
                    "metadata": {}
                },
                {
                    "output_type": "display_data",
                    "data": {
                        "text/html": "Total execution time: 00:00:00.075"
                    },
                    "metadata": {}
                },
                {
                    "output_type": "execute_result",
                    "execution_count": 9,
                    "data": {
                        "application/vnd.dataresource+json": {
                            "schema": {
                                "fields": [
                                    {
                                        "name": "Company"
                                    },
                                    {
                                        "name": "OrderNumLine"
                                    },
                                    {
                                        "name": "PartNum"
                                    },
                                    {
                                        "name": "EstUnitCost_c"
                                    },
                                    {
                                        "name": "ChangeDate"
                                    }
                                ]
                            },
                            "data": [
                                {
                                    "0": "SOLAR",
                                    "1": "1930405-1",
                                    "2": "DESIGN",
                                    "3": "2531.00",
                                    "4": "2022-06-08"
                                },
                                {
                                    "0": "SOLAR",
                                    "1": "1930405-2",
                                    "2": "MFG MATERIAL",
                                    "3": "425697.00",
                                    "4": "2022-06-08"
                                },
                                {
                                    "0": "SOLAR",
                                    "1": "1930405-3",
                                    "2": "PURCHASED",
                                    "3": "0.00",
                                    "4": "2022-06-08"
                                },
                                {
                                    "0": "SOLAR",
                                    "1": "1930405-4",
                                    "2": "FREIGHT",
                                    "3": "88920.00",
                                    "4": "2022-06-08"
                                },
                                {
                                    "0": "SOLAR",
                                    "1": "1930405-5",
                                    "2": "INSTALLATION",
                                    "3": "625000.00",
                                    "4": "2022-06-08"
                                },
                                {
                                    "0": "SOLAR",
                                    "1": "1930405-12",
                                    "2": "USE TAX",
                                    "3": "0.00",
                                    "4": "2021-09-07"
                                },
                                {
                                    "0": "SOLAR",
                                    "1": "1930405-9",
                                    "2": "PURCHASED",
                                    "3": "0.00",
                                    "4": "2021-07-30"
                                },
                                {
                                    "0": "SOLAR",
                                    "1": "1930405-18",
                                    "2": "INSTALLATION",
                                    "3": "0.00",
                                    "4": "2021-07-23"
                                },
                                {
                                    "0": "SOLAR",
                                    "1": "1930405-17",
                                    "2": "INSTALLATION",
                                    "3": "0.00",
                                    "4": "2021-06-15"
                                },
                                {
                                    "0": "SOLAR",
                                    "1": "1930405-16",
                                    "2": "INSTALLATION",
                                    "3": "0.00",
                                    "4": "2021-04-29"
                                },
                                {
                                    "0": "SOLAR",
                                    "1": "1930405-15",
                                    "2": "INSTALLATION",
                                    "3": "0.00",
                                    "4": "2021-03-22"
                                },
                                {
                                    "0": "SOLAR",
                                    "1": "1930405-10",
                                    "2": "FREIGHT",
                                    "3": "0.00",
                                    "4": "2021-02-26"
                                },
                                {
                                    "0": "SOLAR",
                                    "1": "1930405-11",
                                    "2": "INSTALLATION",
                                    "3": "0.00",
                                    "4": "2021-02-26"
                                },
                                {
                                    "0": "SOLAR",
                                    "1": "1930405-13",
                                    "2": "MFG MATERIAL",
                                    "3": "0.00",
                                    "4": "2021-02-26"
                                },
                                {
                                    "0": "SOLAR",
                                    "1": "1930405-14",
                                    "2": "INSTALLATION",
                                    "3": "0.00",
                                    "4": "2021-02-26"
                                },
                                {
                                    "0": "SOLAR",
                                    "1": "1930405-8",
                                    "2": "MFG MATERIAL",
                                    "3": "0.00",
                                    "4": "2021-01-15"
                                },
                                {
                                    "0": "SOLAR",
                                    "1": "1930405-6",
                                    "2": "USE TAX",
                                    "3": "62599.00",
                                    "4": "2021-01-06"
                                },
                                {
                                    "0": "SOLAR",
                                    "1": "1930405-7",
                                    "2": "DESIGN",
                                    "3": "0.00",
                                    "4": "2020-11-30"
                                }
                            ]
                        },
                        "text/html": "<table><tr><th>Company</th><th>OrderNumLine</th><th>PartNum</th><th>EstUnitCost_c</th><th>ChangeDate</th></tr><tr><td>SOLAR</td><td>1930405-1</td><td>DESIGN</td><td>2531.00</td><td>2022-06-08</td></tr><tr><td>SOLAR</td><td>1930405-2</td><td>MFG MATERIAL</td><td>425697.00</td><td>2022-06-08</td></tr><tr><td>SOLAR</td><td>1930405-3</td><td>PURCHASED</td><td>0.00</td><td>2022-06-08</td></tr><tr><td>SOLAR</td><td>1930405-4</td><td>FREIGHT</td><td>88920.00</td><td>2022-06-08</td></tr><tr><td>SOLAR</td><td>1930405-5</td><td>INSTALLATION</td><td>625000.00</td><td>2022-06-08</td></tr><tr><td>SOLAR</td><td>1930405-12</td><td>USE TAX</td><td>0.00</td><td>2021-09-07</td></tr><tr><td>SOLAR</td><td>1930405-9</td><td>PURCHASED</td><td>0.00</td><td>2021-07-30</td></tr><tr><td>SOLAR</td><td>1930405-18</td><td>INSTALLATION</td><td>0.00</td><td>2021-07-23</td></tr><tr><td>SOLAR</td><td>1930405-17</td><td>INSTALLATION</td><td>0.00</td><td>2021-06-15</td></tr><tr><td>SOLAR</td><td>1930405-16</td><td>INSTALLATION</td><td>0.00</td><td>2021-04-29</td></tr><tr><td>SOLAR</td><td>1930405-15</td><td>INSTALLATION</td><td>0.00</td><td>2021-03-22</td></tr><tr><td>SOLAR</td><td>1930405-10</td><td>FREIGHT</td><td>0.00</td><td>2021-02-26</td></tr><tr><td>SOLAR</td><td>1930405-11</td><td>INSTALLATION</td><td>0.00</td><td>2021-02-26</td></tr><tr><td>SOLAR</td><td>1930405-13</td><td>MFG MATERIAL</td><td>0.00</td><td>2021-02-26</td></tr><tr><td>SOLAR</td><td>1930405-14</td><td>INSTALLATION</td><td>0.00</td><td>2021-02-26</td></tr><tr><td>SOLAR</td><td>1930405-8</td><td>MFG MATERIAL</td><td>0.00</td><td>2021-01-15</td></tr><tr><td>SOLAR</td><td>1930405-6</td><td>USE TAX</td><td>62599.00</td><td>2021-01-06</td></tr><tr><td>SOLAR</td><td>1930405-7</td><td>DESIGN</td><td>0.00</td><td>2020-11-30</td></tr></table>"
                    },
                    "metadata": {}
                }
            ],
            "execution_count": 9
        },
        {
            "cell_type": "code",
            "source": [
                "Select\r\n",
                "Company,\r\n",
                "OrderNumLine,\r\n",
                "PartNum,\r\n",
                "[Description],\r\n",
                "RequiredQty,\r\n",
                "EstUnitCost,\r\n",
                "Latest_ChangeDate\r\n",
                "From etl.vwJobMtlChange\r\n",
                "Where OrderNum \r\n",
                "IN (\r\n",
                "      '1930405',\r\n",
                "      '2030026',\r\n",
                "      '2030289',\r\n",
                "      '2130102',\r\n",
                "      '2130168',\r\n",
                "      '2170007',\r\n",
                "      '2170055',\r\n",
                "      '2170070',\r\n",
                "      '2170003',\r\n",
                "      '2170085',\r\n",
                "      '2174037'\r\n",
                "  )\r\n",
                "AND Company = 'Solar'\r\n",
                "Order by Latest_ChangeDate DESC"
            ],
            "metadata": {
                "azdata_cell_guid": "dd3e827a-ef99-4a15-b121-c05379b21fed",
                "tags": []
            },
            "outputs": [
                {
                    "output_type": "display_data",
                    "data": {
                        "text/html": "(48 rows affected)"
                    },
                    "metadata": {}
                },
                {
                    "output_type": "display_data",
                    "data": {
                        "text/html": "Total execution time: 00:00:08.720"
                    },
                    "metadata": {}
                },
                {
                    "output_type": "execute_result",
                    "execution_count": 9,
                    "data": {
                        "application/vnd.dataresource+json": {
                            "schema": {
                                "fields": [
                                    {
                                        "name": "Company"
                                    },
                                    {
                                        "name": "OrderNumLine"
                                    },
                                    {
                                        "name": "PartNum"
                                    },
                                    {
                                        "name": "Description"
                                    },
                                    {
                                        "name": "RequiredQty"
                                    },
                                    {
                                        "name": "EstUnitCost"
                                    },
                                    {
                                        "name": "Latest_ChangeDate"
                                    }
                                ]
                            },
                            "data": [
                                {
                                    "0": "SOLAR",
                                    "1": "2170085-2",
                                    "2": "MFG MATERIAL",
                                    "3": "MFG MATERIAL",
                                    "4": "1.00000000",
                                    "5": "0.00000",
                                    "6": "2022-07-31"
                                },
                                {
                                    "0": "SOLAR",
                                    "1": "1930405-5",
                                    "2": "EXPENSE REPORT",
                                    "3": "EXPENSE REPORT",
                                    "4": "1.00000000",
                                    "5": "11678.43000",
                                    "6": "2022-07-31"
                                },
                                {
                                    "0": "SOLAR",
                                    "1": "1930405-5",
                                    "2": "07000",
                                    "3": "Stockmans",
                                    "4": "1.00000000",
                                    "5": "40944.56000",
                                    "6": "2022-07-31"
                                },
                                {
                                    "0": "SOLAR",
                                    "1": "2030289-5",
                                    "2": "05000",
                                    "3": "EXPENSE REPORT",
                                    "4": "1.00000000",
                                    "5": "4989.17000",
                                    "6": "2022-07-31"
                                },
                                {
                                    "0": "SOLAR",
                                    "1": "2030289-5",
                                    "2": "01000",
                                    "3": "FC Solar",
                                    "4": "1.00000000",
                                    "5": "1311647.00000",
                                    "6": "2022-07-31"
                                },
                                {
                                    "0": "SOLAR",
                                    "1": "2170070-2",
                                    "2": "MFG MATERIAL",
                                    "3": "MFG MATERIAL",
                                    "4": "1.00000000",
                                    "5": "0.00000",
                                    "6": "2022-07-29"
                                },
                                {
                                    "0": "SOLAR",
                                    "1": "2130168-4",
                                    "2": "FREIGHT",
                                    "3": "FREIGHT",
                                    "4": "1.00000000",
                                    "5": "0.00000",
                                    "6": "2022-07-29"
                                },
                                {
                                    "0": "SOLAR",
                                    "1": "2130168-2",
                                    "2": "MFG MATERIAL",
                                    "3": "MFG MATERIAL",
                                    "4": "1.00000000",
                                    "5": "0.00000",
                                    "6": "2022-07-29"
                                },
                                {
                                    "0": "SOLAR",
                                    "1": "2130102-4",
                                    "2": "02000",
                                    "3": "FED EX",
                                    "4": "1.00000000",
                                    "5": "0.00000",
                                    "6": "2022-07-29"
                                },
                                {
                                    "0": "SOLAR",
                                    "1": "2130102-2",
                                    "2": "MFG MATERIAL",
                                    "3": "MFG MATERIAL",
                                    "4": "1.00000000",
                                    "5": "0.00000",
                                    "6": "2022-07-29"
                                },
                                {
                                    "0": "SOLAR",
                                    "1": "2030289-2",
                                    "2": "MFG MATERIAL",
                                    "3": "MFG MATERIAL",
                                    "4": "1.00000000",
                                    "5": "0.00000",
                                    "6": "2022-07-29"
                                },
                                {
                                    "0": "SOLAR",
                                    "1": "1930405-5",
                                    "2": "04000",
                                    "3": "GRT FRT",
                                    "4": "1.00000000",
                                    "5": "3745.76000",
                                    "6": "2022-07-27"
                                },
                                {
                                    "0": "SOLAR",
                                    "1": "1930405-5",
                                    "2": "06000",
                                    "3": "DC Solar",
                                    "4": "1.00000000",
                                    "5": "103793.28000",
                                    "6": "2022-07-27"
                                },
                                {
                                    "0": "SOLAR",
                                    "1": "2174037-4",
                                    "2": "FREIGHT",
                                    "3": "FREIGHT",
                                    "4": "1.00000000",
                                    "5": "0.00000",
                                    "6": "2022-07-22"
                                },
                                {
                                    "0": "SOLAR",
                                    "1": "2170007-2",
                                    "2": "MFG MATERIAL",
                                    "3": "MFG MATERIAL",
                                    "4": "1.00000000",
                                    "5": "0.00000",
                                    "6": "2022-07-22"
                                },
                                {
                                    "0": "SOLAR",
                                    "1": "2030289-4",
                                    "2": "FREIGHT",
                                    "3": "FREIGHT",
                                    "4": "1.00000000",
                                    "5": "0.00000",
                                    "6": "2022-07-11"
                                },
                                {
                                    "0": "SOLAR",
                                    "1": "1930405-5",
                                    "2": "02000",
                                    "3": "McCarty",
                                    "4": "1.00000000",
                                    "5": "1235.00000",
                                    "6": "2022-07-01"
                                },
                                {
                                    "0": "SOLAR",
                                    "1": "1930405-2",
                                    "2": "MFG MATERIAL",
                                    "3": "MFG MATERIAL",
                                    "4": "1.00000000",
                                    "5": "0.00000",
                                    "6": "2022-06-30"
                                },
                                {
                                    "0": "SOLAR",
                                    "1": "2130102-4",
                                    "2": "FREIGHT",
                                    "3": "FREIGHT",
                                    "4": "1.00000000",
                                    "5": "0.00000",
                                    "6": "2022-06-28"
                                },
                                {
                                    "0": "SOLAR",
                                    "1": "2174037-5",
                                    "2": "01000",
                                    "3": "SSE",
                                    "4": "1.00000000",
                                    "5": "17063.34000",
                                    "6": "2022-06-28"
                                },
                                {
                                    "0": "SOLAR",
                                    "1": "2170055-4",
                                    "2": "01000",
                                    "3": "FED EX FRT",
                                    "4": "1.00000000",
                                    "5": "0.00000",
                                    "6": "2022-06-22"
                                },
                                {
                                    "0": "SOLAR",
                                    "1": "2174037-2",
                                    "2": "MFG MATERIAL",
                                    "3": "MFG MATERIAL",
                                    "4": "1.00000000",
                                    "5": "0.00000",
                                    "6": "2022-06-22"
                                },
                                {
                                    "0": "SOLAR",
                                    "1": "2130102-5",
                                    "2": "EXPENSE REPORT",
                                    "3": "EXPENSE REPORT",
                                    "4": "1.00000000",
                                    "5": "0.00000",
                                    "6": "2022-06-21"
                                },
                                {
                                    "0": "SOLAR",
                                    "1": "1930405-4",
                                    "2": "02000",
                                    "3": "FED EX",
                                    "4": "1.00000000",
                                    "5": "0.00000",
                                    "6": "2022-06-20"
                                },
                                {
                                    "0": "SOLAR",
                                    "1": "2174037-4",
                                    "2": "02000",
                                    "3": "FED EX",
                                    "4": "1.00000000",
                                    "5": "0.00000",
                                    "6": "2022-06-14"
                                },
                                {
                                    "0": "SOLAR",
                                    "1": "1930405-5",
                                    "2": "03000",
                                    "3": "N/A",
                                    "4": "1.00000000",
                                    "5": "0.00000",
                                    "6": "2022-06-13"
                                },
                                {
                                    "0": "SOLAR",
                                    "1": "2170055-2",
                                    "2": "MFG MATERIAL",
                                    "3": "MFG MATERIAL",
                                    "4": "1.00000000",
                                    "5": "0.00000",
                                    "6": "2022-05-23"
                                },
                                {
                                    "0": "SOLAR",
                                    "1": "2170007-4",
                                    "2": "FREIGHT",
                                    "3": "FREIGHT",
                                    "4": "1.00000000",
                                    "5": "0.00000",
                                    "6": "2022-05-13"
                                },
                                {
                                    "0": "SOLAR",
                                    "1": "2170055-5",
                                    "2": "01000",
                                    "3": "FP - Equipment Rental",
                                    "4": "1.00000000",
                                    "5": "539.59000",
                                    "6": "2022-05-11"
                                },
                                {
                                    "0": "SOLAR",
                                    "1": "2030289-5",
                                    "2": "03000",
                                    "3": "N/A",
                                    "4": "1.00000000",
                                    "5": "0.00000",
                                    "6": "2022-05-02"
                                },
                                {
                                    "0": "SOLAR",
                                    "1": "2030289-5",
                                    "2": "04000",
                                    "3": "Sole",
                                    "4": "1.00000000",
                                    "5": "222339.50000",
                                    "6": "2022-05-02"
                                },
                                {
                                    "0": "SOLAR",
                                    "1": "2030289-5",
                                    "2": "07000",
                                    "3": "Synergy Solar",
                                    "4": "1.00000000",
                                    "5": "8147.50000",
                                    "6": "2022-05-02"
                                },
                                {
                                    "0": "SOLAR",
                                    "1": "2030289-5",
                                    "2": "06000",
                                    "3": "Contingency",
                                    "4": "1.00000000",
                                    "5": "0.00000",
                                    "6": "2022-05-02"
                                },
                                {
                                    "0": "SOLAR",
                                    "1": "2030026-2",
                                    "2": "Rough Material",
                                    "3": "Rough Material",
                                    "4": "1.00000000",
                                    "5": "0.00000",
                                    "6": "2022-04-22"
                                },
                                {
                                    "0": "SOLAR",
                                    "1": "2170055-5",
                                    "2": "02000",
                                    "3": "FP - Expense Reports",
                                    "4": "1.00000000",
                                    "5": "1523.67000",
                                    "6": "2022-04-20"
                                },
                                {
                                    "0": "SOLAR",
                                    "1": "2030026-4",
                                    "2": "FREIGHT",
                                    "3": "FREIGHT",
                                    "4": "1.00000000",
                                    "5": "0.00000",
                                    "6": "2022-02-25"
                                },
                                {
                                    "0": "SOLAR",
                                    "1": "2170070-4",
                                    "2": "FREIGHT",
                                    "3": "FREIGHT",
                                    "4": "1.00000000",
                                    "5": "0.00000",
                                    "6": "2022-02-25"
                                },
                                {
                                    "0": "SOLAR",
                                    "1": "2170007-5",
                                    "2": "EXPENSE REPORT",
                                    "3": "EXPENSE REPORT",
                                    "4": "1.00000000",
                                    "5": "0.00000",
                                    "6": "2022-02-11"
                                },
                                {
                                    "0": "SOLAR",
                                    "1": "2170007-5",
                                    "2": "02000",
                                    "3": "GRT FRT",
                                    "4": "1.00000000",
                                    "5": "0.00000",
                                    "6": "2021-12-08"
                                },
                                {
                                    "0": "SOLAR",
                                    "1": "2030289-5",
                                    "2": "02000",
                                    "3": "GRT FRT",
                                    "4": "1.00000000",
                                    "5": "11400.22000",
                                    "6": "2021-11-24"
                                },
                                {
                                    "0": "SOLAR",
                                    "1": "2030026-5",
                                    "2": "05000",
                                    "3": "GRT FRT",
                                    "4": "1.00000000",
                                    "5": "0.00000",
                                    "6": "2021-09-09"
                                },
                                {
                                    "0": "SOLAR",
                                    "1": "2170007-5",
                                    "2": "01000",
                                    "3": "Rigid",
                                    "4": "1.00000000",
                                    "5": "0.00000",
                                    "6": "2021-08-23"
                                },
                                {
                                    "0": "SOLAR",
                                    "1": "1930405-5",
                                    "2": "01000",
                                    "3": "Lase Solar",
                                    "4": "1.00000000",
                                    "5": "677325.56000",
                                    "6": "2021-05-24"
                                },
                                {
                                    "0": "SOLAR",
                                    "1": "1930405-4",
                                    "2": "FREIGHT",
                                    "3": "FREIGHT",
                                    "4": "1.00000000",
                                    "5": "0.00000",
                                    "6": "2021-04-16"
                                },
                                {
                                    "0": "SOLAR",
                                    "1": "2030026-5",
                                    "2": "04000",
                                    "3": "Phoenix",
                                    "4": "1.00000000",
                                    "5": "0.00000",
                                    "6": "2021-03-16"
                                },
                                {
                                    "0": "SOLAR",
                                    "1": "2030026-5",
                                    "2": "03000",
                                    "3": "Zalla Family Enterprises",
                                    "4": "1.00000000",
                                    "5": "0.00000",
                                    "6": "2020-10-14"
                                },
                                {
                                    "0": "SOLAR",
                                    "1": "2030026-5",
                                    "2": "02000",
                                    "3": "DMH Services",
                                    "4": "1.00000000",
                                    "5": "0.00000",
                                    "6": "2020-10-12"
                                },
                                {
                                    "0": "SOLAR",
                                    "1": "2030026-5",
                                    "2": "EXPENSE REPORT",
                                    "3": "EXPENSE REPORT",
                                    "4": "1.00000000",
                                    "5": "0.00000",
                                    "6": "2020-09-25"
                                }
                            ]
                        },
                        "text/html": "<table><tr><th>Company</th><th>OrderNumLine</th><th>PartNum</th><th>Description</th><th>RequiredQty</th><th>EstUnitCost</th><th>Latest_ChangeDate</th></tr><tr><td>SOLAR</td><td>2170085-2</td><td>MFG MATERIAL</td><td>MFG MATERIAL</td><td>1.00000000</td><td>0.00000</td><td>2022-07-31</td></tr><tr><td>SOLAR</td><td>1930405-5</td><td>EXPENSE REPORT</td><td>EXPENSE REPORT</td><td>1.00000000</td><td>11678.43000</td><td>2022-07-31</td></tr><tr><td>SOLAR</td><td>1930405-5</td><td>07000</td><td>Stockmans</td><td>1.00000000</td><td>40944.56000</td><td>2022-07-31</td></tr><tr><td>SOLAR</td><td>2030289-5</td><td>05000</td><td>EXPENSE REPORT</td><td>1.00000000</td><td>4989.17000</td><td>2022-07-31</td></tr><tr><td>SOLAR</td><td>2030289-5</td><td>01000</td><td>FC Solar</td><td>1.00000000</td><td>1311647.00000</td><td>2022-07-31</td></tr><tr><td>SOLAR</td><td>2170070-2</td><td>MFG MATERIAL</td><td>MFG MATERIAL</td><td>1.00000000</td><td>0.00000</td><td>2022-07-29</td></tr><tr><td>SOLAR</td><td>2130168-4</td><td>FREIGHT</td><td>FREIGHT</td><td>1.00000000</td><td>0.00000</td><td>2022-07-29</td></tr><tr><td>SOLAR</td><td>2130168-2</td><td>MFG MATERIAL</td><td>MFG MATERIAL</td><td>1.00000000</td><td>0.00000</td><td>2022-07-29</td></tr><tr><td>SOLAR</td><td>2130102-4</td><td>02000</td><td>FED EX</td><td>1.00000000</td><td>0.00000</td><td>2022-07-29</td></tr><tr><td>SOLAR</td><td>2130102-2</td><td>MFG MATERIAL</td><td>MFG MATERIAL</td><td>1.00000000</td><td>0.00000</td><td>2022-07-29</td></tr><tr><td>SOLAR</td><td>2030289-2</td><td>MFG MATERIAL</td><td>MFG MATERIAL</td><td>1.00000000</td><td>0.00000</td><td>2022-07-29</td></tr><tr><td>SOLAR</td><td>1930405-5</td><td>04000</td><td>GRT FRT</td><td>1.00000000</td><td>3745.76000</td><td>2022-07-27</td></tr><tr><td>SOLAR</td><td>1930405-5</td><td>06000</td><td>DC Solar</td><td>1.00000000</td><td>103793.28000</td><td>2022-07-27</td></tr><tr><td>SOLAR</td><td>2174037-4</td><td>FREIGHT</td><td>FREIGHT</td><td>1.00000000</td><td>0.00000</td><td>2022-07-22</td></tr><tr><td>SOLAR</td><td>2170007-2</td><td>MFG MATERIAL</td><td>MFG MATERIAL</td><td>1.00000000</td><td>0.00000</td><td>2022-07-22</td></tr><tr><td>SOLAR</td><td>2030289-4</td><td>FREIGHT</td><td>FREIGHT</td><td>1.00000000</td><td>0.00000</td><td>2022-07-11</td></tr><tr><td>SOLAR</td><td>1930405-5</td><td>02000</td><td>McCarty</td><td>1.00000000</td><td>1235.00000</td><td>2022-07-01</td></tr><tr><td>SOLAR</td><td>1930405-2</td><td>MFG MATERIAL</td><td>MFG MATERIAL</td><td>1.00000000</td><td>0.00000</td><td>2022-06-30</td></tr><tr><td>SOLAR</td><td>2130102-4</td><td>FREIGHT</td><td>FREIGHT</td><td>1.00000000</td><td>0.00000</td><td>2022-06-28</td></tr><tr><td>SOLAR</td><td>2174037-5</td><td>01000</td><td>SSE</td><td>1.00000000</td><td>17063.34000</td><td>2022-06-28</td></tr><tr><td>SOLAR</td><td>2170055-4</td><td>01000</td><td>FED EX FRT</td><td>1.00000000</td><td>0.00000</td><td>2022-06-22</td></tr><tr><td>SOLAR</td><td>2174037-2</td><td>MFG MATERIAL</td><td>MFG MATERIAL</td><td>1.00000000</td><td>0.00000</td><td>2022-06-22</td></tr><tr><td>SOLAR</td><td>2130102-5</td><td>EXPENSE REPORT</td><td>EXPENSE REPORT</td><td>1.00000000</td><td>0.00000</td><td>2022-06-21</td></tr><tr><td>SOLAR</td><td>1930405-4</td><td>02000</td><td>FED EX</td><td>1.00000000</td><td>0.00000</td><td>2022-06-20</td></tr><tr><td>SOLAR</td><td>2174037-4</td><td>02000</td><td>FED EX</td><td>1.00000000</td><td>0.00000</td><td>2022-06-14</td></tr><tr><td>SOLAR</td><td>1930405-5</td><td>03000</td><td>N/A</td><td>1.00000000</td><td>0.00000</td><td>2022-06-13</td></tr><tr><td>SOLAR</td><td>2170055-2</td><td>MFG MATERIAL</td><td>MFG MATERIAL</td><td>1.00000000</td><td>0.00000</td><td>2022-05-23</td></tr><tr><td>SOLAR</td><td>2170007-4</td><td>FREIGHT</td><td>FREIGHT</td><td>1.00000000</td><td>0.00000</td><td>2022-05-13</td></tr><tr><td>SOLAR</td><td>2170055-5</td><td>01000</td><td>FP - Equipment Rental</td><td>1.00000000</td><td>539.59000</td><td>2022-05-11</td></tr><tr><td>SOLAR</td><td>2030289-5</td><td>03000</td><td>N/A</td><td>1.00000000</td><td>0.00000</td><td>2022-05-02</td></tr><tr><td>SOLAR</td><td>2030289-5</td><td>04000</td><td>Sole</td><td>1.00000000</td><td>222339.50000</td><td>2022-05-02</td></tr><tr><td>SOLAR</td><td>2030289-5</td><td>07000</td><td>Synergy Solar</td><td>1.00000000</td><td>8147.50000</td><td>2022-05-02</td></tr><tr><td>SOLAR</td><td>2030289-5</td><td>06000</td><td>Contingency</td><td>1.00000000</td><td>0.00000</td><td>2022-05-02</td></tr><tr><td>SOLAR</td><td>2030026-2</td><td>Rough Material</td><td>Rough Material</td><td>1.00000000</td><td>0.00000</td><td>2022-04-22</td></tr><tr><td>SOLAR</td><td>2170055-5</td><td>02000</td><td>FP - Expense Reports</td><td>1.00000000</td><td>1523.67000</td><td>2022-04-20</td></tr><tr><td>SOLAR</td><td>2030026-4</td><td>FREIGHT</td><td>FREIGHT</td><td>1.00000000</td><td>0.00000</td><td>2022-02-25</td></tr><tr><td>SOLAR</td><td>2170070-4</td><td>FREIGHT</td><td>FREIGHT</td><td>1.00000000</td><td>0.00000</td><td>2022-02-25</td></tr><tr><td>SOLAR</td><td>2170007-5</td><td>EXPENSE REPORT</td><td>EXPENSE REPORT</td><td>1.00000000</td><td>0.00000</td><td>2022-02-11</td></tr><tr><td>SOLAR</td><td>2170007-5</td><td>02000</td><td>GRT FRT</td><td>1.00000000</td><td>0.00000</td><td>2021-12-08</td></tr><tr><td>SOLAR</td><td>2030289-5</td><td>02000</td><td>GRT FRT</td><td>1.00000000</td><td>11400.22000</td><td>2021-11-24</td></tr><tr><td>SOLAR</td><td>2030026-5</td><td>05000</td><td>GRT FRT</td><td>1.00000000</td><td>0.00000</td><td>2021-09-09</td></tr><tr><td>SOLAR</td><td>2170007-5</td><td>01000</td><td>Rigid</td><td>1.00000000</td><td>0.00000</td><td>2021-08-23</td></tr><tr><td>SOLAR</td><td>1930405-5</td><td>01000</td><td>Lase Solar</td><td>1.00000000</td><td>677325.56000</td><td>2021-05-24</td></tr><tr><td>SOLAR</td><td>1930405-4</td><td>FREIGHT</td><td>FREIGHT</td><td>1.00000000</td><td>0.00000</td><td>2021-04-16</td></tr><tr><td>SOLAR</td><td>2030026-5</td><td>04000</td><td>Phoenix</td><td>1.00000000</td><td>0.00000</td><td>2021-03-16</td></tr><tr><td>SOLAR</td><td>2030026-5</td><td>03000</td><td>Zalla Family Enterprises</td><td>1.00000000</td><td>0.00000</td><td>2020-10-14</td></tr><tr><td>SOLAR</td><td>2030026-5</td><td>02000</td><td>DMH Services</td><td>1.00000000</td><td>0.00000</td><td>2020-10-12</td></tr><tr><td>SOLAR</td><td>2030026-5</td><td>EXPENSE REPORT</td><td>EXPENSE REPORT</td><td>1.00000000</td><td>0.00000</td><td>2020-09-25</td></tr></table>"
                    },
                    "metadata": {}
                }
            ],
            "execution_count": 9
        },
        {
            "cell_type": "code",
            "source": [
                "SELECT Distinct top (1000)\r\n",
                "      [SysRowID]\r\n",
                "      ,[Company]\r\n",
                "      ,[OrderNum]\r\n",
                "      ,[ProjectID]\r\n",
                "      ,[OrderNumLine]\r\n",
                "      ,[Date]\r\n",
                "      ,[ChangeDateTime]\r\n",
                "      ,[RequiredQty]\r\n",
                "      ,[IssuedQty]\r\n",
                "      ,[EstUnitCost]\r\n",
                "      ,[OpenJobDemands]\r\n",
                "      ,[PartNum]\r\n",
                "      ,[Description]\r\n",
                "      ,[QtyPer]\r\n",
                "      ,[TotalCost]\r\n",
                "      ,[MtlBurCost]\r\n",
                "      ,[ReqDate]\r\n",
                "      ,[Plant]\r\n",
                "      ,[ProdCode]\r\n",
                "      ,[UnitPrice]\r\n",
                "      ,[IsCurrent]\r\n",
                "      FROM [dw].[FactJobMtlDetails]\r\n",
                "  WHERE ProjectID IN (\r\n",
                "      '1930405'\r\n",
                "/*       '2030026',\r\n",
                "      '2030289',\r\n",
                "      '2130102',\r\n",
                "      '2130168',\r\n",
                "      '2170007',\r\n",
                "      '2170055',\r\n",
                "      '2170070',\r\n",
                "      '2170003',\r\n",
                "      '2170085',\r\n",
                "      '2174037' */\r\n",
                "  )\r\n",
                "  AND Company = 'Solar'\r\n",
                "  --And Partnum = '06000'\r\n",
                "  And IsCurrent = 1\r\n",
                "  and DAte > '2022-07-02'\r\n",
                "  Order By Partnum, Date DESC"
            ],
            "metadata": {
                "azdata_cell_guid": "1744a16c-b651-4f4e-abbe-99cd01ebc942"
            },
            "outputs": [
                {
                    "output_type": "display_data",
                    "data": {
                        "text/html": "(11 rows affected)"
                    },
                    "metadata": {}
                },
                {
                    "output_type": "display_data",
                    "data": {
                        "text/html": "Total execution time: 00:00:00.254"
                    },
                    "metadata": {}
                },
                {
                    "output_type": "execute_result",
                    "execution_count": 7,
                    "data": {
                        "application/vnd.dataresource+json": {
                            "schema": {
                                "fields": [
                                    {
                                        "name": "SysRowID"
                                    },
                                    {
                                        "name": "Company"
                                    },
                                    {
                                        "name": "OrderNum"
                                    },
                                    {
                                        "name": "ProjectID"
                                    },
                                    {
                                        "name": "OrderNumLine"
                                    },
                                    {
                                        "name": "Date"
                                    },
                                    {
                                        "name": "ChangeDateTime"
                                    },
                                    {
                                        "name": "RequiredQty"
                                    },
                                    {
                                        "name": "IssuedQty"
                                    },
                                    {
                                        "name": "EstUnitCost"
                                    },
                                    {
                                        "name": "OpenJobDemands"
                                    },
                                    {
                                        "name": "PartNum"
                                    },
                                    {
                                        "name": "Description"
                                    },
                                    {
                                        "name": "QtyPer"
                                    },
                                    {
                                        "name": "TotalCost"
                                    },
                                    {
                                        "name": "MtlBurCost"
                                    },
                                    {
                                        "name": "ReqDate"
                                    },
                                    {
                                        "name": "Plant"
                                    },
                                    {
                                        "name": "ProdCode"
                                    },
                                    {
                                        "name": "UnitPrice"
                                    },
                                    {
                                        "name": "IsCurrent"
                                    }
                                ]
                            },
                            "data": [
                                {
                                    "0": "704481f6-f4db-42c7-a239-29a2ccee7580",
                                    "1": "SOLAR",
                                    "2": "1930405",
                                    "3": "1930405",
                                    "4": "1930405-5",
                                    "5": "2022-07-27",
                                    "6": "2022-07-27 00:00:00.000",
                                    "7": "1.00000000",
                                    "8": "1.00000000",
                                    "9": "3745.76000",
                                    "10": "3745.760",
                                    "11": "04000",
                                    "12": "GRT FRT",
                                    "13": "1.00000000",
                                    "14": "3745.760",
                                    "15": "0.000",
                                    "16": "2019-10-16",
                                    "17": "MfgSys",
                                    "18": "",
                                    "19": "0.000",
                                    "20": "1"
                                },
                                {
                                    "0": "704481f6-f4db-42c7-a239-29a2ccee7580",
                                    "1": "SOLAR",
                                    "2": "1930405",
                                    "3": "1930405",
                                    "4": "1930405-5",
                                    "5": "2022-07-26",
                                    "6": "2022-07-26 00:00:00.000",
                                    "7": "1.00000000",
                                    "8": "1.00000000",
                                    "9": "2433.39000",
                                    "10": "2433.390",
                                    "11": "04000",
                                    "12": "GRT FRT",
                                    "13": "1.00000000",
                                    "14": "3745.760",
                                    "15": "0.000",
                                    "16": "2019-10-16",
                                    "17": "MfgSys",
                                    "18": "",
                                    "19": "0.000",
                                    "20": "1"
                                },
                                {
                                    "0": "372f3bce-c305-464e-bc43-987d699b8c3e",
                                    "1": "SOLAR",
                                    "2": "1930405",
                                    "3": "1930405",
                                    "4": "1930405-5",
                                    "5": "2022-07-27",
                                    "6": "2022-07-27 00:00:00.000",
                                    "7": "1.00000000",
                                    "8": "1.00000000",
                                    "9": "103793.28000",
                                    "10": "103793.280",
                                    "11": "06000",
                                    "12": "DC Solar",
                                    "13": "1.00000000",
                                    "14": "103793.280",
                                    "15": "0.000",
                                    "16": "2019-10-16",
                                    "17": "MfgSys",
                                    "18": "",
                                    "19": "0.000",
                                    "20": "1"
                                },
                                {
                                    "0": "372f3bce-c305-464e-bc43-987d699b8c3e",
                                    "1": "SOLAR",
                                    "2": "1930405",
                                    "3": "1930405",
                                    "4": "1930405-5",
                                    "5": "2022-07-25",
                                    "6": "2022-07-25 00:00:00.000",
                                    "7": "1.00000000",
                                    "8": "1.00000000",
                                    "9": "101848.00000",
                                    "10": "101848.000",
                                    "11": "06000",
                                    "12": "DC Solar",
                                    "13": "1.00000000",
                                    "14": "103793.280",
                                    "15": "0.000",
                                    "16": "2019-10-16",
                                    "17": "MfgSys",
                                    "18": "",
                                    "19": "0.000",
                                    "20": "1"
                                },
                                {
                                    "0": "372f3bce-c305-464e-bc43-987d699b8c3e",
                                    "1": "SOLAR",
                                    "2": "1930405",
                                    "3": "1930405",
                                    "4": "1930405-5",
                                    "5": "2022-07-22",
                                    "6": "2022-07-22 00:00:00.000",
                                    "7": "1.00000000",
                                    "8": "1.00000000",
                                    "9": "101848.00000",
                                    "10": "101848.000",
                                    "11": "06000",
                                    "12": "DC Solar",
                                    "13": "1.00000000",
                                    "14": "66900.000",
                                    "15": "0.000",
                                    "16": "2019-10-16",
                                    "17": "MfgSys",
                                    "18": "",
                                    "19": "0.000",
                                    "20": "1"
                                },
                                {
                                    "0": "abfa5b65-6789-45f6-ba8d-b56d9e39084a",
                                    "1": "SOLAR",
                                    "2": "1930405",
                                    "3": "1930405",
                                    "4": "1930405-5",
                                    "5": "2022-07-22",
                                    "6": "2022-07-22 00:00:00.000",
                                    "7": "1.00000000",
                                    "8": "1.00000000",
                                    "9": "29364.00000",
                                    "10": "29364.000",
                                    "11": "07000",
                                    "12": "Stockmans",
                                    "13": "1.00000000",
                                    "14": "12250.840",
                                    "15": "0.000",
                                    "16": "2019-10-16",
                                    "17": "MfgSys",
                                    "18": "",
                                    "19": "0.000",
                                    "20": "1"
                                },
                                {
                                    "0": "487ba470-9e92-4e80-b2e6-431b39e542ea",
                                    "1": "SOLAR",
                                    "2": "1930405",
                                    "3": "1930405",
                                    "4": "1930405-5",
                                    "5": "2022-07-27",
                                    "6": "2022-07-27 00:00:00.000",
                                    "7": "1.00000000",
                                    "8": "1.00000000",
                                    "9": "16000.00000",
                                    "10": "16000.000",
                                    "11": "08000",
                                    "12": "Stockmans - Addl costs to finish",
                                    "13": "1.00000000",
                                    "14": "0.000",
                                    "15": "0.000",
                                    "16": "2019-10-16",
                                    "17": "MfgSys",
                                    "18": "",
                                    "19": "0.000",
                                    "20": "1"
                                },
                                {
                                    "0": "487ba470-9e92-4e80-b2e6-431b39e542ea",
                                    "1": "SOLAR",
                                    "2": "1930405",
                                    "3": "1930405",
                                    "4": "1930405-5",
                                    "5": "2022-07-22",
                                    "6": "2022-07-22 00:00:00.000",
                                    "7": "1.00000000",
                                    "8": "1.00000000",
                                    "9": "14928.69000",
                                    "10": "14928.690",
                                    "11": "08000",
                                    "12": "Pacific Galvanize Services",
                                    "13": "1.00000000",
                                    "14": "0.000",
                                    "15": "0.000",
                                    "16": "2019-10-16",
                                    "17": "MfgSys",
                                    "18": "",
                                    "19": "0.000",
                                    "20": "1"
                                },
                                {
                                    "0": "e1ef23ac-6838-410b-a47e-ef927e37654f",
                                    "1": "SOLAR",
                                    "2": "1930405",
                                    "3": "1930405",
                                    "4": "1930405-5",
                                    "5": "2022-07-22",
                                    "6": "2022-07-22 00:00:00.000",
                                    "7": "1.00000000",
                                    "8": "1.00000000",
                                    "9": "15000.00000",
                                    "10": "15000.000",
                                    "11": "09000",
                                    "12": "Stockmans - Addl costs to finish",
                                    "13": "1.00000000",
                                    "14": "0.000",
                                    "15": "0.000",
                                    "16": "2019-10-16",
                                    "17": "MfgSys",
                                    "18": "",
                                    "19": "0.000",
                                    "20": "1"
                                },
                                {
                                    "0": "a1b6a333-b2b9-4b02-9803-1c2f334b8843",
                                    "1": "SOLAR",
                                    "2": "1930405",
                                    "3": "1930405",
                                    "4": "1930405-5",
                                    "5": "2022-07-27",
                                    "6": "2022-07-27 00:00:00.000",
                                    "7": "1.00000000",
                                    "8": "1.00000000",
                                    "9": "17756.46000",
                                    "10": "17756.460",
                                    "11": "EXPENSE REPORT",
                                    "12": "EXPENSE REPORT",
                                    "13": "1.00000000",
                                    "14": "11678.430",
                                    "15": "0.000",
                                    "16": "2019-10-16",
                                    "17": "MfgSys",
                                    "18": "",
                                    "19": "0.000",
                                    "20": "1"
                                },
                                {
                                    "0": "a1b6a333-b2b9-4b02-9803-1c2f334b8843",
                                    "1": "SOLAR",
                                    "2": "1930405",
                                    "3": "1930405",
                                    "4": "1930405-5",
                                    "5": "2022-07-26",
                                    "6": "2022-07-26 00:00:00.000",
                                    "7": "1.00000000",
                                    "8": "1.00000000",
                                    "9": "8144.60000",
                                    "10": "8144.600",
                                    "11": "EXPENSE REPORT",
                                    "12": "EXPENSE REPORT",
                                    "13": "1.00000000",
                                    "14": "11678.430",
                                    "15": "0.000",
                                    "16": "2019-10-16",
                                    "17": "MfgSys",
                                    "18": "",
                                    "19": "0.000",
                                    "20": "1"
                                }
                            ]
                        },
                        "text/html": "<table><tr><th>SysRowID</th><th>Company</th><th>OrderNum</th><th>ProjectID</th><th>OrderNumLine</th><th>Date</th><th>ChangeDateTime</th><th>RequiredQty</th><th>IssuedQty</th><th>EstUnitCost</th><th>OpenJobDemands</th><th>PartNum</th><th>Description</th><th>QtyPer</th><th>TotalCost</th><th>MtlBurCost</th><th>ReqDate</th><th>Plant</th><th>ProdCode</th><th>UnitPrice</th><th>IsCurrent</th></tr><tr><td>704481f6-f4db-42c7-a239-29a2ccee7580</td><td>SOLAR</td><td>1930405</td><td>1930405</td><td>1930405-5</td><td>2022-07-27</td><td>2022-07-27 00:00:00.000</td><td>1.00000000</td><td>1.00000000</td><td>3745.76000</td><td>3745.760</td><td>04000</td><td>GRT FRT</td><td>1.00000000</td><td>3745.760</td><td>0.000</td><td>2019-10-16</td><td>MfgSys</td><td></td><td>0.000</td><td>1</td></tr><tr><td>704481f6-f4db-42c7-a239-29a2ccee7580</td><td>SOLAR</td><td>1930405</td><td>1930405</td><td>1930405-5</td><td>2022-07-26</td><td>2022-07-26 00:00:00.000</td><td>1.00000000</td><td>1.00000000</td><td>2433.39000</td><td>2433.390</td><td>04000</td><td>GRT FRT</td><td>1.00000000</td><td>3745.760</td><td>0.000</td><td>2019-10-16</td><td>MfgSys</td><td></td><td>0.000</td><td>1</td></tr><tr><td>372f3bce-c305-464e-bc43-987d699b8c3e</td><td>SOLAR</td><td>1930405</td><td>1930405</td><td>1930405-5</td><td>2022-07-27</td><td>2022-07-27 00:00:00.000</td><td>1.00000000</td><td>1.00000000</td><td>103793.28000</td><td>103793.280</td><td>06000</td><td>DC Solar</td><td>1.00000000</td><td>103793.280</td><td>0.000</td><td>2019-10-16</td><td>MfgSys</td><td></td><td>0.000</td><td>1</td></tr><tr><td>372f3bce-c305-464e-bc43-987d699b8c3e</td><td>SOLAR</td><td>1930405</td><td>1930405</td><td>1930405-5</td><td>2022-07-25</td><td>2022-07-25 00:00:00.000</td><td>1.00000000</td><td>1.00000000</td><td>101848.00000</td><td>101848.000</td><td>06000</td><td>DC Solar</td><td>1.00000000</td><td>103793.280</td><td>0.000</td><td>2019-10-16</td><td>MfgSys</td><td></td><td>0.000</td><td>1</td></tr><tr><td>372f3bce-c305-464e-bc43-987d699b8c3e</td><td>SOLAR</td><td>1930405</td><td>1930405</td><td>1930405-5</td><td>2022-07-22</td><td>2022-07-22 00:00:00.000</td><td>1.00000000</td><td>1.00000000</td><td>101848.00000</td><td>101848.000</td><td>06000</td><td>DC Solar</td><td>1.00000000</td><td>66900.000</td><td>0.000</td><td>2019-10-16</td><td>MfgSys</td><td></td><td>0.000</td><td>1</td></tr><tr><td>abfa5b65-6789-45f6-ba8d-b56d9e39084a</td><td>SOLAR</td><td>1930405</td><td>1930405</td><td>1930405-5</td><td>2022-07-22</td><td>2022-07-22 00:00:00.000</td><td>1.00000000</td><td>1.00000000</td><td>29364.00000</td><td>29364.000</td><td>07000</td><td>Stockmans</td><td>1.00000000</td><td>12250.840</td><td>0.000</td><td>2019-10-16</td><td>MfgSys</td><td></td><td>0.000</td><td>1</td></tr><tr><td>487ba470-9e92-4e80-b2e6-431b39e542ea</td><td>SOLAR</td><td>1930405</td><td>1930405</td><td>1930405-5</td><td>2022-07-27</td><td>2022-07-27 00:00:00.000</td><td>1.00000000</td><td>1.00000000</td><td>16000.00000</td><td>16000.000</td><td>08000</td><td>Stockmans - Addl costs to finish</td><td>1.00000000</td><td>0.000</td><td>0.000</td><td>2019-10-16</td><td>MfgSys</td><td></td><td>0.000</td><td>1</td></tr><tr><td>487ba470-9e92-4e80-b2e6-431b39e542ea</td><td>SOLAR</td><td>1930405</td><td>1930405</td><td>1930405-5</td><td>2022-07-22</td><td>2022-07-22 00:00:00.000</td><td>1.00000000</td><td>1.00000000</td><td>14928.69000</td><td>14928.690</td><td>08000</td><td>Pacific Galvanize Services</td><td>1.00000000</td><td>0.000</td><td>0.000</td><td>2019-10-16</td><td>MfgSys</td><td></td><td>0.000</td><td>1</td></tr><tr><td>e1ef23ac-6838-410b-a47e-ef927e37654f</td><td>SOLAR</td><td>1930405</td><td>1930405</td><td>1930405-5</td><td>2022-07-22</td><td>2022-07-22 00:00:00.000</td><td>1.00000000</td><td>1.00000000</td><td>15000.00000</td><td>15000.000</td><td>09000</td><td>Stockmans - Addl costs to finish</td><td>1.00000000</td><td>0.000</td><td>0.000</td><td>2019-10-16</td><td>MfgSys</td><td></td><td>0.000</td><td>1</td></tr><tr><td>a1b6a333-b2b9-4b02-9803-1c2f334b8843</td><td>SOLAR</td><td>1930405</td><td>1930405</td><td>1930405-5</td><td>2022-07-27</td><td>2022-07-27 00:00:00.000</td><td>1.00000000</td><td>1.00000000</td><td>17756.46000</td><td>17756.460</td><td>EXPENSE REPORT</td><td>EXPENSE REPORT</td><td>1.00000000</td><td>11678.430</td><td>0.000</td><td>2019-10-16</td><td>MfgSys</td><td></td><td>0.000</td><td>1</td></tr><tr><td>a1b6a333-b2b9-4b02-9803-1c2f334b8843</td><td>SOLAR</td><td>1930405</td><td>1930405</td><td>1930405-5</td><td>2022-07-26</td><td>2022-07-26 00:00:00.000</td><td>1.00000000</td><td>1.00000000</td><td>8144.60000</td><td>8144.600</td><td>EXPENSE REPORT</td><td>EXPENSE REPORT</td><td>1.00000000</td><td>11678.430</td><td>0.000</td><td>2019-10-16</td><td>MfgSys</td><td></td><td>0.000</td><td>1</td></tr></table>"
                    },
                    "metadata": {}
                }
            ],
            "execution_count": 7
        },
        {
            "cell_type": "code",
            "source": [
                "SELECT TOP (1000) [SysRowID]\r\n",
                "      ,[Company]\r\n",
                "      ,[ProjectID]\r\n",
                "      ,[Date]\r\n",
                "      ,[Period]\r\n",
                "      ,[TimeStamp]\r\n",
                "      ,[OrderNumLine]\r\n",
                "      ,[CustNum]\r\n",
                "      ,[DivisionID]\r\n",
                "      ,[OrderNum]\r\n",
                "      ,[OrderLine]\r\n",
                "      ,[EmpID]\r\n",
                "      ,[PartNum]\r\n",
                "      ,[ProdCode]\r\n",
                "      ,[NeedByDate]\r\n",
                "      ,[ChangeTime]\r\n",
                "      ,[ChangeDateTime]\r\n",
                "      ,[BaseEstimate]\r\n",
                "      ,[UnitPrice]\r\n",
                "      ,[OrderQty]\r\n",
                "      ,[Discount]\r\n",
                "      ,[SellPrice]\r\n",
                "    --   ,[Key]\r\n",
                "   ,[IsCurrent]\r\n",
                "    --   ,[EffectiveStartDateRow]\r\n",
                "    --   ,[EffectiveEndDateRow]\r\n",
                "    --   ,[CreatedDateRow]\r\n",
                "    --   ,[LastUpdateDateRow]\r\n",
                "   ,[DailySellPriceChg]\r\n",
                "   ,[DailyEstimateChg]\r\n",
                "  FROM [dw].[FactOrderDetails]\r\n",
                "    WHERE ProjectID IN (\r\n",
                "      '1930405',\r\n",
                "      '2030026',\r\n",
                "      '2030289',\r\n",
                "      '2130102',\r\n",
                "      '2130168',\r\n",
                "      '2170007',\r\n",
                "      '2170055',\r\n",
                "      '2170070',\r\n",
                "      '2170003',\r\n",
                "      '2170085',\r\n",
                "      '2174037'\r\n",
                "  )\r\n",
                "  AND Company = 'Solar'\r\n",
                "  And IsCurrent = 1\r\n",
                "  and DAte > '2022-07-01'\r\n",
                "  Order By Date DESC"
            ],
            "metadata": {
                "azdata_cell_guid": "642fa08c-5b46-456b-b1da-2e73324054b3"
            },
            "outputs": [
                {
                    "output_type": "display_data",
                    "data": {
                        "text/html": "(10 rows affected)"
                    },
                    "metadata": {}
                },
                {
                    "output_type": "display_data",
                    "data": {
                        "text/html": "Total execution time: 00:00:00.117"
                    },
                    "metadata": {}
                },
                {
                    "output_type": "execute_result",
                    "execution_count": 15,
                    "data": {
                        "application/vnd.dataresource+json": {
                            "schema": {
                                "fields": [
                                    {
                                        "name": "SysRowID"
                                    },
                                    {
                                        "name": "Company"
                                    },
                                    {
                                        "name": "ProjectID"
                                    },
                                    {
                                        "name": "Date"
                                    },
                                    {
                                        "name": "Period"
                                    },
                                    {
                                        "name": "TimeStamp"
                                    },
                                    {
                                        "name": "OrderNumLine"
                                    },
                                    {
                                        "name": "CustNum"
                                    },
                                    {
                                        "name": "DivisionID"
                                    },
                                    {
                                        "name": "OrderNum"
                                    },
                                    {
                                        "name": "OrderLine"
                                    },
                                    {
                                        "name": "EmpID"
                                    },
                                    {
                                        "name": "PartNum"
                                    },
                                    {
                                        "name": "ProdCode"
                                    },
                                    {
                                        "name": "NeedByDate"
                                    },
                                    {
                                        "name": "ChangeTime"
                                    },
                                    {
                                        "name": "ChangeDateTime"
                                    },
                                    {
                                        "name": "BaseEstimate"
                                    },
                                    {
                                        "name": "UnitPrice"
                                    },
                                    {
                                        "name": "OrderQty"
                                    },
                                    {
                                        "name": "Discount"
                                    },
                                    {
                                        "name": "SellPrice"
                                    },
                                    {
                                        "name": "IsCurrent"
                                    },
                                    {
                                        "name": "DailySellPriceChg"
                                    },
                                    {
                                        "name": "DailyEstimateChg"
                                    }
                                ]
                            },
                            "data": [
                                {
                                    "0": "7381769E-AC21-4D6A-B428-379C64FD476A",
                                    "1": "SOLAR",
                                    "2": "2174037",
                                    "3": "2022-07-22",
                                    "4": "338",
                                    "5": "2022-07-01 14:53:24.9430000",
                                    "6": "2174037-16",
                                    "7": "475",
                                    "8": "7",
                                    "9": "2174037",
                                    "10": "16",
                                    "11": "25452",
                                    "12": "MFG MATERIAL",
                                    "13": "07MFG",
                                    "14": "2021-12-08",
                                    "15": "51726",
                                    "16": "2022-07-22 14:22:06.0000000",
                                    "17": "0.00",
                                    "18": "225435.00000",
                                    "19": "1.00000000",
                                    "20": "0.000",
                                    "21": "225435.00000000000",
                                    "22": "1",
                                    "23": "225435.0000000000",
                                    "24": "0.00"
                                },
                                {
                                    "0": "D5A81380-F272-42F5-9038-B21097EDAE1E",
                                    "1": "SOLAR",
                                    "2": "2174037",
                                    "3": "2022-07-22",
                                    "4": "338",
                                    "5": "2022-07-01 14:53:24.9430000",
                                    "6": "2174037-14",
                                    "7": "475",
                                    "8": "7",
                                    "9": "2174037",
                                    "10": "14",
                                    "11": "25452",
                                    "12": "MFG MATERIAL",
                                    "13": "07MFG",
                                    "14": "2021-12-08",
                                    "15": "51783",
                                    "16": "2022-07-22 14:23:03.0000000",
                                    "17": "0.00",
                                    "18": "221225.00000",
                                    "19": "1.00000000",
                                    "20": "0.000",
                                    "21": "221225.00000000000",
                                    "22": "1",
                                    "23": "221225.0000000000",
                                    "24": "0.00"
                                },
                                {
                                    "0": "1492FEB7-B7FD-4A34-8095-BD715BD91793",
                                    "1": "SOLAR",
                                    "2": "2170055",
                                    "3": "2022-07-22",
                                    "4": "338",
                                    "5": "2022-07-01 14:53:24.9430000",
                                    "6": "2170055-4",
                                    "7": "745",
                                    "8": "7",
                                    "9": "2170055",
                                    "10": "4",
                                    "11": "190408",
                                    "12": "FREIGHT",
                                    "13": "07FRT",
                                    "14": "2021-05-08",
                                    "15": "54751",
                                    "16": "2022-07-22 15:12:31.0000000",
                                    "17": "8681.50",
                                    "18": "0.00000",
                                    "19": "1.00000000",
                                    "20": "0.000",
                                    "21": "0.00000000000",
                                    "22": "1",
                                    "23": "0.0000000000",
                                    "24": "8681.50"
                                },
                                {
                                    "0": "BCB16893-CBDF-4A11-91C5-C9550475A803",
                                    "1": "SOLAR",
                                    "2": "2130102",
                                    "3": "2022-07-21",
                                    "4": "338",
                                    "5": "2022-07-01 14:53:24.9430000",
                                    "6": "2130102-13",
                                    "7": "684",
                                    "8": "3",
                                    "9": "2130102",
                                    "10": "13",
                                    "11": "223301",
                                    "12": "MFG MATERIAL",
                                    "13": "03MFG",
                                    "14": "2021-05-19",
                                    "15": "42167",
                                    "16": "2022-07-21 11:42:47.0000000",
                                    "17": "0.00",
                                    "18": "14892.00000",
                                    "19": "1.00000000",
                                    "20": "0.000",
                                    "21": "14892.00000000000",
                                    "22": "1",
                                    "23": "14892.0000000000",
                                    "24": "0.00"
                                },
                                {
                                    "0": "B12957E5-1BF0-4C58-9929-EE8B9DB748D5",
                                    "1": "SOLAR",
                                    "2": "2130102",
                                    "3": "2022-07-20",
                                    "4": "338",
                                    "5": "2022-07-01 14:53:24.9430000",
                                    "6": "2130156-15",
                                    "7": "1022",
                                    "8": "3",
                                    "9": "2130156",
                                    "10": "15",
                                    "11": "223301",
                                    "12": "INSTALLATION",
                                    "13": "03LBR",
                                    "14": "2021-07-09",
                                    "15": "58643",
                                    "16": "2022-07-20 16:17:23.0000000",
                                    "17": "0.00",
                                    "18": "45500.00000",
                                    "19": "1.00000000",
                                    "20": "0.000",
                                    "21": "45500.00000000000",
                                    "22": "1",
                                    "23": "45500.0000000000",
                                    "24": "0.00"
                                },
                                {
                                    "0": "91E35044-213F-421F-A471-47144F58A09A",
                                    "1": "SOLAR",
                                    "2": "2130102",
                                    "3": "2022-07-20",
                                    "4": "338",
                                    "5": "2022-07-01 14:53:24.9430000",
                                    "6": "2130102-4",
                                    "7": "684",
                                    "8": "3",
                                    "9": "2130102",
                                    "10": "4",
                                    "11": "223301",
                                    "12": "FREIGHT",
                                    "13": "03FRT",
                                    "14": "2021-05-19",
                                    "15": "37599",
                                    "16": "2022-07-20 10:26:39.0000000",
                                    "17": "11157.00",
                                    "18": "0.00000",
                                    "19": "1.00000000",
                                    "20": "0.000",
                                    "21": "0.00000000000",
                                    "22": "1",
                                    "23": "0.0000000000",
                                    "24": "11157.00"
                                },
                                {
                                    "0": "6DE980A7-7013-4C05-A493-3ADF926863E2",
                                    "1": "SOLAR",
                                    "2": "2130102",
                                    "3": "2022-07-20",
                                    "4": "338",
                                    "5": "2022-07-01 14:53:24.9430000",
                                    "6": "2130102-2",
                                    "7": "684",
                                    "8": "3",
                                    "9": "2130102",
                                    "10": "2",
                                    "11": "223301",
                                    "12": "MFG MATERIAL",
                                    "13": "03MFG",
                                    "14": "2021-05-19",
                                    "15": "37610",
                                    "16": "2022-07-20 10:26:50.0000000",
                                    "17": "90708.00",
                                    "18": "0.00000",
                                    "19": "1.00000000",
                                    "20": "0.000",
                                    "21": "0.00000000000",
                                    "22": "1",
                                    "23": "0.0000000000",
                                    "24": "90708.00"
                                },
                                {
                                    "0": "E4C8BC09-3A04-44BA-84ED-74DCC851A04A",
                                    "1": "SOLAR",
                                    "2": "2130102",
                                    "3": "2022-07-20",
                                    "4": "338",
                                    "5": "2022-07-01 14:53:24.9430000",
                                    "6": "2130156-16",
                                    "7": "1022",
                                    "8": "3",
                                    "9": "2130156",
                                    "10": "16",
                                    "11": "223301",
                                    "12": "INSTALLATION",
                                    "13": "03LBR",
                                    "14": "2021-07-09",
                                    "15": "58573",
                                    "16": "2022-07-20 16:16:13.0000000",
                                    "17": "0.00",
                                    "18": "18356.50000",
                                    "19": "1.00000000",
                                    "20": "0.000",
                                    "21": "18356.50000000000",
                                    "22": "1",
                                    "23": "18356.5000000000",
                                    "24": "0.00"
                                },
                                {
                                    "0": "624571CA-C637-4528-ACE1-54EBAE497733",
                                    "1": "SOLAR",
                                    "2": "2170070",
                                    "3": "2022-07-14",
                                    "4": "338",
                                    "5": "2022-07-01 14:53:24.9430000",
                                    "6": "2170070-13",
                                    "7": "142",
                                    "8": "7",
                                    "9": "2170070",
                                    "10": "13",
                                    "11": "25382",
                                    "12": "MFG MATERIAL",
                                    "13": "07MFG",
                                    "14": "2021-08-13",
                                    "15": "41150",
                                    "16": "2022-07-14 11:25:50.0000000",
                                    "17": "0.00",
                                    "18": "502827.82000",
                                    "19": "1.00000000",
                                    "20": "0.000",
                                    "21": "502827.82000000000",
                                    "22": "1",
                                    "23": "502827.8200000000",
                                    "24": "0.00"
                                },
                                {
                                    "0": "F9F5A0F5-5F78-498A-9FFB-E3626480B277",
                                    "1": "SOLAR",
                                    "2": "2170070",
                                    "3": "2022-07-14",
                                    "4": "338",
                                    "5": "2022-07-01 14:53:24.9430000",
                                    "6": "2170070-15",
                                    "7": "142",
                                    "8": "7",
                                    "9": "2170070",
                                    "10": "15",
                                    "11": "25382",
                                    "12": "MFG MATERIAL",
                                    "13": "07MFG",
                                    "14": "2021-08-13",
                                    "15": "41091",
                                    "16": "2022-07-14 11:24:51.0000000",
                                    "17": "0.00",
                                    "18": "566072.11000",
                                    "19": "1.00000000",
                                    "20": "0.000",
                                    "21": "566072.11000000000",
                                    "22": "1",
                                    "23": "566072.1100000000",
                                    "24": "0.00"
                                }
                            ]
                        },
                        "text/html": "<table><tr><th>SysRowID</th><th>Company</th><th>ProjectID</th><th>Date</th><th>Period</th><th>TimeStamp</th><th>OrderNumLine</th><th>CustNum</th><th>DivisionID</th><th>OrderNum</th><th>OrderLine</th><th>EmpID</th><th>PartNum</th><th>ProdCode</th><th>NeedByDate</th><th>ChangeTime</th><th>ChangeDateTime</th><th>BaseEstimate</th><th>UnitPrice</th><th>OrderQty</th><th>Discount</th><th>SellPrice</th><th>IsCurrent</th><th>DailySellPriceChg</th><th>DailyEstimateChg</th></tr><tr><td>7381769E-AC21-4D6A-B428-379C64FD476A</td><td>SOLAR</td><td>2174037</td><td>2022-07-22</td><td>338</td><td>2022-07-01 14:53:24.9430000</td><td>2174037-16</td><td>475</td><td>7</td><td>2174037</td><td>16</td><td>25452</td><td>MFG MATERIAL</td><td>07MFG</td><td>2021-12-08</td><td>51726</td><td>2022-07-22 14:22:06.0000000</td><td>0.00</td><td>225435.00000</td><td>1.00000000</td><td>0.000</td><td>225435.00000000000</td><td>1</td><td>225435.0000000000</td><td>0.00</td></tr><tr><td>D5A81380-F272-42F5-9038-B21097EDAE1E</td><td>SOLAR</td><td>2174037</td><td>2022-07-22</td><td>338</td><td>2022-07-01 14:53:24.9430000</td><td>2174037-14</td><td>475</td><td>7</td><td>2174037</td><td>14</td><td>25452</td><td>MFG MATERIAL</td><td>07MFG</td><td>2021-12-08</td><td>51783</td><td>2022-07-22 14:23:03.0000000</td><td>0.00</td><td>221225.00000</td><td>1.00000000</td><td>0.000</td><td>221225.00000000000</td><td>1</td><td>221225.0000000000</td><td>0.00</td></tr><tr><td>1492FEB7-B7FD-4A34-8095-BD715BD91793</td><td>SOLAR</td><td>2170055</td><td>2022-07-22</td><td>338</td><td>2022-07-01 14:53:24.9430000</td><td>2170055-4</td><td>745</td><td>7</td><td>2170055</td><td>4</td><td>190408</td><td>FREIGHT</td><td>07FRT</td><td>2021-05-08</td><td>54751</td><td>2022-07-22 15:12:31.0000000</td><td>8681.50</td><td>0.00000</td><td>1.00000000</td><td>0.000</td><td>0.00000000000</td><td>1</td><td>0.0000000000</td><td>8681.50</td></tr><tr><td>BCB16893-CBDF-4A11-91C5-C9550475A803</td><td>SOLAR</td><td>2130102</td><td>2022-07-21</td><td>338</td><td>2022-07-01 14:53:24.9430000</td><td>2130102-13</td><td>684</td><td>3</td><td>2130102</td><td>13</td><td>223301</td><td>MFG MATERIAL</td><td>03MFG</td><td>2021-05-19</td><td>42167</td><td>2022-07-21 11:42:47.0000000</td><td>0.00</td><td>14892.00000</td><td>1.00000000</td><td>0.000</td><td>14892.00000000000</td><td>1</td><td>14892.0000000000</td><td>0.00</td></tr><tr><td>B12957E5-1BF0-4C58-9929-EE8B9DB748D5</td><td>SOLAR</td><td>2130102</td><td>2022-07-20</td><td>338</td><td>2022-07-01 14:53:24.9430000</td><td>2130156-15</td><td>1022</td><td>3</td><td>2130156</td><td>15</td><td>223301</td><td>INSTALLATION</td><td>03LBR</td><td>2021-07-09</td><td>58643</td><td>2022-07-20 16:17:23.0000000</td><td>0.00</td><td>45500.00000</td><td>1.00000000</td><td>0.000</td><td>45500.00000000000</td><td>1</td><td>45500.0000000000</td><td>0.00</td></tr><tr><td>91E35044-213F-421F-A471-47144F58A09A</td><td>SOLAR</td><td>2130102</td><td>2022-07-20</td><td>338</td><td>2022-07-01 14:53:24.9430000</td><td>2130102-4</td><td>684</td><td>3</td><td>2130102</td><td>4</td><td>223301</td><td>FREIGHT</td><td>03FRT</td><td>2021-05-19</td><td>37599</td><td>2022-07-20 10:26:39.0000000</td><td>11157.00</td><td>0.00000</td><td>1.00000000</td><td>0.000</td><td>0.00000000000</td><td>1</td><td>0.0000000000</td><td>11157.00</td></tr><tr><td>6DE980A7-7013-4C05-A493-3ADF926863E2</td><td>SOLAR</td><td>2130102</td><td>2022-07-20</td><td>338</td><td>2022-07-01 14:53:24.9430000</td><td>2130102-2</td><td>684</td><td>3</td><td>2130102</td><td>2</td><td>223301</td><td>MFG MATERIAL</td><td>03MFG</td><td>2021-05-19</td><td>37610</td><td>2022-07-20 10:26:50.0000000</td><td>90708.00</td><td>0.00000</td><td>1.00000000</td><td>0.000</td><td>0.00000000000</td><td>1</td><td>0.0000000000</td><td>90708.00</td></tr><tr><td>E4C8BC09-3A04-44BA-84ED-74DCC851A04A</td><td>SOLAR</td><td>2130102</td><td>2022-07-20</td><td>338</td><td>2022-07-01 14:53:24.9430000</td><td>2130156-16</td><td>1022</td><td>3</td><td>2130156</td><td>16</td><td>223301</td><td>INSTALLATION</td><td>03LBR</td><td>2021-07-09</td><td>58573</td><td>2022-07-20 16:16:13.0000000</td><td>0.00</td><td>18356.50000</td><td>1.00000000</td><td>0.000</td><td>18356.50000000000</td><td>1</td><td>18356.5000000000</td><td>0.00</td></tr><tr><td>624571CA-C637-4528-ACE1-54EBAE497733</td><td>SOLAR</td><td>2170070</td><td>2022-07-14</td><td>338</td><td>2022-07-01 14:53:24.9430000</td><td>2170070-13</td><td>142</td><td>7</td><td>2170070</td><td>13</td><td>25382</td><td>MFG MATERIAL</td><td>07MFG</td><td>2021-08-13</td><td>41150</td><td>2022-07-14 11:25:50.0000000</td><td>0.00</td><td>502827.82000</td><td>1.00000000</td><td>0.000</td><td>502827.82000000000</td><td>1</td><td>502827.8200000000</td><td>0.00</td></tr><tr><td>F9F5A0F5-5F78-498A-9FFB-E3626480B277</td><td>SOLAR</td><td>2170070</td><td>2022-07-14</td><td>338</td><td>2022-07-01 14:53:24.9430000</td><td>2170070-15</td><td>142</td><td>7</td><td>2170070</td><td>15</td><td>25382</td><td>MFG MATERIAL</td><td>07MFG</td><td>2021-08-13</td><td>41091</td><td>2022-07-14 11:24:51.0000000</td><td>0.00</td><td>566072.11000</td><td>1.00000000</td><td>0.000</td><td>566072.11000000000</td><td>1</td><td>566072.1100000000</td><td>0.00</td></tr></table>"
                    },
                    "metadata": {}
                }
            ],
            "execution_count": 15
        },
        {
            "cell_type": "code",
            "source": [
                "Select \r\n",
                "SysRowID,\r\n",
                "Company,\r\n",
                "OrderNum,\r\n",
                "OrderNumLine,\r\n",
                "PartNum,\r\n",
                "(UnitPrice*OrderQty) as SellPrice,\r\n",
                "EstUnitCost_c,\r\n",
                "ChangeDate\r\n",
                "From etl.vwOrderDetail\r\n",
                "Where OrderNum IN (\r\n",
                "      '1930405',\r\n",
                "      '2030026',\r\n",
                "      '2030289',\r\n",
                "      '2130102',\r\n",
                "      '2130168',\r\n",
                "      '2170007',\r\n",
                "      '2170055',\r\n",
                "      '2170070',\r\n",
                "      '2170003',\r\n",
                "      '2170085',\r\n",
                "      '2174037'\r\n",
                "  )\r\n",
                "AND Company = 'Solar'\r\n",
                "Order by ChangeDate DESC"
            ],
            "metadata": {
                "azdata_cell_guid": "17d73aa9-e975-4db1-a5ff-5d4a91417758",
                "tags": []
            },
            "outputs": [
                {
                    "output_type": "display_data",
                    "data": {
                        "text/html": "(175 rows affected)"
                    },
                    "metadata": {}
                },
                {
                    "output_type": "display_data",
                    "data": {
                        "text/html": "Total execution time: 00:00:00.089"
                    },
                    "metadata": {}
                },
                {
                    "output_type": "execute_result",
                    "execution_count": 16,
                    "data": {
                        "application/vnd.dataresource+json": {
                            "schema": {
                                "fields": [
                                    {
                                        "name": "SysRowID"
                                    },
                                    {
                                        "name": "Company"
                                    },
                                    {
                                        "name": "OrderNum"
                                    },
                                    {
                                        "name": "OrderNumLine"
                                    },
                                    {
                                        "name": "PartNum"
                                    },
                                    {
                                        "name": "SellPrice"
                                    },
                                    {
                                        "name": "EstUnitCost_c"
                                    },
                                    {
                                        "name": "ChangeDate"
                                    }
                                ]
                            },
                            "data": [
                                {
                                    "0": "e1c81fe5-9392-4edf-b230-b0c9860b9702",
                                    "1": "SOLAR",
                                    "2": "2174037",
                                    "3": "2174037-2",
                                    "4": "MFG MATERIAL",
                                    "5": "0.00000000000",
                                    "6": "491949.00",
                                    "7": "2022-07-31"
                                },
                                {
                                    "0": "4a8c70c8-6db2-43b6-bee2-77050fc3c571",
                                    "1": "SOLAR",
                                    "2": "2170007",
                                    "3": "2170007-1",
                                    "4": "DESIGN",
                                    "5": "0.00000000000",
                                    "6": "4900.00",
                                    "7": "2022-07-27"
                                },
                                {
                                    "0": "ed528d19-2832-4d06-99d2-5c4b3ddd8c9f",
                                    "1": "SOLAR",
                                    "2": "2170007",
                                    "3": "2170007-2",
                                    "4": "MFG MATERIAL",
                                    "5": "0.00000000000",
                                    "6": "303833.00",
                                    "7": "2022-07-27"
                                },
                                {
                                    "0": "de26a81b-8164-42fb-9ec9-148a71f888f6",
                                    "1": "SOLAR",
                                    "2": "2170007",
                                    "3": "2170007-3",
                                    "4": "PURCHASED",
                                    "5": "0.00000000000",
                                    "6": "0.00",
                                    "7": "2022-07-27"
                                },
                                {
                                    "0": "51770a5f-e665-4e73-b0a1-5310e3febbef",
                                    "1": "SOLAR",
                                    "2": "2170007",
                                    "3": "2170007-4",
                                    "4": "FREIGHT",
                                    "5": "0.00000000000",
                                    "6": "41134.00",
                                    "7": "2022-07-27"
                                },
                                {
                                    "0": "09ed40d3-ab3e-4964-83e0-3ab8f02cb9d8",
                                    "1": "SOLAR",
                                    "2": "2170007",
                                    "3": "2170007-5",
                                    "4": "INSTALLATION",
                                    "5": "0.00000000000",
                                    "6": "1871.00",
                                    "7": "2022-07-27"
                                },
                                {
                                    "0": "b0c74794-fb98-481d-8a1e-21eaa3dc406b",
                                    "1": "SOLAR",
                                    "2": "2170007",
                                    "3": "2170007-11",
                                    "4": "INSTALLATION",
                                    "5": "0.00000000000",
                                    "6": "0.00",
                                    "7": "2022-07-27"
                                },
                                {
                                    "0": "ba2d2aae-6750-49eb-9c28-c734053ae6a1",
                                    "1": "SOLAR",
                                    "2": "2170007",
                                    "3": "2170007-9",
                                    "4": "PURCHASED",
                                    "5": "0.00000000000",
                                    "6": "0.00",
                                    "7": "2022-07-27"
                                },
                                {
                                    "0": "1492feb7-b7fd-4a34-8095-bd715bd91793",
                                    "1": "SOLAR",
                                    "2": "2170055",
                                    "3": "2170055-4",
                                    "4": "FREIGHT",
                                    "5": "0.00000000000",
                                    "6": "8681.50",
                                    "7": "2022-07-22"
                                },
                                {
                                    "0": "d5a81380-f272-42f5-9038-b21097edae1e",
                                    "1": "SOLAR",
                                    "2": "2174037",
                                    "3": "2174037-14",
                                    "4": "MFG MATERIAL",
                                    "5": "221225.00000000000",
                                    "6": "0.00",
                                    "7": "2022-07-22"
                                },
                                {
                                    "0": "7381769e-ac21-4d6a-b428-379c64fd476a",
                                    "1": "SOLAR",
                                    "2": "2174037",
                                    "3": "2174037-16",
                                    "4": "MFG MATERIAL",
                                    "5": "225435.00000000000",
                                    "6": "0.00",
                                    "7": "2022-07-22"
                                },
                                {
                                    "0": "bcb16893-cbdf-4a11-91c5-c9550475a803",
                                    "1": "SOLAR",
                                    "2": "2130102",
                                    "3": "2130102-13",
                                    "4": "MFG MATERIAL",
                                    "5": "14892.00000000000",
                                    "6": "0.00",
                                    "7": "2022-07-21"
                                },
                                {
                                    "0": "6de980a7-7013-4c05-a493-3adf926863e2",
                                    "1": "SOLAR",
                                    "2": "2130102",
                                    "3": "2130102-2",
                                    "4": "MFG MATERIAL",
                                    "5": "0.00000000000",
                                    "6": "90708.00",
                                    "7": "2022-07-20"
                                },
                                {
                                    "0": "91e35044-213f-421f-a471-47144f58a09a",
                                    "1": "SOLAR",
                                    "2": "2130102",
                                    "3": "2130102-4",
                                    "4": "FREIGHT",
                                    "5": "0.00000000000",
                                    "6": "11157.00",
                                    "7": "2022-07-20"
                                },
                                {
                                    "0": "f9f5a0f5-5f78-498a-9ffb-e3626480b277",
                                    "1": "SOLAR",
                                    "2": "2170070",
                                    "3": "2170070-15",
                                    "4": "MFG MATERIAL",
                                    "5": "566072.11000000000",
                                    "6": "0.00",
                                    "7": "2022-07-14"
                                },
                                {
                                    "0": "624571ca-c637-4528-ace1-54ebae497733",
                                    "1": "SOLAR",
                                    "2": "2170070",
                                    "3": "2170070-13",
                                    "4": "MFG MATERIAL",
                                    "5": "502827.82000000000",
                                    "6": "0.00",
                                    "7": "2022-07-14"
                                },
                                {
                                    "0": "00b4c797-cfb6-413a-89ae-7f6153213afc",
                                    "1": "SOLAR",
                                    "2": "2174037",
                                    "3": "2174037-1",
                                    "4": "DESIGN",
                                    "5": "0.00000000000",
                                    "6": "15488.00",
                                    "7": "2022-06-30"
                                },
                                {
                                    "0": "94aa27ac-5bde-4c04-8530-9ff2241461da",
                                    "1": "SOLAR",
                                    "2": "2170070",
                                    "3": "2170070-14",
                                    "4": "FREIGHT",
                                    "5": "87602.70000000000",
                                    "6": "0.00",
                                    "7": "2022-06-29"
                                },
                                {
                                    "0": "b6c92d0c-c35d-419c-b953-328796b8705e",
                                    "1": "SOLAR",
                                    "2": "2170070",
                                    "3": "2170070-10",
                                    "4": "FREIGHT",
                                    "5": "215497.30000000000",
                                    "6": "0.00",
                                    "7": "2022-06-29"
                                },
                                {
                                    "0": "90153ecb-013b-4850-90f9-70d20697ee70",
                                    "1": "SOLAR",
                                    "2": "2130102",
                                    "3": "2130102-5",
                                    "4": "INSTALLATION",
                                    "5": "0.00000000000",
                                    "6": "1202.00",
                                    "7": "2022-06-29"
                                },
                                {
                                    "0": "d533a390-ee82-4a25-9cb4-00c3931a256f",
                                    "1": "SOLAR",
                                    "2": "2030289",
                                    "3": "2030289-22",
                                    "4": "INSTALLATION",
                                    "5": "839095.47000000000",
                                    "6": "0.00",
                                    "7": "2022-06-29"
                                },
                                {
                                    "0": "72b101aa-eec4-41b4-ad22-ccb96434fa61",
                                    "1": "SOLAR",
                                    "2": "2030289",
                                    "3": "2030289-20",
                                    "4": "INSTALLATION",
                                    "5": "72634.83000000000",
                                    "6": "0.00",
                                    "7": "2022-06-29"
                                },
                                {
                                    "0": "6220117b-b3f1-4c51-a1a2-1ab4e12da797",
                                    "1": "SOLAR",
                                    "2": "2130102",
                                    "3": "2130102-8",
                                    "4": "MFG MATERIAL",
                                    "5": "113226.00000000000",
                                    "6": "0.00",
                                    "7": "2022-06-28"
                                },
                                {
                                    "0": "2c318584-4b67-4940-9701-a8f575fef574",
                                    "1": "SOLAR",
                                    "2": "2130102",
                                    "3": "2130102-10",
                                    "4": "FREIGHT",
                                    "5": "13455.00000000000",
                                    "6": "0.00",
                                    "7": "2022-06-28"
                                },
                                {
                                    "0": "dce6a872-db1b-4f08-bcee-0dff487e5bfc",
                                    "1": "SOLAR",
                                    "2": "2130102",
                                    "3": "2130102-12",
                                    "4": "DESIGN",
                                    "5": "2691.90000000000",
                                    "6": "0.00",
                                    "7": "2022-06-28"
                                },
                                {
                                    "0": "d9ff0932-7a16-42ff-a4c5-4f6653205a6f",
                                    "1": "SOLAR",
                                    "2": "2170070",
                                    "3": "2170070-2",
                                    "4": "MFG MATERIAL",
                                    "5": "0.00000000000",
                                    "6": "684174.66",
                                    "7": "2022-06-27"
                                },
                                {
                                    "0": "a9398d93-3848-4c75-a936-b3ea49fd1f2a",
                                    "1": "SOLAR",
                                    "2": "2170070",
                                    "3": "2170070-4",
                                    "4": "FREIGHT",
                                    "5": "0.00000000000",
                                    "6": "286860.00",
                                    "7": "2022-06-27"
                                },
                                {
                                    "0": "4d125e3e-80d5-4ae4-96b1-71133764e1c4",
                                    "1": "SOLAR",
                                    "2": "2170070",
                                    "3": "2170070-12",
                                    "4": "DESIGN",
                                    "5": "0.00000000000",
                                    "6": "0.00",
                                    "7": "2022-06-27"
                                },
                                {
                                    "0": "11c1e22b-d263-424c-a26f-779dd9108f17",
                                    "1": "SOLAR",
                                    "2": "2030289",
                                    "3": "2030289-21",
                                    "4": "MFG MATERIAL",
                                    "5": "75000.00000000000",
                                    "6": "0.00",
                                    "7": "2022-06-23"
                                },
                                {
                                    "0": "e27a7b32-76d0-4150-aa2e-cc880a2bcb33",
                                    "1": "SOLAR",
                                    "2": "2030289",
                                    "3": "2030289-2",
                                    "4": "MFG MATERIAL",
                                    "5": "0.00000000000",
                                    "6": "1722960.00",
                                    "7": "2022-06-23"
                                },
                                {
                                    "0": "3841065c-5742-47a3-b0bd-3f2adb022352",
                                    "1": "SOLAR",
                                    "2": "2130102",
                                    "3": "2130102-1",
                                    "4": "DESIGN",
                                    "5": "0.00000000000",
                                    "6": "1894.00",
                                    "7": "2022-06-22"
                                },
                                {
                                    "0": "687bbb6c-8bee-4104-b015-01f6fc3b4258",
                                    "1": "SOLAR",
                                    "2": "2130168",
                                    "3": "2130168-1",
                                    "4": "DESIGN",
                                    "5": "0.00000000000",
                                    "6": "941.00",
                                    "7": "2022-06-22"
                                },
                                {
                                    "0": "b3c6c5e9-c7e5-4992-a11f-3af0a84a80bf",
                                    "1": "SOLAR",
                                    "2": "2130168",
                                    "3": "2130168-2",
                                    "4": "MFG MATERIAL",
                                    "5": "0.00000000000",
                                    "6": "15836.00",
                                    "7": "2022-06-22"
                                },
                                {
                                    "0": "518586a4-07b3-40c0-9683-0b78324e4074",
                                    "1": "SOLAR",
                                    "2": "2030026",
                                    "3": "2030026-25",
                                    "4": "MFG MATERIAL",
                                    "5": "251968.43000000000",
                                    "6": "0.00",
                                    "7": "2022-06-17"
                                },
                                {
                                    "0": "dd48ab29-0426-4804-bc6d-e81a1600b0c5",
                                    "1": "SOLAR",
                                    "2": "2030026",
                                    "3": "2030026-23",
                                    "4": "MFG MATERIAL",
                                    "5": "83997.86000000000",
                                    "6": "0.00",
                                    "7": "2022-06-09"
                                },
                                {
                                    "0": "3796bdf5-444e-4043-a5b3-a435e664ae78",
                                    "1": "SOLAR",
                                    "2": "2030026",
                                    "3": "2030026-24",
                                    "4": "MFG MATERIAL",
                                    "5": "0.00000000000",
                                    "6": "0.00",
                                    "7": "2022-06-09"
                                },
                                {
                                    "0": "92c02b0d-86b5-4f40-b1ed-cdf485110dc6",
                                    "1": "SOLAR",
                                    "2": "1930405",
                                    "3": "1930405-1",
                                    "4": "DESIGN",
                                    "5": "0.00000000000",
                                    "6": "2531.00",
                                    "7": "2022-06-08"
                                },
                                {
                                    "0": "41764183-2800-48a8-8e1a-5533b893e557",
                                    "1": "SOLAR",
                                    "2": "1930405",
                                    "3": "1930405-2",
                                    "4": "MFG MATERIAL",
                                    "5": "0.00000000000",
                                    "6": "425697.00",
                                    "7": "2022-06-08"
                                },
                                {
                                    "0": "387981c4-6a1d-493f-bb9d-18d8663db70a",
                                    "1": "SOLAR",
                                    "2": "1930405",
                                    "3": "1930405-3",
                                    "4": "PURCHASED",
                                    "5": "0.00000000000",
                                    "6": "0.00",
                                    "7": "2022-06-08"
                                },
                                {
                                    "0": "66df79ef-f09e-4589-bf3c-2c428f742005",
                                    "1": "SOLAR",
                                    "2": "1930405",
                                    "3": "1930405-4",
                                    "4": "FREIGHT",
                                    "5": "0.00000000000",
                                    "6": "88920.00",
                                    "7": "2022-06-08"
                                },
                                {
                                    "0": "dde84f27-d2a4-4ddf-b7b7-f102120c9895",
                                    "1": "SOLAR",
                                    "2": "1930405",
                                    "3": "1930405-5",
                                    "4": "INSTALLATION",
                                    "5": "0.00000000000",
                                    "6": "625000.00",
                                    "7": "2022-06-08"
                                },
                                {
                                    "0": "37a9076b-68b1-46ba-9f84-7852b1dc5f10",
                                    "1": "SOLAR",
                                    "2": "2170085",
                                    "3": "2170085-8",
                                    "4": "MFG MATERIAL",
                                    "5": "11145.00000000000",
                                    "6": "0.00",
                                    "7": "2022-05-31"
                                },
                                {
                                    "0": "2b109089-b925-4f5a-a337-2bf6f0455c0a",
                                    "1": "SOLAR",
                                    "2": "2170085",
                                    "3": "2170085-10",
                                    "4": "FREIGHT",
                                    "5": "6400.00000000000",
                                    "6": "0.00",
                                    "7": "2022-05-31"
                                },
                                {
                                    "0": "003c329b-1a99-495c-ae82-02a1d2d3f19d",
                                    "1": "SOLAR",
                                    "2": "2170085",
                                    "3": "2170085-13",
                                    "4": "MFG MATERIAL",
                                    "5": "30750.00000000000",
                                    "6": "0.00",
                                    "7": "2022-05-31"
                                },
                                {
                                    "0": "62029b99-5f3b-48f0-862b-ce36ec1ce5aa",
                                    "1": "SOLAR",
                                    "2": "2170085",
                                    "3": "2170085-14",
                                    "4": "MFG MATERIAL",
                                    "5": "26005.00000000000",
                                    "6": "0.00",
                                    "7": "2022-05-31"
                                },
                                {
                                    "0": "3451a990-d26a-4f21-992e-3150c5591a10",
                                    "1": "SOLAR",
                                    "2": "2174037",
                                    "3": "2174037-13",
                                    "4": "FREIGHT",
                                    "5": "22560.00000000000",
                                    "6": "0.00",
                                    "7": "2022-05-31"
                                },
                                {
                                    "0": "634314b2-39d6-4d71-a267-af03d1602970",
                                    "1": "SOLAR",
                                    "2": "2174037",
                                    "3": "2174037-15",
                                    "4": "FREIGHT",
                                    "5": "440.00000000000",
                                    "6": "0.00",
                                    "7": "2022-05-31"
                                },
                                {
                                    "0": "88ab2924-19e2-4194-af3b-59b362bbd0f6",
                                    "1": "SOLAR",
                                    "2": "2170085",
                                    "3": "2170085-4",
                                    "4": "FREIGHT",
                                    "5": "0.00000000000",
                                    "6": "5482.50",
                                    "7": "2022-05-27"
                                },
                                {
                                    "0": "d9630735-4f42-4dc9-862c-fe49fde7d93d",
                                    "1": "SOLAR",
                                    "2": "2170085",
                                    "3": "2170085-1",
                                    "4": "DESIGN",
                                    "5": "0.00000000000",
                                    "6": "4500.00",
                                    "7": "2022-05-27"
                                },
                                {
                                    "0": "8b4ae560-2ffb-4397-86b4-e54ba9005522",
                                    "1": "SOLAR",
                                    "2": "2170085",
                                    "3": "2170085-2",
                                    "4": "MFG MATERIAL",
                                    "5": "0.00000000000",
                                    "6": "37920.50",
                                    "7": "2022-05-27"
                                },
                                {
                                    "0": "c564df92-d226-4df5-8035-ac31046079ea",
                                    "1": "SOLAR",
                                    "2": "2170085",
                                    "3": "2170085-6",
                                    "4": "USE TAX",
                                    "5": "0.00000000000",
                                    "6": "0.00",
                                    "7": "2022-05-24"
                                },
                                {
                                    "0": "ee003e7d-2eaa-4125-a61b-dd6bbb9902b7",
                                    "1": "SOLAR",
                                    "2": "2170085",
                                    "3": "2170085-12",
                                    "4": "DESIGN",
                                    "5": "6250.00000000000",
                                    "6": "0.00",
                                    "7": "2022-05-18"
                                },
                                {
                                    "0": "54ff9dd5-b4db-4006-a596-310be45511ff",
                                    "1": "SOLAR",
                                    "2": "2030289",
                                    "3": "2030289-19",
                                    "4": "INSTALLATION",
                                    "5": "136089.00000000000",
                                    "6": "0.00",
                                    "7": "2022-04-28"
                                },
                                {
                                    "0": "1846ab6a-e036-47fe-8a8f-0eb647efacaf",
                                    "1": "SOLAR",
                                    "2": "2170007",
                                    "3": "2170007-16",
                                    "4": "MFG MATERIAL",
                                    "5": "98887.40000000000",
                                    "6": "0.00",
                                    "7": "2022-03-30"
                                },
                                {
                                    "0": "fcc8caec-0729-409c-a56a-14f82d09fb5c",
                                    "1": "SOLAR",
                                    "2": "2030289",
                                    "3": "2030289-18",
                                    "4": "INSTALLATION",
                                    "5": "309037.68000000000",
                                    "6": "0.00",
                                    "7": "2022-03-18"
                                },
                                {
                                    "0": "c6e5e95f-0536-4402-9fcc-997fa695f1a8",
                                    "1": "SOLAR",
                                    "2": "2170070",
                                    "3": "2170070-7",
                                    "4": "DESIGN",
                                    "5": "12500.00000000000",
                                    "6": "0.00",
                                    "7": "2022-03-14"
                                },
                                {
                                    "0": "3e551ac7-6253-442a-8271-f7fa1e701df2",
                                    "1": "SOLAR",
                                    "2": "2174037",
                                    "3": "2174037-12",
                                    "4": "MFG MATERIAL",
                                    "5": "305305.00000000000",
                                    "6": "0.00",
                                    "7": "2022-03-03"
                                },
                                {
                                    "0": "753b6758-d084-4eff-89ad-fba690c53835",
                                    "1": "SOLAR",
                                    "2": "2174037",
                                    "3": "2174037-10",
                                    "4": "FREIGHT",
                                    "5": "25000.00000000000",
                                    "6": "0.00",
                                    "7": "2022-02-22"
                                },
                                {
                                    "0": "5678e0e7-e455-4e6c-8ed7-daa017165455",
                                    "1": "SOLAR",
                                    "2": "2174037",
                                    "3": "2174037-7",
                                    "4": "DESIGN",
                                    "5": "25000.00000000000",
                                    "6": "0.00",
                                    "7": "2022-02-15"
                                },
                                {
                                    "0": "d5a55346-a95e-43be-9ebf-605725342cca",
                                    "1": "SOLAR",
                                    "2": "2174037",
                                    "3": "2174037-8",
                                    "4": "MFG MATERIAL",
                                    "5": "105845.00000000000",
                                    "6": "0.00",
                                    "7": "2022-02-15"
                                },
                                {
                                    "0": "37c1cffa-8764-4e78-bfdf-d59901eade90",
                                    "1": "SOLAR",
                                    "2": "2174037",
                                    "3": "2174037-4",
                                    "4": "FREIGHT",
                                    "5": "0.00000000000",
                                    "6": "41470.00",
                                    "7": "2022-02-09"
                                },
                                {
                                    "0": "5bba4147-079f-4736-ba79-f34800667dba",
                                    "1": "SOLAR",
                                    "2": "2170007",
                                    "3": "2170007-15",
                                    "4": "MFG MATERIAL",
                                    "5": "104400.00000000000",
                                    "6": "0.00",
                                    "7": "2022-02-07"
                                },
                                {
                                    "0": "b2bd7bf9-7545-4c6c-acc5-57731ac015b9",
                                    "1": "SOLAR",
                                    "2": "2170003",
                                    "3": "2170003-8",
                                    "4": "MFG MATERIAL",
                                    "5": "0.00000000000",
                                    "6": "0.00",
                                    "7": "2022-01-31"
                                },
                                {
                                    "0": "916917e6-e010-480b-90c4-57deb72f9ae4",
                                    "1": "SOLAR",
                                    "2": "2170003",
                                    "3": "2170003-9",
                                    "4": "PURCHASED",
                                    "5": "0.00000000000",
                                    "6": "0.00",
                                    "7": "2022-01-31"
                                },
                                {
                                    "0": "9c35f766-e6d6-4c3f-ae8e-bdb4453c79ea",
                                    "1": "SOLAR",
                                    "2": "2170003",
                                    "3": "2170003-10",
                                    "4": "FREIGHT",
                                    "5": "0.00000000000",
                                    "6": "0.00",
                                    "7": "2022-01-31"
                                },
                                {
                                    "0": "967cf670-335a-4efe-a0c4-e4ebd32151e6",
                                    "1": "SOLAR",
                                    "2": "2170003",
                                    "3": "2170003-11",
                                    "4": "INSTALLATION",
                                    "5": "0.00000000000",
                                    "6": "0.00",
                                    "7": "2022-01-31"
                                },
                                {
                                    "0": "a990ec6d-2a96-4b5a-9103-c4f6b55a5e37",
                                    "1": "SOLAR",
                                    "2": "2170003",
                                    "3": "2170003-1",
                                    "4": "DESIGN",
                                    "5": "0.00000000000",
                                    "6": "2956.00",
                                    "7": "2022-01-31"
                                },
                                {
                                    "0": "1d999db1-cce8-47c4-8ef6-2ae992bb7759",
                                    "1": "SOLAR",
                                    "2": "2170003",
                                    "3": "2170003-2",
                                    "4": "MFG MATERIAL",
                                    "5": "0.00000000000",
                                    "6": "0.00",
                                    "7": "2022-01-31"
                                },
                                {
                                    "0": "60311d08-9edc-4e23-924b-1ae1b653cc20",
                                    "1": "SOLAR",
                                    "2": "2170003",
                                    "3": "2170003-3",
                                    "4": "PURCHASED",
                                    "5": "0.00000000000",
                                    "6": "0.00",
                                    "7": "2022-01-31"
                                },
                                {
                                    "0": "873919af-5356-46c1-853a-6e42bc1d20b1",
                                    "1": "SOLAR",
                                    "2": "2170003",
                                    "3": "2170003-4",
                                    "4": "FREIGHT",
                                    "5": "0.00000000000",
                                    "6": "0.00",
                                    "7": "2022-01-31"
                                },
                                {
                                    "0": "3cfc88a1-1638-448c-86c2-d65bd92f921f",
                                    "1": "SOLAR",
                                    "2": "2170003",
                                    "3": "2170003-5",
                                    "4": "INSTALLATION",
                                    "5": "0.00000000000",
                                    "6": "0.00",
                                    "7": "2022-01-31"
                                },
                                {
                                    "0": "d5976898-7391-4682-832b-cd05f6429342",
                                    "1": "SOLAR",
                                    "2": "2170003",
                                    "3": "2170003-6",
                                    "4": "USE TAX",
                                    "5": "0.00000000000",
                                    "6": "0.00",
                                    "7": "2022-01-31"
                                },
                                {
                                    "0": "a5970653-aa33-4bd7-b1bd-8f8e0df118f4",
                                    "1": "SOLAR",
                                    "2": "2170055",
                                    "3": "2170055-2",
                                    "4": "MFG MATERIAL",
                                    "5": "0.00000000000",
                                    "6": "58414.00",
                                    "7": "2022-01-17"
                                },
                                {
                                    "0": "5fda8eba-8203-498e-840b-a93006762bdb",
                                    "1": "SOLAR",
                                    "2": "2170003",
                                    "3": "2170003-12",
                                    "4": "DESIGN",
                                    "5": "6250.00000000000",
                                    "6": "0.00",
                                    "7": "2022-01-06"
                                },
                                {
                                    "0": "51de1885-551e-4296-8791-ef595a809416",
                                    "1": "SOLAR",
                                    "2": "2170070",
                                    "3": "2170070-8",
                                    "4": "MFG MATERIAL",
                                    "5": "3046.67000000000",
                                    "6": "0.00",
                                    "7": "2021-11-29"
                                },
                                {
                                    "0": "a1b5783c-f0e6-45a8-b7b0-d79e7d3b6f55",
                                    "1": "SOLAR",
                                    "2": "2030026",
                                    "3": "2030026-4",
                                    "4": "FREIGHT",
                                    "5": "0.00000000000",
                                    "6": "1504559.00",
                                    "7": "2021-11-24"
                                },
                                {
                                    "0": "10b0ece5-f738-4246-b503-ea80857f1e51",
                                    "1": "SOLAR",
                                    "2": "2174037",
                                    "3": "2174037-5",
                                    "4": "INSTALLATION",
                                    "5": "0.00000000000",
                                    "6": "0.00",
                                    "7": "2021-11-23"
                                },
                                {
                                    "0": "e268a5e2-34b6-4a27-9af7-78606427482a",
                                    "1": "SOLAR",
                                    "2": "2174037",
                                    "3": "2174037-6",
                                    "4": "USE TAX",
                                    "5": "0.00000000000",
                                    "6": "0.00",
                                    "7": "2021-11-23"
                                },
                                {
                                    "0": "4bf2a236-042a-4541-a9cc-d8023b8a31d7",
                                    "1": "SOLAR",
                                    "2": "2174037",
                                    "3": "2174037-9",
                                    "4": "PURCHASED",
                                    "5": "0.00000000000",
                                    "6": "0.00",
                                    "7": "2021-11-23"
                                },
                                {
                                    "0": "d528c5ee-8894-4d92-b823-038a88855f78",
                                    "1": "SOLAR",
                                    "2": "2174037",
                                    "3": "2174037-11",
                                    "4": "INSTALLATION",
                                    "5": "0.00000000000",
                                    "6": "0.00",
                                    "7": "2021-11-23"
                                },
                                {
                                    "0": "0d303475-d1a3-4611-86ce-095b108316c4",
                                    "1": "SOLAR",
                                    "2": "2174037",
                                    "3": "2174037-3",
                                    "4": "PURCHASED",
                                    "5": "0.00000000000",
                                    "6": "0.00",
                                    "7": "2021-11-23"
                                },
                                {
                                    "0": "a17e4534-f0a0-4945-ac2e-ddabfb9ef019",
                                    "1": "SOLAR",
                                    "2": "2170070",
                                    "3": "2170070-1",
                                    "4": "DESIGN",
                                    "5": "0.00000000000",
                                    "6": "7500.00",
                                    "7": "2021-11-16"
                                },
                                {
                                    "0": "9916bf3a-f17a-4a60-bebe-b59484caf707",
                                    "1": "SOLAR",
                                    "2": "2170055",
                                    "3": "2170055-7",
                                    "4": "DESIGN",
                                    "5": "0.00000000000",
                                    "6": "0.00",
                                    "7": "2021-11-10"
                                },
                                {
                                    "0": "095488a3-0da8-4744-bb67-60df4a897c8a",
                                    "1": "SOLAR",
                                    "2": "2170085",
                                    "3": "2170085-7",
                                    "4": "DESIGN",
                                    "5": "6250.00000000000",
                                    "6": "0.00",
                                    "7": "2021-11-05"
                                },
                                {
                                    "0": "a789deeb-372d-43a0-a2e5-6a88bd08bef4",
                                    "1": "SOLAR",
                                    "2": "2170055",
                                    "3": "2170055-12",
                                    "4": "MFG MATERIAL",
                                    "5": "0.00000000000",
                                    "6": "0.00",
                                    "7": "2021-11-03"
                                },
                                {
                                    "0": "210e14fc-99b1-40a7-8b59-2ae4cc576d8e",
                                    "1": "SOLAR",
                                    "2": "2170055",
                                    "3": "2170055-10",
                                    "4": "FREIGHT",
                                    "5": "0.00000000000",
                                    "6": "0.00",
                                    "7": "2021-11-03"
                                },
                                {
                                    "0": "6c5d90ba-ec8a-4c10-84e5-1dd2625d46b6",
                                    "1": "SOLAR",
                                    "2": "2170085",
                                    "3": "2170085-9",
                                    "4": "PURCHASED",
                                    "5": "0.00000000000",
                                    "6": "0.00",
                                    "7": "2021-10-14"
                                },
                                {
                                    "0": "e491e5fd-ed9b-4ff0-b1f9-e5d8407a229e",
                                    "1": "SOLAR",
                                    "2": "2170085",
                                    "3": "2170085-5",
                                    "4": "INSTALLATION",
                                    "5": "0.00000000000",
                                    "6": "0.00",
                                    "7": "2021-10-14"
                                },
                                {
                                    "0": "7ef3c7e0-781d-4147-9ffe-d9cdd7d3c285",
                                    "1": "SOLAR",
                                    "2": "2170085",
                                    "3": "2170085-3",
                                    "4": "PURCHASED",
                                    "5": "0.00000000000",
                                    "6": "0.00",
                                    "7": "2021-10-14"
                                },
                                {
                                    "0": "50e26841-09fc-4c36-82d9-728e73998473",
                                    "1": "SOLAR",
                                    "2": "2170085",
                                    "3": "2170085-11",
                                    "4": "INSTALLATION",
                                    "5": "0.00000000000",
                                    "6": "0.00",
                                    "7": "2021-10-14"
                                },
                                {
                                    "0": "f451727e-772b-43bb-8862-5f5386daf9e0",
                                    "1": "SOLAR",
                                    "2": "2030026",
                                    "3": "2030026-22",
                                    "4": "MFG MATERIAL",
                                    "5": "40000.00000000000",
                                    "6": "0.00",
                                    "7": "2021-09-21"
                                },
                                {
                                    "0": "61d62e5c-c5c4-4069-bba2-28067ef9887b",
                                    "1": "SOLAR",
                                    "2": "2030026",
                                    "3": "2030026-21",
                                    "4": "MFG MATERIAL",
                                    "5": "209669.57000000000",
                                    "6": "0.00",
                                    "7": "2021-09-10"
                                },
                                {
                                    "0": "5ea95171-c562-473d-8eb9-b9f31b09ff61",
                                    "1": "SOLAR",
                                    "2": "1930405",
                                    "3": "1930405-12",
                                    "4": "USE TAX",
                                    "5": "62599.00000000000",
                                    "6": "0.00",
                                    "7": "2021-09-07"
                                },
                                {
                                    "0": "17de26c7-96ce-40e6-903b-8dadd2cdfe16",
                                    "1": "SOLAR",
                                    "2": "2170003",
                                    "3": "2170003-7",
                                    "4": "DESIGN",
                                    "5": "6250.00000000000",
                                    "6": "0.00",
                                    "7": "2021-08-17"
                                },
                                {
                                    "0": "484ecbed-e264-462d-a8eb-ce0b588210c3",
                                    "1": "SOLAR",
                                    "2": "2170007",
                                    "3": "2170007-10",
                                    "4": "FREIGHT",
                                    "5": "31050.00000000000",
                                    "6": "0.00",
                                    "7": "2021-08-15"
                                },
                                {
                                    "0": "febb5d5f-a5b3-4678-9404-3c8b16344e47",
                                    "1": "SOLAR",
                                    "2": "2170007",
                                    "3": "2170007-12",
                                    "4": "DESIGN",
                                    "5": "2500.00000000000",
                                    "6": "0.00",
                                    "7": "2021-08-15"
                                },
                                {
                                    "0": "17751e00-cb5a-4d47-a26d-2e5e36d5935c",
                                    "1": "SOLAR",
                                    "2": "2170007",
                                    "3": "2170007-13",
                                    "4": "MFG MATERIAL",
                                    "5": "110765.00000000000",
                                    "6": "0.00",
                                    "7": "2021-08-15"
                                },
                                {
                                    "0": "d704194a-896f-4adc-99a2-aa4dd7ea89dc",
                                    "1": "SOLAR",
                                    "2": "2170007",
                                    "3": "2170007-14",
                                    "4": "MFG MATERIAL",
                                    "5": "2500.00000000000",
                                    "6": "0.00",
                                    "7": "2021-08-15"
                                },
                                {
                                    "0": "f48a9436-d15b-40be-adc7-b2624da30eb9",
                                    "1": "SOLAR",
                                    "2": "1930405",
                                    "3": "1930405-9",
                                    "4": "PURCHASED",
                                    "5": "0.00000000000",
                                    "6": "0.00",
                                    "7": "2021-07-30"
                                },
                                {
                                    "0": "73fef1e9-1a57-4ba4-b031-1d474c872fea",
                                    "1": "SOLAR",
                                    "2": "2130168",
                                    "3": "2130168-12",
                                    "4": "DESIGN",
                                    "5": "1728.00000000000",
                                    "6": "0.00",
                                    "7": "2021-07-29"
                                },
                                {
                                    "0": "76380021-4ff5-46f7-9950-f3ef889d2c5c",
                                    "1": "SOLAR",
                                    "2": "2130168",
                                    "3": "2130168-7",
                                    "4": "DESIGN",
                                    "5": "7773.00000000000",
                                    "6": "0.00",
                                    "7": "2021-07-29"
                                },
                                {
                                    "0": "eaa8e103-c1b1-438c-9a15-c5f98268f999",
                                    "1": "SOLAR",
                                    "2": "2170070",
                                    "3": "2170070-9",
                                    "4": "PURCHASED",
                                    "5": "0.00000000000",
                                    "6": "0.00",
                                    "7": "2021-07-29"
                                },
                                {
                                    "0": "c0befcb8-cd89-492b-84d2-466a8da41976",
                                    "1": "SOLAR",
                                    "2": "2170070",
                                    "3": "2170070-11",
                                    "4": "INSTALLATION",
                                    "5": "0.00000000000",
                                    "6": "0.00",
                                    "7": "2021-07-29"
                                },
                                {
                                    "0": "f82d2761-d310-443e-84af-781e2a8daa77",
                                    "1": "SOLAR",
                                    "2": "2170070",
                                    "3": "2170070-5",
                                    "4": "INSTALLATION",
                                    "5": "0.00000000000",
                                    "6": "0.00",
                                    "7": "2021-07-29"
                                },
                                {
                                    "0": "3e31bae2-65e5-4666-ad9d-293c10633b0e",
                                    "1": "SOLAR",
                                    "2": "2170070",
                                    "3": "2170070-6",
                                    "4": "USE TAX",
                                    "5": "0.00000000000",
                                    "6": "0.00",
                                    "7": "2021-07-29"
                                },
                                {
                                    "0": "e708c9fe-2c08-47f4-84e1-567290df45d5",
                                    "1": "SOLAR",
                                    "2": "2170070",
                                    "3": "2170070-3",
                                    "4": "PURCHASED",
                                    "5": "0.00000000000",
                                    "6": "0.00",
                                    "7": "2021-07-29"
                                },
                                {
                                    "0": "c2ca17e3-ccfe-4abc-804c-c4f42c3739dc",
                                    "1": "SOLAR",
                                    "2": "2130168",
                                    "3": "2130168-8",
                                    "4": "MFG MATERIAL",
                                    "5": "28427.00000000000",
                                    "6": "0.00",
                                    "7": "2021-07-23"
                                },
                                {
                                    "0": "68263858-f6d0-4398-925a-6f48ffb392a1",
                                    "1": "SOLAR",
                                    "2": "2130168",
                                    "3": "2130168-4",
                                    "4": "FREIGHT",
                                    "5": "0.00000000000",
                                    "6": "9000.00",
                                    "7": "2021-07-23"
                                },
                                {
                                    "0": "1375ca0d-fb63-4738-8d97-9d7535221e72",
                                    "1": "SOLAR",
                                    "2": "2130168",
                                    "3": "2130168-10",
                                    "4": "FREIGHT",
                                    "5": "10350.00000000000",
                                    "6": "0.00",
                                    "7": "2021-07-23"
                                },
                                {
                                    "0": "fb57ce73-0f2a-4ad3-bbe0-df0ac49fe217",
                                    "1": "SOLAR",
                                    "2": "1930405",
                                    "3": "1930405-18",
                                    "4": "INSTALLATION",
                                    "5": "84889.50000000000",
                                    "6": "0.00",
                                    "7": "2021-07-23"
                                },
                                {
                                    "0": "70c2971b-e163-48f6-8a31-28444937bc61",
                                    "1": "SOLAR",
                                    "2": "2030289",
                                    "3": "2030289-15",
                                    "4": "INSTALLATION",
                                    "5": "203361.21000000000",
                                    "6": "0.00",
                                    "7": "2021-07-23"
                                },
                                {
                                    "0": "73f06378-4aff-44a6-91ca-68801d937fd3",
                                    "1": "SOLAR",
                                    "2": "2030289",
                                    "3": "2030289-16",
                                    "4": "MFG MATERIAL",
                                    "5": "79621.00000000000",
                                    "6": "0.00",
                                    "7": "2021-07-23"
                                },
                                {
                                    "0": "a3867d0b-9995-440d-9a4e-566baee18afb",
                                    "1": "SOLAR",
                                    "2": "2030289",
                                    "3": "2030289-17",
                                    "4": "INSTALLATION",
                                    "5": "123740.21000000000",
                                    "6": "0.00",
                                    "7": "2021-07-23"
                                },
                                {
                                    "0": "bce8453f-fbd5-4c5f-bb28-b7a46a948dc5",
                                    "1": "SOLAR",
                                    "2": "2130168",
                                    "3": "2130168-11",
                                    "4": "INSTALLATION",
                                    "5": "0.00000000000",
                                    "6": "0.00",
                                    "7": "2021-07-22"
                                },
                                {
                                    "0": "6f059dce-1c18-4d58-9597-204b0e75cd89",
                                    "1": "SOLAR",
                                    "2": "2130168",
                                    "3": "2130168-5",
                                    "4": "INSTALLATION",
                                    "5": "0.00000000000",
                                    "6": "0.00",
                                    "7": "2021-07-22"
                                },
                                {
                                    "0": "f48ecb95-9a21-4625-855f-a17da2834e45",
                                    "1": "SOLAR",
                                    "2": "2130168",
                                    "3": "2130168-6",
                                    "4": "USE TAX",
                                    "5": "0.00000000000",
                                    "6": "0.00",
                                    "7": "2021-07-22"
                                },
                                {
                                    "0": "f9728893-8de7-44a3-b1ab-a0fc4d9f7524",
                                    "1": "SOLAR",
                                    "2": "2130168",
                                    "3": "2130168-9",
                                    "4": "PURCHASED",
                                    "5": "0.00000000000",
                                    "6": "0.00",
                                    "7": "2021-07-22"
                                },
                                {
                                    "0": "415d7cf7-8c34-4b24-80ff-134a624a7e27",
                                    "1": "SOLAR",
                                    "2": "2130168",
                                    "3": "2130168-3",
                                    "4": "PURCHASED",
                                    "5": "0.00000000000",
                                    "6": "0.00",
                                    "7": "2021-07-22"
                                },
                                {
                                    "0": "01ea2e22-a6dc-4a9e-b40d-433f758adfb6",
                                    "1": "SOLAR",
                                    "2": "2170055",
                                    "3": "2170055-8",
                                    "4": "MFG MATERIAL",
                                    "5": "0.00000000000",
                                    "6": "0.00",
                                    "7": "2021-07-20"
                                },
                                {
                                    "0": "d0242085-2950-45db-be22-777e72447239",
                                    "1": "SOLAR",
                                    "2": "2170007",
                                    "3": "2170007-8",
                                    "4": "MFG MATERIAL",
                                    "5": "64485.00000000000",
                                    "6": "0.00",
                                    "7": "2021-06-30"
                                },
                                {
                                    "0": "80fb5aba-7776-47f9-b156-fad13b4dc800",
                                    "1": "SOLAR",
                                    "2": "2030289",
                                    "3": "2030289-4",
                                    "4": "FREIGHT",
                                    "5": "0.00000000000",
                                    "6": "192145.00",
                                    "7": "2021-06-22"
                                },
                                {
                                    "0": "1619010e-ace8-47d3-8781-5eeb740a4659",
                                    "1": "SOLAR",
                                    "2": "2030289",
                                    "3": "2030289-5",
                                    "4": "INSTALLATION",
                                    "5": "0.00000000000",
                                    "6": "1335764.00",
                                    "7": "2021-06-22"
                                },
                                {
                                    "0": "126b00ae-8dcf-4b3e-80dd-f75e939d88a5",
                                    "1": "SOLAR",
                                    "2": "1930405",
                                    "3": "1930405-17",
                                    "4": "INSTALLATION",
                                    "5": "42830.10000000000",
                                    "6": "0.00",
                                    "7": "2021-06-15"
                                },
                                {
                                    "0": "137ef563-b09b-49f9-b120-29b527ce0859",
                                    "1": "SOLAR",
                                    "2": "2130102",
                                    "3": "2130102-7",
                                    "4": "DESIGN",
                                    "5": "6809.10000000000",
                                    "6": "0.00",
                                    "7": "2021-05-25"
                                },
                                {
                                    "0": "c00a970a-97d9-44a4-9e15-f847aea0762a",
                                    "1": "SOLAR",
                                    "2": "2030289",
                                    "3": "2030289-14",
                                    "4": "MFG MATERIAL",
                                    "5": "29095.61000000000",
                                    "6": "0.00",
                                    "7": "2021-05-11"
                                },
                                {
                                    "0": "3e06ea57-9dc7-4e07-ad1b-eb33b7cf7c69",
                                    "1": "SOLAR",
                                    "2": "2130102",
                                    "3": "2130102-3",
                                    "4": "PURCHASED",
                                    "5": "0.00000000000",
                                    "6": "0.00",
                                    "7": "2021-05-04"
                                },
                                {
                                    "0": "1f5e61ce-e190-438e-8729-56c80f169af0",
                                    "1": "SOLAR",
                                    "2": "2130102",
                                    "3": "2130102-6",
                                    "4": "USE TAX",
                                    "5": "0.00000000000",
                                    "6": "0.00",
                                    "7": "2021-05-04"
                                },
                                {
                                    "0": "0118f144-b923-4f7d-bb53-fa481e1b4a84",
                                    "1": "SOLAR",
                                    "2": "2130102",
                                    "3": "2130102-11",
                                    "4": "INSTALLATION",
                                    "5": "0.00000000000",
                                    "6": "0.00",
                                    "7": "2021-05-04"
                                },
                                {
                                    "0": "7726b79a-501a-45a7-b720-abbde7a786d0",
                                    "1": "SOLAR",
                                    "2": "2130102",
                                    "3": "2130102-9",
                                    "4": "PURCHASED",
                                    "5": "0.00000000000",
                                    "6": "0.00",
                                    "7": "2021-05-04"
                                },
                                {
                                    "0": "d1443e8c-2d71-4d52-b844-3e1452bbdf91",
                                    "1": "SOLAR",
                                    "2": "2170055",
                                    "3": "2170055-1",
                                    "4": "DESIGN",
                                    "5": "0.00000000000",
                                    "6": "4500.00",
                                    "7": "2021-04-30"
                                },
                                {
                                    "0": "3c5b9160-a1dc-47a6-9c45-305bee1402d8",
                                    "1": "SOLAR",
                                    "2": "1930405",
                                    "3": "1930405-16",
                                    "4": "INSTALLATION",
                                    "5": "22479.91000000000",
                                    "6": "0.00",
                                    "7": "2021-04-29"
                                },
                                {
                                    "0": "bdcc66b2-2eff-40cd-b05d-0b0104488a71",
                                    "1": "SOLAR",
                                    "2": "2030026",
                                    "3": "2030026-1",
                                    "4": "DESIGN",
                                    "5": "0.00000000000",
                                    "6": "10229.00",
                                    "7": "2021-04-29"
                                },
                                {
                                    "0": "d6a00605-09c4-4196-9150-c83bd1c33497",
                                    "1": "SOLAR",
                                    "2": "2030026",
                                    "3": "2030026-2",
                                    "4": "MFG MATERIAL",
                                    "5": "0.00000000000",
                                    "6": "8445921.00",
                                    "7": "2021-04-29"
                                },
                                {
                                    "0": "354196ce-01e0-4040-839e-8672f5228f58",
                                    "1": "SOLAR",
                                    "2": "2170055",
                                    "3": "2170055-3",
                                    "4": "PURCHASED",
                                    "5": "0.00000000000",
                                    "6": "0.00",
                                    "7": "2021-04-23"
                                },
                                {
                                    "0": "cda108ef-4258-4d73-8a30-73428aa44f61",
                                    "1": "SOLAR",
                                    "2": "2170055",
                                    "3": "2170055-9",
                                    "4": "PURCHASED",
                                    "5": "0.00000000000",
                                    "6": "0.00",
                                    "7": "2021-04-23"
                                },
                                {
                                    "0": "afc9dc27-c779-4fea-99cf-cc9db0488342",
                                    "1": "SOLAR",
                                    "2": "2170055",
                                    "3": "2170055-5",
                                    "4": "INSTALLATION",
                                    "5": "0.00000000000",
                                    "6": "0.00",
                                    "7": "2021-04-23"
                                },
                                {
                                    "0": "47f1e64f-7128-4ab4-b92c-0d8f209abd34",
                                    "1": "SOLAR",
                                    "2": "2170055",
                                    "3": "2170055-6",
                                    "4": "USE TAX",
                                    "5": "0.00000000000",
                                    "6": "0.00",
                                    "7": "2021-04-23"
                                },
                                {
                                    "0": "bcf5f206-f204-43f4-9c18-4b45e4be75be",
                                    "1": "SOLAR",
                                    "2": "2170055",
                                    "3": "2170055-11",
                                    "4": "INSTALLATION",
                                    "5": "0.00000000000",
                                    "6": "0.00",
                                    "7": "2021-04-23"
                                },
                                {
                                    "0": "9402ca8e-8c30-4b76-9346-0e8d8c77cb11",
                                    "1": "SOLAR",
                                    "2": "2170007",
                                    "3": "2170007-6",
                                    "4": "USE TAX",
                                    "5": "0.00000000000",
                                    "6": "0.00",
                                    "7": "2021-04-07"
                                },
                                {
                                    "0": "d3871e50-4ac4-4f66-b519-4a7d97d1799f",
                                    "1": "SOLAR",
                                    "2": "2030289",
                                    "3": "2030289-1",
                                    "4": "DESIGN",
                                    "5": "0.00000000000",
                                    "6": "8482.00",
                                    "7": "2021-03-25"
                                },
                                {
                                    "0": "81c5311e-5bc6-413e-80c6-d9647f448e96",
                                    "1": "SOLAR",
                                    "2": "1930405",
                                    "3": "1930405-15",
                                    "4": "INSTALLATION",
                                    "5": "73862.57000000000",
                                    "6": "0.00",
                                    "7": "2021-03-22"
                                },
                                {
                                    "0": "5d577626-e03a-4656-bd98-74243487fd49",
                                    "1": "SOLAR",
                                    "2": "2030026",
                                    "3": "2030026-20",
                                    "4": "MFG MATERIAL",
                                    "5": "1509663.73000000000",
                                    "6": "0.00",
                                    "7": "2021-03-21"
                                },
                                {
                                    "0": "4ca7b137-e7ba-4fca-a47d-435426f21e92",
                                    "1": "SOLAR",
                                    "2": "2030026",
                                    "3": "2030026-17",
                                    "4": "MFG MATERIAL",
                                    "5": "1231156.94000000000",
                                    "6": "0.00",
                                    "7": "2021-03-21"
                                },
                                {
                                    "0": "d16096dc-cc5d-4430-9b72-b4a945ee681c",
                                    "1": "SOLAR",
                                    "2": "2030026",
                                    "3": "2030026-18",
                                    "4": "MFG MATERIAL",
                                    "5": "158054.00000000000",
                                    "6": "0.00",
                                    "7": "2021-03-21"
                                },
                                {
                                    "0": "5e3260d4-375a-4910-84db-32c110b00bcf",
                                    "1": "SOLAR",
                                    "2": "2170007",
                                    "3": "2170007-7",
                                    "4": "DESIGN",
                                    "5": "2500.00000000000",
                                    "6": "0.00",
                                    "7": "2021-03-06"
                                },
                                {
                                    "0": "70f6c8d1-257f-4cc0-bdef-07ea1525b9bb",
                                    "1": "SOLAR",
                                    "2": "1930405",
                                    "3": "1930405-10",
                                    "4": "FREIGHT",
                                    "5": "127075.00000000000",
                                    "6": "0.00",
                                    "7": "2021-02-26"
                                },
                                {
                                    "0": "739a658e-cf0b-4e49-acba-9b86643ef707",
                                    "1": "SOLAR",
                                    "2": "1930405",
                                    "3": "1930405-11",
                                    "4": "INSTALLATION",
                                    "5": "194066.60000000000",
                                    "6": "0.00",
                                    "7": "2021-02-26"
                                },
                                {
                                    "0": "fcb2dc4f-9fb5-45e9-83e9-d2657a30a0af",
                                    "1": "SOLAR",
                                    "2": "1930405",
                                    "3": "1930405-13",
                                    "4": "MFG MATERIAL",
                                    "5": "21156.80000000000",
                                    "6": "0.00",
                                    "7": "2021-02-26"
                                },
                                {
                                    "0": "6716ed74-5d01-4533-ac05-a4f25a2bf208",
                                    "1": "SOLAR",
                                    "2": "1930405",
                                    "3": "1930405-14",
                                    "4": "INSTALLATION",
                                    "5": "203642.32000000000",
                                    "6": "0.00",
                                    "7": "2021-02-26"
                                },
                                {
                                    "0": "eec05e46-e4e5-4933-966c-0bac574fbf65",
                                    "1": "SOLAR",
                                    "2": "2030289",
                                    "3": "2030289-13",
                                    "4": "INSTALLATION",
                                    "5": "97992.00000000000",
                                    "6": "0.00",
                                    "7": "2021-02-25"
                                },
                                {
                                    "0": "7a129464-1292-4734-93aa-9e91da7030a0",
                                    "1": "SOLAR",
                                    "2": "2030026",
                                    "3": "2030026-19",
                                    "4": "USE TAX",
                                    "5": "0.00000000000",
                                    "6": "0.00",
                                    "7": "2021-02-18"
                                },
                                {
                                    "0": "6ac75edf-17da-4932-8eaf-57b51b426b3d",
                                    "1": "SOLAR",
                                    "2": "1930405",
                                    "3": "1930405-8",
                                    "4": "MFG MATERIAL",
                                    "5": "642283.20000000000",
                                    "6": "0.00",
                                    "7": "2021-01-15"
                                },
                                {
                                    "0": "1f6ae205-2c64-46c5-8f32-1761233a5ce6",
                                    "1": "SOLAR",
                                    "2": "1930405",
                                    "3": "1930405-6",
                                    "4": "USE TAX",
                                    "5": "0.00000000000",
                                    "6": "62599.00",
                                    "7": "2021-01-06"
                                },
                                {
                                    "0": "199df85e-d743-47e7-a220-271e579870d2",
                                    "1": "SOLAR",
                                    "2": "2030289",
                                    "3": "2030289-12",
                                    "4": "MFG MATERIAL",
                                    "5": "730942.29000000000",
                                    "6": "0.00",
                                    "7": "2020-12-29"
                                },
                                {
                                    "0": "47cae951-0217-4658-8171-7e9e227ba8c4",
                                    "1": "SOLAR",
                                    "2": "2030289",
                                    "3": "2030289-10",
                                    "4": "FREIGHT",
                                    "5": "201611.00000000000",
                                    "6": "0.00",
                                    "7": "2020-12-01"
                                },
                                {
                                    "0": "f5685350-f26c-4793-8ffd-a9036fd5d831",
                                    "1": "SOLAR",
                                    "2": "2030289",
                                    "3": "2030289-11",
                                    "4": "INSTALLATION",
                                    "5": "224363.05000000000",
                                    "6": "0.00",
                                    "7": "2020-12-01"
                                },
                                {
                                    "0": "7cc8cdf3-1900-4c46-a83e-b28a96877a36",
                                    "1": "SOLAR",
                                    "2": "1930405",
                                    "3": "1930405-7",
                                    "4": "DESIGN",
                                    "5": "12500.00000000000",
                                    "6": "0.00",
                                    "7": "2020-11-30"
                                },
                                {
                                    "0": "044698df-aff9-4ee1-a2ba-46eb77b4be6c",
                                    "1": "SOLAR",
                                    "2": "2030026",
                                    "3": "2030026-15",
                                    "4": "MFG MATERIAL",
                                    "5": "2084647.16000000000",
                                    "6": "0.00",
                                    "7": "2020-10-28"
                                },
                                {
                                    "0": "9b58dc19-76d9-4873-a6c9-76e0a126ea8d",
                                    "1": "SOLAR",
                                    "2": "2030026",
                                    "3": "2030026-16",
                                    "4": "MFG MATERIAL",
                                    "5": "1272954.00000000000",
                                    "6": "0.00",
                                    "7": "2020-10-28"
                                },
                                {
                                    "0": "585b7c1d-f9b0-4dea-8031-8f91ad6823e1",
                                    "1": "SOLAR",
                                    "2": "2030289",
                                    "3": "2030289-7",
                                    "4": "DESIGN",
                                    "5": "20000.00000000000",
                                    "6": "0.00",
                                    "7": "2020-10-13"
                                },
                                {
                                    "0": "d464ddff-3e65-418c-9dba-17f6834cafa3",
                                    "1": "SOLAR",
                                    "2": "2030289",
                                    "3": "2030289-8",
                                    "4": "MFG MATERIAL",
                                    "5": "831948.10000000000",
                                    "6": "0.00",
                                    "7": "2020-10-13"
                                },
                                {
                                    "0": "888ab0a7-9cd7-4c84-9f2b-890527aa5691",
                                    "1": "SOLAR",
                                    "2": "2030026",
                                    "3": "2030026-14",
                                    "4": "MFG MATERIAL",
                                    "5": "1065694.14000000000",
                                    "6": "0.00",
                                    "7": "2020-09-18"
                                },
                                {
                                    "0": "1f435942-3add-4b5c-a1e2-972f90428d6a",
                                    "1": "SOLAR",
                                    "2": "2030026",
                                    "3": "2030026-10",
                                    "4": "FREIGHT",
                                    "5": "1635559.00000000000",
                                    "6": "0.00",
                                    "7": "2020-09-18"
                                },
                                {
                                    "0": "4a40b4b4-31c8-463c-b9d0-e681b334bcaf",
                                    "1": "SOLAR",
                                    "2": "2030026",
                                    "3": "2030026-13",
                                    "4": "MFG MATERIAL",
                                    "5": "2084647.17000000000",
                                    "6": "0.00",
                                    "7": "2020-09-14"
                                },
                                {
                                    "0": "543b487f-9cd2-40a7-bf7d-72eeb76d45cf",
                                    "1": "SOLAR",
                                    "2": "2030289",
                                    "3": "2030289-9",
                                    "4": "PURCHASED",
                                    "5": "0.00000000000",
                                    "6": "0.00",
                                    "7": "2020-08-06"
                                },
                                {
                                    "0": "ceda3d91-14e8-4f46-af44-e3c408a2b40b",
                                    "1": "SOLAR",
                                    "2": "2030289",
                                    "3": "2030289-6",
                                    "4": "USE TAX",
                                    "5": "0.00000000000",
                                    "6": "0.00",
                                    "7": "2020-08-06"
                                },
                                {
                                    "0": "01051699-436c-4c75-9e25-cbf60e523cc7",
                                    "1": "SOLAR",
                                    "2": "2030289",
                                    "3": "2030289-3",
                                    "4": "PURCHASED",
                                    "5": "0.00000000000",
                                    "6": "0.00",
                                    "7": "2020-08-06"
                                },
                                {
                                    "0": "fdde1ff1-91d9-4f45-9132-88a597a12569",
                                    "1": "SOLAR",
                                    "2": "2030026",
                                    "3": "2030026-12",
                                    "4": "MFG MATERIAL",
                                    "5": "449088.17000000000",
                                    "6": "0.00",
                                    "7": "2020-06-16"
                                },
                                {
                                    "0": "08be16c5-517a-46ac-9289-16fbbad39d06",
                                    "1": "SOLAR",
                                    "2": "2030026",
                                    "3": "2030026-7",
                                    "4": "DESIGN",
                                    "5": "20000.00000000000",
                                    "6": "0.00",
                                    "7": "2020-06-16"
                                },
                                {
                                    "0": "0a184b5a-823d-463c-bd9c-de46b845d9c1",
                                    "1": "SOLAR",
                                    "2": "2030026",
                                    "3": "2030026-8",
                                    "4": "MFG MATERIAL",
                                    "5": "1045694.14000000000",
                                    "6": "0.00",
                                    "7": "2020-06-16"
                                },
                                {
                                    "0": "64caeda2-448d-4312-967c-56221727d279",
                                    "1": "SOLAR",
                                    "2": "2030026",
                                    "3": "2030026-9",
                                    "4": "PURCHASED",
                                    "5": "0.00000000000",
                                    "6": "0.00",
                                    "7": "2020-01-16"
                                },
                                {
                                    "0": "a712bf1b-0e15-4c0c-8095-d93b57725e01",
                                    "1": "SOLAR",
                                    "2": "2030026",
                                    "3": "2030026-5",
                                    "4": "INSTALLATION",
                                    "5": "0.00000000000",
                                    "6": "0.00",
                                    "7": "2020-01-16"
                                },
                                {
                                    "0": "a72ae06a-03c0-4376-a689-a86b0e7f26b1",
                                    "1": "SOLAR",
                                    "2": "2030026",
                                    "3": "2030026-6",
                                    "4": "USE TAX",
                                    "5": "0.00000000000",
                                    "6": "0.00",
                                    "7": "2020-01-16"
                                },
                                {
                                    "0": "3f63b24c-7218-48ed-b216-f5c2efe00c59",
                                    "1": "SOLAR",
                                    "2": "2030026",
                                    "3": "2030026-11",
                                    "4": "INSTALLATION",
                                    "5": "0.00000000000",
                                    "6": "0.00",
                                    "7": "2020-01-16"
                                },
                                {
                                    "0": "b7f64405-d4da-419a-becf-7ccd29e9a121",
                                    "1": "SOLAR",
                                    "2": "2030026",
                                    "3": "2030026-3",
                                    "4": "PURCHASED",
                                    "5": "0.00000000000",
                                    "6": "0.00",
                                    "7": "2020-01-16"
                                }
                            ]
                        },
                        "text/html": "<table><tr><th>SysRowID</th><th>Company</th><th>OrderNum</th><th>OrderNumLine</th><th>PartNum</th><th>SellPrice</th><th>EstUnitCost_c</th><th>ChangeDate</th></tr><tr><td>e1c81fe5-9392-4edf-b230-b0c9860b9702</td><td>SOLAR</td><td>2174037</td><td>2174037-2</td><td>MFG MATERIAL</td><td>0.00000000000</td><td>491949.00</td><td>2022-07-31</td></tr><tr><td>4a8c70c8-6db2-43b6-bee2-77050fc3c571</td><td>SOLAR</td><td>2170007</td><td>2170007-1</td><td>DESIGN</td><td>0.00000000000</td><td>4900.00</td><td>2022-07-27</td></tr><tr><td>ed528d19-2832-4d06-99d2-5c4b3ddd8c9f</td><td>SOLAR</td><td>2170007</td><td>2170007-2</td><td>MFG MATERIAL</td><td>0.00000000000</td><td>303833.00</td><td>2022-07-27</td></tr><tr><td>de26a81b-8164-42fb-9ec9-148a71f888f6</td><td>SOLAR</td><td>2170007</td><td>2170007-3</td><td>PURCHASED</td><td>0.00000000000</td><td>0.00</td><td>2022-07-27</td></tr><tr><td>51770a5f-e665-4e73-b0a1-5310e3febbef</td><td>SOLAR</td><td>2170007</td><td>2170007-4</td><td>FREIGHT</td><td>0.00000000000</td><td>41134.00</td><td>2022-07-27</td></tr><tr><td>09ed40d3-ab3e-4964-83e0-3ab8f02cb9d8</td><td>SOLAR</td><td>2170007</td><td>2170007-5</td><td>INSTALLATION</td><td>0.00000000000</td><td>1871.00</td><td>2022-07-27</td></tr><tr><td>b0c74794-fb98-481d-8a1e-21eaa3dc406b</td><td>SOLAR</td><td>2170007</td><td>2170007-11</td><td>INSTALLATION</td><td>0.00000000000</td><td>0.00</td><td>2022-07-27</td></tr><tr><td>ba2d2aae-6750-49eb-9c28-c734053ae6a1</td><td>SOLAR</td><td>2170007</td><td>2170007-9</td><td>PURCHASED</td><td>0.00000000000</td><td>0.00</td><td>2022-07-27</td></tr><tr><td>1492feb7-b7fd-4a34-8095-bd715bd91793</td><td>SOLAR</td><td>2170055</td><td>2170055-4</td><td>FREIGHT</td><td>0.00000000000</td><td>8681.50</td><td>2022-07-22</td></tr><tr><td>d5a81380-f272-42f5-9038-b21097edae1e</td><td>SOLAR</td><td>2174037</td><td>2174037-14</td><td>MFG MATERIAL</td><td>221225.00000000000</td><td>0.00</td><td>2022-07-22</td></tr><tr><td>7381769e-ac21-4d6a-b428-379c64fd476a</td><td>SOLAR</td><td>2174037</td><td>2174037-16</td><td>MFG MATERIAL</td><td>225435.00000000000</td><td>0.00</td><td>2022-07-22</td></tr><tr><td>bcb16893-cbdf-4a11-91c5-c9550475a803</td><td>SOLAR</td><td>2130102</td><td>2130102-13</td><td>MFG MATERIAL</td><td>14892.00000000000</td><td>0.00</td><td>2022-07-21</td></tr><tr><td>6de980a7-7013-4c05-a493-3adf926863e2</td><td>SOLAR</td><td>2130102</td><td>2130102-2</td><td>MFG MATERIAL</td><td>0.00000000000</td><td>90708.00</td><td>2022-07-20</td></tr><tr><td>91e35044-213f-421f-a471-47144f58a09a</td><td>SOLAR</td><td>2130102</td><td>2130102-4</td><td>FREIGHT</td><td>0.00000000000</td><td>11157.00</td><td>2022-07-20</td></tr><tr><td>f9f5a0f5-5f78-498a-9ffb-e3626480b277</td><td>SOLAR</td><td>2170070</td><td>2170070-15</td><td>MFG MATERIAL</td><td>566072.11000000000</td><td>0.00</td><td>2022-07-14</td></tr><tr><td>624571ca-c637-4528-ace1-54ebae497733</td><td>SOLAR</td><td>2170070</td><td>2170070-13</td><td>MFG MATERIAL</td><td>502827.82000000000</td><td>0.00</td><td>2022-07-14</td></tr><tr><td>00b4c797-cfb6-413a-89ae-7f6153213afc</td><td>SOLAR</td><td>2174037</td><td>2174037-1</td><td>DESIGN</td><td>0.00000000000</td><td>15488.00</td><td>2022-06-30</td></tr><tr><td>94aa27ac-5bde-4c04-8530-9ff2241461da</td><td>SOLAR</td><td>2170070</td><td>2170070-14</td><td>FREIGHT</td><td>87602.70000000000</td><td>0.00</td><td>2022-06-29</td></tr><tr><td>b6c92d0c-c35d-419c-b953-328796b8705e</td><td>SOLAR</td><td>2170070</td><td>2170070-10</td><td>FREIGHT</td><td>215497.30000000000</td><td>0.00</td><td>2022-06-29</td></tr><tr><td>90153ecb-013b-4850-90f9-70d20697ee70</td><td>SOLAR</td><td>2130102</td><td>2130102-5</td><td>INSTALLATION</td><td>0.00000000000</td><td>1202.00</td><td>2022-06-29</td></tr><tr><td>d533a390-ee82-4a25-9cb4-00c3931a256f</td><td>SOLAR</td><td>2030289</td><td>2030289-22</td><td>INSTALLATION</td><td>839095.47000000000</td><td>0.00</td><td>2022-06-29</td></tr><tr><td>72b101aa-eec4-41b4-ad22-ccb96434fa61</td><td>SOLAR</td><td>2030289</td><td>2030289-20</td><td>INSTALLATION</td><td>72634.83000000000</td><td>0.00</td><td>2022-06-29</td></tr><tr><td>6220117b-b3f1-4c51-a1a2-1ab4e12da797</td><td>SOLAR</td><td>2130102</td><td>2130102-8</td><td>MFG MATERIAL</td><td>113226.00000000000</td><td>0.00</td><td>2022-06-28</td></tr><tr><td>2c318584-4b67-4940-9701-a8f575fef574</td><td>SOLAR</td><td>2130102</td><td>2130102-10</td><td>FREIGHT</td><td>13455.00000000000</td><td>0.00</td><td>2022-06-28</td></tr><tr><td>dce6a872-db1b-4f08-bcee-0dff487e5bfc</td><td>SOLAR</td><td>2130102</td><td>2130102-12</td><td>DESIGN</td><td>2691.90000000000</td><td>0.00</td><td>2022-06-28</td></tr><tr><td>d9ff0932-7a16-42ff-a4c5-4f6653205a6f</td><td>SOLAR</td><td>2170070</td><td>2170070-2</td><td>MFG MATERIAL</td><td>0.00000000000</td><td>684174.66</td><td>2022-06-27</td></tr><tr><td>a9398d93-3848-4c75-a936-b3ea49fd1f2a</td><td>SOLAR</td><td>2170070</td><td>2170070-4</td><td>FREIGHT</td><td>0.00000000000</td><td>286860.00</td><td>2022-06-27</td></tr><tr><td>4d125e3e-80d5-4ae4-96b1-71133764e1c4</td><td>SOLAR</td><td>2170070</td><td>2170070-12</td><td>DESIGN</td><td>0.00000000000</td><td>0.00</td><td>2022-06-27</td></tr><tr><td>11c1e22b-d263-424c-a26f-779dd9108f17</td><td>SOLAR</td><td>2030289</td><td>2030289-21</td><td>MFG MATERIAL</td><td>75000.00000000000</td><td>0.00</td><td>2022-06-23</td></tr><tr><td>e27a7b32-76d0-4150-aa2e-cc880a2bcb33</td><td>SOLAR</td><td>2030289</td><td>2030289-2</td><td>MFG MATERIAL</td><td>0.00000000000</td><td>1722960.00</td><td>2022-06-23</td></tr><tr><td>3841065c-5742-47a3-b0bd-3f2adb022352</td><td>SOLAR</td><td>2130102</td><td>2130102-1</td><td>DESIGN</td><td>0.00000000000</td><td>1894.00</td><td>2022-06-22</td></tr><tr><td>687bbb6c-8bee-4104-b015-01f6fc3b4258</td><td>SOLAR</td><td>2130168</td><td>2130168-1</td><td>DESIGN</td><td>0.00000000000</td><td>941.00</td><td>2022-06-22</td></tr><tr><td>b3c6c5e9-c7e5-4992-a11f-3af0a84a80bf</td><td>SOLAR</td><td>2130168</td><td>2130168-2</td><td>MFG MATERIAL</td><td>0.00000000000</td><td>15836.00</td><td>2022-06-22</td></tr><tr><td>518586a4-07b3-40c0-9683-0b78324e4074</td><td>SOLAR</td><td>2030026</td><td>2030026-25</td><td>MFG MATERIAL</td><td>251968.43000000000</td><td>0.00</td><td>2022-06-17</td></tr><tr><td>dd48ab29-0426-4804-bc6d-e81a1600b0c5</td><td>SOLAR</td><td>2030026</td><td>2030026-23</td><td>MFG MATERIAL</td><td>83997.86000000000</td><td>0.00</td><td>2022-06-09</td></tr><tr><td>3796bdf5-444e-4043-a5b3-a435e664ae78</td><td>SOLAR</td><td>2030026</td><td>2030026-24</td><td>MFG MATERIAL</td><td>0.00000000000</td><td>0.00</td><td>2022-06-09</td></tr><tr><td>92c02b0d-86b5-4f40-b1ed-cdf485110dc6</td><td>SOLAR</td><td>1930405</td><td>1930405-1</td><td>DESIGN</td><td>0.00000000000</td><td>2531.00</td><td>2022-06-08</td></tr><tr><td>41764183-2800-48a8-8e1a-5533b893e557</td><td>SOLAR</td><td>1930405</td><td>1930405-2</td><td>MFG MATERIAL</td><td>0.00000000000</td><td>425697.00</td><td>2022-06-08</td></tr><tr><td>387981c4-6a1d-493f-bb9d-18d8663db70a</td><td>SOLAR</td><td>1930405</td><td>1930405-3</td><td>PURCHASED</td><td>0.00000000000</td><td>0.00</td><td>2022-06-08</td></tr><tr><td>66df79ef-f09e-4589-bf3c-2c428f742005</td><td>SOLAR</td><td>1930405</td><td>1930405-4</td><td>FREIGHT</td><td>0.00000000000</td><td>88920.00</td><td>2022-06-08</td></tr><tr><td>dde84f27-d2a4-4ddf-b7b7-f102120c9895</td><td>SOLAR</td><td>1930405</td><td>1930405-5</td><td>INSTALLATION</td><td>0.00000000000</td><td>625000.00</td><td>2022-06-08</td></tr><tr><td>37a9076b-68b1-46ba-9f84-7852b1dc5f10</td><td>SOLAR</td><td>2170085</td><td>2170085-8</td><td>MFG MATERIAL</td><td>11145.00000000000</td><td>0.00</td><td>2022-05-31</td></tr><tr><td>2b109089-b925-4f5a-a337-2bf6f0455c0a</td><td>SOLAR</td><td>2170085</td><td>2170085-10</td><td>FREIGHT</td><td>6400.00000000000</td><td>0.00</td><td>2022-05-31</td></tr><tr><td>003c329b-1a99-495c-ae82-02a1d2d3f19d</td><td>SOLAR</td><td>2170085</td><td>2170085-13</td><td>MFG MATERIAL</td><td>30750.00000000000</td><td>0.00</td><td>2022-05-31</td></tr><tr><td>62029b99-5f3b-48f0-862b-ce36ec1ce5aa</td><td>SOLAR</td><td>2170085</td><td>2170085-14</td><td>MFG MATERIAL</td><td>26005.00000000000</td><td>0.00</td><td>2022-05-31</td></tr><tr><td>3451a990-d26a-4f21-992e-3150c5591a10</td><td>SOLAR</td><td>2174037</td><td>2174037-13</td><td>FREIGHT</td><td>22560.00000000000</td><td>0.00</td><td>2022-05-31</td></tr><tr><td>634314b2-39d6-4d71-a267-af03d1602970</td><td>SOLAR</td><td>2174037</td><td>2174037-15</td><td>FREIGHT</td><td>440.00000000000</td><td>0.00</td><td>2022-05-31</td></tr><tr><td>88ab2924-19e2-4194-af3b-59b362bbd0f6</td><td>SOLAR</td><td>2170085</td><td>2170085-4</td><td>FREIGHT</td><td>0.00000000000</td><td>5482.50</td><td>2022-05-27</td></tr><tr><td>d9630735-4f42-4dc9-862c-fe49fde7d93d</td><td>SOLAR</td><td>2170085</td><td>2170085-1</td><td>DESIGN</td><td>0.00000000000</td><td>4500.00</td><td>2022-05-27</td></tr><tr><td>8b4ae560-2ffb-4397-86b4-e54ba9005522</td><td>SOLAR</td><td>2170085</td><td>2170085-2</td><td>MFG MATERIAL</td><td>0.00000000000</td><td>37920.50</td><td>2022-05-27</td></tr><tr><td>c564df92-d226-4df5-8035-ac31046079ea</td><td>SOLAR</td><td>2170085</td><td>2170085-6</td><td>USE TAX</td><td>0.00000000000</td><td>0.00</td><td>2022-05-24</td></tr><tr><td>ee003e7d-2eaa-4125-a61b-dd6bbb9902b7</td><td>SOLAR</td><td>2170085</td><td>2170085-12</td><td>DESIGN</td><td>6250.00000000000</td><td>0.00</td><td>2022-05-18</td></tr><tr><td>54ff9dd5-b4db-4006-a596-310be45511ff</td><td>SOLAR</td><td>2030289</td><td>2030289-19</td><td>INSTALLATION</td><td>136089.00000000000</td><td>0.00</td><td>2022-04-28</td></tr><tr><td>1846ab6a-e036-47fe-8a8f-0eb647efacaf</td><td>SOLAR</td><td>2170007</td><td>2170007-16</td><td>MFG MATERIAL</td><td>98887.40000000000</td><td>0.00</td><td>2022-03-30</td></tr><tr><td>fcc8caec-0729-409c-a56a-14f82d09fb5c</td><td>SOLAR</td><td>2030289</td><td>2030289-18</td><td>INSTALLATION</td><td>309037.68000000000</td><td>0.00</td><td>2022-03-18</td></tr><tr><td>c6e5e95f-0536-4402-9fcc-997fa695f1a8</td><td>SOLAR</td><td>2170070</td><td>2170070-7</td><td>DESIGN</td><td>12500.00000000000</td><td>0.00</td><td>2022-03-14</td></tr><tr><td>3e551ac7-6253-442a-8271-f7fa1e701df2</td><td>SOLAR</td><td>2174037</td><td>2174037-12</td><td>MFG MATERIAL</td><td>305305.00000000000</td><td>0.00</td><td>2022-03-03</td></tr><tr><td>753b6758-d084-4eff-89ad-fba690c53835</td><td>SOLAR</td><td>2174037</td><td>2174037-10</td><td>FREIGHT</td><td>25000.00000000000</td><td>0.00</td><td>2022-02-22</td></tr><tr><td>5678e0e7-e455-4e6c-8ed7-daa017165455</td><td>SOLAR</td><td>2174037</td><td>2174037-7</td><td>DESIGN</td><td>25000.00000000000</td><td>0.00</td><td>2022-02-15</td></tr><tr><td>d5a55346-a95e-43be-9ebf-605725342cca</td><td>SOLAR</td><td>2174037</td><td>2174037-8</td><td>MFG MATERIAL</td><td>105845.00000000000</td><td>0.00</td><td>2022-02-15</td></tr><tr><td>37c1cffa-8764-4e78-bfdf-d59901eade90</td><td>SOLAR</td><td>2174037</td><td>2174037-4</td><td>FREIGHT</td><td>0.00000000000</td><td>41470.00</td><td>2022-02-09</td></tr><tr><td>5bba4147-079f-4736-ba79-f34800667dba</td><td>SOLAR</td><td>2170007</td><td>2170007-15</td><td>MFG MATERIAL</td><td>104400.00000000000</td><td>0.00</td><td>2022-02-07</td></tr><tr><td>b2bd7bf9-7545-4c6c-acc5-57731ac015b9</td><td>SOLAR</td><td>2170003</td><td>2170003-8</td><td>MFG MATERIAL</td><td>0.00000000000</td><td>0.00</td><td>2022-01-31</td></tr><tr><td>916917e6-e010-480b-90c4-57deb72f9ae4</td><td>SOLAR</td><td>2170003</td><td>2170003-9</td><td>PURCHASED</td><td>0.00000000000</td><td>0.00</td><td>2022-01-31</td></tr><tr><td>9c35f766-e6d6-4c3f-ae8e-bdb4453c79ea</td><td>SOLAR</td><td>2170003</td><td>2170003-10</td><td>FREIGHT</td><td>0.00000000000</td><td>0.00</td><td>2022-01-31</td></tr><tr><td>967cf670-335a-4efe-a0c4-e4ebd32151e6</td><td>SOLAR</td><td>2170003</td><td>2170003-11</td><td>INSTALLATION</td><td>0.00000000000</td><td>0.00</td><td>2022-01-31</td></tr><tr><td>a990ec6d-2a96-4b5a-9103-c4f6b55a5e37</td><td>SOLAR</td><td>2170003</td><td>2170003-1</td><td>DESIGN</td><td>0.00000000000</td><td>2956.00</td><td>2022-01-31</td></tr><tr><td>1d999db1-cce8-47c4-8ef6-2ae992bb7759</td><td>SOLAR</td><td>2170003</td><td>2170003-2</td><td>MFG MATERIAL</td><td>0.00000000000</td><td>0.00</td><td>2022-01-31</td></tr><tr><td>60311d08-9edc-4e23-924b-1ae1b653cc20</td><td>SOLAR</td><td>2170003</td><td>2170003-3</td><td>PURCHASED</td><td>0.00000000000</td><td>0.00</td><td>2022-01-31</td></tr><tr><td>873919af-5356-46c1-853a-6e42bc1d20b1</td><td>SOLAR</td><td>2170003</td><td>2170003-4</td><td>FREIGHT</td><td>0.00000000000</td><td>0.00</td><td>2022-01-31</td></tr><tr><td>3cfc88a1-1638-448c-86c2-d65bd92f921f</td><td>SOLAR</td><td>2170003</td><td>2170003-5</td><td>INSTALLATION</td><td>0.00000000000</td><td>0.00</td><td>2022-01-31</td></tr><tr><td>d5976898-7391-4682-832b-cd05f6429342</td><td>SOLAR</td><td>2170003</td><td>2170003-6</td><td>USE TAX</td><td>0.00000000000</td><td>0.00</td><td>2022-01-31</td></tr><tr><td>a5970653-aa33-4bd7-b1bd-8f8e0df118f4</td><td>SOLAR</td><td>2170055</td><td>2170055-2</td><td>MFG MATERIAL</td><td>0.00000000000</td><td>58414.00</td><td>2022-01-17</td></tr><tr><td>5fda8eba-8203-498e-840b-a93006762bdb</td><td>SOLAR</td><td>2170003</td><td>2170003-12</td><td>DESIGN</td><td>6250.00000000000</td><td>0.00</td><td>2022-01-06</td></tr><tr><td>51de1885-551e-4296-8791-ef595a809416</td><td>SOLAR</td><td>2170070</td><td>2170070-8</td><td>MFG MATERIAL</td><td>3046.67000000000</td><td>0.00</td><td>2021-11-29</td></tr><tr><td>a1b5783c-f0e6-45a8-b7b0-d79e7d3b6f55</td><td>SOLAR</td><td>2030026</td><td>2030026-4</td><td>FREIGHT</td><td>0.00000000000</td><td>1504559.00</td><td>2021-11-24</td></tr><tr><td>10b0ece5-f738-4246-b503-ea80857f1e51</td><td>SOLAR</td><td>2174037</td><td>2174037-5</td><td>INSTALLATION</td><td>0.00000000000</td><td>0.00</td><td>2021-11-23</td></tr><tr><td>e268a5e2-34b6-4a27-9af7-78606427482a</td><td>SOLAR</td><td>2174037</td><td>2174037-6</td><td>USE TAX</td><td>0.00000000000</td><td>0.00</td><td>2021-11-23</td></tr><tr><td>4bf2a236-042a-4541-a9cc-d8023b8a31d7</td><td>SOLAR</td><td>2174037</td><td>2174037-9</td><td>PURCHASED</td><td>0.00000000000</td><td>0.00</td><td>2021-11-23</td></tr><tr><td>d528c5ee-8894-4d92-b823-038a88855f78</td><td>SOLAR</td><td>2174037</td><td>2174037-11</td><td>INSTALLATION</td><td>0.00000000000</td><td>0.00</td><td>2021-11-23</td></tr><tr><td>0d303475-d1a3-4611-86ce-095b108316c4</td><td>SOLAR</td><td>2174037</td><td>2174037-3</td><td>PURCHASED</td><td>0.00000000000</td><td>0.00</td><td>2021-11-23</td></tr><tr><td>a17e4534-f0a0-4945-ac2e-ddabfb9ef019</td><td>SOLAR</td><td>2170070</td><td>2170070-1</td><td>DESIGN</td><td>0.00000000000</td><td>7500.00</td><td>2021-11-16</td></tr><tr><td>9916bf3a-f17a-4a60-bebe-b59484caf707</td><td>SOLAR</td><td>2170055</td><td>2170055-7</td><td>DESIGN</td><td>0.00000000000</td><td>0.00</td><td>2021-11-10</td></tr><tr><td>095488a3-0da8-4744-bb67-60df4a897c8a</td><td>SOLAR</td><td>2170085</td><td>2170085-7</td><td>DESIGN</td><td>6250.00000000000</td><td>0.00</td><td>2021-11-05</td></tr><tr><td>a789deeb-372d-43a0-a2e5-6a88bd08bef4</td><td>SOLAR</td><td>2170055</td><td>2170055-12</td><td>MFG MATERIAL</td><td>0.00000000000</td><td>0.00</td><td>2021-11-03</td></tr><tr><td>210e14fc-99b1-40a7-8b59-2ae4cc576d8e</td><td>SOLAR</td><td>2170055</td><td>2170055-10</td><td>FREIGHT</td><td>0.00000000000</td><td>0.00</td><td>2021-11-03</td></tr><tr><td>6c5d90ba-ec8a-4c10-84e5-1dd2625d46b6</td><td>SOLAR</td><td>2170085</td><td>2170085-9</td><td>PURCHASED</td><td>0.00000000000</td><td>0.00</td><td>2021-10-14</td></tr><tr><td>e491e5fd-ed9b-4ff0-b1f9-e5d8407a229e</td><td>SOLAR</td><td>2170085</td><td>2170085-5</td><td>INSTALLATION</td><td>0.00000000000</td><td>0.00</td><td>2021-10-14</td></tr><tr><td>7ef3c7e0-781d-4147-9ffe-d9cdd7d3c285</td><td>SOLAR</td><td>2170085</td><td>2170085-3</td><td>PURCHASED</td><td>0.00000000000</td><td>0.00</td><td>2021-10-14</td></tr><tr><td>50e26841-09fc-4c36-82d9-728e73998473</td><td>SOLAR</td><td>2170085</td><td>2170085-11</td><td>INSTALLATION</td><td>0.00000000000</td><td>0.00</td><td>2021-10-14</td></tr><tr><td>f451727e-772b-43bb-8862-5f5386daf9e0</td><td>SOLAR</td><td>2030026</td><td>2030026-22</td><td>MFG MATERIAL</td><td>40000.00000000000</td><td>0.00</td><td>2021-09-21</td></tr><tr><td>61d62e5c-c5c4-4069-bba2-28067ef9887b</td><td>SOLAR</td><td>2030026</td><td>2030026-21</td><td>MFG MATERIAL</td><td>209669.57000000000</td><td>0.00</td><td>2021-09-10</td></tr><tr><td>5ea95171-c562-473d-8eb9-b9f31b09ff61</td><td>SOLAR</td><td>1930405</td><td>1930405-12</td><td>USE TAX</td><td>62599.00000000000</td><td>0.00</td><td>2021-09-07</td></tr><tr><td>17de26c7-96ce-40e6-903b-8dadd2cdfe16</td><td>SOLAR</td><td>2170003</td><td>2170003-7</td><td>DESIGN</td><td>6250.00000000000</td><td>0.00</td><td>2021-08-17</td></tr><tr><td>484ecbed-e264-462d-a8eb-ce0b588210c3</td><td>SOLAR</td><td>2170007</td><td>2170007-10</td><td>FREIGHT</td><td>31050.00000000000</td><td>0.00</td><td>2021-08-15</td></tr><tr><td>febb5d5f-a5b3-4678-9404-3c8b16344e47</td><td>SOLAR</td><td>2170007</td><td>2170007-12</td><td>DESIGN</td><td>2500.00000000000</td><td>0.00</td><td>2021-08-15</td></tr><tr><td>17751e00-cb5a-4d47-a26d-2e5e36d5935c</td><td>SOLAR</td><td>2170007</td><td>2170007-13</td><td>MFG MATERIAL</td><td>110765.00000000000</td><td>0.00</td><td>2021-08-15</td></tr><tr><td>d704194a-896f-4adc-99a2-aa4dd7ea89dc</td><td>SOLAR</td><td>2170007</td><td>2170007-14</td><td>MFG MATERIAL</td><td>2500.00000000000</td><td>0.00</td><td>2021-08-15</td></tr><tr><td>f48a9436-d15b-40be-adc7-b2624da30eb9</td><td>SOLAR</td><td>1930405</td><td>1930405-9</td><td>PURCHASED</td><td>0.00000000000</td><td>0.00</td><td>2021-07-30</td></tr><tr><td>73fef1e9-1a57-4ba4-b031-1d474c872fea</td><td>SOLAR</td><td>2130168</td><td>2130168-12</td><td>DESIGN</td><td>1728.00000000000</td><td>0.00</td><td>2021-07-29</td></tr><tr><td>76380021-4ff5-46f7-9950-f3ef889d2c5c</td><td>SOLAR</td><td>2130168</td><td>2130168-7</td><td>DESIGN</td><td>7773.00000000000</td><td>0.00</td><td>2021-07-29</td></tr><tr><td>eaa8e103-c1b1-438c-9a15-c5f98268f999</td><td>SOLAR</td><td>2170070</td><td>2170070-9</td><td>PURCHASED</td><td>0.00000000000</td><td>0.00</td><td>2021-07-29</td></tr><tr><td>c0befcb8-cd89-492b-84d2-466a8da41976</td><td>SOLAR</td><td>2170070</td><td>2170070-11</td><td>INSTALLATION</td><td>0.00000000000</td><td>0.00</td><td>2021-07-29</td></tr><tr><td>f82d2761-d310-443e-84af-781e2a8daa77</td><td>SOLAR</td><td>2170070</td><td>2170070-5</td><td>INSTALLATION</td><td>0.00000000000</td><td>0.00</td><td>2021-07-29</td></tr><tr><td>3e31bae2-65e5-4666-ad9d-293c10633b0e</td><td>SOLAR</td><td>2170070</td><td>2170070-6</td><td>USE TAX</td><td>0.00000000000</td><td>0.00</td><td>2021-07-29</td></tr><tr><td>e708c9fe-2c08-47f4-84e1-567290df45d5</td><td>SOLAR</td><td>2170070</td><td>2170070-3</td><td>PURCHASED</td><td>0.00000000000</td><td>0.00</td><td>2021-07-29</td></tr><tr><td>c2ca17e3-ccfe-4abc-804c-c4f42c3739dc</td><td>SOLAR</td><td>2130168</td><td>2130168-8</td><td>MFG MATERIAL</td><td>28427.00000000000</td><td>0.00</td><td>2021-07-23</td></tr><tr><td>68263858-f6d0-4398-925a-6f48ffb392a1</td><td>SOLAR</td><td>2130168</td><td>2130168-4</td><td>FREIGHT</td><td>0.00000000000</td><td>9000.00</td><td>2021-07-23</td></tr><tr><td>1375ca0d-fb63-4738-8d97-9d7535221e72</td><td>SOLAR</td><td>2130168</td><td>2130168-10</td><td>FREIGHT</td><td>10350.00000000000</td><td>0.00</td><td>2021-07-23</td></tr><tr><td>fb57ce73-0f2a-4ad3-bbe0-df0ac49fe217</td><td>SOLAR</td><td>1930405</td><td>1930405-18</td><td>INSTALLATION</td><td>84889.50000000000</td><td>0.00</td><td>2021-07-23</td></tr><tr><td>70c2971b-e163-48f6-8a31-28444937bc61</td><td>SOLAR</td><td>2030289</td><td>2030289-15</td><td>INSTALLATION</td><td>203361.21000000000</td><td>0.00</td><td>2021-07-23</td></tr><tr><td>73f06378-4aff-44a6-91ca-68801d937fd3</td><td>SOLAR</td><td>2030289</td><td>2030289-16</td><td>MFG MATERIAL</td><td>79621.00000000000</td><td>0.00</td><td>2021-07-23</td></tr><tr><td>a3867d0b-9995-440d-9a4e-566baee18afb</td><td>SOLAR</td><td>2030289</td><td>2030289-17</td><td>INSTALLATION</td><td>123740.21000000000</td><td>0.00</td><td>2021-07-23</td></tr><tr><td>bce8453f-fbd5-4c5f-bb28-b7a46a948dc5</td><td>SOLAR</td><td>2130168</td><td>2130168-11</td><td>INSTALLATION</td><td>0.00000000000</td><td>0.00</td><td>2021-07-22</td></tr><tr><td>6f059dce-1c18-4d58-9597-204b0e75cd89</td><td>SOLAR</td><td>2130168</td><td>2130168-5</td><td>INSTALLATION</td><td>0.00000000000</td><td>0.00</td><td>2021-07-22</td></tr><tr><td>f48ecb95-9a21-4625-855f-a17da2834e45</td><td>SOLAR</td><td>2130168</td><td>2130168-6</td><td>USE TAX</td><td>0.00000000000</td><td>0.00</td><td>2021-07-22</td></tr><tr><td>f9728893-8de7-44a3-b1ab-a0fc4d9f7524</td><td>SOLAR</td><td>2130168</td><td>2130168-9</td><td>PURCHASED</td><td>0.00000000000</td><td>0.00</td><td>2021-07-22</td></tr><tr><td>415d7cf7-8c34-4b24-80ff-134a624a7e27</td><td>SOLAR</td><td>2130168</td><td>2130168-3</td><td>PURCHASED</td><td>0.00000000000</td><td>0.00</td><td>2021-07-22</td></tr><tr><td>01ea2e22-a6dc-4a9e-b40d-433f758adfb6</td><td>SOLAR</td><td>2170055</td><td>2170055-8</td><td>MFG MATERIAL</td><td>0.00000000000</td><td>0.00</td><td>2021-07-20</td></tr><tr><td>d0242085-2950-45db-be22-777e72447239</td><td>SOLAR</td><td>2170007</td><td>2170007-8</td><td>MFG MATERIAL</td><td>64485.00000000000</td><td>0.00</td><td>2021-06-30</td></tr><tr><td>80fb5aba-7776-47f9-b156-fad13b4dc800</td><td>SOLAR</td><td>2030289</td><td>2030289-4</td><td>FREIGHT</td><td>0.00000000000</td><td>192145.00</td><td>2021-06-22</td></tr><tr><td>1619010e-ace8-47d3-8781-5eeb740a4659</td><td>SOLAR</td><td>2030289</td><td>2030289-5</td><td>INSTALLATION</td><td>0.00000000000</td><td>1335764.00</td><td>2021-06-22</td></tr><tr><td>126b00ae-8dcf-4b3e-80dd-f75e939d88a5</td><td>SOLAR</td><td>1930405</td><td>1930405-17</td><td>INSTALLATION</td><td>42830.10000000000</td><td>0.00</td><td>2021-06-15</td></tr><tr><td>137ef563-b09b-49f9-b120-29b527ce0859</td><td>SOLAR</td><td>2130102</td><td>2130102-7</td><td>DESIGN</td><td>6809.10000000000</td><td>0.00</td><td>2021-05-25</td></tr><tr><td>c00a970a-97d9-44a4-9e15-f847aea0762a</td><td>SOLAR</td><td>2030289</td><td>2030289-14</td><td>MFG MATERIAL</td><td>29095.61000000000</td><td>0.00</td><td>2021-05-11</td></tr><tr><td>3e06ea57-9dc7-4e07-ad1b-eb33b7cf7c69</td><td>SOLAR</td><td>2130102</td><td>2130102-3</td><td>PURCHASED</td><td>0.00000000000</td><td>0.00</td><td>2021-05-04</td></tr><tr><td>1f5e61ce-e190-438e-8729-56c80f169af0</td><td>SOLAR</td><td>2130102</td><td>2130102-6</td><td>USE TAX</td><td>0.00000000000</td><td>0.00</td><td>2021-05-04</td></tr><tr><td>0118f144-b923-4f7d-bb53-fa481e1b4a84</td><td>SOLAR</td><td>2130102</td><td>2130102-11</td><td>INSTALLATION</td><td>0.00000000000</td><td>0.00</td><td>2021-05-04</td></tr><tr><td>7726b79a-501a-45a7-b720-abbde7a786d0</td><td>SOLAR</td><td>2130102</td><td>2130102-9</td><td>PURCHASED</td><td>0.00000000000</td><td>0.00</td><td>2021-05-04</td></tr><tr><td>d1443e8c-2d71-4d52-b844-3e1452bbdf91</td><td>SOLAR</td><td>2170055</td><td>2170055-1</td><td>DESIGN</td><td>0.00000000000</td><td>4500.00</td><td>2021-04-30</td></tr><tr><td>3c5b9160-a1dc-47a6-9c45-305bee1402d8</td><td>SOLAR</td><td>1930405</td><td>1930405-16</td><td>INSTALLATION</td><td>22479.91000000000</td><td>0.00</td><td>2021-04-29</td></tr><tr><td>bdcc66b2-2eff-40cd-b05d-0b0104488a71</td><td>SOLAR</td><td>2030026</td><td>2030026-1</td><td>DESIGN</td><td>0.00000000000</td><td>10229.00</td><td>2021-04-29</td></tr><tr><td>d6a00605-09c4-4196-9150-c83bd1c33497</td><td>SOLAR</td><td>2030026</td><td>2030026-2</td><td>MFG MATERIAL</td><td>0.00000000000</td><td>8445921.00</td><td>2021-04-29</td></tr><tr><td>354196ce-01e0-4040-839e-8672f5228f58</td><td>SOLAR</td><td>2170055</td><td>2170055-3</td><td>PURCHASED</td><td>0.00000000000</td><td>0.00</td><td>2021-04-23</td></tr><tr><td>cda108ef-4258-4d73-8a30-73428aa44f61</td><td>SOLAR</td><td>2170055</td><td>2170055-9</td><td>PURCHASED</td><td>0.00000000000</td><td>0.00</td><td>2021-04-23</td></tr><tr><td>afc9dc27-c779-4fea-99cf-cc9db0488342</td><td>SOLAR</td><td>2170055</td><td>2170055-5</td><td>INSTALLATION</td><td>0.00000000000</td><td>0.00</td><td>2021-04-23</td></tr><tr><td>47f1e64f-7128-4ab4-b92c-0d8f209abd34</td><td>SOLAR</td><td>2170055</td><td>2170055-6</td><td>USE TAX</td><td>0.00000000000</td><td>0.00</td><td>2021-04-23</td></tr><tr><td>bcf5f206-f204-43f4-9c18-4b45e4be75be</td><td>SOLAR</td><td>2170055</td><td>2170055-11</td><td>INSTALLATION</td><td>0.00000000000</td><td>0.00</td><td>2021-04-23</td></tr><tr><td>9402ca8e-8c30-4b76-9346-0e8d8c77cb11</td><td>SOLAR</td><td>2170007</td><td>2170007-6</td><td>USE TAX</td><td>0.00000000000</td><td>0.00</td><td>2021-04-07</td></tr><tr><td>d3871e50-4ac4-4f66-b519-4a7d97d1799f</td><td>SOLAR</td><td>2030289</td><td>2030289-1</td><td>DESIGN</td><td>0.00000000000</td><td>8482.00</td><td>2021-03-25</td></tr><tr><td>81c5311e-5bc6-413e-80c6-d9647f448e96</td><td>SOLAR</td><td>1930405</td><td>1930405-15</td><td>INSTALLATION</td><td>73862.57000000000</td><td>0.00</td><td>2021-03-22</td></tr><tr><td>5d577626-e03a-4656-bd98-74243487fd49</td><td>SOLAR</td><td>2030026</td><td>2030026-20</td><td>MFG MATERIAL</td><td>1509663.73000000000</td><td>0.00</td><td>2021-03-21</td></tr><tr><td>4ca7b137-e7ba-4fca-a47d-435426f21e92</td><td>SOLAR</td><td>2030026</td><td>2030026-17</td><td>MFG MATERIAL</td><td>1231156.94000000000</td><td>0.00</td><td>2021-03-21</td></tr><tr><td>d16096dc-cc5d-4430-9b72-b4a945ee681c</td><td>SOLAR</td><td>2030026</td><td>2030026-18</td><td>MFG MATERIAL</td><td>158054.00000000000</td><td>0.00</td><td>2021-03-21</td></tr><tr><td>5e3260d4-375a-4910-84db-32c110b00bcf</td><td>SOLAR</td><td>2170007</td><td>2170007-7</td><td>DESIGN</td><td>2500.00000000000</td><td>0.00</td><td>2021-03-06</td></tr><tr><td>70f6c8d1-257f-4cc0-bdef-07ea1525b9bb</td><td>SOLAR</td><td>1930405</td><td>1930405-10</td><td>FREIGHT</td><td>127075.00000000000</td><td>0.00</td><td>2021-02-26</td></tr><tr><td>739a658e-cf0b-4e49-acba-9b86643ef707</td><td>SOLAR</td><td>1930405</td><td>1930405-11</td><td>INSTALLATION</td><td>194066.60000000000</td><td>0.00</td><td>2021-02-26</td></tr><tr><td>fcb2dc4f-9fb5-45e9-83e9-d2657a30a0af</td><td>SOLAR</td><td>1930405</td><td>1930405-13</td><td>MFG MATERIAL</td><td>21156.80000000000</td><td>0.00</td><td>2021-02-26</td></tr><tr><td>6716ed74-5d01-4533-ac05-a4f25a2bf208</td><td>SOLAR</td><td>1930405</td><td>1930405-14</td><td>INSTALLATION</td><td>203642.32000000000</td><td>0.00</td><td>2021-02-26</td></tr><tr><td>eec05e46-e4e5-4933-966c-0bac574fbf65</td><td>SOLAR</td><td>2030289</td><td>2030289-13</td><td>INSTALLATION</td><td>97992.00000000000</td><td>0.00</td><td>2021-02-25</td></tr><tr><td>7a129464-1292-4734-93aa-9e91da7030a0</td><td>SOLAR</td><td>2030026</td><td>2030026-19</td><td>USE TAX</td><td>0.00000000000</td><td>0.00</td><td>2021-02-18</td></tr><tr><td>6ac75edf-17da-4932-8eaf-57b51b426b3d</td><td>SOLAR</td><td>1930405</td><td>1930405-8</td><td>MFG MATERIAL</td><td>642283.20000000000</td><td>0.00</td><td>2021-01-15</td></tr><tr><td>1f6ae205-2c64-46c5-8f32-1761233a5ce6</td><td>SOLAR</td><td>1930405</td><td>1930405-6</td><td>USE TAX</td><td>0.00000000000</td><td>62599.00</td><td>2021-01-06</td></tr><tr><td>199df85e-d743-47e7-a220-271e579870d2</td><td>SOLAR</td><td>2030289</td><td>2030289-12</td><td>MFG MATERIAL</td><td>730942.29000000000</td><td>0.00</td><td>2020-12-29</td></tr><tr><td>47cae951-0217-4658-8171-7e9e227ba8c4</td><td>SOLAR</td><td>2030289</td><td>2030289-10</td><td>FREIGHT</td><td>201611.00000000000</td><td>0.00</td><td>2020-12-01</td></tr><tr><td>f5685350-f26c-4793-8ffd-a9036fd5d831</td><td>SOLAR</td><td>2030289</td><td>2030289-11</td><td>INSTALLATION</td><td>224363.05000000000</td><td>0.00</td><td>2020-12-01</td></tr><tr><td>7cc8cdf3-1900-4c46-a83e-b28a96877a36</td><td>SOLAR</td><td>1930405</td><td>1930405-7</td><td>DESIGN</td><td>12500.00000000000</td><td>0.00</td><td>2020-11-30</td></tr><tr><td>044698df-aff9-4ee1-a2ba-46eb77b4be6c</td><td>SOLAR</td><td>2030026</td><td>2030026-15</td><td>MFG MATERIAL</td><td>2084647.16000000000</td><td>0.00</td><td>2020-10-28</td></tr><tr><td>9b58dc19-76d9-4873-a6c9-76e0a126ea8d</td><td>SOLAR</td><td>2030026</td><td>2030026-16</td><td>MFG MATERIAL</td><td>1272954.00000000000</td><td>0.00</td><td>2020-10-28</td></tr><tr><td>585b7c1d-f9b0-4dea-8031-8f91ad6823e1</td><td>SOLAR</td><td>2030289</td><td>2030289-7</td><td>DESIGN</td><td>20000.00000000000</td><td>0.00</td><td>2020-10-13</td></tr><tr><td>d464ddff-3e65-418c-9dba-17f6834cafa3</td><td>SOLAR</td><td>2030289</td><td>2030289-8</td><td>MFG MATERIAL</td><td>831948.10000000000</td><td>0.00</td><td>2020-10-13</td></tr><tr><td>888ab0a7-9cd7-4c84-9f2b-890527aa5691</td><td>SOLAR</td><td>2030026</td><td>2030026-14</td><td>MFG MATERIAL</td><td>1065694.14000000000</td><td>0.00</td><td>2020-09-18</td></tr><tr><td>1f435942-3add-4b5c-a1e2-972f90428d6a</td><td>SOLAR</td><td>2030026</td><td>2030026-10</td><td>FREIGHT</td><td>1635559.00000000000</td><td>0.00</td><td>2020-09-18</td></tr><tr><td>4a40b4b4-31c8-463c-b9d0-e681b334bcaf</td><td>SOLAR</td><td>2030026</td><td>2030026-13</td><td>MFG MATERIAL</td><td>2084647.17000000000</td><td>0.00</td><td>2020-09-14</td></tr><tr><td>543b487f-9cd2-40a7-bf7d-72eeb76d45cf</td><td>SOLAR</td><td>2030289</td><td>2030289-9</td><td>PURCHASED</td><td>0.00000000000</td><td>0.00</td><td>2020-08-06</td></tr><tr><td>ceda3d91-14e8-4f46-af44-e3c408a2b40b</td><td>SOLAR</td><td>2030289</td><td>2030289-6</td><td>USE TAX</td><td>0.00000000000</td><td>0.00</td><td>2020-08-06</td></tr><tr><td>01051699-436c-4c75-9e25-cbf60e523cc7</td><td>SOLAR</td><td>2030289</td><td>2030289-3</td><td>PURCHASED</td><td>0.00000000000</td><td>0.00</td><td>2020-08-06</td></tr><tr><td>fdde1ff1-91d9-4f45-9132-88a597a12569</td><td>SOLAR</td><td>2030026</td><td>2030026-12</td><td>MFG MATERIAL</td><td>449088.17000000000</td><td>0.00</td><td>2020-06-16</td></tr><tr><td>08be16c5-517a-46ac-9289-16fbbad39d06</td><td>SOLAR</td><td>2030026</td><td>2030026-7</td><td>DESIGN</td><td>20000.00000000000</td><td>0.00</td><td>2020-06-16</td></tr><tr><td>0a184b5a-823d-463c-bd9c-de46b845d9c1</td><td>SOLAR</td><td>2030026</td><td>2030026-8</td><td>MFG MATERIAL</td><td>1045694.14000000000</td><td>0.00</td><td>2020-06-16</td></tr><tr><td>64caeda2-448d-4312-967c-56221727d279</td><td>SOLAR</td><td>2030026</td><td>2030026-9</td><td>PURCHASED</td><td>0.00000000000</td><td>0.00</td><td>2020-01-16</td></tr><tr><td>a712bf1b-0e15-4c0c-8095-d93b57725e01</td><td>SOLAR</td><td>2030026</td><td>2030026-5</td><td>INSTALLATION</td><td>0.00000000000</td><td>0.00</td><td>2020-01-16</td></tr><tr><td>a72ae06a-03c0-4376-a689-a86b0e7f26b1</td><td>SOLAR</td><td>2030026</td><td>2030026-6</td><td>USE TAX</td><td>0.00000000000</td><td>0.00</td><td>2020-01-16</td></tr><tr><td>3f63b24c-7218-48ed-b216-f5c2efe00c59</td><td>SOLAR</td><td>2030026</td><td>2030026-11</td><td>INSTALLATION</td><td>0.00000000000</td><td>0.00</td><td>2020-01-16</td></tr><tr><td>b7f64405-d4da-419a-becf-7ccd29e9a121</td><td>SOLAR</td><td>2030026</td><td>2030026-3</td><td>PURCHASED</td><td>0.00000000000</td><td>0.00</td><td>2020-01-16</td></tr></table>"
                    },
                    "metadata": {}
                }
            ],
            "execution_count": 16
        }
    ]
}