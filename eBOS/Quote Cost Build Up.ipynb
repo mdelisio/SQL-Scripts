{
    "metadata": {
        "kernelspec": {
            "name": "SQL",
            "display_name": "SQL",
            "language": "sql"
        },
        "language_info": {
            "name": "sql",
            "version": ""
        }
    },
    "nbformat_minor": 2,
    "nbformat": 4,
    "cells": [
        {
            "cell_type": "code",
            "source": [
                "SELECT TOP (1000) \r\n",
                "    qm.Quotenum,\r\n",
                "    qm.Quoteline,\r\n",
                "    od.Ordernum,\r\n",
                "    od.OrderLine,\r\n",
                "    qm.AssemblySeq,\r\n",
                "    qm.mtlseq,\r\n",
                "    qm.PartNum,\r\n",
                "    qm.Description,\r\n",
                "    qm.QtyPer,\r\n",
                "    qm.EstUnitCost,\r\n",
                "    qm.EstUnitCost * qm.QtyPer as QuoteLineMaterialCost,\r\n",
                "    qm.EstMtlBurUnitCost * qm.MtlBurRate as MaterialBurdenRate \r\n",
                "  FROM [ERPDB].[Erp].[QuoteMtl] qm\r\n",
                "    Inner Join ERPDB.erp.Orderdtl od\r\n",
                "        ON od.Company = qm.Company\r\n",
                "        AND od.QuoteNum = qm.QuoteNum\r\n",
                "        AND od.QuoteLine = qm.QuoteLine\r\n",
                "  INNER JOIN erpdb.dbo.orderhed oh\r\n",
                "        ON oh.Company = od.Company\r\n",
                "        AND oh.OrderNum = od.OrderNum\r\n",
                "  Where qm.Company = 'Solar'\r\n",
                "  and oh.Division_c = 6\r\n",
                "   and oh.OrderNum = 4001555\r\n",
                "--  And mtlBurRate <> 0\r\n",
                "--  AND EstMtlBurUnitCost <> 0\r\n",
                "--  Group by qm.Quotenum, qm.Quoteline, od.Ordernum, od.OrderLine\r\n",
                "  Order by QuoteNum Desc"
            ],
            "metadata": {
                "azdata_cell_guid": "cc29b6b3-16c3-44ed-b0ec-c25f2e67a79c",
                "language": "sql"
            },
            "outputs": [
                {
                    "output_type": "display_data",
                    "data": {
                        "text/html": "(37 rows affected)"
                    },
                    "metadata": {}
                },
                {
                    "output_type": "display_data",
                    "data": {
                        "text/html": "Total execution time: 00:00:00.070"
                    },
                    "metadata": {}
                },
                {
                    "output_type": "execute_result",
                    "execution_count": 13,
                    "data": {
                        "application/vnd.dataresource+json": {
                            "schema": {
                                "fields": [
                                    {
                                        "name": "Quotenum"
                                    },
                                    {
                                        "name": "Quoteline"
                                    },
                                    {
                                        "name": "Ordernum"
                                    },
                                    {
                                        "name": "OrderLine"
                                    },
                                    {
                                        "name": "AssemblySeq"
                                    },
                                    {
                                        "name": "mtlseq"
                                    },
                                    {
                                        "name": "PartNum"
                                    },
                                    {
                                        "name": "Description"
                                    },
                                    {
                                        "name": "QtyPer"
                                    },
                                    {
                                        "name": "EstUnitCost"
                                    },
                                    {
                                        "name": "QuoteLineMaterialCost"
                                    },
                                    {
                                        "name": "MaterialBurdenRate"
                                    }
                                ]
                            },
                            "data": [
                                {
                                    "Quotenum": "12116",
                                    "Quoteline": "1",
                                    "Ordernum": "4001555",
                                    "OrderLine": "1",
                                    "AssemblySeq": "0",
                                    "mtlseq": "10",
                                    "PartNum": "J2424HPL",
                                    "Description": "STAHLIN, J SERIES ENCL, 24X24X10\", 4XF",
                                    "QtyPer": "1.00000000",
                                    "EstUnitCost": "184.88341",
                                    "QuoteLineMaterialCost": "184.8834100000000",
                                    "MaterialBurdenRate": "0.0000000000"
                                },
                                {
                                    "Quotenum": "12116",
                                    "Quoteline": "1",
                                    "Ordernum": "4001555",
                                    "OrderLine": "1",
                                    "AssemblySeq": "0",
                                    "mtlseq": "20",
                                    "PartNum": "BP-CU00",
                                    "Description": "UNIVERSAL 24X24 BP -ISO -GRD -DEF",
                                    "QtyPer": "1.00000000",
                                    "EstUnitCost": "24.75611",
                                    "QuoteLineMaterialCost": "24.7561100000000",
                                    "MaterialBurdenRate": "0.0000000000"
                                },
                                {
                                    "Quotenum": "12116",
                                    "Quoteline": "1",
                                    "Ordernum": "4001555",
                                    "OrderLine": "1",
                                    "AssemblySeq": "0",
                                    "mtlseq": "100",
                                    "PartNum": "SPXV030",
                                    "Description": "30A 1500VDC FUSE",
                                    "QtyPer": "10.00000000",
                                    "EstUnitCost": "3.31000",
                                    "QuoteLineMaterialCost": "33.1000000000000",
                                    "MaterialBurdenRate": "0.0000000000"
                                },
                                {
                                    "Quotenum": "12116",
                                    "Quoteline": "1",
                                    "Ordernum": "4001555",
                                    "OrderLine": "1",
                                    "AssemblySeq": "0",
                                    "mtlseq": "120",
                                    "PartNum": "SCE-BVKD",
                                    "Description": "SAGINAW DRAIN / BREATHER VENT",
                                    "QtyPer": "1.00000000",
                                    "EstUnitCost": "8.50567",
                                    "QuoteLineMaterialCost": "8.5056700000000",
                                    "MaterialBurdenRate": "0.0000000000"
                                },
                                {
                                    "Quotenum": "12116",
                                    "Quoteline": "1",
                                    "Ordernum": "4001555",
                                    "OrderLine": "1",
                                    "AssemblySeq": "0",
                                    "mtlseq": "130",
                                    "PartNum": "DS50PVS-1500/51",
                                    "Description": "1500VCDC CITEL SURGE ARRESTOR",
                                    "QtyPer": "1.00000000",
                                    "EstUnitCost": "23.00000",
                                    "QuoteLineMaterialCost": "23.0000000000000",
                                    "MaterialBurdenRate": "0.0000000000"
                                },
                                {
                                    "Quotenum": "12116",
                                    "Quoteline": "1",
                                    "Ordernum": "4001555",
                                    "OrderLine": "1",
                                    "AssemblySeq": "0",
                                    "mtlseq": "140",
                                    "PartNum": "10159826",
                                    "Description": "Slotted 35mm x 15mm Din Rail",
                                    "QtyPer": "7.62000000",
                                    "EstUnitCost": "0.00000",
                                    "QuoteLineMaterialCost": "0.0000000000000",
                                    "MaterialBurdenRate": "0.0000000000"
                                },
                                {
                                    "Quotenum": "12116",
                                    "Quoteline": "1",
                                    "Ordernum": "4001555",
                                    "OrderLine": "1",
                                    "AssemblySeq": "0",
                                    "mtlseq": "150",
                                    "PartNum": "2828.0",
                                    "Description": "CONTACLIP END BRACKET 44X50X9.5MM",
                                    "QtyPer": "1.00000000",
                                    "EstUnitCost": "0.52500",
                                    "QuoteLineMaterialCost": "0.5250000000000",
                                    "MaterialBurdenRate": "0.0000000000"
                                },
                                {
                                    "Quotenum": "12116",
                                    "Quoteline": "1",
                                    "Ordernum": "4001555",
                                    "OrderLine": "1",
                                    "AssemblySeq": "0",
                                    "mtlseq": "160",
                                    "PartNum": "SCW-8-32X.5-H",
                                    "Description": "8-32 X 1/2\" SLOTTED HEX HEAD            T.F., ZINC PLATED",
                                    "QtyPer": "2.00000000",
                                    "EstUnitCost": "0.00000",
                                    "QuoteLineMaterialCost": "0.0000000000000",
                                    "MaterialBurdenRate": "0.0000000000"
                                },
                                {
                                    "Quotenum": "12116",
                                    "Quoteline": "1",
                                    "Ordernum": "4001555",
                                    "OrderLine": "1",
                                    "AssemblySeq": "0",
                                    "mtlseq": "170",
                                    "PartNum": "WIRE-12-GN",
                                    "Description": "12AWG WIRE GREEN                        1015bc-12/65-5",
                                    "QtyPer": "0.50000000",
                                    "EstUnitCost": "0.00000",
                                    "QuoteLineMaterialCost": "0.0000000000000",
                                    "MaterialBurdenRate": "0.0000000000"
                                },
                                {
                                    "Quotenum": "12116",
                                    "Quoteline": "1",
                                    "Ordernum": "4001555",
                                    "OrderLine": "1",
                                    "AssemblySeq": "0",
                                    "mtlseq": "180",
                                    "PartNum": "13A11013",
                                    "Description": "12ga insulated ferrule",
                                    "QtyPer": "4.00000000",
                                    "EstUnitCost": "0.00000",
                                    "QuoteLineMaterialCost": "0.0000000000000",
                                    "MaterialBurdenRate": "0.0000000000"
                                },
                                {
                                    "Quotenum": "12116",
                                    "Quoteline": "1",
                                    "Ordernum": "4001555",
                                    "OrderLine": "1",
                                    "AssemblySeq": "0",
                                    "mtlseq": "190",
                                    "PartNum": "#10-2KPV-W19-BLK",
                                    "Description": "#10AWG 2K PV WIRE, BLACK, NON-VW1, 19",
                                    "QtyPer": "3.00000000",
                                    "EstUnitCost": "0.31537",
                                    "QuoteLineMaterialCost": "0.9461100000000",
                                    "MaterialBurdenRate": "0.0000000000"
                                },
                                {
                                    "Quotenum": "12116",
                                    "Quoteline": "1",
                                    "Ordernum": "4001555",
                                    "OrderLine": "1",
                                    "AssemblySeq": "0",
                                    "mtlseq": "200",
                                    "PartNum": "RING-10/12-3/8\"",
                                    "Description": "RING TERMINAL, M10,10-12AWG, 3/8\"",
                                    "QtyPer": "2.00000000",
                                    "EstUnitCost": "0.00000",
                                    "QuoteLineMaterialCost": "0.0000000000000",
                                    "MaterialBurdenRate": "0.0000000000"
                                },
                                {
                                    "Quotenum": "12116",
                                    "Quoteline": "1",
                                    "Ordernum": "4001555",
                                    "OrderLine": "1",
                                    "AssemblySeq": "0",
                                    "mtlseq": "210",
                                    "PartNum": "OHB125L12",
                                    "Description": "PSTL HDL 12X125MM BLACK 4/4X",
                                    "QtyPer": "1.00000000",
                                    "EstUnitCost": "15.82259",
                                    "QuoteLineMaterialCost": "15.8225900000000",
                                    "MaterialBurdenRate": "0.0000000000"
                                },
                                {
                                    "Quotenum": "12116",
                                    "Quoteline": "1",
                                    "Ordernum": "4001555",
                                    "OrderLine": "1",
                                    "AssemblySeq": "0",
                                    "mtlseq": "220",
                                    "PartNum": "OXP12X280",
                                    "Description": "ABB Shaft for OTDC400US11",
                                    "QtyPer": "1.00000000",
                                    "EstUnitCost": "5.07782",
                                    "QuoteLineMaterialCost": "5.0778200000000",
                                    "MaterialBurdenRate": "0.0000000000"
                                },
                                {
                                    "Quotenum": "12116",
                                    "Quoteline": "1",
                                    "Ordernum": "4001555",
                                    "OrderLine": "1",
                                    "AssemblySeq": "0",
                                    "mtlseq": "230",
                                    "PartNum": "NBAE-0409-2",
                                    "Description": "ILSCO ALUMINUM GROUND BAR SMALL USE WITH",
                                    "QtyPer": "1.00000000",
                                    "EstUnitCost": "4.92879",
                                    "QuoteLineMaterialCost": "4.9287900000000",
                                    "MaterialBurdenRate": "0.0000000000"
                                },
                                {
                                    "Quotenum": "12116",
                                    "Quoteline": "1",
                                    "Ordernum": "4001555",
                                    "OrderLine": "1",
                                    "AssemblySeq": "0",
                                    "mtlseq": "240",
                                    "PartNum": "SCW-6S1+PTEK",
                                    "Description": "6X1 PHILLIPS PAN HEAD (MOUNT GROUND BAR TO BACK PLATE)",
                                    "QtyPer": "2.00000000",
                                    "EstUnitCost": "0.00000",
                                    "QuoteLineMaterialCost": "0.0000000000000",
                                    "MaterialBurdenRate": "0.0000000000"
                                },
                                {
                                    "Quotenum": "12116",
                                    "Quoteline": "1",
                                    "Ordernum": "4001555",
                                    "OrderLine": "1",
                                    "AssemblySeq": "0",
                                    "mtlseq": "250",
                                    "PartNum": "D18-1",
                                    "Description": "18 circuit Robertson Head neutral bar",
                                    "QtyPer": "1.00000000",
                                    "EstUnitCost": "14.00000",
                                    "QuoteLineMaterialCost": "14.0000000000000",
                                    "MaterialBurdenRate": "0.0000000000"
                                },
                                {
                                    "Quotenum": "12116",
                                    "Quoteline": "1",
                                    "Ordernum": "4001555",
                                    "OrderLine": "1",
                                    "AssemblySeq": "0",
                                    "mtlseq": "260",
                                    "PartNum": "BHJ-91280A630",
                                    "Description": "M10x25mm Hex Head Bolt, Zinc Plated\r\n\r\n1.5mm Pitch, fully threaded grade 8.8",
                                    "QtyPer": "2.00000000",
                                    "EstUnitCost": "0.00000",
                                    "QuoteLineMaterialCost": "0.0000000000000",
                                    "MaterialBurdenRate": "0.0000000000"
                                },
                                {
                                    "Quotenum": "12116",
                                    "Quoteline": "1",
                                    "Ordernum": "4001555",
                                    "OrderLine": "1",
                                    "AssemblySeq": "0",
                                    "mtlseq": "270",
                                    "PartNum": "MAS19-10-15",
                                    "Description": "ALUMINUM SPACERS.COM",
                                    "QtyPer": "2.00000000",
                                    "EstUnitCost": "0.40846",
                                    "QuoteLineMaterialCost": "0.8169200000000",
                                    "MaterialBurdenRate": "0.0000000000"
                                },
                                {
                                    "Quotenum": "12116",
                                    "Quoteline": "1",
                                    "Ordernum": "4001555",
                                    "OrderLine": "1",
                                    "AssemblySeq": "0",
                                    "mtlseq": "280",
                                    "PartNum": "548590",
                                    "Description": "50MM M10 Insulator Erico",
                                    "QtyPer": "2.00000000",
                                    "EstUnitCost": "4.80000",
                                    "QuoteLineMaterialCost": "9.6000000000000",
                                    "MaterialBurdenRate": "0.0000000000"
                                },
                                {
                                    "Quotenum": "12116",
                                    "Quoteline": "1",
                                    "Ordernum": "4001555",
                                    "OrderLine": "1",
                                    "AssemblySeq": "0",
                                    "mtlseq": "290",
                                    "PartNum": "WSH-M10-BELL",
                                    "Description": "M10 belleville washers (per 1,000)",
                                    "QtyPer": "4.00000000",
                                    "EstUnitCost": "0.00000",
                                    "QuoteLineMaterialCost": "0.0000000000000",
                                    "MaterialBurdenRate": "0.0000000000"
                                },
                                {
                                    "Quotenum": "12116",
                                    "Quoteline": "1",
                                    "Ordernum": "4001555",
                                    "OrderLine": "1",
                                    "AssemblySeq": "0",
                                    "mtlseq": "300",
                                    "PartNum": "NUT-M10",
                                    "Description": "M10 Hex Nut, Zinc Plated, Class 8",
                                    "QtyPer": "2.00000000",
                                    "EstUnitCost": "0.00000",
                                    "QuoteLineMaterialCost": "0.0000000000000",
                                    "MaterialBurdenRate": "0.0000000000"
                                },
                                {
                                    "Quotenum": "12116",
                                    "Quoteline": "1",
                                    "Ordernum": "4001555",
                                    "OrderLine": "1",
                                    "AssemblySeq": "0",
                                    "mtlseq": "310",
                                    "PartNum": "STD-M10X60",
                                    "Description": "M10X60MM FULL THREADED STUD ZINC PLATED",
                                    "QtyPer": "2.00000000",
                                    "EstUnitCost": "0.00000",
                                    "QuoteLineMaterialCost": "0.0000000000000",
                                    "MaterialBurdenRate": "0.0000000000"
                                },
                                {
                                    "Quotenum": "12116",
                                    "Quoteline": "1",
                                    "Ordernum": "4001555",
                                    "OrderLine": "1",
                                    "AssemblySeq": "0",
                                    "mtlseq": "320",
                                    "PartNum": "US15M1HEL",
                                    "Description": "1500V MERSEN FUSE HOLDER",
                                    "QtyPer": "10.00000000",
                                    "EstUnitCost": "3.97000",
                                    "QuoteLineMaterialCost": "39.7000000000000",
                                    "MaterialBurdenRate": "0.0000000000"
                                },
                                {
                                    "Quotenum": "12116",
                                    "Quoteline": "1",
                                    "Ordernum": "4001555",
                                    "OrderLine": "1",
                                    "AssemblySeq": "0",
                                    "mtlseq": "330",
                                    "PartNum": "BB-.187X1.5X72",
                                    "Description": "RC GROUND BB .187\" X 1.5\" X 72\"",
                                    "QtyPer": "8.88500000",
                                    "EstUnitCost": "1.42261",
                                    "QuoteLineMaterialCost": "12.6398898500000",
                                    "MaterialBurdenRate": "0.0000000000"
                                },
                                {
                                    "Quotenum": "12116",
                                    "Quoteline": "1",
                                    "Ordernum": "4001555",
                                    "OrderLine": "1",
                                    "AssemblySeq": "0",
                                    "mtlseq": "340",
                                    "PartNum": "2828.0",
                                    "Description": "CONTACLIP END BRACKET 44X50X9.5MM",
                                    "QtyPer": "2.00000000",
                                    "EstUnitCost": "0.52500",
                                    "QuoteLineMaterialCost": "1.0500000000000",
                                    "MaterialBurdenRate": "0.0000000000"
                                },
                                {
                                    "Quotenum": "12116",
                                    "Quoteline": "1",
                                    "Ordernum": "4001555",
                                    "OrderLine": "1",
                                    "AssemblySeq": "0",
                                    "mtlseq": "350",
                                    "PartNum": "10159826",
                                    "Description": "Slotted 35mm x 15mm Din Rail",
                                    "QtyPer": "10.88500000",
                                    "EstUnitCost": "0.00000",
                                    "QuoteLineMaterialCost": "0.0000000000000",
                                    "MaterialBurdenRate": "0.0000000000"
                                },
                                {
                                    "Quotenum": "12116",
                                    "Quoteline": "1",
                                    "Ordernum": "4001555",
                                    "OrderLine": "1",
                                    "AssemblySeq": "0",
                                    "mtlseq": "360",
                                    "PartNum": "SCW-8-32X.5-H",
                                    "Description": "8-32 X 1/2\" SLOTTED HEX HEAD            T.F., ZINC PLATED",
                                    "QtyPer": "2.00000000",
                                    "EstUnitCost": "0.00000",
                                    "QuoteLineMaterialCost": "0.0000000000000",
                                    "MaterialBurdenRate": "0.0000000000"
                                },
                                {
                                    "Quotenum": "12116",
                                    "Quoteline": "1",
                                    "Ordernum": "4001555",
                                    "OrderLine": "1",
                                    "AssemblySeq": "0",
                                    "mtlseq": "370",
                                    "PartNum": "OTDC400UFV11",
                                    "Description": "2P 400A PV SW 1500VDC",
                                    "QtyPer": "1.00000000",
                                    "EstUnitCost": "161.59000",
                                    "QuoteLineMaterialCost": "161.5900000000000",
                                    "MaterialBurdenRate": "0.0000000000"
                                },
                                {
                                    "Quotenum": "12116",
                                    "Quoteline": "1",
                                    "Ordernum": "4001555",
                                    "OrderLine": "1",
                                    "AssemblySeq": "0",
                                    "mtlseq": "380",
                                    "PartNum": "JB-400-OTDC-4X2",
                                    "Description": "400A Custom Jumper for ABB OTDC",
                                    "QtyPer": "1.00000000",
                                    "EstUnitCost": "12.16633",
                                    "QuoteLineMaterialCost": "12.1663300000000",
                                    "MaterialBurdenRate": "0.0000000000"
                                },
                                {
                                    "Quotenum": "12116",
                                    "Quoteline": "1",
                                    "Ordernum": "4001555",
                                    "OrderLine": "1",
                                    "AssemblySeq": "0",
                                    "mtlseq": "390",
                                    "PartNum": "BLT-M10X30-H",
                                    "Description": "M10X30, 1.5 PITCH, HEX HEAD, CAP SCREW, 8.8, ZINC",
                                    "QtyPer": "4.00000000",
                                    "EstUnitCost": "0.00000",
                                    "QuoteLineMaterialCost": "0.0000000000000",
                                    "MaterialBurdenRate": "0.0000000000"
                                },
                                {
                                    "Quotenum": "12116",
                                    "Quoteline": "1",
                                    "Ordernum": "4001555",
                                    "OrderLine": "1",
                                    "AssemblySeq": "0",
                                    "mtlseq": "400",
                                    "PartNum": "WSH-M10-BELL",
                                    "Description": "M10 belleville washers (per 1,000)",
                                    "QtyPer": "8.00000000",
                                    "EstUnitCost": "0.00000",
                                    "QuoteLineMaterialCost": "0.0000000000000",
                                    "MaterialBurdenRate": "0.0000000000"
                                },
                                {
                                    "Quotenum": "12116",
                                    "Quoteline": "1",
                                    "Ordernum": "4001555",
                                    "OrderLine": "1",
                                    "AssemblySeq": "0",
                                    "mtlseq": "410",
                                    "PartNum": "NUT-M10",
                                    "Description": "M10 Hex Nut, Zinc Plated, Class 8",
                                    "QtyPer": "4.00000000",
                                    "EstUnitCost": "0.00000",
                                    "QuoteLineMaterialCost": "0.0000000000000",
                                    "MaterialBurdenRate": "0.0000000000"
                                },
                                {
                                    "Quotenum": "12116",
                                    "Quoteline": "1",
                                    "Ordernum": "4001555",
                                    "OrderLine": "1",
                                    "AssemblySeq": "0",
                                    "mtlseq": "420",
                                    "PartNum": "PEM-M8X30",
                                    "Description": "HARDWARE, CAPTIVE STUD, METRIC, M8,     30MM, GRADE 8.8, ZINC",
                                    "QtyPer": "2.00000000",
                                    "EstUnitCost": "0.00000",
                                    "QuoteLineMaterialCost": "0.0000000000000",
                                    "MaterialBurdenRate": "0.0000000000"
                                },
                                {
                                    "Quotenum": "12116",
                                    "Quoteline": "1",
                                    "Ordernum": "4001555",
                                    "OrderLine": "1",
                                    "AssemblySeq": "0",
                                    "mtlseq": "430",
                                    "PartNum": "WSH-M8-BELL",
                                    "Description": "M8 BELLEVILLE WASHER",
                                    "QtyPer": "2.00000000",
                                    "EstUnitCost": "0.09600",
                                    "QuoteLineMaterialCost": "0.1920000000000",
                                    "MaterialBurdenRate": "0.0000000000"
                                },
                                {
                                    "Quotenum": "12116",
                                    "Quoteline": "1",
                                    "Ordernum": "4001555",
                                    "OrderLine": "1",
                                    "AssemblySeq": "0",
                                    "mtlseq": "440",
                                    "PartNum": "NUT-M8",
                                    "Description": "M8 Hex Nut, Zinc Plated, Class 8",
                                    "QtyPer": "2.00000000",
                                    "EstUnitCost": "0.00000",
                                    "QuoteLineMaterialCost": "0.0000000000000",
                                    "MaterialBurdenRate": "0.0000000000"
                                },
                                {
                                    "Quotenum": "12116",
                                    "Quoteline": "1",
                                    "Ordernum": "4001555",
                                    "OrderLine": "1",
                                    "AssemblySeq": "0",
                                    "mtlseq": "450",
                                    "PartNum": "SCW-.25-20-.75-P",
                                    "Description": "1/4-20 x 3/4\" Phillips Pan Head Machine\r\n\r\nS",
                                    "QtyPer": "4.00000000",
                                    "EstUnitCost": "0.00000",
                                    "QuoteLineMaterialCost": "0.0000000000000",
                                    "MaterialBurdenRate": "0.0000000000"
                                }
                            ]
                        },
                        "text/html": "<table><tr><th>Quotenum</th><th>Quoteline</th><th>Ordernum</th><th>OrderLine</th><th>AssemblySeq</th><th>mtlseq</th><th>PartNum</th><th>Description</th><th>QtyPer</th><th>EstUnitCost</th><th>QuoteLineMaterialCost</th><th>MaterialBurdenRate</th></tr><tr><td>12116</td><td>1</td><td>4001555</td><td>1</td><td>0</td><td>10</td><td>J2424HPL</td><td>STAHLIN, J SERIES ENCL, 24X24X10&quot;, 4XF</td><td>1.00000000</td><td>184.88341</td><td>184.8834100000000</td><td>0.0000000000</td></tr><tr><td>12116</td><td>1</td><td>4001555</td><td>1</td><td>0</td><td>20</td><td>BP-CU00</td><td>UNIVERSAL 24X24 BP -ISO -GRD -DEF</td><td>1.00000000</td><td>24.75611</td><td>24.7561100000000</td><td>0.0000000000</td></tr><tr><td>12116</td><td>1</td><td>4001555</td><td>1</td><td>0</td><td>100</td><td>SPXV030</td><td>30A 1500VDC FUSE</td><td>10.00000000</td><td>3.31000</td><td>33.1000000000000</td><td>0.0000000000</td></tr><tr><td>12116</td><td>1</td><td>4001555</td><td>1</td><td>0</td><td>120</td><td>SCE-BVKD</td><td>SAGINAW DRAIN / BREATHER VENT</td><td>1.00000000</td><td>8.50567</td><td>8.5056700000000</td><td>0.0000000000</td></tr><tr><td>12116</td><td>1</td><td>4001555</td><td>1</td><td>0</td><td>130</td><td>DS50PVS-1500/51</td><td>1500VCDC CITEL SURGE ARRESTOR</td><td>1.00000000</td><td>23.00000</td><td>23.0000000000000</td><td>0.0000000000</td></tr><tr><td>12116</td><td>1</td><td>4001555</td><td>1</td><td>0</td><td>140</td><td>10159826</td><td>Slotted 35mm x 15mm Din Rail</td><td>7.62000000</td><td>0.00000</td><td>0.0000000000000</td><td>0.0000000000</td></tr><tr><td>12116</td><td>1</td><td>4001555</td><td>1</td><td>0</td><td>150</td><td>2828.0</td><td>CONTACLIP END BRACKET 44X50X9.5MM</td><td>1.00000000</td><td>0.52500</td><td>0.5250000000000</td><td>0.0000000000</td></tr><tr><td>12116</td><td>1</td><td>4001555</td><td>1</td><td>0</td><td>160</td><td>SCW-8-32X.5-H</td><td>8-32 X 1/2&quot; SLOTTED HEX HEAD            T.F., ZINC PLATED</td><td>2.00000000</td><td>0.00000</td><td>0.0000000000000</td><td>0.0000000000</td></tr><tr><td>12116</td><td>1</td><td>4001555</td><td>1</td><td>0</td><td>170</td><td>WIRE-12-GN</td><td>12AWG WIRE GREEN                        1015bc-12/65-5</td><td>0.50000000</td><td>0.00000</td><td>0.0000000000000</td><td>0.0000000000</td></tr><tr><td>12116</td><td>1</td><td>4001555</td><td>1</td><td>0</td><td>180</td><td>13A11013</td><td>12ga insulated ferrule</td><td>4.00000000</td><td>0.00000</td><td>0.0000000000000</td><td>0.0000000000</td></tr><tr><td>12116</td><td>1</td><td>4001555</td><td>1</td><td>0</td><td>190</td><td>#10-2KPV-W19-BLK</td><td>#10AWG 2K PV WIRE, BLACK, NON-VW1, 19</td><td>3.00000000</td><td>0.31537</td><td>0.9461100000000</td><td>0.0000000000</td></tr><tr><td>12116</td><td>1</td><td>4001555</td><td>1</td><td>0</td><td>200</td><td>RING-10/12-3/8&quot;</td><td>RING TERMINAL, M10,10-12AWG, 3/8&quot;</td><td>2.00000000</td><td>0.00000</td><td>0.0000000000000</td><td>0.0000000000</td></tr><tr><td>12116</td><td>1</td><td>4001555</td><td>1</td><td>0</td><td>210</td><td>OHB125L12</td><td>PSTL HDL 12X125MM BLACK 4/4X</td><td>1.00000000</td><td>15.82259</td><td>15.8225900000000</td><td>0.0000000000</td></tr><tr><td>12116</td><td>1</td><td>4001555</td><td>1</td><td>0</td><td>220</td><td>OXP12X280</td><td>ABB Shaft for OTDC400US11</td><td>1.00000000</td><td>5.07782</td><td>5.0778200000000</td><td>0.0000000000</td></tr><tr><td>12116</td><td>1</td><td>4001555</td><td>1</td><td>0</td><td>230</td><td>NBAE-0409-2</td><td>ILSCO ALUMINUM GROUND BAR SMALL USE WITH</td><td>1.00000000</td><td>4.92879</td><td>4.9287900000000</td><td>0.0000000000</td></tr><tr><td>12116</td><td>1</td><td>4001555</td><td>1</td><td>0</td><td>240</td><td>SCW-6S1+PTEK</td><td>6X1 PHILLIPS PAN HEAD (MOUNT GROUND BAR TO BACK PLATE)</td><td>2.00000000</td><td>0.00000</td><td>0.0000000000000</td><td>0.0000000000</td></tr><tr><td>12116</td><td>1</td><td>4001555</td><td>1</td><td>0</td><td>250</td><td>D18-1</td><td>18 circuit Robertson Head neutral bar</td><td>1.00000000</td><td>14.00000</td><td>14.0000000000000</td><td>0.0000000000</td></tr><tr><td>12116</td><td>1</td><td>4001555</td><td>1</td><td>0</td><td>260</td><td>BHJ-91280A630</td><td>M10x25mm Hex Head Bolt, Zinc Plated\r\n\r\n1.5mm Pitch, fully threaded grade 8.8</td><td>2.00000000</td><td>0.00000</td><td>0.0000000000000</td><td>0.0000000000</td></tr><tr><td>12116</td><td>1</td><td>4001555</td><td>1</td><td>0</td><td>270</td><td>MAS19-10-15</td><td>ALUMINUM SPACERS.COM</td><td>2.00000000</td><td>0.40846</td><td>0.8169200000000</td><td>0.0000000000</td></tr><tr><td>12116</td><td>1</td><td>4001555</td><td>1</td><td>0</td><td>280</td><td>548590</td><td>50MM M10 Insulator Erico</td><td>2.00000000</td><td>4.80000</td><td>9.6000000000000</td><td>0.0000000000</td></tr><tr><td>12116</td><td>1</td><td>4001555</td><td>1</td><td>0</td><td>290</td><td>WSH-M10-BELL</td><td>M10 belleville washers (per 1,000)</td><td>4.00000000</td><td>0.00000</td><td>0.0000000000000</td><td>0.0000000000</td></tr><tr><td>12116</td><td>1</td><td>4001555</td><td>1</td><td>0</td><td>300</td><td>NUT-M10</td><td>M10 Hex Nut, Zinc Plated, Class 8</td><td>2.00000000</td><td>0.00000</td><td>0.0000000000000</td><td>0.0000000000</td></tr><tr><td>12116</td><td>1</td><td>4001555</td><td>1</td><td>0</td><td>310</td><td>STD-M10X60</td><td>M10X60MM FULL THREADED STUD ZINC PLATED</td><td>2.00000000</td><td>0.00000</td><td>0.0000000000000</td><td>0.0000000000</td></tr><tr><td>12116</td><td>1</td><td>4001555</td><td>1</td><td>0</td><td>320</td><td>US15M1HEL</td><td>1500V MERSEN FUSE HOLDER</td><td>10.00000000</td><td>3.97000</td><td>39.7000000000000</td><td>0.0000000000</td></tr><tr><td>12116</td><td>1</td><td>4001555</td><td>1</td><td>0</td><td>330</td><td>BB-.187X1.5X72</td><td>RC GROUND BB .187&quot; X 1.5&quot; X 72&quot;</td><td>8.88500000</td><td>1.42261</td><td>12.6398898500000</td><td>0.0000000000</td></tr><tr><td>12116</td><td>1</td><td>4001555</td><td>1</td><td>0</td><td>340</td><td>2828.0</td><td>CONTACLIP END BRACKET 44X50X9.5MM</td><td>2.00000000</td><td>0.52500</td><td>1.0500000000000</td><td>0.0000000000</td></tr><tr><td>12116</td><td>1</td><td>4001555</td><td>1</td><td>0</td><td>350</td><td>10159826</td><td>Slotted 35mm x 15mm Din Rail</td><td>10.88500000</td><td>0.00000</td><td>0.0000000000000</td><td>0.0000000000</td></tr><tr><td>12116</td><td>1</td><td>4001555</td><td>1</td><td>0</td><td>360</td><td>SCW-8-32X.5-H</td><td>8-32 X 1/2&quot; SLOTTED HEX HEAD            T.F., ZINC PLATED</td><td>2.00000000</td><td>0.00000</td><td>0.0000000000000</td><td>0.0000000000</td></tr><tr><td>12116</td><td>1</td><td>4001555</td><td>1</td><td>0</td><td>370</td><td>OTDC400UFV11</td><td>2P 400A PV SW 1500VDC</td><td>1.00000000</td><td>161.59000</td><td>161.5900000000000</td><td>0.0000000000</td></tr><tr><td>12116</td><td>1</td><td>4001555</td><td>1</td><td>0</td><td>380</td><td>JB-400-OTDC-4X2</td><td>400A Custom Jumper for ABB OTDC</td><td>1.00000000</td><td>12.16633</td><td>12.1663300000000</td><td>0.0000000000</td></tr><tr><td>12116</td><td>1</td><td>4001555</td><td>1</td><td>0</td><td>390</td><td>BLT-M10X30-H</td><td>M10X30, 1.5 PITCH, HEX HEAD, CAP SCREW, 8.8, ZINC</td><td>4.00000000</td><td>0.00000</td><td>0.0000000000000</td><td>0.0000000000</td></tr><tr><td>12116</td><td>1</td><td>4001555</td><td>1</td><td>0</td><td>400</td><td>WSH-M10-BELL</td><td>M10 belleville washers (per 1,000)</td><td>8.00000000</td><td>0.00000</td><td>0.0000000000000</td><td>0.0000000000</td></tr><tr><td>12116</td><td>1</td><td>4001555</td><td>1</td><td>0</td><td>410</td><td>NUT-M10</td><td>M10 Hex Nut, Zinc Plated, Class 8</td><td>4.00000000</td><td>0.00000</td><td>0.0000000000000</td><td>0.0000000000</td></tr><tr><td>12116</td><td>1</td><td>4001555</td><td>1</td><td>0</td><td>420</td><td>PEM-M8X30</td><td>HARDWARE, CAPTIVE STUD, METRIC, M8,     30MM, GRADE 8.8, ZINC</td><td>2.00000000</td><td>0.00000</td><td>0.0000000000000</td><td>0.0000000000</td></tr><tr><td>12116</td><td>1</td><td>4001555</td><td>1</td><td>0</td><td>430</td><td>WSH-M8-BELL</td><td>M8 BELLEVILLE WASHER</td><td>2.00000000</td><td>0.09600</td><td>0.1920000000000</td><td>0.0000000000</td></tr><tr><td>12116</td><td>1</td><td>4001555</td><td>1</td><td>0</td><td>440</td><td>NUT-M8</td><td>M8 Hex Nut, Zinc Plated, Class 8</td><td>2.00000000</td><td>0.00000</td><td>0.0000000000000</td><td>0.0000000000</td></tr><tr><td>12116</td><td>1</td><td>4001555</td><td>1</td><td>0</td><td>450</td><td>SCW-.25-20-.75-P</td><td>1/4-20 x 3/4&quot; Phillips Pan Head Machine\r\n\r\nS</td><td>4.00000000</td><td>0.00000</td><td>0.0000000000000</td><td>0.0000000000</td></tr></table>"
                    },
                    "metadata": {}
                }
            ],
            "execution_count": 13
        },
        {
            "cell_type": "code",
            "source": [
                "SELECT TOP (1000) \r\n",
                "--qod.*\r\n",
                "\r\n",
                "      qod.[QuoteNum]\r\n",
                "      ,qod.[QuoteLine]\r\n",
                "      ,od.OrderNum\r\n",
                "      ,od.Orderline\r\n",
                "      ,SUM(ProdLabRate * ProdStandard * ProdCrewSize) as LaborCost\r\n",
                "      ,SUM(ProdBurRate * ProdStandard * ProdCrewSize) as BurdonCost\r\n",
                "      ,SUM(SetupBurRate * ProdStandard * SetupCrewSize) as SetupCost\r\n",
                "\r\n",
                "\r\n",
                "  FROM [ERPDB].[Erp].[QuoteOpDtl] qod\r\n",
                "    Inner Join ERPDB.erp.Orderdtl od\r\n",
                "        ON od.Company = qod.Company\r\n",
                "        AND od.QuoteNum = qod.QuoteNum\r\n",
                "        AND od.QuoteLine = qod.QuoteLine\r\n",
                "  INNER JOIN erpdb.dbo.orderhed oh\r\n",
                "        ON oh.Company = od.Company\r\n",
                "        AND oh.OrderNum = od.OrderNum\r\n",
                "  Where qod.Company = 'Solar'\r\n",
                "    and oh.OrderNum = 4001555\r\n",
                "  and oh.Division_c = 6\r\n",
                "  Group by qod.QuoteNum, qod.Quoteline, od.OrderNum, od.Orderline\r\n",
                "  Order by QuoteNum Desc"
            ],
            "metadata": {
                "azdata_cell_guid": "fd831708-6bda-419d-ae0a-28ecc96148cb",
                "language": "sql"
            },
            "outputs": [
                {
                    "output_type": "display_data",
                    "data": {
                        "text/html": "(1 row affected)"
                    },
                    "metadata": {}
                },
                {
                    "output_type": "display_data",
                    "data": {
                        "text/html": "Total execution time: 00:00:00.089"
                    },
                    "metadata": {}
                },
                {
                    "output_type": "execute_result",
                    "execution_count": 6,
                    "data": {
                        "application/vnd.dataresource+json": {
                            "schema": {
                                "fields": [
                                    {
                                        "name": "QuoteNum"
                                    },
                                    {
                                        "name": "QuoteLine"
                                    },
                                    {
                                        "name": "OrderNum"
                                    },
                                    {
                                        "name": "Orderline"
                                    },
                                    {
                                        "name": "LaborCost"
                                    },
                                    {
                                        "name": "BurdonCost"
                                    },
                                    {
                                        "name": "SetupCost"
                                    }
                                ]
                            },
                            "data": [
                                {
                                    "QuoteNum": "12116",
                                    "QuoteLine": "1",
                                    "OrderNum": "4001555",
                                    "Orderline": "1",
                                    "LaborCost": "50.400000000000",
                                    "BurdonCost": "117.60000000000",
                                    "SetupCost": "0.00000000000"
                                }
                            ]
                        },
                        "text/html": "<table><tr><th>QuoteNum</th><th>QuoteLine</th><th>OrderNum</th><th>Orderline</th><th>LaborCost</th><th>BurdonCost</th><th>SetupCost</th></tr><tr><td>12116</td><td>1</td><td>4001555</td><td>1</td><td>50.400000000000</td><td>117.60000000000</td><td>0.00000000000</td></tr></table>"
                    },
                    "metadata": {}
                }
            ],
            "execution_count": 6
        },
        {
            "cell_type": "code",
            "source": [
                "SELECT TOP (1000) \r\n",
                "    qm.Quotenum,\r\n",
                "    qm.Quoteline,\r\n",
                "    od.Ordernum,\r\n",
                "    od.OrderLine,\r\n",
                "    SUM(qm.EstUnitCost * qm.QtyPer) as QuoteLineMaterlaCost,\r\n",
                "    SUM(qm.EstMtlBurUnitCost * qm.MtlBurRate) as MaterialBurdenRate \r\n",
                "  FROM [ERPDB].[Erp].[QuoteMtl] qm\r\n",
                "    Inner Join ERPDB.erp.Orderdtl od\r\n",
                "        ON od.Company = qm.Company\r\n",
                "        AND od.QuoteNum = qm.QuoteNum\r\n",
                "        AND od.QuoteLine = qm.QuoteLine\r\n",
                "  INNER JOIN erpdb.dbo.orderhed oh\r\n",
                "        ON oh.Company = od.Company\r\n",
                "        AND oh.OrderNum = od.OrderNum\r\n",
                "  Where qm.Company = 'Solar'\r\n",
                "  and oh.Division_c = 6\r\n",
                "     and oh.OrderNum = 4001555\r\n",
                "  Group by qm.Quotenum, qm.Quoteline, od.Ordernum, od.OrderLine\r\n",
                "  Order by QuoteNum Desc"
            ],
            "metadata": {
                "azdata_cell_guid": "d257fe22-e693-4bbf-bbff-0f195328d5c2",
                "language": "sql"
            },
            "outputs": [
                {
                    "output_type": "display_data",
                    "data": {
                        "text/html": "(1 row affected)"
                    },
                    "metadata": {}
                },
                {
                    "output_type": "display_data",
                    "data": {
                        "text/html": "Total execution time: 00:00:00.103"
                    },
                    "metadata": {}
                },
                {
                    "output_type": "execute_result",
                    "execution_count": 15,
                    "data": {
                        "application/vnd.dataresource+json": {
                            "schema": {
                                "fields": [
                                    {
                                        "name": "Quotenum"
                                    },
                                    {
                                        "name": "Quoteline"
                                    },
                                    {
                                        "name": "Ordernum"
                                    },
                                    {
                                        "name": "OrderLine"
                                    },
                                    {
                                        "name": "QuoteLineMaterlaCost"
                                    },
                                    {
                                        "name": "MaterialBurdenRate"
                                    }
                                ]
                            },
                            "data": [
                                {
                                    "Quotenum": "12116",
                                    "Quoteline": "1",
                                    "Ordernum": "4001555",
                                    "OrderLine": "1",
                                    "QuoteLineMaterlaCost": "553.3006398500000",
                                    "MaterialBurdenRate": "0.0000000000"
                                }
                            ]
                        },
                        "text/html": "<table><tr><th>Quotenum</th><th>Quoteline</th><th>Ordernum</th><th>OrderLine</th><th>QuoteLineMaterlaCost</th><th>MaterialBurdenRate</th></tr><tr><td>12116</td><td>1</td><td>4001555</td><td>1</td><td>553.3006398500000</td><td>0.0000000000</td></tr></table>"
                    },
                    "metadata": {}
                }
            ],
            "execution_count": 15
        },
        {
            "cell_type": "code",
            "source": [
                "  Select Top (10) \r\n",
                "    qo.Quotenum,\r\n",
                "    qo.Quoteline,\r\n",
                "    od.Ordernum,\r\n",
                "    od.OrderLine,\r\n",
                "    SUM(ProdLabRate * ProdStandard * ProdCrewSize) as LaborCost,\r\n",
                "    SUM(ProdBurRate * ProdStandard * ProdCrewSize) as BurdonCost,\r\n",
                "    SUM(SetupBurRate * ProdStandard * SetupCrewSize) as SetupCost,\r\n",
                "    sum(qo.EstUnitCost * qo.QtyPer) as SubContractCost\r\n",
                "  FROM [ERPDB].[Erp].[QuoteOpr] qo\r\n",
                "    Inner Join ERPDB.erp.Orderdtl od\r\n",
                "        ON od.Company = qo.Company\r\n",
                "        AND od.QuoteNum = qo.QuoteNum\r\n",
                "        AND od.QuoteLine = qo.QuoteLine\r\n",
                "  INNER JOIN erpdb.dbo.orderhed oh\r\n",
                "        ON oh.Company = od.Company\r\n",
                "        AND oh.OrderNum = od.OrderNum\r\n",
                "  Where qo.Company = 'Solar'\r\n",
                "  and oh.Division_c = 6\r\n",
                "     and oh.OrderNum = 4001555\r\n",
                "Group by qo.QuoteNum, qo.Quoteline, od.OrderNum, od.Orderline\r\n",
                "  Order by QuoteNum Desc"
            ],
            "metadata": {
                "language": "sql",
                "azdata_cell_guid": "99046d9b-fc63-4140-a6c0-244643dcdd31"
            },
            "outputs": [
                {
                    "output_type": "display_data",
                    "data": {
                        "text/html": "(1 row affected)"
                    },
                    "metadata": {}
                },
                {
                    "output_type": "display_data",
                    "data": {
                        "text/html": "Total execution time: 00:00:00.084"
                    },
                    "metadata": {}
                },
                {
                    "output_type": "execute_result",
                    "execution_count": 4,
                    "data": {
                        "application/vnd.dataresource+json": {
                            "schema": {
                                "fields": [
                                    {
                                        "name": "Quotenum"
                                    },
                                    {
                                        "name": "Quoteline"
                                    },
                                    {
                                        "name": "Ordernum"
                                    },
                                    {
                                        "name": "OrderLine"
                                    },
                                    {
                                        "name": "LaborCost"
                                    },
                                    {
                                        "name": "BurdonCost"
                                    },
                                    {
                                        "name": "SetupCost"
                                    },
                                    {
                                        "name": "SubContractCost"
                                    }
                                ]
                            },
                            "data": [
                                {
                                    "Quotenum": "12116",
                                    "Quoteline": "1",
                                    "Ordernum": "4001555",
                                    "OrderLine": "1",
                                    "LaborCost": "50.400000000000",
                                    "BurdonCost": "117.60000000000",
                                    "SetupCost": "0.00000000000",
                                    "SubContractCost": "0.0000000000000"
                                }
                            ]
                        },
                        "text/html": "<table><tr><th>Quotenum</th><th>Quoteline</th><th>Ordernum</th><th>OrderLine</th><th>LaborCost</th><th>BurdonCost</th><th>SetupCost</th><th>SubContractCost</th></tr><tr><td>12116</td><td>1</td><td>4001555</td><td>1</td><td>50.400000000000</td><td>117.60000000000</td><td>0.00000000000</td><td>0.0000000000000</td></tr></table>"
                    },
                    "metadata": {}
                }
            ],
            "execution_count": 4
        },
        {
            "cell_type": "code",
            "source": [
                "Select \r\n",
                "qo.Company,\r\n",
                "qo.QuoteNum,\r\n",
                "qo.QuoteLine,\r\n",
                "qo.QuoteNum,\r\n",
                "qo.MiscCostDesc,\r\n",
                "qo.MiscCost,\r\n",
                "od.Ordernum,\r\n",
                "od.Orderline,\r\n",
                "od.unitprice,\r\n",
                "od.OrdBasedPrice as DiscountedPrice,\r\n",
                "od.OrderQty,\r\n",
                "od.Discount,\r\n",
                "od.DocOrdBasedPrice * od.OrderQty as OrderLineSellPrice\r\n",
                "  FROM [ERPDB].[Erp].[QuoteQty] qo\r\n",
                "    Inner Join ERPDB.erp.Orderdtl od\r\n",
                "        ON od.Company = qo.Company\r\n",
                "        AND od.QuoteNum = qo.QuoteNum\r\n",
                "        AND od.QuoteLine = qo.QuoteLine\r\n",
                "  INNER JOIN erpdb.dbo.orderhed oh\r\n",
                "        ON oh.Company = od.Company\r\n",
                "        AND oh.OrderNum = od.OrderNum\r\n",
                "          Where qo.Company = 'Solar'\r\n",
                "  and oh.Division_c = 6\r\n",
                "     and oh.OrderNum = 4001555"
            ],
            "metadata": {
                "language": "sql",
                "azdata_cell_guid": "9258972a-7eda-414c-9f8f-cb77688e150a"
            },
            "outputs": [
{
    "output_type": "display_data",
    "data": {
        "text/html": "(1 row affected)"
    },
    "metadata": {}
}, {
    "output_type": "display_data",
    "data": {
        "text/html": "Total execution time: 00:00:00.084"
    },
    "metadata": {}
}, {
    "output_type": "execute_result",
    "metadata": {},
    "execution_count": 2,
    "data": {
        "application/vnd.dataresource+json": {
            "schema": {
                "fields": [
                    {
                        "name": "Company"
                    },
                    {
                        "name": "QuoteNum"
                    },
                    {
                        "name": "QuoteLine"
                    },
                    {
                        "name": "QuoteNum"
                    },
                    {
                        "name": "MiscCostDesc"
                    },
                    {
                        "name": "MiscCost"
                    },
                    {
                        "name": "Ordernum"
                    },
                    {
                        "name": "Orderline"
                    },
                    {
                        "name": "unitprice"
                    },
                    {
                        "name": "DiscountedPrice"
                    },
                    {
                        "name": "OrderQty"
                    },
                    {
                        "name": "Discount"
                    },
                    {
                        "name": "OrderLineSellPrice"
                    }
                ]
            },
            "data": [
                {
                    "Company": "SOLAR",
                    "QuoteNum": "12116",
                    "QuoteLine": "1",
                    "MiscCostDesc": "FLOOR STOCK",
                    "MiscCost": "8.310",
                    "Ordernum": "4001555",
                    "Orderline": "1",
                    "unitprice": "1824.03000",
                    "DiscountedPrice": "1185.61950",
                    "OrderQty": "80.00000000",
                    "Discount": "51072.840",
                    "OrderLineSellPrice": "94849.56000000000"
                }
            ]
        },
        "text/html": [
            "<table>",
            "<tr><th>Company</th><th>QuoteNum</th><th>QuoteLine</th><th>QuoteNum</th><th>MiscCostDesc</th><th>MiscCost</th><th>Ordernum</th><th>Orderline</th><th>unitprice</th><th>DiscountedPrice</th><th>OrderQty</th><th>Discount</th><th>OrderLineSellPrice</th></tr>",
            "<tr><td>SOLAR</td><td>12116</td><td>1</td><td>12116</td><td>FLOOR STOCK</td><td>8.310</td><td>4001555</td><td>1</td><td>1824.03000</td><td>1185.61950</td><td>80.00000000</td><td>51072.840</td><td>94849.56000000000</td></tr>",
            "</table>"
        ]
    }
}
],
            "execution_count": 2
        },
        {
            "cell_type": "code",
            "source": [
                ""
            ],
            "metadata": {
                "language": "sql",
                "azdata_cell_guid": "c592b449-d103-41ad-9a80-2a06cbe6d012"
            },
            "outputs": [],
            "execution_count": null
        }
    ]
}