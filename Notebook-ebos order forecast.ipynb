{
    "metadata": {
        "kernelspec": {
            "name": "SQL",
            "display_name": "SQL",
            "language": "sql"
        },
        "language_info": {
            "name": "sql",
            "version": ""
        }
    },
    "nbformat_minor": 2,
    "nbformat": 4,
    "cells": [
        {
            "cell_type": "code",
            "source": [
                "Select top (3) *\r\n",
                "From dbo.OrderHed\r\n",
                "where company = 'solar'\r\n",
                "\r\n",
                "Select top (3) *\r\n",
                "From dbo.Orderdtl\r\n",
                "where company = 'solar'\r\n",
                "\r\n",
                "select top(3)*\r\n",
                "From dbo.orderrel\r\n",
                "\r\n",
                "select top (1) *\r\n",
                "from erp.customer\r\n",
                "where company = 'solar'"
            ],
            "metadata": {
                "azdata_cell_guid": "97df447f-ca03-46b5-bfc4-b9cdcb2d1687",
                "language": "sql"
            },
            "outputs": [
                {
                    "output_type": "display_data",
                    "data": {
                        "text/html": "(3 rows affected)"
                    },
                    "metadata": {}
                },
                {
                    "output_type": "display_data",
                    "data": {
                        "text/html": "(3 rows affected)"
                    },
                    "metadata": {}
                },
                {
                    "output_type": "display_data",
                    "data": {
                        "text/html": "(3 rows affected)"
                    },
                    "metadata": {}
                },
                {
                    "output_type": "display_data",
                    "data": {
                        "text/html": "(1 row affected)"
                    },
                    "metadata": {}
                },
                {
                    "output_type": "display_data",
                    "data": {
                        "text/html": "Total execution time: 00:00:00.285"
                    },
                    "metadata": {}
                },
                {
                    "output_type": "execute_result",
                    "execution_count": 1,
                    "data": {
                        "application/vnd.dataresource+json": {
                            "schema": {
                                "fields": [
                                    {
                                        "name": "OpenOrder"
                                    },
                                    {
                                        "name": "VoidOrder"
                                    },
                                    {
                                        "name": "Company"
                                    },
                                    {
                                        "name": "OrderNum"
                                    },
                                    {
                                        "name": "CustNum"
                                    },
                                    {
                                        "name": "PONum"
                                    },
                                    {
                                        "name": "OrderHeld"
                                    },
                                    {
                                        "name": "EntryPerson"
                                    },
                                    {
                                        "name": "ShipToNum"
                                    },
                                    {
                                        "name": "RequestDate"
                                    },
                                    {
                                        "name": "OrderDate"
                                    },
                                    {
                                        "name": "FOB"
                                    },
                                    {
                                        "name": "ShipViaCode"
                                    },
                                    {
                                        "name": "TermsCode"
                                    },
                                    {
                                        "name": "DiscountPercent"
                                    },
                                    {
                                        "name": "PrcConNum"
                                    },
                                    {
                                        "name": "ShpConNum"
                                    },
                                    {
                                        "name": "SalesRepList"
                                    },
                                    {
                                        "name": "OrderComment"
                                    },
                                    {
                                        "name": "ShipComment"
                                    },
                                    {
                                        "name": "InvoiceComment"
                                    },
                                    {
                                        "name": "PickListComment"
                                    },
                                    {
                                        "name": "DepositBal"
                                    },
                                    {
                                        "name": "DocDepositBal"
                                    },
                                    {
                                        "name": "NeedByDate"
                                    },
                                    {
                                        "name": "CreditOverride"
                                    },
                                    {
                                        "name": "CreditOverrideUserID"
                                    },
                                    {
                                        "name": "CreditOverrideDate"
                                    },
                                    {
                                        "name": "CreditOverrideTime"
                                    },
                                    {
                                        "name": "CreditOverrideLimit"
                                    },
                                    {
                                        "name": "SndAlrtShp"
                                    },
                                    {
                                        "name": "ExchangeRate"
                                    },
                                    {
                                        "name": "CurrencyCode"
                                    },
                                    {
                                        "name": "LockRate"
                                    },
                                    {
                                        "name": "CardMemberName"
                                    },
                                    {
                                        "name": "CardNumber"
                                    },
                                    {
                                        "name": "CardType"
                                    },
                                    {
                                        "name": "ExpirationMonth"
                                    },
                                    {
                                        "name": "ExpirationYear"
                                    },
                                    {
                                        "name": "CardID"
                                    },
                                    {
                                        "name": "CardmemberReference"
                                    },
                                    {
                                        "name": "AllocPriorityCode"
                                    },
                                    {
                                        "name": "ReservePriorityCode"
                                    },
                                    {
                                        "name": "ShipOrderComplete"
                                    },
                                    {
                                        "name": "WebOrder"
                                    },
                                    {
                                        "name": "CCApprovalNum"
                                    },
                                    {
                                        "name": "EDIOrder"
                                    },
                                    {
                                        "name": "EDIAck"
                                    },
                                    {
                                        "name": "Linked"
                                    },
                                    {
                                        "name": "ICPONum"
                                    },
                                    {
                                        "name": "ExtCompany"
                                    },
                                    {
                                        "name": "WebEntryPerson"
                                    },
                                    {
                                        "name": "AckEmailSent"
                                    },
                                    {
                                        "name": "ApplyOrderBasedDisc"
                                    },
                                    {
                                        "name": "AutoOrderBasedDisc"
                                    },
                                    {
                                        "name": "EntryMethod"
                                    },
                                    {
                                        "name": "HDCaseNum"
                                    },
                                    {
                                        "name": "CounterSale"
                                    },
                                    {
                                        "name": "CreateInvoice"
                                    },
                                    {
                                        "name": "CreatePackingSlip"
                                    },
                                    {
                                        "name": "LockQty"
                                    },
                                    {
                                        "name": "ProcessCard"
                                    },
                                    {
                                        "name": "CCAmount"
                                    },
                                    {
                                        "name": "CCFreight"
                                    },
                                    {
                                        "name": "CCTax"
                                    },
                                    {
                                        "name": "CCTotal"
                                    },
                                    {
                                        "name": "CCDocAmount"
                                    },
                                    {
                                        "name": "CCDocFreight"
                                    },
                                    {
                                        "name": "CCDocTax"
                                    },
                                    {
                                        "name": "CCDocTotal"
                                    },
                                    {
                                        "name": "CCStreetAddr"
                                    },
                                    {
                                        "name": "CCZip"
                                    },
                                    {
                                        "name": "BTCustNum"
                                    },
                                    {
                                        "name": "BTConNum"
                                    },
                                    {
                                        "name": "RepRate4"
                                    },
                                    {
                                        "name": "RepRate5"
                                    },
                                    {
                                        "name": "RepSplit1"
                                    },
                                    {
                                        "name": "RepSplit2"
                                    },
                                    {
                                        "name": "RepSplit3"
                                    },
                                    {
                                        "name": "RepSplit4"
                                    },
                                    {
                                        "name": "RepSplit5"
                                    },
                                    {
                                        "name": "RepRate1"
                                    },
                                    {
                                        "name": "RepRate2"
                                    },
                                    {
                                        "name": "RepRate3"
                                    },
                                    {
                                        "name": "OutboundSalesDocCtr"
                                    },
                                    {
                                        "name": "OutboundShipDocsCtr"
                                    },
                                    {
                                        "name": "DemandContractNum"
                                    },
                                    {
                                        "name": "DoNotShipBeforeDate"
                                    },
                                    {
                                        "name": "ResDelivery"
                                    },
                                    {
                                        "name": "DoNotShipAfterDate"
                                    },
                                    {
                                        "name": "SatDelivery"
                                    },
                                    {
                                        "name": "SatPickup"
                                    },
                                    {
                                        "name": "Hazmat"
                                    },
                                    {
                                        "name": "DocOnly"
                                    },
                                    {
                                        "name": "RefNotes"
                                    },
                                    {
                                        "name": "ApplyChrg"
                                    },
                                    {
                                        "name": "ChrgAmount"
                                    },
                                    {
                                        "name": "COD"
                                    },
                                    {
                                        "name": "CODFreight"
                                    },
                                    {
                                        "name": "CODCheck"
                                    },
                                    {
                                        "name": "CODAmount"
                                    },
                                    {
                                        "name": "GroundType"
                                    },
                                    {
                                        "name": "NotifyFlag"
                                    },
                                    {
                                        "name": "NotifyEMail"
                                    },
                                    {
                                        "name": "DeclaredIns"
                                    },
                                    {
                                        "name": "DeclaredAmt"
                                    },
                                    {
                                        "name": "CancelAfterDate"
                                    },
                                    {
                                        "name": "DemandRejected"
                                    },
                                    {
                                        "name": "OverrideCarrier"
                                    },
                                    {
                                        "name": "OverrideService"
                                    },
                                    {
                                        "name": "CreditCardOrder"
                                    },
                                    {
                                        "name": "DemandHeadSeq"
                                    },
                                    {
                                        "name": "PayFlag"
                                    },
                                    {
                                        "name": "PayAccount"
                                    },
                                    {
                                        "name": "PayBTAddress1"
                                    },
                                    {
                                        "name": "PayBTAddress2"
                                    },
                                    {
                                        "name": "PayBTCity"
                                    },
                                    {
                                        "name": "PayBTState"
                                    },
                                    {
                                        "name": "PayBTZip"
                                    },
                                    {
                                        "name": "PayBTCountry"
                                    },
                                    {
                                        "name": "DropShip"
                                    },
                                    {
                                        "name": "CommercialInvoice"
                                    },
                                    {
                                        "name": "ShipExprtDeclartn"
                                    },
                                    {
                                        "name": "CertOfOrigin"
                                    },
                                    {
                                        "name": "LetterOfInstr"
                                    },
                                    {
                                        "name": "FFID"
                                    },
                                    {
                                        "name": "FFAddress1"
                                    },
                                    {
                                        "name": "FFAddress2"
                                    },
                                    {
                                        "name": "FFCity"
                                    },
                                    {
                                        "name": "FFState"
                                    },
                                    {
                                        "name": "FFZip"
                                    },
                                    {
                                        "name": "FFCountry"
                                    },
                                    {
                                        "name": "FFContact"
                                    },
                                    {
                                        "name": "FFCompName"
                                    },
                                    {
                                        "name": "FFPhoneNum"
                                    },
                                    {
                                        "name": "IntrntlShip"
                                    },
                                    {
                                        "name": "ChangedBy"
                                    },
                                    {
                                        "name": "ChangeDate"
                                    },
                                    {
                                        "name": "ChangeTime"
                                    },
                                    {
                                        "name": "AutoPrintReady"
                                    },
                                    {
                                        "name": "EDIReady"
                                    },
                                    {
                                        "name": "IndividualPackIDs"
                                    },
                                    {
                                        "name": "FFAddress3"
                                    },
                                    {
                                        "name": "DeliveryConf"
                                    },
                                    {
                                        "name": "AddlHdlgFlag"
                                    },
                                    {
                                        "name": "NonStdPkg"
                                    },
                                    {
                                        "name": "ServSignature"
                                    },
                                    {
                                        "name": "ServAlert"
                                    },
                                    {
                                        "name": "ServHomeDel"
                                    },
                                    {
                                        "name": "DeliveryType"
                                    },
                                    {
                                        "name": "ServDeliveryDate"
                                    },
                                    {
                                        "name": "ServInstruct"
                                    },
                                    {
                                        "name": "ServRef1"
                                    },
                                    {
                                        "name": "ServRef2"
                                    },
                                    {
                                        "name": "ServRef3"
                                    },
                                    {
                                        "name": "ServRef4"
                                    },
                                    {
                                        "name": "ServRef5"
                                    },
                                    {
                                        "name": "FFCountryNum"
                                    },
                                    {
                                        "name": "ServPhone"
                                    },
                                    {
                                        "name": "ServRelease"
                                    },
                                    {
                                        "name": "ServAuthNum"
                                    },
                                    {
                                        "name": "PayBTAddress3"
                                    },
                                    {
                                        "name": "PayBTCountryNum"
                                    },
                                    {
                                        "name": "PayBTPhone"
                                    },
                                    {
                                        "name": "UPSQuantumView"
                                    },
                                    {
                                        "name": "UPSQVShipFromName"
                                    },
                                    {
                                        "name": "UPSQVMemo"
                                    },
                                    {
                                        "name": "ReadyToCalc"
                                    },
                                    {
                                        "name": "TotalCharges"
                                    },
                                    {
                                        "name": "TotalMisc"
                                    },
                                    {
                                        "name": "TotalDiscount"
                                    },
                                    {
                                        "name": "TotalComm"
                                    },
                                    {
                                        "name": "TotalAdvBill"
                                    },
                                    {
                                        "name": "TotalLines"
                                    },
                                    {
                                        "name": "TotalReleases"
                                    },
                                    {
                                        "name": "TotalRelDates"
                                    },
                                    {
                                        "name": "DocTotalCharges"
                                    },
                                    {
                                        "name": "DocTotalMisc"
                                    },
                                    {
                                        "name": "DocTotalDiscount"
                                    },
                                    {
                                        "name": "DocTotalComm"
                                    },
                                    {
                                        "name": "TotalTax"
                                    },
                                    {
                                        "name": "DocTotalTax"
                                    },
                                    {
                                        "name": "DocTotalAdvBill"
                                    },
                                    {
                                        "name": "TotalShipped"
                                    },
                                    {
                                        "name": "TotalInvoiced"
                                    },
                                    {
                                        "name": "TotalCommLines"
                                    },
                                    {
                                        "name": "SRCommAmt1"
                                    },
                                    {
                                        "name": "SRCommAmt2"
                                    },
                                    {
                                        "name": "SRCommAmt3"
                                    },
                                    {
                                        "name": "SRCommAmt4"
                                    },
                                    {
                                        "name": "SRCommAmt5"
                                    },
                                    {
                                        "name": "SRCommableAmt1"
                                    },
                                    {
                                        "name": "SRCommableAmt2"
                                    },
                                    {
                                        "name": "SRCommableAmt3"
                                    },
                                    {
                                        "name": "SRCommableAmt4"
                                    },
                                    {
                                        "name": "SRCommableAmt5"
                                    },
                                    {
                                        "name": "Rounding"
                                    },
                                    {
                                        "name": "Rpt1DepositBal"
                                    },
                                    {
                                        "name": "DocRounding"
                                    },
                                    {
                                        "name": "Rpt2DepositBal"
                                    },
                                    {
                                        "name": "Rpt3DepositBal"
                                    },
                                    {
                                        "name": "Rpt1TotalCharges"
                                    },
                                    {
                                        "name": "Rpt2TotalCharges"
                                    },
                                    {
                                        "name": "Rpt3TotalCharges"
                                    },
                                    {
                                        "name": "Rpt1TotalAdvBill"
                                    },
                                    {
                                        "name": "Rpt2TotalAdvBill"
                                    },
                                    {
                                        "name": "Rpt3TotalAdvBill"
                                    },
                                    {
                                        "name": "Rpt1TotalMisc"
                                    },
                                    {
                                        "name": "Rpt2TotalMisc"
                                    },
                                    {
                                        "name": "Rpt3TotalMisc"
                                    },
                                    {
                                        "name": "Rpt1TotalDiscount"
                                    },
                                    {
                                        "name": "Rpt2TotalDiscount"
                                    },
                                    {
                                        "name": "Rpt3TotalDiscount"
                                    },
                                    {
                                        "name": "Rpt1TotalComm"
                                    },
                                    {
                                        "name": "Rpt2TotalComm"
                                    },
                                    {
                                        "name": "Rpt3TotalComm"
                                    },
                                    {
                                        "name": "Rpt1TotalTax"
                                    },
                                    {
                                        "name": "Rpt2TotalTax"
                                    },
                                    {
                                        "name": "Rpt1Rounding"
                                    },
                                    {
                                        "name": "Rpt2Rounding"
                                    },
                                    {
                                        "name": "Rpt3Rounding"
                                    },
                                    {
                                        "name": "RateGrpCode"
                                    },
                                    {
                                        "name": "Rpt3TotalTax"
                                    },
                                    {
                                        "name": "Rpt1CCAmount"
                                    },
                                    {
                                        "name": "Rpt2CCAmount"
                                    },
                                    {
                                        "name": "Rpt3CCAmount"
                                    },
                                    {
                                        "name": "Rpt1CCFreight"
                                    },
                                    {
                                        "name": "Rpt2CCFreight"
                                    },
                                    {
                                        "name": "Rpt3CCFreight"
                                    },
                                    {
                                        "name": "Rpt1CCTax"
                                    },
                                    {
                                        "name": "Rpt2CCTax"
                                    },
                                    {
                                        "name": "Rpt3CCTax"
                                    },
                                    {
                                        "name": "Rpt1CCTotal"
                                    },
                                    {
                                        "name": "Rpt2CCTotal"
                                    },
                                    {
                                        "name": "Rpt3CCTotal"
                                    },
                                    {
                                        "name": "OrderAmt"
                                    },
                                    {
                                        "name": "DocOrderAmt"
                                    },
                                    {
                                        "name": "Rpt1OrderAmt"
                                    },
                                    {
                                        "name": "Rpt2OrderAmt"
                                    },
                                    {
                                        "name": "Rpt3OrderAmt"
                                    },
                                    {
                                        "name": "TaxPoint"
                                    },
                                    {
                                        "name": "TaxRateDate"
                                    },
                                    {
                                        "name": "TaxRegionCode"
                                    },
                                    {
                                        "name": "UseOTS"
                                    },
                                    {
                                        "name": "OTSName"
                                    },
                                    {
                                        "name": "OTSAddress1"
                                    },
                                    {
                                        "name": "OTSAddress2"
                                    },
                                    {
                                        "name": "OTSAddress3"
                                    },
                                    {
                                        "name": "OTSCity"
                                    },
                                    {
                                        "name": "OTSState"
                                    },
                                    {
                                        "name": "OTSZIP"
                                    },
                                    {
                                        "name": "OTSResaleID"
                                    },
                                    {
                                        "name": "OTSContact"
                                    },
                                    {
                                        "name": "OTSFaxNum"
                                    },
                                    {
                                        "name": "OTSPhoneNum"
                                    },
                                    {
                                        "name": "OTSCountryNum"
                                    },
                                    {
                                        "name": "TotalWHTax"
                                    },
                                    {
                                        "name": "DocTotalWHTax"
                                    },
                                    {
                                        "name": "Rpt1TotalWHTax"
                                    },
                                    {
                                        "name": "Rpt2TotalWHTax"
                                    },
                                    {
                                        "name": "Rpt3TotalWHTax"
                                    },
                                    {
                                        "name": "TotalSATax"
                                    },
                                    {
                                        "name": "DocTotalSATax"
                                    },
                                    {
                                        "name": "Rpt1TotalSATax"
                                    },
                                    {
                                        "name": "Rpt2TotalSATax"
                                    },
                                    {
                                        "name": "Rpt3TotalSATax"
                                    },
                                    {
                                        "name": "OTSSaveAs"
                                    },
                                    {
                                        "name": "OTSSaveCustID"
                                    },
                                    {
                                        "name": "OTSCustSaved"
                                    },
                                    {
                                        "name": "ShipToCustNum"
                                    },
                                    {
                                        "name": "OrderStatus"
                                    },
                                    {
                                        "name": "HoldSetByDemand"
                                    },
                                    {
                                        "name": "InPrice"
                                    },
                                    {
                                        "name": "InTotalCharges"
                                    },
                                    {
                                        "name": "InTotalMisc"
                                    },
                                    {
                                        "name": "InTotalDiscount"
                                    },
                                    {
                                        "name": "DocInTotalCharges"
                                    },
                                    {
                                        "name": "DocInTotalMisc"
                                    },
                                    {
                                        "name": "DocInTotalDiscount"
                                    },
                                    {
                                        "name": "Rpt1InTotalCharges"
                                    },
                                    {
                                        "name": "Rpt2InTotalCharges"
                                    },
                                    {
                                        "name": "Rpt3InTotalCharges"
                                    },
                                    {
                                        "name": "Rpt1InTotalMisc"
                                    },
                                    {
                                        "name": "Rpt2InTotalMisc"
                                    },
                                    {
                                        "name": "Rpt3InTotalMisc"
                                    },
                                    {
                                        "name": "Rpt1InTotalDiscount"
                                    },
                                    {
                                        "name": "Rpt2InTotalDiscount"
                                    },
                                    {
                                        "name": "Rpt3InTotalDiscount"
                                    },
                                    {
                                        "name": "ARLOCID"
                                    },
                                    {
                                        "name": "OurBank"
                                    },
                                    {
                                        "name": "ERSOrder"
                                    },
                                    {
                                        "name": "LOCHold"
                                    },
                                    {
                                        "name": "PSCurrCode"
                                    },
                                    {
                                        "name": "InvCurrCode"
                                    },
                                    {
                                        "name": "LegalNumber"
                                    },
                                    {
                                        "name": "TranDocTypeID"
                                    },
                                    {
                                        "name": "XRefContractNum"
                                    },
                                    {
                                        "name": "XRefContractDate"
                                    },
                                    {
                                        "name": "DemandProcessDate"
                                    },
                                    {
                                        "name": "DemandProcessTime"
                                    },
                                    {
                                        "name": "LastScheduleNumber"
                                    },
                                    {
                                        "name": "LastTCtrlNum"
                                    },
                                    {
                                        "name": "LastBatchNum"
                                    },
                                    {
                                        "name": "ECCOrderNum"
                                    },
                                    {
                                        "name": "ECCPONum"
                                    },
                                    {
                                        "name": "WIOrder"
                                    },
                                    {
                                        "name": "WIApplication"
                                    },
                                    {
                                        "name": "WIUsername"
                                    },
                                    {
                                        "name": "WIUserID"
                                    },
                                    {
                                        "name": "WICreditCardorder"
                                    },
                                    {
                                        "name": "OrderCSR"
                                    },
                                    {
                                        "name": "UserChar1"
                                    },
                                    {
                                        "name": "UserChar2"
                                    },
                                    {
                                        "name": "UserChar3"
                                    },
                                    {
                                        "name": "UserChar4"
                                    },
                                    {
                                        "name": "UserDate1"
                                    },
                                    {
                                        "name": "UserDate2"
                                    },
                                    {
                                        "name": "UserDate3"
                                    },
                                    {
                                        "name": "UserDate4"
                                    },
                                    {
                                        "name": "UserDecimal1"
                                    },
                                    {
                                        "name": "UserDecimal2"
                                    },
                                    {
                                        "name": "UserInteger1"
                                    },
                                    {
                                        "name": "UserInteger2"
                                    },
                                    {
                                        "name": "SysRevID"
                                    },
                                    {
                                        "name": "SysRowID"
                                    },
                                    {
                                        "name": "IsCSRSet"
                                    },
                                    {
                                        "name": "ECCPaymentMethod"
                                    },
                                    {
                                        "name": "AGUseGoodDefaultMark"
                                    },
                                    {
                                        "name": "OTSShipToNum"
                                    },
                                    {
                                        "name": "ProFormaInvComment"
                                    },
                                    {
                                        "name": "ccToken"
                                    },
                                    {
                                        "name": "InvcOrderCmp"
                                    },
                                    {
                                        "name": "ReprintSOAck"
                                    },
                                    {
                                        "name": "CounterSOAck"
                                    },
                                    {
                                        "name": "DispatchReason"
                                    },
                                    {
                                        "name": "Plant"
                                    },
                                    {
                                        "name": "ReadyToFulfill"
                                    },
                                    {
                                        "name": "ShipByTime"
                                    },
                                    {
                                        "name": "TWFiscalYear"
                                    },
                                    {
                                        "name": "TWFiscalYearSuffix"
                                    },
                                    {
                                        "name": "TWFiscalPeriod"
                                    },
                                    {
                                        "name": "TWGUIGroup"
                                    },
                                    {
                                        "name": "TWGUIRegNumSeller"
                                    },
                                    {
                                        "name": "TWGUIRegNumBuyer"
                                    },
                                    {
                                        "name": "OrderOpenCredit"
                                    },
                                    {
                                        "name": "ClosedNotShipped"
                                    },
                                    {
                                        "name": "InvCurrDepositBal"
                                    },
                                    {
                                        "name": "PLArticle106c"
                                    },
                                    {
                                        "name": "PLInvIssuedByTaxpayer"
                                    },
                                    {
                                        "name": "PLInvIssuedBySecondTaxpayer"
                                    },
                                    {
                                        "name": "PLTouristService"
                                    },
                                    {
                                        "name": "PLSecondHandOrArts"
                                    },
                                    {
                                        "name": "PLLegalArticleAct"
                                    },
                                    {
                                        "name": "PLLegalArticleWEDirective"
                                    },
                                    {
                                        "name": "PLLegalArticleOther"
                                    },
                                    {
                                        "name": "PLEnforcementAuthName"
                                    },
                                    {
                                        "name": "PLEnforcementAuthAddr"
                                    },
                                    {
                                        "name": "PLTaxRepresentativeName"
                                    },
                                    {
                                        "name": "PLTaxRepresentativeAddr"
                                    },
                                    {
                                        "name": "PLTaxRepresentativeTaxID"
                                    },
                                    {
                                        "name": "PLMarginScheme"
                                    },
                                    {
                                        "name": "PLGoodsOrServiceVATExempt"
                                    },
                                    {
                                        "name": "CCCity"
                                    },
                                    {
                                        "name": "CCState"
                                    },
                                    {
                                        "name": "ExtAOEUserID"
                                    },
                                    {
                                        "name": "ExtAOE"
                                    },
                                    {
                                        "name": "ForeignSysRowID"
                                    },
                                    {
                                        "name": "UD_SysRevID"
                                    },
                                    {
                                        "name": "AddToWatchedJobs_c"
                                    },
                                    {
                                        "name": "CloseDate_c"
                                    },
                                    {
                                        "name": "Division_c"
                                    },
                                    {
                                        "name": "ProjectID_c"
                                    },
                                    {
                                        "name": "ShipNotes_c"
                                    },
                                    {
                                        "name": "eBOSProjectName_c"
                                    },
                                    {
                                        "name": "LegacyID_c"
                                    }
                                ]
                            },
                            "data": [
                                {
                                    "OpenOrder": "0",
                                    "VoidOrder": "0",
                                    "Company": "SOLAR",
                                    "OrderNum": "143177",
                                    "CustNum": "59",
                                    "PONum": "",
                                    "OrderHeld": "0",
                                    "EntryPerson": "MAS",
                                    "ShipToNum": "0007",
                                    "RequestDate": "2014-09-05",
                                    "OrderDate": "2014-09-05",
                                    "FOB": "",
                                    "ShipViaCode": "",
                                    "TermsCode": "N45",
                                    "DiscountPercent": "0.00",
                                    "PrcConNum": "0",
                                    "ShpConNum": "0",
                                    "SalesRepList": "HOUSE",
                                    "OrderComment": "",
                                    "ShipComment": "",
                                    "InvoiceComment": "",
                                    "PickListComment": "",
                                    "DepositBal": "0.000",
                                    "DocDepositBal": "0.000",
                                    "NeedByDate": "2014-09-05",
                                    "CreditOverride": "0",
                                    "CreditOverrideUserID": "",
                                    "CreditOverrideDate": "NULL",
                                    "CreditOverrideTime": "",
                                    "CreditOverrideLimit": "0.000",
                                    "SndAlrtShp": "0",
                                    "ExchangeRate": "1.0000000000",
                                    "CurrencyCode": "USD",
                                    "LockRate": "0",
                                    "CardMemberName": "",
                                    "CardNumber": "",
                                    "CardType": "",
                                    "ExpirationMonth": "7",
                                    "ExpirationYear": "2017",
                                    "CardID": "",
                                    "CardmemberReference": "",
                                    "AllocPriorityCode": "",
                                    "ReservePriorityCode": "",
                                    "ShipOrderComplete": "0",
                                    "WebOrder": "0",
                                    "CCApprovalNum": "",
                                    "EDIOrder": "0",
                                    "EDIAck": "0",
                                    "Linked": "0",
                                    "ICPONum": "0",
                                    "ExtCompany": "",
                                    "WebEntryPerson": "",
                                    "AckEmailSent": "0",
                                    "ApplyOrderBasedDisc": "1",
                                    "AutoOrderBasedDisc": "0",
                                    "EntryMethod": "S",
                                    "HDCaseNum": "0",
                                    "CounterSale": "0",
                                    "CreateInvoice": "0",
                                    "CreatePackingSlip": "0",
                                    "LockQty": "0",
                                    "ProcessCard": "",
                                    "CCAmount": "65761.850",
                                    "CCFreight": "0.000",
                                    "CCTax": "0.000",
                                    "CCTotal": "65761.850",
                                    "CCDocAmount": "65761.850",
                                    "CCDocFreight": "0.000",
                                    "CCDocTax": "0.000",
                                    "CCDocTotal": "65761.850",
                                    "CCStreetAddr": "",
                                    "CCZip": "",
                                    "BTCustNum": "59",
                                    "BTConNum": "0",
                                    "RepRate4": "0.00",
                                    "RepRate5": "0.00",
                                    "RepSplit1": "100",
                                    "RepSplit2": "0",
                                    "RepSplit3": "0",
                                    "RepSplit4": "0",
                                    "RepSplit5": "0",
                                    "RepRate1": "0.00",
                                    "RepRate2": "0.00",
                                    "RepRate3": "0.00",
                                    "OutboundSalesDocCtr": "0",
                                    "OutboundShipDocsCtr": "0",
                                    "DemandContractNum": "0",
                                    "DoNotShipBeforeDate": "NULL",
                                    "ResDelivery": "0",
                                    "DoNotShipAfterDate": "NULL",
                                    "SatDelivery": "0",
                                    "SatPickup": "0",
                                    "Hazmat": "0",
                                    "DocOnly": "0",
                                    "RefNotes": "",
                                    "ApplyChrg": "0",
                                    "ChrgAmount": "0.000",
                                    "COD": "0",
                                    "CODFreight": "0",
                                    "CODCheck": "0",
                                    "CODAmount": "0.000",
                                    "GroundType": "",
                                    "NotifyFlag": "0",
                                    "NotifyEMail": "",
                                    "DeclaredIns": "0",
                                    "DeclaredAmt": "0.000",
                                    "CancelAfterDate": "NULL",
                                    "DemandRejected": "0",
                                    "OverrideCarrier": "0",
                                    "OverrideService": "0",
                                    "CreditCardOrder": "0",
                                    "DemandHeadSeq": "0",
                                    "PayFlag": "",
                                    "PayAccount": "",
                                    "PayBTAddress1": "",
                                    "PayBTAddress2": "",
                                    "PayBTCity": "",
                                    "PayBTState": "",
                                    "PayBTZip": "",
                                    "PayBTCountry": "",
                                    "DropShip": "0",
                                    "CommercialInvoice": "0",
                                    "ShipExprtDeclartn": "0",
                                    "CertOfOrigin": "0",
                                    "LetterOfInstr": "0",
                                    "FFID": "",
                                    "FFAddress1": "",
                                    "FFAddress2": "",
                                    "FFCity": "",
                                    "FFState": "",
                                    "FFZip": "",
                                    "FFCountry": "",
                                    "FFContact": "",
                                    "FFCompName": "",
                                    "FFPhoneNum": "",
                                    "IntrntlShip": "0",
                                    "ChangedBy": "TFLICKS",
                                    "ChangeDate": "2018-06-29",
                                    "ChangeTime": "46904",
                                    "AutoPrintReady": "0",
                                    "EDIReady": "0",
                                    "IndividualPackIDs": "0",
                                    "FFAddress3": "",
                                    "DeliveryConf": "1",
                                    "AddlHdlgFlag": "0",
                                    "NonStdPkg": "0",
                                    "ServSignature": "0",
                                    "ServAlert": "0",
                                    "ServHomeDel": "0",
                                    "DeliveryType": "",
                                    "ServDeliveryDate": "NULL",
                                    "ServInstruct": "",
                                    "ServRef1": "",
                                    "ServRef2": "",
                                    "ServRef3": "",
                                    "ServRef4": "",
                                    "ServRef5": "",
                                    "FFCountryNum": "0",
                                    "ServPhone": "",
                                    "ServRelease": "0",
                                    "ServAuthNum": "",
                                    "PayBTAddress3": "",
                                    "PayBTCountryNum": "0",
                                    "PayBTPhone": "",
                                    "UPSQuantumView": "0",
                                    "UPSQVShipFromName": "",
                                    "UPSQVMemo": "",
                                    "ReadyToCalc": "1",
                                    "TotalCharges": "0.000",
                                    "TotalMisc": "0.000",
                                    "TotalDiscount": "0.000",
                                    "TotalComm": "0.000",
                                    "TotalAdvBill": "0.000",
                                    "TotalLines": "12",
                                    "TotalReleases": "12",
                                    "TotalRelDates": "1",
                                    "DocTotalCharges": "0.000",
                                    "DocTotalMisc": "0.000",
                                    "DocTotalDiscount": "0.000",
                                    "DocTotalComm": "0.000",
                                    "TotalTax": "0.000",
                                    "DocTotalTax": "0.000",
                                    "DocTotalAdvBill": "0.000",
                                    "TotalShipped": "0.000",
                                    "TotalInvoiced": "0.000",
                                    "TotalCommLines": "12",
                                    "SRCommAmt1": "0.000",
                                    "SRCommAmt2": "0.000",
                                    "SRCommAmt3": "0.000",
                                    "SRCommAmt4": "0.000",
                                    "SRCommAmt5": "0.000",
                                    "SRCommableAmt1": "0.000",
                                    "SRCommableAmt2": "0.000",
                                    "SRCommableAmt3": "0.000",
                                    "SRCommableAmt4": "0.000",
                                    "SRCommableAmt5": "0.000",
                                    "Rounding": "0.00000",
                                    "Rpt1DepositBal": "0.000",
                                    "DocRounding": "0.00000",
                                    "Rpt2DepositBal": "0.000",
                                    "Rpt3DepositBal": "0.000",
                                    "Rpt1TotalCharges": "0.000",
                                    "Rpt2TotalCharges": "0.000",
                                    "Rpt3TotalCharges": "0.000",
                                    "Rpt1TotalAdvBill": "0.000",
                                    "Rpt2TotalAdvBill": "0.000",
                                    "Rpt3TotalAdvBill": "0.000",
                                    "Rpt1TotalMisc": "0.000",
                                    "Rpt2TotalMisc": "0.000",
                                    "Rpt3TotalMisc": "0.000",
                                    "Rpt1TotalDiscount": "0.000",
                                    "Rpt2TotalDiscount": "0.000",
                                    "Rpt3TotalDiscount": "0.000",
                                    "Rpt1TotalComm": "0.000",
                                    "Rpt2TotalComm": "0.000",
                                    "Rpt3TotalComm": "0.000",
                                    "Rpt1TotalTax": "0.000",
                                    "Rpt2TotalTax": "0.000",
                                    "Rpt1Rounding": "0.00000",
                                    "Rpt2Rounding": "0.00000",
                                    "Rpt3Rounding": "0.00000",
                                    "RateGrpCode": "MAIN",
                                    "Rpt3TotalTax": "0.000",
                                    "Rpt1CCAmount": "0.000",
                                    "Rpt2CCAmount": "0.000",
                                    "Rpt3CCAmount": "0.000",
                                    "Rpt1CCFreight": "0.000",
                                    "Rpt2CCFreight": "0.000",
                                    "Rpt3CCFreight": "0.000",
                                    "Rpt1CCTax": "0.000",
                                    "Rpt2CCTax": "0.000",
                                    "Rpt3CCTax": "0.000",
                                    "Rpt1CCTotal": "0.000",
                                    "Rpt2CCTotal": "0.000",
                                    "Rpt3CCTotal": "0.000",
                                    "OrderAmt": "0.000",
                                    "DocOrderAmt": "0.000",
                                    "Rpt1OrderAmt": "0.000",
                                    "Rpt2OrderAmt": "0.000",
                                    "Rpt3OrderAmt": "0.000",
                                    "TaxPoint": "NULL",
                                    "TaxRateDate": "NULL",
                                    "TaxRegionCode": "",
                                    "UseOTS": "0",
                                    "OTSName": "",
                                    "OTSAddress1": "",
                                    "OTSAddress2": "",
                                    "OTSAddress3": "",
                                    "OTSCity": "",
                                    "OTSState": "",
                                    "OTSZIP": "",
                                    "OTSResaleID": "",
                                    "OTSContact": "",
                                    "OTSFaxNum": "",
                                    "OTSPhoneNum": "",
                                    "OTSCountryNum": "0",
                                    "TotalWHTax": "0.000",
                                    "DocTotalWHTax": "0.000",
                                    "Rpt1TotalWHTax": "0.000",
                                    "Rpt2TotalWHTax": "0.000",
                                    "Rpt3TotalWHTax": "0.000",
                                    "TotalSATax": "0.000",
                                    "DocTotalSATax": "0.000",
                                    "Rpt1TotalSATax": "0.000",
                                    "Rpt2TotalSATax": "0.000",
                                    "Rpt3TotalSATax": "0.000",
                                    "OTSSaveAs": "",
                                    "OTSSaveCustID": "",
                                    "OTSCustSaved": "0",
                                    "ShipToCustNum": "59",
                                    "OrderStatus": "",
                                    "HoldSetByDemand": "0",
                                    "InPrice": "0",
                                    "InTotalCharges": "0.000",
                                    "InTotalMisc": "0.000",
                                    "InTotalDiscount": "0.000",
                                    "DocInTotalCharges": "0.000",
                                    "DocInTotalMisc": "0.000",
                                    "DocInTotalDiscount": "0.000",
                                    "Rpt1InTotalCharges": "0.000",
                                    "Rpt2InTotalCharges": "0.000",
                                    "Rpt3InTotalCharges": "0.000",
                                    "Rpt1InTotalMisc": "0.000",
                                    "Rpt2InTotalMisc": "0.000",
                                    "Rpt3InTotalMisc": "0.000",
                                    "Rpt1InTotalDiscount": "0.000",
                                    "Rpt2InTotalDiscount": "0.000",
                                    "Rpt3InTotalDiscount": "0.000",
                                    "ARLOCID": "",
                                    "OurBank": "",
                                    "ERSOrder": "0",
                                    "LOCHold": "0",
                                    "PSCurrCode": "USD",
                                    "InvCurrCode": "USD",
                                    "LegalNumber": "",
                                    "TranDocTypeID": "",
                                    "XRefContractNum": "",
                                    "XRefContractDate": "NULL",
                                    "DemandProcessDate": "NULL",
                                    "DemandProcessTime": "0",
                                    "LastScheduleNumber": "",
                                    "LastTCtrlNum": "",
                                    "LastBatchNum": "",
                                    "ECCOrderNum": "",
                                    "ECCPONum": "",
                                    "WIOrder": "",
                                    "WIApplication": "",
                                    "WIUsername": "",
                                    "WIUserID": "",
                                    "WICreditCardorder": "0",
                                    "OrderCSR": "",
                                    "UserChar1": "Imported From 6.1",
                                    "UserChar2": "",
                                    "UserChar3": "",
                                    "UserChar4": "",
                                    "UserDate1": "2018-06-29",
                                    "UserDate2": "NULL",
                                    "UserDate3": "NULL",
                                    "UserDate4": "NULL",
                                    "UserDecimal1": "0.00",
                                    "UserDecimal2": "0.00",
                                    "UserInteger1": "0",
                                    "UserInteger2": "0",
                                    "SysRevID": "0x0000000025F6E811",
                                    "SysRowID": "10cd1977-0ef5-4ea6-8c66-c71cde9f0d17",
                                    "IsCSRSet": "0",
                                    "ECCPaymentMethod": "",
                                    "AGUseGoodDefaultMark": "0",
                                    "OTSShipToNum": "",
                                    "ProFormaInvComment": "",
                                    "ccToken": "",
                                    "InvcOrderCmp": "0",
                                    "ReprintSOAck": "0",
                                    "CounterSOAck": "0",
                                    "DispatchReason": "",
                                    "Plant": "",
                                    "ReadyToFulfill": "0",
                                    "ShipByTime": "0",
                                    "TWFiscalYear": "0",
                                    "TWFiscalYearSuffix": "",
                                    "TWFiscalPeriod": "0",
                                    "TWGUIGroup": "",
                                    "TWGUIRegNumSeller": "",
                                    "TWGUIRegNumBuyer": "",
                                    "OrderOpenCredit": "0.000",
                                    "ClosedNotShipped": "0.000",
                                    "InvCurrDepositBal": "0.000",
                                    "PLArticle106c": "0",
                                    "PLInvIssuedByTaxpayer": "0",
                                    "PLInvIssuedBySecondTaxpayer": "0",
                                    "PLTouristService": "0",
                                    "PLSecondHandOrArts": "0",
                                    "PLLegalArticleAct": "",
                                    "PLLegalArticleWEDirective": "",
                                    "PLLegalArticleOther": "",
                                    "PLEnforcementAuthName": "",
                                    "PLEnforcementAuthAddr": "",
                                    "PLTaxRepresentativeName": "",
                                    "PLTaxRepresentativeAddr": "",
                                    "PLTaxRepresentativeTaxID": "",
                                    "PLMarginScheme": "0",
                                    "PLGoodsOrServiceVATExempt": "0",
                                    "CCCity": "",
                                    "CCState": "",
                                    "ExtAOEUserID": "",
                                    "ExtAOE": "",
                                    "ForeignSysRowID": "10cd1977-0ef5-4ea6-8c66-c71cde9f0d17",
                                    "UD_SysRevID": "0x000000000033B92A",
                                    "AddToWatchedJobs_c": "0",
                                    "CloseDate_c": "NULL",
                                    "Division_c": "3",
                                    "ProjectID_c": "",
                                    "ShipNotes_c": "",
                                    "eBOSProjectName_c": "",
                                    "LegacyID_c": ""
                                },
                                {
                                    "OpenOrder": "0",
                                    "VoidOrder": "0",
                                    "Company": "SOLAR",
                                    "OrderNum": "153030",
                                    "CustNum": "49",
                                    "PONum": "",
                                    "OrderHeld": "0",
                                    "EntryPerson": "MAS",
                                    "ShipToNum": "0057",
                                    "RequestDate": "2016-11-09",
                                    "OrderDate": "2015-01-19",
                                    "FOB": "",
                                    "ShipViaCode": "",
                                    "TermsCode": "N45",
                                    "DiscountPercent": "0.00",
                                    "PrcConNum": "0",
                                    "ShpConNum": "0",
                                    "SalesRepList": "HOUSE",
                                    "OrderComment": "",
                                    "ShipComment": "",
                                    "InvoiceComment": "",
                                    "PickListComment": "",
                                    "DepositBal": "0.000",
                                    "DocDepositBal": "0.000",
                                    "NeedByDate": "2016-11-09",
                                    "CreditOverride": "0",
                                    "CreditOverrideUserID": "",
                                    "CreditOverrideDate": "NULL",
                                    "CreditOverrideTime": "",
                                    "CreditOverrideLimit": "0.000",
                                    "SndAlrtShp": "0",
                                    "ExchangeRate": "1.0000000000",
                                    "CurrencyCode": "USD",
                                    "LockRate": "0",
                                    "CardMemberName": "",
                                    "CardNumber": "",
                                    "CardType": "",
                                    "ExpirationMonth": "7",
                                    "ExpirationYear": "2017",
                                    "CardID": "",
                                    "CardmemberReference": "",
                                    "AllocPriorityCode": "",
                                    "ReservePriorityCode": "",
                                    "ShipOrderComplete": "0",
                                    "WebOrder": "0",
                                    "CCApprovalNum": "",
                                    "EDIOrder": "0",
                                    "EDIAck": "0",
                                    "Linked": "0",
                                    "ICPONum": "0",
                                    "ExtCompany": "",
                                    "WebEntryPerson": "",
                                    "AckEmailSent": "0",
                                    "ApplyOrderBasedDisc": "1",
                                    "AutoOrderBasedDisc": "0",
                                    "EntryMethod": "S",
                                    "HDCaseNum": "0",
                                    "CounterSale": "0",
                                    "CreateInvoice": "0",
                                    "CreatePackingSlip": "0",
                                    "LockQty": "0",
                                    "ProcessCard": "",
                                    "CCAmount": "248589.000",
                                    "CCFreight": "0.000",
                                    "CCTax": "0.000",
                                    "CCTotal": "248589.000",
                                    "CCDocAmount": "248589.000",
                                    "CCDocFreight": "0.000",
                                    "CCDocTax": "0.000",
                                    "CCDocTotal": "248589.000",
                                    "CCStreetAddr": "",
                                    "CCZip": "",
                                    "BTCustNum": "49",
                                    "BTConNum": "0",
                                    "RepRate4": "0.00",
                                    "RepRate5": "0.00",
                                    "RepSplit1": "100",
                                    "RepSplit2": "0",
                                    "RepSplit3": "0",
                                    "RepSplit4": "0",
                                    "RepSplit5": "0",
                                    "RepRate1": "0.00",
                                    "RepRate2": "0.00",
                                    "RepRate3": "0.00",
                                    "OutboundSalesDocCtr": "0",
                                    "OutboundShipDocsCtr": "0",
                                    "DemandContractNum": "0",
                                    "DoNotShipBeforeDate": "NULL",
                                    "ResDelivery": "0",
                                    "DoNotShipAfterDate": "NULL",
                                    "SatDelivery": "0",
                                    "SatPickup": "0",
                                    "Hazmat": "0",
                                    "DocOnly": "0",
                                    "RefNotes": "",
                                    "ApplyChrg": "0",
                                    "ChrgAmount": "0.000",
                                    "COD": "0",
                                    "CODFreight": "0",
                                    "CODCheck": "0",
                                    "CODAmount": "0.000",
                                    "GroundType": "",
                                    "NotifyFlag": "0",
                                    "NotifyEMail": "",
                                    "DeclaredIns": "0",
                                    "DeclaredAmt": "0.000",
                                    "CancelAfterDate": "NULL",
                                    "DemandRejected": "0",
                                    "OverrideCarrier": "0",
                                    "OverrideService": "0",
                                    "CreditCardOrder": "0",
                                    "DemandHeadSeq": "0",
                                    "PayFlag": "",
                                    "PayAccount": "",
                                    "PayBTAddress1": "",
                                    "PayBTAddress2": "",
                                    "PayBTCity": "",
                                    "PayBTState": "",
                                    "PayBTZip": "",
                                    "PayBTCountry": "",
                                    "DropShip": "0",
                                    "CommercialInvoice": "0",
                                    "ShipExprtDeclartn": "0",
                                    "CertOfOrigin": "0",
                                    "LetterOfInstr": "0",
                                    "FFID": "",
                                    "FFAddress1": "",
                                    "FFAddress2": "",
                                    "FFCity": "",
                                    "FFState": "",
                                    "FFZip": "",
                                    "FFCountry": "",
                                    "FFContact": "",
                                    "FFCompName": "",
                                    "FFPhoneNum": "",
                                    "IntrntlShip": "0",
                                    "ChangedBy": "TFLICKS",
                                    "ChangeDate": "2017-10-27",
                                    "ChangeTime": "42685",
                                    "AutoPrintReady": "0",
                                    "EDIReady": "0",
                                    "IndividualPackIDs": "0",
                                    "FFAddress3": "",
                                    "DeliveryConf": "1",
                                    "AddlHdlgFlag": "0",
                                    "NonStdPkg": "0",
                                    "ServSignature": "0",
                                    "ServAlert": "0",
                                    "ServHomeDel": "0",
                                    "DeliveryType": "",
                                    "ServDeliveryDate": "NULL",
                                    "ServInstruct": "",
                                    "ServRef1": "",
                                    "ServRef2": "",
                                    "ServRef3": "",
                                    "ServRef4": "",
                                    "ServRef5": "",
                                    "FFCountryNum": "0",
                                    "ServPhone": "",
                                    "ServRelease": "0",
                                    "ServAuthNum": "",
                                    "PayBTAddress3": "",
                                    "PayBTCountryNum": "0",
                                    "PayBTPhone": "",
                                    "UPSQuantumView": "0",
                                    "UPSQVShipFromName": "",
                                    "UPSQVMemo": "",
                                    "ReadyToCalc": "1",
                                    "TotalCharges": "248589.000",
                                    "TotalMisc": "0.000",
                                    "TotalDiscount": "0.000",
                                    "TotalComm": "0.000",
                                    "TotalAdvBill": "0.000",
                                    "TotalLines": "5",
                                    "TotalReleases": "5",
                                    "TotalRelDates": "1",
                                    "DocTotalCharges": "248589.000",
                                    "DocTotalMisc": "0.000",
                                    "DocTotalDiscount": "0.000",
                                    "DocTotalComm": "0.000",
                                    "TotalTax": "0.000",
                                    "DocTotalTax": "0.000",
                                    "DocTotalAdvBill": "0.000",
                                    "TotalShipped": "0.000",
                                    "TotalInvoiced": "248589.000",
                                    "TotalCommLines": "5",
                                    "SRCommAmt1": "0.000",
                                    "SRCommAmt2": "0.000",
                                    "SRCommAmt3": "0.000",
                                    "SRCommAmt4": "0.000",
                                    "SRCommAmt5": "0.000",
                                    "SRCommableAmt1": "248589.000",
                                    "SRCommableAmt2": "0.000",
                                    "SRCommableAmt3": "0.000",
                                    "SRCommableAmt4": "0.000",
                                    "SRCommableAmt5": "0.000",
                                    "Rounding": "0.00000",
                                    "Rpt1DepositBal": "0.000",
                                    "DocRounding": "0.00000",
                                    "Rpt2DepositBal": "0.000",
                                    "Rpt3DepositBal": "0.000",
                                    "Rpt1TotalCharges": "0.000",
                                    "Rpt2TotalCharges": "0.000",
                                    "Rpt3TotalCharges": "0.000",
                                    "Rpt1TotalAdvBill": "0.000",
                                    "Rpt2TotalAdvBill": "0.000",
                                    "Rpt3TotalAdvBill": "0.000",
                                    "Rpt1TotalMisc": "0.000",
                                    "Rpt2TotalMisc": "0.000",
                                    "Rpt3TotalMisc": "0.000",
                                    "Rpt1TotalDiscount": "0.000",
                                    "Rpt2TotalDiscount": "0.000",
                                    "Rpt3TotalDiscount": "0.000",
                                    "Rpt1TotalComm": "0.000",
                                    "Rpt2TotalComm": "0.000",
                                    "Rpt3TotalComm": "0.000",
                                    "Rpt1TotalTax": "0.000",
                                    "Rpt2TotalTax": "0.000",
                                    "Rpt1Rounding": "0.00000",
                                    "Rpt2Rounding": "0.00000",
                                    "Rpt3Rounding": "0.00000",
                                    "RateGrpCode": "MAIN",
                                    "Rpt3TotalTax": "0.000",
                                    "Rpt1CCAmount": "0.000",
                                    "Rpt2CCAmount": "0.000",
                                    "Rpt3CCAmount": "0.000",
                                    "Rpt1CCFreight": "0.000",
                                    "Rpt2CCFreight": "0.000",
                                    "Rpt3CCFreight": "0.000",
                                    "Rpt1CCTax": "0.000",
                                    "Rpt2CCTax": "0.000",
                                    "Rpt3CCTax": "0.000",
                                    "Rpt1CCTotal": "0.000",
                                    "Rpt2CCTotal": "0.000",
                                    "Rpt3CCTotal": "0.000",
                                    "OrderAmt": "248589.000",
                                    "DocOrderAmt": "248589.000",
                                    "Rpt1OrderAmt": "0.000",
                                    "Rpt2OrderAmt": "0.000",
                                    "Rpt3OrderAmt": "0.000",
                                    "TaxPoint": "NULL",
                                    "TaxRateDate": "NULL",
                                    "TaxRegionCode": "",
                                    "UseOTS": "0",
                                    "OTSName": "",
                                    "OTSAddress1": "",
                                    "OTSAddress2": "",
                                    "OTSAddress3": "",
                                    "OTSCity": "",
                                    "OTSState": "",
                                    "OTSZIP": "",
                                    "OTSResaleID": "",
                                    "OTSContact": "",
                                    "OTSFaxNum": "",
                                    "OTSPhoneNum": "",
                                    "OTSCountryNum": "0",
                                    "TotalWHTax": "0.000",
                                    "DocTotalWHTax": "0.000",
                                    "Rpt1TotalWHTax": "0.000",
                                    "Rpt2TotalWHTax": "0.000",
                                    "Rpt3TotalWHTax": "0.000",
                                    "TotalSATax": "0.000",
                                    "DocTotalSATax": "0.000",
                                    "Rpt1TotalSATax": "0.000",
                                    "Rpt2TotalSATax": "0.000",
                                    "Rpt3TotalSATax": "0.000",
                                    "OTSSaveAs": "",
                                    "OTSSaveCustID": "",
                                    "OTSCustSaved": "0",
                                    "ShipToCustNum": "49",
                                    "OrderStatus": "",
                                    "HoldSetByDemand": "0",
                                    "InPrice": "0",
                                    "InTotalCharges": "0.000",
                                    "InTotalMisc": "0.000",
                                    "InTotalDiscount": "0.000",
                                    "DocInTotalCharges": "0.000",
                                    "DocInTotalMisc": "0.000",
                                    "DocInTotalDiscount": "0.000",
                                    "Rpt1InTotalCharges": "0.000",
                                    "Rpt2InTotalCharges": "0.000",
                                    "Rpt3InTotalCharges": "0.000",
                                    "Rpt1InTotalMisc": "0.000",
                                    "Rpt2InTotalMisc": "0.000",
                                    "Rpt3InTotalMisc": "0.000",
                                    "Rpt1InTotalDiscount": "0.000",
                                    "Rpt2InTotalDiscount": "0.000",
                                    "Rpt3InTotalDiscount": "0.000",
                                    "ARLOCID": "",
                                    "OurBank": "",
                                    "ERSOrder": "0",
                                    "LOCHold": "0",
                                    "PSCurrCode": "USD",
                                    "InvCurrCode": "USD",
                                    "LegalNumber": "",
                                    "TranDocTypeID": "",
                                    "XRefContractNum": "",
                                    "XRefContractDate": "NULL",
                                    "DemandProcessDate": "NULL",
                                    "DemandProcessTime": "0",
                                    "LastScheduleNumber": "",
                                    "LastTCtrlNum": "",
                                    "LastBatchNum": "",
                                    "ECCOrderNum": "",
                                    "ECCPONum": "",
                                    "WIOrder": "",
                                    "WIApplication": "",
                                    "WIUsername": "",
                                    "WIUserID": "",
                                    "WICreditCardorder": "0",
                                    "OrderCSR": "",
                                    "UserChar1": "Imported From 6.1",
                                    "UserChar2": "",
                                    "UserChar3": "",
                                    "UserChar4": "",
                                    "UserDate1": "2017-10-27",
                                    "UserDate2": "NULL",
                                    "UserDate3": "NULL",
                                    "UserDate4": "NULL",
                                    "UserDecimal1": "0.00",
                                    "UserDecimal2": "0.00",
                                    "UserInteger1": "0",
                                    "UserInteger2": "0",
                                    "SysRevID": "0x000000000DE03521",
                                    "SysRowID": "147a5a98-0861-4ac7-a0d0-1eb0f35de092",
                                    "IsCSRSet": "0",
                                    "ECCPaymentMethod": "",
                                    "AGUseGoodDefaultMark": "0",
                                    "OTSShipToNum": "",
                                    "ProFormaInvComment": "",
                                    "ccToken": "",
                                    "InvcOrderCmp": "0",
                                    "ReprintSOAck": "0",
                                    "CounterSOAck": "0",
                                    "DispatchReason": "",
                                    "Plant": "",
                                    "ReadyToFulfill": "0",
                                    "ShipByTime": "0",
                                    "TWFiscalYear": "0",
                                    "TWFiscalYearSuffix": "",
                                    "TWFiscalPeriod": "0",
                                    "TWGUIGroup": "",
                                    "TWGUIRegNumSeller": "",
                                    "TWGUIRegNumBuyer": "",
                                    "OrderOpenCredit": "0.000",
                                    "ClosedNotShipped": "0.000",
                                    "InvCurrDepositBal": "0.000",
                                    "PLArticle106c": "0",
                                    "PLInvIssuedByTaxpayer": "0",
                                    "PLInvIssuedBySecondTaxpayer": "0",
                                    "PLTouristService": "0",
                                    "PLSecondHandOrArts": "0",
                                    "PLLegalArticleAct": "",
                                    "PLLegalArticleWEDirective": "",
                                    "PLLegalArticleOther": "",
                                    "PLEnforcementAuthName": "",
                                    "PLEnforcementAuthAddr": "",
                                    "PLTaxRepresentativeName": "",
                                    "PLTaxRepresentativeAddr": "",
                                    "PLTaxRepresentativeTaxID": "",
                                    "PLMarginScheme": "0",
                                    "PLGoodsOrServiceVATExempt": "0",
                                    "CCCity": "",
                                    "CCState": "",
                                    "ExtAOEUserID": "",
                                    "ExtAOE": "",
                                    "ForeignSysRowID": "147a5a98-0861-4ac7-a0d0-1eb0f35de092",
                                    "UD_SysRevID": "0x000000000033B7C6",
                                    "AddToWatchedJobs_c": "0",
                                    "CloseDate_c": "NULL",
                                    "Division_c": "3",
                                    "ProjectID_c": "",
                                    "ShipNotes_c": "",
                                    "eBOSProjectName_c": "",
                                    "LegacyID_c": ""
                                },
                                {
                                    "OpenOrder": "0",
                                    "VoidOrder": "1",
                                    "Company": "SOLAR",
                                    "OrderNum": "153071",
                                    "CustNum": "49",
                                    "PONum": "153071",
                                    "OrderHeld": "0",
                                    "EntryPerson": "MAS",
                                    "ShipToNum": "0065",
                                    "RequestDate": "2017-06-01",
                                    "OrderDate": "2015-02-24",
                                    "FOB": "",
                                    "ShipViaCode": "",
                                    "TermsCode": "N45",
                                    "DiscountPercent": "0.00",
                                    "PrcConNum": "0",
                                    "ShpConNum": "0",
                                    "SalesRepList": "HOUSE",
                                    "OrderComment": "",
                                    "ShipComment": "",
                                    "InvoiceComment": "",
                                    "PickListComment": "",
                                    "DepositBal": "0.000",
                                    "DocDepositBal": "0.000",
                                    "NeedByDate": "2017-06-01",
                                    "CreditOverride": "0",
                                    "CreditOverrideUserID": "",
                                    "CreditOverrideDate": "NULL",
                                    "CreditOverrideTime": "",
                                    "CreditOverrideLimit": "0.000",
                                    "SndAlrtShp": "0",
                                    "ExchangeRate": "1.0000000000",
                                    "CurrencyCode": "USD",
                                    "LockRate": "0",
                                    "CardMemberName": "",
                                    "CardNumber": "",
                                    "CardType": "",
                                    "ExpirationMonth": "7",
                                    "ExpirationYear": "2017",
                                    "CardID": "",
                                    "CardmemberReference": "",
                                    "AllocPriorityCode": "",
                                    "ReservePriorityCode": "",
                                    "ShipOrderComplete": "0",
                                    "WebOrder": "0",
                                    "CCApprovalNum": "",
                                    "EDIOrder": "0",
                                    "EDIAck": "0",
                                    "Linked": "0",
                                    "ICPONum": "0",
                                    "ExtCompany": "",
                                    "WebEntryPerson": "",
                                    "AckEmailSent": "0",
                                    "ApplyOrderBasedDisc": "1",
                                    "AutoOrderBasedDisc": "0",
                                    "EntryMethod": "S",
                                    "HDCaseNum": "0",
                                    "CounterSale": "0",
                                    "CreateInvoice": "0",
                                    "CreatePackingSlip": "0",
                                    "LockQty": "0",
                                    "ProcessCard": "",
                                    "CCAmount": "0.000",
                                    "CCFreight": "0.000",
                                    "CCTax": "0.000",
                                    "CCTotal": "0.000",
                                    "CCDocAmount": "0.000",
                                    "CCDocFreight": "0.000",
                                    "CCDocTax": "0.000",
                                    "CCDocTotal": "0.000",
                                    "CCStreetAddr": "",
                                    "CCZip": "",
                                    "BTCustNum": "49",
                                    "BTConNum": "0",
                                    "RepRate4": "0.00",
                                    "RepRate5": "0.00",
                                    "RepSplit1": "100",
                                    "RepSplit2": "0",
                                    "RepSplit3": "0",
                                    "RepSplit4": "0",
                                    "RepSplit5": "0",
                                    "RepRate1": "0.00",
                                    "RepRate2": "0.00",
                                    "RepRate3": "0.00",
                                    "OutboundSalesDocCtr": "0",
                                    "OutboundShipDocsCtr": "0",
                                    "DemandContractNum": "0",
                                    "DoNotShipBeforeDate": "NULL",
                                    "ResDelivery": "0",
                                    "DoNotShipAfterDate": "NULL",
                                    "SatDelivery": "0",
                                    "SatPickup": "0",
                                    "Hazmat": "0",
                                    "DocOnly": "0",
                                    "RefNotes": "",
                                    "ApplyChrg": "0",
                                    "ChrgAmount": "0.000",
                                    "COD": "0",
                                    "CODFreight": "0",
                                    "CODCheck": "0",
                                    "CODAmount": "0.000",
                                    "GroundType": "",
                                    "NotifyFlag": "0",
                                    "NotifyEMail": "",
                                    "DeclaredIns": "0",
                                    "DeclaredAmt": "0.000",
                                    "CancelAfterDate": "NULL",
                                    "DemandRejected": "0",
                                    "OverrideCarrier": "0",
                                    "OverrideService": "0",
                                    "CreditCardOrder": "0",
                                    "DemandHeadSeq": "0",
                                    "PayFlag": "",
                                    "PayAccount": "",
                                    "PayBTAddress1": "",
                                    "PayBTAddress2": "",
                                    "PayBTCity": "",
                                    "PayBTState": "",
                                    "PayBTZip": "",
                                    "PayBTCountry": "",
                                    "DropShip": "0",
                                    "CommercialInvoice": "0",
                                    "ShipExprtDeclartn": "0",
                                    "CertOfOrigin": "0",
                                    "LetterOfInstr": "0",
                                    "FFID": "",
                                    "FFAddress1": "",
                                    "FFAddress2": "",
                                    "FFCity": "",
                                    "FFState": "",
                                    "FFZip": "",
                                    "FFCountry": "",
                                    "FFContact": "",
                                    "FFCompName": "",
                                    "FFPhoneNum": "",
                                    "IntrntlShip": "0",
                                    "ChangedBy": "manager",
                                    "ChangeDate": "2017-07-03",
                                    "ChangeTime": "67073",
                                    "AutoPrintReady": "0",
                                    "EDIReady": "0",
                                    "IndividualPackIDs": "0",
                                    "FFAddress3": "",
                                    "DeliveryConf": "1",
                                    "AddlHdlgFlag": "0",
                                    "NonStdPkg": "0",
                                    "ServSignature": "0",
                                    "ServAlert": "0",
                                    "ServHomeDel": "0",
                                    "DeliveryType": "",
                                    "ServDeliveryDate": "NULL",
                                    "ServInstruct": "",
                                    "ServRef1": "",
                                    "ServRef2": "",
                                    "ServRef3": "",
                                    "ServRef4": "",
                                    "ServRef5": "",
                                    "FFCountryNum": "0",
                                    "ServPhone": "",
                                    "ServRelease": "0",
                                    "ServAuthNum": "",
                                    "PayBTAddress3": "",
                                    "PayBTCountryNum": "0",
                                    "PayBTPhone": "",
                                    "UPSQuantumView": "0",
                                    "UPSQVShipFromName": "",
                                    "UPSQVMemo": "",
                                    "ReadyToCalc": "1",
                                    "TotalCharges": "0.000",
                                    "TotalMisc": "0.000",
                                    "TotalDiscount": "0.000",
                                    "TotalComm": "0.000",
                                    "TotalAdvBill": "0.000",
                                    "TotalLines": "0",
                                    "TotalReleases": "0",
                                    "TotalRelDates": "0",
                                    "DocTotalCharges": "0.000",
                                    "DocTotalMisc": "0.000",
                                    "DocTotalDiscount": "0.000",
                                    "DocTotalComm": "0.000",
                                    "TotalTax": "0.000",
                                    "DocTotalTax": "0.000",
                                    "DocTotalAdvBill": "0.000",
                                    "TotalShipped": "0.000",
                                    "TotalInvoiced": "0.000",
                                    "TotalCommLines": "0",
                                    "SRCommAmt1": "0.000",
                                    "SRCommAmt2": "0.000",
                                    "SRCommAmt3": "0.000",
                                    "SRCommAmt4": "0.000",
                                    "SRCommAmt5": "0.000",
                                    "SRCommableAmt1": "0.000",
                                    "SRCommableAmt2": "0.000",
                                    "SRCommableAmt3": "0.000",
                                    "SRCommableAmt4": "0.000",
                                    "SRCommableAmt5": "0.000",
                                    "Rounding": "0.00000",
                                    "Rpt1DepositBal": "0.000",
                                    "DocRounding": "0.00000",
                                    "Rpt2DepositBal": "0.000",
                                    "Rpt3DepositBal": "0.000",
                                    "Rpt1TotalCharges": "0.000",
                                    "Rpt2TotalCharges": "0.000",
                                    "Rpt3TotalCharges": "0.000",
                                    "Rpt1TotalAdvBill": "0.000",
                                    "Rpt2TotalAdvBill": "0.000",
                                    "Rpt3TotalAdvBill": "0.000",
                                    "Rpt1TotalMisc": "0.000",
                                    "Rpt2TotalMisc": "0.000",
                                    "Rpt3TotalMisc": "0.000",
                                    "Rpt1TotalDiscount": "0.000",
                                    "Rpt2TotalDiscount": "0.000",
                                    "Rpt3TotalDiscount": "0.000",
                                    "Rpt1TotalComm": "0.000",
                                    "Rpt2TotalComm": "0.000",
                                    "Rpt3TotalComm": "0.000",
                                    "Rpt1TotalTax": "0.000",
                                    "Rpt2TotalTax": "0.000",
                                    "Rpt1Rounding": "0.00000",
                                    "Rpt2Rounding": "0.00000",
                                    "Rpt3Rounding": "0.00000",
                                    "RateGrpCode": "MAIN",
                                    "Rpt3TotalTax": "0.000",
                                    "Rpt1CCAmount": "0.000",
                                    "Rpt2CCAmount": "0.000",
                                    "Rpt3CCAmount": "0.000",
                                    "Rpt1CCFreight": "0.000",
                                    "Rpt2CCFreight": "0.000",
                                    "Rpt3CCFreight": "0.000",
                                    "Rpt1CCTax": "0.000",
                                    "Rpt2CCTax": "0.000",
                                    "Rpt3CCTax": "0.000",
                                    "Rpt1CCTotal": "0.000",
                                    "Rpt2CCTotal": "0.000",
                                    "Rpt3CCTotal": "0.000",
                                    "OrderAmt": "0.000",
                                    "DocOrderAmt": "0.000",
                                    "Rpt1OrderAmt": "0.000",
                                    "Rpt2OrderAmt": "0.000",
                                    "Rpt3OrderAmt": "0.000",
                                    "TaxPoint": "NULL",
                                    "TaxRateDate": "NULL",
                                    "TaxRegionCode": "",
                                    "UseOTS": "0",
                                    "OTSName": "",
                                    "OTSAddress1": "",
                                    "OTSAddress2": "",
                                    "OTSAddress3": "",
                                    "OTSCity": "",
                                    "OTSState": "",
                                    "OTSZIP": "",
                                    "OTSResaleID": "",
                                    "OTSContact": "",
                                    "OTSFaxNum": "",
                                    "OTSPhoneNum": "",
                                    "OTSCountryNum": "0",
                                    "TotalWHTax": "0.000",
                                    "DocTotalWHTax": "0.000",
                                    "Rpt1TotalWHTax": "0.000",
                                    "Rpt2TotalWHTax": "0.000",
                                    "Rpt3TotalWHTax": "0.000",
                                    "TotalSATax": "0.000",
                                    "DocTotalSATax": "0.000",
                                    "Rpt1TotalSATax": "0.000",
                                    "Rpt2TotalSATax": "0.000",
                                    "Rpt3TotalSATax": "0.000",
                                    "OTSSaveAs": "",
                                    "OTSSaveCustID": "",
                                    "OTSCustSaved": "0",
                                    "ShipToCustNum": "49",
                                    "OrderStatus": "",
                                    "HoldSetByDemand": "0",
                                    "InPrice": "0",
                                    "InTotalCharges": "0.000",
                                    "InTotalMisc": "0.000",
                                    "InTotalDiscount": "0.000",
                                    "DocInTotalCharges": "0.000",
                                    "DocInTotalMisc": "0.000",
                                    "DocInTotalDiscount": "0.000",
                                    "Rpt1InTotalCharges": "0.000",
                                    "Rpt2InTotalCharges": "0.000",
                                    "Rpt3InTotalCharges": "0.000",
                                    "Rpt1InTotalMisc": "0.000",
                                    "Rpt2InTotalMisc": "0.000",
                                    "Rpt3InTotalMisc": "0.000",
                                    "Rpt1InTotalDiscount": "0.000",
                                    "Rpt2InTotalDiscount": "0.000",
                                    "Rpt3InTotalDiscount": "0.000",
                                    "ARLOCID": "",
                                    "OurBank": "",
                                    "ERSOrder": "0",
                                    "LOCHold": "0",
                                    "PSCurrCode": "USD",
                                    "InvCurrCode": "USD",
                                    "LegalNumber": "",
                                    "TranDocTypeID": "",
                                    "XRefContractNum": "",
                                    "XRefContractDate": "NULL",
                                    "DemandProcessDate": "NULL",
                                    "DemandProcessTime": "0",
                                    "LastScheduleNumber": "",
                                    "LastTCtrlNum": "",
                                    "LastBatchNum": "",
                                    "ECCOrderNum": "",
                                    "ECCPONum": "",
                                    "WIOrder": "",
                                    "WIApplication": "",
                                    "WIUsername": "",
                                    "WIUserID": "",
                                    "WICreditCardorder": "0",
                                    "OrderCSR": "",
                                    "UserChar1": "Imported From 6.1",
                                    "UserChar2": "",
                                    "UserChar3": "",
                                    "UserChar4": "",
                                    "UserDate1": "2017-12-20",
                                    "UserDate2": "NULL",
                                    "UserDate3": "NULL",
                                    "UserDate4": "NULL",
                                    "UserDecimal1": "0.00",
                                    "UserDecimal2": "0.00",
                                    "UserInteger1": "0",
                                    "UserInteger2": "0",
                                    "SysRevID": "0x000000000D274C1E",
                                    "SysRowID": "d20a47e7-69cd-4aeb-9e70-587659f9ddc1",
                                    "IsCSRSet": "0",
                                    "ECCPaymentMethod": "",
                                    "AGUseGoodDefaultMark": "0",
                                    "OTSShipToNum": "",
                                    "ProFormaInvComment": "",
                                    "ccToken": "",
                                    "InvcOrderCmp": "0",
                                    "ReprintSOAck": "0",
                                    "CounterSOAck": "0",
                                    "DispatchReason": "",
                                    "Plant": "",
                                    "ReadyToFulfill": "0",
                                    "ShipByTime": "0",
                                    "TWFiscalYear": "0",
                                    "TWFiscalYearSuffix": "",
                                    "TWFiscalPeriod": "0",
                                    "TWGUIGroup": "",
                                    "TWGUIRegNumSeller": "",
                                    "TWGUIRegNumBuyer": "",
                                    "OrderOpenCredit": "0.000",
                                    "ClosedNotShipped": "0.000",
                                    "InvCurrDepositBal": "0.000",
                                    "PLArticle106c": "0",
                                    "PLInvIssuedByTaxpayer": "0",
                                    "PLInvIssuedBySecondTaxpayer": "0",
                                    "PLTouristService": "0",
                                    "PLSecondHandOrArts": "0",
                                    "PLLegalArticleAct": "",
                                    "PLLegalArticleWEDirective": "",
                                    "PLLegalArticleOther": "",
                                    "PLEnforcementAuthName": "",
                                    "PLEnforcementAuthAddr": "",
                                    "PLTaxRepresentativeName": "",
                                    "PLTaxRepresentativeAddr": "",
                                    "PLTaxRepresentativeTaxID": "",
                                    "PLMarginScheme": "0",
                                    "PLGoodsOrServiceVATExempt": "0",
                                    "CCCity": "",
                                    "CCState": "",
                                    "ExtAOEUserID": "",
                                    "ExtAOE": "",
                                    "ForeignSysRowID": "d20a47e7-69cd-4aeb-9e70-587659f9ddc1",
                                    "UD_SysRevID": "0x000000000036CB98",
                                    "AddToWatchedJobs_c": "0",
                                    "CloseDate_c": "NULL",
                                    "Division_c": "3",
                                    "ProjectID_c": "",
                                    "ShipNotes_c": "",
                                    "eBOSProjectName_c": "",
                                    "LegacyID_c": ""
                                }
                            ]
                        },
                        "text/html": "<table><tr><th>OpenOrder</th><th>VoidOrder</th><th>Company</th><th>OrderNum</th><th>CustNum</th><th>PONum</th><th>OrderHeld</th><th>EntryPerson</th><th>ShipToNum</th><th>RequestDate</th><th>OrderDate</th><th>FOB</th><th>ShipViaCode</th><th>TermsCode</th><th>DiscountPercent</th><th>PrcConNum</th><th>ShpConNum</th><th>SalesRepList</th><th>OrderComment</th><th>ShipComment</th><th>InvoiceComment</th><th>PickListComment</th><th>DepositBal</th><th>DocDepositBal</th><th>NeedByDate</th><th>CreditOverride</th><th>CreditOverrideUserID</th><th>CreditOverrideDate</th><th>CreditOverrideTime</th><th>CreditOverrideLimit</th><th>SndAlrtShp</th><th>ExchangeRate</th><th>CurrencyCode</th><th>LockRate</th><th>CardMemberName</th><th>CardNumber</th><th>CardType</th><th>ExpirationMonth</th><th>ExpirationYear</th><th>CardID</th><th>CardmemberReference</th><th>AllocPriorityCode</th><th>ReservePriorityCode</th><th>ShipOrderComplete</th><th>WebOrder</th><th>CCApprovalNum</th><th>EDIOrder</th><th>EDIAck</th><th>Linked</th><th>ICPONum</th><th>ExtCompany</th><th>WebEntryPerson</th><th>AckEmailSent</th><th>ApplyOrderBasedDisc</th><th>AutoOrderBasedDisc</th><th>EntryMethod</th><th>HDCaseNum</th><th>CounterSale</th><th>CreateInvoice</th><th>CreatePackingSlip</th><th>LockQty</th><th>ProcessCard</th><th>CCAmount</th><th>CCFreight</th><th>CCTax</th><th>CCTotal</th><th>CCDocAmount</th><th>CCDocFreight</th><th>CCDocTax</th><th>CCDocTotal</th><th>CCStreetAddr</th><th>CCZip</th><th>BTCustNum</th><th>BTConNum</th><th>RepRate4</th><th>RepRate5</th><th>RepSplit1</th><th>RepSplit2</th><th>RepSplit3</th><th>RepSplit4</th><th>RepSplit5</th><th>RepRate1</th><th>RepRate2</th><th>RepRate3</th><th>OutboundSalesDocCtr</th><th>OutboundShipDocsCtr</th><th>DemandContractNum</th><th>DoNotShipBeforeDate</th><th>ResDelivery</th><th>DoNotShipAfterDate</th><th>SatDelivery</th><th>SatPickup</th><th>Hazmat</th><th>DocOnly</th><th>RefNotes</th><th>ApplyChrg</th><th>ChrgAmount</th><th>COD</th><th>CODFreight</th><th>CODCheck</th><th>CODAmount</th><th>GroundType</th><th>NotifyFlag</th><th>NotifyEMail</th><th>DeclaredIns</th><th>DeclaredAmt</th><th>CancelAfterDate</th><th>DemandRejected</th><th>OverrideCarrier</th><th>OverrideService</th><th>CreditCardOrder</th><th>DemandHeadSeq</th><th>PayFlag</th><th>PayAccount</th><th>PayBTAddress1</th><th>PayBTAddress2</th><th>PayBTCity</th><th>PayBTState</th><th>PayBTZip</th><th>PayBTCountry</th><th>DropShip</th><th>CommercialInvoice</th><th>ShipExprtDeclartn</th><th>CertOfOrigin</th><th>LetterOfInstr</th><th>FFID</th><th>FFAddress1</th><th>FFAddress2</th><th>FFCity</th><th>FFState</th><th>FFZip</th><th>FFCountry</th><th>FFContact</th><th>FFCompName</th><th>FFPhoneNum</th><th>IntrntlShip</th><th>ChangedBy</th><th>ChangeDate</th><th>ChangeTime</th><th>AutoPrintReady</th><th>EDIReady</th><th>IndividualPackIDs</th><th>FFAddress3</th><th>DeliveryConf</th><th>AddlHdlgFlag</th><th>NonStdPkg</th><th>ServSignature</th><th>ServAlert</th><th>ServHomeDel</th><th>DeliveryType</th><th>ServDeliveryDate</th><th>ServInstruct</th><th>ServRef1</th><th>ServRef2</th><th>ServRef3</th><th>ServRef4</th><th>ServRef5</th><th>FFCountryNum</th><th>ServPhone</th><th>ServRelease</th><th>ServAuthNum</th><th>PayBTAddress3</th><th>PayBTCountryNum</th><th>PayBTPhone</th><th>UPSQuantumView</th><th>UPSQVShipFromName</th><th>UPSQVMemo</th><th>ReadyToCalc</th><th>TotalCharges</th><th>TotalMisc</th><th>TotalDiscount</th><th>TotalComm</th><th>TotalAdvBill</th><th>TotalLines</th><th>TotalReleases</th><th>TotalRelDates</th><th>DocTotalCharges</th><th>DocTotalMisc</th><th>DocTotalDiscount</th><th>DocTotalComm</th><th>TotalTax</th><th>DocTotalTax</th><th>DocTotalAdvBill</th><th>TotalShipped</th><th>TotalInvoiced</th><th>TotalCommLines</th><th>SRCommAmt1</th><th>SRCommAmt2</th><th>SRCommAmt3</th><th>SRCommAmt4</th><th>SRCommAmt5</th><th>SRCommableAmt1</th><th>SRCommableAmt2</th><th>SRCommableAmt3</th><th>SRCommableAmt4</th><th>SRCommableAmt5</th><th>Rounding</th><th>Rpt1DepositBal</th><th>DocRounding</th><th>Rpt2DepositBal</th><th>Rpt3DepositBal</th><th>Rpt1TotalCharges</th><th>Rpt2TotalCharges</th><th>Rpt3TotalCharges</th><th>Rpt1TotalAdvBill</th><th>Rpt2TotalAdvBill</th><th>Rpt3TotalAdvBill</th><th>Rpt1TotalMisc</th><th>Rpt2TotalMisc</th><th>Rpt3TotalMisc</th><th>Rpt1TotalDiscount</th><th>Rpt2TotalDiscount</th><th>Rpt3TotalDiscount</th><th>Rpt1TotalComm</th><th>Rpt2TotalComm</th><th>Rpt3TotalComm</th><th>Rpt1TotalTax</th><th>Rpt2TotalTax</th><th>Rpt1Rounding</th><th>Rpt2Rounding</th><th>Rpt3Rounding</th><th>RateGrpCode</th><th>Rpt3TotalTax</th><th>Rpt1CCAmount</th><th>Rpt2CCAmount</th><th>Rpt3CCAmount</th><th>Rpt1CCFreight</th><th>Rpt2CCFreight</th><th>Rpt3CCFreight</th><th>Rpt1CCTax</th><th>Rpt2CCTax</th><th>Rpt3CCTax</th><th>Rpt1CCTotal</th><th>Rpt2CCTotal</th><th>Rpt3CCTotal</th><th>OrderAmt</th><th>DocOrderAmt</th><th>Rpt1OrderAmt</th><th>Rpt2OrderAmt</th><th>Rpt3OrderAmt</th><th>TaxPoint</th><th>TaxRateDate</th><th>TaxRegionCode</th><th>UseOTS</th><th>OTSName</th><th>OTSAddress1</th><th>OTSAddress2</th><th>OTSAddress3</th><th>OTSCity</th><th>OTSState</th><th>OTSZIP</th><th>OTSResaleID</th><th>OTSContact</th><th>OTSFaxNum</th><th>OTSPhoneNum</th><th>OTSCountryNum</th><th>TotalWHTax</th><th>DocTotalWHTax</th><th>Rpt1TotalWHTax</th><th>Rpt2TotalWHTax</th><th>Rpt3TotalWHTax</th><th>TotalSATax</th><th>DocTotalSATax</th><th>Rpt1TotalSATax</th><th>Rpt2TotalSATax</th><th>Rpt3TotalSATax</th><th>OTSSaveAs</th><th>OTSSaveCustID</th><th>OTSCustSaved</th><th>ShipToCustNum</th><th>OrderStatus</th><th>HoldSetByDemand</th><th>InPrice</th><th>InTotalCharges</th><th>InTotalMisc</th><th>InTotalDiscount</th><th>DocInTotalCharges</th><th>DocInTotalMisc</th><th>DocInTotalDiscount</th><th>Rpt1InTotalCharges</th><th>Rpt2InTotalCharges</th><th>Rpt3InTotalCharges</th><th>Rpt1InTotalMisc</th><th>Rpt2InTotalMisc</th><th>Rpt3InTotalMisc</th><th>Rpt1InTotalDiscount</th><th>Rpt2InTotalDiscount</th><th>Rpt3InTotalDiscount</th><th>ARLOCID</th><th>OurBank</th><th>ERSOrder</th><th>LOCHold</th><th>PSCurrCode</th><th>InvCurrCode</th><th>LegalNumber</th><th>TranDocTypeID</th><th>XRefContractNum</th><th>XRefContractDate</th><th>DemandProcessDate</th><th>DemandProcessTime</th><th>LastScheduleNumber</th><th>LastTCtrlNum</th><th>LastBatchNum</th><th>ECCOrderNum</th><th>ECCPONum</th><th>WIOrder</th><th>WIApplication</th><th>WIUsername</th><th>WIUserID</th><th>WICreditCardorder</th><th>OrderCSR</th><th>UserChar1</th><th>UserChar2</th><th>UserChar3</th><th>UserChar4</th><th>UserDate1</th><th>UserDate2</th><th>UserDate3</th><th>UserDate4</th><th>UserDecimal1</th><th>UserDecimal2</th><th>UserInteger1</th><th>UserInteger2</th><th>SysRevID</th><th>SysRowID</th><th>IsCSRSet</th><th>ECCPaymentMethod</th><th>AGUseGoodDefaultMark</th><th>OTSShipToNum</th><th>ProFormaInvComment</th><th>ccToken</th><th>InvcOrderCmp</th><th>ReprintSOAck</th><th>CounterSOAck</th><th>DispatchReason</th><th>Plant</th><th>ReadyToFulfill</th><th>ShipByTime</th><th>TWFiscalYear</th><th>TWFiscalYearSuffix</th><th>TWFiscalPeriod</th><th>TWGUIGroup</th><th>TWGUIRegNumSeller</th><th>TWGUIRegNumBuyer</th><th>OrderOpenCredit</th><th>ClosedNotShipped</th><th>InvCurrDepositBal</th><th>PLArticle106c</th><th>PLInvIssuedByTaxpayer</th><th>PLInvIssuedBySecondTaxpayer</th><th>PLTouristService</th><th>PLSecondHandOrArts</th><th>PLLegalArticleAct</th><th>PLLegalArticleWEDirective</th><th>PLLegalArticleOther</th><th>PLEnforcementAuthName</th><th>PLEnforcementAuthAddr</th><th>PLTaxRepresentativeName</th><th>PLTaxRepresentativeAddr</th><th>PLTaxRepresentativeTaxID</th><th>PLMarginScheme</th><th>PLGoodsOrServiceVATExempt</th><th>CCCity</th><th>CCState</th><th>ExtAOEUserID</th><th>ExtAOE</th><th>ForeignSysRowID</th><th>UD_SysRevID</th><th>AddToWatchedJobs_c</th><th>CloseDate_c</th><th>Division_c</th><th>ProjectID_c</th><th>ShipNotes_c</th><th>eBOSProjectName_c</th><th>LegacyID_c</th></tr><tr><td>0</td><td>0</td><td>SOLAR</td><td>143177</td><td>59</td><td></td><td>0</td><td>MAS</td><td>0007</td><td>2014-09-05</td><td>2014-09-05</td><td></td><td></td><td>N45</td><td>0.00</td><td>0</td><td>0</td><td>HOUSE</td><td></td><td></td><td></td><td></td><td>0.000</td><td>0.000</td><td>2014-09-05</td><td>0</td><td></td><td>NULL</td><td></td><td>0.000</td><td>0</td><td>1.0000000000</td><td>USD</td><td>0</td><td></td><td></td><td></td><td>7</td><td>2017</td><td></td><td></td><td></td><td></td><td>0</td><td>0</td><td></td><td>0</td><td>0</td><td>0</td><td>0</td><td></td><td></td><td>0</td><td>1</td><td>0</td><td>S</td><td>0</td><td>0</td><td>0</td><td>0</td><td>0</td><td></td><td>65761.850</td><td>0.000</td><td>0.000</td><td>65761.850</td><td>65761.850</td><td>0.000</td><td>0.000</td><td>65761.850</td><td></td><td></td><td>59</td><td>0</td><td>0.00</td><td>0.00</td><td>100</td><td>0</td><td>0</td><td>0</td><td>0</td><td>0.00</td><td>0.00</td><td>0.00</td><td>0</td><td>0</td><td>0</td><td>NULL</td><td>0</td><td>NULL</td><td>0</td><td>0</td><td>0</td><td>0</td><td></td><td>0</td><td>0.000</td><td>0</td><td>0</td><td>0</td><td>0.000</td><td></td><td>0</td><td></td><td>0</td><td>0.000</td><td>NULL</td><td>0</td><td>0</td><td>0</td><td>0</td><td>0</td><td></td><td></td><td></td><td></td><td></td><td></td><td></td><td></td><td>0</td><td>0</td><td>0</td><td>0</td><td>0</td><td></td><td></td><td></td><td></td><td></td><td></td><td></td><td></td><td></td><td></td><td>0</td><td>TFLICKS</td><td>2018-06-29</td><td>46904</td><td>0</td><td>0</td><td>0</td><td></td><td>1</td><td>0</td><td>0</td><td>0</td><td>0</td><td>0</td><td></td><td>NULL</td><td></td><td></td><td></td><td></td><td></td><td></td><td>0</td><td></td><td>0</td><td></td><td></td><td>0</td><td></td><td>0</td><td></td><td></td><td>1</td><td>0.000</td><td>0.000</td><td>0.000</td><td>0.000</td><td>0.000</td><td>12</td><td>12</td><td>1</td><td>0.000</td><td>0.000</td><td>0.000</td><td>0.000</td><td>0.000</td><td>0.000</td><td>0.000</td><td>0.000</td><td>0.000</td><td>12</td><td>0.000</td><td>0.000</td><td>0.000</td><td>0.000</td><td>0.000</td><td>0.000</td><td>0.000</td><td>0.000</td><td>0.000</td><td>0.000</td><td>0.00000</td><td>0.000</td><td>0.00000</td><td>0.000</td><td>0.000</td><td>0.000</td><td>0.000</td><td>0.000</td><td>0.000</td><td>0.000</td><td>0.000</td><td>0.000</td><td>0.000</td><td>0.000</td><td>0.000</td><td>0.000</td><td>0.000</td><td>0.000</td><td>0.000</td><td>0.000</td><td>0.000</td><td>0.000</td><td>0.00000</td><td>0.00000</td><td>0.00000</td><td>MAIN</td><td>0.000</td><td>0.000</td><td>0.000</td><td>0.000</td><td>0.000</td><td>0.000</td><td>0.000</td><td>0.000</td><td>0.000</td><td>0.000</td><td>0.000</td><td>0.000</td><td>0.000</td><td>0.000</td><td>0.000</td><td>0.000</td><td>0.000</td><td>0.000</td><td>NULL</td><td>NULL</td><td></td><td>0</td><td></td><td></td><td></td><td></td><td></td><td></td><td></td><td></td><td></td><td></td><td></td><td>0</td><td>0.000</td><td>0.000</td><td>0.000</td><td>0.000</td><td>0.000</td><td>0.000</td><td>0.000</td><td>0.000</td><td>0.000</td><td>0.000</td><td></td><td></td><td>0</td><td>59</td><td></td><td>0</td><td>0</td><td>0.000</td><td>0.000</td><td>0.000</td><td>0.000</td><td>0.000</td><td>0.000</td><td>0.000</td><td>0.000</td><td>0.000</td><td>0.000</td><td>0.000</td><td>0.000</td><td>0.000</td><td>0.000</td><td>0.000</td><td></td><td></td><td>0</td><td>0</td><td>USD</td><td>USD</td><td></td><td></td><td></td><td>NULL</td><td>NULL</td><td>0</td><td></td><td></td><td></td><td></td><td></td><td></td><td></td><td></td><td></td><td>0</td><td></td><td>Imported From 6.1</td><td></td><td></td><td></td><td>2018-06-29</td><td>NULL</td><td>NULL</td><td>NULL</td><td>0.00</td><td>0.00</td><td>0</td><td>0</td><td>0x0000000025F6E811</td><td>10cd1977-0ef5-4ea6-8c66-c71cde9f0d17</td><td>0</td><td></td><td>0</td><td></td><td></td><td></td><td>0</td><td>0</td><td>0</td><td></td><td></td><td>0</td><td>0</td><td>0</td><td></td><td>0</td><td></td><td></td><td></td><td>0.000</td><td>0.000</td><td>0.000</td><td>0</td><td>0</td><td>0</td><td>0</td><td>0</td><td></td><td></td><td></td><td></td><td></td><td></td><td></td><td></td><td>0</td><td>0</td><td></td><td></td><td></td><td></td><td>10cd1977-0ef5-4ea6-8c66-c71cde9f0d17</td><td>0x000000000033B92A</td><td>0</td><td>NULL</td><td>3</td><td></td><td></td><td></td><td></td></tr><tr><td>0</td><td>0</td><td>SOLAR</td><td>153030</td><td>49</td><td></td><td>0</td><td>MAS</td><td>0057</td><td>2016-11-09</td><td>2015-01-19</td><td></td><td></td><td>N45</td><td>0.00</td><td>0</td><td>0</td><td>HOUSE</td><td></td><td></td><td></td><td></td><td>0.000</td><td>0.000</td><td>2016-11-09</td><td>0</td><td></td><td>NULL</td><td></td><td>0.000</td><td>0</td><td>1.0000000000</td><td>USD</td><td>0</td><td></td><td></td><td></td><td>7</td><td>2017</td><td></td><td></td><td></td><td></td><td>0</td><td>0</td><td></td><td>0</td><td>0</td><td>0</td><td>0</td><td></td><td></td><td>0</td><td>1</td><td>0</td><td>S</td><td>0</td><td>0</td><td>0</td><td>0</td><td>0</td><td></td><td>248589.000</td><td>0.000</td><td>0.000</td><td>248589.000</td><td>248589.000</td><td>0.000</td><td>0.000</td><td>248589.000</td><td></td><td></td><td>49</td><td>0</td><td>0.00</td><td>0.00</td><td>100</td><td>0</td><td>0</td><td>0</td><td>0</td><td>0.00</td><td>0.00</td><td>0.00</td><td>0</td><td>0</td><td>0</td><td>NULL</td><td>0</td><td>NULL</td><td>0</td><td>0</td><td>0</td><td>0</td><td></td><td>0</td><td>0.000</td><td>0</td><td>0</td><td>0</td><td>0.000</td><td></td><td>0</td><td></td><td>0</td><td>0.000</td><td>NULL</td><td>0</td><td>0</td><td>0</td><td>0</td><td>0</td><td></td><td></td><td></td><td></td><td></td><td></td><td></td><td></td><td>0</td><td>0</td><td>0</td><td>0</td><td>0</td><td></td><td></td><td></td><td></td><td></td><td></td><td></td><td></td><td></td><td></td><td>0</td><td>TFLICKS</td><td>2017-10-27</td><td>42685</td><td>0</td><td>0</td><td>0</td><td></td><td>1</td><td>0</td><td>0</td><td>0</td><td>0</td><td>0</td><td></td><td>NULL</td><td></td><td></td><td></td><td></td><td></td><td></td><td>0</td><td></td><td>0</td><td></td><td></td><td>0</td><td></td><td>0</td><td></td><td></td><td>1</td><td>248589.000</td><td>0.000</td><td>0.000</td><td>0.000</td><td>0.000</td><td>5</td><td>5</td><td>1</td><td>248589.000</td><td>0.000</td><td>0.000</td><td>0.000</td><td>0.000</td><td>0.000</td><td>0.000</td><td>0.000</td><td>248589.000</td><td>5</td><td>0.000</td><td>0.000</td><td>0.000</td><td>0.000</td><td>0.000</td><td>248589.000</td><td>0.000</td><td>0.000</td><td>0.000</td><td>0.000</td><td>0.00000</td><td>0.000</td><td>0.00000</td><td>0.000</td><td>0.000</td><td>0.000</td><td>0.000</td><td>0.000</td><td>0.000</td><td>0.000</td><td>0.000</td><td>0.000</td><td>0.000</td><td>0.000</td><td>0.000</td><td>0.000</td><td>0.000</td><td>0.000</td><td>0.000</td><td>0.000</td><td>0.000</td><td>0.000</td><td>0.00000</td><td>0.00000</td><td>0.00000</td><td>MAIN</td><td>0.000</td><td>0.000</td><td>0.000</td><td>0.000</td><td>0.000</td><td>0.000</td><td>0.000</td><td>0.000</td><td>0.000</td><td>0.000</td><td>0.000</td><td>0.000</td><td>0.000</td><td>248589.000</td><td>248589.000</td><td>0.000</td><td>0.000</td><td>0.000</td><td>NULL</td><td>NULL</td><td></td><td>0</td><td></td><td></td><td></td><td></td><td></td><td></td><td></td><td></td><td></td><td></td><td></td><td>0</td><td>0.000</td><td>0.000</td><td>0.000</td><td>0.000</td><td>0.000</td><td>0.000</td><td>0.000</td><td>0.000</td><td>0.000</td><td>0.000</td><td></td><td></td><td>0</td><td>49</td><td></td><td>0</td><td>0</td><td>0.000</td><td>0.000</td><td>0.000</td><td>0.000</td><td>0.000</td><td>0.000</td><td>0.000</td><td>0.000</td><td>0.000</td><td>0.000</td><td>0.000</td><td>0.000</td><td>0.000</td><td>0.000</td><td>0.000</td><td></td><td></td><td>0</td><td>0</td><td>USD</td><td>USD</td><td></td><td></td><td></td><td>NULL</td><td>NULL</td><td>0</td><td></td><td></td><td></td><td></td><td></td><td></td><td></td><td></td><td></td><td>0</td><td></td><td>Imported From 6.1</td><td></td><td></td><td></td><td>2017-10-27</td><td>NULL</td><td>NULL</td><td>NULL</td><td>0.00</td><td>0.00</td><td>0</td><td>0</td><td>0x000000000DE03521</td><td>147a5a98-0861-4ac7-a0d0-1eb0f35de092</td><td>0</td><td></td><td>0</td><td></td><td></td><td></td><td>0</td><td>0</td><td>0</td><td></td><td></td><td>0</td><td>0</td><td>0</td><td></td><td>0</td><td></td><td></td><td></td><td>0.000</td><td>0.000</td><td>0.000</td><td>0</td><td>0</td><td>0</td><td>0</td><td>0</td><td></td><td></td><td></td><td></td><td></td><td></td><td></td><td></td><td>0</td><td>0</td><td></td><td></td><td></td><td></td><td>147a5a98-0861-4ac7-a0d0-1eb0f35de092</td><td>0x000000000033B7C6</td><td>0</td><td>NULL</td><td>3</td><td></td><td></td><td></td><td></td></tr><tr><td>0</td><td>1</td><td>SOLAR</td><td>153071</td><td>49</td><td>153071</td><td>0</td><td>MAS</td><td>0065</td><td>2017-06-01</td><td>2015-02-24</td><td></td><td></td><td>N45</td><td>0.00</td><td>0</td><td>0</td><td>HOUSE</td><td></td><td></td><td></td><td></td><td>0.000</td><td>0.000</td><td>2017-06-01</td><td>0</td><td></td><td>NULL</td><td></td><td>0.000</td><td>0</td><td>1.0000000000</td><td>USD</td><td>0</td><td></td><td></td><td></td><td>7</td><td>2017</td><td></td><td></td><td></td><td></td><td>0</td><td>0</td><td></td><td>0</td><td>0</td><td>0</td><td>0</td><td></td><td></td><td>0</td><td>1</td><td>0</td><td>S</td><td>0</td><td>0</td><td>0</td><td>0</td><td>0</td><td></td><td>0.000</td><td>0.000</td><td>0.000</td><td>0.000</td><td>0.000</td><td>0.000</td><td>0.000</td><td>0.000</td><td></td><td></td><td>49</td><td>0</td><td>0.00</td><td>0.00</td><td>100</td><td>0</td><td>0</td><td>0</td><td>0</td><td>0.00</td><td>0.00</td><td>0.00</td><td>0</td><td>0</td><td>0</td><td>NULL</td><td>0</td><td>NULL</td><td>0</td><td>0</td><td>0</td><td>0</td><td></td><td>0</td><td>0.000</td><td>0</td><td>0</td><td>0</td><td>0.000</td><td></td><td>0</td><td></td><td>0</td><td>0.000</td><td>NULL</td><td>0</td><td>0</td><td>0</td><td>0</td><td>0</td><td></td><td></td><td></td><td></td><td></td><td></td><td></td><td></td><td>0</td><td>0</td><td>0</td><td>0</td><td>0</td><td></td><td></td><td></td><td></td><td></td><td></td><td></td><td></td><td></td><td></td><td>0</td><td>manager</td><td>2017-07-03</td><td>67073</td><td>0</td><td>0</td><td>0</td><td></td><td>1</td><td>0</td><td>0</td><td>0</td><td>0</td><td>0</td><td></td><td>NULL</td><td></td><td></td><td></td><td></td><td></td><td></td><td>0</td><td></td><td>0</td><td></td><td></td><td>0</td><td></td><td>0</td><td></td><td></td><td>1</td><td>0.000</td><td>0.000</td><td>0.000</td><td>0.000</td><td>0.000</td><td>0</td><td>0</td><td>0</td><td>0.000</td><td>0.000</td><td>0.000</td><td>0.000</td><td>0.000</td><td>0.000</td><td>0.000</td><td>0.000</td><td>0.000</td><td>0</td><td>0.000</td><td>0.000</td><td>0.000</td><td>0.000</td><td>0.000</td><td>0.000</td><td>0.000</td><td>0.000</td><td>0.000</td><td>0.000</td><td>0.00000</td><td>0.000</td><td>0.00000</td><td>0.000</td><td>0.000</td><td>0.000</td><td>0.000</td><td>0.000</td><td>0.000</td><td>0.000</td><td>0.000</td><td>0.000</td><td>0.000</td><td>0.000</td><td>0.000</td><td>0.000</td><td>0.000</td><td>0.000</td><td>0.000</td><td>0.000</td><td>0.000</td><td>0.000</td><td>0.00000</td><td>0.00000</td><td>0.00000</td><td>MAIN</td><td>0.000</td><td>0.000</td><td>0.000</td><td>0.000</td><td>0.000</td><td>0.000</td><td>0.000</td><td>0.000</td><td>0.000</td><td>0.000</td><td>0.000</td><td>0.000</td><td>0.000</td><td>0.000</td><td>0.000</td><td>0.000</td><td>0.000</td><td>0.000</td><td>NULL</td><td>NULL</td><td></td><td>0</td><td></td><td></td><td></td><td></td><td></td><td></td><td></td><td></td><td></td><td></td><td></td><td>0</td><td>0.000</td><td>0.000</td><td>0.000</td><td>0.000</td><td>0.000</td><td>0.000</td><td>0.000</td><td>0.000</td><td>0.000</td><td>0.000</td><td></td><td></td><td>0</td><td>49</td><td></td><td>0</td><td>0</td><td>0.000</td><td>0.000</td><td>0.000</td><td>0.000</td><td>0.000</td><td>0.000</td><td>0.000</td><td>0.000</td><td>0.000</td><td>0.000</td><td>0.000</td><td>0.000</td><td>0.000</td><td>0.000</td><td>0.000</td><td></td><td></td><td>0</td><td>0</td><td>USD</td><td>USD</td><td></td><td></td><td></td><td>NULL</td><td>NULL</td><td>0</td><td></td><td></td><td></td><td></td><td></td><td></td><td></td><td></td><td></td><td>0</td><td></td><td>Imported From 6.1</td><td></td><td></td><td></td><td>2017-12-20</td><td>NULL</td><td>NULL</td><td>NULL</td><td>0.00</td><td>0.00</td><td>0</td><td>0</td><td>0x000000000D274C1E</td><td>d20a47e7-69cd-4aeb-9e70-587659f9ddc1</td><td>0</td><td></td><td>0</td><td></td><td></td><td></td><td>0</td><td>0</td><td>0</td><td></td><td></td><td>0</td><td>0</td><td>0</td><td></td><td>0</td><td></td><td></td><td></td><td>0.000</td><td>0.000</td><td>0.000</td><td>0</td><td>0</td><td>0</td><td>0</td><td>0</td><td></td><td></td><td></td><td></td><td></td><td></td><td></td><td></td><td>0</td><td>0</td><td></td><td></td><td></td><td></td><td>d20a47e7-69cd-4aeb-9e70-587659f9ddc1</td><td>0x000000000036CB98</td><td>0</td><td>NULL</td><td>3</td><td></td><td></td><td></td><td></td></tr></table>"
                    },
                    "metadata": {}
                },
                {
                    "output_type": "execute_result",
                    "execution_count": 1,
                    "data": {
                        "application/vnd.dataresource+json": {
                            "schema": {
                                "fields": [
                                    {
                                        "name": "VoidLine"
                                    },
                                    {
                                        "name": "OpenLine"
                                    },
                                    {
                                        "name": "Company"
                                    },
                                    {
                                        "name": "OrderNum"
                                    },
                                    {
                                        "name": "OrderLine"
                                    },
                                    {
                                        "name": "LineType"
                                    },
                                    {
                                        "name": "PartNum"
                                    },
                                    {
                                        "name": "LineDesc"
                                    },
                                    {
                                        "name": "Reference"
                                    },
                                    {
                                        "name": "IUM"
                                    },
                                    {
                                        "name": "RevisionNum"
                                    },
                                    {
                                        "name": "POLine"
                                    },
                                    {
                                        "name": "Commissionable"
                                    },
                                    {
                                        "name": "DiscountPercent"
                                    },
                                    {
                                        "name": "UnitPrice"
                                    },
                                    {
                                        "name": "DocUnitPrice"
                                    },
                                    {
                                        "name": "OrderQty"
                                    },
                                    {
                                        "name": "Discount"
                                    },
                                    {
                                        "name": "DocDiscount"
                                    },
                                    {
                                        "name": "RequestDate"
                                    },
                                    {
                                        "name": "ProdCode"
                                    },
                                    {
                                        "name": "XPartNum"
                                    },
                                    {
                                        "name": "XRevisionNum"
                                    },
                                    {
                                        "name": "PricePerCode"
                                    },
                                    {
                                        "name": "OrderComment"
                                    },
                                    {
                                        "name": "ShipComment"
                                    },
                                    {
                                        "name": "InvoiceComment"
                                    },
                                    {
                                        "name": "PickListComment"
                                    },
                                    {
                                        "name": "TaxCatID"
                                    },
                                    {
                                        "name": "AdvanceBillBal"
                                    },
                                    {
                                        "name": "DocAdvanceBillBal"
                                    },
                                    {
                                        "name": "QuoteNum"
                                    },
                                    {
                                        "name": "QuoteLine"
                                    },
                                    {
                                        "name": "TMBilling"
                                    },
                                    {
                                        "name": "OrigWhyNoTax"
                                    },
                                    {
                                        "name": "NeedByDate"
                                    },
                                    {
                                        "name": "CustNum"
                                    },
                                    {
                                        "name": "Rework"
                                    },
                                    {
                                        "name": "RMANum"
                                    },
                                    {
                                        "name": "RMALine"
                                    },
                                    {
                                        "name": "ProjectID"
                                    },
                                    {
                                        "name": "ContractNum"
                                    },
                                    {
                                        "name": "ContractCode"
                                    },
                                    {
                                        "name": "BasePartNum"
                                    },
                                    {
                                        "name": "Warranty"
                                    },
                                    {
                                        "name": "WarrantyCode"
                                    },
                                    {
                                        "name": "MaterialDuration"
                                    },
                                    {
                                        "name": "LaborDuration"
                                    },
                                    {
                                        "name": "MiscDuration"
                                    },
                                    {
                                        "name": "MaterialMod"
                                    },
                                    {
                                        "name": "LaborMod"
                                    },
                                    {
                                        "name": "WarrantyComment"
                                    },
                                    {
                                        "name": "Onsite"
                                    },
                                    {
                                        "name": "MatCovered"
                                    },
                                    {
                                        "name": "LabCovered"
                                    },
                                    {
                                        "name": "MiscCovered"
                                    },
                                    {
                                        "name": "SalesUM"
                                    },
                                    {
                                        "name": "SellingFactor"
                                    },
                                    {
                                        "name": "SellingQuantity"
                                    },
                                    {
                                        "name": "SalesCatID"
                                    },
                                    {
                                        "name": "ShipLineComplete"
                                    },
                                    {
                                        "name": "CumeQty"
                                    },
                                    {
                                        "name": "CumeDate"
                                    },
                                    {
                                        "name": "MktgCampaignID"
                                    },
                                    {
                                        "name": "MktgEvntSeq"
                                    },
                                    {
                                        "name": "LockQty"
                                    },
                                    {
                                        "name": "Linked"
                                    },
                                    {
                                        "name": "ICPONum"
                                    },
                                    {
                                        "name": "ICPOLine"
                                    },
                                    {
                                        "name": "ExtCompany"
                                    },
                                    {
                                        "name": "LastConfigDate"
                                    },
                                    {
                                        "name": "LastConfigTime"
                                    },
                                    {
                                        "name": "LastConfigUserID"
                                    },
                                    {
                                        "name": "ConfigUnitPrice"
                                    },
                                    {
                                        "name": "ConfigBaseUnitPrice"
                                    },
                                    {
                                        "name": "PriceListCode"
                                    },
                                    {
                                        "name": "BreakListCode"
                                    },
                                    {
                                        "name": "PricingQty"
                                    },
                                    {
                                        "name": "LockPrice"
                                    },
                                    {
                                        "name": "ListPrice"
                                    },
                                    {
                                        "name": "DocListPrice"
                                    },
                                    {
                                        "name": "OrdBasedPrice"
                                    },
                                    {
                                        "name": "DocOrdBasedPrice"
                                    },
                                    {
                                        "name": "PriceGroupCode"
                                    },
                                    {
                                        "name": "OverridePriceList"
                                    },
                                    {
                                        "name": "BaseRevisionNum"
                                    },
                                    {
                                        "name": "PricingValue"
                                    },
                                    {
                                        "name": "DisplaySeq"
                                    },
                                    {
                                        "name": "KitParentLine"
                                    },
                                    {
                                        "name": "KitAllowUpdate"
                                    },
                                    {
                                        "name": "KitShipComplete"
                                    },
                                    {
                                        "name": "KitBackFlush"
                                    },
                                    {
                                        "name": "KitPrintCompsPS"
                                    },
                                    {
                                        "name": "KitPrintCompsInv"
                                    },
                                    {
                                        "name": "KitPricing"
                                    },
                                    {
                                        "name": "KitQtyPer"
                                    },
                                    {
                                        "name": "SellingFactorDirection"
                                    },
                                    {
                                        "name": "RepRate1"
                                    },
                                    {
                                        "name": "RepRate2"
                                    },
                                    {
                                        "name": "RepRate3"
                                    },
                                    {
                                        "name": "RepRate4"
                                    },
                                    {
                                        "name": "RepRate5"
                                    },
                                    {
                                        "name": "RepSplit1"
                                    },
                                    {
                                        "name": "RepSplit2"
                                    },
                                    {
                                        "name": "RepSplit3"
                                    },
                                    {
                                        "name": "RepSplit4"
                                    },
                                    {
                                        "name": "RepSplit5"
                                    },
                                    {
                                        "name": "DemandContractLine"
                                    },
                                    {
                                        "name": "CreateNewJob"
                                    },
                                    {
                                        "name": "DoNotShipBeforeDate"
                                    },
                                    {
                                        "name": "GetDtls"
                                    },
                                    {
                                        "name": "DoNotShipAfterDate"
                                    },
                                    {
                                        "name": "SchedJob"
                                    },
                                    {
                                        "name": "RelJob"
                                    },
                                    {
                                        "name": "EnableCreateNewJob"
                                    },
                                    {
                                        "name": "EnableGetDtls"
                                    },
                                    {
                                        "name": "EnableSchedJob"
                                    },
                                    {
                                        "name": "EnableRelJob"
                                    },
                                    {
                                        "name": "CounterSaleWarehouse"
                                    },
                                    {
                                        "name": "CounterSaleBinNum"
                                    },
                                    {
                                        "name": "CounterSaleLotNum"
                                    },
                                    {
                                        "name": "CounterSaleDimCode"
                                    },
                                    {
                                        "name": "DemandDtlRejected"
                                    },
                                    {
                                        "name": "KitFlag"
                                    },
                                    {
                                        "name": "KitsLoaded"
                                    },
                                    {
                                        "name": "DemandContractNum"
                                    },
                                    {
                                        "name": "DemandHeadSeq"
                                    },
                                    {
                                        "name": "DemandDtlSeq"
                                    },
                                    {
                                        "name": "ChangedBy"
                                    },
                                    {
                                        "name": "ChangeDate"
                                    },
                                    {
                                        "name": "ChangeTime"
                                    },
                                    {
                                        "name": "ReverseCharge"
                                    },
                                    {
                                        "name": "TotalReleases"
                                    },
                                    {
                                        "name": "Rpt1UnitPrice"
                                    },
                                    {
                                        "name": "Rpt2UnitPrice"
                                    },
                                    {
                                        "name": "Rpt3UnitPrice"
                                    },
                                    {
                                        "name": "Rpt1Discount"
                                    },
                                    {
                                        "name": "Rpt2Discount"
                                    },
                                    {
                                        "name": "Rpt3Discount"
                                    },
                                    {
                                        "name": "Rpt1AdvanceBillBal"
                                    },
                                    {
                                        "name": "Rpt2AdvanceBillBal"
                                    },
                                    {
                                        "name": "Rpt3AdvanceBillBal"
                                    },
                                    {
                                        "name": "Rpt1ListPrice"
                                    },
                                    {
                                        "name": "Rpt2ListPrice"
                                    },
                                    {
                                        "name": "Rpt3ListPrice"
                                    },
                                    {
                                        "name": "Rpt1OrdBasedPrice"
                                    },
                                    {
                                        "name": "Rpt2OrdBasedPrice"
                                    },
                                    {
                                        "name": "Rpt3OrdBasedPrice"
                                    },
                                    {
                                        "name": "ExtPriceDtl"
                                    },
                                    {
                                        "name": "DocExtPriceDtl"
                                    },
                                    {
                                        "name": "Rpt1ExtPriceDtl"
                                    },
                                    {
                                        "name": "Rpt2ExtPriceDtl"
                                    },
                                    {
                                        "name": "Rpt3ExtPriceDtl"
                                    },
                                    {
                                        "name": "LineStatus"
                                    },
                                    {
                                        "name": "InUnitPrice"
                                    },
                                    {
                                        "name": "DocInUnitPrice"
                                    },
                                    {
                                        "name": "InDiscount"
                                    },
                                    {
                                        "name": "DocInDiscount"
                                    },
                                    {
                                        "name": "InListPrice"
                                    },
                                    {
                                        "name": "DocInListPrice"
                                    },
                                    {
                                        "name": "InOrdBasedPrice"
                                    },
                                    {
                                        "name": "DocInOrdBasedPrice"
                                    },
                                    {
                                        "name": "Rpt1InUnitPrice"
                                    },
                                    {
                                        "name": "Rpt2InUnitPrice"
                                    },
                                    {
                                        "name": "Rpt3InUnitPrice"
                                    },
                                    {
                                        "name": "Rpt1InDiscount"
                                    },
                                    {
                                        "name": "Rpt2InDiscount"
                                    },
                                    {
                                        "name": "Rpt3InDiscount"
                                    },
                                    {
                                        "name": "Rpt1InListPrice"
                                    },
                                    {
                                        "name": "Rpt2InListPrice"
                                    },
                                    {
                                        "name": "Rpt3InListPrice"
                                    },
                                    {
                                        "name": "Rpt1InOrdBasedPrice"
                                    },
                                    {
                                        "name": "Rpt2InOrdBasedPrice"
                                    },
                                    {
                                        "name": "Rpt3InOrdBasedPrice"
                                    },
                                    {
                                        "name": "InExtPriceDtl"
                                    },
                                    {
                                        "name": "DocInExtPriceDtl"
                                    },
                                    {
                                        "name": "Rpt1InExtPriceDtl"
                                    },
                                    {
                                        "name": "Rpt2InExtPriceDtl"
                                    },
                                    {
                                        "name": "Rpt3InExtPriceDtl"
                                    },
                                    {
                                        "name": "OldOurOpenQty"
                                    },
                                    {
                                        "name": "OldSellingOpenQty"
                                    },
                                    {
                                        "name": "OldOpenValue"
                                    },
                                    {
                                        "name": "OldProdCode"
                                    },
                                    {
                                        "name": "PrevSellQty"
                                    },
                                    {
                                        "name": "PrevPartNum"
                                    },
                                    {
                                        "name": "PrevXPartNum"
                                    },
                                    {
                                        "name": "KitCompOrigSeq"
                                    },
                                    {
                                        "name": "KitCompOrigPart"
                                    },
                                    {
                                        "name": "SmartStringProcessed"
                                    },
                                    {
                                        "name": "SmartString"
                                    },
                                    {
                                        "name": "RenewalNbr"
                                    },
                                    {
                                        "name": "DiscBreakListCode"
                                    },
                                    {
                                        "name": "DiscListPrice"
                                    },
                                    {
                                        "name": "LockDisc"
                                    },
                                    {
                                        "name": "OverrideDiscPriceList"
                                    },
                                    {
                                        "name": "GroupSeq"
                                    },
                                    {
                                        "name": "ECCOrderNum"
                                    },
                                    {
                                        "name": "ECCOrderLine"
                                    },
                                    {
                                        "name": "DupOnJobCrt"
                                    },
                                    {
                                        "name": "UndersPct"
                                    },
                                    {
                                        "name": "Overs"
                                    },
                                    {
                                        "name": "Unders"
                                    },
                                    {
                                        "name": "OversUnitPrice"
                                    },
                                    {
                                        "name": "PlanUserID"
                                    },
                                    {
                                        "name": "PlanGUID"
                                    },
                                    {
                                        "name": "MOMsourceType"
                                    },
                                    {
                                        "name": "MOMsourceEst"
                                    },
                                    {
                                        "name": "DefaultOversPricing"
                                    },
                                    {
                                        "name": "ECCPlant"
                                    },
                                    {
                                        "name": "ECCQuoteNum"
                                    },
                                    {
                                        "name": "ECCQuoteLine"
                                    },
                                    {
                                        "name": "SysRevID"
                                    },
                                    {
                                        "name": "SysRowID"
                                    },
                                    {
                                        "name": "MfgJobType"
                                    },
                                    {
                                        "name": "ProFormaInvComment"
                                    },
                                    {
                                        "name": "CreateJob"
                                    },
                                    {
                                        "name": "ContractID"
                                    },
                                    {
                                        "name": "LinkToContract"
                                    },
                                    {
                                        "name": "DocInAdvanceBillBal"
                                    },
                                    {
                                        "name": "InAdvanceBillBal"
                                    },
                                    {
                                        "name": "Rpt1InAdvanceBillBal"
                                    },
                                    {
                                        "name": "Rpt2InAdvanceBillBal"
                                    },
                                    {
                                        "name": "Rpt3InAdvanceBillBal"
                                    },
                                    {
                                        "name": "PCLinkRemoved"
                                    },
                                    {
                                        "name": "CommodityCode"
                                    },
                                    {
                                        "name": "MSRP"
                                    },
                                    {
                                        "name": "DocMSRP"
                                    },
                                    {
                                        "name": "Rpt1MSRP"
                                    },
                                    {
                                        "name": "Rpt2MSRP"
                                    },
                                    {
                                        "name": "Rpt3MSRP"
                                    },
                                    {
                                        "name": "EndCustomerPrice"
                                    },
                                    {
                                        "name": "DocEndCustomerPrice"
                                    },
                                    {
                                        "name": "Rpt1EndCustomerPrice"
                                    },
                                    {
                                        "name": "Rpt2EndCustomerPrice"
                                    },
                                    {
                                        "name": "Rpt3EndCustomerPrice"
                                    },
                                    {
                                        "name": "PromotionalPrice"
                                    },
                                    {
                                        "name": "DocPromotionalPrice"
                                    },
                                    {
                                        "name": "Rpt1PromotionalPrice"
                                    },
                                    {
                                        "name": "Rpt2PromotionalPrice"
                                    },
                                    {
                                        "name": "Rpt3PromotionalPrice"
                                    },
                                    {
                                        "name": "OrderLineStatusCode"
                                    },
                                    {
                                        "name": "AttributeSetID"
                                    },
                                    {
                                        "name": "ForeignSysRowID"
                                    },
                                    {
                                        "name": "UD_SysRevID"
                                    },
                                    {
                                        "name": "DoNotBook_c"
                                    },
                                    {
                                        "name": "EstUnitCost_c"
                                    },
                                    {
                                        "name": "OriginalEstimate_c"
                                    },
                                    {
                                        "name": "LegacyLine_c"
                                    }
                                ]
                            },
                            "data": [
                                {
                                    "VoidLine": "0",
                                    "OpenLine": "0",
                                    "Company": "SOLAR",
                                    "OrderNum": "143177",
                                    "OrderLine": "1",
                                    "LineType": "PART",
                                    "PartNum": "DESIGN",
                                    "LineDesc": "DESIGN",
                                    "Reference": "",
                                    "IUM": "EA",
                                    "RevisionNum": "A",
                                    "POLine": "",
                                    "Commissionable": "1",
                                    "DiscountPercent": "0.00",
                                    "UnitPrice": "0.00000",
                                    "DocUnitPrice": "0.00000",
                                    "OrderQty": "2.00000000",
                                    "Discount": "0.000",
                                    "DocDiscount": "0.000",
                                    "RequestDate": "2014-09-05",
                                    "ProdCode": "DES",
                                    "XPartNum": "",
                                    "XRevisionNum": "",
                                    "PricePerCode": "E",
                                    "OrderComment": "",
                                    "ShipComment": "",
                                    "InvoiceComment": "",
                                    "PickListComment": "",
                                    "TaxCatID": "",
                                    "AdvanceBillBal": "0.00000",
                                    "DocAdvanceBillBal": "0.00000",
                                    "QuoteNum": "0",
                                    "QuoteLine": "0",
                                    "TMBilling": "0",
                                    "OrigWhyNoTax": "",
                                    "NeedByDate": "2014-09-05",
                                    "CustNum": "59",
                                    "Rework": "0",
                                    "RMANum": "0",
                                    "RMALine": "0",
                                    "ProjectID": "143177",
                                    "ContractNum": "0",
                                    "ContractCode": "",
                                    "BasePartNum": "",
                                    "Warranty": "1",
                                    "WarrantyCode": "",
                                    "MaterialDuration": "0",
                                    "LaborDuration": "0",
                                    "MiscDuration": "0",
                                    "MaterialMod": "",
                                    "LaborMod": "",
                                    "WarrantyComment": "",
                                    "Onsite": "0",
                                    "MatCovered": "0",
                                    "LabCovered": "0",
                                    "MiscCovered": "0",
                                    "SalesUM": "EA",
                                    "SellingFactor": "1.00000000",
                                    "SellingQuantity": "2.00000000",
                                    "SalesCatID": "GI4I",
                                    "ShipLineComplete": "0",
                                    "CumeQty": "0.00000000",
                                    "CumeDate": "NULL",
                                    "MktgCampaignID": "DEFAULT",
                                    "MktgEvntSeq": "1",
                                    "LockQty": "0",
                                    "Linked": "0",
                                    "ICPONum": "0",
                                    "ICPOLine": "0",
                                    "ExtCompany": "",
                                    "LastConfigDate": "NULL",
                                    "LastConfigTime": "0",
                                    "LastConfigUserID": "",
                                    "ConfigUnitPrice": "0.00000",
                                    "ConfigBaseUnitPrice": "0.00000",
                                    "PriceListCode": "",
                                    "BreakListCode": "",
                                    "PricingQty": "0.00000000",
                                    "LockPrice": "0",
                                    "ListPrice": "0.00000",
                                    "DocListPrice": "0.00000",
                                    "OrdBasedPrice": "0.00000",
                                    "DocOrdBasedPrice": "0.00000",
                                    "PriceGroupCode": "",
                                    "OverridePriceList": "0",
                                    "BaseRevisionNum": "",
                                    "PricingValue": "0.000",
                                    "DisplaySeq": "1.000",
                                    "KitParentLine": "1",
                                    "KitAllowUpdate": "0",
                                    "KitShipComplete": "0",
                                    "KitBackFlush": "0",
                                    "KitPrintCompsPS": "0",
                                    "KitPrintCompsInv": "0",
                                    "KitPricing": "",
                                    "KitQtyPer": "0.00000000",
                                    "SellingFactorDirection": "D",
                                    "RepRate1": "0.00",
                                    "RepRate2": "0.00",
                                    "RepRate3": "0.00",
                                    "RepRate4": "0.00",
                                    "RepRate5": "0.00",
                                    "RepSplit1": "100",
                                    "RepSplit2": "0",
                                    "RepSplit3": "0",
                                    "RepSplit4": "0",
                                    "RepSplit5": "0",
                                    "DemandContractLine": "0",
                                    "CreateNewJob": "1",
                                    "DoNotShipBeforeDate": "NULL",
                                    "GetDtls": "0",
                                    "DoNotShipAfterDate": "NULL",
                                    "SchedJob": "0",
                                    "RelJob": "0",
                                    "EnableCreateNewJob": "1",
                                    "EnableGetDtls": "1",
                                    "EnableSchedJob": "1",
                                    "EnableRelJob": "1",
                                    "CounterSaleWarehouse": "",
                                    "CounterSaleBinNum": "",
                                    "CounterSaleLotNum": "",
                                    "CounterSaleDimCode": "",
                                    "DemandDtlRejected": "0",
                                    "KitFlag": "",
                                    "KitsLoaded": "0",
                                    "DemandContractNum": "0",
                                    "DemandHeadSeq": "0",
                                    "DemandDtlSeq": "0",
                                    "ChangedBy": "TFLICKS",
                                    "ChangeDate": "2018-06-29",
                                    "ChangeTime": "46903",
                                    "ReverseCharge": "0",
                                    "TotalReleases": "1",
                                    "Rpt1UnitPrice": "0.00000",
                                    "Rpt2UnitPrice": "0.00000",
                                    "Rpt3UnitPrice": "0.00000",
                                    "Rpt1Discount": "0.00000",
                                    "Rpt2Discount": "0.00000",
                                    "Rpt3Discount": "0.00000",
                                    "Rpt1AdvanceBillBal": "0.00000",
                                    "Rpt2AdvanceBillBal": "0.00000",
                                    "Rpt3AdvanceBillBal": "0.00000",
                                    "Rpt1ListPrice": "0.00000",
                                    "Rpt2ListPrice": "0.00000",
                                    "Rpt3ListPrice": "0.00000",
                                    "Rpt1OrdBasedPrice": "0.00000",
                                    "Rpt2OrdBasedPrice": "0.00000",
                                    "Rpt3OrdBasedPrice": "0.00000",
                                    "ExtPriceDtl": "0.000",
                                    "DocExtPriceDtl": "0.000",
                                    "Rpt1ExtPriceDtl": "0.000",
                                    "Rpt2ExtPriceDtl": "0.000",
                                    "Rpt3ExtPriceDtl": "0.000",
                                    "LineStatus": "OPEN",
                                    "InUnitPrice": "0.00000",
                                    "DocInUnitPrice": "0.00000",
                                    "InDiscount": "0.000",
                                    "DocInDiscount": "0.000",
                                    "InListPrice": "0.00000",
                                    "DocInListPrice": "0.00000",
                                    "InOrdBasedPrice": "0.00000",
                                    "DocInOrdBasedPrice": "0.00000",
                                    "Rpt1InUnitPrice": "0.00000",
                                    "Rpt2InUnitPrice": "0.00000",
                                    "Rpt3InUnitPrice": "0.00000",
                                    "Rpt1InDiscount": "0.00000",
                                    "Rpt2InDiscount": "0.00000",
                                    "Rpt3InDiscount": "0.00000",
                                    "Rpt1InListPrice": "0.00000",
                                    "Rpt2InListPrice": "0.00000",
                                    "Rpt3InListPrice": "0.00000",
                                    "Rpt1InOrdBasedPrice": "0.00000",
                                    "Rpt2InOrdBasedPrice": "0.00000",
                                    "Rpt3InOrdBasedPrice": "0.00000",
                                    "InExtPriceDtl": "0.000",
                                    "DocInExtPriceDtl": "0.000",
                                    "Rpt1InExtPriceDtl": "0.000",
                                    "Rpt2InExtPriceDtl": "0.000",
                                    "Rpt3InExtPriceDtl": "0.000",
                                    "OldOurOpenQty": "0.00",
                                    "OldSellingOpenQty": "0.00",
                                    "OldOpenValue": "0.00",
                                    "OldProdCode": "",
                                    "PrevSellQty": "0.00",
                                    "PrevPartNum": "",
                                    "PrevXPartNum": "",
                                    "KitCompOrigSeq": "0",
                                    "KitCompOrigPart": "",
                                    "SmartStringProcessed": "0",
                                    "SmartString": "",
                                    "RenewalNbr": "0",
                                    "DiscBreakListCode": "",
                                    "DiscListPrice": "0.00000",
                                    "LockDisc": "0",
                                    "OverrideDiscPriceList": "0",
                                    "GroupSeq": "0",
                                    "ECCOrderNum": "",
                                    "ECCOrderLine": "0",
                                    "DupOnJobCrt": "0",
                                    "UndersPct": "0.00000",
                                    "Overs": "0.00000",
                                    "Unders": "0.00000",
                                    "OversUnitPrice": "0.00000",
                                    "PlanUserID": "",
                                    "PlanGUID": "",
                                    "MOMsourceType": "",
                                    "MOMsourceEst": "",
                                    "DefaultOversPricing": "",
                                    "ECCPlant": "",
                                    "ECCQuoteNum": "",
                                    "ECCQuoteLine": "0",
                                    "SysRevID": "0x00000001475814D5",
                                    "SysRowID": "9cb45313-c5a6-403e-9bcf-6736d240e0df",
                                    "MfgJobType": "",
                                    "ProFormaInvComment": "",
                                    "CreateJob": "0",
                                    "ContractID": "",
                                    "LinkToContract": "0",
                                    "DocInAdvanceBillBal": "0.00000",
                                    "InAdvanceBillBal": "0.00000",
                                    "Rpt1InAdvanceBillBal": "0.00000",
                                    "Rpt2InAdvanceBillBal": "0.00000",
                                    "Rpt3InAdvanceBillBal": "0.00000",
                                    "PCLinkRemoved": "0",
                                    "CommodityCode": "",
                                    "MSRP": "0.000",
                                    "DocMSRP": "0.000",
                                    "Rpt1MSRP": "0.000",
                                    "Rpt2MSRP": "0.000",
                                    "Rpt3MSRP": "0.000",
                                    "EndCustomerPrice": "0.000",
                                    "DocEndCustomerPrice": "0.000",
                                    "Rpt1EndCustomerPrice": "0.000",
                                    "Rpt2EndCustomerPrice": "0.000",
                                    "Rpt3EndCustomerPrice": "0.000",
                                    "PromotionalPrice": "0.000",
                                    "DocPromotionalPrice": "0.000",
                                    "Rpt1PromotionalPrice": "0.000",
                                    "Rpt2PromotionalPrice": "0.000",
                                    "Rpt3PromotionalPrice": "0.000",
                                    "OrderLineStatusCode": "",
                                    "AttributeSetID": "0",
                                    "ForeignSysRowID": "9cb45313-c5a6-403e-9bcf-6736d240e0df",
                                    "UD_SysRevID": "0x00000000010067CA",
                                    "DoNotBook_c": "0",
                                    "EstUnitCost_c": "0.00",
                                    "OriginalEstimate_c": "0.00",
                                    "LegacyLine_c": ""
                                },
                                {
                                    "VoidLine": "0",
                                    "OpenLine": "0",
                                    "Company": "SOLAR",
                                    "OrderNum": "143177",
                                    "OrderLine": "2",
                                    "LineType": "PART",
                                    "PartNum": "MFG MATERIAL",
                                    "LineDesc": "MFG MATERIAL",
                                    "Reference": "",
                                    "IUM": "EA",
                                    "RevisionNum": "",
                                    "POLine": "",
                                    "Commissionable": "1",
                                    "DiscountPercent": "0.00",
                                    "UnitPrice": "0.00000",
                                    "DocUnitPrice": "0.00000",
                                    "OrderQty": "2.00000000",
                                    "Discount": "0.000",
                                    "DocDiscount": "0.000",
                                    "RequestDate": "2014-09-05",
                                    "ProdCode": "MFG",
                                    "XPartNum": "",
                                    "XRevisionNum": "",
                                    "PricePerCode": "E",
                                    "OrderComment": "",
                                    "ShipComment": "",
                                    "InvoiceComment": "",
                                    "PickListComment": "",
                                    "TaxCatID": "",
                                    "AdvanceBillBal": "0.00000",
                                    "DocAdvanceBillBal": "0.00000",
                                    "QuoteNum": "0",
                                    "QuoteLine": "0",
                                    "TMBilling": "0",
                                    "OrigWhyNoTax": "",
                                    "NeedByDate": "2014-09-05",
                                    "CustNum": "59",
                                    "Rework": "0",
                                    "RMANum": "0",
                                    "RMALine": "0",
                                    "ProjectID": "143177",
                                    "ContractNum": "0",
                                    "ContractCode": "",
                                    "BasePartNum": "",
                                    "Warranty": "1",
                                    "WarrantyCode": "",
                                    "MaterialDuration": "0",
                                    "LaborDuration": "0",
                                    "MiscDuration": "0",
                                    "MaterialMod": "",
                                    "LaborMod": "",
                                    "WarrantyComment": "",
                                    "Onsite": "0",
                                    "MatCovered": "0",
                                    "LabCovered": "0",
                                    "MiscCovered": "0",
                                    "SalesUM": "EA",
                                    "SellingFactor": "1.00000000",
                                    "SellingQuantity": "2.00000000",
                                    "SalesCatID": "GI4I",
                                    "ShipLineComplete": "0",
                                    "CumeQty": "0.00000000",
                                    "CumeDate": "NULL",
                                    "MktgCampaignID": "DEFAULT",
                                    "MktgEvntSeq": "1",
                                    "LockQty": "0",
                                    "Linked": "0",
                                    "ICPONum": "0",
                                    "ICPOLine": "0",
                                    "ExtCompany": "",
                                    "LastConfigDate": "NULL",
                                    "LastConfigTime": "0",
                                    "LastConfigUserID": "",
                                    "ConfigUnitPrice": "0.00000",
                                    "ConfigBaseUnitPrice": "0.00000",
                                    "PriceListCode": "",
                                    "BreakListCode": "",
                                    "PricingQty": "0.00000000",
                                    "LockPrice": "0",
                                    "ListPrice": "0.00000",
                                    "DocListPrice": "0.00000",
                                    "OrdBasedPrice": "0.00000",
                                    "DocOrdBasedPrice": "0.00000",
                                    "PriceGroupCode": "",
                                    "OverridePriceList": "0",
                                    "BaseRevisionNum": "",
                                    "PricingValue": "0.000",
                                    "DisplaySeq": "2.000",
                                    "KitParentLine": "2",
                                    "KitAllowUpdate": "0",
                                    "KitShipComplete": "0",
                                    "KitBackFlush": "0",
                                    "KitPrintCompsPS": "0",
                                    "KitPrintCompsInv": "0",
                                    "KitPricing": "",
                                    "KitQtyPer": "0.00000000",
                                    "SellingFactorDirection": "D",
                                    "RepRate1": "0.00",
                                    "RepRate2": "0.00",
                                    "RepRate3": "0.00",
                                    "RepRate4": "0.00",
                                    "RepRate5": "0.00",
                                    "RepSplit1": "100",
                                    "RepSplit2": "0",
                                    "RepSplit3": "0",
                                    "RepSplit4": "0",
                                    "RepSplit5": "0",
                                    "DemandContractLine": "0",
                                    "CreateNewJob": "1",
                                    "DoNotShipBeforeDate": "NULL",
                                    "GetDtls": "0",
                                    "DoNotShipAfterDate": "NULL",
                                    "SchedJob": "0",
                                    "RelJob": "0",
                                    "EnableCreateNewJob": "1",
                                    "EnableGetDtls": "1",
                                    "EnableSchedJob": "1",
                                    "EnableRelJob": "1",
                                    "CounterSaleWarehouse": "",
                                    "CounterSaleBinNum": "",
                                    "CounterSaleLotNum": "",
                                    "CounterSaleDimCode": "",
                                    "DemandDtlRejected": "0",
                                    "KitFlag": "",
                                    "KitsLoaded": "0",
                                    "DemandContractNum": "0",
                                    "DemandHeadSeq": "0",
                                    "DemandDtlSeq": "0",
                                    "ChangedBy": "TFLICKS",
                                    "ChangeDate": "2018-06-29",
                                    "ChangeTime": "46903",
                                    "ReverseCharge": "0",
                                    "TotalReleases": "1",
                                    "Rpt1UnitPrice": "0.00000",
                                    "Rpt2UnitPrice": "0.00000",
                                    "Rpt3UnitPrice": "0.00000",
                                    "Rpt1Discount": "0.00000",
                                    "Rpt2Discount": "0.00000",
                                    "Rpt3Discount": "0.00000",
                                    "Rpt1AdvanceBillBal": "0.00000",
                                    "Rpt2AdvanceBillBal": "0.00000",
                                    "Rpt3AdvanceBillBal": "0.00000",
                                    "Rpt1ListPrice": "0.00000",
                                    "Rpt2ListPrice": "0.00000",
                                    "Rpt3ListPrice": "0.00000",
                                    "Rpt1OrdBasedPrice": "0.00000",
                                    "Rpt2OrdBasedPrice": "0.00000",
                                    "Rpt3OrdBasedPrice": "0.00000",
                                    "ExtPriceDtl": "0.000",
                                    "DocExtPriceDtl": "0.000",
                                    "Rpt1ExtPriceDtl": "0.000",
                                    "Rpt2ExtPriceDtl": "0.000",
                                    "Rpt3ExtPriceDtl": "0.000",
                                    "LineStatus": "OPEN",
                                    "InUnitPrice": "0.00000",
                                    "DocInUnitPrice": "0.00000",
                                    "InDiscount": "0.000",
                                    "DocInDiscount": "0.000",
                                    "InListPrice": "0.00000",
                                    "DocInListPrice": "0.00000",
                                    "InOrdBasedPrice": "0.00000",
                                    "DocInOrdBasedPrice": "0.00000",
                                    "Rpt1InUnitPrice": "0.00000",
                                    "Rpt2InUnitPrice": "0.00000",
                                    "Rpt3InUnitPrice": "0.00000",
                                    "Rpt1InDiscount": "0.00000",
                                    "Rpt2InDiscount": "0.00000",
                                    "Rpt3InDiscount": "0.00000",
                                    "Rpt1InListPrice": "0.00000",
                                    "Rpt2InListPrice": "0.00000",
                                    "Rpt3InListPrice": "0.00000",
                                    "Rpt1InOrdBasedPrice": "0.00000",
                                    "Rpt2InOrdBasedPrice": "0.00000",
                                    "Rpt3InOrdBasedPrice": "0.00000",
                                    "InExtPriceDtl": "0.000",
                                    "DocInExtPriceDtl": "0.000",
                                    "Rpt1InExtPriceDtl": "0.000",
                                    "Rpt2InExtPriceDtl": "0.000",
                                    "Rpt3InExtPriceDtl": "0.000",
                                    "OldOurOpenQty": "0.00",
                                    "OldSellingOpenQty": "0.00",
                                    "OldOpenValue": "0.00",
                                    "OldProdCode": "",
                                    "PrevSellQty": "0.00",
                                    "PrevPartNum": "",
                                    "PrevXPartNum": "",
                                    "KitCompOrigSeq": "0",
                                    "KitCompOrigPart": "",
                                    "SmartStringProcessed": "0",
                                    "SmartString": "",
                                    "RenewalNbr": "0",
                                    "DiscBreakListCode": "",
                                    "DiscListPrice": "0.00000",
                                    "LockDisc": "0",
                                    "OverrideDiscPriceList": "0",
                                    "GroupSeq": "0",
                                    "ECCOrderNum": "",
                                    "ECCOrderLine": "0",
                                    "DupOnJobCrt": "0",
                                    "UndersPct": "0.00000",
                                    "Overs": "0.00000",
                                    "Unders": "0.00000",
                                    "OversUnitPrice": "0.00000",
                                    "PlanUserID": "",
                                    "PlanGUID": "",
                                    "MOMsourceType": "",
                                    "MOMsourceEst": "",
                                    "DefaultOversPricing": "",
                                    "ECCPlant": "",
                                    "ECCQuoteNum": "",
                                    "ECCQuoteLine": "0",
                                    "SysRevID": "0x00000001475814D6",
                                    "SysRowID": "41e425e3-96db-4d44-9673-ce019c3335fb",
                                    "MfgJobType": "",
                                    "ProFormaInvComment": "",
                                    "CreateJob": "0",
                                    "ContractID": "",
                                    "LinkToContract": "0",
                                    "DocInAdvanceBillBal": "0.00000",
                                    "InAdvanceBillBal": "0.00000",
                                    "Rpt1InAdvanceBillBal": "0.00000",
                                    "Rpt2InAdvanceBillBal": "0.00000",
                                    "Rpt3InAdvanceBillBal": "0.00000",
                                    "PCLinkRemoved": "0",
                                    "CommodityCode": "",
                                    "MSRP": "0.000",
                                    "DocMSRP": "0.000",
                                    "Rpt1MSRP": "0.000",
                                    "Rpt2MSRP": "0.000",
                                    "Rpt3MSRP": "0.000",
                                    "EndCustomerPrice": "0.000",
                                    "DocEndCustomerPrice": "0.000",
                                    "Rpt1EndCustomerPrice": "0.000",
                                    "Rpt2EndCustomerPrice": "0.000",
                                    "Rpt3EndCustomerPrice": "0.000",
                                    "PromotionalPrice": "0.000",
                                    "DocPromotionalPrice": "0.000",
                                    "Rpt1PromotionalPrice": "0.000",
                                    "Rpt2PromotionalPrice": "0.000",
                                    "Rpt3PromotionalPrice": "0.000",
                                    "OrderLineStatusCode": "",
                                    "AttributeSetID": "0",
                                    "ForeignSysRowID": "41e425e3-96db-4d44-9673-ce019c3335fb",
                                    "UD_SysRevID": "0x00000000010067D4",
                                    "DoNotBook_c": "0",
                                    "EstUnitCost_c": "0.00",
                                    "OriginalEstimate_c": "0.00",
                                    "LegacyLine_c": ""
                                },
                                {
                                    "VoidLine": "1",
                                    "OpenLine": "0",
                                    "Company": "SOLAR",
                                    "OrderNum": "143177",
                                    "OrderLine": "3",
                                    "LineType": "PART",
                                    "PartNum": "PURCHASED",
                                    "LineDesc": "PURCHASED MATERIAL",
                                    "Reference": "",
                                    "IUM": "EA",
                                    "RevisionNum": "",
                                    "POLine": "",
                                    "Commissionable": "1",
                                    "DiscountPercent": "0.00",
                                    "UnitPrice": "0.00000",
                                    "DocUnitPrice": "0.00000",
                                    "OrderQty": "1.00000000",
                                    "Discount": "0.000",
                                    "DocDiscount": "0.000",
                                    "RequestDate": "2014-09-05",
                                    "ProdCode": "PUR",
                                    "XPartNum": "",
                                    "XRevisionNum": "",
                                    "PricePerCode": "E",
                                    "OrderComment": "",
                                    "ShipComment": "",
                                    "InvoiceComment": "",
                                    "PickListComment": "",
                                    "TaxCatID": "",
                                    "AdvanceBillBal": "0.00000",
                                    "DocAdvanceBillBal": "0.00000",
                                    "QuoteNum": "0",
                                    "QuoteLine": "0",
                                    "TMBilling": "0",
                                    "OrigWhyNoTax": "",
                                    "NeedByDate": "2014-09-05",
                                    "CustNum": "59",
                                    "Rework": "0",
                                    "RMANum": "0",
                                    "RMALine": "0",
                                    "ProjectID": "143177",
                                    "ContractNum": "0",
                                    "ContractCode": "",
                                    "BasePartNum": "",
                                    "Warranty": "1",
                                    "WarrantyCode": "",
                                    "MaterialDuration": "0",
                                    "LaborDuration": "0",
                                    "MiscDuration": "0",
                                    "MaterialMod": "",
                                    "LaborMod": "",
                                    "WarrantyComment": "",
                                    "Onsite": "0",
                                    "MatCovered": "0",
                                    "LabCovered": "0",
                                    "MiscCovered": "0",
                                    "SalesUM": "EA",
                                    "SellingFactor": "1.00000000",
                                    "SellingQuantity": "1.00000000",
                                    "SalesCatID": "GI4I",
                                    "ShipLineComplete": "0",
                                    "CumeQty": "0.00000000",
                                    "CumeDate": "NULL",
                                    "MktgCampaignID": "DEFAULT",
                                    "MktgEvntSeq": "1",
                                    "LockQty": "0",
                                    "Linked": "0",
                                    "ICPONum": "0",
                                    "ICPOLine": "0",
                                    "ExtCompany": "",
                                    "LastConfigDate": "NULL",
                                    "LastConfigTime": "0",
                                    "LastConfigUserID": "",
                                    "ConfigUnitPrice": "0.00000",
                                    "ConfigBaseUnitPrice": "0.00000",
                                    "PriceListCode": "",
                                    "BreakListCode": "",
                                    "PricingQty": "0.00000000",
                                    "LockPrice": "0",
                                    "ListPrice": "0.00000",
                                    "DocListPrice": "0.00000",
                                    "OrdBasedPrice": "0.00000",
                                    "DocOrdBasedPrice": "0.00000",
                                    "PriceGroupCode": "",
                                    "OverridePriceList": "0",
                                    "BaseRevisionNum": "",
                                    "PricingValue": "0.000",
                                    "DisplaySeq": "3.000",
                                    "KitParentLine": "3",
                                    "KitAllowUpdate": "0",
                                    "KitShipComplete": "0",
                                    "KitBackFlush": "0",
                                    "KitPrintCompsPS": "0",
                                    "KitPrintCompsInv": "0",
                                    "KitPricing": "",
                                    "KitQtyPer": "0.00000000",
                                    "SellingFactorDirection": "D",
                                    "RepRate1": "0.00",
                                    "RepRate2": "0.00",
                                    "RepRate3": "0.00",
                                    "RepRate4": "0.00",
                                    "RepRate5": "0.00",
                                    "RepSplit1": "100",
                                    "RepSplit2": "0",
                                    "RepSplit3": "0",
                                    "RepSplit4": "0",
                                    "RepSplit5": "0",
                                    "DemandContractLine": "0",
                                    "CreateNewJob": "1",
                                    "DoNotShipBeforeDate": "NULL",
                                    "GetDtls": "0",
                                    "DoNotShipAfterDate": "NULL",
                                    "SchedJob": "0",
                                    "RelJob": "0",
                                    "EnableCreateNewJob": "1",
                                    "EnableGetDtls": "1",
                                    "EnableSchedJob": "1",
                                    "EnableRelJob": "1",
                                    "CounterSaleWarehouse": "",
                                    "CounterSaleBinNum": "",
                                    "CounterSaleLotNum": "",
                                    "CounterSaleDimCode": "",
                                    "DemandDtlRejected": "0",
                                    "KitFlag": "",
                                    "KitsLoaded": "0",
                                    "DemandContractNum": "0",
                                    "DemandHeadSeq": "0",
                                    "DemandDtlSeq": "0",
                                    "ChangedBy": "manager",
                                    "ChangeDate": "2017-07-02",
                                    "ChangeTime": "30642",
                                    "ReverseCharge": "0",
                                    "TotalReleases": "0",
                                    "Rpt1UnitPrice": "0.00000",
                                    "Rpt2UnitPrice": "0.00000",
                                    "Rpt3UnitPrice": "0.00000",
                                    "Rpt1Discount": "0.00000",
                                    "Rpt2Discount": "0.00000",
                                    "Rpt3Discount": "0.00000",
                                    "Rpt1AdvanceBillBal": "0.00000",
                                    "Rpt2AdvanceBillBal": "0.00000",
                                    "Rpt3AdvanceBillBal": "0.00000",
                                    "Rpt1ListPrice": "0.00000",
                                    "Rpt2ListPrice": "0.00000",
                                    "Rpt3ListPrice": "0.00000",
                                    "Rpt1OrdBasedPrice": "0.00000",
                                    "Rpt2OrdBasedPrice": "0.00000",
                                    "Rpt3OrdBasedPrice": "0.00000",
                                    "ExtPriceDtl": "0.000",
                                    "DocExtPriceDtl": "0.000",
                                    "Rpt1ExtPriceDtl": "0.000",
                                    "Rpt2ExtPriceDtl": "0.000",
                                    "Rpt3ExtPriceDtl": "0.000",
                                    "LineStatus": "OPEN",
                                    "InUnitPrice": "0.00000",
                                    "DocInUnitPrice": "0.00000",
                                    "InDiscount": "0.000",
                                    "DocInDiscount": "0.000",
                                    "InListPrice": "0.00000",
                                    "DocInListPrice": "0.00000",
                                    "InOrdBasedPrice": "0.00000",
                                    "DocInOrdBasedPrice": "0.00000",
                                    "Rpt1InUnitPrice": "0.00000",
                                    "Rpt2InUnitPrice": "0.00000",
                                    "Rpt3InUnitPrice": "0.00000",
                                    "Rpt1InDiscount": "0.00000",
                                    "Rpt2InDiscount": "0.00000",
                                    "Rpt3InDiscount": "0.00000",
                                    "Rpt1InListPrice": "0.00000",
                                    "Rpt2InListPrice": "0.00000",
                                    "Rpt3InListPrice": "0.00000",
                                    "Rpt1InOrdBasedPrice": "0.00000",
                                    "Rpt2InOrdBasedPrice": "0.00000",
                                    "Rpt3InOrdBasedPrice": "0.00000",
                                    "InExtPriceDtl": "0.000",
                                    "DocInExtPriceDtl": "0.000",
                                    "Rpt1InExtPriceDtl": "0.000",
                                    "Rpt2InExtPriceDtl": "0.000",
                                    "Rpt3InExtPriceDtl": "0.000",
                                    "OldOurOpenQty": "0.00",
                                    "OldSellingOpenQty": "0.00",
                                    "OldOpenValue": "0.00",
                                    "OldProdCode": "",
                                    "PrevSellQty": "0.00",
                                    "PrevPartNum": "",
                                    "PrevXPartNum": "",
                                    "KitCompOrigSeq": "0",
                                    "KitCompOrigPart": "",
                                    "SmartStringProcessed": "0",
                                    "SmartString": "",
                                    "RenewalNbr": "0",
                                    "DiscBreakListCode": "",
                                    "DiscListPrice": "0.00000",
                                    "LockDisc": "0",
                                    "OverrideDiscPriceList": "0",
                                    "GroupSeq": "0",
                                    "ECCOrderNum": "",
                                    "ECCOrderLine": "0",
                                    "DupOnJobCrt": "0",
                                    "UndersPct": "0.00000",
                                    "Overs": "0.00000",
                                    "Unders": "0.00000",
                                    "OversUnitPrice": "0.00000",
                                    "PlanUserID": "",
                                    "PlanGUID": "",
                                    "MOMsourceType": "",
                                    "MOMsourceEst": "",
                                    "DefaultOversPricing": "",
                                    "ECCPlant": "",
                                    "ECCQuoteNum": "",
                                    "ECCQuoteLine": "0",
                                    "SysRevID": "0x00000001475814D7",
                                    "SysRowID": "baf25c1b-d8e0-4c02-bd03-14a1df999e1d",
                                    "MfgJobType": "",
                                    "ProFormaInvComment": "",
                                    "CreateJob": "0",
                                    "ContractID": "",
                                    "LinkToContract": "0",
                                    "DocInAdvanceBillBal": "0.00000",
                                    "InAdvanceBillBal": "0.00000",
                                    "Rpt1InAdvanceBillBal": "0.00000",
                                    "Rpt2InAdvanceBillBal": "0.00000",
                                    "Rpt3InAdvanceBillBal": "0.00000",
                                    "PCLinkRemoved": "0",
                                    "CommodityCode": "",
                                    "MSRP": "0.000",
                                    "DocMSRP": "0.000",
                                    "Rpt1MSRP": "0.000",
                                    "Rpt2MSRP": "0.000",
                                    "Rpt3MSRP": "0.000",
                                    "EndCustomerPrice": "0.000",
                                    "DocEndCustomerPrice": "0.000",
                                    "Rpt1EndCustomerPrice": "0.000",
                                    "Rpt2EndCustomerPrice": "0.000",
                                    "Rpt3EndCustomerPrice": "0.000",
                                    "PromotionalPrice": "0.000",
                                    "DocPromotionalPrice": "0.000",
                                    "Rpt1PromotionalPrice": "0.000",
                                    "Rpt2PromotionalPrice": "0.000",
                                    "Rpt3PromotionalPrice": "0.000",
                                    "OrderLineStatusCode": "",
                                    "AttributeSetID": "0",
                                    "ForeignSysRowID": "baf25c1b-d8e0-4c02-bd03-14a1df999e1d",
                                    "UD_SysRevID": "0x0000000000301A8D",
                                    "DoNotBook_c": "0",
                                    "EstUnitCost_c": "0.00",
                                    "OriginalEstimate_c": "0.00",
                                    "LegacyLine_c": ""
                                }
                            ]
                        },
                        "text/html": "<table><tr><th>VoidLine</th><th>OpenLine</th><th>Company</th><th>OrderNum</th><th>OrderLine</th><th>LineType</th><th>PartNum</th><th>LineDesc</th><th>Reference</th><th>IUM</th><th>RevisionNum</th><th>POLine</th><th>Commissionable</th><th>DiscountPercent</th><th>UnitPrice</th><th>DocUnitPrice</th><th>OrderQty</th><th>Discount</th><th>DocDiscount</th><th>RequestDate</th><th>ProdCode</th><th>XPartNum</th><th>XRevisionNum</th><th>PricePerCode</th><th>OrderComment</th><th>ShipComment</th><th>InvoiceComment</th><th>PickListComment</th><th>TaxCatID</th><th>AdvanceBillBal</th><th>DocAdvanceBillBal</th><th>QuoteNum</th><th>QuoteLine</th><th>TMBilling</th><th>OrigWhyNoTax</th><th>NeedByDate</th><th>CustNum</th><th>Rework</th><th>RMANum</th><th>RMALine</th><th>ProjectID</th><th>ContractNum</th><th>ContractCode</th><th>BasePartNum</th><th>Warranty</th><th>WarrantyCode</th><th>MaterialDuration</th><th>LaborDuration</th><th>MiscDuration</th><th>MaterialMod</th><th>LaborMod</th><th>WarrantyComment</th><th>Onsite</th><th>MatCovered</th><th>LabCovered</th><th>MiscCovered</th><th>SalesUM</th><th>SellingFactor</th><th>SellingQuantity</th><th>SalesCatID</th><th>ShipLineComplete</th><th>CumeQty</th><th>CumeDate</th><th>MktgCampaignID</th><th>MktgEvntSeq</th><th>LockQty</th><th>Linked</th><th>ICPONum</th><th>ICPOLine</th><th>ExtCompany</th><th>LastConfigDate</th><th>LastConfigTime</th><th>LastConfigUserID</th><th>ConfigUnitPrice</th><th>ConfigBaseUnitPrice</th><th>PriceListCode</th><th>BreakListCode</th><th>PricingQty</th><th>LockPrice</th><th>ListPrice</th><th>DocListPrice</th><th>OrdBasedPrice</th><th>DocOrdBasedPrice</th><th>PriceGroupCode</th><th>OverridePriceList</th><th>BaseRevisionNum</th><th>PricingValue</th><th>DisplaySeq</th><th>KitParentLine</th><th>KitAllowUpdate</th><th>KitShipComplete</th><th>KitBackFlush</th><th>KitPrintCompsPS</th><th>KitPrintCompsInv</th><th>KitPricing</th><th>KitQtyPer</th><th>SellingFactorDirection</th><th>RepRate1</th><th>RepRate2</th><th>RepRate3</th><th>RepRate4</th><th>RepRate5</th><th>RepSplit1</th><th>RepSplit2</th><th>RepSplit3</th><th>RepSplit4</th><th>RepSplit5</th><th>DemandContractLine</th><th>CreateNewJob</th><th>DoNotShipBeforeDate</th><th>GetDtls</th><th>DoNotShipAfterDate</th><th>SchedJob</th><th>RelJob</th><th>EnableCreateNewJob</th><th>EnableGetDtls</th><th>EnableSchedJob</th><th>EnableRelJob</th><th>CounterSaleWarehouse</th><th>CounterSaleBinNum</th><th>CounterSaleLotNum</th><th>CounterSaleDimCode</th><th>DemandDtlRejected</th><th>KitFlag</th><th>KitsLoaded</th><th>DemandContractNum</th><th>DemandHeadSeq</th><th>DemandDtlSeq</th><th>ChangedBy</th><th>ChangeDate</th><th>ChangeTime</th><th>ReverseCharge</th><th>TotalReleases</th><th>Rpt1UnitPrice</th><th>Rpt2UnitPrice</th><th>Rpt3UnitPrice</th><th>Rpt1Discount</th><th>Rpt2Discount</th><th>Rpt3Discount</th><th>Rpt1AdvanceBillBal</th><th>Rpt2AdvanceBillBal</th><th>Rpt3AdvanceBillBal</th><th>Rpt1ListPrice</th><th>Rpt2ListPrice</th><th>Rpt3ListPrice</th><th>Rpt1OrdBasedPrice</th><th>Rpt2OrdBasedPrice</th><th>Rpt3OrdBasedPrice</th><th>ExtPriceDtl</th><th>DocExtPriceDtl</th><th>Rpt1ExtPriceDtl</th><th>Rpt2ExtPriceDtl</th><th>Rpt3ExtPriceDtl</th><th>LineStatus</th><th>InUnitPrice</th><th>DocInUnitPrice</th><th>InDiscount</th><th>DocInDiscount</th><th>InListPrice</th><th>DocInListPrice</th><th>InOrdBasedPrice</th><th>DocInOrdBasedPrice</th><th>Rpt1InUnitPrice</th><th>Rpt2InUnitPrice</th><th>Rpt3InUnitPrice</th><th>Rpt1InDiscount</th><th>Rpt2InDiscount</th><th>Rpt3InDiscount</th><th>Rpt1InListPrice</th><th>Rpt2InListPrice</th><th>Rpt3InListPrice</th><th>Rpt1InOrdBasedPrice</th><th>Rpt2InOrdBasedPrice</th><th>Rpt3InOrdBasedPrice</th><th>InExtPriceDtl</th><th>DocInExtPriceDtl</th><th>Rpt1InExtPriceDtl</th><th>Rpt2InExtPriceDtl</th><th>Rpt3InExtPriceDtl</th><th>OldOurOpenQty</th><th>OldSellingOpenQty</th><th>OldOpenValue</th><th>OldProdCode</th><th>PrevSellQty</th><th>PrevPartNum</th><th>PrevXPartNum</th><th>KitCompOrigSeq</th><th>KitCompOrigPart</th><th>SmartStringProcessed</th><th>SmartString</th><th>RenewalNbr</th><th>DiscBreakListCode</th><th>DiscListPrice</th><th>LockDisc</th><th>OverrideDiscPriceList</th><th>GroupSeq</th><th>ECCOrderNum</th><th>ECCOrderLine</th><th>DupOnJobCrt</th><th>UndersPct</th><th>Overs</th><th>Unders</th><th>OversUnitPrice</th><th>PlanUserID</th><th>PlanGUID</th><th>MOMsourceType</th><th>MOMsourceEst</th><th>DefaultOversPricing</th><th>ECCPlant</th><th>ECCQuoteNum</th><th>ECCQuoteLine</th><th>SysRevID</th><th>SysRowID</th><th>MfgJobType</th><th>ProFormaInvComment</th><th>CreateJob</th><th>ContractID</th><th>LinkToContract</th><th>DocInAdvanceBillBal</th><th>InAdvanceBillBal</th><th>Rpt1InAdvanceBillBal</th><th>Rpt2InAdvanceBillBal</th><th>Rpt3InAdvanceBillBal</th><th>PCLinkRemoved</th><th>CommodityCode</th><th>MSRP</th><th>DocMSRP</th><th>Rpt1MSRP</th><th>Rpt2MSRP</th><th>Rpt3MSRP</th><th>EndCustomerPrice</th><th>DocEndCustomerPrice</th><th>Rpt1EndCustomerPrice</th><th>Rpt2EndCustomerPrice</th><th>Rpt3EndCustomerPrice</th><th>PromotionalPrice</th><th>DocPromotionalPrice</th><th>Rpt1PromotionalPrice</th><th>Rpt2PromotionalPrice</th><th>Rpt3PromotionalPrice</th><th>OrderLineStatusCode</th><th>AttributeSetID</th><th>ForeignSysRowID</th><th>UD_SysRevID</th><th>DoNotBook_c</th><th>EstUnitCost_c</th><th>OriginalEstimate_c</th><th>LegacyLine_c</th></tr><tr><td>0</td><td>0</td><td>SOLAR</td><td>143177</td><td>1</td><td>PART</td><td>DESIGN</td><td>DESIGN</td><td></td><td>EA</td><td>A</td><td></td><td>1</td><td>0.00</td><td>0.00000</td><td>0.00000</td><td>2.00000000</td><td>0.000</td><td>0.000</td><td>2014-09-05</td><td>DES</td><td></td><td></td><td>E</td><td></td><td></td><td></td><td></td><td></td><td>0.00000</td><td>0.00000</td><td>0</td><td>0</td><td>0</td><td></td><td>2014-09-05</td><td>59</td><td>0</td><td>0</td><td>0</td><td>143177</td><td>0</td><td></td><td></td><td>1</td><td></td><td>0</td><td>0</td><td>0</td><td></td><td></td><td></td><td>0</td><td>0</td><td>0</td><td>0</td><td>EA</td><td>1.00000000</td><td>2.00000000</td><td>GI4I</td><td>0</td><td>0.00000000</td><td>NULL</td><td>DEFAULT</td><td>1</td><td>0</td><td>0</td><td>0</td><td>0</td><td></td><td>NULL</td><td>0</td><td></td><td>0.00000</td><td>0.00000</td><td></td><td></td><td>0.00000000</td><td>0</td><td>0.00000</td><td>0.00000</td><td>0.00000</td><td>0.00000</td><td></td><td>0</td><td></td><td>0.000</td><td>1.000</td><td>1</td><td>0</td><td>0</td><td>0</td><td>0</td><td>0</td><td></td><td>0.00000000</td><td>D</td><td>0.00</td><td>0.00</td><td>0.00</td><td>0.00</td><td>0.00</td><td>100</td><td>0</td><td>0</td><td>0</td><td>0</td><td>0</td><td>1</td><td>NULL</td><td>0</td><td>NULL</td><td>0</td><td>0</td><td>1</td><td>1</td><td>1</td><td>1</td><td></td><td></td><td></td><td></td><td>0</td><td></td><td>0</td><td>0</td><td>0</td><td>0</td><td>TFLICKS</td><td>2018-06-29</td><td>46903</td><td>0</td><td>1</td><td>0.00000</td><td>0.00000</td><td>0.00000</td><td>0.00000</td><td>0.00000</td><td>0.00000</td><td>0.00000</td><td>0.00000</td><td>0.00000</td><td>0.00000</td><td>0.00000</td><td>0.00000</td><td>0.00000</td><td>0.00000</td><td>0.00000</td><td>0.000</td><td>0.000</td><td>0.000</td><td>0.000</td><td>0.000</td><td>OPEN</td><td>0.00000</td><td>0.00000</td><td>0.000</td><td>0.000</td><td>0.00000</td><td>0.00000</td><td>0.00000</td><td>0.00000</td><td>0.00000</td><td>0.00000</td><td>0.00000</td><td>0.00000</td><td>0.00000</td><td>0.00000</td><td>0.00000</td><td>0.00000</td><td>0.00000</td><td>0.00000</td><td>0.00000</td><td>0.00000</td><td>0.000</td><td>0.000</td><td>0.000</td><td>0.000</td><td>0.000</td><td>0.00</td><td>0.00</td><td>0.00</td><td></td><td>0.00</td><td></td><td></td><td>0</td><td></td><td>0</td><td></td><td>0</td><td></td><td>0.00000</td><td>0</td><td>0</td><td>0</td><td></td><td>0</td><td>0</td><td>0.00000</td><td>0.00000</td><td>0.00000</td><td>0.00000</td><td></td><td></td><td></td><td></td><td></td><td></td><td></td><td>0</td><td>0x00000001475814D5</td><td>9cb45313-c5a6-403e-9bcf-6736d240e0df</td><td></td><td></td><td>0</td><td></td><td>0</td><td>0.00000</td><td>0.00000</td><td>0.00000</td><td>0.00000</td><td>0.00000</td><td>0</td><td></td><td>0.000</td><td>0.000</td><td>0.000</td><td>0.000</td><td>0.000</td><td>0.000</td><td>0.000</td><td>0.000</td><td>0.000</td><td>0.000</td><td>0.000</td><td>0.000</td><td>0.000</td><td>0.000</td><td>0.000</td><td></td><td>0</td><td>9cb45313-c5a6-403e-9bcf-6736d240e0df</td><td>0x00000000010067CA</td><td>0</td><td>0.00</td><td>0.00</td><td></td></tr><tr><td>0</td><td>0</td><td>SOLAR</td><td>143177</td><td>2</td><td>PART</td><td>MFG MATERIAL</td><td>MFG MATERIAL</td><td></td><td>EA</td><td></td><td></td><td>1</td><td>0.00</td><td>0.00000</td><td>0.00000</td><td>2.00000000</td><td>0.000</td><td>0.000</td><td>2014-09-05</td><td>MFG</td><td></td><td></td><td>E</td><td></td><td></td><td></td><td></td><td></td><td>0.00000</td><td>0.00000</td><td>0</td><td>0</td><td>0</td><td></td><td>2014-09-05</td><td>59</td><td>0</td><td>0</td><td>0</td><td>143177</td><td>0</td><td></td><td></td><td>1</td><td></td><td>0</td><td>0</td><td>0</td><td></td><td></td><td></td><td>0</td><td>0</td><td>0</td><td>0</td><td>EA</td><td>1.00000000</td><td>2.00000000</td><td>GI4I</td><td>0</td><td>0.00000000</td><td>NULL</td><td>DEFAULT</td><td>1</td><td>0</td><td>0</td><td>0</td><td>0</td><td></td><td>NULL</td><td>0</td><td></td><td>0.00000</td><td>0.00000</td><td></td><td></td><td>0.00000000</td><td>0</td><td>0.00000</td><td>0.00000</td><td>0.00000</td><td>0.00000</td><td></td><td>0</td><td></td><td>0.000</td><td>2.000</td><td>2</td><td>0</td><td>0</td><td>0</td><td>0</td><td>0</td><td></td><td>0.00000000</td><td>D</td><td>0.00</td><td>0.00</td><td>0.00</td><td>0.00</td><td>0.00</td><td>100</td><td>0</td><td>0</td><td>0</td><td>0</td><td>0</td><td>1</td><td>NULL</td><td>0</td><td>NULL</td><td>0</td><td>0</td><td>1</td><td>1</td><td>1</td><td>1</td><td></td><td></td><td></td><td></td><td>0</td><td></td><td>0</td><td>0</td><td>0</td><td>0</td><td>TFLICKS</td><td>2018-06-29</td><td>46903</td><td>0</td><td>1</td><td>0.00000</td><td>0.00000</td><td>0.00000</td><td>0.00000</td><td>0.00000</td><td>0.00000</td><td>0.00000</td><td>0.00000</td><td>0.00000</td><td>0.00000</td><td>0.00000</td><td>0.00000</td><td>0.00000</td><td>0.00000</td><td>0.00000</td><td>0.000</td><td>0.000</td><td>0.000</td><td>0.000</td><td>0.000</td><td>OPEN</td><td>0.00000</td><td>0.00000</td><td>0.000</td><td>0.000</td><td>0.00000</td><td>0.00000</td><td>0.00000</td><td>0.00000</td><td>0.00000</td><td>0.00000</td><td>0.00000</td><td>0.00000</td><td>0.00000</td><td>0.00000</td><td>0.00000</td><td>0.00000</td><td>0.00000</td><td>0.00000</td><td>0.00000</td><td>0.00000</td><td>0.000</td><td>0.000</td><td>0.000</td><td>0.000</td><td>0.000</td><td>0.00</td><td>0.00</td><td>0.00</td><td></td><td>0.00</td><td></td><td></td><td>0</td><td></td><td>0</td><td></td><td>0</td><td></td><td>0.00000</td><td>0</td><td>0</td><td>0</td><td></td><td>0</td><td>0</td><td>0.00000</td><td>0.00000</td><td>0.00000</td><td>0.00000</td><td></td><td></td><td></td><td></td><td></td><td></td><td></td><td>0</td><td>0x00000001475814D6</td><td>41e425e3-96db-4d44-9673-ce019c3335fb</td><td></td><td></td><td>0</td><td></td><td>0</td><td>0.00000</td><td>0.00000</td><td>0.00000</td><td>0.00000</td><td>0.00000</td><td>0</td><td></td><td>0.000</td><td>0.000</td><td>0.000</td><td>0.000</td><td>0.000</td><td>0.000</td><td>0.000</td><td>0.000</td><td>0.000</td><td>0.000</td><td>0.000</td><td>0.000</td><td>0.000</td><td>0.000</td><td>0.000</td><td></td><td>0</td><td>41e425e3-96db-4d44-9673-ce019c3335fb</td><td>0x00000000010067D4</td><td>0</td><td>0.00</td><td>0.00</td><td></td></tr><tr><td>1</td><td>0</td><td>SOLAR</td><td>143177</td><td>3</td><td>PART</td><td>PURCHASED</td><td>PURCHASED MATERIAL</td><td></td><td>EA</td><td></td><td></td><td>1</td><td>0.00</td><td>0.00000</td><td>0.00000</td><td>1.00000000</td><td>0.000</td><td>0.000</td><td>2014-09-05</td><td>PUR</td><td></td><td></td><td>E</td><td></td><td></td><td></td><td></td><td></td><td>0.00000</td><td>0.00000</td><td>0</td><td>0</td><td>0</td><td></td><td>2014-09-05</td><td>59</td><td>0</td><td>0</td><td>0</td><td>143177</td><td>0</td><td></td><td></td><td>1</td><td></td><td>0</td><td>0</td><td>0</td><td></td><td></td><td></td><td>0</td><td>0</td><td>0</td><td>0</td><td>EA</td><td>1.00000000</td><td>1.00000000</td><td>GI4I</td><td>0</td><td>0.00000000</td><td>NULL</td><td>DEFAULT</td><td>1</td><td>0</td><td>0</td><td>0</td><td>0</td><td></td><td>NULL</td><td>0</td><td></td><td>0.00000</td><td>0.00000</td><td></td><td></td><td>0.00000000</td><td>0</td><td>0.00000</td><td>0.00000</td><td>0.00000</td><td>0.00000</td><td></td><td>0</td><td></td><td>0.000</td><td>3.000</td><td>3</td><td>0</td><td>0</td><td>0</td><td>0</td><td>0</td><td></td><td>0.00000000</td><td>D</td><td>0.00</td><td>0.00</td><td>0.00</td><td>0.00</td><td>0.00</td><td>100</td><td>0</td><td>0</td><td>0</td><td>0</td><td>0</td><td>1</td><td>NULL</td><td>0</td><td>NULL</td><td>0</td><td>0</td><td>1</td><td>1</td><td>1</td><td>1</td><td></td><td></td><td></td><td></td><td>0</td><td></td><td>0</td><td>0</td><td>0</td><td>0</td><td>manager</td><td>2017-07-02</td><td>30642</td><td>0</td><td>0</td><td>0.00000</td><td>0.00000</td><td>0.00000</td><td>0.00000</td><td>0.00000</td><td>0.00000</td><td>0.00000</td><td>0.00000</td><td>0.00000</td><td>0.00000</td><td>0.00000</td><td>0.00000</td><td>0.00000</td><td>0.00000</td><td>0.00000</td><td>0.000</td><td>0.000</td><td>0.000</td><td>0.000</td><td>0.000</td><td>OPEN</td><td>0.00000</td><td>0.00000</td><td>0.000</td><td>0.000</td><td>0.00000</td><td>0.00000</td><td>0.00000</td><td>0.00000</td><td>0.00000</td><td>0.00000</td><td>0.00000</td><td>0.00000</td><td>0.00000</td><td>0.00000</td><td>0.00000</td><td>0.00000</td><td>0.00000</td><td>0.00000</td><td>0.00000</td><td>0.00000</td><td>0.000</td><td>0.000</td><td>0.000</td><td>0.000</td><td>0.000</td><td>0.00</td><td>0.00</td><td>0.00</td><td></td><td>0.00</td><td></td><td></td><td>0</td><td></td><td>0</td><td></td><td>0</td><td></td><td>0.00000</td><td>0</td><td>0</td><td>0</td><td></td><td>0</td><td>0</td><td>0.00000</td><td>0.00000</td><td>0.00000</td><td>0.00000</td><td></td><td></td><td></td><td></td><td></td><td></td><td></td><td>0</td><td>0x00000001475814D7</td><td>baf25c1b-d8e0-4c02-bd03-14a1df999e1d</td><td></td><td></td><td>0</td><td></td><td>0</td><td>0.00000</td><td>0.00000</td><td>0.00000</td><td>0.00000</td><td>0.00000</td><td>0</td><td></td><td>0.000</td><td>0.000</td><td>0.000</td><td>0.000</td><td>0.000</td><td>0.000</td><td>0.000</td><td>0.000</td><td>0.000</td><td>0.000</td><td>0.000</td><td>0.000</td><td>0.000</td><td>0.000</td><td>0.000</td><td></td><td>0</td><td>baf25c1b-d8e0-4c02-bd03-14a1df999e1d</td><td>0x0000000000301A8D</td><td>0</td><td>0.00</td><td>0.00</td><td></td></tr></table>"
                    },
                    "metadata": {}
                },
                {
                    "output_type": "execute_result",
                    "execution_count": 1,
                    "data": {
                        "application/vnd.dataresource+json": {
                            "schema": {
                                "fields": [
                                    {
                                        "name": "Company"
                                    },
                                    {
                                        "name": "OrderNum"
                                    },
                                    {
                                        "name": "OrderLine"
                                    },
                                    {
                                        "name": "OrderRelNum"
                                    },
                                    {
                                        "name": "LineType"
                                    },
                                    {
                                        "name": "ReqDate"
                                    },
                                    {
                                        "name": "OurReqQty"
                                    },
                                    {
                                        "name": "ShipToNum"
                                    },
                                    {
                                        "name": "ShipViaCode"
                                    },
                                    {
                                        "name": "OpenRelease"
                                    },
                                    {
                                        "name": "FirmRelease"
                                    },
                                    {
                                        "name": "Make"
                                    },
                                    {
                                        "name": "OurJobQty"
                                    },
                                    {
                                        "name": "OurJobShippedQty"
                                    },
                                    {
                                        "name": "VoidRelease"
                                    },
                                    {
                                        "name": "OurStockQty"
                                    },
                                    {
                                        "name": "WarehouseCode"
                                    },
                                    {
                                        "name": "OurStockShippedQty"
                                    },
                                    {
                                        "name": "PartNum"
                                    },
                                    {
                                        "name": "RevisionNum"
                                    },
                                    {
                                        "name": "TaxExempt"
                                    },
                                    {
                                        "name": "ShpConNum"
                                    },
                                    {
                                        "name": "NeedByDate"
                                    },
                                    {
                                        "name": "Reference"
                                    },
                                    {
                                        "name": "Plant"
                                    },
                                    {
                                        "name": "SellingReqQty"
                                    },
                                    {
                                        "name": "SellingJobQty"
                                    },
                                    {
                                        "name": "SellingJobShippedQty"
                                    },
                                    {
                                        "name": "SellingStockQty"
                                    },
                                    {
                                        "name": "SellingStockShippedQty"
                                    },
                                    {
                                        "name": "SelectForPicking"
                                    },
                                    {
                                        "name": "StagingWarehouseCode"
                                    },
                                    {
                                        "name": "StagingBinNum"
                                    },
                                    {
                                        "name": "PickError"
                                    },
                                    {
                                        "name": "CumeQty"
                                    },
                                    {
                                        "name": "CumeDate"
                                    },
                                    {
                                        "name": "Linked"
                                    },
                                    {
                                        "name": "ICPONum"
                                    },
                                    {
                                        "name": "ICPOLine"
                                    },
                                    {
                                        "name": "ICPORelNum"
                                    },
                                    {
                                        "name": "ExtCompany"
                                    },
                                    {
                                        "name": "ScheduleNumber"
                                    },
                                    {
                                        "name": "MarkForNum"
                                    },
                                    {
                                        "name": "DropShipName"
                                    },
                                    {
                                        "name": "RAN"
                                    },
                                    {
                                        "name": "DemandReference"
                                    },
                                    {
                                        "name": "DemandSchedRejected"
                                    },
                                    {
                                        "name": "DatePickTicketPrinted"
                                    },
                                    {
                                        "name": "ResDelivery"
                                    },
                                    {
                                        "name": "SatDelivery"
                                    },
                                    {
                                        "name": "SatPickup"
                                    },
                                    {
                                        "name": "VerbalConf"
                                    },
                                    {
                                        "name": "Hazmat"
                                    },
                                    {
                                        "name": "DocOnly"
                                    },
                                    {
                                        "name": "RefNotes"
                                    },
                                    {
                                        "name": "ApplyChrg"
                                    },
                                    {
                                        "name": "ChrgAmount"
                                    },
                                    {
                                        "name": "COD"
                                    },
                                    {
                                        "name": "CODFreight"
                                    },
                                    {
                                        "name": "CODCheck"
                                    },
                                    {
                                        "name": "CODAmount"
                                    },
                                    {
                                        "name": "GroundType"
                                    },
                                    {
                                        "name": "NotifyFlag"
                                    },
                                    {
                                        "name": "NotifyEMail"
                                    },
                                    {
                                        "name": "DeclaredIns"
                                    },
                                    {
                                        "name": "DeclaredAmt"
                                    },
                                    {
                                        "name": "ServSatDelivery"
                                    },
                                    {
                                        "name": "ServSatPickup"
                                    },
                                    {
                                        "name": "ServSignature"
                                    },
                                    {
                                        "name": "ServAlert"
                                    },
                                    {
                                        "name": "ServPOD"
                                    },
                                    {
                                        "name": "ServAOD"
                                    },
                                    {
                                        "name": "ServHomeDel"
                                    },
                                    {
                                        "name": "DeliveryType"
                                    },
                                    {
                                        "name": "ServDeliveryDate"
                                    },
                                    {
                                        "name": "ServPhone"
                                    },
                                    {
                                        "name": "ServInstruct"
                                    },
                                    {
                                        "name": "ServRelease"
                                    },
                                    {
                                        "name": "ServAuthNum"
                                    },
                                    {
                                        "name": "ServRef1"
                                    },
                                    {
                                        "name": "ServRef2"
                                    },
                                    {
                                        "name": "ServRef3"
                                    },
                                    {
                                        "name": "ServRef4"
                                    },
                                    {
                                        "name": "ServRef5"
                                    },
                                    {
                                        "name": "OverrideCarrier"
                                    },
                                    {
                                        "name": "OverrideService"
                                    },
                                    {
                                        "name": "DockingStation"
                                    },
                                    {
                                        "name": "Location"
                                    },
                                    {
                                        "name": "TransportID"
                                    },
                                    {
                                        "name": "ShipbyTime"
                                    },
                                    {
                                        "name": "ChangedBy"
                                    },
                                    {
                                        "name": "ChangeDate"
                                    },
                                    {
                                        "name": "ChangeTime"
                                    },
                                    {
                                        "name": "TaxConnectCalc"
                                    },
                                    {
                                        "name": "GetDfltTaxIds"
                                    },
                                    {
                                        "name": "TaxRegionCode"
                                    },
                                    {
                                        "name": "UseOTS"
                                    },
                                    {
                                        "name": "OTSName"
                                    },
                                    {
                                        "name": "OTSAddress1"
                                    },
                                    {
                                        "name": "OTSAddress2"
                                    },
                                    {
                                        "name": "OTSAddress3"
                                    },
                                    {
                                        "name": "OTSCity"
                                    },
                                    {
                                        "name": "OTSState"
                                    },
                                    {
                                        "name": "OTSZIP"
                                    },
                                    {
                                        "name": "OTSResaleID"
                                    },
                                    {
                                        "name": "OTSContact"
                                    },
                                    {
                                        "name": "OTSFaxNum"
                                    },
                                    {
                                        "name": "OTSPhoneNum"
                                    },
                                    {
                                        "name": "OTSCountryNum"
                                    },
                                    {
                                        "name": "SubShipTo"
                                    },
                                    {
                                        "name": "ShipRouting"
                                    },
                                    {
                                        "name": "BuyToOrder"
                                    },
                                    {
                                        "name": "VendorNum"
                                    },
                                    {
                                        "name": "PurPoint"
                                    },
                                    {
                                        "name": "DropShip"
                                    },
                                    {
                                        "name": "PONum"
                                    },
                                    {
                                        "name": "POLine"
                                    },
                                    {
                                        "name": "PORelNum"
                                    },
                                    {
                                        "name": "OpenOrder"
                                    },
                                    {
                                        "name": "OTSSaveAs"
                                    },
                                    {
                                        "name": "OTSSaveCustID"
                                    },
                                    {
                                        "name": "OTSCustSaved"
                                    },
                                    {
                                        "name": "ShipToCustNum"
                                    },
                                    {
                                        "name": "IUM"
                                    },
                                    {
                                        "name": "SalesUM"
                                    },
                                    {
                                        "name": "RelStatus"
                                    },
                                    {
                                        "name": "ComplianceMsg"
                                    },
                                    {
                                        "name": "PrevSellQty"
                                    },
                                    {
                                        "name": "PrevPartNum"
                                    },
                                    {
                                        "name": "PrevXPartNum"
                                    },
                                    {
                                        "name": "PrevNeedByDate"
                                    },
                                    {
                                        "name": "PrevReqDate"
                                    },
                                    {
                                        "name": "PrevShipToNum"
                                    },
                                    {
                                        "name": "MFCustNum"
                                    },
                                    {
                                        "name": "UseOTMF"
                                    },
                                    {
                                        "name": "OTMFName"
                                    },
                                    {
                                        "name": "OTMFAddress1"
                                    },
                                    {
                                        "name": "OTMFAddress2"
                                    },
                                    {
                                        "name": "OTMFAddress3"
                                    },
                                    {
                                        "name": "OTMFCity"
                                    },
                                    {
                                        "name": "OTMFState"
                                    },
                                    {
                                        "name": "OTMFZIP"
                                    },
                                    {
                                        "name": "OTMFContact"
                                    },
                                    {
                                        "name": "OTMFFaxNum"
                                    },
                                    {
                                        "name": "OTMFPhoneNum"
                                    },
                                    {
                                        "name": "OTMFCountryNum"
                                    },
                                    {
                                        "name": "ECCPlant"
                                    },
                                    {
                                        "name": "WIOrderLine"
                                    },
                                    {
                                        "name": "WIOrder"
                                    },
                                    {
                                        "name": "WebSKU"
                                    },
                                    {
                                        "name": "ShipOvers"
                                    },
                                    {
                                        "name": "WIItemPrice"
                                    },
                                    {
                                        "name": "WIItemShipCost"
                                    },
                                    {
                                        "name": "SysRevID"
                                    },
                                    {
                                        "name": "SysRowID"
                                    },
                                    {
                                        "name": "EntityUseCode"
                                    },
                                    {
                                        "name": "PhaseID"
                                    },
                                    {
                                        "name": "OTSShipToNum"
                                    },
                                    {
                                        "name": "WasRecInvoiced"
                                    },
                                    {
                                        "name": "ContractID"
                                    },
                                    {
                                        "name": "LinkToContract"
                                    },
                                    {
                                        "name": "ReadyToFulfill"
                                    },
                                    {
                                        "name": "OTSEMailAddress"
                                    },
                                    {
                                        "name": "AttributeSetID"
                                    },
                                    {
                                        "name": "NumberOfPieces"
                                    },
                                    {
                                        "name": "NumberOfPiecesUOM"
                                    },
                                    {
                                        "name": "PlanningNumberOfPieces"
                                    },
                                    {
                                        "name": "ForeignSysRowID"
                                    },
                                    {
                                        "name": "UD_SysRevID"
                                    },
                                    {
                                        "name": "OrigDueDate_c"
                                    }
                                ]
                            },
                            "data": [
                                {
                                    "Company": "APEKS",
                                    "OrderNum": "5247",
                                    "OrderLine": "1",
                                    "OrderRelNum": "1",
                                    "LineType": "PART",
                                    "ReqDate": "2020-08-31",
                                    "OurReqQty": "1.00000000",
                                    "ShipToNum": "",
                                    "ShipViaCode": "PRAD",
                                    "OpenRelease": "0",
                                    "FirmRelease": "1",
                                    "Make": "0",
                                    "OurJobQty": "0.00000000",
                                    "OurJobShippedQty": "0.00000000",
                                    "VoidRelease": "1",
                                    "OurStockQty": "1.00000000",
                                    "WarehouseCode": "Delta",
                                    "OurStockShippedQty": "0.00000000",
                                    "PartNum": "500-00015",
                                    "RevisionNum": "A",
                                    "TaxExempt": "",
                                    "ShpConNum": "0",
                                    "NeedByDate": "2020-08-31",
                                    "Reference": "",
                                    "Plant": "NDELTA",
                                    "SellingReqQty": "1.00000000",
                                    "SellingJobQty": "0.00000000",
                                    "SellingJobShippedQty": "0.00000000",
                                    "SellingStockQty": "1.00000000",
                                    "SellingStockShippedQty": "0.00000000",
                                    "SelectForPicking": "0",
                                    "StagingWarehouseCode": "",
                                    "StagingBinNum": "",
                                    "PickError": "",
                                    "CumeQty": "0.00000000",
                                    "CumeDate": "NULL",
                                    "Linked": "0",
                                    "ICPONum": "0",
                                    "ICPOLine": "0",
                                    "ICPORelNum": "0",
                                    "ExtCompany": "",
                                    "ScheduleNumber": "",
                                    "MarkForNum": "",
                                    "DropShipName": "",
                                    "RAN": "",
                                    "DemandReference": "",
                                    "DemandSchedRejected": "0",
                                    "DatePickTicketPrinted": "NULL",
                                    "ResDelivery": "0",
                                    "SatDelivery": "0",
                                    "SatPickup": "0",
                                    "VerbalConf": "0",
                                    "Hazmat": "0",
                                    "DocOnly": "0",
                                    "RefNotes": "",
                                    "ApplyChrg": "0",
                                    "ChrgAmount": "0.000",
                                    "COD": "0",
                                    "CODFreight": "0",
                                    "CODCheck": "0",
                                    "CODAmount": "0.000",
                                    "GroundType": "",
                                    "NotifyFlag": "0",
                                    "NotifyEMail": "",
                                    "DeclaredIns": "0",
                                    "DeclaredAmt": "0.000",
                                    "ServSatDelivery": "0",
                                    "ServSatPickup": "0",
                                    "ServSignature": "0",
                                    "ServAlert": "0",
                                    "ServPOD": "0",
                                    "ServAOD": "0",
                                    "ServHomeDel": "0",
                                    "DeliveryType": "",
                                    "ServDeliveryDate": "NULL",
                                    "ServPhone": "",
                                    "ServInstruct": "",
                                    "ServRelease": "0",
                                    "ServAuthNum": "",
                                    "ServRef1": "",
                                    "ServRef2": "",
                                    "ServRef3": "",
                                    "ServRef4": "",
                                    "ServRef5": "",
                                    "OverrideCarrier": "0",
                                    "OverrideService": "0",
                                    "DockingStation": "",
                                    "Location": "",
                                    "TransportID": "",
                                    "ShipbyTime": "0",
                                    "ChangedBy": "WHoxsie",
                                    "ChangeDate": "2021-01-03",
                                    "ChangeTime": "52368",
                                    "TaxConnectCalc": "1",
                                    "GetDfltTaxIds": "0",
                                    "TaxRegionCode": "",
                                    "UseOTS": "0",
                                    "OTSName": "",
                                    "OTSAddress1": "",
                                    "OTSAddress2": "",
                                    "OTSAddress3": "",
                                    "OTSCity": "",
                                    "OTSState": "",
                                    "OTSZIP": "",
                                    "OTSResaleID": "",
                                    "OTSContact": "",
                                    "OTSFaxNum": "",
                                    "OTSPhoneNum": "",
                                    "OTSCountryNum": "0",
                                    "SubShipTo": "",
                                    "ShipRouting": "",
                                    "BuyToOrder": "0",
                                    "VendorNum": "0",
                                    "PurPoint": "",
                                    "DropShip": "0",
                                    "PONum": "0",
                                    "POLine": "0",
                                    "PORelNum": "0",
                                    "OpenOrder": "1",
                                    "OTSSaveAs": "",
                                    "OTSSaveCustID": "",
                                    "OTSCustSaved": "0",
                                    "ShipToCustNum": "357",
                                    "IUM": "EA",
                                    "SalesUM": "EA",
                                    "RelStatus": "",
                                    "ComplianceMsg": "",
                                    "PrevSellQty": "0.00",
                                    "PrevPartNum": "",
                                    "PrevXPartNum": "",
                                    "PrevNeedByDate": "NULL",
                                    "PrevReqDate": "NULL",
                                    "PrevShipToNum": "",
                                    "MFCustNum": "357",
                                    "UseOTMF": "0",
                                    "OTMFName": "",
                                    "OTMFAddress1": "",
                                    "OTMFAddress2": "",
                                    "OTMFAddress3": "",
                                    "OTMFCity": "",
                                    "OTMFState": "",
                                    "OTMFZIP": "",
                                    "OTMFContact": "",
                                    "OTMFFaxNum": "",
                                    "OTMFPhoneNum": "",
                                    "OTMFCountryNum": "0",
                                    "ECCPlant": "",
                                    "WIOrderLine": "",
                                    "WIOrder": "",
                                    "WebSKU": "",
                                    "ShipOvers": "0",
                                    "WIItemPrice": "0.00000",
                                    "WIItemShipCost": "0.00000",
                                    "SysRevID": "0x00000001863BA63C",
                                    "SysRowID": "35b8e93e-8a49-47a5-977d-3ebe5631e49b",
                                    "EntityUseCode": "",
                                    "PhaseID": "",
                                    "OTSShipToNum": "",
                                    "WasRecInvoiced": "0",
                                    "ContractID": "",
                                    "LinkToContract": "0",
                                    "ReadyToFulfill": "0",
                                    "OTSEMailAddress": "",
                                    "AttributeSetID": "0",
                                    "NumberOfPieces": "0",
                                    "NumberOfPiecesUOM": "",
                                    "PlanningNumberOfPieces": "0",
                                    "ForeignSysRowID": "35b8e93e-8a49-47a5-977d-3ebe5631e49b",
                                    "UD_SysRevID": "0x000000049AC926EC",
                                    "OrigDueDate_c": "NULL"
                                },
                                {
                                    "Company": "APEKS",
                                    "OrderNum": "5247",
                                    "OrderLine": "2",
                                    "OrderRelNum": "1",
                                    "LineType": "PART",
                                    "ReqDate": "2020-08-31",
                                    "OurReqQty": "15.00000000",
                                    "ShipToNum": "",
                                    "ShipViaCode": "PRAD",
                                    "OpenRelease": "0",
                                    "FirmRelease": "1",
                                    "Make": "0",
                                    "OurJobQty": "0.00000000",
                                    "OurJobShippedQty": "0.00000000",
                                    "VoidRelease": "1",
                                    "OurStockQty": "15.00000000",
                                    "WarehouseCode": "Delta",
                                    "OurStockShippedQty": "0.00000000",
                                    "PartNum": "900-00005",
                                    "RevisionNum": "A",
                                    "TaxExempt": "",
                                    "ShpConNum": "0",
                                    "NeedByDate": "2020-08-31",
                                    "Reference": "",
                                    "Plant": "NDELTA",
                                    "SellingReqQty": "15.00000000",
                                    "SellingJobQty": "0.00000000",
                                    "SellingJobShippedQty": "0.00000000",
                                    "SellingStockQty": "15.00000000",
                                    "SellingStockShippedQty": "0.00000000",
                                    "SelectForPicking": "0",
                                    "StagingWarehouseCode": "",
                                    "StagingBinNum": "",
                                    "PickError": "",
                                    "CumeQty": "0.00000000",
                                    "CumeDate": "NULL",
                                    "Linked": "0",
                                    "ICPONum": "0",
                                    "ICPOLine": "0",
                                    "ICPORelNum": "0",
                                    "ExtCompany": "",
                                    "ScheduleNumber": "",
                                    "MarkForNum": "",
                                    "DropShipName": "",
                                    "RAN": "",
                                    "DemandReference": "",
                                    "DemandSchedRejected": "0",
                                    "DatePickTicketPrinted": "NULL",
                                    "ResDelivery": "0",
                                    "SatDelivery": "0",
                                    "SatPickup": "0",
                                    "VerbalConf": "0",
                                    "Hazmat": "0",
                                    "DocOnly": "0",
                                    "RefNotes": "",
                                    "ApplyChrg": "0",
                                    "ChrgAmount": "0.000",
                                    "COD": "0",
                                    "CODFreight": "0",
                                    "CODCheck": "0",
                                    "CODAmount": "0.000",
                                    "GroundType": "",
                                    "NotifyFlag": "0",
                                    "NotifyEMail": "",
                                    "DeclaredIns": "0",
                                    "DeclaredAmt": "0.000",
                                    "ServSatDelivery": "0",
                                    "ServSatPickup": "0",
                                    "ServSignature": "0",
                                    "ServAlert": "0",
                                    "ServPOD": "0",
                                    "ServAOD": "0",
                                    "ServHomeDel": "0",
                                    "DeliveryType": "",
                                    "ServDeliveryDate": "NULL",
                                    "ServPhone": "",
                                    "ServInstruct": "",
                                    "ServRelease": "0",
                                    "ServAuthNum": "",
                                    "ServRef1": "",
                                    "ServRef2": "",
                                    "ServRef3": "",
                                    "ServRef4": "",
                                    "ServRef5": "",
                                    "OverrideCarrier": "0",
                                    "OverrideService": "0",
                                    "DockingStation": "",
                                    "Location": "",
                                    "TransportID": "",
                                    "ShipbyTime": "0",
                                    "ChangedBy": "WHoxsie",
                                    "ChangeDate": "2021-01-03",
                                    "ChangeTime": "52371",
                                    "TaxConnectCalc": "1",
                                    "GetDfltTaxIds": "0",
                                    "TaxRegionCode": "",
                                    "UseOTS": "0",
                                    "OTSName": "",
                                    "OTSAddress1": "",
                                    "OTSAddress2": "",
                                    "OTSAddress3": "",
                                    "OTSCity": "",
                                    "OTSState": "",
                                    "OTSZIP": "",
                                    "OTSResaleID": "",
                                    "OTSContact": "",
                                    "OTSFaxNum": "",
                                    "OTSPhoneNum": "",
                                    "OTSCountryNum": "0",
                                    "SubShipTo": "",
                                    "ShipRouting": "",
                                    "BuyToOrder": "0",
                                    "VendorNum": "0",
                                    "PurPoint": "",
                                    "DropShip": "0",
                                    "PONum": "0",
                                    "POLine": "0",
                                    "PORelNum": "0",
                                    "OpenOrder": "1",
                                    "OTSSaveAs": "",
                                    "OTSSaveCustID": "",
                                    "OTSCustSaved": "0",
                                    "ShipToCustNum": "357",
                                    "IUM": "EA",
                                    "SalesUM": "EA",
                                    "RelStatus": "",
                                    "ComplianceMsg": "",
                                    "PrevSellQty": "0.00",
                                    "PrevPartNum": "",
                                    "PrevXPartNum": "",
                                    "PrevNeedByDate": "NULL",
                                    "PrevReqDate": "NULL",
                                    "PrevShipToNum": "",
                                    "MFCustNum": "357",
                                    "UseOTMF": "0",
                                    "OTMFName": "",
                                    "OTMFAddress1": "",
                                    "OTMFAddress2": "",
                                    "OTMFAddress3": "",
                                    "OTMFCity": "",
                                    "OTMFState": "",
                                    "OTMFZIP": "",
                                    "OTMFContact": "",
                                    "OTMFFaxNum": "",
                                    "OTMFPhoneNum": "",
                                    "OTMFCountryNum": "0",
                                    "ECCPlant": "",
                                    "WIOrderLine": "",
                                    "WIOrder": "",
                                    "WebSKU": "",
                                    "ShipOvers": "0",
                                    "WIItemPrice": "0.00000",
                                    "WIItemShipCost": "0.00000",
                                    "SysRevID": "0x00000001863BA7EF",
                                    "SysRowID": "09d3c1ac-afae-4d12-aaa1-c05a279ca3fd",
                                    "EntityUseCode": "",
                                    "PhaseID": "",
                                    "OTSShipToNum": "",
                                    "WasRecInvoiced": "0",
                                    "ContractID": "",
                                    "LinkToContract": "0",
                                    "ReadyToFulfill": "0",
                                    "OTSEMailAddress": "",
                                    "AttributeSetID": "0",
                                    "NumberOfPieces": "0",
                                    "NumberOfPiecesUOM": "",
                                    "PlanningNumberOfPieces": "0",
                                    "ForeignSysRowID": "09d3c1ac-afae-4d12-aaa1-c05a279ca3fd",
                                    "UD_SysRevID": "0x000000049ACBCF54",
                                    "OrigDueDate_c": "NULL"
                                },
                                {
                                    "Company": "APEKS",
                                    "OrderNum": "5247",
                                    "OrderLine": "3",
                                    "OrderRelNum": "1",
                                    "LineType": "PART",
                                    "ReqDate": "2020-08-31",
                                    "OurReqQty": "20.00000000",
                                    "ShipToNum": "",
                                    "ShipViaCode": "PRAD",
                                    "OpenRelease": "0",
                                    "FirmRelease": "1",
                                    "Make": "0",
                                    "OurJobQty": "0.00000000",
                                    "OurJobShippedQty": "0.00000000",
                                    "VoidRelease": "1",
                                    "OurStockQty": "20.00000000",
                                    "WarehouseCode": "Delta",
                                    "OurStockShippedQty": "0.00000000",
                                    "PartNum": "780-00001",
                                    "RevisionNum": "",
                                    "TaxExempt": "",
                                    "ShpConNum": "0",
                                    "NeedByDate": "2020-08-31",
                                    "Reference": "",
                                    "Plant": "NDELTA",
                                    "SellingReqQty": "20.00000000",
                                    "SellingJobQty": "0.00000000",
                                    "SellingJobShippedQty": "0.00000000",
                                    "SellingStockQty": "20.00000000",
                                    "SellingStockShippedQty": "0.00000000",
                                    "SelectForPicking": "0",
                                    "StagingWarehouseCode": "",
                                    "StagingBinNum": "",
                                    "PickError": "",
                                    "CumeQty": "0.00000000",
                                    "CumeDate": "NULL",
                                    "Linked": "0",
                                    "ICPONum": "0",
                                    "ICPOLine": "0",
                                    "ICPORelNum": "0",
                                    "ExtCompany": "",
                                    "ScheduleNumber": "",
                                    "MarkForNum": "",
                                    "DropShipName": "",
                                    "RAN": "",
                                    "DemandReference": "",
                                    "DemandSchedRejected": "0",
                                    "DatePickTicketPrinted": "NULL",
                                    "ResDelivery": "0",
                                    "SatDelivery": "0",
                                    "SatPickup": "0",
                                    "VerbalConf": "0",
                                    "Hazmat": "0",
                                    "DocOnly": "0",
                                    "RefNotes": "",
                                    "ApplyChrg": "0",
                                    "ChrgAmount": "0.000",
                                    "COD": "0",
                                    "CODFreight": "0",
                                    "CODCheck": "0",
                                    "CODAmount": "0.000",
                                    "GroundType": "",
                                    "NotifyFlag": "0",
                                    "NotifyEMail": "",
                                    "DeclaredIns": "0",
                                    "DeclaredAmt": "0.000",
                                    "ServSatDelivery": "0",
                                    "ServSatPickup": "0",
                                    "ServSignature": "0",
                                    "ServAlert": "0",
                                    "ServPOD": "0",
                                    "ServAOD": "0",
                                    "ServHomeDel": "0",
                                    "DeliveryType": "",
                                    "ServDeliveryDate": "NULL",
                                    "ServPhone": "",
                                    "ServInstruct": "",
                                    "ServRelease": "0",
                                    "ServAuthNum": "",
                                    "ServRef1": "",
                                    "ServRef2": "",
                                    "ServRef3": "",
                                    "ServRef4": "",
                                    "ServRef5": "",
                                    "OverrideCarrier": "0",
                                    "OverrideService": "0",
                                    "DockingStation": "",
                                    "Location": "",
                                    "TransportID": "",
                                    "ShipbyTime": "0",
                                    "ChangedBy": "WHoxsie",
                                    "ChangeDate": "2021-01-03",
                                    "ChangeTime": "52373",
                                    "TaxConnectCalc": "1",
                                    "GetDfltTaxIds": "0",
                                    "TaxRegionCode": "",
                                    "UseOTS": "0",
                                    "OTSName": "",
                                    "OTSAddress1": "",
                                    "OTSAddress2": "",
                                    "OTSAddress3": "",
                                    "OTSCity": "",
                                    "OTSState": "",
                                    "OTSZIP": "",
                                    "OTSResaleID": "",
                                    "OTSContact": "",
                                    "OTSFaxNum": "",
                                    "OTSPhoneNum": "",
                                    "OTSCountryNum": "0",
                                    "SubShipTo": "",
                                    "ShipRouting": "",
                                    "BuyToOrder": "0",
                                    "VendorNum": "0",
                                    "PurPoint": "",
                                    "DropShip": "0",
                                    "PONum": "0",
                                    "POLine": "0",
                                    "PORelNum": "0",
                                    "OpenOrder": "1",
                                    "OTSSaveAs": "",
                                    "OTSSaveCustID": "",
                                    "OTSCustSaved": "0",
                                    "ShipToCustNum": "357",
                                    "IUM": "EA",
                                    "SalesUM": "EA",
                                    "RelStatus": "",
                                    "ComplianceMsg": "",
                                    "PrevSellQty": "0.00",
                                    "PrevPartNum": "",
                                    "PrevXPartNum": "",
                                    "PrevNeedByDate": "NULL",
                                    "PrevReqDate": "NULL",
                                    "PrevShipToNum": "",
                                    "MFCustNum": "357",
                                    "UseOTMF": "0",
                                    "OTMFName": "",
                                    "OTMFAddress1": "",
                                    "OTMFAddress2": "",
                                    "OTMFAddress3": "",
                                    "OTMFCity": "",
                                    "OTMFState": "",
                                    "OTMFZIP": "",
                                    "OTMFContact": "",
                                    "OTMFFaxNum": "",
                                    "OTMFPhoneNum": "",
                                    "OTMFCountryNum": "0",
                                    "ECCPlant": "",
                                    "WIOrderLine": "",
                                    "WIOrder": "",
                                    "WebSKU": "",
                                    "ShipOvers": "0",
                                    "WIItemPrice": "0.00000",
                                    "WIItemShipCost": "0.00000",
                                    "SysRevID": "0x00000001863BA951",
                                    "SysRowID": "ad2be2fc-5746-4a22-8dc6-31628fa60c10",
                                    "EntityUseCode": "",
                                    "PhaseID": "",
                                    "OTSShipToNum": "",
                                    "WasRecInvoiced": "0",
                                    "ContractID": "",
                                    "LinkToContract": "0",
                                    "ReadyToFulfill": "0",
                                    "OTSEMailAddress": "",
                                    "AttributeSetID": "0",
                                    "NumberOfPieces": "0",
                                    "NumberOfPiecesUOM": "",
                                    "PlanningNumberOfPieces": "0",
                                    "ForeignSysRowID": "ad2be2fc-5746-4a22-8dc6-31628fa60c10",
                                    "UD_SysRevID": "0x000000049AC8E167",
                                    "OrigDueDate_c": "NULL"
                                }
                            ]
                        },
                        "text/html": "<table><tr><th>Company</th><th>OrderNum</th><th>OrderLine</th><th>OrderRelNum</th><th>LineType</th><th>ReqDate</th><th>OurReqQty</th><th>ShipToNum</th><th>ShipViaCode</th><th>OpenRelease</th><th>FirmRelease</th><th>Make</th><th>OurJobQty</th><th>OurJobShippedQty</th><th>VoidRelease</th><th>OurStockQty</th><th>WarehouseCode</th><th>OurStockShippedQty</th><th>PartNum</th><th>RevisionNum</th><th>TaxExempt</th><th>ShpConNum</th><th>NeedByDate</th><th>Reference</th><th>Plant</th><th>SellingReqQty</th><th>SellingJobQty</th><th>SellingJobShippedQty</th><th>SellingStockQty</th><th>SellingStockShippedQty</th><th>SelectForPicking</th><th>StagingWarehouseCode</th><th>StagingBinNum</th><th>PickError</th><th>CumeQty</th><th>CumeDate</th><th>Linked</th><th>ICPONum</th><th>ICPOLine</th><th>ICPORelNum</th><th>ExtCompany</th><th>ScheduleNumber</th><th>MarkForNum</th><th>DropShipName</th><th>RAN</th><th>DemandReference</th><th>DemandSchedRejected</th><th>DatePickTicketPrinted</th><th>ResDelivery</th><th>SatDelivery</th><th>SatPickup</th><th>VerbalConf</th><th>Hazmat</th><th>DocOnly</th><th>RefNotes</th><th>ApplyChrg</th><th>ChrgAmount</th><th>COD</th><th>CODFreight</th><th>CODCheck</th><th>CODAmount</th><th>GroundType</th><th>NotifyFlag</th><th>NotifyEMail</th><th>DeclaredIns</th><th>DeclaredAmt</th><th>ServSatDelivery</th><th>ServSatPickup</th><th>ServSignature</th><th>ServAlert</th><th>ServPOD</th><th>ServAOD</th><th>ServHomeDel</th><th>DeliveryType</th><th>ServDeliveryDate</th><th>ServPhone</th><th>ServInstruct</th><th>ServRelease</th><th>ServAuthNum</th><th>ServRef1</th><th>ServRef2</th><th>ServRef3</th><th>ServRef4</th><th>ServRef5</th><th>OverrideCarrier</th><th>OverrideService</th><th>DockingStation</th><th>Location</th><th>TransportID</th><th>ShipbyTime</th><th>ChangedBy</th><th>ChangeDate</th><th>ChangeTime</th><th>TaxConnectCalc</th><th>GetDfltTaxIds</th><th>TaxRegionCode</th><th>UseOTS</th><th>OTSName</th><th>OTSAddress1</th><th>OTSAddress2</th><th>OTSAddress3</th><th>OTSCity</th><th>OTSState</th><th>OTSZIP</th><th>OTSResaleID</th><th>OTSContact</th><th>OTSFaxNum</th><th>OTSPhoneNum</th><th>OTSCountryNum</th><th>SubShipTo</th><th>ShipRouting</th><th>BuyToOrder</th><th>VendorNum</th><th>PurPoint</th><th>DropShip</th><th>PONum</th><th>POLine</th><th>PORelNum</th><th>OpenOrder</th><th>OTSSaveAs</th><th>OTSSaveCustID</th><th>OTSCustSaved</th><th>ShipToCustNum</th><th>IUM</th><th>SalesUM</th><th>RelStatus</th><th>ComplianceMsg</th><th>PrevSellQty</th><th>PrevPartNum</th><th>PrevXPartNum</th><th>PrevNeedByDate</th><th>PrevReqDate</th><th>PrevShipToNum</th><th>MFCustNum</th><th>UseOTMF</th><th>OTMFName</th><th>OTMFAddress1</th><th>OTMFAddress2</th><th>OTMFAddress3</th><th>OTMFCity</th><th>OTMFState</th><th>OTMFZIP</th><th>OTMFContact</th><th>OTMFFaxNum</th><th>OTMFPhoneNum</th><th>OTMFCountryNum</th><th>ECCPlant</th><th>WIOrderLine</th><th>WIOrder</th><th>WebSKU</th><th>ShipOvers</th><th>WIItemPrice</th><th>WIItemShipCost</th><th>SysRevID</th><th>SysRowID</th><th>EntityUseCode</th><th>PhaseID</th><th>OTSShipToNum</th><th>WasRecInvoiced</th><th>ContractID</th><th>LinkToContract</th><th>ReadyToFulfill</th><th>OTSEMailAddress</th><th>AttributeSetID</th><th>NumberOfPieces</th><th>NumberOfPiecesUOM</th><th>PlanningNumberOfPieces</th><th>ForeignSysRowID</th><th>UD_SysRevID</th><th>OrigDueDate_c</th></tr><tr><td>APEKS</td><td>5247</td><td>1</td><td>1</td><td>PART</td><td>2020-08-31</td><td>1.00000000</td><td></td><td>PRAD</td><td>0</td><td>1</td><td>0</td><td>0.00000000</td><td>0.00000000</td><td>1</td><td>1.00000000</td><td>Delta</td><td>0.00000000</td><td>500-00015</td><td>A</td><td></td><td>0</td><td>2020-08-31</td><td></td><td>NDELTA</td><td>1.00000000</td><td>0.00000000</td><td>0.00000000</td><td>1.00000000</td><td>0.00000000</td><td>0</td><td></td><td></td><td></td><td>0.00000000</td><td>NULL</td><td>0</td><td>0</td><td>0</td><td>0</td><td></td><td></td><td></td><td></td><td></td><td></td><td>0</td><td>NULL</td><td>0</td><td>0</td><td>0</td><td>0</td><td>0</td><td>0</td><td></td><td>0</td><td>0.000</td><td>0</td><td>0</td><td>0</td><td>0.000</td><td></td><td>0</td><td></td><td>0</td><td>0.000</td><td>0</td><td>0</td><td>0</td><td>0</td><td>0</td><td>0</td><td>0</td><td></td><td>NULL</td><td></td><td></td><td>0</td><td></td><td></td><td></td><td></td><td></td><td></td><td>0</td><td>0</td><td></td><td></td><td></td><td>0</td><td>WHoxsie</td><td>2021-01-03</td><td>52368</td><td>1</td><td>0</td><td></td><td>0</td><td></td><td></td><td></td><td></td><td></td><td></td><td></td><td></td><td></td><td></td><td></td><td>0</td><td></td><td></td><td>0</td><td>0</td><td></td><td>0</td><td>0</td><td>0</td><td>0</td><td>1</td><td></td><td></td><td>0</td><td>357</td><td>EA</td><td>EA</td><td></td><td></td><td>0.00</td><td></td><td></td><td>NULL</td><td>NULL</td><td></td><td>357</td><td>0</td><td></td><td></td><td></td><td></td><td></td><td></td><td></td><td></td><td></td><td></td><td>0</td><td></td><td></td><td></td><td></td><td>0</td><td>0.00000</td><td>0.00000</td><td>0x00000001863BA63C</td><td>35b8e93e-8a49-47a5-977d-3ebe5631e49b</td><td></td><td></td><td></td><td>0</td><td></td><td>0</td><td>0</td><td></td><td>0</td><td>0</td><td></td><td>0</td><td>35b8e93e-8a49-47a5-977d-3ebe5631e49b</td><td>0x000000049AC926EC</td><td>NULL</td></tr><tr><td>APEKS</td><td>5247</td><td>2</td><td>1</td><td>PART</td><td>2020-08-31</td><td>15.00000000</td><td></td><td>PRAD</td><td>0</td><td>1</td><td>0</td><td>0.00000000</td><td>0.00000000</td><td>1</td><td>15.00000000</td><td>Delta</td><td>0.00000000</td><td>900-00005</td><td>A</td><td></td><td>0</td><td>2020-08-31</td><td></td><td>NDELTA</td><td>15.00000000</td><td>0.00000000</td><td>0.00000000</td><td>15.00000000</td><td>0.00000000</td><td>0</td><td></td><td></td><td></td><td>0.00000000</td><td>NULL</td><td>0</td><td>0</td><td>0</td><td>0</td><td></td><td></td><td></td><td></td><td></td><td></td><td>0</td><td>NULL</td><td>0</td><td>0</td><td>0</td><td>0</td><td>0</td><td>0</td><td></td><td>0</td><td>0.000</td><td>0</td><td>0</td><td>0</td><td>0.000</td><td></td><td>0</td><td></td><td>0</td><td>0.000</td><td>0</td><td>0</td><td>0</td><td>0</td><td>0</td><td>0</td><td>0</td><td></td><td>NULL</td><td></td><td></td><td>0</td><td></td><td></td><td></td><td></td><td></td><td></td><td>0</td><td>0</td><td></td><td></td><td></td><td>0</td><td>WHoxsie</td><td>2021-01-03</td><td>52371</td><td>1</td><td>0</td><td></td><td>0</td><td></td><td></td><td></td><td></td><td></td><td></td><td></td><td></td><td></td><td></td><td></td><td>0</td><td></td><td></td><td>0</td><td>0</td><td></td><td>0</td><td>0</td><td>0</td><td>0</td><td>1</td><td></td><td></td><td>0</td><td>357</td><td>EA</td><td>EA</td><td></td><td></td><td>0.00</td><td></td><td></td><td>NULL</td><td>NULL</td><td></td><td>357</td><td>0</td><td></td><td></td><td></td><td></td><td></td><td></td><td></td><td></td><td></td><td></td><td>0</td><td></td><td></td><td></td><td></td><td>0</td><td>0.00000</td><td>0.00000</td><td>0x00000001863BA7EF</td><td>09d3c1ac-afae-4d12-aaa1-c05a279ca3fd</td><td></td><td></td><td></td><td>0</td><td></td><td>0</td><td>0</td><td></td><td>0</td><td>0</td><td></td><td>0</td><td>09d3c1ac-afae-4d12-aaa1-c05a279ca3fd</td><td>0x000000049ACBCF54</td><td>NULL</td></tr><tr><td>APEKS</td><td>5247</td><td>3</td><td>1</td><td>PART</td><td>2020-08-31</td><td>20.00000000</td><td></td><td>PRAD</td><td>0</td><td>1</td><td>0</td><td>0.00000000</td><td>0.00000000</td><td>1</td><td>20.00000000</td><td>Delta</td><td>0.00000000</td><td>780-00001</td><td></td><td></td><td>0</td><td>2020-08-31</td><td></td><td>NDELTA</td><td>20.00000000</td><td>0.00000000</td><td>0.00000000</td><td>20.00000000</td><td>0.00000000</td><td>0</td><td></td><td></td><td></td><td>0.00000000</td><td>NULL</td><td>0</td><td>0</td><td>0</td><td>0</td><td></td><td></td><td></td><td></td><td></td><td></td><td>0</td><td>NULL</td><td>0</td><td>0</td><td>0</td><td>0</td><td>0</td><td>0</td><td></td><td>0</td><td>0.000</td><td>0</td><td>0</td><td>0</td><td>0.000</td><td></td><td>0</td><td></td><td>0</td><td>0.000</td><td>0</td><td>0</td><td>0</td><td>0</td><td>0</td><td>0</td><td>0</td><td></td><td>NULL</td><td></td><td></td><td>0</td><td></td><td></td><td></td><td></td><td></td><td></td><td>0</td><td>0</td><td></td><td></td><td></td><td>0</td><td>WHoxsie</td><td>2021-01-03</td><td>52373</td><td>1</td><td>0</td><td></td><td>0</td><td></td><td></td><td></td><td></td><td></td><td></td><td></td><td></td><td></td><td></td><td></td><td>0</td><td></td><td></td><td>0</td><td>0</td><td></td><td>0</td><td>0</td><td>0</td><td>0</td><td>1</td><td></td><td></td><td>0</td><td>357</td><td>EA</td><td>EA</td><td></td><td></td><td>0.00</td><td></td><td></td><td>NULL</td><td>NULL</td><td></td><td>357</td><td>0</td><td></td><td></td><td></td><td></td><td></td><td></td><td></td><td></td><td></td><td></td><td>0</td><td></td><td></td><td></td><td></td><td>0</td><td>0.00000</td><td>0.00000</td><td>0x00000001863BA951</td><td>ad2be2fc-5746-4a22-8dc6-31628fa60c10</td><td></td><td></td><td></td><td>0</td><td></td><td>0</td><td>0</td><td></td><td>0</td><td>0</td><td></td><td>0</td><td>ad2be2fc-5746-4a22-8dc6-31628fa60c10</td><td>0x000000049AC8E167</td><td>NULL</td></tr></table>"
                    },
                    "metadata": {}
                },
                {
                    "output_type": "execute_result",
                    "execution_count": 1,
                    "data": {
                        "application/vnd.dataresource+json": {
                            "schema": {
                                "fields": [
                                    {
                                        "name": "Company"
                                    },
                                    {
                                        "name": "CustID"
                                    },
                                    {
                                        "name": "CustNum"
                                    },
                                    {
                                        "name": "Name"
                                    },
                                    {
                                        "name": "Address1"
                                    },
                                    {
                                        "name": "Address2"
                                    },
                                    {
                                        "name": "Address3"
                                    },
                                    {
                                        "name": "City"
                                    },
                                    {
                                        "name": "State"
                                    },
                                    {
                                        "name": "Zip"
                                    },
                                    {
                                        "name": "Country"
                                    },
                                    {
                                        "name": "ResaleID"
                                    },
                                    {
                                        "name": "SalesRepCode"
                                    },
                                    {
                                        "name": "TerritoryID"
                                    },
                                    {
                                        "name": "ShipToNum"
                                    },
                                    {
                                        "name": "TermsCode"
                                    },
                                    {
                                        "name": "ShipViaCode"
                                    },
                                    {
                                        "name": "PrintStatements"
                                    },
                                    {
                                        "name": "PrintLabels"
                                    },
                                    {
                                        "name": "PrintAck"
                                    },
                                    {
                                        "name": "FinCharges"
                                    },
                                    {
                                        "name": "CreditHold"
                                    },
                                    {
                                        "name": "GroupCode"
                                    },
                                    {
                                        "name": "DiscountPercent"
                                    },
                                    {
                                        "name": "PrimPCon"
                                    },
                                    {
                                        "name": "PrimBCon"
                                    },
                                    {
                                        "name": "PrimSCon"
                                    },
                                    {
                                        "name": "Comment"
                                    },
                                    {
                                        "name": "EstDate"
                                    },
                                    {
                                        "name": "FaxNum"
                                    },
                                    {
                                        "name": "PhoneNum"
                                    },
                                    {
                                        "name": "TaxExempt"
                                    },
                                    {
                                        "name": "MarkUpID"
                                    },
                                    {
                                        "name": "BillDay"
                                    },
                                    {
                                        "name": "OneInvPerPS"
                                    },
                                    {
                                        "name": "DefaultFOB"
                                    },
                                    {
                                        "name": "CreditIncludeOrders"
                                    },
                                    {
                                        "name": "CreditReviewDate"
                                    },
                                    {
                                        "name": "CreditHoldDate"
                                    },
                                    {
                                        "name": "CreditHoldSource"
                                    },
                                    {
                                        "name": "CreditClearUserID"
                                    },
                                    {
                                        "name": "CreditClearDate"
                                    },
                                    {
                                        "name": "CreditClearTime"
                                    },
                                    {
                                        "name": "EDICode"
                                    },
                                    {
                                        "name": "CurrencyCode"
                                    },
                                    {
                                        "name": "CountryNum"
                                    },
                                    {
                                        "name": "LangNameID"
                                    },
                                    {
                                        "name": "BorderCrossing"
                                    },
                                    {
                                        "name": "FormatStr"
                                    },
                                    {
                                        "name": "BTName"
                                    },
                                    {
                                        "name": "BTAddress1"
                                    },
                                    {
                                        "name": "BTAddress2"
                                    },
                                    {
                                        "name": "BTAddress3"
                                    },
                                    {
                                        "name": "BTCity"
                                    },
                                    {
                                        "name": "BTState"
                                    },
                                    {
                                        "name": "BTZip"
                                    },
                                    {
                                        "name": "BTCountryNum"
                                    },
                                    {
                                        "name": "BTCountry"
                                    },
                                    {
                                        "name": "BTPhoneNum"
                                    },
                                    {
                                        "name": "BTFaxNum"
                                    },
                                    {
                                        "name": "BTFormatStr"
                                    },
                                    {
                                        "name": "ParentCustNum"
                                    },
                                    {
                                        "name": "TaxRegionCode"
                                    },
                                    {
                                        "name": "ICCust"
                                    },
                                    {
                                        "name": "ContBillDay"
                                    },
                                    {
                                        "name": "EMailAddress"
                                    },
                                    {
                                        "name": "ShippingQualifier"
                                    },
                                    {
                                        "name": "AllocPriorityCode"
                                    },
                                    {
                                        "name": "ReservePriorityCode"
                                    },
                                    {
                                        "name": "LinkPortNum"
                                    },
                                    {
                                        "name": "WebCustomer"
                                    },
                                    {
                                        "name": "CustomerType"
                                    },
                                    {
                                        "name": "NoContact"
                                    },
                                    {
                                        "name": "TerritoryLock"
                                    },
                                    {
                                        "name": "CustURL"
                                    },
                                    {
                                        "name": "PendingTerritoryID"
                                    },
                                    {
                                        "name": "ExtID"
                                    },
                                    {
                                        "name": "ConsolidateSO"
                                    },
                                    {
                                        "name": "BillFrequency"
                                    },
                                    {
                                        "name": "CreditIncludePI"
                                    },
                                    {
                                        "name": "GlobalCust"
                                    },
                                    {
                                        "name": "ICTrader"
                                    },
                                    {
                                        "name": "TaxAuthorityCode"
                                    },
                                    {
                                        "name": "ExternalDeliveryNote"
                                    },
                                    {
                                        "name": "GlobalCredIncOrd"
                                    },
                                    {
                                        "name": "GlobalCredIncPI"
                                    },
                                    {
                                        "name": "GlobalCurrencyCode"
                                    },
                                    {
                                        "name": "ExternalID"
                                    },
                                    {
                                        "name": "GlobalCreditHold"
                                    },
                                    {
                                        "name": "GlobalLock"
                                    },
                                    {
                                        "name": "CheckDuplicatePO"
                                    },
                                    {
                                        "name": "CreditLimit"
                                    },
                                    {
                                        "name": "CustPILimit"
                                    },
                                    {
                                        "name": "GlobalCreditLimit"
                                    },
                                    {
                                        "name": "GlobalPILimit"
                                    },
                                    {
                                        "name": "DocGlobalCreditLimit"
                                    },
                                    {
                                        "name": "DocGlobalPILimit"
                                    },
                                    {
                                        "name": "RfqAttachAllow"
                                    },
                                    {
                                        "name": "DiscountQualifier"
                                    },
                                    {
                                        "name": "AllowAltBillTo"
                                    },
                                    {
                                        "name": "DemandDeliveryDays"
                                    },
                                    {
                                        "name": "DemandDateType"
                                    },
                                    {
                                        "name": "DemandAddLeadTime"
                                    },
                                    {
                                        "name": "DemandAddAction"
                                    },
                                    {
                                        "name": "DemandChangeLeadTime"
                                    },
                                    {
                                        "name": "DemandChangeAction"
                                    },
                                    {
                                        "name": "DemandCancelLeadTime"
                                    },
                                    {
                                        "name": "DemandCancelAction"
                                    },
                                    {
                                        "name": "DemandNewLineLeadTime"
                                    },
                                    {
                                        "name": "DemandNewLineAction"
                                    },
                                    {
                                        "name": "DemandQtyChangeLeadTime"
                                    },
                                    {
                                        "name": "DemandQtyChangeAction"
                                    },
                                    {
                                        "name": "DemandChangeDateLeadTime"
                                    },
                                    {
                                        "name": "DemandChangeDateAction"
                                    },
                                    {
                                        "name": "TradingPartnerName"
                                    },
                                    {
                                        "name": "ResDelivery"
                                    },
                                    {
                                        "name": "SatDelivery"
                                    },
                                    {
                                        "name": "SatPickup"
                                    },
                                    {
                                        "name": "Hazmat"
                                    },
                                    {
                                        "name": "DocOnly"
                                    },
                                    {
                                        "name": "RefNotes"
                                    },
                                    {
                                        "name": "ApplyChrg"
                                    },
                                    {
                                        "name": "ChrgAmount"
                                    },
                                    {
                                        "name": "COD"
                                    },
                                    {
                                        "name": "CODFreight"
                                    },
                                    {
                                        "name": "CODCheck"
                                    },
                                    {
                                        "name": "CODAmount"
                                    },
                                    {
                                        "name": "GroundType"
                                    },
                                    {
                                        "name": "NotifyFlag"
                                    },
                                    {
                                        "name": "NotifyEMail"
                                    },
                                    {
                                        "name": "DeclaredIns"
                                    },
                                    {
                                        "name": "DeclaredAmt"
                                    },
                                    {
                                        "name": "PeriodicityCode"
                                    },
                                    {
                                        "name": "ServSignature"
                                    },
                                    {
                                        "name": "ServAlert"
                                    },
                                    {
                                        "name": "ServHomeDel"
                                    },
                                    {
                                        "name": "DeliveryType"
                                    },
                                    {
                                        "name": "ServDeliveryDate"
                                    },
                                    {
                                        "name": "ServPhone"
                                    },
                                    {
                                        "name": "ServInstruct"
                                    },
                                    {
                                        "name": "ServRelease"
                                    },
                                    {
                                        "name": "ServAuthNum"
                                    },
                                    {
                                        "name": "ServRef1"
                                    },
                                    {
                                        "name": "ServRef2"
                                    },
                                    {
                                        "name": "ServRef3"
                                    },
                                    {
                                        "name": "ServRef4"
                                    },
                                    {
                                        "name": "ServRef5"
                                    },
                                    {
                                        "name": "EarlyBuffer"
                                    },
                                    {
                                        "name": "LateBuffer"
                                    },
                                    {
                                        "name": "DemandUnitPriceDiff"
                                    },
                                    {
                                        "name": "DemandUnitPriceDiffAction"
                                    },
                                    {
                                        "name": "ExcFromVal"
                                    },
                                    {
                                        "name": "AddressVal"
                                    },
                                    {
                                        "name": "RebateVendorNum"
                                    },
                                    {
                                        "name": "RebateForm"
                                    },
                                    {
                                        "name": "CreditCardOrder"
                                    },
                                    {
                                        "name": "DemandCheckForPart"
                                    },
                                    {
                                        "name": "DemandCheckForPartAction"
                                    },
                                    {
                                        "name": "ChangedBy"
                                    },
                                    {
                                        "name": "ChangeDate"
                                    },
                                    {
                                        "name": "ChangeTime"
                                    },
                                    {
                                        "name": "ChargeCode"
                                    },
                                    {
                                        "name": "IndividualPackIDs"
                                    },
                                    {
                                        "name": "IntrntlShip"
                                    },
                                    {
                                        "name": "CertOfOrigin"
                                    },
                                    {
                                        "name": "CommercialInvoice"
                                    },
                                    {
                                        "name": "ShipExprtDeclartn"
                                    },
                                    {
                                        "name": "LetterOfInstr"
                                    },
                                    {
                                        "name": "FFID"
                                    },
                                    {
                                        "name": "FFCompName"
                                    },
                                    {
                                        "name": "FFAddress1"
                                    },
                                    {
                                        "name": "FFAddress2"
                                    },
                                    {
                                        "name": "FFAddress3"
                                    },
                                    {
                                        "name": "FFCity"
                                    },
                                    {
                                        "name": "FFState"
                                    },
                                    {
                                        "name": "FFZip"
                                    },
                                    {
                                        "name": "FFCountry"
                                    },
                                    {
                                        "name": "FFCountryNum"
                                    },
                                    {
                                        "name": "FFPhoneNum"
                                    },
                                    {
                                        "name": "NonStdPkg"
                                    },
                                    {
                                        "name": "DeliveryConf"
                                    },
                                    {
                                        "name": "AddlHdlgFlag"
                                    },
                                    {
                                        "name": "UPSQuantumView"
                                    },
                                    {
                                        "name": "UPSQVShipFromName"
                                    },
                                    {
                                        "name": "UPSQVMemo"
                                    },
                                    {
                                        "name": "UPSQVEmailType"
                                    },
                                    {
                                        "name": "FFContact"
                                    },
                                    {
                                        "name": "ETCAddrChg"
                                    },
                                    {
                                        "name": "TaxRoundRule"
                                    },
                                    {
                                        "name": "TaxMethod"
                                    },
                                    {
                                        "name": "ValidPayer"
                                    },
                                    {
                                        "name": "ValidSoldTo"
                                    },
                                    {
                                        "name": "ValidShipTo"
                                    },
                                    {
                                        "name": "OverrideRlsClass"
                                    },
                                    {
                                        "name": "AcrossNatAcc"
                                    },
                                    {
                                        "name": "NAParentCreditIsUsed"
                                    },
                                    {
                                        "name": "NACreditIsShare"
                                    },
                                    {
                                        "name": "NACreditPreferenceList"
                                    },
                                    {
                                        "name": "NAParentCreditPrc"
                                    },
                                    {
                                        "name": "NACreditSharedPrc"
                                    },
                                    {
                                        "name": "AllowOTS"
                                    },
                                    {
                                        "name": "ThirdPLCust"
                                    },
                                    {
                                        "name": "ManagedVendID"
                                    },
                                    {
                                        "name": "ManagedVendNum"
                                    },
                                    {
                                        "name": "NARlsClassCode"
                                    },
                                    {
                                        "name": "DirectDebiting"
                                    },
                                    {
                                        "name": "ReminderCode"
                                    },
                                    {
                                        "name": "GlbNAParentCreditIsUsed"
                                    },
                                    {
                                        "name": "GlbNACreditIsShare"
                                    },
                                    {
                                        "name": "GlbNAParentCreditPrc"
                                    },
                                    {
                                        "name": "GlbNACreditSharedPrc"
                                    },
                                    {
                                        "name": "AllowShipTo3"
                                    },
                                    {
                                        "name": "OTSSaveAs"
                                    },
                                    {
                                        "name": "CustPartOpts"
                                    },
                                    {
                                        "name": "HasBank"
                                    },
                                    {
                                        "name": "PMUID"
                                    },
                                    {
                                        "name": "DemandCheckForRev"
                                    },
                                    {
                                        "name": "OrderHoldForReview"
                                    },
                                    {
                                        "name": "DemandCheckForRevAction"
                                    },
                                    {
                                        "name": "ShipToTerrList"
                                    },
                                    {
                                        "name": "AcctRefNumber"
                                    },
                                    {
                                        "name": "LegalName"
                                    },
                                    {
                                        "name": "TaxRegReason"
                                    },
                                    {
                                        "name": "InvPerPackLine"
                                    },
                                    {
                                        "name": "OrgRegCode"
                                    },
                                    {
                                        "name": "DemandCloseRejSkd"
                                    },
                                    {
                                        "name": "OurBankCode"
                                    },
                                    {
                                        "name": "DemandCloseNoMatch"
                                    },
                                    {
                                        "name": "DmdCheckPartialShip"
                                    },
                                    {
                                        "name": "DmdCheckShipAction"
                                    },
                                    {
                                        "name": "DemandCheckCUMM"
                                    },
                                    {
                                        "name": "DemandCheckCUMMAction"
                                    },
                                    {
                                        "name": "DemandPricing"
                                    },
                                    {
                                        "name": "PriceTolerance"
                                    },
                                    {
                                        "name": "PreferredBank"
                                    },
                                    {
                                        "name": "CheckDateCapPromise"
                                    },
                                    {
                                        "name": "CheckConfirmCapPromise"
                                    },
                                    {
                                        "name": "CheckUpdateCapPromise"
                                    },
                                    {
                                        "name": "DemandCapPromiseDate"
                                    },
                                    {
                                        "name": "DemandCapPromiseAction"
                                    },
                                    {
                                        "name": "DemandCapPromiseUpdate"
                                    },
                                    {
                                        "name": "PeriodicBilling"
                                    },
                                    {
                                        "name": "DueDateCriteria"
                                    },
                                    {
                                        "name": "PBTerms"
                                    },
                                    {
                                        "name": "ERSOrder"
                                    },
                                    {
                                        "name": "DemandSplitSched"
                                    },
                                    {
                                        "name": "OTSmartString"
                                    },
                                    {
                                        "name": "DeferredRev"
                                    },
                                    {
                                        "name": "RACode"
                                    },
                                    {
                                        "name": "DemandCheckConfig"
                                    },
                                    {
                                        "name": "DemandCheckCfgAction"
                                    },
                                    {
                                        "name": "AllowAsAltRemitTo"
                                    },
                                    {
                                        "name": "FederalID"
                                    },
                                    {
                                        "name": "WIApplication"
                                    },
                                    {
                                        "name": "WICustomer"
                                    },
                                    {
                                        "name": "WIShippingCosts"
                                    },
                                    {
                                        "name": "LOQBookPCFinishing"
                                    },
                                    {
                                        "name": "LOQBookPCPaper"
                                    },
                                    {
                                        "name": "LOQBookPCPress"
                                    },
                                    {
                                        "name": "LOQBookPCPlates"
                                    },
                                    {
                                        "name": "Variations"
                                    },
                                    {
                                        "name": "OversPct"
                                    },
                                    {
                                        "name": "UndersPct"
                                    },
                                    {
                                        "name": "DefaultLOQstyle"
                                    },
                                    {
                                        "name": "DefaultOrderAcknowledgement"
                                    },
                                    {
                                        "name": "DefaultPackSlip"
                                    },
                                    {
                                        "name": "DefaultOversPricing"
                                    },
                                    {
                                        "name": "LOQPrepressStyle"
                                    },
                                    {
                                        "name": "CSR"
                                    },
                                    {
                                        "name": "LOQBookCaFinishing"
                                    },
                                    {
                                        "name": "LOQBookCapaper"
                                    },
                                    {
                                        "name": "LOQBookCaPress"
                                    },
                                    {
                                        "name": "LOQBookCatPlates"
                                    },
                                    {
                                        "name": "LOQVariations"
                                    },
                                    {
                                        "name": "DefaultInvoicestyle"
                                    },
                                    {
                                        "name": "AEPLOQType"
                                    },
                                    {
                                        "name": "BusinessCust"
                                    },
                                    {
                                        "name": "SysRevID"
                                    },
                                    {
                                        "name": "SysRowID"
                                    },
                                    {
                                        "name": "THBranchID"
                                    },
                                    {
                                        "name": "CustPricingSchema"
                                    },
                                    {
                                        "name": "ParamCode"
                                    },
                                    {
                                        "name": "AGAFIPResponsibilityCode"
                                    },
                                    {
                                        "name": "AGBillToProvinceCode"
                                    },
                                    {
                                        "name": "AGGrossIncomeTaxID"
                                    },
                                    {
                                        "name": "AGIDDocTypeCode"
                                    },
                                    {
                                        "name": "AGIDDocumentNumber"
                                    },
                                    {
                                        "name": "AGProvinceCode"
                                    },
                                    {
                                        "name": "AGUseGoodDefaultMark"
                                    },
                                    {
                                        "name": "Collections"
                                    },
                                    {
                                        "name": "CollectionsDate"
                                    },
                                    {
                                        "name": "DateCollectionPosted"
                                    },
                                    {
                                        "name": "MXMunicipio"
                                    },
                                    {
                                        "name": "PEIdentityDocType"
                                    },
                                    {
                                        "name": "PEDocumentID"
                                    },
                                    {
                                        "name": "PEGoodsContributor"
                                    },
                                    {
                                        "name": "PEWithholdAgent"
                                    },
                                    {
                                        "name": "PECollectionAgent"
                                    },
                                    {
                                        "name": "PENotFound"
                                    },
                                    {
                                        "name": "PENoAddress"
                                    },
                                    {
                                        "name": "EntityUseCode"
                                    },
                                    {
                                        "name": "InvcOrderCmpDflt"
                                    },
                                    {
                                        "name": "EInvoice"
                                    },
                                    {
                                        "name": "RegistrationCode"
                                    },
                                    {
                                        "name": "EAddress"
                                    },
                                    {
                                        "name": "DemandCheckForRunOutPart"
                                    },
                                    {
                                        "name": "DemandCheckForRunOutPartAction"
                                    },
                                    {
                                        "name": "EInvCompanyIDAttr"
                                    },
                                    {
                                        "name": "INCSTNumber"
                                    },
                                    {
                                        "name": "INPANNumber"
                                    },
                                    {
                                        "name": "COOneTimeID"
                                    },
                                    {
                                        "name": "COIsOneTimeCust"
                                    },
                                    {
                                        "name": "DEOrgType"
                                    },
                                    {
                                        "name": "PEGuaranteeName"
                                    },
                                    {
                                        "name": "PEGuaranteeAddress1"
                                    },
                                    {
                                        "name": "PEGuaranteeAddress2"
                                    },
                                    {
                                        "name": "PEGuaranteeAddress3"
                                    },
                                    {
                                        "name": "PEGuaranteeCity"
                                    },
                                    {
                                        "name": "PEGuaranteeState"
                                    },
                                    {
                                        "name": "PEGuaranteeZip"
                                    },
                                    {
                                        "name": "PEGuaranteeCountry"
                                    },
                                    {
                                        "name": "PEGuaranteePhoneNum"
                                    },
                                    {
                                        "name": "PEGuaranteeTaxID"
                                    },
                                    {
                                        "name": "OurSupplierCode"
                                    },
                                    {
                                        "name": "ECCType"
                                    },
                                    {
                                        "name": "MYIndustryCode"
                                    },
                                    {
                                        "name": "SyncToExternalCRM"
                                    },
                                    {
                                        "name": "ExternalCRMCustomerID"
                                    },
                                    {
                                        "name": "ExternalCRMCustomerType"
                                    },
                                    {
                                        "name": "ExternalCRMLastSync"
                                    },
                                    {
                                        "name": "ExternalCRMSyncRequired"
                                    },
                                    {
                                        "name": "Ownership"
                                    },
                                    {
                                        "name": "Industry"
                                    },
                                    {
                                        "name": "AnnualRevenue"
                                    },
                                    {
                                        "name": "NumberOfEmployees"
                                    },
                                    {
                                        "name": "TickerLocation"
                                    },
                                    {
                                        "name": "TickerSymbol"
                                    },
                                    {
                                        "name": "Rating"
                                    },
                                    {
                                        "name": "TWGUIRegNum"
                                    },
                                    {
                                        "name": "MXAccountNumber"
                                    },
                                    {
                                        "name": "ConsolidateLinesPerPart"
                                    },
                                    {
                                        "name": "TWTaxPayerType"
                                    },
                                    {
                                        "name": "TWDeductGUIFormatCode"
                                    },
                                    {
                                        "name": "MXCURP"
                                    },
                                    {
                                        "name": "PEAddressID"
                                    },
                                    {
                                        "name": "PEPerceptionRegime"
                                    },
                                    {
                                        "name": "TaxEntityType"
                                    },
                                    {
                                        "name": "INGSTComplianceRate"
                                    },
                                    {
                                        "name": "INTaxRegistrationID"
                                    },
                                    {
                                        "name": "MXPurchaseType"
                                    },
                                    {
                                        "name": "SendToFSA"
                                    },
                                    {
                                        "name": "MXGeneralPublic"
                                    },
                                    {
                                        "name": "AgingCreditHold"
                                    },
                                    {
                                        "name": "AgingCreditHoldDate"
                                    },
                                    {
                                        "name": "AgingCreditHoldSource"
                                    },
                                    {
                                        "name": "AgingCreditClearUserID"
                                    },
                                    {
                                        "name": "AgingCreditClearDate"
                                    },
                                    {
                                        "name": "AgingCreditCode"
                                    },
                                    {
                                        "name": "ImporterOfRecord"
                                    },
                                    {
                                        "name": "SEC"
                                    },
                                    {
                                        "name": "EInvEndpointIDAttr"
                                    },
                                    {
                                        "name": "UseBlindShipping"
                                    },
                                    {
                                        "name": "ELIEinvoice"
                                    },
                                    {
                                        "name": "ELIDefReportID"
                                    },
                                    {
                                        "name": "ELIDefStyleNum"
                                    },
                                    {
                                        "name": "ELIDefToMail"
                                    },
                                    {
                                        "name": "ELIDefCCMail"
                                    },
                                    {
                                        "name": "ELIDefMailTempID"
                                    },
                                    {
                                        "name": "ELISendMail"
                                    },
                                    {
                                        "name": "COFiscalResp1"
                                    },
                                    {
                                        "name": "COFiscalResp2"
                                    },
                                    {
                                        "name": "COFiscalResp3"
                                    },
                                    {
                                        "name": "COOperType"
                                    },
                                    {
                                        "name": "CentralCollection"
                                    },
                                    {
                                        "name": "NettingVendorNum"
                                    },
                                    {
                                        "name": "EORINumber"
                                    },
                                    {
                                        "name": "AGIsElectronicCreditInvEligible"
                                    },
                                    {
                                        "name": "TaxValidationStatus"
                                    },
                                    {
                                        "name": "TaxValidationDate"
                                    },
                                    {
                                        "name": "HMRCTaxValidationLog"
                                    },
                                    {
                                        "name": "Inactive"
                                    },
                                    {
                                        "name": "ExternalSchemeID"
                                    },
                                    {
                                        "name": "ELIOperatorCode"
                                    },
                                    {
                                        "name": "ELISendingOption"
                                    },
                                    {
                                        "name": "ELIOperatorID"
                                    }
                                ]
                            },
                            "data": [
                                {
                                    "Company": "SOLAR",
                                    "CustID": "ROUGH",
                                    "CustNum": "4",
                                    "Name": "ROUGH BROTHERS INC",
                                    "Address1": "5513 VINE STREET",
                                    "Address2": "",
                                    "Address3": "",
                                    "City": "CINCINNATI",
                                    "State": "OH",
                                    "Zip": "45217",
                                    "Country": "",
                                    "ResaleID": "",
                                    "SalesRepCode": "HOUSE",
                                    "TerritoryID": "DEFAULT",
                                    "ShipToNum": "",
                                    "TermsCode": "N30",
                                    "ShipViaCode": "BW",
                                    "PrintStatements": "0",
                                    "PrintLabels": "1",
                                    "PrintAck": "1",
                                    "FinCharges": "1",
                                    "CreditHold": "0",
                                    "GroupCode": "",
                                    "DiscountPercent": "0.00",
                                    "PrimPCon": "0",
                                    "PrimBCon": "0",
                                    "PrimSCon": "0",
                                    "Comment": "",
                                    "EstDate": "2017-06-28",
                                    "FaxNum": "513-242-0816",
                                    "PhoneNum": "513-242-0310",
                                    "TaxExempt": "",
                                    "MarkUpID": "",
                                    "BillDay": "0",
                                    "OneInvPerPS": "1",
                                    "DefaultFOB": "",
                                    "CreditIncludeOrders": "1",
                                    "CreditReviewDate": "NULL",
                                    "CreditHoldDate": "NULL",
                                    "CreditHoldSource": "MANUAL",
                                    "CreditClearUserID": "",
                                    "CreditClearDate": "NULL",
                                    "CreditClearTime": "",
                                    "EDICode": "",
                                    "CurrencyCode": "USD",
                                    "CountryNum": "0",
                                    "LangNameID": "",
                                    "BorderCrossing": "",
                                    "FormatStr": "",
                                    "BTName": "",
                                    "BTAddress1": "",
                                    "BTAddress2": "",
                                    "BTAddress3": "",
                                    "BTCity": "",
                                    "BTState": "",
                                    "BTZip": "",
                                    "BTCountryNum": "0",
                                    "BTCountry": "",
                                    "BTPhoneNum": "",
                                    "BTFaxNum": "",
                                    "BTFormatStr": "",
                                    "ParentCustNum": "0",
                                    "TaxRegionCode": "",
                                    "ICCust": "0",
                                    "ContBillDay": "1",
                                    "EMailAddress": "",
                                    "ShippingQualifier": "",
                                    "AllocPriorityCode": "",
                                    "ReservePriorityCode": "",
                                    "LinkPortNum": "0",
                                    "WebCustomer": "0",
                                    "CustomerType": "CUS",
                                    "NoContact": "0",
                                    "TerritoryLock": "0",
                                    "CustURL": "",
                                    "PendingTerritoryID": "",
                                    "ExtID": "",
                                    "ConsolidateSO": "0",
                                    "BillFrequency": "W",
                                    "CreditIncludePI": "0",
                                    "GlobalCust": "0",
                                    "ICTrader": "0",
                                    "TaxAuthorityCode": "",
                                    "ExternalDeliveryNote": "0",
                                    "GlobalCredIncOrd": "1",
                                    "GlobalCredIncPI": "0",
                                    "GlobalCurrencyCode": "",
                                    "ExternalID": "",
                                    "GlobalCreditHold": "",
                                    "GlobalLock": "0",
                                    "CheckDuplicatePO": "0",
                                    "CreditLimit": "0",
                                    "CustPILimit": "0",
                                    "GlobalCreditLimit": "0",
                                    "GlobalPILimit": "0",
                                    "DocGlobalCreditLimit": "0",
                                    "DocGlobalPILimit": "0",
                                    "RfqAttachAllow": "0",
                                    "DiscountQualifier": "ADD",
                                    "AllowAltBillTo": "0",
                                    "DemandDeliveryDays": "0",
                                    "DemandDateType": "S",
                                    "DemandAddLeadTime": "0",
                                    "DemandAddAction": "B",
                                    "DemandChangeLeadTime": "0",
                                    "DemandChangeAction": "B",
                                    "DemandCancelLeadTime": "0",
                                    "DemandCancelAction": "B",
                                    "DemandNewLineLeadTime": "0",
                                    "DemandNewLineAction": "B",
                                    "DemandQtyChangeLeadTime": "0",
                                    "DemandQtyChangeAction": "B",
                                    "DemandChangeDateLeadTime": "0",
                                    "DemandChangeDateAction": "B",
                                    "TradingPartnerName": "",
                                    "ResDelivery": "0",
                                    "SatDelivery": "0",
                                    "SatPickup": "0",
                                    "Hazmat": "0",
                                    "DocOnly": "0",
                                    "RefNotes": "",
                                    "ApplyChrg": "0",
                                    "ChrgAmount": "0.000",
                                    "COD": "0",
                                    "CODFreight": "0",
                                    "CODCheck": "0",
                                    "CODAmount": "0.000",
                                    "GroundType": "",
                                    "NotifyFlag": "0",
                                    "NotifyEMail": "",
                                    "DeclaredIns": "0",
                                    "DeclaredAmt": "0.000",
                                    "PeriodicityCode": "0",
                                    "ServSignature": "0",
                                    "ServAlert": "0",
                                    "ServHomeDel": "0",
                                    "DeliveryType": "",
                                    "ServDeliveryDate": "NULL",
                                    "ServPhone": "",
                                    "ServInstruct": "",
                                    "ServRelease": "0",
                                    "ServAuthNum": "",
                                    "ServRef1": "",
                                    "ServRef2": "",
                                    "ServRef3": "",
                                    "ServRef4": "",
                                    "ServRef5": "",
                                    "EarlyBuffer": "0",
                                    "LateBuffer": "0",
                                    "DemandUnitPriceDiff": "0",
                                    "DemandUnitPriceDiffAction": "B",
                                    "ExcFromVal": "0",
                                    "AddressVal": "0",
                                    "RebateVendorNum": "0",
                                    "RebateForm": "",
                                    "CreditCardOrder": "0",
                                    "DemandCheckForPart": "0",
                                    "DemandCheckForPartAction": "B",
                                    "ChangedBy": "Bhoward",
                                    "ChangeDate": "2023-07-07",
                                    "ChangeTime": "40195",
                                    "ChargeCode": "",
                                    "IndividualPackIDs": "0",
                                    "IntrntlShip": "0",
                                    "CertOfOrigin": "0",
                                    "CommercialInvoice": "0",
                                    "ShipExprtDeclartn": "0",
                                    "LetterOfInstr": "0",
                                    "FFID": "",
                                    "FFCompName": "",
                                    "FFAddress1": "",
                                    "FFAddress2": "",
                                    "FFAddress3": "",
                                    "FFCity": "",
                                    "FFState": "",
                                    "FFZip": "",
                                    "FFCountry": "",
                                    "FFCountryNum": "0",
                                    "FFPhoneNum": "",
                                    "NonStdPkg": "0",
                                    "DeliveryConf": "1",
                                    "AddlHdlgFlag": "0",
                                    "UPSQuantumView": "0",
                                    "UPSQVShipFromName": "",
                                    "UPSQVMemo": "",
                                    "UPSQVEmailType": "",
                                    "FFContact": "",
                                    "ETCAddrChg": "0",
                                    "TaxRoundRule": "0",
                                    "TaxMethod": "L",
                                    "ValidPayer": "1",
                                    "ValidSoldTo": "1",
                                    "ValidShipTo": "1",
                                    "OverrideRlsClass": "0",
                                    "AcrossNatAcc": "0",
                                    "NAParentCreditIsUsed": "0",
                                    "NACreditIsShare": "0",
                                    "NACreditPreferenceList": "O",
                                    "NAParentCreditPrc": "0.00",
                                    "NACreditSharedPrc": "0.00",
                                    "AllowOTS": "0",
                                    "ThirdPLCust": "0",
                                    "ManagedVendID": "",
                                    "ManagedVendNum": "0",
                                    "NARlsClassCode": "",
                                    "DirectDebiting": "0",
                                    "ReminderCode": "",
                                    "GlbNAParentCreditIsUsed": "0",
                                    "GlbNACreditIsShare": "0",
                                    "GlbNAParentCreditPrc": "0.00",
                                    "GlbNACreditSharedPrc": "0.00",
                                    "AllowShipTo3": "0",
                                    "OTSSaveAs": "",
                                    "CustPartOpts": "M",
                                    "HasBank": "0",
                                    "PMUID": "0",
                                    "DemandCheckForRev": "0",
                                    "OrderHoldForReview": "0",
                                    "DemandCheckForRevAction": "B",
                                    "ShipToTerrList": "DEFAULT",
                                    "AcctRefNumber": "",
                                    "LegalName": "",
                                    "TaxRegReason": "",
                                    "InvPerPackLine": "0",
                                    "OrgRegCode": "",
                                    "DemandCloseRejSkd": "0",
                                    "OurBankCode": "",
                                    "DemandCloseNoMatch": "0",
                                    "DmdCheckPartialShip": "0",
                                    "DmdCheckShipAction": "B",
                                    "DemandCheckCUMM": "0",
                                    "DemandCheckCUMMAction": "B",
                                    "DemandPricing": "Internal",
                                    "PriceTolerance": "0.00000",
                                    "PreferredBank": "",
                                    "CheckDateCapPromise": "0",
                                    "CheckConfirmCapPromise": "0",
                                    "CheckUpdateCapPromise": "0",
                                    "DemandCapPromiseDate": "",
                                    "DemandCapPromiseAction": "",
                                    "DemandCapPromiseUpdate": "",
                                    "PeriodicBilling": "0",
                                    "DueDateCriteria": "S",
                                    "PBTerms": "0",
                                    "ERSOrder": "0",
                                    "DemandSplitSched": "0",
                                    "OTSmartString": "0",
                                    "DeferredRev": "0",
                                    "RACode": "",
                                    "DemandCheckConfig": "0",
                                    "DemandCheckCfgAction": "",
                                    "AllowAsAltRemitTo": "0",
                                    "FederalID": "",
                                    "WIApplication": "",
                                    "WICustomer": "",
                                    "WIShippingCosts": "0",
                                    "LOQBookPCFinishing": "0",
                                    "LOQBookPCPaper": "0",
                                    "LOQBookPCPress": "0",
                                    "LOQBookPCPlates": "0",
                                    "Variations": "0",
                                    "OversPct": "0.00000",
                                    "UndersPct": "0.00000",
                                    "DefaultLOQstyle": "",
                                    "DefaultOrderAcknowledgement": "",
                                    "DefaultPackSlip": "",
                                    "DefaultOversPricing": "",
                                    "LOQPrepressStyle": "",
                                    "CSR": "",
                                    "LOQBookCaFinishing": "0",
                                    "LOQBookCapaper": "0",
                                    "LOQBookCaPress": "0",
                                    "LOQBookCatPlates": "0",
                                    "LOQVariations": "0",
                                    "DefaultInvoicestyle": "",
                                    "AEPLOQType": "",
                                    "BusinessCust": "1",
                                    "SysRevID": "0x000000044E9D2577",
                                    "SysRowID": "558f8a0b-4383-4785-bce0-7e881377b4c1",
                                    "THBranchID": "",
                                    "CustPricingSchema": "",
                                    "ParamCode": "",
                                    "AGAFIPResponsibilityCode": "",
                                    "AGBillToProvinceCode": "",
                                    "AGGrossIncomeTaxID": "",
                                    "AGIDDocTypeCode": "",
                                    "AGIDDocumentNumber": "",
                                    "AGProvinceCode": "",
                                    "AGUseGoodDefaultMark": "0",
                                    "Collections": "0",
                                    "CollectionsDate": "NULL",
                                    "DateCollectionPosted": "NULL",
                                    "MXMunicipio": "",
                                    "PEIdentityDocType": "6",
                                    "PEDocumentID": "",
                                    "PEGoodsContributor": "0",
                                    "PEWithholdAgent": "0",
                                    "PECollectionAgent": "0",
                                    "PENotFound": "0",
                                    "PENoAddress": "0",
                                    "EntityUseCode": "",
                                    "InvcOrderCmpDflt": "0",
                                    "EInvoice": "0",
                                    "RegistrationCode": "",
                                    "EAddress": "",
                                    "DemandCheckForRunOutPart": "0",
                                    "DemandCheckForRunOutPartAction": "B",
                                    "EInvCompanyIDAttr": "",
                                    "INCSTNumber": "",
                                    "INPANNumber": "",
                                    "COOneTimeID": "",
                                    "COIsOneTimeCust": "0",
                                    "DEOrgType": "N",
                                    "PEGuaranteeName": "",
                                    "PEGuaranteeAddress1": "",
                                    "PEGuaranteeAddress2": "",
                                    "PEGuaranteeAddress3": "",
                                    "PEGuaranteeCity": "",
                                    "PEGuaranteeState": "",
                                    "PEGuaranteeZip": "",
                                    "PEGuaranteeCountry": "",
                                    "PEGuaranteePhoneNum": "",
                                    "PEGuaranteeTaxID": "",
                                    "OurSupplierCode": "",
                                    "ECCType": "",
                                    "MYIndustryCode": "",
                                    "SyncToExternalCRM": "0",
                                    "ExternalCRMCustomerID": "",
                                    "ExternalCRMCustomerType": "",
                                    "ExternalCRMLastSync": "NULL",
                                    "ExternalCRMSyncRequired": "0",
                                    "Ownership": "",
                                    "Industry": "",
                                    "AnnualRevenue": "0.000",
                                    "NumberOfEmployees": "0",
                                    "TickerLocation": "",
                                    "TickerSymbol": "",
                                    "Rating": "",
                                    "TWGUIRegNum": "",
                                    "MXAccountNumber": "",
                                    "ConsolidateLinesPerPart": "0",
                                    "TWTaxPayerType": "0",
                                    "TWDeductGUIFormatCode": "",
                                    "MXCURP": "",
                                    "PEAddressID": "",
                                    "PEPerceptionRegime": "",
                                    "TaxEntityType": "",
                                    "INGSTComplianceRate": "0",
                                    "INTaxRegistrationID": "",
                                    "MXPurchaseType": "",
                                    "SendToFSA": "0",
                                    "MXGeneralPublic": "0",
                                    "AgingCreditHold": "0",
                                    "AgingCreditHoldDate": "NULL",
                                    "AgingCreditHoldSource": "",
                                    "AgingCreditClearUserID": "",
                                    "AgingCreditClearDate": "NULL",
                                    "AgingCreditCode": "",
                                    "ImporterOfRecord": "0",
                                    "SEC": "",
                                    "EInvEndpointIDAttr": "",
                                    "UseBlindShipping": "0",
                                    "ELIEinvoice": "0",
                                    "ELIDefReportID": "ARFormEinv",
                                    "ELIDefStyleNum": "0",
                                    "ELIDefToMail": "",
                                    "ELIDefCCMail": "",
                                    "ELIDefMailTempID": "",
                                    "ELISendMail": "0",
                                    "COFiscalResp1": "",
                                    "COFiscalResp2": "",
                                    "COFiscalResp3": "",
                                    "COOperType": "",
                                    "CentralCollection": "0",
                                    "NettingVendorNum": "0",
                                    "EORINumber": "",
                                    "AGIsElectronicCreditInvEligible": "0",
                                    "TaxValidationStatus": "0",
                                    "TaxValidationDate": "NULL",
                                    "HMRCTaxValidationLog": "",
                                    "Inactive": "0",
                                    "ExternalSchemeID": "",
                                    "ELIOperatorCode": "",
                                    "ELISendingOption": "0",
                                    "ELIOperatorID": ""
                                }
                            ]
                        },
                        "text/html": "<table><tr><th>Company</th><th>CustID</th><th>CustNum</th><th>Name</th><th>Address1</th><th>Address2</th><th>Address3</th><th>City</th><th>State</th><th>Zip</th><th>Country</th><th>ResaleID</th><th>SalesRepCode</th><th>TerritoryID</th><th>ShipToNum</th><th>TermsCode</th><th>ShipViaCode</th><th>PrintStatements</th><th>PrintLabels</th><th>PrintAck</th><th>FinCharges</th><th>CreditHold</th><th>GroupCode</th><th>DiscountPercent</th><th>PrimPCon</th><th>PrimBCon</th><th>PrimSCon</th><th>Comment</th><th>EstDate</th><th>FaxNum</th><th>PhoneNum</th><th>TaxExempt</th><th>MarkUpID</th><th>BillDay</th><th>OneInvPerPS</th><th>DefaultFOB</th><th>CreditIncludeOrders</th><th>CreditReviewDate</th><th>CreditHoldDate</th><th>CreditHoldSource</th><th>CreditClearUserID</th><th>CreditClearDate</th><th>CreditClearTime</th><th>EDICode</th><th>CurrencyCode</th><th>CountryNum</th><th>LangNameID</th><th>BorderCrossing</th><th>FormatStr</th><th>BTName</th><th>BTAddress1</th><th>BTAddress2</th><th>BTAddress3</th><th>BTCity</th><th>BTState</th><th>BTZip</th><th>BTCountryNum</th><th>BTCountry</th><th>BTPhoneNum</th><th>BTFaxNum</th><th>BTFormatStr</th><th>ParentCustNum</th><th>TaxRegionCode</th><th>ICCust</th><th>ContBillDay</th><th>EMailAddress</th><th>ShippingQualifier</th><th>AllocPriorityCode</th><th>ReservePriorityCode</th><th>LinkPortNum</th><th>WebCustomer</th><th>CustomerType</th><th>NoContact</th><th>TerritoryLock</th><th>CustURL</th><th>PendingTerritoryID</th><th>ExtID</th><th>ConsolidateSO</th><th>BillFrequency</th><th>CreditIncludePI</th><th>GlobalCust</th><th>ICTrader</th><th>TaxAuthorityCode</th><th>ExternalDeliveryNote</th><th>GlobalCredIncOrd</th><th>GlobalCredIncPI</th><th>GlobalCurrencyCode</th><th>ExternalID</th><th>GlobalCreditHold</th><th>GlobalLock</th><th>CheckDuplicatePO</th><th>CreditLimit</th><th>CustPILimit</th><th>GlobalCreditLimit</th><th>GlobalPILimit</th><th>DocGlobalCreditLimit</th><th>DocGlobalPILimit</th><th>RfqAttachAllow</th><th>DiscountQualifier</th><th>AllowAltBillTo</th><th>DemandDeliveryDays</th><th>DemandDateType</th><th>DemandAddLeadTime</th><th>DemandAddAction</th><th>DemandChangeLeadTime</th><th>DemandChangeAction</th><th>DemandCancelLeadTime</th><th>DemandCancelAction</th><th>DemandNewLineLeadTime</th><th>DemandNewLineAction</th><th>DemandQtyChangeLeadTime</th><th>DemandQtyChangeAction</th><th>DemandChangeDateLeadTime</th><th>DemandChangeDateAction</th><th>TradingPartnerName</th><th>ResDelivery</th><th>SatDelivery</th><th>SatPickup</th><th>Hazmat</th><th>DocOnly</th><th>RefNotes</th><th>ApplyChrg</th><th>ChrgAmount</th><th>COD</th><th>CODFreight</th><th>CODCheck</th><th>CODAmount</th><th>GroundType</th><th>NotifyFlag</th><th>NotifyEMail</th><th>DeclaredIns</th><th>DeclaredAmt</th><th>PeriodicityCode</th><th>ServSignature</th><th>ServAlert</th><th>ServHomeDel</th><th>DeliveryType</th><th>ServDeliveryDate</th><th>ServPhone</th><th>ServInstruct</th><th>ServRelease</th><th>ServAuthNum</th><th>ServRef1</th><th>ServRef2</th><th>ServRef3</th><th>ServRef4</th><th>ServRef5</th><th>EarlyBuffer</th><th>LateBuffer</th><th>DemandUnitPriceDiff</th><th>DemandUnitPriceDiffAction</th><th>ExcFromVal</th><th>AddressVal</th><th>RebateVendorNum</th><th>RebateForm</th><th>CreditCardOrder</th><th>DemandCheckForPart</th><th>DemandCheckForPartAction</th><th>ChangedBy</th><th>ChangeDate</th><th>ChangeTime</th><th>ChargeCode</th><th>IndividualPackIDs</th><th>IntrntlShip</th><th>CertOfOrigin</th><th>CommercialInvoice</th><th>ShipExprtDeclartn</th><th>LetterOfInstr</th><th>FFID</th><th>FFCompName</th><th>FFAddress1</th><th>FFAddress2</th><th>FFAddress3</th><th>FFCity</th><th>FFState</th><th>FFZip</th><th>FFCountry</th><th>FFCountryNum</th><th>FFPhoneNum</th><th>NonStdPkg</th><th>DeliveryConf</th><th>AddlHdlgFlag</th><th>UPSQuantumView</th><th>UPSQVShipFromName</th><th>UPSQVMemo</th><th>UPSQVEmailType</th><th>FFContact</th><th>ETCAddrChg</th><th>TaxRoundRule</th><th>TaxMethod</th><th>ValidPayer</th><th>ValidSoldTo</th><th>ValidShipTo</th><th>OverrideRlsClass</th><th>AcrossNatAcc</th><th>NAParentCreditIsUsed</th><th>NACreditIsShare</th><th>NACreditPreferenceList</th><th>NAParentCreditPrc</th><th>NACreditSharedPrc</th><th>AllowOTS</th><th>ThirdPLCust</th><th>ManagedVendID</th><th>ManagedVendNum</th><th>NARlsClassCode</th><th>DirectDebiting</th><th>ReminderCode</th><th>GlbNAParentCreditIsUsed</th><th>GlbNACreditIsShare</th><th>GlbNAParentCreditPrc</th><th>GlbNACreditSharedPrc</th><th>AllowShipTo3</th><th>OTSSaveAs</th><th>CustPartOpts</th><th>HasBank</th><th>PMUID</th><th>DemandCheckForRev</th><th>OrderHoldForReview</th><th>DemandCheckForRevAction</th><th>ShipToTerrList</th><th>AcctRefNumber</th><th>LegalName</th><th>TaxRegReason</th><th>InvPerPackLine</th><th>OrgRegCode</th><th>DemandCloseRejSkd</th><th>OurBankCode</th><th>DemandCloseNoMatch</th><th>DmdCheckPartialShip</th><th>DmdCheckShipAction</th><th>DemandCheckCUMM</th><th>DemandCheckCUMMAction</th><th>DemandPricing</th><th>PriceTolerance</th><th>PreferredBank</th><th>CheckDateCapPromise</th><th>CheckConfirmCapPromise</th><th>CheckUpdateCapPromise</th><th>DemandCapPromiseDate</th><th>DemandCapPromiseAction</th><th>DemandCapPromiseUpdate</th><th>PeriodicBilling</th><th>DueDateCriteria</th><th>PBTerms</th><th>ERSOrder</th><th>DemandSplitSched</th><th>OTSmartString</th><th>DeferredRev</th><th>RACode</th><th>DemandCheckConfig</th><th>DemandCheckCfgAction</th><th>AllowAsAltRemitTo</th><th>FederalID</th><th>WIApplication</th><th>WICustomer</th><th>WIShippingCosts</th><th>LOQBookPCFinishing</th><th>LOQBookPCPaper</th><th>LOQBookPCPress</th><th>LOQBookPCPlates</th><th>Variations</th><th>OversPct</th><th>UndersPct</th><th>DefaultLOQstyle</th><th>DefaultOrderAcknowledgement</th><th>DefaultPackSlip</th><th>DefaultOversPricing</th><th>LOQPrepressStyle</th><th>CSR</th><th>LOQBookCaFinishing</th><th>LOQBookCapaper</th><th>LOQBookCaPress</th><th>LOQBookCatPlates</th><th>LOQVariations</th><th>DefaultInvoicestyle</th><th>AEPLOQType</th><th>BusinessCust</th><th>SysRevID</th><th>SysRowID</th><th>THBranchID</th><th>CustPricingSchema</th><th>ParamCode</th><th>AGAFIPResponsibilityCode</th><th>AGBillToProvinceCode</th><th>AGGrossIncomeTaxID</th><th>AGIDDocTypeCode</th><th>AGIDDocumentNumber</th><th>AGProvinceCode</th><th>AGUseGoodDefaultMark</th><th>Collections</th><th>CollectionsDate</th><th>DateCollectionPosted</th><th>MXMunicipio</th><th>PEIdentityDocType</th><th>PEDocumentID</th><th>PEGoodsContributor</th><th>PEWithholdAgent</th><th>PECollectionAgent</th><th>PENotFound</th><th>PENoAddress</th><th>EntityUseCode</th><th>InvcOrderCmpDflt</th><th>EInvoice</th><th>RegistrationCode</th><th>EAddress</th><th>DemandCheckForRunOutPart</th><th>DemandCheckForRunOutPartAction</th><th>EInvCompanyIDAttr</th><th>INCSTNumber</th><th>INPANNumber</th><th>COOneTimeID</th><th>COIsOneTimeCust</th><th>DEOrgType</th><th>PEGuaranteeName</th><th>PEGuaranteeAddress1</th><th>PEGuaranteeAddress2</th><th>PEGuaranteeAddress3</th><th>PEGuaranteeCity</th><th>PEGuaranteeState</th><th>PEGuaranteeZip</th><th>PEGuaranteeCountry</th><th>PEGuaranteePhoneNum</th><th>PEGuaranteeTaxID</th><th>OurSupplierCode</th><th>ECCType</th><th>MYIndustryCode</th><th>SyncToExternalCRM</th><th>ExternalCRMCustomerID</th><th>ExternalCRMCustomerType</th><th>ExternalCRMLastSync</th><th>ExternalCRMSyncRequired</th><th>Ownership</th><th>Industry</th><th>AnnualRevenue</th><th>NumberOfEmployees</th><th>TickerLocation</th><th>TickerSymbol</th><th>Rating</th><th>TWGUIRegNum</th><th>MXAccountNumber</th><th>ConsolidateLinesPerPart</th><th>TWTaxPayerType</th><th>TWDeductGUIFormatCode</th><th>MXCURP</th><th>PEAddressID</th><th>PEPerceptionRegime</th><th>TaxEntityType</th><th>INGSTComplianceRate</th><th>INTaxRegistrationID</th><th>MXPurchaseType</th><th>SendToFSA</th><th>MXGeneralPublic</th><th>AgingCreditHold</th><th>AgingCreditHoldDate</th><th>AgingCreditHoldSource</th><th>AgingCreditClearUserID</th><th>AgingCreditClearDate</th><th>AgingCreditCode</th><th>ImporterOfRecord</th><th>SEC</th><th>EInvEndpointIDAttr</th><th>UseBlindShipping</th><th>ELIEinvoice</th><th>ELIDefReportID</th><th>ELIDefStyleNum</th><th>ELIDefToMail</th><th>ELIDefCCMail</th><th>ELIDefMailTempID</th><th>ELISendMail</th><th>COFiscalResp1</th><th>COFiscalResp2</th><th>COFiscalResp3</th><th>COOperType</th><th>CentralCollection</th><th>NettingVendorNum</th><th>EORINumber</th><th>AGIsElectronicCreditInvEligible</th><th>TaxValidationStatus</th><th>TaxValidationDate</th><th>HMRCTaxValidationLog</th><th>Inactive</th><th>ExternalSchemeID</th><th>ELIOperatorCode</th><th>ELISendingOption</th><th>ELIOperatorID</th></tr><tr><td>SOLAR</td><td>ROUGH</td><td>4</td><td>ROUGH BROTHERS INC</td><td>5513 VINE STREET</td><td></td><td></td><td>CINCINNATI</td><td>OH</td><td>45217</td><td></td><td></td><td>HOUSE</td><td>DEFAULT</td><td></td><td>N30</td><td>BW</td><td>0</td><td>1</td><td>1</td><td>1</td><td>0</td><td></td><td>0.00</td><td>0</td><td>0</td><td>0</td><td></td><td>2017-06-28</td><td>513-242-0816</td><td>513-242-0310</td><td></td><td></td><td>0</td><td>1</td><td></td><td>1</td><td>NULL</td><td>NULL</td><td>MANUAL</td><td></td><td>NULL</td><td></td><td></td><td>USD</td><td>0</td><td></td><td></td><td></td><td></td><td></td><td></td><td></td><td></td><td></td><td></td><td>0</td><td></td><td></td><td></td><td></td><td>0</td><td></td><td>0</td><td>1</td><td></td><td></td><td></td><td></td><td>0</td><td>0</td><td>CUS</td><td>0</td><td>0</td><td></td><td></td><td></td><td>0</td><td>W</td><td>0</td><td>0</td><td>0</td><td></td><td>0</td><td>1</td><td>0</td><td></td><td></td><td></td><td>0</td><td>0</td><td>0</td><td>0</td><td>0</td><td>0</td><td>0</td><td>0</td><td>0</td><td>ADD</td><td>0</td><td>0</td><td>S</td><td>0</td><td>B</td><td>0</td><td>B</td><td>0</td><td>B</td><td>0</td><td>B</td><td>0</td><td>B</td><td>0</td><td>B</td><td></td><td>0</td><td>0</td><td>0</td><td>0</td><td>0</td><td></td><td>0</td><td>0.000</td><td>0</td><td>0</td><td>0</td><td>0.000</td><td></td><td>0</td><td></td><td>0</td><td>0.000</td><td>0</td><td>0</td><td>0</td><td>0</td><td></td><td>NULL</td><td></td><td></td><td>0</td><td></td><td></td><td></td><td></td><td></td><td></td><td>0</td><td>0</td><td>0</td><td>B</td><td>0</td><td>0</td><td>0</td><td></td><td>0</td><td>0</td><td>B</td><td>Bhoward</td><td>2023-07-07</td><td>40195</td><td></td><td>0</td><td>0</td><td>0</td><td>0</td><td>0</td><td>0</td><td></td><td></td><td></td><td></td><td></td><td></td><td></td><td></td><td></td><td>0</td><td></td><td>0</td><td>1</td><td>0</td><td>0</td><td></td><td></td><td></td><td></td><td>0</td><td>0</td><td>L</td><td>1</td><td>1</td><td>1</td><td>0</td><td>0</td><td>0</td><td>0</td><td>O</td><td>0.00</td><td>0.00</td><td>0</td><td>0</td><td></td><td>0</td><td></td><td>0</td><td></td><td>0</td><td>0</td><td>0.00</td><td>0.00</td><td>0</td><td></td><td>M</td><td>0</td><td>0</td><td>0</td><td>0</td><td>B</td><td>DEFAULT</td><td></td><td></td><td></td><td>0</td><td></td><td>0</td><td></td><td>0</td><td>0</td><td>B</td><td>0</td><td>B</td><td>Internal</td><td>0.00000</td><td></td><td>0</td><td>0</td><td>0</td><td></td><td></td><td></td><td>0</td><td>S</td><td>0</td><td>0</td><td>0</td><td>0</td><td>0</td><td></td><td>0</td><td></td><td>0</td><td></td><td></td><td></td><td>0</td><td>0</td><td>0</td><td>0</td><td>0</td><td>0</td><td>0.00000</td><td>0.00000</td><td></td><td></td><td></td><td></td><td></td><td></td><td>0</td><td>0</td><td>0</td><td>0</td><td>0</td><td></td><td></td><td>1</td><td>0x000000044E9D2577</td><td>558f8a0b-4383-4785-bce0-7e881377b4c1</td><td></td><td></td><td></td><td></td><td></td><td></td><td></td><td></td><td></td><td>0</td><td>0</td><td>NULL</td><td>NULL</td><td></td><td>6</td><td></td><td>0</td><td>0</td><td>0</td><td>0</td><td>0</td><td></td><td>0</td><td>0</td><td></td><td></td><td>0</td><td>B</td><td></td><td></td><td></td><td></td><td>0</td><td>N</td><td></td><td></td><td></td><td></td><td></td><td></td><td></td><td></td><td></td><td></td><td></td><td></td><td></td><td>0</td><td></td><td></td><td>NULL</td><td>0</td><td></td><td></td><td>0.000</td><td>0</td><td></td><td></td><td></td><td></td><td></td><td>0</td><td>0</td><td></td><td></td><td></td><td></td><td></td><td>0</td><td></td><td></td><td>0</td><td>0</td><td>0</td><td>NULL</td><td></td><td></td><td>NULL</td><td></td><td>0</td><td></td><td></td><td>0</td><td>0</td><td>ARFormEinv</td><td>0</td><td></td><td></td><td></td><td>0</td><td></td><td></td><td></td><td></td><td>0</td><td>0</td><td></td><td>0</td><td>0</td><td>NULL</td><td></td><td>0</td><td></td><td></td><td>0</td><td></td></tr></table>"
                    },
                    "metadata": {}
                }
            ],
            "execution_count": 1
        },
        {
            "cell_type": "code",
            "source": [
                "SELECT TOP (3) \r\n",
                "    c.Name as CustomerName,\r\n",
                "    oh.Ordernum,\r\n",
                "    orel.orderline,\r\n",
                "    orel.OrderRelNum,\r\n",
                "    oh.OrderDate,\r\n",
                "    oh.Orderheld,\r\n",
                "    orel.ReqDate,\r\n",
                "    od.UnitPrice,\r\n",
                "    orel.ourReqQty,\r\n",
                "    (od.UnitPrice * orel.ourReqQty) as OrderReleaseSalePrice,\r\n",
                "    orel.NeedbyDate,\r\n",
                "    orel.OpenRelease,\r\n",
                "    orel.SellingJobShippedQty as JobShippedQuantity,\r\n",
                "    orel.SellingStockShippedQty as StockShippedQuanity,\r\n",
                "    (orel.SellingJobShippedQty + orel.SellingStockShippedQty) as ShippedQuantity,\r\n",
                "    ((orel.SellingJobShippedQty + orel.SellingStockShippedQty) * od.UnitPrice) as ShippedShipped,\r\n",
                "    (orel.ourReqQty - orel.SellingJobShippedQty + orel.SellingStockShippedQty) as OpenQuantity,\r\n",
                "    ((orel.ourreqQty - orel.SellingJobShippedQty + orel.SellingStockShippedQty) * od.UnitPrice) as OpenSellPrice\r\n",
                "FROM dbo.OrderRel orel\r\n",
                "LEFT JOIN dbo.Orderhed oh\r\n",
                "    on orel.Ordernum = oh.OrderNum\r\n",
                "        and orel.Company = oh.Company\r\n",
                "LEFT JOIN dbo.orderdtl od\r\n",
                "    on orel.Ordernum = od.OrderNum\r\n",
                "        and orel.OrderLine = od.OrderLine\r\n",
                "        and orel.Company = od.Company\r\n",
                "LEFT JOIN erp.customer c\r\n",
                "    on oh.custnum = c.CustNum\r\n",
                "        and oh.Company = c.Company\r\n",
                "WHERE 1=1\r\n",
                "AND oh.Company = 'Solar'\r\n",
                "AND oh.Division_c = 6\r\n",
                "Order by OrderDate desc\r\n",
                ""
            ],
            "metadata": {
                "language": "sql",
                "azdata_cell_guid": "c6407f6c-547b-4636-9b36-b42d7667a54f"
            },
            "outputs": [
                {
                    "output_type": "display_data",
                    "data": {
                        "text/html": "(3 rows affected)"
                    },
                    "metadata": {}
                },
                {
                    "output_type": "display_data",
                    "data": {
                        "text/html": "Total execution time: 00:00:00.094"
                    },
                    "metadata": {}
                },
                {
                    "output_type": "execute_result",
                    "metadata": {},
                    "execution_count": 1,
                    "data": {
                        "application/vnd.dataresource+json": {
                            "schema": {
                                "fields": [
                                    {
                                        "name": "CustomerName"
                                    },
                                    {
                                        "name": "Ordernum"
                                    },
                                    {
                                        "name": "orderline"
                                    },
                                    {
                                        "name": "OrderRelNum"
                                    },
                                    {
                                        "name": "OrderDate"
                                    },
                                    {
                                        "name": "Orderheld"
                                    },
                                    {
                                        "name": "ReqDate"
                                    },
                                    {
                                        "name": "UnitPrice"
                                    },
                                    {
                                        "name": "ourReqQty"
                                    },
                                    {
                                        "name": "OrderReleaseSalePrice"
                                    },
                                    {
                                        "name": "NeedbyDate"
                                    },
                                    {
                                        "name": "OpenRelease"
                                    },
                                    {
                                        "name": "JobShippedQuantity"
                                    },
                                    {
                                        "name": "StockShippedQuanity"
                                    },
                                    {
                                        "name": "ShippedQuantity"
                                    },
                                    {
                                        "name": "ShippedShipped"
                                    },
                                    {
                                        "name": "OpenQuantity"
                                    },
                                    {
                                        "name": "OpenSellPrice"
                                    }
                                ]
                            },
                            "data": [
                                {
                                    "CustomerName": "McCarthy Bldg Co.",
                                    "Ordernum": "4001342",
                                    "orderline": "1",
                                    "OrderRelNum": "1",
                                    "OrderDate": "2023-10-18",
                                    "Orderheld": "0",
                                    "ReqDate": "2023-10-20",
                                    "UnitPrice": "589.63000",
                                    "ourReqQty": "5.00000000",
                                    "OrderReleaseSalePrice": "2948.15000000000",
                                    "NeedbyDate": "2023-10-20",
                                    "OpenRelease": "1",
                                    "JobShippedQuantity": "0.00000000",
                                    "StockShippedQuanity": "0.00000000",
                                    "ShippedQuantity": "0.00000000",
                                    "ShippedShipped": "0.0000000000",
                                    "OpenQuantity": "5.00000000",
                                    "OpenSellPrice": "2948.150000000"
                                },
                                {
                                    "CustomerName": "McCarthy Bldg Co.",
                                    "Ordernum": "4001342",
                                    "orderline": "2",
                                    "OrderRelNum": "1",
                                    "OrderDate": "2023-10-18",
                                    "Orderheld": "0",
                                    "ReqDate": "2023-10-20",
                                    "UnitPrice": "564.25000",
                                    "ourReqQty": "5.00000000",
                                    "OrderReleaseSalePrice": "2821.25000000000",
                                    "NeedbyDate": "2023-10-20",
                                    "OpenRelease": "1",
                                    "JobShippedQuantity": "0.00000000",
                                    "StockShippedQuanity": "0.00000000",
                                    "ShippedQuantity": "0.00000000",
                                    "ShippedShipped": "0.0000000000",
                                    "OpenQuantity": "5.00000000",
                                    "OpenSellPrice": "2821.250000000"
                                },
                                {
                                    "CustomerName": "McCarthy Bldg Co.",
                                    "Ordernum": "4001342",
                                    "orderline": "3",
                                    "OrderRelNum": "1",
                                    "OrderDate": "2023-10-18",
                                    "Orderheld": "0",
                                    "ReqDate": "2023-10-20",
                                    "UnitPrice": "39.60000",
                                    "ourReqQty": "12.00000000",
                                    "OrderReleaseSalePrice": "475.20000000000",
                                    "NeedbyDate": "2023-10-20",
                                    "OpenRelease": "1",
                                    "JobShippedQuantity": "0.00000000",
                                    "StockShippedQuanity": "0.00000000",
                                    "ShippedQuantity": "0.00000000",
                                    "ShippedShipped": "0.0000000000",
                                    "OpenQuantity": "12.00000000",
                                    "OpenSellPrice": "475.200000000"
                                }
                            ]
                        },
                        "text/html": [
                            "<table>",
                            "<tr><th>CustomerName</th><th>Ordernum</th><th>orderline</th><th>OrderRelNum</th><th>OrderDate</th><th>Orderheld</th><th>ReqDate</th><th>UnitPrice</th><th>ourReqQty</th><th>OrderReleaseSalePrice</th><th>NeedbyDate</th><th>OpenRelease</th><th>JobShippedQuantity</th><th>StockShippedQuanity</th><th>ShippedQuantity</th><th>ShippedShipped</th><th>OpenQuantity</th><th>OpenSellPrice</th></tr>",
                            "<tr><td>McCarthy Bldg Co.</td><td>4001342</td><td>1</td><td>1</td><td>2023-10-18</td><td>0</td><td>2023-10-20</td><td>589.63000</td><td>5.00000000</td><td>2948.15000000000</td><td>2023-10-20</td><td>1</td><td>0.00000000</td><td>0.00000000</td><td>0.00000000</td><td>0.0000000000</td><td>5.00000000</td><td>2948.150000000</td></tr>",
                            "<tr><td>McCarthy Bldg Co.</td><td>4001342</td><td>2</td><td>1</td><td>2023-10-18</td><td>0</td><td>2023-10-20</td><td>564.25000</td><td>5.00000000</td><td>2821.25000000000</td><td>2023-10-20</td><td>1</td><td>0.00000000</td><td>0.00000000</td><td>0.00000000</td><td>0.0000000000</td><td>5.00000000</td><td>2821.250000000</td></tr>",
                            "<tr><td>McCarthy Bldg Co.</td><td>4001342</td><td>3</td><td>1</td><td>2023-10-18</td><td>0</td><td>2023-10-20</td><td>39.60000</td><td>12.00000000</td><td>475.20000000000</td><td>2023-10-20</td><td>1</td><td>0.00000000</td><td>0.00000000</td><td>0.00000000</td><td>0.0000000000</td><td>12.00000000</td><td>475.200000000</td></tr>",
                            "</table>"
                        ]
                    }
                }
            ],
            "execution_count": 1
        },
        {
            "cell_type": "markdown",
            "source": [
                "Invoiced Orders"
            ],
            "metadata": {
                "language": "sql",
                "azdata_cell_guid": "0456879c-9154-4426-9395-f2bf2de00637"
            },
            "attachments": {}
        },
        {
            "cell_type": "code",
            "source": [
                "Select \r\n",
                "ih.company,\r\n",
                "ih.invoicenum,\r\n",
                "ih.InvoiceDate,\r\n",
                "ih.applydate,\r\n",
                "ih.ordernum,\r\n",
                "ih.InvoiceAmt\r\n",
                "From erp.InvcHead Ih\r\n",
                "Left Join dbo.Orderhed oh\r\n",
                "    ON ih.Company = oh.company\r\n",
                "    and oh.OrderNum = ih.OrderNum\r\n",
                "Where ih.Company = 'solar'\r\n",
                "and oh.Division_c = 6"
            ],
            "metadata": {
                "language": "sql",
                "azdata_cell_guid": "ded2e3f6-055c-4e56-8248-2b43d8614f9a"
            },
            "outputs": [],
            "execution_count": null
        },
        {
            "cell_type": "markdown",
            "source": [
                "PackNum is on the erp.ShipDtl table and erp.InvcDtl"
            ],
            "metadata": {
                "language": "sql",
                "azdata_cell_guid": "2879c9ca-6da2-4f6a-8d26-cc7c1da548f8"
            },
            "attachments": {}
        },
        {
            "cell_type": "code",
            "source": [
                "Select Top (10) \r\n",
                "--sd.*\r\n",
                "sd.Company,\r\n",
                "sd.Packnum,\r\n",
                "sd.OrderNum,\r\n",
                "sd.OrderLine,\r\n",
                "sd.OrderRelNum,\r\n",
                "sh.ShipDate,\r\n",
                "sd.Invoiced,\r\n",
                "sd.SellingInventoryShipQty + sd.SellingJobShipQty as ShippedQty,\r\n",
                "od.UnitPrice,\r\n",
                "(sd.SellingInventoryShipQty + sd.SellingJobShipQty) * od.UnitPrice as ShippedSellPrice\r\n",
                "From erp.ShipDtl sd\r\n",
                "Left JOIN dbo.OrderHed oh\r\n",
                "    ON sd.Company = oh.Company\r\n",
                "        AND sd.OrderNum = oh.OrderNum\r\n",
                "LEFT JOIN dbo.orderdtl od\r\n",
                "    on sd.Ordernum = od.OrderNum\r\n",
                "        and sd.OrderLine = od.OrderLine\r\n",
                "        and sd.Company = od.Company\r\n",
                "LEFT JOIN erp.ShipHead sh \r\n",
                "    on sd.Company = sh.Company\r\n",
                "        and sd.Packnum = sh.Packnum\r\n",
                "WHERE 1=1\r\n",
                "AND sd.company = 'Solar'\r\n",
                "AND oh.Division_c = 6\r\n",
                "AND sd.Invoiced = 0\r\n",
                "Order by ShipDate desc\r\n",
                ""
            ],
            "metadata": {
                "language": "sql",
                "azdata_cell_guid": "80ab713e-1c6a-4850-8e13-c7bc1123ca03"
            },
            "outputs": [
                {
                    "output_type": "display_data",
                    "data": {
                        "text/html": "(10 rows affected)"
                    },
                    "metadata": {}
                },
                {
                    "output_type": "display_data",
                    "data": {
                        "text/html": "Total execution time: 00:00:00.512"
                    },
                    "metadata": {}
                },
                {
                    "output_type": "execute_result",
                    "execution_count": 18,
                    "data": {
                        "application/vnd.dataresource+json": {
                            "schema": {
                                "fields": [
                                    {
                                        "name": "Company"
                                    },
                                    {
                                        "name": "Packnum"
                                    },
                                    {
                                        "name": "OrderNum"
                                    },
                                    {
                                        "name": "OrderLine"
                                    },
                                    {
                                        "name": "OrderRelNum"
                                    },
                                    {
                                        "name": "ShipDate"
                                    },
                                    {
                                        "name": "Invoiced"
                                    },
                                    {
                                        "name": "ShippedQty"
                                    },
                                    {
                                        "name": "UnitPrice"
                                    },
                                    {
                                        "name": "ShippedSellPrice"
                                    }
                                ]
                            },
                            "data": [
                                {
                                    "Company": "SOLAR",
                                    "Packnum": "217179",
                                    "OrderNum": "4001096",
                                    "OrderLine": "4",
                                    "OrderRelNum": "1",
                                    "ShipDate": "2023-10-20",
                                    "Invoiced": "0",
                                    "ShippedQty": "240.00000000",
                                    "UnitPrice": "1786.11000",
                                    "ShippedSellPrice": "428666.4000000000"
                                },
                                {
                                    "Company": "SOLAR",
                                    "Packnum": "217178",
                                    "OrderNum": "4001100",
                                    "OrderLine": "1",
                                    "OrderRelNum": "1",
                                    "ShipDate": "2023-10-19",
                                    "Invoiced": "0",
                                    "ShippedQty": "462.00000000",
                                    "UnitPrice": "0.00000",
                                    "ShippedSellPrice": "0.0000000000"
                                },
                                {
                                    "Company": "SOLAR",
                                    "Packnum": "217178",
                                    "OrderNum": "4001100",
                                    "OrderLine": "2",
                                    "OrderRelNum": "1",
                                    "ShipDate": "2023-10-19",
                                    "Invoiced": "0",
                                    "ShippedQty": "1.00000000",
                                    "UnitPrice": "1648.30000",
                                    "ShippedSellPrice": "1648.3000000000"
                                },
                                {
                                    "Company": "SOLAR",
                                    "Packnum": "217177",
                                    "OrderNum": "4001258",
                                    "OrderLine": "21",
                                    "OrderRelNum": "1",
                                    "ShipDate": "2023-10-19",
                                    "Invoiced": "0",
                                    "ShippedQty": "280.00000000",
                                    "UnitPrice": "1491.61000",
                                    "ShippedSellPrice": "417650.8000000000"
                                },
                                {
                                    "Company": "SOLAR",
                                    "Packnum": "217172",
                                    "OrderNum": "4001125",
                                    "OrderLine": "1",
                                    "OrderRelNum": "1",
                                    "ShipDate": "2023-10-18",
                                    "Invoiced": "0",
                                    "ShippedQty": "2.00000000",
                                    "UnitPrice": "587.23000",
                                    "ShippedSellPrice": "1174.4600000000"
                                },
                                {
                                    "Company": "SOLAR",
                                    "Packnum": "217169",
                                    "OrderNum": "4001199",
                                    "OrderLine": "1",
                                    "OrderRelNum": "1",
                                    "ShipDate": "2023-10-18",
                                    "Invoiced": "0",
                                    "ShippedQty": "1.00000000",
                                    "UnitPrice": "2096.02000",
                                    "ShippedSellPrice": "2096.0200000000"
                                },
                                {
                                    "Company": "SOLAR",
                                    "Packnum": "217176",
                                    "OrderNum": "4001010",
                                    "OrderLine": "4",
                                    "OrderRelNum": "1",
                                    "ShipDate": "2023-10-18",
                                    "Invoiced": "0",
                                    "ShippedQty": "1.00000000",
                                    "UnitPrice": "8786.21000",
                                    "ShippedSellPrice": "8786.2100000000"
                                },
                                {
                                    "Company": "SOLAR",
                                    "Packnum": "217176",
                                    "OrderNum": "4001010",
                                    "OrderLine": "5",
                                    "OrderRelNum": "1",
                                    "ShipDate": "2023-10-18",
                                    "Invoiced": "0",
                                    "ShippedQty": "1.00000000",
                                    "UnitPrice": "14255.06000",
                                    "ShippedSellPrice": "14255.0600000000"
                                },
                                {
                                    "Company": "SOLAR",
                                    "Packnum": "217176",
                                    "OrderNum": "4001010",
                                    "OrderLine": "6",
                                    "OrderRelNum": "1",
                                    "ShipDate": "2023-10-18",
                                    "Invoiced": "0",
                                    "ShippedQty": "32.00000000",
                                    "UnitPrice": "1133.71000",
                                    "ShippedSellPrice": "36278.7200000000"
                                },
                                {
                                    "Company": "SOLAR",
                                    "Packnum": "217173",
                                    "OrderNum": "4001033",
                                    "OrderLine": "1",
                                    "OrderRelNum": "1",
                                    "ShipDate": "2023-10-18",
                                    "Invoiced": "0",
                                    "ShippedQty": "1.00000000",
                                    "UnitPrice": "4054.09000",
                                    "ShippedSellPrice": "4054.0900000000"
                                }
                            ]
                        },
                        "text/html": "<table><tr><th>Company</th><th>Packnum</th><th>OrderNum</th><th>OrderLine</th><th>OrderRelNum</th><th>ShipDate</th><th>Invoiced</th><th>ShippedQty</th><th>UnitPrice</th><th>ShippedSellPrice</th></tr><tr><td>SOLAR</td><td>217179</td><td>4001096</td><td>4</td><td>1</td><td>2023-10-20</td><td>0</td><td>240.00000000</td><td>1786.11000</td><td>428666.4000000000</td></tr><tr><td>SOLAR</td><td>217178</td><td>4001100</td><td>1</td><td>1</td><td>2023-10-19</td><td>0</td><td>462.00000000</td><td>0.00000</td><td>0.0000000000</td></tr><tr><td>SOLAR</td><td>217178</td><td>4001100</td><td>2</td><td>1</td><td>2023-10-19</td><td>0</td><td>1.00000000</td><td>1648.30000</td><td>1648.3000000000</td></tr><tr><td>SOLAR</td><td>217177</td><td>4001258</td><td>21</td><td>1</td><td>2023-10-19</td><td>0</td><td>280.00000000</td><td>1491.61000</td><td>417650.8000000000</td></tr><tr><td>SOLAR</td><td>217172</td><td>4001125</td><td>1</td><td>1</td><td>2023-10-18</td><td>0</td><td>2.00000000</td><td>587.23000</td><td>1174.4600000000</td></tr><tr><td>SOLAR</td><td>217169</td><td>4001199</td><td>1</td><td>1</td><td>2023-10-18</td><td>0</td><td>1.00000000</td><td>2096.02000</td><td>2096.0200000000</td></tr><tr><td>SOLAR</td><td>217176</td><td>4001010</td><td>4</td><td>1</td><td>2023-10-18</td><td>0</td><td>1.00000000</td><td>8786.21000</td><td>8786.2100000000</td></tr><tr><td>SOLAR</td><td>217176</td><td>4001010</td><td>5</td><td>1</td><td>2023-10-18</td><td>0</td><td>1.00000000</td><td>14255.06000</td><td>14255.0600000000</td></tr><tr><td>SOLAR</td><td>217176</td><td>4001010</td><td>6</td><td>1</td><td>2023-10-18</td><td>0</td><td>32.00000000</td><td>1133.71000</td><td>36278.7200000000</td></tr><tr><td>SOLAR</td><td>217173</td><td>4001033</td><td>1</td><td>1</td><td>2023-10-18</td><td>0</td><td>1.00000000</td><td>4054.09000</td><td>4054.0900000000</td></tr></table>"
                    },
                    "metadata": {}
                }
            ],
            "execution_count": 18
        },
        {
            "cell_type": "code",
            "source": [
                "Select Top (10) \r\n",
                "sd.*\r\n",
                "From erp.ShipDtl sd\r\n",
                "Left JOIN dbo.OrderHed oh\r\n",
                "    ON sd.Company = oh.Company\r\n",
                "        AND sd.OrderNum = oh.OrderNum\r\n",
                "LEFT JOIN dbo.orderdtl od\r\n",
                "    on sd.Ordernum = od.OrderNum\r\n",
                "        and sd.OrderLine = od.OrderLine\r\n",
                "        and sd.Company = od.Company\r\n",
                "WHERE 1=1\r\n",
                "AND sd.company = 'Solar'\r\n",
                "AND oh.Division_c = 6\r\n",
                "AND Invoiced = 0\r\n",
                "Order by ShipDate desc"
            ],
            "metadata": {
                "language": "sql",
                "azdata_cell_guid": "c06c9804-f117-4feb-a4ab-60c3302bfa92"
            },
            "outputs": [
                {
                    "output_type": "display_data",
                    "data": {
                        "text/html": "(10 rows affected)"
                    },
                    "metadata": {}
                },
                {
                    "output_type": "display_data",
                    "data": {
                        "text/html": "Total execution time: 00:00:00.096"
                    },
                    "metadata": {}
                },
                {
                    "output_type": "execute_result",
                    "execution_count": 13,
                    "data": {
                        "application/vnd.dataresource+json": {
                            "schema": {
                                "fields": [
                                    {
                                        "name": "Company"
                                    },
                                    {
                                        "name": "PackNum"
                                    },
                                    {
                                        "name": "PackLine"
                                    },
                                    {
                                        "name": "OrderNum"
                                    },
                                    {
                                        "name": "OrderLine"
                                    },
                                    {
                                        "name": "OrderRelNum"
                                    },
                                    {
                                        "name": "LineType"
                                    },
                                    {
                                        "name": "OurInventoryShipQty"
                                    },
                                    {
                                        "name": "OurJobShipQty"
                                    },
                                    {
                                        "name": "JobNum"
                                    },
                                    {
                                        "name": "Packages"
                                    },
                                    {
                                        "name": "PartNum"
                                    },
                                    {
                                        "name": "LineDesc"
                                    },
                                    {
                                        "name": "IUM"
                                    },
                                    {
                                        "name": "RevisionNum"
                                    },
                                    {
                                        "name": "ShipComment"
                                    },
                                    {
                                        "name": "ShipCmpl"
                                    },
                                    {
                                        "name": "WarehouseCode"
                                    },
                                    {
                                        "name": "BinNum"
                                    },
                                    {
                                        "name": "UpdatedInventory"
                                    },
                                    {
                                        "name": "XPartNum"
                                    },
                                    {
                                        "name": "XRevisionNum"
                                    },
                                    {
                                        "name": "ShpConNum"
                                    },
                                    {
                                        "name": "TMBilling"
                                    },
                                    {
                                        "name": "Invoiced"
                                    },
                                    {
                                        "name": "WUM"
                                    },
                                    {
                                        "name": "LotNum"
                                    },
                                    {
                                        "name": "DimCode"
                                    },
                                    {
                                        "name": "DUM"
                                    },
                                    {
                                        "name": "DimConvFactor"
                                    },
                                    {
                                        "name": "InvoiceComment"
                                    },
                                    {
                                        "name": "WarrantyCode"
                                    },
                                    {
                                        "name": "CustNum"
                                    },
                                    {
                                        "name": "ShipToNum"
                                    },
                                    {
                                        "name": "EffectiveDate"
                                    },
                                    {
                                        "name": "MaterialDuration"
                                    },
                                    {
                                        "name": "LaborDuration"
                                    },
                                    {
                                        "name": "MiscDuration"
                                    },
                                    {
                                        "name": "MaterialMod"
                                    },
                                    {
                                        "name": "LaborMod"
                                    },
                                    {
                                        "name": "MiscMod"
                                    },
                                    {
                                        "name": "MaterialExpiration"
                                    },
                                    {
                                        "name": "LaborExpiration"
                                    },
                                    {
                                        "name": "MiscExpiration"
                                    },
                                    {
                                        "name": "LastExpiration"
                                    },
                                    {
                                        "name": "WarrantyComment"
                                    },
                                    {
                                        "name": "ContractNum"
                                    },
                                    {
                                        "name": "ContractCode"
                                    },
                                    {
                                        "name": "Onsite"
                                    },
                                    {
                                        "name": "MatCovered"
                                    },
                                    {
                                        "name": "LabCovered"
                                    },
                                    {
                                        "name": "MiscCovered"
                                    },
                                    {
                                        "name": "Plant"
                                    },
                                    {
                                        "name": "ReadyToInvoice"
                                    },
                                    {
                                        "name": "SellingInventoryShipQty"
                                    },
                                    {
                                        "name": "SellingJobShipQty"
                                    },
                                    {
                                        "name": "SellingFactor"
                                    },
                                    {
                                        "name": "SalesUM"
                                    },
                                    {
                                        "name": "TotalNetWeight"
                                    },
                                    {
                                        "name": "WIPWarehouseCode"
                                    },
                                    {
                                        "name": "WIPBinNum"
                                    },
                                    {
                                        "name": "SellingFactorDirection"
                                    },
                                    {
                                        "name": "HeaderShipComment"
                                    },
                                    {
                                        "name": "KitParentLine"
                                    },
                                    {
                                        "name": "ChangedBy"
                                    },
                                    {
                                        "name": "ChangeDate"
                                    },
                                    {
                                        "name": "ChangeTime"
                                    },
                                    {
                                        "name": "InventoryShipUOM"
                                    },
                                    {
                                        "name": "JobShipUOM"
                                    },
                                    {
                                        "name": "TrackSerialNum"
                                    },
                                    {
                                        "name": "JobLotNum"
                                    },
                                    {
                                        "name": "BinType"
                                    },
                                    {
                                        "name": "NotCompliant"
                                    },
                                    {
                                        "name": "ComplianceMsg"
                                    },
                                    {
                                        "name": "DiscountPercent"
                                    },
                                    {
                                        "name": "PricePerCode"
                                    },
                                    {
                                        "name": "Discount"
                                    },
                                    {
                                        "name": "DocDiscount"
                                    },
                                    {
                                        "name": "Rpt1Discount"
                                    },
                                    {
                                        "name": "Rpt2Discount"
                                    },
                                    {
                                        "name": "Rpt3Discount"
                                    },
                                    {
                                        "name": "ExtPrice"
                                    },
                                    {
                                        "name": "DocExtPrice"
                                    },
                                    {
                                        "name": "Rpt1ExtPrice"
                                    },
                                    {
                                        "name": "Rpt2ExtPrice"
                                    },
                                    {
                                        "name": "Rpt3ExtPrice"
                                    },
                                    {
                                        "name": "UnitPrice"
                                    },
                                    {
                                        "name": "DocUnitPrice"
                                    },
                                    {
                                        "name": "Rpt1UnitPrice"
                                    },
                                    {
                                        "name": "Rpt2UnitPrice"
                                    },
                                    {
                                        "name": "Rpt3UnitPrice"
                                    },
                                    {
                                        "name": "PickedAutoAllocatedQty"
                                    },
                                    {
                                        "name": "ShipToCustNum"
                                    },
                                    {
                                        "name": "InDiscount"
                                    },
                                    {
                                        "name": "DocInDiscount"
                                    },
                                    {
                                        "name": "Rpt1InDiscount"
                                    },
                                    {
                                        "name": "Rpt2InDiscount"
                                    },
                                    {
                                        "name": "Rpt3InDiscount"
                                    },
                                    {
                                        "name": "InExtPrice"
                                    },
                                    {
                                        "name": "DocInExtPrice"
                                    },
                                    {
                                        "name": "Rpt1InExtPrice"
                                    },
                                    {
                                        "name": "Rpt2InExtPrice"
                                    },
                                    {
                                        "name": "Rpt3InExtPrice"
                                    },
                                    {
                                        "name": "InUnitPrice"
                                    },
                                    {
                                        "name": "DocInUnitPrice"
                                    },
                                    {
                                        "name": "Rpt1InUnitPrice"
                                    },
                                    {
                                        "name": "Rpt2InUnitPrice"
                                    },
                                    {
                                        "name": "Rpt3InUnitPrice"
                                    },
                                    {
                                        "name": "InPrice"
                                    },
                                    {
                                        "name": "Obs10_PkgNum"
                                    },
                                    {
                                        "name": "Obs10_PkgLine"
                                    },
                                    {
                                        "name": "MFCustNum"
                                    },
                                    {
                                        "name": "MFShipToNum"
                                    },
                                    {
                                        "name": "UseOTMF"
                                    },
                                    {
                                        "name": "OTMFName"
                                    },
                                    {
                                        "name": "OTMFAddress1"
                                    },
                                    {
                                        "name": "OTMFAddress2"
                                    },
                                    {
                                        "name": "OTMFAddress3"
                                    },
                                    {
                                        "name": "OTMFCity"
                                    },
                                    {
                                        "name": "OTMFState"
                                    },
                                    {
                                        "name": "OTMFZIP"
                                    },
                                    {
                                        "name": "OTMFContact"
                                    },
                                    {
                                        "name": "OTMFFaxNum"
                                    },
                                    {
                                        "name": "OTMFPhoneNum"
                                    },
                                    {
                                        "name": "OTMFCountryNum"
                                    },
                                    {
                                        "name": "RenewalNbr"
                                    },
                                    {
                                        "name": "ShipOvers"
                                    },
                                    {
                                        "name": "AllowedOvers"
                                    },
                                    {
                                        "name": "AllowedUnders"
                                    },
                                    {
                                        "name": "SysRevID"
                                    },
                                    {
                                        "name": "SysRowID"
                                    },
                                    {
                                        "name": "NotAllocatedQty"
                                    },
                                    {
                                        "name": "PCID"
                                    },
                                    {
                                        "name": "PCIDItemSeq"
                                    },
                                    {
                                        "name": "DockingStation"
                                    },
                                    {
                                        "name": "UseShipDtlInfo"
                                    },
                                    {
                                        "name": "PkgCodePartNum"
                                    },
                                    {
                                        "name": "CustContainerPartNum"
                                    },
                                    {
                                        "name": "LabelType"
                                    },
                                    {
                                        "name": "WarrantySendToFSA"
                                    },
                                    {
                                        "name": "FSAEquipment"
                                    },
                                    {
                                        "name": "AttributeSetID"
                                    },
                                    {
                                        "name": "InventoryNumberOfPieces"
                                    },
                                    {
                                        "name": "JobNumberOfPieces"
                                    },
                                    {
                                        "name": "MXEstValue"
                                    },
                                    {
                                        "name": "MXEstValueCurrencyCode"
                                    },
                                    {
                                        "name": "MXHazardousShipment"
                                    },
                                    {
                                        "name": "MXHazardousType"
                                    },
                                    {
                                        "name": "MXPackageType"
                                    },
                                    {
                                        "name": "CNDeclarationBillLine"
                                    },
                                    {
                                        "name": "JobNotAllocatedQty"
                                    },
                                    {
                                        "name": "JobPickedAutoAllocatedQty"
                                    }
                                ]
                            },
                            "data": [
                                {
                                    "Company": "SOLAR",
                                    "PackNum": "217157",
                                    "PackLine": "1",
                                    "OrderNum": "4001152",
                                    "OrderLine": "1",
                                    "OrderRelNum": "1",
                                    "LineType": "PART",
                                    "OurInventoryShipQty": "0.00000000",
                                    "OurJobShipQty": "1.00000000",
                                    "JobNum": "23-1648-0001",
                                    "Packages": "1",
                                    "PartNum": "CLGK2512-2580-A1",
                                    "LineDesc": "Model: CSK250-12-20-4XF",
                                    "IUM": "EA",
                                    "RevisionNum": "0",
                                    "ShipComment": "",
                                    "ShipCmpl": "1",
                                    "WarehouseCode": "MAINGPPR",
                                    "BinNum": "",
                                    "UpdatedInventory": "0",
                                    "XPartNum": "",
                                    "XRevisionNum": "",
                                    "ShpConNum": "0",
                                    "TMBilling": "0",
                                    "Invoiced": "0",
                                    "WUM": "LB",
                                    "LotNum": "",
                                    "DimCode": "",
                                    "DUM": "",
                                    "DimConvFactor": "1.00000000",
                                    "InvoiceComment": "",
                                    "WarrantyCode": "",
                                    "CustNum": "1913",
                                    "ShipToNum": "",
                                    "EffectiveDate": "NULL",
                                    "MaterialDuration": "0",
                                    "LaborDuration": "0",
                                    "MiscDuration": "0",
                                    "MaterialMod": "",
                                    "LaborMod": "",
                                    "MiscMod": "",
                                    "MaterialExpiration": "NULL",
                                    "LaborExpiration": "NULL",
                                    "MiscExpiration": "NULL",
                                    "LastExpiration": "NULL",
                                    "WarrantyComment": "",
                                    "ContractNum": "0",
                                    "ContractCode": "",
                                    "Onsite": "0",
                                    "MatCovered": "0",
                                    "LabCovered": "0",
                                    "MiscCovered": "0",
                                    "Plant": "GRRP",
                                    "ReadyToInvoice": "1",
                                    "SellingInventoryShipQty": "0.00000000",
                                    "SellingJobShipQty": "1.00000000",
                                    "SellingFactor": "1.00000000",
                                    "SalesUM": "EA",
                                    "TotalNetWeight": "0.00000",
                                    "WIPWarehouseCode": "MAINGPPR",
                                    "WIPBinNum": "A-1",
                                    "SellingFactorDirection": "D",
                                    "HeaderShipComment": "",
                                    "KitParentLine": "0",
                                    "ChangedBy": "jcarpenter",
                                    "ChangeDate": "2023-10-12",
                                    "ChangeTime": "44244",
                                    "InventoryShipUOM": "EA",
                                    "JobShipUOM": "EA",
                                    "TrackSerialNum": "0",
                                    "JobLotNum": "",
                                    "BinType": "",
                                    "NotCompliant": "0",
                                    "ComplianceMsg": "",
                                    "DiscountPercent": "0.00",
                                    "PricePerCode": "",
                                    "Discount": "0.000",
                                    "DocDiscount": "0.000",
                                    "Rpt1Discount": "0.000",
                                    "Rpt2Discount": "0.000",
                                    "Rpt3Discount": "0.000",
                                    "ExtPrice": "0.000",
                                    "DocExtPrice": "0.000",
                                    "Rpt1ExtPrice": "0.000",
                                    "Rpt2ExtPrice": "0.000",
                                    "Rpt3ExtPrice": "0.000",
                                    "UnitPrice": "0.00000",
                                    "DocUnitPrice": "0.00000",
                                    "Rpt1UnitPrice": "0.00000",
                                    "Rpt2UnitPrice": "0.00000",
                                    "Rpt3UnitPrice": "0.00000",
                                    "PickedAutoAllocatedQty": "0.00000000",
                                    "ShipToCustNum": "1913",
                                    "InDiscount": "0.000",
                                    "DocInDiscount": "0.000",
                                    "Rpt1InDiscount": "0.000",
                                    "Rpt2InDiscount": "0.000",
                                    "Rpt3InDiscount": "0.000",
                                    "InExtPrice": "0.000",
                                    "DocInExtPrice": "0.000",
                                    "Rpt1InExtPrice": "0.000",
                                    "Rpt2InExtPrice": "0.000",
                                    "Rpt3InExtPrice": "0.000",
                                    "InUnitPrice": "0.00000",
                                    "DocInUnitPrice": "0.00000",
                                    "Rpt1InUnitPrice": "0.00000",
                                    "Rpt2InUnitPrice": "0.00000",
                                    "Rpt3InUnitPrice": "0.00000",
                                    "InPrice": "0",
                                    "Obs10_PkgNum": "0",
                                    "Obs10_PkgLine": "0",
                                    "MFCustNum": "1913",
                                    "MFShipToNum": "",
                                    "UseOTMF": "0",
                                    "OTMFName": "",
                                    "OTMFAddress1": "",
                                    "OTMFAddress2": "",
                                    "OTMFAddress3": "",
                                    "OTMFCity": "",
                                    "OTMFState": "",
                                    "OTMFZIP": "",
                                    "OTMFContact": "",
                                    "OTMFFaxNum": "",
                                    "OTMFPhoneNum": "",
                                    "OTMFCountryNum": "0",
                                    "RenewalNbr": "0",
                                    "ShipOvers": "0",
                                    "AllowedOvers": "0.00000",
                                    "AllowedUnders": "0.00000",
                                    "SysRevID": "0x00000004A3AD706D",
                                    "SysRowID": "fe164779-6c85-4b59-b22c-fda7e7f8373b",
                                    "NotAllocatedQty": "0.00000000",
                                    "PCID": "",
                                    "PCIDItemSeq": "0",
                                    "DockingStation": "",
                                    "UseShipDtlInfo": "0",
                                    "PkgCodePartNum": "",
                                    "CustContainerPartNum": "",
                                    "LabelType": "",
                                    "WarrantySendToFSA": "0",
                                    "FSAEquipment": "0",
                                    "AttributeSetID": "0",
                                    "InventoryNumberOfPieces": "0",
                                    "JobNumberOfPieces": "0",
                                    "MXEstValue": "0.000",
                                    "MXEstValueCurrencyCode": "",
                                    "MXHazardousShipment": "0",
                                    "MXHazardousType": "",
                                    "MXPackageType": "",
                                    "CNDeclarationBillLine": "0",
                                    "JobNotAllocatedQty": "0.00000000",
                                    "JobPickedAutoAllocatedQty": "0.00000000"
                                },
                                {
                                    "Company": "SOLAR",
                                    "PackNum": "217155",
                                    "PackLine": "1",
                                    "OrderNum": "4001098",
                                    "OrderLine": "1",
                                    "OrderRelNum": "1",
                                    "LineType": "PART",
                                    "OurInventoryShipQty": "0.00000000",
                                    "OurJobShipQty": "1.00000000",
                                    "JobNum": "23-1584-0001",
                                    "Packages": "1",
                                    "PartNum": "AOGZ010-3009-B1",
                                    "LineDesc": "Model: ACC1000-10-125-N4",
                                    "IUM": "EA",
                                    "RevisionNum": "0",
                                    "ShipComment": "",
                                    "ShipCmpl": "1",
                                    "WarehouseCode": "MAINGPPR",
                                    "BinNum": "",
                                    "UpdatedInventory": "0",
                                    "XPartNum": "",
                                    "XRevisionNum": "",
                                    "ShpConNum": "0",
                                    "TMBilling": "0",
                                    "Invoiced": "0",
                                    "WUM": "LB",
                                    "LotNum": "",
                                    "DimCode": "",
                                    "DUM": "",
                                    "DimConvFactor": "1.00000000",
                                    "InvoiceComment": "",
                                    "WarrantyCode": "",
                                    "CustNum": "546",
                                    "ShipToNum": "",
                                    "EffectiveDate": "NULL",
                                    "MaterialDuration": "0",
                                    "LaborDuration": "0",
                                    "MiscDuration": "0",
                                    "MaterialMod": "",
                                    "LaborMod": "",
                                    "MiscMod": "",
                                    "MaterialExpiration": "NULL",
                                    "LaborExpiration": "NULL",
                                    "MiscExpiration": "NULL",
                                    "LastExpiration": "NULL",
                                    "WarrantyComment": "",
                                    "ContractNum": "0",
                                    "ContractCode": "",
                                    "Onsite": "0",
                                    "MatCovered": "0",
                                    "LabCovered": "0",
                                    "MiscCovered": "0",
                                    "Plant": "GRRP",
                                    "ReadyToInvoice": "1",
                                    "SellingInventoryShipQty": "0.00000000",
                                    "SellingJobShipQty": "1.00000000",
                                    "SellingFactor": "1.00000000",
                                    "SalesUM": "EA",
                                    "TotalNetWeight": "0.00000",
                                    "WIPWarehouseCode": "MAINGPPR",
                                    "WIPBinNum": "A-1",
                                    "SellingFactorDirection": "D",
                                    "HeaderShipComment": "",
                                    "KitParentLine": "0",
                                    "ChangedBy": "jcarpenter",
                                    "ChangeDate": "2023-10-12",
                                    "ChangeTime": "21971",
                                    "InventoryShipUOM": "EA",
                                    "JobShipUOM": "EA",
                                    "TrackSerialNum": "0",
                                    "JobLotNum": "",
                                    "BinType": "",
                                    "NotCompliant": "0",
                                    "ComplianceMsg": "",
                                    "DiscountPercent": "0.00",
                                    "PricePerCode": "",
                                    "Discount": "0.000",
                                    "DocDiscount": "0.000",
                                    "Rpt1Discount": "0.000",
                                    "Rpt2Discount": "0.000",
                                    "Rpt3Discount": "0.000",
                                    "ExtPrice": "0.000",
                                    "DocExtPrice": "0.000",
                                    "Rpt1ExtPrice": "0.000",
                                    "Rpt2ExtPrice": "0.000",
                                    "Rpt3ExtPrice": "0.000",
                                    "UnitPrice": "0.00000",
                                    "DocUnitPrice": "0.00000",
                                    "Rpt1UnitPrice": "0.00000",
                                    "Rpt2UnitPrice": "0.00000",
                                    "Rpt3UnitPrice": "0.00000",
                                    "PickedAutoAllocatedQty": "0.00000000",
                                    "ShipToCustNum": "546",
                                    "InDiscount": "0.000",
                                    "DocInDiscount": "0.000",
                                    "Rpt1InDiscount": "0.000",
                                    "Rpt2InDiscount": "0.000",
                                    "Rpt3InDiscount": "0.000",
                                    "InExtPrice": "0.000",
                                    "DocInExtPrice": "0.000",
                                    "Rpt1InExtPrice": "0.000",
                                    "Rpt2InExtPrice": "0.000",
                                    "Rpt3InExtPrice": "0.000",
                                    "InUnitPrice": "0.00000",
                                    "DocInUnitPrice": "0.00000",
                                    "Rpt1InUnitPrice": "0.00000",
                                    "Rpt2InUnitPrice": "0.00000",
                                    "Rpt3InUnitPrice": "0.00000",
                                    "InPrice": "0",
                                    "Obs10_PkgNum": "0",
                                    "Obs10_PkgLine": "0",
                                    "MFCustNum": "546",
                                    "MFShipToNum": "",
                                    "UseOTMF": "0",
                                    "OTMFName": "",
                                    "OTMFAddress1": "",
                                    "OTMFAddress2": "",
                                    "OTMFAddress3": "",
                                    "OTMFCity": "",
                                    "OTMFState": "",
                                    "OTMFZIP": "",
                                    "OTMFContact": "",
                                    "OTMFFaxNum": "",
                                    "OTMFPhoneNum": "",
                                    "OTMFCountryNum": "0",
                                    "RenewalNbr": "0",
                                    "ShipOvers": "0",
                                    "AllowedOvers": "0.00000",
                                    "AllowedUnders": "0.00000",
                                    "SysRevID": "0x00000004A327B701",
                                    "SysRowID": "64ba978f-d4c3-43bc-a34e-8e422caa425e",
                                    "NotAllocatedQty": "0.00000000",
                                    "PCID": "",
                                    "PCIDItemSeq": "0",
                                    "DockingStation": "",
                                    "UseShipDtlInfo": "0",
                                    "PkgCodePartNum": "",
                                    "CustContainerPartNum": "",
                                    "LabelType": "",
                                    "WarrantySendToFSA": "0",
                                    "FSAEquipment": "0",
                                    "AttributeSetID": "0",
                                    "InventoryNumberOfPieces": "0",
                                    "JobNumberOfPieces": "0",
                                    "MXEstValue": "0.000",
                                    "MXEstValueCurrencyCode": "",
                                    "MXHazardousShipment": "0",
                                    "MXHazardousType": "",
                                    "MXPackageType": "",
                                    "CNDeclarationBillLine": "0",
                                    "JobNotAllocatedQty": "0.00000000",
                                    "JobPickedAutoAllocatedQty": "0.00000000"
                                },
                                {
                                    "Company": "SOLAR",
                                    "PackNum": "217151",
                                    "PackLine": "1",
                                    "OrderNum": "4001090",
                                    "OrderLine": "1",
                                    "OrderRelNum": "1",
                                    "LineType": "PART",
                                    "OurInventoryShipQty": "0.00000000",
                                    "OurJobShipQty": "25.00000000",
                                    "JobNum": "23-1554-0001",
                                    "Packages": "1",
                                    "PartNum": "CLSF4020-1034-A1",
                                    "LineDesc": "Model: CSF400-20-25-N4",
                                    "IUM": "EA",
                                    "RevisionNum": "0",
                                    "ShipComment": "",
                                    "ShipCmpl": "1",
                                    "WarehouseCode": "MAINGPPR",
                                    "BinNum": "",
                                    "UpdatedInventory": "0",
                                    "XPartNum": "",
                                    "XRevisionNum": "",
                                    "ShpConNum": "0",
                                    "TMBilling": "0",
                                    "Invoiced": "0",
                                    "WUM": "LB",
                                    "LotNum": "",
                                    "DimCode": "",
                                    "DUM": "",
                                    "DimConvFactor": "1.00000000",
                                    "InvoiceComment": "",
                                    "WarrantyCode": "",
                                    "CustNum": "1812",
                                    "ShipToNum": "",
                                    "EffectiveDate": "NULL",
                                    "MaterialDuration": "0",
                                    "LaborDuration": "0",
                                    "MiscDuration": "0",
                                    "MaterialMod": "",
                                    "LaborMod": "",
                                    "MiscMod": "",
                                    "MaterialExpiration": "NULL",
                                    "LaborExpiration": "NULL",
                                    "MiscExpiration": "NULL",
                                    "LastExpiration": "NULL",
                                    "WarrantyComment": "",
                                    "ContractNum": "0",
                                    "ContractCode": "",
                                    "Onsite": "0",
                                    "MatCovered": "0",
                                    "LabCovered": "0",
                                    "MiscCovered": "0",
                                    "Plant": "GRRP",
                                    "ReadyToInvoice": "1",
                                    "SellingInventoryShipQty": "0.00000000",
                                    "SellingJobShipQty": "25.00000000",
                                    "SellingFactor": "1.00000000",
                                    "SalesUM": "EA",
                                    "TotalNetWeight": "0.00000",
                                    "WIPWarehouseCode": "MAINGPPR",
                                    "WIPBinNum": "A-1",
                                    "SellingFactorDirection": "D",
                                    "HeaderShipComment": "",
                                    "KitParentLine": "0",
                                    "ChangedBy": "jcarpenter",
                                    "ChangeDate": "2023-10-12",
                                    "ChangeTime": "19617",
                                    "InventoryShipUOM": "EA",
                                    "JobShipUOM": "EA",
                                    "TrackSerialNum": "0",
                                    "JobLotNum": "",
                                    "BinType": "",
                                    "NotCompliant": "0",
                                    "ComplianceMsg": "",
                                    "DiscountPercent": "0.00",
                                    "PricePerCode": "",
                                    "Discount": "0.000",
                                    "DocDiscount": "0.000",
                                    "Rpt1Discount": "0.000",
                                    "Rpt2Discount": "0.000",
                                    "Rpt3Discount": "0.000",
                                    "ExtPrice": "0.000",
                                    "DocExtPrice": "0.000",
                                    "Rpt1ExtPrice": "0.000",
                                    "Rpt2ExtPrice": "0.000",
                                    "Rpt3ExtPrice": "0.000",
                                    "UnitPrice": "0.00000",
                                    "DocUnitPrice": "0.00000",
                                    "Rpt1UnitPrice": "0.00000",
                                    "Rpt2UnitPrice": "0.00000",
                                    "Rpt3UnitPrice": "0.00000",
                                    "PickedAutoAllocatedQty": "0.00000000",
                                    "ShipToCustNum": "1812",
                                    "InDiscount": "0.000",
                                    "DocInDiscount": "0.000",
                                    "Rpt1InDiscount": "0.000",
                                    "Rpt2InDiscount": "0.000",
                                    "Rpt3InDiscount": "0.000",
                                    "InExtPrice": "0.000",
                                    "DocInExtPrice": "0.000",
                                    "Rpt1InExtPrice": "0.000",
                                    "Rpt2InExtPrice": "0.000",
                                    "Rpt3InExtPrice": "0.000",
                                    "InUnitPrice": "0.00000",
                                    "DocInUnitPrice": "0.00000",
                                    "Rpt1InUnitPrice": "0.00000",
                                    "Rpt2InUnitPrice": "0.00000",
                                    "Rpt3InUnitPrice": "0.00000",
                                    "InPrice": "0",
                                    "Obs10_PkgNum": "0",
                                    "Obs10_PkgLine": "0",
                                    "MFCustNum": "1812",
                                    "MFShipToNum": "",
                                    "UseOTMF": "0",
                                    "OTMFName": "",
                                    "OTMFAddress1": "",
                                    "OTMFAddress2": "",
                                    "OTMFAddress3": "",
                                    "OTMFCity": "",
                                    "OTMFState": "",
                                    "OTMFZIP": "",
                                    "OTMFContact": "",
                                    "OTMFFaxNum": "",
                                    "OTMFPhoneNum": "",
                                    "OTMFCountryNum": "0",
                                    "RenewalNbr": "0",
                                    "ShipOvers": "0",
                                    "AllowedOvers": "0.00000",
                                    "AllowedUnders": "0.00000",
                                    "SysRevID": "0x00000004A3279DC1",
                                    "SysRowID": "4b52caa7-a0a7-4503-9e9c-e78bf374d9ad",
                                    "NotAllocatedQty": "0.00000000",
                                    "PCID": "",
                                    "PCIDItemSeq": "0",
                                    "DockingStation": "",
                                    "UseShipDtlInfo": "0",
                                    "PkgCodePartNum": "",
                                    "CustContainerPartNum": "",
                                    "LabelType": "",
                                    "WarrantySendToFSA": "0",
                                    "FSAEquipment": "0",
                                    "AttributeSetID": "0",
                                    "InventoryNumberOfPieces": "0",
                                    "JobNumberOfPieces": "0",
                                    "MXEstValue": "0.000",
                                    "MXEstValueCurrencyCode": "",
                                    "MXHazardousShipment": "0",
                                    "MXHazardousType": "",
                                    "MXPackageType": "",
                                    "CNDeclarationBillLine": "0",
                                    "JobNotAllocatedQty": "0.00000000",
                                    "JobPickedAutoAllocatedQty": "0.00000000"
                                },
                                {
                                    "Company": "SOLAR",
                                    "PackNum": "217164",
                                    "PackLine": "1",
                                    "OrderNum": "4001069",
                                    "OrderLine": "1",
                                    "OrderRelNum": "1",
                                    "LineType": "PART",
                                    "OurInventoryShipQty": "0.00000000",
                                    "OurJobShipQty": "1.00000000",
                                    "JobNum": "23-1378-0001",
                                    "Packages": "1",
                                    "PartNum": "AOGZ010-3009-A1",
                                    "LineDesc": "Model: ACC1000-10-125-N4",
                                    "IUM": "EA",
                                    "RevisionNum": "0",
                                    "ShipComment": "",
                                    "ShipCmpl": "1",
                                    "WarehouseCode": "MAINGPPR",
                                    "BinNum": "",
                                    "UpdatedInventory": "0",
                                    "XPartNum": "",
                                    "XRevisionNum": "",
                                    "ShpConNum": "0",
                                    "TMBilling": "0",
                                    "Invoiced": "0",
                                    "WUM": "LB",
                                    "LotNum": "",
                                    "DimCode": "",
                                    "DUM": "",
                                    "DimConvFactor": "1.00000000",
                                    "InvoiceComment": "",
                                    "WarrantyCode": "",
                                    "CustNum": "546",
                                    "ShipToNum": "",
                                    "EffectiveDate": "NULL",
                                    "MaterialDuration": "0",
                                    "LaborDuration": "0",
                                    "MiscDuration": "0",
                                    "MaterialMod": "",
                                    "LaborMod": "",
                                    "MiscMod": "",
                                    "MaterialExpiration": "NULL",
                                    "LaborExpiration": "NULL",
                                    "MiscExpiration": "NULL",
                                    "LastExpiration": "NULL",
                                    "WarrantyComment": "",
                                    "ContractNum": "0",
                                    "ContractCode": "",
                                    "Onsite": "0",
                                    "MatCovered": "0",
                                    "LabCovered": "0",
                                    "MiscCovered": "0",
                                    "Plant": "GRRP",
                                    "ReadyToInvoice": "1",
                                    "SellingInventoryShipQty": "0.00000000",
                                    "SellingJobShipQty": "1.00000000",
                                    "SellingFactor": "1.00000000",
                                    "SalesUM": "EA",
                                    "TotalNetWeight": "0.00000",
                                    "WIPWarehouseCode": "MAINGPPR",
                                    "WIPBinNum": "A-1",
                                    "SellingFactorDirection": "D",
                                    "HeaderShipComment": "",
                                    "KitParentLine": "0",
                                    "ChangedBy": "jcarpenter",
                                    "ChangeDate": "2023-10-17",
                                    "ChangeTime": "50834",
                                    "InventoryShipUOM": "EA",
                                    "JobShipUOM": "EA",
                                    "TrackSerialNum": "0",
                                    "JobLotNum": "",
                                    "BinType": "",
                                    "NotCompliant": "0",
                                    "ComplianceMsg": "",
                                    "DiscountPercent": "0.00",
                                    "PricePerCode": "",
                                    "Discount": "0.000",
                                    "DocDiscount": "0.000",
                                    "Rpt1Discount": "0.000",
                                    "Rpt2Discount": "0.000",
                                    "Rpt3Discount": "0.000",
                                    "ExtPrice": "0.000",
                                    "DocExtPrice": "0.000",
                                    "Rpt1ExtPrice": "0.000",
                                    "Rpt2ExtPrice": "0.000",
                                    "Rpt3ExtPrice": "0.000",
                                    "UnitPrice": "0.00000",
                                    "DocUnitPrice": "0.00000",
                                    "Rpt1UnitPrice": "0.00000",
                                    "Rpt2UnitPrice": "0.00000",
                                    "Rpt3UnitPrice": "0.00000",
                                    "PickedAutoAllocatedQty": "0.00000000",
                                    "ShipToCustNum": "546",
                                    "InDiscount": "0.000",
                                    "DocInDiscount": "0.000",
                                    "Rpt1InDiscount": "0.000",
                                    "Rpt2InDiscount": "0.000",
                                    "Rpt3InDiscount": "0.000",
                                    "InExtPrice": "0.000",
                                    "DocInExtPrice": "0.000",
                                    "Rpt1InExtPrice": "0.000",
                                    "Rpt2InExtPrice": "0.000",
                                    "Rpt3InExtPrice": "0.000",
                                    "InUnitPrice": "0.00000",
                                    "DocInUnitPrice": "0.00000",
                                    "Rpt1InUnitPrice": "0.00000",
                                    "Rpt2InUnitPrice": "0.00000",
                                    "Rpt3InUnitPrice": "0.00000",
                                    "InPrice": "0",
                                    "Obs10_PkgNum": "0",
                                    "Obs10_PkgLine": "0",
                                    "MFCustNum": "546",
                                    "MFShipToNum": "",
                                    "UseOTMF": "0",
                                    "OTMFName": "",
                                    "OTMFAddress1": "",
                                    "OTMFAddress2": "",
                                    "OTMFAddress3": "",
                                    "OTMFCity": "",
                                    "OTMFState": "",
                                    "OTMFZIP": "",
                                    "OTMFContact": "",
                                    "OTMFFaxNum": "",
                                    "OTMFPhoneNum": "",
                                    "OTMFCountryNum": "0",
                                    "RenewalNbr": "0",
                                    "ShipOvers": "0",
                                    "AllowedOvers": "0.00000",
                                    "AllowedUnders": "0.00000",
                                    "SysRevID": "0x00000004A69D3AAC",
                                    "SysRowID": "310efd82-13fd-4154-98f4-f35869df39f1",
                                    "NotAllocatedQty": "0.00000000",
                                    "PCID": "",
                                    "PCIDItemSeq": "0",
                                    "DockingStation": "",
                                    "UseShipDtlInfo": "0",
                                    "PkgCodePartNum": "",
                                    "CustContainerPartNum": "",
                                    "LabelType": "",
                                    "WarrantySendToFSA": "0",
                                    "FSAEquipment": "0",
                                    "AttributeSetID": "0",
                                    "InventoryNumberOfPieces": "0",
                                    "JobNumberOfPieces": "0",
                                    "MXEstValue": "0.000",
                                    "MXEstValueCurrencyCode": "",
                                    "MXHazardousShipment": "0",
                                    "MXHazardousType": "",
                                    "MXPackageType": "",
                                    "CNDeclarationBillLine": "0",
                                    "JobNotAllocatedQty": "1.00000000",
                                    "JobPickedAutoAllocatedQty": "0.00000000"
                                },
                                {
                                    "Company": "SOLAR",
                                    "PackNum": "217169",
                                    "PackLine": "1",
                                    "OrderNum": "4001199",
                                    "OrderLine": "1",
                                    "OrderRelNum": "1",
                                    "LineType": "PART",
                                    "OurInventoryShipQty": "0.00000000",
                                    "OurJobShipQty": "1.00000000",
                                    "JobNum": "23-1615-0001",
                                    "Packages": "1",
                                    "PartNum": "CLSFT4010-0715-C1",
                                    "LineDesc": "Model: CDFT400-10-40-N4",
                                    "IUM": "EA",
                                    "RevisionNum": "",
                                    "ShipComment": "",
                                    "ShipCmpl": "1",
                                    "WarehouseCode": "MAINGPPR",
                                    "BinNum": "",
                                    "UpdatedInventory": "0",
                                    "XPartNum": "",
                                    "XRevisionNum": "",
                                    "ShpConNum": "0",
                                    "TMBilling": "0",
                                    "Invoiced": "0",
                                    "WUM": "LB",
                                    "LotNum": "",
                                    "DimCode": "",
                                    "DUM": "",
                                    "DimConvFactor": "1.00000000",
                                    "InvoiceComment": "",
                                    "WarrantyCode": "",
                                    "CustNum": "1704",
                                    "ShipToNum": "39",
                                    "EffectiveDate": "NULL",
                                    "MaterialDuration": "0",
                                    "LaborDuration": "0",
                                    "MiscDuration": "0",
                                    "MaterialMod": "",
                                    "LaborMod": "",
                                    "MiscMod": "",
                                    "MaterialExpiration": "NULL",
                                    "LaborExpiration": "NULL",
                                    "MiscExpiration": "NULL",
                                    "LastExpiration": "NULL",
                                    "WarrantyComment": "",
                                    "ContractNum": "0",
                                    "ContractCode": "",
                                    "Onsite": "0",
                                    "MatCovered": "0",
                                    "LabCovered": "0",
                                    "MiscCovered": "0",
                                    "Plant": "GRRP",
                                    "ReadyToInvoice": "1",
                                    "SellingInventoryShipQty": "0.00000000",
                                    "SellingJobShipQty": "1.00000000",
                                    "SellingFactor": "1.00000000",
                                    "SalesUM": "EA",
                                    "TotalNetWeight": "0.00000",
                                    "WIPWarehouseCode": "MAINGPPR",
                                    "WIPBinNum": "A-1",
                                    "SellingFactorDirection": "D",
                                    "HeaderShipComment": "",
                                    "KitParentLine": "0",
                                    "ChangedBy": "jcarpenter",
                                    "ChangeDate": "2023-10-18",
                                    "ChangeTime": "38601",
                                    "InventoryShipUOM": "EA",
                                    "JobShipUOM": "EA",
                                    "TrackSerialNum": "0",
                                    "JobLotNum": "",
                                    "BinType": "",
                                    "NotCompliant": "0",
                                    "ComplianceMsg": "",
                                    "DiscountPercent": "0.00",
                                    "PricePerCode": "",
                                    "Discount": "0.000",
                                    "DocDiscount": "0.000",
                                    "Rpt1Discount": "0.000",
                                    "Rpt2Discount": "0.000",
                                    "Rpt3Discount": "0.000",
                                    "ExtPrice": "0.000",
                                    "DocExtPrice": "0.000",
                                    "Rpt1ExtPrice": "0.000",
                                    "Rpt2ExtPrice": "0.000",
                                    "Rpt3ExtPrice": "0.000",
                                    "UnitPrice": "0.00000",
                                    "DocUnitPrice": "0.00000",
                                    "Rpt1UnitPrice": "0.00000",
                                    "Rpt2UnitPrice": "0.00000",
                                    "Rpt3UnitPrice": "0.00000",
                                    "PickedAutoAllocatedQty": "0.00000000",
                                    "ShipToCustNum": "1704",
                                    "InDiscount": "0.000",
                                    "DocInDiscount": "0.000",
                                    "Rpt1InDiscount": "0.000",
                                    "Rpt2InDiscount": "0.000",
                                    "Rpt3InDiscount": "0.000",
                                    "InExtPrice": "0.000",
                                    "DocInExtPrice": "0.000",
                                    "Rpt1InExtPrice": "0.000",
                                    "Rpt2InExtPrice": "0.000",
                                    "Rpt3InExtPrice": "0.000",
                                    "InUnitPrice": "0.00000",
                                    "DocInUnitPrice": "0.00000",
                                    "Rpt1InUnitPrice": "0.00000",
                                    "Rpt2InUnitPrice": "0.00000",
                                    "Rpt3InUnitPrice": "0.00000",
                                    "InPrice": "0",
                                    "Obs10_PkgNum": "0",
                                    "Obs10_PkgLine": "0",
                                    "MFCustNum": "1704",
                                    "MFShipToNum": "39",
                                    "UseOTMF": "0",
                                    "OTMFName": "",
                                    "OTMFAddress1": "",
                                    "OTMFAddress2": "",
                                    "OTMFAddress3": "",
                                    "OTMFCity": "",
                                    "OTMFState": "",
                                    "OTMFZIP": "",
                                    "OTMFContact": "",
                                    "OTMFFaxNum": "",
                                    "OTMFPhoneNum": "",
                                    "OTMFCountryNum": "0",
                                    "RenewalNbr": "0",
                                    "ShipOvers": "0",
                                    "AllowedOvers": "0.00000",
                                    "AllowedUnders": "0.00000",
                                    "SysRevID": "0x00000004A7A22A2B",
                                    "SysRowID": "68597c62-ef11-46d4-a003-9c261dca186a",
                                    "NotAllocatedQty": "0.00000000",
                                    "PCID": "",
                                    "PCIDItemSeq": "0",
                                    "DockingStation": "",
                                    "UseShipDtlInfo": "0",
                                    "PkgCodePartNum": "",
                                    "CustContainerPartNum": "",
                                    "LabelType": "",
                                    "WarrantySendToFSA": "0",
                                    "FSAEquipment": "0",
                                    "AttributeSetID": "0",
                                    "InventoryNumberOfPieces": "0",
                                    "JobNumberOfPieces": "0",
                                    "MXEstValue": "0.000",
                                    "MXEstValueCurrencyCode": "",
                                    "MXHazardousShipment": "0",
                                    "MXHazardousType": "",
                                    "MXPackageType": "",
                                    "CNDeclarationBillLine": "0",
                                    "JobNotAllocatedQty": "1.00000000",
                                    "JobPickedAutoAllocatedQty": "0.00000000"
                                },
                                {
                                    "Company": "SOLAR",
                                    "PackNum": "217172",
                                    "PackLine": "1",
                                    "OrderNum": "4001125",
                                    "OrderLine": "1",
                                    "OrderRelNum": "1",
                                    "LineType": "PART",
                                    "OurInventoryShipQty": "0.00000000",
                                    "OurJobShipQty": "2.00000000",
                                    "JobNum": "23-1643-0001",
                                    "Packages": "1",
                                    "PartNum": "SLF2K0301-0581-A1",
                                    "LineDesc": "Model: F2SK32-1-4XP",
                                    "IUM": "EA",
                                    "RevisionNum": "",
                                    "ShipComment": "",
                                    "ShipCmpl": "1",
                                    "WarehouseCode": "MAINGPPR",
                                    "BinNum": "",
                                    "UpdatedInventory": "0",
                                    "XPartNum": "",
                                    "XRevisionNum": "",
                                    "ShpConNum": "0",
                                    "TMBilling": "0",
                                    "Invoiced": "0",
                                    "WUM": "LB",
                                    "LotNum": "",
                                    "DimCode": "",
                                    "DUM": "",
                                    "DimConvFactor": "1.00000000",
                                    "InvoiceComment": "",
                                    "WarrantyCode": "",
                                    "CustNum": "903",
                                    "ShipToNum": "4",
                                    "EffectiveDate": "NULL",
                                    "MaterialDuration": "0",
                                    "LaborDuration": "0",
                                    "MiscDuration": "0",
                                    "MaterialMod": "",
                                    "LaborMod": "",
                                    "MiscMod": "",
                                    "MaterialExpiration": "NULL",
                                    "LaborExpiration": "NULL",
                                    "MiscExpiration": "NULL",
                                    "LastExpiration": "NULL",
                                    "WarrantyComment": "",
                                    "ContractNum": "0",
                                    "ContractCode": "",
                                    "Onsite": "0",
                                    "MatCovered": "0",
                                    "LabCovered": "0",
                                    "MiscCovered": "0",
                                    "Plant": "GRRP",
                                    "ReadyToInvoice": "1",
                                    "SellingInventoryShipQty": "0.00000000",
                                    "SellingJobShipQty": "2.00000000",
                                    "SellingFactor": "1.00000000",
                                    "SalesUM": "EA",
                                    "TotalNetWeight": "0.00000",
                                    "WIPWarehouseCode": "MAINGPPR",
                                    "WIPBinNum": "A-1",
                                    "SellingFactorDirection": "D",
                                    "HeaderShipComment": "",
                                    "KitParentLine": "0",
                                    "ChangedBy": "jcarpenter",
                                    "ChangeDate": "2023-10-18",
                                    "ChangeTime": "43260",
                                    "InventoryShipUOM": "EA",
                                    "JobShipUOM": "EA",
                                    "TrackSerialNum": "0",
                                    "JobLotNum": "",
                                    "BinType": "",
                                    "NotCompliant": "0",
                                    "ComplianceMsg": "",
                                    "DiscountPercent": "0.00",
                                    "PricePerCode": "",
                                    "Discount": "0.000",
                                    "DocDiscount": "0.000",
                                    "Rpt1Discount": "0.000",
                                    "Rpt2Discount": "0.000",
                                    "Rpt3Discount": "0.000",
                                    "ExtPrice": "0.000",
                                    "DocExtPrice": "0.000",
                                    "Rpt1ExtPrice": "0.000",
                                    "Rpt2ExtPrice": "0.000",
                                    "Rpt3ExtPrice": "0.000",
                                    "UnitPrice": "0.00000",
                                    "DocUnitPrice": "0.00000",
                                    "Rpt1UnitPrice": "0.00000",
                                    "Rpt2UnitPrice": "0.00000",
                                    "Rpt3UnitPrice": "0.00000",
                                    "PickedAutoAllocatedQty": "0.00000000",
                                    "ShipToCustNum": "903",
                                    "InDiscount": "0.000",
                                    "DocInDiscount": "0.000",
                                    "Rpt1InDiscount": "0.000",
                                    "Rpt2InDiscount": "0.000",
                                    "Rpt3InDiscount": "0.000",
                                    "InExtPrice": "0.000",
                                    "DocInExtPrice": "0.000",
                                    "Rpt1InExtPrice": "0.000",
                                    "Rpt2InExtPrice": "0.000",
                                    "Rpt3InExtPrice": "0.000",
                                    "InUnitPrice": "0.00000",
                                    "DocInUnitPrice": "0.00000",
                                    "Rpt1InUnitPrice": "0.00000",
                                    "Rpt2InUnitPrice": "0.00000",
                                    "Rpt3InUnitPrice": "0.00000",
                                    "InPrice": "0",
                                    "Obs10_PkgNum": "0",
                                    "Obs10_PkgLine": "0",
                                    "MFCustNum": "903",
                                    "MFShipToNum": "4",
                                    "UseOTMF": "0",
                                    "OTMFName": "",
                                    "OTMFAddress1": "",
                                    "OTMFAddress2": "",
                                    "OTMFAddress3": "",
                                    "OTMFCity": "",
                                    "OTMFState": "",
                                    "OTMFZIP": "",
                                    "OTMFContact": "",
                                    "OTMFFaxNum": "",
                                    "OTMFPhoneNum": "",
                                    "OTMFCountryNum": "0",
                                    "RenewalNbr": "0",
                                    "ShipOvers": "0",
                                    "AllowedOvers": "0.00000",
                                    "AllowedUnders": "0.00000",
                                    "SysRevID": "0x00000004A7A29E0E",
                                    "SysRowID": "f4afe457-8e61-4931-98b2-46a4bce139c2",
                                    "NotAllocatedQty": "0.00000000",
                                    "PCID": "",
                                    "PCIDItemSeq": "0",
                                    "DockingStation": "",
                                    "UseShipDtlInfo": "0",
                                    "PkgCodePartNum": "",
                                    "CustContainerPartNum": "",
                                    "LabelType": "",
                                    "WarrantySendToFSA": "0",
                                    "FSAEquipment": "0",
                                    "AttributeSetID": "0",
                                    "InventoryNumberOfPieces": "0",
                                    "JobNumberOfPieces": "0",
                                    "MXEstValue": "0.000",
                                    "MXEstValueCurrencyCode": "",
                                    "MXHazardousShipment": "0",
                                    "MXHazardousType": "",
                                    "MXPackageType": "",
                                    "CNDeclarationBillLine": "0",
                                    "JobNotAllocatedQty": "2.00000000",
                                    "JobPickedAutoAllocatedQty": "0.00000000"
                                },
                                {
                                    "Company": "SOLAR",
                                    "PackNum": "217158",
                                    "PackLine": "2",
                                    "OrderNum": "4001225",
                                    "OrderLine": "3",
                                    "OrderRelNum": "1",
                                    "LineType": "PART",
                                    "OurInventoryShipQty": "3500.00000000",
                                    "OurJobShipQty": "0.00000000",
                                    "JobNum": "",
                                    "Packages": "1",
                                    "PartNum": "WSH-M10-BELL",
                                    "LineDesc": "Model: M10 HARDWARE",
                                    "IUM": "EA",
                                    "RevisionNum": "",
                                    "ShipComment": "",
                                    "ShipCmpl": "1",
                                    "WarehouseCode": "MAINGPPR",
                                    "BinNum": "A-1",
                                    "UpdatedInventory": "1",
                                    "XPartNum": "",
                                    "XRevisionNum": "",
                                    "ShpConNum": "0",
                                    "TMBilling": "0",
                                    "Invoiced": "0",
                                    "WUM": "LB",
                                    "LotNum": "",
                                    "DimCode": "",
                                    "DUM": "",
                                    "DimConvFactor": "1.00000000",
                                    "InvoiceComment": "",
                                    "WarrantyCode": "",
                                    "CustNum": "1395",
                                    "ShipToNum": "",
                                    "EffectiveDate": "NULL",
                                    "MaterialDuration": "0",
                                    "LaborDuration": "0",
                                    "MiscDuration": "0",
                                    "MaterialMod": "",
                                    "LaborMod": "",
                                    "MiscMod": "",
                                    "MaterialExpiration": "NULL",
                                    "LaborExpiration": "NULL",
                                    "MiscExpiration": "NULL",
                                    "LastExpiration": "NULL",
                                    "WarrantyComment": "",
                                    "ContractNum": "0",
                                    "ContractCode": "",
                                    "Onsite": "0",
                                    "MatCovered": "0",
                                    "LabCovered": "0",
                                    "MiscCovered": "0",
                                    "Plant": "GRRP",
                                    "ReadyToInvoice": "1",
                                    "SellingInventoryShipQty": "3500.00000000",
                                    "SellingJobShipQty": "0.00000000",
                                    "SellingFactor": "1.00000000",
                                    "SalesUM": "EA",
                                    "TotalNetWeight": "0.00000",
                                    "WIPWarehouseCode": "",
                                    "WIPBinNum": "",
                                    "SellingFactorDirection": "D",
                                    "HeaderShipComment": "",
                                    "KitParentLine": "0",
                                    "ChangedBy": "jcarpenter",
                                    "ChangeDate": "2023-10-12",
                                    "ChangeTime": "50963",
                                    "InventoryShipUOM": "EA",
                                    "JobShipUOM": "EA",
                                    "TrackSerialNum": "0",
                                    "JobLotNum": "",
                                    "BinType": "Std",
                                    "NotCompliant": "0",
                                    "ComplianceMsg": "",
                                    "DiscountPercent": "0.00",
                                    "PricePerCode": "",
                                    "Discount": "0.000",
                                    "DocDiscount": "0.000",
                                    "Rpt1Discount": "0.000",
                                    "Rpt2Discount": "0.000",
                                    "Rpt3Discount": "0.000",
                                    "ExtPrice": "0.000",
                                    "DocExtPrice": "0.000",
                                    "Rpt1ExtPrice": "0.000",
                                    "Rpt2ExtPrice": "0.000",
                                    "Rpt3ExtPrice": "0.000",
                                    "UnitPrice": "0.00000",
                                    "DocUnitPrice": "0.00000",
                                    "Rpt1UnitPrice": "0.00000",
                                    "Rpt2UnitPrice": "0.00000",
                                    "Rpt3UnitPrice": "0.00000",
                                    "PickedAutoAllocatedQty": "0.00000000",
                                    "ShipToCustNum": "1395",
                                    "InDiscount": "0.000",
                                    "DocInDiscount": "0.000",
                                    "Rpt1InDiscount": "0.000",
                                    "Rpt2InDiscount": "0.000",
                                    "Rpt3InDiscount": "0.000",
                                    "InExtPrice": "0.000",
                                    "DocInExtPrice": "0.000",
                                    "Rpt1InExtPrice": "0.000",
                                    "Rpt2InExtPrice": "0.000",
                                    "Rpt3InExtPrice": "0.000",
                                    "InUnitPrice": "0.00000",
                                    "DocInUnitPrice": "0.00000",
                                    "Rpt1InUnitPrice": "0.00000",
                                    "Rpt2InUnitPrice": "0.00000",
                                    "Rpt3InUnitPrice": "0.00000",
                                    "InPrice": "0",
                                    "Obs10_PkgNum": "0",
                                    "Obs10_PkgLine": "0",
                                    "MFCustNum": "1395",
                                    "MFShipToNum": "",
                                    "UseOTMF": "0",
                                    "OTMFName": "",
                                    "OTMFAddress1": "",
                                    "OTMFAddress2": "",
                                    "OTMFAddress3": "",
                                    "OTMFCity": "",
                                    "OTMFState": "",
                                    "OTMFZIP": "",
                                    "OTMFContact": "",
                                    "OTMFFaxNum": "",
                                    "OTMFPhoneNum": "",
                                    "OTMFCountryNum": "0",
                                    "RenewalNbr": "0",
                                    "ShipOvers": "0",
                                    "AllowedOvers": "0.00000",
                                    "AllowedUnders": "0.00000",
                                    "SysRevID": "0x00000004A3C48C1C",
                                    "SysRowID": "693e6e48-5be1-4751-9c95-4423c1be295e",
                                    "NotAllocatedQty": "0.00000000",
                                    "PCID": "",
                                    "PCIDItemSeq": "0",
                                    "DockingStation": "",
                                    "UseShipDtlInfo": "0",
                                    "PkgCodePartNum": "",
                                    "CustContainerPartNum": "",
                                    "LabelType": "",
                                    "WarrantySendToFSA": "0",
                                    "FSAEquipment": "0",
                                    "AttributeSetID": "0",
                                    "InventoryNumberOfPieces": "0",
                                    "JobNumberOfPieces": "0",
                                    "MXEstValue": "0.000",
                                    "MXEstValueCurrencyCode": "",
                                    "MXHazardousShipment": "0",
                                    "MXHazardousType": "",
                                    "MXPackageType": "",
                                    "CNDeclarationBillLine": "0",
                                    "JobNotAllocatedQty": "0.00000000",
                                    "JobPickedAutoAllocatedQty": "0.00000000"
                                },
                                {
                                    "Company": "SOLAR",
                                    "PackNum": "217154",
                                    "PackLine": "1",
                                    "OrderNum": "4001102",
                                    "OrderLine": "1",
                                    "OrderRelNum": "1",
                                    "LineType": "PART",
                                    "OurInventoryShipQty": "0.00000000",
                                    "OurJobShipQty": "1.00000000",
                                    "JobNum": "23-1596-0001",
                                    "Packages": "1",
                                    "PartNum": "SG4F01-0614-B1",
                                    "LineDesc": "Model: C4SF-1-N4",
                                    "IUM": "EA",
                                    "RevisionNum": "",
                                    "ShipComment": "",
                                    "ShipCmpl": "1",
                                    "WarehouseCode": "MAINGPPR",
                                    "BinNum": "",
                                    "UpdatedInventory": "0",
                                    "XPartNum": "",
                                    "XRevisionNum": "",
                                    "ShpConNum": "0",
                                    "TMBilling": "0",
                                    "Invoiced": "0",
                                    "WUM": "LB",
                                    "LotNum": "",
                                    "DimCode": "",
                                    "DUM": "",
                                    "DimConvFactor": "1.00000000",
                                    "InvoiceComment": "",
                                    "WarrantyCode": "",
                                    "CustNum": "93",
                                    "ShipToNum": "",
                                    "EffectiveDate": "NULL",
                                    "MaterialDuration": "0",
                                    "LaborDuration": "0",
                                    "MiscDuration": "0",
                                    "MaterialMod": "",
                                    "LaborMod": "",
                                    "MiscMod": "",
                                    "MaterialExpiration": "NULL",
                                    "LaborExpiration": "NULL",
                                    "MiscExpiration": "NULL",
                                    "LastExpiration": "NULL",
                                    "WarrantyComment": "",
                                    "ContractNum": "0",
                                    "ContractCode": "",
                                    "Onsite": "0",
                                    "MatCovered": "0",
                                    "LabCovered": "0",
                                    "MiscCovered": "0",
                                    "Plant": "GRRP",
                                    "ReadyToInvoice": "1",
                                    "SellingInventoryShipQty": "0.00000000",
                                    "SellingJobShipQty": "1.00000000",
                                    "SellingFactor": "1.00000000",
                                    "SalesUM": "EA",
                                    "TotalNetWeight": "0.00000",
                                    "WIPWarehouseCode": "MAINGPPR",
                                    "WIPBinNum": "A-1",
                                    "SellingFactorDirection": "D",
                                    "HeaderShipComment": "",
                                    "KitParentLine": "0",
                                    "ChangedBy": "jcarpenter",
                                    "ChangeDate": "2023-10-12",
                                    "ChangeTime": "20624",
                                    "InventoryShipUOM": "EA",
                                    "JobShipUOM": "EA",
                                    "TrackSerialNum": "0",
                                    "JobLotNum": "",
                                    "BinType": "",
                                    "NotCompliant": "0",
                                    "ComplianceMsg": "",
                                    "DiscountPercent": "0.00",
                                    "PricePerCode": "",
                                    "Discount": "0.000",
                                    "DocDiscount": "0.000",
                                    "Rpt1Discount": "0.000",
                                    "Rpt2Discount": "0.000",
                                    "Rpt3Discount": "0.000",
                                    "ExtPrice": "0.000",
                                    "DocExtPrice": "0.000",
                                    "Rpt1ExtPrice": "0.000",
                                    "Rpt2ExtPrice": "0.000",
                                    "Rpt3ExtPrice": "0.000",
                                    "UnitPrice": "0.00000",
                                    "DocUnitPrice": "0.00000",
                                    "Rpt1UnitPrice": "0.00000",
                                    "Rpt2UnitPrice": "0.00000",
                                    "Rpt3UnitPrice": "0.00000",
                                    "PickedAutoAllocatedQty": "0.00000000",
                                    "ShipToCustNum": "93",
                                    "InDiscount": "0.000",
                                    "DocInDiscount": "0.000",
                                    "Rpt1InDiscount": "0.000",
                                    "Rpt2InDiscount": "0.000",
                                    "Rpt3InDiscount": "0.000",
                                    "InExtPrice": "0.000",
                                    "DocInExtPrice": "0.000",
                                    "Rpt1InExtPrice": "0.000",
                                    "Rpt2InExtPrice": "0.000",
                                    "Rpt3InExtPrice": "0.000",
                                    "InUnitPrice": "0.00000",
                                    "DocInUnitPrice": "0.00000",
                                    "Rpt1InUnitPrice": "0.00000",
                                    "Rpt2InUnitPrice": "0.00000",
                                    "Rpt3InUnitPrice": "0.00000",
                                    "InPrice": "0",
                                    "Obs10_PkgNum": "0",
                                    "Obs10_PkgLine": "0",
                                    "MFCustNum": "93",
                                    "MFShipToNum": "",
                                    "UseOTMF": "0",
                                    "OTMFName": "",
                                    "OTMFAddress1": "",
                                    "OTMFAddress2": "",
                                    "OTMFAddress3": "",
                                    "OTMFCity": "",
                                    "OTMFState": "",
                                    "OTMFZIP": "",
                                    "OTMFContact": "",
                                    "OTMFFaxNum": "",
                                    "OTMFPhoneNum": "",
                                    "OTMFCountryNum": "0",
                                    "RenewalNbr": "0",
                                    "ShipOvers": "0",
                                    "AllowedOvers": "0.00000",
                                    "AllowedUnders": "0.00000",
                                    "SysRevID": "0x00000004A327AABA",
                                    "SysRowID": "be5279ea-09b3-4f10-af4e-27d1a0ed6fea",
                                    "NotAllocatedQty": "0.00000000",
                                    "PCID": "",
                                    "PCIDItemSeq": "0",
                                    "DockingStation": "",
                                    "UseShipDtlInfo": "0",
                                    "PkgCodePartNum": "",
                                    "CustContainerPartNum": "",
                                    "LabelType": "",
                                    "WarrantySendToFSA": "0",
                                    "FSAEquipment": "0",
                                    "AttributeSetID": "0",
                                    "InventoryNumberOfPieces": "0",
                                    "JobNumberOfPieces": "0",
                                    "MXEstValue": "0.000",
                                    "MXEstValueCurrencyCode": "",
                                    "MXHazardousShipment": "0",
                                    "MXHazardousType": "",
                                    "MXPackageType": "",
                                    "CNDeclarationBillLine": "0",
                                    "JobNotAllocatedQty": "0.00000000",
                                    "JobPickedAutoAllocatedQty": "0.00000000"
                                },
                                {
                                    "Company": "SOLAR",
                                    "PackNum": "217163",
                                    "PackLine": "1",
                                    "OrderNum": "4001175",
                                    "OrderLine": "1",
                                    "OrderRelNum": "1",
                                    "LineType": "PART",
                                    "OurInventoryShipQty": "0.00000000",
                                    "OurJobShipQty": "1.00000000",
                                    "JobNum": "23-1713-0001",
                                    "Packages": "1",
                                    "PartNum": "SG4F01-0614-A4",
                                    "LineDesc": "Model: C4SF-1-4XF",
                                    "IUM": "EA",
                                    "RevisionNum": "",
                                    "ShipComment": "",
                                    "ShipCmpl": "1",
                                    "WarehouseCode": "MAINGPPR",
                                    "BinNum": "",
                                    "UpdatedInventory": "0",
                                    "XPartNum": "",
                                    "XRevisionNum": "",
                                    "ShpConNum": "0",
                                    "TMBilling": "0",
                                    "Invoiced": "0",
                                    "WUM": "LB",
                                    "LotNum": "",
                                    "DimCode": "",
                                    "DUM": "",
                                    "DimConvFactor": "1.00000000",
                                    "InvoiceComment": "",
                                    "WarrantyCode": "",
                                    "CustNum": "93",
                                    "ShipToNum": "",
                                    "EffectiveDate": "NULL",
                                    "MaterialDuration": "0",
                                    "LaborDuration": "0",
                                    "MiscDuration": "0",
                                    "MaterialMod": "",
                                    "LaborMod": "",
                                    "MiscMod": "",
                                    "MaterialExpiration": "NULL",
                                    "LaborExpiration": "NULL",
                                    "MiscExpiration": "NULL",
                                    "LastExpiration": "NULL",
                                    "WarrantyComment": "",
                                    "ContractNum": "0",
                                    "ContractCode": "",
                                    "Onsite": "0",
                                    "MatCovered": "0",
                                    "LabCovered": "0",
                                    "MiscCovered": "0",
                                    "Plant": "GRRP",
                                    "ReadyToInvoice": "1",
                                    "SellingInventoryShipQty": "0.00000000",
                                    "SellingJobShipQty": "1.00000000",
                                    "SellingFactor": "1.00000000",
                                    "SalesUM": "EA",
                                    "TotalNetWeight": "0.00000",
                                    "WIPWarehouseCode": "MAINGPPR",
                                    "WIPBinNum": "A-1",
                                    "SellingFactorDirection": "D",
                                    "HeaderShipComment": "",
                                    "KitParentLine": "0",
                                    "ChangedBy": "jcarpenter",
                                    "ChangeDate": "2023-10-17",
                                    "ChangeTime": "39228",
                                    "InventoryShipUOM": "EA",
                                    "JobShipUOM": "EA",
                                    "TrackSerialNum": "0",
                                    "JobLotNum": "",
                                    "BinType": "",
                                    "NotCompliant": "0",
                                    "ComplianceMsg": "",
                                    "DiscountPercent": "0.00",
                                    "PricePerCode": "",
                                    "Discount": "0.000",
                                    "DocDiscount": "0.000",
                                    "Rpt1Discount": "0.000",
                                    "Rpt2Discount": "0.000",
                                    "Rpt3Discount": "0.000",
                                    "ExtPrice": "0.000",
                                    "DocExtPrice": "0.000",
                                    "Rpt1ExtPrice": "0.000",
                                    "Rpt2ExtPrice": "0.000",
                                    "Rpt3ExtPrice": "0.000",
                                    "UnitPrice": "0.00000",
                                    "DocUnitPrice": "0.00000",
                                    "Rpt1UnitPrice": "0.00000",
                                    "Rpt2UnitPrice": "0.00000",
                                    "Rpt3UnitPrice": "0.00000",
                                    "PickedAutoAllocatedQty": "0.00000000",
                                    "ShipToCustNum": "93",
                                    "InDiscount": "0.000",
                                    "DocInDiscount": "0.000",
                                    "Rpt1InDiscount": "0.000",
                                    "Rpt2InDiscount": "0.000",
                                    "Rpt3InDiscount": "0.000",
                                    "InExtPrice": "0.000",
                                    "DocInExtPrice": "0.000",
                                    "Rpt1InExtPrice": "0.000",
                                    "Rpt2InExtPrice": "0.000",
                                    "Rpt3InExtPrice": "0.000",
                                    "InUnitPrice": "0.00000",
                                    "DocInUnitPrice": "0.00000",
                                    "Rpt1InUnitPrice": "0.00000",
                                    "Rpt2InUnitPrice": "0.00000",
                                    "Rpt3InUnitPrice": "0.00000",
                                    "InPrice": "0",
                                    "Obs10_PkgNum": "0",
                                    "Obs10_PkgLine": "0",
                                    "MFCustNum": "93",
                                    "MFShipToNum": "",
                                    "UseOTMF": "0",
                                    "OTMFName": "",
                                    "OTMFAddress1": "",
                                    "OTMFAddress2": "",
                                    "OTMFAddress3": "",
                                    "OTMFCity": "",
                                    "OTMFState": "",
                                    "OTMFZIP": "",
                                    "OTMFContact": "",
                                    "OTMFFaxNum": "",
                                    "OTMFPhoneNum": "",
                                    "OTMFCountryNum": "0",
                                    "RenewalNbr": "0",
                                    "ShipOvers": "0",
                                    "AllowedOvers": "0.00000",
                                    "AllowedUnders": "0.00000",
                                    "SysRevID": "0x00000004A65AC958",
                                    "SysRowID": "624f4c80-de3f-4aa1-b58a-031afa03184d",
                                    "NotAllocatedQty": "0.00000000",
                                    "PCID": "",
                                    "PCIDItemSeq": "0",
                                    "DockingStation": "",
                                    "UseShipDtlInfo": "0",
                                    "PkgCodePartNum": "",
                                    "CustContainerPartNum": "",
                                    "LabelType": "",
                                    "WarrantySendToFSA": "0",
                                    "FSAEquipment": "0",
                                    "AttributeSetID": "0",
                                    "InventoryNumberOfPieces": "0",
                                    "JobNumberOfPieces": "0",
                                    "MXEstValue": "0.000",
                                    "MXEstValueCurrencyCode": "",
                                    "MXHazardousShipment": "0",
                                    "MXHazardousType": "",
                                    "MXPackageType": "",
                                    "CNDeclarationBillLine": "0",
                                    "JobNotAllocatedQty": "0.00000000",
                                    "JobPickedAutoAllocatedQty": "1.00000000"
                                },
                                {
                                    "Company": "SOLAR",
                                    "PackNum": "217179",
                                    "PackLine": "2",
                                    "OrderNum": "4001096",
                                    "OrderLine": "4",
                                    "OrderRelNum": "1",
                                    "LineType": "PART",
                                    "OurInventoryShipQty": "0.00000000",
                                    "OurJobShipQty": "240.00000000",
                                    "JobNum": "23-1574-0002",
                                    "Packages": "1",
                                    "PartNum": "CLSFT4018-0712-B5",
                                    "LineDesc": "Model: CSFT400-18-25-N4",
                                    "IUM": "EA",
                                    "RevisionNum": "",
                                    "ShipComment": "",
                                    "ShipCmpl": "1",
                                    "WarehouseCode": "MAINGPPR",
                                    "BinNum": "",
                                    "UpdatedInventory": "0",
                                    "XPartNum": "",
                                    "XRevisionNum": "",
                                    "ShpConNum": "0",
                                    "TMBilling": "0",
                                    "Invoiced": "0",
                                    "WUM": "LB",
                                    "LotNum": "",
                                    "DimCode": "",
                                    "DUM": "",
                                    "DimConvFactor": "1.00000000",
                                    "InvoiceComment": "",
                                    "WarrantyCode": "",
                                    "CustNum": "1475",
                                    "ShipToNum": "5",
                                    "EffectiveDate": "NULL",
                                    "MaterialDuration": "0",
                                    "LaborDuration": "0",
                                    "MiscDuration": "0",
                                    "MaterialMod": "",
                                    "LaborMod": "",
                                    "MiscMod": "",
                                    "MaterialExpiration": "NULL",
                                    "LaborExpiration": "NULL",
                                    "MiscExpiration": "NULL",
                                    "LastExpiration": "NULL",
                                    "WarrantyComment": "",
                                    "ContractNum": "0",
                                    "ContractCode": "",
                                    "Onsite": "0",
                                    "MatCovered": "0",
                                    "LabCovered": "0",
                                    "MiscCovered": "0",
                                    "Plant": "GRRP",
                                    "ReadyToInvoice": "1",
                                    "SellingInventoryShipQty": "0.00000000",
                                    "SellingJobShipQty": "240.00000000",
                                    "SellingFactor": "1.00000000",
                                    "SalesUM": "EA",
                                    "TotalNetWeight": "0.00000",
                                    "WIPWarehouseCode": "MAINGPPR",
                                    "WIPBinNum": "A-1",
                                    "SellingFactorDirection": "D",
                                    "HeaderShipComment": "",
                                    "KitParentLine": "0",
                                    "ChangedBy": "jcarpenter",
                                    "ChangeDate": "2023-10-19",
                                    "ChangeTime": "66004",
                                    "InventoryShipUOM": "EA",
                                    "JobShipUOM": "EA",
                                    "TrackSerialNum": "0",
                                    "JobLotNum": "",
                                    "BinType": "",
                                    "NotCompliant": "0",
                                    "ComplianceMsg": "",
                                    "DiscountPercent": "0.00",
                                    "PricePerCode": "",
                                    "Discount": "0.000",
                                    "DocDiscount": "0.000",
                                    "Rpt1Discount": "0.000",
                                    "Rpt2Discount": "0.000",
                                    "Rpt3Discount": "0.000",
                                    "ExtPrice": "0.000",
                                    "DocExtPrice": "0.000",
                                    "Rpt1ExtPrice": "0.000",
                                    "Rpt2ExtPrice": "0.000",
                                    "Rpt3ExtPrice": "0.000",
                                    "UnitPrice": "0.00000",
                                    "DocUnitPrice": "0.00000",
                                    "Rpt1UnitPrice": "0.00000",
                                    "Rpt2UnitPrice": "0.00000",
                                    "Rpt3UnitPrice": "0.00000",
                                    "PickedAutoAllocatedQty": "0.00000000",
                                    "ShipToCustNum": "1475",
                                    "InDiscount": "0.000",
                                    "DocInDiscount": "0.000",
                                    "Rpt1InDiscount": "0.000",
                                    "Rpt2InDiscount": "0.000",
                                    "Rpt3InDiscount": "0.000",
                                    "InExtPrice": "0.000",
                                    "DocInExtPrice": "0.000",
                                    "Rpt1InExtPrice": "0.000",
                                    "Rpt2InExtPrice": "0.000",
                                    "Rpt3InExtPrice": "0.000",
                                    "InUnitPrice": "0.00000",
                                    "DocInUnitPrice": "0.00000",
                                    "Rpt1InUnitPrice": "0.00000",
                                    "Rpt2InUnitPrice": "0.00000",
                                    "Rpt3InUnitPrice": "0.00000",
                                    "InPrice": "0",
                                    "Obs10_PkgNum": "0",
                                    "Obs10_PkgLine": "0",
                                    "MFCustNum": "1475",
                                    "MFShipToNum": "5",
                                    "UseOTMF": "0",
                                    "OTMFName": "",
                                    "OTMFAddress1": "",
                                    "OTMFAddress2": "",
                                    "OTMFAddress3": "",
                                    "OTMFCity": "",
                                    "OTMFState": "",
                                    "OTMFZIP": "",
                                    "OTMFContact": "",
                                    "OTMFFaxNum": "",
                                    "OTMFPhoneNum": "",
                                    "OTMFCountryNum": "0",
                                    "RenewalNbr": "0",
                                    "ShipOvers": "0",
                                    "AllowedOvers": "0.00000",
                                    "AllowedUnders": "0.00000",
                                    "SysRevID": "0x00000004AA5EC53F",
                                    "SysRowID": "88ba33ab-5b94-4e67-ab44-bdf9ba82d60c",
                                    "NotAllocatedQty": "0.00000000",
                                    "PCID": "",
                                    "PCIDItemSeq": "0",
                                    "DockingStation": "",
                                    "UseShipDtlInfo": "0",
                                    "PkgCodePartNum": "",
                                    "CustContainerPartNum": "",
                                    "LabelType": "",
                                    "WarrantySendToFSA": "0",
                                    "FSAEquipment": "0",
                                    "AttributeSetID": "0",
                                    "InventoryNumberOfPieces": "0",
                                    "JobNumberOfPieces": "0",
                                    "MXEstValue": "0.000",
                                    "MXEstValueCurrencyCode": "",
                                    "MXHazardousShipment": "0",
                                    "MXHazardousType": "",
                                    "MXPackageType": "",
                                    "CNDeclarationBillLine": "0",
                                    "JobNotAllocatedQty": "240.00000000",
                                    "JobPickedAutoAllocatedQty": "0.00000000"
                                }
                            ]
                        },
                        "text/html": "<table><tr><th>Company</th><th>PackNum</th><th>PackLine</th><th>OrderNum</th><th>OrderLine</th><th>OrderRelNum</th><th>LineType</th><th>OurInventoryShipQty</th><th>OurJobShipQty</th><th>JobNum</th><th>Packages</th><th>PartNum</th><th>LineDesc</th><th>IUM</th><th>RevisionNum</th><th>ShipComment</th><th>ShipCmpl</th><th>WarehouseCode</th><th>BinNum</th><th>UpdatedInventory</th><th>XPartNum</th><th>XRevisionNum</th><th>ShpConNum</th><th>TMBilling</th><th>Invoiced</th><th>WUM</th><th>LotNum</th><th>DimCode</th><th>DUM</th><th>DimConvFactor</th><th>InvoiceComment</th><th>WarrantyCode</th><th>CustNum</th><th>ShipToNum</th><th>EffectiveDate</th><th>MaterialDuration</th><th>LaborDuration</th><th>MiscDuration</th><th>MaterialMod</th><th>LaborMod</th><th>MiscMod</th><th>MaterialExpiration</th><th>LaborExpiration</th><th>MiscExpiration</th><th>LastExpiration</th><th>WarrantyComment</th><th>ContractNum</th><th>ContractCode</th><th>Onsite</th><th>MatCovered</th><th>LabCovered</th><th>MiscCovered</th><th>Plant</th><th>ReadyToInvoice</th><th>SellingInventoryShipQty</th><th>SellingJobShipQty</th><th>SellingFactor</th><th>SalesUM</th><th>TotalNetWeight</th><th>WIPWarehouseCode</th><th>WIPBinNum</th><th>SellingFactorDirection</th><th>HeaderShipComment</th><th>KitParentLine</th><th>ChangedBy</th><th>ChangeDate</th><th>ChangeTime</th><th>InventoryShipUOM</th><th>JobShipUOM</th><th>TrackSerialNum</th><th>JobLotNum</th><th>BinType</th><th>NotCompliant</th><th>ComplianceMsg</th><th>DiscountPercent</th><th>PricePerCode</th><th>Discount</th><th>DocDiscount</th><th>Rpt1Discount</th><th>Rpt2Discount</th><th>Rpt3Discount</th><th>ExtPrice</th><th>DocExtPrice</th><th>Rpt1ExtPrice</th><th>Rpt2ExtPrice</th><th>Rpt3ExtPrice</th><th>UnitPrice</th><th>DocUnitPrice</th><th>Rpt1UnitPrice</th><th>Rpt2UnitPrice</th><th>Rpt3UnitPrice</th><th>PickedAutoAllocatedQty</th><th>ShipToCustNum</th><th>InDiscount</th><th>DocInDiscount</th><th>Rpt1InDiscount</th><th>Rpt2InDiscount</th><th>Rpt3InDiscount</th><th>InExtPrice</th><th>DocInExtPrice</th><th>Rpt1InExtPrice</th><th>Rpt2InExtPrice</th><th>Rpt3InExtPrice</th><th>InUnitPrice</th><th>DocInUnitPrice</th><th>Rpt1InUnitPrice</th><th>Rpt2InUnitPrice</th><th>Rpt3InUnitPrice</th><th>InPrice</th><th>Obs10_PkgNum</th><th>Obs10_PkgLine</th><th>MFCustNum</th><th>MFShipToNum</th><th>UseOTMF</th><th>OTMFName</th><th>OTMFAddress1</th><th>OTMFAddress2</th><th>OTMFAddress3</th><th>OTMFCity</th><th>OTMFState</th><th>OTMFZIP</th><th>OTMFContact</th><th>OTMFFaxNum</th><th>OTMFPhoneNum</th><th>OTMFCountryNum</th><th>RenewalNbr</th><th>ShipOvers</th><th>AllowedOvers</th><th>AllowedUnders</th><th>SysRevID</th><th>SysRowID</th><th>NotAllocatedQty</th><th>PCID</th><th>PCIDItemSeq</th><th>DockingStation</th><th>UseShipDtlInfo</th><th>PkgCodePartNum</th><th>CustContainerPartNum</th><th>LabelType</th><th>WarrantySendToFSA</th><th>FSAEquipment</th><th>AttributeSetID</th><th>InventoryNumberOfPieces</th><th>JobNumberOfPieces</th><th>MXEstValue</th><th>MXEstValueCurrencyCode</th><th>MXHazardousShipment</th><th>MXHazardousType</th><th>MXPackageType</th><th>CNDeclarationBillLine</th><th>JobNotAllocatedQty</th><th>JobPickedAutoAllocatedQty</th></tr><tr><td>SOLAR</td><td>217157</td><td>1</td><td>4001152</td><td>1</td><td>1</td><td>PART</td><td>0.00000000</td><td>1.00000000</td><td>23-1648-0001</td><td>1</td><td>CLGK2512-2580-A1</td><td>Model: CSK250-12-20-4XF</td><td>EA</td><td>0</td><td></td><td>1</td><td>MAINGPPR</td><td></td><td>0</td><td></td><td></td><td>0</td><td>0</td><td>0</td><td>LB</td><td></td><td></td><td></td><td>1.00000000</td><td></td><td></td><td>1913</td><td></td><td>NULL</td><td>0</td><td>0</td><td>0</td><td></td><td></td><td></td><td>NULL</td><td>NULL</td><td>NULL</td><td>NULL</td><td></td><td>0</td><td></td><td>0</td><td>0</td><td>0</td><td>0</td><td>GRRP</td><td>1</td><td>0.00000000</td><td>1.00000000</td><td>1.00000000</td><td>EA</td><td>0.00000</td><td>MAINGPPR</td><td>A-1</td><td>D</td><td></td><td>0</td><td>jcarpenter</td><td>2023-10-12</td><td>44244</td><td>EA</td><td>EA</td><td>0</td><td></td><td></td><td>0</td><td></td><td>0.00</td><td></td><td>0.000</td><td>0.000</td><td>0.000</td><td>0.000</td><td>0.000</td><td>0.000</td><td>0.000</td><td>0.000</td><td>0.000</td><td>0.000</td><td>0.00000</td><td>0.00000</td><td>0.00000</td><td>0.00000</td><td>0.00000</td><td>0.00000000</td><td>1913</td><td>0.000</td><td>0.000</td><td>0.000</td><td>0.000</td><td>0.000</td><td>0.000</td><td>0.000</td><td>0.000</td><td>0.000</td><td>0.000</td><td>0.00000</td><td>0.00000</td><td>0.00000</td><td>0.00000</td><td>0.00000</td><td>0</td><td>0</td><td>0</td><td>1913</td><td></td><td>0</td><td></td><td></td><td></td><td></td><td></td><td></td><td></td><td></td><td></td><td></td><td>0</td><td>0</td><td>0</td><td>0.00000</td><td>0.00000</td><td>0x00000004A3AD706D</td><td>fe164779-6c85-4b59-b22c-fda7e7f8373b</td><td>0.00000000</td><td></td><td>0</td><td></td><td>0</td><td></td><td></td><td></td><td>0</td><td>0</td><td>0</td><td>0</td><td>0</td><td>0.000</td><td></td><td>0</td><td></td><td></td><td>0</td><td>0.00000000</td><td>0.00000000</td></tr><tr><td>SOLAR</td><td>217155</td><td>1</td><td>4001098</td><td>1</td><td>1</td><td>PART</td><td>0.00000000</td><td>1.00000000</td><td>23-1584-0001</td><td>1</td><td>AOGZ010-3009-B1</td><td>Model: ACC1000-10-125-N4</td><td>EA</td><td>0</td><td></td><td>1</td><td>MAINGPPR</td><td></td><td>0</td><td></td><td></td><td>0</td><td>0</td><td>0</td><td>LB</td><td></td><td></td><td></td><td>1.00000000</td><td></td><td></td><td>546</td><td></td><td>NULL</td><td>0</td><td>0</td><td>0</td><td></td><td></td><td></td><td>NULL</td><td>NULL</td><td>NULL</td><td>NULL</td><td></td><td>0</td><td></td><td>0</td><td>0</td><td>0</td><td>0</td><td>GRRP</td><td>1</td><td>0.00000000</td><td>1.00000000</td><td>1.00000000</td><td>EA</td><td>0.00000</td><td>MAINGPPR</td><td>A-1</td><td>D</td><td></td><td>0</td><td>jcarpenter</td><td>2023-10-12</td><td>21971</td><td>EA</td><td>EA</td><td>0</td><td></td><td></td><td>0</td><td></td><td>0.00</td><td></td><td>0.000</td><td>0.000</td><td>0.000</td><td>0.000</td><td>0.000</td><td>0.000</td><td>0.000</td><td>0.000</td><td>0.000</td><td>0.000</td><td>0.00000</td><td>0.00000</td><td>0.00000</td><td>0.00000</td><td>0.00000</td><td>0.00000000</td><td>546</td><td>0.000</td><td>0.000</td><td>0.000</td><td>0.000</td><td>0.000</td><td>0.000</td><td>0.000</td><td>0.000</td><td>0.000</td><td>0.000</td><td>0.00000</td><td>0.00000</td><td>0.00000</td><td>0.00000</td><td>0.00000</td><td>0</td><td>0</td><td>0</td><td>546</td><td></td><td>0</td><td></td><td></td><td></td><td></td><td></td><td></td><td></td><td></td><td></td><td></td><td>0</td><td>0</td><td>0</td><td>0.00000</td><td>0.00000</td><td>0x00000004A327B701</td><td>64ba978f-d4c3-43bc-a34e-8e422caa425e</td><td>0.00000000</td><td></td><td>0</td><td></td><td>0</td><td></td><td></td><td></td><td>0</td><td>0</td><td>0</td><td>0</td><td>0</td><td>0.000</td><td></td><td>0</td><td></td><td></td><td>0</td><td>0.00000000</td><td>0.00000000</td></tr><tr><td>SOLAR</td><td>217151</td><td>1</td><td>4001090</td><td>1</td><td>1</td><td>PART</td><td>0.00000000</td><td>25.00000000</td><td>23-1554-0001</td><td>1</td><td>CLSF4020-1034-A1</td><td>Model: CSF400-20-25-N4</td><td>EA</td><td>0</td><td></td><td>1</td><td>MAINGPPR</td><td></td><td>0</td><td></td><td></td><td>0</td><td>0</td><td>0</td><td>LB</td><td></td><td></td><td></td><td>1.00000000</td><td></td><td></td><td>1812</td><td></td><td>NULL</td><td>0</td><td>0</td><td>0</td><td></td><td></td><td></td><td>NULL</td><td>NULL</td><td>NULL</td><td>NULL</td><td></td><td>0</td><td></td><td>0</td><td>0</td><td>0</td><td>0</td><td>GRRP</td><td>1</td><td>0.00000000</td><td>25.00000000</td><td>1.00000000</td><td>EA</td><td>0.00000</td><td>MAINGPPR</td><td>A-1</td><td>D</td><td></td><td>0</td><td>jcarpenter</td><td>2023-10-12</td><td>19617</td><td>EA</td><td>EA</td><td>0</td><td></td><td></td><td>0</td><td></td><td>0.00</td><td></td><td>0.000</td><td>0.000</td><td>0.000</td><td>0.000</td><td>0.000</td><td>0.000</td><td>0.000</td><td>0.000</td><td>0.000</td><td>0.000</td><td>0.00000</td><td>0.00000</td><td>0.00000</td><td>0.00000</td><td>0.00000</td><td>0.00000000</td><td>1812</td><td>0.000</td><td>0.000</td><td>0.000</td><td>0.000</td><td>0.000</td><td>0.000</td><td>0.000</td><td>0.000</td><td>0.000</td><td>0.000</td><td>0.00000</td><td>0.00000</td><td>0.00000</td><td>0.00000</td><td>0.00000</td><td>0</td><td>0</td><td>0</td><td>1812</td><td></td><td>0</td><td></td><td></td><td></td><td></td><td></td><td></td><td></td><td></td><td></td><td></td><td>0</td><td>0</td><td>0</td><td>0.00000</td><td>0.00000</td><td>0x00000004A3279DC1</td><td>4b52caa7-a0a7-4503-9e9c-e78bf374d9ad</td><td>0.00000000</td><td></td><td>0</td><td></td><td>0</td><td></td><td></td><td></td><td>0</td><td>0</td><td>0</td><td>0</td><td>0</td><td>0.000</td><td></td><td>0</td><td></td><td></td><td>0</td><td>0.00000000</td><td>0.00000000</td></tr><tr><td>SOLAR</td><td>217164</td><td>1</td><td>4001069</td><td>1</td><td>1</td><td>PART</td><td>0.00000000</td><td>1.00000000</td><td>23-1378-0001</td><td>1</td><td>AOGZ010-3009-A1</td><td>Model: ACC1000-10-125-N4</td><td>EA</td><td>0</td><td></td><td>1</td><td>MAINGPPR</td><td></td><td>0</td><td></td><td></td><td>0</td><td>0</td><td>0</td><td>LB</td><td></td><td></td><td></td><td>1.00000000</td><td></td><td></td><td>546</td><td></td><td>NULL</td><td>0</td><td>0</td><td>0</td><td></td><td></td><td></td><td>NULL</td><td>NULL</td><td>NULL</td><td>NULL</td><td></td><td>0</td><td></td><td>0</td><td>0</td><td>0</td><td>0</td><td>GRRP</td><td>1</td><td>0.00000000</td><td>1.00000000</td><td>1.00000000</td><td>EA</td><td>0.00000</td><td>MAINGPPR</td><td>A-1</td><td>D</td><td></td><td>0</td><td>jcarpenter</td><td>2023-10-17</td><td>50834</td><td>EA</td><td>EA</td><td>0</td><td></td><td></td><td>0</td><td></td><td>0.00</td><td></td><td>0.000</td><td>0.000</td><td>0.000</td><td>0.000</td><td>0.000</td><td>0.000</td><td>0.000</td><td>0.000</td><td>0.000</td><td>0.000</td><td>0.00000</td><td>0.00000</td><td>0.00000</td><td>0.00000</td><td>0.00000</td><td>0.00000000</td><td>546</td><td>0.000</td><td>0.000</td><td>0.000</td><td>0.000</td><td>0.000</td><td>0.000</td><td>0.000</td><td>0.000</td><td>0.000</td><td>0.000</td><td>0.00000</td><td>0.00000</td><td>0.00000</td><td>0.00000</td><td>0.00000</td><td>0</td><td>0</td><td>0</td><td>546</td><td></td><td>0</td><td></td><td></td><td></td><td></td><td></td><td></td><td></td><td></td><td></td><td></td><td>0</td><td>0</td><td>0</td><td>0.00000</td><td>0.00000</td><td>0x00000004A69D3AAC</td><td>310efd82-13fd-4154-98f4-f35869df39f1</td><td>0.00000000</td><td></td><td>0</td><td></td><td>0</td><td></td><td></td><td></td><td>0</td><td>0</td><td>0</td><td>0</td><td>0</td><td>0.000</td><td></td><td>0</td><td></td><td></td><td>0</td><td>1.00000000</td><td>0.00000000</td></tr><tr><td>SOLAR</td><td>217169</td><td>1</td><td>4001199</td><td>1</td><td>1</td><td>PART</td><td>0.00000000</td><td>1.00000000</td><td>23-1615-0001</td><td>1</td><td>CLSFT4010-0715-C1</td><td>Model: CDFT400-10-40-N4</td><td>EA</td><td></td><td></td><td>1</td><td>MAINGPPR</td><td></td><td>0</td><td></td><td></td><td>0</td><td>0</td><td>0</td><td>LB</td><td></td><td></td><td></td><td>1.00000000</td><td></td><td></td><td>1704</td><td>39</td><td>NULL</td><td>0</td><td>0</td><td>0</td><td></td><td></td><td></td><td>NULL</td><td>NULL</td><td>NULL</td><td>NULL</td><td></td><td>0</td><td></td><td>0</td><td>0</td><td>0</td><td>0</td><td>GRRP</td><td>1</td><td>0.00000000</td><td>1.00000000</td><td>1.00000000</td><td>EA</td><td>0.00000</td><td>MAINGPPR</td><td>A-1</td><td>D</td><td></td><td>0</td><td>jcarpenter</td><td>2023-10-18</td><td>38601</td><td>EA</td><td>EA</td><td>0</td><td></td><td></td><td>0</td><td></td><td>0.00</td><td></td><td>0.000</td><td>0.000</td><td>0.000</td><td>0.000</td><td>0.000</td><td>0.000</td><td>0.000</td><td>0.000</td><td>0.000</td><td>0.000</td><td>0.00000</td><td>0.00000</td><td>0.00000</td><td>0.00000</td><td>0.00000</td><td>0.00000000</td><td>1704</td><td>0.000</td><td>0.000</td><td>0.000</td><td>0.000</td><td>0.000</td><td>0.000</td><td>0.000</td><td>0.000</td><td>0.000</td><td>0.000</td><td>0.00000</td><td>0.00000</td><td>0.00000</td><td>0.00000</td><td>0.00000</td><td>0</td><td>0</td><td>0</td><td>1704</td><td>39</td><td>0</td><td></td><td></td><td></td><td></td><td></td><td></td><td></td><td></td><td></td><td></td><td>0</td><td>0</td><td>0</td><td>0.00000</td><td>0.00000</td><td>0x00000004A7A22A2B</td><td>68597c62-ef11-46d4-a003-9c261dca186a</td><td>0.00000000</td><td></td><td>0</td><td></td><td>0</td><td></td><td></td><td></td><td>0</td><td>0</td><td>0</td><td>0</td><td>0</td><td>0.000</td><td></td><td>0</td><td></td><td></td><td>0</td><td>1.00000000</td><td>0.00000000</td></tr><tr><td>SOLAR</td><td>217172</td><td>1</td><td>4001125</td><td>1</td><td>1</td><td>PART</td><td>0.00000000</td><td>2.00000000</td><td>23-1643-0001</td><td>1</td><td>SLF2K0301-0581-A1</td><td>Model: F2SK32-1-4XP</td><td>EA</td><td></td><td></td><td>1</td><td>MAINGPPR</td><td></td><td>0</td><td></td><td></td><td>0</td><td>0</td><td>0</td><td>LB</td><td></td><td></td><td></td><td>1.00000000</td><td></td><td></td><td>903</td><td>4</td><td>NULL</td><td>0</td><td>0</td><td>0</td><td></td><td></td><td></td><td>NULL</td><td>NULL</td><td>NULL</td><td>NULL</td><td></td><td>0</td><td></td><td>0</td><td>0</td><td>0</td><td>0</td><td>GRRP</td><td>1</td><td>0.00000000</td><td>2.00000000</td><td>1.00000000</td><td>EA</td><td>0.00000</td><td>MAINGPPR</td><td>A-1</td><td>D</td><td></td><td>0</td><td>jcarpenter</td><td>2023-10-18</td><td>43260</td><td>EA</td><td>EA</td><td>0</td><td></td><td></td><td>0</td><td></td><td>0.00</td><td></td><td>0.000</td><td>0.000</td><td>0.000</td><td>0.000</td><td>0.000</td><td>0.000</td><td>0.000</td><td>0.000</td><td>0.000</td><td>0.000</td><td>0.00000</td><td>0.00000</td><td>0.00000</td><td>0.00000</td><td>0.00000</td><td>0.00000000</td><td>903</td><td>0.000</td><td>0.000</td><td>0.000</td><td>0.000</td><td>0.000</td><td>0.000</td><td>0.000</td><td>0.000</td><td>0.000</td><td>0.000</td><td>0.00000</td><td>0.00000</td><td>0.00000</td><td>0.00000</td><td>0.00000</td><td>0</td><td>0</td><td>0</td><td>903</td><td>4</td><td>0</td><td></td><td></td><td></td><td></td><td></td><td></td><td></td><td></td><td></td><td></td><td>0</td><td>0</td><td>0</td><td>0.00000</td><td>0.00000</td><td>0x00000004A7A29E0E</td><td>f4afe457-8e61-4931-98b2-46a4bce139c2</td><td>0.00000000</td><td></td><td>0</td><td></td><td>0</td><td></td><td></td><td></td><td>0</td><td>0</td><td>0</td><td>0</td><td>0</td><td>0.000</td><td></td><td>0</td><td></td><td></td><td>0</td><td>2.00000000</td><td>0.00000000</td></tr><tr><td>SOLAR</td><td>217158</td><td>2</td><td>4001225</td><td>3</td><td>1</td><td>PART</td><td>3500.00000000</td><td>0.00000000</td><td></td><td>1</td><td>WSH-M10-BELL</td><td>Model: M10 HARDWARE</td><td>EA</td><td></td><td></td><td>1</td><td>MAINGPPR</td><td>A-1</td><td>1</td><td></td><td></td><td>0</td><td>0</td><td>0</td><td>LB</td><td></td><td></td><td></td><td>1.00000000</td><td></td><td></td><td>1395</td><td></td><td>NULL</td><td>0</td><td>0</td><td>0</td><td></td><td></td><td></td><td>NULL</td><td>NULL</td><td>NULL</td><td>NULL</td><td></td><td>0</td><td></td><td>0</td><td>0</td><td>0</td><td>0</td><td>GRRP</td><td>1</td><td>3500.00000000</td><td>0.00000000</td><td>1.00000000</td><td>EA</td><td>0.00000</td><td></td><td></td><td>D</td><td></td><td>0</td><td>jcarpenter</td><td>2023-10-12</td><td>50963</td><td>EA</td><td>EA</td><td>0</td><td></td><td>Std</td><td>0</td><td></td><td>0.00</td><td></td><td>0.000</td><td>0.000</td><td>0.000</td><td>0.000</td><td>0.000</td><td>0.000</td><td>0.000</td><td>0.000</td><td>0.000</td><td>0.000</td><td>0.00000</td><td>0.00000</td><td>0.00000</td><td>0.00000</td><td>0.00000</td><td>0.00000000</td><td>1395</td><td>0.000</td><td>0.000</td><td>0.000</td><td>0.000</td><td>0.000</td><td>0.000</td><td>0.000</td><td>0.000</td><td>0.000</td><td>0.000</td><td>0.00000</td><td>0.00000</td><td>0.00000</td><td>0.00000</td><td>0.00000</td><td>0</td><td>0</td><td>0</td><td>1395</td><td></td><td>0</td><td></td><td></td><td></td><td></td><td></td><td></td><td></td><td></td><td></td><td></td><td>0</td><td>0</td><td>0</td><td>0.00000</td><td>0.00000</td><td>0x00000004A3C48C1C</td><td>693e6e48-5be1-4751-9c95-4423c1be295e</td><td>0.00000000</td><td></td><td>0</td><td></td><td>0</td><td></td><td></td><td></td><td>0</td><td>0</td><td>0</td><td>0</td><td>0</td><td>0.000</td><td></td><td>0</td><td></td><td></td><td>0</td><td>0.00000000</td><td>0.00000000</td></tr><tr><td>SOLAR</td><td>217154</td><td>1</td><td>4001102</td><td>1</td><td>1</td><td>PART</td><td>0.00000000</td><td>1.00000000</td><td>23-1596-0001</td><td>1</td><td>SG4F01-0614-B1</td><td>Model: C4SF-1-N4</td><td>EA</td><td></td><td></td><td>1</td><td>MAINGPPR</td><td></td><td>0</td><td></td><td></td><td>0</td><td>0</td><td>0</td><td>LB</td><td></td><td></td><td></td><td>1.00000000</td><td></td><td></td><td>93</td><td></td><td>NULL</td><td>0</td><td>0</td><td>0</td><td></td><td></td><td></td><td>NULL</td><td>NULL</td><td>NULL</td><td>NULL</td><td></td><td>0</td><td></td><td>0</td><td>0</td><td>0</td><td>0</td><td>GRRP</td><td>1</td><td>0.00000000</td><td>1.00000000</td><td>1.00000000</td><td>EA</td><td>0.00000</td><td>MAINGPPR</td><td>A-1</td><td>D</td><td></td><td>0</td><td>jcarpenter</td><td>2023-10-12</td><td>20624</td><td>EA</td><td>EA</td><td>0</td><td></td><td></td><td>0</td><td></td><td>0.00</td><td></td><td>0.000</td><td>0.000</td><td>0.000</td><td>0.000</td><td>0.000</td><td>0.000</td><td>0.000</td><td>0.000</td><td>0.000</td><td>0.000</td><td>0.00000</td><td>0.00000</td><td>0.00000</td><td>0.00000</td><td>0.00000</td><td>0.00000000</td><td>93</td><td>0.000</td><td>0.000</td><td>0.000</td><td>0.000</td><td>0.000</td><td>0.000</td><td>0.000</td><td>0.000</td><td>0.000</td><td>0.000</td><td>0.00000</td><td>0.00000</td><td>0.00000</td><td>0.00000</td><td>0.00000</td><td>0</td><td>0</td><td>0</td><td>93</td><td></td><td>0</td><td></td><td></td><td></td><td></td><td></td><td></td><td></td><td></td><td></td><td></td><td>0</td><td>0</td><td>0</td><td>0.00000</td><td>0.00000</td><td>0x00000004A327AABA</td><td>be5279ea-09b3-4f10-af4e-27d1a0ed6fea</td><td>0.00000000</td><td></td><td>0</td><td></td><td>0</td><td></td><td></td><td></td><td>0</td><td>0</td><td>0</td><td>0</td><td>0</td><td>0.000</td><td></td><td>0</td><td></td><td></td><td>0</td><td>0.00000000</td><td>0.00000000</td></tr><tr><td>SOLAR</td><td>217163</td><td>1</td><td>4001175</td><td>1</td><td>1</td><td>PART</td><td>0.00000000</td><td>1.00000000</td><td>23-1713-0001</td><td>1</td><td>SG4F01-0614-A4</td><td>Model: C4SF-1-4XF</td><td>EA</td><td></td><td></td><td>1</td><td>MAINGPPR</td><td></td><td>0</td><td></td><td></td><td>0</td><td>0</td><td>0</td><td>LB</td><td></td><td></td><td></td><td>1.00000000</td><td></td><td></td><td>93</td><td></td><td>NULL</td><td>0</td><td>0</td><td>0</td><td></td><td></td><td></td><td>NULL</td><td>NULL</td><td>NULL</td><td>NULL</td><td></td><td>0</td><td></td><td>0</td><td>0</td><td>0</td><td>0</td><td>GRRP</td><td>1</td><td>0.00000000</td><td>1.00000000</td><td>1.00000000</td><td>EA</td><td>0.00000</td><td>MAINGPPR</td><td>A-1</td><td>D</td><td></td><td>0</td><td>jcarpenter</td><td>2023-10-17</td><td>39228</td><td>EA</td><td>EA</td><td>0</td><td></td><td></td><td>0</td><td></td><td>0.00</td><td></td><td>0.000</td><td>0.000</td><td>0.000</td><td>0.000</td><td>0.000</td><td>0.000</td><td>0.000</td><td>0.000</td><td>0.000</td><td>0.000</td><td>0.00000</td><td>0.00000</td><td>0.00000</td><td>0.00000</td><td>0.00000</td><td>0.00000000</td><td>93</td><td>0.000</td><td>0.000</td><td>0.000</td><td>0.000</td><td>0.000</td><td>0.000</td><td>0.000</td><td>0.000</td><td>0.000</td><td>0.000</td><td>0.00000</td><td>0.00000</td><td>0.00000</td><td>0.00000</td><td>0.00000</td><td>0</td><td>0</td><td>0</td><td>93</td><td></td><td>0</td><td></td><td></td><td></td><td></td><td></td><td></td><td></td><td></td><td></td><td></td><td>0</td><td>0</td><td>0</td><td>0.00000</td><td>0.00000</td><td>0x00000004A65AC958</td><td>624f4c80-de3f-4aa1-b58a-031afa03184d</td><td>0.00000000</td><td></td><td>0</td><td></td><td>0</td><td></td><td></td><td></td><td>0</td><td>0</td><td>0</td><td>0</td><td>0</td><td>0.000</td><td></td><td>0</td><td></td><td></td><td>0</td><td>0.00000000</td><td>1.00000000</td></tr><tr><td>SOLAR</td><td>217179</td><td>2</td><td>4001096</td><td>4</td><td>1</td><td>PART</td><td>0.00000000</td><td>240.00000000</td><td>23-1574-0002</td><td>1</td><td>CLSFT4018-0712-B5</td><td>Model: CSFT400-18-25-N4</td><td>EA</td><td></td><td></td><td>1</td><td>MAINGPPR</td><td></td><td>0</td><td></td><td></td><td>0</td><td>0</td><td>0</td><td>LB</td><td></td><td></td><td></td><td>1.00000000</td><td></td><td></td><td>1475</td><td>5</td><td>NULL</td><td>0</td><td>0</td><td>0</td><td></td><td></td><td></td><td>NULL</td><td>NULL</td><td>NULL</td><td>NULL</td><td></td><td>0</td><td></td><td>0</td><td>0</td><td>0</td><td>0</td><td>GRRP</td><td>1</td><td>0.00000000</td><td>240.00000000</td><td>1.00000000</td><td>EA</td><td>0.00000</td><td>MAINGPPR</td><td>A-1</td><td>D</td><td></td><td>0</td><td>jcarpenter</td><td>2023-10-19</td><td>66004</td><td>EA</td><td>EA</td><td>0</td><td></td><td></td><td>0</td><td></td><td>0.00</td><td></td><td>0.000</td><td>0.000</td><td>0.000</td><td>0.000</td><td>0.000</td><td>0.000</td><td>0.000</td><td>0.000</td><td>0.000</td><td>0.000</td><td>0.00000</td><td>0.00000</td><td>0.00000</td><td>0.00000</td><td>0.00000</td><td>0.00000000</td><td>1475</td><td>0.000</td><td>0.000</td><td>0.000</td><td>0.000</td><td>0.000</td><td>0.000</td><td>0.000</td><td>0.000</td><td>0.000</td><td>0.000</td><td>0.00000</td><td>0.00000</td><td>0.00000</td><td>0.00000</td><td>0.00000</td><td>0</td><td>0</td><td>0</td><td>1475</td><td>5</td><td>0</td><td></td><td></td><td></td><td></td><td></td><td></td><td></td><td></td><td></td><td></td><td>0</td><td>0</td><td>0</td><td>0.00000</td><td>0.00000</td><td>0x00000004AA5EC53F</td><td>88ba33ab-5b94-4e67-ab44-bdf9ba82d60c</td><td>0.00000000</td><td></td><td>0</td><td></td><td>0</td><td></td><td></td><td></td><td>0</td><td>0</td><td>0</td><td>0</td><td>0</td><td>0.000</td><td></td><td>0</td><td></td><td></td><td>0</td><td>240.00000000</td><td>0.00000000</td></tr></table>"
                    },
                    "metadata": {}
                }
            ],
            "execution_count": 13
        },
        {
            "cell_type": "code",
            "source": [
                "Select Top (10) *\r\n",
                "From erp.Shiphead\r\n",
                "Where Company = 'Solar'\r\n",
                "Order by ShipDate desc"
            ],
            "metadata": {
                "azdata_cell_guid": "ba0944e5-4fb9-446d-a4f9-06ca1a3f5b32",
                "language": "sql"
            },
            "outputs": [
                {
                    "output_type": "display_data",
                    "data": {
                        "text/html": "(10 rows affected)"
                    },
                    "metadata": {}
                },
                {
                    "output_type": "display_data",
                    "data": {
                        "text/html": "Total execution time: 00:00:01.210"
                    },
                    "metadata": {}
                },
                {
                    "output_type": "execute_result",
                    "execution_count": 16,
                    "data": {
                        "application/vnd.dataresource+json": {
                            "schema": {
                                "fields": [
                                    {
                                        "name": "Company"
                                    },
                                    {
                                        "name": "PackNum"
                                    },
                                    {
                                        "name": "ShipDate"
                                    },
                                    {
                                        "name": "ShipViaCode"
                                    },
                                    {
                                        "name": "ShipPerson"
                                    },
                                    {
                                        "name": "EntryPerson"
                                    },
                                    {
                                        "name": "ShipLog"
                                    },
                                    {
                                        "name": "LabelComment"
                                    },
                                    {
                                        "name": "ShipComment"
                                    },
                                    {
                                        "name": "Invoiced"
                                    },
                                    {
                                        "name": "ShipToNum"
                                    },
                                    {
                                        "name": "ReadyToInvoice"
                                    },
                                    {
                                        "name": "CustNum"
                                    },
                                    {
                                        "name": "Plant"
                                    },
                                    {
                                        "name": "TrackingNumber"
                                    },
                                    {
                                        "name": "LegalNumber"
                                    },
                                    {
                                        "name": "Voided"
                                    },
                                    {
                                        "name": "ExternalDeliveryNote"
                                    },
                                    {
                                        "name": "ExternalID"
                                    },
                                    {
                                        "name": "ICReceived"
                                    },
                                    {
                                        "name": "XRefPackNum"
                                    },
                                    {
                                        "name": "BTCustNum"
                                    },
                                    {
                                        "name": "BTConNum"
                                    },
                                    {
                                        "name": "ShipStatus"
                                    },
                                    {
                                        "name": "ShipGroup"
                                    },
                                    {
                                        "name": "PkgCode"
                                    },
                                    {
                                        "name": "PkgClass"
                                    },
                                    {
                                        "name": "Weight"
                                    },
                                    {
                                        "name": "ResDelivery"
                                    },
                                    {
                                        "name": "SatDelivery"
                                    },
                                    {
                                        "name": "SatPickup"
                                    },
                                    {
                                        "name": "VerbalConf"
                                    },
                                    {
                                        "name": "Hazmat"
                                    },
                                    {
                                        "name": "DocOnly"
                                    },
                                    {
                                        "name": "RefNotes"
                                    },
                                    {
                                        "name": "ApplyChrg"
                                    },
                                    {
                                        "name": "ChrgAmount"
                                    },
                                    {
                                        "name": "COD"
                                    },
                                    {
                                        "name": "CODFreight"
                                    },
                                    {
                                        "name": "CODCheck"
                                    },
                                    {
                                        "name": "CODAmount"
                                    },
                                    {
                                        "name": "GroundType"
                                    },
                                    {
                                        "name": "NotifyFlag"
                                    },
                                    {
                                        "name": "NotifyEMail"
                                    },
                                    {
                                        "name": "DeclaredIns"
                                    },
                                    {
                                        "name": "DeclaredAmt"
                                    },
                                    {
                                        "name": "MFTransNum"
                                    },
                                    {
                                        "name": "MFCallTag"
                                    },
                                    {
                                        "name": "MFPickupNum"
                                    },
                                    {
                                        "name": "MFDiscFreight"
                                    },
                                    {
                                        "name": "MFTemplate"
                                    },
                                    {
                                        "name": "MFUse3B"
                                    },
                                    {
                                        "name": "MF3BAccount"
                                    },
                                    {
                                        "name": "MFDimWeight"
                                    },
                                    {
                                        "name": "MFZone"
                                    },
                                    {
                                        "name": "MFFreightAmt"
                                    },
                                    {
                                        "name": "MFOtherAmt"
                                    },
                                    {
                                        "name": "MFOversized"
                                    },
                                    {
                                        "name": "ServSatDelivery"
                                    },
                                    {
                                        "name": "ServSatPickup"
                                    },
                                    {
                                        "name": "ServSignature"
                                    },
                                    {
                                        "name": "ServAlert"
                                    },
                                    {
                                        "name": "ServPOD"
                                    },
                                    {
                                        "name": "ServAOD"
                                    },
                                    {
                                        "name": "ServHomeDel"
                                    },
                                    {
                                        "name": "DeliveryType"
                                    },
                                    {
                                        "name": "ServDeliveryDate"
                                    },
                                    {
                                        "name": "ServPhone"
                                    },
                                    {
                                        "name": "ServInstruct"
                                    },
                                    {
                                        "name": "ServRelease"
                                    },
                                    {
                                        "name": "ServAuthNum"
                                    },
                                    {
                                        "name": "ServRef1"
                                    },
                                    {
                                        "name": "ServRef2"
                                    },
                                    {
                                        "name": "ServRef3"
                                    },
                                    {
                                        "name": "ServRef4"
                                    },
                                    {
                                        "name": "ServRef5"
                                    },
                                    {
                                        "name": "BOLNum"
                                    },
                                    {
                                        "name": "BOLLine"
                                    },
                                    {
                                        "name": "CommercialInvoice"
                                    },
                                    {
                                        "name": "ShipExprtDeclartn"
                                    },
                                    {
                                        "name": "CertOfOrigin"
                                    },
                                    {
                                        "name": "LetterOfInstr"
                                    },
                                    {
                                        "name": "HazardousShipment"
                                    },
                                    {
                                        "name": "IntrntlShip"
                                    },
                                    {
                                        "name": "PayFlag"
                                    },
                                    {
                                        "name": "PayAccount"
                                    },
                                    {
                                        "name": "PayBTAddress1"
                                    },
                                    {
                                        "name": "PayBTAddress2"
                                    },
                                    {
                                        "name": "PayBTCity"
                                    },
                                    {
                                        "name": "PayBTState"
                                    },
                                    {
                                        "name": "PayBTZip"
                                    },
                                    {
                                        "name": "PayBTCountry"
                                    },
                                    {
                                        "name": "FFAddress1"
                                    },
                                    {
                                        "name": "FFAddress2"
                                    },
                                    {
                                        "name": "FFCity"
                                    },
                                    {
                                        "name": "FFState"
                                    },
                                    {
                                        "name": "FFZip"
                                    },
                                    {
                                        "name": "FFCountry"
                                    },
                                    {
                                        "name": "FFContact"
                                    },
                                    {
                                        "name": "FFCompName"
                                    },
                                    {
                                        "name": "FFPhoneNum"
                                    },
                                    {
                                        "name": "ChangedBy"
                                    },
                                    {
                                        "name": "ChangeDate"
                                    },
                                    {
                                        "name": "ChangeTime"
                                    },
                                    {
                                        "name": "FFID"
                                    },
                                    {
                                        "name": "IndividualPackIDs"
                                    },
                                    {
                                        "name": "FFAddress3"
                                    },
                                    {
                                        "name": "DeliveryConf"
                                    },
                                    {
                                        "name": "AddlHdlgFlag"
                                    },
                                    {
                                        "name": "NonStdPkg"
                                    },
                                    {
                                        "name": "FFCountryNum"
                                    },
                                    {
                                        "name": "PayBTAddress3"
                                    },
                                    {
                                        "name": "PayBTCountryNum"
                                    },
                                    {
                                        "name": "PayBTPhone"
                                    },
                                    {
                                        "name": "WayBillNbr"
                                    },
                                    {
                                        "name": "FreightedShipViaCode"
                                    },
                                    {
                                        "name": "UPSQuantumView"
                                    },
                                    {
                                        "name": "UPSQVShipFromName"
                                    },
                                    {
                                        "name": "UPSQVMemo"
                                    },
                                    {
                                        "name": "PkgLength"
                                    },
                                    {
                                        "name": "PkgWidth"
                                    },
                                    {
                                        "name": "PkgHeight"
                                    },
                                    {
                                        "name": "EDIReady"
                                    },
                                    {
                                        "name": "PhantomPack"
                                    },
                                    {
                                        "name": "ReplicatedFrom"
                                    },
                                    {
                                        "name": "ReplicatedStat"
                                    },
                                    {
                                        "name": "PkgSizeUOM"
                                    },
                                    {
                                        "name": "WeightUOM"
                                    },
                                    {
                                        "name": "UseOTS"
                                    },
                                    {
                                        "name": "TranDocTypeID"
                                    },
                                    {
                                        "name": "DocumentPrinted"
                                    },
                                    {
                                        "name": "OTSOrderNum"
                                    },
                                    {
                                        "name": "TaxCalculated"
                                    },
                                    {
                                        "name": "TaxCalcDate"
                                    },
                                    {
                                        "name": "CurrencyCode"
                                    },
                                    {
                                        "name": "Rounding"
                                    },
                                    {
                                        "name": "Rpt1Rounding"
                                    },
                                    {
                                        "name": "Rpt2Rounding"
                                    },
                                    {
                                        "name": "Rpt3Rounding"
                                    },
                                    {
                                        "name": "DocRounding"
                                    },
                                    {
                                        "name": "Rpt1TotalTax"
                                    },
                                    {
                                        "name": "Rpt2TotalTax"
                                    },
                                    {
                                        "name": "Rpt3TotalTax"
                                    },
                                    {
                                        "name": "OrderAmt"
                                    },
                                    {
                                        "name": "DocOrderAmt"
                                    },
                                    {
                                        "name": "Rpt1OrderAmt"
                                    },
                                    {
                                        "name": "Rpt2OrderAmt"
                                    },
                                    {
                                        "name": "Rpt3OrderAmt"
                                    },
                                    {
                                        "name": "TaxRegionCode"
                                    },
                                    {
                                        "name": "TotalWHTax"
                                    },
                                    {
                                        "name": "DocTotalWHTax"
                                    },
                                    {
                                        "name": "Rpt1TotalWHTax"
                                    },
                                    {
                                        "name": "Rpt2TotalWHTax"
                                    },
                                    {
                                        "name": "Rpt3TotalWHTax"
                                    },
                                    {
                                        "name": "TotalSATax"
                                    },
                                    {
                                        "name": "DocTotalSATax"
                                    },
                                    {
                                        "name": "Rpt1TotalSATax"
                                    },
                                    {
                                        "name": "Rpt2TotalSATax"
                                    },
                                    {
                                        "name": "Rpt3TotalSATax"
                                    },
                                    {
                                        "name": "TotalTax"
                                    },
                                    {
                                        "name": "DocTotalTax"
                                    },
                                    {
                                        "name": "TotalDiscount"
                                    },
                                    {
                                        "name": "Rpt1TotalDiscount"
                                    },
                                    {
                                        "name": "Rpt2TotalDiscount"
                                    },
                                    {
                                        "name": "Rpt3TotalDiscount"
                                    },
                                    {
                                        "name": "DocTotalDiscount"
                                    },
                                    {
                                        "name": "ShipToCustNum"
                                    },
                                    {
                                        "name": "DeviceUOM"
                                    },
                                    {
                                        "name": "ManifestSizeUOM"
                                    },
                                    {
                                        "name": "ManifestWtUOM"
                                    },
                                    {
                                        "name": "ManifestWeight"
                                    },
                                    {
                                        "name": "ManifestLength"
                                    },
                                    {
                                        "name": "ManifestWidth"
                                    },
                                    {
                                        "name": "ManifestHeight"
                                    },
                                    {
                                        "name": "RateGrpCode"
                                    },
                                    {
                                        "name": "InPrice"
                                    },
                                    {
                                        "name": "PBHoldNoInv"
                                    },
                                    {
                                        "name": "Obs10_PkgNum"
                                    },
                                    {
                                        "name": "ReconcileQty"
                                    },
                                    {
                                        "name": "ScheduleNumber"
                                    },
                                    {
                                        "name": "CounterASN"
                                    },
                                    {
                                        "name": "OurBank"
                                    },
                                    {
                                        "name": "ERSOrder"
                                    },
                                    {
                                        "name": "AutoPrintReady"
                                    },
                                    {
                                        "name": "ShipOvers"
                                    },
                                    {
                                        "name": "WIPackSlipCreated"
                                    },
                                    {
                                        "name": "SysRevID"
                                    },
                                    {
                                        "name": "SysRowID"
                                    },
                                    {
                                        "name": "AGAuthorizationCode"
                                    },
                                    {
                                        "name": "AGAuthorizationDate"
                                    },
                                    {
                                        "name": "AGCarrierCUIT"
                                    },
                                    {
                                        "name": "AGCOTMark"
                                    },
                                    {
                                        "name": "AGDocumentLetter"
                                    },
                                    {
                                        "name": "AGInvoicingPoint"
                                    },
                                    {
                                        "name": "AGLegalNumber"
                                    },
                                    {
                                        "name": "AGPrintingControlType"
                                    },
                                    {
                                        "name": "AGTrackLicense"
                                    },
                                    {
                                        "name": "DispatchReason"
                                    },
                                    {
                                        "name": "AGShippingWay"
                                    },
                                    {
                                        "name": "OurSupplierCode"
                                    },
                                    {
                                        "name": "ASNPrintedDate"
                                    },
                                    {
                                        "name": "EDIShipToNum"
                                    },
                                    {
                                        "name": "MXIncoterm"
                                    },
                                    {
                                        "name": "CreatedOn"
                                    },
                                    {
                                        "name": "DigitalSignature"
                                    },
                                    {
                                        "name": "SignedOn"
                                    },
                                    {
                                        "name": "SignedBy"
                                    },
                                    {
                                        "name": "FirstPrintDate"
                                    },
                                    {
                                        "name": "DocCopyNum"
                                    },
                                    {
                                        "name": "CNDeclarationBill"
                                    },
                                    {
                                        "name": "CNSample"
                                    },
                                    {
                                        "name": "CNBonded"
                                    },
                                    {
                                        "name": "MXCertifiedTimestamp"
                                    },
                                    {
                                        "name": "MXCertificateSN"
                                    },
                                    {
                                        "name": "MXCertificate"
                                    },
                                    {
                                        "name": "MXFiscalFolio"
                                    },
                                    {
                                        "name": "MXSATCertificateSN"
                                    },
                                    {
                                        "name": "MXDigitalSeal"
                                    },
                                    {
                                        "name": "MXSATSeal"
                                    },
                                    {
                                        "name": "MXOriginalString"
                                    },
                                    {
                                        "name": "MXOriginalStringTFD"
                                    },
                                    {
                                        "name": "MXSerie"
                                    },
                                    {
                                        "name": "MXFolio"
                                    },
                                    {
                                        "name": "MXETD"
                                    },
                                    {
                                        "name": "MXETA"
                                    },
                                    {
                                        "name": "MXDistance"
                                    },
                                    {
                                        "name": "MXPermitType"
                                    },
                                    {
                                        "name": "MXPermitNum"
                                    },
                                    {
                                        "name": "MXCartaPorteStatus"
                                    },
                                    {
                                        "name": "VehicleLicensePlate"
                                    },
                                    {
                                        "name": "VehicleType"
                                    },
                                    {
                                        "name": "VehicleYear"
                                    },
                                    {
                                        "name": "DriverID"
                                    },
                                    {
                                        "name": "MXCancelFiscalFolio"
                                    }
                                ]
                            },
                            "data": [
                                {
                                    "Company": "SOLAR",
                                    "PackNum": "217179",
                                    "ShipDate": "2023-10-20",
                                    "ShipViaCode": "BW",
                                    "ShipPerson": "jcarpenter",
                                    "EntryPerson": "jcarpenter",
                                    "ShipLog": "",
                                    "LabelComment": "",
                                    "ShipComment": "",
                                    "Invoiced": "0",
                                    "ShipToNum": "5",
                                    "ReadyToInvoice": "1",
                                    "CustNum": "1475",
                                    "Plant": "GRRP",
                                    "TrackingNumber": "BLUEGRACE BG688239223",
                                    "LegalNumber": "217179",
                                    "Voided": "0",
                                    "ExternalDeliveryNote": "0",
                                    "ExternalID": "",
                                    "ICReceived": "0",
                                    "XRefPackNum": "",
                                    "BTCustNum": "1475",
                                    "BTConNum": "0",
                                    "ShipStatus": "SHIPPED",
                                    "ShipGroup": "",
                                    "PkgCode": "",
                                    "PkgClass": "",
                                    "Weight": "0.00000",
                                    "ResDelivery": "0",
                                    "SatDelivery": "0",
                                    "SatPickup": "0",
                                    "VerbalConf": "0",
                                    "Hazmat": "0",
                                    "DocOnly": "0",
                                    "RefNotes": "",
                                    "ApplyChrg": "0",
                                    "ChrgAmount": "0.000",
                                    "COD": "0",
                                    "CODFreight": "0",
                                    "CODCheck": "0",
                                    "CODAmount": "0.000",
                                    "GroundType": "",
                                    "NotifyFlag": "0",
                                    "NotifyEMail": "",
                                    "DeclaredIns": "0",
                                    "DeclaredAmt": "0.000",
                                    "MFTransNum": "",
                                    "MFCallTag": "",
                                    "MFPickupNum": "",
                                    "MFDiscFreight": "0.000",
                                    "MFTemplate": "",
                                    "MFUse3B": "0",
                                    "MF3BAccount": "",
                                    "MFDimWeight": "0.00000",
                                    "MFZone": "",
                                    "MFFreightAmt": "0.000",
                                    "MFOtherAmt": "0.000",
                                    "MFOversized": "0",
                                    "ServSatDelivery": "0",
                                    "ServSatPickup": "0",
                                    "ServSignature": "0",
                                    "ServAlert": "0",
                                    "ServPOD": "0",
                                    "ServAOD": "0",
                                    "ServHomeDel": "0",
                                    "DeliveryType": "",
                                    "ServDeliveryDate": "NULL",
                                    "ServPhone": "",
                                    "ServInstruct": "",
                                    "ServRelease": "0",
                                    "ServAuthNum": "",
                                    "ServRef1": "",
                                    "ServRef2": "",
                                    "ServRef3": "",
                                    "ServRef4": "",
                                    "ServRef5": "",
                                    "BOLNum": "0",
                                    "BOLLine": "0",
                                    "CommercialInvoice": "0",
                                    "ShipExprtDeclartn": "0",
                                    "CertOfOrigin": "0",
                                    "LetterOfInstr": "0",
                                    "HazardousShipment": "0",
                                    "IntrntlShip": "0",
                                    "PayFlag": "",
                                    "PayAccount": "",
                                    "PayBTAddress1": "",
                                    "PayBTAddress2": "",
                                    "PayBTCity": "",
                                    "PayBTState": "",
                                    "PayBTZip": "",
                                    "PayBTCountry": "",
                                    "FFAddress1": "",
                                    "FFAddress2": "",
                                    "FFCity": "",
                                    "FFState": "",
                                    "FFZip": "",
                                    "FFCountry": "",
                                    "FFContact": "",
                                    "FFCompName": "",
                                    "FFPhoneNum": "",
                                    "ChangedBy": "jcarpenter",
                                    "ChangeDate": "2023-10-19",
                                    "ChangeTime": "66004",
                                    "FFID": "",
                                    "IndividualPackIDs": "0",
                                    "FFAddress3": "",
                                    "DeliveryConf": "1",
                                    "AddlHdlgFlag": "0",
                                    "NonStdPkg": "0",
                                    "FFCountryNum": "0",
                                    "PayBTAddress3": "",
                                    "PayBTCountryNum": "0",
                                    "PayBTPhone": "",
                                    "WayBillNbr": "",
                                    "FreightedShipViaCode": "",
                                    "UPSQuantumView": "0",
                                    "UPSQVShipFromName": "",
                                    "UPSQVMemo": "",
                                    "PkgLength": "0.00000",
                                    "PkgWidth": "0.00000",
                                    "PkgHeight": "0.00000",
                                    "EDIReady": "0",
                                    "PhantomPack": "0",
                                    "ReplicatedFrom": "0",
                                    "ReplicatedStat": "",
                                    "PkgSizeUOM": "FT",
                                    "WeightUOM": "LB",
                                    "UseOTS": "0",
                                    "TranDocTypeID": "",
                                    "DocumentPrinted": "1",
                                    "OTSOrderNum": "4001096",
                                    "TaxCalculated": "0",
                                    "TaxCalcDate": "NULL",
                                    "CurrencyCode": "USD",
                                    "Rounding": "0.00000",
                                    "Rpt1Rounding": "0.00000",
                                    "Rpt2Rounding": "0.00000",
                                    "Rpt3Rounding": "0.00000",
                                    "DocRounding": "0.00000",
                                    "Rpt1TotalTax": "0.000",
                                    "Rpt2TotalTax": "0.000",
                                    "Rpt3TotalTax": "0.000",
                                    "OrderAmt": "0.000",
                                    "DocOrderAmt": "0.000",
                                    "Rpt1OrderAmt": "0.000",
                                    "Rpt2OrderAmt": "0.000",
                                    "Rpt3OrderAmt": "0.000",
                                    "TaxRegionCode": "",
                                    "TotalWHTax": "0.000",
                                    "DocTotalWHTax": "0.000",
                                    "Rpt1TotalWHTax": "0.000",
                                    "Rpt2TotalWHTax": "0.000",
                                    "Rpt3TotalWHTax": "0.000",
                                    "TotalSATax": "0.000",
                                    "DocTotalSATax": "0.000",
                                    "Rpt1TotalSATax": "0.000",
                                    "Rpt2TotalSATax": "0.000",
                                    "Rpt3TotalSATax": "0.000",
                                    "TotalTax": "0.000",
                                    "DocTotalTax": "0.000",
                                    "TotalDiscount": "0.000",
                                    "Rpt1TotalDiscount": "0.000",
                                    "Rpt2TotalDiscount": "0.000",
                                    "Rpt3TotalDiscount": "0.000",
                                    "DocTotalDiscount": "0.000",
                                    "ShipToCustNum": "1475",
                                    "DeviceUOM": "",
                                    "ManifestSizeUOM": "",
                                    "ManifestWtUOM": "",
                                    "ManifestWeight": "0.00000",
                                    "ManifestLength": "0.00000",
                                    "ManifestWidth": "0.00000",
                                    "ManifestHeight": "0.00000",
                                    "RateGrpCode": "MAIN",
                                    "InPrice": "0",
                                    "PBHoldNoInv": "0",
                                    "Obs10_PkgNum": "0",
                                    "ReconcileQty": "0.00000",
                                    "ScheduleNumber": "Schedule Number",
                                    "CounterASN": "0",
                                    "OurBank": "",
                                    "ERSOrder": "0",
                                    "AutoPrintReady": "0",
                                    "ShipOvers": "0",
                                    "WIPackSlipCreated": "0",
                                    "SysRevID": "0x00000004AA5EC53C",
                                    "SysRowID": "ca18bf93-6f82-4fb7-ba4a-eaf86a78b977",
                                    "AGAuthorizationCode": "",
                                    "AGAuthorizationDate": "NULL",
                                    "AGCarrierCUIT": "",
                                    "AGCOTMark": "0",
                                    "AGDocumentLetter": "",
                                    "AGInvoicingPoint": "",
                                    "AGLegalNumber": "",
                                    "AGPrintingControlType": "",
                                    "AGTrackLicense": "",
                                    "DispatchReason": "",
                                    "AGShippingWay": "",
                                    "OurSupplierCode": "",
                                    "ASNPrintedDate": "NULL",
                                    "EDIShipToNum": "",
                                    "MXIncoterm": "",
                                    "CreatedOn": "2023-10-19 18:03:16.843",
                                    "DigitalSignature": "",
                                    "SignedOn": "NULL",
                                    "SignedBy": "",
                                    "FirstPrintDate": "NULL",
                                    "DocCopyNum": "0",
                                    "CNDeclarationBill": "",
                                    "CNSample": "0",
                                    "CNBonded": "0",
                                    "MXCertifiedTimestamp": "NULL",
                                    "MXCertificateSN": "",
                                    "MXCertificate": "",
                                    "MXFiscalFolio": "",
                                    "MXSATCertificateSN": "",
                                    "MXDigitalSeal": "",
                                    "MXSATSeal": "",
                                    "MXOriginalString": "",
                                    "MXOriginalStringTFD": "",
                                    "MXSerie": "",
                                    "MXFolio": "",
                                    "MXETD": "NULL",
                                    "MXETA": "NULL",
                                    "MXDistance": "0.00",
                                    "MXPermitType": "",
                                    "MXPermitNum": "",
                                    "MXCartaPorteStatus": "0",
                                    "VehicleLicensePlate": "",
                                    "VehicleType": "",
                                    "VehicleYear": "0",
                                    "DriverID": "",
                                    "MXCancelFiscalFolio": ""
                                },
                                {
                                    "Company": "SOLAR",
                                    "PackNum": "217178",
                                    "ShipDate": "2023-10-19",
                                    "ShipViaCode": "BW",
                                    "ShipPerson": "jcarpenter",
                                    "EntryPerson": "jcarpenter",
                                    "ShipLog": "",
                                    "LabelComment": "",
                                    "ShipComment": "",
                                    "Invoiced": "0",
                                    "ShipToNum": "OTS00000/00000",
                                    "ReadyToInvoice": "1",
                                    "CustNum": "1721",
                                    "Plant": "GRRP",
                                    "TrackingNumber": "FEDEX P FREIGHT BG688411123",
                                    "LegalNumber": "217178",
                                    "Voided": "0",
                                    "ExternalDeliveryNote": "0",
                                    "ExternalID": "",
                                    "ICReceived": "0",
                                    "XRefPackNum": "",
                                    "BTCustNum": "1721",
                                    "BTConNum": "0",
                                    "ShipStatus": "SHIPPED",
                                    "ShipGroup": "",
                                    "PkgCode": "",
                                    "PkgClass": "",
                                    "Weight": "0.00000",
                                    "ResDelivery": "0",
                                    "SatDelivery": "0",
                                    "SatPickup": "0",
                                    "VerbalConf": "0",
                                    "Hazmat": "0",
                                    "DocOnly": "0",
                                    "RefNotes": "",
                                    "ApplyChrg": "0",
                                    "ChrgAmount": "0.000",
                                    "COD": "0",
                                    "CODFreight": "0",
                                    "CODCheck": "0",
                                    "CODAmount": "0.000",
                                    "GroundType": "",
                                    "NotifyFlag": "0",
                                    "NotifyEMail": "",
                                    "DeclaredIns": "0",
                                    "DeclaredAmt": "0.000",
                                    "MFTransNum": "",
                                    "MFCallTag": "",
                                    "MFPickupNum": "",
                                    "MFDiscFreight": "0.000",
                                    "MFTemplate": "",
                                    "MFUse3B": "0",
                                    "MF3BAccount": "",
                                    "MFDimWeight": "0.00000",
                                    "MFZone": "",
                                    "MFFreightAmt": "0.000",
                                    "MFOtherAmt": "0.000",
                                    "MFOversized": "0",
                                    "ServSatDelivery": "0",
                                    "ServSatPickup": "0",
                                    "ServSignature": "0",
                                    "ServAlert": "0",
                                    "ServPOD": "0",
                                    "ServAOD": "0",
                                    "ServHomeDel": "0",
                                    "DeliveryType": "",
                                    "ServDeliveryDate": "NULL",
                                    "ServPhone": "",
                                    "ServInstruct": "",
                                    "ServRelease": "0",
                                    "ServAuthNum": "",
                                    "ServRef1": "",
                                    "ServRef2": "",
                                    "ServRef3": "",
                                    "ServRef4": "",
                                    "ServRef5": "",
                                    "BOLNum": "0",
                                    "BOLLine": "0",
                                    "CommercialInvoice": "0",
                                    "ShipExprtDeclartn": "0",
                                    "CertOfOrigin": "0",
                                    "LetterOfInstr": "0",
                                    "HazardousShipment": "0",
                                    "IntrntlShip": "0",
                                    "PayFlag": "",
                                    "PayAccount": "",
                                    "PayBTAddress1": "",
                                    "PayBTAddress2": "",
                                    "PayBTCity": "",
                                    "PayBTState": "",
                                    "PayBTZip": "",
                                    "PayBTCountry": "",
                                    "FFAddress1": "",
                                    "FFAddress2": "",
                                    "FFCity": "",
                                    "FFState": "",
                                    "FFZip": "",
                                    "FFCountry": "",
                                    "FFContact": "",
                                    "FFCompName": "",
                                    "FFPhoneNum": "",
                                    "ChangedBy": "jcarpenter",
                                    "ChangeDate": "2023-10-19",
                                    "ChangeTime": "60956",
                                    "FFID": "",
                                    "IndividualPackIDs": "0",
                                    "FFAddress3": "",
                                    "DeliveryConf": "1",
                                    "AddlHdlgFlag": "0",
                                    "NonStdPkg": "0",
                                    "FFCountryNum": "0",
                                    "PayBTAddress3": "",
                                    "PayBTCountryNum": "0",
                                    "PayBTPhone": "",
                                    "WayBillNbr": "",
                                    "FreightedShipViaCode": "",
                                    "UPSQuantumView": "0",
                                    "UPSQVShipFromName": "",
                                    "UPSQVMemo": "",
                                    "PkgLength": "0.00000",
                                    "PkgWidth": "0.00000",
                                    "PkgHeight": "0.00000",
                                    "EDIReady": "0",
                                    "PhantomPack": "0",
                                    "ReplicatedFrom": "0",
                                    "ReplicatedStat": "",
                                    "PkgSizeUOM": "FT",
                                    "WeightUOM": "LB",
                                    "UseOTS": "1",
                                    "TranDocTypeID": "",
                                    "DocumentPrinted": "1",
                                    "OTSOrderNum": "4001100",
                                    "TaxCalculated": "0",
                                    "TaxCalcDate": "NULL",
                                    "CurrencyCode": "USD",
                                    "Rounding": "0.00000",
                                    "Rpt1Rounding": "0.00000",
                                    "Rpt2Rounding": "0.00000",
                                    "Rpt3Rounding": "0.00000",
                                    "DocRounding": "0.00000",
                                    "Rpt1TotalTax": "0.000",
                                    "Rpt2TotalTax": "0.000",
                                    "Rpt3TotalTax": "0.000",
                                    "OrderAmt": "0.000",
                                    "DocOrderAmt": "0.000",
                                    "Rpt1OrderAmt": "0.000",
                                    "Rpt2OrderAmt": "0.000",
                                    "Rpt3OrderAmt": "0.000",
                                    "TaxRegionCode": "",
                                    "TotalWHTax": "0.000",
                                    "DocTotalWHTax": "0.000",
                                    "Rpt1TotalWHTax": "0.000",
                                    "Rpt2TotalWHTax": "0.000",
                                    "Rpt3TotalWHTax": "0.000",
                                    "TotalSATax": "0.000",
                                    "DocTotalSATax": "0.000",
                                    "Rpt1TotalSATax": "0.000",
                                    "Rpt2TotalSATax": "0.000",
                                    "Rpt3TotalSATax": "0.000",
                                    "TotalTax": "0.000",
                                    "DocTotalTax": "0.000",
                                    "TotalDiscount": "0.000",
                                    "Rpt1TotalDiscount": "0.000",
                                    "Rpt2TotalDiscount": "0.000",
                                    "Rpt3TotalDiscount": "0.000",
                                    "DocTotalDiscount": "0.000",
                                    "ShipToCustNum": "1721",
                                    "DeviceUOM": "",
                                    "ManifestSizeUOM": "",
                                    "ManifestWtUOM": "",
                                    "ManifestWeight": "0.00000",
                                    "ManifestLength": "0.00000",
                                    "ManifestWidth": "0.00000",
                                    "ManifestHeight": "0.00000",
                                    "RateGrpCode": "MAIN",
                                    "InPrice": "0",
                                    "PBHoldNoInv": "0",
                                    "Obs10_PkgNum": "0",
                                    "ReconcileQty": "0.00000",
                                    "ScheduleNumber": "Schedule Number",
                                    "CounterASN": "0",
                                    "OurBank": "",
                                    "ERSOrder": "0",
                                    "AutoPrintReady": "0",
                                    "ShipOvers": "0",
                                    "WIPackSlipCreated": "0",
                                    "SysRevID": "0x00000004AA1C342E",
                                    "SysRowID": "0aa40a4f-a7ca-4864-870d-cd8fdf31cb7c",
                                    "AGAuthorizationCode": "",
                                    "AGAuthorizationDate": "NULL",
                                    "AGCarrierCUIT": "",
                                    "AGCOTMark": "0",
                                    "AGDocumentLetter": "",
                                    "AGInvoicingPoint": "",
                                    "AGLegalNumber": "",
                                    "AGPrintingControlType": "",
                                    "AGTrackLicense": "",
                                    "DispatchReason": "",
                                    "AGShippingWay": "",
                                    "OurSupplierCode": "",
                                    "ASNPrintedDate": "NULL",
                                    "EDIShipToNum": "",
                                    "MXIncoterm": "",
                                    "CreatedOn": "2023-10-19 16:45:51.160",
                                    "DigitalSignature": "",
                                    "SignedOn": "NULL",
                                    "SignedBy": "",
                                    "FirstPrintDate": "NULL",
                                    "DocCopyNum": "0",
                                    "CNDeclarationBill": "",
                                    "CNSample": "0",
                                    "CNBonded": "0",
                                    "MXCertifiedTimestamp": "NULL",
                                    "MXCertificateSN": "",
                                    "MXCertificate": "",
                                    "MXFiscalFolio": "",
                                    "MXSATCertificateSN": "",
                                    "MXDigitalSeal": "",
                                    "MXSATSeal": "",
                                    "MXOriginalString": "",
                                    "MXOriginalStringTFD": "",
                                    "MXSerie": "",
                                    "MXFolio": "",
                                    "MXETD": "NULL",
                                    "MXETA": "NULL",
                                    "MXDistance": "0.00",
                                    "MXPermitType": "",
                                    "MXPermitNum": "",
                                    "MXCartaPorteStatus": "0",
                                    "VehicleLicensePlate": "",
                                    "VehicleType": "",
                                    "VehicleYear": "0",
                                    "DriverID": "",
                                    "MXCancelFiscalFolio": ""
                                },
                                {
                                    "Company": "SOLAR",
                                    "PackNum": "217177",
                                    "ShipDate": "2023-10-19",
                                    "ShipViaCode": "BW",
                                    "ShipPerson": "jcarpenter",
                                    "EntryPerson": "jcarpenter",
                                    "ShipLog": "",
                                    "LabelComment": "",
                                    "ShipComment": "",
                                    "Invoiced": "0",
                                    "ShipToNum": "18",
                                    "ReadyToInvoice": "1",
                                    "CustNum": "1721",
                                    "Plant": "GRRP",
                                    "TrackingNumber": "BLUEGRACE",
                                    "LegalNumber": "217177",
                                    "Voided": "0",
                                    "ExternalDeliveryNote": "0",
                                    "ExternalID": "",
                                    "ICReceived": "0",
                                    "XRefPackNum": "",
                                    "BTCustNum": "1721",
                                    "BTConNum": "0",
                                    "ShipStatus": "SHIPPED",
                                    "ShipGroup": "",
                                    "PkgCode": "",
                                    "PkgClass": "",
                                    "Weight": "0.00000",
                                    "ResDelivery": "0",
                                    "SatDelivery": "0",
                                    "SatPickup": "0",
                                    "VerbalConf": "0",
                                    "Hazmat": "0",
                                    "DocOnly": "0",
                                    "RefNotes": "",
                                    "ApplyChrg": "0",
                                    "ChrgAmount": "0.000",
                                    "COD": "0",
                                    "CODFreight": "0",
                                    "CODCheck": "0",
                                    "CODAmount": "0.000",
                                    "GroundType": "",
                                    "NotifyFlag": "0",
                                    "NotifyEMail": "",
                                    "DeclaredIns": "0",
                                    "DeclaredAmt": "0.000",
                                    "MFTransNum": "",
                                    "MFCallTag": "",
                                    "MFPickupNum": "",
                                    "MFDiscFreight": "0.000",
                                    "MFTemplate": "",
                                    "MFUse3B": "0",
                                    "MF3BAccount": "",
                                    "MFDimWeight": "0.00000",
                                    "MFZone": "",
                                    "MFFreightAmt": "0.000",
                                    "MFOtherAmt": "0.000",
                                    "MFOversized": "0",
                                    "ServSatDelivery": "0",
                                    "ServSatPickup": "0",
                                    "ServSignature": "0",
                                    "ServAlert": "0",
                                    "ServPOD": "0",
                                    "ServAOD": "0",
                                    "ServHomeDel": "0",
                                    "DeliveryType": "",
                                    "ServDeliveryDate": "NULL",
                                    "ServPhone": "",
                                    "ServInstruct": "",
                                    "ServRelease": "0",
                                    "ServAuthNum": "",
                                    "ServRef1": "",
                                    "ServRef2": "",
                                    "ServRef3": "",
                                    "ServRef4": "",
                                    "ServRef5": "",
                                    "BOLNum": "0",
                                    "BOLLine": "0",
                                    "CommercialInvoice": "0",
                                    "ShipExprtDeclartn": "0",
                                    "CertOfOrigin": "0",
                                    "LetterOfInstr": "0",
                                    "HazardousShipment": "0",
                                    "IntrntlShip": "0",
                                    "PayFlag": "",
                                    "PayAccount": "",
                                    "PayBTAddress1": "",
                                    "PayBTAddress2": "",
                                    "PayBTCity": "",
                                    "PayBTState": "",
                                    "PayBTZip": "",
                                    "PayBTCountry": "",
                                    "FFAddress1": "",
                                    "FFAddress2": "",
                                    "FFCity": "",
                                    "FFState": "",
                                    "FFZip": "",
                                    "FFCountry": "",
                                    "FFContact": "",
                                    "FFCompName": "",
                                    "FFPhoneNum": "",
                                    "ChangedBy": "jcarpenter",
                                    "ChangeDate": "2023-10-19",
                                    "ChangeTime": "35856",
                                    "FFID": "",
                                    "IndividualPackIDs": "0",
                                    "FFAddress3": "",
                                    "DeliveryConf": "1",
                                    "AddlHdlgFlag": "0",
                                    "NonStdPkg": "0",
                                    "FFCountryNum": "0",
                                    "PayBTAddress3": "",
                                    "PayBTCountryNum": "0",
                                    "PayBTPhone": "",
                                    "WayBillNbr": "",
                                    "FreightedShipViaCode": "",
                                    "UPSQuantumView": "0",
                                    "UPSQVShipFromName": "",
                                    "UPSQVMemo": "",
                                    "PkgLength": "0.00000",
                                    "PkgWidth": "0.00000",
                                    "PkgHeight": "0.00000",
                                    "EDIReady": "0",
                                    "PhantomPack": "0",
                                    "ReplicatedFrom": "0",
                                    "ReplicatedStat": "",
                                    "PkgSizeUOM": "FT",
                                    "WeightUOM": "LB",
                                    "UseOTS": "0",
                                    "TranDocTypeID": "",
                                    "DocumentPrinted": "1",
                                    "OTSOrderNum": "4001258",
                                    "TaxCalculated": "0",
                                    "TaxCalcDate": "NULL",
                                    "CurrencyCode": "USD",
                                    "Rounding": "0.00000",
                                    "Rpt1Rounding": "0.00000",
                                    "Rpt2Rounding": "0.00000",
                                    "Rpt3Rounding": "0.00000",
                                    "DocRounding": "0.00000",
                                    "Rpt1TotalTax": "0.000",
                                    "Rpt2TotalTax": "0.000",
                                    "Rpt3TotalTax": "0.000",
                                    "OrderAmt": "0.000",
                                    "DocOrderAmt": "0.000",
                                    "Rpt1OrderAmt": "0.000",
                                    "Rpt2OrderAmt": "0.000",
                                    "Rpt3OrderAmt": "0.000",
                                    "TaxRegionCode": "",
                                    "TotalWHTax": "0.000",
                                    "DocTotalWHTax": "0.000",
                                    "Rpt1TotalWHTax": "0.000",
                                    "Rpt2TotalWHTax": "0.000",
                                    "Rpt3TotalWHTax": "0.000",
                                    "TotalSATax": "0.000",
                                    "DocTotalSATax": "0.000",
                                    "Rpt1TotalSATax": "0.000",
                                    "Rpt2TotalSATax": "0.000",
                                    "Rpt3TotalSATax": "0.000",
                                    "TotalTax": "0.000",
                                    "DocTotalTax": "0.000",
                                    "TotalDiscount": "0.000",
                                    "Rpt1TotalDiscount": "0.000",
                                    "Rpt2TotalDiscount": "0.000",
                                    "Rpt3TotalDiscount": "0.000",
                                    "DocTotalDiscount": "0.000",
                                    "ShipToCustNum": "1721",
                                    "DeviceUOM": "",
                                    "ManifestSizeUOM": "",
                                    "ManifestWtUOM": "",
                                    "ManifestWeight": "0.00000",
                                    "ManifestLength": "0.00000",
                                    "ManifestWidth": "0.00000",
                                    "ManifestHeight": "0.00000",
                                    "RateGrpCode": "MAIN",
                                    "InPrice": "0",
                                    "PBHoldNoInv": "0",
                                    "Obs10_PkgNum": "0",
                                    "ReconcileQty": "0.00000",
                                    "ScheduleNumber": "Schedule Number",
                                    "CounterASN": "0",
                                    "OurBank": "",
                                    "ERSOrder": "0",
                                    "AutoPrintReady": "0",
                                    "ShipOvers": "0",
                                    "WIPackSlipCreated": "0",
                                    "SysRevID": "0x00000004A975E3DB",
                                    "SysRowID": "a8428427-742c-4266-baeb-948285dde9ce",
                                    "AGAuthorizationCode": "",
                                    "AGAuthorizationDate": "NULL",
                                    "AGCarrierCUIT": "",
                                    "AGCOTMark": "0",
                                    "AGDocumentLetter": "",
                                    "AGInvoicingPoint": "",
                                    "AGLegalNumber": "",
                                    "AGPrintingControlType": "",
                                    "AGTrackLicense": "",
                                    "DispatchReason": "",
                                    "AGShippingWay": "",
                                    "OurSupplierCode": "",
                                    "ASNPrintedDate": "NULL",
                                    "EDIShipToNum": "",
                                    "MXIncoterm": "",
                                    "CreatedOn": "2023-10-19 09:55:19.517",
                                    "DigitalSignature": "",
                                    "SignedOn": "NULL",
                                    "SignedBy": "",
                                    "FirstPrintDate": "NULL",
                                    "DocCopyNum": "0",
                                    "CNDeclarationBill": "",
                                    "CNSample": "0",
                                    "CNBonded": "0",
                                    "MXCertifiedTimestamp": "NULL",
                                    "MXCertificateSN": "",
                                    "MXCertificate": "",
                                    "MXFiscalFolio": "",
                                    "MXSATCertificateSN": "",
                                    "MXDigitalSeal": "",
                                    "MXSATSeal": "",
                                    "MXOriginalString": "",
                                    "MXOriginalStringTFD": "",
                                    "MXSerie": "",
                                    "MXFolio": "",
                                    "MXETD": "NULL",
                                    "MXETA": "NULL",
                                    "MXDistance": "0.00",
                                    "MXPermitType": "",
                                    "MXPermitNum": "",
                                    "MXCartaPorteStatus": "0",
                                    "VehicleLicensePlate": "",
                                    "VehicleType": "",
                                    "VehicleYear": "0",
                                    "DriverID": "",
                                    "MXCancelFiscalFolio": ""
                                },
                                {
                                    "Company": "SOLAR",
                                    "PackNum": "217176",
                                    "ShipDate": "2023-10-18",
                                    "ShipViaCode": "BW",
                                    "ShipPerson": "jcarpenter",
                                    "EntryPerson": "jcarpenter",
                                    "ShipLog": "",
                                    "LabelComment": "",
                                    "ShipComment": "",
                                    "Invoiced": "0",
                                    "ShipToNum": "OTS00000/00000",
                                    "ReadyToInvoice": "1",
                                    "CustNum": "152",
                                    "Plant": "GRRP",
                                    "TrackingNumber": "FEDEX ECON BG687844923",
                                    "LegalNumber": "217176",
                                    "Voided": "0",
                                    "ExternalDeliveryNote": "0",
                                    "ExternalID": "",
                                    "ICReceived": "0",
                                    "XRefPackNum": "",
                                    "BTCustNum": "152",
                                    "BTConNum": "0",
                                    "ShipStatus": "SHIPPED",
                                    "ShipGroup": "",
                                    "PkgCode": "",
                                    "PkgClass": "",
                                    "Weight": "0.00000",
                                    "ResDelivery": "0",
                                    "SatDelivery": "0",
                                    "SatPickup": "0",
                                    "VerbalConf": "0",
                                    "Hazmat": "0",
                                    "DocOnly": "0",
                                    "RefNotes": "",
                                    "ApplyChrg": "0",
                                    "ChrgAmount": "0.000",
                                    "COD": "0",
                                    "CODFreight": "0",
                                    "CODCheck": "0",
                                    "CODAmount": "0.000",
                                    "GroundType": "",
                                    "NotifyFlag": "0",
                                    "NotifyEMail": "",
                                    "DeclaredIns": "0",
                                    "DeclaredAmt": "0.000",
                                    "MFTransNum": "",
                                    "MFCallTag": "",
                                    "MFPickupNum": "",
                                    "MFDiscFreight": "0.000",
                                    "MFTemplate": "",
                                    "MFUse3B": "0",
                                    "MF3BAccount": "",
                                    "MFDimWeight": "0.00000",
                                    "MFZone": "",
                                    "MFFreightAmt": "0.000",
                                    "MFOtherAmt": "0.000",
                                    "MFOversized": "0",
                                    "ServSatDelivery": "0",
                                    "ServSatPickup": "0",
                                    "ServSignature": "0",
                                    "ServAlert": "0",
                                    "ServPOD": "0",
                                    "ServAOD": "0",
                                    "ServHomeDel": "0",
                                    "DeliveryType": "",
                                    "ServDeliveryDate": "NULL",
                                    "ServPhone": "",
                                    "ServInstruct": "",
                                    "ServRelease": "0",
                                    "ServAuthNum": "",
                                    "ServRef1": "",
                                    "ServRef2": "",
                                    "ServRef3": "",
                                    "ServRef4": "",
                                    "ServRef5": "",
                                    "BOLNum": "0",
                                    "BOLLine": "0",
                                    "CommercialInvoice": "0",
                                    "ShipExprtDeclartn": "0",
                                    "CertOfOrigin": "0",
                                    "LetterOfInstr": "0",
                                    "HazardousShipment": "0",
                                    "IntrntlShip": "0",
                                    "PayFlag": "",
                                    "PayAccount": "",
                                    "PayBTAddress1": "",
                                    "PayBTAddress2": "",
                                    "PayBTCity": "",
                                    "PayBTState": "",
                                    "PayBTZip": "",
                                    "PayBTCountry": "",
                                    "FFAddress1": "",
                                    "FFAddress2": "",
                                    "FFCity": "",
                                    "FFState": "",
                                    "FFZip": "",
                                    "FFCountry": "",
                                    "FFContact": "",
                                    "FFCompName": "",
                                    "FFPhoneNum": "",
                                    "ChangedBy": "jcarpenter",
                                    "ChangeDate": "2023-10-18",
                                    "ChangeTime": "60258",
                                    "FFID": "",
                                    "IndividualPackIDs": "0",
                                    "FFAddress3": "",
                                    "DeliveryConf": "1",
                                    "AddlHdlgFlag": "0",
                                    "NonStdPkg": "0",
                                    "FFCountryNum": "0",
                                    "PayBTAddress3": "",
                                    "PayBTCountryNum": "0",
                                    "PayBTPhone": "",
                                    "WayBillNbr": "",
                                    "FreightedShipViaCode": "",
                                    "UPSQuantumView": "0",
                                    "UPSQVShipFromName": "",
                                    "UPSQVMemo": "",
                                    "PkgLength": "0.00000",
                                    "PkgWidth": "0.00000",
                                    "PkgHeight": "0.00000",
                                    "EDIReady": "0",
                                    "PhantomPack": "0",
                                    "ReplicatedFrom": "0",
                                    "ReplicatedStat": "",
                                    "PkgSizeUOM": "FT",
                                    "WeightUOM": "LB",
                                    "UseOTS": "1",
                                    "TranDocTypeID": "",
                                    "DocumentPrinted": "1",
                                    "OTSOrderNum": "4001010",
                                    "TaxCalculated": "0",
                                    "TaxCalcDate": "NULL",
                                    "CurrencyCode": "USD",
                                    "Rounding": "0.00000",
                                    "Rpt1Rounding": "0.00000",
                                    "Rpt2Rounding": "0.00000",
                                    "Rpt3Rounding": "0.00000",
                                    "DocRounding": "0.00000",
                                    "Rpt1TotalTax": "0.000",
                                    "Rpt2TotalTax": "0.000",
                                    "Rpt3TotalTax": "0.000",
                                    "OrderAmt": "0.000",
                                    "DocOrderAmt": "0.000",
                                    "Rpt1OrderAmt": "0.000",
                                    "Rpt2OrderAmt": "0.000",
                                    "Rpt3OrderAmt": "0.000",
                                    "TaxRegionCode": "",
                                    "TotalWHTax": "0.000",
                                    "DocTotalWHTax": "0.000",
                                    "Rpt1TotalWHTax": "0.000",
                                    "Rpt2TotalWHTax": "0.000",
                                    "Rpt3TotalWHTax": "0.000",
                                    "TotalSATax": "0.000",
                                    "DocTotalSATax": "0.000",
                                    "Rpt1TotalSATax": "0.000",
                                    "Rpt2TotalSATax": "0.000",
                                    "Rpt3TotalSATax": "0.000",
                                    "TotalTax": "0.000",
                                    "DocTotalTax": "0.000",
                                    "TotalDiscount": "0.000",
                                    "Rpt1TotalDiscount": "0.000",
                                    "Rpt2TotalDiscount": "0.000",
                                    "Rpt3TotalDiscount": "0.000",
                                    "DocTotalDiscount": "0.000",
                                    "ShipToCustNum": "152",
                                    "DeviceUOM": "",
                                    "ManifestSizeUOM": "",
                                    "ManifestWtUOM": "",
                                    "ManifestWeight": "0.00000",
                                    "ManifestLength": "0.00000",
                                    "ManifestWidth": "0.00000",
                                    "ManifestHeight": "0.00000",
                                    "RateGrpCode": "MAIN",
                                    "InPrice": "0",
                                    "PBHoldNoInv": "0",
                                    "Obs10_PkgNum": "0",
                                    "ReconcileQty": "0.00000",
                                    "ScheduleNumber": "Schedule Number",
                                    "CounterASN": "0",
                                    "OurBank": "",
                                    "ERSOrder": "0",
                                    "AutoPrintReady": "0",
                                    "ShipOvers": "0",
                                    "WIPackSlipCreated": "0",
                                    "SysRevID": "0x00000004A8690D73",
                                    "SysRowID": "20e34c79-efd1-4fd4-aa93-0249cd054f4c",
                                    "AGAuthorizationCode": "",
                                    "AGAuthorizationDate": "NULL",
                                    "AGCarrierCUIT": "",
                                    "AGCOTMark": "0",
                                    "AGDocumentLetter": "",
                                    "AGInvoicingPoint": "",
                                    "AGLegalNumber": "",
                                    "AGPrintingControlType": "",
                                    "AGTrackLicense": "",
                                    "DispatchReason": "",
                                    "AGShippingWay": "",
                                    "OurSupplierCode": "",
                                    "ASNPrintedDate": "NULL",
                                    "EDIShipToNum": "",
                                    "MXIncoterm": "",
                                    "CreatedOn": "2023-10-18 16:33:46.563",
                                    "DigitalSignature": "",
                                    "SignedOn": "NULL",
                                    "SignedBy": "",
                                    "FirstPrintDate": "NULL",
                                    "DocCopyNum": "0",
                                    "CNDeclarationBill": "",
                                    "CNSample": "0",
                                    "CNBonded": "0",
                                    "MXCertifiedTimestamp": "NULL",
                                    "MXCertificateSN": "",
                                    "MXCertificate": "",
                                    "MXFiscalFolio": "",
                                    "MXSATCertificateSN": "",
                                    "MXDigitalSeal": "",
                                    "MXSATSeal": "",
                                    "MXOriginalString": "",
                                    "MXOriginalStringTFD": "",
                                    "MXSerie": "",
                                    "MXFolio": "",
                                    "MXETD": "NULL",
                                    "MXETA": "NULL",
                                    "MXDistance": "0.00",
                                    "MXPermitType": "",
                                    "MXPermitNum": "",
                                    "MXCartaPorteStatus": "0",
                                    "VehicleLicensePlate": "",
                                    "VehicleType": "",
                                    "VehicleYear": "0",
                                    "DriverID": "",
                                    "MXCancelFiscalFolio": ""
                                },
                                {
                                    "Company": "SOLAR",
                                    "PackNum": "217175",
                                    "ShipDate": "2023-10-18",
                                    "ShipViaCode": "BW",
                                    "ShipPerson": "jcarpenter",
                                    "EntryPerson": "jcarpenter",
                                    "ShipLog": "",
                                    "LabelComment": "",
                                    "ShipComment": "",
                                    "Invoiced": "0",
                                    "ShipToNum": "47",
                                    "ReadyToInvoice": "1",
                                    "CustNum": "1721",
                                    "Plant": "GRRP",
                                    "TrackingNumber": "BLUEGRACE BG687614223",
                                    "LegalNumber": "217175",
                                    "Voided": "0",
                                    "ExternalDeliveryNote": "0",
                                    "ExternalID": "",
                                    "ICReceived": "0",
                                    "XRefPackNum": "",
                                    "BTCustNum": "1721",
                                    "BTConNum": "0",
                                    "ShipStatus": "SHIPPED",
                                    "ShipGroup": "",
                                    "PkgCode": "",
                                    "PkgClass": "",
                                    "Weight": "0.00000",
                                    "ResDelivery": "0",
                                    "SatDelivery": "0",
                                    "SatPickup": "0",
                                    "VerbalConf": "0",
                                    "Hazmat": "0",
                                    "DocOnly": "0",
                                    "RefNotes": "",
                                    "ApplyChrg": "0",
                                    "ChrgAmount": "0.000",
                                    "COD": "0",
                                    "CODFreight": "0",
                                    "CODCheck": "0",
                                    "CODAmount": "0.000",
                                    "GroundType": "",
                                    "NotifyFlag": "0",
                                    "NotifyEMail": "",
                                    "DeclaredIns": "0",
                                    "DeclaredAmt": "0.000",
                                    "MFTransNum": "",
                                    "MFCallTag": "",
                                    "MFPickupNum": "",
                                    "MFDiscFreight": "0.000",
                                    "MFTemplate": "",
                                    "MFUse3B": "0",
                                    "MF3BAccount": "",
                                    "MFDimWeight": "0.00000",
                                    "MFZone": "",
                                    "MFFreightAmt": "0.000",
                                    "MFOtherAmt": "0.000",
                                    "MFOversized": "0",
                                    "ServSatDelivery": "0",
                                    "ServSatPickup": "0",
                                    "ServSignature": "0",
                                    "ServAlert": "0",
                                    "ServPOD": "0",
                                    "ServAOD": "0",
                                    "ServHomeDel": "0",
                                    "DeliveryType": "",
                                    "ServDeliveryDate": "NULL",
                                    "ServPhone": "",
                                    "ServInstruct": "",
                                    "ServRelease": "0",
                                    "ServAuthNum": "",
                                    "ServRef1": "",
                                    "ServRef2": "",
                                    "ServRef3": "",
                                    "ServRef4": "",
                                    "ServRef5": "",
                                    "BOLNum": "0",
                                    "BOLLine": "0",
                                    "CommercialInvoice": "0",
                                    "ShipExprtDeclartn": "0",
                                    "CertOfOrigin": "0",
                                    "LetterOfInstr": "0",
                                    "HazardousShipment": "0",
                                    "IntrntlShip": "0",
                                    "PayFlag": "",
                                    "PayAccount": "",
                                    "PayBTAddress1": "",
                                    "PayBTAddress2": "",
                                    "PayBTCity": "",
                                    "PayBTState": "",
                                    "PayBTZip": "",
                                    "PayBTCountry": "",
                                    "FFAddress1": "",
                                    "FFAddress2": "",
                                    "FFCity": "",
                                    "FFState": "",
                                    "FFZip": "",
                                    "FFCountry": "",
                                    "FFContact": "",
                                    "FFCompName": "",
                                    "FFPhoneNum": "",
                                    "ChangedBy": "jcarpenter",
                                    "ChangeDate": "2023-10-18",
                                    "ChangeTime": "58222",
                                    "FFID": "",
                                    "IndividualPackIDs": "0",
                                    "FFAddress3": "",
                                    "DeliveryConf": "1",
                                    "AddlHdlgFlag": "0",
                                    "NonStdPkg": "0",
                                    "FFCountryNum": "0",
                                    "PayBTAddress3": "",
                                    "PayBTCountryNum": "0",
                                    "PayBTPhone": "",
                                    "WayBillNbr": "",
                                    "FreightedShipViaCode": "",
                                    "UPSQuantumView": "0",
                                    "UPSQVShipFromName": "",
                                    "UPSQVMemo": "",
                                    "PkgLength": "0.00000",
                                    "PkgWidth": "0.00000",
                                    "PkgHeight": "0.00000",
                                    "EDIReady": "0",
                                    "PhantomPack": "0",
                                    "ReplicatedFrom": "0",
                                    "ReplicatedStat": "",
                                    "PkgSizeUOM": "FT",
                                    "WeightUOM": "LB",
                                    "UseOTS": "0",
                                    "TranDocTypeID": "",
                                    "DocumentPrinted": "1",
                                    "OTSOrderNum": "4001080",
                                    "TaxCalculated": "0",
                                    "TaxCalcDate": "NULL",
                                    "CurrencyCode": "USD",
                                    "Rounding": "0.00000",
                                    "Rpt1Rounding": "0.00000",
                                    "Rpt2Rounding": "0.00000",
                                    "Rpt3Rounding": "0.00000",
                                    "DocRounding": "0.00000",
                                    "Rpt1TotalTax": "0.000",
                                    "Rpt2TotalTax": "0.000",
                                    "Rpt3TotalTax": "0.000",
                                    "OrderAmt": "0.000",
                                    "DocOrderAmt": "0.000",
                                    "Rpt1OrderAmt": "0.000",
                                    "Rpt2OrderAmt": "0.000",
                                    "Rpt3OrderAmt": "0.000",
                                    "TaxRegionCode": "",
                                    "TotalWHTax": "0.000",
                                    "DocTotalWHTax": "0.000",
                                    "Rpt1TotalWHTax": "0.000",
                                    "Rpt2TotalWHTax": "0.000",
                                    "Rpt3TotalWHTax": "0.000",
                                    "TotalSATax": "0.000",
                                    "DocTotalSATax": "0.000",
                                    "Rpt1TotalSATax": "0.000",
                                    "Rpt2TotalSATax": "0.000",
                                    "Rpt3TotalSATax": "0.000",
                                    "TotalTax": "0.000",
                                    "DocTotalTax": "0.000",
                                    "TotalDiscount": "0.000",
                                    "Rpt1TotalDiscount": "0.000",
                                    "Rpt2TotalDiscount": "0.000",
                                    "Rpt3TotalDiscount": "0.000",
                                    "DocTotalDiscount": "0.000",
                                    "ShipToCustNum": "1721",
                                    "DeviceUOM": "",
                                    "ManifestSizeUOM": "",
                                    "ManifestWtUOM": "",
                                    "ManifestWeight": "0.00000",
                                    "ManifestLength": "0.00000",
                                    "ManifestWidth": "0.00000",
                                    "ManifestHeight": "0.00000",
                                    "RateGrpCode": "MAIN",
                                    "InPrice": "0",
                                    "PBHoldNoInv": "0",
                                    "Obs10_PkgNum": "0",
                                    "ReconcileQty": "0.00000",
                                    "ScheduleNumber": "Schedule Number",
                                    "CounterASN": "0",
                                    "OurBank": "",
                                    "ERSOrder": "0",
                                    "AutoPrintReady": "0",
                                    "ShipOvers": "0",
                                    "WIPackSlipCreated": "0",
                                    "SysRevID": "0x00000004A8532A09",
                                    "SysRowID": "ffae52a4-2952-4a37-9b7d-0288bfd6f775",
                                    "AGAuthorizationCode": "",
                                    "AGAuthorizationDate": "NULL",
                                    "AGCarrierCUIT": "",
                                    "AGCOTMark": "0",
                                    "AGDocumentLetter": "",
                                    "AGInvoicingPoint": "",
                                    "AGLegalNumber": "",
                                    "AGPrintingControlType": "",
                                    "AGTrackLicense": "",
                                    "DispatchReason": "",
                                    "AGShippingWay": "",
                                    "OurSupplierCode": "",
                                    "ASNPrintedDate": "NULL",
                                    "EDIShipToNum": "",
                                    "MXIncoterm": "",
                                    "CreatedOn": "2023-10-18 16:07:14.307",
                                    "DigitalSignature": "",
                                    "SignedOn": "NULL",
                                    "SignedBy": "",
                                    "FirstPrintDate": "NULL",
                                    "DocCopyNum": "0",
                                    "CNDeclarationBill": "",
                                    "CNSample": "0",
                                    "CNBonded": "0",
                                    "MXCertifiedTimestamp": "NULL",
                                    "MXCertificateSN": "",
                                    "MXCertificate": "",
                                    "MXFiscalFolio": "",
                                    "MXSATCertificateSN": "",
                                    "MXDigitalSeal": "",
                                    "MXSATSeal": "",
                                    "MXOriginalString": "",
                                    "MXOriginalStringTFD": "",
                                    "MXSerie": "",
                                    "MXFolio": "",
                                    "MXETD": "NULL",
                                    "MXETA": "NULL",
                                    "MXDistance": "0.00",
                                    "MXPermitType": "",
                                    "MXPermitNum": "",
                                    "MXCartaPorteStatus": "0",
                                    "VehicleLicensePlate": "",
                                    "VehicleType": "",
                                    "VehicleYear": "0",
                                    "DriverID": "",
                                    "MXCancelFiscalFolio": ""
                                },
                                {
                                    "Company": "SOLAR",
                                    "PackNum": "217173",
                                    "ShipDate": "2023-10-18",
                                    "ShipViaCode": "BW",
                                    "ShipPerson": "jcarpenter",
                                    "EntryPerson": "jcarpenter",
                                    "ShipLog": "",
                                    "LabelComment": "",
                                    "ShipComment": "",
                                    "Invoiced": "0",
                                    "ShipToNum": "14",
                                    "ReadyToInvoice": "1",
                                    "CustNum": "1418",
                                    "Plant": "GRRP",
                                    "TrackingNumber": "FEDEX P FREIGHT BG687539923",
                                    "LegalNumber": "217173",
                                    "Voided": "0",
                                    "ExternalDeliveryNote": "0",
                                    "ExternalID": "",
                                    "ICReceived": "0",
                                    "XRefPackNum": "",
                                    "BTCustNum": "1418",
                                    "BTConNum": "0",
                                    "ShipStatus": "SHIPPED",
                                    "ShipGroup": "",
                                    "PkgCode": "",
                                    "PkgClass": "",
                                    "Weight": "0.00000",
                                    "ResDelivery": "0",
                                    "SatDelivery": "0",
                                    "SatPickup": "0",
                                    "VerbalConf": "0",
                                    "Hazmat": "0",
                                    "DocOnly": "0",
                                    "RefNotes": "",
                                    "ApplyChrg": "0",
                                    "ChrgAmount": "0.000",
                                    "COD": "0",
                                    "CODFreight": "0",
                                    "CODCheck": "0",
                                    "CODAmount": "0.000",
                                    "GroundType": "",
                                    "NotifyFlag": "0",
                                    "NotifyEMail": "",
                                    "DeclaredIns": "0",
                                    "DeclaredAmt": "0.000",
                                    "MFTransNum": "",
                                    "MFCallTag": "",
                                    "MFPickupNum": "",
                                    "MFDiscFreight": "0.000",
                                    "MFTemplate": "",
                                    "MFUse3B": "0",
                                    "MF3BAccount": "",
                                    "MFDimWeight": "0.00000",
                                    "MFZone": "",
                                    "MFFreightAmt": "0.000",
                                    "MFOtherAmt": "0.000",
                                    "MFOversized": "0",
                                    "ServSatDelivery": "0",
                                    "ServSatPickup": "0",
                                    "ServSignature": "0",
                                    "ServAlert": "0",
                                    "ServPOD": "0",
                                    "ServAOD": "0",
                                    "ServHomeDel": "0",
                                    "DeliveryType": "",
                                    "ServDeliveryDate": "NULL",
                                    "ServPhone": "",
                                    "ServInstruct": "",
                                    "ServRelease": "0",
                                    "ServAuthNum": "",
                                    "ServRef1": "",
                                    "ServRef2": "",
                                    "ServRef3": "",
                                    "ServRef4": "",
                                    "ServRef5": "",
                                    "BOLNum": "0",
                                    "BOLLine": "0",
                                    "CommercialInvoice": "0",
                                    "ShipExprtDeclartn": "0",
                                    "CertOfOrigin": "0",
                                    "LetterOfInstr": "0",
                                    "HazardousShipment": "0",
                                    "IntrntlShip": "0",
                                    "PayFlag": "",
                                    "PayAccount": "",
                                    "PayBTAddress1": "",
                                    "PayBTAddress2": "",
                                    "PayBTCity": "",
                                    "PayBTState": "",
                                    "PayBTZip": "",
                                    "PayBTCountry": "",
                                    "FFAddress1": "",
                                    "FFAddress2": "",
                                    "FFCity": "",
                                    "FFState": "",
                                    "FFZip": "",
                                    "FFCountry": "",
                                    "FFContact": "",
                                    "FFCompName": "",
                                    "FFPhoneNum": "",
                                    "ChangedBy": "jcarpenter",
                                    "ChangeDate": "2023-10-18",
                                    "ChangeTime": "50768",
                                    "FFID": "",
                                    "IndividualPackIDs": "0",
                                    "FFAddress3": "",
                                    "DeliveryConf": "1",
                                    "AddlHdlgFlag": "0",
                                    "NonStdPkg": "0",
                                    "FFCountryNum": "0",
                                    "PayBTAddress3": "",
                                    "PayBTCountryNum": "0",
                                    "PayBTPhone": "",
                                    "WayBillNbr": "",
                                    "FreightedShipViaCode": "",
                                    "UPSQuantumView": "0",
                                    "UPSQVShipFromName": "",
                                    "UPSQVMemo": "",
                                    "PkgLength": "0.00000",
                                    "PkgWidth": "0.00000",
                                    "PkgHeight": "0.00000",
                                    "EDIReady": "0",
                                    "PhantomPack": "0",
                                    "ReplicatedFrom": "0",
                                    "ReplicatedStat": "",
                                    "PkgSizeUOM": "FT",
                                    "WeightUOM": "LB",
                                    "UseOTS": "0",
                                    "TranDocTypeID": "",
                                    "DocumentPrinted": "1",
                                    "OTSOrderNum": "4001033",
                                    "TaxCalculated": "0",
                                    "TaxCalcDate": "NULL",
                                    "CurrencyCode": "USD",
                                    "Rounding": "0.00000",
                                    "Rpt1Rounding": "0.00000",
                                    "Rpt2Rounding": "0.00000",
                                    "Rpt3Rounding": "0.00000",
                                    "DocRounding": "0.00000",
                                    "Rpt1TotalTax": "0.000",
                                    "Rpt2TotalTax": "0.000",
                                    "Rpt3TotalTax": "0.000",
                                    "OrderAmt": "0.000",
                                    "DocOrderAmt": "0.000",
                                    "Rpt1OrderAmt": "0.000",
                                    "Rpt2OrderAmt": "0.000",
                                    "Rpt3OrderAmt": "0.000",
                                    "TaxRegionCode": "",
                                    "TotalWHTax": "0.000",
                                    "DocTotalWHTax": "0.000",
                                    "Rpt1TotalWHTax": "0.000",
                                    "Rpt2TotalWHTax": "0.000",
                                    "Rpt3TotalWHTax": "0.000",
                                    "TotalSATax": "0.000",
                                    "DocTotalSATax": "0.000",
                                    "Rpt1TotalSATax": "0.000",
                                    "Rpt2TotalSATax": "0.000",
                                    "Rpt3TotalSATax": "0.000",
                                    "TotalTax": "0.000",
                                    "DocTotalTax": "0.000",
                                    "TotalDiscount": "0.000",
                                    "Rpt1TotalDiscount": "0.000",
                                    "Rpt2TotalDiscount": "0.000",
                                    "Rpt3TotalDiscount": "0.000",
                                    "DocTotalDiscount": "0.000",
                                    "ShipToCustNum": "1418",
                                    "DeviceUOM": "",
                                    "ManifestSizeUOM": "",
                                    "ManifestWtUOM": "",
                                    "ManifestWeight": "0.00000",
                                    "ManifestLength": "0.00000",
                                    "ManifestWidth": "0.00000",
                                    "ManifestHeight": "0.00000",
                                    "RateGrpCode": "MAIN",
                                    "InPrice": "0",
                                    "PBHoldNoInv": "0",
                                    "Obs10_PkgNum": "0",
                                    "ReconcileQty": "0.00000",
                                    "ScheduleNumber": "Schedule Number",
                                    "CounterASN": "0",
                                    "OurBank": "",
                                    "ERSOrder": "0",
                                    "AutoPrintReady": "0",
                                    "ShipOvers": "0",
                                    "WIPackSlipCreated": "0",
                                    "SysRevID": "0x00000004A7DA7390",
                                    "SysRowID": "d348f115-d069-4c9c-8c31-4118685d712a",
                                    "AGAuthorizationCode": "",
                                    "AGAuthorizationDate": "NULL",
                                    "AGCarrierCUIT": "",
                                    "AGCOTMark": "0",
                                    "AGDocumentLetter": "",
                                    "AGInvoicingPoint": "",
                                    "AGLegalNumber": "",
                                    "AGPrintingControlType": "",
                                    "AGTrackLicense": "",
                                    "DispatchReason": "",
                                    "AGShippingWay": "",
                                    "OurSupplierCode": "",
                                    "ASNPrintedDate": "NULL",
                                    "EDIShipToNum": "",
                                    "MXIncoterm": "",
                                    "CreatedOn": "2023-10-18 14:04:47.780",
                                    "DigitalSignature": "",
                                    "SignedOn": "NULL",
                                    "SignedBy": "",
                                    "FirstPrintDate": "NULL",
                                    "DocCopyNum": "0",
                                    "CNDeclarationBill": "",
                                    "CNSample": "0",
                                    "CNBonded": "0",
                                    "MXCertifiedTimestamp": "NULL",
                                    "MXCertificateSN": "",
                                    "MXCertificate": "",
                                    "MXFiscalFolio": "",
                                    "MXSATCertificateSN": "",
                                    "MXDigitalSeal": "",
                                    "MXSATSeal": "",
                                    "MXOriginalString": "",
                                    "MXOriginalStringTFD": "",
                                    "MXSerie": "",
                                    "MXFolio": "",
                                    "MXETD": "NULL",
                                    "MXETA": "NULL",
                                    "MXDistance": "0.00",
                                    "MXPermitType": "",
                                    "MXPermitNum": "",
                                    "MXCartaPorteStatus": "0",
                                    "VehicleLicensePlate": "",
                                    "VehicleType": "",
                                    "VehicleYear": "0",
                                    "DriverID": "",
                                    "MXCancelFiscalFolio": ""
                                },
                                {
                                    "Company": "SOLAR",
                                    "PackNum": "217172",
                                    "ShipDate": "2023-10-18",
                                    "ShipViaCode": "BW",
                                    "ShipPerson": "jcarpenter",
                                    "EntryPerson": "jcarpenter",
                                    "ShipLog": "",
                                    "LabelComment": "",
                                    "ShipComment": "",
                                    "Invoiced": "0",
                                    "ShipToNum": "4",
                                    "ReadyToInvoice": "1",
                                    "CustNum": "903",
                                    "Plant": "GRRP",
                                    "TrackingNumber": "FEDEX G 628230318913",
                                    "LegalNumber": "217172",
                                    "Voided": "0",
                                    "ExternalDeliveryNote": "0",
                                    "ExternalID": "",
                                    "ICReceived": "0",
                                    "XRefPackNum": "",
                                    "BTCustNum": "903",
                                    "BTConNum": "0",
                                    "ShipStatus": "SHIPPED",
                                    "ShipGroup": "",
                                    "PkgCode": "",
                                    "PkgClass": "",
                                    "Weight": "0.00000",
                                    "ResDelivery": "0",
                                    "SatDelivery": "0",
                                    "SatPickup": "0",
                                    "VerbalConf": "0",
                                    "Hazmat": "0",
                                    "DocOnly": "0",
                                    "RefNotes": "",
                                    "ApplyChrg": "0",
                                    "ChrgAmount": "0.000",
                                    "COD": "0",
                                    "CODFreight": "0",
                                    "CODCheck": "0",
                                    "CODAmount": "0.000",
                                    "GroundType": "",
                                    "NotifyFlag": "0",
                                    "NotifyEMail": "",
                                    "DeclaredIns": "0",
                                    "DeclaredAmt": "0.000",
                                    "MFTransNum": "",
                                    "MFCallTag": "",
                                    "MFPickupNum": "",
                                    "MFDiscFreight": "0.000",
                                    "MFTemplate": "",
                                    "MFUse3B": "0",
                                    "MF3BAccount": "",
                                    "MFDimWeight": "0.00000",
                                    "MFZone": "",
                                    "MFFreightAmt": "0.000",
                                    "MFOtherAmt": "0.000",
                                    "MFOversized": "0",
                                    "ServSatDelivery": "0",
                                    "ServSatPickup": "0",
                                    "ServSignature": "0",
                                    "ServAlert": "0",
                                    "ServPOD": "0",
                                    "ServAOD": "0",
                                    "ServHomeDel": "0",
                                    "DeliveryType": "",
                                    "ServDeliveryDate": "NULL",
                                    "ServPhone": "",
                                    "ServInstruct": "",
                                    "ServRelease": "0",
                                    "ServAuthNum": "",
                                    "ServRef1": "",
                                    "ServRef2": "",
                                    "ServRef3": "",
                                    "ServRef4": "",
                                    "ServRef5": "",
                                    "BOLNum": "0",
                                    "BOLLine": "0",
                                    "CommercialInvoice": "0",
                                    "ShipExprtDeclartn": "0",
                                    "CertOfOrigin": "0",
                                    "LetterOfInstr": "0",
                                    "HazardousShipment": "0",
                                    "IntrntlShip": "0",
                                    "PayFlag": "",
                                    "PayAccount": "",
                                    "PayBTAddress1": "",
                                    "PayBTAddress2": "",
                                    "PayBTCity": "",
                                    "PayBTState": "",
                                    "PayBTZip": "",
                                    "PayBTCountry": "",
                                    "FFAddress1": "",
                                    "FFAddress2": "",
                                    "FFCity": "",
                                    "FFState": "",
                                    "FFZip": "",
                                    "FFCountry": "",
                                    "FFContact": "",
                                    "FFCompName": "",
                                    "FFPhoneNum": "",
                                    "ChangedBy": "jcarpenter",
                                    "ChangeDate": "2023-10-18",
                                    "ChangeTime": "43260",
                                    "FFID": "",
                                    "IndividualPackIDs": "0",
                                    "FFAddress3": "",
                                    "DeliveryConf": "1",
                                    "AddlHdlgFlag": "0",
                                    "NonStdPkg": "0",
                                    "FFCountryNum": "0",
                                    "PayBTAddress3": "",
                                    "PayBTCountryNum": "0",
                                    "PayBTPhone": "",
                                    "WayBillNbr": "",
                                    "FreightedShipViaCode": "",
                                    "UPSQuantumView": "0",
                                    "UPSQVShipFromName": "",
                                    "UPSQVMemo": "",
                                    "PkgLength": "0.00000",
                                    "PkgWidth": "0.00000",
                                    "PkgHeight": "0.00000",
                                    "EDIReady": "0",
                                    "PhantomPack": "0",
                                    "ReplicatedFrom": "0",
                                    "ReplicatedStat": "",
                                    "PkgSizeUOM": "FT",
                                    "WeightUOM": "LB",
                                    "UseOTS": "0",
                                    "TranDocTypeID": "",
                                    "DocumentPrinted": "1",
                                    "OTSOrderNum": "4001125",
                                    "TaxCalculated": "0",
                                    "TaxCalcDate": "NULL",
                                    "CurrencyCode": "USD",
                                    "Rounding": "0.00000",
                                    "Rpt1Rounding": "0.00000",
                                    "Rpt2Rounding": "0.00000",
                                    "Rpt3Rounding": "0.00000",
                                    "DocRounding": "0.00000",
                                    "Rpt1TotalTax": "0.000",
                                    "Rpt2TotalTax": "0.000",
                                    "Rpt3TotalTax": "0.000",
                                    "OrderAmt": "0.000",
                                    "DocOrderAmt": "0.000",
                                    "Rpt1OrderAmt": "0.000",
                                    "Rpt2OrderAmt": "0.000",
                                    "Rpt3OrderAmt": "0.000",
                                    "TaxRegionCode": "",
                                    "TotalWHTax": "0.000",
                                    "DocTotalWHTax": "0.000",
                                    "Rpt1TotalWHTax": "0.000",
                                    "Rpt2TotalWHTax": "0.000",
                                    "Rpt3TotalWHTax": "0.000",
                                    "TotalSATax": "0.000",
                                    "DocTotalSATax": "0.000",
                                    "Rpt1TotalSATax": "0.000",
                                    "Rpt2TotalSATax": "0.000",
                                    "Rpt3TotalSATax": "0.000",
                                    "TotalTax": "0.000",
                                    "DocTotalTax": "0.000",
                                    "TotalDiscount": "0.000",
                                    "Rpt1TotalDiscount": "0.000",
                                    "Rpt2TotalDiscount": "0.000",
                                    "Rpt3TotalDiscount": "0.000",
                                    "DocTotalDiscount": "0.000",
                                    "ShipToCustNum": "903",
                                    "DeviceUOM": "",
                                    "ManifestSizeUOM": "",
                                    "ManifestWtUOM": "",
                                    "ManifestWeight": "0.00000",
                                    "ManifestLength": "0.00000",
                                    "ManifestWidth": "0.00000",
                                    "ManifestHeight": "0.00000",
                                    "RateGrpCode": "MAIN",
                                    "InPrice": "0",
                                    "PBHoldNoInv": "0",
                                    "Obs10_PkgNum": "0",
                                    "ReconcileQty": "0.00000",
                                    "ScheduleNumber": "Schedule Number",
                                    "CounterASN": "0",
                                    "OurBank": "",
                                    "ERSOrder": "0",
                                    "AutoPrintReady": "0",
                                    "ShipOvers": "0",
                                    "WIPackSlipCreated": "0",
                                    "SysRevID": "0x00000004A7A29E0C",
                                    "SysRowID": "70c0dbd3-216b-461e-91b7-e9f86fe6ac9d",
                                    "AGAuthorizationCode": "",
                                    "AGAuthorizationDate": "NULL",
                                    "AGCarrierCUIT": "",
                                    "AGCOTMark": "0",
                                    "AGDocumentLetter": "",
                                    "AGInvoicingPoint": "",
                                    "AGLegalNumber": "",
                                    "AGPrintingControlType": "",
                                    "AGTrackLicense": "",
                                    "DispatchReason": "",
                                    "AGShippingWay": "",
                                    "OurSupplierCode": "",
                                    "ASNPrintedDate": "NULL",
                                    "EDIShipToNum": "",
                                    "MXIncoterm": "",
                                    "CreatedOn": "2023-10-18 11:53:12.857",
                                    "DigitalSignature": "",
                                    "SignedOn": "NULL",
                                    "SignedBy": "",
                                    "FirstPrintDate": "NULL",
                                    "DocCopyNum": "0",
                                    "CNDeclarationBill": "",
                                    "CNSample": "0",
                                    "CNBonded": "0",
                                    "MXCertifiedTimestamp": "NULL",
                                    "MXCertificateSN": "",
                                    "MXCertificate": "",
                                    "MXFiscalFolio": "",
                                    "MXSATCertificateSN": "",
                                    "MXDigitalSeal": "",
                                    "MXSATSeal": "",
                                    "MXOriginalString": "",
                                    "MXOriginalStringTFD": "",
                                    "MXSerie": "",
                                    "MXFolio": "",
                                    "MXETD": "NULL",
                                    "MXETA": "NULL",
                                    "MXDistance": "0.00",
                                    "MXPermitType": "",
                                    "MXPermitNum": "",
                                    "MXCartaPorteStatus": "0",
                                    "VehicleLicensePlate": "",
                                    "VehicleType": "",
                                    "VehicleYear": "0",
                                    "DriverID": "",
                                    "MXCancelFiscalFolio": ""
                                },
                                {
                                    "Company": "SOLAR",
                                    "PackNum": "217169",
                                    "ShipDate": "2023-10-18",
                                    "ShipViaCode": "BW",
                                    "ShipPerson": "jcarpenter",
                                    "EntryPerson": "jcarpenter",
                                    "ShipLog": "",
                                    "LabelComment": "",
                                    "ShipComment": "",
                                    "Invoiced": "0",
                                    "ShipToNum": "39",
                                    "ReadyToInvoice": "1",
                                    "CustNum": "1704",
                                    "Plant": "GRRP",
                                    "TrackingNumber": "FEDEX P FREIGHT BG687538423",
                                    "LegalNumber": "217169",
                                    "Voided": "0",
                                    "ExternalDeliveryNote": "0",
                                    "ExternalID": "",
                                    "ICReceived": "0",
                                    "XRefPackNum": "",
                                    "BTCustNum": "1704",
                                    "BTConNum": "0",
                                    "ShipStatus": "SHIPPED",
                                    "ShipGroup": "",
                                    "PkgCode": "",
                                    "PkgClass": "",
                                    "Weight": "0.00000",
                                    "ResDelivery": "0",
                                    "SatDelivery": "0",
                                    "SatPickup": "0",
                                    "VerbalConf": "0",
                                    "Hazmat": "0",
                                    "DocOnly": "0",
                                    "RefNotes": "",
                                    "ApplyChrg": "0",
                                    "ChrgAmount": "0.000",
                                    "COD": "0",
                                    "CODFreight": "0",
                                    "CODCheck": "0",
                                    "CODAmount": "0.000",
                                    "GroundType": "",
                                    "NotifyFlag": "0",
                                    "NotifyEMail": "",
                                    "DeclaredIns": "0",
                                    "DeclaredAmt": "0.000",
                                    "MFTransNum": "",
                                    "MFCallTag": "",
                                    "MFPickupNum": "",
                                    "MFDiscFreight": "0.000",
                                    "MFTemplate": "",
                                    "MFUse3B": "0",
                                    "MF3BAccount": "",
                                    "MFDimWeight": "0.00000",
                                    "MFZone": "",
                                    "MFFreightAmt": "0.000",
                                    "MFOtherAmt": "0.000",
                                    "MFOversized": "0",
                                    "ServSatDelivery": "0",
                                    "ServSatPickup": "0",
                                    "ServSignature": "0",
                                    "ServAlert": "0",
                                    "ServPOD": "0",
                                    "ServAOD": "0",
                                    "ServHomeDel": "0",
                                    "DeliveryType": "",
                                    "ServDeliveryDate": "NULL",
                                    "ServPhone": "",
                                    "ServInstruct": "",
                                    "ServRelease": "0",
                                    "ServAuthNum": "",
                                    "ServRef1": "",
                                    "ServRef2": "",
                                    "ServRef3": "",
                                    "ServRef4": "",
                                    "ServRef5": "",
                                    "BOLNum": "0",
                                    "BOLLine": "0",
                                    "CommercialInvoice": "0",
                                    "ShipExprtDeclartn": "0",
                                    "CertOfOrigin": "0",
                                    "LetterOfInstr": "0",
                                    "HazardousShipment": "0",
                                    "IntrntlShip": "0",
                                    "PayFlag": "",
                                    "PayAccount": "",
                                    "PayBTAddress1": "",
                                    "PayBTAddress2": "",
                                    "PayBTCity": "",
                                    "PayBTState": "",
                                    "PayBTZip": "",
                                    "PayBTCountry": "",
                                    "FFAddress1": "",
                                    "FFAddress2": "",
                                    "FFCity": "",
                                    "FFState": "",
                                    "FFZip": "",
                                    "FFCountry": "",
                                    "FFContact": "",
                                    "FFCompName": "",
                                    "FFPhoneNum": "",
                                    "ChangedBy": "jcarpenter",
                                    "ChangeDate": "2023-10-18",
                                    "ChangeTime": "38601",
                                    "FFID": "",
                                    "IndividualPackIDs": "0",
                                    "FFAddress3": "",
                                    "DeliveryConf": "1",
                                    "AddlHdlgFlag": "0",
                                    "NonStdPkg": "0",
                                    "FFCountryNum": "0",
                                    "PayBTAddress3": "",
                                    "PayBTCountryNum": "0",
                                    "PayBTPhone": "",
                                    "WayBillNbr": "",
                                    "FreightedShipViaCode": "",
                                    "UPSQuantumView": "0",
                                    "UPSQVShipFromName": "",
                                    "UPSQVMemo": "",
                                    "PkgLength": "0.00000",
                                    "PkgWidth": "0.00000",
                                    "PkgHeight": "0.00000",
                                    "EDIReady": "0",
                                    "PhantomPack": "0",
                                    "ReplicatedFrom": "0",
                                    "ReplicatedStat": "",
                                    "PkgSizeUOM": "FT",
                                    "WeightUOM": "LB",
                                    "UseOTS": "0",
                                    "TranDocTypeID": "",
                                    "DocumentPrinted": "1",
                                    "OTSOrderNum": "4001199",
                                    "TaxCalculated": "0",
                                    "TaxCalcDate": "NULL",
                                    "CurrencyCode": "USD",
                                    "Rounding": "0.00000",
                                    "Rpt1Rounding": "0.00000",
                                    "Rpt2Rounding": "0.00000",
                                    "Rpt3Rounding": "0.00000",
                                    "DocRounding": "0.00000",
                                    "Rpt1TotalTax": "0.000",
                                    "Rpt2TotalTax": "0.000",
                                    "Rpt3TotalTax": "0.000",
                                    "OrderAmt": "0.000",
                                    "DocOrderAmt": "0.000",
                                    "Rpt1OrderAmt": "0.000",
                                    "Rpt2OrderAmt": "0.000",
                                    "Rpt3OrderAmt": "0.000",
                                    "TaxRegionCode": "",
                                    "TotalWHTax": "0.000",
                                    "DocTotalWHTax": "0.000",
                                    "Rpt1TotalWHTax": "0.000",
                                    "Rpt2TotalWHTax": "0.000",
                                    "Rpt3TotalWHTax": "0.000",
                                    "TotalSATax": "0.000",
                                    "DocTotalSATax": "0.000",
                                    "Rpt1TotalSATax": "0.000",
                                    "Rpt2TotalSATax": "0.000",
                                    "Rpt3TotalSATax": "0.000",
                                    "TotalTax": "0.000",
                                    "DocTotalTax": "0.000",
                                    "TotalDiscount": "0.000",
                                    "Rpt1TotalDiscount": "0.000",
                                    "Rpt2TotalDiscount": "0.000",
                                    "Rpt3TotalDiscount": "0.000",
                                    "DocTotalDiscount": "0.000",
                                    "ShipToCustNum": "1704",
                                    "DeviceUOM": "",
                                    "ManifestSizeUOM": "",
                                    "ManifestWtUOM": "",
                                    "ManifestWeight": "0.00000",
                                    "ManifestLength": "0.00000",
                                    "ManifestWidth": "0.00000",
                                    "ManifestHeight": "0.00000",
                                    "RateGrpCode": "MAIN",
                                    "InPrice": "0",
                                    "PBHoldNoInv": "0",
                                    "Obs10_PkgNum": "0",
                                    "ReconcileQty": "0.00000",
                                    "ScheduleNumber": "Schedule Number",
                                    "CounterASN": "0",
                                    "OurBank": "",
                                    "ERSOrder": "0",
                                    "AutoPrintReady": "0",
                                    "ShipOvers": "0",
                                    "WIPackSlipCreated": "0",
                                    "SysRevID": "0x00000004A7A22A28",
                                    "SysRowID": "270723f6-5c8f-4116-9da5-22eb87aa717e",
                                    "AGAuthorizationCode": "",
                                    "AGAuthorizationDate": "NULL",
                                    "AGCarrierCUIT": "",
                                    "AGCOTMark": "0",
                                    "AGDocumentLetter": "",
                                    "AGInvoicingPoint": "",
                                    "AGLegalNumber": "",
                                    "AGPrintingControlType": "",
                                    "AGTrackLicense": "",
                                    "DispatchReason": "",
                                    "AGShippingWay": "",
                                    "OurSupplierCode": "",
                                    "ASNPrintedDate": "NULL",
                                    "EDIShipToNum": "",
                                    "MXIncoterm": "",
                                    "CreatedOn": "2023-10-18 10:38:34.713",
                                    "DigitalSignature": "",
                                    "SignedOn": "NULL",
                                    "SignedBy": "",
                                    "FirstPrintDate": "NULL",
                                    "DocCopyNum": "0",
                                    "CNDeclarationBill": "",
                                    "CNSample": "0",
                                    "CNBonded": "0",
                                    "MXCertifiedTimestamp": "NULL",
                                    "MXCertificateSN": "",
                                    "MXCertificate": "",
                                    "MXFiscalFolio": "",
                                    "MXSATCertificateSN": "",
                                    "MXDigitalSeal": "",
                                    "MXSATSeal": "",
                                    "MXOriginalString": "",
                                    "MXOriginalStringTFD": "",
                                    "MXSerie": "",
                                    "MXFolio": "",
                                    "MXETD": "NULL",
                                    "MXETA": "NULL",
                                    "MXDistance": "0.00",
                                    "MXPermitType": "",
                                    "MXPermitNum": "",
                                    "MXCartaPorteStatus": "0",
                                    "VehicleLicensePlate": "",
                                    "VehicleType": "",
                                    "VehicleYear": "0",
                                    "DriverID": "",
                                    "MXCancelFiscalFolio": ""
                                },
                                {
                                    "Company": "SOLAR",
                                    "PackNum": "217167",
                                    "ShipDate": "2023-10-17",
                                    "ShipViaCode": "BW",
                                    "ShipPerson": "jcarpenter",
                                    "EntryPerson": "jcarpenter",
                                    "ShipLog": "",
                                    "LabelComment": "",
                                    "ShipComment": "",
                                    "Invoiced": "0",
                                    "ShipToNum": "OTS00000/00000",
                                    "ReadyToInvoice": "1",
                                    "CustNum": "1015",
                                    "Plant": "GRRP",
                                    "TrackingNumber": "FEDEX NDA FREIGHT 628230318902",
                                    "LegalNumber": "217167",
                                    "Voided": "0",
                                    "ExternalDeliveryNote": "0",
                                    "ExternalID": "",
                                    "ICReceived": "0",
                                    "XRefPackNum": "",
                                    "BTCustNum": "1015",
                                    "BTConNum": "0",
                                    "ShipStatus": "SHIPPED",
                                    "ShipGroup": "",
                                    "PkgCode": "",
                                    "PkgClass": "",
                                    "Weight": "0.00000",
                                    "ResDelivery": "0",
                                    "SatDelivery": "0",
                                    "SatPickup": "0",
                                    "VerbalConf": "0",
                                    "Hazmat": "0",
                                    "DocOnly": "0",
                                    "RefNotes": "",
                                    "ApplyChrg": "0",
                                    "ChrgAmount": "0.000",
                                    "COD": "0",
                                    "CODFreight": "0",
                                    "CODCheck": "0",
                                    "CODAmount": "0.000",
                                    "GroundType": "",
                                    "NotifyFlag": "0",
                                    "NotifyEMail": "",
                                    "DeclaredIns": "0",
                                    "DeclaredAmt": "0.000",
                                    "MFTransNum": "",
                                    "MFCallTag": "",
                                    "MFPickupNum": "",
                                    "MFDiscFreight": "0.000",
                                    "MFTemplate": "",
                                    "MFUse3B": "0",
                                    "MF3BAccount": "",
                                    "MFDimWeight": "0.00000",
                                    "MFZone": "",
                                    "MFFreightAmt": "0.000",
                                    "MFOtherAmt": "0.000",
                                    "MFOversized": "0",
                                    "ServSatDelivery": "0",
                                    "ServSatPickup": "0",
                                    "ServSignature": "0",
                                    "ServAlert": "0",
                                    "ServPOD": "0",
                                    "ServAOD": "0",
                                    "ServHomeDel": "0",
                                    "DeliveryType": "",
                                    "ServDeliveryDate": "NULL",
                                    "ServPhone": "",
                                    "ServInstruct": "",
                                    "ServRelease": "0",
                                    "ServAuthNum": "",
                                    "ServRef1": "",
                                    "ServRef2": "",
                                    "ServRef3": "",
                                    "ServRef4": "",
                                    "ServRef5": "",
                                    "BOLNum": "0",
                                    "BOLLine": "0",
                                    "CommercialInvoice": "0",
                                    "ShipExprtDeclartn": "0",
                                    "CertOfOrigin": "0",
                                    "LetterOfInstr": "0",
                                    "HazardousShipment": "0",
                                    "IntrntlShip": "0",
                                    "PayFlag": "",
                                    "PayAccount": "",
                                    "PayBTAddress1": "",
                                    "PayBTAddress2": "",
                                    "PayBTCity": "",
                                    "PayBTState": "",
                                    "PayBTZip": "",
                                    "PayBTCountry": "",
                                    "FFAddress1": "",
                                    "FFAddress2": "",
                                    "FFCity": "",
                                    "FFState": "",
                                    "FFZip": "",
                                    "FFCountry": "",
                                    "FFContact": "",
                                    "FFCompName": "",
                                    "FFPhoneNum": "",
                                    "ChangedBy": "jcarpenter",
                                    "ChangeDate": "2023-10-17",
                                    "ChangeTime": "68350",
                                    "FFID": "",
                                    "IndividualPackIDs": "0",
                                    "FFAddress3": "",
                                    "DeliveryConf": "1",
                                    "AddlHdlgFlag": "0",
                                    "NonStdPkg": "0",
                                    "FFCountryNum": "0",
                                    "PayBTAddress3": "",
                                    "PayBTCountryNum": "0",
                                    "PayBTPhone": "",
                                    "WayBillNbr": "",
                                    "FreightedShipViaCode": "",
                                    "UPSQuantumView": "0",
                                    "UPSQVShipFromName": "",
                                    "UPSQVMemo": "",
                                    "PkgLength": "0.00000",
                                    "PkgWidth": "0.00000",
                                    "PkgHeight": "0.00000",
                                    "EDIReady": "0",
                                    "PhantomPack": "0",
                                    "ReplicatedFrom": "0",
                                    "ReplicatedStat": "",
                                    "PkgSizeUOM": "FT",
                                    "WeightUOM": "LB",
                                    "UseOTS": "1",
                                    "TranDocTypeID": "",
                                    "DocumentPrinted": "1",
                                    "OTSOrderNum": "4001339",
                                    "TaxCalculated": "0",
                                    "TaxCalcDate": "NULL",
                                    "CurrencyCode": "USD",
                                    "Rounding": "0.00000",
                                    "Rpt1Rounding": "0.00000",
                                    "Rpt2Rounding": "0.00000",
                                    "Rpt3Rounding": "0.00000",
                                    "DocRounding": "0.00000",
                                    "Rpt1TotalTax": "0.000",
                                    "Rpt2TotalTax": "0.000",
                                    "Rpt3TotalTax": "0.000",
                                    "OrderAmt": "0.000",
                                    "DocOrderAmt": "0.000",
                                    "Rpt1OrderAmt": "0.000",
                                    "Rpt2OrderAmt": "0.000",
                                    "Rpt3OrderAmt": "0.000",
                                    "TaxRegionCode": "",
                                    "TotalWHTax": "0.000",
                                    "DocTotalWHTax": "0.000",
                                    "Rpt1TotalWHTax": "0.000",
                                    "Rpt2TotalWHTax": "0.000",
                                    "Rpt3TotalWHTax": "0.000",
                                    "TotalSATax": "0.000",
                                    "DocTotalSATax": "0.000",
                                    "Rpt1TotalSATax": "0.000",
                                    "Rpt2TotalSATax": "0.000",
                                    "Rpt3TotalSATax": "0.000",
                                    "TotalTax": "0.000",
                                    "DocTotalTax": "0.000",
                                    "TotalDiscount": "0.000",
                                    "Rpt1TotalDiscount": "0.000",
                                    "Rpt2TotalDiscount": "0.000",
                                    "Rpt3TotalDiscount": "0.000",
                                    "DocTotalDiscount": "0.000",
                                    "ShipToCustNum": "1015",
                                    "DeviceUOM": "",
                                    "ManifestSizeUOM": "",
                                    "ManifestWtUOM": "",
                                    "ManifestWeight": "0.00000",
                                    "ManifestLength": "0.00000",
                                    "ManifestWidth": "0.00000",
                                    "ManifestHeight": "0.00000",
                                    "RateGrpCode": "MAIN",
                                    "InPrice": "0",
                                    "PBHoldNoInv": "0",
                                    "Obs10_PkgNum": "0",
                                    "ReconcileQty": "0.00000",
                                    "ScheduleNumber": "Schedule Number",
                                    "CounterASN": "0",
                                    "OurBank": "",
                                    "ERSOrder": "0",
                                    "AutoPrintReady": "0",
                                    "ShipOvers": "0",
                                    "WIPackSlipCreated": "0",
                                    "SysRevID": "0x00000004A743B463",
                                    "SysRowID": "c221cb89-a4bd-4094-ad9f-15db64e54013",
                                    "AGAuthorizationCode": "",
                                    "AGAuthorizationDate": "NULL",
                                    "AGCarrierCUIT": "",
                                    "AGCOTMark": "0",
                                    "AGDocumentLetter": "",
                                    "AGInvoicingPoint": "",
                                    "AGLegalNumber": "",
                                    "AGPrintingControlType": "",
                                    "AGTrackLicense": "",
                                    "DispatchReason": "",
                                    "AGShippingWay": "",
                                    "OurSupplierCode": "",
                                    "ASNPrintedDate": "NULL",
                                    "EDIShipToNum": "",
                                    "MXIncoterm": "",
                                    "CreatedOn": "2023-10-17 18:54:46.707",
                                    "DigitalSignature": "",
                                    "SignedOn": "NULL",
                                    "SignedBy": "",
                                    "FirstPrintDate": "NULL",
                                    "DocCopyNum": "0",
                                    "CNDeclarationBill": "",
                                    "CNSample": "0",
                                    "CNBonded": "0",
                                    "MXCertifiedTimestamp": "NULL",
                                    "MXCertificateSN": "",
                                    "MXCertificate": "",
                                    "MXFiscalFolio": "",
                                    "MXSATCertificateSN": "",
                                    "MXDigitalSeal": "",
                                    "MXSATSeal": "",
                                    "MXOriginalString": "",
                                    "MXOriginalStringTFD": "",
                                    "MXSerie": "",
                                    "MXFolio": "",
                                    "MXETD": "NULL",
                                    "MXETA": "NULL",
                                    "MXDistance": "0.00",
                                    "MXPermitType": "",
                                    "MXPermitNum": "",
                                    "MXCartaPorteStatus": "0",
                                    "VehicleLicensePlate": "",
                                    "VehicleType": "",
                                    "VehicleYear": "0",
                                    "DriverID": "",
                                    "MXCancelFiscalFolio": ""
                                },
                                {
                                    "Company": "SOLAR",
                                    "PackNum": "217165",
                                    "ShipDate": "2023-10-17",
                                    "ShipViaCode": "BW",
                                    "ShipPerson": "jcarpenter",
                                    "EntryPerson": "jcarpenter",
                                    "ShipLog": "",
                                    "LabelComment": "",
                                    "ShipComment": "",
                                    "Invoiced": "0",
                                    "ShipToNum": "",
                                    "ReadyToInvoice": "1",
                                    "CustNum": "1726",
                                    "Plant": "GRRP",
                                    "TrackingNumber": "FEDEX P FREIGHT BG687132423",
                                    "LegalNumber": "217165",
                                    "Voided": "0",
                                    "ExternalDeliveryNote": "0",
                                    "ExternalID": "",
                                    "ICReceived": "0",
                                    "XRefPackNum": "",
                                    "BTCustNum": "1726",
                                    "BTConNum": "0",
                                    "ShipStatus": "SHIPPED",
                                    "ShipGroup": "",
                                    "PkgCode": "",
                                    "PkgClass": "",
                                    "Weight": "0.00000",
                                    "ResDelivery": "0",
                                    "SatDelivery": "0",
                                    "SatPickup": "0",
                                    "VerbalConf": "0",
                                    "Hazmat": "0",
                                    "DocOnly": "0",
                                    "RefNotes": "",
                                    "ApplyChrg": "0",
                                    "ChrgAmount": "0.000",
                                    "COD": "0",
                                    "CODFreight": "0",
                                    "CODCheck": "0",
                                    "CODAmount": "0.000",
                                    "GroundType": "",
                                    "NotifyFlag": "0",
                                    "NotifyEMail": "",
                                    "DeclaredIns": "0",
                                    "DeclaredAmt": "0.000",
                                    "MFTransNum": "",
                                    "MFCallTag": "",
                                    "MFPickupNum": "",
                                    "MFDiscFreight": "0.000",
                                    "MFTemplate": "",
                                    "MFUse3B": "0",
                                    "MF3BAccount": "",
                                    "MFDimWeight": "0.00000",
                                    "MFZone": "",
                                    "MFFreightAmt": "0.000",
                                    "MFOtherAmt": "0.000",
                                    "MFOversized": "0",
                                    "ServSatDelivery": "0",
                                    "ServSatPickup": "0",
                                    "ServSignature": "0",
                                    "ServAlert": "0",
                                    "ServPOD": "0",
                                    "ServAOD": "0",
                                    "ServHomeDel": "0",
                                    "DeliveryType": "",
                                    "ServDeliveryDate": "NULL",
                                    "ServPhone": "",
                                    "ServInstruct": "",
                                    "ServRelease": "0",
                                    "ServAuthNum": "",
                                    "ServRef1": "",
                                    "ServRef2": "",
                                    "ServRef3": "",
                                    "ServRef4": "",
                                    "ServRef5": "",
                                    "BOLNum": "0",
                                    "BOLLine": "0",
                                    "CommercialInvoice": "0",
                                    "ShipExprtDeclartn": "0",
                                    "CertOfOrigin": "0",
                                    "LetterOfInstr": "0",
                                    "HazardousShipment": "0",
                                    "IntrntlShip": "0",
                                    "PayFlag": "",
                                    "PayAccount": "",
                                    "PayBTAddress1": "",
                                    "PayBTAddress2": "",
                                    "PayBTCity": "",
                                    "PayBTState": "",
                                    "PayBTZip": "",
                                    "PayBTCountry": "",
                                    "FFAddress1": "",
                                    "FFAddress2": "",
                                    "FFCity": "",
                                    "FFState": "",
                                    "FFZip": "",
                                    "FFCountry": "",
                                    "FFContact": "",
                                    "FFCompName": "",
                                    "FFPhoneNum": "",
                                    "ChangedBy": "jcarpenter",
                                    "ChangeDate": "2023-10-17",
                                    "ChangeTime": "52893",
                                    "FFID": "",
                                    "IndividualPackIDs": "0",
                                    "FFAddress3": "",
                                    "DeliveryConf": "1",
                                    "AddlHdlgFlag": "0",
                                    "NonStdPkg": "0",
                                    "FFCountryNum": "0",
                                    "PayBTAddress3": "",
                                    "PayBTCountryNum": "0",
                                    "PayBTPhone": "",
                                    "WayBillNbr": "",
                                    "FreightedShipViaCode": "",
                                    "UPSQuantumView": "0",
                                    "UPSQVShipFromName": "",
                                    "UPSQVMemo": "",
                                    "PkgLength": "0.00000",
                                    "PkgWidth": "0.00000",
                                    "PkgHeight": "0.00000",
                                    "EDIReady": "0",
                                    "PhantomPack": "0",
                                    "ReplicatedFrom": "0",
                                    "ReplicatedStat": "",
                                    "PkgSizeUOM": "FT",
                                    "WeightUOM": "LB",
                                    "UseOTS": "0",
                                    "TranDocTypeID": "",
                                    "DocumentPrinted": "1",
                                    "OTSOrderNum": "4001062",
                                    "TaxCalculated": "0",
                                    "TaxCalcDate": "NULL",
                                    "CurrencyCode": "USD",
                                    "Rounding": "0.00000",
                                    "Rpt1Rounding": "0.00000",
                                    "Rpt2Rounding": "0.00000",
                                    "Rpt3Rounding": "0.00000",
                                    "DocRounding": "0.00000",
                                    "Rpt1TotalTax": "0.000",
                                    "Rpt2TotalTax": "0.000",
                                    "Rpt3TotalTax": "0.000",
                                    "OrderAmt": "0.000",
                                    "DocOrderAmt": "0.000",
                                    "Rpt1OrderAmt": "0.000",
                                    "Rpt2OrderAmt": "0.000",
                                    "Rpt3OrderAmt": "0.000",
                                    "TaxRegionCode": "",
                                    "TotalWHTax": "0.000",
                                    "DocTotalWHTax": "0.000",
                                    "Rpt1TotalWHTax": "0.000",
                                    "Rpt2TotalWHTax": "0.000",
                                    "Rpt3TotalWHTax": "0.000",
                                    "TotalSATax": "0.000",
                                    "DocTotalSATax": "0.000",
                                    "Rpt1TotalSATax": "0.000",
                                    "Rpt2TotalSATax": "0.000",
                                    "Rpt3TotalSATax": "0.000",
                                    "TotalTax": "0.000",
                                    "DocTotalTax": "0.000",
                                    "TotalDiscount": "0.000",
                                    "Rpt1TotalDiscount": "0.000",
                                    "Rpt2TotalDiscount": "0.000",
                                    "Rpt3TotalDiscount": "0.000",
                                    "DocTotalDiscount": "0.000",
                                    "ShipToCustNum": "1726",
                                    "DeviceUOM": "",
                                    "ManifestSizeUOM": "",
                                    "ManifestWtUOM": "",
                                    "ManifestWeight": "0.00000",
                                    "ManifestLength": "0.00000",
                                    "ManifestWidth": "0.00000",
                                    "ManifestHeight": "0.00000",
                                    "RateGrpCode": "MAIN",
                                    "InPrice": "0",
                                    "PBHoldNoInv": "0",
                                    "Obs10_PkgNum": "0",
                                    "ReconcileQty": "0.00000",
                                    "ScheduleNumber": "Schedule Number",
                                    "CounterASN": "0",
                                    "OurBank": "",
                                    "ERSOrder": "0",
                                    "AutoPrintReady": "0",
                                    "ShipOvers": "0",
                                    "WIPackSlipCreated": "0",
                                    "SysRevID": "0x00000004A6A8499D",
                                    "SysRowID": "b1c02421-379e-40d7-aa2d-2a8d96071f41",
                                    "AGAuthorizationCode": "",
                                    "AGAuthorizationDate": "NULL",
                                    "AGCarrierCUIT": "",
                                    "AGCOTMark": "0",
                                    "AGDocumentLetter": "",
                                    "AGInvoicingPoint": "",
                                    "AGLegalNumber": "",
                                    "AGPrintingControlType": "",
                                    "AGTrackLicense": "",
                                    "DispatchReason": "",
                                    "AGShippingWay": "",
                                    "OurSupplierCode": "",
                                    "ASNPrintedDate": "NULL",
                                    "EDIShipToNum": "",
                                    "MXIncoterm": "",
                                    "CreatedOn": "2023-10-17 14:14:17.343",
                                    "DigitalSignature": "",
                                    "SignedOn": "NULL",
                                    "SignedBy": "",
                                    "FirstPrintDate": "NULL",
                                    "DocCopyNum": "0",
                                    "CNDeclarationBill": "",
                                    "CNSample": "0",
                                    "CNBonded": "0",
                                    "MXCertifiedTimestamp": "NULL",
                                    "MXCertificateSN": "",
                                    "MXCertificate": "",
                                    "MXFiscalFolio": "",
                                    "MXSATCertificateSN": "",
                                    "MXDigitalSeal": "",
                                    "MXSATSeal": "",
                                    "MXOriginalString": "",
                                    "MXOriginalStringTFD": "",
                                    "MXSerie": "",
                                    "MXFolio": "",
                                    "MXETD": "NULL",
                                    "MXETA": "NULL",
                                    "MXDistance": "0.00",
                                    "MXPermitType": "",
                                    "MXPermitNum": "",
                                    "MXCartaPorteStatus": "0",
                                    "VehicleLicensePlate": "",
                                    "VehicleType": "",
                                    "VehicleYear": "0",
                                    "DriverID": "",
                                    "MXCancelFiscalFolio": ""
                                }
                            ]
                        },
                        "text/html": "<table><tr><th>Company</th><th>PackNum</th><th>ShipDate</th><th>ShipViaCode</th><th>ShipPerson</th><th>EntryPerson</th><th>ShipLog</th><th>LabelComment</th><th>ShipComment</th><th>Invoiced</th><th>ShipToNum</th><th>ReadyToInvoice</th><th>CustNum</th><th>Plant</th><th>TrackingNumber</th><th>LegalNumber</th><th>Voided</th><th>ExternalDeliveryNote</th><th>ExternalID</th><th>ICReceived</th><th>XRefPackNum</th><th>BTCustNum</th><th>BTConNum</th><th>ShipStatus</th><th>ShipGroup</th><th>PkgCode</th><th>PkgClass</th><th>Weight</th><th>ResDelivery</th><th>SatDelivery</th><th>SatPickup</th><th>VerbalConf</th><th>Hazmat</th><th>DocOnly</th><th>RefNotes</th><th>ApplyChrg</th><th>ChrgAmount</th><th>COD</th><th>CODFreight</th><th>CODCheck</th><th>CODAmount</th><th>GroundType</th><th>NotifyFlag</th><th>NotifyEMail</th><th>DeclaredIns</th><th>DeclaredAmt</th><th>MFTransNum</th><th>MFCallTag</th><th>MFPickupNum</th><th>MFDiscFreight</th><th>MFTemplate</th><th>MFUse3B</th><th>MF3BAccount</th><th>MFDimWeight</th><th>MFZone</th><th>MFFreightAmt</th><th>MFOtherAmt</th><th>MFOversized</th><th>ServSatDelivery</th><th>ServSatPickup</th><th>ServSignature</th><th>ServAlert</th><th>ServPOD</th><th>ServAOD</th><th>ServHomeDel</th><th>DeliveryType</th><th>ServDeliveryDate</th><th>ServPhone</th><th>ServInstruct</th><th>ServRelease</th><th>ServAuthNum</th><th>ServRef1</th><th>ServRef2</th><th>ServRef3</th><th>ServRef4</th><th>ServRef5</th><th>BOLNum</th><th>BOLLine</th><th>CommercialInvoice</th><th>ShipExprtDeclartn</th><th>CertOfOrigin</th><th>LetterOfInstr</th><th>HazardousShipment</th><th>IntrntlShip</th><th>PayFlag</th><th>PayAccount</th><th>PayBTAddress1</th><th>PayBTAddress2</th><th>PayBTCity</th><th>PayBTState</th><th>PayBTZip</th><th>PayBTCountry</th><th>FFAddress1</th><th>FFAddress2</th><th>FFCity</th><th>FFState</th><th>FFZip</th><th>FFCountry</th><th>FFContact</th><th>FFCompName</th><th>FFPhoneNum</th><th>ChangedBy</th><th>ChangeDate</th><th>ChangeTime</th><th>FFID</th><th>IndividualPackIDs</th><th>FFAddress3</th><th>DeliveryConf</th><th>AddlHdlgFlag</th><th>NonStdPkg</th><th>FFCountryNum</th><th>PayBTAddress3</th><th>PayBTCountryNum</th><th>PayBTPhone</th><th>WayBillNbr</th><th>FreightedShipViaCode</th><th>UPSQuantumView</th><th>UPSQVShipFromName</th><th>UPSQVMemo</th><th>PkgLength</th><th>PkgWidth</th><th>PkgHeight</th><th>EDIReady</th><th>PhantomPack</th><th>ReplicatedFrom</th><th>ReplicatedStat</th><th>PkgSizeUOM</th><th>WeightUOM</th><th>UseOTS</th><th>TranDocTypeID</th><th>DocumentPrinted</th><th>OTSOrderNum</th><th>TaxCalculated</th><th>TaxCalcDate</th><th>CurrencyCode</th><th>Rounding</th><th>Rpt1Rounding</th><th>Rpt2Rounding</th><th>Rpt3Rounding</th><th>DocRounding</th><th>Rpt1TotalTax</th><th>Rpt2TotalTax</th><th>Rpt3TotalTax</th><th>OrderAmt</th><th>DocOrderAmt</th><th>Rpt1OrderAmt</th><th>Rpt2OrderAmt</th><th>Rpt3OrderAmt</th><th>TaxRegionCode</th><th>TotalWHTax</th><th>DocTotalWHTax</th><th>Rpt1TotalWHTax</th><th>Rpt2TotalWHTax</th><th>Rpt3TotalWHTax</th><th>TotalSATax</th><th>DocTotalSATax</th><th>Rpt1TotalSATax</th><th>Rpt2TotalSATax</th><th>Rpt3TotalSATax</th><th>TotalTax</th><th>DocTotalTax</th><th>TotalDiscount</th><th>Rpt1TotalDiscount</th><th>Rpt2TotalDiscount</th><th>Rpt3TotalDiscount</th><th>DocTotalDiscount</th><th>ShipToCustNum</th><th>DeviceUOM</th><th>ManifestSizeUOM</th><th>ManifestWtUOM</th><th>ManifestWeight</th><th>ManifestLength</th><th>ManifestWidth</th><th>ManifestHeight</th><th>RateGrpCode</th><th>InPrice</th><th>PBHoldNoInv</th><th>Obs10_PkgNum</th><th>ReconcileQty</th><th>ScheduleNumber</th><th>CounterASN</th><th>OurBank</th><th>ERSOrder</th><th>AutoPrintReady</th><th>ShipOvers</th><th>WIPackSlipCreated</th><th>SysRevID</th><th>SysRowID</th><th>AGAuthorizationCode</th><th>AGAuthorizationDate</th><th>AGCarrierCUIT</th><th>AGCOTMark</th><th>AGDocumentLetter</th><th>AGInvoicingPoint</th><th>AGLegalNumber</th><th>AGPrintingControlType</th><th>AGTrackLicense</th><th>DispatchReason</th><th>AGShippingWay</th><th>OurSupplierCode</th><th>ASNPrintedDate</th><th>EDIShipToNum</th><th>MXIncoterm</th><th>CreatedOn</th><th>DigitalSignature</th><th>SignedOn</th><th>SignedBy</th><th>FirstPrintDate</th><th>DocCopyNum</th><th>CNDeclarationBill</th><th>CNSample</th><th>CNBonded</th><th>MXCertifiedTimestamp</th><th>MXCertificateSN</th><th>MXCertificate</th><th>MXFiscalFolio</th><th>MXSATCertificateSN</th><th>MXDigitalSeal</th><th>MXSATSeal</th><th>MXOriginalString</th><th>MXOriginalStringTFD</th><th>MXSerie</th><th>MXFolio</th><th>MXETD</th><th>MXETA</th><th>MXDistance</th><th>MXPermitType</th><th>MXPermitNum</th><th>MXCartaPorteStatus</th><th>VehicleLicensePlate</th><th>VehicleType</th><th>VehicleYear</th><th>DriverID</th><th>MXCancelFiscalFolio</th></tr><tr><td>SOLAR</td><td>217179</td><td>2023-10-20</td><td>BW</td><td>jcarpenter</td><td>jcarpenter</td><td></td><td></td><td></td><td>0</td><td>5</td><td>1</td><td>1475</td><td>GRRP</td><td>BLUEGRACE BG688239223</td><td>217179</td><td>0</td><td>0</td><td></td><td>0</td><td></td><td>1475</td><td>0</td><td>SHIPPED</td><td></td><td></td><td></td><td>0.00000</td><td>0</td><td>0</td><td>0</td><td>0</td><td>0</td><td>0</td><td></td><td>0</td><td>0.000</td><td>0</td><td>0</td><td>0</td><td>0.000</td><td></td><td>0</td><td></td><td>0</td><td>0.000</td><td></td><td></td><td></td><td>0.000</td><td></td><td>0</td><td></td><td>0.00000</td><td></td><td>0.000</td><td>0.000</td><td>0</td><td>0</td><td>0</td><td>0</td><td>0</td><td>0</td><td>0</td><td>0</td><td></td><td>NULL</td><td></td><td></td><td>0</td><td></td><td></td><td></td><td></td><td></td><td></td><td>0</td><td>0</td><td>0</td><td>0</td><td>0</td><td>0</td><td>0</td><td>0</td><td></td><td></td><td></td><td></td><td></td><td></td><td></td><td></td><td></td><td></td><td></td><td></td><td></td><td></td><td></td><td></td><td></td><td>jcarpenter</td><td>2023-10-19</td><td>66004</td><td></td><td>0</td><td></td><td>1</td><td>0</td><td>0</td><td>0</td><td></td><td>0</td><td></td><td></td><td></td><td>0</td><td></td><td></td><td>0.00000</td><td>0.00000</td><td>0.00000</td><td>0</td><td>0</td><td>0</td><td></td><td>FT</td><td>LB</td><td>0</td><td></td><td>1</td><td>4001096</td><td>0</td><td>NULL</td><td>USD</td><td>0.00000</td><td>0.00000</td><td>0.00000</td><td>0.00000</td><td>0.00000</td><td>0.000</td><td>0.000</td><td>0.000</td><td>0.000</td><td>0.000</td><td>0.000</td><td>0.000</td><td>0.000</td><td></td><td>0.000</td><td>0.000</td><td>0.000</td><td>0.000</td><td>0.000</td><td>0.000</td><td>0.000</td><td>0.000</td><td>0.000</td><td>0.000</td><td>0.000</td><td>0.000</td><td>0.000</td><td>0.000</td><td>0.000</td><td>0.000</td><td>0.000</td><td>1475</td><td></td><td></td><td></td><td>0.00000</td><td>0.00000</td><td>0.00000</td><td>0.00000</td><td>MAIN</td><td>0</td><td>0</td><td>0</td><td>0.00000</td><td>Schedule Number</td><td>0</td><td></td><td>0</td><td>0</td><td>0</td><td>0</td><td>0x00000004AA5EC53C</td><td>ca18bf93-6f82-4fb7-ba4a-eaf86a78b977</td><td></td><td>NULL</td><td></td><td>0</td><td></td><td></td><td></td><td></td><td></td><td></td><td></td><td></td><td>NULL</td><td></td><td></td><td>2023-10-19 18:03:16.843</td><td></td><td>NULL</td><td></td><td>NULL</td><td>0</td><td></td><td>0</td><td>0</td><td>NULL</td><td></td><td></td><td></td><td></td><td></td><td></td><td></td><td></td><td></td><td></td><td>NULL</td><td>NULL</td><td>0.00</td><td></td><td></td><td>0</td><td></td><td></td><td>0</td><td></td><td></td></tr><tr><td>SOLAR</td><td>217178</td><td>2023-10-19</td><td>BW</td><td>jcarpenter</td><td>jcarpenter</td><td></td><td></td><td></td><td>0</td><td>OTS00000/00000</td><td>1</td><td>1721</td><td>GRRP</td><td>FEDEX P FREIGHT BG688411123</td><td>217178</td><td>0</td><td>0</td><td></td><td>0</td><td></td><td>1721</td><td>0</td><td>SHIPPED</td><td></td><td></td><td></td><td>0.00000</td><td>0</td><td>0</td><td>0</td><td>0</td><td>0</td><td>0</td><td></td><td>0</td><td>0.000</td><td>0</td><td>0</td><td>0</td><td>0.000</td><td></td><td>0</td><td></td><td>0</td><td>0.000</td><td></td><td></td><td></td><td>0.000</td><td></td><td>0</td><td></td><td>0.00000</td><td></td><td>0.000</td><td>0.000</td><td>0</td><td>0</td><td>0</td><td>0</td><td>0</td><td>0</td><td>0</td><td>0</td><td></td><td>NULL</td><td></td><td></td><td>0</td><td></td><td></td><td></td><td></td><td></td><td></td><td>0</td><td>0</td><td>0</td><td>0</td><td>0</td><td>0</td><td>0</td><td>0</td><td></td><td></td><td></td><td></td><td></td><td></td><td></td><td></td><td></td><td></td><td></td><td></td><td></td><td></td><td></td><td></td><td></td><td>jcarpenter</td><td>2023-10-19</td><td>60956</td><td></td><td>0</td><td></td><td>1</td><td>0</td><td>0</td><td>0</td><td></td><td>0</td><td></td><td></td><td></td><td>0</td><td></td><td></td><td>0.00000</td><td>0.00000</td><td>0.00000</td><td>0</td><td>0</td><td>0</td><td></td><td>FT</td><td>LB</td><td>1</td><td></td><td>1</td><td>4001100</td><td>0</td><td>NULL</td><td>USD</td><td>0.00000</td><td>0.00000</td><td>0.00000</td><td>0.00000</td><td>0.00000</td><td>0.000</td><td>0.000</td><td>0.000</td><td>0.000</td><td>0.000</td><td>0.000</td><td>0.000</td><td>0.000</td><td></td><td>0.000</td><td>0.000</td><td>0.000</td><td>0.000</td><td>0.000</td><td>0.000</td><td>0.000</td><td>0.000</td><td>0.000</td><td>0.000</td><td>0.000</td><td>0.000</td><td>0.000</td><td>0.000</td><td>0.000</td><td>0.000</td><td>0.000</td><td>1721</td><td></td><td></td><td></td><td>0.00000</td><td>0.00000</td><td>0.00000</td><td>0.00000</td><td>MAIN</td><td>0</td><td>0</td><td>0</td><td>0.00000</td><td>Schedule Number</td><td>0</td><td></td><td>0</td><td>0</td><td>0</td><td>0</td><td>0x00000004AA1C342E</td><td>0aa40a4f-a7ca-4864-870d-cd8fdf31cb7c</td><td></td><td>NULL</td><td></td><td>0</td><td></td><td></td><td></td><td></td><td></td><td></td><td></td><td></td><td>NULL</td><td></td><td></td><td>2023-10-19 16:45:51.160</td><td></td><td>NULL</td><td></td><td>NULL</td><td>0</td><td></td><td>0</td><td>0</td><td>NULL</td><td></td><td></td><td></td><td></td><td></td><td></td><td></td><td></td><td></td><td></td><td>NULL</td><td>NULL</td><td>0.00</td><td></td><td></td><td>0</td><td></td><td></td><td>0</td><td></td><td></td></tr><tr><td>SOLAR</td><td>217177</td><td>2023-10-19</td><td>BW</td><td>jcarpenter</td><td>jcarpenter</td><td></td><td></td><td></td><td>0</td><td>18</td><td>1</td><td>1721</td><td>GRRP</td><td>BLUEGRACE</td><td>217177</td><td>0</td><td>0</td><td></td><td>0</td><td></td><td>1721</td><td>0</td><td>SHIPPED</td><td></td><td></td><td></td><td>0.00000</td><td>0</td><td>0</td><td>0</td><td>0</td><td>0</td><td>0</td><td></td><td>0</td><td>0.000</td><td>0</td><td>0</td><td>0</td><td>0.000</td><td></td><td>0</td><td></td><td>0</td><td>0.000</td><td></td><td></td><td></td><td>0.000</td><td></td><td>0</td><td></td><td>0.00000</td><td></td><td>0.000</td><td>0.000</td><td>0</td><td>0</td><td>0</td><td>0</td><td>0</td><td>0</td><td>0</td><td>0</td><td></td><td>NULL</td><td></td><td></td><td>0</td><td></td><td></td><td></td><td></td><td></td><td></td><td>0</td><td>0</td><td>0</td><td>0</td><td>0</td><td>0</td><td>0</td><td>0</td><td></td><td></td><td></td><td></td><td></td><td></td><td></td><td></td><td></td><td></td><td></td><td></td><td></td><td></td><td></td><td></td><td></td><td>jcarpenter</td><td>2023-10-19</td><td>35856</td><td></td><td>0</td><td></td><td>1</td><td>0</td><td>0</td><td>0</td><td></td><td>0</td><td></td><td></td><td></td><td>0</td><td></td><td></td><td>0.00000</td><td>0.00000</td><td>0.00000</td><td>0</td><td>0</td><td>0</td><td></td><td>FT</td><td>LB</td><td>0</td><td></td><td>1</td><td>4001258</td><td>0</td><td>NULL</td><td>USD</td><td>0.00000</td><td>0.00000</td><td>0.00000</td><td>0.00000</td><td>0.00000</td><td>0.000</td><td>0.000</td><td>0.000</td><td>0.000</td><td>0.000</td><td>0.000</td><td>0.000</td><td>0.000</td><td></td><td>0.000</td><td>0.000</td><td>0.000</td><td>0.000</td><td>0.000</td><td>0.000</td><td>0.000</td><td>0.000</td><td>0.000</td><td>0.000</td><td>0.000</td><td>0.000</td><td>0.000</td><td>0.000</td><td>0.000</td><td>0.000</td><td>0.000</td><td>1721</td><td></td><td></td><td></td><td>0.00000</td><td>0.00000</td><td>0.00000</td><td>0.00000</td><td>MAIN</td><td>0</td><td>0</td><td>0</td><td>0.00000</td><td>Schedule Number</td><td>0</td><td></td><td>0</td><td>0</td><td>0</td><td>0</td><td>0x00000004A975E3DB</td><td>a8428427-742c-4266-baeb-948285dde9ce</td><td></td><td>NULL</td><td></td><td>0</td><td></td><td></td><td></td><td></td><td></td><td></td><td></td><td></td><td>NULL</td><td></td><td></td><td>2023-10-19 09:55:19.517</td><td></td><td>NULL</td><td></td><td>NULL</td><td>0</td><td></td><td>0</td><td>0</td><td>NULL</td><td></td><td></td><td></td><td></td><td></td><td></td><td></td><td></td><td></td><td></td><td>NULL</td><td>NULL</td><td>0.00</td><td></td><td></td><td>0</td><td></td><td></td><td>0</td><td></td><td></td></tr><tr><td>SOLAR</td><td>217176</td><td>2023-10-18</td><td>BW</td><td>jcarpenter</td><td>jcarpenter</td><td></td><td></td><td></td><td>0</td><td>OTS00000/00000</td><td>1</td><td>152</td><td>GRRP</td><td>FEDEX ECON BG687844923</td><td>217176</td><td>0</td><td>0</td><td></td><td>0</td><td></td><td>152</td><td>0</td><td>SHIPPED</td><td></td><td></td><td></td><td>0.00000</td><td>0</td><td>0</td><td>0</td><td>0</td><td>0</td><td>0</td><td></td><td>0</td><td>0.000</td><td>0</td><td>0</td><td>0</td><td>0.000</td><td></td><td>0</td><td></td><td>0</td><td>0.000</td><td></td><td></td><td></td><td>0.000</td><td></td><td>0</td><td></td><td>0.00000</td><td></td><td>0.000</td><td>0.000</td><td>0</td><td>0</td><td>0</td><td>0</td><td>0</td><td>0</td><td>0</td><td>0</td><td></td><td>NULL</td><td></td><td></td><td>0</td><td></td><td></td><td></td><td></td><td></td><td></td><td>0</td><td>0</td><td>0</td><td>0</td><td>0</td><td>0</td><td>0</td><td>0</td><td></td><td></td><td></td><td></td><td></td><td></td><td></td><td></td><td></td><td></td><td></td><td></td><td></td><td></td><td></td><td></td><td></td><td>jcarpenter</td><td>2023-10-18</td><td>60258</td><td></td><td>0</td><td></td><td>1</td><td>0</td><td>0</td><td>0</td><td></td><td>0</td><td></td><td></td><td></td><td>0</td><td></td><td></td><td>0.00000</td><td>0.00000</td><td>0.00000</td><td>0</td><td>0</td><td>0</td><td></td><td>FT</td><td>LB</td><td>1</td><td></td><td>1</td><td>4001010</td><td>0</td><td>NULL</td><td>USD</td><td>0.00000</td><td>0.00000</td><td>0.00000</td><td>0.00000</td><td>0.00000</td><td>0.000</td><td>0.000</td><td>0.000</td><td>0.000</td><td>0.000</td><td>0.000</td><td>0.000</td><td>0.000</td><td></td><td>0.000</td><td>0.000</td><td>0.000</td><td>0.000</td><td>0.000</td><td>0.000</td><td>0.000</td><td>0.000</td><td>0.000</td><td>0.000</td><td>0.000</td><td>0.000</td><td>0.000</td><td>0.000</td><td>0.000</td><td>0.000</td><td>0.000</td><td>152</td><td></td><td></td><td></td><td>0.00000</td><td>0.00000</td><td>0.00000</td><td>0.00000</td><td>MAIN</td><td>0</td><td>0</td><td>0</td><td>0.00000</td><td>Schedule Number</td><td>0</td><td></td><td>0</td><td>0</td><td>0</td><td>0</td><td>0x00000004A8690D73</td><td>20e34c79-efd1-4fd4-aa93-0249cd054f4c</td><td></td><td>NULL</td><td></td><td>0</td><td></td><td></td><td></td><td></td><td></td><td></td><td></td><td></td><td>NULL</td><td></td><td></td><td>2023-10-18 16:33:46.563</td><td></td><td>NULL</td><td></td><td>NULL</td><td>0</td><td></td><td>0</td><td>0</td><td>NULL</td><td></td><td></td><td></td><td></td><td></td><td></td><td></td><td></td><td></td><td></td><td>NULL</td><td>NULL</td><td>0.00</td><td></td><td></td><td>0</td><td></td><td></td><td>0</td><td></td><td></td></tr><tr><td>SOLAR</td><td>217175</td><td>2023-10-18</td><td>BW</td><td>jcarpenter</td><td>jcarpenter</td><td></td><td></td><td></td><td>0</td><td>47</td><td>1</td><td>1721</td><td>GRRP</td><td>BLUEGRACE BG687614223</td><td>217175</td><td>0</td><td>0</td><td></td><td>0</td><td></td><td>1721</td><td>0</td><td>SHIPPED</td><td></td><td></td><td></td><td>0.00000</td><td>0</td><td>0</td><td>0</td><td>0</td><td>0</td><td>0</td><td></td><td>0</td><td>0.000</td><td>0</td><td>0</td><td>0</td><td>0.000</td><td></td><td>0</td><td></td><td>0</td><td>0.000</td><td></td><td></td><td></td><td>0.000</td><td></td><td>0</td><td></td><td>0.00000</td><td></td><td>0.000</td><td>0.000</td><td>0</td><td>0</td><td>0</td><td>0</td><td>0</td><td>0</td><td>0</td><td>0</td><td></td><td>NULL</td><td></td><td></td><td>0</td><td></td><td></td><td></td><td></td><td></td><td></td><td>0</td><td>0</td><td>0</td><td>0</td><td>0</td><td>0</td><td>0</td><td>0</td><td></td><td></td><td></td><td></td><td></td><td></td><td></td><td></td><td></td><td></td><td></td><td></td><td></td><td></td><td></td><td></td><td></td><td>jcarpenter</td><td>2023-10-18</td><td>58222</td><td></td><td>0</td><td></td><td>1</td><td>0</td><td>0</td><td>0</td><td></td><td>0</td><td></td><td></td><td></td><td>0</td><td></td><td></td><td>0.00000</td><td>0.00000</td><td>0.00000</td><td>0</td><td>0</td><td>0</td><td></td><td>FT</td><td>LB</td><td>0</td><td></td><td>1</td><td>4001080</td><td>0</td><td>NULL</td><td>USD</td><td>0.00000</td><td>0.00000</td><td>0.00000</td><td>0.00000</td><td>0.00000</td><td>0.000</td><td>0.000</td><td>0.000</td><td>0.000</td><td>0.000</td><td>0.000</td><td>0.000</td><td>0.000</td><td></td><td>0.000</td><td>0.000</td><td>0.000</td><td>0.000</td><td>0.000</td><td>0.000</td><td>0.000</td><td>0.000</td><td>0.000</td><td>0.000</td><td>0.000</td><td>0.000</td><td>0.000</td><td>0.000</td><td>0.000</td><td>0.000</td><td>0.000</td><td>1721</td><td></td><td></td><td></td><td>0.00000</td><td>0.00000</td><td>0.00000</td><td>0.00000</td><td>MAIN</td><td>0</td><td>0</td><td>0</td><td>0.00000</td><td>Schedule Number</td><td>0</td><td></td><td>0</td><td>0</td><td>0</td><td>0</td><td>0x00000004A8532A09</td><td>ffae52a4-2952-4a37-9b7d-0288bfd6f775</td><td></td><td>NULL</td><td></td><td>0</td><td></td><td></td><td></td><td></td><td></td><td></td><td></td><td></td><td>NULL</td><td></td><td></td><td>2023-10-18 16:07:14.307</td><td></td><td>NULL</td><td></td><td>NULL</td><td>0</td><td></td><td>0</td><td>0</td><td>NULL</td><td></td><td></td><td></td><td></td><td></td><td></td><td></td><td></td><td></td><td></td><td>NULL</td><td>NULL</td><td>0.00</td><td></td><td></td><td>0</td><td></td><td></td><td>0</td><td></td><td></td></tr><tr><td>SOLAR</td><td>217173</td><td>2023-10-18</td><td>BW</td><td>jcarpenter</td><td>jcarpenter</td><td></td><td></td><td></td><td>0</td><td>14</td><td>1</td><td>1418</td><td>GRRP</td><td>FEDEX P FREIGHT BG687539923</td><td>217173</td><td>0</td><td>0</td><td></td><td>0</td><td></td><td>1418</td><td>0</td><td>SHIPPED</td><td></td><td></td><td></td><td>0.00000</td><td>0</td><td>0</td><td>0</td><td>0</td><td>0</td><td>0</td><td></td><td>0</td><td>0.000</td><td>0</td><td>0</td><td>0</td><td>0.000</td><td></td><td>0</td><td></td><td>0</td><td>0.000</td><td></td><td></td><td></td><td>0.000</td><td></td><td>0</td><td></td><td>0.00000</td><td></td><td>0.000</td><td>0.000</td><td>0</td><td>0</td><td>0</td><td>0</td><td>0</td><td>0</td><td>0</td><td>0</td><td></td><td>NULL</td><td></td><td></td><td>0</td><td></td><td></td><td></td><td></td><td></td><td></td><td>0</td><td>0</td><td>0</td><td>0</td><td>0</td><td>0</td><td>0</td><td>0</td><td></td><td></td><td></td><td></td><td></td><td></td><td></td><td></td><td></td><td></td><td></td><td></td><td></td><td></td><td></td><td></td><td></td><td>jcarpenter</td><td>2023-10-18</td><td>50768</td><td></td><td>0</td><td></td><td>1</td><td>0</td><td>0</td><td>0</td><td></td><td>0</td><td></td><td></td><td></td><td>0</td><td></td><td></td><td>0.00000</td><td>0.00000</td><td>0.00000</td><td>0</td><td>0</td><td>0</td><td></td><td>FT</td><td>LB</td><td>0</td><td></td><td>1</td><td>4001033</td><td>0</td><td>NULL</td><td>USD</td><td>0.00000</td><td>0.00000</td><td>0.00000</td><td>0.00000</td><td>0.00000</td><td>0.000</td><td>0.000</td><td>0.000</td><td>0.000</td><td>0.000</td><td>0.000</td><td>0.000</td><td>0.000</td><td></td><td>0.000</td><td>0.000</td><td>0.000</td><td>0.000</td><td>0.000</td><td>0.000</td><td>0.000</td><td>0.000</td><td>0.000</td><td>0.000</td><td>0.000</td><td>0.000</td><td>0.000</td><td>0.000</td><td>0.000</td><td>0.000</td><td>0.000</td><td>1418</td><td></td><td></td><td></td><td>0.00000</td><td>0.00000</td><td>0.00000</td><td>0.00000</td><td>MAIN</td><td>0</td><td>0</td><td>0</td><td>0.00000</td><td>Schedule Number</td><td>0</td><td></td><td>0</td><td>0</td><td>0</td><td>0</td><td>0x00000004A7DA7390</td><td>d348f115-d069-4c9c-8c31-4118685d712a</td><td></td><td>NULL</td><td></td><td>0</td><td></td><td></td><td></td><td></td><td></td><td></td><td></td><td></td><td>NULL</td><td></td><td></td><td>2023-10-18 14:04:47.780</td><td></td><td>NULL</td><td></td><td>NULL</td><td>0</td><td></td><td>0</td><td>0</td><td>NULL</td><td></td><td></td><td></td><td></td><td></td><td></td><td></td><td></td><td></td><td></td><td>NULL</td><td>NULL</td><td>0.00</td><td></td><td></td><td>0</td><td></td><td></td><td>0</td><td></td><td></td></tr><tr><td>SOLAR</td><td>217172</td><td>2023-10-18</td><td>BW</td><td>jcarpenter</td><td>jcarpenter</td><td></td><td></td><td></td><td>0</td><td>4</td><td>1</td><td>903</td><td>GRRP</td><td>FEDEX G 628230318913</td><td>217172</td><td>0</td><td>0</td><td></td><td>0</td><td></td><td>903</td><td>0</td><td>SHIPPED</td><td></td><td></td><td></td><td>0.00000</td><td>0</td><td>0</td><td>0</td><td>0</td><td>0</td><td>0</td><td></td><td>0</td><td>0.000</td><td>0</td><td>0</td><td>0</td><td>0.000</td><td></td><td>0</td><td></td><td>0</td><td>0.000</td><td></td><td></td><td></td><td>0.000</td><td></td><td>0</td><td></td><td>0.00000</td><td></td><td>0.000</td><td>0.000</td><td>0</td><td>0</td><td>0</td><td>0</td><td>0</td><td>0</td><td>0</td><td>0</td><td></td><td>NULL</td><td></td><td></td><td>0</td><td></td><td></td><td></td><td></td><td></td><td></td><td>0</td><td>0</td><td>0</td><td>0</td><td>0</td><td>0</td><td>0</td><td>0</td><td></td><td></td><td></td><td></td><td></td><td></td><td></td><td></td><td></td><td></td><td></td><td></td><td></td><td></td><td></td><td></td><td></td><td>jcarpenter</td><td>2023-10-18</td><td>43260</td><td></td><td>0</td><td></td><td>1</td><td>0</td><td>0</td><td>0</td><td></td><td>0</td><td></td><td></td><td></td><td>0</td><td></td><td></td><td>0.00000</td><td>0.00000</td><td>0.00000</td><td>0</td><td>0</td><td>0</td><td></td><td>FT</td><td>LB</td><td>0</td><td></td><td>1</td><td>4001125</td><td>0</td><td>NULL</td><td>USD</td><td>0.00000</td><td>0.00000</td><td>0.00000</td><td>0.00000</td><td>0.00000</td><td>0.000</td><td>0.000</td><td>0.000</td><td>0.000</td><td>0.000</td><td>0.000</td><td>0.000</td><td>0.000</td><td></td><td>0.000</td><td>0.000</td><td>0.000</td><td>0.000</td><td>0.000</td><td>0.000</td><td>0.000</td><td>0.000</td><td>0.000</td><td>0.000</td><td>0.000</td><td>0.000</td><td>0.000</td><td>0.000</td><td>0.000</td><td>0.000</td><td>0.000</td><td>903</td><td></td><td></td><td></td><td>0.00000</td><td>0.00000</td><td>0.00000</td><td>0.00000</td><td>MAIN</td><td>0</td><td>0</td><td>0</td><td>0.00000</td><td>Schedule Number</td><td>0</td><td></td><td>0</td><td>0</td><td>0</td><td>0</td><td>0x00000004A7A29E0C</td><td>70c0dbd3-216b-461e-91b7-e9f86fe6ac9d</td><td></td><td>NULL</td><td></td><td>0</td><td></td><td></td><td></td><td></td><td></td><td></td><td></td><td></td><td>NULL</td><td></td><td></td><td>2023-10-18 11:53:12.857</td><td></td><td>NULL</td><td></td><td>NULL</td><td>0</td><td></td><td>0</td><td>0</td><td>NULL</td><td></td><td></td><td></td><td></td><td></td><td></td><td></td><td></td><td></td><td></td><td>NULL</td><td>NULL</td><td>0.00</td><td></td><td></td><td>0</td><td></td><td></td><td>0</td><td></td><td></td></tr><tr><td>SOLAR</td><td>217169</td><td>2023-10-18</td><td>BW</td><td>jcarpenter</td><td>jcarpenter</td><td></td><td></td><td></td><td>0</td><td>39</td><td>1</td><td>1704</td><td>GRRP</td><td>FEDEX P FREIGHT BG687538423</td><td>217169</td><td>0</td><td>0</td><td></td><td>0</td><td></td><td>1704</td><td>0</td><td>SHIPPED</td><td></td><td></td><td></td><td>0.00000</td><td>0</td><td>0</td><td>0</td><td>0</td><td>0</td><td>0</td><td></td><td>0</td><td>0.000</td><td>0</td><td>0</td><td>0</td><td>0.000</td><td></td><td>0</td><td></td><td>0</td><td>0.000</td><td></td><td></td><td></td><td>0.000</td><td></td><td>0</td><td></td><td>0.00000</td><td></td><td>0.000</td><td>0.000</td><td>0</td><td>0</td><td>0</td><td>0</td><td>0</td><td>0</td><td>0</td><td>0</td><td></td><td>NULL</td><td></td><td></td><td>0</td><td></td><td></td><td></td><td></td><td></td><td></td><td>0</td><td>0</td><td>0</td><td>0</td><td>0</td><td>0</td><td>0</td><td>0</td><td></td><td></td><td></td><td></td><td></td><td></td><td></td><td></td><td></td><td></td><td></td><td></td><td></td><td></td><td></td><td></td><td></td><td>jcarpenter</td><td>2023-10-18</td><td>38601</td><td></td><td>0</td><td></td><td>1</td><td>0</td><td>0</td><td>0</td><td></td><td>0</td><td></td><td></td><td></td><td>0</td><td></td><td></td><td>0.00000</td><td>0.00000</td><td>0.00000</td><td>0</td><td>0</td><td>0</td><td></td><td>FT</td><td>LB</td><td>0</td><td></td><td>1</td><td>4001199</td><td>0</td><td>NULL</td><td>USD</td><td>0.00000</td><td>0.00000</td><td>0.00000</td><td>0.00000</td><td>0.00000</td><td>0.000</td><td>0.000</td><td>0.000</td><td>0.000</td><td>0.000</td><td>0.000</td><td>0.000</td><td>0.000</td><td></td><td>0.000</td><td>0.000</td><td>0.000</td><td>0.000</td><td>0.000</td><td>0.000</td><td>0.000</td><td>0.000</td><td>0.000</td><td>0.000</td><td>0.000</td><td>0.000</td><td>0.000</td><td>0.000</td><td>0.000</td><td>0.000</td><td>0.000</td><td>1704</td><td></td><td></td><td></td><td>0.00000</td><td>0.00000</td><td>0.00000</td><td>0.00000</td><td>MAIN</td><td>0</td><td>0</td><td>0</td><td>0.00000</td><td>Schedule Number</td><td>0</td><td></td><td>0</td><td>0</td><td>0</td><td>0</td><td>0x00000004A7A22A28</td><td>270723f6-5c8f-4116-9da5-22eb87aa717e</td><td></td><td>NULL</td><td></td><td>0</td><td></td><td></td><td></td><td></td><td></td><td></td><td></td><td></td><td>NULL</td><td></td><td></td><td>2023-10-18 10:38:34.713</td><td></td><td>NULL</td><td></td><td>NULL</td><td>0</td><td></td><td>0</td><td>0</td><td>NULL</td><td></td><td></td><td></td><td></td><td></td><td></td><td></td><td></td><td></td><td></td><td>NULL</td><td>NULL</td><td>0.00</td><td></td><td></td><td>0</td><td></td><td></td><td>0</td><td></td><td></td></tr><tr><td>SOLAR</td><td>217167</td><td>2023-10-17</td><td>BW</td><td>jcarpenter</td><td>jcarpenter</td><td></td><td></td><td></td><td>0</td><td>OTS00000/00000</td><td>1</td><td>1015</td><td>GRRP</td><td>FEDEX NDA FREIGHT 628230318902</td><td>217167</td><td>0</td><td>0</td><td></td><td>0</td><td></td><td>1015</td><td>0</td><td>SHIPPED</td><td></td><td></td><td></td><td>0.00000</td><td>0</td><td>0</td><td>0</td><td>0</td><td>0</td><td>0</td><td></td><td>0</td><td>0.000</td><td>0</td><td>0</td><td>0</td><td>0.000</td><td></td><td>0</td><td></td><td>0</td><td>0.000</td><td></td><td></td><td></td><td>0.000</td><td></td><td>0</td><td></td><td>0.00000</td><td></td><td>0.000</td><td>0.000</td><td>0</td><td>0</td><td>0</td><td>0</td><td>0</td><td>0</td><td>0</td><td>0</td><td></td><td>NULL</td><td></td><td></td><td>0</td><td></td><td></td><td></td><td></td><td></td><td></td><td>0</td><td>0</td><td>0</td><td>0</td><td>0</td><td>0</td><td>0</td><td>0</td><td></td><td></td><td></td><td></td><td></td><td></td><td></td><td></td><td></td><td></td><td></td><td></td><td></td><td></td><td></td><td></td><td></td><td>jcarpenter</td><td>2023-10-17</td><td>68350</td><td></td><td>0</td><td></td><td>1</td><td>0</td><td>0</td><td>0</td><td></td><td>0</td><td></td><td></td><td></td><td>0</td><td></td><td></td><td>0.00000</td><td>0.00000</td><td>0.00000</td><td>0</td><td>0</td><td>0</td><td></td><td>FT</td><td>LB</td><td>1</td><td></td><td>1</td><td>4001339</td><td>0</td><td>NULL</td><td>USD</td><td>0.00000</td><td>0.00000</td><td>0.00000</td><td>0.00000</td><td>0.00000</td><td>0.000</td><td>0.000</td><td>0.000</td><td>0.000</td><td>0.000</td><td>0.000</td><td>0.000</td><td>0.000</td><td></td><td>0.000</td><td>0.000</td><td>0.000</td><td>0.000</td><td>0.000</td><td>0.000</td><td>0.000</td><td>0.000</td><td>0.000</td><td>0.000</td><td>0.000</td><td>0.000</td><td>0.000</td><td>0.000</td><td>0.000</td><td>0.000</td><td>0.000</td><td>1015</td><td></td><td></td><td></td><td>0.00000</td><td>0.00000</td><td>0.00000</td><td>0.00000</td><td>MAIN</td><td>0</td><td>0</td><td>0</td><td>0.00000</td><td>Schedule Number</td><td>0</td><td></td><td>0</td><td>0</td><td>0</td><td>0</td><td>0x00000004A743B463</td><td>c221cb89-a4bd-4094-ad9f-15db64e54013</td><td></td><td>NULL</td><td></td><td>0</td><td></td><td></td><td></td><td></td><td></td><td></td><td></td><td></td><td>NULL</td><td></td><td></td><td>2023-10-17 18:54:46.707</td><td></td><td>NULL</td><td></td><td>NULL</td><td>0</td><td></td><td>0</td><td>0</td><td>NULL</td><td></td><td></td><td></td><td></td><td></td><td></td><td></td><td></td><td></td><td></td><td>NULL</td><td>NULL</td><td>0.00</td><td></td><td></td><td>0</td><td></td><td></td><td>0</td><td></td><td></td></tr><tr><td>SOLAR</td><td>217165</td><td>2023-10-17</td><td>BW</td><td>jcarpenter</td><td>jcarpenter</td><td></td><td></td><td></td><td>0</td><td></td><td>1</td><td>1726</td><td>GRRP</td><td>FEDEX P FREIGHT BG687132423</td><td>217165</td><td>0</td><td>0</td><td></td><td>0</td><td></td><td>1726</td><td>0</td><td>SHIPPED</td><td></td><td></td><td></td><td>0.00000</td><td>0</td><td>0</td><td>0</td><td>0</td><td>0</td><td>0</td><td></td><td>0</td><td>0.000</td><td>0</td><td>0</td><td>0</td><td>0.000</td><td></td><td>0</td><td></td><td>0</td><td>0.000</td><td></td><td></td><td></td><td>0.000</td><td></td><td>0</td><td></td><td>0.00000</td><td></td><td>0.000</td><td>0.000</td><td>0</td><td>0</td><td>0</td><td>0</td><td>0</td><td>0</td><td>0</td><td>0</td><td></td><td>NULL</td><td></td><td></td><td>0</td><td></td><td></td><td></td><td></td><td></td><td></td><td>0</td><td>0</td><td>0</td><td>0</td><td>0</td><td>0</td><td>0</td><td>0</td><td></td><td></td><td></td><td></td><td></td><td></td><td></td><td></td><td></td><td></td><td></td><td></td><td></td><td></td><td></td><td></td><td></td><td>jcarpenter</td><td>2023-10-17</td><td>52893</td><td></td><td>0</td><td></td><td>1</td><td>0</td><td>0</td><td>0</td><td></td><td>0</td><td></td><td></td><td></td><td>0</td><td></td><td></td><td>0.00000</td><td>0.00000</td><td>0.00000</td><td>0</td><td>0</td><td>0</td><td></td><td>FT</td><td>LB</td><td>0</td><td></td><td>1</td><td>4001062</td><td>0</td><td>NULL</td><td>USD</td><td>0.00000</td><td>0.00000</td><td>0.00000</td><td>0.00000</td><td>0.00000</td><td>0.000</td><td>0.000</td><td>0.000</td><td>0.000</td><td>0.000</td><td>0.000</td><td>0.000</td><td>0.000</td><td></td><td>0.000</td><td>0.000</td><td>0.000</td><td>0.000</td><td>0.000</td><td>0.000</td><td>0.000</td><td>0.000</td><td>0.000</td><td>0.000</td><td>0.000</td><td>0.000</td><td>0.000</td><td>0.000</td><td>0.000</td><td>0.000</td><td>0.000</td><td>1726</td><td></td><td></td><td></td><td>0.00000</td><td>0.00000</td><td>0.00000</td><td>0.00000</td><td>MAIN</td><td>0</td><td>0</td><td>0</td><td>0.00000</td><td>Schedule Number</td><td>0</td><td></td><td>0</td><td>0</td><td>0</td><td>0</td><td>0x00000004A6A8499D</td><td>b1c02421-379e-40d7-aa2d-2a8d96071f41</td><td></td><td>NULL</td><td></td><td>0</td><td></td><td></td><td></td><td></td><td></td><td></td><td></td><td></td><td>NULL</td><td></td><td></td><td>2023-10-17 14:14:17.343</td><td></td><td>NULL</td><td></td><td>NULL</td><td>0</td><td></td><td>0</td><td>0</td><td>NULL</td><td></td><td></td><td></td><td></td><td></td><td></td><td></td><td></td><td></td><td></td><td>NULL</td><td>NULL</td><td>0.00</td><td></td><td></td><td>0</td><td></td><td></td><td>0</td><td></td><td></td></tr></table>"
                    },
                    "metadata": {}
                }
            ],
            "execution_count": 16
        }
    ]
}