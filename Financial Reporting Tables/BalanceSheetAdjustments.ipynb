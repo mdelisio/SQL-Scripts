{
    "metadata": {
        "kernelspec": {
            "name": "SQL",
            "display_name": "SQL",
            "language": "sql"
        },
        "language_info": {
            "name": "sql",
            "version": ""
        }
    },
    "nbformat_minor": 2,
    "nbformat": 4,
    "cells": [
        {
            "cell_type": "code",
            "source": [
                "DROP TABLE IF EXISTS dw.GLBalance_SolarWorkingCapitalLegacyAdjustments"
            ],
            "metadata": {
                "azdata_cell_guid": "1f4eb146-d571-4849-9f5f-0182c489b2d6",
                "language": "sql"
            },
            "outputs": [
                {
                    "output_type": "display_data",
                    "data": {
                        "text/html": "Commands completed successfully."
                    },
                    "metadata": {}
                },
                {
                    "output_type": "display_data",
                    "data": {
                        "text/html": "Total execution time: 00:00:00.158"
                    },
                    "metadata": {}
                }
            ],
            "execution_count": 1
        },
        {
            "cell_type": "markdown",
            "source": [
                "Using Azure Data Studio import wizard extension (Ctrl + I) load saved CSV file in a new table stg.ProjectGrossMarginAccrualAdjustmentStaging"
            ],
            "metadata": {
                "azdata_cell_guid": "d9443e3c-f8d9-42c5-afe1-bc893e230702"
            },
            "attachments": {}
        }
    ]
}